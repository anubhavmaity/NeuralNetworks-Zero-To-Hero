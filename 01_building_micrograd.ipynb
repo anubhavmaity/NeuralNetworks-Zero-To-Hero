{
  "nbformat": 4,
  "nbformat_minor": 0,
  "metadata": {
    "colab": {
      "provenance": []
    },
    "kernelspec": {
      "name": "python3",
      "display_name": "Python 3"
    },
    "language_info": {
      "name": "python"
    }
  },
  "cells": [
    {
      "cell_type": "markdown",
      "source": [
        "Mircrograd from scratch\n",
        " - These notebooks/docs are created when going through the lessons of zero to hero taught by andrej karpathy"
      ],
      "metadata": {
        "id": "N9laEOCz4OyC"
      }
    },
    {
      "cell_type": "code",
      "source": [
        "!pip install rich"
      ],
      "metadata": {
        "colab": {
          "base_uri": "https://localhost:8080/"
        },
        "id": "x4VMX54QHZbl",
        "outputId": "95322e90-85f1-4693-e34a-4f97a39f80de"
      },
      "execution_count": 1,
      "outputs": [
        {
          "output_type": "stream",
          "name": "stdout",
          "text": [
            "Looking in indexes: https://pypi.org/simple, https://us-python.pkg.dev/colab-wheels/public/simple/\n",
            "Collecting rich\n",
            "  Downloading rich-12.6.0-py3-none-any.whl (237 kB)\n",
            "\u001b[K     |████████████████████████████████| 237 kB 5.3 MB/s \n",
            "\u001b[?25hRequirement already satisfied: typing-extensions<5.0,>=4.0.0 in /usr/local/lib/python3.7/dist-packages (from rich) (4.1.1)\n",
            "Collecting commonmark<0.10.0,>=0.9.0\n",
            "  Downloading commonmark-0.9.1-py2.py3-none-any.whl (51 kB)\n",
            "\u001b[K     |████████████████████████████████| 51 kB 6.2 MB/s \n",
            "\u001b[?25hRequirement already satisfied: pygments<3.0.0,>=2.6.0 in /usr/local/lib/python3.7/dist-packages (from rich) (2.6.1)\n",
            "Installing collected packages: commonmark, rich\n",
            "Successfully installed commonmark-0.9.1 rich-12.6.0\n"
          ]
        }
      ]
    },
    {
      "cell_type": "code",
      "execution_count": 2,
      "metadata": {
        "id": "QtyRkpxZydQ1"
      },
      "outputs": [],
      "source": [
        "import math\n",
        "import numpy as np\n",
        "import matplotlib.pyplot as plt\n",
        "from rich import print\n",
        "from rich import pretty"
      ]
    },
    {
      "cell_type": "code",
      "source": [
        "pretty.install()"
      ],
      "metadata": {
        "id": "vU4wLs3cH3zo"
      },
      "execution_count": 3,
      "outputs": []
    },
    {
      "cell_type": "markdown",
      "source": [
        "## Single Variable: `x`"
      ],
      "metadata": {
        "id": "vNiBqy_g2fxd"
      }
    },
    {
      "cell_type": "markdown",
      "source": [
        "Create a function"
      ],
      "metadata": {
        "id": "XGea6iuS3jUP"
      }
    },
    {
      "cell_type": "code",
      "source": [
        "def f(x): return 3*x**2 - 4*x + 5"
      ],
      "metadata": {
        "id": "0stURwrlyplm"
      },
      "execution_count": 4,
      "outputs": []
    },
    {
      "cell_type": "code",
      "source": [
        "f(3.0)"
      ],
      "metadata": {
        "colab": {
          "base_uri": "https://localhost:8080/",
          "height": 33
        },
        "id": "1WpM5fsmy0Ur",
        "outputId": "ef1d286b-77a7-4704-a517-fda8ca5f7861"
      },
      "execution_count": 5,
      "outputs": [
        {
          "output_type": "display_data",
          "data": {
            "text/plain": [
              "\u001b[1;36m20.0\u001b[0m\n"
            ],
            "text/html": [
              "<pre style=\"white-space:pre;overflow-x:auto;line-height:normal;font-family:Menlo,'DejaVu Sans Mono',consolas,'Courier New',monospace\"><span style=\"color: #008080; text-decoration-color: #008080; font-weight: bold\">20.0</span>\n",
              "</pre>\n"
            ]
          },
          "metadata": {}
        }
      ]
    },
    {
      "cell_type": "code",
      "source": [
        "xs = np.arange(-5, 5, 0.25)\n",
        "xs"
      ],
      "metadata": {
        "colab": {
          "base_uri": "https://localhost:8080/",
          "height": 97
        },
        "id": "62Yi8sYfy27U",
        "outputId": "34df1a74-80fa-4543-f39c-23cbd5c7a0a4"
      },
      "execution_count": 6,
      "outputs": [
        {
          "output_type": "display_data",
          "data": {
            "text/plain": [
              "\n",
              "\u001b[1;35marray\u001b[0m\u001b[1m(\u001b[0m\u001b[1m[\u001b[0m\u001b[1;36m-5\u001b[0m.  , \u001b[1;36m-4.75\u001b[0m, \u001b[1;36m-4.5\u001b[0m , \u001b[1;36m-4.25\u001b[0m, \u001b[1;36m-4\u001b[0m.  , \u001b[1;36m-3.75\u001b[0m, \u001b[1;36m-3.5\u001b[0m , \u001b[1;36m-3.25\u001b[0m, \u001b[1;36m-3\u001b[0m.  ,\n",
              "       \u001b[1;36m-2.75\u001b[0m, \u001b[1;36m-2.5\u001b[0m , \u001b[1;36m-2.25\u001b[0m, \u001b[1;36m-2\u001b[0m.  , \u001b[1;36m-1.75\u001b[0m, \u001b[1;36m-1.5\u001b[0m , \u001b[1;36m-1.25\u001b[0m, \u001b[1;36m-1\u001b[0m.  , \u001b[1;36m-0.75\u001b[0m,\n",
              "       \u001b[1;36m-0.5\u001b[0m , \u001b[1;36m-0.25\u001b[0m,  \u001b[1;36m0\u001b[0m.  ,  \u001b[1;36m0.25\u001b[0m,  \u001b[1;36m0.5\u001b[0m ,  \u001b[1;36m0.75\u001b[0m,  \u001b[1;36m1\u001b[0m.  ,  \u001b[1;36m1.25\u001b[0m,  \u001b[1;36m1.5\u001b[0m ,\n",
              "        \u001b[1;36m1.75\u001b[0m,  \u001b[1;36m2\u001b[0m.  ,  \u001b[1;36m2.25\u001b[0m,  \u001b[1;36m2.5\u001b[0m ,  \u001b[1;36m2.75\u001b[0m,  \u001b[1;36m3\u001b[0m.  ,  \u001b[1;36m3.25\u001b[0m,  \u001b[1;36m3.5\u001b[0m ,  \u001b[1;36m3.75\u001b[0m,\n",
              "        \u001b[1;36m4\u001b[0m.  ,  \u001b[1;36m4.25\u001b[0m,  \u001b[1;36m4.5\u001b[0m ,  \u001b[1;36m4.75\u001b[0m\u001b[1m]\u001b[0m\u001b[1m)\u001b[0m\n"
            ],
            "text/html": [
              "<pre style=\"white-space:pre;overflow-x:auto;line-height:normal;font-family:Menlo,'DejaVu Sans Mono',consolas,'Courier New',monospace\">\n",
              "<span style=\"color: #800080; text-decoration-color: #800080; font-weight: bold\">array</span><span style=\"font-weight: bold\">([</span><span style=\"color: #008080; text-decoration-color: #008080; font-weight: bold\">-5</span>.  , <span style=\"color: #008080; text-decoration-color: #008080; font-weight: bold\">-4.75</span>, <span style=\"color: #008080; text-decoration-color: #008080; font-weight: bold\">-4.5</span> , <span style=\"color: #008080; text-decoration-color: #008080; font-weight: bold\">-4.25</span>, <span style=\"color: #008080; text-decoration-color: #008080; font-weight: bold\">-4</span>.  , <span style=\"color: #008080; text-decoration-color: #008080; font-weight: bold\">-3.75</span>, <span style=\"color: #008080; text-decoration-color: #008080; font-weight: bold\">-3.5</span> , <span style=\"color: #008080; text-decoration-color: #008080; font-weight: bold\">-3.25</span>, <span style=\"color: #008080; text-decoration-color: #008080; font-weight: bold\">-3</span>.  ,\n",
              "       <span style=\"color: #008080; text-decoration-color: #008080; font-weight: bold\">-2.75</span>, <span style=\"color: #008080; text-decoration-color: #008080; font-weight: bold\">-2.5</span> , <span style=\"color: #008080; text-decoration-color: #008080; font-weight: bold\">-2.25</span>, <span style=\"color: #008080; text-decoration-color: #008080; font-weight: bold\">-2</span>.  , <span style=\"color: #008080; text-decoration-color: #008080; font-weight: bold\">-1.75</span>, <span style=\"color: #008080; text-decoration-color: #008080; font-weight: bold\">-1.5</span> , <span style=\"color: #008080; text-decoration-color: #008080; font-weight: bold\">-1.25</span>, <span style=\"color: #008080; text-decoration-color: #008080; font-weight: bold\">-1</span>.  , <span style=\"color: #008080; text-decoration-color: #008080; font-weight: bold\">-0.75</span>,\n",
              "       <span style=\"color: #008080; text-decoration-color: #008080; font-weight: bold\">-0.5</span> , <span style=\"color: #008080; text-decoration-color: #008080; font-weight: bold\">-0.25</span>,  <span style=\"color: #008080; text-decoration-color: #008080; font-weight: bold\">0</span>.  ,  <span style=\"color: #008080; text-decoration-color: #008080; font-weight: bold\">0.25</span>,  <span style=\"color: #008080; text-decoration-color: #008080; font-weight: bold\">0.5</span> ,  <span style=\"color: #008080; text-decoration-color: #008080; font-weight: bold\">0.75</span>,  <span style=\"color: #008080; text-decoration-color: #008080; font-weight: bold\">1</span>.  ,  <span style=\"color: #008080; text-decoration-color: #008080; font-weight: bold\">1.25</span>,  <span style=\"color: #008080; text-decoration-color: #008080; font-weight: bold\">1.5</span> ,\n",
              "        <span style=\"color: #008080; text-decoration-color: #008080; font-weight: bold\">1.75</span>,  <span style=\"color: #008080; text-decoration-color: #008080; font-weight: bold\">2</span>.  ,  <span style=\"color: #008080; text-decoration-color: #008080; font-weight: bold\">2.25</span>,  <span style=\"color: #008080; text-decoration-color: #008080; font-weight: bold\">2.5</span> ,  <span style=\"color: #008080; text-decoration-color: #008080; font-weight: bold\">2.75</span>,  <span style=\"color: #008080; text-decoration-color: #008080; font-weight: bold\">3</span>.  ,  <span style=\"color: #008080; text-decoration-color: #008080; font-weight: bold\">3.25</span>,  <span style=\"color: #008080; text-decoration-color: #008080; font-weight: bold\">3.5</span> ,  <span style=\"color: #008080; text-decoration-color: #008080; font-weight: bold\">3.75</span>,\n",
              "        <span style=\"color: #008080; text-decoration-color: #008080; font-weight: bold\">4</span>.  ,  <span style=\"color: #008080; text-decoration-color: #008080; font-weight: bold\">4.25</span>,  <span style=\"color: #008080; text-decoration-color: #008080; font-weight: bold\">4.5</span> ,  <span style=\"color: #008080; text-decoration-color: #008080; font-weight: bold\">4.75</span><span style=\"font-weight: bold\">])</span>\n",
              "</pre>\n"
            ]
          },
          "metadata": {}
        }
      ]
    },
    {
      "cell_type": "code",
      "source": [
        "ys = f(xs)\n",
        "ys"
      ],
      "metadata": {
        "colab": {
          "base_uri": "https://localhost:8080/",
          "height": 129
        },
        "id": "kh4eei6wy6t9",
        "outputId": "c6356621-0a52-4cb3-ee45-0621e6b2b092"
      },
      "execution_count": 7,
      "outputs": [
        {
          "output_type": "display_data",
          "data": {
            "text/plain": [
              "\n",
              "\u001b[1;35marray\u001b[0m\u001b[1m(\u001b[0m\u001b[1m[\u001b[0m\u001b[1;36m100\u001b[0m.    ,  \u001b[1;36m91.6875\u001b[0m,  \u001b[1;36m83.75\u001b[0m  ,  \u001b[1;36m76.1875\u001b[0m,  \u001b[1;36m69\u001b[0m.    ,  \u001b[1;36m62.1875\u001b[0m,\n",
              "        \u001b[1;36m55.75\u001b[0m  ,  \u001b[1;36m49.6875\u001b[0m,  \u001b[1;36m44\u001b[0m.    ,  \u001b[1;36m38.6875\u001b[0m,  \u001b[1;36m33.75\u001b[0m  ,  \u001b[1;36m29.1875\u001b[0m,\n",
              "        \u001b[1;36m25\u001b[0m.    ,  \u001b[1;36m21.1875\u001b[0m,  \u001b[1;36m17.75\u001b[0m  ,  \u001b[1;36m14.6875\u001b[0m,  \u001b[1;36m12\u001b[0m.    ,   \u001b[1;36m9.6875\u001b[0m,\n",
              "         \u001b[1;36m7.75\u001b[0m  ,   \u001b[1;36m6.1875\u001b[0m,   \u001b[1;36m5\u001b[0m.    ,   \u001b[1;36m4.1875\u001b[0m,   \u001b[1;36m3.75\u001b[0m  ,   \u001b[1;36m3.6875\u001b[0m,\n",
              "         \u001b[1;36m4\u001b[0m.    ,   \u001b[1;36m4.6875\u001b[0m,   \u001b[1;36m5.75\u001b[0m  ,   \u001b[1;36m7.1875\u001b[0m,   \u001b[1;36m9\u001b[0m.    ,  \u001b[1;36m11.1875\u001b[0m,\n",
              "        \u001b[1;36m13.75\u001b[0m  ,  \u001b[1;36m16.6875\u001b[0m,  \u001b[1;36m20\u001b[0m.    ,  \u001b[1;36m23.6875\u001b[0m,  \u001b[1;36m27.75\u001b[0m  ,  \u001b[1;36m32.1875\u001b[0m,\n",
              "        \u001b[1;36m37\u001b[0m.    ,  \u001b[1;36m42.1875\u001b[0m,  \u001b[1;36m47.75\u001b[0m  ,  \u001b[1;36m53.6875\u001b[0m\u001b[1m]\u001b[0m\u001b[1m)\u001b[0m\n"
            ],
            "text/html": [
              "<pre style=\"white-space:pre;overflow-x:auto;line-height:normal;font-family:Menlo,'DejaVu Sans Mono',consolas,'Courier New',monospace\">\n",
              "<span style=\"color: #800080; text-decoration-color: #800080; font-weight: bold\">array</span><span style=\"font-weight: bold\">([</span><span style=\"color: #008080; text-decoration-color: #008080; font-weight: bold\">100</span>.    ,  <span style=\"color: #008080; text-decoration-color: #008080; font-weight: bold\">91.6875</span>,  <span style=\"color: #008080; text-decoration-color: #008080; font-weight: bold\">83.75</span>  ,  <span style=\"color: #008080; text-decoration-color: #008080; font-weight: bold\">76.1875</span>,  <span style=\"color: #008080; text-decoration-color: #008080; font-weight: bold\">69</span>.    ,  <span style=\"color: #008080; text-decoration-color: #008080; font-weight: bold\">62.1875</span>,\n",
              "        <span style=\"color: #008080; text-decoration-color: #008080; font-weight: bold\">55.75</span>  ,  <span style=\"color: #008080; text-decoration-color: #008080; font-weight: bold\">49.6875</span>,  <span style=\"color: #008080; text-decoration-color: #008080; font-weight: bold\">44</span>.    ,  <span style=\"color: #008080; text-decoration-color: #008080; font-weight: bold\">38.6875</span>,  <span style=\"color: #008080; text-decoration-color: #008080; font-weight: bold\">33.75</span>  ,  <span style=\"color: #008080; text-decoration-color: #008080; font-weight: bold\">29.1875</span>,\n",
              "        <span style=\"color: #008080; text-decoration-color: #008080; font-weight: bold\">25</span>.    ,  <span style=\"color: #008080; text-decoration-color: #008080; font-weight: bold\">21.1875</span>,  <span style=\"color: #008080; text-decoration-color: #008080; font-weight: bold\">17.75</span>  ,  <span style=\"color: #008080; text-decoration-color: #008080; font-weight: bold\">14.6875</span>,  <span style=\"color: #008080; text-decoration-color: #008080; font-weight: bold\">12</span>.    ,   <span style=\"color: #008080; text-decoration-color: #008080; font-weight: bold\">9.6875</span>,\n",
              "         <span style=\"color: #008080; text-decoration-color: #008080; font-weight: bold\">7.75</span>  ,   <span style=\"color: #008080; text-decoration-color: #008080; font-weight: bold\">6.1875</span>,   <span style=\"color: #008080; text-decoration-color: #008080; font-weight: bold\">5</span>.    ,   <span style=\"color: #008080; text-decoration-color: #008080; font-weight: bold\">4.1875</span>,   <span style=\"color: #008080; text-decoration-color: #008080; font-weight: bold\">3.75</span>  ,   <span style=\"color: #008080; text-decoration-color: #008080; font-weight: bold\">3.6875</span>,\n",
              "         <span style=\"color: #008080; text-decoration-color: #008080; font-weight: bold\">4</span>.    ,   <span style=\"color: #008080; text-decoration-color: #008080; font-weight: bold\">4.6875</span>,   <span style=\"color: #008080; text-decoration-color: #008080; font-weight: bold\">5.75</span>  ,   <span style=\"color: #008080; text-decoration-color: #008080; font-weight: bold\">7.1875</span>,   <span style=\"color: #008080; text-decoration-color: #008080; font-weight: bold\">9</span>.    ,  <span style=\"color: #008080; text-decoration-color: #008080; font-weight: bold\">11.1875</span>,\n",
              "        <span style=\"color: #008080; text-decoration-color: #008080; font-weight: bold\">13.75</span>  ,  <span style=\"color: #008080; text-decoration-color: #008080; font-weight: bold\">16.6875</span>,  <span style=\"color: #008080; text-decoration-color: #008080; font-weight: bold\">20</span>.    ,  <span style=\"color: #008080; text-decoration-color: #008080; font-weight: bold\">23.6875</span>,  <span style=\"color: #008080; text-decoration-color: #008080; font-weight: bold\">27.75</span>  ,  <span style=\"color: #008080; text-decoration-color: #008080; font-weight: bold\">32.1875</span>,\n",
              "        <span style=\"color: #008080; text-decoration-color: #008080; font-weight: bold\">37</span>.    ,  <span style=\"color: #008080; text-decoration-color: #008080; font-weight: bold\">42.1875</span>,  <span style=\"color: #008080; text-decoration-color: #008080; font-weight: bold\">47.75</span>  ,  <span style=\"color: #008080; text-decoration-color: #008080; font-weight: bold\">53.6875</span><span style=\"font-weight: bold\">])</span>\n",
              "</pre>\n"
            ]
          },
          "metadata": {}
        }
      ]
    },
    {
      "cell_type": "markdown",
      "source": [
        "Plot the function"
      ],
      "metadata": {
        "id": "HFXwdYWk3nF4"
      }
    },
    {
      "cell_type": "code",
      "source": [
        "plt.plot(xs, ys)"
      ],
      "metadata": {
        "colab": {
          "base_uri": "https://localhost:8080/",
          "height": 281
        },
        "id": "AolAqoW0y--X",
        "outputId": "6822ef8b-38dd-4eac-f882-e7c73da8d83a"
      },
      "execution_count": 8,
      "outputs": [
        {
          "output_type": "display_data",
          "data": {
            "text/plain": [
              "\u001b[1m[\u001b[0m\u001b[1m<\u001b[0m\u001b[1;95mmatplotlib.lines.Line2D\u001b[0m\u001b[39m object at \u001b[0m\u001b[1;36m0x7fcdfc12fa10\u001b[0m\u001b[1m>\u001b[0m\u001b[1m]\u001b[0m\n"
            ],
            "text/html": [
              "<pre style=\"white-space:pre;overflow-x:auto;line-height:normal;font-family:Menlo,'DejaVu Sans Mono',consolas,'Courier New',monospace\"><span style=\"font-weight: bold\">[&lt;</span><span style=\"color: #ff00ff; text-decoration-color: #ff00ff; font-weight: bold\">matplotlib.lines.Line2D</span><span style=\"color: #000000; text-decoration-color: #000000\"> object at </span><span style=\"color: #008080; text-decoration-color: #008080; font-weight: bold\">0x7fcdfc12fa10</span><span style=\"font-weight: bold\">&gt;]</span>\n",
              "</pre>\n"
            ]
          },
          "metadata": {}
        },
        {
          "output_type": "display_data",
          "data": {
            "image/png": "[encoded data removed]"
          },
          "metadata": {
            "needs_background": "light"
          }
        }
      ]
    },
    {
      "cell_type": "markdown",
      "source": [
        "### Derivative on increasing side of the curve"
      ],
      "metadata": {
        "id": "u4aiv5Cw2mYm"
      }
    },
    {
      "cell_type": "code",
      "source": [
        "h = 0.0000000001\n",
        "x = 3.0\n",
        "(f(x + h) - f(x))/h"
      ],
      "metadata": {
        "colab": {
          "base_uri": "https://localhost:8080/",
          "height": 33
        },
        "id": "9SSodN7CzCHd",
        "outputId": "e41af840-1545-4eb5-9d81-87be5039cdf2"
      },
      "execution_count": 9,
      "outputs": [
        {
          "output_type": "display_data",
          "data": {
            "text/plain": [
              "\u001b[1;36m14.000001158365194\u001b[0m\n"
            ],
            "text/html": [
              "<pre style=\"white-space:pre;overflow-x:auto;line-height:normal;font-family:Menlo,'DejaVu Sans Mono',consolas,'Courier New',monospace\"><span style=\"color: #008080; text-decoration-color: #008080; font-weight: bold\">14.000001158365194</span>\n",
              "</pre>\n"
            ]
          },
          "metadata": {}
        }
      ]
    },
    {
      "cell_type": "markdown",
      "source": [
        "### Derivative on the decreasing side of the curve"
      ],
      "metadata": {
        "id": "1dqCaIOb2vUg"
      }
    },
    {
      "cell_type": "code",
      "source": [
        "h = 0.0000000001\n",
        "x = -3.0\n",
        "(f(x + h) - f(x))/h"
      ],
      "metadata": {
        "colab": {
          "base_uri": "https://localhost:8080/",
          "height": 33
        },
        "id": "v80Ukqunzi1A",
        "outputId": "06a8a0de-a312-4612-9184-ecde28f1b1eb"
      },
      "execution_count": 10,
      "outputs": [
        {
          "output_type": "display_data",
          "data": {
            "text/plain": [
              "\u001b[1;36m-21.999966293151374\u001b[0m\n"
            ],
            "text/html": [
              "<pre style=\"white-space:pre;overflow-x:auto;line-height:normal;font-family:Menlo,'DejaVu Sans Mono',consolas,'Courier New',monospace\"><span style=\"color: #008080; text-decoration-color: #008080; font-weight: bold\">-21.999966293151374</span>\n",
              "</pre>\n"
            ]
          },
          "metadata": {}
        }
      ]
    },
    {
      "cell_type": "markdown",
      "source": [
        "### Derivative on the bottom of the curve"
      ],
      "metadata": {
        "id": "9DIBJz3D2zeK"
      }
    },
    {
      "cell_type": "code",
      "source": [
        "h = 0.0000000001\n",
        "x = 2/3\n",
        "(f(x + h) - f(x))/h"
      ],
      "metadata": {
        "colab": {
          "base_uri": "https://localhost:8080/",
          "height": 0
        },
        "id": "VeHZDpT90ccz",
        "outputId": "d81ec3bb-696b-4342-c7a1-1e62179bdfce"
      },
      "execution_count": 11,
      "outputs": [
        {
          "output_type": "display_data",
          "data": {
            "text/plain": [
              "\u001b[1;36m0.0\u001b[0m\n"
            ],
            "text/html": [
              "<pre style=\"white-space:pre;overflow-x:auto;line-height:normal;font-family:Menlo,'DejaVu Sans Mono',consolas,'Courier New',monospace\"><span style=\"color: #008080; text-decoration-color: #008080; font-weight: bold\">0.0</span>\n",
              "</pre>\n"
            ]
          },
          "metadata": {}
        }
      ]
    },
    {
      "cell_type": "markdown",
      "source": [
        "## Multivariable: `a`, `b`, `c` "
      ],
      "metadata": {
        "id": "O5Xg6kxM3DUP"
      }
    },
    {
      "cell_type": "code",
      "source": [
        "a = 2.0\n",
        "b = -3.0\n",
        "c = 10.0\n",
        "def d(a, b, c): return a*b + c\n",
        "print(d(a, b, c))"
      ],
      "metadata": {
        "colab": {
          "base_uri": "https://localhost:8080/",
          "height": 33
        },
        "id": "xLBxj2ey0oJm",
        "outputId": "ca5ad988-ef9b-4f62-f2e0-f6b423998f79"
      },
      "execution_count": 12,
      "outputs": [
        {
          "output_type": "display_data",
          "data": {
            "text/plain": [
              "\u001b[1;36m4.0\u001b[0m\n"
            ],
            "text/html": [
              "<pre style=\"white-space:pre;overflow-x:auto;line-height:normal;font-family:Menlo,'DejaVu Sans Mono',consolas,'Courier New',monospace\"><span style=\"color: #008080; text-decoration-color: #008080; font-weight: bold\">4.0</span>\n",
              "</pre>\n"
            ]
          },
          "metadata": {}
        }
      ]
    },
    {
      "cell_type": "markdown",
      "source": [
        "### Derivative with respect to `a`"
      ],
      "metadata": {
        "id": "O48XXrEL3OvP"
      }
    },
    {
      "cell_type": "code",
      "source": [
        "h = 0.0001\n",
        "\n",
        "a = 2.0\n",
        "b = -3.0\n",
        "c = 10.0\n",
        "\n",
        "d1 = d(a, b, c)\n",
        "\n",
        "a += h\n",
        "d2 = d(a, b, c)\n",
        "\n",
        "\n",
        "print('d1', d1)\n",
        "print('d2', d2)\n",
        "print('slope', (d2 - d1)/h)"
      ],
      "metadata": {
        "colab": {
          "base_uri": "https://localhost:8080/",
          "height": 0
        },
        "id": "EHP6SNSO0vVz",
        "outputId": "74939006-3a3d-43e6-c73f-5e86d06ffcbd"
      },
      "execution_count": 13,
      "outputs": [
        {
          "output_type": "display_data",
          "data": {
            "text/plain": [
              "d1 \u001b[1;36m4.0\u001b[0m\n"
            ],
            "text/html": [
              "<pre style=\"white-space:pre;overflow-x:auto;line-height:normal;font-family:Menlo,'DejaVu Sans Mono',consolas,'Courier New',monospace\">d1 <span style=\"color: #008080; text-decoration-color: #008080; font-weight: bold\">4.0</span>\n",
              "</pre>\n"
            ]
          },
          "metadata": {}
        },
        {
          "output_type": "display_data",
          "data": {
            "text/plain": [
              "d2 \u001b[1;36m3.999699999999999\u001b[0m\n"
            ],
            "text/html": [
              "<pre style=\"white-space:pre;overflow-x:auto;line-height:normal;font-family:Menlo,'DejaVu Sans Mono',consolas,'Courier New',monospace\">d2 <span style=\"color: #008080; text-decoration-color: #008080; font-weight: bold\">3.999699999999999</span>\n",
              "</pre>\n"
            ]
          },
          "metadata": {}
        },
        {
          "output_type": "display_data",
          "data": {
            "text/plain": [
              "slope \u001b[1;36m-3.000000000010772\u001b[0m\n"
            ],
            "text/html": [
              "<pre style=\"white-space:pre;overflow-x:auto;line-height:normal;font-family:Menlo,'DejaVu Sans Mono',consolas,'Courier New',monospace\">slope <span style=\"color: #008080; text-decoration-color: #008080; font-weight: bold\">-3.000000000010772</span>\n",
              "</pre>\n"
            ]
          },
          "metadata": {}
        }
      ]
    },
    {
      "cell_type": "markdown",
      "source": [
        "### Derivative with respect to `b` "
      ],
      "metadata": {
        "id": "ZbVOSLZ635U2"
      }
    },
    {
      "cell_type": "code",
      "source": [
        "h = 0.0001\n",
        "\n",
        "a = 2.0\n",
        "b = -3.0\n",
        "c = 10.0\n",
        "\n",
        "d1 = d(a, b, c)\n",
        "\n",
        "b += h\n",
        "d2 = d(a, b, c)\n",
        "\n",
        "\n",
        "print('d1', d1)\n",
        "print('d2', d2)\n",
        "print('slope', (d2 - d1)/h)"
      ],
      "metadata": {
        "colab": {
          "base_uri": "https://localhost:8080/",
          "height": 0
        },
        "id": "akPYsIBd33pX",
        "outputId": "45d55aed-27b6-41e6-d285-f792b11d299d"
      },
      "execution_count": 14,
      "outputs": [
        {
          "output_type": "display_data",
          "data": {
            "text/plain": [
              "d1 \u001b[1;36m4.0\u001b[0m\n"
            ],
            "text/html": [
              "<pre style=\"white-space:pre;overflow-x:auto;line-height:normal;font-family:Menlo,'DejaVu Sans Mono',consolas,'Courier New',monospace\">d1 <span style=\"color: #008080; text-decoration-color: #008080; font-weight: bold\">4.0</span>\n",
              "</pre>\n"
            ]
          },
          "metadata": {}
        },
        {
          "output_type": "display_data",
          "data": {
            "text/plain": [
              "d2 \u001b[1;36m4.0002\u001b[0m\n"
            ],
            "text/html": [
              "<pre style=\"white-space:pre;overflow-x:auto;line-height:normal;font-family:Menlo,'DejaVu Sans Mono',consolas,'Courier New',monospace\">d2 <span style=\"color: #008080; text-decoration-color: #008080; font-weight: bold\">4.0002</span>\n",
              "</pre>\n"
            ]
          },
          "metadata": {}
        },
        {
          "output_type": "display_data",
          "data": {
            "text/plain": [
              "slope \u001b[1;36m2.0000000000042206\u001b[0m\n"
            ],
            "text/html": [
              "<pre style=\"white-space:pre;overflow-x:auto;line-height:normal;font-family:Menlo,'DejaVu Sans Mono',consolas,'Courier New',monospace\">slope <span style=\"color: #008080; text-decoration-color: #008080; font-weight: bold\">2.0000000000042206</span>\n",
              "</pre>\n"
            ]
          },
          "metadata": {}
        }
      ]
    },
    {
      "cell_type": "markdown",
      "source": [
        "### Derivative with respect to `c`"
      ],
      "metadata": {
        "id": "SXWVXKAD4N3t"
      }
    },
    {
      "cell_type": "code",
      "source": [
        "h = 0.0001\n",
        "\n",
        "a = 2.0\n",
        "b = -3.0\n",
        "c = 10.0\n",
        "\n",
        "d1 = d(a, b, c)\n",
        "\n",
        "c += h\n",
        "d2 = d(a, b, c)\n",
        "\n",
        "\n",
        "print('d1', d1)\n",
        "print('d2', d2)\n",
        "print('slope', (d2 - d1)/h)"
      ],
      "metadata": {
        "colab": {
          "base_uri": "https://localhost:8080/",
          "height": 0
        },
        "id": "u6jDJxIJ6-yM",
        "outputId": "8942c8c2-0f1d-4553-fd6f-55c8e21f33aa"
      },
      "execution_count": 15,
      "outputs": [
        {
          "output_type": "display_data",
          "data": {
            "text/plain": [
              "d1 \u001b[1;36m4.0\u001b[0m\n"
            ],
            "text/html": [
              "<pre style=\"white-space:pre;overflow-x:auto;line-height:normal;font-family:Menlo,'DejaVu Sans Mono',consolas,'Courier New',monospace\">d1 <span style=\"color: #008080; text-decoration-color: #008080; font-weight: bold\">4.0</span>\n",
              "</pre>\n"
            ]
          },
          "metadata": {}
        },
        {
          "output_type": "display_data",
          "data": {
            "text/plain": [
              "d2 \u001b[1;36m4.0001\u001b[0m\n"
            ],
            "text/html": [
              "<pre style=\"white-space:pre;overflow-x:auto;line-height:normal;font-family:Menlo,'DejaVu Sans Mono',consolas,'Courier New',monospace\">d2 <span style=\"color: #008080; text-decoration-color: #008080; font-weight: bold\">4.0001</span>\n",
              "</pre>\n"
            ]
          },
          "metadata": {}
        },
        {
          "output_type": "display_data",
          "data": {
            "text/plain": [
              "slope \u001b[1;36m0.9999999999976694\u001b[0m\n"
            ],
            "text/html": [
              "<pre style=\"white-space:pre;overflow-x:auto;line-height:normal;font-family:Menlo,'DejaVu Sans Mono',consolas,'Courier New',monospace\">slope <span style=\"color: #008080; text-decoration-color: #008080; font-weight: bold\">0.9999999999976694</span>\n",
              "</pre>\n"
            ]
          },
          "metadata": {}
        }
      ]
    },
    {
      "cell_type": "markdown",
      "source": [
        "## Create Value Object\n",
        "(mentioned in the README of [micrograd](https://github.com/karpathy/micrograd) )"
      ],
      "metadata": {
        "id": "pq0dRG2b7l7q"
      }
    },
    {
      "cell_type": "markdown",
      "source": [
        "### Define intial template of Value Class"
      ],
      "metadata": {
        "id": "RzxhYM5qI6WV"
      }
    },
    {
      "cell_type": "code",
      "source": [
        "class Value:\n",
        "  def __init__(self, data):\n",
        "    self.data = data\n",
        "\n",
        "  def __repr__(self):\n",
        "    return f\"Value(data={self.data})\""
      ],
      "metadata": {
        "id": "t3XzdeRD87Vw"
      },
      "execution_count": 16,
      "outputs": []
    },
    {
      "cell_type": "code",
      "source": [
        "a = Value(2.0)\n",
        "b = Value(-3.0)\n",
        "a, b"
      ],
      "metadata": {
        "colab": {
          "base_uri": "https://localhost:8080/",
          "height": 0
        },
        "id": "qVV989y0-HFj",
        "outputId": "ab8f0d62-b1e7-47a4-c760-80d3df53ba64"
      },
      "execution_count": 17,
      "outputs": [
        {
          "output_type": "display_data",
          "data": {
            "text/plain": [
              "\u001b[1m(\u001b[0m\u001b[1;35mValue\u001b[0m\u001b[1m(\u001b[0m\u001b[33mdata\u001b[0m=\u001b[1;36m2\u001b[0m\u001b[1;36m.0\u001b[0m\u001b[1m)\u001b[0m, \u001b[1;35mValue\u001b[0m\u001b[1m(\u001b[0m\u001b[33mdata\u001b[0m=\u001b[1;36m-3.0\u001b[0m\u001b[1m)\u001b[0m\u001b[1m)\u001b[0m\n"
            ],
            "text/html": [
              "<pre style=\"white-space:pre;overflow-x:auto;line-height:normal;font-family:Menlo,'DejaVu Sans Mono',consolas,'Courier New',monospace\"><span style=\"font-weight: bold\">(</span><span style=\"color: #800080; text-decoration-color: #800080; font-weight: bold\">Value</span><span style=\"font-weight: bold\">(</span><span style=\"color: #808000; text-decoration-color: #808000\">data</span>=<span style=\"color: #008080; text-decoration-color: #008080; font-weight: bold\">2.0</span><span style=\"font-weight: bold\">)</span>, <span style=\"color: #800080; text-decoration-color: #800080; font-weight: bold\">Value</span><span style=\"font-weight: bold\">(</span><span style=\"color: #808000; text-decoration-color: #808000\">data</span>=<span style=\"color: #008080; text-decoration-color: #008080; font-weight: bold\">-3.0</span><span style=\"font-weight: bold\">))</span>\n",
              "</pre>\n"
            ]
          },
          "metadata": {}
        }
      ]
    },
    {
      "cell_type": "markdown",
      "source": [
        "### Add the `add` function"
      ],
      "metadata": {
        "id": "yasPXptyIScI"
      }
    },
    {
      "cell_type": "code",
      "source": [
        "class Value:\n",
        "  def __init__(self, data):\n",
        "    self.data = data\n",
        "  \n",
        "  def __repr__(self):\n",
        "    return f\"Value(data={self.data})\"\n",
        "\n",
        "  def __add__(self, other): # ⭠ for adding among the value objects\n",
        "    return Value(self.data + other.data)"
      ],
      "metadata": {
        "id": "KySm598gIGEs"
      },
      "execution_count": 18,
      "outputs": []
    },
    {
      "cell_type": "code",
      "source": [
        "a = Value(2.0)\n",
        "b = Value(-3.0)\n",
        "a, b"
      ],
      "metadata": {
        "colab": {
          "base_uri": "https://localhost:8080/",
          "height": 0
        },
        "id": "rAsmlTB8Ik7M",
        "outputId": "f9080415-fee0-42f1-d0ae-24e6760921fa"
      },
      "execution_count": 19,
      "outputs": [
        {
          "output_type": "display_data",
          "data": {
            "text/plain": [
              "\u001b[1m(\u001b[0m\u001b[1;35mValue\u001b[0m\u001b[1m(\u001b[0m\u001b[33mdata\u001b[0m=\u001b[1;36m2\u001b[0m\u001b[1;36m.0\u001b[0m\u001b[1m)\u001b[0m, \u001b[1;35mValue\u001b[0m\u001b[1m(\u001b[0m\u001b[33mdata\u001b[0m=\u001b[1;36m-3.0\u001b[0m\u001b[1m)\u001b[0m\u001b[1m)\u001b[0m\n"
            ],
            "text/html": [
              "<pre style=\"white-space:pre;overflow-x:auto;line-height:normal;font-family:Menlo,'DejaVu Sans Mono',consolas,'Courier New',monospace\"><span style=\"font-weight: bold\">(</span><span style=\"color: #800080; text-decoration-color: #800080; font-weight: bold\">Value</span><span style=\"font-weight: bold\">(</span><span style=\"color: #808000; text-decoration-color: #808000\">data</span>=<span style=\"color: #008080; text-decoration-color: #008080; font-weight: bold\">2.0</span><span style=\"font-weight: bold\">)</span>, <span style=\"color: #800080; text-decoration-color: #800080; font-weight: bold\">Value</span><span style=\"font-weight: bold\">(</span><span style=\"color: #808000; text-decoration-color: #808000\">data</span>=<span style=\"color: #008080; text-decoration-color: #008080; font-weight: bold\">-3.0</span><span style=\"font-weight: bold\">))</span>\n",
              "</pre>\n"
            ]
          },
          "metadata": {}
        }
      ]
    },
    {
      "cell_type": "code",
      "source": [
        "a + b # a.__add__(b)"
      ],
      "metadata": {
        "colab": {
          "base_uri": "https://localhost:8080/",
          "height": 0
        },
        "id": "YkSDW92d-Noy",
        "outputId": "d5b2c65d-7a30-4a5d-bbb5-81dea30a8307"
      },
      "execution_count": 20,
      "outputs": [
        {
          "output_type": "display_data",
          "data": {
            "text/plain": [
              "\u001b[1;35mValue\u001b[0m\u001b[1m(\u001b[0m\u001b[33mdata\u001b[0m=\u001b[1;36m-1.0\u001b[0m\u001b[1m)\u001b[0m\n"
            ],
            "text/html": [
              "<pre style=\"white-space:pre;overflow-x:auto;line-height:normal;font-family:Menlo,'DejaVu Sans Mono',consolas,'Courier New',monospace\"><span style=\"color: #800080; text-decoration-color: #800080; font-weight: bold\">Value</span><span style=\"font-weight: bold\">(</span><span style=\"color: #808000; text-decoration-color: #808000\">data</span>=<span style=\"color: #008080; text-decoration-color: #008080; font-weight: bold\">-1.0</span><span style=\"font-weight: bold\">)</span>\n",
              "</pre>\n"
            ]
          },
          "metadata": {}
        }
      ]
    },
    {
      "cell_type": "markdown",
      "source": [
        "### Add the `mul` function"
      ],
      "metadata": {
        "id": "pYhgJ8LOIuHx"
      }
    },
    {
      "cell_type": "code",
      "source": [
        "class Value:\n",
        "  def __init__(self, data):\n",
        "    self.data = data\n",
        "  \n",
        "  def __repr__(self):\n",
        "    return f\"Value(data={self.data})\"\n",
        "\n",
        "  def __add__(self, other):\n",
        "    return Value(self.data + other.data)\n",
        "  \n",
        "  def __mul__(self, other): # ⭠ for multiplying among the value objects\n",
        "    return Value(self.data * other.data)"
      ],
      "metadata": {
        "id": "6vOvrVqWI1l7"
      },
      "execution_count": 21,
      "outputs": []
    },
    {
      "cell_type": "code",
      "source": [
        "a = Value(2.0)\n",
        "b = Value(-3.0)\n",
        "a, b"
      ],
      "metadata": {
        "colab": {
          "base_uri": "https://localhost:8080/",
          "height": 0
        },
        "id": "3nUfmbxNJJES",
        "outputId": "28617c8f-463c-4afc-b44d-d28595440d79"
      },
      "execution_count": 22,
      "outputs": [
        {
          "output_type": "display_data",
          "data": {
            "text/plain": [
              "\u001b[1m(\u001b[0m\u001b[1;35mValue\u001b[0m\u001b[1m(\u001b[0m\u001b[33mdata\u001b[0m=\u001b[1;36m2\u001b[0m\u001b[1;36m.0\u001b[0m\u001b[1m)\u001b[0m, \u001b[1;35mValue\u001b[0m\u001b[1m(\u001b[0m\u001b[33mdata\u001b[0m=\u001b[1;36m-3.0\u001b[0m\u001b[1m)\u001b[0m\u001b[1m)\u001b[0m\n"
            ],
            "text/html": [
              "<pre style=\"white-space:pre;overflow-x:auto;line-height:normal;font-family:Menlo,'DejaVu Sans Mono',consolas,'Courier New',monospace\"><span style=\"font-weight: bold\">(</span><span style=\"color: #800080; text-decoration-color: #800080; font-weight: bold\">Value</span><span style=\"font-weight: bold\">(</span><span style=\"color: #808000; text-decoration-color: #808000\">data</span>=<span style=\"color: #008080; text-decoration-color: #008080; font-weight: bold\">2.0</span><span style=\"font-weight: bold\">)</span>, <span style=\"color: #800080; text-decoration-color: #800080; font-weight: bold\">Value</span><span style=\"font-weight: bold\">(</span><span style=\"color: #808000; text-decoration-color: #808000\">data</span>=<span style=\"color: #008080; text-decoration-color: #008080; font-weight: bold\">-3.0</span><span style=\"font-weight: bold\">))</span>\n",
              "</pre>\n"
            ]
          },
          "metadata": {}
        }
      ]
    },
    {
      "cell_type": "code",
      "source": [
        "a * b # a.__mul__(b)"
      ],
      "metadata": {
        "colab": {
          "base_uri": "https://localhost:8080/",
          "height": 0
        },
        "id": "g16lyq8t-jVy",
        "outputId": "4e46db19-49b9-4d09-dcd5-3787952d4224"
      },
      "execution_count": 23,
      "outputs": [
        {
          "output_type": "display_data",
          "data": {
            "text/plain": [
              "\u001b[1;35mValue\u001b[0m\u001b[1m(\u001b[0m\u001b[33mdata\u001b[0m=\u001b[1;36m-6.0\u001b[0m\u001b[1m)\u001b[0m\n"
            ],
            "text/html": [
              "<pre style=\"white-space:pre;overflow-x:auto;line-height:normal;font-family:Menlo,'DejaVu Sans Mono',consolas,'Courier New',monospace\"><span style=\"color: #800080; text-decoration-color: #800080; font-weight: bold\">Value</span><span style=\"font-weight: bold\">(</span><span style=\"color: #808000; text-decoration-color: #808000\">data</span>=<span style=\"color: #008080; text-decoration-color: #008080; font-weight: bold\">-6.0</span><span style=\"font-weight: bold\">)</span>\n",
              "</pre>\n"
            ]
          },
          "metadata": {}
        }
      ]
    },
    {
      "cell_type": "code",
      "source": [
        "c = Value(10.0)"
      ],
      "metadata": {
        "id": "xFdqoyLM_oda"
      },
      "execution_count": 24,
      "outputs": []
    },
    {
      "cell_type": "code",
      "source": [
        "d = a * b + c; d"
      ],
      "metadata": {
        "colab": {
          "base_uri": "https://localhost:8080/",
          "height": 0
        },
        "id": "-6PC2plt_M6G",
        "outputId": "5a6536b9-f42f-48a1-fa9f-982995026653"
      },
      "execution_count": 25,
      "outputs": [
        {
          "output_type": "display_data",
          "data": {
            "text/plain": [
              "\u001b[1;35mValue\u001b[0m\u001b[1m(\u001b[0m\u001b[33mdata\u001b[0m=\u001b[1;36m4\u001b[0m\u001b[1;36m.0\u001b[0m\u001b[1m)\u001b[0m\n"
            ],
            "text/html": [
              "<pre style=\"white-space:pre;overflow-x:auto;line-height:normal;font-family:Menlo,'DejaVu Sans Mono',consolas,'Courier New',monospace\"><span style=\"color: #800080; text-decoration-color: #800080; font-weight: bold\">Value</span><span style=\"font-weight: bold\">(</span><span style=\"color: #808000; text-decoration-color: #808000\">data</span>=<span style=\"color: #008080; text-decoration-color: #008080; font-weight: bold\">4.0</span><span style=\"font-weight: bold\">)</span>\n",
              "</pre>\n"
            ]
          },
          "metadata": {}
        }
      ]
    },
    {
      "cell_type": "markdown",
      "source": [
        "### Add the functionality to know what values created a value with `_children`"
      ],
      "metadata": {
        "id": "hGpPMaTsJXkv"
      }
    },
    {
      "cell_type": "code",
      "source": [
        "class Value:\n",
        "  def __init__(self, data, _children=()): # ⭠ Add _children\n",
        "    self.data = data\n",
        "    self._prev = set(_children) # ⭠ Add _children\n",
        "  \n",
        "  def __repr__(self):\n",
        "    return f\"Value(data ={self.data})\"\n",
        "  \n",
        "  def __add__(self, other):\n",
        "    return Value(self.data + other.data, (self, other))\n",
        "  \n",
        "  def __mul__(self, other):\n",
        "    return Value(self.data * other.data, (self, other))"
      ],
      "metadata": {
        "id": "F54ZI2wNJ6V9"
      },
      "execution_count": 26,
      "outputs": []
    },
    {
      "cell_type": "code",
      "source": [
        "a = Value(2.0)\n",
        "b = Value(-3.0)\n",
        "c = Value(10.0)\n",
        "d = a*b + c\n",
        "d"
      ],
      "metadata": {
        "colab": {
          "base_uri": "https://localhost:8080/",
          "height": 0
        },
        "id": "QoabOpIVS2Eq",
        "outputId": "18e781b9-b5e0-43f4-a68c-387cc69a5b9a"
      },
      "execution_count": 27,
      "outputs": [
        {
          "output_type": "display_data",
          "data": {
            "text/plain": [
              "\u001b[1;35mValue\u001b[0m\u001b[1m(\u001b[0mdata =\u001b[1;36m4.0\u001b[0m\u001b[1m)\u001b[0m\n"
            ],
            "text/html": [
              "<pre style=\"white-space:pre;overflow-x:auto;line-height:normal;font-family:Menlo,'DejaVu Sans Mono',consolas,'Courier New',monospace\"><span style=\"color: #800080; text-decoration-color: #800080; font-weight: bold\">Value</span><span style=\"font-weight: bold\">(</span>data =<span style=\"color: #008080; text-decoration-color: #008080; font-weight: bold\">4.0</span><span style=\"font-weight: bold\">)</span>\n",
              "</pre>\n"
            ]
          },
          "metadata": {}
        }
      ]
    },
    {
      "cell_type": "code",
      "source": [
        "d._prev # childrens are -6.0 (a *b) and 10.0 (c)"
      ],
      "metadata": {
        "colab": {
          "base_uri": "https://localhost:8080/",
          "height": 0
        },
        "id": "qrMvXBqp_i5G",
        "outputId": "92e8c4af-1e40-412f-efae-ad70bae8f725"
      },
      "execution_count": 28,
      "outputs": [
        {
          "output_type": "display_data",
          "data": {
            "text/plain": [
              "\u001b[1m{\u001b[0m\u001b[1;35mValue\u001b[0m\u001b[1m(\u001b[0mdata =\u001b[1;36m-6.0\u001b[0m\u001b[1m)\u001b[0m, \u001b[1;35mValue\u001b[0m\u001b[1m(\u001b[0mdata =\u001b[1;36m10.0\u001b[0m\u001b[1m)\u001b[0m\u001b[1m}\u001b[0m\n"
            ],
            "text/html": [
              "<pre style=\"white-space:pre;overflow-x:auto;line-height:normal;font-family:Menlo,'DejaVu Sans Mono',consolas,'Courier New',monospace\"><span style=\"font-weight: bold\">{</span><span style=\"color: #800080; text-decoration-color: #800080; font-weight: bold\">Value</span><span style=\"font-weight: bold\">(</span>data =<span style=\"color: #008080; text-decoration-color: #008080; font-weight: bold\">-6.0</span><span style=\"font-weight: bold\">)</span>, <span style=\"color: #800080; text-decoration-color: #800080; font-weight: bold\">Value</span><span style=\"font-weight: bold\">(</span>data =<span style=\"color: #008080; text-decoration-color: #008080; font-weight: bold\">10.0</span><span style=\"font-weight: bold\">)}</span>\n",
              "</pre>\n"
            ]
          },
          "metadata": {}
        }
      ]
    },
    {
      "cell_type": "markdown",
      "source": [
        "### Add the functionality to know what operations created a value with `_op`"
      ],
      "metadata": {
        "id": "sFqR0gkPTfMP"
      }
    },
    {
      "cell_type": "code",
      "source": [
        "class Value:\n",
        "  def __init__(self, data, _children=(), _op=''): # ⭠ Add _op\n",
        "    self.data = data\n",
        "    self._prev = set(_children)\n",
        "    self._op = _op # ⭠ Add _op\n",
        "  \n",
        "  def __repr__(self):\n",
        "    return f\"Value(data={self.data})\"\n",
        "  \n",
        "  def __add__(self, other):\n",
        "    return Value(self.data + other.data, (self, other), '+')\n",
        "  \n",
        "  def __mul__(self, other):\n",
        "    return Value(self.data * other.data, (self, other), '*')"
      ],
      "metadata": {
        "id": "6PxlDTkLHJrd"
      },
      "execution_count": 29,
      "outputs": []
    },
    {
      "cell_type": "code",
      "source": [
        "a = Value(2.0)\n",
        "b = Value(-3.0)\n",
        "c = Value(10.0)\n",
        "d = a*b + c\n",
        "d"
      ],
      "metadata": {
        "colab": {
          "base_uri": "https://localhost:8080/",
          "height": 0
        },
        "id": "Fm-sFd0aT-Fz",
        "outputId": "b9f89535-df26-468b-b379-90d4f85122ab"
      },
      "execution_count": 30,
      "outputs": [
        {
          "output_type": "display_data",
          "data": {
            "text/plain": [
              "\u001b[1;35mValue\u001b[0m\u001b[1m(\u001b[0m\u001b[33mdata\u001b[0m=\u001b[1;36m4\u001b[0m\u001b[1;36m.0\u001b[0m\u001b[1m)\u001b[0m\n"
            ],
            "text/html": [
              "<pre style=\"white-space:pre;overflow-x:auto;line-height:normal;font-family:Menlo,'DejaVu Sans Mono',consolas,'Courier New',monospace\"><span style=\"color: #800080; text-decoration-color: #800080; font-weight: bold\">Value</span><span style=\"font-weight: bold\">(</span><span style=\"color: #808000; text-decoration-color: #808000\">data</span>=<span style=\"color: #008080; text-decoration-color: #008080; font-weight: bold\">4.0</span><span style=\"font-weight: bold\">)</span>\n",
              "</pre>\n"
            ]
          },
          "metadata": {}
        }
      ]
    },
    {
      "cell_type": "code",
      "source": [
        "d._prev"
      ],
      "metadata": {
        "colab": {
          "base_uri": "https://localhost:8080/",
          "height": 0
        },
        "id": "SadpDaeoUZeY",
        "outputId": "be4518cb-798c-4932-dbe7-8392af6281f4"
      },
      "execution_count": 31,
      "outputs": [
        {
          "output_type": "display_data",
          "data": {
            "text/plain": [
              "\u001b[1m{\u001b[0m\u001b[1;35mValue\u001b[0m\u001b[1m(\u001b[0m\u001b[33mdata\u001b[0m=\u001b[1;36m10\u001b[0m\u001b[1;36m.0\u001b[0m\u001b[1m)\u001b[0m, \u001b[1;35mValue\u001b[0m\u001b[1m(\u001b[0m\u001b[33mdata\u001b[0m=\u001b[1;36m-6.0\u001b[0m\u001b[1m)\u001b[0m\u001b[1m}\u001b[0m\n"
            ],
            "text/html": [
              "<pre style=\"white-space:pre;overflow-x:auto;line-height:normal;font-family:Menlo,'DejaVu Sans Mono',consolas,'Courier New',monospace\"><span style=\"font-weight: bold\">{</span><span style=\"color: #800080; text-decoration-color: #800080; font-weight: bold\">Value</span><span style=\"font-weight: bold\">(</span><span style=\"color: #808000; text-decoration-color: #808000\">data</span>=<span style=\"color: #008080; text-decoration-color: #008080; font-weight: bold\">10.0</span><span style=\"font-weight: bold\">)</span>, <span style=\"color: #800080; text-decoration-color: #800080; font-weight: bold\">Value</span><span style=\"font-weight: bold\">(</span><span style=\"color: #808000; text-decoration-color: #808000\">data</span>=<span style=\"color: #008080; text-decoration-color: #008080; font-weight: bold\">-6.0</span><span style=\"font-weight: bold\">)}</span>\n",
              "</pre>\n"
            ]
          },
          "metadata": {}
        }
      ]
    },
    {
      "cell_type": "code",
      "source": [
        "d._op"
      ],
      "metadata": {
        "colab": {
          "base_uri": "https://localhost:8080/",
          "height": 0
        },
        "id": "AJ_KEYoEUa2k",
        "outputId": "c089fcdc-c273-4f85-faf0-24febeab4e29"
      },
      "execution_count": 32,
      "outputs": [
        {
          "output_type": "display_data",
          "data": {
            "text/plain": [
              "\u001b[32m'+'\u001b[0m\n"
            ],
            "text/html": [
              "<pre style=\"white-space:pre;overflow-x:auto;line-height:normal;font-family:Menlo,'DejaVu Sans Mono',consolas,'Courier New',monospace\"><span style=\"color: #008000; text-decoration-color: #008000\">'+'</span>\n",
              "</pre>\n"
            ]
          },
          "metadata": {}
        },
        {
          "output_type": "execute_result",
          "data": {
            "application/vnd.google.colaboratory.intrinsic+json": {
              "type": "string"
            }
          },
          "metadata": {},
          "execution_count": 32
        }
      ]
    },
    {
      "cell_type": "markdown",
      "source": [
        "### Visualize the expression graph with operators and operands"
      ],
      "metadata": {
        "id": "GenwGM5JVTBO"
      }
    },
    {
      "cell_type": "code",
      "source": [
        "from graphviz import Digraph\n",
        "\n",
        "def trace(root):\n",
        "  # build a set of all nodes and edges in a graph\n",
        "  nodes, edges = set(), set()\n",
        "  def build(v):\n",
        "    if v not in nodes:\n",
        "      nodes.add(v)\n",
        "      for child in v._prev:\n",
        "        edges.add((child, v))\n",
        "        build(child)\n",
        "  build(root)\n",
        "  return nodes, edges"
      ],
      "metadata": {
        "id": "K6sq1a2-Uk2a"
      },
      "execution_count": 33,
      "outputs": []
    },
    {
      "cell_type": "code",
      "source": [
        "def draw_dot(root, label):\n",
        "  dot = Digraph(format='svg', graph_attr={'rankdir': 'LR'}) # LR = left to right\n",
        "\n",
        "  nodes, edges = trace(root)\n",
        "  for n in nodes:\n",
        "    uid = str(id(n))\n",
        "    # for any value in the graph, create a rectangular ('record') node for it\n",
        "    dot.node(name = uid, label=label(n), shape='record') # ⭠ label function getting called\n",
        "    if n._op:\n",
        "      # if this value is a result of some operation, create an op node for it\n",
        "      dot.node(name = uid + n._op, label = n._op)\n",
        "      dot.edge(uid + n._op, uid)\n",
        "  \n",
        "  for n1, n2 in edges:\n",
        "    # connect n1 to the op node of n2\n",
        "    dot.edge(str(id(n1)), str(id(n2)) + n2._op)\n",
        "  \n",
        "  return dot"
      ],
      "metadata": {
        "id": "E2aUdtJIbYw0"
      },
      "execution_count": 34,
      "outputs": []
    },
    {
      "cell_type": "code",
      "source": [
        "def label(node): return \"{data %.4f}\" % (node.data)\n",
        "draw_dot(d, label)"
      ],
      "metadata": {
        "colab": {
          "base_uri": "https://localhost:8080/",
          "height": 0
        },
        "id": "EgM98q-YVSCf",
        "outputId": "45370031-0cda-4ef8-d29b-04a0acb6de8f"
      },
      "execution_count": 35,
      "outputs": [
        {
          "output_type": "execute_result",
          "data": {
            "image/svg+xml": "<?xml version=\"1.0\" encoding=\"UTF-8\" standalone=\"no\"?>\n<!DOCTYPE svg PUBLIC \"-//W3C//DTD SVG 1.1//EN\"\n \"http://www.w3.org/Graphics/SVG/1.1/DTD/svg11.dtd\">\n<!-- Generated by graphviz version 2.40.1 (20161225.0304)\n -->\n<!-- Title: %3 Pages: 1 -->\n<svg width=\"526pt\" height=\"128pt\"\n viewBox=\"0.00 0.00 526.00 128.00\" xmlns=\"http://www.w3.org/2000/svg\" xmlns:xlink=\"http://www.w3.org/1999/xlink\">\n<g id=\"graph0\" class=\"graph\" transform=\"scale(1 1) rotate(0) translate(4 124)\">\n<title>%3</title>\n<polygon fill=\"#ffffff\" stroke=\"transparent\" points=\"-4,4 -4,-124 522,-124 522,4 -4,4\"/>\n<!-- 140522673702928 -->\n<g id=\"node1\" class=\"node\">\n<title>140522673702928</title>\n<polygon fill=\"none\" stroke=\"#000000\" points=\"0,-83.5 0,-119.5 89,-119.5 89,-83.5 0,-83.5\"/>\n<text text-anchor=\"middle\" x=\"44.5\" y=\"-97.8\" font-family=\"Times,serif\" font-size=\"14.00\" fill=\"#000000\">data &#45;3.0000</text>\n</g>\n<!-- 140522675477840* -->\n<g id=\"node6\" class=\"node\">\n<title>140522675477840*</title>\n<ellipse fill=\"none\" stroke=\"#000000\" cx=\"152\" cy=\"-73.5\" rx=\"27\" ry=\"18\"/>\n<text text-anchor=\"middle\" x=\"152\" y=\"-69.8\" font-family=\"Times,serif\" font-size=\"14.00\" fill=\"#000000\">*</text>\n</g>\n<!-- 140522673702928&#45;&gt;140522675477840* -->\n<g id=\"edge4\" class=\"edge\">\n<title>140522673702928&#45;&gt;140522675477840*</title>\n<path fill=\"none\" stroke=\"#000000\" d=\"M89.1558,-89.8687C98.3604,-87.4713 107.9314,-84.9783 116.7466,-82.6823\"/>\n<polygon fill=\"#000000\" stroke=\"#000000\" points=\"117.8854,-86.0025 126.6803,-80.0949 116.121,-79.2285 117.8854,-86.0025\"/>\n</g>\n<!-- 140522673703312 -->\n<g id=\"node2\" class=\"node\">\n<title>140522673703312</title>\n<polygon fill=\"none\" stroke=\"#000000\" points=\"2,-28.5 2,-64.5 87,-64.5 87,-28.5 2,-28.5\"/>\n<text text-anchor=\"middle\" x=\"44.5\" y=\"-42.8\" font-family=\"Times,serif\" font-size=\"14.00\" fill=\"#000000\">data 2.0000</text>\n</g>\n<!-- 140522673703312&#45;&gt;140522675477840* -->\n<g id=\"edge6\" class=\"edge\">\n<title>140522673703312&#45;&gt;140522675477840*</title>\n<path fill=\"none\" stroke=\"#000000\" d=\"M87.2957,-57.2487C97.0994,-59.711 107.4109,-62.3009 116.8495,-64.6715\"/>\n<polygon fill=\"#000000\" stroke=\"#000000\" points=\"116.1321,-68.1 126.6835,-67.1414 117.8373,-61.3108 116.1321,-68.1\"/>\n</g>\n<!-- 140522812591184 -->\n<g id=\"node3\" class=\"node\">\n<title>140522812591184</title>\n<polygon fill=\"none\" stroke=\"#000000\" points=\"433,-27.5 433,-63.5 518,-63.5 518,-27.5 433,-27.5\"/>\n<text text-anchor=\"middle\" x=\"475.5\" y=\"-41.8\" font-family=\"Times,serif\" font-size=\"14.00\" fill=\"#000000\">data 4.0000</text>\n</g>\n<!-- 140522812591184+ -->\n<g id=\"node4\" class=\"node\">\n<title>140522812591184+</title>\n<ellipse fill=\"none\" stroke=\"#000000\" cx=\"370\" cy=\"-45.5\" rx=\"27\" ry=\"18\"/>\n<text text-anchor=\"middle\" x=\"370\" y=\"-41.8\" font-family=\"Times,serif\" font-size=\"14.00\" fill=\"#000000\">+</text>\n</g>\n<!-- 140522812591184+&#45;&gt;140522812591184 -->\n<g id=\"edge1\" class=\"edge\">\n<title>140522812591184+&#45;&gt;140522812591184</title>\n<path fill=\"none\" stroke=\"#000000\" d=\"M397.1689,-45.5C404.9798,-45.5 413.7781,-45.5 422.5826,-45.5\"/>\n<polygon fill=\"#000000\" stroke=\"#000000\" points=\"422.8624,-49.0001 432.8623,-45.5 422.8623,-42.0001 422.8624,-49.0001\"/>\n</g>\n<!-- 140522675477840 -->\n<g id=\"node5\" class=\"node\">\n<title>140522675477840</title>\n<polygon fill=\"none\" stroke=\"#000000\" points=\"216.5,-55.5 216.5,-91.5 305.5,-91.5 305.5,-55.5 216.5,-55.5\"/>\n<text text-anchor=\"middle\" x=\"261\" y=\"-69.8\" font-family=\"Times,serif\" font-size=\"14.00\" fill=\"#000000\">data &#45;6.0000</text>\n</g>\n<!-- 140522675477840&#45;&gt;140522812591184+ -->\n<g id=\"edge5\" class=\"edge\">\n<title>140522675477840&#45;&gt;140522812591184+</title>\n<path fill=\"none\" stroke=\"#000000\" d=\"M305.649,-62.0305C315.4067,-59.524 325.6003,-56.9054 334.9217,-54.5109\"/>\n<polygon fill=\"#000000\" stroke=\"#000000\" points=\"335.8177,-57.8945 344.6324,-52.0165 334.076,-51.1146 335.8177,-57.8945\"/>\n</g>\n<!-- 140522675477840*&#45;&gt;140522675477840 -->\n<g id=\"edge2\" class=\"edge\">\n<title>140522675477840*&#45;&gt;140522675477840</title>\n<path fill=\"none\" stroke=\"#000000\" d=\"M179.2241,-73.5C187.4668,-73.5 196.831,-73.5 206.2068,-73.5\"/>\n<polygon fill=\"#000000\" stroke=\"#000000\" points=\"206.3326,-77.0001 216.3326,-73.5 206.3326,-70.0001 206.3326,-77.0001\"/>\n</g>\n<!-- 140522673702288 -->\n<g id=\"node7\" class=\"node\">\n<title>140522673702288</title>\n<polygon fill=\"none\" stroke=\"#000000\" points=\"215,-.5 215,-36.5 307,-36.5 307,-.5 215,-.5\"/>\n<text text-anchor=\"middle\" x=\"261\" y=\"-14.8\" font-family=\"Times,serif\" font-size=\"14.00\" fill=\"#000000\">data 10.0000</text>\n</g>\n<!-- 140522673702288&#45;&gt;140522812591184+ -->\n<g id=\"edge3\" class=\"edge\">\n<title>140522673702288&#45;&gt;140522812591184+</title>\n<path fill=\"none\" stroke=\"#000000\" d=\"M307.2258,-29.9504C316.4008,-32.2231 325.896,-34.5752 334.6386,-36.7408\"/>\n<polygon fill=\"#000000\" stroke=\"#000000\" points=\"333.9434,-40.1743 344.4917,-39.1814 335.6266,-33.3796 333.9434,-40.1743\"/>\n</g>\n</g>\n</svg>\n"
          },
          "metadata": {},
          "execution_count": 35
        }
      ]
    },
    {
      "cell_type": "markdown",
      "source": [
        "### Add label to each node\n",
        "> so that we know what are the corresponding variables for each value"
      ],
      "metadata": {
        "id": "RpbVnM8uY9-B"
      }
    },
    {
      "cell_type": "code",
      "source": [
        "class Value:\n",
        "  def __init__(self, data, _children=(), _op='', label=''): # ⭠ Add label\n",
        "    self.data = data\n",
        "    self._prev = set(_children)\n",
        "    self._op = _op\n",
        "    self.label = label # ⭠ Add label\n",
        "  \n",
        "  def __repr__(self):\n",
        "    return f\"Value(label={self.label} data={self.data})\"\n",
        "  \n",
        "  def __add__(self, other):\n",
        "    return Value(self.data + other.data, (self, other), '+')\n",
        "  \n",
        "  def __mul__(self, other):\n",
        "    return Value(self.data * other.data, (self, other), '*')"
      ],
      "metadata": {
        "id": "H7mTS1leXvsj"
      },
      "execution_count": 36,
      "outputs": []
    },
    {
      "cell_type": "code",
      "source": [
        "a = Value(2.0, label = 'a')\n",
        "b = Value(-3.0, label='b')\n",
        "c = Value(10, label = 'c')\n",
        "e = a*b; e.label = 'e'\n",
        "d = e + c; d.label = 'd'\n",
        "f = Value(-2.0, label='f')\n",
        "L = d * f; L.label = 'L'\n",
        "L"
      ],
      "metadata": {
        "colab": {
          "base_uri": "https://localhost:8080/",
          "height": 0
        },
        "id": "4SyukYjdZQTA",
        "outputId": "3b0ff12d-2f02-41bf-8797-5a3f61d54ea0"
      },
      "execution_count": 37,
      "outputs": [
        {
          "output_type": "display_data",
          "data": {
            "text/plain": [
              "\u001b[1;35mValue\u001b[0m\u001b[1m(\u001b[0m\u001b[33mlabel\u001b[0m=\u001b[35mL\u001b[0m \u001b[33mdata\u001b[0m=\u001b[1;36m-8.0\u001b[0m\u001b[1m)\u001b[0m\n"
            ],
            "text/html": [
              "<pre style=\"white-space:pre;overflow-x:auto;line-height:normal;font-family:Menlo,'DejaVu Sans Mono',consolas,'Courier New',monospace\"><span style=\"color: #800080; text-decoration-color: #800080; font-weight: bold\">Value</span><span style=\"font-weight: bold\">(</span><span style=\"color: #808000; text-decoration-color: #808000\">label</span>=<span style=\"color: #800080; text-decoration-color: #800080\">L</span> <span style=\"color: #808000; text-decoration-color: #808000\">data</span>=<span style=\"color: #008080; text-decoration-color: #008080; font-weight: bold\">-8.0</span><span style=\"font-weight: bold\">)</span>\n",
              "</pre>\n"
            ]
          },
          "metadata": {}
        }
      ]
    },
    {
      "cell_type": "markdown",
      "source": [
        "Change the `label` function to render the label"
      ],
      "metadata": {
        "id": "mCH_KyeOakDz"
      }
    },
    {
      "cell_type": "code",
      "source": [
        "def label(node): return \"{%s | {data %.4f}}\" % (node.label, node.data)"
      ],
      "metadata": {
        "id": "VEGRnQq6ac1G"
      },
      "execution_count": 38,
      "outputs": []
    },
    {
      "cell_type": "code",
      "source": [
        "draw_dot(L, label)"
      ],
      "metadata": {
        "colab": {
          "base_uri": "https://localhost:8080/",
          "height": 0
        },
        "id": "iIySWDGRZclz",
        "outputId": "ef4d7ac9-56a8-49c5-9327-22b77d5c54b5"
      },
      "execution_count": 39,
      "outputs": [
        {
          "output_type": "execute_result",
          "data": {
            "image/svg+xml": "<?xml version=\"1.0\" encoding=\"UTF-8\" standalone=\"no\"?>\n<!DOCTYPE svg PUBLIC \"-//W3C//DTD SVG 1.1//EN\"\n \"http://www.w3.org/Graphics/SVG/1.1/DTD/svg11.dtd\">\n<!-- Generated by graphviz version 2.40.1 (20161225.0304)\n -->\n<!-- Title: %3 Pages: 1 -->\n<svg width=\"839pt\" height=\"128pt\"\n viewBox=\"0.00 0.00 839.00 128.00\" xmlns=\"http://www.w3.org/2000/svg\" xmlns:xlink=\"http://www.w3.org/1999/xlink\">\n<g id=\"graph0\" class=\"graph\" transform=\"scale(1 1) rotate(0) translate(4 124)\">\n<title>%3</title>\n<polygon fill=\"#ffffff\" stroke=\"transparent\" points=\"-4,4 -4,-124 835,-124 835,4 -4,4\"/>\n<!-- 140522668796048 -->\n<g id=\"node1\" class=\"node\">\n<title>140522668796048</title>\n<polygon fill=\"none\" stroke=\"#000000\" points=\"716,-27.5 716,-63.5 831,-63.5 831,-27.5 716,-27.5\"/>\n<text text-anchor=\"middle\" x=\"729\" y=\"-41.8\" font-family=\"Times,serif\" font-size=\"14.00\" fill=\"#000000\">L</text>\n<polyline fill=\"none\" stroke=\"#000000\" points=\"742,-27.5 742,-63.5 \"/>\n<text text-anchor=\"middle\" x=\"786.5\" y=\"-41.8\" font-family=\"Times,serif\" font-size=\"14.00\" fill=\"#000000\">data &#45;8.0000</text>\n</g>\n<!-- 140522668796048* -->\n<g id=\"node2\" class=\"node\">\n<title>140522668796048*</title>\n<ellipse fill=\"none\" stroke=\"#000000\" cx=\"653\" cy=\"-45.5\" rx=\"27\" ry=\"18\"/>\n<text text-anchor=\"middle\" x=\"653\" y=\"-41.8\" font-family=\"Times,serif\" font-size=\"14.00\" fill=\"#000000\">*</text>\n</g>\n<!-- 140522668796048*&#45;&gt;140522668796048 -->\n<g id=\"edge1\" class=\"edge\">\n<title>140522668796048*&#45;&gt;140522668796048</title>\n<path fill=\"none\" stroke=\"#000000\" d=\"M680.0426,-45.5C687.8066,-45.5 696.6405,-45.5 705.7059,-45.5\"/>\n<polygon fill=\"#000000\" stroke=\"#000000\" points=\"705.9948,-49.0001 715.9948,-45.5 705.9947,-42.0001 705.9948,-49.0001\"/>\n</g>\n<!-- 140522668795536 -->\n<g id=\"node3\" class=\"node\">\n<title>140522668795536</title>\n<polygon fill=\"none\" stroke=\"#000000\" points=\"0,-56.5 0,-92.5 113,-92.5 113,-56.5 0,-56.5\"/>\n<text text-anchor=\"middle\" x=\"12\" y=\"-70.8\" font-family=\"Times,serif\" font-size=\"14.00\" fill=\"#000000\">b</text>\n<polyline fill=\"none\" stroke=\"#000000\" points=\"24,-56.5 24,-92.5 \"/>\n<text text-anchor=\"middle\" x=\"68.5\" y=\"-70.8\" font-family=\"Times,serif\" font-size=\"14.00\" fill=\"#000000\">data &#45;3.0000</text>\n</g>\n<!-- 140522668795856* -->\n<g id=\"node10\" class=\"node\">\n<title>140522668795856*</title>\n<ellipse fill=\"none\" stroke=\"#000000\" cx=\"176\" cy=\"-46.5\" rx=\"27\" ry=\"18\"/>\n<text text-anchor=\"middle\" x=\"176\" y=\"-42.8\" font-family=\"Times,serif\" font-size=\"14.00\" fill=\"#000000\">*</text>\n</g>\n<!-- 140522668795536&#45;&gt;140522668795856* -->\n<g id=\"edge6\" class=\"edge\">\n<title>140522668795536&#45;&gt;140522668795856*</title>\n<path fill=\"none\" stroke=\"#000000\" d=\"M113.1004,-61.238C122.3643,-59.0674 131.7294,-56.873 140.3016,-54.8645\"/>\n<polygon fill=\"#000000\" stroke=\"#000000\" points=\"141.3668,-58.2098 150.3046,-52.5207 139.7698,-51.3944 141.3668,-58.2098\"/>\n</g>\n<!-- 140522668796112 -->\n<g id=\"node4\" class=\"node\">\n<title>140522668796112</title>\n<polygon fill=\"none\" stroke=\"#000000\" points=\"480.5,-55.5 480.5,-91.5 589.5,-91.5 589.5,-55.5 480.5,-55.5\"/>\n<text text-anchor=\"middle\" x=\"492.5\" y=\"-69.8\" font-family=\"Times,serif\" font-size=\"14.00\" fill=\"#000000\">d</text>\n<polyline fill=\"none\" stroke=\"#000000\" points=\"504.5,-55.5 504.5,-91.5 \"/>\n<text text-anchor=\"middle\" x=\"547\" y=\"-69.8\" font-family=\"Times,serif\" font-size=\"14.00\" fill=\"#000000\">data 4.0000</text>\n</g>\n<!-- 140522668796112&#45;&gt;140522668796048* -->\n<g id=\"edge9\" class=\"edge\">\n<title>140522668796112&#45;&gt;140522668796048*</title>\n<path fill=\"none\" stroke=\"#000000\" d=\"M589.5097,-60.5655C598.9716,-58.3203 608.5884,-56.0383 617.3791,-53.9524\"/>\n<polygon fill=\"#000000\" stroke=\"#000000\" points=\"618.3387,-57.322 627.2605,-51.6077 616.7225,-50.5111 618.3387,-57.322\"/>\n</g>\n<!-- 140522668796112+ -->\n<g id=\"node5\" class=\"node\">\n<title>140522668796112+</title>\n<ellipse fill=\"none\" stroke=\"#000000\" cx=\"417\" cy=\"-73.5\" rx=\"27\" ry=\"18\"/>\n<text text-anchor=\"middle\" x=\"417\" y=\"-69.8\" font-family=\"Times,serif\" font-size=\"14.00\" fill=\"#000000\">+</text>\n</g>\n<!-- 140522668796112+&#45;&gt;140522668796112 -->\n<g id=\"edge2\" class=\"edge\">\n<title>140522668796112+&#45;&gt;140522668796112</title>\n<path fill=\"none\" stroke=\"#000000\" d=\"M444.0716,-73.5C451.8826,-73.5 460.7621,-73.5 469.8382,-73.5\"/>\n<polygon fill=\"#000000\" stroke=\"#000000\" points=\"470.1225,-77.0001 480.1225,-73.5 470.1225,-70.0001 470.1225,-77.0001\"/>\n</g>\n<!-- 140522668795600 -->\n<g id=\"node6\" class=\"node\">\n<title>140522668795600</title>\n<polygon fill=\"none\" stroke=\"#000000\" points=\"2.5,-1.5 2.5,-37.5 110.5,-37.5 110.5,-1.5 2.5,-1.5\"/>\n<text text-anchor=\"middle\" x=\"14\" y=\"-15.8\" font-family=\"Times,serif\" font-size=\"14.00\" fill=\"#000000\">a</text>\n<polyline fill=\"none\" stroke=\"#000000\" points=\"25.5,-1.5 25.5,-37.5 \"/>\n<text text-anchor=\"middle\" x=\"68\" y=\"-15.8\" font-family=\"Times,serif\" font-size=\"14.00\" fill=\"#000000\">data 2.0000</text>\n</g>\n<!-- 140522668795600&#45;&gt;140522668795856* -->\n<g id=\"edge8\" class=\"edge\">\n<title>140522668795600&#45;&gt;140522668795856*</title>\n<path fill=\"none\" stroke=\"#000000\" d=\"M110.6557,-31.736C120.8143,-34.0313 131.1905,-36.3757 140.5958,-38.5007\"/>\n<polygon fill=\"#000000\" stroke=\"#000000\" points=\"139.8387,-41.9178 150.3643,-40.7078 141.3815,-35.0899 139.8387,-41.9178\"/>\n</g>\n<!-- 140522668795664 -->\n<g id=\"node7\" class=\"node\">\n<title>140522668795664</title>\n<polygon fill=\"none\" stroke=\"#000000\" points=\"239,-83.5 239,-119.5 354,-119.5 354,-83.5 239,-83.5\"/>\n<text text-anchor=\"middle\" x=\"250.5\" y=\"-97.8\" font-family=\"Times,serif\" font-size=\"14.00\" fill=\"#000000\">c</text>\n<polyline fill=\"none\" stroke=\"#000000\" points=\"262,-83.5 262,-119.5 \"/>\n<text text-anchor=\"middle\" x=\"308\" y=\"-97.8\" font-family=\"Times,serif\" font-size=\"14.00\" fill=\"#000000\">data 10.0000</text>\n</g>\n<!-- 140522668795664&#45;&gt;140522668796112+ -->\n<g id=\"edge4\" class=\"edge\">\n<title>140522668795664&#45;&gt;140522668796112+</title>\n<path fill=\"none\" stroke=\"#000000\" d=\"M354.2794,-88.0741C363.5548,-85.9188 372.9085,-83.7453 381.459,-81.7585\"/>\n<polygon fill=\"#000000\" stroke=\"#000000\" points=\"382.4829,-85.1139 391.4312,-79.4413 380.8985,-78.2955 382.4829,-85.1139\"/>\n</g>\n<!-- 140522668795728 -->\n<g id=\"node8\" class=\"node\">\n<title>140522668795728</title>\n<polygon fill=\"none\" stroke=\"#000000\" points=\"480,-.5 480,-36.5 590,-36.5 590,-.5 480,-.5\"/>\n<text text-anchor=\"middle\" x=\"490.5\" y=\"-14.8\" font-family=\"Times,serif\" font-size=\"14.00\" fill=\"#000000\">f</text>\n<polyline fill=\"none\" stroke=\"#000000\" points=\"501,-.5 501,-36.5 \"/>\n<text text-anchor=\"middle\" x=\"545.5\" y=\"-14.8\" font-family=\"Times,serif\" font-size=\"14.00\" fill=\"#000000\">data &#45;2.0000</text>\n</g>\n<!-- 140522668795728&#45;&gt;140522668796048* -->\n<g id=\"edge5\" class=\"edge\">\n<title>140522668795728&#45;&gt;140522668796048*</title>\n<path fill=\"none\" stroke=\"#000000\" d=\"M590.1996,-31.1304C599.4106,-33.238 608.7456,-35.374 617.3017,-37.3317\"/>\n<polygon fill=\"#000000\" stroke=\"#000000\" points=\"616.7624,-40.7987 627.2912,-39.6175 618.3238,-33.9751 616.7624,-40.7987\"/>\n</g>\n<!-- 140522668795856 -->\n<g id=\"node9\" class=\"node\">\n<title>140522668795856</title>\n<polygon fill=\"none\" stroke=\"#000000\" points=\"240.5,-28.5 240.5,-64.5 352.5,-64.5 352.5,-28.5 240.5,-28.5\"/>\n<text text-anchor=\"middle\" x=\"252\" y=\"-42.8\" font-family=\"Times,serif\" font-size=\"14.00\" fill=\"#000000\">e</text>\n<polyline fill=\"none\" stroke=\"#000000\" points=\"263.5,-28.5 263.5,-64.5 \"/>\n<text text-anchor=\"middle\" x=\"308\" y=\"-42.8\" font-family=\"Times,serif\" font-size=\"14.00\" fill=\"#000000\">data &#45;6.0000</text>\n</g>\n<!-- 140522668795856&#45;&gt;140522668796112+ -->\n<g id=\"edge7\" class=\"edge\">\n<title>140522668795856&#45;&gt;140522668796112+</title>\n<path fill=\"none\" stroke=\"#000000\" d=\"M352.5168,-59.0515C362.3409,-61.2527 372.3158,-63.4878 381.3899,-65.521\"/>\n<polygon fill=\"#000000\" stroke=\"#000000\" points=\"380.6726,-68.947 391.1959,-67.7182 382.2032,-62.1163 380.6726,-68.947\"/>\n</g>\n<!-- 140522668795856*&#45;&gt;140522668795856 -->\n<g id=\"edge3\" class=\"edge\">\n<title>140522668795856*&#45;&gt;140522668795856</title>\n<path fill=\"none\" stroke=\"#000000\" d=\"M203.0426,-46.5C211.2826,-46.5 220.7277,-46.5 230.3756,-46.5\"/>\n<polygon fill=\"#000000\" stroke=\"#000000\" points=\"230.4612,-50.0001 240.4612,-46.5 230.4612,-43.0001 230.4612,-50.0001\"/>\n</g>\n</g>\n</svg>\n"
          },
          "metadata": {},
          "execution_count": 39
        }
      ]
    },
    {
      "cell_type": "markdown",
      "source": [
        "### Add `grad` to `Value` class"
      ],
      "metadata": {
        "id": "Q_DvXrUWe-4T"
      }
    },
    {
      "cell_type": "code",
      "source": [
        "class Value:\n",
        "  def __init__(self, data, _children=(), _op='', label=''):\n",
        "    self.data = data\n",
        "    self.grad = 0.0 # ⭠ Add grad\n",
        "    self._prev = set(_children)\n",
        "    self._op = _op\n",
        "    self.label = label\n",
        "  \n",
        "  def __repr__(self):\n",
        "    return f\"Value(label={self.label} data={self.data})\"\n",
        "  \n",
        "  def __add__(self, other):\n",
        "    return Value(self.data + other.data, (self, other), '+')\n",
        "  \n",
        "  def __mul__(self, other):\n",
        "    return Value(self.data * other.data, (self, other), '*')"
      ],
      "metadata": {
        "id": "86MukmeDaRrn"
      },
      "execution_count": 40,
      "outputs": []
    },
    {
      "cell_type": "code",
      "source": [
        "a = Value(2.0, label = 'a')\n",
        "b = Value(-3.0, label='b')\n",
        "c = Value(10, label = 'c')\n",
        "e = a*b; e.label = 'e'\n",
        "d = e + c; d.label = 'd'\n",
        "f = Value(-2.0, label='f')\n",
        "L = d * f; L.label = 'L'\n",
        "L.grad"
      ],
      "metadata": {
        "colab": {
          "base_uri": "https://localhost:8080/",
          "height": 33
        },
        "id": "GwWBqrjPvVqJ",
        "outputId": "55685f61-0953-4121-853a-e852f74f4c65"
      },
      "execution_count": 41,
      "outputs": [
        {
          "output_type": "display_data",
          "data": {
            "text/plain": [
              "\u001b[1;36m0.0\u001b[0m\n"
            ],
            "text/html": [
              "<pre style=\"white-space:pre;overflow-x:auto;line-height:normal;font-family:Menlo,'DejaVu Sans Mono',consolas,'Courier New',monospace\"><span style=\"color: #008080; text-decoration-color: #008080; font-weight: bold\">0.0</span>\n",
              "</pre>\n"
            ]
          },
          "metadata": {}
        }
      ]
    },
    {
      "cell_type": "code",
      "source": [
        "def label(node): return \"{%s | {data %.4f} | grad %.4f}\" % (node.label, node.data, node.grad)"
      ],
      "metadata": {
        "id": "lqU9Zogoe9A0"
      },
      "execution_count": 42,
      "outputs": []
    },
    {
      "cell_type": "code",
      "source": [
        "draw_dot(L, label)"
      ],
      "metadata": {
        "colab": {
          "base_uri": "https://localhost:8080/",
          "height": 247
        },
        "id": "bTfbjNkZvNel",
        "outputId": "990c990b-fd0b-4738-f090-dda01f8c114e"
      },
      "execution_count": 43,
      "outputs": [
        {
          "output_type": "execute_result",
          "data": {
            "image/svg+xml": "<?xml version=\"1.0\" encoding=\"UTF-8\" standalone=\"no\"?>\n<!DOCTYPE svg PUBLIC \"-//W3C//DTD SVG 1.1//EN\"\n \"http://www.w3.org/Graphics/SVG/1.1/DTD/svg11.dtd\">\n<!-- Generated by graphviz version 2.40.1 (20161225.0304)\n -->\n<!-- Title: %3 Pages: 1 -->\n<svg width=\"1187pt\" height=\"154pt\"\n viewBox=\"0.00 0.00 1187.00 154.00\" xmlns=\"http://www.w3.org/2000/svg\" xmlns:xlink=\"http://www.w3.org/1999/xlink\">\n<g id=\"graph0\" class=\"graph\" transform=\"scale(1 1) rotate(0) translate(4 150)\">\n<title>%3</title>\n<polygon fill=\"#ffffff\" stroke=\"transparent\" points=\"-4,4 -4,-150 1183,-150 1183,4 -4,4\"/>\n<!-- 140522673656912 -->\n<g id=\"node1\" class=\"node\">\n<title>140522673656912</title>\n<polygon fill=\"none\" stroke=\"#000000\" points=\"327.5,-27.5 327.5,-63.5 526.5,-63.5 526.5,-27.5 327.5,-27.5\"/>\n<text text-anchor=\"middle\" x=\"339\" y=\"-41.8\" font-family=\"Times,serif\" font-size=\"14.00\" fill=\"#000000\">e</text>\n<polyline fill=\"none\" stroke=\"#000000\" points=\"350.5,-27.5 350.5,-63.5 \"/>\n<text text-anchor=\"middle\" x=\"395\" y=\"-41.8\" font-family=\"Times,serif\" font-size=\"14.00\" fill=\"#000000\">data &#45;6.0000</text>\n<polyline fill=\"none\" stroke=\"#000000\" points=\"439.5,-27.5 439.5,-63.5 \"/>\n<text text-anchor=\"middle\" x=\"483\" y=\"-41.8\" font-family=\"Times,serif\" font-size=\"14.00\" fill=\"#000000\">grad 0.0000</text>\n</g>\n<!-- 140522673657104+ -->\n<g id=\"node6\" class=\"node\">\n<title>140522673657104+</title>\n<ellipse fill=\"none\" stroke=\"#000000\" cx=\"591\" cy=\"-72.5\" rx=\"27\" ry=\"18\"/>\n<text text-anchor=\"middle\" x=\"591\" y=\"-68.8\" font-family=\"Times,serif\" font-size=\"14.00\" fill=\"#000000\">+</text>\n</g>\n<!-- 140522673656912&#45;&gt;140522673657104+ -->\n<g id=\"edge6\" class=\"edge\">\n<title>140522673656912&#45;&gt;140522673657104+</title>\n<path fill=\"none\" stroke=\"#000000\" d=\"M526.6536,-61.9064C536.572,-63.5393 546.1287,-65.1127 554.7053,-66.5247\"/>\n<polygon fill=\"#000000\" stroke=\"#000000\" points=\"554.2034,-69.9891 564.6392,-68.1601 555.3406,-63.082 554.2034,-69.9891\"/>\n</g>\n<!-- 140522673656912* -->\n<g id=\"node2\" class=\"node\">\n<title>140522673656912*</title>\n<ellipse fill=\"none\" stroke=\"#000000\" cx=\"263\" cy=\"-45.5\" rx=\"27\" ry=\"18\"/>\n<text text-anchor=\"middle\" x=\"263\" y=\"-41.8\" font-family=\"Times,serif\" font-size=\"14.00\" fill=\"#000000\">*</text>\n</g>\n<!-- 140522673656912*&#45;&gt;140522673656912 -->\n<g id=\"edge1\" class=\"edge\">\n<title>140522673656912*&#45;&gt;140522673656912</title>\n<path fill=\"none\" stroke=\"#000000\" d=\"M290.0813,-45.5C298.0646,-45.5 307.3332,-45.5 317.212,-45.5\"/>\n<polygon fill=\"#000000\" stroke=\"#000000\" points=\"317.2693,-49.0001 327.2693,-45.5 317.2692,-42.0001 317.2693,-49.0001\"/>\n</g>\n<!-- 140522673657040 -->\n<g id=\"node3\" class=\"node\">\n<title>140522673657040</title>\n<polygon fill=\"none\" stroke=\"#000000\" points=\"977,-81.5 977,-117.5 1179,-117.5 1179,-81.5 977,-81.5\"/>\n<text text-anchor=\"middle\" x=\"990\" y=\"-95.8\" font-family=\"Times,serif\" font-size=\"14.00\" fill=\"#000000\">L</text>\n<polyline fill=\"none\" stroke=\"#000000\" points=\"1003,-81.5 1003,-117.5 \"/>\n<text text-anchor=\"middle\" x=\"1047.5\" y=\"-95.8\" font-family=\"Times,serif\" font-size=\"14.00\" fill=\"#000000\">data &#45;8.0000</text>\n<polyline fill=\"none\" stroke=\"#000000\" points=\"1092,-81.5 1092,-117.5 \"/>\n<text text-anchor=\"middle\" x=\"1135.5\" y=\"-95.8\" font-family=\"Times,serif\" font-size=\"14.00\" fill=\"#000000\">grad 0.0000</text>\n</g>\n<!-- 140522673657040* -->\n<g id=\"node4\" class=\"node\">\n<title>140522673657040*</title>\n<ellipse fill=\"none\" stroke=\"#000000\" cx=\"914\" cy=\"-99.5\" rx=\"27\" ry=\"18\"/>\n<text text-anchor=\"middle\" x=\"914\" y=\"-95.8\" font-family=\"Times,serif\" font-size=\"14.00\" fill=\"#000000\">*</text>\n</g>\n<!-- 140522673657040*&#45;&gt;140522673657040 -->\n<g id=\"edge2\" class=\"edge\">\n<title>140522673657040*&#45;&gt;140522673657040</title>\n<path fill=\"none\" stroke=\"#000000\" d=\"M941.0813,-99.5C948.631,-99.5 957.3302,-99.5 966.608,-99.5\"/>\n<polygon fill=\"#000000\" stroke=\"#000000\" points=\"966.8754,-103.0001 976.8754,-99.5 966.8754,-96.0001 966.8754,-103.0001\"/>\n</g>\n<!-- 140522673657104 -->\n<g id=\"node5\" class=\"node\">\n<title>140522673657104</title>\n<polygon fill=\"none\" stroke=\"#000000\" points=\"654.5,-54.5 654.5,-90.5 850.5,-90.5 850.5,-54.5 654.5,-54.5\"/>\n<text text-anchor=\"middle\" x=\"666.5\" y=\"-68.8\" font-family=\"Times,serif\" font-size=\"14.00\" fill=\"#000000\">d</text>\n<polyline fill=\"none\" stroke=\"#000000\" points=\"678.5,-54.5 678.5,-90.5 \"/>\n<text text-anchor=\"middle\" x=\"721\" y=\"-68.8\" font-family=\"Times,serif\" font-size=\"14.00\" fill=\"#000000\">data 4.0000</text>\n<polyline fill=\"none\" stroke=\"#000000\" points=\"763.5,-54.5 763.5,-90.5 \"/>\n<text text-anchor=\"middle\" x=\"807\" y=\"-68.8\" font-family=\"Times,serif\" font-size=\"14.00\" fill=\"#000000\">grad 0.0000</text>\n</g>\n<!-- 140522673657104&#45;&gt;140522673657040* -->\n<g id=\"edge9\" class=\"edge\">\n<title>140522673657104&#45;&gt;140522673657040*</title>\n<path fill=\"none\" stroke=\"#000000\" d=\"M850.6344,-88.9064C860.2015,-90.5058 869.4268,-92.0481 877.738,-93.4376\"/>\n<polygon fill=\"#000000\" stroke=\"#000000\" points=\"877.2933,-96.9118 887.7336,-95.1087 878.4477,-90.0076 877.2933,-96.9118\"/>\n</g>\n<!-- 140522673657104+&#45;&gt;140522673657104 -->\n<g id=\"edge3\" class=\"edge\">\n<title>140522673657104+&#45;&gt;140522673657104</title>\n<path fill=\"none\" stroke=\"#000000\" d=\"M618.0315,-72.5C625.7623,-72.5 634.6953,-72.5 644.2076,-72.5\"/>\n<polygon fill=\"#000000\" stroke=\"#000000\" points=\"644.3041,-76.0001 654.304,-72.5 644.304,-69.0001 644.3041,-76.0001\"/>\n</g>\n<!-- 140522673656592 -->\n<g id=\"node7\" class=\"node\">\n<title>140522673656592</title>\n<polygon fill=\"none\" stroke=\"#000000\" points=\"0,-55.5 0,-91.5 200,-91.5 200,-55.5 0,-55.5\"/>\n<text text-anchor=\"middle\" x=\"12\" y=\"-69.8\" font-family=\"Times,serif\" font-size=\"14.00\" fill=\"#000000\">b</text>\n<polyline fill=\"none\" stroke=\"#000000\" points=\"24,-55.5 24,-91.5 \"/>\n<text text-anchor=\"middle\" x=\"68.5\" y=\"-69.8\" font-family=\"Times,serif\" font-size=\"14.00\" fill=\"#000000\">data &#45;3.0000</text>\n<polyline fill=\"none\" stroke=\"#000000\" points=\"113,-55.5 113,-91.5 \"/>\n<text text-anchor=\"middle\" x=\"156.5\" y=\"-69.8\" font-family=\"Times,serif\" font-size=\"14.00\" fill=\"#000000\">grad 0.0000</text>\n</g>\n<!-- 140522673656592&#45;&gt;140522673656912* -->\n<g id=\"edge4\" class=\"edge\">\n<title>140522673656592&#45;&gt;140522673656912*</title>\n<path fill=\"none\" stroke=\"#000000\" d=\"M200.4461,-56.2455C209.7389,-54.6491 218.6838,-53.1126 226.7604,-51.7252\"/>\n<polygon fill=\"#000000\" stroke=\"#000000\" points=\"227.5708,-55.1374 236.8338,-49.9948 226.3856,-48.2384 227.5708,-55.1374\"/>\n</g>\n<!-- 140522673656656 -->\n<g id=\"node8\" class=\"node\">\n<title>140522673656656</title>\n<polygon fill=\"none\" stroke=\"#000000\" points=\"2.5,-.5 2.5,-36.5 197.5,-36.5 197.5,-.5 2.5,-.5\"/>\n<text text-anchor=\"middle\" x=\"14\" y=\"-14.8\" font-family=\"Times,serif\" font-size=\"14.00\" fill=\"#000000\">a</text>\n<polyline fill=\"none\" stroke=\"#000000\" points=\"25.5,-.5 25.5,-36.5 \"/>\n<text text-anchor=\"middle\" x=\"68\" y=\"-14.8\" font-family=\"Times,serif\" font-size=\"14.00\" fill=\"#000000\">data 2.0000</text>\n<polyline fill=\"none\" stroke=\"#000000\" points=\"110.5,-.5 110.5,-36.5 \"/>\n<text text-anchor=\"middle\" x=\"154\" y=\"-14.8\" font-family=\"Times,serif\" font-size=\"14.00\" fill=\"#000000\">grad 0.0000</text>\n</g>\n<!-- 140522673656656&#45;&gt;140522673656912* -->\n<g id=\"edge7\" class=\"edge\">\n<title>140522673656656&#45;&gt;140522673656912*</title>\n<path fill=\"none\" stroke=\"#000000\" d=\"M197.6409,-34.6736C207.9722,-36.385 217.943,-38.0366 226.8529,-39.5124\"/>\n<polygon fill=\"#000000\" stroke=\"#000000\" points=\"226.3454,-42.976 236.783,-41.1573 227.4894,-36.0701 226.3454,-42.976\"/>\n</g>\n<!-- 140522673656720 -->\n<g id=\"node9\" class=\"node\">\n<title>140522673656720</title>\n<polygon fill=\"none\" stroke=\"#000000\" points=\"326,-82.5 326,-118.5 528,-118.5 528,-82.5 326,-82.5\"/>\n<text text-anchor=\"middle\" x=\"337.5\" y=\"-96.8\" font-family=\"Times,serif\" font-size=\"14.00\" fill=\"#000000\">c</text>\n<polyline fill=\"none\" stroke=\"#000000\" points=\"349,-82.5 349,-118.5 \"/>\n<text text-anchor=\"middle\" x=\"395\" y=\"-96.8\" font-family=\"Times,serif\" font-size=\"14.00\" fill=\"#000000\">data 10.0000</text>\n<polyline fill=\"none\" stroke=\"#000000\" points=\"441,-82.5 441,-118.5 \"/>\n<text text-anchor=\"middle\" x=\"484.5\" y=\"-96.8\" font-family=\"Times,serif\" font-size=\"14.00\" fill=\"#000000\">grad 0.0000</text>\n</g>\n<!-- 140522673656720&#45;&gt;140522673657104+ -->\n<g id=\"edge5\" class=\"edge\">\n<title>140522673656720&#45;&gt;140522673657104+</title>\n<path fill=\"none\" stroke=\"#000000\" d=\"M528.0623,-83.2455C537.5172,-81.6312 546.6142,-80.0781 554.8116,-78.6785\"/>\n<polygon fill=\"#000000\" stroke=\"#000000\" points=\"555.405,-82.1279 564.6733,-76.9948 554.2269,-75.2278 555.405,-82.1279\"/>\n</g>\n<!-- 140522673656784 -->\n<g id=\"node10\" class=\"node\">\n<title>140522673656784</title>\n<polygon fill=\"none\" stroke=\"#000000\" points=\"654,-109.5 654,-145.5 851,-145.5 851,-109.5 654,-109.5\"/>\n<text text-anchor=\"middle\" x=\"664.5\" y=\"-123.8\" font-family=\"Times,serif\" font-size=\"14.00\" fill=\"#000000\">f</text>\n<polyline fill=\"none\" stroke=\"#000000\" points=\"675,-109.5 675,-145.5 \"/>\n<text text-anchor=\"middle\" x=\"719.5\" y=\"-123.8\" font-family=\"Times,serif\" font-size=\"14.00\" fill=\"#000000\">data &#45;2.0000</text>\n<polyline fill=\"none\" stroke=\"#000000\" points=\"764,-109.5 764,-145.5 \"/>\n<text text-anchor=\"middle\" x=\"807.5\" y=\"-123.8\" font-family=\"Times,serif\" font-size=\"14.00\" fill=\"#000000\">grad 0.0000</text>\n</g>\n<!-- 140522673656784&#45;&gt;140522673657040* -->\n<g id=\"edge8\" class=\"edge\">\n<title>140522673656784&#45;&gt;140522673657040*</title>\n<path fill=\"none\" stroke=\"#000000\" d=\"M851.0974,-110.4057C860.5173,-108.7725 869.5961,-107.1985 877.7856,-105.7787\"/>\n<polygon fill=\"#000000\" stroke=\"#000000\" points=\"878.387,-109.2267 887.6421,-104.0698 877.1912,-102.3296 878.387,-109.2267\"/>\n</g>\n</g>\n</svg>\n"
          },
          "metadata": {},
          "execution_count": 43
        }
      ]
    },
    {
      "cell_type": "markdown",
      "source": [
        "### Create a function `lol` \n",
        "> Derive with respect to `a`"
      ],
      "metadata": {
        "id": "su8HADCmwr5g"
      }
    },
    {
      "cell_type": "code",
      "source": [
        "def lol():\n",
        "  h = 0.0001\n",
        "\n",
        "  a = Value(2.0, label = 'a')\n",
        "  b = Value(-3.0, label='b')\n",
        "  c = Value(10, label = 'c')\n",
        "  e = a*b; e.label = 'e'\n",
        "  d = e + c; d.label = 'd'\n",
        "  f = Value(-2.0, label='f')\n",
        "  L = d * f; L.label = 'L'\n",
        "  L1 = L.data \n",
        "\n",
        "  a = Value(2.0 + h, label = 'a')\n",
        "  b = Value(-3.0, label='b')\n",
        "  c = Value(10, label = 'c')\n",
        "  e = a*b; e.label = 'e'\n",
        "  d = e + c; d.label = 'd'\n",
        "  f = Value(-2.0, label='f')\n",
        "  L = d * f; L.label = 'L'\n",
        "  L2 = L.data\n",
        "\n",
        "  print((L2 - L1) / h)\n",
        "\n",
        "lol()"
      ],
      "metadata": {
        "colab": {
          "base_uri": "https://localhost:8080/",
          "height": 33
        },
        "id": "Bj6G3Bv4vbAd",
        "outputId": "e24b61e1-2598-4047-e29a-0094d8f9f261"
      },
      "execution_count": 44,
      "outputs": [
        {
          "output_type": "display_data",
          "data": {
            "text/plain": [
              "\u001b[1;36m6.000000000021544\u001b[0m\n"
            ],
            "text/html": [
              "<pre style=\"white-space:pre;overflow-x:auto;line-height:normal;font-family:Menlo,'DejaVu Sans Mono',consolas,'Courier New',monospace\"><span style=\"color: #008080; text-decoration-color: #008080; font-weight: bold\">6.000000000021544</span>\n",
              "</pre>\n"
            ]
          },
          "metadata": {}
        }
      ]
    },
    {
      "cell_type": "markdown",
      "source": [
        "> Derive with respect to `L`"
      ],
      "metadata": {
        "id": "k0T7fhoLxQM1"
      }
    },
    {
      "cell_type": "code",
      "source": [
        "def lol():\n",
        "  h = 0.0001\n",
        "\n",
        "  a = Value(2.0, label = 'a')\n",
        "  b = Value(-3.0, label='b')\n",
        "  c = Value(10, label = 'c')\n",
        "  e = a*b; e.label = 'e'\n",
        "  d = e + c; d.label = 'd'\n",
        "  f = Value(-2.0, label='f')\n",
        "  L = d * f; L.label = 'L'\n",
        "  L1 = L.data \n",
        "\n",
        "  a = Value(2.0, label = 'a')\n",
        "  b = Value(-3.0, label='b')\n",
        "  c = Value(10, label = 'c')\n",
        "  e = a*b; e.label = 'e'\n",
        "  d = e + c; d.label = 'd'\n",
        "  f = Value(-2.0, label='f')\n",
        "  L = d * f; L.label = 'L'\n",
        "  L2 = L.data + h\n",
        "\n",
        "  print((L2 - L1) / h)\n",
        "\n",
        "lol()"
      ],
      "metadata": {
        "colab": {
          "base_uri": "https://localhost:8080/",
          "height": 33
        },
        "id": "vXdKSA7Uw2qj",
        "outputId": "29e909bf-2d0a-4365-dfec-8205d2cd2442"
      },
      "execution_count": 45,
      "outputs": [
        {
          "output_type": "display_data",
          "data": {
            "text/plain": [
              "\u001b[1;36m0.9999999999976694\u001b[0m\n"
            ],
            "text/html": [
              "<pre style=\"white-space:pre;overflow-x:auto;line-height:normal;font-family:Menlo,'DejaVu Sans Mono',consolas,'Courier New',monospace\"><span style=\"color: #008080; text-decoration-color: #008080; font-weight: bold\">0.9999999999976694</span>\n",
              "</pre>\n"
            ]
          },
          "metadata": {}
        }
      ]
    },
    {
      "cell_type": "markdown",
      "source": [
        "\n",
        "\n",
        "Derivative of `L` with respect to `f`\n",
        "\n",
        "L = f * d\n",
        "\n",
        "∂L/∂f = ∂(f*d)/∂f = d = 4.0\n",
        "\n",
        "f.grad = 4.0\n",
        "\n"
      ],
      "metadata": {
        "id": "-5r5Z2b2yPXU"
      }
    },
    {
      "cell_type": "markdown",
      "source": [
        "> Derivative with respect to `f`"
      ],
      "metadata": {
        "id": "1f9swiXy6on2"
      }
    },
    {
      "cell_type": "code",
      "source": [
        "def lol():\n",
        "  h = 0.001\n",
        "\n",
        "  a = Value(2.0, label = 'a')\n",
        "  b = Value(-3.0, label='b')\n",
        "  c = Value(10, label = 'c')\n",
        "  e = a*b; e.label = 'e'\n",
        "  d = e + c; d.label = 'd'\n",
        "  f = Value(-2.0, label='f')\n",
        "  L = d * f; L.label = 'L'\n",
        "  L1 = L.data \n",
        "\n",
        "  a = Value(2.0, label = 'a')\n",
        "  b = Value(-3.0, label='b')\n",
        "  c = Value(10, label = 'c')\n",
        "  e = a*b; e.label = 'e'\n",
        "  d = e + c; d.label = 'd'\n",
        "  f = Value(-2.0 + h, label='f')\n",
        "  L = d * f; L.label = 'L'\n",
        "  L2 = L.data\n",
        "\n",
        "  print((L2 - L1) / h)\n",
        "\n",
        "lol()"
      ],
      "metadata": {
        "id": "yCuuZlzkxUJL",
        "colab": {
          "base_uri": "https://localhost:8080/",
          "height": 33
        },
        "outputId": "d55af73a-1da8-4ce9-ddf4-76664a3ca883"
      },
      "execution_count": 52,
      "outputs": [
        {
          "output_type": "display_data",
          "data": {
            "text/plain": [
              "\u001b[1;36m3.9999999999995595\u001b[0m\n"
            ],
            "text/html": [
              "<pre style=\"white-space:pre;overflow-x:auto;line-height:normal;font-family:Menlo,'DejaVu Sans Mono',consolas,'Courier New',monospace\"><span style=\"color: #008080; text-decoration-color: #008080; font-weight: bold\">3.9999999999995595</span>\n",
              "</pre>\n"
            ]
          },
          "metadata": {}
        }
      ]
    },
    {
      "cell_type": "markdown",
      "source": [
        "close to 4"
      ],
      "metadata": {
        "id": "zAMJ4GZT7KIc"
      }
    },
    {
      "cell_type": "markdown",
      "source": [
        "\n",
        "Derivative of `L` with respect to `d`\n",
        "\n",
        "∂L/∂d = ∂(f*d)/∂d = f = -2.0\n",
        "\n",
        "d.grad = -2.0 \n"
      ],
      "metadata": {
        "id": "5dYuXpGkEweg"
      }
    },
    {
      "cell_type": "markdown",
      "source": [
        "> Derivative with respect to `d`"
      ],
      "metadata": {
        "id": "yVeK4v2P7Vrb"
      }
    },
    {
      "cell_type": "code",
      "source": [
        "def lol():\n",
        "  h = 0.001\n",
        "\n",
        "  a = Value(2.0, label = 'a')\n",
        "  b = Value(-3.0, label='b')\n",
        "  c = Value(10, label = 'c')\n",
        "  e = a*b; e.label = 'e'\n",
        "  d = e + c; d.label = 'd'\n",
        "  f = Value(-2.0, label='f')\n",
        "  L = d * f; L.label = 'L'\n",
        "  L1 = L.data \n",
        "\n",
        "  a = Value(2.0, label = 'a')\n",
        "  b = Value(-3.0, label='b')\n",
        "  c = Value(10, label = 'c')\n",
        "  e = a*b; e.label = 'e'\n",
        "  d = e + c; d.label = 'd'\n",
        "  d.data += h\n",
        "  f = Value(-2.0, label='f')\n",
        "  L = d * f; L.label = 'L'\n",
        "  L2 = L.data\n",
        "\n",
        "  print((L2 - L1) / h)\n",
        "\n",
        "lol()"
      ],
      "metadata": {
        "colab": {
          "base_uri": "https://localhost:8080/",
          "height": 33
        },
        "id": "UGbNtV767GT-",
        "outputId": "d8aba515-3045-42e5-e7f8-81ab7b01a295"
      },
      "execution_count": 51,
      "outputs": [
        {
          "output_type": "display_data",
          "data": {
            "text/plain": [
              "\u001b[1;36m-2.000000000000668\u001b[0m\n"
            ],
            "text/html": [
              "<pre style=\"white-space:pre;overflow-x:auto;line-height:normal;font-family:Menlo,'DejaVu Sans Mono',consolas,'Courier New',monospace\"><span style=\"color: #008080; text-decoration-color: #008080; font-weight: bold\">-2.000000000000668</span>\n",
              "</pre>\n"
            ]
          },
          "metadata": {}
        }
      ]
    },
    {
      "cell_type": "markdown",
      "source": [
        "~ -2"
      ],
      "metadata": {
        "id": "QK3S6fKX7wYO"
      }
    },
    {
      "cell_type": "markdown",
      "source": [
        "Derivative of `L` with respect to `c`\n",
        "\n",
        "∂d/∂c = ∂(c + e)/∂c = 1.0\n",
        "\n",
        "∂L/∂c = (∂L/∂d)(∂d/∂c) = f = -2.0"
      ],
      "metadata": {
        "id": "Xa2niyq38Y0Z"
      }
    },
    {
      "cell_type": "code",
      "source": [],
      "metadata": {
        "id": "IIFO4J0T7Uk8"
      },
      "execution_count": null,
      "outputs": []
    }
  ]
}