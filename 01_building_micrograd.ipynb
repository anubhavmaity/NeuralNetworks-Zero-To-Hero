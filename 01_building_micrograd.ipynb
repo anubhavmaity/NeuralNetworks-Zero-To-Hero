{
  "nbformat": 4,
  "nbformat_minor": 0,
  "metadata": {
    "colab": {
      "provenance": []
    },
    "kernelspec": {
      "name": "python3",
      "display_name": "Python 3"
    },
    "language_info": {
      "name": "python"
    }
  },
  "cells": [
    {
      "cell_type": "markdown",
      "source": [
        "Mircrograd from scratch\n",
        " - These notebooks/docs are created when going through the lessons of zero to hero taught by andrej karpathy"
      ],
      "metadata": {
        "id": "N9laEOCz4OyC"
      }
    },
    {
      "cell_type": "code",
      "source": [
        "!pip install rich"
      ],
      "metadata": {
        "colab": {
          "base_uri": "https://localhost:8080/"
        },
        "id": "x4VMX54QHZbl",
        "outputId": "9ab022d0-b46e-416d-f4d9-56ed9cc56aca"
      },
      "execution_count": 81,
      "outputs": [
        {
          "output_type": "stream",
          "name": "stdout",
          "text": [
            "Looking in indexes: https://pypi.org/simple, https://us-python.pkg.dev/colab-wheels/public/simple/\n",
            "Collecting rich\n",
            "  Downloading rich-12.6.0-py3-none-any.whl (237 kB)\n",
            "\u001b[K     |████████████████████████████████| 237 kB 6.8 MB/s \n",
            "\u001b[?25hRequirement already satisfied: typing-extensions<5.0,>=4.0.0 in /usr/local/lib/python3.7/dist-packages (from rich) (4.1.1)\n",
            "Requirement already satisfied: pygments<3.0.0,>=2.6.0 in /usr/local/lib/python3.7/dist-packages (from rich) (2.6.1)\n",
            "Collecting commonmark<0.10.0,>=0.9.0\n",
            "  Downloading commonmark-0.9.1-py2.py3-none-any.whl (51 kB)\n",
            "\u001b[K     |████████████████████████████████| 51 kB 7.1 MB/s \n",
            "\u001b[?25hInstalling collected packages: commonmark, rich\n",
            "Successfully installed commonmark-0.9.1 rich-12.6.0\n"
          ]
        }
      ]
    },
    {
      "cell_type": "code",
      "execution_count": 102,
      "metadata": {
        "id": "QtyRkpxZydQ1"
      },
      "outputs": [],
      "source": [
        "import math\n",
        "import numpy as np\n",
        "import matplotlib.pyplot as plt\n",
        "from rich import print\n",
        "from rich import pretty"
      ]
    },
    {
      "cell_type": "code",
      "source": [
        "pretty.install()"
      ],
      "metadata": {
        "id": "vU4wLs3cH3zo"
      },
      "execution_count": 103,
      "outputs": []
    },
    {
      "cell_type": "markdown",
      "source": [
        "## Single Variable: `x`"
      ],
      "metadata": {
        "id": "vNiBqy_g2fxd"
      }
    },
    {
      "cell_type": "markdown",
      "source": [
        "Create a function"
      ],
      "metadata": {
        "id": "XGea6iuS3jUP"
      }
    },
    {
      "cell_type": "code",
      "source": [
        "def f(x): return 3*x**2 - 4*x + 5"
      ],
      "metadata": {
        "id": "0stURwrlyplm"
      },
      "execution_count": 104,
      "outputs": []
    },
    {
      "cell_type": "code",
      "source": [
        "f(3.0)"
      ],
      "metadata": {
        "colab": {
          "base_uri": "https://localhost:8080/",
          "height": 33
        },
        "id": "1WpM5fsmy0Ur",
        "outputId": "44521473-c2c6-40d4-85e7-2ec1f7dd9507"
      },
      "execution_count": 105,
      "outputs": [
        {
          "output_type": "display_data",
          "data": {
            "text/plain": [
              "\u001b[1;36m20.0\u001b[0m\n"
            ],
            "text/html": [
              "<pre style=\"white-space:pre;overflow-x:auto;line-height:normal;font-family:Menlo,'DejaVu Sans Mono',consolas,'Courier New',monospace\"><span style=\"color: #008080; text-decoration-color: #008080; font-weight: bold\">20.0</span>\n",
              "</pre>\n"
            ]
          },
          "metadata": {}
        }
      ]
    },
    {
      "cell_type": "code",
      "source": [
        "xs = np.arange(-5, 5, 0.25)\n",
        "xs"
      ],
      "metadata": {
        "colab": {
          "base_uri": "https://localhost:8080/",
          "height": 97
        },
        "id": "62Yi8sYfy27U",
        "outputId": "d8eedc9a-2f30-4369-8cd7-f9f27bb17244"
      },
      "execution_count": 106,
      "outputs": [
        {
          "output_type": "display_data",
          "data": {
            "text/plain": [
              "\n",
              "\u001b[1;35marray\u001b[0m\u001b[1m(\u001b[0m\u001b[1m[\u001b[0m\u001b[1;36m-5\u001b[0m.  , \u001b[1;36m-4.75\u001b[0m, \u001b[1;36m-4.5\u001b[0m , \u001b[1;36m-4.25\u001b[0m, \u001b[1;36m-4\u001b[0m.  , \u001b[1;36m-3.75\u001b[0m, \u001b[1;36m-3.5\u001b[0m , \u001b[1;36m-3.25\u001b[0m, \u001b[1;36m-3\u001b[0m.  ,\n",
              "       \u001b[1;36m-2.75\u001b[0m, \u001b[1;36m-2.5\u001b[0m , \u001b[1;36m-2.25\u001b[0m, \u001b[1;36m-2\u001b[0m.  , \u001b[1;36m-1.75\u001b[0m, \u001b[1;36m-1.5\u001b[0m , \u001b[1;36m-1.25\u001b[0m, \u001b[1;36m-1\u001b[0m.  , \u001b[1;36m-0.75\u001b[0m,\n",
              "       \u001b[1;36m-0.5\u001b[0m , \u001b[1;36m-0.25\u001b[0m,  \u001b[1;36m0\u001b[0m.  ,  \u001b[1;36m0.25\u001b[0m,  \u001b[1;36m0.5\u001b[0m ,  \u001b[1;36m0.75\u001b[0m,  \u001b[1;36m1\u001b[0m.  ,  \u001b[1;36m1.25\u001b[0m,  \u001b[1;36m1.5\u001b[0m ,\n",
              "        \u001b[1;36m1.75\u001b[0m,  \u001b[1;36m2\u001b[0m.  ,  \u001b[1;36m2.25\u001b[0m,  \u001b[1;36m2.5\u001b[0m ,  \u001b[1;36m2.75\u001b[0m,  \u001b[1;36m3\u001b[0m.  ,  \u001b[1;36m3.25\u001b[0m,  \u001b[1;36m3.5\u001b[0m ,  \u001b[1;36m3.75\u001b[0m,\n",
              "        \u001b[1;36m4\u001b[0m.  ,  \u001b[1;36m4.25\u001b[0m,  \u001b[1;36m4.5\u001b[0m ,  \u001b[1;36m4.75\u001b[0m\u001b[1m]\u001b[0m\u001b[1m)\u001b[0m\n"
            ],
            "text/html": [
              "<pre style=\"white-space:pre;overflow-x:auto;line-height:normal;font-family:Menlo,'DejaVu Sans Mono',consolas,'Courier New',monospace\">\n",
              "<span style=\"color: #800080; text-decoration-color: #800080; font-weight: bold\">array</span><span style=\"font-weight: bold\">([</span><span style=\"color: #008080; text-decoration-color: #008080; font-weight: bold\">-5</span>.  , <span style=\"color: #008080; text-decoration-color: #008080; font-weight: bold\">-4.75</span>, <span style=\"color: #008080; text-decoration-color: #008080; font-weight: bold\">-4.5</span> , <span style=\"color: #008080; text-decoration-color: #008080; font-weight: bold\">-4.25</span>, <span style=\"color: #008080; text-decoration-color: #008080; font-weight: bold\">-4</span>.  , <span style=\"color: #008080; text-decoration-color: #008080; font-weight: bold\">-3.75</span>, <span style=\"color: #008080; text-decoration-color: #008080; font-weight: bold\">-3.5</span> , <span style=\"color: #008080; text-decoration-color: #008080; font-weight: bold\">-3.25</span>, <span style=\"color: #008080; text-decoration-color: #008080; font-weight: bold\">-3</span>.  ,\n",
              "       <span style=\"color: #008080; text-decoration-color: #008080; font-weight: bold\">-2.75</span>, <span style=\"color: #008080; text-decoration-color: #008080; font-weight: bold\">-2.5</span> , <span style=\"color: #008080; text-decoration-color: #008080; font-weight: bold\">-2.25</span>, <span style=\"color: #008080; text-decoration-color: #008080; font-weight: bold\">-2</span>.  , <span style=\"color: #008080; text-decoration-color: #008080; font-weight: bold\">-1.75</span>, <span style=\"color: #008080; text-decoration-color: #008080; font-weight: bold\">-1.5</span> , <span style=\"color: #008080; text-decoration-color: #008080; font-weight: bold\">-1.25</span>, <span style=\"color: #008080; text-decoration-color: #008080; font-weight: bold\">-1</span>.  , <span style=\"color: #008080; text-decoration-color: #008080; font-weight: bold\">-0.75</span>,\n",
              "       <span style=\"color: #008080; text-decoration-color: #008080; font-weight: bold\">-0.5</span> , <span style=\"color: #008080; text-decoration-color: #008080; font-weight: bold\">-0.25</span>,  <span style=\"color: #008080; text-decoration-color: #008080; font-weight: bold\">0</span>.  ,  <span style=\"color: #008080; text-decoration-color: #008080; font-weight: bold\">0.25</span>,  <span style=\"color: #008080; text-decoration-color: #008080; font-weight: bold\">0.5</span> ,  <span style=\"color: #008080; text-decoration-color: #008080; font-weight: bold\">0.75</span>,  <span style=\"color: #008080; text-decoration-color: #008080; font-weight: bold\">1</span>.  ,  <span style=\"color: #008080; text-decoration-color: #008080; font-weight: bold\">1.25</span>,  <span style=\"color: #008080; text-decoration-color: #008080; font-weight: bold\">1.5</span> ,\n",
              "        <span style=\"color: #008080; text-decoration-color: #008080; font-weight: bold\">1.75</span>,  <span style=\"color: #008080; text-decoration-color: #008080; font-weight: bold\">2</span>.  ,  <span style=\"color: #008080; text-decoration-color: #008080; font-weight: bold\">2.25</span>,  <span style=\"color: #008080; text-decoration-color: #008080; font-weight: bold\">2.5</span> ,  <span style=\"color: #008080; text-decoration-color: #008080; font-weight: bold\">2.75</span>,  <span style=\"color: #008080; text-decoration-color: #008080; font-weight: bold\">3</span>.  ,  <span style=\"color: #008080; text-decoration-color: #008080; font-weight: bold\">3.25</span>,  <span style=\"color: #008080; text-decoration-color: #008080; font-weight: bold\">3.5</span> ,  <span style=\"color: #008080; text-decoration-color: #008080; font-weight: bold\">3.75</span>,\n",
              "        <span style=\"color: #008080; text-decoration-color: #008080; font-weight: bold\">4</span>.  ,  <span style=\"color: #008080; text-decoration-color: #008080; font-weight: bold\">4.25</span>,  <span style=\"color: #008080; text-decoration-color: #008080; font-weight: bold\">4.5</span> ,  <span style=\"color: #008080; text-decoration-color: #008080; font-weight: bold\">4.75</span><span style=\"font-weight: bold\">])</span>\n",
              "</pre>\n"
            ]
          },
          "metadata": {}
        }
      ]
    },
    {
      "cell_type": "code",
      "source": [
        "ys = f(xs)\n",
        "ys"
      ],
      "metadata": {
        "colab": {
          "base_uri": "https://localhost:8080/",
          "height": 129
        },
        "id": "kh4eei6wy6t9",
        "outputId": "3d3ffb35-cef0-4f48-bf92-41c296599ff7"
      },
      "execution_count": 107,
      "outputs": [
        {
          "output_type": "display_data",
          "data": {
            "text/plain": [
              "\n",
              "\u001b[1;35marray\u001b[0m\u001b[1m(\u001b[0m\u001b[1m[\u001b[0m\u001b[1;36m100\u001b[0m.    ,  \u001b[1;36m91.6875\u001b[0m,  \u001b[1;36m83.75\u001b[0m  ,  \u001b[1;36m76.1875\u001b[0m,  \u001b[1;36m69\u001b[0m.    ,  \u001b[1;36m62.1875\u001b[0m,\n",
              "        \u001b[1;36m55.75\u001b[0m  ,  \u001b[1;36m49.6875\u001b[0m,  \u001b[1;36m44\u001b[0m.    ,  \u001b[1;36m38.6875\u001b[0m,  \u001b[1;36m33.75\u001b[0m  ,  \u001b[1;36m29.1875\u001b[0m,\n",
              "        \u001b[1;36m25\u001b[0m.    ,  \u001b[1;36m21.1875\u001b[0m,  \u001b[1;36m17.75\u001b[0m  ,  \u001b[1;36m14.6875\u001b[0m,  \u001b[1;36m12\u001b[0m.    ,   \u001b[1;36m9.6875\u001b[0m,\n",
              "         \u001b[1;36m7.75\u001b[0m  ,   \u001b[1;36m6.1875\u001b[0m,   \u001b[1;36m5\u001b[0m.    ,   \u001b[1;36m4.1875\u001b[0m,   \u001b[1;36m3.75\u001b[0m  ,   \u001b[1;36m3.6875\u001b[0m,\n",
              "         \u001b[1;36m4\u001b[0m.    ,   \u001b[1;36m4.6875\u001b[0m,   \u001b[1;36m5.75\u001b[0m  ,   \u001b[1;36m7.1875\u001b[0m,   \u001b[1;36m9\u001b[0m.    ,  \u001b[1;36m11.1875\u001b[0m,\n",
              "        \u001b[1;36m13.75\u001b[0m  ,  \u001b[1;36m16.6875\u001b[0m,  \u001b[1;36m20\u001b[0m.    ,  \u001b[1;36m23.6875\u001b[0m,  \u001b[1;36m27.75\u001b[0m  ,  \u001b[1;36m32.1875\u001b[0m,\n",
              "        \u001b[1;36m37\u001b[0m.    ,  \u001b[1;36m42.1875\u001b[0m,  \u001b[1;36m47.75\u001b[0m  ,  \u001b[1;36m53.6875\u001b[0m\u001b[1m]\u001b[0m\u001b[1m)\u001b[0m\n"
            ],
            "text/html": [
              "<pre style=\"white-space:pre;overflow-x:auto;line-height:normal;font-family:Menlo,'DejaVu Sans Mono',consolas,'Courier New',monospace\">\n",
              "<span style=\"color: #800080; text-decoration-color: #800080; font-weight: bold\">array</span><span style=\"font-weight: bold\">([</span><span style=\"color: #008080; text-decoration-color: #008080; font-weight: bold\">100</span>.    ,  <span style=\"color: #008080; text-decoration-color: #008080; font-weight: bold\">91.6875</span>,  <span style=\"color: #008080; text-decoration-color: #008080; font-weight: bold\">83.75</span>  ,  <span style=\"color: #008080; text-decoration-color: #008080; font-weight: bold\">76.1875</span>,  <span style=\"color: #008080; text-decoration-color: #008080; font-weight: bold\">69</span>.    ,  <span style=\"color: #008080; text-decoration-color: #008080; font-weight: bold\">62.1875</span>,\n",
              "        <span style=\"color: #008080; text-decoration-color: #008080; font-weight: bold\">55.75</span>  ,  <span style=\"color: #008080; text-decoration-color: #008080; font-weight: bold\">49.6875</span>,  <span style=\"color: #008080; text-decoration-color: #008080; font-weight: bold\">44</span>.    ,  <span style=\"color: #008080; text-decoration-color: #008080; font-weight: bold\">38.6875</span>,  <span style=\"color: #008080; text-decoration-color: #008080; font-weight: bold\">33.75</span>  ,  <span style=\"color: #008080; text-decoration-color: #008080; font-weight: bold\">29.1875</span>,\n",
              "        <span style=\"color: #008080; text-decoration-color: #008080; font-weight: bold\">25</span>.    ,  <span style=\"color: #008080; text-decoration-color: #008080; font-weight: bold\">21.1875</span>,  <span style=\"color: #008080; text-decoration-color: #008080; font-weight: bold\">17.75</span>  ,  <span style=\"color: #008080; text-decoration-color: #008080; font-weight: bold\">14.6875</span>,  <span style=\"color: #008080; text-decoration-color: #008080; font-weight: bold\">12</span>.    ,   <span style=\"color: #008080; text-decoration-color: #008080; font-weight: bold\">9.6875</span>,\n",
              "         <span style=\"color: #008080; text-decoration-color: #008080; font-weight: bold\">7.75</span>  ,   <span style=\"color: #008080; text-decoration-color: #008080; font-weight: bold\">6.1875</span>,   <span style=\"color: #008080; text-decoration-color: #008080; font-weight: bold\">5</span>.    ,   <span style=\"color: #008080; text-decoration-color: #008080; font-weight: bold\">4.1875</span>,   <span style=\"color: #008080; text-decoration-color: #008080; font-weight: bold\">3.75</span>  ,   <span style=\"color: #008080; text-decoration-color: #008080; font-weight: bold\">3.6875</span>,\n",
              "         <span style=\"color: #008080; text-decoration-color: #008080; font-weight: bold\">4</span>.    ,   <span style=\"color: #008080; text-decoration-color: #008080; font-weight: bold\">4.6875</span>,   <span style=\"color: #008080; text-decoration-color: #008080; font-weight: bold\">5.75</span>  ,   <span style=\"color: #008080; text-decoration-color: #008080; font-weight: bold\">7.1875</span>,   <span style=\"color: #008080; text-decoration-color: #008080; font-weight: bold\">9</span>.    ,  <span style=\"color: #008080; text-decoration-color: #008080; font-weight: bold\">11.1875</span>,\n",
              "        <span style=\"color: #008080; text-decoration-color: #008080; font-weight: bold\">13.75</span>  ,  <span style=\"color: #008080; text-decoration-color: #008080; font-weight: bold\">16.6875</span>,  <span style=\"color: #008080; text-decoration-color: #008080; font-weight: bold\">20</span>.    ,  <span style=\"color: #008080; text-decoration-color: #008080; font-weight: bold\">23.6875</span>,  <span style=\"color: #008080; text-decoration-color: #008080; font-weight: bold\">27.75</span>  ,  <span style=\"color: #008080; text-decoration-color: #008080; font-weight: bold\">32.1875</span>,\n",
              "        <span style=\"color: #008080; text-decoration-color: #008080; font-weight: bold\">37</span>.    ,  <span style=\"color: #008080; text-decoration-color: #008080; font-weight: bold\">42.1875</span>,  <span style=\"color: #008080; text-decoration-color: #008080; font-weight: bold\">47.75</span>  ,  <span style=\"color: #008080; text-decoration-color: #008080; font-weight: bold\">53.6875</span><span style=\"font-weight: bold\">])</span>\n",
              "</pre>\n"
            ]
          },
          "metadata": {}
        }
      ]
    },
    {
      "cell_type": "markdown",
      "source": [
        "Plot the function"
      ],
      "metadata": {
        "id": "HFXwdYWk3nF4"
      }
    },
    {
      "cell_type": "code",
      "source": [
        "plt.plot(xs, ys)"
      ],
      "metadata": {
        "colab": {
          "base_uri": "https://localhost:8080/",
          "height": 281
        },
        "id": "AolAqoW0y--X",
        "outputId": "3c3e07a0-1c13-4c41-f705-2e223dabc245"
      },
      "execution_count": 108,
      "outputs": [
        {
          "output_type": "display_data",
          "data": {
            "text/plain": [
              "\u001b[1m[\u001b[0m\u001b[1m<\u001b[0m\u001b[1;95mmatplotlib.lines.Line2D\u001b[0m\u001b[39m object at \u001b[0m\u001b[1;36m0x7f196a78c7d0\u001b[0m\u001b[1m>\u001b[0m\u001b[1m]\u001b[0m\n"
            ],
            "text/html": [
              "<pre style=\"white-space:pre;overflow-x:auto;line-height:normal;font-family:Menlo,'DejaVu Sans Mono',consolas,'Courier New',monospace\"><span style=\"font-weight: bold\">[&lt;</span><span style=\"color: #ff00ff; text-decoration-color: #ff00ff; font-weight: bold\">matplotlib.lines.Line2D</span><span style=\"color: #000000; text-decoration-color: #000000\"> object at </span><span style=\"color: #008080; text-decoration-color: #008080; font-weight: bold\">0x7f196a78c7d0</span><span style=\"font-weight: bold\">&gt;]</span>\n",
              "</pre>\n"
            ]
          },
          "metadata": {}
        },
        {
          "output_type": "display_data",
          "data": {
            "image/png": "[encoded data removed]"
          },
          "metadata": {
            "needs_background": "light"
          }
        }
      ]
    },
    {
      "cell_type": "markdown",
      "source": [
        "### Derivative on increasing side of the curve"
      ],
      "metadata": {
        "id": "u4aiv5Cw2mYm"
      }
    },
    {
      "cell_type": "code",
      "source": [
        "h = 0.0000000001\n",
        "x = 3.0\n",
        "(f(x + h) - f(x))/h"
      ],
      "metadata": {
        "colab": {
          "base_uri": "https://localhost:8080/",
          "height": 33
        },
        "id": "9SSodN7CzCHd",
        "outputId": "3d1d5e95-5c14-41e9-dffc-a3e6cd0237d4"
      },
      "execution_count": 109,
      "outputs": [
        {
          "output_type": "display_data",
          "data": {
            "text/plain": [
              "\u001b[1;36m14.000001158365194\u001b[0m\n"
            ],
            "text/html": [
              "<pre style=\"white-space:pre;overflow-x:auto;line-height:normal;font-family:Menlo,'DejaVu Sans Mono',consolas,'Courier New',monospace\"><span style=\"color: #008080; text-decoration-color: #008080; font-weight: bold\">14.000001158365194</span>\n",
              "</pre>\n"
            ]
          },
          "metadata": {}
        }
      ]
    },
    {
      "cell_type": "markdown",
      "source": [
        "### Derivative on the decreasing side of the curve"
      ],
      "metadata": {
        "id": "1dqCaIOb2vUg"
      }
    },
    {
      "cell_type": "code",
      "source": [
        "h = 0.0000000001\n",
        "x = -3.0\n",
        "(f(x + h) - f(x))/h"
      ],
      "metadata": {
        "colab": {
          "base_uri": "https://localhost:8080/",
          "height": 33
        },
        "id": "v80Ukqunzi1A",
        "outputId": "7fa76095-c8ca-4dfd-e90a-0438ecee763b"
      },
      "execution_count": 110,
      "outputs": [
        {
          "output_type": "display_data",
          "data": {
            "text/plain": [
              "\u001b[1;36m-21.999966293151374\u001b[0m\n"
            ],
            "text/html": [
              "<pre style=\"white-space:pre;overflow-x:auto;line-height:normal;font-family:Menlo,'DejaVu Sans Mono',consolas,'Courier New',monospace\"><span style=\"color: #008080; text-decoration-color: #008080; font-weight: bold\">-21.999966293151374</span>\n",
              "</pre>\n"
            ]
          },
          "metadata": {}
        }
      ]
    },
    {
      "cell_type": "markdown",
      "source": [
        "### Derivative on the bottom of the curve"
      ],
      "metadata": {
        "id": "9DIBJz3D2zeK"
      }
    },
    {
      "cell_type": "code",
      "source": [
        "h = 0.0000000001\n",
        "x = 2/3\n",
        "(f(x + h) - f(x))/h"
      ],
      "metadata": {
        "colab": {
          "base_uri": "https://localhost:8080/",
          "height": 33
        },
        "id": "VeHZDpT90ccz",
        "outputId": "eb64345c-73d0-4936-bd4f-29a068dee855"
      },
      "execution_count": 111,
      "outputs": [
        {
          "output_type": "display_data",
          "data": {
            "text/plain": [
              "\u001b[1;36m0.0\u001b[0m\n"
            ],
            "text/html": [
              "<pre style=\"white-space:pre;overflow-x:auto;line-height:normal;font-family:Menlo,'DejaVu Sans Mono',consolas,'Courier New',monospace\"><span style=\"color: #008080; text-decoration-color: #008080; font-weight: bold\">0.0</span>\n",
              "</pre>\n"
            ]
          },
          "metadata": {}
        }
      ]
    },
    {
      "cell_type": "markdown",
      "source": [
        "## Multivariable: `a`, `b`, `c` "
      ],
      "metadata": {
        "id": "O5Xg6kxM3DUP"
      }
    },
    {
      "cell_type": "code",
      "source": [
        "a = 2.0\n",
        "b = -3.0\n",
        "c = 10.0\n",
        "def d(a, b, c): return a*b + c\n",
        "print(d(a, b, c))"
      ],
      "metadata": {
        "colab": {
          "base_uri": "https://localhost:8080/",
          "height": 33
        },
        "id": "xLBxj2ey0oJm",
        "outputId": "2ffc5446-e573-4f98-e7fd-36f2be499667"
      },
      "execution_count": 112,
      "outputs": [
        {
          "output_type": "display_data",
          "data": {
            "text/plain": [
              "\u001b[1;36m4.0\u001b[0m\n"
            ],
            "text/html": [
              "<pre style=\"white-space:pre;overflow-x:auto;line-height:normal;font-family:Menlo,'DejaVu Sans Mono',consolas,'Courier New',monospace\"><span style=\"color: #008080; text-decoration-color: #008080; font-weight: bold\">4.0</span>\n",
              "</pre>\n"
            ]
          },
          "metadata": {}
        }
      ]
    },
    {
      "cell_type": "markdown",
      "source": [
        "### Derivative with respect to `a`"
      ],
      "metadata": {
        "id": "O48XXrEL3OvP"
      }
    },
    {
      "cell_type": "code",
      "source": [
        "h = 0.0001\n",
        "\n",
        "a = 2.0\n",
        "b = -3.0\n",
        "c = 10.0\n",
        "\n",
        "d1 = d(a, b, c)\n",
        "\n",
        "a += h\n",
        "d2 = d(a, b, c)\n",
        "\n",
        "\n",
        "print('d1', d1)\n",
        "print('d2', d2)\n",
        "print('slope', (d2 - d1)/h)"
      ],
      "metadata": {
        "colab": {
          "base_uri": "https://localhost:8080/",
          "height": 65
        },
        "id": "EHP6SNSO0vVz",
        "outputId": "542e7ec9-c6ee-479a-baa2-5088db678a47"
      },
      "execution_count": 113,
      "outputs": [
        {
          "output_type": "display_data",
          "data": {
            "text/plain": [
              "d1 \u001b[1;36m4.0\u001b[0m\n"
            ],
            "text/html": [
              "<pre style=\"white-space:pre;overflow-x:auto;line-height:normal;font-family:Menlo,'DejaVu Sans Mono',consolas,'Courier New',monospace\">d1 <span style=\"color: #008080; text-decoration-color: #008080; font-weight: bold\">4.0</span>\n",
              "</pre>\n"
            ]
          },
          "metadata": {}
        },
        {
          "output_type": "display_data",
          "data": {
            "text/plain": [
              "d2 \u001b[1;36m3.999699999999999\u001b[0m\n"
            ],
            "text/html": [
              "<pre style=\"white-space:pre;overflow-x:auto;line-height:normal;font-family:Menlo,'DejaVu Sans Mono',consolas,'Courier New',monospace\">d2 <span style=\"color: #008080; text-decoration-color: #008080; font-weight: bold\">3.999699999999999</span>\n",
              "</pre>\n"
            ]
          },
          "metadata": {}
        },
        {
          "output_type": "display_data",
          "data": {
            "text/plain": [
              "slope \u001b[1;36m-3.000000000010772\u001b[0m\n"
            ],
            "text/html": [
              "<pre style=\"white-space:pre;overflow-x:auto;line-height:normal;font-family:Menlo,'DejaVu Sans Mono',consolas,'Courier New',monospace\">slope <span style=\"color: #008080; text-decoration-color: #008080; font-weight: bold\">-3.000000000010772</span>\n",
              "</pre>\n"
            ]
          },
          "metadata": {}
        }
      ]
    },
    {
      "cell_type": "markdown",
      "source": [
        "### Derivative with respect to `b` "
      ],
      "metadata": {
        "id": "ZbVOSLZ635U2"
      }
    },
    {
      "cell_type": "code",
      "source": [
        "h = 0.0001\n",
        "\n",
        "a = 2.0\n",
        "b = -3.0\n",
        "c = 10.0\n",
        "\n",
        "d1 = d(a, b, c)\n",
        "\n",
        "b += h\n",
        "d2 = d(a, b, c)\n",
        "\n",
        "\n",
        "print('d1', d1)\n",
        "print('d2', d2)\n",
        "print('slope', (d2 - d1)/h)"
      ],
      "metadata": {
        "colab": {
          "base_uri": "https://localhost:8080/",
          "height": 65
        },
        "id": "akPYsIBd33pX",
        "outputId": "456efc6e-0614-4d16-b1ce-68c7c5657671"
      },
      "execution_count": 114,
      "outputs": [
        {
          "output_type": "display_data",
          "data": {
            "text/plain": [
              "d1 \u001b[1;36m4.0\u001b[0m\n"
            ],
            "text/html": [
              "<pre style=\"white-space:pre;overflow-x:auto;line-height:normal;font-family:Menlo,'DejaVu Sans Mono',consolas,'Courier New',monospace\">d1 <span style=\"color: #008080; text-decoration-color: #008080; font-weight: bold\">4.0</span>\n",
              "</pre>\n"
            ]
          },
          "metadata": {}
        },
        {
          "output_type": "display_data",
          "data": {
            "text/plain": [
              "d2 \u001b[1;36m4.0002\u001b[0m\n"
            ],
            "text/html": [
              "<pre style=\"white-space:pre;overflow-x:auto;line-height:normal;font-family:Menlo,'DejaVu Sans Mono',consolas,'Courier New',monospace\">d2 <span style=\"color: #008080; text-decoration-color: #008080; font-weight: bold\">4.0002</span>\n",
              "</pre>\n"
            ]
          },
          "metadata": {}
        },
        {
          "output_type": "display_data",
          "data": {
            "text/plain": [
              "slope \u001b[1;36m2.0000000000042206\u001b[0m\n"
            ],
            "text/html": [
              "<pre style=\"white-space:pre;overflow-x:auto;line-height:normal;font-family:Menlo,'DejaVu Sans Mono',consolas,'Courier New',monospace\">slope <span style=\"color: #008080; text-decoration-color: #008080; font-weight: bold\">2.0000000000042206</span>\n",
              "</pre>\n"
            ]
          },
          "metadata": {}
        }
      ]
    },
    {
      "cell_type": "markdown",
      "source": [
        "### Derivative with respect to `c`"
      ],
      "metadata": {
        "id": "SXWVXKAD4N3t"
      }
    },
    {
      "cell_type": "code",
      "source": [
        "h = 0.0001\n",
        "\n",
        "a = 2.0\n",
        "b = -3.0\n",
        "c = 10.0\n",
        "\n",
        "d1 = d(a, b, c)\n",
        "\n",
        "c += h\n",
        "d2 = d(a, b, c)\n",
        "\n",
        "\n",
        "print('d1', d1)\n",
        "print('d2', d2)\n",
        "print('slope', (d2 - d1)/h)"
      ],
      "metadata": {
        "colab": {
          "base_uri": "https://localhost:8080/",
          "height": 65
        },
        "id": "u6jDJxIJ6-yM",
        "outputId": "657bcac4-a3be-45f7-a485-8f46216d62af"
      },
      "execution_count": 115,
      "outputs": [
        {
          "output_type": "display_data",
          "data": {
            "text/plain": [
              "d1 \u001b[1;36m4.0\u001b[0m\n"
            ],
            "text/html": [
              "<pre style=\"white-space:pre;overflow-x:auto;line-height:normal;font-family:Menlo,'DejaVu Sans Mono',consolas,'Courier New',monospace\">d1 <span style=\"color: #008080; text-decoration-color: #008080; font-weight: bold\">4.0</span>\n",
              "</pre>\n"
            ]
          },
          "metadata": {}
        },
        {
          "output_type": "display_data",
          "data": {
            "text/plain": [
              "d2 \u001b[1;36m4.0001\u001b[0m\n"
            ],
            "text/html": [
              "<pre style=\"white-space:pre;overflow-x:auto;line-height:normal;font-family:Menlo,'DejaVu Sans Mono',consolas,'Courier New',monospace\">d2 <span style=\"color: #008080; text-decoration-color: #008080; font-weight: bold\">4.0001</span>\n",
              "</pre>\n"
            ]
          },
          "metadata": {}
        },
        {
          "output_type": "display_data",
          "data": {
            "text/plain": [
              "slope \u001b[1;36m0.9999999999976694\u001b[0m\n"
            ],
            "text/html": [
              "<pre style=\"white-space:pre;overflow-x:auto;line-height:normal;font-family:Menlo,'DejaVu Sans Mono',consolas,'Courier New',monospace\">slope <span style=\"color: #008080; text-decoration-color: #008080; font-weight: bold\">0.9999999999976694</span>\n",
              "</pre>\n"
            ]
          },
          "metadata": {}
        }
      ]
    },
    {
      "cell_type": "markdown",
      "source": [
        "## Create Value Object\n",
        "(mentioned in the README of [micrograd](https://github.com/karpathy/micrograd) )"
      ],
      "metadata": {
        "id": "pq0dRG2b7l7q"
      }
    },
    {
      "cell_type": "markdown",
      "source": [
        "### Define intial template of Value Class"
      ],
      "metadata": {
        "id": "RzxhYM5qI6WV"
      }
    },
    {
      "cell_type": "code",
      "source": [
        "class Value:\n",
        "  def __init__(self, data):\n",
        "    self.data = data\n",
        "\n",
        "  def __repr__(self):\n",
        "    return f\"Value(data={self.data})\""
      ],
      "metadata": {
        "id": "t3XzdeRD87Vw"
      },
      "execution_count": 139,
      "outputs": []
    },
    {
      "cell_type": "code",
      "source": [
        "a = Value(2.0)\n",
        "b = Value(-3.0)\n",
        "a, b"
      ],
      "metadata": {
        "colab": {
          "base_uri": "https://localhost:8080/",
          "height": 33
        },
        "id": "qVV989y0-HFj",
        "outputId": "33ebcf0e-b5ac-4d56-8152-a984b44302e0"
      },
      "execution_count": 140,
      "outputs": [
        {
          "output_type": "display_data",
          "data": {
            "text/plain": [
              "\u001b[1m(\u001b[0m\u001b[1;35mValue\u001b[0m\u001b[1m(\u001b[0m\u001b[33mdata\u001b[0m=\u001b[1;36m2\u001b[0m\u001b[1;36m.0\u001b[0m\u001b[1m)\u001b[0m, \u001b[1;35mValue\u001b[0m\u001b[1m(\u001b[0m\u001b[33mdata\u001b[0m=\u001b[1;36m-3.0\u001b[0m\u001b[1m)\u001b[0m\u001b[1m)\u001b[0m\n"
            ],
            "text/html": [
              "<pre style=\"white-space:pre;overflow-x:auto;line-height:normal;font-family:Menlo,'DejaVu Sans Mono',consolas,'Courier New',monospace\"><span style=\"font-weight: bold\">(</span><span style=\"color: #800080; text-decoration-color: #800080; font-weight: bold\">Value</span><span style=\"font-weight: bold\">(</span><span style=\"color: #808000; text-decoration-color: #808000\">data</span>=<span style=\"color: #008080; text-decoration-color: #008080; font-weight: bold\">2.0</span><span style=\"font-weight: bold\">)</span>, <span style=\"color: #800080; text-decoration-color: #800080; font-weight: bold\">Value</span><span style=\"font-weight: bold\">(</span><span style=\"color: #808000; text-decoration-color: #808000\">data</span>=<span style=\"color: #008080; text-decoration-color: #008080; font-weight: bold\">-3.0</span><span style=\"font-weight: bold\">))</span>\n",
              "</pre>\n"
            ]
          },
          "metadata": {}
        }
      ]
    },
    {
      "cell_type": "markdown",
      "source": [
        "### Add the `add` function"
      ],
      "metadata": {
        "id": "yasPXptyIScI"
      }
    },
    {
      "cell_type": "code",
      "source": [
        "class Value:\n",
        "  def __init__(self, data):\n",
        "    self.data = data\n",
        "  \n",
        "  def __repr__(self):\n",
        "    return f\"Value(data={self.data})\"\n",
        "\n",
        "  def __add__(self, other): # ⭠ for adding among the value objects\n",
        "    return Value(self.data + other.data)"
      ],
      "metadata": {
        "id": "KySm598gIGEs"
      },
      "execution_count": 141,
      "outputs": []
    },
    {
      "cell_type": "code",
      "source": [
        "a = Value(2.0)\n",
        "b = Value(-3.0)\n",
        "a, b"
      ],
      "metadata": {
        "colab": {
          "base_uri": "https://localhost:8080/",
          "height": 33
        },
        "id": "rAsmlTB8Ik7M",
        "outputId": "c2f5e65a-8fff-423d-e999-0f22a41c90b7"
      },
      "execution_count": 142,
      "outputs": [
        {
          "output_type": "display_data",
          "data": {
            "text/plain": [
              "\u001b[1m(\u001b[0m\u001b[1;35mValue\u001b[0m\u001b[1m(\u001b[0m\u001b[33mdata\u001b[0m=\u001b[1;36m2\u001b[0m\u001b[1;36m.0\u001b[0m\u001b[1m)\u001b[0m, \u001b[1;35mValue\u001b[0m\u001b[1m(\u001b[0m\u001b[33mdata\u001b[0m=\u001b[1;36m-3.0\u001b[0m\u001b[1m)\u001b[0m\u001b[1m)\u001b[0m\n"
            ],
            "text/html": [
              "<pre style=\"white-space:pre;overflow-x:auto;line-height:normal;font-family:Menlo,'DejaVu Sans Mono',consolas,'Courier New',monospace\"><span style=\"font-weight: bold\">(</span><span style=\"color: #800080; text-decoration-color: #800080; font-weight: bold\">Value</span><span style=\"font-weight: bold\">(</span><span style=\"color: #808000; text-decoration-color: #808000\">data</span>=<span style=\"color: #008080; text-decoration-color: #008080; font-weight: bold\">2.0</span><span style=\"font-weight: bold\">)</span>, <span style=\"color: #800080; text-decoration-color: #800080; font-weight: bold\">Value</span><span style=\"font-weight: bold\">(</span><span style=\"color: #808000; text-decoration-color: #808000\">data</span>=<span style=\"color: #008080; text-decoration-color: #008080; font-weight: bold\">-3.0</span><span style=\"font-weight: bold\">))</span>\n",
              "</pre>\n"
            ]
          },
          "metadata": {}
        }
      ]
    },
    {
      "cell_type": "code",
      "source": [
        "a + b # a.__add__(b)"
      ],
      "metadata": {
        "colab": {
          "base_uri": "https://localhost:8080/",
          "height": 33
        },
        "id": "YkSDW92d-Noy",
        "outputId": "6b658d5e-ed59-43ee-9053-deae3e660bbf"
      },
      "execution_count": 143,
      "outputs": [
        {
          "output_type": "display_data",
          "data": {
            "text/plain": [
              "\u001b[1;35mValue\u001b[0m\u001b[1m(\u001b[0m\u001b[33mdata\u001b[0m=\u001b[1;36m-1.0\u001b[0m\u001b[1m)\u001b[0m\n"
            ],
            "text/html": [
              "<pre style=\"white-space:pre;overflow-x:auto;line-height:normal;font-family:Menlo,'DejaVu Sans Mono',consolas,'Courier New',monospace\"><span style=\"color: #800080; text-decoration-color: #800080; font-weight: bold\">Value</span><span style=\"font-weight: bold\">(</span><span style=\"color: #808000; text-decoration-color: #808000\">data</span>=<span style=\"color: #008080; text-decoration-color: #008080; font-weight: bold\">-1.0</span><span style=\"font-weight: bold\">)</span>\n",
              "</pre>\n"
            ]
          },
          "metadata": {}
        }
      ]
    },
    {
      "cell_type": "markdown",
      "source": [
        "### Add the `mul` function"
      ],
      "metadata": {
        "id": "pYhgJ8LOIuHx"
      }
    },
    {
      "cell_type": "code",
      "source": [
        "class Value:\n",
        "  def __init__(self, data):\n",
        "    self.data = data\n",
        "  \n",
        "  def __repr__(self):\n",
        "    return f\"Value(data={self.data})\"\n",
        "\n",
        "  def __add__(self, other):\n",
        "    return Value(self.data + other.data)\n",
        "  \n",
        "  def __mul__(self, other): # ⭠ for multiplying among the value objects\n",
        "    return Value(self.data * other.data)"
      ],
      "metadata": {
        "id": "6vOvrVqWI1l7"
      },
      "execution_count": 144,
      "outputs": []
    },
    {
      "cell_type": "code",
      "source": [
        "a = Value(2.0)\n",
        "b = Value(-3.0)\n",
        "a, b"
      ],
      "metadata": {
        "colab": {
          "base_uri": "https://localhost:8080/",
          "height": 33
        },
        "id": "3nUfmbxNJJES",
        "outputId": "466fefab-3cb8-4ee7-a427-3ef7d94a58b9"
      },
      "execution_count": 145,
      "outputs": [
        {
          "output_type": "display_data",
          "data": {
            "text/plain": [
              "\u001b[1m(\u001b[0m\u001b[1;35mValue\u001b[0m\u001b[1m(\u001b[0m\u001b[33mdata\u001b[0m=\u001b[1;36m2\u001b[0m\u001b[1;36m.0\u001b[0m\u001b[1m)\u001b[0m, \u001b[1;35mValue\u001b[0m\u001b[1m(\u001b[0m\u001b[33mdata\u001b[0m=\u001b[1;36m-3.0\u001b[0m\u001b[1m)\u001b[0m\u001b[1m)\u001b[0m\n"
            ],
            "text/html": [
              "<pre style=\"white-space:pre;overflow-x:auto;line-height:normal;font-family:Menlo,'DejaVu Sans Mono',consolas,'Courier New',monospace\"><span style=\"font-weight: bold\">(</span><span style=\"color: #800080; text-decoration-color: #800080; font-weight: bold\">Value</span><span style=\"font-weight: bold\">(</span><span style=\"color: #808000; text-decoration-color: #808000\">data</span>=<span style=\"color: #008080; text-decoration-color: #008080; font-weight: bold\">2.0</span><span style=\"font-weight: bold\">)</span>, <span style=\"color: #800080; text-decoration-color: #800080; font-weight: bold\">Value</span><span style=\"font-weight: bold\">(</span><span style=\"color: #808000; text-decoration-color: #808000\">data</span>=<span style=\"color: #008080; text-decoration-color: #008080; font-weight: bold\">-3.0</span><span style=\"font-weight: bold\">))</span>\n",
              "</pre>\n"
            ]
          },
          "metadata": {}
        }
      ]
    },
    {
      "cell_type": "code",
      "source": [
        "a * b # a.__mul__(b)"
      ],
      "metadata": {
        "colab": {
          "base_uri": "https://localhost:8080/",
          "height": 33
        },
        "id": "g16lyq8t-jVy",
        "outputId": "a5816538-cc1f-405e-d1c0-a0b756ba90d5"
      },
      "execution_count": 146,
      "outputs": [
        {
          "output_type": "display_data",
          "data": {
            "text/plain": [
              "\u001b[1;35mValue\u001b[0m\u001b[1m(\u001b[0m\u001b[33mdata\u001b[0m=\u001b[1;36m-6.0\u001b[0m\u001b[1m)\u001b[0m\n"
            ],
            "text/html": [
              "<pre style=\"white-space:pre;overflow-x:auto;line-height:normal;font-family:Menlo,'DejaVu Sans Mono',consolas,'Courier New',monospace\"><span style=\"color: #800080; text-decoration-color: #800080; font-weight: bold\">Value</span><span style=\"font-weight: bold\">(</span><span style=\"color: #808000; text-decoration-color: #808000\">data</span>=<span style=\"color: #008080; text-decoration-color: #008080; font-weight: bold\">-6.0</span><span style=\"font-weight: bold\">)</span>\n",
              "</pre>\n"
            ]
          },
          "metadata": {}
        }
      ]
    },
    {
      "cell_type": "code",
      "source": [
        "c = Value(10.0)"
      ],
      "metadata": {
        "id": "xFdqoyLM_oda"
      },
      "execution_count": 147,
      "outputs": []
    },
    {
      "cell_type": "code",
      "source": [
        "d = a * b + c; d"
      ],
      "metadata": {
        "colab": {
          "base_uri": "https://localhost:8080/",
          "height": 33
        },
        "id": "-6PC2plt_M6G",
        "outputId": "4b180a1c-3f0b-4022-ada7-cdd5301afda8"
      },
      "execution_count": 148,
      "outputs": [
        {
          "output_type": "display_data",
          "data": {
            "text/plain": [
              "\u001b[1;35mValue\u001b[0m\u001b[1m(\u001b[0m\u001b[33mdata\u001b[0m=\u001b[1;36m4\u001b[0m\u001b[1;36m.0\u001b[0m\u001b[1m)\u001b[0m\n"
            ],
            "text/html": [
              "<pre style=\"white-space:pre;overflow-x:auto;line-height:normal;font-family:Menlo,'DejaVu Sans Mono',consolas,'Courier New',monospace\"><span style=\"color: #800080; text-decoration-color: #800080; font-weight: bold\">Value</span><span style=\"font-weight: bold\">(</span><span style=\"color: #808000; text-decoration-color: #808000\">data</span>=<span style=\"color: #008080; text-decoration-color: #008080; font-weight: bold\">4.0</span><span style=\"font-weight: bold\">)</span>\n",
              "</pre>\n"
            ]
          },
          "metadata": {}
        }
      ]
    },
    {
      "cell_type": "markdown",
      "source": [
        "### Add the functionality to know what values created a value with `_children`"
      ],
      "metadata": {
        "id": "hGpPMaTsJXkv"
      }
    },
    {
      "cell_type": "code",
      "source": [
        "class Value:\n",
        "  def __init__(self, data, _children=()): # ⭠ Add _children\n",
        "    self.data = data\n",
        "    self._prev = set(_children) # ⭠ Add _children\n",
        "  \n",
        "  def __repr__(self):\n",
        "    return f\"Value(data ={self.data})\"\n",
        "  \n",
        "  def __add__(self, other):\n",
        "    return Value(self.data + other.data, (self, other))\n",
        "  \n",
        "  def __mul__(self, other):\n",
        "    return Value(self.data * other.data, (self, other))"
      ],
      "metadata": {
        "id": "F54ZI2wNJ6V9"
      },
      "execution_count": 155,
      "outputs": []
    },
    {
      "cell_type": "code",
      "source": [
        "a = Value(2.0)\n",
        "b = Value(-3.0)\n",
        "c = Value(10.0)\n",
        "d = a*b + c\n",
        "d"
      ],
      "metadata": {
        "colab": {
          "base_uri": "https://localhost:8080/",
          "height": 33
        },
        "id": "QoabOpIVS2Eq",
        "outputId": "fecacf62-7ee7-4109-b1e1-f20346661afe"
      },
      "execution_count": 156,
      "outputs": [
        {
          "output_type": "display_data",
          "data": {
            "text/plain": [
              "\u001b[1;35mValue\u001b[0m\u001b[1m(\u001b[0mdata =\u001b[1;36m4.0\u001b[0m\u001b[1m)\u001b[0m\n"
            ],
            "text/html": [
              "<pre style=\"white-space:pre;overflow-x:auto;line-height:normal;font-family:Menlo,'DejaVu Sans Mono',consolas,'Courier New',monospace\"><span style=\"color: #800080; text-decoration-color: #800080; font-weight: bold\">Value</span><span style=\"font-weight: bold\">(</span>data =<span style=\"color: #008080; text-decoration-color: #008080; font-weight: bold\">4.0</span><span style=\"font-weight: bold\">)</span>\n",
              "</pre>\n"
            ]
          },
          "metadata": {}
        }
      ]
    },
    {
      "cell_type": "code",
      "source": [
        "d._prev # childrens are -6.0 (a *b) and 10.0 (c)"
      ],
      "metadata": {
        "colab": {
          "base_uri": "https://localhost:8080/",
          "height": 33
        },
        "id": "qrMvXBqp_i5G",
        "outputId": "24e1290a-2594-44b7-eed8-e7a56b44c884"
      },
      "execution_count": 157,
      "outputs": [
        {
          "output_type": "display_data",
          "data": {
            "text/plain": [
              "\u001b[1m{\u001b[0m\u001b[1;35mValue\u001b[0m\u001b[1m(\u001b[0mdata =\u001b[1;36m10.0\u001b[0m\u001b[1m)\u001b[0m, \u001b[1;35mValue\u001b[0m\u001b[1m(\u001b[0mdata =\u001b[1;36m-6.0\u001b[0m\u001b[1m)\u001b[0m\u001b[1m}\u001b[0m\n"
            ],
            "text/html": [
              "<pre style=\"white-space:pre;overflow-x:auto;line-height:normal;font-family:Menlo,'DejaVu Sans Mono',consolas,'Courier New',monospace\"><span style=\"font-weight: bold\">{</span><span style=\"color: #800080; text-decoration-color: #800080; font-weight: bold\">Value</span><span style=\"font-weight: bold\">(</span>data =<span style=\"color: #008080; text-decoration-color: #008080; font-weight: bold\">10.0</span><span style=\"font-weight: bold\">)</span>, <span style=\"color: #800080; text-decoration-color: #800080; font-weight: bold\">Value</span><span style=\"font-weight: bold\">(</span>data =<span style=\"color: #008080; text-decoration-color: #008080; font-weight: bold\">-6.0</span><span style=\"font-weight: bold\">)}</span>\n",
              "</pre>\n"
            ]
          },
          "metadata": {}
        }
      ]
    },
    {
      "cell_type": "markdown",
      "source": [
        "### Add the functionality to know what operations created a value with `_op`"
      ],
      "metadata": {
        "id": "sFqR0gkPTfMP"
      }
    },
    {
      "cell_type": "code",
      "source": [
        "class Value:\n",
        "  def __init__(self, data, _children=(), _op=''): # ⭠ Add _op\n",
        "    self.data = data\n",
        "    self._prev = set(_children)\n",
        "    self._op = _op # ⭠ Add _op\n",
        "  \n",
        "  def __repr__(self):\n",
        "    return f\"Value(data={self.data})\"\n",
        "  \n",
        "  def __add__(self, other):\n",
        "    return Value(self.data + other.data, (self, other), '+')\n",
        "  \n",
        "  def __mul__(self, other):\n",
        "    return Value(self.data * other.data, (self, other), '*')"
      ],
      "metadata": {
        "id": "6PxlDTkLHJrd"
      },
      "execution_count": 188,
      "outputs": []
    },
    {
      "cell_type": "code",
      "source": [
        "a = Value(2.0)\n",
        "b = Value(-3.0)\n",
        "c = Value(10.0)\n",
        "d = a*b + c\n",
        "d"
      ],
      "metadata": {
        "colab": {
          "base_uri": "https://localhost:8080/",
          "height": 33
        },
        "id": "Fm-sFd0aT-Fz",
        "outputId": "cde5a26e-def3-45fc-a55f-e5b5fba632f6"
      },
      "execution_count": 189,
      "outputs": [
        {
          "output_type": "display_data",
          "data": {
            "text/plain": [
              "\u001b[1;35mValue\u001b[0m\u001b[1m(\u001b[0m\u001b[33mdata\u001b[0m=\u001b[1;36m4\u001b[0m\u001b[1;36m.0\u001b[0m\u001b[1m)\u001b[0m\n"
            ],
            "text/html": [
              "<pre style=\"white-space:pre;overflow-x:auto;line-height:normal;font-family:Menlo,'DejaVu Sans Mono',consolas,'Courier New',monospace\"><span style=\"color: #800080; text-decoration-color: #800080; font-weight: bold\">Value</span><span style=\"font-weight: bold\">(</span><span style=\"color: #808000; text-decoration-color: #808000\">data</span>=<span style=\"color: #008080; text-decoration-color: #008080; font-weight: bold\">4.0</span><span style=\"font-weight: bold\">)</span>\n",
              "</pre>\n"
            ]
          },
          "metadata": {}
        }
      ]
    },
    {
      "cell_type": "code",
      "source": [
        "d._prev"
      ],
      "metadata": {
        "colab": {
          "base_uri": "https://localhost:8080/",
          "height": 33
        },
        "id": "SadpDaeoUZeY",
        "outputId": "3a3b4a38-9c0d-4da8-8a29-2e01aaa4b38f"
      },
      "execution_count": 190,
      "outputs": [
        {
          "output_type": "display_data",
          "data": {
            "text/plain": [
              "\u001b[1m{\u001b[0m\u001b[1;35mValue\u001b[0m\u001b[1m(\u001b[0m\u001b[33mdata\u001b[0m=\u001b[1;36m-6.0\u001b[0m\u001b[1m)\u001b[0m, \u001b[1;35mValue\u001b[0m\u001b[1m(\u001b[0m\u001b[33mdata\u001b[0m=\u001b[1;36m10\u001b[0m\u001b[1;36m.0\u001b[0m\u001b[1m)\u001b[0m\u001b[1m}\u001b[0m\n"
            ],
            "text/html": [
              "<pre style=\"white-space:pre;overflow-x:auto;line-height:normal;font-family:Menlo,'DejaVu Sans Mono',consolas,'Courier New',monospace\"><span style=\"font-weight: bold\">{</span><span style=\"color: #800080; text-decoration-color: #800080; font-weight: bold\">Value</span><span style=\"font-weight: bold\">(</span><span style=\"color: #808000; text-decoration-color: #808000\">data</span>=<span style=\"color: #008080; text-decoration-color: #008080; font-weight: bold\">-6.0</span><span style=\"font-weight: bold\">)</span>, <span style=\"color: #800080; text-decoration-color: #800080; font-weight: bold\">Value</span><span style=\"font-weight: bold\">(</span><span style=\"color: #808000; text-decoration-color: #808000\">data</span>=<span style=\"color: #008080; text-decoration-color: #008080; font-weight: bold\">10.0</span><span style=\"font-weight: bold\">)}</span>\n",
              "</pre>\n"
            ]
          },
          "metadata": {}
        }
      ]
    },
    {
      "cell_type": "code",
      "source": [
        "d._op"
      ],
      "metadata": {
        "colab": {
          "base_uri": "https://localhost:8080/",
          "height": 33
        },
        "id": "AJ_KEYoEUa2k",
        "outputId": "2b59556f-d635-496f-975d-ee2a0214fac9"
      },
      "execution_count": 191,
      "outputs": [
        {
          "output_type": "display_data",
          "data": {
            "text/plain": [
              "\u001b[32m'+'\u001b[0m\n"
            ],
            "text/html": [
              "<pre style=\"white-space:pre;overflow-x:auto;line-height:normal;font-family:Menlo,'DejaVu Sans Mono',consolas,'Courier New',monospace\"><span style=\"color: #008000; text-decoration-color: #008000\">'+'</span>\n",
              "</pre>\n"
            ]
          },
          "metadata": {}
        },
        {
          "output_type": "execute_result",
          "data": {
            "application/vnd.google.colaboratory.intrinsic+json": {
              "type": "string"
            }
          },
          "metadata": {},
          "execution_count": 191
        }
      ]
    },
    {
      "cell_type": "markdown",
      "source": [
        "### Visualize the expression graph with operators and operands"
      ],
      "metadata": {
        "id": "GenwGM5JVTBO"
      }
    },
    {
      "cell_type": "code",
      "source": [
        "from graphviz import Digraph\n",
        "\n",
        "def trace(root):\n",
        "  # build a set of all nodes and edges in a graph\n",
        "  nodes, edges = set(), set()\n",
        "  def build(v):\n",
        "    if v not in nodes:\n",
        "      nodes.add(v)\n",
        "      for child in v._prev:\n",
        "        edges.add((child, v))\n",
        "        build(child)\n",
        "  build(root)\n",
        "  return nodes, edges"
      ],
      "metadata": {
        "id": "K6sq1a2-Uk2a"
      },
      "execution_count": 205,
      "outputs": []
    },
    {
      "cell_type": "code",
      "source": [
        "def draw_dot(root, label):\n",
        "  dot = Digraph(format='svg', graph_attr={'rankdir': 'LR'}) # LR = left to right\n",
        "\n",
        "  nodes, edges = trace(root)\n",
        "  for n in nodes:\n",
        "    uid = str(id(n))\n",
        "    # for any value in the graph, create a rectangular ('record') node for it\n",
        "    dot.node(name = uid, label=label(n), shape='record') # ⭠ label function getting called\n",
        "    if n._op:\n",
        "      # if this value is a result of some operation, create an op node for it\n",
        "      dot.node(name = uid + n._op, label = n._op)\n",
        "      dot.edge(uid + n._op, uid)\n",
        "  \n",
        "  for n1, n2 in edges:\n",
        "    # connect n1 to the op node of n2\n",
        "    dot.edge(str(id(n1)), str(id(n2)) + n2._op)\n",
        "  \n",
        "  return dot"
      ],
      "metadata": {
        "id": "E2aUdtJIbYw0"
      },
      "execution_count": 206,
      "outputs": []
    },
    {
      "cell_type": "code",
      "source": [
        "def label(node): return \"{data %.4f}\" % (node.data)\n",
        "draw_dot(d, label)"
      ],
      "metadata": {
        "colab": {
          "base_uri": "https://localhost:8080/",
          "height": 191
        },
        "id": "EgM98q-YVSCf",
        "outputId": "07ea2690-32d7-4198-96ea-b4233bd7f0d6"
      },
      "execution_count": 207,
      "outputs": [
        {
          "output_type": "execute_result",
          "data": {
            "image/svg+xml": "<?xml version=\"1.0\" encoding=\"UTF-8\" standalone=\"no\"?>\n<!DOCTYPE svg PUBLIC \"-//W3C//DTD SVG 1.1//EN\"\n \"http://www.w3.org/Graphics/SVG/1.1/DTD/svg11.dtd\">\n<!-- Generated by graphviz version 2.40.1 (20161225.0304)\n -->\n<!-- Title: %3 Pages: 1 -->\n<svg width=\"526pt\" height=\"127pt\"\n viewBox=\"0.00 0.00 526.00 127.00\" xmlns=\"http://www.w3.org/2000/svg\" xmlns:xlink=\"http://www.w3.org/1999/xlink\">\n<g id=\"graph0\" class=\"graph\" transform=\"scale(1 1) rotate(0) translate(4 123)\">\n<title>%3</title>\n<polygon fill=\"#ffffff\" stroke=\"transparent\" points=\"-4,4 -4,-123 522,-123 522,4 -4,4\"/>\n<!-- 139747136803408 -->\n<g id=\"node1\" class=\"node\">\n<title>139747136803408</title>\n<polygon fill=\"none\" stroke=\"#000000\" points=\"215,-82.5 215,-118.5 307,-118.5 307,-82.5 215,-82.5\"/>\n<text text-anchor=\"middle\" x=\"261\" y=\"-96.8\" font-family=\"Times,serif\" font-size=\"14.00\" fill=\"#000000\">data 10.0000</text>\n</g>\n<!-- 139747136803472+ -->\n<g id=\"node3\" class=\"node\">\n<title>139747136803472+</title>\n<ellipse fill=\"none\" stroke=\"#000000\" cx=\"370\" cy=\"-72.5\" rx=\"27\" ry=\"18\"/>\n<text text-anchor=\"middle\" x=\"370\" y=\"-68.8\" font-family=\"Times,serif\" font-size=\"14.00\" fill=\"#000000\">+</text>\n</g>\n<!-- 139747136803408&#45;&gt;139747136803472+ -->\n<g id=\"edge3\" class=\"edge\">\n<title>139747136803408&#45;&gt;139747136803472+</title>\n<path fill=\"none\" stroke=\"#000000\" d=\"M307.2258,-88.6255C316.4842,-86.2472 326.0687,-83.7851 334.8769,-81.5225\"/>\n<polygon fill=\"#000000\" stroke=\"#000000\" points=\"335.9795,-84.8529 344.7942,-78.9749 334.2379,-78.073 335.9795,-84.8529\"/>\n</g>\n<!-- 139747136803472 -->\n<g id=\"node2\" class=\"node\">\n<title>139747136803472</title>\n<polygon fill=\"none\" stroke=\"#000000\" points=\"433,-54.5 433,-90.5 518,-90.5 518,-54.5 433,-54.5\"/>\n<text text-anchor=\"middle\" x=\"475.5\" y=\"-68.8\" font-family=\"Times,serif\" font-size=\"14.00\" fill=\"#000000\">data 4.0000</text>\n</g>\n<!-- 139747136803472+&#45;&gt;139747136803472 -->\n<g id=\"edge1\" class=\"edge\">\n<title>139747136803472+&#45;&gt;139747136803472</title>\n<path fill=\"none\" stroke=\"#000000\" d=\"M397.1689,-72.5C404.9798,-72.5 413.7781,-72.5 422.5826,-72.5\"/>\n<polygon fill=\"#000000\" stroke=\"#000000\" points=\"422.8624,-76.0001 432.8623,-72.5 422.8623,-69.0001 422.8624,-76.0001\"/>\n</g>\n<!-- 139747136803600 -->\n<g id=\"node4\" class=\"node\">\n<title>139747136803600</title>\n<polygon fill=\"none\" stroke=\"#000000\" points=\"216.5,-27.5 216.5,-63.5 305.5,-63.5 305.5,-27.5 216.5,-27.5\"/>\n<text text-anchor=\"middle\" x=\"261\" y=\"-41.8\" font-family=\"Times,serif\" font-size=\"14.00\" fill=\"#000000\">data &#45;6.0000</text>\n</g>\n<!-- 139747136803600&#45;&gt;139747136803472+ -->\n<g id=\"edge6\" class=\"edge\">\n<title>139747136803600&#45;&gt;139747136803472+</title>\n<path fill=\"none\" stroke=\"#000000\" d=\"M305.649,-56.5598C315.4067,-58.9769 325.6003,-61.5019 334.9217,-63.8109\"/>\n<polygon fill=\"#000000\" stroke=\"#000000\" points=\"334.0842,-67.2091 344.6324,-66.2163 335.7673,-60.4145 334.0842,-67.2091\"/>\n</g>\n<!-- 139747136803600* -->\n<g id=\"node5\" class=\"node\">\n<title>139747136803600*</title>\n<ellipse fill=\"none\" stroke=\"#000000\" cx=\"152\" cy=\"-45.5\" rx=\"27\" ry=\"18\"/>\n<text text-anchor=\"middle\" x=\"152\" y=\"-41.8\" font-family=\"Times,serif\" font-size=\"14.00\" fill=\"#000000\">*</text>\n</g>\n<!-- 139747136803600*&#45;&gt;139747136803600 -->\n<g id=\"edge2\" class=\"edge\">\n<title>139747136803600*&#45;&gt;139747136803600</title>\n<path fill=\"none\" stroke=\"#000000\" d=\"M179.2241,-45.5C187.4668,-45.5 196.831,-45.5 206.2068,-45.5\"/>\n<polygon fill=\"#000000\" stroke=\"#000000\" points=\"206.3326,-49.0001 216.3326,-45.5 206.3326,-42.0001 206.3326,-49.0001\"/>\n</g>\n<!-- 139747136803216 -->\n<g id=\"node6\" class=\"node\">\n<title>139747136803216</title>\n<polygon fill=\"none\" stroke=\"#000000\" points=\"0,-55.5 0,-91.5 89,-91.5 89,-55.5 0,-55.5\"/>\n<text text-anchor=\"middle\" x=\"44.5\" y=\"-69.8\" font-family=\"Times,serif\" font-size=\"14.00\" fill=\"#000000\">data &#45;3.0000</text>\n</g>\n<!-- 139747136803216&#45;&gt;139747136803600* -->\n<g id=\"edge5\" class=\"edge\">\n<title>139747136803216&#45;&gt;139747136803600*</title>\n<path fill=\"none\" stroke=\"#000000\" d=\"M89.1558,-61.8687C98.3604,-59.4713 107.9314,-56.9783 116.7466,-54.6823\"/>\n<polygon fill=\"#000000\" stroke=\"#000000\" points=\"117.8854,-58.0025 126.6803,-52.0949 116.121,-51.2285 117.8854,-58.0025\"/>\n</g>\n<!-- 139747136803280 -->\n<g id=\"node7\" class=\"node\">\n<title>139747136803280</title>\n<polygon fill=\"none\" stroke=\"#000000\" points=\"2,-.5 2,-36.5 87,-36.5 87,-.5 2,-.5\"/>\n<text text-anchor=\"middle\" x=\"44.5\" y=\"-14.8\" font-family=\"Times,serif\" font-size=\"14.00\" fill=\"#000000\">data 2.0000</text>\n</g>\n<!-- 139747136803280&#45;&gt;139747136803600* -->\n<g id=\"edge4\" class=\"edge\">\n<title>139747136803280&#45;&gt;139747136803600*</title>\n<path fill=\"none\" stroke=\"#000000\" d=\"M87.2957,-29.2487C97.0994,-31.711 107.4109,-34.3009 116.8495,-36.6715\"/>\n<polygon fill=\"#000000\" stroke=\"#000000\" points=\"116.1321,-40.1 126.6835,-39.1414 117.8373,-33.3108 116.1321,-40.1\"/>\n</g>\n</g>\n</svg>\n"
          },
          "metadata": {},
          "execution_count": 207
        }
      ]
    },
    {
      "cell_type": "markdown",
      "source": [
        "### Add label to each node\n",
        "> so that we know what are the corresponding variables for each value"
      ],
      "metadata": {
        "id": "RpbVnM8uY9-B"
      }
    },
    {
      "cell_type": "code",
      "source": [
        "class Value:\n",
        "  def __init__(self, data, _children=(), _op='', label=''): # ⭠ Add label\n",
        "    self.data = data\n",
        "    self._prev = set(_children)\n",
        "    self._op = _op\n",
        "    self.label = label # ⭠ Add label\n",
        "  \n",
        "  def __repr__(self):\n",
        "    return f\"Value(label={self.label} data={self.data})\"\n",
        "  \n",
        "  def __add__(self, other):\n",
        "    return Value(self.data + other.data, (self, other), '+')\n",
        "  \n",
        "  def __mul__(self, other):\n",
        "    return Value(self.data * other.data, (self, other), '*')"
      ],
      "metadata": {
        "id": "H7mTS1leXvsj"
      },
      "execution_count": 224,
      "outputs": []
    },
    {
      "cell_type": "code",
      "source": [
        "a = Value(2.0, label = 'a')\n",
        "b = Value(-3.0, label='b')\n",
        "c = Value(10, label = 'c')\n",
        "e = a*b; e.label = 'e'\n",
        "d = e + c; d.label = 'd'\n",
        "f = Value(-2.0, label='f')\n",
        "L = d * f; L.label = 'L'\n",
        "L"
      ],
      "metadata": {
        "colab": {
          "base_uri": "https://localhost:8080/",
          "height": 33
        },
        "id": "4SyukYjdZQTA",
        "outputId": "238bb457-19a8-44eb-d3cd-018de1b6e043"
      },
      "execution_count": 218,
      "outputs": [
        {
          "output_type": "display_data",
          "data": {
            "text/plain": [
              "\u001b[1;35mValue\u001b[0m\u001b[1m(\u001b[0m\u001b[33mlabel\u001b[0m=\u001b[35mL\u001b[0m \u001b[33mdata\u001b[0m=\u001b[1;36m-8.0\u001b[0m\u001b[1m)\u001b[0m\n"
            ],
            "text/html": [
              "<pre style=\"white-space:pre;overflow-x:auto;line-height:normal;font-family:Menlo,'DejaVu Sans Mono',consolas,'Courier New',monospace\"><span style=\"color: #800080; text-decoration-color: #800080; font-weight: bold\">Value</span><span style=\"font-weight: bold\">(</span><span style=\"color: #808000; text-decoration-color: #808000\">label</span>=<span style=\"color: #800080; text-decoration-color: #800080\">L</span> <span style=\"color: #808000; text-decoration-color: #808000\">data</span>=<span style=\"color: #008080; text-decoration-color: #008080; font-weight: bold\">-8.0</span><span style=\"font-weight: bold\">)</span>\n",
              "</pre>\n"
            ]
          },
          "metadata": {}
        }
      ]
    },
    {
      "cell_type": "markdown",
      "source": [
        "Change the `label` function to render the label"
      ],
      "metadata": {
        "id": "mCH_KyeOakDz"
      }
    },
    {
      "cell_type": "code",
      "source": [
        "def label(node): return \"{%s | {data %.4f}}\" % (node.label, node.data)"
      ],
      "metadata": {
        "id": "VEGRnQq6ac1G"
      },
      "execution_count": 232,
      "outputs": []
    },
    {
      "cell_type": "code",
      "source": [
        "draw_dot(L, label)"
      ],
      "metadata": {
        "colab": {
          "base_uri": "https://localhost:8080/",
          "height": 229
        },
        "id": "iIySWDGRZclz",
        "outputId": "5a8c277d-02b2-4dc9-e6e7-e72e584a49fd"
      },
      "execution_count": 233,
      "outputs": [
        {
          "output_type": "execute_result",
          "data": {
            "image/svg+xml": "<?xml version=\"1.0\" encoding=\"UTF-8\" standalone=\"no\"?>\n<!DOCTYPE svg PUBLIC \"-//W3C//DTD SVG 1.1//EN\"\n \"http://www.w3.org/Graphics/SVG/1.1/DTD/svg11.dtd\">\n<!-- Generated by graphviz version 2.40.1 (20161225.0304)\n -->\n<!-- Title: %3 Pages: 1 -->\n<svg width=\"839pt\" height=\"156pt\"\n viewBox=\"0.00 0.00 839.00 156.00\" xmlns=\"http://www.w3.org/2000/svg\" xmlns:xlink=\"http://www.w3.org/1999/xlink\">\n<g id=\"graph0\" class=\"graph\" transform=\"scale(1 1) rotate(0) translate(4 152)\">\n<title>%3</title>\n<polygon fill=\"#ffffff\" stroke=\"transparent\" points=\"-4,4 -4,-152 835,-152 835,4 -4,4\"/>\n<!-- 139747136643728 -->\n<g id=\"node1\" class=\"node\">\n<title>139747136643728</title>\n<polygon fill=\"none\" stroke=\"#000000\" points=\"716,-27.5 716,-63.5 831,-63.5 831,-27.5 716,-27.5\"/>\n<text text-anchor=\"middle\" x=\"729\" y=\"-41.8\" font-family=\"Times,serif\" font-size=\"14.00\" fill=\"#000000\">L</text>\n<polyline fill=\"none\" stroke=\"#000000\" points=\"742,-27.5 742,-63.5 \"/>\n<text text-anchor=\"middle\" x=\"786.5\" y=\"-41.8\" font-family=\"Times,serif\" font-size=\"14.00\" fill=\"#000000\">data &#45;8.0000</text>\n</g>\n<!-- 139747136643728* -->\n<g id=\"node2\" class=\"node\">\n<title>139747136643728*</title>\n<ellipse fill=\"none\" stroke=\"#000000\" cx=\"653\" cy=\"-45.5\" rx=\"27\" ry=\"18\"/>\n<text text-anchor=\"middle\" x=\"653\" y=\"-41.8\" font-family=\"Times,serif\" font-size=\"14.00\" fill=\"#000000\">*</text>\n</g>\n<!-- 139747136643728*&#45;&gt;139747136643728 -->\n<g id=\"edge1\" class=\"edge\">\n<title>139747136643728*&#45;&gt;139747136643728</title>\n<path fill=\"none\" stroke=\"#000000\" d=\"M680.0426,-45.5C687.8066,-45.5 696.6405,-45.5 705.7059,-45.5\"/>\n<polygon fill=\"#000000\" stroke=\"#000000\" points=\"705.9948,-49.0001 715.9948,-45.5 705.9947,-42.0001 705.9948,-49.0001\"/>\n</g>\n<!-- 139747136643280 -->\n<g id=\"node3\" class=\"node\">\n<title>139747136643280</title>\n<polygon fill=\"none\" stroke=\"#000000\" points=\"0,-111.5 0,-147.5 113,-147.5 113,-111.5 0,-111.5\"/>\n<text text-anchor=\"middle\" x=\"12\" y=\"-125.8\" font-family=\"Times,serif\" font-size=\"14.00\" fill=\"#000000\">b</text>\n<polyline fill=\"none\" stroke=\"#000000\" points=\"24,-111.5 24,-147.5 \"/>\n<text text-anchor=\"middle\" x=\"68.5\" y=\"-125.8\" font-family=\"Times,serif\" font-size=\"14.00\" fill=\"#000000\">data &#45;3.0000</text>\n</g>\n<!-- 139747136643856* -->\n<g id=\"node6\" class=\"node\">\n<title>139747136643856*</title>\n<ellipse fill=\"none\" stroke=\"#000000\" cx=\"176\" cy=\"-101.5\" rx=\"27\" ry=\"18\"/>\n<text text-anchor=\"middle\" x=\"176\" y=\"-97.8\" font-family=\"Times,serif\" font-size=\"14.00\" fill=\"#000000\">*</text>\n</g>\n<!-- 139747136643280&#45;&gt;139747136643856* -->\n<g id=\"edge6\" class=\"edge\">\n<title>139747136643280&#45;&gt;139747136643856*</title>\n<path fill=\"none\" stroke=\"#000000\" d=\"M113.1004,-116.238C122.3643,-114.0674 131.7294,-111.873 140.3016,-109.8645\"/>\n<polygon fill=\"#000000\" stroke=\"#000000\" points=\"141.3668,-113.2098 150.3046,-107.5207 139.7698,-106.3944 141.3668,-113.2098\"/>\n</g>\n<!-- 139747136644880 -->\n<g id=\"node4\" class=\"node\">\n<title>139747136644880</title>\n<polygon fill=\"none\" stroke=\"#000000\" points=\"2.5,-56.5 2.5,-92.5 110.5,-92.5 110.5,-56.5 2.5,-56.5\"/>\n<text text-anchor=\"middle\" x=\"14\" y=\"-70.8\" font-family=\"Times,serif\" font-size=\"14.00\" fill=\"#000000\">a</text>\n<polyline fill=\"none\" stroke=\"#000000\" points=\"25.5,-56.5 25.5,-92.5 \"/>\n<text text-anchor=\"middle\" x=\"68\" y=\"-70.8\" font-family=\"Times,serif\" font-size=\"14.00\" fill=\"#000000\">data 2.0000</text>\n</g>\n<!-- 139747136644880&#45;&gt;139747136643856* -->\n<g id=\"edge9\" class=\"edge\">\n<title>139747136644880&#45;&gt;139747136643856*</title>\n<path fill=\"none\" stroke=\"#000000\" d=\"M110.6557,-86.736C120.8143,-89.0313 131.1905,-91.3757 140.5958,-93.5007\"/>\n<polygon fill=\"#000000\" stroke=\"#000000\" points=\"139.8387,-96.9178 150.3643,-95.7078 141.3815,-90.0899 139.8387,-96.9178\"/>\n</g>\n<!-- 139747136643856 -->\n<g id=\"node5\" class=\"node\">\n<title>139747136643856</title>\n<polygon fill=\"none\" stroke=\"#000000\" points=\"240.5,-83.5 240.5,-119.5 352.5,-119.5 352.5,-83.5 240.5,-83.5\"/>\n<text text-anchor=\"middle\" x=\"252\" y=\"-97.8\" font-family=\"Times,serif\" font-size=\"14.00\" fill=\"#000000\">e</text>\n<polyline fill=\"none\" stroke=\"#000000\" points=\"263.5,-83.5 263.5,-119.5 \"/>\n<text text-anchor=\"middle\" x=\"308\" y=\"-97.8\" font-family=\"Times,serif\" font-size=\"14.00\" fill=\"#000000\">data &#45;6.0000</text>\n</g>\n<!-- 139747136644432+ -->\n<g id=\"node8\" class=\"node\">\n<title>139747136644432+</title>\n<ellipse fill=\"none\" stroke=\"#000000\" cx=\"417\" cy=\"-73.5\" rx=\"27\" ry=\"18\"/>\n<text text-anchor=\"middle\" x=\"417\" y=\"-69.8\" font-family=\"Times,serif\" font-size=\"14.00\" fill=\"#000000\">+</text>\n</g>\n<!-- 139747136643856&#45;&gt;139747136644432+ -->\n<g id=\"edge7\" class=\"edge\">\n<title>139747136643856&#45;&gt;139747136644432+</title>\n<path fill=\"none\" stroke=\"#000000\" d=\"M352.5168,-88.4837C362.3409,-86.2009 372.3158,-83.8831 381.3899,-81.7746\"/>\n<polygon fill=\"#000000\" stroke=\"#000000\" points=\"382.2476,-85.1686 391.1959,-79.496 380.6632,-78.3502 382.2476,-85.1686\"/>\n</g>\n<!-- 139747136643856*&#45;&gt;139747136643856 -->\n<g id=\"edge2\" class=\"edge\">\n<title>139747136643856*&#45;&gt;139747136643856</title>\n<path fill=\"none\" stroke=\"#000000\" d=\"M203.0426,-101.5C211.2826,-101.5 220.7277,-101.5 230.3756,-101.5\"/>\n<polygon fill=\"#000000\" stroke=\"#000000\" points=\"230.4612,-105.0001 240.4612,-101.5 230.4612,-98.0001 230.4612,-105.0001\"/>\n</g>\n<!-- 139747136644432 -->\n<g id=\"node7\" class=\"node\">\n<title>139747136644432</title>\n<polygon fill=\"none\" stroke=\"#000000\" points=\"480.5,-55.5 480.5,-91.5 589.5,-91.5 589.5,-55.5 480.5,-55.5\"/>\n<text text-anchor=\"middle\" x=\"492.5\" y=\"-69.8\" font-family=\"Times,serif\" font-size=\"14.00\" fill=\"#000000\">d</text>\n<polyline fill=\"none\" stroke=\"#000000\" points=\"504.5,-55.5 504.5,-91.5 \"/>\n<text text-anchor=\"middle\" x=\"547\" y=\"-69.8\" font-family=\"Times,serif\" font-size=\"14.00\" fill=\"#000000\">data 4.0000</text>\n</g>\n<!-- 139747136644432&#45;&gt;139747136643728* -->\n<g id=\"edge8\" class=\"edge\">\n<title>139747136644432&#45;&gt;139747136643728*</title>\n<path fill=\"none\" stroke=\"#000000\" d=\"M589.5097,-60.5655C598.9716,-58.3203 608.5884,-56.0383 617.3791,-53.9524\"/>\n<polygon fill=\"#000000\" stroke=\"#000000\" points=\"618.3387,-57.322 627.2605,-51.6077 616.7225,-50.5111 618.3387,-57.322\"/>\n</g>\n<!-- 139747136644432+&#45;&gt;139747136644432 -->\n<g id=\"edge3\" class=\"edge\">\n<title>139747136644432+&#45;&gt;139747136644432</title>\n<path fill=\"none\" stroke=\"#000000\" d=\"M444.0716,-73.5C451.8826,-73.5 460.7621,-73.5 469.8382,-73.5\"/>\n<polygon fill=\"#000000\" stroke=\"#000000\" points=\"470.1225,-77.0001 480.1225,-73.5 470.1225,-70.0001 470.1225,-77.0001\"/>\n</g>\n<!-- 139747136644944 -->\n<g id=\"node9\" class=\"node\">\n<title>139747136644944</title>\n<polygon fill=\"none\" stroke=\"#000000\" points=\"480,-.5 480,-36.5 590,-36.5 590,-.5 480,-.5\"/>\n<text text-anchor=\"middle\" x=\"490.5\" y=\"-14.8\" font-family=\"Times,serif\" font-size=\"14.00\" fill=\"#000000\">f</text>\n<polyline fill=\"none\" stroke=\"#000000\" points=\"501,-.5 501,-36.5 \"/>\n<text text-anchor=\"middle\" x=\"545.5\" y=\"-14.8\" font-family=\"Times,serif\" font-size=\"14.00\" fill=\"#000000\">data &#45;2.0000</text>\n</g>\n<!-- 139747136644944&#45;&gt;139747136643728* -->\n<g id=\"edge5\" class=\"edge\">\n<title>139747136644944&#45;&gt;139747136643728*</title>\n<path fill=\"none\" stroke=\"#000000\" d=\"M590.1996,-31.1304C599.4106,-33.238 608.7456,-35.374 617.3017,-37.3317\"/>\n<polygon fill=\"#000000\" stroke=\"#000000\" points=\"616.7624,-40.7987 627.2912,-39.6175 618.3238,-33.9751 616.7624,-40.7987\"/>\n</g>\n<!-- 139747136646096 -->\n<g id=\"node10\" class=\"node\">\n<title>139747136646096</title>\n<polygon fill=\"none\" stroke=\"#000000\" points=\"239,-28.5 239,-64.5 354,-64.5 354,-28.5 239,-28.5\"/>\n<text text-anchor=\"middle\" x=\"250.5\" y=\"-42.8\" font-family=\"Times,serif\" font-size=\"14.00\" fill=\"#000000\">c</text>\n<polyline fill=\"none\" stroke=\"#000000\" points=\"262,-28.5 262,-64.5 \"/>\n<text text-anchor=\"middle\" x=\"308\" y=\"-42.8\" font-family=\"Times,serif\" font-size=\"14.00\" fill=\"#000000\">data 10.0000</text>\n</g>\n<!-- 139747136646096&#45;&gt;139747136644432+ -->\n<g id=\"edge4\" class=\"edge\">\n<title>139747136646096&#45;&gt;139747136644432+</title>\n<path fill=\"none\" stroke=\"#000000\" d=\"M354.2794,-59.4464C363.469,-61.5055 372.7352,-63.5818 381.2213,-65.4832\"/>\n<polygon fill=\"#000000\" stroke=\"#000000\" points=\"380.6044,-68.9317 391.1278,-67.7029 382.135,-62.1011 380.6044,-68.9317\"/>\n</g>\n</g>\n</svg>\n"
          },
          "metadata": {},
          "execution_count": 233
        }
      ]
    },
    {
      "cell_type": "markdown",
      "source": [
        "### Add `grad` to `Value` class"
      ],
      "metadata": {
        "id": "Q_DvXrUWe-4T"
      }
    },
    {
      "cell_type": "code",
      "source": [
        "class Value:\n",
        "  def __init__(self, data, _children=(), _op='', label=''):\n",
        "    self.data = data\n",
        "    self.grad = 0.0 # ⭠ Add grad\n",
        "    self._prev = set(_children)\n",
        "    self._op = _op\n",
        "    self.label = label\n",
        "  \n",
        "  def __repr__(self):\n",
        "    return f\"Value(label={self.label} data={self.data})\"\n",
        "  \n",
        "  def __add__(self, other):\n",
        "    return Value(self.data + other.data, (self, other), '+')\n",
        "  \n",
        "  def __mul__(self, other):\n",
        "    return Value(self.data * other.data, (self, other), '*')"
      ],
      "metadata": {
        "id": "86MukmeDaRrn"
      },
      "execution_count": 225,
      "outputs": []
    },
    {
      "cell_type": "code",
      "source": [
        "a = Value(2.0, label = 'a')\n",
        "b = Value(-3.0, label='b')\n",
        "c = Value(10, label = 'c')\n",
        "e = a*b; e.label = 'e'\n",
        "d = e + c; d.label = 'd'\n",
        "f = Value(-2.0, label='f')\n",
        "L = d * f; L.label = 'L'\n",
        "L.grad"
      ],
      "metadata": {
        "colab": {
          "base_uri": "https://localhost:8080/",
          "height": 33
        },
        "id": "GwWBqrjPvVqJ",
        "outputId": "22c69099-7c82-48ae-d496-7a382aa0c206"
      },
      "execution_count": 227,
      "outputs": [
        {
          "output_type": "display_data",
          "data": {
            "text/plain": [
              "\u001b[1;36m0.0\u001b[0m\n"
            ],
            "text/html": [
              "<pre style=\"white-space:pre;overflow-x:auto;line-height:normal;font-family:Menlo,'DejaVu Sans Mono',consolas,'Courier New',monospace\"><span style=\"color: #008080; text-decoration-color: #008080; font-weight: bold\">0.0</span>\n",
              "</pre>\n"
            ]
          },
          "metadata": {}
        }
      ]
    },
    {
      "cell_type": "code",
      "source": [
        "def label(node): return \"{%s | {data %.4f} | grad %.4f}\" % (node.label, node.data, node.grad)"
      ],
      "metadata": {
        "id": "lqU9Zogoe9A0"
      },
      "execution_count": 230,
      "outputs": []
    },
    {
      "cell_type": "code",
      "source": [
        "draw_dot(L, label)"
      ],
      "metadata": {
        "colab": {
          "base_uri": "https://localhost:8080/",
          "height": 229
        },
        "id": "bTfbjNkZvNel",
        "outputId": "f3e1de08-eb97-4e79-d755-67f99062664c"
      },
      "execution_count": 231,
      "outputs": [
        {
          "output_type": "execute_result",
          "data": {
            "image/svg+xml": "<?xml version=\"1.0\" encoding=\"UTF-8\" standalone=\"no\"?>\n<!DOCTYPE svg PUBLIC \"-//W3C//DTD SVG 1.1//EN\"\n \"http://www.w3.org/Graphics/SVG/1.1/DTD/svg11.dtd\">\n<!-- Generated by graphviz version 2.40.1 (20161225.0304)\n -->\n<!-- Title: %3 Pages: 1 -->\n<svg width=\"1187pt\" height=\"156pt\"\n viewBox=\"0.00 0.00 1187.00 156.00\" xmlns=\"http://www.w3.org/2000/svg\" xmlns:xlink=\"http://www.w3.org/1999/xlink\">\n<g id=\"graph0\" class=\"graph\" transform=\"scale(1 1) rotate(0) translate(4 152)\">\n<title>%3</title>\n<polygon fill=\"#ffffff\" stroke=\"transparent\" points=\"-4,4 -4,-152 1183,-152 1183,4 -4,4\"/>\n<!-- 139747136643728 -->\n<g id=\"node1\" class=\"node\">\n<title>139747136643728</title>\n<polygon fill=\"none\" stroke=\"#000000\" points=\"977,-27.5 977,-63.5 1179,-63.5 1179,-27.5 977,-27.5\"/>\n<text text-anchor=\"middle\" x=\"990\" y=\"-41.8\" font-family=\"Times,serif\" font-size=\"14.00\" fill=\"#000000\">L</text>\n<polyline fill=\"none\" stroke=\"#000000\" points=\"1003,-27.5 1003,-63.5 \"/>\n<text text-anchor=\"middle\" x=\"1047.5\" y=\"-41.8\" font-family=\"Times,serif\" font-size=\"14.00\" fill=\"#000000\">data &#45;8.0000</text>\n<polyline fill=\"none\" stroke=\"#000000\" points=\"1092,-27.5 1092,-63.5 \"/>\n<text text-anchor=\"middle\" x=\"1135.5\" y=\"-41.8\" font-family=\"Times,serif\" font-size=\"14.00\" fill=\"#000000\">grad 0.0000</text>\n</g>\n<!-- 139747136643728* -->\n<g id=\"node2\" class=\"node\">\n<title>139747136643728*</title>\n<ellipse fill=\"none\" stroke=\"#000000\" cx=\"914\" cy=\"-45.5\" rx=\"27\" ry=\"18\"/>\n<text text-anchor=\"middle\" x=\"914\" y=\"-41.8\" font-family=\"Times,serif\" font-size=\"14.00\" fill=\"#000000\">*</text>\n</g>\n<!-- 139747136643728*&#45;&gt;139747136643728 -->\n<g id=\"edge1\" class=\"edge\">\n<title>139747136643728*&#45;&gt;139747136643728</title>\n<path fill=\"none\" stroke=\"#000000\" d=\"M941.0813,-45.5C948.631,-45.5 957.3302,-45.5 966.608,-45.5\"/>\n<polygon fill=\"#000000\" stroke=\"#000000\" points=\"966.8754,-49.0001 976.8754,-45.5 966.8754,-42.0001 966.8754,-49.0001\"/>\n</g>\n<!-- 139747136643280 -->\n<g id=\"node3\" class=\"node\">\n<title>139747136643280</title>\n<polygon fill=\"none\" stroke=\"#000000\" points=\"0,-111.5 0,-147.5 200,-147.5 200,-111.5 0,-111.5\"/>\n<text text-anchor=\"middle\" x=\"12\" y=\"-125.8\" font-family=\"Times,serif\" font-size=\"14.00\" fill=\"#000000\">b</text>\n<polyline fill=\"none\" stroke=\"#000000\" points=\"24,-111.5 24,-147.5 \"/>\n<text text-anchor=\"middle\" x=\"68.5\" y=\"-125.8\" font-family=\"Times,serif\" font-size=\"14.00\" fill=\"#000000\">data &#45;3.0000</text>\n<polyline fill=\"none\" stroke=\"#000000\" points=\"113,-111.5 113,-147.5 \"/>\n<text text-anchor=\"middle\" x=\"156.5\" y=\"-125.8\" font-family=\"Times,serif\" font-size=\"14.00\" fill=\"#000000\">grad 0.0000</text>\n</g>\n<!-- 139747136643856* -->\n<g id=\"node6\" class=\"node\">\n<title>139747136643856*</title>\n<ellipse fill=\"none\" stroke=\"#000000\" cx=\"263\" cy=\"-101.5\" rx=\"27\" ry=\"18\"/>\n<text text-anchor=\"middle\" x=\"263\" y=\"-97.8\" font-family=\"Times,serif\" font-size=\"14.00\" fill=\"#000000\">*</text>\n</g>\n<!-- 139747136643280&#45;&gt;139747136643856* -->\n<g id=\"edge6\" class=\"edge\">\n<title>139747136643280&#45;&gt;139747136643856*</title>\n<path fill=\"none\" stroke=\"#000000\" d=\"M200.4461,-112.2455C209.7389,-110.6491 218.6838,-109.1126 226.7604,-107.7252\"/>\n<polygon fill=\"#000000\" stroke=\"#000000\" points=\"227.5708,-111.1374 236.8338,-105.9948 226.3856,-104.2384 227.5708,-111.1374\"/>\n</g>\n<!-- 139747136644880 -->\n<g id=\"node4\" class=\"node\">\n<title>139747136644880</title>\n<polygon fill=\"none\" stroke=\"#000000\" points=\"2.5,-56.5 2.5,-92.5 197.5,-92.5 197.5,-56.5 2.5,-56.5\"/>\n<text text-anchor=\"middle\" x=\"14\" y=\"-70.8\" font-family=\"Times,serif\" font-size=\"14.00\" fill=\"#000000\">a</text>\n<polyline fill=\"none\" stroke=\"#000000\" points=\"25.5,-56.5 25.5,-92.5 \"/>\n<text text-anchor=\"middle\" x=\"68\" y=\"-70.8\" font-family=\"Times,serif\" font-size=\"14.00\" fill=\"#000000\">data 2.0000</text>\n<polyline fill=\"none\" stroke=\"#000000\" points=\"110.5,-56.5 110.5,-92.5 \"/>\n<text text-anchor=\"middle\" x=\"154\" y=\"-70.8\" font-family=\"Times,serif\" font-size=\"14.00\" fill=\"#000000\">grad 0.0000</text>\n</g>\n<!-- 139747136644880&#45;&gt;139747136643856* -->\n<g id=\"edge9\" class=\"edge\">\n<title>139747136644880&#45;&gt;139747136643856*</title>\n<path fill=\"none\" stroke=\"#000000\" d=\"M197.6409,-90.6736C207.9722,-92.385 217.943,-94.0366 226.8529,-95.5124\"/>\n<polygon fill=\"#000000\" stroke=\"#000000\" points=\"226.3454,-98.976 236.783,-97.1573 227.4894,-92.0701 226.3454,-98.976\"/>\n</g>\n<!-- 139747136643856 -->\n<g id=\"node5\" class=\"node\">\n<title>139747136643856</title>\n<polygon fill=\"none\" stroke=\"#000000\" points=\"327.5,-83.5 327.5,-119.5 526.5,-119.5 526.5,-83.5 327.5,-83.5\"/>\n<text text-anchor=\"middle\" x=\"339\" y=\"-97.8\" font-family=\"Times,serif\" font-size=\"14.00\" fill=\"#000000\">e</text>\n<polyline fill=\"none\" stroke=\"#000000\" points=\"350.5,-83.5 350.5,-119.5 \"/>\n<text text-anchor=\"middle\" x=\"395\" y=\"-97.8\" font-family=\"Times,serif\" font-size=\"14.00\" fill=\"#000000\">data &#45;6.0000</text>\n<polyline fill=\"none\" stroke=\"#000000\" points=\"439.5,-83.5 439.5,-119.5 \"/>\n<text text-anchor=\"middle\" x=\"483\" y=\"-97.8\" font-family=\"Times,serif\" font-size=\"14.00\" fill=\"#000000\">grad 0.0000</text>\n</g>\n<!-- 139747136644432+ -->\n<g id=\"node8\" class=\"node\">\n<title>139747136644432+</title>\n<ellipse fill=\"none\" stroke=\"#000000\" cx=\"591\" cy=\"-73.5\" rx=\"27\" ry=\"18\"/>\n<text text-anchor=\"middle\" x=\"591\" y=\"-69.8\" font-family=\"Times,serif\" font-size=\"14.00\" fill=\"#000000\">+</text>\n</g>\n<!-- 139747136643856&#45;&gt;139747136644432+ -->\n<g id=\"edge7\" class=\"edge\">\n<title>139747136643856&#45;&gt;139747136644432+</title>\n<path fill=\"none\" stroke=\"#000000\" d=\"M526.6536,-84.486C536.572,-82.7926 546.1287,-81.1609 554.7053,-79.6967\"/>\n<polygon fill=\"#000000\" stroke=\"#000000\" points=\"555.3709,-83.1338 564.6392,-78.0006 554.1928,-76.2336 555.3709,-83.1338\"/>\n</g>\n<!-- 139747136643856*&#45;&gt;139747136643856 -->\n<g id=\"edge2\" class=\"edge\">\n<title>139747136643856*&#45;&gt;139747136643856</title>\n<path fill=\"none\" stroke=\"#000000\" d=\"M290.0813,-101.5C298.0646,-101.5 307.3332,-101.5 317.212,-101.5\"/>\n<polygon fill=\"#000000\" stroke=\"#000000\" points=\"317.2693,-105.0001 327.2693,-101.5 317.2692,-98.0001 317.2693,-105.0001\"/>\n</g>\n<!-- 139747136644432 -->\n<g id=\"node7\" class=\"node\">\n<title>139747136644432</title>\n<polygon fill=\"none\" stroke=\"#000000\" points=\"654.5,-55.5 654.5,-91.5 850.5,-91.5 850.5,-55.5 654.5,-55.5\"/>\n<text text-anchor=\"middle\" x=\"666.5\" y=\"-69.8\" font-family=\"Times,serif\" font-size=\"14.00\" fill=\"#000000\">d</text>\n<polyline fill=\"none\" stroke=\"#000000\" points=\"678.5,-55.5 678.5,-91.5 \"/>\n<text text-anchor=\"middle\" x=\"721\" y=\"-69.8\" font-family=\"Times,serif\" font-size=\"14.00\" fill=\"#000000\">data 4.0000</text>\n<polyline fill=\"none\" stroke=\"#000000\" points=\"763.5,-55.5 763.5,-91.5 \"/>\n<text text-anchor=\"middle\" x=\"807\" y=\"-69.8\" font-family=\"Times,serif\" font-size=\"14.00\" fill=\"#000000\">grad 0.0000</text>\n</g>\n<!-- 139747136644432&#45;&gt;139747136643728* -->\n<g id=\"edge8\" class=\"edge\">\n<title>139747136644432&#45;&gt;139747136643728*</title>\n<path fill=\"none\" stroke=\"#000000\" d=\"M850.6344,-56.486C860.2015,-54.8273 869.4268,-53.2279 877.738,-51.7869\"/>\n<polygon fill=\"#000000\" stroke=\"#000000\" points=\"878.4785,-55.2108 887.7336,-50.0539 877.2827,-48.3137 878.4785,-55.2108\"/>\n</g>\n<!-- 139747136644432+&#45;&gt;139747136644432 -->\n<g id=\"edge3\" class=\"edge\">\n<title>139747136644432+&#45;&gt;139747136644432</title>\n<path fill=\"none\" stroke=\"#000000\" d=\"M618.0315,-73.5C625.7623,-73.5 634.6953,-73.5 644.2076,-73.5\"/>\n<polygon fill=\"#000000\" stroke=\"#000000\" points=\"644.3041,-77.0001 654.304,-73.5 644.304,-70.0001 644.3041,-77.0001\"/>\n</g>\n<!-- 139747136644944 -->\n<g id=\"node9\" class=\"node\">\n<title>139747136644944</title>\n<polygon fill=\"none\" stroke=\"#000000\" points=\"654,-.5 654,-36.5 851,-36.5 851,-.5 654,-.5\"/>\n<text text-anchor=\"middle\" x=\"664.5\" y=\"-14.8\" font-family=\"Times,serif\" font-size=\"14.00\" fill=\"#000000\">f</text>\n<polyline fill=\"none\" stroke=\"#000000\" points=\"675,-.5 675,-36.5 \"/>\n<text text-anchor=\"middle\" x=\"719.5\" y=\"-14.8\" font-family=\"Times,serif\" font-size=\"14.00\" fill=\"#000000\">data &#45;2.0000</text>\n<polyline fill=\"none\" stroke=\"#000000\" points=\"764,-.5 764,-36.5 \"/>\n<text text-anchor=\"middle\" x=\"807.5\" y=\"-14.8\" font-family=\"Times,serif\" font-size=\"14.00\" fill=\"#000000\">grad 0.0000</text>\n</g>\n<!-- 139747136644944&#45;&gt;139747136643728* -->\n<g id=\"edge5\" class=\"edge\">\n<title>139747136644944&#45;&gt;139747136643728*</title>\n<path fill=\"none\" stroke=\"#000000\" d=\"M851.0974,-34.9838C860.4127,-36.5411 869.3943,-38.0427 877.5123,-39.3999\"/>\n<polygon fill=\"#000000\" stroke=\"#000000\" points=\"877.2018,-42.8965 887.6421,-41.0934 878.3562,-35.9923 877.2018,-42.8965\"/>\n</g>\n<!-- 139747136646096 -->\n<g id=\"node10\" class=\"node\">\n<title>139747136646096</title>\n<polygon fill=\"none\" stroke=\"#000000\" points=\"326,-28.5 326,-64.5 528,-64.5 528,-28.5 326,-28.5\"/>\n<text text-anchor=\"middle\" x=\"337.5\" y=\"-42.8\" font-family=\"Times,serif\" font-size=\"14.00\" fill=\"#000000\">c</text>\n<polyline fill=\"none\" stroke=\"#000000\" points=\"349,-28.5 349,-64.5 \"/>\n<text text-anchor=\"middle\" x=\"395\" y=\"-42.8\" font-family=\"Times,serif\" font-size=\"14.00\" fill=\"#000000\">data 10.0000</text>\n<polyline fill=\"none\" stroke=\"#000000\" points=\"441,-28.5 441,-64.5 \"/>\n<text text-anchor=\"middle\" x=\"484.5\" y=\"-42.8\" font-family=\"Times,serif\" font-size=\"14.00\" fill=\"#000000\">grad 0.0000</text>\n</g>\n<!-- 139747136646096&#45;&gt;139747136644432+ -->\n<g id=\"edge4\" class=\"edge\">\n<title>139747136646096&#45;&gt;139747136644432+</title>\n<path fill=\"none\" stroke=\"#000000\" d=\"M528.0623,-63.1383C537.4122,-64.6776 546.412,-66.1593 554.5381,-67.4971\"/>\n<polygon fill=\"#000000\" stroke=\"#000000\" points=\"554.2375,-70.9947 564.6733,-69.1657 555.3747,-64.0877 554.2375,-70.9947\"/>\n</g>\n</g>\n</svg>\n"
          },
          "metadata": {},
          "execution_count": 231
        }
      ]
    },
    {
      "cell_type": "markdown",
      "source": [
        "### Create a function `lol` \n",
        "> Derive with respect to a"
      ],
      "metadata": {
        "id": "su8HADCmwr5g"
      }
    },
    {
      "cell_type": "code",
      "source": [
        "def lol():\n",
        "  h = 0.0001\n",
        "\n",
        "  a = Value(2.0, label = 'a')\n",
        "  b = Value(-3.0, label='b')\n",
        "  c = Value(10, label = 'c')\n",
        "  e = a*b; e.label = 'e'\n",
        "  d = e + c; d.label = 'd'\n",
        "  f = Value(-2.0, label='f')\n",
        "  L = d * f; L.label = 'L'\n",
        "  L1 = L.data \n",
        "\n",
        "  a = Value(2.0 + h, label = 'a')\n",
        "  b = Value(-3.0, label='b')\n",
        "  c = Value(10, label = 'c')\n",
        "  e = a*b; e.label = 'e'\n",
        "  d = e + c; d.label = 'd'\n",
        "  f = Value(-2.0, label='f')\n",
        "  L = d * f; L.label = 'L'\n",
        "  L2 = L.data\n",
        "\n",
        "  print((L2 - L1) / h)\n",
        "\n",
        "lol()"
      ],
      "metadata": {
        "colab": {
          "base_uri": "https://localhost:8080/",
          "height": 33
        },
        "id": "Bj6G3Bv4vbAd",
        "outputId": "bd4169ec-e728-47cf-d8fd-a6451b944888"
      },
      "execution_count": 242,
      "outputs": [
        {
          "output_type": "display_data",
          "data": {
            "text/plain": [
              "\u001b[1;36m6.000000000021544\u001b[0m\n"
            ],
            "text/html": [
              "<pre style=\"white-space:pre;overflow-x:auto;line-height:normal;font-family:Menlo,'DejaVu Sans Mono',consolas,'Courier New',monospace\"><span style=\"color: #008080; text-decoration-color: #008080; font-weight: bold\">6.000000000021544</span>\n",
              "</pre>\n"
            ]
          },
          "metadata": {}
        }
      ]
    },
    {
      "cell_type": "markdown",
      "source": [
        "> Derive with respect to L"
      ],
      "metadata": {
        "id": "k0T7fhoLxQM1"
      }
    },
    {
      "cell_type": "code",
      "source": [
        "def lol():\n",
        "  h = 0.0001\n",
        "\n",
        "  a = Value(2.0, label = 'a')\n",
        "  b = Value(-3.0, label='b')\n",
        "  c = Value(10, label = 'c')\n",
        "  e = a*b; e.label = 'e'\n",
        "  d = e + c; d.label = 'd'\n",
        "  f = Value(-2.0, label='f')\n",
        "  L = d * f; L.label = 'L'\n",
        "  L1 = L.data \n",
        "\n",
        "  a = Value(2.0, label = 'a')\n",
        "  b = Value(-3.0, label='b')\n",
        "  c = Value(10, label = 'c')\n",
        "  e = a*b; e.label = 'e'\n",
        "  d = e + c; d.label = 'd'\n",
        "  f = Value(-2.0, label='f')\n",
        "  L = d * f; L.label = 'L'\n",
        "  L2 = L.data + h\n",
        "\n",
        "  print((L2 - L1) / h)\n",
        "\n",
        "lol()"
      ],
      "metadata": {
        "colab": {
          "base_uri": "https://localhost:8080/",
          "height": 33
        },
        "id": "vXdKSA7Uw2qj",
        "outputId": "fa1d02d4-214d-43bc-ffe1-eedbc89b6338"
      },
      "execution_count": 241,
      "outputs": [
        {
          "output_type": "display_data",
          "data": {
            "text/plain": [
              "\u001b[1;36m0.9999999999976694\u001b[0m\n"
            ],
            "text/html": [
              "<pre style=\"white-space:pre;overflow-x:auto;line-height:normal;font-family:Menlo,'DejaVu Sans Mono',consolas,'Courier New',monospace\"><span style=\"color: #008080; text-decoration-color: #008080; font-weight: bold\">0.9999999999976694</span>\n",
              "</pre>\n"
            ]
          },
          "metadata": {}
        }
      ]
    },
    {
      "cell_type": "markdown",
      "source": [
        "L = f * d\n",
        "\n",
        "∂L/∂f = ∂(f*d)/∂f = d = 4.0\n",
        "\n",
        "f.grad = 4.0\n",
        "\n",
        "\n",
        "\n",
        "\n",
        "\n",
        "∂L/∂d = ∂(f*d)/∂d = f = -2.0\n",
        "\n",
        "d.grad = -2.0 #\n"
      ],
      "metadata": {
        "id": "-5r5Z2b2yPXU"
      }
    },
    {
      "cell_type": "code",
      "source": [],
      "metadata": {
        "id": "yCuuZlzkxUJL"
      },
      "execution_count": null,
      "outputs": []
    }
  ]
}