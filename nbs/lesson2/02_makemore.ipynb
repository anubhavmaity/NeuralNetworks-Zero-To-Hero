{
 "cells": [
  {
   "cell_type": "markdown",
   "id": "9c4f1ec4",
   "metadata": {},
   "source": [
    "# Character Level Language Model"
   ]
  },
  {
   "cell_type": "code",
   "execution_count": null,
   "id": "d2da99f1",
   "metadata": {},
   "outputs": [],
   "source": [
    "from collections import Counter\n",
    "import numpy as np\n",
    "import torch\n",
    "from rich import print\n",
    "from rich import pretty\n",
    "from matplotlib import pyplot as plt"
   ]
  },
  {
   "cell_type": "code",
   "execution_count": null,
   "id": "5a8679cc",
   "metadata": {},
   "outputs": [],
   "source": [
    "%matplotlib inline"
   ]
  },
  {
   "cell_type": "code",
   "execution_count": null,
   "id": "db73be4b",
   "metadata": {},
   "outputs": [],
   "source": [
    "pretty.install()"
   ]
  },
  {
   "cell_type": "markdown",
   "id": "5b4b5116",
   "metadata": {},
   "source": [
    "## Bigram"
   ]
  },
  {
   "cell_type": "markdown",
   "id": "6ab556b3",
   "metadata": {},
   "source": [
    "### Read in the data"
   ]
  },
  {
   "cell_type": "code",
   "execution_count": null,
   "id": "69b4f995",
   "metadata": {},
   "outputs": [],
   "source": [
    "with open('data/names.txt') as f:\n",
    "    words = list(map(lambda x: x.strip(), f.readlines()))"
   ]
  },
  {
   "cell_type": "code",
   "execution_count": null,
   "id": "7d1752db",
   "metadata": {},
   "outputs": [
    {
     "data": {
      "text/html": [
       "<pre style=\"white-space:pre;overflow-x:auto;line-height:normal;font-family:Menlo,'DejaVu Sans Mono',consolas,'Courier New',monospace\"><span style=\"font-weight: bold\">[</span><span style=\"color: #008000; text-decoration-color: #008000\">'emma'</span>, <span style=\"color: #008000; text-decoration-color: #008000\">'olivia'</span>, <span style=\"color: #008000; text-decoration-color: #008000\">'ava'</span>, <span style=\"color: #008000; text-decoration-color: #008000\">'isabella'</span>, <span style=\"color: #008000; text-decoration-color: #008000\">'sophia'</span>, <span style=\"color: #008000; text-decoration-color: #008000\">'charlotte'</span>, <span style=\"color: #008000; text-decoration-color: #008000\">'mia'</span>, <span style=\"color: #008000; text-decoration-color: #008000\">'amelia'</span>, <span style=\"color: #008000; text-decoration-color: #008000\">'harper'</span>, <span style=\"color: #008000; text-decoration-color: #008000\">'evelyn'</span><span style=\"font-weight: bold\">]</span>\n",
       "</pre>\n"
      ],
      "text/plain": [
       "\u001b[1m[\u001b[0m\u001b[32m'emma'\u001b[0m, \u001b[32m'olivia'\u001b[0m, \u001b[32m'ava'\u001b[0m, \u001b[32m'isabella'\u001b[0m, \u001b[32m'sophia'\u001b[0m, \u001b[32m'charlotte'\u001b[0m, \u001b[32m'mia'\u001b[0m, \u001b[32m'amelia'\u001b[0m, \u001b[32m'harper'\u001b[0m, \u001b[32m'evelyn'\u001b[0m\u001b[1m]\u001b[0m\n"
      ]
     },
     "metadata": {},
     "output_type": "display_data"
    }
   ],
   "source": [
    "words[:10]"
   ]
  },
  {
   "cell_type": "code",
   "execution_count": null,
   "id": "e1fa65fb",
   "metadata": {},
   "outputs": [
    {
     "data": {
      "text/html": [
       "<pre style=\"white-space:pre;overflow-x:auto;line-height:normal;font-family:Menlo,'DejaVu Sans Mono',consolas,'Courier New',monospace\"><span style=\"color: #008080; text-decoration-color: #008080; font-weight: bold\">32033</span>\n",
       "</pre>\n"
      ],
      "text/plain": [
       "\u001b[1;36m32033\u001b[0m\n"
      ]
     },
     "metadata": {},
     "output_type": "display_data"
    }
   ],
   "source": [
    "len(words)"
   ]
  },
  {
   "cell_type": "markdown",
   "id": "4e736699",
   "metadata": {},
   "source": [
    "### Minimum Length"
   ]
  },
  {
   "cell_type": "code",
   "execution_count": null,
   "id": "f904e840",
   "metadata": {},
   "outputs": [
    {
     "data": {
      "text/html": [
       "<pre style=\"white-space:pre;overflow-x:auto;line-height:normal;font-family:Menlo,'DejaVu Sans Mono',consolas,'Courier New',monospace\"><span style=\"color: #008080; text-decoration-color: #008080; font-weight: bold\">2</span>\n",
       "</pre>\n"
      ],
      "text/plain": [
       "\u001b[1;36m2\u001b[0m\n"
      ]
     },
     "metadata": {},
     "output_type": "display_data"
    }
   ],
   "source": [
    "min(len(w) for w in words)"
   ]
  },
  {
   "cell_type": "markdown",
   "id": "f1be6a2c",
   "metadata": {},
   "source": [
    "### Maximum Length"
   ]
  },
  {
   "cell_type": "code",
   "execution_count": null,
   "id": "75b2fef9",
   "metadata": {},
   "outputs": [
    {
     "data": {
      "text/html": [
       "<pre style=\"white-space:pre;overflow-x:auto;line-height:normal;font-family:Menlo,'DejaVu Sans Mono',consolas,'Courier New',monospace\"><span style=\"color: #008080; text-decoration-color: #008080; font-weight: bold\">15</span>\n",
       "</pre>\n"
      ],
      "text/plain": [
       "\u001b[1;36m15\u001b[0m\n"
      ]
     },
     "metadata": {},
     "output_type": "display_data"
    }
   ],
   "source": [
    "max(len(w) for w in words)"
   ]
  },
  {
   "cell_type": "markdown",
   "id": "d31876de",
   "metadata": {},
   "source": [
    "### Create paring of n<sup>th</sup> and n + 1<sup>th</sup> position characters"
   ]
  },
  {
   "cell_type": "code",
   "execution_count": null,
   "id": "a36d795a",
   "metadata": {},
   "outputs": [
    {
     "data": {
      "text/html": [
       "<pre style=\"white-space:pre;overflow-x:auto;line-height:normal;font-family:Menlo,'DejaVu Sans Mono',consolas,'Courier New',monospace\">e m\n",
       "</pre>\n"
      ],
      "text/plain": [
       "e m\n"
      ]
     },
     "metadata": {},
     "output_type": "display_data"
    },
    {
     "data": {
      "text/html": [
       "<pre style=\"white-space:pre;overflow-x:auto;line-height:normal;font-family:Menlo,'DejaVu Sans Mono',consolas,'Courier New',monospace\">m m\n",
       "</pre>\n"
      ],
      "text/plain": [
       "m m\n"
      ]
     },
     "metadata": {},
     "output_type": "display_data"
    },
    {
     "data": {
      "text/html": [
       "<pre style=\"white-space:pre;overflow-x:auto;line-height:normal;font-family:Menlo,'DejaVu Sans Mono',consolas,'Courier New',monospace\">m a\n",
       "</pre>\n"
      ],
      "text/plain": [
       "m a\n"
      ]
     },
     "metadata": {},
     "output_type": "display_data"
    }
   ],
   "source": [
    "for w in words[:1]:\n",
    "    for ch1, ch2 in zip(w, w[1:]):\n",
    "        print(ch1, ch2)"
   ]
  },
  {
   "cell_type": "markdown",
   "id": "ad32efef",
   "metadata": {},
   "source": [
    "#### Add start (\\<S>) and end(\\<E>) tokens to the word\n",
    "> The model will know the starting and ending of the word"
   ]
  },
  {
   "cell_type": "code",
   "execution_count": null,
   "id": "fa141032",
   "metadata": {},
   "outputs": [],
   "source": [
    "def generate_pairings(words, start_token='<S>', end_token='<E>'):\n",
    "    for w in words:\n",
    "        chs = [start_token] + list(w) + [end_token]\n",
    "        for ch1, ch2 in zip(chs, chs[1:]):\n",
    "            yield ch1, ch2"
   ]
  },
  {
   "cell_type": "code",
   "execution_count": null,
   "id": "4ed8cabf",
   "metadata": {},
   "outputs": [
    {
     "data": {
      "text/html": [
       "<pre style=\"white-space:pre;overflow-x:auto;line-height:normal;font-family:Menlo,'DejaVu Sans Mono',consolas,'Courier New',monospace\"><span style=\"font-weight: bold\">&lt;</span><span style=\"color: #ff00ff; text-decoration-color: #ff00ff; font-weight: bold\">S</span><span style=\"font-weight: bold\">&gt;</span> e\n",
       "</pre>\n"
      ],
      "text/plain": [
       "\u001b[1m<\u001b[0m\u001b[1;95mS\u001b[0m\u001b[1m>\u001b[0m e\n"
      ]
     },
     "metadata": {},
     "output_type": "display_data"
    },
    {
     "data": {
      "text/html": [
       "<pre style=\"white-space:pre;overflow-x:auto;line-height:normal;font-family:Menlo,'DejaVu Sans Mono',consolas,'Courier New',monospace\">e m\n",
       "</pre>\n"
      ],
      "text/plain": [
       "e m\n"
      ]
     },
     "metadata": {},
     "output_type": "display_data"
    },
    {
     "data": {
      "text/html": [
       "<pre style=\"white-space:pre;overflow-x:auto;line-height:normal;font-family:Menlo,'DejaVu Sans Mono',consolas,'Courier New',monospace\">m m\n",
       "</pre>\n"
      ],
      "text/plain": [
       "m m\n"
      ]
     },
     "metadata": {},
     "output_type": "display_data"
    },
    {
     "data": {
      "text/html": [
       "<pre style=\"white-space:pre;overflow-x:auto;line-height:normal;font-family:Menlo,'DejaVu Sans Mono',consolas,'Courier New',monospace\">m a\n",
       "</pre>\n"
      ],
      "text/plain": [
       "m a\n"
      ]
     },
     "metadata": {},
     "output_type": "display_data"
    },
    {
     "data": {
      "text/html": [
       "<pre style=\"white-space:pre;overflow-x:auto;line-height:normal;font-family:Menlo,'DejaVu Sans Mono',consolas,'Courier New',monospace\">a <span style=\"font-weight: bold\">&lt;</span><span style=\"color: #ff00ff; text-decoration-color: #ff00ff; font-weight: bold\">E</span><span style=\"font-weight: bold\">&gt;</span>\n",
       "</pre>\n"
      ],
      "text/plain": [
       "a \u001b[1m<\u001b[0m\u001b[1;95mE\u001b[0m\u001b[1m>\u001b[0m\n"
      ]
     },
     "metadata": {},
     "output_type": "display_data"
    }
   ],
   "source": [
    "for ch1, ch2 in generate_pairings(words[:1]):\n",
    "    print(ch1, ch2)"
   ]
  },
  {
   "cell_type": "markdown",
   "id": "c8371fba",
   "metadata": {},
   "source": [
    "#### lets see for 3 words"
   ]
  },
  {
   "cell_type": "code",
   "execution_count": null,
   "id": "7a5c71e0",
   "metadata": {},
   "outputs": [
    {
     "data": {
      "text/html": [
       "<pre style=\"white-space:pre;overflow-x:auto;line-height:normal;font-family:Menlo,'DejaVu Sans Mono',consolas,'Courier New',monospace\"><span style=\"font-weight: bold\">&lt;</span><span style=\"color: #ff00ff; text-decoration-color: #ff00ff; font-weight: bold\">S</span><span style=\"font-weight: bold\">&gt;</span> e\n",
       "</pre>\n"
      ],
      "text/plain": [
       "\u001b[1m<\u001b[0m\u001b[1;95mS\u001b[0m\u001b[1m>\u001b[0m e\n"
      ]
     },
     "metadata": {},
     "output_type": "display_data"
    },
    {
     "data": {
      "text/html": [
       "<pre style=\"white-space:pre;overflow-x:auto;line-height:normal;font-family:Menlo,'DejaVu Sans Mono',consolas,'Courier New',monospace\">e m\n",
       "</pre>\n"
      ],
      "text/plain": [
       "e m\n"
      ]
     },
     "metadata": {},
     "output_type": "display_data"
    },
    {
     "data": {
      "text/html": [
       "<pre style=\"white-space:pre;overflow-x:auto;line-height:normal;font-family:Menlo,'DejaVu Sans Mono',consolas,'Courier New',monospace\">m m\n",
       "</pre>\n"
      ],
      "text/plain": [
       "m m\n"
      ]
     },
     "metadata": {},
     "output_type": "display_data"
    },
    {
     "data": {
      "text/html": [
       "<pre style=\"white-space:pre;overflow-x:auto;line-height:normal;font-family:Menlo,'DejaVu Sans Mono',consolas,'Courier New',monospace\">m a\n",
       "</pre>\n"
      ],
      "text/plain": [
       "m a\n"
      ]
     },
     "metadata": {},
     "output_type": "display_data"
    },
    {
     "data": {
      "text/html": [
       "<pre style=\"white-space:pre;overflow-x:auto;line-height:normal;font-family:Menlo,'DejaVu Sans Mono',consolas,'Courier New',monospace\">a <span style=\"font-weight: bold\">&lt;</span><span style=\"color: #ff00ff; text-decoration-color: #ff00ff; font-weight: bold\">E</span><span style=\"font-weight: bold\">&gt;</span>\n",
       "</pre>\n"
      ],
      "text/plain": [
       "a \u001b[1m<\u001b[0m\u001b[1;95mE\u001b[0m\u001b[1m>\u001b[0m\n"
      ]
     },
     "metadata": {},
     "output_type": "display_data"
    },
    {
     "data": {
      "text/html": [
       "<pre style=\"white-space:pre;overflow-x:auto;line-height:normal;font-family:Menlo,'DejaVu Sans Mono',consolas,'Courier New',monospace\"><span style=\"font-weight: bold\">&lt;</span><span style=\"color: #ff00ff; text-decoration-color: #ff00ff; font-weight: bold\">S</span><span style=\"font-weight: bold\">&gt;</span> o\n",
       "</pre>\n"
      ],
      "text/plain": [
       "\u001b[1m<\u001b[0m\u001b[1;95mS\u001b[0m\u001b[1m>\u001b[0m o\n"
      ]
     },
     "metadata": {},
     "output_type": "display_data"
    },
    {
     "data": {
      "text/html": [
       "<pre style=\"white-space:pre;overflow-x:auto;line-height:normal;font-family:Menlo,'DejaVu Sans Mono',consolas,'Courier New',monospace\">o l\n",
       "</pre>\n"
      ],
      "text/plain": [
       "o l\n"
      ]
     },
     "metadata": {},
     "output_type": "display_data"
    },
    {
     "data": {
      "text/html": [
       "<pre style=\"white-space:pre;overflow-x:auto;line-height:normal;font-family:Menlo,'DejaVu Sans Mono',consolas,'Courier New',monospace\">l i\n",
       "</pre>\n"
      ],
      "text/plain": [
       "l i\n"
      ]
     },
     "metadata": {},
     "output_type": "display_data"
    },
    {
     "data": {
      "text/html": [
       "<pre style=\"white-space:pre;overflow-x:auto;line-height:normal;font-family:Menlo,'DejaVu Sans Mono',consolas,'Courier New',monospace\">i v\n",
       "</pre>\n"
      ],
      "text/plain": [
       "i v\n"
      ]
     },
     "metadata": {},
     "output_type": "display_data"
    },
    {
     "data": {
      "text/html": [
       "<pre style=\"white-space:pre;overflow-x:auto;line-height:normal;font-family:Menlo,'DejaVu Sans Mono',consolas,'Courier New',monospace\">v i\n",
       "</pre>\n"
      ],
      "text/plain": [
       "v i\n"
      ]
     },
     "metadata": {},
     "output_type": "display_data"
    },
    {
     "data": {
      "text/html": [
       "<pre style=\"white-space:pre;overflow-x:auto;line-height:normal;font-family:Menlo,'DejaVu Sans Mono',consolas,'Courier New',monospace\">i a\n",
       "</pre>\n"
      ],
      "text/plain": [
       "i a\n"
      ]
     },
     "metadata": {},
     "output_type": "display_data"
    },
    {
     "data": {
      "text/html": [
       "<pre style=\"white-space:pre;overflow-x:auto;line-height:normal;font-family:Menlo,'DejaVu Sans Mono',consolas,'Courier New',monospace\">a <span style=\"font-weight: bold\">&lt;</span><span style=\"color: #ff00ff; text-decoration-color: #ff00ff; font-weight: bold\">E</span><span style=\"font-weight: bold\">&gt;</span>\n",
       "</pre>\n"
      ],
      "text/plain": [
       "a \u001b[1m<\u001b[0m\u001b[1;95mE\u001b[0m\u001b[1m>\u001b[0m\n"
      ]
     },
     "metadata": {},
     "output_type": "display_data"
    },
    {
     "data": {
      "text/html": [
       "<pre style=\"white-space:pre;overflow-x:auto;line-height:normal;font-family:Menlo,'DejaVu Sans Mono',consolas,'Courier New',monospace\"><span style=\"font-weight: bold\">&lt;</span><span style=\"color: #ff00ff; text-decoration-color: #ff00ff; font-weight: bold\">S</span><span style=\"font-weight: bold\">&gt;</span> a\n",
       "</pre>\n"
      ],
      "text/plain": [
       "\u001b[1m<\u001b[0m\u001b[1;95mS\u001b[0m\u001b[1m>\u001b[0m a\n"
      ]
     },
     "metadata": {},
     "output_type": "display_data"
    },
    {
     "data": {
      "text/html": [
       "<pre style=\"white-space:pre;overflow-x:auto;line-height:normal;font-family:Menlo,'DejaVu Sans Mono',consolas,'Courier New',monospace\">a v\n",
       "</pre>\n"
      ],
      "text/plain": [
       "a v\n"
      ]
     },
     "metadata": {},
     "output_type": "display_data"
    },
    {
     "data": {
      "text/html": [
       "<pre style=\"white-space:pre;overflow-x:auto;line-height:normal;font-family:Menlo,'DejaVu Sans Mono',consolas,'Courier New',monospace\">v a\n",
       "</pre>\n"
      ],
      "text/plain": [
       "v a\n"
      ]
     },
     "metadata": {},
     "output_type": "display_data"
    },
    {
     "data": {
      "text/html": [
       "<pre style=\"white-space:pre;overflow-x:auto;line-height:normal;font-family:Menlo,'DejaVu Sans Mono',consolas,'Courier New',monospace\">a <span style=\"font-weight: bold\">&lt;</span><span style=\"color: #ff00ff; text-decoration-color: #ff00ff; font-weight: bold\">E</span><span style=\"font-weight: bold\">&gt;</span>\n",
       "</pre>\n"
      ],
      "text/plain": [
       "a \u001b[1m<\u001b[0m\u001b[1;95mE\u001b[0m\u001b[1m>\u001b[0m\n"
      ]
     },
     "metadata": {},
     "output_type": "display_data"
    }
   ],
   "source": [
    "for ch1, ch2 in generate_pairings(words[:3]):\n",
    "    print(ch1, ch2)"
   ]
  },
  {
   "cell_type": "markdown",
   "id": "d29a2507",
   "metadata": {},
   "source": [
    "### Count of bigrams"
   ]
  },
  {
   "cell_type": "markdown",
   "id": "2734a114",
   "metadata": {},
   "source": [
    "#### Bigram for 3 words"
   ]
  },
  {
   "cell_type": "code",
   "execution_count": null,
   "id": "f120d7ea",
   "metadata": {},
   "outputs": [],
   "source": [
    "def create_bigram_counter(words):\n",
    "    b = Counter()\n",
    "    for ch1, ch2 in generate_pairings(words):\n",
    "        bigram = (ch1, ch2)\n",
    "        b[bigram] += 1\n",
    "    return b"
   ]
  },
  {
   "cell_type": "code",
   "execution_count": null,
   "id": "bfd16b32",
   "metadata": {},
   "outputs": [
    {
     "data": {
      "text/html": [
       "<pre style=\"white-space:pre;overflow-x:auto;line-height:normal;font-family:Menlo,'DejaVu Sans Mono',consolas,'Courier New',monospace\">\n",
       "<span style=\"color: #800080; text-decoration-color: #800080; font-weight: bold\">Counter</span><span style=\"font-weight: bold\">({</span>\n",
       "    <span style=\"font-weight: bold\">(</span><span style=\"color: #008000; text-decoration-color: #008000\">'&lt;S&gt;'</span>, <span style=\"color: #008000; text-decoration-color: #008000\">'e'</span><span style=\"font-weight: bold\">)</span>: <span style=\"color: #008080; text-decoration-color: #008080; font-weight: bold\">1</span>,\n",
       "    <span style=\"font-weight: bold\">(</span><span style=\"color: #008000; text-decoration-color: #008000\">'e'</span>, <span style=\"color: #008000; text-decoration-color: #008000\">'m'</span><span style=\"font-weight: bold\">)</span>: <span style=\"color: #008080; text-decoration-color: #008080; font-weight: bold\">1</span>,\n",
       "    <span style=\"font-weight: bold\">(</span><span style=\"color: #008000; text-decoration-color: #008000\">'m'</span>, <span style=\"color: #008000; text-decoration-color: #008000\">'m'</span><span style=\"font-weight: bold\">)</span>: <span style=\"color: #008080; text-decoration-color: #008080; font-weight: bold\">1</span>,\n",
       "    <span style=\"font-weight: bold\">(</span><span style=\"color: #008000; text-decoration-color: #008000\">'m'</span>, <span style=\"color: #008000; text-decoration-color: #008000\">'a'</span><span style=\"font-weight: bold\">)</span>: <span style=\"color: #008080; text-decoration-color: #008080; font-weight: bold\">1</span>,\n",
       "    <span style=\"font-weight: bold\">(</span><span style=\"color: #008000; text-decoration-color: #008000\">'a'</span>, <span style=\"color: #008000; text-decoration-color: #008000\">'&lt;E&gt;'</span><span style=\"font-weight: bold\">)</span>: <span style=\"color: #008080; text-decoration-color: #008080; font-weight: bold\">3</span>,\n",
       "    <span style=\"font-weight: bold\">(</span><span style=\"color: #008000; text-decoration-color: #008000\">'&lt;S&gt;'</span>, <span style=\"color: #008000; text-decoration-color: #008000\">'o'</span><span style=\"font-weight: bold\">)</span>: <span style=\"color: #008080; text-decoration-color: #008080; font-weight: bold\">1</span>,\n",
       "    <span style=\"font-weight: bold\">(</span><span style=\"color: #008000; text-decoration-color: #008000\">'o'</span>, <span style=\"color: #008000; text-decoration-color: #008000\">'l'</span><span style=\"font-weight: bold\">)</span>: <span style=\"color: #008080; text-decoration-color: #008080; font-weight: bold\">1</span>,\n",
       "    <span style=\"font-weight: bold\">(</span><span style=\"color: #008000; text-decoration-color: #008000\">'l'</span>, <span style=\"color: #008000; text-decoration-color: #008000\">'i'</span><span style=\"font-weight: bold\">)</span>: <span style=\"color: #008080; text-decoration-color: #008080; font-weight: bold\">1</span>,\n",
       "    <span style=\"font-weight: bold\">(</span><span style=\"color: #008000; text-decoration-color: #008000\">'i'</span>, <span style=\"color: #008000; text-decoration-color: #008000\">'v'</span><span style=\"font-weight: bold\">)</span>: <span style=\"color: #008080; text-decoration-color: #008080; font-weight: bold\">1</span>,\n",
       "    <span style=\"font-weight: bold\">(</span><span style=\"color: #008000; text-decoration-color: #008000\">'v'</span>, <span style=\"color: #008000; text-decoration-color: #008000\">'i'</span><span style=\"font-weight: bold\">)</span>: <span style=\"color: #008080; text-decoration-color: #008080; font-weight: bold\">1</span>,\n",
       "    <span style=\"font-weight: bold\">(</span><span style=\"color: #008000; text-decoration-color: #008000\">'i'</span>, <span style=\"color: #008000; text-decoration-color: #008000\">'a'</span><span style=\"font-weight: bold\">)</span>: <span style=\"color: #008080; text-decoration-color: #008080; font-weight: bold\">1</span>,\n",
       "    <span style=\"font-weight: bold\">(</span><span style=\"color: #008000; text-decoration-color: #008000\">'&lt;S&gt;'</span>, <span style=\"color: #008000; text-decoration-color: #008000\">'a'</span><span style=\"font-weight: bold\">)</span>: <span style=\"color: #008080; text-decoration-color: #008080; font-weight: bold\">1</span>,\n",
       "    <span style=\"font-weight: bold\">(</span><span style=\"color: #008000; text-decoration-color: #008000\">'a'</span>, <span style=\"color: #008000; text-decoration-color: #008000\">'v'</span><span style=\"font-weight: bold\">)</span>: <span style=\"color: #008080; text-decoration-color: #008080; font-weight: bold\">1</span>,\n",
       "    <span style=\"font-weight: bold\">(</span><span style=\"color: #008000; text-decoration-color: #008000\">'v'</span>, <span style=\"color: #008000; text-decoration-color: #008000\">'a'</span><span style=\"font-weight: bold\">)</span>: <span style=\"color: #008080; text-decoration-color: #008080; font-weight: bold\">1</span>\n",
       "<span style=\"font-weight: bold\">})</span>\n",
       "</pre>\n"
      ],
      "text/plain": [
       "\n",
       "\u001b[1;35mCounter\u001b[0m\u001b[1m(\u001b[0m\u001b[1m{\u001b[0m\n",
       "    \u001b[1m(\u001b[0m\u001b[32m'\u001b[0m\u001b[32m<\u001b[0m\u001b[32mS\u001b[0m\u001b[32m>\u001b[0m\u001b[32m'\u001b[0m, \u001b[32m'e'\u001b[0m\u001b[1m)\u001b[0m: \u001b[1;36m1\u001b[0m,\n",
       "    \u001b[1m(\u001b[0m\u001b[32m'e'\u001b[0m, \u001b[32m'm'\u001b[0m\u001b[1m)\u001b[0m: \u001b[1;36m1\u001b[0m,\n",
       "    \u001b[1m(\u001b[0m\u001b[32m'm'\u001b[0m, \u001b[32m'm'\u001b[0m\u001b[1m)\u001b[0m: \u001b[1;36m1\u001b[0m,\n",
       "    \u001b[1m(\u001b[0m\u001b[32m'm'\u001b[0m, \u001b[32m'a'\u001b[0m\u001b[1m)\u001b[0m: \u001b[1;36m1\u001b[0m,\n",
       "    \u001b[1m(\u001b[0m\u001b[32m'a'\u001b[0m, \u001b[32m'\u001b[0m\u001b[32m<\u001b[0m\u001b[32mE\u001b[0m\u001b[32m>\u001b[0m\u001b[32m'\u001b[0m\u001b[1m)\u001b[0m: \u001b[1;36m3\u001b[0m,\n",
       "    \u001b[1m(\u001b[0m\u001b[32m'\u001b[0m\u001b[32m<\u001b[0m\u001b[32mS\u001b[0m\u001b[32m>\u001b[0m\u001b[32m'\u001b[0m, \u001b[32m'o'\u001b[0m\u001b[1m)\u001b[0m: \u001b[1;36m1\u001b[0m,\n",
       "    \u001b[1m(\u001b[0m\u001b[32m'o'\u001b[0m, \u001b[32m'l'\u001b[0m\u001b[1m)\u001b[0m: \u001b[1;36m1\u001b[0m,\n",
       "    \u001b[1m(\u001b[0m\u001b[32m'l'\u001b[0m, \u001b[32m'i'\u001b[0m\u001b[1m)\u001b[0m: \u001b[1;36m1\u001b[0m,\n",
       "    \u001b[1m(\u001b[0m\u001b[32m'i'\u001b[0m, \u001b[32m'v'\u001b[0m\u001b[1m)\u001b[0m: \u001b[1;36m1\u001b[0m,\n",
       "    \u001b[1m(\u001b[0m\u001b[32m'v'\u001b[0m, \u001b[32m'i'\u001b[0m\u001b[1m)\u001b[0m: \u001b[1;36m1\u001b[0m,\n",
       "    \u001b[1m(\u001b[0m\u001b[32m'i'\u001b[0m, \u001b[32m'a'\u001b[0m\u001b[1m)\u001b[0m: \u001b[1;36m1\u001b[0m,\n",
       "    \u001b[1m(\u001b[0m\u001b[32m'\u001b[0m\u001b[32m<\u001b[0m\u001b[32mS\u001b[0m\u001b[32m>\u001b[0m\u001b[32m'\u001b[0m, \u001b[32m'a'\u001b[0m\u001b[1m)\u001b[0m: \u001b[1;36m1\u001b[0m,\n",
       "    \u001b[1m(\u001b[0m\u001b[32m'a'\u001b[0m, \u001b[32m'v'\u001b[0m\u001b[1m)\u001b[0m: \u001b[1;36m1\u001b[0m,\n",
       "    \u001b[1m(\u001b[0m\u001b[32m'v'\u001b[0m, \u001b[32m'a'\u001b[0m\u001b[1m)\u001b[0m: \u001b[1;36m1\u001b[0m\n",
       "\u001b[1m}\u001b[0m\u001b[1m)\u001b[0m\n"
      ]
     },
     "metadata": {},
     "output_type": "display_data"
    }
   ],
   "source": [
    "create_bigram_counter(words[:3])"
   ]
  },
  {
   "cell_type": "markdown",
   "id": "5df8b28d",
   "metadata": {},
   "source": [
    "#### Bigram for all words"
   ]
  },
  {
   "cell_type": "code",
   "execution_count": null,
   "id": "fc1412ac",
   "metadata": {},
   "outputs": [],
   "source": [
    "b = create_bigram_counter(words)"
   ]
  },
  {
   "cell_type": "code",
   "execution_count": null,
   "id": "91911ac7",
   "metadata": {},
   "outputs": [
    {
     "data": {
      "text/html": [
       "<pre style=\"white-space:pre;overflow-x:auto;line-height:normal;font-family:Menlo,'DejaVu Sans Mono',consolas,'Courier New',monospace\">\n",
       "<span style=\"font-weight: bold\">[</span>\n",
       "    <span style=\"font-weight: bold\">((</span><span style=\"color: #008000; text-decoration-color: #008000\">'n'</span>, <span style=\"color: #008000; text-decoration-color: #008000\">'&lt;E&gt;'</span><span style=\"font-weight: bold\">)</span>, <span style=\"color: #008080; text-decoration-color: #008080; font-weight: bold\">6763</span><span style=\"font-weight: bold\">)</span>,\n",
       "    <span style=\"font-weight: bold\">((</span><span style=\"color: #008000; text-decoration-color: #008000\">'a'</span>, <span style=\"color: #008000; text-decoration-color: #008000\">'&lt;E&gt;'</span><span style=\"font-weight: bold\">)</span>, <span style=\"color: #008080; text-decoration-color: #008080; font-weight: bold\">6640</span><span style=\"font-weight: bold\">)</span>,\n",
       "    <span style=\"font-weight: bold\">((</span><span style=\"color: #008000; text-decoration-color: #008000\">'a'</span>, <span style=\"color: #008000; text-decoration-color: #008000\">'n'</span><span style=\"font-weight: bold\">)</span>, <span style=\"color: #008080; text-decoration-color: #008080; font-weight: bold\">5438</span><span style=\"font-weight: bold\">)</span>,\n",
       "    <span style=\"font-weight: bold\">((</span><span style=\"color: #008000; text-decoration-color: #008000\">'&lt;S&gt;'</span>, <span style=\"color: #008000; text-decoration-color: #008000\">'a'</span><span style=\"font-weight: bold\">)</span>, <span style=\"color: #008080; text-decoration-color: #008080; font-weight: bold\">4410</span><span style=\"font-weight: bold\">)</span>,\n",
       "    <span style=\"font-weight: bold\">((</span><span style=\"color: #008000; text-decoration-color: #008000\">'e'</span>, <span style=\"color: #008000; text-decoration-color: #008000\">'&lt;E&gt;'</span><span style=\"font-weight: bold\">)</span>, <span style=\"color: #008080; text-decoration-color: #008080; font-weight: bold\">3983</span><span style=\"font-weight: bold\">)</span>,\n",
       "    <span style=\"font-weight: bold\">((</span><span style=\"color: #008000; text-decoration-color: #008000\">'a'</span>, <span style=\"color: #008000; text-decoration-color: #008000\">'r'</span><span style=\"font-weight: bold\">)</span>, <span style=\"color: #008080; text-decoration-color: #008080; font-weight: bold\">3264</span><span style=\"font-weight: bold\">)</span>,\n",
       "    <span style=\"font-weight: bold\">((</span><span style=\"color: #008000; text-decoration-color: #008000\">'e'</span>, <span style=\"color: #008000; text-decoration-color: #008000\">'l'</span><span style=\"font-weight: bold\">)</span>, <span style=\"color: #008080; text-decoration-color: #008080; font-weight: bold\">3248</span><span style=\"font-weight: bold\">)</span>,\n",
       "    <span style=\"font-weight: bold\">((</span><span style=\"color: #008000; text-decoration-color: #008000\">'r'</span>, <span style=\"color: #008000; text-decoration-color: #008000\">'i'</span><span style=\"font-weight: bold\">)</span>, <span style=\"color: #008080; text-decoration-color: #008080; font-weight: bold\">3033</span><span style=\"font-weight: bold\">)</span>,\n",
       "    <span style=\"font-weight: bold\">((</span><span style=\"color: #008000; text-decoration-color: #008000\">'n'</span>, <span style=\"color: #008000; text-decoration-color: #008000\">'a'</span><span style=\"font-weight: bold\">)</span>, <span style=\"color: #008080; text-decoration-color: #008080; font-weight: bold\">2977</span><span style=\"font-weight: bold\">)</span>,\n",
       "    <span style=\"font-weight: bold\">((</span><span style=\"color: #008000; text-decoration-color: #008000\">'&lt;S&gt;'</span>, <span style=\"color: #008000; text-decoration-color: #008000\">'k'</span><span style=\"font-weight: bold\">)</span>, <span style=\"color: #008080; text-decoration-color: #008080; font-weight: bold\">2963</span><span style=\"font-weight: bold\">)</span>\n",
       "<span style=\"font-weight: bold\">]</span>\n",
       "</pre>\n"
      ],
      "text/plain": [
       "\n",
       "\u001b[1m[\u001b[0m\n",
       "    \u001b[1m(\u001b[0m\u001b[1m(\u001b[0m\u001b[32m'n'\u001b[0m, \u001b[32m'\u001b[0m\u001b[32m<\u001b[0m\u001b[32mE\u001b[0m\u001b[32m>\u001b[0m\u001b[32m'\u001b[0m\u001b[1m)\u001b[0m, \u001b[1;36m6763\u001b[0m\u001b[1m)\u001b[0m,\n",
       "    \u001b[1m(\u001b[0m\u001b[1m(\u001b[0m\u001b[32m'a'\u001b[0m, \u001b[32m'\u001b[0m\u001b[32m<\u001b[0m\u001b[32mE\u001b[0m\u001b[32m>\u001b[0m\u001b[32m'\u001b[0m\u001b[1m)\u001b[0m, \u001b[1;36m6640\u001b[0m\u001b[1m)\u001b[0m,\n",
       "    \u001b[1m(\u001b[0m\u001b[1m(\u001b[0m\u001b[32m'a'\u001b[0m, \u001b[32m'n'\u001b[0m\u001b[1m)\u001b[0m, \u001b[1;36m5438\u001b[0m\u001b[1m)\u001b[0m,\n",
       "    \u001b[1m(\u001b[0m\u001b[1m(\u001b[0m\u001b[32m'\u001b[0m\u001b[32m<\u001b[0m\u001b[32mS\u001b[0m\u001b[32m>\u001b[0m\u001b[32m'\u001b[0m, \u001b[32m'a'\u001b[0m\u001b[1m)\u001b[0m, \u001b[1;36m4410\u001b[0m\u001b[1m)\u001b[0m,\n",
       "    \u001b[1m(\u001b[0m\u001b[1m(\u001b[0m\u001b[32m'e'\u001b[0m, \u001b[32m'\u001b[0m\u001b[32m<\u001b[0m\u001b[32mE\u001b[0m\u001b[32m>\u001b[0m\u001b[32m'\u001b[0m\u001b[1m)\u001b[0m, \u001b[1;36m3983\u001b[0m\u001b[1m)\u001b[0m,\n",
       "    \u001b[1m(\u001b[0m\u001b[1m(\u001b[0m\u001b[32m'a'\u001b[0m, \u001b[32m'r'\u001b[0m\u001b[1m)\u001b[0m, \u001b[1;36m3264\u001b[0m\u001b[1m)\u001b[0m,\n",
       "    \u001b[1m(\u001b[0m\u001b[1m(\u001b[0m\u001b[32m'e'\u001b[0m, \u001b[32m'l'\u001b[0m\u001b[1m)\u001b[0m, \u001b[1;36m3248\u001b[0m\u001b[1m)\u001b[0m,\n",
       "    \u001b[1m(\u001b[0m\u001b[1m(\u001b[0m\u001b[32m'r'\u001b[0m, \u001b[32m'i'\u001b[0m\u001b[1m)\u001b[0m, \u001b[1;36m3033\u001b[0m\u001b[1m)\u001b[0m,\n",
       "    \u001b[1m(\u001b[0m\u001b[1m(\u001b[0m\u001b[32m'n'\u001b[0m, \u001b[32m'a'\u001b[0m\u001b[1m)\u001b[0m, \u001b[1;36m2977\u001b[0m\u001b[1m)\u001b[0m,\n",
       "    \u001b[1m(\u001b[0m\u001b[1m(\u001b[0m\u001b[32m'\u001b[0m\u001b[32m<\u001b[0m\u001b[32mS\u001b[0m\u001b[32m>\u001b[0m\u001b[32m'\u001b[0m, \u001b[32m'k'\u001b[0m\u001b[1m)\u001b[0m, \u001b[1;36m2963\u001b[0m\u001b[1m)\u001b[0m\n",
       "\u001b[1m]\u001b[0m\n"
      ]
     },
     "metadata": {},
     "output_type": "display_data"
    }
   ],
   "source": [
    "b.most_common(10)"
   ]
  },
  {
   "cell_type": "markdown",
   "id": "01711fd7",
   "metadata": {},
   "source": [
    "### Create 2D array of the bigram\n"
   ]
  },
  {
   "cell_type": "markdown",
   "id": "f427e9d1",
   "metadata": {},
   "source": [
    "#### Little warmup with `tensors`"
   ]
  },
  {
   "cell_type": "code",
   "execution_count": null,
   "id": "c94ce2a1",
   "metadata": {},
   "outputs": [
    {
     "data": {
      "text/html": [
       "<pre style=\"white-space:pre;overflow-x:auto;line-height:normal;font-family:Menlo,'DejaVu Sans Mono',consolas,'Courier New',monospace\">\n",
       "<span style=\"color: #800080; text-decoration-color: #800080; font-weight: bold\">tensor</span><span style=\"font-weight: bold\">([[</span><span style=\"color: #008080; text-decoration-color: #008080; font-weight: bold\">0</span>, <span style=\"color: #008080; text-decoration-color: #008080; font-weight: bold\">0</span>, <span style=\"color: #008080; text-decoration-color: #008080; font-weight: bold\">0</span>, <span style=\"color: #008080; text-decoration-color: #008080; font-weight: bold\">0</span>, <span style=\"color: #008080; text-decoration-color: #008080; font-weight: bold\">0</span><span style=\"font-weight: bold\">]</span>,\n",
       "        <span style=\"font-weight: bold\">[</span><span style=\"color: #008080; text-decoration-color: #008080; font-weight: bold\">0</span>, <span style=\"color: #008080; text-decoration-color: #008080; font-weight: bold\">0</span>, <span style=\"color: #008080; text-decoration-color: #008080; font-weight: bold\">0</span>, <span style=\"color: #008080; text-decoration-color: #008080; font-weight: bold\">0</span>, <span style=\"color: #008080; text-decoration-color: #008080; font-weight: bold\">0</span><span style=\"font-weight: bold\">]</span>,\n",
       "        <span style=\"font-weight: bold\">[</span><span style=\"color: #008080; text-decoration-color: #008080; font-weight: bold\">0</span>, <span style=\"color: #008080; text-decoration-color: #008080; font-weight: bold\">0</span>, <span style=\"color: #008080; text-decoration-color: #008080; font-weight: bold\">0</span>, <span style=\"color: #008080; text-decoration-color: #008080; font-weight: bold\">0</span>, <span style=\"color: #008080; text-decoration-color: #008080; font-weight: bold\">0</span><span style=\"font-weight: bold\">]]</span>, <span style=\"color: #808000; text-decoration-color: #808000\">dtype</span>=<span style=\"color: #800080; text-decoration-color: #800080\">torch</span>.int32<span style=\"font-weight: bold\">)</span>\n",
       "</pre>\n"
      ],
      "text/plain": [
       "\n",
       "\u001b[1;35mtensor\u001b[0m\u001b[1m(\u001b[0m\u001b[1m[\u001b[0m\u001b[1m[\u001b[0m\u001b[1;36m0\u001b[0m, \u001b[1;36m0\u001b[0m, \u001b[1;36m0\u001b[0m, \u001b[1;36m0\u001b[0m, \u001b[1;36m0\u001b[0m\u001b[1m]\u001b[0m,\n",
       "        \u001b[1m[\u001b[0m\u001b[1;36m0\u001b[0m, \u001b[1;36m0\u001b[0m, \u001b[1;36m0\u001b[0m, \u001b[1;36m0\u001b[0m, \u001b[1;36m0\u001b[0m\u001b[1m]\u001b[0m,\n",
       "        \u001b[1m[\u001b[0m\u001b[1;36m0\u001b[0m, \u001b[1;36m0\u001b[0m, \u001b[1;36m0\u001b[0m, \u001b[1;36m0\u001b[0m, \u001b[1;36m0\u001b[0m\u001b[1m]\u001b[0m\u001b[1m]\u001b[0m, \u001b[33mdtype\u001b[0m=\u001b[35mtorch\u001b[0m.int32\u001b[1m)\u001b[0m\n"
      ]
     },
     "metadata": {},
     "output_type": "display_data"
    }
   ],
   "source": [
    "a = torch.zeros((3, 5), dtype=torch.int32)\n",
    "a"
   ]
  },
  {
   "cell_type": "code",
   "execution_count": null,
   "id": "4c765e98",
   "metadata": {},
   "outputs": [
    {
     "data": {
      "text/html": [
       "<pre style=\"white-space:pre;overflow-x:auto;line-height:normal;font-family:Menlo,'DejaVu Sans Mono',consolas,'Courier New',monospace\">torch.int32\n",
       "</pre>\n"
      ],
      "text/plain": [
       "torch.int32\n"
      ]
     },
     "metadata": {},
     "output_type": "display_data"
    }
   ],
   "source": [
    "a.dtype"
   ]
  },
  {
   "cell_type": "code",
   "execution_count": null,
   "id": "5e7a9a5b",
   "metadata": {},
   "outputs": [
    {
     "data": {
      "text/html": [
       "<pre style=\"white-space:pre;overflow-x:auto;line-height:normal;font-family:Menlo,'DejaVu Sans Mono',consolas,'Courier New',monospace\">\n",
       "<span style=\"color: #800080; text-decoration-color: #800080; font-weight: bold\">tensor</span><span style=\"font-weight: bold\">([[</span><span style=\"color: #008080; text-decoration-color: #008080; font-weight: bold\">0</span>, <span style=\"color: #008080; text-decoration-color: #008080; font-weight: bold\">0</span>, <span style=\"color: #008080; text-decoration-color: #008080; font-weight: bold\">0</span>, <span style=\"color: #008080; text-decoration-color: #008080; font-weight: bold\">0</span>, <span style=\"color: #008080; text-decoration-color: #008080; font-weight: bold\">0</span><span style=\"font-weight: bold\">]</span>,\n",
       "        <span style=\"font-weight: bold\">[</span><span style=\"color: #008080; text-decoration-color: #008080; font-weight: bold\">0</span>, <span style=\"color: #008080; text-decoration-color: #008080; font-weight: bold\">0</span>, <span style=\"color: #008080; text-decoration-color: #008080; font-weight: bold\">0</span>, <span style=\"color: #008080; text-decoration-color: #008080; font-weight: bold\">1</span>, <span style=\"color: #008080; text-decoration-color: #008080; font-weight: bold\">0</span><span style=\"font-weight: bold\">]</span>,\n",
       "        <span style=\"font-weight: bold\">[</span><span style=\"color: #008080; text-decoration-color: #008080; font-weight: bold\">0</span>, <span style=\"color: #008080; text-decoration-color: #008080; font-weight: bold\">0</span>, <span style=\"color: #008080; text-decoration-color: #008080; font-weight: bold\">0</span>, <span style=\"color: #008080; text-decoration-color: #008080; font-weight: bold\">0</span>, <span style=\"color: #008080; text-decoration-color: #008080; font-weight: bold\">0</span><span style=\"font-weight: bold\">]]</span>, <span style=\"color: #808000; text-decoration-color: #808000\">dtype</span>=<span style=\"color: #800080; text-decoration-color: #800080\">torch</span>.int32<span style=\"font-weight: bold\">)</span>\n",
       "</pre>\n"
      ],
      "text/plain": [
       "\n",
       "\u001b[1;35mtensor\u001b[0m\u001b[1m(\u001b[0m\u001b[1m[\u001b[0m\u001b[1m[\u001b[0m\u001b[1;36m0\u001b[0m, \u001b[1;36m0\u001b[0m, \u001b[1;36m0\u001b[0m, \u001b[1;36m0\u001b[0m, \u001b[1;36m0\u001b[0m\u001b[1m]\u001b[0m,\n",
       "        \u001b[1m[\u001b[0m\u001b[1;36m0\u001b[0m, \u001b[1;36m0\u001b[0m, \u001b[1;36m0\u001b[0m, \u001b[1;36m1\u001b[0m, \u001b[1;36m0\u001b[0m\u001b[1m]\u001b[0m,\n",
       "        \u001b[1m[\u001b[0m\u001b[1;36m0\u001b[0m, \u001b[1;36m0\u001b[0m, \u001b[1;36m0\u001b[0m, \u001b[1;36m0\u001b[0m, \u001b[1;36m0\u001b[0m\u001b[1m]\u001b[0m\u001b[1m]\u001b[0m, \u001b[33mdtype\u001b[0m=\u001b[35mtorch\u001b[0m.int32\u001b[1m)\u001b[0m\n"
      ]
     },
     "metadata": {},
     "output_type": "display_data"
    }
   ],
   "source": [
    "a[1,3] = 1\n",
    "a"
   ]
  },
  {
   "cell_type": "code",
   "execution_count": null,
   "id": "f46ad1af",
   "metadata": {},
   "outputs": [
    {
     "data": {
      "text/html": [
       "<pre style=\"white-space:pre;overflow-x:auto;line-height:normal;font-family:Menlo,'DejaVu Sans Mono',consolas,'Courier New',monospace\">\n",
       "<span style=\"color: #800080; text-decoration-color: #800080; font-weight: bold\">tensor</span><span style=\"font-weight: bold\">([[</span><span style=\"color: #008080; text-decoration-color: #008080; font-weight: bold\">0</span>, <span style=\"color: #008080; text-decoration-color: #008080; font-weight: bold\">0</span>, <span style=\"color: #008080; text-decoration-color: #008080; font-weight: bold\">0</span>, <span style=\"color: #008080; text-decoration-color: #008080; font-weight: bold\">0</span>, <span style=\"color: #008080; text-decoration-color: #008080; font-weight: bold\">0</span><span style=\"font-weight: bold\">]</span>,\n",
       "        <span style=\"font-weight: bold\">[</span><span style=\"color: #008080; text-decoration-color: #008080; font-weight: bold\">0</span>, <span style=\"color: #008080; text-decoration-color: #008080; font-weight: bold\">0</span>, <span style=\"color: #008080; text-decoration-color: #008080; font-weight: bold\">0</span>, <span style=\"color: #008080; text-decoration-color: #008080; font-weight: bold\">2</span>, <span style=\"color: #008080; text-decoration-color: #008080; font-weight: bold\">0</span><span style=\"font-weight: bold\">]</span>,\n",
       "        <span style=\"font-weight: bold\">[</span><span style=\"color: #008080; text-decoration-color: #008080; font-weight: bold\">0</span>, <span style=\"color: #008080; text-decoration-color: #008080; font-weight: bold\">0</span>, <span style=\"color: #008080; text-decoration-color: #008080; font-weight: bold\">0</span>, <span style=\"color: #008080; text-decoration-color: #008080; font-weight: bold\">0</span>, <span style=\"color: #008080; text-decoration-color: #008080; font-weight: bold\">0</span><span style=\"font-weight: bold\">]]</span>, <span style=\"color: #808000; text-decoration-color: #808000\">dtype</span>=<span style=\"color: #800080; text-decoration-color: #800080\">torch</span>.int32<span style=\"font-weight: bold\">)</span>\n",
       "</pre>\n"
      ],
      "text/plain": [
       "\n",
       "\u001b[1;35mtensor\u001b[0m\u001b[1m(\u001b[0m\u001b[1m[\u001b[0m\u001b[1m[\u001b[0m\u001b[1;36m0\u001b[0m, \u001b[1;36m0\u001b[0m, \u001b[1;36m0\u001b[0m, \u001b[1;36m0\u001b[0m, \u001b[1;36m0\u001b[0m\u001b[1m]\u001b[0m,\n",
       "        \u001b[1m[\u001b[0m\u001b[1;36m0\u001b[0m, \u001b[1;36m0\u001b[0m, \u001b[1;36m0\u001b[0m, \u001b[1;36m2\u001b[0m, \u001b[1;36m0\u001b[0m\u001b[1m]\u001b[0m,\n",
       "        \u001b[1m[\u001b[0m\u001b[1;36m0\u001b[0m, \u001b[1;36m0\u001b[0m, \u001b[1;36m0\u001b[0m, \u001b[1;36m0\u001b[0m, \u001b[1;36m0\u001b[0m\u001b[1m]\u001b[0m\u001b[1m]\u001b[0m, \u001b[33mdtype\u001b[0m=\u001b[35mtorch\u001b[0m.int32\u001b[1m)\u001b[0m\n"
      ]
     },
     "metadata": {},
     "output_type": "display_data"
    }
   ],
   "source": [
    "a[1, 3] += 1\n",
    "a"
   ]
  },
  {
   "cell_type": "markdown",
   "id": "e28e06b2",
   "metadata": {},
   "source": [
    "#### 2D matrix of alpahabets"
   ]
  },
  {
   "cell_type": "code",
   "execution_count": null,
   "id": "02e61339",
   "metadata": {},
   "outputs": [],
   "source": [
    "def get_stoi(words, start_token, end_token, tokens_at_start=True):\n",
    "    chars = []\n",
    "    if tokens_at_start:\n",
    "        chars.append(start_token)\n",
    "        if start_token != end_token: chars.append(end_token)\n",
    "        \n",
    "    chars.extend(sorted(list(set(''.join(words)))))\n",
    "\n",
    "    if not tokens_at_start:\n",
    "        chars.append(start_token)\n",
    "        if start_token != end_token: chars.append(end_token)\n",
    "\n",
    "    stoi = {s:i for i,s in enumerate(chars)}\n",
    "    \n",
    "    return stoi"
   ]
  },
  {
   "cell_type": "code",
   "execution_count": null,
   "id": "81d7f8b1",
   "metadata": {},
   "outputs": [
    {
     "data": {
      "text/html": [
       "<pre style=\"white-space:pre;overflow-x:auto;line-height:normal;font-family:Menlo,'DejaVu Sans Mono',consolas,'Courier New',monospace\">\n",
       "<span style=\"font-weight: bold\">{</span>\n",
       "    <span style=\"color: #008000; text-decoration-color: #008000\">'a'</span>: <span style=\"color: #008080; text-decoration-color: #008080; font-weight: bold\">0</span>,\n",
       "    <span style=\"color: #008000; text-decoration-color: #008000\">'b'</span>: <span style=\"color: #008080; text-decoration-color: #008080; font-weight: bold\">1</span>,\n",
       "    <span style=\"color: #008000; text-decoration-color: #008000\">'c'</span>: <span style=\"color: #008080; text-decoration-color: #008080; font-weight: bold\">2</span>,\n",
       "    <span style=\"color: #008000; text-decoration-color: #008000\">'d'</span>: <span style=\"color: #008080; text-decoration-color: #008080; font-weight: bold\">3</span>,\n",
       "    <span style=\"color: #008000; text-decoration-color: #008000\">'e'</span>: <span style=\"color: #008080; text-decoration-color: #008080; font-weight: bold\">4</span>,\n",
       "    <span style=\"color: #008000; text-decoration-color: #008000\">'f'</span>: <span style=\"color: #008080; text-decoration-color: #008080; font-weight: bold\">5</span>,\n",
       "    <span style=\"color: #008000; text-decoration-color: #008000\">'g'</span>: <span style=\"color: #008080; text-decoration-color: #008080; font-weight: bold\">6</span>,\n",
       "    <span style=\"color: #008000; text-decoration-color: #008000\">'h'</span>: <span style=\"color: #008080; text-decoration-color: #008080; font-weight: bold\">7</span>,\n",
       "    <span style=\"color: #008000; text-decoration-color: #008000\">'i'</span>: <span style=\"color: #008080; text-decoration-color: #008080; font-weight: bold\">8</span>,\n",
       "    <span style=\"color: #008000; text-decoration-color: #008000\">'j'</span>: <span style=\"color: #008080; text-decoration-color: #008080; font-weight: bold\">9</span>,\n",
       "    <span style=\"color: #008000; text-decoration-color: #008000\">'k'</span>: <span style=\"color: #008080; text-decoration-color: #008080; font-weight: bold\">10</span>,\n",
       "    <span style=\"color: #008000; text-decoration-color: #008000\">'l'</span>: <span style=\"color: #008080; text-decoration-color: #008080; font-weight: bold\">11</span>,\n",
       "    <span style=\"color: #008000; text-decoration-color: #008000\">'m'</span>: <span style=\"color: #008080; text-decoration-color: #008080; font-weight: bold\">12</span>,\n",
       "    <span style=\"color: #008000; text-decoration-color: #008000\">'n'</span>: <span style=\"color: #008080; text-decoration-color: #008080; font-weight: bold\">13</span>,\n",
       "    <span style=\"color: #008000; text-decoration-color: #008000\">'o'</span>: <span style=\"color: #008080; text-decoration-color: #008080; font-weight: bold\">14</span>,\n",
       "    <span style=\"color: #008000; text-decoration-color: #008000\">'p'</span>: <span style=\"color: #008080; text-decoration-color: #008080; font-weight: bold\">15</span>,\n",
       "    <span style=\"color: #008000; text-decoration-color: #008000\">'q'</span>: <span style=\"color: #008080; text-decoration-color: #008080; font-weight: bold\">16</span>,\n",
       "    <span style=\"color: #008000; text-decoration-color: #008000\">'r'</span>: <span style=\"color: #008080; text-decoration-color: #008080; font-weight: bold\">17</span>,\n",
       "    <span style=\"color: #008000; text-decoration-color: #008000\">'s'</span>: <span style=\"color: #008080; text-decoration-color: #008080; font-weight: bold\">18</span>,\n",
       "    <span style=\"color: #008000; text-decoration-color: #008000\">'t'</span>: <span style=\"color: #008080; text-decoration-color: #008080; font-weight: bold\">19</span>,\n",
       "    <span style=\"color: #008000; text-decoration-color: #008000\">'u'</span>: <span style=\"color: #008080; text-decoration-color: #008080; font-weight: bold\">20</span>,\n",
       "    <span style=\"color: #008000; text-decoration-color: #008000\">'v'</span>: <span style=\"color: #008080; text-decoration-color: #008080; font-weight: bold\">21</span>,\n",
       "    <span style=\"color: #008000; text-decoration-color: #008000\">'w'</span>: <span style=\"color: #008080; text-decoration-color: #008080; font-weight: bold\">22</span>,\n",
       "    <span style=\"color: #008000; text-decoration-color: #008000\">'x'</span>: <span style=\"color: #008080; text-decoration-color: #008080; font-weight: bold\">23</span>,\n",
       "    <span style=\"color: #008000; text-decoration-color: #008000\">'y'</span>: <span style=\"color: #008080; text-decoration-color: #008080; font-weight: bold\">24</span>,\n",
       "    <span style=\"color: #008000; text-decoration-color: #008000\">'z'</span>: <span style=\"color: #008080; text-decoration-color: #008080; font-weight: bold\">25</span>,\n",
       "    <span style=\"color: #008000; text-decoration-color: #008000\">'&lt;S&gt;'</span>: <span style=\"color: #008080; text-decoration-color: #008080; font-weight: bold\">26</span>,\n",
       "    <span style=\"color: #008000; text-decoration-color: #008000\">'&lt;E&gt;'</span>: <span style=\"color: #008080; text-decoration-color: #008080; font-weight: bold\">27</span>\n",
       "<span style=\"font-weight: bold\">}</span>\n",
       "</pre>\n"
      ],
      "text/plain": [
       "\n",
       "\u001b[1m{\u001b[0m\n",
       "    \u001b[32m'a'\u001b[0m: \u001b[1;36m0\u001b[0m,\n",
       "    \u001b[32m'b'\u001b[0m: \u001b[1;36m1\u001b[0m,\n",
       "    \u001b[32m'c'\u001b[0m: \u001b[1;36m2\u001b[0m,\n",
       "    \u001b[32m'd'\u001b[0m: \u001b[1;36m3\u001b[0m,\n",
       "    \u001b[32m'e'\u001b[0m: \u001b[1;36m4\u001b[0m,\n",
       "    \u001b[32m'f'\u001b[0m: \u001b[1;36m5\u001b[0m,\n",
       "    \u001b[32m'g'\u001b[0m: \u001b[1;36m6\u001b[0m,\n",
       "    \u001b[32m'h'\u001b[0m: \u001b[1;36m7\u001b[0m,\n",
       "    \u001b[32m'i'\u001b[0m: \u001b[1;36m8\u001b[0m,\n",
       "    \u001b[32m'j'\u001b[0m: \u001b[1;36m9\u001b[0m,\n",
       "    \u001b[32m'k'\u001b[0m: \u001b[1;36m10\u001b[0m,\n",
       "    \u001b[32m'l'\u001b[0m: \u001b[1;36m11\u001b[0m,\n",
       "    \u001b[32m'm'\u001b[0m: \u001b[1;36m12\u001b[0m,\n",
       "    \u001b[32m'n'\u001b[0m: \u001b[1;36m13\u001b[0m,\n",
       "    \u001b[32m'o'\u001b[0m: \u001b[1;36m14\u001b[0m,\n",
       "    \u001b[32m'p'\u001b[0m: \u001b[1;36m15\u001b[0m,\n",
       "    \u001b[32m'q'\u001b[0m: \u001b[1;36m16\u001b[0m,\n",
       "    \u001b[32m'r'\u001b[0m: \u001b[1;36m17\u001b[0m,\n",
       "    \u001b[32m's'\u001b[0m: \u001b[1;36m18\u001b[0m,\n",
       "    \u001b[32m't'\u001b[0m: \u001b[1;36m19\u001b[0m,\n",
       "    \u001b[32m'u'\u001b[0m: \u001b[1;36m20\u001b[0m,\n",
       "    \u001b[32m'v'\u001b[0m: \u001b[1;36m21\u001b[0m,\n",
       "    \u001b[32m'w'\u001b[0m: \u001b[1;36m22\u001b[0m,\n",
       "    \u001b[32m'x'\u001b[0m: \u001b[1;36m23\u001b[0m,\n",
       "    \u001b[32m'y'\u001b[0m: \u001b[1;36m24\u001b[0m,\n",
       "    \u001b[32m'z'\u001b[0m: \u001b[1;36m25\u001b[0m,\n",
       "    \u001b[32m'\u001b[0m\u001b[32m<\u001b[0m\u001b[32mS\u001b[0m\u001b[32m>\u001b[0m\u001b[32m'\u001b[0m: \u001b[1;36m26\u001b[0m,\n",
       "    \u001b[32m'\u001b[0m\u001b[32m<\u001b[0m\u001b[32mE\u001b[0m\u001b[32m>\u001b[0m\u001b[32m'\u001b[0m: \u001b[1;36m27\u001b[0m\n",
       "\u001b[1m}\u001b[0m\n"
      ]
     },
     "metadata": {},
     "output_type": "display_data"
    }
   ],
   "source": [
    "get_stoi(words, '<S>', '<E>', tokens_at_start=False)"
   ]
  },
  {
   "cell_type": "code",
   "execution_count": null,
   "id": "82a88d3e",
   "metadata": {},
   "outputs": [],
   "source": [
    "def create_bigram_matrix(words, start_token, end_token, tokens_at_start=True):\n",
    "    stoi = get_stoi(words, start_token, end_token, tokens_at_start)\n",
    "    alphabet_size = len(stoi)\n",
    "    N = torch.zeros((alphabet_size, alphabet_size), dtype=torch.int32)\n",
    "    for ch1, ch2 in generate_pairings(words, start_token, end_token):\n",
    "        ix1 = stoi[ch1]\n",
    "        ix2 = stoi[ch2]\n",
    "        N[ix1, ix2] += 1\n",
    "    return N"
   ]
  },
  {
   "cell_type": "code",
   "execution_count": null,
   "id": "5be2206b",
   "metadata": {},
   "outputs": [],
   "source": [
    "N = create_bigram_matrix(words, '<S>', '<E>', False)"
   ]
  },
  {
   "cell_type": "code",
   "execution_count": null,
   "id": "1d6fc592",
   "metadata": {},
   "outputs": [
    {
     "data": {
      "text/html": [
       "<pre style=\"white-space:pre;overflow-x:auto;line-height:normal;font-family:Menlo,'DejaVu Sans Mono',consolas,'Courier New',monospace\">\n",
       "<span style=\"color: #800080; text-decoration-color: #800080; font-weight: bold\">tensor</span><span style=\"font-weight: bold\">([[</span> <span style=\"color: #008080; text-decoration-color: #008080; font-weight: bold\">556</span>,  <span style=\"color: #008080; text-decoration-color: #008080; font-weight: bold\">541</span>,  <span style=\"color: #008080; text-decoration-color: #008080; font-weight: bold\">470</span>, <span style=\"color: #008080; text-decoration-color: #008080; font-weight: bold\">1042</span>,  <span style=\"color: #008080; text-decoration-color: #008080; font-weight: bold\">692</span>,  <span style=\"color: #008080; text-decoration-color: #008080; font-weight: bold\">134</span>,  <span style=\"color: #008080; text-decoration-color: #008080; font-weight: bold\">168</span>, <span style=\"color: #008080; text-decoration-color: #008080; font-weight: bold\">2332</span>, <span style=\"color: #008080; text-decoration-color: #008080; font-weight: bold\">1650</span>,  <span style=\"color: #008080; text-decoration-color: #008080; font-weight: bold\">175</span><span style=\"font-weight: bold\">]</span>,\n",
       "        <span style=\"font-weight: bold\">[</span> <span style=\"color: #008080; text-decoration-color: #008080; font-weight: bold\">321</span>,   <span style=\"color: #008080; text-decoration-color: #008080; font-weight: bold\">38</span>,    <span style=\"color: #008080; text-decoration-color: #008080; font-weight: bold\">1</span>,   <span style=\"color: #008080; text-decoration-color: #008080; font-weight: bold\">65</span>,  <span style=\"color: #008080; text-decoration-color: #008080; font-weight: bold\">655</span>,    <span style=\"color: #008080; text-decoration-color: #008080; font-weight: bold\">0</span>,    <span style=\"color: #008080; text-decoration-color: #008080; font-weight: bold\">0</span>,   <span style=\"color: #008080; text-decoration-color: #008080; font-weight: bold\">41</span>,  <span style=\"color: #008080; text-decoration-color: #008080; font-weight: bold\">217</span>,    <span style=\"color: #008080; text-decoration-color: #008080; font-weight: bold\">1</span><span style=\"font-weight: bold\">]</span>,\n",
       "        <span style=\"font-weight: bold\">[</span> <span style=\"color: #008080; text-decoration-color: #008080; font-weight: bold\">815</span>,    <span style=\"color: #008080; text-decoration-color: #008080; font-weight: bold\">0</span>,   <span style=\"color: #008080; text-decoration-color: #008080; font-weight: bold\">42</span>,    <span style=\"color: #008080; text-decoration-color: #008080; font-weight: bold\">1</span>,  <span style=\"color: #008080; text-decoration-color: #008080; font-weight: bold\">551</span>,    <span style=\"color: #008080; text-decoration-color: #008080; font-weight: bold\">0</span>,    <span style=\"color: #008080; text-decoration-color: #008080; font-weight: bold\">2</span>,  <span style=\"color: #008080; text-decoration-color: #008080; font-weight: bold\">664</span>,  <span style=\"color: #008080; text-decoration-color: #008080; font-weight: bold\">271</span>,    <span style=\"color: #008080; text-decoration-color: #008080; font-weight: bold\">3</span><span style=\"font-weight: bold\">]</span>,\n",
       "        <span style=\"font-weight: bold\">[</span><span style=\"color: #008080; text-decoration-color: #008080; font-weight: bold\">1303</span>,    <span style=\"color: #008080; text-decoration-color: #008080; font-weight: bold\">1</span>,    <span style=\"color: #008080; text-decoration-color: #008080; font-weight: bold\">3</span>,  <span style=\"color: #008080; text-decoration-color: #008080; font-weight: bold\">149</span>, <span style=\"color: #008080; text-decoration-color: #008080; font-weight: bold\">1283</span>,    <span style=\"color: #008080; text-decoration-color: #008080; font-weight: bold\">5</span>,   <span style=\"color: #008080; text-decoration-color: #008080; font-weight: bold\">25</span>,  <span style=\"color: #008080; text-decoration-color: #008080; font-weight: bold\">118</span>,  <span style=\"color: #008080; text-decoration-color: #008080; font-weight: bold\">674</span>,    <span style=\"color: #008080; text-decoration-color: #008080; font-weight: bold\">9</span><span style=\"font-weight: bold\">]</span>,\n",
       "        <span style=\"font-weight: bold\">[</span> <span style=\"color: #008080; text-decoration-color: #008080; font-weight: bold\">679</span>,  <span style=\"color: #008080; text-decoration-color: #008080; font-weight: bold\">121</span>,  <span style=\"color: #008080; text-decoration-color: #008080; font-weight: bold\">153</span>,  <span style=\"color: #008080; text-decoration-color: #008080; font-weight: bold\">384</span>, <span style=\"color: #008080; text-decoration-color: #008080; font-weight: bold\">1271</span>,   <span style=\"color: #008080; text-decoration-color: #008080; font-weight: bold\">82</span>,  <span style=\"color: #008080; text-decoration-color: #008080; font-weight: bold\">125</span>,  <span style=\"color: #008080; text-decoration-color: #008080; font-weight: bold\">152</span>,  <span style=\"color: #008080; text-decoration-color: #008080; font-weight: bold\">818</span>,   <span style=\"color: #008080; text-decoration-color: #008080; font-weight: bold\">55</span><span style=\"font-weight: bold\">]</span>,\n",
       "        <span style=\"font-weight: bold\">[</span> <span style=\"color: #008080; text-decoration-color: #008080; font-weight: bold\">242</span>,    <span style=\"color: #008080; text-decoration-color: #008080; font-weight: bold\">0</span>,    <span style=\"color: #008080; text-decoration-color: #008080; font-weight: bold\">0</span>,    <span style=\"color: #008080; text-decoration-color: #008080; font-weight: bold\">0</span>,  <span style=\"color: #008080; text-decoration-color: #008080; font-weight: bold\">123</span>,   <span style=\"color: #008080; text-decoration-color: #008080; font-weight: bold\">44</span>,    <span style=\"color: #008080; text-decoration-color: #008080; font-weight: bold\">1</span>,    <span style=\"color: #008080; text-decoration-color: #008080; font-weight: bold\">1</span>,  <span style=\"color: #008080; text-decoration-color: #008080; font-weight: bold\">160</span>,    <span style=\"color: #008080; text-decoration-color: #008080; font-weight: bold\">0</span><span style=\"font-weight: bold\">]</span>,\n",
       "        <span style=\"font-weight: bold\">[</span> <span style=\"color: #008080; text-decoration-color: #008080; font-weight: bold\">330</span>,    <span style=\"color: #008080; text-decoration-color: #008080; font-weight: bold\">3</span>,    <span style=\"color: #008080; text-decoration-color: #008080; font-weight: bold\">0</span>,   <span style=\"color: #008080; text-decoration-color: #008080; font-weight: bold\">19</span>,  <span style=\"color: #008080; text-decoration-color: #008080; font-weight: bold\">334</span>,    <span style=\"color: #008080; text-decoration-color: #008080; font-weight: bold\">1</span>,   <span style=\"color: #008080; text-decoration-color: #008080; font-weight: bold\">25</span>,  <span style=\"color: #008080; text-decoration-color: #008080; font-weight: bold\">360</span>,  <span style=\"color: #008080; text-decoration-color: #008080; font-weight: bold\">190</span>,    <span style=\"color: #008080; text-decoration-color: #008080; font-weight: bold\">3</span><span style=\"font-weight: bold\">]</span>,\n",
       "        <span style=\"font-weight: bold\">[</span><span style=\"color: #008080; text-decoration-color: #008080; font-weight: bold\">2244</span>,    <span style=\"color: #008080; text-decoration-color: #008080; font-weight: bold\">8</span>,    <span style=\"color: #008080; text-decoration-color: #008080; font-weight: bold\">2</span>,   <span style=\"color: #008080; text-decoration-color: #008080; font-weight: bold\">24</span>,  <span style=\"color: #008080; text-decoration-color: #008080; font-weight: bold\">674</span>,    <span style=\"color: #008080; text-decoration-color: #008080; font-weight: bold\">2</span>,    <span style=\"color: #008080; text-decoration-color: #008080; font-weight: bold\">2</span>,    <span style=\"color: #008080; text-decoration-color: #008080; font-weight: bold\">1</span>,  <span style=\"color: #008080; text-decoration-color: #008080; font-weight: bold\">729</span>,    <span style=\"color: #008080; text-decoration-color: #008080; font-weight: bold\">9</span><span style=\"font-weight: bold\">]</span>,\n",
       "        <span style=\"font-weight: bold\">[</span><span style=\"color: #008080; text-decoration-color: #008080; font-weight: bold\">2445</span>,  <span style=\"color: #008080; text-decoration-color: #008080; font-weight: bold\">110</span>,  <span style=\"color: #008080; text-decoration-color: #008080; font-weight: bold\">509</span>,  <span style=\"color: #008080; text-decoration-color: #008080; font-weight: bold\">440</span>, <span style=\"color: #008080; text-decoration-color: #008080; font-weight: bold\">1653</span>,  <span style=\"color: #008080; text-decoration-color: #008080; font-weight: bold\">101</span>,  <span style=\"color: #008080; text-decoration-color: #008080; font-weight: bold\">428</span>,   <span style=\"color: #008080; text-decoration-color: #008080; font-weight: bold\">95</span>,   <span style=\"color: #008080; text-decoration-color: #008080; font-weight: bold\">82</span>,   <span style=\"color: #008080; text-decoration-color: #008080; font-weight: bold\">76</span><span style=\"font-weight: bold\">]</span>,\n",
       "        <span style=\"font-weight: bold\">[</span><span style=\"color: #008080; text-decoration-color: #008080; font-weight: bold\">1473</span>,    <span style=\"color: #008080; text-decoration-color: #008080; font-weight: bold\">1</span>,    <span style=\"color: #008080; text-decoration-color: #008080; font-weight: bold\">4</span>,    <span style=\"color: #008080; text-decoration-color: #008080; font-weight: bold\">4</span>,  <span style=\"color: #008080; text-decoration-color: #008080; font-weight: bold\">440</span>,    <span style=\"color: #008080; text-decoration-color: #008080; font-weight: bold\">0</span>,    <span style=\"color: #008080; text-decoration-color: #008080; font-weight: bold\">0</span>,   <span style=\"color: #008080; text-decoration-color: #008080; font-weight: bold\">45</span>,  <span style=\"color: #008080; text-decoration-color: #008080; font-weight: bold\">119</span>,    <span style=\"color: #008080; text-decoration-color: #008080; font-weight: bold\">2</span><span style=\"font-weight: bold\">]]</span>,\n",
       "       <span style=\"color: #808000; text-decoration-color: #808000\">dtype</span>=<span style=\"color: #800080; text-decoration-color: #800080\">torch</span>.int32<span style=\"font-weight: bold\">)</span>\n",
       "</pre>\n"
      ],
      "text/plain": [
       "\n",
       "\u001b[1;35mtensor\u001b[0m\u001b[1m(\u001b[0m\u001b[1m[\u001b[0m\u001b[1m[\u001b[0m \u001b[1;36m556\u001b[0m,  \u001b[1;36m541\u001b[0m,  \u001b[1;36m470\u001b[0m, \u001b[1;36m1042\u001b[0m,  \u001b[1;36m692\u001b[0m,  \u001b[1;36m134\u001b[0m,  \u001b[1;36m168\u001b[0m, \u001b[1;36m2332\u001b[0m, \u001b[1;36m1650\u001b[0m,  \u001b[1;36m175\u001b[0m\u001b[1m]\u001b[0m,\n",
       "        \u001b[1m[\u001b[0m \u001b[1;36m321\u001b[0m,   \u001b[1;36m38\u001b[0m,    \u001b[1;36m1\u001b[0m,   \u001b[1;36m65\u001b[0m,  \u001b[1;36m655\u001b[0m,    \u001b[1;36m0\u001b[0m,    \u001b[1;36m0\u001b[0m,   \u001b[1;36m41\u001b[0m,  \u001b[1;36m217\u001b[0m,    \u001b[1;36m1\u001b[0m\u001b[1m]\u001b[0m,\n",
       "        \u001b[1m[\u001b[0m \u001b[1;36m815\u001b[0m,    \u001b[1;36m0\u001b[0m,   \u001b[1;36m42\u001b[0m,    \u001b[1;36m1\u001b[0m,  \u001b[1;36m551\u001b[0m,    \u001b[1;36m0\u001b[0m,    \u001b[1;36m2\u001b[0m,  \u001b[1;36m664\u001b[0m,  \u001b[1;36m271\u001b[0m,    \u001b[1;36m3\u001b[0m\u001b[1m]\u001b[0m,\n",
       "        \u001b[1m[\u001b[0m\u001b[1;36m1303\u001b[0m,    \u001b[1;36m1\u001b[0m,    \u001b[1;36m3\u001b[0m,  \u001b[1;36m149\u001b[0m, \u001b[1;36m1283\u001b[0m,    \u001b[1;36m5\u001b[0m,   \u001b[1;36m25\u001b[0m,  \u001b[1;36m118\u001b[0m,  \u001b[1;36m674\u001b[0m,    \u001b[1;36m9\u001b[0m\u001b[1m]\u001b[0m,\n",
       "        \u001b[1m[\u001b[0m \u001b[1;36m679\u001b[0m,  \u001b[1;36m121\u001b[0m,  \u001b[1;36m153\u001b[0m,  \u001b[1;36m384\u001b[0m, \u001b[1;36m1271\u001b[0m,   \u001b[1;36m82\u001b[0m,  \u001b[1;36m125\u001b[0m,  \u001b[1;36m152\u001b[0m,  \u001b[1;36m818\u001b[0m,   \u001b[1;36m55\u001b[0m\u001b[1m]\u001b[0m,\n",
       "        \u001b[1m[\u001b[0m \u001b[1;36m242\u001b[0m,    \u001b[1;36m0\u001b[0m,    \u001b[1;36m0\u001b[0m,    \u001b[1;36m0\u001b[0m,  \u001b[1;36m123\u001b[0m,   \u001b[1;36m44\u001b[0m,    \u001b[1;36m1\u001b[0m,    \u001b[1;36m1\u001b[0m,  \u001b[1;36m160\u001b[0m,    \u001b[1;36m0\u001b[0m\u001b[1m]\u001b[0m,\n",
       "        \u001b[1m[\u001b[0m \u001b[1;36m330\u001b[0m,    \u001b[1;36m3\u001b[0m,    \u001b[1;36m0\u001b[0m,   \u001b[1;36m19\u001b[0m,  \u001b[1;36m334\u001b[0m,    \u001b[1;36m1\u001b[0m,   \u001b[1;36m25\u001b[0m,  \u001b[1;36m360\u001b[0m,  \u001b[1;36m190\u001b[0m,    \u001b[1;36m3\u001b[0m\u001b[1m]\u001b[0m,\n",
       "        \u001b[1m[\u001b[0m\u001b[1;36m2244\u001b[0m,    \u001b[1;36m8\u001b[0m,    \u001b[1;36m2\u001b[0m,   \u001b[1;36m24\u001b[0m,  \u001b[1;36m674\u001b[0m,    \u001b[1;36m2\u001b[0m,    \u001b[1;36m2\u001b[0m,    \u001b[1;36m1\u001b[0m,  \u001b[1;36m729\u001b[0m,    \u001b[1;36m9\u001b[0m\u001b[1m]\u001b[0m,\n",
       "        \u001b[1m[\u001b[0m\u001b[1;36m2445\u001b[0m,  \u001b[1;36m110\u001b[0m,  \u001b[1;36m509\u001b[0m,  \u001b[1;36m440\u001b[0m, \u001b[1;36m1653\u001b[0m,  \u001b[1;36m101\u001b[0m,  \u001b[1;36m428\u001b[0m,   \u001b[1;36m95\u001b[0m,   \u001b[1;36m82\u001b[0m,   \u001b[1;36m76\u001b[0m\u001b[1m]\u001b[0m,\n",
       "        \u001b[1m[\u001b[0m\u001b[1;36m1473\u001b[0m,    \u001b[1;36m1\u001b[0m,    \u001b[1;36m4\u001b[0m,    \u001b[1;36m4\u001b[0m,  \u001b[1;36m440\u001b[0m,    \u001b[1;36m0\u001b[0m,    \u001b[1;36m0\u001b[0m,   \u001b[1;36m45\u001b[0m,  \u001b[1;36m119\u001b[0m,    \u001b[1;36m2\u001b[0m\u001b[1m]\u001b[0m\u001b[1m]\u001b[0m,\n",
       "       \u001b[33mdtype\u001b[0m=\u001b[35mtorch\u001b[0m.int32\u001b[1m)\u001b[0m\n"
      ]
     },
     "metadata": {},
     "output_type": "display_data"
    }
   ],
   "source": [
    "N[:10, :10]"
   ]
  },
  {
   "cell_type": "markdown",
   "id": "3f5994f4",
   "metadata": {},
   "source": [
    "The type of a cell in the above `N` is tensor"
   ]
  },
  {
   "cell_type": "code",
   "execution_count": null,
   "id": "f743b54d",
   "metadata": {},
   "outputs": [
    {
     "data": {
      "text/html": [
       "<pre style=\"white-space:pre;overflow-x:auto;line-height:normal;font-family:Menlo,'DejaVu Sans Mono',consolas,'Courier New',monospace\"><span style=\"font-weight: bold\">&lt;</span><span style=\"color: #ff00ff; text-decoration-color: #ff00ff; font-weight: bold\">class</span><span style=\"color: #000000; text-decoration-color: #000000\"> </span><span style=\"color: #008000; text-decoration-color: #008000\">'torch.Tensor'</span><span style=\"font-weight: bold\">&gt;</span>\n",
       "</pre>\n"
      ],
      "text/plain": [
       "\u001b[1m<\u001b[0m\u001b[1;95mclass\u001b[0m\u001b[39m \u001b[0m\u001b[32m'torch.Tensor'\u001b[0m\u001b[1m>\u001b[0m\n"
      ]
     },
     "metadata": {},
     "output_type": "display_data"
    }
   ],
   "source": [
    "type(N[1, 1])"
   ]
  },
  {
   "cell_type": "markdown",
   "id": "fa9b0430",
   "metadata": {},
   "source": [
    "Therefore we have to call it with `.item()` to get the value"
   ]
  },
  {
   "cell_type": "code",
   "execution_count": null,
   "id": "78bd5f64",
   "metadata": {},
   "outputs": [
    {
     "data": {
      "text/html": [
       "<pre style=\"white-space:pre;overflow-x:auto;line-height:normal;font-family:Menlo,'DejaVu Sans Mono',consolas,'Courier New',monospace\"><span style=\"font-weight: bold\">&lt;</span><span style=\"color: #ff00ff; text-decoration-color: #ff00ff; font-weight: bold\">class</span><span style=\"color: #000000; text-decoration-color: #000000\"> </span><span style=\"color: #008000; text-decoration-color: #008000\">'int'</span><span style=\"font-weight: bold\">&gt;</span>\n",
       "</pre>\n"
      ],
      "text/plain": [
       "\u001b[1m<\u001b[0m\u001b[1;95mclass\u001b[0m\u001b[39m \u001b[0m\u001b[32m'int'\u001b[0m\u001b[1m>\u001b[0m\n"
      ]
     },
     "metadata": {},
     "output_type": "display_data"
    }
   ],
   "source": [
    "type(N[1, 1].item())"
   ]
  },
  {
   "cell_type": "code",
   "execution_count": null,
   "id": "56b022d3",
   "metadata": {},
   "outputs": [
    {
     "data": {
      "image/png": "[encoded data removed]"
     },
     "metadata": {},
     "output_type": "display_data"
    }
   ],
   "source": [
    "plt.imshow(N)"
   ]
  },
  {
   "cell_type": "code",
   "execution_count": null,
   "id": "1f72491d",
   "metadata": {},
   "outputs": [
    {
     "ename": "NameError",
     "evalue": "name 'stoi' is not defined",
     "output_type": "error",
     "traceback": [
      "\u001b[0;31m---------------------------------------------------------------------------\u001b[0m",
      "\u001b[0;31mNameError\u001b[0m                                 Traceback (most recent call last)",
      "\u001b[0;32m/var/folders/pv/msldjh8n6kn9nqj9hvl2j_0m0000gn/T/ipykernel_14173/3009190913.py\u001b[0m in \u001b[0;36m<module>\u001b[0;34m\u001b[0m\n\u001b[0;32m----> 1\u001b[0;31m \u001b[0mitos\u001b[0m \u001b[0;34m=\u001b[0m \u001b[0mdict\u001b[0m\u001b[0;34m(\u001b[0m\u001b[0mmap\u001b[0m\u001b[0;34m(\u001b[0m\u001b[0mreversed\u001b[0m\u001b[0;34m,\u001b[0m \u001b[0mstoi\u001b[0m\u001b[0;34m.\u001b[0m\u001b[0mitems\u001b[0m\u001b[0;34m(\u001b[0m\u001b[0;34m)\u001b[0m\u001b[0;34m)\u001b[0m\u001b[0;34m)\u001b[0m\u001b[0;34m\u001b[0m\u001b[0;34m\u001b[0m\u001b[0m\n\u001b[0m\u001b[1;32m      2\u001b[0m \u001b[0mitos\u001b[0m\u001b[0;34m\u001b[0m\u001b[0;34m\u001b[0m\u001b[0m\n",
      "\u001b[0;31mNameError\u001b[0m: name 'stoi' is not defined"
     ]
    }
   ],
   "source": [
    "itos = dict(map(reversed, stoi.items()))\n",
    "itos"
   ]
  },
  {
   "cell_type": "code",
   "execution_count": null,
   "id": "f0781660",
   "metadata": {},
   "outputs": [],
   "source": [
    "def plot_matrix(N):\n",
    "    plt.figure(figsize=(16, 16))\n",
    "    plt.imshow(N, cmap='Blues')\n",
    "    for i in range(N.shape[0]):\n",
    "        for j in range(N.shape[1]):\n",
    "            chstr = itos[i] + itos[j]\n",
    "            plt.text(j, i, chstr, ha=\"center\", va=\"bottom\", color=\"gray\")\n",
    "            plt.text(j, i, N[i, j].item(), ha=\"center\", va=\"top\", color=\"gray\")\n",
    "    plt.axis(\"off\")"
   ]
  },
  {
   "cell_type": "code",
   "execution_count": null,
   "id": "b24a6752",
   "metadata": {},
   "outputs": [],
   "source": [
    "plot_matrix(N)"
   ]
  },
  {
   "cell_type": "markdown",
   "id": "dab085b3",
   "metadata": {},
   "source": [
    "#### Remove `<E>` and `<S>` in favor of a single `.` token\n",
    "> Will deduct the columns and row having 0 values"
   ]
  },
  {
   "cell_type": "code",
   "execution_count": null,
   "id": "1a9605f7",
   "metadata": {},
   "outputs": [],
   "source": [
    "get_stoi(words, '.', '.')"
   ]
  },
  {
   "cell_type": "code",
   "execution_count": null,
   "id": "e46c52b4",
   "metadata": {},
   "outputs": [],
   "source": [
    "N = create_bigram_matrix(words, '.', '.')"
   ]
  },
  {
   "cell_type": "code",
   "execution_count": null,
   "id": "f4e88c8f",
   "metadata": {},
   "outputs": [],
   "source": [
    "plot_matrix(N)"
   ]
  },
  {
   "cell_type": "code",
   "execution_count": null,
   "id": "00838e12",
   "metadata": {},
   "outputs": [],
   "source": [
    "N[0]"
   ]
  },
  {
   "cell_type": "markdown",
   "id": "b660c195",
   "metadata": {},
   "source": [
    "#### Generate probability tensor"
   ]
  },
  {
   "cell_type": "code",
   "execution_count": null,
   "id": "0f2f6f80",
   "metadata": {},
   "outputs": [],
   "source": [
    "p = N[0].float()\n",
    "p = p / p.sum() \n",
    "p"
   ]
  },
  {
   "cell_type": "code",
   "execution_count": null,
   "id": "d0556370",
   "metadata": {},
   "outputs": [],
   "source": [
    "p.sum()"
   ]
  },
  {
   "cell_type": "code",
   "execution_count": null,
   "id": "44a3d561",
   "metadata": {},
   "outputs": [],
   "source": [
    "g = torch.Generator().manual_seed(2147483647)\n",
    "p = torch.rand(3, generator=g)\n",
    "p"
   ]
  },
  {
   "cell_type": "code",
   "execution_count": null,
   "id": "2a482d55",
   "metadata": {},
   "outputs": [],
   "source": [
    "p = p/p.sum()\n",
    "p"
   ]
  },
  {
   "cell_type": "code",
   "execution_count": null,
   "id": "bf47d7cc",
   "metadata": {},
   "outputs": [],
   "source": [
    "torch.multinomial(p, num_samples=1000, replacement=True, generator=g)"
   ]
  },
  {
   "cell_type": "code",
   "execution_count": null,
   "id": "bb2f43df",
   "metadata": {},
   "outputs": [],
   "source": [
    "9/20"
   ]
  },
  {
   "cell_type": "code",
   "execution_count": null,
   "id": "8745253b",
   "metadata": {},
   "outputs": [],
   "source": [
    "9/20"
   ]
  },
  {
   "cell_type": "code",
   "execution_count": null,
   "id": "c28e8801",
   "metadata": {},
   "outputs": [],
   "source": []
  }
 ],
 "metadata": {
  "kernelspec": {
   "display_name": "Python (zhnn)",
   "language": "python",
   "name": "zhnn"
  }
 },
 "nbformat": 4,
 "nbformat_minor": 5
}
