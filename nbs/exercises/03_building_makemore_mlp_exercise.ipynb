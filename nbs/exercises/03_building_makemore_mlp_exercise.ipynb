{
 "cells": [
  {
   "cell_type": "markdown",
   "id": "ac3c86ee",
   "metadata": {},
   "source": [
    "# Building Makemore MLP Exercise"
   ]
  },
  {
   "cell_type": "markdown",
   "id": "75797af6",
   "metadata": {},
   "source": [
    "Training Loss: 2.12\n",
    "\n",
    "Validation Loss: 2.17"
   ]
  },
  {
   "cell_type": "markdown",
   "id": "177c8db3",
   "metadata": {},
   "source": [
    "## Imports"
   ]
  },
  {
   "cell_type": "code",
   "execution_count": null,
   "id": "38a4dfd1",
   "metadata": {},
   "outputs": [],
   "source": [
    "import numpy\n",
    "import torch\n",
    "import torch.nn.functional as F\n",
    "from rich import print\n",
    "from rich import pretty\n",
    "import matplotlib.pyplot as plot\n",
    "import random\n",
    "import math"
   ]
  },
  {
   "cell_type": "code",
   "execution_count": null,
   "id": "fa870717",
   "metadata": {},
   "outputs": [],
   "source": [
    "g = torch.Generator().manual_seed(42)"
   ]
  },
  {
   "cell_type": "markdown",
   "id": "0bd15a7b",
   "metadata": {},
   "source": [
    "## Setup"
   ]
  },
  {
   "cell_type": "code",
   "execution_count": null,
   "id": "a30ccc4a",
   "metadata": {},
   "outputs": [
    {
     "data": {
      "text/plain": [
       "['emma', 'olivia', 'ava', 'isabella', 'sophia', 'charlotte', 'mia', 'amelia']"
      ]
     },
     "execution_count": null,
     "metadata": {},
     "output_type": "execute_result"
    }
   ],
   "source": [
    "words = open('../data/names.txt', 'r').read().splitlines()\n",
    "words[:8]"
   ]
  },
  {
   "cell_type": "code",
   "execution_count": null,
   "id": "f7316e6b",
   "metadata": {},
   "outputs": [
    {
     "data": {
      "text/plain": [
       "32033"
      ]
     },
     "execution_count": null,
     "metadata": {},
     "output_type": "execute_result"
    }
   ],
   "source": [
    "len(words)"
   ]
  },
  {
   "cell_type": "code",
   "execution_count": null,
   "id": "6fbce0ac",
   "metadata": {},
   "outputs": [],
   "source": [
    "def generate_training_set(words, block_size, print_disabled=False):\n",
    "    \n",
    "    chars = sorted(list(set(''.join(words))))\n",
    "    stoi = {s: i+1 for i, s in enumerate(chars)}\n",
    "    stoi['.'] = 0\n",
    "    itos = {i:s for s, i in stoi.items()}\n",
    "    \n",
    "    X, Y = [], []\n",
    "    \n",
    "    for w in words:\n",
    "        if print_disabled: print(w)\n",
    "        \n",
    "        context = [0] * block_size\n",
    "        for ch in w + '.':\n",
    "            ix = stoi[ch]\n",
    "            X.append(context)\n",
    "            Y.append(ix)\n",
    "            if print_disabled: print(''.join(itos[i] for i in context), '--->', itos[ix])\n",
    "            context = context[1:] + [ix] # crop and append\n",
    "            \n",
    "    X = torch.tensor(X)\n",
    "    Y = torch.tensor(Y)\n",
    "    return X, Y"
   ]
  },
  {
   "cell_type": "code",
   "execution_count": null,
   "id": "77190f02",
   "metadata": {},
   "outputs": [],
   "source": [
    "X, Y = generate_training_set(words, 5)"
   ]
  },
  {
   "cell_type": "code",
   "execution_count": null,
   "id": "3b8198b4",
   "metadata": {},
   "outputs": [
    {
     "data": {
      "text/plain": [
       "(torch.Size([228146, 5]), torch.Size([228146]))"
      ]
     },
     "execution_count": null,
     "metadata": {},
     "output_type": "execute_result"
    }
   ],
   "source": [
    "X.shape, Y.shape"
   ]
  },
  {
   "cell_type": "code",
   "execution_count": null,
   "id": "b61d839a",
   "metadata": {},
   "outputs": [],
   "source": [
    "def generate_train_valid_test_split(words, block_size=3):\n",
    "    random.seed(42)\n",
    "    random.shuffle(words)\n",
    "    n1 = int(0.8*len(words))\n",
    "    n2 = int(0.9*len(words))\n",
    "\n",
    "    Xtr, Ytr = generate_training_set(words[:n1], block_size)\n",
    "    Xdev, Ydev = generate_training_set(words[n1:n2], block_size)\n",
    "    Xte, Yte = generate_training_set(words[n2:], block_size)\n",
    "    \n",
    "    return Xtr, Ytr, Xdev, Ydev, Xte, Yte"
   ]
  },
  {
   "cell_type": "code",
   "execution_count": null,
   "id": "95bd8604",
   "metadata": {},
   "outputs": [],
   "source": [
    "Xtr, Ytr, Xdev, Ydev, Xte, Yte = generate_train_valid_test_split(words, block_size=5)"
   ]
  },
  {
   "cell_type": "code",
   "execution_count": null,
   "id": "30003c5f",
   "metadata": {},
   "outputs": [
    {
     "data": {
      "text/plain": [
       "(torch.Size([182625, 5]), torch.Size([182625]))"
      ]
     },
     "execution_count": null,
     "metadata": {},
     "output_type": "execute_result"
    }
   ],
   "source": [
    "Xtr.shape, Ytr.shape"
   ]
  },
  {
   "cell_type": "code",
   "execution_count": null,
   "id": "a3dd8704",
   "metadata": {},
   "outputs": [
    {
     "data": {
      "text/plain": [
       "(torch.Size([22655, 5]), torch.Size([22655]))"
      ]
     },
     "execution_count": null,
     "metadata": {},
     "output_type": "execute_result"
    }
   ],
   "source": [
    "Xdev.shape, Ydev.shape"
   ]
  },
  {
   "cell_type": "code",
   "execution_count": null,
   "id": "7eb4bd04",
   "metadata": {},
   "outputs": [
    {
     "data": {
      "text/plain": [
       "(torch.Size([22866, 5]), torch.Size([22866]))"
      ]
     },
     "execution_count": null,
     "metadata": {},
     "output_type": "execute_result"
    }
   ],
   "source": [
    "Xte.shape, Yte.shape"
   ]
  },
  {
   "cell_type": "markdown",
   "id": "85ed69d1",
   "metadata": {},
   "source": [
    "## E01\n",
    "\n",
    "Tune the hyperparameters of the training to beat the validation loss of 2.2\n",
    "\n",
    "   - no of neurons in the hidden layer\n",
    "    \n",
    "   - embedding size\n",
    "    \n",
    "   - no of characters\n",
    "    \n",
    "   - epochs\n",
    "    \n",
    "   - learning rate; change/decay it over the epochs\n",
    "    \n",
    "   - batch size"
   ]
  },
  {
   "cell_type": "code",
   "execution_count": null,
   "id": "957db8fd",
   "metadata": {},
   "outputs": [],
   "source": [
    "def evaluate_loss(parameters, X, Y, block_size=3, embedding_size=10):\n",
    "    C, W1, b1, W2, b2 = parameters\n",
    "    emb = C[X]\n",
    "    h = torch.tanh(emb.view(-1, block_size * embedding_size) @ W1 + b1)\n",
    "    logits = h @ W2 + b2\n",
    "    loss = F.cross_entropy(logits, Y)\n",
    "    return loss"
   ]
  },
  {
   "cell_type": "code",
   "execution_count": null,
   "id": "d9f58235",
   "metadata": {},
   "outputs": [],
   "source": [
    "def _regularization_loss(parameters, lambdas):\n",
    "    C = parameters[0]\n",
    "    W1 = parameters[1]\n",
    "    W2 = parameters[3]\n",
    "    \n",
    "    return lambdas[0]*(C**2).mean() + lambdas[1]*(W1**2).mean() + lambdas[2]*(W2**2).mean()"
   ]
  },
  {
   "cell_type": "code",
   "execution_count": null,
   "id": "e307bbe8",
   "metadata": {},
   "outputs": [],
   "source": [
    "def train(X, \n",
    "          Y, \n",
    "          epochs, \n",
    "          block_size=3, \n",
    "          embedding_size=10, \n",
    "          hidden_neuron=300, \n",
    "          bs=32, \n",
    "          lr=0.1, \n",
    "          parameters=[], \n",
    "          lambdas = [0, 0, 0],\n",
    "          enable_print=True):\n",
    "    \n",
    "    if not parameters:\n",
    "        C = torch.randn((27, embedding_size), generator=g)\n",
    "        W1 = torch.randn((block_size * embedding_size, hidden_neuron), generator=g)\n",
    "        b1 = torch.randn(hidden_neuron, generator=g)\n",
    "        W2 = torch.randn((hidden_neuron, 27), generator=g)\n",
    "        b2 = torch.randn(27, generator=g)\n",
    "        parameters = [C, W1, b1, W2, b2]\n",
    "\n",
    "    \n",
    "    for p in parameters: p.requires_grad = True \n",
    "        \n",
    "    for epoch in range(epochs):\n",
    "            \n",
    "        ix = torch.randint(0, X.shape[0], (bs, ))\n",
    "\n",
    "        loss = evaluate_loss(parameters, X[ix], Y[ix], block_size, embedding_size)\n",
    "        regularization_loss = _regularization_loss(parameters, lambdas)\n",
    "        loss += regularization_loss\n",
    "\n",
    "        for p in parameters:\n",
    "            p.grad= None\n",
    "        loss.backward()\n",
    "\n",
    "\n",
    "        for p in parameters:\n",
    "            p.data += - lr * p.grad\n",
    "\n",
    "        if enable_print: print(epoch, loss.item())\n",
    "    \n",
    "    return parameters, loss.item()"
   ]
  },
  {
   "cell_type": "markdown",
   "id": "f3bae8cc",
   "metadata": {},
   "source": [
    "#### 1st try"
   ]
  },
  {
   "cell_type": "code",
   "execution_count": null,
   "id": "67760257",
   "metadata": {},
   "outputs": [],
   "source": [
    "parameters, loss = train(Xtr, Ytr, 50_000, block_size=5, embedding_size=50, hidden_neuron=100, bs=1800, lr=0.1, enable_print=False)"
   ]
  },
  {
   "cell_type": "code",
   "execution_count": null,
   "id": "41f9e1ca",
   "metadata": {},
   "outputs": [
    {
     "data": {
      "text/plain": [
       "2.0942413806915283"
      ]
     },
     "execution_count": null,
     "metadata": {},
     "output_type": "execute_result"
    }
   ],
   "source": [
    "loss"
   ]
  },
  {
   "cell_type": "code",
   "execution_count": null,
   "id": "7b74e042",
   "metadata": {},
   "outputs": [
    {
     "data": {
      "text/plain": [
       "tensor(2.2013, grad_fn=<NllLossBackward0>)"
      ]
     },
     "execution_count": null,
     "metadata": {},
     "output_type": "execute_result"
    }
   ],
   "source": [
    "evaluate_loss(parameters, Xdev, Ydev, block_size=5, embedding_size=50)"
   ]
  },
  {
   "cell_type": "markdown",
   "id": "9f4a2fa2",
   "metadata": {},
   "source": [
    "#### 2nd try"
   ]
  },
  {
   "cell_type": "code",
   "execution_count": null,
   "id": "917872a1",
   "metadata": {},
   "outputs": [],
   "source": [
    "parameters, loss = train(Xtr, Ytr, 50_000, block_size=5, embedding_size=50, hidden_neuron=100, bs=1800, lr=0.01, parameters=parameters, enable_print=False)"
   ]
  },
  {
   "cell_type": "code",
   "execution_count": null,
   "id": "f1f8a262",
   "metadata": {},
   "outputs": [
    {
     "data": {
      "text/plain": [
       "2.1155266761779785"
      ]
     },
     "execution_count": null,
     "metadata": {},
     "output_type": "execute_result"
    }
   ],
   "source": [
    "loss"
   ]
  },
  {
   "cell_type": "code",
   "execution_count": null,
   "id": "7394097b",
   "metadata": {},
   "outputs": [
    {
     "data": {
      "text/plain": [
       "tensor(2.1946, grad_fn=<NllLossBackward0>)"
      ]
     },
     "execution_count": null,
     "metadata": {},
     "output_type": "execute_result"
    }
   ],
   "source": [
    "evaluate_loss(parameters, Xdev, Ydev, block_size=5, embedding_size=50)"
   ]
  },
  {
   "cell_type": "markdown",
   "id": "73efdde4",
   "metadata": {},
   "source": [
    "#### 3rd try"
   ]
  },
  {
   "cell_type": "code",
   "execution_count": null,
   "id": "98fa5d89",
   "metadata": {},
   "outputs": [],
   "source": [
    "parameters, loss = train(Xtr, Ytr, 50_000, block_size=5, embedding_size=50, hidden_neuron=100, bs=18000, lr=0.001, parameters=parameters, enable_print=False)"
   ]
  },
  {
   "cell_type": "code",
   "execution_count": null,
   "id": "095c1f6a",
   "metadata": {},
   "outputs": [
    {
     "data": {
      "text/plain": [
       "2.1173627376556396"
      ]
     },
     "execution_count": null,
     "metadata": {},
     "output_type": "execute_result"
    }
   ],
   "source": [
    "loss"
   ]
  },
  {
   "cell_type": "code",
   "execution_count": null,
   "id": "7093b4d1",
   "metadata": {},
   "outputs": [
    {
     "data": {
      "text/plain": [
       "tensor(2.1939, grad_fn=<NllLossBackward0>)"
      ]
     },
     "execution_count": null,
     "metadata": {},
     "output_type": "execute_result"
    }
   ],
   "source": [
    "evaluate_loss(parameters, Xdev, Ydev, block_size=5, embedding_size=50)"
   ]
  },
  {
   "cell_type": "markdown",
   "id": "59afe841",
   "metadata": {},
   "source": [
    "#### 4th try"
   ]
  },
  {
   "cell_type": "code",
   "execution_count": null,
   "id": "8b392fd1",
   "metadata": {},
   "outputs": [],
   "source": [
    "parameters, loss = train(Xtr, Ytr, 60, block_size=5, embedding_size=50, hidden_neuron=100, bs=512, lr=0.001, parameters=parameters, enable_print=False)"
   ]
  },
  {
   "cell_type": "code",
   "execution_count": null,
   "id": "2b31d945",
   "metadata": {},
   "outputs": [
    {
     "data": {
      "text/plain": [
       "2.179168701171875"
      ]
     },
     "execution_count": null,
     "metadata": {},
     "output_type": "execute_result"
    }
   ],
   "source": [
    "loss"
   ]
  },
  {
   "cell_type": "code",
   "execution_count": null,
   "id": "8dec9764",
   "metadata": {},
   "outputs": [
    {
     "data": {
      "text/plain": [
       "tensor(2.2677, grad_fn=<NllLossBackward0>)"
      ]
     },
     "execution_count": null,
     "metadata": {},
     "output_type": "execute_result"
    }
   ],
   "source": [
    "evaluate_loss(parameters, Xdev, Ydev, block_size=5, embedding_size=50)"
   ]
  },
  {
   "cell_type": "markdown",
   "id": "eea6dd0b",
   "metadata": {},
   "source": [
    "#### 5th try"
   ]
  },
  {
   "cell_type": "code",
   "execution_count": null,
   "id": "250122f0",
   "metadata": {},
   "outputs": [],
   "source": [
    "parameters, loss = train(Xtr, Ytr, 100, block_size=5, embedding_size=50, hidden_neuron=100, bs=512, lr=0.0005, parameters=parameters, enable_print=False)"
   ]
  },
  {
   "cell_type": "code",
   "execution_count": null,
   "id": "b33bb594",
   "metadata": {},
   "outputs": [
    {
     "data": {
      "text/plain": [
       "2.254889965057373"
      ]
     },
     "execution_count": null,
     "metadata": {},
     "output_type": "execute_result"
    }
   ],
   "source": [
    "loss"
   ]
  },
  {
   "cell_type": "code",
   "execution_count": null,
   "id": "edfd444c",
   "metadata": {},
   "outputs": [
    {
     "data": {
      "text/plain": [
       "tensor(2.2668, grad_fn=<NllLossBackward0>)"
      ]
     },
     "execution_count": null,
     "metadata": {},
     "output_type": "execute_result"
    }
   ],
   "source": [
    "evaluate_loss(parameters, Xdev, Ydev, block_size=5, embedding_size=50)"
   ]
  },
  {
   "cell_type": "markdown",
   "id": "6dd85555",
   "metadata": {},
   "source": [
    "#### 6th try"
   ]
  },
  {
   "cell_type": "code",
   "execution_count": null,
   "id": "db349bf3",
   "metadata": {},
   "outputs": [],
   "source": [
    "parameters, loss = train(Xtr, Ytr, 300_000, block_size=5, embedding_size=50, hidden_neuron=100, bs=128,  lr=0.0001, parameters=parameters, enable_print=False)"
   ]
  },
  {
   "cell_type": "code",
   "execution_count": null,
   "id": "b5285714",
   "metadata": {},
   "outputs": [
    {
     "data": {
      "text/plain": [
       "2.2203402519226074"
      ]
     },
     "execution_count": null,
     "metadata": {},
     "output_type": "execute_result"
    }
   ],
   "source": [
    "loss"
   ]
  },
  {
   "cell_type": "code",
   "execution_count": null,
   "id": "a1d1bb97",
   "metadata": {},
   "outputs": [
    {
     "data": {
      "text/plain": [
       "tensor(2.1860, grad_fn=<NllLossBackward0>)"
      ]
     },
     "execution_count": null,
     "metadata": {},
     "output_type": "execute_result"
    }
   ],
   "source": [
    "evaluate_loss(parameters, Xdev, Ydev, block_size=5, embedding_size=50)"
   ]
  },
  {
   "cell_type": "markdown",
   "id": "e381cddf",
   "metadata": {},
   "source": [
    "#### evaluate test"
   ]
  },
  {
   "cell_type": "code",
   "execution_count": null,
   "id": "65e7fae2",
   "metadata": {},
   "outputs": [
    {
     "data": {
      "text/plain": [
       "tensor(2.3040, grad_fn=<NllLossBackward0>)"
      ]
     },
     "execution_count": null,
     "metadata": {},
     "output_type": "execute_result"
    }
   ],
   "source": [
    "evaluate_loss(parameters, Xte, Yte, block_size=5, embedding_size=50)"
   ]
  },
  {
   "cell_type": "code",
   "execution_count": null,
   "id": "0c5490ff",
   "metadata": {},
   "outputs": [],
   "source": []
  }
 ],
 "metadata": {
  "kernelspec": {
   "display_name": "zhnn",
   "language": "python",
   "name": "zhnn"
  }
 },
 "nbformat": 4,
 "nbformat_minor": 5
}
