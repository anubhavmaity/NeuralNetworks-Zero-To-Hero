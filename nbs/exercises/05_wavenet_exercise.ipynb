{
 "cells": [
  {
   "cell_type": "markdown",
   "id": "bf09f86b",
   "metadata": {},
   "source": [
    "# Wavenet Hyperparameter Tuning"
   ]
  },
  {
   "cell_type": "code",
   "execution_count": null,
   "id": "32dd6a19-db09-4a78-9f66-66a416f5cf95",
   "metadata": {},
   "outputs": [],
   "source": [
    "# !pip install ray[tune]"
   ]
  },
  {
   "cell_type": "code",
   "execution_count": null,
   "id": "9c252421",
   "metadata": {},
   "outputs": [],
   "source": [
    "# !pip install optuna"
   ]
  },
  {
   "cell_type": "code",
   "execution_count": null,
   "id": "ee0815e2",
   "metadata": {},
   "outputs": [],
   "source": [
    "import numpy as np\n",
    "import torch\n",
    "\n",
    "import random\n",
    "import os\n",
    "import torch.nn as nn\n",
    "import torch.nn.functional as F\n",
    "from torch import optim\n",
    "import ray\n",
    "from ray import tune\n",
    "from ray.tune import CLIReporter, JupyterNotebookReporter\n",
    "from ray.tune.schedulers import ASHAScheduler\n",
    "from ray.tune.schedulers.pb2 import PB2\n",
    "from ray.air import session\n",
    "from ray.tune.suggest.optuna import OptunaSearch\n",
    "from ray.air import Result"
   ]
  },
  {
   "cell_type": "code",
   "execution_count": null,
   "id": "e7e1df47-e95f-430f-96c0-12e5c7969860",
   "metadata": {},
   "outputs": [],
   "source": [
    "device = \"cpu\"\n",
    "if torch.cuda.is_available():\n",
    "    device = \"cuda:0\""
   ]
  },
  {
   "cell_type": "code",
   "execution_count": null,
   "id": "0ed816f9-a512-42d2-a0dc-f5f0ba0636c6",
   "metadata": {},
   "outputs": [
    {
     "data": {
      "text/plain": [
       "'cuda:0'"
      ]
     },
     "execution_count": null,
     "metadata": {},
     "output_type": "execute_result"
    }
   ],
   "source": [
    "device"
   ]
  },
  {
   "cell_type": "code",
   "execution_count": null,
   "id": "29f0b5a9",
   "metadata": {},
   "outputs": [],
   "source": [
    "torch.manual_seed(42);"
   ]
  },
  {
   "cell_type": "code",
   "execution_count": null,
   "id": "5404db14",
   "metadata": {},
   "outputs": [],
   "source": [
    "random.seed(42)"
   ]
  },
  {
   "cell_type": "markdown",
   "id": "ca34c512",
   "metadata": {},
   "source": [
    "### Setup Data Loader"
   ]
  },
  {
   "cell_type": "code",
   "execution_count": null,
   "id": "b1b7a5a5",
   "metadata": {},
   "outputs": [],
   "source": [
    "words = open('names.txt', 'r').read().splitlines()"
   ]
  },
  {
   "cell_type": "code",
   "execution_count": null,
   "id": "98d76291",
   "metadata": {},
   "outputs": [],
   "source": [
    "random.shuffle(words)"
   ]
  },
  {
   "cell_type": "code",
   "execution_count": null,
   "id": "d27e029e",
   "metadata": {},
   "outputs": [],
   "source": [
    "def build_dataset(words, block_size=8):\n",
    "    \n",
    "    X, Y = [], []\n",
    "    \n",
    "    random.seed(42)\n",
    "    random.shuffle(words)\n",
    "    \n",
    "    chars = sorted(list(set(''.join(words))))\n",
    "    stoi = {s: i + 1 for i, s in enumerate(chars)}\n",
    "    stoi['.'] = 0\n",
    "    itos = {i: s for s, i in stoi.items()}\n",
    "    vocab_size = len(itos)\n",
    "    \n",
    "    for w in words:\n",
    "        context = [0] * block_size\n",
    "        for ch in w + '.':\n",
    "            ix = stoi[ch]\n",
    "            X.append(context)\n",
    "            Y.append(ix)\n",
    "            context = context[1:] + [ix]\n",
    "    \n",
    "    X = torch.tensor(X).to(device)\n",
    "    Y = torch.tensor(Y).to(device)\n",
    "    return X, Y\n",
    "\n",
    "n1 = int(0.8 * len(words))\n",
    "n2 = int(0.9 * len(words))\n",
    "\n",
    "Xtr, Ytr = build_dataset(words[:n1])\n",
    "Xdev, Ydev = build_dataset(words[n1:n2])\n",
    "Xte, Yte = build_dataset(words[n2:])"
   ]
  },
  {
   "cell_type": "code",
   "execution_count": null,
   "id": "3a1f4953",
   "metadata": {},
   "outputs": [
    {
     "data": {
      "text/plain": [
       "torch.Size([182625, 8])"
      ]
     },
     "execution_count": null,
     "metadata": {},
     "output_type": "execute_result"
    }
   ],
   "source": [
    "Xtr.shape"
   ]
  },
  {
   "cell_type": "markdown",
   "id": "cabedf8a-25b9-4f90-bac5-fb44546fb38a",
   "metadata": {},
   "source": [
    "### Create Model "
   ]
  },
  {
   "cell_type": "code",
   "execution_count": null,
   "id": "11fe3309",
   "metadata": {},
   "outputs": [],
   "source": [
    "# --- Tanh --- layer\n",
    "class Tanh:\n",
    "    def __call__(self, x):\n",
    "        self.out = torch.tanh(x).to(device)\n",
    "        return self.out\n",
    "    \n",
    "    def parameters(self):\n",
    "        return []\n",
    "    \n",
    "# --- Linear --- layer\n",
    "class Linear:\n",
    "    \n",
    "    def __init__(self, fan_in, fan_out, bias=True):\n",
    "        self.weight = (torch.randn((fan_in, fan_out)) / fan_in ** 0.5).to(device) # note: kaiming init\n",
    "        self.bias = torch.zeros(fan_out).to(device) if bias else None #\n",
    "    \n",
    "    def __call__(self, x):\n",
    "        self.out = x @ self.weight\n",
    "        if self.bias is not None:\n",
    "            self.out += self.bias\n",
    "        return self.out\n",
    "    \n",
    "    def parameters(self):\n",
    "        return [self.weight] + ([] if self.bias is None else [self.bias])\n",
    "\n",
    "\n",
    "# --- Embedding --- layer\n",
    "class Embedding: \n",
    "    def __init__(self, num_embeddings, embedding_dim):\n",
    "        self.weight = torch.randn((num_embeddings, embedding_dim)).to(device)\n",
    "        \n",
    "    def __call__(self, IX):\n",
    "        self.out = self.weight[IX]\n",
    "        return self.out\n",
    "    \n",
    "    def parameters(self):\n",
    "        return [self.weight]\n",
    "\n",
    "# --- Sequential ----\n",
    "class Sequential:\n",
    "    def __init__(self, layers):\n",
    "        self.layers = layers\n",
    "        \n",
    "    def __call__(self, x):\n",
    "        B, T, C = x.shape\n",
    "        x = x.view(B, T//self.n, C*self.n)\n",
    "        if x.shape[1] == 1: \n",
    "            x = x.squeeze(1)\n",
    "        self.out = x\n",
    "        return self.out\n",
    "    \n",
    "    def parameters(self):\n",
    "        # get parameters of all layers and stretch them out into one list\n",
    "        return [p for layer in self.layers for p in layer.parameters()]\n",
    "\n",
    "# --- BatchNorm1d ---\n",
    "class BatchNorm1d:\n",
    "    \n",
    "    def __init__(self, dim, eps=1e-5, momentum=0.1):\n",
    "        self.eps = eps\n",
    "        self.momentum = momentum\n",
    "        self.training = True\n",
    "        # parameters (trained with backprop)\n",
    "        self.gamma = torch.ones(dim).to(device)\n",
    "        self.beta = torch.zeros(dim).to(device)\n",
    "        # buffers (trained with a running `momentum update`)\n",
    "        self.running_mean = torch.zeros(dim).to(device)\n",
    "        self.running_var = torch.ones(dim).to(device)\n",
    "    \n",
    "    def __call__(self, x):\n",
    "        # calculate the forward pass\n",
    "        if self.training:\n",
    "            if x.ndim == 2: dim = 0\n",
    "            elif x.ndim == 3: dim = (0, 1)\n",
    "            xmean = x.mean(dim, keepdim=True)\n",
    "            xvar = x.var(dim, keepdim=True)\n",
    "        else:\n",
    "            # print('In batchnorm call')\n",
    "            xmean = self.running_mean\n",
    "            xvar = self.running_var\n",
    "        \n",
    "        xhat = (x - xmean) / torch.sqrt(xvar + self.eps)\n",
    "        self.out = self.gamma * xhat + self.beta\n",
    "        # update the buffers\n",
    "        if self.training:\n",
    "            with torch.no_grad():\n",
    "                self.running_mean = (1 - self.momentum) * self.running_mean + self.momentum * xmean\n",
    "                self.running_var = (1 - self.momentum) * self.running_var + self.momentum * xvar\n",
    "        return self.out\n",
    "    \n",
    "    def parameters(self):\n",
    "        return [self.gamma, self.beta]\n",
    "\n",
    "# --- Flatten Consecutive ---\n",
    "class FlattenConsecutive:\n",
    "    def __init__(self, n):\n",
    "        self.n = n\n",
    "    \n",
    "    def __call__(self, x):\n",
    "        for layer in self.layers:\n",
    "            x = layer(x)\n",
    "        self.out = x\n",
    "        return self.out\n",
    "    \n",
    "    def parameters(self):\n",
    "        # get parameters of all layers and stretch them out into one list\n",
    "        return [p for layer in self.layers for p in layer.parameters()]"
   ]
  },
  {
   "cell_type": "code",
   "execution_count": null,
   "id": "a3f11c1e-d7fb-4adc-bd47-dc79d9a5c7e2",
   "metadata": {},
   "outputs": [
    {
     "name": "stdout",
     "output_type": "stream",
     "text": [
      "76579\n"
     ]
    }
   ],
   "source": [
    "def build_model(n_embd, # the dimensionality of the character embedding vectors\n",
    "                n_hidden, # the number of neurons in the hidden layer of the MLP \n",
    "                last_layer_factor = 0.1 # the factor by to reduce the weights of the last layer\n",
    "               ):\n",
    "    vocab_size = 27\n",
    "    model = Sequential([\n",
    "        Embedding(vocab_size, n_embd),\n",
    "        FlattenConsecutive(2), Linear(n_embd*2, n_hidden, bias=False), BatchNorm1d(n_hidden), Tanh(),\n",
    "        FlattenConsecutive(2), Linear(n_hidden*2, n_hidden, bias=False), BatchNorm1d(n_hidden), Tanh(),\n",
    "        FlattenConsecutive(2), Linear(n_hidden*2, n_hidden, bias=False), BatchNorm1d(n_hidden), Tanh(),\n",
    "        Linear(n_hidden, vocab_size),\n",
    "    ])\n",
    "\n",
    "\n",
    "    # parameter init\n",
    "    with torch.no_grad(): model.layers[-1].weight *= last_layer_factor\n",
    "\n",
    "    parameters = model.parameters()\n",
    "    print(\"No of parameters \", sum(p.nelement() for p in parameters))\n",
    "    for p in parameters: p.requires_grad = True\n",
    "    return model"
   ]
  },
  {
   "cell_type": "code",
   "execution_count": null,
   "id": "b57c57b0",
   "metadata": {},
   "outputs": [],
   "source": [
    "model = build_model(24, 128)"
   ]
  },
  {
   "cell_type": "code",
   "execution_count": null,
   "id": "af66e115",
   "metadata": {},
   "outputs": [
    {
     "name": "stdout",
     "output_type": "stream",
     "text": [
      "torch.Size([4, 8])\n"
     ]
    },
    {
     "data": {
      "text/plain": [
       "tensor([[ 0,  0,  0,  0,  0,  0,  0,  0],\n",
       "        [ 0,  0,  0,  0,  0,  0,  0,  6],\n",
       "        [ 0,  0,  0,  0,  0,  0,  0, 12],\n",
       "        [ 0,  0,  0,  2, 18,  9,  5, 12]])"
      ]
     },
     "execution_count": null,
     "metadata": {},
     "output_type": "execute_result"
    }
   ],
   "source": [
    "ix = torch.randint(0, Xtr.shape[0], (4,))\n",
    "Xb, Yb = Xtr[ix], Ytr[ix]\n",
    "logits = model(Xb)\n",
    "print(Xb.shape)\n",
    "Xb"
   ]
  },
  {
   "cell_type": "code",
   "execution_count": null,
   "id": "8584dfc0-ce59-4211-85c9-b53fcba9fce5",
   "metadata": {},
   "outputs": [
    {
     "data": {
      "text/plain": [
       "tensor([[ 0.0273, -0.0539,  0.0103,  0.0468,  0.0906, -0.0791,  0.0134, -0.0599,\n",
       "         -0.0407, -0.0617,  0.0134, -0.0230, -0.0095,  0.0769,  0.0231,  0.0755,\n",
       "         -0.0331, -0.0292,  0.0256, -0.1219,  0.0147, -0.0233,  0.0642, -0.0846,\n",
       "         -0.1325,  0.0057,  0.1157],\n",
       "        [ 0.0004,  0.0353, -0.0831,  0.0284, -0.0333,  0.0517, -0.0613, -0.0264,\n",
       "          0.0924, -0.0422, -0.0844, -0.0041,  0.0009,  0.0050,  0.0096,  0.0046,\n",
       "          0.0754, -0.0220, -0.0776,  0.0863, -0.0258,  0.0097,  0.1024,  0.0146,\n",
       "          0.1084, -0.0321, -0.0900],\n",
       "        [-0.0469,  0.0274,  0.0240,  0.0247, -0.0269, -0.0069,  0.1197, -0.0066,\n",
       "         -0.1216,  0.0030, -0.0689, -0.0530,  0.0465, -0.0710, -0.0207, -0.0524,\n",
       "         -0.0485,  0.0697,  0.0468,  0.0067, -0.0114,  0.0317, -0.0701,  0.0484,\n",
       "          0.1649,  0.0206, -0.0751],\n",
       "        [ 0.0238, -0.0383, -0.0129, -0.1187, -0.0069, -0.0030, -0.0763,  0.0728,\n",
       "          0.0896,  0.1063,  0.1267,  0.0320, -0.0092, -0.0483, -0.0477, -0.0461,\n",
       "          0.0270,  0.0346,  0.0168,  0.0283,  0.0219, -0.0034, -0.1050,  0.0165,\n",
       "         -0.1496, -0.0124,  0.0358]], device='cuda:0', grad_fn=<AddBackward0>)"
      ]
     },
     "execution_count": null,
     "metadata": {},
     "output_type": "execute_result"
    }
   ],
   "source": [
    "logits"
   ]
  },
  {
   "cell_type": "code",
   "execution_count": null,
   "id": "5c421b37-9cf4-4869-a86c-e9cbdfb7fadf",
   "metadata": {},
   "outputs": [
    {
     "name": "stdout",
     "output_type": "stream",
     "text": [
      "0 range(0, 1)\n",
      "1 range(1, 2)\n",
      "2 range(2, 3)\n",
      "3 range(3, 4)\n",
      "4 range(4, 5)\n",
      "5 range(5, 6)\n",
      "6 range(6, 7)\n",
      "7 range(7, 8)\n",
      "8 range(8, 9)\n",
      "9 range(9, 10)\n"
     ]
    }
   ],
   "source": [
    "for i, ix in enumerate(batch(range(10))):\n",
    "    print(i, ix)"
   ]
  },
  {
   "cell_type": "code",
   "execution_count": null,
   "id": "ede064c0",
   "metadata": {},
   "outputs": [],
   "source": [
    "def batch(iterable, n=1):\n",
    "    l = len(iterable)\n",
    "    for ndx in range(0, l, n):\n",
    "        yield iterable[ndx:min(ndx + n, l)]"
   ]
  },
  {
   "cell_type": "code",
   "execution_count": null,
   "id": "8c1c5960",
   "metadata": {},
   "outputs": [
    {
     "name": "stdout",
     "output_type": "stream",
     "text": [
      "0 range(0, 1)\n",
      "1 range(1, 2)\n",
      "2 range(2, 3)\n",
      "3 range(3, 4)\n",
      "4 range(4, 5)\n",
      "5 range(5, 6)\n",
      "6 range(6, 7)\n",
      "7 range(7, 8)\n",
      "8 range(8, 9)\n",
      "9 range(9, 10)\n"
     ]
    }
   ],
   "source": [
    "for i, ix in enumerate(batch(range(10))):\n",
    "    print(i, ix)"
   ]
  },
  {
   "cell_type": "code",
   "execution_count": null,
   "id": "c640cf2c-f407-4ead-aaf8-1ade48438d54",
   "metadata": {},
   "outputs": [],
   "source": [
    "# same optimization as last time\n",
    "def train_no_tune(config, checkpoint_dir=None):\n",
    "    \n",
    "    n_embd = config['n_embd']\n",
    "    n_hidden = config['n_hidden']\n",
    "    last_layer_factor = config['last_layer_factor']\n",
    "    max_steps = config['max_steps'] \n",
    "    lr = config['lr']\n",
    "    batch_size = config['batch_size']\n",
    "    \n",
    "    model = build_model(n_embd, n_hidden, last_layer_factor)\n",
    "\n",
    "    train_loss = F.cross_entropy(model(Xtr), Ytr)\n",
    "    print('Initial loss ', train_loss)\n",
    "    \n",
    "    lossi = []\n",
    "    \n",
    "    for i in range(max_steps):\n",
    "        running_loss = 0.0\n",
    "        epoch_steps = 0\n",
    "        # minibatch construct\n",
    "        ix = torch.randint(0, Xtr.shape[0], (batch_size,))\n",
    "        Xb, Yb = Xtr[ix], Ytr[ix]\n",
    "\n",
    "\n",
    "        # forward pass\n",
    "        logits = model(Xb)\n",
    "        loss = F.cross_entropy(logits, Yb)\n",
    "\n",
    "        # backward pass\n",
    "        for p in model.parameters():\n",
    "            p.grad = None\n",
    "        loss.backward()\n",
    "\n",
    "        # update: simple SGD\n",
    "        # lr = 0.1 if i < 150_000 else 0.01 # step learning rate decay\n",
    "        for p in model.parameters(): \n",
    "            p.data += -lr * p.grad\n",
    "\n",
    "        # track stats\n",
    "        if i % 10_000 == 0:\n",
    "            print(f'{i:7d}/{max_steps:7d}: {loss.item():.4f}')\n",
    "        lossi.append(loss.log10().item())\n",
    "    \n",
    "#     print(model)\n",
    "        \n",
    "    return model\n",
    "                \n",
    "#     print(train_loss.item(), val_loss.item())"
   ]
  },
  {
   "cell_type": "code",
   "execution_count": null,
   "id": "daceac7a-c216-4680-b45a-3c7cbb58caba",
   "metadata": {},
   "outputs": [],
   "source": [
    "config = {\n",
    "        \"n_embd\": 24,\n",
    "        \"n_hidden\": 128,\n",
    "        \"lr\": 0.1,\n",
    "        \"last_layer_factor\": 0.1,\n",
    "        \"batch_size\": 32,\n",
    "        \"max_steps\": 150_000\n",
    "    }"
   ]
  },
  {
   "cell_type": "code",
   "execution_count": null,
   "id": "4828e4ad-47e6-4770-8460-ec9e358e1809",
   "metadata": {},
   "outputs": [],
   "source": [
    "m = train_no_tune(config)"
   ]
  },
  {
   "cell_type": "code",
   "execution_count": null,
   "id": "43c67352-0081-47f5-94fa-aaabd02aca8c",
   "metadata": {},
   "outputs": [
    {
     "data": {
      "text/plain": [
       "tensor([[ 7.3465,  3.0281, -0.8438, -0.6315,  0.1254,  2.3173, -5.4998, -3.1930,\n",
       "          1.5278,  1.3920, -0.8801,  0.2029,  0.6476,  1.1801,  3.3868, -0.4111,\n",
       "         -3.7620, -2.9908,  2.5343,  2.5573, -1.7074,  1.2317, -2.6614, -0.9130,\n",
       "         -1.6869, -1.5149, -0.9145],\n",
       "        [ 1.1573,  6.1267, -1.6542, -0.7126, -0.0082,  7.1435, -3.1067, -2.7086,\n",
       "         -0.5152,  5.9013, -1.5665, -2.7343, -0.8459, -2.8573,  0.9811,  5.7301,\n",
       "         -2.6570, -4.4699,  2.2010, -1.5982, -1.9610,  2.9759,  0.5002, -2.5367,\n",
       "         -3.4369,  5.2291, -4.5067],\n",
       "        [ 7.1585,  2.8464,  0.2289, -0.9455,  1.5724,  0.8947, -1.6819,  8.0458,\n",
       "         -3.1600, -1.8369, -0.4268,  0.1184, -0.3447, -0.5721,  2.6477,  0.2432,\n",
       "         -2.7675, -2.0082,  1.5645,  1.6701, -0.3294, -2.4148, -3.6991, -3.9939,\n",
       "         -2.7473,  0.7778, -1.0990],\n",
       "        [-0.6448,  5.7704, -0.8307,  0.5714, -1.6713,  5.6905, -2.8324, -4.6171,\n",
       "          1.4003,  7.0470, -1.9388, -1.7307, -1.1796, -0.9947, -1.5239,  2.1725,\n",
       "         -1.7857, -2.5253,  1.9881,  1.3517, -0.3367, -1.3917, -1.4497, -2.4642,\n",
       "         -1.0517,  4.1390, -1.2129]], device='cuda:0', grad_fn=<AddBackward0>)"
      ]
     },
     "execution_count": null,
     "metadata": {},
     "output_type": "execute_result"
    }
   ],
   "source": [
    "ix = torch.randint(0, Xtr.shape[0], (4,))\n",
    "Xb, Yb = Xtr[ix], Ytr[ix]\n",
    "logits = m(Xb)\n",
    "logits"
   ]
  },
  {
   "cell_type": "code",
   "execution_count": null,
   "id": "3b263806-b786-49ba-8253-1d688b06f08b",
   "metadata": {},
   "outputs": [
    {
     "data": {
      "text/plain": [
       "(1.858979344367981, 2.039809226989746)"
      ]
     },
     "execution_count": null,
     "metadata": {},
     "output_type": "execute_result"
    }
   ],
   "source": [
    "for layer in m.layers: layer.training = False\n",
    "train_loss = F.cross_entropy(m(Xtr), Ytr).item() \n",
    "val_loss = F.cross_entropy(m(Xdev), Ydev).item()\n",
    "train_loss, val_loss"
   ]
  },
  {
   "cell_type": "markdown",
   "id": "3ccce81f-912f-4649-8a3b-771598f5d373",
   "metadata": {},
   "source": [
    "### Tuning"
   ]
  },
  {
   "cell_type": "code",
   "execution_count": null,
   "id": "a613f489-8b11-422f-970f-fe6212fc7e41",
   "metadata": {},
   "outputs": [
    {
     "name": "stdout",
     "output_type": "stream",
     "text": [
      "      0/ 300000: 3.2818\n",
      "  10000/ 300000: 2.3348\n",
      "  20000/ 300000: 2.0034\n",
      "  30000/ 300000: 1.9822\n",
      "  40000/ 300000: 1.5388\n",
      "  50000/ 300000: 1.9057\n",
      "  60000/ 300000: 1.6040\n",
      "  70000/ 300000: 2.0101\n",
      "  80000/ 300000: 2.2422\n",
      "  90000/ 300000: 1.6573\n",
      " 100000/ 300000: 1.7261\n",
      " 110000/ 300000: 1.8587\n",
      " 120000/ 300000: 1.5202\n",
      " 130000/ 300000: 2.0675\n",
      " 140000/ 300000: 1.9777\n",
      " 150000/ 300000: 2.0351\n",
      " 160000/ 300000: 1.6458\n",
      " 170000/ 300000: 1.8868\n",
      " 180000/ 300000: 1.7516\n",
      " 190000/ 300000: 1.6009\n",
      " 200000/ 300000: 1.3999\n",
      " 210000/ 300000: 1.7495\n",
      " 220000/ 300000: 1.6129\n",
      " 230000/ 300000: 1.7232\n",
      " 240000/ 300000: 2.2450\n",
      " 250000/ 300000: 2.2155\n",
      " 260000/ 300000: 1.5074\n",
      " 270000/ 300000: 1.6431\n",
      " 280000/ 300000: 1.7525\n",
      " 290000/ 300000: 1.8047\n"
     ]
    }
   ],
   "source": [
    "def train(config):\n",
    "    \n",
    "    n_embd = config['n_embd']\n",
    "    n_hidden = config['n_hidden']\n",
    "    last_layer_factor = config['last_layer_factor']\n",
    "    max_steps = config['max_steps'] \n",
    "    lr = config['lr']\n",
    "    batch_size = config['batch_size']\n",
    "    \n",
    "    model = build_model(n_embd, n_hidden, last_layer_factor)\n",
    "\n",
    "    train_loss = F.cross_entropy(model(Xtr), Ytr)\n",
    "    print('Initial loss ', train_loss)\n",
    "    \n",
    "    lossi = []\n",
    "    \n",
    "    # max_steps = 100_00_000\n",
    "    \n",
    "    for i in range(max_steps):\n",
    "        running_loss = 0.0\n",
    "        epoch_steps = 0\n",
    "        # minibatch construct\n",
    "        ix = torch.randint(0, Xtr.shape[0], (batch_size,))\n",
    "        Xb, Yb = Xtr[ix], Ytr[ix]\n",
    "\n",
    "\n",
    "        # forward pass\n",
    "        logits = model(Xb)\n",
    "        loss = F.cross_entropy(logits, Yb)\n",
    "\n",
    "        # backward pass\n",
    "        for p in model.parameters():\n",
    "            p.grad = None\n",
    "        loss.backward()\n",
    "\n",
    "        # update: simple SGD\n",
    "        for p in model.parameters(): \n",
    "            p.data += -lr * p.grad\n",
    "\n",
    "        # track stats\n",
    "        # if i % 10_000 == 0: # print every once in a while\n",
    "        #     # print(f'{i:7d}/{max_steps:7d}: {loss.item():.4f}')\n",
    "            \n",
    "        for layer in model.layers: layer.training = False\n",
    "        train_loss = F.cross_entropy(model(Xtr), Ytr) \n",
    "        val_loss = F.cross_entropy(model(Xdev), Ydev)\n",
    "        session.report({'training_iteration':i, 'train_loss':train_loss.item(), 'val_loss':val_loss.item()})\n",
    "        for layer in model.layers: layer.training = True\n",
    "            \n",
    "        lossi.append(loss.log10().item())\n",
    "    \n",
    "    print('Train Loss ', F.cross_entropy(model(Xtr), Ytr).item())\n",
    "    print('Val Loss ', F.cross_entropy(model(Xdev), Ydev).item())"
   ]
  },
  {
   "cell_type": "code",
   "execution_count": null,
   "id": "07672054-1013-4e59-9cc5-457f62cf1ad8",
   "metadata": {},
   "outputs": [],
   "source": [
    "def tuning():\n",
    "    search_space = {\n",
    "        \"n_embd\": tune.randint(4, 65),\n",
    "        \"n_hidden\": tune.randint(100, 500),\n",
    "        \"lr\": tune.loguniform(1e-4, 1e-1),\n",
    "        \"last_layer_factor\": tune.uniform(0.1, 1.01),\n",
    "        \"batch_size\": tune.choice([16, 32, 64]),\n",
    "        \"max_steps\": tune.randint(100_000, 10_00_000)\n",
    "    }\n",
    "    \n",
    "    initial_params = [{\n",
    "        \"n_embd\": 24, \n",
    "        \"n_hidden\": 128,\n",
    "        \"lr\": 0.1,\n",
    "        \"last_layer_factor\": 0.1,\n",
    "        \"batch_size\": 32,\n",
    "        \"max_steps\": 150_000\n",
    "    }]\n",
    "    \n",
    "    searcher = OptunaSearch(points_to_evaluate=initial_params)\n",
    "    trainable_with_cpu_gpu = tune.with_resources(train, {\"cpu\": 30, \"gpu\": 1})\n",
    "    \n",
    "    tuner = tune.Tuner(\n",
    "        trainable_with_cpu_gpu,\n",
    "        tune_config=tune.TuneConfig(\n",
    "            metric=\"val_loss\",\n",
    "            mode=\"min\",\n",
    "            search_alg=searcher,\n",
    "            num_samples=7,\n",
    "        ),\n",
    "        param_space=search_space,\n",
    "    )\n",
    "    \n",
    "    results = tuner.fit()\n",
    "    \n",
    "    print(\"Best hyperparameters found were: \", results.get_best_result().config)"
   ]
  },
  {
   "cell_type": "code",
   "execution_count": null,
   "id": "57266dd2",
   "metadata": {},
   "outputs": [
    {
     "name": "stderr",
     "output_type": "stream",
     "text": [
      "2023-03-19 17:02:02,578\tINFO worker.py:1553 -- Started a local Ray instance.\n"
     ]
    },
    {
     "data": {
      "text/html": [
       "<div>\n",
       "    <div style=\"margin-left: 50px;display: flex;flex-direction: row;align-items: center\">\n",
       "        <h3 style=\"color: var(--jp-ui-font-color0)\">Ray</h3>\n",
       "        <svg version=\"1.1\" id=\"ray\" width=\"3em\" viewBox=\"0 0 144.5 144.6\" style=\"margin-left: 3em;margin-right: 3em\">\n",
       "            <g id=\"layer-1\">\n",
       "                <path fill=\"#00a2e9\" class=\"st0\" d=\"M97.3,77.2c-3.8-1.1-6.2,0.9-8.3,5.1c-3.5,6.8-9.9,9.9-17.4,9.6S58,88.1,54.8,81.2c-1.4-3-3-4-6.3-4.1\n",
       "                    c-5.6-0.1-9.9,0.1-13.1,6.4c-3.8,7.6-13.6,10.2-21.8,7.6C5.2,88.4-0.4,80.5,0,71.7c0.1-8.4,5.7-15.8,13.8-18.2\n",
       "                    c8.4-2.6,17.5,0.7,22.3,8c1.3,1.9,1.3,5.2,3.6,5.6c3.9,0.6,8,0.2,12,0.2c1.8,0,1.9-1.6,2.4-2.8c3.5-7.8,9.7-11.8,18-11.9\n",
       "                    c8.2-0.1,14.4,3.9,17.8,11.4c1.3,2.8,2.9,3.6,5.7,3.3c1-0.1,2,0.1,3,0c2.8-0.5,6.4,1.7,8.1-2.7s-2.3-5.5-4.1-7.5\n",
       "                    c-5.1-5.7-10.9-10.8-16.1-16.3C84,38,81.9,37.1,78,38.3C66.7,42,56.2,35.7,53,24.1C50.3,14,57.3,2.8,67.7,0.5\n",
       "                    C78.4-2,89,4.7,91.5,15.3c0.1,0.3,0.1,0.5,0.2,0.8c0.7,3.4,0.7,6.9-0.8,9.8c-1.7,3.2-0.8,5,1.5,7.2c6.7,6.5,13.3,13,19.8,19.7\n",
       "                    c1.8,1.8,3,2.1,5.5,1.2c9.1-3.4,17.9-0.6,23.4,7c4.8,6.9,4.6,16.1-0.4,22.9c-5.4,7.2-14.2,9.9-23.1,6.5c-2.3-0.9-3.5-0.6-5.1,1.1\n",
       "                    c-6.7,6.9-13.6,13.7-20.5,20.4c-1.8,1.8-2.5,3.2-1.4,5.9c3.5,8.7,0.3,18.6-7.7,23.6c-7.9,5-18.2,3.8-24.8-2.9\n",
       "                    c-6.4-6.4-7.4-16.2-2.5-24.3c4.9-7.8,14.5-11,23.1-7.8c3,1.1,4.7,0.5,6.9-1.7C91.7,98.4,98,92.3,104.2,86c1.6-1.6,4.1-2.7,2.6-6.2\n",
       "                    c-1.4-3.3-3.8-2.5-6.2-2.6C99.8,77.2,98.9,77.2,97.3,77.2z M72.1,29.7c5.5,0.1,9.9-4.3,10-9.8c0-0.1,0-0.2,0-0.3\n",
       "                    C81.8,14,77,9.8,71.5,10.2c-5,0.3-9,4.2-9.3,9.2c-0.2,5.5,4,10.1,9.5,10.3C71.8,29.7,72,29.7,72.1,29.7z M72.3,62.3\n",
       "                    c-5.4-0.1-9.9,4.2-10.1,9.7c0,0.2,0,0.3,0,0.5c0.2,5.4,4.5,9.7,9.9,10c5.1,0.1,9.9-4.7,10.1-9.8c0.2-5.5-4-10-9.5-10.3\n",
       "                    C72.6,62.3,72.4,62.3,72.3,62.3z M115,72.5c0.1,5.4,4.5,9.7,9.8,9.9c5.6-0.2,10-4.8,10-10.4c-0.2-5.4-4.6-9.7-10-9.7\n",
       "                    c-5.3-0.1-9.8,4.2-9.9,9.5C115,72.1,115,72.3,115,72.5z M19.5,62.3c-5.4,0.1-9.8,4.4-10,9.8c-0.1,5.1,5.2,10.4,10.2,10.3\n",
       "                    c5.6-0.2,10-4.9,9.8-10.5c-0.1-5.4-4.5-9.7-9.9-9.6C19.6,62.3,19.5,62.3,19.5,62.3z M71.8,134.6c5.9,0.2,10.3-3.9,10.4-9.6\n",
       "                    c0.5-5.5-3.6-10.4-9.1-10.8c-5.5-0.5-10.4,3.6-10.8,9.1c0,0.5,0,0.9,0,1.4c-0.2,5.3,4,9.8,9.3,10\n",
       "                    C71.6,134.6,71.7,134.6,71.8,134.6z\"/>\n",
       "            </g>\n",
       "        </svg>\n",
       "        <table>\n",
       "            <tr>\n",
       "                <td style=\"text-align: left\"><b>Python version:</b></td>\n",
       "                <td style=\"text-align: left\"><b>3.8.10</b></td>\n",
       "            </tr>\n",
       "            <tr>\n",
       "                <td style=\"text-align: left\"><b>Ray version:</b></td>\n",
       "                <td style=\"text-align: left\"><b> 2.3.0</b></td>\n",
       "            </tr>\n",
       "            \n",
       "        </table>\n",
       "    </div>\n",
       "</div>\n"
      ],
      "text/plain": [
       "RayContext(dashboard_url='', python_version='3.8.10', ray_version='2.3.0', ray_commit='cf7a56b4b0b648c324722df7c99c168e92ff0b45', address_info={'node_ip_address': '10.19.31.32', 'raylet_ip_address': '10.19.31.32', 'redis_address': None, 'object_store_address': '/tmp/ray/session_2023-03-19_17-02-00_649680_77984/sockets/plasma_store', 'raylet_socket_name': '/tmp/ray/session_2023-03-19_17-02-00_649680_77984/sockets/raylet', 'webui_url': '', 'session_dir': '/tmp/ray/session_2023-03-19_17-02-00_649680_77984', 'metrics_export_port': 57401, 'gcs_address': '10.19.31.32:56740', 'address': '10.19.31.32:56740', 'dashboard_agent_listen_port': 52365, 'node_id': 'acf7b7da5785a42b536fd0c9f331d54fae6c729f27535f0025a46cfe'})"
      ]
     },
     "execution_count": null,
     "metadata": {},
     "output_type": "execute_result"
    }
   ],
   "source": [
    "ray.shutdown(); \n",
    "ray.init()"
   ]
  },
  {
   "cell_type": "code",
   "execution_count": null,
   "id": "e047570c-4130-46cb-bd5f-828e43117796",
   "metadata": {},
   "outputs": [
    {
     "name": "stderr",
     "output_type": "stream",
     "text": [
      "/home/ubuntu/.local/lib/python3.8/site-packages/ray/tune/search/optuna/optuna_search.py:683: FutureWarning: IntUniformDistribution has been deprecated in v3.0.0. This feature will be removed in v6.0.0. See https://github.com/optuna/optuna/releases/tag/v3.0.0. Use :class:`~optuna.distributions.IntDistribution` instead.\n",
      "  return ot.distributions.IntUniformDistribution(\n",
      "/home/ubuntu/.local/lib/python3.8/site-packages/ray/tune/search/optuna/optuna_search.py:662: FutureWarning: LogUniformDistribution has been deprecated in v3.0.0. This feature will be removed in v6.0.0. See https://github.com/optuna/optuna/releases/tag/v3.0.0. Use :class:`~optuna.distributions.FloatDistribution` instead.\n",
      "  return ot.distributions.LogUniformDistribution(\n",
      "/home/ubuntu/.local/lib/python3.8/site-packages/ray/tune/search/optuna/optuna_search.py:671: FutureWarning: UniformDistribution has been deprecated in v3.0.0. This feature will be removed in v6.0.0. See https://github.com/optuna/optuna/releases/tag/v3.0.0. Use :class:`~optuna.distributions.FloatDistribution` instead.\n",
      "  return ot.distributions.UniformDistribution(\n",
      "\u001b[32m[I 2023-03-19 17:02:06,605]\u001b[0m A new study created in memory with name: optuna\u001b[0m\n"
     ]
    },
    {
     "data": {
      "text/html": [
       "<div class=\"tuneStatus\">\n",
       "  <div style=\"display: flex;flex-direction: row\">\n",
       "    <div style=\"display: flex;flex-direction: column;\">\n",
       "      <h3>Tune Status</h3>\n",
       "      <table>\n",
       "<tbody>\n",
       "<tr><td>Current time:</td><td>2023-03-19 23:14:45</td></tr>\n",
       "<tr><td>Running for: </td><td>06:12:38.49        </td></tr>\n",
       "<tr><td>Memory:      </td><td>9.4/196.6 GiB      </td></tr>\n",
       "</tbody>\n",
       "</table>\n",
       "    </div>\n",
       "    <div class=\"vDivider\"></div>\n",
       "    <div class=\"systemInfo\">\n",
       "      <h3>System Info</h3>\n",
       "      Using FIFO scheduling algorithm.<br>Resources requested: 30.0/30 CPUs, 1.0/1 GPUs, 0.0/125.77 GiB heap, 0.0/57.89 GiB objects (0.0/1.0 accelerator_type:A100)\n",
       "    </div>\n",
       "    \n",
       "  </div>\n",
       "  <div class=\"hDivider\"></div>\n",
       "  <div class=\"trialStatus\">\n",
       "    <h3>Trial Status</h3>\n",
       "    <table>\n",
       "<thead>\n",
       "<tr><th>Trial name    </th><th>status    </th><th>loc              </th><th style=\"text-align: right;\">  batch_size</th><th style=\"text-align: right;\">  last_layer_factor</th><th style=\"text-align: right;\">         lr</th><th style=\"text-align: right;\">  max_steps</th><th style=\"text-align: right;\">  n_embd</th><th style=\"text-align: right;\">  n_hidden</th><th style=\"text-align: right;\">  iter</th><th style=\"text-align: right;\">  total time (s)</th><th style=\"text-align: right;\">  train_loss</th><th style=\"text-align: right;\">  val_loss</th></tr>\n",
       "</thead>\n",
       "<tbody>\n",
       "<tr><td>train_f6250653</td><td>RUNNING   </td><td>10.19.31.32:88428</td><td style=\"text-align: right;\">          64</td><td style=\"text-align: right;\">           0.99565 </td><td style=\"text-align: right;\">0.000439031</td><td style=\"text-align: right;\">     540060</td><td style=\"text-align: right;\">      24</td><td style=\"text-align: right;\">       456</td><td style=\"text-align: right;\">302615</td><td style=\"text-align: right;\">        19429.5 </td><td style=\"text-align: right;\">     1.85993</td><td style=\"text-align: right;\">   2.00036</td></tr>\n",
       "<tr><td>train_abc822a6</td><td>PENDING   </td><td>                 </td><td style=\"text-align: right;\">          16</td><td style=\"text-align: right;\">           0.127438</td><td style=\"text-align: right;\">0.000668113</td><td style=\"text-align: right;\">     762048</td><td style=\"text-align: right;\">      30</td><td style=\"text-align: right;\">       168</td><td style=\"text-align: right;\">      </td><td style=\"text-align: right;\">                </td><td style=\"text-align: right;\">            </td><td style=\"text-align: right;\">          </td></tr>\n",
       "<tr><td>train_e8e76444</td><td>TERMINATED</td><td>10.19.31.32:88428</td><td style=\"text-align: right;\">          32</td><td style=\"text-align: right;\">           0.1     </td><td style=\"text-align: right;\">0.1        </td><td style=\"text-align: right;\">     150000</td><td style=\"text-align: right;\">      24</td><td style=\"text-align: right;\">       128</td><td style=\"text-align: right;\">149999</td><td style=\"text-align: right;\">         2925.94</td><td style=\"text-align: right;\">     1.88007</td><td style=\"text-align: right;\">   2.06663</td></tr>\n",
       "</tbody>\n",
       "</table>\n",
       "  </div>\n",
       "</div>\n",
       "<style>\n",
       ".tuneStatus {\n",
       "  color: var(--jp-ui-font-color1);\n",
       "}\n",
       ".tuneStatus .systemInfo {\n",
       "  display: flex;\n",
       "  flex-direction: column;\n",
       "}\n",
       ".tuneStatus td {\n",
       "  white-space: nowrap;\n",
       "}\n",
       ".tuneStatus .trialStatus {\n",
       "  display: flex;\n",
       "  flex-direction: column;\n",
       "}\n",
       ".tuneStatus h3 {\n",
       "  font-weight: bold;\n",
       "}\n",
       ".tuneStatus .hDivider {\n",
       "  border-bottom-width: var(--jp-border-width);\n",
       "  border-bottom-color: var(--jp-border-color0);\n",
       "  border-bottom-style: solid;\n",
       "}\n",
       ".tuneStatus .vDivider {\n",
       "  border-left-width: var(--jp-border-width);\n",
       "  border-left-color: var(--jp-border-color0);\n",
       "  border-left-style: solid;\n",
       "  margin: 0.5em 1em 0.5em 1em;\n",
       "}\n",
       "</style>\n"
      ],
      "text/plain": [
       "[<matplotlib.lines.Line2D>]"
      ]
     },
     "metadata": {},
     "output_type": "display_data"
    },
    {
     "name": "stderr",
     "output_type": "stream",
     "text": [
      "/home/ubuntu/.local/lib/python3.8/site-packages/optuna/distributions.py:799: FutureWarning: IntUniformDistribution(high=64, low=4, step=1) is deprecated and internally converted to IntDistribution(high=64, log=False, low=4, step=1). See https://github.com/optuna/optuna/issues/2941.\n",
      "  warnings.warn(message, FutureWarning)\n",
      "/home/ubuntu/.local/lib/python3.8/site-packages/optuna/distributions.py:799: FutureWarning: IntUniformDistribution(high=499, low=100, step=1) is deprecated and internally converted to IntDistribution(high=499, log=False, low=100, step=1). See https://github.com/optuna/optuna/issues/2941.\n",
      "  warnings.warn(message, FutureWarning)\n",
      "/home/ubuntu/.local/lib/python3.8/site-packages/optuna/distributions.py:799: FutureWarning: LogUniformDistribution(high=0.1, low=0.0001) is deprecated and internally converted to FloatDistribution(high=0.1, log=True, low=0.0001, step=None). See https://github.com/optuna/optuna/issues/2941.\n",
      "  warnings.warn(message, FutureWarning)\n",
      "/home/ubuntu/.local/lib/python3.8/site-packages/optuna/distributions.py:799: FutureWarning: UniformDistribution(high=1.01, low=0.1) is deprecated and internally converted to FloatDistribution(high=1.01, log=False, low=0.1, step=None). See https://github.com/optuna/optuna/issues/2941.\n",
      "  warnings.warn(message, FutureWarning)\n",
      "/home/ubuntu/.local/lib/python3.8/site-packages/optuna/distributions.py:799: FutureWarning: IntUniformDistribution(high=999999, low=100000, step=1) is deprecated and internally converted to IntDistribution(high=999999, log=False, low=100000, step=1). See https://github.com/optuna/optuna/issues/2941.\n",
      "  warnings.warn(message, FutureWarning)\n",
      "2023-03-19 17:02:06,901\tWARNING worker.py:1866 -- Warning: The actor ImplicitFunc is very large (14 MiB). Check that its definition is not implicitly capturing a large array or other object in scope. Tip: use ray.put() to put large objects in the Ray object store.\n",
      "\u001b[2m\u001b[36m(pid=88428)\u001b[0m /home/ubuntu/.local/lib/python3.8/site-packages/pandas/core/computation/expressions.py:20: UserWarning: Pandas requires version '2.7.3' or newer of 'numexpr' (version '2.7.1' currently installed).\n",
      "\u001b[2m\u001b[36m(pid=88428)\u001b[0m   from pandas.core.computation.check import NUMEXPR_INSTALLED\n"
     ]
    },
    {
     "name": "stdout",
     "output_type": "stream",
     "text": [
      "\u001b[2m\u001b[36m(train pid=88428)\u001b[0m No of parameters  76579\n"
     ]
    },
    {
     "data": {
      "text/html": [
       "<div class=\"trialProgress\">\n",
       "  <h3>Trial Progress</h3>\n",
       "  <table>\n",
       "<thead>\n",
       "<tr><th>Trial name    </th><th>date               </th><th>done  </th><th>episodes_total  </th><th>experiment_id                   </th><th>hostname      </th><th style=\"text-align: right;\">  iterations_since_restore</th><th>node_ip    </th><th style=\"text-align: right;\">  pid</th><th style=\"text-align: right;\">  time_since_restore</th><th style=\"text-align: right;\">  time_this_iter_s</th><th style=\"text-align: right;\">  time_total_s</th><th style=\"text-align: right;\">  timestamp</th><th style=\"text-align: right;\">  timesteps_since_restore</th><th>timesteps_total  </th><th style=\"text-align: right;\">  train_loss</th><th style=\"text-align: right;\">  training_iteration</th><th>trial_id  </th><th style=\"text-align: right;\">  val_loss</th><th style=\"text-align: right;\">  warmup_time</th></tr>\n",
       "</thead>\n",
       "<tbody>\n",
       "<tr><td>train_e8e76444</td><td>2023-03-19_17-50-55</td><td>True  </td><td>                </td><td>352e72ef24b0485790725bb268154829</td><td>129-146-49-170</td><td style=\"text-align: right;\">                    150000</td><td>10.19.31.32</td><td style=\"text-align: right;\">88428</td><td style=\"text-align: right;\">             2925.94</td><td style=\"text-align: right;\">         0.0204446</td><td style=\"text-align: right;\">       2925.94</td><td style=\"text-align: right;\"> 1679248255</td><td style=\"text-align: right;\">                        0</td><td>                 </td><td style=\"text-align: right;\">     1.88007</td><td style=\"text-align: right;\">              149999</td><td>e8e76444  </td><td style=\"text-align: right;\">   2.06663</td><td style=\"text-align: right;\">   0.00304294</td></tr>\n",
       "<tr><td>train_f6250653</td><td>2023-03-19_23-14-47</td><td>False </td><td>                </td><td>352e72ef24b0485790725bb268154829</td><td>129-146-49-170</td><td style=\"text-align: right;\">                    302648</td><td>10.19.31.32</td><td style=\"text-align: right;\">88428</td><td style=\"text-align: right;\">            19431.6 </td><td style=\"text-align: right;\">         0.0662513</td><td style=\"text-align: right;\">      19431.6 </td><td style=\"text-align: right;\"> 1679267687</td><td style=\"text-align: right;\">                        0</td><td>                 </td><td style=\"text-align: right;\">     1.85784</td><td style=\"text-align: right;\">              302647</td><td>f6250653  </td><td style=\"text-align: right;\">   1.99851</td><td style=\"text-align: right;\">   0.00304294</td></tr>\n",
       "</tbody>\n",
       "</table>\n",
       "</div>\n",
       "<style>\n",
       ".trialProgress {\n",
       "  display: flex;\n",
       "  flex-direction: column;\n",
       "  color: var(--jp-ui-font-color1);\n",
       "}\n",
       ".trialProgress h3 {\n",
       "  font-weight: bold;\n",
       "}\n",
       ".trialProgress td {\n",
       "  white-space: nowrap;\n",
       "}\n",
       "</style>\n"
      ],
      "text/plain": [
       "<IPython.core.display.HTML object>"
      ]
     },
     "metadata": {},
     "output_type": "display_data"
    },
    {
     "name": "stdout",
     "output_type": "stream",
     "text": [
      "\u001b[2m\u001b[36m(train pid=88428)\u001b[0m Initial loss  tensor(3.2965, device='cuda:0', grad_fn=<NllLossBackward0>)\n",
      "\u001b[2m\u001b[36m(train pid=88428)\u001b[0m Train Loss  1.873051643371582\n",
      "\u001b[2m\u001b[36m(train pid=88428)\u001b[0m Val Loss  2.0602710247039795\n",
      "\u001b[2m\u001b[36m(train pid=88428)\u001b[0m No of parameters  869355\n",
      "\u001b[2m\u001b[36m(train pid=88428)\u001b[0m Initial loss  \n",
      "\u001b[2m\u001b[36m(train pid=88428)\u001b[0m tensor(3.4301, device='cuda:0', grad_fn=<NllLossBackward0>)\n"
     ]
    }
   ],
   "source": [
    "tuning()"
   ]
  },
  {
   "cell_type": "markdown",
   "id": "6c16900d",
   "metadata": {},
   "source": [
    "### Analyze the Ray Tune trials"
   ]
  },
  {
   "cell_type": "markdown",
   "id": "dd7fbd3f",
   "metadata": {},
   "source": [
    "All the trials' information did not show up above therefore doing the analysis in the folowing cells"
   ]
  },
  {
   "cell_type": "code",
   "execution_count": null,
   "id": "dc52a0b4-b6d2-43a8-829d-2698cbf4b020",
   "metadata": {},
   "outputs": [
    {
     "name": "stdout",
     "output_type": "stream",
     "text": [
      "Loading results from ray_results/train_2023-03-19_17-02-06...\n"
     ]
    }
   ],
   "source": [
    "experiment_path = f\"ray_results/train_2023-03-19_17-02-06\"\n",
    "print(f\"Loading results from {experiment_path}...\")"
   ]
  },
  {
   "cell_type": "code",
   "execution_count": null,
   "id": "8dafd551-45d8-414d-aaee-0f8d6adb7516",
   "metadata": {},
   "outputs": [
    {
     "name": "stderr",
     "output_type": "stream",
     "text": [
      "/home/ubuntu/.local/lib/python3.8/site-packages/ray/tune/tuner.py:230: UserWarning: Passing in the experiment's `trainable` will be a required argument to `Tuner.restore` starting from version 2.5. Please specify the trainable to avoid this warning.\n",
      "  warnings.warn(warning_message)\n",
      "2023-03-21 14:13:11,149\tINFO experiment_analysis.py:789 -- No `self.trials`. Drawing logdirs from checkpoint file. This may result in some information that is out of sync, as checkpointing is periodic.\n"
     ]
    }
   ],
   "source": [
    "restored_tuner = tune.Tuner.restore(experiment_path)\n",
    "result_grid = restored_tuner.get_results()"
   ]
  },
  {
   "cell_type": "code",
   "execution_count": null,
   "id": "7595d042-2889-4db8-9ffc-726ef4bfeb5f",
   "metadata": {},
   "outputs": [
    {
     "data": {
      "text/html": [
       "<div>\n",
       "<style scoped>\n",
       "    .dataframe tbody tr th:only-of-type {\n",
       "        vertical-align: middle;\n",
       "    }\n",
       "\n",
       "    .dataframe tbody tr th {\n",
       "        vertical-align: top;\n",
       "    }\n",
       "\n",
       "    .dataframe thead th {\n",
       "        text-align: right;\n",
       "    }\n",
       "</style>\n",
       "<table border=\"1\" class=\"dataframe\">\n",
       "  <thead>\n",
       "    <tr style=\"text-align: right;\">\n",
       "      <th></th>\n",
       "      <th>training_iteration</th>\n",
       "      <th>val_loss</th>\n",
       "    </tr>\n",
       "  </thead>\n",
       "  <tbody>\n",
       "    <tr>\n",
       "      <th>0</th>\n",
       "      <td>870783</td>\n",
       "      <td>2.044881</td>\n",
       "    </tr>\n",
       "    <tr>\n",
       "      <th>1</th>\n",
       "      <td>423444</td>\n",
       "      <td>2.018260</td>\n",
       "    </tr>\n",
       "    <tr>\n",
       "      <th>2</th>\n",
       "      <td>762047</td>\n",
       "      <td>2.015049</td>\n",
       "    </tr>\n",
       "    <tr>\n",
       "      <th>3</th>\n",
       "      <td>149999</td>\n",
       "      <td>2.066634</td>\n",
       "    </tr>\n",
       "    <tr>\n",
       "      <th>4</th>\n",
       "      <td>199144</td>\n",
       "      <td>2.051399</td>\n",
       "    </tr>\n",
       "    <tr>\n",
       "      <th>5</th>\n",
       "      <td>289118</td>\n",
       "      <td>2.046853</td>\n",
       "    </tr>\n",
       "    <tr>\n",
       "      <th>6</th>\n",
       "      <td>540059</td>\n",
       "      <td>1.989679</td>\n",
       "    </tr>\n",
       "  </tbody>\n",
       "</table>\n",
       "</div>"
      ],
      "text/plain": [
       "   training_iteration  val_loss\n",
       "0              870783  2.044881\n",
       "1              423444  2.018260\n",
       "2              762047  2.015049\n",
       "3              149999  2.066634\n",
       "4              199144  2.051399\n",
       "5              289118  2.046853\n",
       "6              540059  1.989679"
      ]
     },
     "metadata": {},
     "output_type": "display_data"
    }
   ],
   "source": [
    "results_df = result_grid.get_dataframe()\n",
    "results_df[[\"training_iteration\", \"val_loss\"]]"
   ]
  },
  {
   "cell_type": "code",
   "execution_count": null,
   "id": "9ceb9d1f-2e33-4cf8-b870-6c314b98beff",
   "metadata": {},
   "outputs": [],
   "source": [
    "best_result: Result = result_grid.get_best_result()"
   ]
  },
  {
   "cell_type": "code",
   "execution_count": null,
   "id": "589ab543-d204-4ad3-811e-3a862e225708",
   "metadata": {},
   "outputs": [
    {
     "data": {
      "text/plain": [
       "{'n_embd': 24,\n",
       " 'n_hidden': 456,\n",
       " 'lr': 0.0004390312584437158,\n",
       " 'last_layer_factor': 0.9956496873025195,\n",
       " 'batch_size': 64,\n",
       " 'max_steps': 540060}"
      ]
     },
     "execution_count": null,
     "metadata": {},
     "output_type": "execute_result"
    }
   ],
   "source": [
    "best_result.config"
   ]
  },
  {
   "cell_type": "code",
   "execution_count": null,
   "id": "56e8c26e-ed70-445f-8f8a-495ca00f554d",
   "metadata": {},
   "outputs": [
    {
     "name": "stdout",
     "output_type": "stream",
     "text": [
      "train 1.7052044868469238\n",
      "val 2.2605273723602295\n"
     ]
    }
   ],
   "source": [
    "best_result.checkpoint"
   ]
  },
  {
   "cell_type": "code",
   "execution_count": null,
   "id": "876e8226-bf1f-4d1c-9360-2aab91273b27",
   "metadata": {},
   "outputs": [
    {
     "data": {
      "text/plain": [
       "{'training_iteration': 540059,\n",
       " 'train_loss': 1.7585725784301758,\n",
       " 'val_loss': 1.9896790981292725,\n",
       " 'time_this_iter_s': 0.06922125816345215,\n",
       " 'done': True,\n",
       " 'timesteps_total': None,\n",
       " 'episodes_total': None,\n",
       " 'trial_id': 'f6250653',\n",
       " 'experiment_id': '352e72ef24b0485790725bb268154829',\n",
       " 'date': '2023-03-20_03-45-17',\n",
       " 'timestamp': 1679283917,\n",
       " 'time_total_s': 35661.531294584274,\n",
       " 'pid': 88428,\n",
       " 'hostname': '129-146-49-170',\n",
       " 'node_ip': '10.19.31.32',\n",
       " 'config': {'n_embd': 24,\n",
       "  'n_hidden': 456,\n",
       "  'lr': 0.0004390312584437158,\n",
       "  'last_layer_factor': 0.9956496873025195,\n",
       "  'batch_size': 64,\n",
       "  'max_steps': 540060},\n",
       " 'time_since_restore': 35661.531294584274,\n",
       " 'timesteps_since_restore': 0,\n",
       " 'iterations_since_restore': 540060,\n",
       " 'warmup_time': 0.003042936325073242,\n",
       " 'experiment_tag': '2_batch_size=64,last_layer_factor=0.9956,lr=0.0004,max_steps=540060,n_embd=24,n_hidden=456'}"
      ]
     },
     "execution_count": null,
     "metadata": {},
     "output_type": "execute_result"
    }
   ],
   "source": [
    "best_result.metrics"
   ]
  },
  {
   "cell_type": "code",
   "execution_count": null,
   "id": "0cc95b1f-4bfd-470e-973e-685400497960",
   "metadata": {},
   "outputs": [
    {
     "data": {
      "text/plain": [
       "<AxesSubplot:xlabel='training_iteration'>"
      ]
     },
     "execution_count": null,
     "metadata": {},
     "output_type": "execute_result"
    },
    {
     "data": {
      "image/png": "[encoded data removed]",
      "text/plain": [
       "<Figure size 432x288 with 1 Axes>"
      ]
     },
     "metadata": {
      "needs_background": "light"
     },
     "output_type": "display_data"
    }
   ],
   "source": [
    "best_result.metrics_dataframe.plot(\"training_iteration\", \"val_loss\")"
   ]
  },
  {
   "cell_type": "code",
   "execution_count": null,
   "id": "7132ef94-280d-451c-b582-dcebfb2b78bb",
   "metadata": {},
   "outputs": [
    {
     "data": {
      "text/plain": [
       "Text(0, 0.5, 'Mean Test Accuracy')"
      ]
     },
     "execution_count": null,
     "metadata": {},
     "output_type": "execute_result"
    },
    {
     "data": {
      "image/png": "[encoded data removed]",
      "text/plain": [
       "<Figure size 432x288 with 1 Axes>"
      ]
     },
     "metadata": {
      "needs_background": "light"
     },
     "output_type": "display_data"
    }
   ],
   "source": [
    "ax = None\n",
    "for result in result_grid:\n",
    "    label = f\"lr={result.config['lr']:.3f}\"\n",
    "    if ax is None:\n",
    "        ax = result.metrics_dataframe.plot(\"training_iteration\", \"val_loss\", label=label)\n",
    "    else:\n",
    "        result.metrics_dataframe.plot(\"training_iteration\", \"val_loss\", ax=ax, label=label)\n",
    "ax.set_title(\"Mean Accuracy vs. Training Iteration for All Trials\")\n",
    "ax.set_ylabel(\"Mean Test Accuracy\")"
   ]
  },
  {
   "cell_type": "markdown",
   "id": "6e7ceebc-3958-4ed0-b578-505caffe3fb9",
   "metadata": {},
   "source": [
    "### Train and Test with Best Config"
   ]
  },
  {
   "cell_type": "code",
   "execution_count": null,
   "id": "48751c95-d5f4-4d44-8eac-5ebcd8bba252",
   "metadata": {},
   "outputs": [
    {
     "data": {
      "text/plain": [
       "{'training_iteration': 540059,\n",
       " 'train_loss': 1.7585725784301758,\n",
       " 'val_loss': 1.9896790981292725,\n",
       " 'time_this_iter_s': 0.06922125816345215,\n",
       " 'done': True,\n",
       " 'timesteps_total': None,\n",
       " 'episodes_total': None,\n",
       " 'trial_id': 'f6250653',\n",
       " 'experiment_id': '352e72ef24b0485790725bb268154829',\n",
       " 'date': '2023-03-20_03-45-17',\n",
       " 'timestamp': 1679283917,\n",
       " 'time_total_s': 35661.531294584274,\n",
       " 'pid': 88428,\n",
       " 'hostname': '129-146-49-170',\n",
       " 'node_ip': '10.19.31.32',\n",
       " 'config': {'n_embd': 24,\n",
       "  'n_hidden': 456,\n",
       "  'lr': 0.0004390312584437158,\n",
       "  'last_layer_factor': 0.9956496873025195,\n",
       "  'batch_size': 64,\n",
       "  'max_steps': 540060},\n",
       " 'time_since_restore': 35661.531294584274,\n",
       " 'timesteps_since_restore': 0,\n",
       " 'iterations_since_restore': 540060,\n",
       " 'warmup_time': 0.003042936325073242,\n",
       " 'experiment_tag': '2_batch_size=64,last_layer_factor=0.9956,lr=0.0004,max_steps=540060,n_embd=24,n_hidden=456'}"
      ]
     },
     "execution_count": null,
     "metadata": {},
     "output_type": "execute_result"
    }
   ],
   "source": [
    "best_result.metrics"
   ]
  },
  {
   "cell_type": "code",
   "execution_count": null,
   "id": "fae2d87b",
   "metadata": {},
   "outputs": [],
   "source": [
    "config = {'n_embd': 24,\n",
    "  'n_hidden': 456,\n",
    "  'lr': 0.0004390312584437158,\n",
    "  'last_layer_factor': 0.9956496873025195,\n",
    "  'batch_size': 64,\n",
    "  'max_steps': 540060}"
   ]
  },
  {
   "cell_type": "code",
   "execution_count": null,
   "id": "a2b4949f-186b-4dd0-810f-a7ada055f932",
   "metadata": {},
   "outputs": [
    {
     "name": "stdout",
     "output_type": "stream",
     "text": [
      "No of parameters  869355\n",
      "Initial loss  tensor(3.4630, device='cuda:0', grad_fn=<NllLossBackward>)\n",
      "      0/ 540060: 3.4067\n",
      "  10000/ 540060: 2.4061\n",
      "  20000/ 540060: 2.1215\n",
      "  30000/ 540060: 2.2546\n",
      "  40000/ 540060: 2.2071\n",
      "  50000/ 540060: 2.1789\n",
      "  60000/ 540060: 2.5076\n",
      "  70000/ 540060: 2.0653\n",
      "  80000/ 540060: 1.9867\n",
      "  90000/ 540060: 1.9995\n",
      " 100000/ 540060: 2.2169\n",
      " 110000/ 540060: 2.2312\n",
      " 120000/ 540060: 2.0663\n",
      " 130000/ 540060: 1.8910\n",
      " 140000/ 540060: 1.9463\n",
      " 150000/ 540060: 2.0409\n",
      " 160000/ 540060: 1.8872\n",
      " 170000/ 540060: 2.1610\n",
      " 180000/ 540060: 1.8664\n",
      " 190000/ 540060: 2.0235\n",
      " 200000/ 540060: 1.8428\n",
      " 210000/ 540060: 1.8524\n",
      " 220000/ 540060: 1.9312\n",
      " 230000/ 540060: 1.8659\n",
      " 240000/ 540060: 1.7783\n",
      " 250000/ 540060: 1.8855\n",
      " 260000/ 540060: 2.0965\n",
      " 270000/ 540060: 1.8449\n",
      " 280000/ 540060: 2.2505\n",
      " 290000/ 540060: 2.0819\n",
      " 300000/ 540060: 1.9650\n",
      " 310000/ 540060: 1.8367\n",
      " 320000/ 540060: 1.9641\n",
      " 330000/ 540060: 2.1167\n",
      " 340000/ 540060: 1.8066\n",
      " 350000/ 540060: 1.8251\n",
      " 360000/ 540060: 1.5952\n",
      " 370000/ 540060: 2.0327\n",
      " 380000/ 540060: 1.8862\n",
      " 390000/ 540060: 1.8184\n",
      " 400000/ 540060: 1.8827\n",
      " 410000/ 540060: 1.8935\n",
      " 420000/ 540060: 2.1733\n",
      " 430000/ 540060: 1.8394\n",
      " 440000/ 540060: 2.0016\n",
      " 450000/ 540060: 2.0970\n",
      " 460000/ 540060: 1.6659\n",
      " 470000/ 540060: 1.5410\n",
      " 480000/ 540060: 1.9260\n",
      " 490000/ 540060: 1.6596\n",
      " 500000/ 540060: 1.7006\n",
      " 510000/ 540060: 1.7158\n",
      " 520000/ 540060: 1.8447\n",
      " 530000/ 540060: 1.9106\n",
      " 540000/ 540060: 1.7005\n"
     ]
    }
   ],
   "source": [
    "model = train_no_tune(config)"
   ]
  },
  {
   "cell_type": "code",
   "execution_count": null,
   "id": "c6b0fed4-7419-4996-ade2-18e35bbf9bf2",
   "metadata": {},
   "outputs": [
    {
     "name": "stdout",
     "output_type": "stream",
     "text": [
      "Train loss  tensor(1.7622, device='cuda:0')\n",
      "Val loss  tensor(1.9855, device='cuda:0')\n",
      "Test loss  tensor(1.9815, device='cuda:0')\n"
     ]
    }
   ],
   "source": [
    "for layer in model.layers: layer.training = False\n",
    "\n",
    "with torch.no_grad():\n",
    "    train_loss = F.cross_entropy(model(Xtr), Ytr)\n",
    "    val_loss = F.cross_entropy(model(Xdev), Ydev)\n",
    "    test_loss = F.cross_entropy(model(Xte), Yte)\n",
    "    print('Train loss ', train_loss)\n",
    "    print('Val loss ', val_loss)\n",
    "    print('Test loss ', test_loss)"
   ]
  },
  {
   "cell_type": "code",
   "execution_count": null,
   "id": "da963f96",
   "metadata": {},
   "outputs": [],
   "source": []
  }
 ],
 "metadata": {
  "kernelspec": {
   "display_name": "zhnn",
   "language": "python",
   "name": "zhnn"
  },
  "language_info": {
   "codemirror_mode": {
    "name": "ipython",
    "version": 3
   },
   "file_extension": ".py",
   "mimetype": "text/x-python",
   "name": "python",
   "nbconvert_exporter": "python",
   "pygments_lexer": "ipython3",
   "version": "3.7.12"
  }
 },
 "nbformat": 4,
 "nbformat_minor": 5
}
