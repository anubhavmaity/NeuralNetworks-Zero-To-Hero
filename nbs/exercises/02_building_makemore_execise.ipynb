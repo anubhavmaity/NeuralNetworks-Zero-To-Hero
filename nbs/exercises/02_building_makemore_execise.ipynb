{
 "cells": [
  {
   "cell_type": "markdown",
   "id": "05880f23",
   "metadata": {},
   "source": [
    "# Building makemore exercise"
   ]
  },
  {
   "cell_type": "markdown",
   "id": "c427c8ba",
   "metadata": {},
   "source": [
    "## E01\n",
    "> Train a trigram language model, i.e. take two characters as an input to predict the 3rd one. Feel free to use either counting or a neural net. Evaluate the loss; Did it improve over a bigram model?"
   ]
  },
  {
   "cell_type": "markdown",
   "id": "8eae4c6c",
   "metadata": {},
   "source": [
    "### Counting"
   ]
  },
  {
   "cell_type": "code",
   "execution_count": 1,
   "id": "f799f3ed",
   "metadata": {},
   "outputs": [],
   "source": [
    "from collections import defaultdict, Counter\n",
    "import numpy\n",
    "import torch\n",
    "from matplotlib import pyplot as plt\n",
    "import torch.nn.functional as F\n",
    "from torch.utils.data import random_split"
   ]
  },
  {
   "cell_type": "markdown",
   "id": "d7372178",
   "metadata": {},
   "source": [
    "Read in the data"
   ]
  },
  {
   "cell_type": "code",
   "execution_count": 2,
   "id": "d4631f0d",
   "metadata": {},
   "outputs": [],
   "source": [
    "with open('../data/names.txt') as f:\n",
    "    words = list(map(lambda x: x.strip(), f.readlines()))"
   ]
  },
  {
   "cell_type": "code",
   "execution_count": 3,
   "id": "946703a8",
   "metadata": {},
   "outputs": [
    {
     "data": {
      "text/plain": [
       "(['emma',\n",
       "  'olivia',\n",
       "  'ava',\n",
       "  'isabella',\n",
       "  'sophia',\n",
       "  'charlotte',\n",
       "  'mia',\n",
       "  'amelia',\n",
       "  'harper',\n",
       "  'evelyn'],\n",
       " 32033)"
      ]
     },
     "execution_count": 3,
     "metadata": {},
     "output_type": "execute_result"
    }
   ],
   "source": [
    "words[:10], len(words)"
   ]
  },
  {
   "cell_type": "code",
   "execution_count": 4,
   "id": "9c5a470d",
   "metadata": {},
   "outputs": [],
   "source": [
    "def generate_tripling(words):\n",
    "    for w in words:\n",
    "        chs = ['.'] + list(w) + ['.']\n",
    "        for ch1, ch2, ch3 in zip(chs, chs[1:], chs[2:]):\n",
    "            yield ch1, ch2, ch3"
   ]
  },
  {
   "cell_type": "code",
   "execution_count": 5,
   "id": "a68b8c0a",
   "metadata": {},
   "outputs": [],
   "source": [
    "alphabets = '.abcdefghijklmnopqrstuvwxyz'\n",
    "stoi = {char: alphabets.index(char) for char in alphabets}\n",
    "itos = dict(map(reversed, stoi.items()))"
   ]
  },
  {
   "cell_type": "code",
   "execution_count": 6,
   "id": "6cefa088",
   "metadata": {},
   "outputs": [
    {
     "name": "stdout",
     "output_type": "stream",
     "text": [
      ". e m\n",
      "e m m\n",
      "m m a\n",
      "m a .\n",
      ". o l\n",
      "o l i\n",
      "l i v\n",
      "i v i\n",
      "v i a\n",
      "i a .\n",
      ". a v\n",
      "a v a\n",
      "v a .\n"
     ]
    }
   ],
   "source": [
    "for ch1, ch2, ch3 in generate_tripling(words[:3]): print(ch1, ch2, ch3)"
   ]
  },
  {
   "cell_type": "code",
   "execution_count": 7,
   "id": "e187a330",
   "metadata": {},
   "outputs": [
    {
     "data": {
      "text/plain": [
       "196113"
      ]
     },
     "execution_count": 7,
     "metadata": {},
     "output_type": "execute_result"
    }
   ],
   "source": [
    "sum(1 for ch1, ch2, ch3 in generate_tripling(words))"
   ]
  },
  {
   "cell_type": "code",
   "execution_count": 8,
   "id": "58b6598a",
   "metadata": {},
   "outputs": [],
   "source": [
    "def generate_tripling_counter(words):\n",
    "    tripling_counter = Counter()\n",
    "    for ch1, ch2, ch3 in generate_tripling(words):\n",
    "        tripling_counter[(ch1, ch2, ch3)] += 1\n",
    "    return tripling_counter    "
   ]
  },
  {
   "cell_type": "code",
   "execution_count": 9,
   "id": "54d5467e",
   "metadata": {},
   "outputs": [
    {
     "data": {
      "text/plain": [
       "[(('a', 'h', '.'), 1714),\n",
       " (('n', 'a', '.'), 1673),\n",
       " (('a', 'n', '.'), 1509),\n",
       " (('o', 'n', '.'), 1503),\n",
       " (('.', 'm', 'a'), 1453),\n",
       " (('.', 'j', 'a'), 1255),\n",
       " (('.', 'k', 'a'), 1254),\n",
       " (('e', 'n', '.'), 1217),\n",
       " (('l', 'y', 'n'), 976),\n",
       " (('y', 'n', '.'), 953)]"
      ]
     },
     "execution_count": 9,
     "metadata": {},
     "output_type": "execute_result"
    }
   ],
   "source": [
    "tripling_counter = generate_tripling_counter(words)\n",
    "tripling_counter.most_common(10)"
   ]
  },
  {
   "cell_type": "code",
   "execution_count": 10,
   "id": "0da84c54",
   "metadata": {},
   "outputs": [
    {
     "data": {
      "text/plain": [
       "6037"
      ]
     },
     "execution_count": 10,
     "metadata": {},
     "output_type": "execute_result"
    }
   ],
   "source": [
    "len(tripling_counter)"
   ]
  },
  {
   "cell_type": "code",
   "execution_count": 11,
   "id": "48147548",
   "metadata": {},
   "outputs": [],
   "source": [
    "def create_matrix():\n",
    "    N = torch.zeros((27, 27, 27), dtype=torch.int32)\n",
    "    for ch1, ch2, ch3 in generate_tripling(words):\n",
    "        ix1 = stoi[ch1]\n",
    "        ix2 = stoi[ch2]\n",
    "        ix3 = stoi[ch3]\n",
    "        N[ix1, ix2, ix3] += 1\n",
    "    return N  "
   ]
  },
  {
   "cell_type": "code",
   "execution_count": 12,
   "id": "26bd4471",
   "metadata": {
    "scrolled": true
   },
   "outputs": [
    {
     "data": {
      "text/plain": [
       "torch.Size([27, 27, 27])"
      ]
     },
     "execution_count": 12,
     "metadata": {},
     "output_type": "execute_result"
    }
   ],
   "source": [
    "N = create_matrix(); N.shape"
   ]
  },
  {
   "cell_type": "code",
   "execution_count": 13,
   "id": "c6d7c5b2",
   "metadata": {},
   "outputs": [
    {
     "data": {
      "text/plain": [
       "tensor(1714, dtype=torch.int32)"
      ]
     },
     "execution_count": 13,
     "metadata": {},
     "output_type": "execute_result"
    }
   ],
   "source": [
    "N[1, 8, 0]"
   ]
  },
  {
   "cell_type": "code",
   "execution_count": 14,
   "id": "d74f7513",
   "metadata": {},
   "outputs": [],
   "source": [
    "P = (N+1).float()\n",
    "P = P/P.sum(-1, keepdims=True)"
   ]
  },
  {
   "cell_type": "code",
   "execution_count": 15,
   "id": "3a286139",
   "metadata": {},
   "outputs": [],
   "source": [
    "def generate_tripling_prob(words):\n",
    "    for ch1, ch2, ch3 in generate_tripling(words):\n",
    "        ix1 = stoi[ch1]\n",
    "        ix2 = stoi[ch2]\n",
    "        ix3 = stoi[ch3]\n",
    "        prob = P[ix1, ix2, ix3]\n",
    "        yield ch1, ch2, ch3, prob"
   ]
  },
  {
   "cell_type": "code",
   "execution_count": 16,
   "id": "6f5201fb",
   "metadata": {},
   "outputs": [
    {
     "name": "stdout",
     "output_type": "stream",
     "text": [
      ". e m tensor(0.1855)\n",
      "e m m tensor(0.1269)\n",
      "m m a tensor(0.3744)\n",
      "m a . tensor(0.0669)\n",
      ". o l tensor(0.2494)\n",
      "o l i tensor(0.1084)\n",
      "l i v tensor(0.0219)\n",
      "i v i tensor(0.2669)\n",
      "v i a tensor(0.1578)\n",
      "i a . tensor(0.3657)\n",
      ". a v tensor(0.0550)\n",
      "a v a tensor(0.1882)\n",
      "v a . tensor(0.1405)\n"
     ]
    }
   ],
   "source": [
    "for ch1, ch2, ch3, prob in generate_tripling_prob(words[:3]): \n",
    "    print(ch1, ch2, ch3, prob)"
   ]
  },
  {
   "cell_type": "code",
   "execution_count": 17,
   "id": "911d6c6f",
   "metadata": {},
   "outputs": [],
   "source": [
    "def generate_names(count, P):\n",
    "    g = torch.Generator().manual_seed(2147483647)\n",
    "    for i in range(count):\n",
    "        out = []\n",
    "        ix1, ix2 = 0, 0\n",
    "        while True:\n",
    "            p = P[ix1, ix2]\n",
    "            ix1 = ix2\n",
    "            ix2 = torch.multinomial(p, num_samples = 1, replacement = True).item()\n",
    "            out.append(itos[ix2])\n",
    "            if ix2 == 0:\n",
    "                break\n",
    "        yield ''.join(out)"
   ]
  },
  {
   "cell_type": "code",
   "execution_count": 18,
   "id": "bd68a119",
   "metadata": {},
   "outputs": [
    {
     "name": "stdout",
     "output_type": "stream",
     "text": [
      "juandswxedilyiahj.\n",
      "iahmoja.\n",
      "nise.\n",
      "zie.\n",
      "bro.\n"
     ]
    }
   ],
   "source": [
    "for name in generate_names(5, P): print(name)"
   ]
  },
  {
   "cell_type": "code",
   "execution_count": 19,
   "id": "6ffbc0b9",
   "metadata": {},
   "outputs": [],
   "source": [
    "def log_likelihood(words):\n",
    "    sum_log = 0\n",
    "    count = 0\n",
    "    for ch1, ch2, ch3, prob in generate_tripling_prob(words):\n",
    "        sum_log += torch.log(prob)\n",
    "        count += 1\n",
    "    return sum_log/count"
   ]
  },
  {
   "cell_type": "code",
   "execution_count": 20,
   "id": "303fdbfa",
   "metadata": {},
   "outputs": [
    {
     "data": {
      "text/plain": [
       "27"
      ]
     },
     "execution_count": 20,
     "metadata": {},
     "output_type": "execute_result"
    }
   ],
   "source": [
    "len(P)"
   ]
  },
  {
   "cell_type": "code",
   "execution_count": 21,
   "id": "448e2f54",
   "metadata": {},
   "outputs": [
    {
     "data": {
      "text/plain": [
       "tensor(-2.0927)"
      ]
     },
     "execution_count": 21,
     "metadata": {},
     "output_type": "execute_result"
    }
   ],
   "source": [
    "log_likelihood(words)"
   ]
  },
  {
   "cell_type": "markdown",
   "id": "b002465a",
   "metadata": {},
   "source": [
    "negative log likelihood"
   ]
  },
  {
   "cell_type": "code",
   "execution_count": 22,
   "id": "599b6f54",
   "metadata": {},
   "outputs": [
    {
     "data": {
      "text/plain": [
       "tensor(2.0927)"
      ]
     },
     "execution_count": 22,
     "metadata": {},
     "output_type": "execute_result"
    }
   ],
   "source": [
    "- log_likelihood(words)"
   ]
  },
  {
   "cell_type": "markdown",
   "id": "3393714c",
   "metadata": {},
   "source": [
    "### NN"
   ]
  },
  {
   "cell_type": "code",
   "execution_count": 23,
   "id": "a57a25cf",
   "metadata": {},
   "outputs": [],
   "source": [
    "def generate_training_set(words):\n",
    "    xs1 = []\n",
    "    xs2 = []\n",
    "    ys = []\n",
    "    for ch1, ch2, ch3 in generate_tripling(words):\n",
    "        ix1 = stoi[ch1]\n",
    "        ix2 = stoi[ch2]\n",
    "        ix3 = stoi[ch3]\n",
    "        xs1.append(ix1)\n",
    "        xs2.append(ix2)\n",
    "        ys.append(ix3)\n",
    "    xs1 = torch.tensor(xs1)\n",
    "    xs2 = torch.tensor(xs2)\n",
    "    xs = torch.vstack((xs1, xs2)).permute(1, 0)\n",
    "    ys = torch.tensor(ys)\n",
    "    return xs, ys "
   ]
  },
  {
   "cell_type": "markdown",
   "id": "fc611c11",
   "metadata": {},
   "source": [
    "#### Sample dataset"
   ]
  },
  {
   "cell_type": "code",
   "execution_count": 24,
   "id": "861e9579",
   "metadata": {},
   "outputs": [],
   "source": [
    "xs, ys = generate_training_set(words[:1])"
   ]
  },
  {
   "cell_type": "code",
   "execution_count": 25,
   "id": "21479578",
   "metadata": {},
   "outputs": [
    {
     "data": {
      "text/plain": [
       "(torch.Size([4, 2]), torch.Size([4]))"
      ]
     },
     "execution_count": 25,
     "metadata": {},
     "output_type": "execute_result"
    }
   ],
   "source": [
    "xs.shape, ys.shape"
   ]
  },
  {
   "cell_type": "code",
   "execution_count": 26,
   "id": "28a67e26",
   "metadata": {},
   "outputs": [],
   "source": [
    "xenc = F.one_hot(xs, num_classes=27)"
   ]
  },
  {
   "cell_type": "code",
   "execution_count": 27,
   "id": "b5ba6b62",
   "metadata": {},
   "outputs": [
    {
     "data": {
      "text/plain": [
       "torch.Size([4, 2, 27])"
      ]
     },
     "execution_count": 27,
     "metadata": {},
     "output_type": "execute_result"
    }
   ],
   "source": [
    "xenc.shape"
   ]
  },
  {
   "cell_type": "code",
   "execution_count": 28,
   "id": "b0d21a1a",
   "metadata": {},
   "outputs": [
    {
     "data": {
      "text/plain": [
       "tensor([[[1, 0, 0, 0, 0, 0, 0, 0, 0, 0, 0, 0, 0, 0, 0, 0, 0, 0, 0, 0, 0, 0, 0,\n",
       "          0, 0, 0, 0],\n",
       "         [0, 0, 0, 0, 0, 1, 0, 0, 0, 0, 0, 0, 0, 0, 0, 0, 0, 0, 0, 0, 0, 0, 0,\n",
       "          0, 0, 0, 0]],\n",
       "\n",
       "        [[0, 0, 0, 0, 0, 1, 0, 0, 0, 0, 0, 0, 0, 0, 0, 0, 0, 0, 0, 0, 0, 0, 0,\n",
       "          0, 0, 0, 0],\n",
       "         [0, 0, 0, 0, 0, 0, 0, 0, 0, 0, 0, 0, 0, 1, 0, 0, 0, 0, 0, 0, 0, 0, 0,\n",
       "          0, 0, 0, 0]],\n",
       "\n",
       "        [[0, 0, 0, 0, 0, 0, 0, 0, 0, 0, 0, 0, 0, 1, 0, 0, 0, 0, 0, 0, 0, 0, 0,\n",
       "          0, 0, 0, 0],\n",
       "         [0, 0, 0, 0, 0, 0, 0, 0, 0, 0, 0, 0, 0, 1, 0, 0, 0, 0, 0, 0, 0, 0, 0,\n",
       "          0, 0, 0, 0]],\n",
       "\n",
       "        [[0, 0, 0, 0, 0, 0, 0, 0, 0, 0, 0, 0, 0, 1, 0, 0, 0, 0, 0, 0, 0, 0, 0,\n",
       "          0, 0, 0, 0],\n",
       "         [0, 1, 0, 0, 0, 0, 0, 0, 0, 0, 0, 0, 0, 0, 0, 0, 0, 0, 0, 0, 0, 0, 0,\n",
       "          0, 0, 0, 0]]])"
      ]
     },
     "execution_count": 28,
     "metadata": {},
     "output_type": "execute_result"
    }
   ],
   "source": [
    "xenc"
   ]
  },
  {
   "cell_type": "code",
   "execution_count": 29,
   "id": "fb6cb1f3",
   "metadata": {},
   "outputs": [],
   "source": [
    "xenc_flattened = xenc.view(4, -1).float()"
   ]
  },
  {
   "cell_type": "code",
   "execution_count": 30,
   "id": "b5408eea",
   "metadata": {},
   "outputs": [
    {
     "data": {
      "text/plain": [
       "tensor([[-0.6339,  1.0934,  1.5940,  ..., -0.5997, -0.3661, -1.5327],\n",
       "        [ 0.2762,  0.7459, -1.6092,  ...,  0.9993,  0.0276, -0.5299],\n",
       "        [ 0.8111, -0.1221, -0.3052,  ...,  0.4578,  0.6346, -0.9694],\n",
       "        ...,\n",
       "        [ 0.0223,  0.0072, -0.8025,  ..., -0.2540, -2.2072,  0.5459],\n",
       "        [-2.1170, -0.1290, -0.9017,  ...,  0.8187,  2.0031,  1.3627],\n",
       "        [ 1.4702, -1.0431,  0.4211,  ..., -0.3957, -0.2581, -0.0458]])"
      ]
     },
     "execution_count": 30,
     "metadata": {},
     "output_type": "execute_result"
    }
   ],
   "source": [
    "W = torch.randn((27*2, 27))\n",
    "W"
   ]
  },
  {
   "cell_type": "code",
   "execution_count": 31,
   "id": "b75c0f43",
   "metadata": {},
   "outputs": [],
   "source": [
    "logits = xenc_flattened @ W # log counts"
   ]
  },
  {
   "cell_type": "code",
   "execution_count": 32,
   "id": "8cff7ec8",
   "metadata": {},
   "outputs": [],
   "source": [
    "counts = logits.exp()"
   ]
  },
  {
   "cell_type": "code",
   "execution_count": 33,
   "id": "7a3a21e0",
   "metadata": {},
   "outputs": [],
   "source": [
    "prob = counts/counts.sum(1, keepdims=True)"
   ]
  },
  {
   "cell_type": "code",
   "execution_count": 34,
   "id": "0eb6f9b4",
   "metadata": {},
   "outputs": [
    {
     "data": {
      "text/plain": [
       "torch.Size([4, 27])"
      ]
     },
     "execution_count": 34,
     "metadata": {},
     "output_type": "execute_result"
    }
   ],
   "source": [
    "prob.shape"
   ]
  },
  {
   "cell_type": "code",
   "execution_count": 35,
   "id": "a3065f08",
   "metadata": {},
   "outputs": [
    {
     "data": {
      "text/plain": [
       "tensor([13, 13,  1,  0])"
      ]
     },
     "execution_count": 35,
     "metadata": {},
     "output_type": "execute_result"
    }
   ],
   "source": [
    "ys"
   ]
  },
  {
   "cell_type": "code",
   "execution_count": 36,
   "id": "754b316b",
   "metadata": {},
   "outputs": [
    {
     "data": {
      "text/plain": [
       "(tensor(0.0405), tensor(0.0056), tensor(0.0850), tensor(0.0354))"
      ]
     },
     "execution_count": 36,
     "metadata": {},
     "output_type": "execute_result"
    }
   ],
   "source": [
    "prob[0, 13], prob[1, 13], prob[2, 1], prob[3, 0]"
   ]
  },
  {
   "cell_type": "code",
   "execution_count": 37,
   "id": "08016216",
   "metadata": {},
   "outputs": [
    {
     "data": {
      "text/plain": [
       "tensor(3.5515)"
      ]
     },
     "execution_count": 37,
     "metadata": {},
     "output_type": "execute_result"
    }
   ],
   "source": [
    "-prob[torch.arange(4), ys].log().mean()"
   ]
  },
  {
   "cell_type": "markdown",
   "id": "e70bb6c1",
   "metadata": {},
   "source": [
    "#### Train"
   ]
  },
  {
   "cell_type": "code",
   "execution_count": 38,
   "id": "b4034548",
   "metadata": {},
   "outputs": [],
   "source": [
    "xs, ys = generate_training_set(words)"
   ]
  },
  {
   "cell_type": "code",
   "execution_count": 39,
   "id": "c700e54d",
   "metadata": {},
   "outputs": [
    {
     "data": {
      "text/plain": [
       "(tensor([0, 5]), tensor(13))"
      ]
     },
     "execution_count": 39,
     "metadata": {},
     "output_type": "execute_result"
    }
   ],
   "source": [
    "xs[0], ys[0]"
   ]
  },
  {
   "cell_type": "code",
   "execution_count": 40,
   "id": "b509975d",
   "metadata": {},
   "outputs": [],
   "source": [
    "xenc = F.one_hot(xs, num_classes=27)\n",
    "xenc_flattened = xenc.view(len(xenc), -1).float()"
   ]
  },
  {
   "cell_type": "code",
   "execution_count": 41,
   "id": "49bed484",
   "metadata": {},
   "outputs": [
    {
     "data": {
      "text/plain": [
       "torch.float32"
      ]
     },
     "execution_count": 41,
     "metadata": {},
     "output_type": "execute_result"
    }
   ],
   "source": [
    "xenc_flattened.dtype"
   ]
  },
  {
   "cell_type": "code",
   "execution_count": 42,
   "id": "2bd853cb",
   "metadata": {},
   "outputs": [
    {
     "data": {
      "text/plain": [
       "(torch.Size([196113, 54]), torch.Size([196113]))"
      ]
     },
     "execution_count": 42,
     "metadata": {},
     "output_type": "execute_result"
    }
   ],
   "source": [
    "xenc_flattened.shape, ys.shape"
   ]
  },
  {
   "cell_type": "code",
   "execution_count": 43,
   "id": "059cb66b",
   "metadata": {},
   "outputs": [],
   "source": [
    "def train(X, y, epochs, lr):\n",
    "    num = X.shape[0]\n",
    "    print(num)\n",
    "    W = torch.randn((54, 27), requires_grad=True)\n",
    "    for i in range(epochs):\n",
    "        logits = X @ W\n",
    "        counts = logits.exp()\n",
    "        prob = counts/counts.sum(1, keepdims=True)\n",
    "        loss = -prob[torch.arange(num), y].log().mean()\n",
    "        print(f'Epoch {i} Loss {loss}')\n",
    "        \n",
    "        W.grad = None\n",
    "        loss.backward()\n",
    "        W.data += -lr * W.grad \n",
    "    return W"
   ]
  },
  {
   "cell_type": "code",
   "execution_count": 44,
   "id": "7ad4b2d6",
   "metadata": {},
   "outputs": [
    {
     "data": {
      "text/plain": [
       "196113"
      ]
     },
     "execution_count": 44,
     "metadata": {},
     "output_type": "execute_result"
    }
   ],
   "source": [
    "xenc_flattened.shape[0]"
   ]
  },
  {
   "cell_type": "code",
   "execution_count": 45,
   "id": "b05162c3",
   "metadata": {
    "scrolled": true
   },
   "outputs": [
    {
     "name": "stdout",
     "output_type": "stream",
     "text": [
      "196113\n",
      "Epoch 0 Loss 4.214053630828857\n",
      "Epoch 1 Loss 3.3863525390625\n",
      "Epoch 2 Loss 3.074662923812866\n",
      "Epoch 3 Loss 2.9096202850341797\n",
      "Epoch 4 Loss 2.7980833053588867\n",
      "Epoch 5 Loss 2.719160556793213\n",
      "Epoch 6 Loss 2.658668279647827\n",
      "Epoch 7 Loss 2.6116385459899902\n",
      "Epoch 8 Loss 2.5733280181884766\n",
      "Epoch 9 Loss 2.5419392585754395\n",
      "Epoch 10 Loss 2.5155203342437744\n",
      "Epoch 11 Loss 2.493177652359009\n",
      "Epoch 12 Loss 2.473928689956665\n",
      "Epoch 13 Loss 2.4572641849517822\n",
      "Epoch 14 Loss 2.4426419734954834\n",
      "Epoch 15 Loss 2.429755687713623\n",
      "Epoch 16 Loss 2.418288230895996\n",
      "Epoch 17 Loss 2.4080440998077393\n",
      "Epoch 18 Loss 2.3988263607025146\n",
      "Epoch 19 Loss 2.390503406524658\n",
      "Epoch 20 Loss 2.3829457759857178\n",
      "Epoch 21 Loss 2.376060724258423\n",
      "Epoch 22 Loss 2.3697593212127686\n",
      "Epoch 23 Loss 2.3639745712280273\n",
      "Epoch 24 Loss 2.358642816543579\n",
      "Epoch 25 Loss 2.353714942932129\n",
      "Epoch 26 Loss 2.3491451740264893\n",
      "Epoch 27 Loss 2.344896078109741\n",
      "Epoch 28 Loss 2.3409347534179688\n",
      "Epoch 29 Loss 2.3372325897216797\n",
      "Epoch 30 Loss 2.3337647914886475\n",
      "Epoch 31 Loss 2.330510139465332\n",
      "Epoch 32 Loss 2.3274495601654053\n",
      "Epoch 33 Loss 2.32456636428833\n",
      "Epoch 34 Loss 2.3218460083007812\n",
      "Epoch 35 Loss 2.319275140762329\n",
      "Epoch 36 Loss 2.316842555999756\n",
      "Epoch 37 Loss 2.314537525177002\n",
      "Epoch 38 Loss 2.3123507499694824\n",
      "Epoch 39 Loss 2.3102736473083496\n",
      "Epoch 40 Loss 2.3082988262176514\n",
      "Epoch 41 Loss 2.3064188957214355\n",
      "Epoch 42 Loss 2.3046278953552246\n",
      "Epoch 43 Loss 2.302919387817383\n",
      "Epoch 44 Loss 2.301288366317749\n",
      "Epoch 45 Loss 2.299729824066162\n",
      "Epoch 46 Loss 2.2982394695281982\n",
      "Epoch 47 Loss 2.2968130111694336\n",
      "Epoch 48 Loss 2.2954466342926025\n",
      "Epoch 49 Loss 2.2941362857818604\n",
      "Epoch 50 Loss 2.2928788661956787\n",
      "Epoch 51 Loss 2.2916717529296875\n",
      "Epoch 52 Loss 2.2905116081237793\n",
      "Epoch 53 Loss 2.289396047592163\n",
      "Epoch 54 Loss 2.288322687149048\n",
      "Epoch 55 Loss 2.2872886657714844\n",
      "Epoch 56 Loss 2.286292791366577\n",
      "Epoch 57 Loss 2.285332202911377\n",
      "Epoch 58 Loss 2.28440523147583\n",
      "Epoch 59 Loss 2.28351092338562\n",
      "Epoch 60 Loss 2.282646417617798\n",
      "Epoch 61 Loss 2.281811475753784\n",
      "Epoch 62 Loss 2.281003952026367\n",
      "Epoch 63 Loss 2.2802224159240723\n",
      "Epoch 64 Loss 2.279466152191162\n",
      "Epoch 65 Loss 2.278733491897583\n",
      "Epoch 66 Loss 2.2780234813690186\n",
      "Epoch 67 Loss 2.2773354053497314\n",
      "Epoch 68 Loss 2.2766683101654053\n",
      "Epoch 69 Loss 2.2760207653045654\n",
      "Epoch 70 Loss 2.2753922939300537\n",
      "Epoch 71 Loss 2.274782180786133\n",
      "Epoch 72 Loss 2.2741892337799072\n",
      "Epoch 73 Loss 2.2736129760742188\n",
      "Epoch 74 Loss 2.273052930831909\n",
      "Epoch 75 Loss 2.272508382797241\n",
      "Epoch 76 Loss 2.2719783782958984\n",
      "Epoch 77 Loss 2.2714626789093018\n",
      "Epoch 78 Loss 2.270961046218872\n",
      "Epoch 79 Loss 2.2704718112945557\n",
      "Epoch 80 Loss 2.26999568939209\n",
      "Epoch 81 Loss 2.269531726837158\n",
      "Epoch 82 Loss 2.2690792083740234\n",
      "Epoch 83 Loss 2.2686383724212646\n",
      "Epoch 84 Loss 2.2682085037231445\n",
      "Epoch 85 Loss 2.267789125442505\n",
      "Epoch 86 Loss 2.2673797607421875\n",
      "Epoch 87 Loss 2.2669801712036133\n",
      "Epoch 88 Loss 2.266590118408203\n",
      "Epoch 89 Loss 2.266209125518799\n",
      "Epoch 90 Loss 2.2658371925354004\n",
      "Epoch 91 Loss 2.2654736042022705\n",
      "Epoch 92 Loss 2.26511812210083\n",
      "Epoch 93 Loss 2.264770984649658\n",
      "Epoch 94 Loss 2.2644312381744385\n",
      "Epoch 95 Loss 2.264099597930908\n",
      "Epoch 96 Loss 2.263774871826172\n",
      "Epoch 97 Loss 2.2634570598602295\n",
      "Epoch 98 Loss 2.263146162033081\n",
      "Epoch 99 Loss 2.2628417015075684\n"
     ]
    }
   ],
   "source": [
    "model = train(xenc_flattened, ys, 100, 50)"
   ]
  },
  {
   "cell_type": "markdown",
   "id": "6598424b",
   "metadata": {},
   "source": [
    "Here the loss is less, it is an improve over bigram model"
   ]
  },
  {
   "cell_type": "code",
   "execution_count": 46,
   "id": "d86e5623",
   "metadata": {},
   "outputs": [],
   "source": [
    "xenc = F.one_hot(torch.tensor([0, 0]), num_classes=27).float()"
   ]
  },
  {
   "cell_type": "code",
   "execution_count": 47,
   "id": "fb589b7f",
   "metadata": {},
   "outputs": [
    {
     "data": {
      "text/plain": [
       "torch.Size([2, 27])"
      ]
     },
     "execution_count": 47,
     "metadata": {},
     "output_type": "execute_result"
    }
   ],
   "source": [
    "xenc.shape"
   ]
  },
  {
   "cell_type": "markdown",
   "id": "b3a0e525",
   "metadata": {},
   "source": [
    "### Prediction"
   ]
  },
  {
   "cell_type": "code",
   "execution_count": 48,
   "id": "778af19b",
   "metadata": {},
   "outputs": [],
   "source": [
    "def generate_words():\n",
    "    for i in range(5):\n",
    "        out = []\n",
    "        ix1, ix2 = 0, 0\n",
    "        while True:\n",
    "            xenc = F.one_hot(torch.tensor([ix1, ix2]), num_classes=27).float()\n",
    "            xenc_flattened = xenc.view(1, -1)\n",
    "            logits = xenc_flattened @ model # predict log-counts\n",
    "            counts = logits.exp()\n",
    "            p = counts/counts.sum(1, keepdims=True)\n",
    "            ix1 = ix2\n",
    "            ix2 = torch.multinomial(p, num_samples=1, replacement=True).item()\n",
    "            out.append(itos[ix2])\n",
    "            if ix2 == 0:\n",
    "                break\n",
    "        print(''.join(out))"
   ]
  },
  {
   "cell_type": "code",
   "execution_count": 49,
   "id": "6759b43f",
   "metadata": {},
   "outputs": [
    {
     "name": "stdout",
     "output_type": "stream",
     "text": [
      "arlya.\n",
      "ilane.\n",
      "imbzaracirvileito.\n",
      "uren.\n",
      "aarvan.\n"
     ]
    }
   ],
   "source": [
    "generate_words()"
   ]
  },
  {
   "cell_type": "markdown",
   "id": "562a098d",
   "metadata": {},
   "source": [
    "## E02\n",
    "> split up the dataset randomly into 80% train set, 10% dev set, 10% test set. Train the bigram and trigram models only on the training set. Evaluate them on dev and test splits. What can you see?"
   ]
  },
  {
   "cell_type": "code",
   "execution_count": 50,
   "id": "8ec6ace4",
   "metadata": {},
   "outputs": [],
   "source": [
    "xenc_num = xenc_flattened.shape[0]"
   ]
  },
  {
   "cell_type": "code",
   "execution_count": 51,
   "id": "fb0f6758",
   "metadata": {},
   "outputs": [
    {
     "data": {
      "text/plain": [
       "range(0, 196113)"
      ]
     },
     "execution_count": 51,
     "metadata": {},
     "output_type": "execute_result"
    }
   ],
   "source": [
    "range(xenc_num)"
   ]
  },
  {
   "cell_type": "code",
   "execution_count": 52,
   "id": "c6036972",
   "metadata": {},
   "outputs": [],
   "source": [
    "test_subset, valid_subset, train_subset = random_split(range(xenc_num), [0.1, 0.1, 0.8], \n",
    "                          generator=torch.Generator().manual_seed(42))"
   ]
  },
  {
   "cell_type": "code",
   "execution_count": 53,
   "id": "dc5f290a",
   "metadata": {},
   "outputs": [],
   "source": [
    "train_idx = torch.tensor(train_subset)\n",
    "valid_idx = torch.tensor(valid_subset)\n",
    "test_idx = torch.tensor(test_subset)"
   ]
  },
  {
   "cell_type": "code",
   "execution_count": 54,
   "id": "933cdac0",
   "metadata": {},
   "outputs": [
    {
     "data": {
      "text/plain": [
       "(torch.Size([156890]), torch.Size([19611]), torch.Size([19612]))"
      ]
     },
     "execution_count": 54,
     "metadata": {},
     "output_type": "execute_result"
    }
   ],
   "source": [
    "train_idx.shape, valid_idx.shape, test_idx.shape"
   ]
  },
  {
   "cell_type": "code",
   "execution_count": 55,
   "id": "d848c3a5",
   "metadata": {},
   "outputs": [],
   "source": [
    "x_train, y_train = xenc_flattened[train_idx], ys[train_idx]\n",
    "x_valid, y_valid = xenc_flattened[valid_idx], ys[valid_idx]\n",
    "x_test, y_test = xenc_flattened[test_idx], ys[test_idx]"
   ]
  },
  {
   "cell_type": "code",
   "execution_count": 56,
   "id": "43328adb",
   "metadata": {},
   "outputs": [
    {
     "name": "stdout",
     "output_type": "stream",
     "text": [
      "156890\n",
      "Epoch 0 Loss 4.166134357452393\n",
      "Epoch 1 Loss 3.9657092094421387\n",
      "Epoch 2 Loss 3.7897253036499023\n",
      "Epoch 3 Loss 3.637380838394165\n",
      "Epoch 4 Loss 3.5074849128723145\n",
      "Epoch 5 Loss 3.3979551792144775\n",
      "Epoch 6 Loss 3.305875539779663\n",
      "Epoch 7 Loss 3.228022575378418\n",
      "Epoch 8 Loss 3.161454677581787\n",
      "Epoch 9 Loss 3.1038119792938232\n",
      "Epoch 10 Loss 3.053314685821533\n",
      "Epoch 11 Loss 3.0086400508880615\n",
      "Epoch 12 Loss 2.9687905311584473\n",
      "Epoch 13 Loss 2.932997941970825\n",
      "Epoch 14 Loss 2.900658130645752\n",
      "Epoch 15 Loss 2.8712871074676514\n",
      "Epoch 16 Loss 2.8444929122924805\n",
      "Epoch 17 Loss 2.8199524879455566\n",
      "Epoch 18 Loss 2.797395944595337\n",
      "Epoch 19 Loss 2.776595115661621\n",
      "Epoch 20 Loss 2.757355213165283\n",
      "Epoch 21 Loss 2.7395074367523193\n",
      "Epoch 22 Loss 2.7229044437408447\n",
      "Epoch 23 Loss 2.7074191570281982\n",
      "Epoch 24 Loss 2.6929397583007812\n",
      "Epoch 25 Loss 2.679368257522583\n",
      "Epoch 26 Loss 2.6666200160980225\n",
      "Epoch 27 Loss 2.6546199321746826\n",
      "Epoch 28 Loss 2.6433022022247314\n",
      "Epoch 29 Loss 2.6326088905334473\n",
      "Epoch 30 Loss 2.6224889755249023\n",
      "Epoch 31 Loss 2.6128969192504883\n",
      "Epoch 32 Loss 2.603792428970337\n",
      "Epoch 33 Loss 2.5951387882232666\n",
      "Epoch 34 Loss 2.5869028568267822\n",
      "Epoch 35 Loss 2.579054594039917\n",
      "Epoch 36 Loss 2.5715677738189697\n",
      "Epoch 37 Loss 2.5644173622131348\n",
      "Epoch 38 Loss 2.5575804710388184\n",
      "Epoch 39 Loss 2.551037311553955\n",
      "Epoch 40 Loss 2.5447683334350586\n",
      "Epoch 41 Loss 2.5387563705444336\n",
      "Epoch 42 Loss 2.5329854488372803\n",
      "Epoch 43 Loss 2.5274405479431152\n",
      "Epoch 44 Loss 2.522108316421509\n",
      "Epoch 45 Loss 2.5169761180877686\n",
      "Epoch 46 Loss 2.5120322704315186\n",
      "Epoch 47 Loss 2.507266044616699\n",
      "Epoch 48 Loss 2.502667188644409\n",
      "Epoch 49 Loss 2.4982264041900635\n",
      "Epoch 50 Loss 2.493936061859131\n",
      "Epoch 51 Loss 2.4897868633270264\n",
      "Epoch 52 Loss 2.485772132873535\n",
      "Epoch 53 Loss 2.481884717941284\n",
      "Epoch 54 Loss 2.478118419647217\n",
      "Epoch 55 Loss 2.4744670391082764\n",
      "Epoch 56 Loss 2.4709250926971436\n",
      "Epoch 57 Loss 2.467487335205078\n",
      "Epoch 58 Loss 2.464148998260498\n",
      "Epoch 59 Loss 2.4609053134918213\n",
      "Epoch 60 Loss 2.457752227783203\n",
      "Epoch 61 Loss 2.454685688018799\n",
      "Epoch 62 Loss 2.4517018795013428\n",
      "Epoch 63 Loss 2.4487972259521484\n",
      "Epoch 64 Loss 2.4459686279296875\n",
      "Epoch 65 Loss 2.44321346282959\n",
      "Epoch 66 Loss 2.4405276775360107\n",
      "Epoch 67 Loss 2.4379091262817383\n",
      "Epoch 68 Loss 2.4353551864624023\n",
      "Epoch 69 Loss 2.432863473892212\n",
      "Epoch 70 Loss 2.430431365966797\n",
      "Epoch 71 Loss 2.4280571937561035\n",
      "Epoch 72 Loss 2.4257383346557617\n",
      "Epoch 73 Loss 2.4234731197357178\n",
      "Epoch 74 Loss 2.4212594032287598\n",
      "Epoch 75 Loss 2.419095993041992\n",
      "Epoch 76 Loss 2.416980743408203\n",
      "Epoch 77 Loss 2.4149117469787598\n",
      "Epoch 78 Loss 2.4128878116607666\n",
      "Epoch 79 Loss 2.410907745361328\n",
      "Epoch 80 Loss 2.4089691638946533\n",
      "Epoch 81 Loss 2.4070725440979004\n",
      "Epoch 82 Loss 2.405214548110962\n",
      "Epoch 83 Loss 2.403395175933838\n",
      "Epoch 84 Loss 2.4016129970550537\n",
      "Epoch 85 Loss 2.3998665809631348\n",
      "Epoch 86 Loss 2.398155450820923\n",
      "Epoch 87 Loss 2.3964779376983643\n",
      "Epoch 88 Loss 2.3948330879211426\n",
      "Epoch 89 Loss 2.3932206630706787\n",
      "Epoch 90 Loss 2.391638994216919\n",
      "Epoch 91 Loss 2.390087604522705\n",
      "Epoch 92 Loss 2.3885650634765625\n",
      "Epoch 93 Loss 2.387071371078491\n",
      "Epoch 94 Loss 2.3856050968170166\n",
      "Epoch 95 Loss 2.3841657638549805\n",
      "Epoch 96 Loss 2.3827526569366455\n",
      "Epoch 97 Loss 2.381364583969116\n",
      "Epoch 98 Loss 2.3800017833709717\n",
      "Epoch 99 Loss 2.378662586212158\n"
     ]
    }
   ],
   "source": [
    "model_trigram = train(x_train, y_train, 100, 10)"
   ]
  },
  {
   "cell_type": "markdown",
   "id": "e5fade0b",
   "metadata": {},
   "source": [
    "Loss on the dev set"
   ]
  },
  {
   "cell_type": "code",
   "execution_count": 57,
   "id": "7cceeff4",
   "metadata": {},
   "outputs": [],
   "source": [
    "def evaluate_loss(model, x, y):\n",
    "    logits = x @ model\n",
    "    counts = logits.exp()\n",
    "    pred = counts/counts.sum(1, keepdims=True)\n",
    "    return - pred[torch.arange(x.shape[0]), y].log().mean()"
   ]
  },
  {
   "cell_type": "code",
   "execution_count": 59,
   "id": "6bd70f90",
   "metadata": {},
   "outputs": [
    {
     "data": {
      "text/plain": [
       "tensor(2.3818, grad_fn=<NegBackward0>)"
      ]
     },
     "execution_count": 59,
     "metadata": {},
     "output_type": "execute_result"
    }
   ],
   "source": [
    "evaluate_loss(model_trigram, x_valid, y_valid)"
   ]
  },
  {
   "cell_type": "markdown",
   "id": "82bcd835",
   "metadata": {},
   "source": [
    "Loss on the test set"
   ]
  },
  {
   "cell_type": "code",
   "execution_count": 60,
   "id": "871e6bef",
   "metadata": {},
   "outputs": [
    {
     "data": {
      "text/plain": [
       "tensor(2.3922, grad_fn=<NegBackward0>)"
      ]
     },
     "execution_count": 60,
     "metadata": {},
     "output_type": "execute_result"
    }
   ],
   "source": [
    "evaluate_loss(model_trigram, x_test, y_test)"
   ]
  },
  {
   "cell_type": "markdown",
   "id": "6ff05689",
   "metadata": {},
   "source": [
    "The loss on test and validation dataset are about the same for the trigram model on the training set."
   ]
  },
  {
   "cell_type": "markdown",
   "id": "aad0b206",
   "metadata": {},
   "source": [
    "Same we can for the bigram model that I have computed in `nbs/lecture_notes/02_building_makemore.ipynb`. The validation and test dataset have about the same losses to the training set."
   ]
  },
  {
   "cell_type": "markdown",
   "id": "fcbf51d7",
   "metadata": {},
   "source": [
    "The trigram is better than bigram"
   ]
  },
  {
   "cell_type": "markdown",
   "id": "8ae169bb",
   "metadata": {},
   "source": [
    "### E03\n",
    "> Use the dev set to tune the strength of smoothing (or regularization) for the trigram model - i.e. try many possibilities and see which one works best based on the dev set loss. What patterns can you see in the train and dev set loss as you tune this strength? Take the best setting of the smoothing and evaluate on the test set once and at the end. How good of a loss do you achieve?"
   ]
  },
  {
   "cell_type": "code",
   "execution_count": 61,
   "id": "ca9bd500",
   "metadata": {},
   "outputs": [],
   "source": [
    "def train(X, y, epochs, lr, regularization_param, print_at_every_epoch = False):\n",
    "    num = X.shape[0]\n",
    "    W = torch.randn((54, 27), requires_grad=True)\n",
    "    for i in range(epochs):\n",
    "        logits = X @ W\n",
    "        counts = logits.exp()\n",
    "        prob = counts/counts.sum(1, keepdims=True)\n",
    "        loss = -prob[torch.arange(num), y].log().mean()\n",
    "        \n",
    "        # regularization\n",
    "        regularization_loss = regularization_param * (W **2).sum()\n",
    "        loss += regularization_loss\n",
    "        \n",
    "        if print_at_every_epoch: print(f'Epoch {i} Loss {loss}')\n",
    "        \n",
    "        W.grad = None\n",
    "        loss.backward()\n",
    "        W.data += -lr * W.grad \n",
    "        \n",
    "    if not print_at_every_epoch: \n",
    "    return W"
   ]
  },
  {
   "cell_type": "code",
   "execution_count": null,
   "id": "2b592d8c",
   "metadata": {},
   "outputs": [],
   "source": [
    "train(x_train, y_train, 100, 10, 0)"
   ]
  }
 ],
 "metadata": {
  "kernelspec": {
   "display_name": "Python (zhnn)",
   "language": "python",
   "name": "zhnn"
  },
  "language_info": {
   "codemirror_mode": {
    "name": "ipython",
    "version": 3
   },
   "file_extension": ".py",
   "mimetype": "text/x-python",
   "name": "python",
   "nbconvert_exporter": "python",
   "pygments_lexer": "ipython3",
   "version": "3.7.12"
  }
 },
 "nbformat": 4,
 "nbformat_minor": 5
}
