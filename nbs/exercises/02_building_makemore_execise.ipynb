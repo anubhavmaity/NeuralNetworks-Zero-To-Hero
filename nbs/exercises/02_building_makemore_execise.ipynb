{
 "cells": [
  {
   "cell_type": "markdown",
   "id": "05880f23",
   "metadata": {},
   "source": [
    "# Building makemore exercise"
   ]
  },
  {
   "cell_type": "markdown",
   "id": "d5106440",
   "metadata": {},
   "source": [
    "## Imports"
   ]
  },
  {
   "cell_type": "code",
   "execution_count": 1,
   "id": "8b149621",
   "metadata": {},
   "outputs": [],
   "source": [
    "from collections import defaultdict, Counter\n",
    "import numpy\n",
    "import torch\n",
    "from matplotlib import pyplot as plt\n",
    "import torch.nn.functional as F\n",
    "from torch.utils.data import random_split\n",
    "import torch.nn.functional as F"
   ]
  },
  {
   "cell_type": "code",
   "execution_count": 2,
   "id": "e68f05d6",
   "metadata": {},
   "outputs": [],
   "source": [
    "g = torch.Generator().manual_seed(2147483647)"
   ]
  },
  {
   "cell_type": "markdown",
   "id": "c427c8ba",
   "metadata": {},
   "source": [
    "## E01\n",
    "> Train a trigram language model, i.e. take two characters as an input to predict the 3rd one. Feel free to use either counting or a neural net. Evaluate the loss; Did it improve over a bigram model?"
   ]
  },
  {
   "cell_type": "markdown",
   "id": "8eae4c6c",
   "metadata": {},
   "source": [
    "### Counting"
   ]
  },
  {
   "cell_type": "markdown",
   "id": "d7372178",
   "metadata": {},
   "source": [
    "Read in the data"
   ]
  },
  {
   "cell_type": "code",
   "execution_count": 3,
   "id": "d4631f0d",
   "metadata": {},
   "outputs": [],
   "source": [
    "with open('../data/names.txt') as f:\n",
    "    words = list(map(lambda x: x.strip(), f.readlines()))"
   ]
  },
  {
   "cell_type": "code",
   "execution_count": 4,
   "id": "946703a8",
   "metadata": {},
   "outputs": [
    {
     "data": {
      "text/plain": [
       "(['emma',\n",
       "  'olivia',\n",
       "  'ava',\n",
       "  'isabella',\n",
       "  'sophia',\n",
       "  'charlotte',\n",
       "  'mia',\n",
       "  'amelia',\n",
       "  'harper',\n",
       "  'evelyn'],\n",
       " 32033)"
      ]
     },
     "execution_count": 4,
     "metadata": {},
     "output_type": "execute_result"
    }
   ],
   "source": [
    "words[:10], len(words)"
   ]
  },
  {
   "cell_type": "code",
   "execution_count": 5,
   "id": "9c5a470d",
   "metadata": {},
   "outputs": [],
   "source": [
    "def generate_tripling(words):\n",
    "    for w in words:\n",
    "        chs = ['.'] + list(w) + ['.']\n",
    "        for ch1, ch2, ch3 in zip(chs, chs[1:], chs[2:]):\n",
    "            yield ch1, ch2, ch3"
   ]
  },
  {
   "cell_type": "code",
   "execution_count": 6,
   "id": "a68b8c0a",
   "metadata": {},
   "outputs": [],
   "source": [
    "alphabets = '.abcdefghijklmnopqrstuvwxyz'\n",
    "stoi = {char: alphabets.index(char) for char in alphabets}\n",
    "itos = dict(map(reversed, stoi.items()))"
   ]
  },
  {
   "cell_type": "code",
   "execution_count": 7,
   "id": "6cefa088",
   "metadata": {},
   "outputs": [
    {
     "name": "stdout",
     "output_type": "stream",
     "text": [
      ". e m\n",
      "e m m\n",
      "m m a\n",
      "m a .\n",
      ". o l\n",
      "o l i\n",
      "l i v\n",
      "i v i\n",
      "v i a\n",
      "i a .\n",
      ". a v\n",
      "a v a\n",
      "v a .\n"
     ]
    }
   ],
   "source": [
    "for ch1, ch2, ch3 in generate_tripling(words[:3]): print(ch1, ch2, ch3)"
   ]
  },
  {
   "cell_type": "code",
   "execution_count": 8,
   "id": "e187a330",
   "metadata": {},
   "outputs": [
    {
     "data": {
      "text/plain": [
       "196113"
      ]
     },
     "execution_count": 8,
     "metadata": {},
     "output_type": "execute_result"
    }
   ],
   "source": [
    "sum(1 for ch1, ch2, ch3 in generate_tripling(words))"
   ]
  },
  {
   "cell_type": "code",
   "execution_count": 9,
   "id": "58b6598a",
   "metadata": {},
   "outputs": [],
   "source": [
    "def generate_tripling_counter(words):\n",
    "    tripling_counter = Counter()\n",
    "    for ch1, ch2, ch3 in generate_tripling(words):\n",
    "        tripling_counter[(ch1, ch2, ch3)] += 1\n",
    "    return tripling_counter    "
   ]
  },
  {
   "cell_type": "code",
   "execution_count": 10,
   "id": "54d5467e",
   "metadata": {},
   "outputs": [
    {
     "data": {
      "text/plain": [
       "[(('a', 'h', '.'), 1714),\n",
       " (('n', 'a', '.'), 1673),\n",
       " (('a', 'n', '.'), 1509),\n",
       " (('o', 'n', '.'), 1503),\n",
       " (('.', 'm', 'a'), 1453),\n",
       " (('.', 'j', 'a'), 1255),\n",
       " (('.', 'k', 'a'), 1254),\n",
       " (('e', 'n', '.'), 1217),\n",
       " (('l', 'y', 'n'), 976),\n",
       " (('y', 'n', '.'), 953)]"
      ]
     },
     "execution_count": 10,
     "metadata": {},
     "output_type": "execute_result"
    }
   ],
   "source": [
    "tripling_counter = generate_tripling_counter(words)\n",
    "tripling_counter.most_common(10)"
   ]
  },
  {
   "cell_type": "code",
   "execution_count": 11,
   "id": "0da84c54",
   "metadata": {},
   "outputs": [
    {
     "data": {
      "text/plain": [
       "6037"
      ]
     },
     "execution_count": 11,
     "metadata": {},
     "output_type": "execute_result"
    }
   ],
   "source": [
    "len(tripling_counter)"
   ]
  },
  {
   "cell_type": "code",
   "execution_count": 12,
   "id": "48147548",
   "metadata": {},
   "outputs": [],
   "source": [
    "def create_matrix():\n",
    "    N = torch.zeros((27, 27, 27), dtype=torch.int32)\n",
    "    for ch1, ch2, ch3 in generate_tripling(words):\n",
    "        ix1 = stoi[ch1]\n",
    "        ix2 = stoi[ch2]\n",
    "        ix3 = stoi[ch3]\n",
    "        N[ix1, ix2, ix3] += 1\n",
    "    return N  "
   ]
  },
  {
   "cell_type": "code",
   "execution_count": 13,
   "id": "26bd4471",
   "metadata": {
    "scrolled": true
   },
   "outputs": [
    {
     "data": {
      "text/plain": [
       "torch.Size([27, 27, 27])"
      ]
     },
     "execution_count": 13,
     "metadata": {},
     "output_type": "execute_result"
    }
   ],
   "source": [
    "N = create_matrix(); N.shape"
   ]
  },
  {
   "cell_type": "code",
   "execution_count": 14,
   "id": "c6d7c5b2",
   "metadata": {},
   "outputs": [
    {
     "data": {
      "text/plain": [
       "tensor(1714, dtype=torch.int32)"
      ]
     },
     "execution_count": 14,
     "metadata": {},
     "output_type": "execute_result"
    }
   ],
   "source": [
    "N[1, 8, 0]"
   ]
  },
  {
   "cell_type": "code",
   "execution_count": 15,
   "id": "d74f7513",
   "metadata": {},
   "outputs": [],
   "source": [
    "P = (N+1).float()\n",
    "P = P/P.sum(-1, keepdims=True)"
   ]
  },
  {
   "cell_type": "code",
   "execution_count": 16,
   "id": "3a286139",
   "metadata": {},
   "outputs": [],
   "source": [
    "def generate_tripling_prob(words):\n",
    "    for ch1, ch2, ch3 in generate_tripling(words):\n",
    "        ix1 = stoi[ch1]\n",
    "        ix2 = stoi[ch2]\n",
    "        ix3 = stoi[ch3]\n",
    "        prob = P[ix1, ix2, ix3]\n",
    "        yield ch1, ch2, ch3, prob"
   ]
  },
  {
   "cell_type": "code",
   "execution_count": 17,
   "id": "6f5201fb",
   "metadata": {},
   "outputs": [
    {
     "name": "stdout",
     "output_type": "stream",
     "text": [
      ". e m tensor(0.1855)\n",
      "e m m tensor(0.1269)\n",
      "m m a tensor(0.3744)\n",
      "m a . tensor(0.0669)\n",
      ". o l tensor(0.2494)\n",
      "o l i tensor(0.1084)\n",
      "l i v tensor(0.0219)\n",
      "i v i tensor(0.2669)\n",
      "v i a tensor(0.1578)\n",
      "i a . tensor(0.3657)\n",
      ". a v tensor(0.0550)\n",
      "a v a tensor(0.1882)\n",
      "v a . tensor(0.1405)\n"
     ]
    }
   ],
   "source": [
    "for ch1, ch2, ch3, prob in generate_tripling_prob(words[:3]): \n",
    "    print(ch1, ch2, ch3, prob)"
   ]
  },
  {
   "cell_type": "code",
   "execution_count": 18,
   "id": "911d6c6f",
   "metadata": {},
   "outputs": [],
   "source": [
    "def generate_names(count, P):\n",
    "    g = torch.Generator().manual_seed(2147483647)\n",
    "    for i in range(count):\n",
    "        out = []\n",
    "        ix1, ix2 = 0, 0\n",
    "        while True:\n",
    "            p = P[ix1, ix2]\n",
    "            ix1 = ix2\n",
    "            ix2 = torch.multinomial(p, num_samples = 1, replacement = True, generator=g).item()\n",
    "            out.append(itos[ix2])\n",
    "            if ix2 == 0:\n",
    "                break\n",
    "        yield ''.join(out)"
   ]
  },
  {
   "cell_type": "code",
   "execution_count": 19,
   "id": "bd68a119",
   "metadata": {},
   "outputs": [
    {
     "name": "stdout",
     "output_type": "stream",
     "text": [
      "quia.\n",
      "yu.\n",
      "quinslyntien.\n",
      "nolliahi.\n",
      "ha.\n"
     ]
    }
   ],
   "source": [
    "for name in generate_names(5, P): print(name)"
   ]
  },
  {
   "cell_type": "code",
   "execution_count": 20,
   "id": "6ffbc0b9",
   "metadata": {},
   "outputs": [],
   "source": [
    "def log_likelihood(words):\n",
    "    sum_log = 0\n",
    "    count = 0\n",
    "    for ch1, ch2, ch3, prob in generate_tripling_prob(words):\n",
    "        sum_log += torch.log(prob)\n",
    "        count += 1\n",
    "    return sum_log/count"
   ]
  },
  {
   "cell_type": "code",
   "execution_count": 21,
   "id": "303fdbfa",
   "metadata": {},
   "outputs": [
    {
     "data": {
      "text/plain": [
       "27"
      ]
     },
     "execution_count": 21,
     "metadata": {},
     "output_type": "execute_result"
    }
   ],
   "source": [
    "len(P)"
   ]
  },
  {
   "cell_type": "code",
   "execution_count": 22,
   "id": "448e2f54",
   "metadata": {},
   "outputs": [
    {
     "data": {
      "text/plain": [
       "tensor(-2.0927)"
      ]
     },
     "execution_count": 22,
     "metadata": {},
     "output_type": "execute_result"
    }
   ],
   "source": [
    "log_likelihood(words)"
   ]
  },
  {
   "cell_type": "markdown",
   "id": "b002465a",
   "metadata": {},
   "source": [
    "negative log likelihood"
   ]
  },
  {
   "cell_type": "code",
   "execution_count": 23,
   "id": "599b6f54",
   "metadata": {},
   "outputs": [
    {
     "data": {
      "text/plain": [
       "tensor(2.0927)"
      ]
     },
     "execution_count": 23,
     "metadata": {},
     "output_type": "execute_result"
    }
   ],
   "source": [
    "- log_likelihood(words)"
   ]
  },
  {
   "cell_type": "markdown",
   "id": "3393714c",
   "metadata": {},
   "source": [
    "### NN"
   ]
  },
  {
   "cell_type": "code",
   "execution_count": 24,
   "id": "a57a25cf",
   "metadata": {},
   "outputs": [],
   "source": [
    "def generate_training_set(words):\n",
    "    xs1 = []\n",
    "    xs2 = []\n",
    "    ys = []\n",
    "    for ch1, ch2, ch3 in generate_tripling(words):\n",
    "        ix1 = stoi[ch1]\n",
    "        ix2 = stoi[ch2]\n",
    "        ix3 = stoi[ch3]\n",
    "        xs1.append(ix1)\n",
    "        xs2.append(ix2)\n",
    "        ys.append(ix3)\n",
    "    xs1 = torch.tensor(xs1)\n",
    "    xs2 = torch.tensor(xs2)\n",
    "    xs = torch.vstack((xs1, xs2)).permute(1, 0)\n",
    "    ys = torch.tensor(ys)\n",
    "    return xs, ys "
   ]
  },
  {
   "cell_type": "markdown",
   "id": "fc611c11",
   "metadata": {},
   "source": [
    "#### Sample dataset"
   ]
  },
  {
   "cell_type": "code",
   "execution_count": 25,
   "id": "861e9579",
   "metadata": {},
   "outputs": [],
   "source": [
    "xs, ys = generate_training_set(words[:1])"
   ]
  },
  {
   "cell_type": "code",
   "execution_count": 26,
   "id": "21479578",
   "metadata": {},
   "outputs": [
    {
     "data": {
      "text/plain": [
       "(torch.Size([4, 2]), torch.Size([4]))"
      ]
     },
     "execution_count": 26,
     "metadata": {},
     "output_type": "execute_result"
    }
   ],
   "source": [
    "xs.shape, ys.shape"
   ]
  },
  {
   "cell_type": "code",
   "execution_count": 27,
   "id": "28a67e26",
   "metadata": {},
   "outputs": [],
   "source": [
    "xenc = F.one_hot(xs, num_classes=27)"
   ]
  },
  {
   "cell_type": "code",
   "execution_count": 28,
   "id": "b5ba6b62",
   "metadata": {},
   "outputs": [
    {
     "data": {
      "text/plain": [
       "torch.Size([4, 2, 27])"
      ]
     },
     "execution_count": 28,
     "metadata": {},
     "output_type": "execute_result"
    }
   ],
   "source": [
    "xenc.shape"
   ]
  },
  {
   "cell_type": "code",
   "execution_count": 29,
   "id": "b0d21a1a",
   "metadata": {},
   "outputs": [
    {
     "data": {
      "text/plain": [
       "tensor([[[1, 0, 0, 0, 0, 0, 0, 0, 0, 0, 0, 0, 0, 0, 0, 0, 0, 0, 0, 0, 0, 0, 0,\n",
       "          0, 0, 0, 0],\n",
       "         [0, 0, 0, 0, 0, 1, 0, 0, 0, 0, 0, 0, 0, 0, 0, 0, 0, 0, 0, 0, 0, 0, 0,\n",
       "          0, 0, 0, 0]],\n",
       "\n",
       "        [[0, 0, 0, 0, 0, 1, 0, 0, 0, 0, 0, 0, 0, 0, 0, 0, 0, 0, 0, 0, 0, 0, 0,\n",
       "          0, 0, 0, 0],\n",
       "         [0, 0, 0, 0, 0, 0, 0, 0, 0, 0, 0, 0, 0, 1, 0, 0, 0, 0, 0, 0, 0, 0, 0,\n",
       "          0, 0, 0, 0]],\n",
       "\n",
       "        [[0, 0, 0, 0, 0, 0, 0, 0, 0, 0, 0, 0, 0, 1, 0, 0, 0, 0, 0, 0, 0, 0, 0,\n",
       "          0, 0, 0, 0],\n",
       "         [0, 0, 0, 0, 0, 0, 0, 0, 0, 0, 0, 0, 0, 1, 0, 0, 0, 0, 0, 0, 0, 0, 0,\n",
       "          0, 0, 0, 0]],\n",
       "\n",
       "        [[0, 0, 0, 0, 0, 0, 0, 0, 0, 0, 0, 0, 0, 1, 0, 0, 0, 0, 0, 0, 0, 0, 0,\n",
       "          0, 0, 0, 0],\n",
       "         [0, 1, 0, 0, 0, 0, 0, 0, 0, 0, 0, 0, 0, 0, 0, 0, 0, 0, 0, 0, 0, 0, 0,\n",
       "          0, 0, 0, 0]]])"
      ]
     },
     "execution_count": 29,
     "metadata": {},
     "output_type": "execute_result"
    }
   ],
   "source": [
    "xenc"
   ]
  },
  {
   "cell_type": "code",
   "execution_count": 30,
   "id": "fb6cb1f3",
   "metadata": {},
   "outputs": [],
   "source": [
    "xenc_flattened = xenc.view(4, -1).float()"
   ]
  },
  {
   "cell_type": "code",
   "execution_count": 31,
   "id": "b5408eea",
   "metadata": {},
   "outputs": [
    {
     "data": {
      "text/plain": [
       "tensor([[ 1.5674, -0.2373, -0.0274,  ..., -0.0707,  2.4968,  2.4448],\n",
       "        [-0.6701, -1.2199,  0.3031,  ...,  0.8032,  0.5411, -1.1646],\n",
       "        [ 0.1476, -1.0006,  0.3801,  ..., -0.6279,  0.0770, -1.1641],\n",
       "        ...,\n",
       "        [ 0.5283, -0.9056, -0.0124,  ..., -0.9310, -0.0919,  0.1651],\n",
       "        [-0.7125,  0.6541,  0.8071,  ..., -1.1854,  1.0008,  0.9374],\n",
       "        [-0.2512, -0.8699,  0.5397,  ...,  0.0908, -0.4618, -0.8567]])"
      ]
     },
     "execution_count": 31,
     "metadata": {},
     "output_type": "execute_result"
    }
   ],
   "source": [
    "W = torch.randn((27*2, 27), generator=g)\n",
    "W"
   ]
  },
  {
   "cell_type": "code",
   "execution_count": 32,
   "id": "b75c0f43",
   "metadata": {},
   "outputs": [],
   "source": [
    "logits = xenc_flattened @ W # log counts"
   ]
  },
  {
   "cell_type": "code",
   "execution_count": 33,
   "id": "8cff7ec8",
   "metadata": {},
   "outputs": [],
   "source": [
    "counts = logits.exp()"
   ]
  },
  {
   "cell_type": "code",
   "execution_count": 34,
   "id": "7a3a21e0",
   "metadata": {},
   "outputs": [],
   "source": [
    "prob = counts/counts.sum(1, keepdims=True)"
   ]
  },
  {
   "cell_type": "code",
   "execution_count": 35,
   "id": "0eb6f9b4",
   "metadata": {},
   "outputs": [
    {
     "data": {
      "text/plain": [
       "torch.Size([4, 27])"
      ]
     },
     "execution_count": 35,
     "metadata": {},
     "output_type": "execute_result"
    }
   ],
   "source": [
    "prob.shape"
   ]
  },
  {
   "cell_type": "code",
   "execution_count": 36,
   "id": "a3065f08",
   "metadata": {},
   "outputs": [
    {
     "data": {
      "text/plain": [
       "tensor([13, 13,  1,  0])"
      ]
     },
     "execution_count": 36,
     "metadata": {},
     "output_type": "execute_result"
    }
   ],
   "source": [
    "ys"
   ]
  },
  {
   "cell_type": "code",
   "execution_count": 37,
   "id": "754b316b",
   "metadata": {},
   "outputs": [
    {
     "data": {
      "text/plain": [
       "(tensor(0.0240), tensor(0.0074), tensor(0.0417), tensor(0.0104))"
      ]
     },
     "execution_count": 37,
     "metadata": {},
     "output_type": "execute_result"
    }
   ],
   "source": [
    "prob[0, 13], prob[1, 13], prob[2, 1], prob[3, 0]"
   ]
  },
  {
   "cell_type": "code",
   "execution_count": 38,
   "id": "08016216",
   "metadata": {},
   "outputs": [
    {
     "data": {
      "text/plain": [
       "tensor(4.0953)"
      ]
     },
     "execution_count": 38,
     "metadata": {},
     "output_type": "execute_result"
    }
   ],
   "source": [
    "-prob[torch.arange(4), ys].log().mean()"
   ]
  },
  {
   "cell_type": "markdown",
   "id": "e70bb6c1",
   "metadata": {},
   "source": [
    "#### Train"
   ]
  },
  {
   "cell_type": "code",
   "execution_count": 39,
   "id": "b4034548",
   "metadata": {},
   "outputs": [],
   "source": [
    "xs, ys = generate_training_set(words)"
   ]
  },
  {
   "cell_type": "code",
   "execution_count": 40,
   "id": "e8f345df",
   "metadata": {},
   "outputs": [
    {
     "data": {
      "text/plain": [
       "(tensor([[ 0,  5],\n",
       "         [ 5, 13],\n",
       "         [13, 13],\n",
       "         ...,\n",
       "         [26, 25],\n",
       "         [25, 26],\n",
       "         [26, 24]]),\n",
       " tensor([13, 13,  1,  ..., 26, 24,  0]))"
      ]
     },
     "execution_count": 40,
     "metadata": {},
     "output_type": "execute_result"
    }
   ],
   "source": [
    "xs, ys"
   ]
  },
  {
   "cell_type": "code",
   "execution_count": 41,
   "id": "b509975d",
   "metadata": {},
   "outputs": [],
   "source": [
    "xenc = F.one_hot(xs, num_classes=27)\n",
    "xenc_flattened = xenc.view(len(xenc), -1).float()"
   ]
  },
  {
   "cell_type": "code",
   "execution_count": 42,
   "id": "49bed484",
   "metadata": {},
   "outputs": [
    {
     "data": {
      "text/plain": [
       "torch.float32"
      ]
     },
     "execution_count": 42,
     "metadata": {},
     "output_type": "execute_result"
    }
   ],
   "source": [
    "xenc_flattened.dtype"
   ]
  },
  {
   "cell_type": "code",
   "execution_count": 43,
   "id": "2bd853cb",
   "metadata": {},
   "outputs": [
    {
     "data": {
      "text/plain": [
       "(torch.Size([196113, 54]), torch.Size([196113]))"
      ]
     },
     "execution_count": 43,
     "metadata": {},
     "output_type": "execute_result"
    }
   ],
   "source": [
    "xenc_flattened.shape, ys.shape"
   ]
  },
  {
   "cell_type": "code",
   "execution_count": 44,
   "id": "059cb66b",
   "metadata": {},
   "outputs": [],
   "source": [
    "def train(X, y, epochs, lr):\n",
    "    num = X.shape[0]\n",
    "    print(num)\n",
    "    W = torch.randn((54, 27), requires_grad=True, generator=g)\n",
    "    for i in range(epochs):\n",
    "        logits = X @ W\n",
    "        counts = logits.exp()\n",
    "        prob = counts/counts.sum(1, keepdims=True)\n",
    "        loss = -prob[torch.arange(num), y].log().mean()\n",
    "        print(f'Epoch {i} Loss {loss}')\n",
    "        \n",
    "        W.grad = None\n",
    "        loss.backward()\n",
    "        W.data += -lr * W.grad \n",
    "    return W"
   ]
  },
  {
   "cell_type": "code",
   "execution_count": 45,
   "id": "7ad4b2d6",
   "metadata": {},
   "outputs": [
    {
     "data": {
      "text/plain": [
       "196113"
      ]
     },
     "execution_count": 45,
     "metadata": {},
     "output_type": "execute_result"
    }
   ],
   "source": [
    "xenc_flattened.shape[0]"
   ]
  },
  {
   "cell_type": "code",
   "execution_count": 46,
   "id": "b05162c3",
   "metadata": {
    "scrolled": true
   },
   "outputs": [
    {
     "name": "stdout",
     "output_type": "stream",
     "text": [
      "196113\n",
      "Epoch 0 Loss 4.278286457061768\n",
      "Epoch 1 Loss 3.480670690536499\n",
      "Epoch 2 Loss 3.124514102935791\n",
      "Epoch 3 Loss 2.9295425415039062\n",
      "Epoch 4 Loss 2.803150177001953\n",
      "Epoch 5 Loss 2.7155046463012695\n",
      "Epoch 6 Loss 2.6521811485290527\n",
      "Epoch 7 Loss 2.604522228240967\n",
      "Epoch 8 Loss 2.5672547817230225\n",
      "Epoch 9 Loss 2.5370802879333496\n",
      "Epoch 10 Loss 2.511944532394409\n",
      "Epoch 11 Loss 2.4905476570129395\n",
      "Epoch 12 Loss 2.4720511436462402\n",
      "Epoch 13 Loss 2.455875873565674\n",
      "Epoch 14 Loss 2.4416065216064453\n",
      "Epoch 15 Loss 2.4289278984069824\n",
      "Epoch 16 Loss 2.4175968170166016\n",
      "Epoch 17 Loss 2.407419204711914\n",
      "Epoch 18 Loss 2.398238182067871\n",
      "Epoch 19 Loss 2.3899240493774414\n",
      "Epoch 20 Loss 2.3823699951171875\n",
      "Epoch 21 Loss 2.3754842281341553\n",
      "Epoch 22 Loss 2.3691892623901367\n",
      "Epoch 23 Loss 2.3634181022644043\n",
      "Epoch 24 Loss 2.3581130504608154\n",
      "Epoch 25 Loss 2.3532233238220215\n",
      "Epoch 26 Loss 2.3487045764923096\n",
      "Epoch 27 Loss 2.3445184230804443\n",
      "Epoch 28 Loss 2.3406310081481934\n",
      "Epoch 29 Loss 2.3370120525360107\n",
      "Epoch 30 Loss 2.3336353302001953\n",
      "Epoch 31 Loss 2.3304781913757324\n",
      "Epoch 32 Loss 2.327519655227661\n",
      "Epoch 33 Loss 2.324742078781128\n",
      "Epoch 34 Loss 2.322129249572754\n",
      "Epoch 35 Loss 2.319667100906372\n",
      "Epoch 36 Loss 2.317342519760132\n",
      "Epoch 37 Loss 2.315145254135132\n",
      "Epoch 38 Loss 2.313063859939575\n",
      "Epoch 39 Loss 2.311089515686035\n",
      "Epoch 40 Loss 2.3092143535614014\n",
      "Epoch 41 Loss 2.307431221008301\n",
      "Epoch 42 Loss 2.3057329654693604\n",
      "Epoch 43 Loss 2.3041131496429443\n",
      "Epoch 44 Loss 2.3025670051574707\n",
      "Epoch 45 Loss 2.301089286804199\n",
      "Epoch 46 Loss 2.299675226211548\n",
      "Epoch 47 Loss 2.298321008682251\n",
      "Epoch 48 Loss 2.297022581100464\n",
      "Epoch 49 Loss 2.295776605606079\n",
      "Epoch 50 Loss 2.2945797443389893\n",
      "Epoch 51 Loss 2.293429136276245\n",
      "Epoch 52 Loss 2.2923221588134766\n",
      "Epoch 53 Loss 2.2912561893463135\n",
      "Epoch 54 Loss 2.290228843688965\n",
      "Epoch 55 Loss 2.289238452911377\n",
      "Epoch 56 Loss 2.288282632827759\n",
      "Epoch 57 Loss 2.2873594760894775\n",
      "Epoch 58 Loss 2.2864675521850586\n",
      "Epoch 59 Loss 2.2856051921844482\n",
      "Epoch 60 Loss 2.284771203994751\n",
      "Epoch 61 Loss 2.283963918685913\n",
      "Epoch 62 Loss 2.283182144165039\n",
      "Epoch 63 Loss 2.2824244499206543\n",
      "Epoch 64 Loss 2.2816898822784424\n",
      "Epoch 65 Loss 2.280977487564087\n",
      "Epoch 66 Loss 2.2802860736846924\n",
      "Epoch 67 Loss 2.2796149253845215\n",
      "Epoch 68 Loss 2.2789628505706787\n",
      "Epoch 69 Loss 2.278329372406006\n",
      "Epoch 70 Loss 2.2777135372161865\n",
      "Epoch 71 Loss 2.2771143913269043\n",
      "Epoch 72 Loss 2.27653169631958\n",
      "Epoch 73 Loss 2.2759647369384766\n",
      "Epoch 74 Loss 2.2754125595092773\n",
      "Epoch 75 Loss 2.274874687194824\n",
      "Epoch 76 Loss 2.27435040473938\n",
      "Epoch 77 Loss 2.2738397121429443\n",
      "Epoch 78 Loss 2.273341655731201\n",
      "Epoch 79 Loss 2.2728559970855713\n",
      "Epoch 80 Loss 2.2723817825317383\n",
      "Epoch 81 Loss 2.271919012069702\n",
      "Epoch 82 Loss 2.2714672088623047\n",
      "Epoch 83 Loss 2.271026372909546\n",
      "Epoch 84 Loss 2.2705953121185303\n",
      "Epoch 85 Loss 2.270174026489258\n",
      "Epoch 86 Loss 2.2697625160217285\n",
      "Epoch 87 Loss 2.269359827041626\n",
      "Epoch 88 Loss 2.2689664363861084\n",
      "Epoch 89 Loss 2.2685811519622803\n",
      "Epoch 90 Loss 2.2682044506073\n",
      "Epoch 91 Loss 2.2678356170654297\n",
      "Epoch 92 Loss 2.267474412918091\n",
      "Epoch 93 Loss 2.267120838165283\n",
      "Epoch 94 Loss 2.2667741775512695\n",
      "Epoch 95 Loss 2.266435146331787\n",
      "Epoch 96 Loss 2.2661023139953613\n",
      "Epoch 97 Loss 2.2657763957977295\n",
      "Epoch 98 Loss 2.2654569149017334\n",
      "Epoch 99 Loss 2.265143632888794\n"
     ]
    }
   ],
   "source": [
    "model = train(xenc_flattened, ys, 100, 50)"
   ]
  },
  {
   "cell_type": "markdown",
   "id": "6598424b",
   "metadata": {},
   "source": [
    "Here the loss is less, it is an improve over bigram model"
   ]
  },
  {
   "cell_type": "code",
   "execution_count": 47,
   "id": "d86e5623",
   "metadata": {},
   "outputs": [],
   "source": [
    "xenc = F.one_hot(torch.tensor([0, 0]), num_classes=27).float()"
   ]
  },
  {
   "cell_type": "code",
   "execution_count": 48,
   "id": "fb589b7f",
   "metadata": {},
   "outputs": [
    {
     "data": {
      "text/plain": [
       "torch.Size([2, 27])"
      ]
     },
     "execution_count": 48,
     "metadata": {},
     "output_type": "execute_result"
    }
   ],
   "source": [
    "xenc.shape"
   ]
  },
  {
   "cell_type": "markdown",
   "id": "b3a0e525",
   "metadata": {},
   "source": [
    "### Prediction"
   ]
  },
  {
   "cell_type": "code",
   "execution_count": 49,
   "id": "778af19b",
   "metadata": {},
   "outputs": [],
   "source": [
    "def generate_words():\n",
    "    for i in range(5):\n",
    "        out = []\n",
    "        ix1, ix2 = 0, 0\n",
    "        while True:\n",
    "            xenc = F.one_hot(torch.tensor([ix1, ix2]), num_classes=27).float()\n",
    "            xenc_flattened = xenc.view(1, -1)\n",
    "            logits = xenc_flattened @ model # predict log-counts\n",
    "            counts = logits.exp()\n",
    "            p = counts/counts.sum(1, keepdims=True)\n",
    "            ix1 = ix2\n",
    "            ix2 = torch.multinomial(p, num_samples=1, replacement=True).item()\n",
    "            out.append(itos[ix2])\n",
    "            if ix2 == 0:\n",
    "                break\n",
    "        print(''.join(out))"
   ]
  },
  {
   "cell_type": "code",
   "execution_count": 50,
   "id": "6759b43f",
   "metadata": {},
   "outputs": [
    {
     "name": "stdout",
     "output_type": "stream",
     "text": [
      "eyne.\n",
      "ou.\n",
      "surie.\n",
      "ainn.\n",
      "iass.\n"
     ]
    }
   ],
   "source": [
    "generate_words()"
   ]
  },
  {
   "cell_type": "markdown",
   "id": "562a098d",
   "metadata": {},
   "source": [
    "## E02\n",
    "> split up the dataset randomly into 80% train set, 10% dev set, 10% test set. Train the bigram and trigram models only on the training set. Evaluate them on dev and test splits. What can you see?"
   ]
  },
  {
   "cell_type": "code",
   "execution_count": 51,
   "id": "8ec6ace4",
   "metadata": {},
   "outputs": [],
   "source": [
    "xenc_num = xenc_flattened.shape[0]"
   ]
  },
  {
   "cell_type": "code",
   "execution_count": 52,
   "id": "fb0f6758",
   "metadata": {},
   "outputs": [
    {
     "data": {
      "text/plain": [
       "range(0, 196113)"
      ]
     },
     "execution_count": 52,
     "metadata": {},
     "output_type": "execute_result"
    }
   ],
   "source": [
    "range(xenc_num)"
   ]
  },
  {
   "cell_type": "code",
   "execution_count": 53,
   "id": "c6036972",
   "metadata": {},
   "outputs": [],
   "source": [
    "test_subset, valid_subset, train_subset = random_split(range(xenc_num), [0.1, 0.1, 0.8], \n",
    "                          generator=torch.Generator().manual_seed(42))"
   ]
  },
  {
   "cell_type": "code",
   "execution_count": 54,
   "id": "dc5f290a",
   "metadata": {},
   "outputs": [],
   "source": [
    "train_idx = torch.tensor(train_subset)\n",
    "valid_idx = torch.tensor(valid_subset)\n",
    "test_idx = torch.tensor(test_subset)"
   ]
  },
  {
   "cell_type": "code",
   "execution_count": 55,
   "id": "933cdac0",
   "metadata": {},
   "outputs": [
    {
     "data": {
      "text/plain": [
       "(torch.Size([156890]), torch.Size([19611]), torch.Size([19612]))"
      ]
     },
     "execution_count": 55,
     "metadata": {},
     "output_type": "execute_result"
    }
   ],
   "source": [
    "train_idx.shape, valid_idx.shape, test_idx.shape"
   ]
  },
  {
   "cell_type": "code",
   "execution_count": 56,
   "id": "d848c3a5",
   "metadata": {},
   "outputs": [],
   "source": [
    "x_train, y_train = xenc_flattened[train_idx], ys[train_idx]\n",
    "x_valid, y_valid = xenc_flattened[valid_idx], ys[valid_idx]\n",
    "x_test, y_test = xenc_flattened[test_idx], ys[test_idx]"
   ]
  },
  {
   "cell_type": "code",
   "execution_count": 57,
   "id": "43328adb",
   "metadata": {},
   "outputs": [
    {
     "name": "stdout",
     "output_type": "stream",
     "text": [
      "156890\n",
      "Epoch 0 Loss 4.1095499992370605\n",
      "Epoch 1 Loss 3.914874315261841\n",
      "Epoch 2 Loss 3.7504496574401855\n",
      "Epoch 3 Loss 3.611818313598633\n",
      "Epoch 4 Loss 3.494288206100464\n",
      "Epoch 5 Loss 3.393850088119507\n",
      "Epoch 6 Loss 3.307448387145996\n",
      "Epoch 7 Loss 3.2327330112457275\n",
      "Epoch 8 Loss 3.167773485183716\n",
      "Epoch 9 Loss 3.110938310623169\n",
      "Epoch 10 Loss 3.0608606338500977\n",
      "Epoch 11 Loss 3.0164265632629395\n",
      "Epoch 12 Loss 2.9767415523529053\n",
      "Epoch 13 Loss 2.9410929679870605\n",
      "Epoch 14 Loss 2.908905506134033\n",
      "Epoch 15 Loss 2.8797104358673096\n",
      "Epoch 16 Loss 2.8531150817871094\n",
      "Epoch 17 Loss 2.8287878036499023\n",
      "Epoch 18 Loss 2.8064448833465576\n",
      "Epoch 19 Loss 2.7858426570892334\n",
      "Epoch 20 Loss 2.766771078109741\n",
      "Epoch 21 Loss 2.7490503787994385\n",
      "Epoch 22 Loss 2.7325260639190674\n",
      "Epoch 23 Loss 2.717067003250122\n",
      "Epoch 24 Loss 2.7025599479675293\n",
      "Epoch 25 Loss 2.6889100074768066\n",
      "Epoch 26 Loss 2.6760339736938477\n",
      "Epoch 27 Loss 2.6638612747192383\n",
      "Epoch 28 Loss 2.6523303985595703\n",
      "Epoch 29 Loss 2.641388177871704\n",
      "Epoch 30 Loss 2.6309874057769775\n",
      "Epoch 31 Loss 2.621086835861206\n",
      "Epoch 32 Loss 2.611649990081787\n",
      "Epoch 33 Loss 2.602644205093384\n",
      "Epoch 34 Loss 2.5940401554107666\n",
      "Epoch 35 Loss 2.5858120918273926\n",
      "Epoch 36 Loss 2.577935218811035\n",
      "Epoch 37 Loss 2.5703883171081543\n",
      "Epoch 38 Loss 2.5631518363952637\n",
      "Epoch 39 Loss 2.5562074184417725\n",
      "Epoch 40 Loss 2.5495386123657227\n",
      "Epoch 41 Loss 2.5431301593780518\n",
      "Epoch 42 Loss 2.5369670391082764\n",
      "Epoch 43 Loss 2.5310370922088623\n",
      "Epoch 44 Loss 2.525327444076538\n",
      "Epoch 45 Loss 2.5198264122009277\n",
      "Epoch 46 Loss 2.514524221420288\n",
      "Epoch 47 Loss 2.5094101428985596\n",
      "Epoch 48 Loss 2.5044748783111572\n",
      "Epoch 49 Loss 2.4997100830078125\n",
      "Epoch 50 Loss 2.4951069355010986\n",
      "Epoch 51 Loss 2.4906582832336426\n",
      "Epoch 52 Loss 2.486356258392334\n",
      "Epoch 53 Loss 2.482194423675537\n",
      "Epoch 54 Loss 2.478166341781616\n",
      "Epoch 55 Loss 2.4742653369903564\n",
      "Epoch 56 Loss 2.4704864025115967\n",
      "Epoch 57 Loss 2.4668235778808594\n",
      "Epoch 58 Loss 2.4632720947265625\n",
      "Epoch 59 Loss 2.459826707839966\n",
      "Epoch 60 Loss 2.4564831256866455\n",
      "Epoch 61 Loss 2.4532368183135986\n",
      "Epoch 62 Loss 2.4500839710235596\n",
      "Epoch 63 Loss 2.4470205307006836\n",
      "Epoch 64 Loss 2.444042682647705\n",
      "Epoch 65 Loss 2.4411470890045166\n",
      "Epoch 66 Loss 2.4383299350738525\n",
      "Epoch 67 Loss 2.4355885982513428\n",
      "Epoch 68 Loss 2.432920455932617\n",
      "Epoch 69 Loss 2.43032169342041\n",
      "Epoch 70 Loss 2.4277899265289307\n",
      "Epoch 71 Loss 2.425323009490967\n",
      "Epoch 72 Loss 2.4229180812835693\n",
      "Epoch 73 Loss 2.4205729961395264\n",
      "Epoch 74 Loss 2.418285369873047\n",
      "Epoch 75 Loss 2.416053295135498\n",
      "Epoch 76 Loss 2.413874387741089\n",
      "Epoch 77 Loss 2.4117469787597656\n",
      "Epoch 78 Loss 2.4096691608428955\n",
      "Epoch 79 Loss 2.407639503479004\n",
      "Epoch 80 Loss 2.4056556224823\n",
      "Epoch 81 Loss 2.403716802597046\n",
      "Epoch 82 Loss 2.401820659637451\n",
      "Epoch 83 Loss 2.399966239929199\n",
      "Epoch 84 Loss 2.3981523513793945\n",
      "Epoch 85 Loss 2.396376848220825\n",
      "Epoch 86 Loss 2.394639253616333\n",
      "Epoch 87 Loss 2.3929378986358643\n",
      "Epoch 88 Loss 2.3912713527679443\n",
      "Epoch 89 Loss 2.389639377593994\n",
      "Epoch 90 Loss 2.38804030418396\n",
      "Epoch 91 Loss 2.3864729404449463\n",
      "Epoch 92 Loss 2.384936809539795\n",
      "Epoch 93 Loss 2.3834304809570312\n",
      "Epoch 94 Loss 2.381953477859497\n",
      "Epoch 95 Loss 2.380504608154297\n",
      "Epoch 96 Loss 2.3790829181671143\n",
      "Epoch 97 Loss 2.37768816947937\n",
      "Epoch 98 Loss 2.37631893157959\n",
      "Epoch 99 Loss 2.3749752044677734\n"
     ]
    }
   ],
   "source": [
    "model_trigram = train(x_train, y_train, 100, 10)"
   ]
  },
  {
   "cell_type": "markdown",
   "id": "e5fade0b",
   "metadata": {},
   "source": [
    "Loss on the dev set"
   ]
  },
  {
   "cell_type": "code",
   "execution_count": 58,
   "id": "7cceeff4",
   "metadata": {},
   "outputs": [],
   "source": [
    "def evaluate_loss(model, x, y):\n",
    "    logits = x @ model\n",
    "    counts = logits.exp()\n",
    "    pred = counts/counts.sum(1, keepdims=True)\n",
    "    return - pred[torch.arange(x.shape[0]), y].log().mean().item()"
   ]
  },
  {
   "cell_type": "code",
   "execution_count": 59,
   "id": "6bd70f90",
   "metadata": {},
   "outputs": [
    {
     "data": {
      "text/plain": [
       "2.379625082015991"
      ]
     },
     "execution_count": 59,
     "metadata": {},
     "output_type": "execute_result"
    }
   ],
   "source": [
    "evaluate_loss(model_trigram, x_valid, y_valid)"
   ]
  },
  {
   "cell_type": "markdown",
   "id": "82bcd835",
   "metadata": {},
   "source": [
    "Loss on the test set"
   ]
  },
  {
   "cell_type": "code",
   "execution_count": 60,
   "id": "871e6bef",
   "metadata": {},
   "outputs": [
    {
     "data": {
      "text/plain": [
       "2.3864219188690186"
      ]
     },
     "execution_count": 60,
     "metadata": {},
     "output_type": "execute_result"
    }
   ],
   "source": [
    "evaluate_loss(model_trigram, x_test, y_test)"
   ]
  },
  {
   "cell_type": "markdown",
   "id": "6ff05689",
   "metadata": {},
   "source": [
    "The loss on test and validation dataset are about the same for the trigram model on the training set."
   ]
  },
  {
   "cell_type": "markdown",
   "id": "aad0b206",
   "metadata": {},
   "source": [
    "Same we can for the bigram model that I have computed in `nbs/lecture_notes/02_building_makemore.ipynb`. The validation and test dataset have about the same losses to the training set."
   ]
  },
  {
   "cell_type": "markdown",
   "id": "fcbf51d7",
   "metadata": {},
   "source": [
    "The trigram is better than bigram"
   ]
  },
  {
   "cell_type": "markdown",
   "id": "8ae169bb",
   "metadata": {},
   "source": [
    "## E03\n",
    "> Use the dev set to tune the strength of smoothing (or regularization) for the trigram model - i.e. try many possibilities and see which one works best based on the dev set loss. What patterns can you see in the train and dev set loss as you tune this strength? Take the best setting of the smoothing and evaluate on the test set once and at the end. How good of a loss do you achieve?"
   ]
  },
  {
   "cell_type": "code",
   "execution_count": 61,
   "id": "ca9bd500",
   "metadata": {},
   "outputs": [],
   "source": [
    "def train(X, y, epochs, lr, regularization_param, print_at_every_epoch = False, print_at_last=False):\n",
    "    num = X.shape[0]\n",
    "    W = torch.randn((54, 27), requires_grad=True, generator=g)\n",
    "    for i in range(epochs):\n",
    "        logits = X @ W\n",
    "        counts = logits.exp()\n",
    "        prob = counts/counts.sum(1, keepdims=True)\n",
    "        loss = -prob[torch.arange(num), y].log().mean()\n",
    "        \n",
    "        # regularization\n",
    "        regularization_loss = regularization_param * (W **2).mean()\n",
    "        loss += regularization_loss\n",
    "        \n",
    "        if print_at_every_epoch: print(f'Epoch {i} Loss {loss}')\n",
    "        \n",
    "        W.grad = None\n",
    "        loss.backward()\n",
    "        W.data += -lr * W.grad \n",
    "        \n",
    "    if print_at_last: print(f'Loss {loss}')\n",
    "    return W, loss.item()"
   ]
  },
  {
   "cell_type": "code",
   "execution_count": 62,
   "id": "f5ab0aab",
   "metadata": {},
   "outputs": [],
   "source": [
    "def get_reg_param_trend():\n",
    "    train_losses = []\n",
    "    val_losses = []\n",
    "    reg_params = []\n",
    "\n",
    "    for reg_param in torch.linspace(0, 10, 100):\n",
    "        model, train_loss = train(x_train, y_train, 100, 10, reg_param)\n",
    "        val_loss = evaluate_loss(model, x_valid, y_valid)\n",
    "        train_losses.append(train_loss)\n",
    "        val_losses.append(val_loss)\n",
    "        reg_params.append(reg_param)\n",
    "\n",
    "    return train_losses, val_losses, reg_params"
   ]
  },
  {
   "cell_type": "code",
   "execution_count": 63,
   "id": "0fda8382",
   "metadata": {},
   "outputs": [],
   "source": [
    "train_losses, val_losses, reg_params = get_reg_param_trend()"
   ]
  },
  {
   "cell_type": "code",
   "execution_count": 64,
   "id": "e9615e7c",
   "metadata": {},
   "outputs": [
    {
     "data": {
      "image/png": "[encoded data removed]",
      "text/plain": [
       "<Figure size 640x480 with 1 Axes>"
      ]
     },
     "metadata": {},
     "output_type": "display_data"
    }
   ],
   "source": [
    "plt.plot(train_losses)\n",
    "plt.plot(val_losses)\n",
    "plt.title('model loss')\n",
    "plt.ylabel('loss')\n",
    "plt.xlabel('regularization parameter')\n",
    "plt.legend(['train', 'val'], loc='upper left')\n",
    "plt.show()"
   ]
  },
  {
   "cell_type": "markdown",
   "id": "2de09835",
   "metadata": {},
   "source": [
    "As we increase the regularization strength, we see that both the losses are increasing and the training loss is increasing over validation loss, it means that the model is underfitting. Lets choose the regularization parameter as 0 and evaluate the test set"
   ]
  },
  {
   "cell_type": "code",
   "execution_count": 65,
   "id": "ea6c93df",
   "metadata": {},
   "outputs": [],
   "source": [
    "model, train_loss = train(x_train, y_train, 100, 10, 0)"
   ]
  },
  {
   "cell_type": "code",
   "execution_count": 66,
   "id": "ef9f4235",
   "metadata": {},
   "outputs": [
    {
     "data": {
      "text/plain": [
       "2.3726656436920166"
      ]
     },
     "execution_count": 66,
     "metadata": {},
     "output_type": "execute_result"
    }
   ],
   "source": [
    "train_loss"
   ]
  },
  {
   "cell_type": "code",
   "execution_count": 67,
   "id": "6dbf6086",
   "metadata": {},
   "outputs": [
    {
     "data": {
      "text/plain": [
       "2.374793767929077"
      ]
     },
     "execution_count": 67,
     "metadata": {},
     "output_type": "execute_result"
    }
   ],
   "source": [
    "evaluate_loss(model, x_valid, y_valid)"
   ]
  },
  {
   "cell_type": "code",
   "execution_count": 68,
   "id": "99a39a49",
   "metadata": {},
   "outputs": [
    {
     "data": {
      "text/plain": [
       "2.383634328842163"
      ]
     },
     "execution_count": 68,
     "metadata": {},
     "output_type": "execute_result"
    }
   ],
   "source": [
    "evaluate_loss(model, x_test, y_test)"
   ]
  },
  {
   "cell_type": "markdown",
   "id": "e1bead42",
   "metadata": {},
   "source": [
    "## E04\n",
    " > We saw that our 1-hot vectors merely select a row of W, so producing these vectors explicitly feels wasteful. Can you delete our use of F.one_hot in favor of simply indexing into rows of W?"
   ]
  },
  {
   "cell_type": "code",
   "execution_count": 69,
   "id": "21e9ed8c",
   "metadata": {},
   "outputs": [
    {
     "data": {
      "text/plain": [
       "torch.Size([196113, 2])"
      ]
     },
     "execution_count": 69,
     "metadata": {},
     "output_type": "execute_result"
    }
   ],
   "source": [
    "xs.shape"
   ]
  },
  {
   "cell_type": "code",
   "execution_count": 70,
   "id": "b5a8a632",
   "metadata": {},
   "outputs": [
    {
     "data": {
      "text/plain": [
       "196113"
      ]
     },
     "execution_count": 70,
     "metadata": {},
     "output_type": "execute_result"
    }
   ],
   "source": [
    "xenc_num"
   ]
  },
  {
   "cell_type": "code",
   "execution_count": 71,
   "id": "91d6a7da",
   "metadata": {},
   "outputs": [],
   "source": [
    "x_train, y_train = xs[train_idx], ys[train_idx]\n",
    "x_valid, y_valid = xs[valid_idx], ys[valid_idx]\n",
    "x_test, y_test = xs[test_idx], ys[test_idx]"
   ]
  },
  {
   "cell_type": "code",
   "execution_count": 72,
   "id": "5d76f3c8",
   "metadata": {},
   "outputs": [],
   "source": [
    "def train(X, y, epochs, lr, regularization_param, print_at_every_epoch = False, print_at_last=False):\n",
    "    assert X.shape[-1] == 2\n",
    "    num = X.shape[0]\n",
    "    W = torch.randn((54, 27), requires_grad=True, generator=g)\n",
    "    for i in range(epochs):\n",
    "        \n",
    "        #indexing\n",
    "        W1 = W[:27]\n",
    "        W2 = W[27:]\n",
    "        \n",
    "        logits = W1[X[:, 0]] + W2[X[:, 1]]\n",
    "        \n",
    "        counts = logits.exp()\n",
    "        prob = counts/counts.sum(1, keepdims=True)\n",
    "        loss = -prob[torch.arange(num), y].log().mean()\n",
    "        \n",
    "        # regularization\n",
    "        regularization_loss = regularization_param * (W **2).mean()\n",
    "        loss += regularization_loss\n",
    "        \n",
    "        if print_at_every_epoch: print(f'Epoch {i} Loss {loss}')\n",
    "        \n",
    "        W.grad = None\n",
    "        loss.backward()\n",
    "        W.data += -lr * W.grad \n",
    "        \n",
    "    if print_at_last: print(f'Loss {loss}')\n",
    "    return W, loss"
   ]
  },
  {
   "cell_type": "code",
   "execution_count": 73,
   "id": "383de3e1",
   "metadata": {},
   "outputs": [],
   "source": [
    "model, train_loss = train(x_train, y_train, 100, 10, 0)"
   ]
  },
  {
   "cell_type": "code",
   "execution_count": 74,
   "id": "7154695d",
   "metadata": {},
   "outputs": [
    {
     "data": {
      "text/plain": [
       "tensor(2.3768, grad_fn=<AddBackward0>)"
      ]
     },
     "execution_count": 74,
     "metadata": {},
     "output_type": "execute_result"
    }
   ],
   "source": [
    "train_loss"
   ]
  },
  {
   "cell_type": "code",
   "execution_count": 75,
   "id": "7e36a512",
   "metadata": {},
   "outputs": [],
   "source": [
    "def evaluate_loss(model, x, y):\n",
    "    W1 = model[:27]\n",
    "    W2 = model[27:]\n",
    "    \n",
    "    logits = W1[x[:, 0]] + W2[x[:, 1]]\n",
    "    \n",
    "    counts = logits.exp()\n",
    "    prob = counts/counts.sum(1, keepdims=True)\n",
    "    return -prob[torch.arange(x.shape[0]), y].log().mean()"
   ]
  },
  {
   "cell_type": "code",
   "execution_count": 76,
   "id": "964b791c",
   "metadata": {},
   "outputs": [
    {
     "data": {
      "text/plain": [
       "tensor(2.3810, grad_fn=<NegBackward0>)"
      ]
     },
     "execution_count": 76,
     "metadata": {},
     "output_type": "execute_result"
    }
   ],
   "source": [
    "evaluate_loss(model, x_valid, y_valid)"
   ]
  },
  {
   "cell_type": "code",
   "execution_count": 77,
   "id": "826d0053",
   "metadata": {},
   "outputs": [
    {
     "data": {
      "text/plain": [
       "tensor(2.3880, grad_fn=<NegBackward0>)"
      ]
     },
     "execution_count": 77,
     "metadata": {},
     "output_type": "execute_result"
    }
   ],
   "source": [
    "evaluate_loss(model, x_test, y_test)"
   ]
  },
  {
   "cell_type": "markdown",
   "id": "f5d95656",
   "metadata": {},
   "source": [
    "## E05\n",
    "> Look up and use F.cross_entropy instead. You should achieve the same result. Can you think of why we'd prefer to use F.cross_entropy instead?"
   ]
  },
  {
   "cell_type": "code",
   "execution_count": 78,
   "id": "f1882c36",
   "metadata": {},
   "outputs": [],
   "source": [
    "x_train, y_train = xenc_flattened[train_idx], ys[train_idx]\n",
    "x_valid, y_valid = xenc_flattened[valid_idx], ys[valid_idx]\n",
    "x_test, y_test = xenc_flattened[test_idx], ys[test_idx]"
   ]
  },
  {
   "cell_type": "code",
   "execution_count": 79,
   "id": "2494d117",
   "metadata": {},
   "outputs": [],
   "source": [
    "def train(X, y, epochs, lr, print_at_every_epoch = False, print_at_last=False):\n",
    "    num = X.shape[0]\n",
    "    W = torch.randn((54, 27), requires_grad=True, generator=g)\n",
    "    for i in range(epochs):\n",
    "        logits = X @ W\n",
    "        loss = F.cross_entropy(logits, y)\n",
    "        \n",
    "        if print_at_every_epoch: print(f'Epoch {i} Loss {loss}')\n",
    "        \n",
    "        W.grad = None\n",
    "        loss.backward()\n",
    "        W.data += -lr * W.grad \n",
    "        \n",
    "    if print_at_last: print(f'Loss {loss}')\n",
    "    return W, loss"
   ]
  },
  {
   "cell_type": "code",
   "execution_count": 80,
   "id": "b0381f04",
   "metadata": {},
   "outputs": [],
   "source": [
    "def evaluate_loss(model, x, y):\n",
    "    logits = x @ model\n",
    "    counts = logits.exp()\n",
    "    pred = counts/counts.sum(1, keepdims=True)\n",
    "    return - pred[torch.arange(x.shape[0]), y].log().mean().item()"
   ]
  },
  {
   "cell_type": "code",
   "execution_count": 81,
   "id": "f569c59f",
   "metadata": {},
   "outputs": [],
   "source": [
    "model, loss = train(x_train, y_train, 100, 10, 0)"
   ]
  },
  {
   "cell_type": "code",
   "execution_count": 82,
   "id": "78d7b61e",
   "metadata": {},
   "outputs": [
    {
     "data": {
      "text/plain": [
       "tensor(2.3824, grad_fn=<NllLossBackward0>)"
      ]
     },
     "execution_count": 82,
     "metadata": {},
     "output_type": "execute_result"
    }
   ],
   "source": [
    "loss"
   ]
  },
  {
   "cell_type": "code",
   "execution_count": 83,
   "id": "19506a3f",
   "metadata": {},
   "outputs": [
    {
     "data": {
      "text/plain": [
       "2.3871989250183105"
      ]
     },
     "execution_count": 83,
     "metadata": {},
     "output_type": "execute_result"
    }
   ],
   "source": [
    "evaluate_loss(model, x_valid, y_valid)"
   ]
  },
  {
   "cell_type": "code",
   "execution_count": 84,
   "id": "cc11e7ed",
   "metadata": {},
   "outputs": [
    {
     "data": {
      "text/plain": [
       "2.3962411880493164"
      ]
     },
     "execution_count": 84,
     "metadata": {},
     "output_type": "execute_result"
    }
   ],
   "source": [
    "evaluate_loss(model, x_test, y_test)"
   ]
  },
  {
   "cell_type": "markdown",
   "id": "f6ba8336",
   "metadata": {},
   "source": [
    "Using `F.cross_entropy`, we dont have to compute the counts and probabilities ourselves instead we just have to pass the logits and labels to the function, also we can pass the weight given to each class and label smoothing"
   ]
  },
  {
   "cell_type": "markdown",
   "id": "048a7c30",
   "metadata": {},
   "source": [
    "### E06\n",
    "> meta-exercise! Think of a fun/interesting exercise and complete it."
   ]
  },
  {
   "cell_type": "markdown",
   "id": "531aaa64",
   "metadata": {},
   "source": [
    "Lets introduce bias, activation function and another layer of weight in the neural network "
   ]
  },
  {
   "cell_type": "code",
   "execution_count": 139,
   "id": "f78a36b6",
   "metadata": {},
   "outputs": [],
   "source": [
    "relu = torch.nn.ReLU() # activation"
   ]
  },
  {
   "cell_type": "code",
   "execution_count": 179,
   "id": "d9501379",
   "metadata": {},
   "outputs": [],
   "source": [
    "def train(X, y, epochs, lr, print_at_every_epoch = False, print_at_last=False):\n",
    "    num = X.shape[0]\n",
    "    W1 = torch.randn((54, 50), requires_grad=True, generator=g)\n",
    "    W2 = torch.randn((50, 27), requires_grad=True, generator=g)\n",
    "    b = torch.zeros(50, requires_grad=True)\n",
    "    \n",
    "    for i in range(epochs):\n",
    "        \n",
    "        #first layer\n",
    "        output = relu(X @ W1 + b)\n",
    "        \n",
    "        # second layer\n",
    "        logits = output @ W2\n",
    "        loss = F.cross_entropy(logits, y)\n",
    "        \n",
    "        if print_at_every_epoch: print(f'Epoch {i} Loss {loss}')\n",
    "        \n",
    "        W1.grad = None\n",
    "        W2.grad = None\n",
    "        b.grad = None\n",
    "        \n",
    "        loss.backward()\n",
    "        W1.data += -lr * W1.grad \n",
    "        W2.data += -lr * W2.grad \n",
    "        b.data += -lr * b.grad\n",
    "        \n",
    "    if print_at_last: print(f'Loss {loss}')\n",
    "    return W1, W2, b, loss"
   ]
  },
  {
   "cell_type": "code",
   "execution_count": 181,
   "id": "39a2b194",
   "metadata": {},
   "outputs": [
    {
     "name": "stdout",
     "output_type": "stream",
     "text": [
      "Epoch 0 Loss 14.356369018554688\n",
      "Epoch 1 Loss 6.445797443389893\n",
      "Epoch 2 Loss 4.845088958740234\n",
      "Epoch 3 Loss 3.610227346420288\n",
      "Epoch 4 Loss 3.2677083015441895\n",
      "Epoch 5 Loss 3.147526264190674\n",
      "Epoch 6 Loss 3.073038339614868\n",
      "Epoch 7 Loss 3.011115789413452\n",
      "Epoch 8 Loss 2.9635703563690186\n",
      "Epoch 9 Loss 2.9246973991394043\n",
      "Epoch 10 Loss 2.889881134033203\n",
      "Epoch 11 Loss 2.8589870929718018\n",
      "Epoch 12 Loss 2.8271501064300537\n",
      "Epoch 13 Loss 2.7997994422912598\n",
      "Epoch 14 Loss 2.777028799057007\n",
      "Epoch 15 Loss 2.7568700313568115\n",
      "Epoch 16 Loss 2.738692283630371\n",
      "Epoch 17 Loss 2.7220845222473145\n",
      "Epoch 18 Loss 2.7064385414123535\n",
      "Epoch 19 Loss 2.6917459964752197\n",
      "Epoch 20 Loss 2.678067922592163\n",
      "Epoch 21 Loss 2.664644956588745\n",
      "Epoch 22 Loss 2.65147066116333\n",
      "Epoch 23 Loss 2.6392555236816406\n",
      "Epoch 24 Loss 2.627774715423584\n",
      "Epoch 25 Loss 2.6169304847717285\n",
      "Epoch 26 Loss 2.606522798538208\n",
      "Epoch 27 Loss 2.5968828201293945\n",
      "Epoch 28 Loss 2.5878326892852783\n",
      "Epoch 29 Loss 2.5790443420410156\n",
      "Epoch 30 Loss 2.5707550048828125\n",
      "Epoch 31 Loss 2.5628936290740967\n",
      "Epoch 32 Loss 2.555367946624756\n",
      "Epoch 33 Loss 2.548060178756714\n",
      "Epoch 34 Loss 2.540865898132324\n",
      "Epoch 35 Loss 2.533935308456421\n",
      "Epoch 36 Loss 2.5273752212524414\n",
      "Epoch 37 Loss 2.5211167335510254\n",
      "Epoch 38 Loss 2.5150935649871826\n",
      "Epoch 39 Loss 2.5094754695892334\n",
      "Epoch 40 Loss 2.504162549972534\n",
      "Epoch 41 Loss 2.499098777770996\n",
      "Epoch 42 Loss 2.4943039417266846\n",
      "Epoch 43 Loss 2.4897239208221436\n",
      "Epoch 44 Loss 2.4852793216705322\n",
      "Epoch 45 Loss 2.4809038639068604\n",
      "Epoch 46 Loss 2.476732015609741\n",
      "Epoch 47 Loss 2.4729301929473877\n",
      "Epoch 48 Loss 2.4693245887756348\n",
      "Epoch 49 Loss 2.4662768840789795\n",
      "Epoch 50 Loss 2.463529348373413\n",
      "Epoch 51 Loss 2.4625327587127686\n",
      "Epoch 52 Loss 2.4603705406188965\n",
      "Epoch 53 Loss 2.4633936882019043\n",
      "Epoch 54 Loss 2.4599740505218506\n",
      "Epoch 55 Loss 2.4705214500427246\n",
      "Epoch 56 Loss 2.457852840423584\n",
      "Epoch 57 Loss 2.4718434810638428\n",
      "Epoch 58 Loss 2.4522647857666016\n",
      "Epoch 59 Loss 2.4626526832580566\n",
      "Epoch 60 Loss 2.4469213485717773\n",
      "Epoch 61 Loss 2.4574408531188965\n",
      "Epoch 62 Loss 2.4430127143859863\n",
      "Epoch 63 Loss 2.453047752380371\n",
      "Epoch 64 Loss 2.4383814334869385\n",
      "Epoch 65 Loss 2.447606325149536\n",
      "Epoch 66 Loss 2.434413194656372\n",
      "Epoch 67 Loss 2.44319486618042\n",
      "Epoch 68 Loss 2.430687665939331\n",
      "Epoch 69 Loss 2.439272165298462\n",
      "Epoch 70 Loss 2.4267563819885254\n",
      "Epoch 71 Loss 2.4345061779022217\n",
      "Epoch 72 Loss 2.423175096511841\n",
      "Epoch 73 Loss 2.430905818939209\n",
      "Epoch 74 Loss 2.4197804927825928\n",
      "Epoch 75 Loss 2.4282257556915283\n",
      "Epoch 76 Loss 2.4168829917907715\n",
      "Epoch 77 Loss 2.4250295162200928\n",
      "Epoch 78 Loss 2.41373610496521\n",
      "Epoch 79 Loss 2.4221179485321045\n",
      "Epoch 80 Loss 2.410914897918701\n",
      "Epoch 81 Loss 2.418801784515381\n",
      "Epoch 82 Loss 2.408095359802246\n",
      "Epoch 83 Loss 2.4158382415771484\n",
      "Epoch 84 Loss 2.405586004257202\n",
      "Epoch 85 Loss 2.413395643234253\n",
      "Epoch 86 Loss 2.403322696685791\n",
      "Epoch 87 Loss 2.4110255241394043\n",
      "Epoch 88 Loss 2.401683807373047\n",
      "Epoch 89 Loss 2.4100100994110107\n",
      "Epoch 90 Loss 2.3993263244628906\n",
      "Epoch 91 Loss 2.4081666469573975\n",
      "Epoch 92 Loss 2.3970468044281006\n",
      "Epoch 93 Loss 2.4049551486968994\n",
      "Epoch 94 Loss 2.3944251537323\n",
      "Epoch 95 Loss 2.4016761779785156\n",
      "Epoch 96 Loss 2.392186164855957\n",
      "Epoch 97 Loss 2.39933443069458\n",
      "Epoch 98 Loss 2.390073776245117\n",
      "Epoch 99 Loss 2.3971004486083984\n",
      "Loss 2.3971004486083984\n"
     ]
    }
   ],
   "source": [
    "params1, params2, bias,  loss = train(x_train, y_train, 100, 5, print_at_every_epoch = True, print_at_last = True)"
   ]
  },
  {
   "cell_type": "code",
   "execution_count": 182,
   "id": "6f8ae56b",
   "metadata": {},
   "outputs": [],
   "source": [
    "def evaluate_loss(X, y, W1, W2, b):\n",
    "    #first layer\n",
    "    output = relu(X @ W1 + b)\n",
    "        \n",
    "    # second layer\n",
    "    logits = output @ W2\n",
    "    loss = F.cross_entropy(logits, y)\n",
    "    return loss"
   ]
  },
  {
   "cell_type": "code",
   "execution_count": 183,
   "id": "5be7c6ee",
   "metadata": {},
   "outputs": [
    {
     "data": {
      "text/plain": [
       "tensor(2.3898, grad_fn=<NllLossBackward0>)"
      ]
     },
     "execution_count": 183,
     "metadata": {},
     "output_type": "execute_result"
    }
   ],
   "source": [
    "evaluate_loss(x_valid, y_valid, params1, params2, bias)"
   ]
  },
  {
   "cell_type": "code",
   "execution_count": 184,
   "id": "18a47dd3",
   "metadata": {},
   "outputs": [
    {
     "data": {
      "text/plain": [
       "tensor(2.4028, grad_fn=<NllLossBackward0>)"
      ]
     },
     "execution_count": 184,
     "metadata": {},
     "output_type": "execute_result"
    }
   ],
   "source": [
    "evaluate_loss(x_test, y_test, params1, params2, bias)"
   ]
  },
  {
   "cell_type": "code",
   "execution_count": null,
   "id": "dde7f220",
   "metadata": {},
   "outputs": [],
   "source": []
  }
 ],
 "metadata": {
  "kernelspec": {
   "display_name": "Python (zhnn)",
   "language": "python",
   "name": "zhnn"
  },
  "language_info": {
   "codemirror_mode": {
    "name": "ipython",
    "version": 3
   },
   "file_extension": ".py",
   "mimetype": "text/x-python",
   "name": "python",
   "nbconvert_exporter": "python",
   "pygments_lexer": "ipython3",
   "version": "3.7.12"
  }
 },
 "nbformat": 4,
 "nbformat_minor": 5
}
