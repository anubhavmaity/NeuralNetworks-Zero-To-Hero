{
 "cells": [
  {
   "cell_type": "markdown",
   "id": "05880f23",
   "metadata": {},
   "source": [
    "# Building makemore exercise"
   ]
  },
  {
   "cell_type": "markdown",
   "id": "c427c8ba",
   "metadata": {},
   "source": [
    "## E01\n",
    "> Train a trigram language model, i.e. take two characters as an input to predict the 3rd one. Feel free to use either counting or a neural net. Evaluate the loss; Did it improve over a bigram model?"
   ]
  },
  {
   "cell_type": "markdown",
   "id": "8eae4c6c",
   "metadata": {},
   "source": [
    "### Counting"
   ]
  },
  {
   "cell_type": "code",
   "execution_count": 78,
   "id": "f799f3ed",
   "metadata": {},
   "outputs": [],
   "source": [
    "from collections import defaultdict, Counter\n",
    "import numpy\n",
    "import torch\n",
    "from matplotlib import pyplot as plt\n",
    "import torch.nn.functional as F\n",
    "from torch.utils.data import random_split"
   ]
  },
  {
   "cell_type": "markdown",
   "id": "d7372178",
   "metadata": {},
   "source": [
    "Read in the data"
   ]
  },
  {
   "cell_type": "code",
   "execution_count": 24,
   "id": "d4631f0d",
   "metadata": {},
   "outputs": [],
   "source": [
    "with open('../data/names.txt') as f:\n",
    "    words = list(map(lambda x: x.strip(), f.readlines()))"
   ]
  },
  {
   "cell_type": "code",
   "execution_count": 25,
   "id": "946703a8",
   "metadata": {},
   "outputs": [
    {
     "data": {
      "text/plain": [
       "(['emma',\n",
       "  'olivia',\n",
       "  'ava',\n",
       "  'isabella',\n",
       "  'sophia',\n",
       "  'charlotte',\n",
       "  'mia',\n",
       "  'amelia',\n",
       "  'harper',\n",
       "  'evelyn'],\n",
       " 32033)"
      ]
     },
     "execution_count": 25,
     "metadata": {},
     "output_type": "execute_result"
    }
   ],
   "source": [
    "words[:10], len(words)"
   ]
  },
  {
   "cell_type": "code",
   "execution_count": 26,
   "id": "9c5a470d",
   "metadata": {},
   "outputs": [],
   "source": [
    "def generate_tripling(words):\n",
    "    for w in words:\n",
    "        chs = ['.'] + list(w) + ['.']\n",
    "        for ch1, ch2, ch3 in zip(chs, chs[1:], chs[2:]):\n",
    "            yield ch1, ch2, ch3"
   ]
  },
  {
   "cell_type": "code",
   "execution_count": 27,
   "id": "a68b8c0a",
   "metadata": {},
   "outputs": [],
   "source": [
    "alphabets = '.abcdefghijklmnopqrstuvwxyz'\n",
    "stoi = {char: alphabets.index(char) for char in alphabets}\n",
    "itos = dict(map(reversed, stoi.items()))"
   ]
  },
  {
   "cell_type": "code",
   "execution_count": 28,
   "id": "6cefa088",
   "metadata": {},
   "outputs": [
    {
     "name": "stdout",
     "output_type": "stream",
     "text": [
      ". e m\n",
      "e m m\n",
      "m m a\n",
      "m a .\n",
      ". o l\n",
      "o l i\n",
      "l i v\n",
      "i v i\n",
      "v i a\n",
      "i a .\n",
      ". a v\n",
      "a v a\n",
      "v a .\n"
     ]
    }
   ],
   "source": [
    "for ch1, ch2, ch3 in generate_tripling(words[:3]): print(ch1, ch2, ch3)"
   ]
  },
  {
   "cell_type": "code",
   "execution_count": 29,
   "id": "e187a330",
   "metadata": {},
   "outputs": [
    {
     "data": {
      "text/plain": [
       "196113"
      ]
     },
     "execution_count": 29,
     "metadata": {},
     "output_type": "execute_result"
    }
   ],
   "source": [
    "sum(1 for ch1, ch2, ch3 in generate_tripling(words))"
   ]
  },
  {
   "cell_type": "code",
   "execution_count": 30,
   "id": "58b6598a",
   "metadata": {},
   "outputs": [],
   "source": [
    "def generate_tripling_counter(words):\n",
    "    tripling_counter = Counter()\n",
    "    for ch1, ch2, ch3 in generate_tripling(words):\n",
    "        tripling_counter[(ch1, ch2, ch3)] += 1\n",
    "    return tripling_counter    "
   ]
  },
  {
   "cell_type": "code",
   "execution_count": 31,
   "id": "54d5467e",
   "metadata": {},
   "outputs": [
    {
     "data": {
      "text/plain": [
       "[(('a', 'h', '.'), 1714),\n",
       " (('n', 'a', '.'), 1673),\n",
       " (('a', 'n', '.'), 1509),\n",
       " (('o', 'n', '.'), 1503),\n",
       " (('.', 'm', 'a'), 1453),\n",
       " (('.', 'j', 'a'), 1255),\n",
       " (('.', 'k', 'a'), 1254),\n",
       " (('e', 'n', '.'), 1217),\n",
       " (('l', 'y', 'n'), 976),\n",
       " (('y', 'n', '.'), 953)]"
      ]
     },
     "execution_count": 31,
     "metadata": {},
     "output_type": "execute_result"
    }
   ],
   "source": [
    "tripling_counter = generate_tripling_counter(words)\n",
    "tripling_counter.most_common(10)"
   ]
  },
  {
   "cell_type": "code",
   "execution_count": 32,
   "id": "0da84c54",
   "metadata": {},
   "outputs": [
    {
     "data": {
      "text/plain": [
       "6037"
      ]
     },
     "execution_count": 32,
     "metadata": {},
     "output_type": "execute_result"
    }
   ],
   "source": [
    "len(tripling_counter)"
   ]
  },
  {
   "cell_type": "code",
   "execution_count": 33,
   "id": "48147548",
   "metadata": {},
   "outputs": [],
   "source": [
    "def create_matrix():\n",
    "    N = torch.zeros((27, 27, 27), dtype=torch.int32)\n",
    "    for ch1, ch2, ch3 in generate_tripling(words):\n",
    "        ix1 = stoi[ch1]\n",
    "        ix2 = stoi[ch2]\n",
    "        ix3 = stoi[ch3]\n",
    "        N[ix1, ix2, ix3] += 1\n",
    "    return N  "
   ]
  },
  {
   "cell_type": "code",
   "execution_count": 34,
   "id": "26bd4471",
   "metadata": {
    "scrolled": true
   },
   "outputs": [
    {
     "data": {
      "text/plain": [
       "torch.Size([27, 27, 27])"
      ]
     },
     "execution_count": 34,
     "metadata": {},
     "output_type": "execute_result"
    }
   ],
   "source": [
    "N = create_matrix(); N.shape"
   ]
  },
  {
   "cell_type": "code",
   "execution_count": 35,
   "id": "c6d7c5b2",
   "metadata": {},
   "outputs": [
    {
     "data": {
      "text/plain": [
       "tensor(1714, dtype=torch.int32)"
      ]
     },
     "execution_count": 35,
     "metadata": {},
     "output_type": "execute_result"
    }
   ],
   "source": [
    "N[1, 8, 0]"
   ]
  },
  {
   "cell_type": "code",
   "execution_count": 36,
   "id": "d74f7513",
   "metadata": {},
   "outputs": [],
   "source": [
    "P = (N+1).float()\n",
    "P = P/P.sum(-1, keepdims=True)"
   ]
  },
  {
   "cell_type": "code",
   "execution_count": 37,
   "id": "3a286139",
   "metadata": {},
   "outputs": [],
   "source": [
    "def generate_tripling_prob(words):\n",
    "    for ch1, ch2, ch3 in generate_tripling(words):\n",
    "        ix1 = stoi[ch1]\n",
    "        ix2 = stoi[ch2]\n",
    "        ix3 = stoi[ch3]\n",
    "        prob = P[ix1, ix2, ix3]\n",
    "        yield ch1, ch2, ch3, prob"
   ]
  },
  {
   "cell_type": "code",
   "execution_count": 38,
   "id": "6f5201fb",
   "metadata": {},
   "outputs": [
    {
     "name": "stdout",
     "output_type": "stream",
     "text": [
      ". e m tensor(0.1855)\n",
      "e m m tensor(0.1269)\n",
      "m m a tensor(0.3744)\n",
      "m a . tensor(0.0669)\n",
      ". o l tensor(0.2494)\n",
      "o l i tensor(0.1084)\n",
      "l i v tensor(0.0219)\n",
      "i v i tensor(0.2669)\n",
      "v i a tensor(0.1578)\n",
      "i a . tensor(0.3657)\n",
      ". a v tensor(0.0550)\n",
      "a v a tensor(0.1882)\n",
      "v a . tensor(0.1405)\n"
     ]
    }
   ],
   "source": [
    "for ch1, ch2, ch3, prob in generate_tripling_prob(words[:3]): \n",
    "    print(ch1, ch2, ch3, prob)"
   ]
  },
  {
   "cell_type": "code",
   "execution_count": 39,
   "id": "911d6c6f",
   "metadata": {},
   "outputs": [],
   "source": [
    "def generate_names(count, P):\n",
    "    g = torch.Generator().manual_seed(2147483647)\n",
    "    for i in range(count):\n",
    "        out = []\n",
    "        ix1, ix2 = 0, 0\n",
    "        while True:\n",
    "            p = P[ix1, ix2]\n",
    "            ix1 = ix2\n",
    "            ix2 = torch.multinomial(p, num_samples = 1, replacement = True).item()\n",
    "            out.append(itos[ix2])\n",
    "            if ix2 == 0:\n",
    "                break\n",
    "        yield ''.join(out)"
   ]
  },
  {
   "cell_type": "code",
   "execution_count": 40,
   "id": "bd68a119",
   "metadata": {},
   "outputs": [
    {
     "name": "stdout",
     "output_type": "stream",
     "text": [
      "adreyonth.\n",
      "paow.\n",
      "hair.\n",
      "zykkley.\n",
      "weighlyah.\n"
     ]
    }
   ],
   "source": [
    "for name in generate_names(5, P): print(name)"
   ]
  },
  {
   "cell_type": "code",
   "execution_count": 41,
   "id": "6ffbc0b9",
   "metadata": {},
   "outputs": [],
   "source": [
    "def log_likelihood(words):\n",
    "    sum_log = 0\n",
    "    count = 0\n",
    "    for ch1, ch2, ch3, prob in generate_tripling_prob(words):\n",
    "        sum_log += torch.log(prob)\n",
    "        count += 1\n",
    "    return sum_log/count"
   ]
  },
  {
   "cell_type": "code",
   "execution_count": 42,
   "id": "303fdbfa",
   "metadata": {},
   "outputs": [
    {
     "data": {
      "text/plain": [
       "27"
      ]
     },
     "execution_count": 42,
     "metadata": {},
     "output_type": "execute_result"
    }
   ],
   "source": [
    "len(P)"
   ]
  },
  {
   "cell_type": "code",
   "execution_count": 43,
   "id": "448e2f54",
   "metadata": {},
   "outputs": [
    {
     "data": {
      "text/plain": [
       "tensor(-2.0927)"
      ]
     },
     "execution_count": 43,
     "metadata": {},
     "output_type": "execute_result"
    }
   ],
   "source": [
    "log_likelihood(words)"
   ]
  },
  {
   "cell_type": "markdown",
   "id": "b002465a",
   "metadata": {},
   "source": [
    "negative log likelihood"
   ]
  },
  {
   "cell_type": "code",
   "execution_count": 44,
   "id": "599b6f54",
   "metadata": {},
   "outputs": [
    {
     "data": {
      "text/plain": [
       "tensor(2.0927)"
      ]
     },
     "execution_count": 44,
     "metadata": {},
     "output_type": "execute_result"
    }
   ],
   "source": [
    "- log_likelihood(words)"
   ]
  },
  {
   "cell_type": "markdown",
   "id": "3393714c",
   "metadata": {},
   "source": [
    "### NN"
   ]
  },
  {
   "cell_type": "code",
   "execution_count": 45,
   "id": "a57a25cf",
   "metadata": {},
   "outputs": [],
   "source": [
    "def generate_training_set(words):\n",
    "    xs1 = []\n",
    "    xs2 = []\n",
    "    ys = []\n",
    "    for ch1, ch2, ch3 in generate_tripling(words):\n",
    "        ix1 = stoi[ch1]\n",
    "        ix2 = stoi[ch2]\n",
    "        ix3 = stoi[ch3]\n",
    "        xs1.append(ix1)\n",
    "        xs2.append(ix2)\n",
    "        ys.append(ix3)\n",
    "    xs1 = torch.tensor(xs1)\n",
    "    xs2 = torch.tensor(xs2)\n",
    "    xs = torch.vstack((xs1, xs2)).permute(1, 0)\n",
    "    ys = torch.tensor(ys)\n",
    "    return xs, ys "
   ]
  },
  {
   "cell_type": "markdown",
   "id": "fc611c11",
   "metadata": {},
   "source": [
    "#### Sample dataset"
   ]
  },
  {
   "cell_type": "code",
   "execution_count": 46,
   "id": "861e9579",
   "metadata": {},
   "outputs": [],
   "source": [
    "xs, ys = generate_training_set(words[:1])"
   ]
  },
  {
   "cell_type": "code",
   "execution_count": 47,
   "id": "21479578",
   "metadata": {},
   "outputs": [
    {
     "data": {
      "text/plain": [
       "(torch.Size([4, 2]), torch.Size([4]))"
      ]
     },
     "execution_count": 47,
     "metadata": {},
     "output_type": "execute_result"
    }
   ],
   "source": [
    "xs.shape, ys.shape"
   ]
  },
  {
   "cell_type": "code",
   "execution_count": 48,
   "id": "28a67e26",
   "metadata": {},
   "outputs": [],
   "source": [
    "xenc = F.one_hot(xs, num_classes=27)"
   ]
  },
  {
   "cell_type": "code",
   "execution_count": 49,
   "id": "b5ba6b62",
   "metadata": {},
   "outputs": [
    {
     "data": {
      "text/plain": [
       "torch.Size([4, 2, 27])"
      ]
     },
     "execution_count": 49,
     "metadata": {},
     "output_type": "execute_result"
    }
   ],
   "source": [
    "xenc.shape"
   ]
  },
  {
   "cell_type": "code",
   "execution_count": 50,
   "id": "b0d21a1a",
   "metadata": {},
   "outputs": [
    {
     "data": {
      "text/plain": [
       "tensor([[[1, 0, 0, 0, 0, 0, 0, 0, 0, 0, 0, 0, 0, 0, 0, 0, 0, 0, 0, 0, 0, 0, 0,\n",
       "          0, 0, 0, 0],\n",
       "         [0, 0, 0, 0, 0, 1, 0, 0, 0, 0, 0, 0, 0, 0, 0, 0, 0, 0, 0, 0, 0, 0, 0,\n",
       "          0, 0, 0, 0]],\n",
       "\n",
       "        [[0, 0, 0, 0, 0, 1, 0, 0, 0, 0, 0, 0, 0, 0, 0, 0, 0, 0, 0, 0, 0, 0, 0,\n",
       "          0, 0, 0, 0],\n",
       "         [0, 0, 0, 0, 0, 0, 0, 0, 0, 0, 0, 0, 0, 1, 0, 0, 0, 0, 0, 0, 0, 0, 0,\n",
       "          0, 0, 0, 0]],\n",
       "\n",
       "        [[0, 0, 0, 0, 0, 0, 0, 0, 0, 0, 0, 0, 0, 1, 0, 0, 0, 0, 0, 0, 0, 0, 0,\n",
       "          0, 0, 0, 0],\n",
       "         [0, 0, 0, 0, 0, 0, 0, 0, 0, 0, 0, 0, 0, 1, 0, 0, 0, 0, 0, 0, 0, 0, 0,\n",
       "          0, 0, 0, 0]],\n",
       "\n",
       "        [[0, 0, 0, 0, 0, 0, 0, 0, 0, 0, 0, 0, 0, 1, 0, 0, 0, 0, 0, 0, 0, 0, 0,\n",
       "          0, 0, 0, 0],\n",
       "         [0, 1, 0, 0, 0, 0, 0, 0, 0, 0, 0, 0, 0, 0, 0, 0, 0, 0, 0, 0, 0, 0, 0,\n",
       "          0, 0, 0, 0]]])"
      ]
     },
     "execution_count": 50,
     "metadata": {},
     "output_type": "execute_result"
    }
   ],
   "source": [
    "xenc"
   ]
  },
  {
   "cell_type": "code",
   "execution_count": 51,
   "id": "fb6cb1f3",
   "metadata": {},
   "outputs": [],
   "source": [
    "xenc_flattened = xenc.view(4, -1).float()"
   ]
  },
  {
   "cell_type": "code",
   "execution_count": 52,
   "id": "b5408eea",
   "metadata": {},
   "outputs": [
    {
     "data": {
      "text/plain": [
       "tensor([[-0.7410,  0.5983, -0.0857,  ..., -0.5280, -1.9061,  0.5682],\n",
       "        [ 0.9326,  0.3938,  1.8656,  ..., -1.4538,  0.0360,  0.9010],\n",
       "        [ 0.2878,  0.0030, -1.1351,  ..., -1.6832,  0.2385, -1.9534],\n",
       "        ...,\n",
       "        [-0.3587, -1.5526,  0.6228,  ...,  0.4512,  0.5258, -0.4301],\n",
       "        [ 0.0477,  1.0556, -0.4355,  ...,  1.2603, -0.7227, -1.9504],\n",
       "        [-0.6375, -0.0029, -0.4922,  ..., -0.0877,  0.9230,  1.1457]])"
      ]
     },
     "execution_count": 52,
     "metadata": {},
     "output_type": "execute_result"
    }
   ],
   "source": [
    "W = torch.randn((27*2, 27))\n",
    "W"
   ]
  },
  {
   "cell_type": "code",
   "execution_count": 53,
   "id": "b75c0f43",
   "metadata": {},
   "outputs": [],
   "source": [
    "logits = xenc_flattened @ W # log counts"
   ]
  },
  {
   "cell_type": "code",
   "execution_count": 54,
   "id": "8cff7ec8",
   "metadata": {},
   "outputs": [],
   "source": [
    "counts = logits.exp()"
   ]
  },
  {
   "cell_type": "code",
   "execution_count": 55,
   "id": "7a3a21e0",
   "metadata": {},
   "outputs": [],
   "source": [
    "prob = counts/counts.sum(1, keepdims=True)"
   ]
  },
  {
   "cell_type": "code",
   "execution_count": 56,
   "id": "0eb6f9b4",
   "metadata": {},
   "outputs": [
    {
     "data": {
      "text/plain": [
       "torch.Size([4, 27])"
      ]
     },
     "execution_count": 56,
     "metadata": {},
     "output_type": "execute_result"
    }
   ],
   "source": [
    "prob.shape"
   ]
  },
  {
   "cell_type": "code",
   "execution_count": 57,
   "id": "a3065f08",
   "metadata": {},
   "outputs": [
    {
     "data": {
      "text/plain": [
       "tensor([13, 13,  1,  0])"
      ]
     },
     "execution_count": 57,
     "metadata": {},
     "output_type": "execute_result"
    }
   ],
   "source": [
    "ys"
   ]
  },
  {
   "cell_type": "code",
   "execution_count": 58,
   "id": "754b316b",
   "metadata": {},
   "outputs": [
    {
     "data": {
      "text/plain": [
       "(tensor(0.0352), tensor(0.0554), tensor(0.0118), tensor(0.0079))"
      ]
     },
     "execution_count": 58,
     "metadata": {},
     "output_type": "execute_result"
    }
   ],
   "source": [
    "prob[0, 13], prob[1, 13], prob[2, 1], prob[3, 0]"
   ]
  },
  {
   "cell_type": "code",
   "execution_count": 59,
   "id": "08016216",
   "metadata": {},
   "outputs": [
    {
     "data": {
      "text/plain": [
       "tensor(3.8801)"
      ]
     },
     "execution_count": 59,
     "metadata": {},
     "output_type": "execute_result"
    }
   ],
   "source": [
    "-prob[torch.arange(4), ys].log().mean()"
   ]
  },
  {
   "cell_type": "markdown",
   "id": "e70bb6c1",
   "metadata": {},
   "source": [
    "#### Train"
   ]
  },
  {
   "cell_type": "code",
   "execution_count": 60,
   "id": "b4034548",
   "metadata": {},
   "outputs": [],
   "source": [
    "xs, ys = generate_training_set(words)"
   ]
  },
  {
   "cell_type": "code",
   "execution_count": 61,
   "id": "c700e54d",
   "metadata": {},
   "outputs": [
    {
     "data": {
      "text/plain": [
       "(tensor([0, 5]), tensor(13))"
      ]
     },
     "execution_count": 61,
     "metadata": {},
     "output_type": "execute_result"
    }
   ],
   "source": [
    "xs[0], ys[0]"
   ]
  },
  {
   "cell_type": "code",
   "execution_count": 62,
   "id": "b509975d",
   "metadata": {},
   "outputs": [],
   "source": [
    "xenc = F.one_hot(xs, num_classes=27)\n",
    "xenc_flattened = xenc.view(len(xenc), -1).float()"
   ]
  },
  {
   "cell_type": "code",
   "execution_count": 63,
   "id": "49bed484",
   "metadata": {},
   "outputs": [
    {
     "data": {
      "text/plain": [
       "torch.float32"
      ]
     },
     "execution_count": 63,
     "metadata": {},
     "output_type": "execute_result"
    }
   ],
   "source": [
    "xenc_flattened.dtype"
   ]
  },
  {
   "cell_type": "code",
   "execution_count": 64,
   "id": "2bd853cb",
   "metadata": {},
   "outputs": [
    {
     "data": {
      "text/plain": [
       "(torch.Size([196113, 54]), torch.Size([196113]))"
      ]
     },
     "execution_count": 64,
     "metadata": {},
     "output_type": "execute_result"
    }
   ],
   "source": [
    "xenc_flattened.shape, ys.shape"
   ]
  },
  {
   "cell_type": "code",
   "execution_count": 65,
   "id": "059cb66b",
   "metadata": {},
   "outputs": [],
   "source": [
    "def train(X, y, epochs, lr):\n",
    "    num = X.shape[0]\n",
    "    print(num)\n",
    "    W = torch.randn((54, 27), requires_grad=True)\n",
    "    for i in range(epochs):\n",
    "        logits = X @ W\n",
    "        counts = logits.exp()\n",
    "        prob = counts/counts.sum(1, keepdims=True)\n",
    "        loss = -prob[torch.arange(num), y].log().mean()\n",
    "        print(f'Epoch {i} Loss {loss}')\n",
    "        \n",
    "        W.grad = None\n",
    "        loss.backward()\n",
    "        W.data += -lr * W.grad \n",
    "    return W"
   ]
  },
  {
   "cell_type": "code",
   "execution_count": 66,
   "id": "7ad4b2d6",
   "metadata": {},
   "outputs": [
    {
     "data": {
      "text/plain": [
       "196113"
      ]
     },
     "execution_count": 66,
     "metadata": {},
     "output_type": "execute_result"
    }
   ],
   "source": [
    "xenc_flattened.shape[0]"
   ]
  },
  {
   "cell_type": "code",
   "execution_count": 67,
   "id": "b05162c3",
   "metadata": {
    "scrolled": true
   },
   "outputs": [
    {
     "name": "stdout",
     "output_type": "stream",
     "text": [
      "196113\n",
      "Epoch 0 Loss 3.99216365814209\n",
      "Epoch 1 Loss 3.3084821701049805\n",
      "Epoch 2 Loss 3.0252816677093506\n",
      "Epoch 3 Loss 2.855762481689453\n",
      "Epoch 4 Loss 2.7456722259521484\n",
      "Epoch 5 Loss 2.6689293384552\n",
      "Epoch 6 Loss 2.613008975982666\n",
      "Epoch 7 Loss 2.570136547088623\n",
      "Epoch 8 Loss 2.5359742641448975\n",
      "Epoch 9 Loss 2.507956027984619\n",
      "Epoch 10 Loss 2.484590768814087\n",
      "Epoch 11 Loss 2.4648184776306152\n",
      "Epoch 12 Loss 2.4479176998138428\n",
      "Epoch 13 Loss 2.4333159923553467\n",
      "Epoch 14 Loss 2.4205989837646484\n",
      "Epoch 15 Loss 2.4094254970550537\n",
      "Epoch 16 Loss 2.399540424346924\n",
      "Epoch 17 Loss 2.3907299041748047\n",
      "Epoch 18 Loss 2.3828296661376953\n",
      "Epoch 19 Loss 2.3757007122039795\n",
      "Epoch 20 Loss 2.369234085083008\n",
      "Epoch 21 Loss 2.363337755203247\n",
      "Epoch 22 Loss 2.357937812805176\n",
      "Epoch 23 Loss 2.352971315383911\n",
      "Epoch 24 Loss 2.3483874797821045\n",
      "Epoch 25 Loss 2.344142436981201\n",
      "Epoch 26 Loss 2.3401999473571777\n",
      "Epoch 27 Loss 2.3365275859832764\n",
      "Epoch 28 Loss 2.3331000804901123\n",
      "Epoch 29 Loss 2.329892873764038\n",
      "Epoch 30 Loss 2.3268861770629883\n",
      "Epoch 31 Loss 2.324061870574951\n",
      "Epoch 32 Loss 2.321404218673706\n",
      "Epoch 33 Loss 2.318899393081665\n",
      "Epoch 34 Loss 2.3165347576141357\n",
      "Epoch 35 Loss 2.3142991065979004\n",
      "Epoch 36 Loss 2.3121821880340576\n",
      "Epoch 37 Loss 2.3101751804351807\n",
      "Epoch 38 Loss 2.308269739151001\n",
      "Epoch 39 Loss 2.3064582347869873\n",
      "Epoch 40 Loss 2.304733991622925\n",
      "Epoch 41 Loss 2.303090810775757\n",
      "Epoch 42 Loss 2.301523208618164\n",
      "Epoch 43 Loss 2.300025701522827\n",
      "Epoch 44 Loss 2.2985939979553223\n",
      "Epoch 45 Loss 2.2972230911254883\n",
      "Epoch 46 Loss 2.295910120010376\n",
      "Epoch 47 Loss 2.2946505546569824\n",
      "Epoch 48 Loss 2.2934415340423584\n",
      "Epoch 49 Loss 2.2922797203063965\n",
      "Epoch 50 Loss 2.2911624908447266\n",
      "Epoch 51 Loss 2.2900872230529785\n",
      "Epoch 52 Loss 2.2890515327453613\n",
      "Epoch 53 Loss 2.288053035736084\n",
      "Epoch 54 Loss 2.2870898246765137\n",
      "Epoch 55 Loss 2.2861599922180176\n",
      "Epoch 56 Loss 2.285261869430542\n",
      "Epoch 57 Loss 2.284393787384033\n",
      "Epoch 58 Loss 2.2835540771484375\n",
      "Epoch 59 Loss 2.2827413082122803\n",
      "Epoch 60 Loss 2.281954526901245\n",
      "Epoch 61 Loss 2.2811920642852783\n",
      "Epoch 62 Loss 2.2804532051086426\n",
      "Epoch 63 Loss 2.279736280441284\n",
      "Epoch 64 Loss 2.279041051864624\n",
      "Epoch 65 Loss 2.2783660888671875\n",
      "Epoch 66 Loss 2.277710199356079\n",
      "Epoch 67 Loss 2.277073383331299\n",
      "Epoch 68 Loss 2.276454210281372\n",
      "Epoch 69 Loss 2.2758522033691406\n",
      "Epoch 70 Loss 2.275266408920288\n",
      "Epoch 71 Loss 2.2746965885162354\n",
      "Epoch 72 Loss 2.274141788482666\n",
      "Epoch 73 Loss 2.273601531982422\n",
      "Epoch 74 Loss 2.2730753421783447\n",
      "Epoch 75 Loss 2.2725625038146973\n",
      "Epoch 76 Loss 2.2720627784729004\n",
      "Epoch 77 Loss 2.271575450897217\n",
      "Epoch 78 Loss 2.2711000442504883\n",
      "Epoch 79 Loss 2.2706363201141357\n",
      "Epoch 80 Loss 2.270183801651001\n",
      "Epoch 81 Loss 2.269742012023926\n",
      "Epoch 82 Loss 2.26931095123291\n",
      "Epoch 83 Loss 2.2688896656036377\n",
      "Epoch 84 Loss 2.2684781551361084\n",
      "Epoch 85 Loss 2.268076181411743\n",
      "Epoch 86 Loss 2.267683267593384\n",
      "Epoch 87 Loss 2.267298936843872\n",
      "Epoch 88 Loss 2.266923427581787\n",
      "Epoch 89 Loss 2.2665560245513916\n",
      "Epoch 90 Loss 2.2661967277526855\n",
      "Epoch 91 Loss 2.2658445835113525\n",
      "Epoch 92 Loss 2.265500545501709\n",
      "Epoch 93 Loss 2.2651636600494385\n",
      "Epoch 94 Loss 2.264833688735962\n",
      "Epoch 95 Loss 2.2645106315612793\n",
      "Epoch 96 Loss 2.2641942501068115\n",
      "Epoch 97 Loss 2.2638840675354004\n",
      "Epoch 98 Loss 2.263580560684204\n",
      "Epoch 99 Loss 2.2632827758789062\n"
     ]
    }
   ],
   "source": [
    "model = train(xenc_flattened, ys, 100, 50)"
   ]
  },
  {
   "cell_type": "markdown",
   "id": "6598424b",
   "metadata": {},
   "source": [
    "Here the loss is less, it is an improve over bigram model"
   ]
  },
  {
   "cell_type": "code",
   "execution_count": 68,
   "id": "d86e5623",
   "metadata": {},
   "outputs": [],
   "source": [
    "xenc = F.one_hot(torch.tensor([0, 0]), num_classes=27).float()"
   ]
  },
  {
   "cell_type": "code",
   "execution_count": 69,
   "id": "fb589b7f",
   "metadata": {},
   "outputs": [
    {
     "data": {
      "text/plain": [
       "torch.Size([2, 27])"
      ]
     },
     "execution_count": 69,
     "metadata": {},
     "output_type": "execute_result"
    }
   ],
   "source": [
    "xenc.shape"
   ]
  },
  {
   "cell_type": "markdown",
   "id": "b3a0e525",
   "metadata": {},
   "source": [
    "### Prediction"
   ]
  },
  {
   "cell_type": "code",
   "execution_count": 70,
   "id": "778af19b",
   "metadata": {},
   "outputs": [],
   "source": [
    "def generate_words():\n",
    "    for i in range(5):\n",
    "        out = []\n",
    "        ix1, ix2 = 0, 0\n",
    "        while True:\n",
    "            xenc = F.one_hot(torch.tensor([ix1, ix2]), num_classes=27).float()\n",
    "            xenc_flattened = xenc.view(1, -1)\n",
    "            logits = xenc_flattened @ model # predict log-counts\n",
    "            counts = logits.exp()\n",
    "            p = counts/counts.sum(1, keepdims=True)\n",
    "            ix1 = ix2\n",
    "            ix2 = torch.multinomial(p, num_samples=1, replacement=True).item()\n",
    "            out.append(itos[ix2])\n",
    "            if ix2 == 0:\n",
    "                break\n",
    "        print(''.join(out))"
   ]
  },
  {
   "cell_type": "code",
   "execution_count": 71,
   "id": "6759b43f",
   "metadata": {},
   "outputs": [
    {
     "name": "stdout",
     "output_type": "stream",
     "text": [
      "om.\n",
      "yaliany.\n",
      "la.\n",
      "unk.\n",
      "yna.\n"
     ]
    }
   ],
   "source": [
    "generate_words()"
   ]
  },
  {
   "cell_type": "markdown",
   "id": "562a098d",
   "metadata": {},
   "source": [
    "## E02\n",
    "> split up the dataset randomly into 80% train set, 10% dev set, 10% test set. Train the bigram and trigram models only on the training set. Evaluate them on dev and test splits. What can you see?"
   ]
  },
  {
   "cell_type": "code",
   "execution_count": 87,
   "id": "8ec6ace4",
   "metadata": {},
   "outputs": [],
   "source": [
    "xenc_num = xenc_flattened.shape[0]"
   ]
  },
  {
   "cell_type": "code",
   "execution_count": 98,
   "id": "fb0f6758",
   "metadata": {},
   "outputs": [
    {
     "data": {
      "text/plain": [
       "range(0, 196113)"
      ]
     },
     "execution_count": 98,
     "metadata": {},
     "output_type": "execute_result"
    }
   ],
   "source": [
    "range(xenc_num)"
   ]
  },
  {
   "cell_type": "code",
   "execution_count": 105,
   "id": "c6036972",
   "metadata": {},
   "outputs": [],
   "source": [
    "test_subset, valid_subset, train_subset = random_split(range(xenc_num), [0.1, 0.1, 0.8], \n",
    "                          generator=torch.Generator().manual_seed(42))"
   ]
  },
  {
   "cell_type": "code",
   "execution_count": 106,
   "id": "dc5f290a",
   "metadata": {},
   "outputs": [],
   "source": [
    "train_idx = torch.tensor(train_subset)\n",
    "valid_idx = torch.tensor(valid_subset)\n",
    "test_idx = torch.tensor(test_subset)"
   ]
  },
  {
   "cell_type": "code",
   "execution_count": 107,
   "id": "933cdac0",
   "metadata": {},
   "outputs": [
    {
     "data": {
      "text/plain": [
       "(torch.Size([156890]), torch.Size([19611]), torch.Size([19612]))"
      ]
     },
     "execution_count": 107,
     "metadata": {},
     "output_type": "execute_result"
    }
   ],
   "source": [
    "train_idx.shape, valid_idx.shape, test_idx.shape"
   ]
  },
  {
   "cell_type": "code",
   "execution_count": 111,
   "id": "d848c3a5",
   "metadata": {},
   "outputs": [],
   "source": [
    "x_train, y_train = xenc_flattened[train_idx], ys[train_idx]\n",
    "x_valid, y_valid = xenc_flattened[valid_idx], ys[valid_idx]\n",
    "x_test, y_test = xenc_flattened[test_idx], ys[test_idx]"
   ]
  },
  {
   "cell_type": "code",
   "execution_count": 135,
   "id": "43328adb",
   "metadata": {},
   "outputs": [
    {
     "name": "stdout",
     "output_type": "stream",
     "text": [
      "156890\n",
      "Epoch 0 Loss 4.207601547241211\n",
      "Epoch 1 Loss 4.009314060211182\n",
      "Epoch 2 Loss 3.8391053676605225\n",
      "Epoch 3 Loss 3.690490961074829\n",
      "Epoch 4 Loss 3.560753107070923\n",
      "Epoch 5 Loss 3.448688507080078\n",
      "Epoch 6 Loss 3.3531737327575684\n",
      "Epoch 7 Loss 3.272313117980957\n",
      "Epoch 8 Loss 3.203514337539673\n",
      "Epoch 9 Loss 3.1441755294799805\n",
      "Epoch 10 Loss 3.0922048091888428\n",
      "Epoch 11 Loss 3.0461015701293945\n",
      "Epoch 12 Loss 3.0048084259033203\n",
      "Epoch 13 Loss 2.9675512313842773\n",
      "Epoch 14 Loss 2.933732509613037\n",
      "Epoch 15 Loss 2.902869939804077\n",
      "Epoch 16 Loss 2.8745672702789307\n",
      "Epoch 17 Loss 2.8484928607940674\n",
      "Epoch 18 Loss 2.8243699073791504\n",
      "Epoch 19 Loss 2.801967144012451\n",
      "Epoch 20 Loss 2.781090259552002\n",
      "Epoch 21 Loss 2.7615761756896973\n",
      "Epoch 22 Loss 2.7432875633239746\n",
      "Epoch 23 Loss 2.726107358932495\n",
      "Epoch 24 Loss 2.7099366188049316\n",
      "Epoch 25 Loss 2.694688081741333\n",
      "Epoch 26 Loss 2.6802890300750732\n",
      "Epoch 27 Loss 2.666672945022583\n",
      "Epoch 28 Loss 2.653782844543457\n",
      "Epoch 29 Loss 2.6415672302246094\n",
      "Epoch 30 Loss 2.6299803256988525\n",
      "Epoch 31 Loss 2.61898136138916\n",
      "Epoch 32 Loss 2.608531951904297\n",
      "Epoch 33 Loss 2.598598003387451\n",
      "Epoch 34 Loss 2.5891480445861816\n",
      "Epoch 35 Loss 2.580153465270996\n",
      "Epoch 36 Loss 2.571587085723877\n",
      "Epoch 37 Loss 2.5634233951568604\n",
      "Epoch 38 Loss 2.555640459060669\n",
      "Epoch 39 Loss 2.548214912414551\n",
      "Epoch 40 Loss 2.5411272048950195\n",
      "Epoch 41 Loss 2.5343573093414307\n",
      "Epoch 42 Loss 2.527888059616089\n",
      "Epoch 43 Loss 2.5217015743255615\n",
      "Epoch 44 Loss 2.515782356262207\n",
      "Epoch 45 Loss 2.510114908218384\n",
      "Epoch 46 Loss 2.504685163497925\n",
      "Epoch 47 Loss 2.4994797706604004\n",
      "Epoch 48 Loss 2.494485378265381\n",
      "Epoch 49 Loss 2.4896907806396484\n",
      "Epoch 50 Loss 2.485084295272827\n",
      "Epoch 51 Loss 2.4806556701660156\n",
      "Epoch 52 Loss 2.4763946533203125\n",
      "Epoch 53 Loss 2.472291946411133\n",
      "Epoch 54 Loss 2.468339204788208\n",
      "Epoch 55 Loss 2.4645276069641113\n",
      "Epoch 56 Loss 2.4608500003814697\n",
      "Epoch 57 Loss 2.457298755645752\n",
      "Epoch 58 Loss 2.4538674354553223\n",
      "Epoch 59 Loss 2.450549602508545\n",
      "Epoch 60 Loss 2.4473392963409424\n",
      "Epoch 61 Loss 2.4442310333251953\n",
      "Epoch 62 Loss 2.4412200450897217\n",
      "Epoch 63 Loss 2.438300609588623\n",
      "Epoch 64 Loss 2.435469150543213\n",
      "Epoch 65 Loss 2.4327211380004883\n",
      "Epoch 66 Loss 2.4300522804260254\n",
      "Epoch 67 Loss 2.427459239959717\n",
      "Epoch 68 Loss 2.424938201904297\n",
      "Epoch 69 Loss 2.4224863052368164\n",
      "Epoch 70 Loss 2.420100212097168\n",
      "Epoch 71 Loss 2.4177775382995605\n",
      "Epoch 72 Loss 2.4155149459838867\n",
      "Epoch 73 Loss 2.4133100509643555\n",
      "Epoch 74 Loss 2.411161184310913\n",
      "Epoch 75 Loss 2.409064769744873\n",
      "Epoch 76 Loss 2.407020092010498\n",
      "Epoch 77 Loss 2.405024290084839\n",
      "Epoch 78 Loss 2.4030754566192627\n",
      "Epoch 79 Loss 2.401172399520874\n",
      "Epoch 80 Loss 2.399312973022461\n",
      "Epoch 81 Loss 2.397495746612549\n",
      "Epoch 82 Loss 2.395719289779663\n",
      "Epoch 83 Loss 2.39398193359375\n",
      "Epoch 84 Loss 2.392282485961914\n",
      "Epoch 85 Loss 2.3906192779541016\n",
      "Epoch 86 Loss 2.3889918327331543\n",
      "Epoch 87 Loss 2.3873984813690186\n",
      "Epoch 88 Loss 2.385838270187378\n",
      "Epoch 89 Loss 2.384309768676758\n",
      "Epoch 90 Loss 2.3828125\n",
      "Epoch 91 Loss 2.38134503364563\n",
      "Epoch 92 Loss 2.379906415939331\n",
      "Epoch 93 Loss 2.3784964084625244\n",
      "Epoch 94 Loss 2.3771138191223145\n",
      "Epoch 95 Loss 2.3757572174072266\n",
      "Epoch 96 Loss 2.37442684173584\n",
      "Epoch 97 Loss 2.3731210231781006\n",
      "Epoch 98 Loss 2.371840238571167\n",
      "Epoch 99 Loss 2.3705825805664062\n"
     ]
    }
   ],
   "source": [
    "model_trigram = train(x_train, y_train, 100, 10)"
   ]
  },
  {
   "cell_type": "markdown",
   "id": "e5fade0b",
   "metadata": {},
   "source": [
    "Loss on the dev set"
   ]
  },
  {
   "cell_type": "code",
   "execution_count": 133,
   "id": "7cceeff4",
   "metadata": {},
   "outputs": [
    {
     "data": {
      "text/plain": [
       "tensor(2.3278, grad_fn=<NegBackward0>)"
      ]
     },
     "execution_count": 133,
     "metadata": {},
     "output_type": "execute_result"
    }
   ],
   "source": [
    "logits_valid = x_valid @ model_trigram\n",
    "counts_valid = logits_valid.exp()\n",
    "pred_valid = counts_valid/counts_valid.sum(1, keepdims=True)\n",
    "- pred_valid[torch.arange(x_valid.shape[0]), y_valid].log().mean()"
   ]
  },
  {
   "cell_type": "markdown",
   "id": "82bcd835",
   "metadata": {},
   "source": [
    "Loss on the test set"
   ]
  },
  {
   "cell_type": "code",
   "execution_count": 134,
   "id": "37ef246b",
   "metadata": {},
   "outputs": [
    {
     "data": {
      "text/plain": [
       "tensor(2.3411, grad_fn=<NegBackward0>)"
      ]
     },
     "execution_count": 134,
     "metadata": {},
     "output_type": "execute_result"
    }
   ],
   "source": [
    "logits_test = x_test @ model_trigram\n",
    "counts_test = logits_test.exp()\n",
    "pred_test = counts_test/counts_test.sum(1, keepdims=True)\n",
    "- pred_test[torch.arange(x_test.shape[0]), y_test].log().mean()"
   ]
  },
  {
   "cell_type": "markdown",
   "id": "6ff05689",
   "metadata": {},
   "source": [
    "The loss on test and validation dataset are about the same for the trigram model on the training set."
   ]
  },
  {
   "cell_type": "markdown",
   "id": "aad0b206",
   "metadata": {},
   "source": [
    "Same we can for the bigram model that I have computed in `nbs/lecture_notes/02_building_makemore.ipynb`. The validation and test dataset have about the same losses to the training set."
   ]
  },
  {
   "cell_type": "markdown",
   "id": "fcbf51d7",
   "metadata": {},
   "source": [
    "The trigram is better than bigram"
   ]
  },
  {
   "cell_type": "code",
   "execution_count": null,
   "id": "5daaf977",
   "metadata": {},
   "outputs": [],
   "source": []
  }
 ],
 "metadata": {
  "kernelspec": {
   "display_name": "zhnn",
   "language": "python",
   "name": "zhnn"
  },
  "language_info": {
   "codemirror_mode": {
    "name": "ipython",
    "version": 3
   },
   "file_extension": ".py",
   "mimetype": "text/x-python",
   "name": "python",
   "nbconvert_exporter": "python",
   "pygments_lexer": "ipython3",
   "version": "3.7.12"
  }
 },
 "nbformat": 4,
 "nbformat_minor": 5
}
