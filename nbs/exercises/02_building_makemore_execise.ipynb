{
 "cells": [
  {
   "cell_type": "markdown",
   "id": "05880f23",
   "metadata": {},
   "source": [
    "# Building makemore exercise"
   ]
  },
  {
   "cell_type": "markdown",
   "id": "c7b39d72",
   "metadata": {},
   "source": [
    "## Imports"
   ]
  },
  {
   "cell_type": "code",
   "execution_count": null,
   "id": "ded7e6f5",
   "metadata": {},
   "outputs": [],
   "source": [
    "from collections import defaultdict, Counter\n",
    "import numpy\n",
    "import torch\n",
    "from matplotlib import pyplot as plt\n",
    "import torch.nn.functional as F\n",
    "from torch.utils.data import random_split\n",
    "import torch.nn.functional as F"
   ]
  },
  {
   "cell_type": "code",
   "execution_count": null,
   "id": "f8e35f49",
   "metadata": {},
   "outputs": [],
   "source": [
    "g = torch.Generator().manual_seed(2147483647)"
   ]
  },
  {
   "cell_type": "markdown",
   "id": "c427c8ba",
   "metadata": {},
   "source": [
    "## E01\n",
    "> Train a trigram language model, i.e. take two characters as an input to predict the 3rd one. Feel free to use either counting or a neural net. Evaluate the loss; Did it improve over a bigram model?"
   ]
  },
  {
   "cell_type": "markdown",
   "id": "8eae4c6c",
   "metadata": {},
   "source": [
    "### Counting"
   ]
  },
  {
   "cell_type": "markdown",
   "id": "d7372178",
   "metadata": {},
   "source": [
    "Read in the data"
   ]
  },
  {
   "cell_type": "code",
   "execution_count": null,
   "id": "d4631f0d",
   "metadata": {},
   "outputs": [],
   "source": [
    "with open('../data/names.txt') as f:\n",
    "    words = list(map(lambda x: x.strip(), f.readlines()))"
   ]
  },
  {
   "cell_type": "code",
   "execution_count": null,
   "id": "946703a8",
   "metadata": {},
   "outputs": [
    {
     "data": {
      "text/plain": [
       "(['emma',\n",
       "  'olivia',\n",
       "  'ava',\n",
       "  'isabella',\n",
       "  'sophia',\n",
       "  'charlotte',\n",
       "  'mia',\n",
       "  'amelia',\n",
       "  'harper',\n",
       "  'evelyn'],\n",
       " 32033)"
      ]
     },
     "execution_count": null,
     "metadata": {},
     "output_type": "execute_result"
    }
   ],
   "source": [
    "words[:10], len(words)"
   ]
  },
  {
   "cell_type": "code",
   "execution_count": null,
   "id": "9c5a470d",
   "metadata": {},
   "outputs": [],
   "source": [
    "def generate_tripling(words):\n",
    "    for w in words:\n",
    "        chs = ['.'] + list(w) + ['.']\n",
    "        for ch1, ch2, ch3 in zip(chs, chs[1:], chs[2:]):\n",
    "            yield ch1, ch2, ch3"
   ]
  },
  {
   "cell_type": "code",
   "execution_count": null,
   "id": "a68b8c0a",
   "metadata": {},
   "outputs": [],
   "source": [
    "alphabets = '.abcdefghijklmnopqrstuvwxyz'\n",
    "stoi = {char: alphabets.index(char) for char in alphabets}\n",
    "itos = dict(map(reversed, stoi.items()))"
   ]
  },
  {
   "cell_type": "code",
   "execution_count": null,
   "id": "6cefa088",
   "metadata": {},
   "outputs": [
    {
     "name": "stdout",
     "output_type": "stream",
     "text": [
      ". e m\n",
      "e m m\n",
      "m m a\n",
      "m a .\n",
      ". o l\n",
      "o l i\n",
      "l i v\n",
      "i v i\n",
      "v i a\n",
      "i a .\n",
      ". a v\n",
      "a v a\n",
      "v a .\n"
     ]
    }
   ],
   "source": [
    "for ch1, ch2, ch3 in generate_tripling(words[:3]): print(ch1, ch2, ch3)"
   ]
  },
  {
   "cell_type": "code",
   "execution_count": null,
   "id": "e187a330",
   "metadata": {},
   "outputs": [
    {
     "data": {
      "text/plain": [
       "196113"
      ]
     },
     "execution_count": null,
     "metadata": {},
     "output_type": "execute_result"
    }
   ],
   "source": [
    "sum(1 for ch1, ch2, ch3 in generate_tripling(words))"
   ]
  },
  {
   "cell_type": "code",
   "execution_count": null,
   "id": "58b6598a",
   "metadata": {},
   "outputs": [],
   "source": [
    "def generate_tripling_counter(words):\n",
    "    tripling_counter = Counter()\n",
    "    for ch1, ch2, ch3 in generate_tripling(words):\n",
    "        tripling_counter[(ch1, ch2, ch3)] += 1\n",
    "    return tripling_counter    "
   ]
  },
  {
   "cell_type": "code",
   "execution_count": null,
   "id": "54d5467e",
   "metadata": {},
   "outputs": [
    {
     "data": {
      "text/plain": [
       "[(('a', 'h', '.'), 1714),\n",
       " (('n', 'a', '.'), 1673),\n",
       " (('a', 'n', '.'), 1509),\n",
       " (('o', 'n', '.'), 1503),\n",
       " (('.', 'm', 'a'), 1453),\n",
       " (('.', 'j', 'a'), 1255),\n",
       " (('.', 'k', 'a'), 1254),\n",
       " (('e', 'n', '.'), 1217),\n",
       " (('l', 'y', 'n'), 976),\n",
       " (('y', 'n', '.'), 953)]"
      ]
     },
     "execution_count": null,
     "metadata": {},
     "output_type": "execute_result"
    }
   ],
   "source": [
    "tripling_counter = generate_tripling_counter(words)\n",
    "tripling_counter.most_common(10)"
   ]
  },
  {
   "cell_type": "code",
   "execution_count": null,
   "id": "0da84c54",
   "metadata": {},
   "outputs": [
    {
     "data": {
      "text/plain": [
       "6037"
      ]
     },
     "execution_count": null,
     "metadata": {},
     "output_type": "execute_result"
    }
   ],
   "source": [
    "len(tripling_counter)"
   ]
  },
  {
   "cell_type": "code",
   "execution_count": null,
   "id": "48147548",
   "metadata": {},
   "outputs": [],
   "source": [
    "def create_matrix():\n",
    "    N = torch.zeros((27, 27, 27), dtype=torch.int32)\n",
    "    for ch1, ch2, ch3 in generate_tripling(words):\n",
    "        ix1 = stoi[ch1]\n",
    "        ix2 = stoi[ch2]\n",
    "        ix3 = stoi[ch3]\n",
    "        N[ix1, ix2, ix3] += 1\n",
    "    return N  "
   ]
  },
  {
   "cell_type": "code",
   "execution_count": null,
   "id": "26bd4471",
   "metadata": {},
   "outputs": [
    {
     "data": {
      "text/plain": [
       "torch.Size([27, 27, 27])"
      ]
     },
     "execution_count": null,
     "metadata": {},
     "output_type": "execute_result"
    }
   ],
   "source": [
    "N = create_matrix(); N.shape"
   ]
  },
  {
   "cell_type": "code",
   "execution_count": null,
   "id": "c6d7c5b2",
   "metadata": {},
   "outputs": [
    {
     "data": {
      "text/plain": [
       "tensor(1714, dtype=torch.int32)"
      ]
     },
     "execution_count": null,
     "metadata": {},
     "output_type": "execute_result"
    }
   ],
   "source": [
    "N[1, 8, 0]"
   ]
  },
  {
   "cell_type": "code",
   "execution_count": null,
   "id": "d74f7513",
   "metadata": {},
   "outputs": [],
   "source": [
    "P = (N+1).float()\n",
    "P = P/P.sum(-1, keepdims=True)"
   ]
  },
  {
   "cell_type": "code",
   "execution_count": null,
   "id": "3a286139",
   "metadata": {},
   "outputs": [],
   "source": [
    "def generate_tripling_prob(words):\n",
    "    for ch1, ch2, ch3 in generate_tripling(words):\n",
    "        ix1 = stoi[ch1]\n",
    "        ix2 = stoi[ch2]\n",
    "        ix3 = stoi[ch3]\n",
    "        prob = P[ix1, ix2, ix3]\n",
    "        yield ch1, ch2, ch3, prob"
   ]
  },
  {
   "cell_type": "code",
   "execution_count": null,
   "id": "6f5201fb",
   "metadata": {},
   "outputs": [
    {
     "name": "stdout",
     "output_type": "stream",
     "text": [
      ". e m tensor(0.1855)\n",
      "e m m tensor(0.1269)\n",
      "m m a tensor(0.3744)\n",
      "m a . tensor(0.0669)\n",
      ". o l tensor(0.2494)\n",
      "o l i tensor(0.1084)\n",
      "l i v tensor(0.0219)\n",
      "i v i tensor(0.2669)\n",
      "v i a tensor(0.1578)\n",
      "i a . tensor(0.3657)\n",
      ". a v tensor(0.0550)\n",
      "a v a tensor(0.1882)\n",
      "v a . tensor(0.1405)\n"
     ]
    }
   ],
   "source": [
    "for ch1, ch2, ch3, prob in generate_tripling_prob(words[:3]): \n",
    "    print(ch1, ch2, ch3, prob)"
   ]
  },
  {
   "cell_type": "code",
   "execution_count": null,
   "id": "911d6c6f",
   "metadata": {},
   "outputs": [],
   "source": [
    "def generate_names(count, P):\n",
    "    for i in range(count):\n",
    "        out = []\n",
    "        ix1, ix2 = 0, 0\n",
    "        while True:\n",
    "            p = P[ix1, ix2]\n",
    "            ix1 = ix2\n",
    "            ix2 = torch.multinomial(p, num_samples = 1, replacement = True, generator=g).item()\n",
    "            out.append(itos[ix2])\n",
    "            if ix2 == 0:\n",
    "                break\n",
    "        yield ''.join(out)"
   ]
  },
  {
   "cell_type": "code",
   "execution_count": null,
   "id": "bd68a119",
   "metadata": {},
   "outputs": [
    {
     "name": "stdout",
     "output_type": "stream",
     "text": [
      "quia.\n",
      "yu.\n",
      "quinslyntien.\n",
      "nolliahi.\n",
      "ha.\n"
     ]
    }
   ],
   "source": [
    "for name in generate_names(5, P): print(name)"
   ]
  },
  {
   "cell_type": "code",
   "execution_count": null,
   "id": "6ffbc0b9",
   "metadata": {},
   "outputs": [],
   "source": [
    "def log_likelihood(words):\n",
    "    sum_log = 0\n",
    "    count = 0\n",
    "    for ch1, ch2, ch3, prob in generate_tripling_prob(words):\n",
    "        sum_log += torch.log(prob)\n",
    "        count += 1\n",
    "    return sum_log/count"
   ]
  },
  {
   "cell_type": "code",
   "execution_count": null,
   "id": "303fdbfa",
   "metadata": {},
   "outputs": [
    {
     "data": {
      "text/plain": [
       "27"
      ]
     },
     "execution_count": null,
     "metadata": {},
     "output_type": "execute_result"
    }
   ],
   "source": [
    "len(P)"
   ]
  },
  {
   "cell_type": "code",
   "execution_count": null,
   "id": "448e2f54",
   "metadata": {},
   "outputs": [
    {
     "data": {
      "text/plain": [
       "tensor(-2.0927)"
      ]
     },
     "execution_count": null,
     "metadata": {},
     "output_type": "execute_result"
    }
   ],
   "source": [
    "log_likelihood(words)"
   ]
  },
  {
   "cell_type": "markdown",
   "id": "b002465a",
   "metadata": {},
   "source": [
    "negative log likelihood"
   ]
  },
  {
   "cell_type": "code",
   "execution_count": null,
   "id": "599b6f54",
   "metadata": {},
   "outputs": [
    {
     "data": {
      "text/plain": [
       "tensor(2.0927)"
      ]
     },
     "execution_count": null,
     "metadata": {},
     "output_type": "execute_result"
    }
   ],
   "source": [
    "- log_likelihood(words)"
   ]
  },
  {
   "cell_type": "markdown",
   "id": "3393714c",
   "metadata": {},
   "source": [
    "### NN"
   ]
  },
  {
   "cell_type": "code",
   "execution_count": null,
   "id": "a57a25cf",
   "metadata": {},
   "outputs": [],
   "source": [
    "def generate_training_set(words):\n",
    "    xs1 = []\n",
    "    xs2 = []\n",
    "    ys = []\n",
    "    for ch1, ch2, ch3 in generate_tripling(words):\n",
    "        ix1 = stoi[ch1]\n",
    "        ix2 = stoi[ch2]\n",
    "        ix3 = stoi[ch3]\n",
    "        xs1.append(ix1)\n",
    "        xs2.append(ix2)\n",
    "        ys.append(ix3)\n",
    "    xs1 = torch.tensor(xs1)\n",
    "    xs2 = torch.tensor(xs2)\n",
    "    xs = torch.vstack((xs1, xs2)).permute(1, 0)\n",
    "    ys = torch.tensor(ys)\n",
    "    return xs, ys "
   ]
  },
  {
   "cell_type": "markdown",
   "id": "fc611c11",
   "metadata": {},
   "source": [
    "#### Sample dataset"
   ]
  },
  {
   "cell_type": "code",
   "execution_count": null,
   "id": "861e9579",
   "metadata": {},
   "outputs": [],
   "source": [
    "xs, ys = generate_training_set(words[:1])"
   ]
  },
  {
   "cell_type": "code",
   "execution_count": null,
   "id": "21479578",
   "metadata": {},
   "outputs": [
    {
     "data": {
      "text/plain": [
       "(torch.Size([4, 2]), torch.Size([4]))"
      ]
     },
     "execution_count": null,
     "metadata": {},
     "output_type": "execute_result"
    }
   ],
   "source": [
    "xs.shape, ys.shape"
   ]
  },
  {
   "cell_type": "code",
   "execution_count": null,
   "id": "28a67e26",
   "metadata": {},
   "outputs": [],
   "source": [
    "xenc = F.one_hot(xs, num_classes=27)"
   ]
  },
  {
   "cell_type": "code",
   "execution_count": null,
   "id": "b5ba6b62",
   "metadata": {},
   "outputs": [
    {
     "data": {
      "text/plain": [
       "torch.Size([4, 2, 27])"
      ]
     },
     "execution_count": null,
     "metadata": {},
     "output_type": "execute_result"
    }
   ],
   "source": [
    "xenc.shape"
   ]
  },
  {
   "cell_type": "code",
   "execution_count": null,
   "id": "b0d21a1a",
   "metadata": {},
   "outputs": [
    {
     "data": {
      "text/plain": [
       "tensor([[[1, 0, 0, 0, 0, 0, 0, 0, 0, 0, 0, 0, 0, 0, 0, 0, 0, 0, 0, 0, 0, 0, 0,\n",
       "          0, 0, 0, 0],\n",
       "         [0, 0, 0, 0, 0, 1, 0, 0, 0, 0, 0, 0, 0, 0, 0, 0, 0, 0, 0, 0, 0, 0, 0,\n",
       "          0, 0, 0, 0]],\n",
       "\n",
       "        [[0, 0, 0, 0, 0, 1, 0, 0, 0, 0, 0, 0, 0, 0, 0, 0, 0, 0, 0, 0, 0, 0, 0,\n",
       "          0, 0, 0, 0],\n",
       "         [0, 0, 0, 0, 0, 0, 0, 0, 0, 0, 0, 0, 0, 1, 0, 0, 0, 0, 0, 0, 0, 0, 0,\n",
       "          0, 0, 0, 0]],\n",
       "\n",
       "        [[0, 0, 0, 0, 0, 0, 0, 0, 0, 0, 0, 0, 0, 1, 0, 0, 0, 0, 0, 0, 0, 0, 0,\n",
       "          0, 0, 0, 0],\n",
       "         [0, 0, 0, 0, 0, 0, 0, 0, 0, 0, 0, 0, 0, 1, 0, 0, 0, 0, 0, 0, 0, 0, 0,\n",
       "          0, 0, 0, 0]],\n",
       "\n",
       "        [[0, 0, 0, 0, 0, 0, 0, 0, 0, 0, 0, 0, 0, 1, 0, 0, 0, 0, 0, 0, 0, 0, 0,\n",
       "          0, 0, 0, 0],\n",
       "         [0, 1, 0, 0, 0, 0, 0, 0, 0, 0, 0, 0, 0, 0, 0, 0, 0, 0, 0, 0, 0, 0, 0,\n",
       "          0, 0, 0, 0]]])"
      ]
     },
     "execution_count": null,
     "metadata": {},
     "output_type": "execute_result"
    }
   ],
   "source": [
    "xenc"
   ]
  },
  {
   "cell_type": "code",
   "execution_count": null,
   "id": "fb6cb1f3",
   "metadata": {},
   "outputs": [],
   "source": [
    "xenc_flattened = xenc.view(4, -1).float()"
   ]
  },
  {
   "cell_type": "code",
   "execution_count": null,
   "id": "b5408eea",
   "metadata": {},
   "outputs": [
    {
     "data": {
      "text/plain": [
       "tensor([[ 1.7457,  2.1346, -0.8561,  ..., -1.3257,  0.1467,  0.1691],\n",
       "        [-1.5397, -0.7276,  1.1491,  ...,  0.0793,  0.9019,  1.2028],\n",
       "        [-0.3794, -0.9875, -0.1380,  ..., -0.5608, -0.2000,  0.2345],\n",
       "        ...,\n",
       "        [-1.1553,  0.0718,  1.3791,  ...,  1.7574, -0.8094,  1.5089],\n",
       "        [-1.3766,  0.0908, -0.4618,  ...,  1.4289, -0.3785, -1.1138],\n",
       "        [-0.7575,  0.9740, -0.0826,  ..., -0.0362,  1.4447, -1.0328]])"
      ]
     },
     "execution_count": null,
     "metadata": {},
     "output_type": "execute_result"
    }
   ],
   "source": [
    "W = torch.randn((27*2, 27), generator=g)\n",
    "W"
   ]
  },
  {
   "cell_type": "code",
   "execution_count": null,
   "id": "b75c0f43",
   "metadata": {},
   "outputs": [],
   "source": [
    "logits = xenc_flattened @ W # log counts"
   ]
  },
  {
   "cell_type": "code",
   "execution_count": null,
   "id": "8cff7ec8",
   "metadata": {},
   "outputs": [],
   "source": [
    "counts = logits.exp()"
   ]
  },
  {
   "cell_type": "code",
   "execution_count": null,
   "id": "7a3a21e0",
   "metadata": {},
   "outputs": [],
   "source": [
    "prob = counts/counts.sum(1, keepdims=True)"
   ]
  },
  {
   "cell_type": "code",
   "execution_count": null,
   "id": "0eb6f9b4",
   "metadata": {},
   "outputs": [
    {
     "data": {
      "text/plain": [
       "torch.Size([4, 27])"
      ]
     },
     "execution_count": null,
     "metadata": {},
     "output_type": "execute_result"
    }
   ],
   "source": [
    "prob.shape"
   ]
  },
  {
   "cell_type": "code",
   "execution_count": null,
   "id": "a3065f08",
   "metadata": {},
   "outputs": [
    {
     "data": {
      "text/plain": [
       "tensor([13, 13,  1,  0])"
      ]
     },
     "execution_count": null,
     "metadata": {},
     "output_type": "execute_result"
    }
   ],
   "source": [
    "ys"
   ]
  },
  {
   "cell_type": "code",
   "execution_count": null,
   "id": "754b316b",
   "metadata": {},
   "outputs": [
    {
     "data": {
      "text/plain": [
       "(tensor(0.0138), tensor(0.0141), tensor(0.0025), tensor(0.0234))"
      ]
     },
     "execution_count": null,
     "metadata": {},
     "output_type": "execute_result"
    }
   ],
   "source": [
    "prob[0, 13], prob[1, 13], prob[2, 1], prob[3, 0]"
   ]
  },
  {
   "cell_type": "code",
   "execution_count": null,
   "id": "08016216",
   "metadata": {},
   "outputs": [
    {
     "data": {
      "text/plain": [
       "tensor(4.5763)"
      ]
     },
     "execution_count": null,
     "metadata": {},
     "output_type": "execute_result"
    }
   ],
   "source": [
    "-prob[torch.arange(4), ys].log().mean()"
   ]
  },
  {
   "cell_type": "markdown",
   "id": "e70bb6c1",
   "metadata": {},
   "source": [
    "#### Train"
   ]
  },
  {
   "cell_type": "code",
   "execution_count": null,
   "id": "b4034548",
   "metadata": {},
   "outputs": [],
   "source": [
    "xs, ys = generate_training_set(words)"
   ]
  },
  {
   "cell_type": "code",
   "execution_count": null,
   "id": "4dddf17c",
   "metadata": {},
   "outputs": [
    {
     "data": {
      "text/plain": [
       "(tensor([[ 0,  5],\n",
       "         [ 5, 13],\n",
       "         [13, 13],\n",
       "         ...,\n",
       "         [26, 25],\n",
       "         [25, 26],\n",
       "         [26, 24]]),\n",
       " tensor([13, 13,  1,  ..., 26, 24,  0]))"
      ]
     },
     "execution_count": null,
     "metadata": {},
     "output_type": "execute_result"
    }
   ],
   "source": [
    "xs, ys"
   ]
  },
  {
   "cell_type": "code",
   "execution_count": null,
   "id": "b509975d",
   "metadata": {},
   "outputs": [],
   "source": [
    "xenc = F.one_hot(xs, num_classes=27)\n",
    "xenc_flattened = xenc.view(len(xenc), -1).float()"
   ]
  },
  {
   "cell_type": "code",
   "execution_count": null,
   "id": "49bed484",
   "metadata": {},
   "outputs": [
    {
     "data": {
      "text/plain": [
       "torch.float32"
      ]
     },
     "execution_count": null,
     "metadata": {},
     "output_type": "execute_result"
    }
   ],
   "source": [
    "xenc_flattened.dtype"
   ]
  },
  {
   "cell_type": "code",
   "execution_count": null,
   "id": "2bd853cb",
   "metadata": {},
   "outputs": [
    {
     "data": {
      "text/plain": [
       "(torch.Size([196113, 54]), torch.Size([196113]))"
      ]
     },
     "execution_count": null,
     "metadata": {},
     "output_type": "execute_result"
    }
   ],
   "source": [
    "xenc_flattened.shape, ys.shape"
   ]
  },
  {
   "cell_type": "code",
   "execution_count": null,
   "id": "059cb66b",
   "metadata": {},
   "outputs": [],
   "source": [
    "def train(X, y, epochs, lr):\n",
    "    num = X.shape[0]\n",
    "    print(num)\n",
    "    W = torch.randn((54, 27), requires_grad=True, generator=g)\n",
    "    for i in range(epochs):\n",
    "        logits = X @ W\n",
    "        counts = logits.exp()\n",
    "        prob = counts/counts.sum(1, keepdims=True)\n",
    "        loss = -prob[torch.arange(num), y].log().mean()\n",
    "        print(f'Epoch {i} Loss {loss}')\n",
    "        \n",
    "        W.grad = None\n",
    "        loss.backward()\n",
    "        W.data += -lr * W.grad \n",
    "    return W"
   ]
  },
  {
   "cell_type": "code",
   "execution_count": null,
   "id": "7ad4b2d6",
   "metadata": {},
   "outputs": [
    {
     "data": {
      "text/plain": [
       "196113"
      ]
     },
     "execution_count": null,
     "metadata": {},
     "output_type": "execute_result"
    }
   ],
   "source": [
    "xenc_flattened.shape[0]"
   ]
  },
  {
   "cell_type": "code",
   "execution_count": null,
   "id": "b05162c3",
   "metadata": {},
   "outputs": [
    {
     "name": "stdout",
     "output_type": "stream",
     "text": [
      "196113\n",
      "Epoch 0 Loss 4.304508209228516\n",
      "Epoch 1 Loss 3.5239951610565186\n",
      "Epoch 2 Loss 3.1618173122406006\n",
      "Epoch 3 Loss 2.9341208934783936\n",
      "Epoch 4 Loss 2.788262128829956\n",
      "Epoch 5 Loss 2.6947758197784424\n",
      "Epoch 6 Loss 2.6315062046051025\n",
      "Epoch 7 Loss 2.5849287509918213\n",
      "Epoch 8 Loss 2.5485451221466064\n",
      "Epoch 9 Loss 2.519071578979492\n",
      "Epoch 10 Loss 2.4946088790893555\n",
      "Epoch 11 Loss 2.4739458560943604\n",
      "Epoch 12 Loss 2.4562535285949707\n",
      "Epoch 13 Loss 2.440938949584961\n",
      "Epoch 14 Loss 2.427560329437256\n",
      "Epoch 15 Loss 2.415781021118164\n",
      "Epoch 16 Loss 2.4053385257720947\n",
      "Epoch 17 Loss 2.396023988723755\n",
      "Epoch 18 Loss 2.3876688480377197\n",
      "Epoch 19 Loss 2.380136728286743\n",
      "Epoch 20 Loss 2.3733139038085938\n",
      "Epoch 21 Loss 2.3671069145202637\n",
      "Epoch 22 Loss 2.3614373207092285\n",
      "Epoch 23 Loss 2.356238842010498\n",
      "Epoch 24 Loss 2.3514552116394043\n",
      "Epoch 25 Loss 2.347038984298706\n",
      "Epoch 26 Loss 2.3429486751556396\n",
      "Epoch 27 Loss 2.339149236679077\n",
      "Epoch 28 Loss 2.3356103897094727\n",
      "Epoch 29 Loss 2.3323051929473877\n",
      "Epoch 30 Loss 2.3292105197906494\n",
      "Epoch 31 Loss 2.3263063430786133\n",
      "Epoch 32 Loss 2.3235747814178467\n",
      "Epoch 33 Loss 2.321000576019287\n",
      "Epoch 34 Loss 2.3185694217681885\n",
      "Epoch 35 Loss 2.3162693977355957\n",
      "Epoch 36 Loss 2.3140900135040283\n",
      "Epoch 37 Loss 2.3120217323303223\n",
      "Epoch 38 Loss 2.3100552558898926\n",
      "Epoch 39 Loss 2.3081839084625244\n",
      "Epoch 40 Loss 2.3064005374908447\n",
      "Epoch 41 Loss 2.3046987056732178\n",
      "Epoch 42 Loss 2.303072929382324\n",
      "Epoch 43 Loss 2.301518201828003\n",
      "Epoch 44 Loss 2.30003023147583\n",
      "Epoch 45 Loss 2.2986040115356445\n",
      "Epoch 46 Loss 2.297236442565918\n",
      "Epoch 47 Loss 2.2959237098693848\n",
      "Epoch 48 Loss 2.2946624755859375\n",
      "Epoch 49 Loss 2.293450355529785\n",
      "Epoch 50 Loss 2.292283773422241\n",
      "Epoch 51 Loss 2.2911601066589355\n",
      "Epoch 52 Loss 2.2900779247283936\n",
      "Epoch 53 Loss 2.289034605026245\n",
      "Epoch 54 Loss 2.2880282402038574\n",
      "Epoch 55 Loss 2.2870562076568604\n",
      "Epoch 56 Loss 2.2861175537109375\n",
      "Epoch 57 Loss 2.285210371017456\n",
      "Epoch 58 Loss 2.2843332290649414\n",
      "Epoch 59 Loss 2.28348445892334\n",
      "Epoch 60 Loss 2.282663106918335\n",
      "Epoch 61 Loss 2.281867504119873\n",
      "Epoch 62 Loss 2.2810964584350586\n",
      "Epoch 63 Loss 2.2803494930267334\n",
      "Epoch 64 Loss 2.2796247005462646\n",
      "Epoch 65 Loss 2.278921365737915\n",
      "Epoch 66 Loss 2.2782392501831055\n",
      "Epoch 67 Loss 2.2775766849517822\n",
      "Epoch 68 Loss 2.276932954788208\n",
      "Epoch 69 Loss 2.2763075828552246\n",
      "Epoch 70 Loss 2.2756996154785156\n",
      "Epoch 71 Loss 2.2751083374023438\n",
      "Epoch 72 Loss 2.2745330333709717\n",
      "Epoch 73 Loss 2.2739734649658203\n",
      "Epoch 74 Loss 2.273428440093994\n",
      "Epoch 75 Loss 2.272897958755493\n",
      "Epoch 76 Loss 2.27238130569458\n",
      "Epoch 77 Loss 2.2718777656555176\n",
      "Epoch 78 Loss 2.2713873386383057\n",
      "Epoch 79 Loss 2.2709085941314697\n",
      "Epoch 80 Loss 2.270442247390747\n",
      "Epoch 81 Loss 2.269987106323242\n",
      "Epoch 82 Loss 2.269543170928955\n",
      "Epoch 83 Loss 2.2691097259521484\n",
      "Epoch 84 Loss 2.268686532974243\n",
      "Epoch 85 Loss 2.2682735919952393\n",
      "Epoch 86 Loss 2.2678701877593994\n",
      "Epoch 87 Loss 2.2674758434295654\n",
      "Epoch 88 Loss 2.2670907974243164\n",
      "Epoch 89 Loss 2.266714334487915\n",
      "Epoch 90 Loss 2.2663462162017822\n",
      "Epoch 91 Loss 2.265986204147339\n",
      "Epoch 92 Loss 2.265634298324585\n",
      "Epoch 93 Loss 2.2652900218963623\n",
      "Epoch 94 Loss 2.2649528980255127\n",
      "Epoch 95 Loss 2.2646231651306152\n",
      "Epoch 96 Loss 2.2643001079559326\n",
      "Epoch 97 Loss 2.263984203338623\n",
      "Epoch 98 Loss 2.263674736022949\n",
      "Epoch 99 Loss 2.263371467590332\n"
     ]
    }
   ],
   "source": [
    "model = train(xenc_flattened, ys, 100, 50)"
   ]
  },
  {
   "cell_type": "markdown",
   "id": "6598424b",
   "metadata": {},
   "source": [
    "Here the loss is less, it is an improve over bigram model"
   ]
  },
  {
   "cell_type": "code",
   "execution_count": null,
   "id": "d86e5623",
   "metadata": {},
   "outputs": [],
   "source": [
    "xenc = F.one_hot(torch.tensor([0, 0]), num_classes=27).float()"
   ]
  },
  {
   "cell_type": "code",
   "execution_count": null,
   "id": "fb589b7f",
   "metadata": {},
   "outputs": [
    {
     "data": {
      "text/plain": [
       "torch.Size([2, 27])"
      ]
     },
     "execution_count": null,
     "metadata": {},
     "output_type": "execute_result"
    }
   ],
   "source": [
    "xenc.shape"
   ]
  },
  {
   "cell_type": "markdown",
   "id": "b3a0e525",
   "metadata": {},
   "source": [
    "### Prediction"
   ]
  },
  {
   "cell_type": "code",
   "execution_count": null,
   "id": "778af19b",
   "metadata": {},
   "outputs": [],
   "source": [
    "def generate_words():\n",
    "    for i in range(5):\n",
    "        out = []\n",
    "        ix1, ix2 = 0, 0\n",
    "        while True:\n",
    "            xenc = F.one_hot(torch.tensor([ix1, ix2]), num_classes=27).float()\n",
    "            xenc_flattened = xenc.view(1, -1)\n",
    "            logits = xenc_flattened @ model # predict log-counts\n",
    "            counts = logits.exp()\n",
    "            p = counts/counts.sum(1, keepdims=True)\n",
    "            ix1 = ix2\n",
    "            ix2 = torch.multinomial(p, num_samples=1, replacement=True).item()\n",
    "            out.append(itos[ix2])\n",
    "            if ix2 == 0:\n",
    "                break\n",
    "        print(''.join(out))"
   ]
  },
  {
   "cell_type": "code",
   "execution_count": null,
   "id": "6759b43f",
   "metadata": {},
   "outputs": [
    {
     "name": "stdout",
     "output_type": "stream",
     "text": [
      "yanel.\n",
      "ori.\n",
      "yrmynna.\n",
      "alanan.\n",
      "ssonncasmi.\n"
     ]
    }
   ],
   "source": [
    "generate_words()"
   ]
  },
  {
   "cell_type": "markdown",
   "id": "562a098d",
   "metadata": {},
   "source": [
    "## E02\n",
    "> split up the dataset randomly into 80% train set, 10% dev set, 10% test set. Train the bigram and trigram models only on the training set. Evaluate them on dev and test splits. What can you see?"
   ]
  },
  {
   "cell_type": "code",
   "execution_count": null,
   "id": "8ec6ace4",
   "metadata": {},
   "outputs": [],
   "source": [
    "xenc_num = xenc_flattened.shape[0]"
   ]
  },
  {
   "cell_type": "code",
   "execution_count": null,
   "id": "fb0f6758",
   "metadata": {},
   "outputs": [
    {
     "data": {
      "text/plain": [
       "range(0, 196113)"
      ]
     },
     "execution_count": null,
     "metadata": {},
     "output_type": "execute_result"
    }
   ],
   "source": [
    "range(xenc_num)"
   ]
  },
  {
   "cell_type": "code",
   "execution_count": null,
   "id": "c6036972",
   "metadata": {},
   "outputs": [],
   "source": [
    "test_subset, valid_subset, train_subset = random_split(range(xenc_num), [0.1, 0.1, 0.8], \n",
    "                          generator=g)"
   ]
  },
  {
   "cell_type": "code",
   "execution_count": null,
   "id": "dc5f290a",
   "metadata": {},
   "outputs": [],
   "source": [
    "train_idx = torch.tensor(train_subset)\n",
    "valid_idx = torch.tensor(valid_subset)\n",
    "test_idx = torch.tensor(test_subset)"
   ]
  },
  {
   "cell_type": "code",
   "execution_count": null,
   "id": "933cdac0",
   "metadata": {},
   "outputs": [
    {
     "data": {
      "text/plain": [
       "(torch.Size([156890]), torch.Size([19611]), torch.Size([19612]))"
      ]
     },
     "execution_count": null,
     "metadata": {},
     "output_type": "execute_result"
    }
   ],
   "source": [
    "train_idx.shape, valid_idx.shape, test_idx.shape"
   ]
  },
  {
   "cell_type": "code",
   "execution_count": null,
   "id": "d848c3a5",
   "metadata": {},
   "outputs": [],
   "source": [
    "x_train, y_train = xenc_flattened[train_idx], ys[train_idx]\n",
    "x_valid, y_valid = xenc_flattened[valid_idx], ys[valid_idx]\n",
    "x_test, y_test = xenc_flattened[test_idx], ys[test_idx]"
   ]
  },
  {
   "cell_type": "code",
   "execution_count": null,
   "id": "43328adb",
   "metadata": {},
   "outputs": [
    {
     "name": "stdout",
     "output_type": "stream",
     "text": [
      "156890\n",
      "Epoch 0 Loss 4.504120826721191\n",
      "Epoch 1 Loss 4.2687578201293945\n",
      "Epoch 2 Loss 4.06620454788208\n",
      "Epoch 3 Loss 3.8899307250976562\n",
      "Epoch 4 Loss 3.7362024784088135\n",
      "Epoch 5 Loss 3.6019790172576904\n",
      "Epoch 6 Loss 3.4846436977386475\n",
      "Epoch 7 Loss 3.382246255874634\n",
      "Epoch 8 Loss 3.293360471725464\n",
      "Epoch 9 Loss 3.2166662216186523\n",
      "Epoch 10 Loss 3.1506481170654297\n",
      "Epoch 11 Loss 3.0936076641082764\n",
      "Epoch 12 Loss 3.0438811779022217\n",
      "Epoch 13 Loss 3.0000367164611816\n",
      "Epoch 14 Loss 2.9609479904174805\n",
      "Epoch 15 Loss 2.925764560699463\n",
      "Epoch 16 Loss 2.8938498497009277\n",
      "Epoch 17 Loss 2.864720106124878\n",
      "Epoch 18 Loss 2.838001251220703\n",
      "Epoch 19 Loss 2.813394069671631\n",
      "Epoch 20 Loss 2.790656566619873\n",
      "Epoch 21 Loss 2.7695863246917725\n",
      "Epoch 22 Loss 2.7500126361846924\n",
      "Epoch 23 Loss 2.73178768157959\n",
      "Epoch 24 Loss 2.7147839069366455\n",
      "Epoch 25 Loss 2.698887348175049\n",
      "Epoch 26 Loss 2.6839985847473145\n",
      "Epoch 27 Loss 2.6700284481048584\n",
      "Epoch 28 Loss 2.6568961143493652\n",
      "Epoch 29 Loss 2.6445319652557373\n",
      "Epoch 30 Loss 2.6328697204589844\n",
      "Epoch 31 Loss 2.6218528747558594\n",
      "Epoch 32 Loss 2.611428737640381\n",
      "Epoch 33 Loss 2.601550579071045\n",
      "Epoch 34 Loss 2.5921757221221924\n",
      "Epoch 35 Loss 2.583266258239746\n",
      "Epoch 36 Loss 2.5747880935668945\n",
      "Epoch 37 Loss 2.56670880317688\n",
      "Epoch 38 Loss 2.559000253677368\n",
      "Epoch 39 Loss 2.5516374111175537\n",
      "Epoch 40 Loss 2.5445964336395264\n",
      "Epoch 41 Loss 2.537855625152588\n",
      "Epoch 42 Loss 2.5313961505889893\n",
      "Epoch 43 Loss 2.5251998901367188\n",
      "Epoch 44 Loss 2.5192503929138184\n",
      "Epoch 45 Loss 2.513532876968384\n",
      "Epoch 46 Loss 2.508033514022827\n",
      "Epoch 47 Loss 2.502739906311035\n",
      "Epoch 48 Loss 2.4976401329040527\n",
      "Epoch 49 Loss 2.4927237033843994\n",
      "Epoch 50 Loss 2.487980604171753\n",
      "Epoch 51 Loss 2.4834015369415283\n",
      "Epoch 52 Loss 2.478977680206299\n",
      "Epoch 53 Loss 2.4747016429901123\n",
      "Epoch 54 Loss 2.4705657958984375\n",
      "Epoch 55 Loss 2.4665629863739014\n",
      "Epoch 56 Loss 2.4626872539520264\n",
      "Epoch 57 Loss 2.4589321613311768\n",
      "Epoch 58 Loss 2.455292224884033\n",
      "Epoch 59 Loss 2.4517619609832764\n",
      "Epoch 60 Loss 2.4483370780944824\n",
      "Epoch 61 Loss 2.445012331008911\n",
      "Epoch 62 Loss 2.4417836666107178\n",
      "Epoch 63 Loss 2.4386465549468994\n",
      "Epoch 64 Loss 2.4355976581573486\n",
      "Epoch 65 Loss 2.4326331615448\n",
      "Epoch 66 Loss 2.4297492504119873\n",
      "Epoch 67 Loss 2.426943302154541\n",
      "Epoch 68 Loss 2.4242119789123535\n",
      "Epoch 69 Loss 2.4215521812438965\n",
      "Epoch 70 Loss 2.418961524963379\n",
      "Epoch 71 Loss 2.4164371490478516\n",
      "Epoch 72 Loss 2.4139764308929443\n",
      "Epoch 73 Loss 2.411576986312866\n",
      "Epoch 74 Loss 2.4092373847961426\n",
      "Epoch 75 Loss 2.4069550037384033\n",
      "Epoch 76 Loss 2.4047274589538574\n",
      "Epoch 77 Loss 2.402553081512451\n",
      "Epoch 78 Loss 2.400430202484131\n",
      "Epoch 79 Loss 2.3983571529388428\n",
      "Epoch 80 Loss 2.396331787109375\n",
      "Epoch 81 Loss 2.394352912902832\n",
      "Epoch 82 Loss 2.392418622970581\n",
      "Epoch 83 Loss 2.3905277252197266\n",
      "Epoch 84 Loss 2.388679265975952\n",
      "Epoch 85 Loss 2.386870861053467\n",
      "Epoch 86 Loss 2.3851022720336914\n",
      "Epoch 87 Loss 2.383371353149414\n",
      "Epoch 88 Loss 2.3816778659820557\n",
      "Epoch 89 Loss 2.380019426345825\n",
      "Epoch 90 Loss 2.378396511077881\n",
      "Epoch 91 Loss 2.3768067359924316\n",
      "Epoch 92 Loss 2.3752498626708984\n",
      "Epoch 93 Loss 2.3737244606018066\n",
      "Epoch 94 Loss 2.372229814529419\n",
      "Epoch 95 Loss 2.370765447616577\n",
      "Epoch 96 Loss 2.3693296909332275\n",
      "Epoch 97 Loss 2.367922306060791\n",
      "Epoch 98 Loss 2.366542339324951\n",
      "Epoch 99 Loss 2.3651890754699707\n"
     ]
    }
   ],
   "source": [
    "model_trigram = train(x_train, y_train, 100, 10)"
   ]
  },
  {
   "cell_type": "markdown",
   "id": "e5fade0b",
   "metadata": {},
   "source": [
    "Loss on the dev set"
   ]
  },
  {
   "cell_type": "code",
   "execution_count": null,
   "id": "7cceeff4",
   "metadata": {},
   "outputs": [],
   "source": [
    "def evaluate_loss(model, x, y):\n",
    "    logits = x @ model\n",
    "    counts = logits.exp()\n",
    "    pred = counts/counts.sum(1, keepdims=True)\n",
    "    return - pred[torch.arange(x.shape[0]), y].log().mean().item()"
   ]
  },
  {
   "cell_type": "code",
   "execution_count": null,
   "id": "6bd70f90",
   "metadata": {},
   "outputs": [
    {
     "data": {
      "text/plain": [
       "2.3728110790252686"
      ]
     },
     "execution_count": null,
     "metadata": {},
     "output_type": "execute_result"
    }
   ],
   "source": [
    "evaluate_loss(model_trigram, x_valid, y_valid)"
   ]
  },
  {
   "cell_type": "markdown",
   "id": "82bcd835",
   "metadata": {},
   "source": [
    "Loss on the test set"
   ]
  },
  {
   "cell_type": "code",
   "execution_count": null,
   "id": "871e6bef",
   "metadata": {},
   "outputs": [
    {
     "data": {
      "text/plain": [
       "2.3934383392333984"
      ]
     },
     "execution_count": null,
     "metadata": {},
     "output_type": "execute_result"
    }
   ],
   "source": [
    "evaluate_loss(model_trigram, x_test, y_test)"
   ]
  },
  {
   "cell_type": "markdown",
   "id": "6ff05689",
   "metadata": {},
   "source": [
    "The loss on test and validation dataset are about the same for the trigram model on the training set."
   ]
  },
  {
   "cell_type": "markdown",
   "id": "aad0b206",
   "metadata": {},
   "source": [
    "Same we can for the bigram model that I have computed in `nbs/lecture_notes/02_building_makemore.ipynb`. The validation and test dataset have about the same losses to the training set."
   ]
  },
  {
   "cell_type": "markdown",
   "id": "fcbf51d7",
   "metadata": {},
   "source": [
    "The trigram is better than bigram"
   ]
  },
  {
   "cell_type": "markdown",
   "id": "8ae169bb",
   "metadata": {},
   "source": [
    "## E03\n",
    "> Use the dev set to tune the strength of smoothing (or regularization) for the trigram model - i.e. try many possibilities and see which one works best based on the dev set loss. What patterns can you see in the train and dev set loss as you tune this strength? Take the best setting of the smoothing and evaluate on the test set once and at the end. How good of a loss do you achieve?"
   ]
  },
  {
   "cell_type": "code",
   "execution_count": null,
   "id": "ca9bd500",
   "metadata": {},
   "outputs": [],
   "source": [
    "def train(X, y, epochs, lr, regularization_param, print_at_every_epoch = False, print_at_last=False):\n",
    "    num = X.shape[0]\n",
    "    W = torch.randn((54, 27), requires_grad=True, generator=g)\n",
    "    for i in range(epochs):\n",
    "        logits = X @ W\n",
    "        counts = logits.exp()\n",
    "        prob = counts/counts.sum(1, keepdims=True)\n",
    "        loss = -prob[torch.arange(num), y].log().mean()\n",
    "        \n",
    "        # regularization\n",
    "        regularization_loss = regularization_param * (W **2).mean()\n",
    "        loss += regularization_loss\n",
    "        \n",
    "        if print_at_every_epoch: print(f'Epoch {i} Loss {loss}')\n",
    "        \n",
    "        W.grad = None\n",
    "        loss.backward()\n",
    "        W.data += -lr * W.grad \n",
    "        \n",
    "    if print_at_last: print(f'Loss {loss}')\n",
    "    return W, loss.item()"
   ]
  },
  {
   "cell_type": "code",
   "execution_count": null,
   "id": "f5ab0aab",
   "metadata": {},
   "outputs": [],
   "source": [
    "def get_reg_param_trend():\n",
    "    train_losses = []\n",
    "    val_losses = []\n",
    "    reg_params = []\n",
    "\n",
    "    for reg_param in torch.linspace(0, 10, 100):\n",
    "        model, train_loss = train(x_train, y_train, 100, 10, reg_param)\n",
    "        val_loss = evaluate_loss(model, x_valid, y_valid)\n",
    "        train_losses.append(train_loss)\n",
    "        val_losses.append(val_loss)\n",
    "        reg_params.append(reg_param)\n",
    "\n",
    "    return train_losses, val_losses, reg_params"
   ]
  },
  {
   "cell_type": "code",
   "execution_count": null,
   "id": "0fda8382",
   "metadata": {},
   "outputs": [],
   "source": [
    "train_losses, val_losses, reg_params = get_reg_param_trend()"
   ]
  },
  {
   "cell_type": "code",
   "execution_count": null,
   "id": "e9615e7c",
   "metadata": {},
   "outputs": [
    {
     "data": {
      "image/png": "[encoded data removed]",
      "text/plain": [
       "<Figure size 640x480 with 1 Axes>"
      ]
     },
     "metadata": {},
     "output_type": "display_data"
    }
   ],
   "source": [
    "plt.plot(train_losses)\n",
    "plt.plot(val_losses)\n",
    "plt.title('model loss')\n",
    "plt.ylabel('loss')\n",
    "plt.xlabel('regularization parameter')\n",
    "plt.legend(['train', 'val'], loc='upper left')\n",
    "plt.show()"
   ]
  },
  {
   "cell_type": "markdown",
   "id": "cca3776c",
   "metadata": {},
   "source": [
    "As we increase the regularization strength, we see that both the losses are increasing and the training loss is increasing over validation loss, it means that the model is underfitting. Lets choose the regularization parameter as 0 and evaluate the test set"
   ]
  },
  {
   "cell_type": "code",
   "execution_count": null,
   "id": "e50fe733",
   "metadata": {},
   "outputs": [],
   "source": [
    "model, train_loss = train(x_train, y_train, 100, 10, 0)"
   ]
  },
  {
   "cell_type": "code",
   "execution_count": null,
   "id": "d22990dc",
   "metadata": {},
   "outputs": [
    {
     "data": {
      "text/plain": [
       "2.3800032138824463"
      ]
     },
     "execution_count": null,
     "metadata": {},
     "output_type": "execute_result"
    }
   ],
   "source": [
    "train_loss"
   ]
  },
  {
   "cell_type": "code",
   "execution_count": null,
   "id": "4d1a4739",
   "metadata": {},
   "outputs": [
    {
     "data": {
      "text/plain": [
       "2.3897788524627686"
      ]
     },
     "execution_count": null,
     "metadata": {},
     "output_type": "execute_result"
    }
   ],
   "source": [
    "evaluate_loss(model, x_valid, y_valid)"
   ]
  },
  {
   "cell_type": "code",
   "execution_count": null,
   "id": "adc2e86a",
   "metadata": {},
   "outputs": [
    {
     "data": {
      "text/plain": [
       "2.407710075378418"
      ]
     },
     "execution_count": null,
     "metadata": {},
     "output_type": "execute_result"
    }
   ],
   "source": [
    "evaluate_loss(model, x_test, y_test)"
   ]
  },
  {
   "cell_type": "markdown",
   "id": "e1bead42",
   "metadata": {},
   "source": [
    "## E04\n",
    " > We saw that our 1-hot vectors merely select a row of W, so producing these vectors explicitly feels wasteful. Can you delete our use of F.one_hot in favor of simply indexing into rows of W?"
   ]
  },
  {
   "cell_type": "code",
   "execution_count": null,
   "id": "04500964",
   "metadata": {},
   "outputs": [
    {
     "data": {
      "text/plain": [
       "torch.Size([196113, 2])"
      ]
     },
     "execution_count": null,
     "metadata": {},
     "output_type": "execute_result"
    }
   ],
   "source": [
    "xs.shape"
   ]
  },
  {
   "cell_type": "code",
   "execution_count": null,
   "id": "f196af18",
   "metadata": {},
   "outputs": [
    {
     "data": {
      "text/plain": [
       "196113"
      ]
     },
     "execution_count": null,
     "metadata": {},
     "output_type": "execute_result"
    }
   ],
   "source": [
    "xenc_num"
   ]
  },
  {
   "cell_type": "code",
   "execution_count": null,
   "id": "fffdeb9b",
   "metadata": {},
   "outputs": [],
   "source": [
    "x_train, y_train = xs[train_idx], ys[train_idx]\n",
    "x_valid, y_valid = xs[valid_idx], ys[valid_idx]\n",
    "x_test, y_test = xs[test_idx], ys[test_idx]"
   ]
  },
  {
   "cell_type": "code",
   "execution_count": null,
   "id": "5d76f3c8",
   "metadata": {},
   "outputs": [],
   "source": [
    "def train(X, y, epochs, lr, regularization_param, print_at_every_epoch = False, print_at_last=False):\n",
    "    assert X.shape[-1] == 2\n",
    "    num = X.shape[0]\n",
    "    W = torch.randn((54, 27), requires_grad=True, generator=g)\n",
    "    for i in range(epochs):\n",
    "        \n",
    "        #indexing\n",
    "        W1 = W[:27]\n",
    "        W2 = W[27:]\n",
    "        \n",
    "        logits = W1[X[:, 0]] + W2[X[:, 1]]\n",
    "        \n",
    "        counts = logits.exp()\n",
    "        prob = counts/counts.sum(1, keepdims=True)\n",
    "        loss = -prob[torch.arange(num), y].log().mean()\n",
    "        \n",
    "        # regularization\n",
    "        regularization_loss = regularization_param * (W **2).mean()\n",
    "        loss += regularization_loss\n",
    "        \n",
    "        if print_at_every_epoch: print(f'Epoch {i} Loss {loss}')\n",
    "        \n",
    "        W.grad = None\n",
    "        loss.backward()\n",
    "        W.data += -lr * W.grad \n",
    "        \n",
    "    if print_at_last: print(f'Loss {loss}')\n",
    "    return W, loss"
   ]
  },
  {
   "cell_type": "code",
   "execution_count": null,
   "id": "383de3e1",
   "metadata": {},
   "outputs": [],
   "source": [
    "model, train_loss = train(x_train, y_train, 100, 10, 0)"
   ]
  },
  {
   "cell_type": "code",
   "execution_count": null,
   "id": "1aa7cae2",
   "metadata": {},
   "outputs": [
    {
     "data": {
      "text/plain": [
       "tensor(2.3760, grad_fn=<AddBackward0>)"
      ]
     },
     "execution_count": null,
     "metadata": {},
     "output_type": "execute_result"
    }
   ],
   "source": [
    "train_loss"
   ]
  },
  {
   "cell_type": "code",
   "execution_count": null,
   "id": "19e8b861",
   "metadata": {},
   "outputs": [],
   "source": [
    "def evaluate_loss(model, x, y):\n",
    "    W1 = model[:27]\n",
    "    W2 = model[27:]\n",
    "    \n",
    "    logits = W1[x[:, 0]] + W2[x[:, 1]]\n",
    "    \n",
    "    counts = logits.exp()\n",
    "    prob = counts/counts.sum(1, keepdims=True)\n",
    "    return -prob[torch.arange(x.shape[0]), y].log().mean()"
   ]
  },
  {
   "cell_type": "code",
   "execution_count": null,
   "id": "964b791c",
   "metadata": {},
   "outputs": [
    {
     "data": {
      "text/plain": [
       "tensor(2.3836, grad_fn=<NegBackward0>)"
      ]
     },
     "execution_count": null,
     "metadata": {},
     "output_type": "execute_result"
    }
   ],
   "source": [
    "evaluate_loss(model, x_valid, y_valid)"
   ]
  },
  {
   "cell_type": "code",
   "execution_count": null,
   "id": "826d0053",
   "metadata": {},
   "outputs": [
    {
     "data": {
      "text/plain": [
       "tensor(2.4045, grad_fn=<NegBackward0>)"
      ]
     },
     "execution_count": null,
     "metadata": {},
     "output_type": "execute_result"
    }
   ],
   "source": [
    "evaluate_loss(model, x_test, y_test)"
   ]
  },
  {
   "cell_type": "markdown",
   "id": "f5d95656",
   "metadata": {},
   "source": [
    "## E05\n",
    "> Look up and use F.cross_entropy instead. You should achieve the same result. Can you think of why we'd prefer to use F.cross_entropy instead?"
   ]
  },
  {
   "cell_type": "code",
   "execution_count": null,
   "id": "45903f95",
   "metadata": {},
   "outputs": [],
   "source": [
    "x_train, y_train = xenc_flattened[train_idx], ys[train_idx]\n",
    "x_valid, y_valid = xenc_flattened[valid_idx], ys[valid_idx]\n",
    "x_test, y_test = xenc_flattened[test_idx], ys[test_idx]"
   ]
  },
  {
   "cell_type": "code",
   "execution_count": null,
   "id": "2494d117",
   "metadata": {},
   "outputs": [],
   "source": [
    "def train(X, y, epochs, lr, print_at_every_epoch = False, print_at_last=False):\n",
    "    num = X.shape[0]\n",
    "    W = torch.randn((54, 27), requires_grad=True, generator=g)\n",
    "    for i in range(epochs):\n",
    "        logits = X @ W\n",
    "        loss = F.cross_entropy(logits, y)\n",
    "        \n",
    "        if print_at_every_epoch: print(f'Epoch {i} Loss {loss}')\n",
    "        \n",
    "        W.grad = None\n",
    "        loss.backward()\n",
    "        W.data += -lr * W.grad \n",
    "        \n",
    "    if print_at_last: print(f'Loss {loss}')\n",
    "    return W, loss"
   ]
  },
  {
   "cell_type": "code",
   "execution_count": null,
   "id": "53f031a9",
   "metadata": {},
   "outputs": [],
   "source": [
    "def evaluate_loss(model, x, y):\n",
    "    logits = x @ model\n",
    "    counts = logits.exp()\n",
    "    pred = counts/counts.sum(1, keepdims=True)\n",
    "    return - pred[torch.arange(x.shape[0]), y].log().mean().item()"
   ]
  },
  {
   "cell_type": "code",
   "execution_count": null,
   "id": "f569c59f",
   "metadata": {},
   "outputs": [],
   "source": [
    "model, loss = train(x_train, y_train, 100, 10, 0)"
   ]
  },
  {
   "cell_type": "code",
   "execution_count": null,
   "id": "a65b32da",
   "metadata": {},
   "outputs": [
    {
     "data": {
      "text/plain": [
       "tensor(2.3776, grad_fn=<NllLossBackward0>)"
      ]
     },
     "execution_count": null,
     "metadata": {},
     "output_type": "execute_result"
    }
   ],
   "source": [
    "loss"
   ]
  },
  {
   "cell_type": "code",
   "execution_count": null,
   "id": "19506a3f",
   "metadata": {},
   "outputs": [
    {
     "data": {
      "text/plain": [
       "2.387678861618042"
      ]
     },
     "execution_count": null,
     "metadata": {},
     "output_type": "execute_result"
    }
   ],
   "source": [
    "evaluate_loss(model, x_valid, y_valid)"
   ]
  },
  {
   "cell_type": "code",
   "execution_count": null,
   "id": "cc11e7ed",
   "metadata": {},
   "outputs": [
    {
     "data": {
      "text/plain": [
       "2.4051289558410645"
      ]
     },
     "execution_count": null,
     "metadata": {},
     "output_type": "execute_result"
    }
   ],
   "source": [
    "evaluate_loss(model, x_test, y_test)"
   ]
  },
  {
   "cell_type": "markdown",
   "id": "ac6064ad",
   "metadata": {},
   "source": [
    "Using `F.cross_entropy`, we dont have to compute the counts and probabilities ourselves instead we just have to pass the logits and labels to the function, also we can pass the weight given to each class and label smoothing"
   ]
  },
  {
   "cell_type": "markdown",
   "id": "048a7c30",
   "metadata": {},
   "source": [
    "## E06\n",
    "> meta-exercise! Think of a fun/interesting exercise and complete it."
   ]
  },
  {
   "cell_type": "markdown",
   "id": "46cc888b",
   "metadata": {},
   "source": [
    "Lets introduce bias, activation function and another layer of weight in the neural network "
   ]
  },
  {
   "cell_type": "code",
   "execution_count": null,
   "id": "756867ee",
   "metadata": {},
   "outputs": [],
   "source": [
    "relu = torch.nn.ReLU() # activation"
   ]
  },
  {
   "cell_type": "code",
   "execution_count": null,
   "id": "b2b117b8",
   "metadata": {},
   "outputs": [],
   "source": [
    "def train(X, y, epochs, lr, print_at_every_epoch = False, print_at_last=False):\n",
    "    num = X.shape[0]\n",
    "    W1 = torch.randn((54, 50), requires_grad=True, generator=g)\n",
    "    W2 = torch.randn((50, 27), requires_grad=True, generator=g)\n",
    "    b = torch.zeros(50, requires_grad=True)\n",
    "    \n",
    "    for i in range(epochs):\n",
    "        \n",
    "        #first layer\n",
    "        output = relu(X @ W1 + b)\n",
    "        \n",
    "        # second layer\n",
    "        logits = output @ W2\n",
    "        loss = F.cross_entropy(logits, y)\n",
    "        \n",
    "        if print_at_every_epoch: print(f'Epoch {i} Loss {loss}')\n",
    "        \n",
    "        W1.grad = None\n",
    "        W2.grad = None\n",
    "        b.grad = None\n",
    "        \n",
    "        loss.backward()\n",
    "        W1.data += -lr * W1.grad \n",
    "        W2.data += -lr * W2.grad \n",
    "        b.data += -lr * b.grad\n",
    "        \n",
    "    if print_at_last: print(f'Loss {loss}')\n",
    "    return W1, W2, b, loss"
   ]
  },
  {
   "cell_type": "code",
   "execution_count": null,
   "id": "92b84356",
   "metadata": {},
   "outputs": [
    {
     "name": "stdout",
     "output_type": "stream",
     "text": [
      "Epoch 0 Loss 14.541219711303711\n",
      "Epoch 1 Loss 6.2091875076293945\n",
      "Epoch 2 Loss 4.395009994506836\n",
      "Epoch 3 Loss 3.53914475440979\n",
      "Epoch 4 Loss 3.2722010612487793\n",
      "Epoch 5 Loss 3.154813766479492\n",
      "Epoch 6 Loss 3.0808494091033936\n",
      "Epoch 7 Loss 3.0231924057006836\n",
      "Epoch 8 Loss 2.9723856449127197\n",
      "Epoch 9 Loss 2.929724931716919\n",
      "Epoch 10 Loss 2.8861398696899414\n",
      "Epoch 11 Loss 2.8448402881622314\n",
      "Epoch 12 Loss 2.8097846508026123\n",
      "Epoch 13 Loss 2.7789549827575684\n",
      "Epoch 14 Loss 2.7526140213012695\n",
      "Epoch 15 Loss 2.7295141220092773\n",
      "Epoch 16 Loss 2.709247350692749\n",
      "Epoch 17 Loss 2.691128730773926\n",
      "Epoch 18 Loss 2.6747939586639404\n",
      "Epoch 19 Loss 2.6597096920013428\n",
      "Epoch 20 Loss 2.6458194255828857\n",
      "Epoch 21 Loss 2.6330149173736572\n",
      "Epoch 22 Loss 2.621168851852417\n",
      "Epoch 23 Loss 2.6100637912750244\n",
      "Epoch 24 Loss 2.5997819900512695\n",
      "Epoch 25 Loss 2.589761972427368\n",
      "Epoch 26 Loss 2.5802347660064697\n",
      "Epoch 27 Loss 2.5712060928344727\n",
      "Epoch 28 Loss 2.5626959800720215\n",
      "Epoch 29 Loss 2.553861379623413\n",
      "Epoch 30 Loss 2.545748710632324\n",
      "Epoch 31 Loss 2.5381507873535156\n",
      "Epoch 32 Loss 2.53104567527771\n",
      "Epoch 33 Loss 2.5244433879852295\n",
      "Epoch 34 Loss 2.5182859897613525\n",
      "Epoch 35 Loss 2.5125017166137695\n",
      "Epoch 36 Loss 2.506807804107666\n",
      "Epoch 37 Loss 2.501720428466797\n",
      "Epoch 38 Loss 2.4966917037963867\n",
      "Epoch 39 Loss 2.492325782775879\n",
      "Epoch 40 Loss 2.4879019260406494\n",
      "Epoch 41 Loss 2.484579086303711\n",
      "Epoch 42 Loss 2.480976104736328\n",
      "Epoch 43 Loss 2.4792466163635254\n",
      "Epoch 44 Loss 2.475902795791626\n",
      "Epoch 45 Loss 2.4750518798828125\n",
      "Epoch 46 Loss 2.4703636169433594\n",
      "Epoch 47 Loss 2.470320463180542\n",
      "Epoch 48 Loss 2.4647164344787598\n",
      "Epoch 49 Loss 2.4643948078155518\n",
      "Epoch 50 Loss 2.458014965057373\n",
      "Epoch 51 Loss 2.457747459411621\n",
      "Epoch 52 Loss 2.4513306617736816\n",
      "Epoch 53 Loss 2.4503233432769775\n",
      "Epoch 54 Loss 2.444188117980957\n",
      "Epoch 55 Loss 2.442826271057129\n",
      "Epoch 56 Loss 2.4379799365997314\n",
      "Epoch 57 Loss 2.436905860900879\n",
      "Epoch 58 Loss 2.4321563243865967\n",
      "Epoch 59 Loss 2.4304089546203613\n",
      "Epoch 60 Loss 2.4265809059143066\n",
      "Epoch 61 Loss 2.424839973449707\n",
      "Epoch 62 Loss 2.421621322631836\n",
      "Epoch 63 Loss 2.4200439453125\n",
      "Epoch 64 Loss 2.4169461727142334\n",
      "Epoch 65 Loss 2.415520429611206\n",
      "Epoch 66 Loss 2.412719488143921\n",
      "Epoch 67 Loss 2.4114415645599365\n",
      "Epoch 68 Loss 2.408984899520874\n",
      "Epoch 69 Loss 2.4082932472229004\n",
      "Epoch 70 Loss 2.405961275100708\n",
      "Epoch 71 Loss 2.4053380489349365\n",
      "Epoch 72 Loss 2.403006076812744\n",
      "Epoch 73 Loss 2.402623176574707\n",
      "Epoch 74 Loss 2.400026559829712\n",
      "Epoch 75 Loss 2.399906873703003\n",
      "Epoch 76 Loss 2.3976261615753174\n",
      "Epoch 77 Loss 2.3984215259552\n",
      "Epoch 78 Loss 2.395678997039795\n",
      "Epoch 79 Loss 2.396718740463257\n",
      "Epoch 80 Loss 2.394043445587158\n",
      "Epoch 81 Loss 2.395671844482422\n",
      "Epoch 82 Loss 2.3921918869018555\n",
      "Epoch 83 Loss 2.392773389816284\n",
      "Epoch 84 Loss 2.3891818523406982\n",
      "Epoch 85 Loss 2.3900513648986816\n",
      "Epoch 86 Loss 2.3863515853881836\n",
      "Epoch 87 Loss 2.3863282203674316\n",
      "Epoch 88 Loss 2.3832342624664307\n",
      "Epoch 89 Loss 2.3832027912139893\n",
      "Epoch 90 Loss 2.3800551891326904\n",
      "Epoch 91 Loss 2.380153179168701\n",
      "Epoch 92 Loss 2.377634048461914\n",
      "Epoch 93 Loss 2.3776769638061523\n",
      "Epoch 94 Loss 2.375394821166992\n",
      "Epoch 95 Loss 2.375596046447754\n",
      "Epoch 96 Loss 2.373054265975952\n",
      "Epoch 97 Loss 2.3736236095428467\n",
      "Epoch 98 Loss 2.3708877563476562\n",
      "Epoch 99 Loss 2.3716115951538086\n",
      "Loss 2.3716115951538086\n"
     ]
    }
   ],
   "source": [
    "params1, params2, bias,  loss = train(x_train, y_train, 100, 5, print_at_every_epoch = True, print_at_last = True)"
   ]
  },
  {
   "cell_type": "code",
   "execution_count": null,
   "id": "40cdca0c",
   "metadata": {},
   "outputs": [],
   "source": [
    "def evaluate_loss(X, y, W1, W2, b):\n",
    "    #first layer\n",
    "    output = relu(X @ W1 + b)\n",
    "        \n",
    "    # second layer\n",
    "    logits = output @ W2\n",
    "    loss = F.cross_entropy(logits, y)\n",
    "    return loss"
   ]
  },
  {
   "cell_type": "code",
   "execution_count": null,
   "id": "174fc55e",
   "metadata": {},
   "outputs": [
    {
     "data": {
      "text/plain": [
       "tensor(2.3825, grad_fn=<NllLossBackward0>)"
      ]
     },
     "execution_count": null,
     "metadata": {},
     "output_type": "execute_result"
    }
   ],
   "source": [
    "evaluate_loss(x_valid, y_valid, params1, params2, bias)"
   ]
  },
  {
   "cell_type": "code",
   "execution_count": null,
   "id": "1600e70e",
   "metadata": {},
   "outputs": [
    {
     "data": {
      "text/plain": [
       "tensor(2.3918, grad_fn=<NllLossBackward0>)"
      ]
     },
     "execution_count": null,
     "metadata": {},
     "output_type": "execute_result"
    }
   ],
   "source": [
    "evaluate_loss(x_test, y_test, params1, params2, bias)"
   ]
  },
  {
   "cell_type": "code",
   "execution_count": null,
   "id": "2b5e29e8",
   "metadata": {},
   "outputs": [],
   "source": []
  }
 ],
 "metadata": {
  "kernelspec": {
   "display_name": "zhnn",
   "language": "python",
   "name": "zhnn"
  }
 },
 "nbformat": 4,
 "nbformat_minor": 5
}
