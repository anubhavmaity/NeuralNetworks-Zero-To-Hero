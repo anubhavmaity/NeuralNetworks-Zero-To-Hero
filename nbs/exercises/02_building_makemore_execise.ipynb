{
 "cells": [
  {
   "cell_type": "markdown",
   "id": "05880f23",
   "metadata": {},
   "source": [
    "# Building makemore exercise"
   ]
  },
  {
   "cell_type": "markdown",
   "id": "c427c8ba",
   "metadata": {},
   "source": [
    "## E01\n",
    "> Train a trigram language model, i.e. take two characters as an input to predict the 3rd one. Feel free to use either counting or a neural net. Evaluate the loss; Did it improve over a bigram model?"
   ]
  },
  {
   "cell_type": "markdown",
   "id": "8eae4c6c",
   "metadata": {},
   "source": [
    "### Counting"
   ]
  },
  {
   "cell_type": "code",
   "execution_count": 1,
   "id": "f799f3ed",
   "metadata": {},
   "outputs": [],
   "source": [
    "from collections import defaultdict, Counter\n",
    "import numpy\n",
    "import torch\n",
    "from matplotlib import pyplot as plt\n",
    "import torch.nn.functional as F\n",
    "from torch.utils.data import random_split"
   ]
  },
  {
   "cell_type": "markdown",
   "id": "d7372178",
   "metadata": {},
   "source": [
    "Read in the data"
   ]
  },
  {
   "cell_type": "code",
   "execution_count": 2,
   "id": "d4631f0d",
   "metadata": {},
   "outputs": [],
   "source": [
    "with open('../data/names.txt') as f:\n",
    "    words = list(map(lambda x: x.strip(), f.readlines()))"
   ]
  },
  {
   "cell_type": "code",
   "execution_count": 3,
   "id": "946703a8",
   "metadata": {},
   "outputs": [
    {
     "data": {
      "text/plain": [
       "(['emma',\n",
       "  'olivia',\n",
       "  'ava',\n",
       "  'isabella',\n",
       "  'sophia',\n",
       "  'charlotte',\n",
       "  'mia',\n",
       "  'amelia',\n",
       "  'harper',\n",
       "  'evelyn'],\n",
       " 32033)"
      ]
     },
     "execution_count": 3,
     "metadata": {},
     "output_type": "execute_result"
    }
   ],
   "source": [
    "words[:10], len(words)"
   ]
  },
  {
   "cell_type": "code",
   "execution_count": 4,
   "id": "9c5a470d",
   "metadata": {},
   "outputs": [],
   "source": [
    "def generate_tripling(words):\n",
    "    for w in words:\n",
    "        chs = ['.'] + list(w) + ['.']\n",
    "        for ch1, ch2, ch3 in zip(chs, chs[1:], chs[2:]):\n",
    "            yield ch1, ch2, ch3"
   ]
  },
  {
   "cell_type": "code",
   "execution_count": 5,
   "id": "a68b8c0a",
   "metadata": {},
   "outputs": [],
   "source": [
    "alphabets = '.abcdefghijklmnopqrstuvwxyz'\n",
    "stoi = {char: alphabets.index(char) for char in alphabets}\n",
    "itos = dict(map(reversed, stoi.items()))"
   ]
  },
  {
   "cell_type": "code",
   "execution_count": 6,
   "id": "6cefa088",
   "metadata": {},
   "outputs": [
    {
     "name": "stdout",
     "output_type": "stream",
     "text": [
      ". e m\n",
      "e m m\n",
      "m m a\n",
      "m a .\n",
      ". o l\n",
      "o l i\n",
      "l i v\n",
      "i v i\n",
      "v i a\n",
      "i a .\n",
      ". a v\n",
      "a v a\n",
      "v a .\n"
     ]
    }
   ],
   "source": [
    "for ch1, ch2, ch3 in generate_tripling(words[:3]): print(ch1, ch2, ch3)"
   ]
  },
  {
   "cell_type": "code",
   "execution_count": 7,
   "id": "e187a330",
   "metadata": {},
   "outputs": [
    {
     "data": {
      "text/plain": [
       "196113"
      ]
     },
     "execution_count": 7,
     "metadata": {},
     "output_type": "execute_result"
    }
   ],
   "source": [
    "sum(1 for ch1, ch2, ch3 in generate_tripling(words))"
   ]
  },
  {
   "cell_type": "code",
   "execution_count": 8,
   "id": "58b6598a",
   "metadata": {},
   "outputs": [],
   "source": [
    "def generate_tripling_counter(words):\n",
    "    tripling_counter = Counter()\n",
    "    for ch1, ch2, ch3 in generate_tripling(words):\n",
    "        tripling_counter[(ch1, ch2, ch3)] += 1\n",
    "    return tripling_counter    "
   ]
  },
  {
   "cell_type": "code",
   "execution_count": 9,
   "id": "54d5467e",
   "metadata": {},
   "outputs": [
    {
     "data": {
      "text/plain": [
       "[(('a', 'h', '.'), 1714),\n",
       " (('n', 'a', '.'), 1673),\n",
       " (('a', 'n', '.'), 1509),\n",
       " (('o', 'n', '.'), 1503),\n",
       " (('.', 'm', 'a'), 1453),\n",
       " (('.', 'j', 'a'), 1255),\n",
       " (('.', 'k', 'a'), 1254),\n",
       " (('e', 'n', '.'), 1217),\n",
       " (('l', 'y', 'n'), 976),\n",
       " (('y', 'n', '.'), 953)]"
      ]
     },
     "execution_count": 9,
     "metadata": {},
     "output_type": "execute_result"
    }
   ],
   "source": [
    "tripling_counter = generate_tripling_counter(words)\n",
    "tripling_counter.most_common(10)"
   ]
  },
  {
   "cell_type": "code",
   "execution_count": 10,
   "id": "0da84c54",
   "metadata": {},
   "outputs": [
    {
     "data": {
      "text/plain": [
       "6037"
      ]
     },
     "execution_count": 10,
     "metadata": {},
     "output_type": "execute_result"
    }
   ],
   "source": [
    "len(tripling_counter)"
   ]
  },
  {
   "cell_type": "code",
   "execution_count": 11,
   "id": "48147548",
   "metadata": {},
   "outputs": [],
   "source": [
    "def create_matrix():\n",
    "    N = torch.zeros((27, 27, 27), dtype=torch.int32)\n",
    "    for ch1, ch2, ch3 in generate_tripling(words):\n",
    "        ix1 = stoi[ch1]\n",
    "        ix2 = stoi[ch2]\n",
    "        ix3 = stoi[ch3]\n",
    "        N[ix1, ix2, ix3] += 1\n",
    "    return N  "
   ]
  },
  {
   "cell_type": "code",
   "execution_count": 12,
   "id": "26bd4471",
   "metadata": {
    "scrolled": true
   },
   "outputs": [
    {
     "data": {
      "text/plain": [
       "torch.Size([27, 27, 27])"
      ]
     },
     "execution_count": 12,
     "metadata": {},
     "output_type": "execute_result"
    }
   ],
   "source": [
    "N = create_matrix(); N.shape"
   ]
  },
  {
   "cell_type": "code",
   "execution_count": 13,
   "id": "c6d7c5b2",
   "metadata": {},
   "outputs": [
    {
     "data": {
      "text/plain": [
       "tensor(1714, dtype=torch.int32)"
      ]
     },
     "execution_count": 13,
     "metadata": {},
     "output_type": "execute_result"
    }
   ],
   "source": [
    "N[1, 8, 0]"
   ]
  },
  {
   "cell_type": "code",
   "execution_count": 14,
   "id": "d74f7513",
   "metadata": {},
   "outputs": [],
   "source": [
    "P = (N+1).float()\n",
    "P = P/P.sum(-1, keepdims=True)"
   ]
  },
  {
   "cell_type": "code",
   "execution_count": 15,
   "id": "3a286139",
   "metadata": {},
   "outputs": [],
   "source": [
    "def generate_tripling_prob(words):\n",
    "    for ch1, ch2, ch3 in generate_tripling(words):\n",
    "        ix1 = stoi[ch1]\n",
    "        ix2 = stoi[ch2]\n",
    "        ix3 = stoi[ch3]\n",
    "        prob = P[ix1, ix2, ix3]\n",
    "        yield ch1, ch2, ch3, prob"
   ]
  },
  {
   "cell_type": "code",
   "execution_count": 16,
   "id": "6f5201fb",
   "metadata": {},
   "outputs": [
    {
     "name": "stdout",
     "output_type": "stream",
     "text": [
      ". e m tensor(0.1855)\n",
      "e m m tensor(0.1269)\n",
      "m m a tensor(0.3744)\n",
      "m a . tensor(0.0669)\n",
      ". o l tensor(0.2494)\n",
      "o l i tensor(0.1084)\n",
      "l i v tensor(0.0219)\n",
      "i v i tensor(0.2669)\n",
      "v i a tensor(0.1578)\n",
      "i a . tensor(0.3657)\n",
      ". a v tensor(0.0550)\n",
      "a v a tensor(0.1882)\n",
      "v a . tensor(0.1405)\n"
     ]
    }
   ],
   "source": [
    "for ch1, ch2, ch3, prob in generate_tripling_prob(words[:3]): \n",
    "    print(ch1, ch2, ch3, prob)"
   ]
  },
  {
   "cell_type": "code",
   "execution_count": 17,
   "id": "911d6c6f",
   "metadata": {},
   "outputs": [],
   "source": [
    "def generate_names(count, P):\n",
    "    g = torch.Generator().manual_seed(2147483647)\n",
    "    for i in range(count):\n",
    "        out = []\n",
    "        ix1, ix2 = 0, 0\n",
    "        while True:\n",
    "            p = P[ix1, ix2]\n",
    "            ix1 = ix2\n",
    "            ix2 = torch.multinomial(p, num_samples = 1, replacement = True).item()\n",
    "            out.append(itos[ix2])\n",
    "            if ix2 == 0:\n",
    "                break\n",
    "        yield ''.join(out)"
   ]
  },
  {
   "cell_type": "code",
   "execution_count": 18,
   "id": "bd68a119",
   "metadata": {},
   "outputs": [
    {
     "name": "stdout",
     "output_type": "stream",
     "text": [
      "arrikategase.\n",
      "rinah.\n",
      "granataycion.\n",
      "sakaroserisenebery.\n",
      "fishagnazise.\n"
     ]
    }
   ],
   "source": [
    "for name in generate_names(5, P): print(name)"
   ]
  },
  {
   "cell_type": "code",
   "execution_count": 19,
   "id": "6ffbc0b9",
   "metadata": {},
   "outputs": [],
   "source": [
    "def log_likelihood(words):\n",
    "    sum_log = 0\n",
    "    count = 0\n",
    "    for ch1, ch2, ch3, prob in generate_tripling_prob(words):\n",
    "        sum_log += torch.log(prob)\n",
    "        count += 1\n",
    "    return sum_log/count"
   ]
  },
  {
   "cell_type": "code",
   "execution_count": 20,
   "id": "303fdbfa",
   "metadata": {},
   "outputs": [
    {
     "data": {
      "text/plain": [
       "27"
      ]
     },
     "execution_count": 20,
     "metadata": {},
     "output_type": "execute_result"
    }
   ],
   "source": [
    "len(P)"
   ]
  },
  {
   "cell_type": "code",
   "execution_count": 21,
   "id": "448e2f54",
   "metadata": {},
   "outputs": [
    {
     "data": {
      "text/plain": [
       "tensor(-2.0927)"
      ]
     },
     "execution_count": 21,
     "metadata": {},
     "output_type": "execute_result"
    }
   ],
   "source": [
    "log_likelihood(words)"
   ]
  },
  {
   "cell_type": "markdown",
   "id": "b002465a",
   "metadata": {},
   "source": [
    "negative log likelihood"
   ]
  },
  {
   "cell_type": "code",
   "execution_count": 22,
   "id": "599b6f54",
   "metadata": {},
   "outputs": [
    {
     "data": {
      "text/plain": [
       "tensor(2.0927)"
      ]
     },
     "execution_count": 22,
     "metadata": {},
     "output_type": "execute_result"
    }
   ],
   "source": [
    "- log_likelihood(words)"
   ]
  },
  {
   "cell_type": "markdown",
   "id": "3393714c",
   "metadata": {},
   "source": [
    "### NN"
   ]
  },
  {
   "cell_type": "code",
   "execution_count": 23,
   "id": "a57a25cf",
   "metadata": {},
   "outputs": [],
   "source": [
    "def generate_training_set(words):\n",
    "    xs1 = []\n",
    "    xs2 = []\n",
    "    ys = []\n",
    "    for ch1, ch2, ch3 in generate_tripling(words):\n",
    "        ix1 = stoi[ch1]\n",
    "        ix2 = stoi[ch2]\n",
    "        ix3 = stoi[ch3]\n",
    "        xs1.append(ix1)\n",
    "        xs2.append(ix2)\n",
    "        ys.append(ix3)\n",
    "    xs1 = torch.tensor(xs1)\n",
    "    xs2 = torch.tensor(xs2)\n",
    "    xs = torch.vstack((xs1, xs2)).permute(1, 0)\n",
    "    ys = torch.tensor(ys)\n",
    "    return xs, ys "
   ]
  },
  {
   "cell_type": "markdown",
   "id": "fc611c11",
   "metadata": {},
   "source": [
    "#### Sample dataset"
   ]
  },
  {
   "cell_type": "code",
   "execution_count": 24,
   "id": "861e9579",
   "metadata": {},
   "outputs": [],
   "source": [
    "xs, ys = generate_training_set(words[:1])"
   ]
  },
  {
   "cell_type": "code",
   "execution_count": 25,
   "id": "21479578",
   "metadata": {},
   "outputs": [
    {
     "data": {
      "text/plain": [
       "(torch.Size([4, 2]), torch.Size([4]))"
      ]
     },
     "execution_count": 25,
     "metadata": {},
     "output_type": "execute_result"
    }
   ],
   "source": [
    "xs.shape, ys.shape"
   ]
  },
  {
   "cell_type": "code",
   "execution_count": 26,
   "id": "28a67e26",
   "metadata": {},
   "outputs": [],
   "source": [
    "xenc = F.one_hot(xs, num_classes=27)"
   ]
  },
  {
   "cell_type": "code",
   "execution_count": 27,
   "id": "b5ba6b62",
   "metadata": {},
   "outputs": [
    {
     "data": {
      "text/plain": [
       "torch.Size([4, 2, 27])"
      ]
     },
     "execution_count": 27,
     "metadata": {},
     "output_type": "execute_result"
    }
   ],
   "source": [
    "xenc.shape"
   ]
  },
  {
   "cell_type": "code",
   "execution_count": 28,
   "id": "b0d21a1a",
   "metadata": {},
   "outputs": [
    {
     "data": {
      "text/plain": [
       "tensor([[[1, 0, 0, 0, 0, 0, 0, 0, 0, 0, 0, 0, 0, 0, 0, 0, 0, 0, 0, 0, 0, 0, 0,\n",
       "          0, 0, 0, 0],\n",
       "         [0, 0, 0, 0, 0, 1, 0, 0, 0, 0, 0, 0, 0, 0, 0, 0, 0, 0, 0, 0, 0, 0, 0,\n",
       "          0, 0, 0, 0]],\n",
       "\n",
       "        [[0, 0, 0, 0, 0, 1, 0, 0, 0, 0, 0, 0, 0, 0, 0, 0, 0, 0, 0, 0, 0, 0, 0,\n",
       "          0, 0, 0, 0],\n",
       "         [0, 0, 0, 0, 0, 0, 0, 0, 0, 0, 0, 0, 0, 1, 0, 0, 0, 0, 0, 0, 0, 0, 0,\n",
       "          0, 0, 0, 0]],\n",
       "\n",
       "        [[0, 0, 0, 0, 0, 0, 0, 0, 0, 0, 0, 0, 0, 1, 0, 0, 0, 0, 0, 0, 0, 0, 0,\n",
       "          0, 0, 0, 0],\n",
       "         [0, 0, 0, 0, 0, 0, 0, 0, 0, 0, 0, 0, 0, 1, 0, 0, 0, 0, 0, 0, 0, 0, 0,\n",
       "          0, 0, 0, 0]],\n",
       "\n",
       "        [[0, 0, 0, 0, 0, 0, 0, 0, 0, 0, 0, 0, 0, 1, 0, 0, 0, 0, 0, 0, 0, 0, 0,\n",
       "          0, 0, 0, 0],\n",
       "         [0, 1, 0, 0, 0, 0, 0, 0, 0, 0, 0, 0, 0, 0, 0, 0, 0, 0, 0, 0, 0, 0, 0,\n",
       "          0, 0, 0, 0]]])"
      ]
     },
     "execution_count": 28,
     "metadata": {},
     "output_type": "execute_result"
    }
   ],
   "source": [
    "xenc"
   ]
  },
  {
   "cell_type": "code",
   "execution_count": 29,
   "id": "fb6cb1f3",
   "metadata": {},
   "outputs": [],
   "source": [
    "xenc_flattened = xenc.view(4, -1).float()"
   ]
  },
  {
   "cell_type": "code",
   "execution_count": 30,
   "id": "b5408eea",
   "metadata": {},
   "outputs": [
    {
     "data": {
      "text/plain": [
       "tensor([[ 0.5918,  1.9446,  0.6062,  ..., -1.3206,  0.7511,  0.2527],\n",
       "        [-1.1949,  0.5556, -1.8973,  ...,  1.0121,  0.4969, -0.6694],\n",
       "        [ 1.0155, -0.1593, -1.6470,  ...,  1.7031, -0.8181,  0.5967],\n",
       "        ...,\n",
       "        [-0.1382, -0.4184, -0.4411,  ...,  2.3681,  0.7865, -0.6283],\n",
       "        [-1.9234,  1.1608,  0.1504,  ...,  0.9620,  0.1165,  1.2501],\n",
       "        [-1.1059,  0.1314,  0.7401,  ..., -0.6660,  0.3437,  0.3428]])"
      ]
     },
     "execution_count": 30,
     "metadata": {},
     "output_type": "execute_result"
    }
   ],
   "source": [
    "W = torch.randn((27*2, 27))\n",
    "W"
   ]
  },
  {
   "cell_type": "code",
   "execution_count": 31,
   "id": "b75c0f43",
   "metadata": {},
   "outputs": [],
   "source": [
    "logits = xenc_flattened @ W # log counts"
   ]
  },
  {
   "cell_type": "code",
   "execution_count": 32,
   "id": "8cff7ec8",
   "metadata": {},
   "outputs": [],
   "source": [
    "counts = logits.exp()"
   ]
  },
  {
   "cell_type": "code",
   "execution_count": 33,
   "id": "7a3a21e0",
   "metadata": {},
   "outputs": [],
   "source": [
    "prob = counts/counts.sum(1, keepdims=True)"
   ]
  },
  {
   "cell_type": "code",
   "execution_count": 34,
   "id": "0eb6f9b4",
   "metadata": {},
   "outputs": [
    {
     "data": {
      "text/plain": [
       "torch.Size([4, 27])"
      ]
     },
     "execution_count": 34,
     "metadata": {},
     "output_type": "execute_result"
    }
   ],
   "source": [
    "prob.shape"
   ]
  },
  {
   "cell_type": "code",
   "execution_count": 35,
   "id": "a3065f08",
   "metadata": {},
   "outputs": [
    {
     "data": {
      "text/plain": [
       "tensor([13, 13,  1,  0])"
      ]
     },
     "execution_count": 35,
     "metadata": {},
     "output_type": "execute_result"
    }
   ],
   "source": [
    "ys"
   ]
  },
  {
   "cell_type": "code",
   "execution_count": 36,
   "id": "754b316b",
   "metadata": {},
   "outputs": [
    {
     "data": {
      "text/plain": [
       "(tensor(0.0144), tensor(0.0226), tensor(0.0070), tensor(0.0114))"
      ]
     },
     "execution_count": 36,
     "metadata": {},
     "output_type": "execute_result"
    }
   ],
   "source": [
    "prob[0, 13], prob[1, 13], prob[2, 1], prob[3, 0]"
   ]
  },
  {
   "cell_type": "code",
   "execution_count": 37,
   "id": "08016216",
   "metadata": {},
   "outputs": [
    {
     "data": {
      "text/plain": [
       "tensor(4.3695)"
      ]
     },
     "execution_count": 37,
     "metadata": {},
     "output_type": "execute_result"
    }
   ],
   "source": [
    "-prob[torch.arange(4), ys].log().mean()"
   ]
  },
  {
   "cell_type": "markdown",
   "id": "e70bb6c1",
   "metadata": {},
   "source": [
    "#### Train"
   ]
  },
  {
   "cell_type": "code",
   "execution_count": 38,
   "id": "b4034548",
   "metadata": {},
   "outputs": [],
   "source": [
    "xs, ys = generate_training_set(words)"
   ]
  },
  {
   "cell_type": "code",
   "execution_count": 39,
   "id": "c700e54d",
   "metadata": {},
   "outputs": [
    {
     "data": {
      "text/plain": [
       "(tensor([0, 5]), tensor(13))"
      ]
     },
     "execution_count": 39,
     "metadata": {},
     "output_type": "execute_result"
    }
   ],
   "source": [
    "xs[0], ys[0]"
   ]
  },
  {
   "cell_type": "code",
   "execution_count": 40,
   "id": "b509975d",
   "metadata": {},
   "outputs": [],
   "source": [
    "xenc = F.one_hot(xs, num_classes=27)\n",
    "xenc_flattened = xenc.view(len(xenc), -1).float()"
   ]
  },
  {
   "cell_type": "code",
   "execution_count": 41,
   "id": "49bed484",
   "metadata": {},
   "outputs": [
    {
     "data": {
      "text/plain": [
       "torch.float32"
      ]
     },
     "execution_count": 41,
     "metadata": {},
     "output_type": "execute_result"
    }
   ],
   "source": [
    "xenc_flattened.dtype"
   ]
  },
  {
   "cell_type": "code",
   "execution_count": 42,
   "id": "2bd853cb",
   "metadata": {},
   "outputs": [
    {
     "data": {
      "text/plain": [
       "(torch.Size([196113, 54]), torch.Size([196113]))"
      ]
     },
     "execution_count": 42,
     "metadata": {},
     "output_type": "execute_result"
    }
   ],
   "source": [
    "xenc_flattened.shape, ys.shape"
   ]
  },
  {
   "cell_type": "code",
   "execution_count": 43,
   "id": "059cb66b",
   "metadata": {},
   "outputs": [],
   "source": [
    "def train(X, y, epochs, lr):\n",
    "    num = X.shape[0]\n",
    "    print(num)\n",
    "    W = torch.randn((54, 27), requires_grad=True)\n",
    "    for i in range(epochs):\n",
    "        logits = X @ W\n",
    "        counts = logits.exp()\n",
    "        prob = counts/counts.sum(1, keepdims=True)\n",
    "        loss = -prob[torch.arange(num), y].log().mean()\n",
    "        print(f'Epoch {i} Loss {loss}')\n",
    "        \n",
    "        W.grad = None\n",
    "        loss.backward()\n",
    "        W.data += -lr * W.grad \n",
    "    return W"
   ]
  },
  {
   "cell_type": "code",
   "execution_count": 44,
   "id": "7ad4b2d6",
   "metadata": {},
   "outputs": [
    {
     "data": {
      "text/plain": [
       "196113"
      ]
     },
     "execution_count": 44,
     "metadata": {},
     "output_type": "execute_result"
    }
   ],
   "source": [
    "xenc_flattened.shape[0]"
   ]
  },
  {
   "cell_type": "code",
   "execution_count": 45,
   "id": "b05162c3",
   "metadata": {
    "scrolled": true
   },
   "outputs": [
    {
     "name": "stdout",
     "output_type": "stream",
     "text": [
      "196113\n",
      "Epoch 0 Loss 4.1442413330078125\n",
      "Epoch 1 Loss 3.346977949142456\n",
      "Epoch 2 Loss 3.018693208694458\n",
      "Epoch 3 Loss 2.8423268795013428\n",
      "Epoch 4 Loss 2.7360618114471436\n",
      "Epoch 5 Loss 2.662476062774658\n",
      "Epoch 6 Loss 2.6076130867004395\n",
      "Epoch 7 Loss 2.564934492111206\n",
      "Epoch 8 Loss 2.5307819843292236\n",
      "Epoch 9 Loss 2.502955198287964\n",
      "Epoch 10 Loss 2.4798882007598877\n",
      "Epoch 11 Loss 2.4604790210723877\n",
      "Epoch 12 Loss 2.4438893795013428\n",
      "Epoch 13 Loss 2.4295241832733154\n",
      "Epoch 14 Loss 2.416940212249756\n",
      "Epoch 15 Loss 2.4058218002319336\n",
      "Epoch 16 Loss 2.3959274291992188\n",
      "Epoch 17 Loss 2.3870749473571777\n",
      "Epoch 18 Loss 2.3791158199310303\n",
      "Epoch 19 Loss 2.3719310760498047\n",
      "Epoch 20 Loss 2.3654189109802246\n",
      "Epoch 21 Loss 2.359494924545288\n",
      "Epoch 22 Loss 2.3540847301483154\n",
      "Epoch 23 Loss 2.3491265773773193\n",
      "Epoch 24 Loss 2.3445656299591064\n",
      "Epoch 25 Loss 2.3403568267822266\n",
      "Epoch 26 Loss 2.3364596366882324\n",
      "Epoch 27 Loss 2.33284068107605\n",
      "Epoch 28 Loss 2.32947039604187\n",
      "Epoch 29 Loss 2.326323986053467\n",
      "Epoch 30 Loss 2.3233799934387207\n",
      "Epoch 31 Loss 2.3206183910369873\n",
      "Epoch 32 Loss 2.318023204803467\n",
      "Epoch 33 Loss 2.315580129623413\n",
      "Epoch 34 Loss 2.3132758140563965\n",
      "Epoch 35 Loss 2.311099052429199\n",
      "Epoch 36 Loss 2.309039354324341\n",
      "Epoch 37 Loss 2.3070878982543945\n",
      "Epoch 38 Loss 2.3052361011505127\n",
      "Epoch 39 Loss 2.3034768104553223\n",
      "Epoch 40 Loss 2.3018033504486084\n",
      "Epoch 41 Loss 2.3002095222473145\n",
      "Epoch 42 Loss 2.2986900806427\n",
      "Epoch 43 Loss 2.2972395420074463\n",
      "Epoch 44 Loss 2.295853614807129\n",
      "Epoch 45 Loss 2.2945282459259033\n",
      "Epoch 46 Loss 2.2932589054107666\n",
      "Epoch 47 Loss 2.2920429706573486\n",
      "Epoch 48 Loss 2.290876626968384\n",
      "Epoch 49 Loss 2.2897567749023438\n",
      "Epoch 50 Loss 2.2886810302734375\n",
      "Epoch 51 Loss 2.287646532058716\n",
      "Epoch 52 Loss 2.286651134490967\n",
      "Epoch 53 Loss 2.2856922149658203\n",
      "Epoch 54 Loss 2.2847683429718018\n",
      "Epoch 55 Loss 2.28387713432312\n",
      "Epoch 56 Loss 2.28301739692688\n",
      "Epoch 57 Loss 2.282186508178711\n",
      "Epoch 58 Loss 2.281383752822876\n",
      "Epoch 59 Loss 2.2806074619293213\n",
      "Epoch 60 Loss 2.2798564434051514\n",
      "Epoch 61 Loss 2.2791295051574707\n",
      "Epoch 62 Loss 2.2784252166748047\n",
      "Epoch 63 Loss 2.277742624282837\n",
      "Epoch 64 Loss 2.277080774307251\n",
      "Epoch 65 Loss 2.2764382362365723\n",
      "Epoch 66 Loss 2.2758147716522217\n",
      "Epoch 67 Loss 2.275209665298462\n",
      "Epoch 68 Loss 2.2746212482452393\n",
      "Epoch 69 Loss 2.2740495204925537\n",
      "Epoch 70 Loss 2.273493766784668\n",
      "Epoch 71 Loss 2.2729530334472656\n",
      "Epoch 72 Loss 2.2724266052246094\n",
      "Epoch 73 Loss 2.271914005279541\n",
      "Epoch 74 Loss 2.2714149951934814\n",
      "Epoch 75 Loss 2.2709288597106934\n",
      "Epoch 76 Loss 2.2704551219940186\n",
      "Epoch 77 Loss 2.2699928283691406\n",
      "Epoch 78 Loss 2.2695422172546387\n",
      "Epoch 79 Loss 2.2691025733947754\n",
      "Epoch 80 Loss 2.268673896789551\n",
      "Epoch 81 Loss 2.2682549953460693\n",
      "Epoch 82 Loss 2.267845869064331\n",
      "Epoch 83 Loss 2.267446994781494\n",
      "Epoch 84 Loss 2.2670562267303467\n",
      "Epoch 85 Loss 2.2666752338409424\n",
      "Epoch 86 Loss 2.2663023471832275\n",
      "Epoch 87 Loss 2.2659378051757812\n",
      "Epoch 88 Loss 2.2655816078186035\n",
      "Epoch 89 Loss 2.265232563018799\n",
      "Epoch 90 Loss 2.2648916244506836\n",
      "Epoch 91 Loss 2.2645576000213623\n",
      "Epoch 92 Loss 2.264230966567993\n",
      "Epoch 93 Loss 2.2639107704162598\n",
      "Epoch 94 Loss 2.2635974884033203\n",
      "Epoch 95 Loss 2.2632904052734375\n",
      "Epoch 96 Loss 2.2629897594451904\n",
      "Epoch 97 Loss 2.2626945972442627\n",
      "Epoch 98 Loss 2.26240611076355\n",
      "Epoch 99 Loss 2.262122869491577\n"
     ]
    }
   ],
   "source": [
    "model = train(xenc_flattened, ys, 100, 50)"
   ]
  },
  {
   "cell_type": "markdown",
   "id": "6598424b",
   "metadata": {},
   "source": [
    "Here the loss is less, it is an improve over bigram model"
   ]
  },
  {
   "cell_type": "code",
   "execution_count": 46,
   "id": "d86e5623",
   "metadata": {},
   "outputs": [],
   "source": [
    "xenc = F.one_hot(torch.tensor([0, 0]), num_classes=27).float()"
   ]
  },
  {
   "cell_type": "code",
   "execution_count": 47,
   "id": "fb589b7f",
   "metadata": {},
   "outputs": [
    {
     "data": {
      "text/plain": [
       "torch.Size([2, 27])"
      ]
     },
     "execution_count": 47,
     "metadata": {},
     "output_type": "execute_result"
    }
   ],
   "source": [
    "xenc.shape"
   ]
  },
  {
   "cell_type": "markdown",
   "id": "b3a0e525",
   "metadata": {},
   "source": [
    "### Prediction"
   ]
  },
  {
   "cell_type": "code",
   "execution_count": 48,
   "id": "778af19b",
   "metadata": {},
   "outputs": [],
   "source": [
    "def generate_words():\n",
    "    for i in range(5):\n",
    "        out = []\n",
    "        ix1, ix2 = 0, 0\n",
    "        while True:\n",
    "            xenc = F.one_hot(torch.tensor([ix1, ix2]), num_classes=27).float()\n",
    "            xenc_flattened = xenc.view(1, -1)\n",
    "            logits = xenc_flattened @ model # predict log-counts\n",
    "            counts = logits.exp()\n",
    "            p = counts/counts.sum(1, keepdims=True)\n",
    "            ix1 = ix2\n",
    "            ix2 = torch.multinomial(p, num_samples=1, replacement=True).item()\n",
    "            out.append(itos[ix2])\n",
    "            if ix2 == 0:\n",
    "                break\n",
    "        print(''.join(out))"
   ]
  },
  {
   "cell_type": "code",
   "execution_count": 49,
   "id": "6759b43f",
   "metadata": {},
   "outputs": [
    {
     "name": "stdout",
     "output_type": "stream",
     "text": [
      "inaer.\n",
      "relan.\n",
      "aharmin.\n",
      "rangezoreni.\n",
      "soblaynztyantreek.\n"
     ]
    }
   ],
   "source": [
    "generate_words()"
   ]
  },
  {
   "cell_type": "markdown",
   "id": "562a098d",
   "metadata": {},
   "source": [
    "## E02\n",
    "> split up the dataset randomly into 80% train set, 10% dev set, 10% test set. Train the bigram and trigram models only on the training set. Evaluate them on dev and test splits. What can you see?"
   ]
  },
  {
   "cell_type": "code",
   "execution_count": 50,
   "id": "8ec6ace4",
   "metadata": {},
   "outputs": [],
   "source": [
    "xenc_num = xenc_flattened.shape[0]"
   ]
  },
  {
   "cell_type": "code",
   "execution_count": 51,
   "id": "fb0f6758",
   "metadata": {},
   "outputs": [
    {
     "data": {
      "text/plain": [
       "range(0, 196113)"
      ]
     },
     "execution_count": 51,
     "metadata": {},
     "output_type": "execute_result"
    }
   ],
   "source": [
    "range(xenc_num)"
   ]
  },
  {
   "cell_type": "code",
   "execution_count": 52,
   "id": "c6036972",
   "metadata": {},
   "outputs": [],
   "source": [
    "test_subset, valid_subset, train_subset = random_split(range(xenc_num), [0.1, 0.1, 0.8], \n",
    "                          generator=torch.Generator().manual_seed(42))"
   ]
  },
  {
   "cell_type": "code",
   "execution_count": 53,
   "id": "dc5f290a",
   "metadata": {},
   "outputs": [],
   "source": [
    "train_idx = torch.tensor(train_subset)\n",
    "valid_idx = torch.tensor(valid_subset)\n",
    "test_idx = torch.tensor(test_subset)"
   ]
  },
  {
   "cell_type": "code",
   "execution_count": 54,
   "id": "933cdac0",
   "metadata": {},
   "outputs": [
    {
     "data": {
      "text/plain": [
       "(torch.Size([156890]), torch.Size([19611]), torch.Size([19612]))"
      ]
     },
     "execution_count": 54,
     "metadata": {},
     "output_type": "execute_result"
    }
   ],
   "source": [
    "train_idx.shape, valid_idx.shape, test_idx.shape"
   ]
  },
  {
   "cell_type": "code",
   "execution_count": 55,
   "id": "d848c3a5",
   "metadata": {},
   "outputs": [],
   "source": [
    "x_train, y_train = xenc_flattened[train_idx], ys[train_idx]\n",
    "x_valid, y_valid = xenc_flattened[valid_idx], ys[valid_idx]\n",
    "x_test, y_test = xenc_flattened[test_idx], ys[test_idx]"
   ]
  },
  {
   "cell_type": "code",
   "execution_count": 56,
   "id": "43328adb",
   "metadata": {},
   "outputs": [
    {
     "name": "stdout",
     "output_type": "stream",
     "text": [
      "156890\n",
      "Epoch 0 Loss 4.329584121704102\n",
      "Epoch 1 Loss 4.115895748138428\n",
      "Epoch 2 Loss 3.9307005405426025\n",
      "Epoch 3 Loss 3.769378185272217\n",
      "Epoch 4 Loss 3.6298155784606934\n",
      "Epoch 5 Loss 3.510538339614868\n",
      "Epoch 6 Loss 3.4096288681030273\n",
      "Epoch 7 Loss 3.324439764022827\n",
      "Epoch 8 Loss 3.2519874572753906\n",
      "Epoch 9 Loss 3.1894969940185547\n",
      "Epoch 10 Loss 3.134709358215332\n",
      "Epoch 11 Loss 3.0859360694885254\n",
      "Epoch 12 Loss 3.0419788360595703\n",
      "Epoch 13 Loss 3.002005100250244\n",
      "Epoch 14 Loss 2.9654324054718018\n",
      "Epoch 15 Loss 2.9318366050720215\n",
      "Epoch 16 Loss 2.900892496109009\n",
      "Epoch 17 Loss 2.8723373413085938\n",
      "Epoch 18 Loss 2.845947504043579\n",
      "Epoch 19 Loss 2.8215296268463135\n",
      "Epoch 20 Loss 2.798907995223999\n",
      "Epoch 21 Loss 2.7779269218444824\n",
      "Epoch 22 Loss 2.7584407329559326\n",
      "Epoch 23 Loss 2.740318775177002\n",
      "Epoch 24 Loss 2.7234408855438232\n",
      "Epoch 25 Loss 2.707695245742798\n",
      "Epoch 26 Loss 2.6929824352264404\n",
      "Epoch 27 Loss 2.6792101860046387\n",
      "Epoch 28 Loss 2.6662957668304443\n",
      "Epoch 29 Loss 2.6541638374328613\n",
      "Epoch 30 Loss 2.6427457332611084\n",
      "Epoch 31 Loss 2.6319806575775146\n",
      "Epoch 32 Loss 2.6218132972717285\n",
      "Epoch 33 Loss 2.6121933460235596\n",
      "Epoch 34 Loss 2.6030757427215576\n",
      "Epoch 35 Loss 2.594420909881592\n",
      "Epoch 36 Loss 2.5861916542053223\n",
      "Epoch 37 Loss 2.578355550765991\n",
      "Epoch 38 Loss 2.570883274078369\n",
      "Epoch 39 Loss 2.5637476444244385\n",
      "Epoch 40 Loss 2.5569252967834473\n",
      "Epoch 41 Loss 2.550393581390381\n",
      "Epoch 42 Loss 2.544133186340332\n",
      "Epoch 43 Loss 2.538126230239868\n",
      "Epoch 44 Loss 2.5323562622070312\n",
      "Epoch 45 Loss 2.526808261871338\n",
      "Epoch 46 Loss 2.5214688777923584\n",
      "Epoch 47 Loss 2.5163254737854004\n",
      "Epoch 48 Loss 2.511367082595825\n",
      "Epoch 49 Loss 2.506582736968994\n",
      "Epoch 50 Loss 2.501962661743164\n",
      "Epoch 51 Loss 2.4974987506866455\n",
      "Epoch 52 Loss 2.4931814670562744\n",
      "Epoch 53 Loss 2.489004611968994\n",
      "Epoch 54 Loss 2.4849603176116943\n",
      "Epoch 55 Loss 2.4810421466827393\n",
      "Epoch 56 Loss 2.4772439002990723\n",
      "Epoch 57 Loss 2.4735608100891113\n",
      "Epoch 58 Loss 2.4699862003326416\n",
      "Epoch 59 Loss 2.46651554107666\n",
      "Epoch 60 Loss 2.4631447792053223\n",
      "Epoch 61 Loss 2.459868907928467\n",
      "Epoch 62 Loss 2.456684112548828\n",
      "Epoch 63 Loss 2.4535863399505615\n",
      "Epoch 64 Loss 2.4505720138549805\n",
      "Epoch 65 Loss 2.4476380348205566\n",
      "Epoch 66 Loss 2.4447810649871826\n",
      "Epoch 67 Loss 2.4419972896575928\n",
      "Epoch 68 Loss 2.4392850399017334\n",
      "Epoch 69 Loss 2.436640739440918\n",
      "Epoch 70 Loss 2.4340624809265137\n",
      "Epoch 71 Loss 2.431547164916992\n",
      "Epoch 72 Loss 2.4290928840637207\n",
      "Epoch 73 Loss 2.426697015762329\n",
      "Epoch 74 Loss 2.4243581295013428\n",
      "Epoch 75 Loss 2.4220733642578125\n",
      "Epoch 76 Loss 2.4198415279388428\n",
      "Epoch 77 Loss 2.417660713195801\n",
      "Epoch 78 Loss 2.4155287742614746\n",
      "Epoch 79 Loss 2.413444757461548\n",
      "Epoch 80 Loss 2.4114062786102295\n",
      "Epoch 81 Loss 2.409412145614624\n",
      "Epoch 82 Loss 2.407461404800415\n",
      "Epoch 83 Loss 2.4055519104003906\n",
      "Epoch 84 Loss 2.4036829471588135\n",
      "Epoch 85 Loss 2.40185284614563\n",
      "Epoch 86 Loss 2.4000606536865234\n",
      "Epoch 87 Loss 2.3983049392700195\n",
      "Epoch 88 Loss 2.3965847492218018\n",
      "Epoch 89 Loss 2.3948988914489746\n",
      "Epoch 90 Loss 2.393246650695801\n",
      "Epoch 91 Loss 2.3916265964508057\n",
      "Epoch 92 Loss 2.39003849029541\n",
      "Epoch 93 Loss 2.3884806632995605\n",
      "Epoch 94 Loss 2.3869521617889404\n",
      "Epoch 95 Loss 2.38545298576355\n",
      "Epoch 96 Loss 2.383981466293335\n",
      "Epoch 97 Loss 2.382537364959717\n",
      "Epoch 98 Loss 2.3811194896698\n",
      "Epoch 99 Loss 2.379727602005005\n"
     ]
    }
   ],
   "source": [
    "model_trigram = train(x_train, y_train, 100, 10)"
   ]
  },
  {
   "cell_type": "markdown",
   "id": "e5fade0b",
   "metadata": {},
   "source": [
    "Loss on the dev set"
   ]
  },
  {
   "cell_type": "code",
   "execution_count": 102,
   "id": "7cceeff4",
   "metadata": {},
   "outputs": [],
   "source": [
    "def evaluate_loss(model, x, y):\n",
    "    logits = x @ model\n",
    "    counts = logits.exp()\n",
    "    pred = counts/counts.sum(1, keepdims=True)\n",
    "    return - pred[torch.arange(x.shape[0]), y].log().mean().item()"
   ]
  },
  {
   "cell_type": "code",
   "execution_count": 103,
   "id": "6bd70f90",
   "metadata": {},
   "outputs": [
    {
     "data": {
      "text/plain": [
       "2.381558656692505"
      ]
     },
     "execution_count": 103,
     "metadata": {},
     "output_type": "execute_result"
    }
   ],
   "source": [
    "evaluate_loss(model_trigram, x_valid, y_valid)"
   ]
  },
  {
   "cell_type": "markdown",
   "id": "82bcd835",
   "metadata": {},
   "source": [
    "Loss on the test set"
   ]
  },
  {
   "cell_type": "code",
   "execution_count": 104,
   "id": "871e6bef",
   "metadata": {},
   "outputs": [
    {
     "data": {
      "text/plain": [
       "2.3885393142700195"
      ]
     },
     "execution_count": 104,
     "metadata": {},
     "output_type": "execute_result"
    }
   ],
   "source": [
    "evaluate_loss(model_trigram, x_test, y_test)"
   ]
  },
  {
   "cell_type": "markdown",
   "id": "6ff05689",
   "metadata": {},
   "source": [
    "The loss on test and validation dataset are about the same for the trigram model on the training set."
   ]
  },
  {
   "cell_type": "markdown",
   "id": "aad0b206",
   "metadata": {},
   "source": [
    "Same we can for the bigram model that I have computed in `nbs/lecture_notes/02_building_makemore.ipynb`. The validation and test dataset have about the same losses to the training set."
   ]
  },
  {
   "cell_type": "markdown",
   "id": "fcbf51d7",
   "metadata": {},
   "source": [
    "The trigram is better than bigram"
   ]
  },
  {
   "cell_type": "markdown",
   "id": "8ae169bb",
   "metadata": {},
   "source": [
    "### E03\n",
    "> Use the dev set to tune the strength of smoothing (or regularization) for the trigram model - i.e. try many possibilities and see which one works best based on the dev set loss. What patterns can you see in the train and dev set loss as you tune this strength? Take the best setting of the smoothing and evaluate on the test set once and at the end. How good of a loss do you achieve?"
   ]
  },
  {
   "cell_type": "code",
   "execution_count": 105,
   "id": "ca9bd500",
   "metadata": {},
   "outputs": [],
   "source": [
    "def train(X, y, epochs, lr, regularization_param, print_at_every_epoch = False, print_at_last=False):\n",
    "    num = X.shape[0]\n",
    "    W = torch.randn((54, 27), requires_grad=True)\n",
    "    for i in range(epochs):\n",
    "        logits = X @ W\n",
    "        counts = logits.exp()\n",
    "        prob = counts/counts.sum(1, keepdims=True)\n",
    "        loss = -prob[torch.arange(num), y].log().mean()\n",
    "        \n",
    "        # regularization\n",
    "        regularization_loss = regularization_param * (W **2).mean()\n",
    "        loss += regularization_loss\n",
    "        \n",
    "        if print_at_every_epoch: print(f'Epoch {i} Loss {loss}')\n",
    "        \n",
    "        W.grad = None\n",
    "        loss.backward()\n",
    "        W.data += -lr * W.grad \n",
    "        \n",
    "    if print_at_last: print(f'Loss {loss}')\n",
    "    return W, loss.item()"
   ]
  },
  {
   "cell_type": "code",
   "execution_count": 110,
   "id": "f5ab0aab",
   "metadata": {},
   "outputs": [],
   "source": [
    "def get_reg_param_trend():\n",
    "    train_losses = []\n",
    "    val_losses = []\n",
    "    reg_params = []\n",
    "\n",
    "    for reg_param in torch.linspace(0, 10, 100):\n",
    "        model, train_loss = train(x_train, y_train, 100, 10, reg_param)\n",
    "        val_loss = evaluate_loss(model, x_valid, y_valid)\n",
    "        train_losses.append(train_loss)\n",
    "        val_losses.append(val_loss)\n",
    "        reg_params.append(reg_param)\n",
    "\n",
    "    return train_losses, val_losses, reg_params"
   ]
  },
  {
   "cell_type": "code",
   "execution_count": 111,
   "id": "0fda8382",
   "metadata": {},
   "outputs": [],
   "source": [
    "train_losses, val_losses, reg_params = get_reg_param_trend()"
   ]
  },
  {
   "cell_type": "code",
   "execution_count": 112,
   "id": "e9615e7c",
   "metadata": {},
   "outputs": [
    {
     "data": {
      "image/png": "[encoded data removed]",
      "text/plain": [
       "<Figure size 640x480 with 1 Axes>"
      ]
     },
     "metadata": {},
     "output_type": "display_data"
    }
   ],
   "source": [
    "plt.plot(train_losses)\n",
    "plt.plot(val_losses)\n",
    "plt.title('model loss')\n",
    "plt.ylabel('loss')\n",
    "plt.xlabel('regularization parameter')\n",
    "plt.legend(['train', 'val'], loc='upper left')\n",
    "plt.show()"
   ]
  },
  {
   "cell_type": "markdown",
   "id": "e1bead42",
   "metadata": {},
   "source": [
    "### E04\n",
    " > We saw that our 1-hot vectors merely select a row of W, so producing these vectors explicitly feels wasteful. Can you delete our use of F.one_hot in favor of simply indexing into rows of W?"
   ]
  },
  {
   "cell_type": "code",
   "execution_count": null,
   "id": "5d76f3c8",
   "metadata": {},
   "outputs": [],
   "source": [
    "def train(X, y, epochs, lr, regularization_param, print_at_every_epoch = False, print_at_last=False):\n",
    "    num = X.shape[0]\n",
    "    W = torch.randn((54, 27), requires_grad=True)\n",
    "    for i in range(epochs):\n",
    "        indices = torch.argmax(X, axis=1)\n",
    "        logits = W[indices]\n",
    "        counts = logits.exp()\n",
    "        prob = counts/counts.sum(1, keepdims=True)\n",
    "        loss = -prob[torch.arange(num), y].log().mean()\n",
    "        \n",
    "        # regularization\n",
    "        regularization_loss = regularization_param * (W **2).mean()\n",
    "        loss += regularization_loss\n",
    "        \n",
    "        if print_at_every_epoch: print(f'Epoch {i} Loss {loss}')\n",
    "        \n",
    "        W.grad = None\n",
    "        loss.backward()\n",
    "        W.data += -lr * W.grad \n",
    "        \n",
    "    if print_at_last: print(f'Loss {loss}')\n",
    "    return W, loss"
   ]
  },
  {
   "cell_type": "code",
   "execution_count": null,
   "id": "383de3e1",
   "metadata": {},
   "outputs": [],
   "source": [
    "train(x_train, y_train, 100, 10, )"
   ]
  },
  {
   "cell_type": "code",
   "execution_count": null,
   "id": "964b791c",
   "metadata": {},
   "outputs": [],
   "source": [
    "evaluate_loss(x_valid, y_valid)"
   ]
  },
  {
   "cell_type": "code",
   "execution_count": null,
   "id": "826d0053",
   "metadata": {},
   "outputs": [],
   "source": [
    "evaluate_loss(x_test, y_test)"
   ]
  },
  {
   "cell_type": "markdown",
   "id": "f5d95656",
   "metadata": {},
   "source": [
    "### E05\n",
    "> Look up and use F.cross_entropy instead. You should achieve the same result. Can you think of why we'd prefer to use F.cross_entropy instead?"
   ]
  },
  {
   "cell_type": "code",
   "execution_count": null,
   "id": "3b3ff90b",
   "metadata": {},
   "outputs": [],
   "source": [
    "import torch.nn.functional as F"
   ]
  },
  {
   "cell_type": "code",
   "execution_count": null,
   "id": "2494d117",
   "metadata": {},
   "outputs": [],
   "source": [
    "def train(X, y, epochs, lr, regularization_param, print_at_every_epoch = False, print_at_last=False):\n",
    "    num = X.shape[0]\n",
    "    W = torch.randn((54, 27), requires_grad=True)\n",
    "    for i in range(epochs):\n",
    "        logits = X @ W\n",
    "        loss = F.cross_entropy(logits, y)\n",
    "        \n",
    "        if print_at_every_epoch: print(f'Epoch {i} Loss {loss}')\n",
    "        \n",
    "        W.grad = None\n",
    "        loss.backward()\n",
    "        W.data += -lr * W.grad \n",
    "        \n",
    "    if print_at_last: print(f'Loss {loss}')\n",
    "    return W, loss"
   ]
  },
  {
   "cell_type": "code",
   "execution_count": null,
   "id": "f569c59f",
   "metadata": {},
   "outputs": [],
   "source": [
    "train(x_train, y_train, 100, 10, )"
   ]
  },
  {
   "cell_type": "code",
   "execution_count": null,
   "id": "19506a3f",
   "metadata": {},
   "outputs": [],
   "source": [
    "evaluate_loss(x_valid, y_valid)"
   ]
  },
  {
   "cell_type": "code",
   "execution_count": null,
   "id": "cc11e7ed",
   "metadata": {},
   "outputs": [],
   "source": [
    "evaluate_loss(x_test, y_test)"
   ]
  },
  {
   "cell_type": "markdown",
   "id": "048a7c30",
   "metadata": {},
   "source": [
    "### E06\n",
    "> meta-exercise! Think of a fun/interesting exercise and complete it."
   ]
  },
  {
   "cell_type": "code",
   "execution_count": null,
   "id": "4bcb931a",
   "metadata": {},
   "outputs": [],
   "source": []
  }
 ],
 "metadata": {
  "kernelspec": {
   "display_name": "zhnn",
   "language": "python",
   "name": "zhnn"
  },
  "language_info": {
   "codemirror_mode": {
    "name": "ipython",
    "version": 3
   },
   "file_extension": ".py",
   "mimetype": "text/x-python",
   "name": "python",
   "nbconvert_exporter": "python",
   "pygments_lexer": "ipython3",
   "version": "3.7.12"
  }
 },
 "nbformat": 4,
 "nbformat_minor": 5
}
