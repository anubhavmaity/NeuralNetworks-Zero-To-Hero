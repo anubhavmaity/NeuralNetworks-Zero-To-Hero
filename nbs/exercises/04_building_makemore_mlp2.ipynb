{
 "cells": [
  {
   "cell_type": "markdown",
   "id": "35220ee2",
   "metadata": {},
   "source": [
    "# Building Makemore MLP 2 Exercise"
   ]
  },
  {
   "cell_type": "markdown",
   "id": "81bb419a",
   "metadata": {},
   "source": [
    "## Imports"
   ]
  },
  {
   "cell_type": "code",
   "execution_count": null,
   "id": "a95f9510",
   "metadata": {},
   "outputs": [],
   "source": [
    "from tqdm import tqdm\n",
    "import numpy\n",
    "import torch\n",
    "from torch import nn\n",
    "import torch.nn.functional as F\n",
    "import matplotlib.pyplot as plot\n",
    "import random\n",
    "import math"
   ]
  },
  {
   "cell_type": "code",
   "execution_count": null,
   "id": "c53b85f5",
   "metadata": {},
   "outputs": [],
   "source": [
    "g = torch.Generator().manual_seed(42)"
   ]
  },
  {
   "cell_type": "markdown",
   "id": "92ac3ed2",
   "metadata": {},
   "source": [
    "## Setup"
   ]
  },
  {
   "cell_type": "code",
   "execution_count": null,
   "id": "4f1d2011",
   "metadata": {},
   "outputs": [
    {
     "data": {
      "text/plain": [
       "['emma', 'olivia', 'ava', 'isabella', 'sophia', 'charlotte', 'mia', 'amelia']"
      ]
     },
     "execution_count": null,
     "metadata": {},
     "output_type": "execute_result"
    }
   ],
   "source": [
    "words = open('../data/names.txt', 'r').read().splitlines()\n",
    "words[:8]"
   ]
  },
  {
   "cell_type": "code",
   "execution_count": null,
   "id": "b999c2a3",
   "metadata": {},
   "outputs": [],
   "source": [
    "chars = sorted(list(set(''.join(words))))\n",
    "stoi = {s: i+1 for i, s in enumerate(chars)}\n",
    "stoi['.'] = 0\n",
    "itos = {i:s for s, i in stoi.items()}"
   ]
  },
  {
   "cell_type": "code",
   "execution_count": null,
   "id": "9d2efc63",
   "metadata": {},
   "outputs": [
    {
     "data": {
      "text/plain": [
       "32033"
      ]
     },
     "execution_count": null,
     "metadata": {},
     "output_type": "execute_result"
    }
   ],
   "source": [
    "len(words)"
   ]
  },
  {
   "cell_type": "code",
   "execution_count": null,
   "id": "c49fe0ff",
   "metadata": {},
   "outputs": [],
   "source": [
    "def generate_training_set(words, block_size, print_disabled=False):\n",
    "    \n",
    "    chars = sorted(list(set(''.join(words))))\n",
    "    stoi = {s: i+1 for i, s in enumerate(chars)}\n",
    "    stoi['.'] = 0\n",
    "    itos = {i:s for s, i in stoi.items()}\n",
    "    \n",
    "    X, Y = [], []\n",
    "    \n",
    "    for w in words:\n",
    "        if print_disabled: print(w)\n",
    "        \n",
    "        context = [0] * block_size\n",
    "        for ch in w + '.':\n",
    "            ix = stoi[ch]\n",
    "            X.append(context)\n",
    "            Y.append(ix)\n",
    "            if print_disabled: print(''.join(itos[i] for i in context), '--->', itos[ix])\n",
    "            context = context[1:] + [ix] # crop and append\n",
    "            \n",
    "    X = torch.tensor(X)\n",
    "    Y = torch.tensor(Y)\n",
    "    return X, Y"
   ]
  },
  {
   "cell_type": "code",
   "execution_count": null,
   "id": "cbc49697",
   "metadata": {},
   "outputs": [],
   "source": [
    "X, Y = generate_training_set(words, 3)"
   ]
  },
  {
   "cell_type": "code",
   "execution_count": null,
   "id": "b3c29afe",
   "metadata": {},
   "outputs": [
    {
     "data": {
      "text/plain": [
       "(torch.Size([228146, 3]), torch.Size([228146]))"
      ]
     },
     "execution_count": null,
     "metadata": {},
     "output_type": "execute_result"
    }
   ],
   "source": [
    "X.shape, Y.shape"
   ]
  },
  {
   "cell_type": "code",
   "execution_count": null,
   "id": "8b8efd11",
   "metadata": {},
   "outputs": [],
   "source": [
    "def generate_train_valid_test_split(words, block_size=3):\n",
    "    random.seed(42)\n",
    "    random.shuffle(words)\n",
    "    n1 = int(0.8*len(words))\n",
    "    n2 = int(0.9*len(words))\n",
    "\n",
    "    Xtr, Ytr = generate_training_set(words[:n1], block_size)\n",
    "    Xdev, Ydev = generate_training_set(words[n1:n2], block_size)\n",
    "    Xte, Yte = generate_training_set(words[n2:], block_size)\n",
    "    \n",
    "    return Xtr, Ytr, Xdev, Ydev, Xte, Yte"
   ]
  },
  {
   "cell_type": "code",
   "execution_count": null,
   "id": "6cc4d38c",
   "metadata": {},
   "outputs": [],
   "source": [
    "Xtr, Ytr, Xdev, Ydev, Xte, Yte = generate_train_valid_test_split(words, block_size=3)"
   ]
  },
  {
   "cell_type": "code",
   "execution_count": null,
   "id": "3597d6af",
   "metadata": {},
   "outputs": [
    {
     "data": {
      "text/plain": [
       "(torch.Size([182625, 3]), torch.Size([182625]))"
      ]
     },
     "execution_count": null,
     "metadata": {},
     "output_type": "execute_result"
    }
   ],
   "source": [
    "Xtr.shape, Ytr.shape"
   ]
  },
  {
   "cell_type": "code",
   "execution_count": null,
   "id": "b2f38b13",
   "metadata": {},
   "outputs": [
    {
     "data": {
      "text/plain": [
       "(torch.Size([22655, 3]), torch.Size([22655]))"
      ]
     },
     "execution_count": null,
     "metadata": {},
     "output_type": "execute_result"
    }
   ],
   "source": [
    "Xdev.shape, Ydev.shape"
   ]
  },
  {
   "cell_type": "code",
   "execution_count": null,
   "id": "7c88462e",
   "metadata": {},
   "outputs": [
    {
     "data": {
      "text/plain": [
       "(torch.Size([22866, 3]), torch.Size([22866]))"
      ]
     },
     "execution_count": null,
     "metadata": {},
     "output_type": "execute_result"
    }
   ],
   "source": [
    "Xte.shape, Yte.shape"
   ]
  },
  {
   "cell_type": "markdown",
   "id": "7de45bb6",
   "metadata": {},
   "source": [
    "## E01\n",
    ">  I did not get around to seeing what happens when you initialize all weights and biases to zero. Try this and train the neural net. You might think either that \n",
    "> 1) the network trains just fine or \n",
    "> 2) the network doesn't train at all, but actually it is \n",
    "> 3) the network trains but only partially, and achieves a pretty bad final performance. \n",
    "\n",
    "> Inspect the gradients and activations to figure out what is happening and why the network is only partially training, and what part is being trained exactly."
   ]
  },
  {
   "cell_type": "code",
   "execution_count": null,
   "id": "8c91a5d7",
   "metadata": {},
   "outputs": [],
   "source": [
    "def train(X, Y, epochs, bs = 32, context_length = 3, vocab_size = 27, embedding_size = 10, n_hidden = 100, print_at_every_epoch=10):\n",
    "    \n",
    "    C = torch.randn((vocab_size, embedding_size), generator=g)\n",
    "    \n",
    "    layers = [\n",
    "        nn.Linear(context_length * embedding_size, n_hidden), nn.BatchNorm1d(n_hidden), nn.Tanh(),\n",
    "        nn.Linear(n_hidden, n_hidden), nn.BatchNorm1d(n_hidden), nn.Tanh(),\n",
    "        nn.Linear(n_hidden, n_hidden), nn.BatchNorm1d(n_hidden), nn.Tanh(),\n",
    "        nn.Linear(n_hidden, n_hidden), nn.BatchNorm1d(n_hidden), nn.Tanh(),\n",
    "        nn.Linear(n_hidden, n_hidden), nn.BatchNorm1d(n_hidden), nn.Tanh(),\n",
    "        nn.Linear(n_hidden, vocab_size), nn.BatchNorm1d(vocab_size)\n",
    "    ]\n",
    "    visualisation = [-1] * len(layers) \n",
    "\n",
    "    def get_activation(layer_num):\n",
    "        def hook_fn(m, i, o): visualisation[layer_num] = o \n",
    "        return hook_fn\n",
    "        \n",
    "    for i, layer in enumerate(layers):\n",
    "        layer.register_forward_hook(get_activation(i))\n",
    "        if isinstance(layer, nn.Linear):\n",
    "            nn.init.zeros_(layer.weight)\n",
    "            nn.init.zeros_(layer.bias)\n",
    "\n",
    "    print('Total number of layers are : ', len(layers))\n",
    "    parameters = [C] + [p for layer in layers for p in layer.parameters()]\n",
    "    print('Total number of parameters are :', sum(p.nelement() for p in parameters))\n",
    "\n",
    "    \n",
    "    # set parameters to required grad\n",
    "    for p in parameters:\n",
    "        p.requires_grad = True\n",
    "\n",
    "    \n",
    "        \n",
    "    lossi = []\n",
    "    ud = []\n",
    "    for i in range(epochs):\n",
    "        ix = torch.randint(0, len(X), (bs,),  generator=g)\n",
    "        \n",
    "        Xb, Yb = X[ix], Y[ix]\n",
    "        \n",
    "        emb = C[Xb]\n",
    "        x = emb.view(emb.shape[0], -1)\n",
    "        \n",
    "        for layer in layers:\n",
    "            x = layer(x)\n",
    "            x.retain_grad()\n",
    "\n",
    "\n",
    "        loss = F.cross_entropy(x, Yb)\n",
    "        \n",
    "#         for layer in layers:\n",
    "#             layer.retain_grad()\n",
    "            \n",
    "        for p in parameters:\n",
    "            p.retain_grad()\n",
    "            p.grad = None\n",
    "            \n",
    "        loss.backward()\n",
    "        \n",
    "        \n",
    "        \n",
    "        \n",
    "        lr = 0.1 if i <= 100_000 else 0.01 # lr decay\n",
    "        \n",
    "        for p in parameters:\n",
    "            p.data += -lr * p.grad\n",
    "        \n",
    "        if print_at_every_epoch: \n",
    "            if i % print_at_every_epoch == 0:\n",
    "                print(f'Epoch {i} Loss {loss.item()}')\n",
    "        \n",
    "        lossi.append(loss.item())\n",
    "        \n",
    "        with torch.no_grad():\n",
    "            for p in parameters:\n",
    "                grad_update_data_ratio = (lr * p.grad.std() / p.data.std()).log10().item() \n",
    "                ud.append(grad_update_data_ratio)\n",
    "        \n",
    "    return C, layers, lossi, ud, visualisation"
   ]
  },
  {
   "cell_type": "code",
   "execution_count": null,
   "id": "6ca0b450",
   "metadata": {},
   "outputs": [
    {
     "name": "stdout",
     "output_type": "stream",
     "text": [
      "Total number of layers are :  17\n",
      "Total number of parameters are : 47551\n",
      "Epoch 0 Loss 3.295837163925171\n",
      "Epoch 100 Loss 3.115647554397583\n",
      "Epoch 200 Loss 2.883199453353882\n",
      "Epoch 300 Loss 2.8183982372283936\n",
      "Epoch 400 Loss 2.7845687866210938\n",
      "Epoch 500 Loss 2.8769757747650146\n",
      "Epoch 600 Loss 2.75632905960083\n",
      "Epoch 700 Loss 2.5977225303649902\n",
      "Epoch 800 Loss 2.8465943336486816\n",
      "Epoch 900 Loss 3.226971387863159\n"
     ]
    }
   ],
   "source": [
    "C, layers, losses, uds, v = train(Xtr, Ytr, 1000, print_at_every_epoch=100)"
   ]
  },
  {
   "cell_type": "code",
   "execution_count": null,
   "id": "7ac0ae33",
   "metadata": {},
   "outputs": [
    {
     "data": {
      "text/plain": [
       "tensor([[2.7777e-05, 3.3950e-05, 2.4400e-05, 1.9855e-05, 3.2619e-05, 7.8713e-06,\n",
       "         2.9720e-06, 1.8255e-05, 3.6090e-05, 1.3658e-05, 2.3523e-05, 3.3139e-05,\n",
       "         2.4819e-05, 3.1158e-05, 9.9366e-07, 3.1144e-05, 1.0995e-05, 3.5033e-06,\n",
       "         7.2170e-06, 2.8630e-05, 2.9825e-05, 2.5997e-05, 1.2910e-05, 7.2101e-06,\n",
       "         3.9578e-06, 2.8727e-05, 1.7435e-05],\n",
       "        [2.7777e-05, 3.3950e-05, 2.4400e-05, 1.9855e-05, 3.2619e-05, 7.8713e-06,\n",
       "         2.9720e-06, 1.8255e-05, 3.6090e-05, 1.3658e-05, 2.3523e-05, 3.3139e-05,\n",
       "         2.4819e-05, 3.1158e-05, 9.9366e-07, 3.1144e-05, 1.0995e-05, 3.5033e-06,\n",
       "         7.2170e-06, 2.8630e-05, 2.9825e-05, 2.5997e-05, 1.2910e-05, 7.2101e-06,\n",
       "         3.9578e-06, 2.8727e-05, 1.7435e-05],\n",
       "        [2.7777e-05, 3.3950e-05, 2.4400e-05, 1.9855e-05, 3.2619e-05, 7.8713e-06,\n",
       "         2.9720e-06, 1.8255e-05, 3.6090e-05, 1.3658e-05, 2.3523e-05, 3.3139e-05,\n",
       "         2.4819e-05, 3.1158e-05, 9.9366e-07, 3.1144e-05, 1.0995e-05, 3.5033e-06,\n",
       "         7.2170e-06, 2.8630e-05, 2.9825e-05, 2.5997e-05, 1.2910e-05, 7.2101e-06,\n",
       "         3.9578e-06, 2.8727e-05, 1.7435e-05],\n",
       "        [2.7777e-05, 3.3950e-05, 2.4400e-05, 1.9855e-05, 3.2619e-05, 7.8713e-06,\n",
       "         2.9720e-06, 1.8255e-05, 3.6090e-05, 1.3658e-05, 2.3523e-05, 3.3139e-05,\n",
       "         2.4819e-05, 3.1158e-05, 9.9366e-07, 3.1144e-05, 1.0995e-05, 3.5033e-06,\n",
       "         7.2170e-06, 2.8630e-05, 2.9825e-05, 2.5997e-05, 1.2910e-05, 7.2101e-06,\n",
       "         3.9578e-06, 2.8727e-05, 1.7435e-05],\n",
       "        [2.7777e-05, 3.3950e-05, 2.4400e-05, 1.9855e-05, 3.2619e-05, 7.8713e-06,\n",
       "         2.9720e-06, 1.8255e-05, 3.6090e-05, 1.3658e-05, 2.3523e-05, 3.3139e-05,\n",
       "         2.4819e-05, 3.1158e-05, 9.9366e-07, 3.1144e-05, 1.0995e-05, 3.5033e-06,\n",
       "         7.2170e-06, 2.8630e-05, 2.9825e-05, 2.5997e-05, 1.2910e-05, 7.2101e-06,\n",
       "         3.9578e-06, 2.8727e-05, 1.7435e-05],\n",
       "        [2.7777e-05, 3.3950e-05, 2.4400e-05, 1.9855e-05, 3.2619e-05, 7.8713e-06,\n",
       "         2.9720e-06, 1.8255e-05, 3.6090e-05, 1.3658e-05, 2.3523e-05, 3.3139e-05,\n",
       "         2.4819e-05, 3.1158e-05, 9.9366e-07, 3.1144e-05, 1.0995e-05, 3.5033e-06,\n",
       "         7.2170e-06, 2.8630e-05, 2.9825e-05, 2.5997e-05, 1.2910e-05, 7.2101e-06,\n",
       "         3.9578e-06, 2.8727e-05, 1.7435e-05],\n",
       "        [2.7777e-05, 3.3950e-05, 2.4400e-05, 1.9855e-05, 3.2619e-05, 7.8713e-06,\n",
       "         2.9720e-06, 1.8255e-05, 3.6090e-05, 1.3658e-05, 2.3523e-05, 3.3139e-05,\n",
       "         2.4819e-05, 3.1158e-05, 9.9366e-07, 3.1144e-05, 1.0995e-05, 3.5033e-06,\n",
       "         7.2170e-06, 2.8630e-05, 2.9825e-05, 2.5997e-05, 1.2910e-05, 7.2101e-06,\n",
       "         3.9578e-06, 2.8727e-05, 1.7435e-05],\n",
       "        [2.7777e-05, 3.3950e-05, 2.4400e-05, 1.9855e-05, 3.2619e-05, 7.8713e-06,\n",
       "         2.9720e-06, 1.8255e-05, 3.6090e-05, 1.3658e-05, 2.3523e-05, 3.3139e-05,\n",
       "         2.4819e-05, 3.1158e-05, 9.9366e-07, 3.1144e-05, 1.0995e-05, 3.5033e-06,\n",
       "         7.2170e-06, 2.8630e-05, 2.9825e-05, 2.5997e-05, 1.2910e-05, 7.2101e-06,\n",
       "         3.9578e-06, 2.8727e-05, 1.7435e-05],\n",
       "        [2.7777e-05, 3.3950e-05, 2.4400e-05, 1.9855e-05, 3.2619e-05, 7.8713e-06,\n",
       "         2.9720e-06, 1.8255e-05, 3.6090e-05, 1.3658e-05, 2.3523e-05, 3.3139e-05,\n",
       "         2.4819e-05, 3.1158e-05, 9.9366e-07, 3.1144e-05, 1.0995e-05, 3.5033e-06,\n",
       "         7.2170e-06, 2.8630e-05, 2.9825e-05, 2.5997e-05, 1.2910e-05, 7.2101e-06,\n",
       "         3.9578e-06, 2.8727e-05, 1.7435e-05],\n",
       "        [2.7777e-05, 3.3950e-05, 2.4400e-05, 1.9855e-05, 3.2619e-05, 7.8713e-06,\n",
       "         2.9720e-06, 1.8255e-05, 3.6090e-05, 1.3658e-05, 2.3523e-05, 3.3139e-05,\n",
       "         2.4819e-05, 3.1158e-05, 9.9366e-07, 3.1144e-05, 1.0995e-05, 3.5033e-06,\n",
       "         7.2170e-06, 2.8630e-05, 2.9825e-05, 2.5997e-05, 1.2910e-05, 7.2101e-06,\n",
       "         3.9578e-06, 2.8727e-05, 1.7435e-05],\n",
       "        [2.7777e-05, 3.3950e-05, 2.4400e-05, 1.9855e-05, 3.2619e-05, 7.8713e-06,\n",
       "         2.9720e-06, 1.8255e-05, 3.6090e-05, 1.3658e-05, 2.3523e-05, 3.3139e-05,\n",
       "         2.4819e-05, 3.1158e-05, 9.9366e-07, 3.1144e-05, 1.0995e-05, 3.5033e-06,\n",
       "         7.2170e-06, 2.8630e-05, 2.9825e-05, 2.5997e-05, 1.2910e-05, 7.2101e-06,\n",
       "         3.9578e-06, 2.8727e-05, 1.7435e-05],\n",
       "        [2.7777e-05, 3.3950e-05, 2.4400e-05, 1.9855e-05, 3.2619e-05, 7.8713e-06,\n",
       "         2.9720e-06, 1.8255e-05, 3.6090e-05, 1.3658e-05, 2.3523e-05, 3.3139e-05,\n",
       "         2.4819e-05, 3.1158e-05, 9.9366e-07, 3.1144e-05, 1.0995e-05, 3.5033e-06,\n",
       "         7.2170e-06, 2.8630e-05, 2.9825e-05, 2.5997e-05, 1.2910e-05, 7.2101e-06,\n",
       "         3.9578e-06, 2.8727e-05, 1.7435e-05],\n",
       "        [2.7777e-05, 3.3950e-05, 2.4400e-05, 1.9855e-05, 3.2619e-05, 7.8713e-06,\n",
       "         2.9720e-06, 1.8255e-05, 3.6090e-05, 1.3658e-05, 2.3523e-05, 3.3139e-05,\n",
       "         2.4819e-05, 3.1158e-05, 9.9366e-07, 3.1144e-05, 1.0995e-05, 3.5033e-06,\n",
       "         7.2170e-06, 2.8630e-05, 2.9825e-05, 2.5997e-05, 1.2910e-05, 7.2101e-06,\n",
       "         3.9578e-06, 2.8727e-05, 1.7435e-05],\n",
       "        [2.7777e-05, 3.3950e-05, 2.4400e-05, 1.9855e-05, 3.2619e-05, 7.8713e-06,\n",
       "         2.9720e-06, 1.8255e-05, 3.6090e-05, 1.3658e-05, 2.3523e-05, 3.3139e-05,\n",
       "         2.4819e-05, 3.1158e-05, 9.9366e-07, 3.1144e-05, 1.0995e-05, 3.5033e-06,\n",
       "         7.2170e-06, 2.8630e-05, 2.9825e-05, 2.5997e-05, 1.2910e-05, 7.2101e-06,\n",
       "         3.9578e-06, 2.8727e-05, 1.7435e-05],\n",
       "        [2.7777e-05, 3.3950e-05, 2.4400e-05, 1.9855e-05, 3.2619e-05, 7.8713e-06,\n",
       "         2.9720e-06, 1.8255e-05, 3.6090e-05, 1.3658e-05, 2.3523e-05, 3.3139e-05,\n",
       "         2.4819e-05, 3.1158e-05, 9.9366e-07, 3.1144e-05, 1.0995e-05, 3.5033e-06,\n",
       "         7.2170e-06, 2.8630e-05, 2.9825e-05, 2.5997e-05, 1.2910e-05, 7.2101e-06,\n",
       "         3.9578e-06, 2.8727e-05, 1.7435e-05],\n",
       "        [2.7777e-05, 3.3950e-05, 2.4400e-05, 1.9855e-05, 3.2619e-05, 7.8713e-06,\n",
       "         2.9720e-06, 1.8255e-05, 3.6090e-05, 1.3658e-05, 2.3523e-05, 3.3139e-05,\n",
       "         2.4819e-05, 3.1158e-05, 9.9366e-07, 3.1144e-05, 1.0995e-05, 3.5033e-06,\n",
       "         7.2170e-06, 2.8630e-05, 2.9825e-05, 2.5997e-05, 1.2910e-05, 7.2101e-06,\n",
       "         3.9578e-06, 2.8727e-05, 1.7435e-05],\n",
       "        [2.7777e-05, 3.3950e-05, 2.4400e-05, 1.9855e-05, 3.2619e-05, 7.8713e-06,\n",
       "         2.9720e-06, 1.8255e-05, 3.6090e-05, 1.3658e-05, 2.3523e-05, 3.3139e-05,\n",
       "         2.4819e-05, 3.1158e-05, 9.9366e-07, 3.1144e-05, 1.0995e-05, 3.5033e-06,\n",
       "         7.2170e-06, 2.8630e-05, 2.9825e-05, 2.5997e-05, 1.2910e-05, 7.2101e-06,\n",
       "         3.9578e-06, 2.8727e-05, 1.7435e-05],\n",
       "        [2.7777e-05, 3.3950e-05, 2.4400e-05, 1.9855e-05, 3.2619e-05, 7.8713e-06,\n",
       "         2.9720e-06, 1.8255e-05, 3.6090e-05, 1.3658e-05, 2.3523e-05, 3.3139e-05,\n",
       "         2.4819e-05, 3.1158e-05, 9.9366e-07, 3.1144e-05, 1.0995e-05, 3.5033e-06,\n",
       "         7.2170e-06, 2.8630e-05, 2.9825e-05, 2.5997e-05, 1.2910e-05, 7.2101e-06,\n",
       "         3.9578e-06, 2.8727e-05, 1.7435e-05],\n",
       "        [2.7777e-05, 3.3950e-05, 2.4400e-05, 1.9855e-05, 3.2619e-05, 7.8713e-06,\n",
       "         2.9720e-06, 1.8255e-05, 3.6090e-05, 1.3658e-05, 2.3523e-05, 3.3139e-05,\n",
       "         2.4819e-05, 3.1158e-05, 9.9366e-07, 3.1144e-05, 1.0995e-05, 3.5033e-06,\n",
       "         7.2170e-06, 2.8630e-05, 2.9825e-05, 2.5997e-05, 1.2910e-05, 7.2101e-06,\n",
       "         3.9578e-06, 2.8727e-05, 1.7435e-05],\n",
       "        [2.7777e-05, 3.3950e-05, 2.4400e-05, 1.9855e-05, 3.2619e-05, 7.8713e-06,\n",
       "         2.9720e-06, 1.8255e-05, 3.6090e-05, 1.3658e-05, 2.3523e-05, 3.3139e-05,\n",
       "         2.4819e-05, 3.1158e-05, 9.9366e-07, 3.1144e-05, 1.0995e-05, 3.5033e-06,\n",
       "         7.2170e-06, 2.8630e-05, 2.9825e-05, 2.5997e-05, 1.2910e-05, 7.2101e-06,\n",
       "         3.9578e-06, 2.8727e-05, 1.7435e-05],\n",
       "        [2.7777e-05, 3.3950e-05, 2.4400e-05, 1.9855e-05, 3.2619e-05, 7.8713e-06,\n",
       "         2.9720e-06, 1.8255e-05, 3.6090e-05, 1.3658e-05, 2.3523e-05, 3.3139e-05,\n",
       "         2.4819e-05, 3.1158e-05, 9.9366e-07, 3.1144e-05, 1.0995e-05, 3.5033e-06,\n",
       "         7.2170e-06, 2.8630e-05, 2.9825e-05, 2.5997e-05, 1.2910e-05, 7.2101e-06,\n",
       "         3.9578e-06, 2.8727e-05, 1.7435e-05],\n",
       "        [2.7777e-05, 3.3950e-05, 2.4400e-05, 1.9855e-05, 3.2619e-05, 7.8713e-06,\n",
       "         2.9720e-06, 1.8255e-05, 3.6090e-05, 1.3658e-05, 2.3523e-05, 3.3139e-05,\n",
       "         2.4819e-05, 3.1158e-05, 9.9366e-07, 3.1144e-05, 1.0995e-05, 3.5033e-06,\n",
       "         7.2170e-06, 2.8630e-05, 2.9825e-05, 2.5997e-05, 1.2910e-05, 7.2101e-06,\n",
       "         3.9578e-06, 2.8727e-05, 1.7435e-05],\n",
       "        [2.7777e-05, 3.3950e-05, 2.4400e-05, 1.9855e-05, 3.2619e-05, 7.8713e-06,\n",
       "         2.9720e-06, 1.8255e-05, 3.6090e-05, 1.3658e-05, 2.3523e-05, 3.3139e-05,\n",
       "         2.4819e-05, 3.1158e-05, 9.9366e-07, 3.1144e-05, 1.0995e-05, 3.5033e-06,\n",
       "         7.2170e-06, 2.8630e-05, 2.9825e-05, 2.5997e-05, 1.2910e-05, 7.2101e-06,\n",
       "         3.9578e-06, 2.8727e-05, 1.7435e-05],\n",
       "        [2.7777e-05, 3.3950e-05, 2.4400e-05, 1.9855e-05, 3.2619e-05, 7.8713e-06,\n",
       "         2.9720e-06, 1.8255e-05, 3.6090e-05, 1.3658e-05, 2.3523e-05, 3.3139e-05,\n",
       "         2.4819e-05, 3.1158e-05, 9.9366e-07, 3.1144e-05, 1.0995e-05, 3.5033e-06,\n",
       "         7.2170e-06, 2.8630e-05, 2.9825e-05, 2.5997e-05, 1.2910e-05, 7.2101e-06,\n",
       "         3.9578e-06, 2.8727e-05, 1.7435e-05],\n",
       "        [2.7777e-05, 3.3950e-05, 2.4400e-05, 1.9855e-05, 3.2619e-05, 7.8713e-06,\n",
       "         2.9720e-06, 1.8255e-05, 3.6090e-05, 1.3658e-05, 2.3523e-05, 3.3139e-05,\n",
       "         2.4819e-05, 3.1158e-05, 9.9366e-07, 3.1144e-05, 1.0995e-05, 3.5033e-06,\n",
       "         7.2170e-06, 2.8630e-05, 2.9825e-05, 2.5997e-05, 1.2910e-05, 7.2101e-06,\n",
       "         3.9578e-06, 2.8727e-05, 1.7435e-05],\n",
       "        [2.7777e-05, 3.3950e-05, 2.4400e-05, 1.9855e-05, 3.2619e-05, 7.8713e-06,\n",
       "         2.9720e-06, 1.8255e-05, 3.6090e-05, 1.3658e-05, 2.3523e-05, 3.3139e-05,\n",
       "         2.4819e-05, 3.1158e-05, 9.9366e-07, 3.1144e-05, 1.0995e-05, 3.5033e-06,\n",
       "         7.2170e-06, 2.8630e-05, 2.9825e-05, 2.5997e-05, 1.2910e-05, 7.2101e-06,\n",
       "         3.9578e-06, 2.8727e-05, 1.7435e-05],\n",
       "        [2.7777e-05, 3.3950e-05, 2.4400e-05, 1.9855e-05, 3.2619e-05, 7.8713e-06,\n",
       "         2.9720e-06, 1.8255e-05, 3.6090e-05, 1.3658e-05, 2.3523e-05, 3.3139e-05,\n",
       "         2.4819e-05, 3.1158e-05, 9.9366e-07, 3.1144e-05, 1.0995e-05, 3.5033e-06,\n",
       "         7.2170e-06, 2.8630e-05, 2.9825e-05, 2.5997e-05, 1.2910e-05, 7.2101e-06,\n",
       "         3.9578e-06, 2.8727e-05, 1.7435e-05],\n",
       "        [2.7777e-05, 3.3950e-05, 2.4400e-05, 1.9855e-05, 3.2619e-05, 7.8713e-06,\n",
       "         2.9720e-06, 1.8255e-05, 3.6090e-05, 1.3658e-05, 2.3523e-05, 3.3139e-05,\n",
       "         2.4819e-05, 3.1158e-05, 9.9366e-07, 3.1144e-05, 1.0995e-05, 3.5033e-06,\n",
       "         7.2170e-06, 2.8630e-05, 2.9825e-05, 2.5997e-05, 1.2910e-05, 7.2101e-06,\n",
       "         3.9578e-06, 2.8727e-05, 1.7435e-05],\n",
       "        [2.7777e-05, 3.3950e-05, 2.4400e-05, 1.9855e-05, 3.2619e-05, 7.8713e-06,\n",
       "         2.9720e-06, 1.8255e-05, 3.6090e-05, 1.3658e-05, 2.3523e-05, 3.3139e-05,\n",
       "         2.4819e-05, 3.1158e-05, 9.9366e-07, 3.1144e-05, 1.0995e-05, 3.5033e-06,\n",
       "         7.2170e-06, 2.8630e-05, 2.9825e-05, 2.5997e-05, 1.2910e-05, 7.2101e-06,\n",
       "         3.9578e-06, 2.8727e-05, 1.7435e-05],\n",
       "        [2.7777e-05, 3.3950e-05, 2.4400e-05, 1.9855e-05, 3.2619e-05, 7.8713e-06,\n",
       "         2.9720e-06, 1.8255e-05, 3.6090e-05, 1.3658e-05, 2.3523e-05, 3.3139e-05,\n",
       "         2.4819e-05, 3.1158e-05, 9.9366e-07, 3.1144e-05, 1.0995e-05, 3.5033e-06,\n",
       "         7.2170e-06, 2.8630e-05, 2.9825e-05, 2.5997e-05, 1.2910e-05, 7.2101e-06,\n",
       "         3.9578e-06, 2.8727e-05, 1.7435e-05],\n",
       "        [2.7777e-05, 3.3950e-05, 2.4400e-05, 1.9855e-05, 3.2619e-05, 7.8713e-06,\n",
       "         2.9720e-06, 1.8255e-05, 3.6090e-05, 1.3658e-05, 2.3523e-05, 3.3139e-05,\n",
       "         2.4819e-05, 3.1158e-05, 9.9366e-07, 3.1144e-05, 1.0995e-05, 3.5033e-06,\n",
       "         7.2170e-06, 2.8630e-05, 2.9825e-05, 2.5997e-05, 1.2910e-05, 7.2101e-06,\n",
       "         3.9578e-06, 2.8727e-05, 1.7435e-05],\n",
       "        [2.7777e-05, 3.3950e-05, 2.4400e-05, 1.9855e-05, 3.2619e-05, 7.8713e-06,\n",
       "         2.9720e-06, 1.8255e-05, 3.6090e-05, 1.3658e-05, 2.3523e-05, 3.3139e-05,\n",
       "         2.4819e-05, 3.1158e-05, 9.9366e-07, 3.1144e-05, 1.0995e-05, 3.5033e-06,\n",
       "         7.2170e-06, 2.8630e-05, 2.9825e-05, 2.5997e-05, 1.2910e-05, 7.2101e-06,\n",
       "         3.9578e-06, 2.8727e-05, 1.7435e-05]], grad_fn=<AddmmBackward0>)"
      ]
     },
     "execution_count": null,
     "metadata": {},
     "output_type": "execute_result"
    }
   ],
   "source": [
    "v[15]"
   ]
  },
  {
   "cell_type": "code",
   "execution_count": null,
   "id": "f9bbd4f4",
   "metadata": {},
   "outputs": [
    {
     "data": {
      "text/plain": [
       "tensor([[0., 0., 0.,  ..., 0., 0., 0.],\n",
       "        [0., 0., 0.,  ..., 0., 0., 0.],\n",
       "        [0., 0., 0.,  ..., 0., 0., 0.],\n",
       "        ...,\n",
       "        [0., 0., 0.,  ..., 0., 0., 0.],\n",
       "        [0., 0., 0.,  ..., 0., 0., 0.],\n",
       "        [0., 0., 0.,  ..., 0., 0., 0.]])"
      ]
     },
     "execution_count": null,
     "metadata": {},
     "output_type": "execute_result"
    }
   ],
   "source": [
    "v[-3].grad"
   ]
  },
  {
   "cell_type": "code",
   "execution_count": null,
   "id": "7b413013",
   "metadata": {},
   "outputs": [
    {
     "data": {
      "text/plain": [
       "tensor([[0., 0., 0.,  ..., 0., 0., 0.],\n",
       "        [0., 0., 0.,  ..., 0., 0., 0.],\n",
       "        [0., 0., 0.,  ..., 0., 0., 0.],\n",
       "        ...,\n",
       "        [0., 0., 0.,  ..., 0., 0., 0.],\n",
       "        [0., 0., 0.,  ..., 0., 0., 0.],\n",
       "        [0., 0., 0.,  ..., 0., 0., 0.]])"
      ]
     },
     "execution_count": null,
     "metadata": {},
     "output_type": "execute_result"
    }
   ],
   "source": [
    "v['Tanh()'].grad"
   ]
  },
  {
   "cell_type": "code",
   "execution_count": null,
   "id": "5be3dcd5",
   "metadata": {},
   "outputs": [
    {
     "data": {
      "text/plain": [
       "[]"
      ]
     },
     "execution_count": null,
     "metadata": {},
     "output_type": "execute_result"
    }
   ],
   "source": [
    "list(layers[2].parameters())"
   ]
  },
  {
   "cell_type": "code",
   "execution_count": null,
   "id": "d4ed32e0",
   "metadata": {},
   "outputs": [],
   "source": [
    "@torch.no_grad()\n",
    "def evaluate_loss(model, embedding, X, Y):\n",
    "    emb = embedding[X]\n",
    "    logits = emb.view(emb.shape[0], -1)\n",
    "    for layer in model: logits = layer(logits) \n",
    "    return F.cross_entropy(logits, Y)"
   ]
  },
  {
   "cell_type": "code",
   "execution_count": null,
   "id": "1c8bd001",
   "metadata": {},
   "outputs": [
    {
     "data": {
      "text/plain": [
       "(tensor(2.8227), tensor(2.8212))"
      ]
     },
     "execution_count": null,
     "metadata": {},
     "output_type": "execute_result"
    }
   ],
   "source": [
    "evaluate_loss(layers,C, Xtr, Ytr), evaluate_loss(layers,C, Xdev, Ydev)"
   ]
  },
  {
   "cell_type": "code",
   "execution_count": null,
   "id": "ff20d952",
   "metadata": {},
   "outputs": [],
   "source": [
    "emb = C[Xdev]\n",
    "logits = emb.view(emb.shape[0], -1)"
   ]
  },
  {
   "cell_type": "markdown",
   "id": "c2c6a003",
   "metadata": {},
   "source": [
    "The loss is not good. The network does not train at except the last layers"
   ]
  },
  {
   "cell_type": "markdown",
   "id": "98f26a4c",
   "metadata": {},
   "source": [
    "### Lets see the activations and gradients"
   ]
  },
  {
   "cell_type": "code",
   "execution_count": null,
   "id": "0849420d",
   "metadata": {},
   "outputs": [],
   "source": [
    "def visualize_histograms(layers, C, Xdev):\n",
    "    plot.figure(figsize=(20, 4))\n",
    "    legends = []\n",
    "    emb = C[Xdev]\n",
    "    logits = emb.view(emb.shape[0], -1)\n",
    "    for i, layer in enumerate(layers[:-1]):\n",
    "        if isinstance(layer, nn.Tanh):\n",
    "            t = v[i]\n",
    "            print('layer %d (%10s): mean %+f, std %e' % (i, layer.__class__.__name__, t.mean(), t.std()))\n",
    "            hy, hx = torch.histogram(t, density=True)\n",
    "            plot.plot(hx[:-1].detach(), hy.detach())\n",
    "            legends.append(f'layer {i} ({layer.__class__.__name__})')\n",
    "    plot.legend(legends)\n",
    "    plot.title('gradient distribution')"
   ]
  },
  {
   "cell_type": "code",
   "execution_count": null,
   "id": "06bf1b7f",
   "metadata": {},
   "outputs": [
    {
     "name": "stdout",
     "output_type": "stream",
     "text": [
      "layer 2 (      Tanh): mean +0.000000, std 0.000000e+00\n",
      "layer 5 (      Tanh): mean +0.000000, std 0.000000e+00\n",
      "layer 8 (      Tanh): mean +0.000000, std 0.000000e+00\n",
      "layer 11 (      Tanh): mean +0.000000, std 0.000000e+00\n",
      "layer 14 (      Tanh): mean +0.000000, std 0.000000e+00\n"
     ]
    },
    {
     "data": {
      "image/png": "[encoded data removed]",
      "text/plain": [
       "<Figure size 2000x400 with 1 Axes>"
      ]
     },
     "metadata": {},
     "output_type": "display_data"
    }
   ],
   "source": [
    "visualize_histograms(layers, C, Xdev)"
   ]
  },
  {
   "cell_type": "code",
   "execution_count": null,
   "id": "7c20c073",
   "metadata": {},
   "outputs": [
    {
     "name": "stderr",
     "output_type": "stream",
     "text": [
      "/Users/anubhavmaity/micromamba/envs/zhnn/lib/python3.7/site-packages/ipykernel_launcher.py:1: UserWarning: The .grad attribute of a Tensor that is not a leaf Tensor is being accessed. Its .grad attribute won't be populated during autograd.backward(). If you indeed want the .grad field to be populated for a non-leaf Tensor, use .retain_grad() on the non-leaf Tensor. If you access the non-leaf Tensor by mistake, make sure you access the leaf Tensor instead. See github.com/pytorch/pytorch/pull/30531 for more informations. (Triggered internally at /Users/runner/work/pytorch/pytorch/pytorch/build/aten/src/ATen/core/TensorBody.h:485.)\n",
      "  \"\"\"Entry point for launching an IPython kernel.\n"
     ]
    }
   ],
   "source": [
    "layers[2](C[Xdev]).grad"
   ]
  },
  {
   "cell_type": "code",
   "execution_count": null,
   "id": "65e26ddd",
   "metadata": {},
   "outputs": [],
   "source": [
    "def visualize_histograms(layers, C, Xdev):\n",
    "    plot.figure(figsize=(20, 4))\n",
    "    legends = []\n",
    "    emb = C[Xdev]\n",
    "    logits = emb.view(emb.shape[0], -1)\n",
    "    for i, layer in enumerate(layers[:-1]):\n",
    "        if isinstance(layer, nn.Tanh):\n",
    "            t = layer.grad\n",
    "            print('layer %d (%10s): mean %+f, std %e' % (i, layer.__class__.__name__, t.mean(), t.std()))\n",
    "            hy, hx = torch.histogram(t, density=True)\n",
    "            plot.plot(hx[:-1].detach(), hy.detach())\n",
    "            legends.append(f'layer {i} ({layer.__class__.__name__})')\n",
    "    plot.legend(legends)\n",
    "    plot.title('gradient distribution')"
   ]
  },
  {
   "cell_type": "code",
   "execution_count": null,
   "id": "34fec83f",
   "metadata": {},
   "outputs": [
    {
     "ename": "AttributeError",
     "evalue": "'Tanh' object has no attribute 'grad'",
     "output_type": "error",
     "traceback": [
      "\u001b[0;31m---------------------------------------------------------------------------\u001b[0m",
      "\u001b[0;31mAttributeError\u001b[0m                            Traceback (most recent call last)",
      "\u001b[0;32m/var/folders/wh/7kgzwj895cb622q6m52_0v3r0000gn/T/ipykernel_40739/438092714.py\u001b[0m in \u001b[0;36m<module>\u001b[0;34m\u001b[0m\n\u001b[0;32m----> 1\u001b[0;31m \u001b[0mvisualize_histograms\u001b[0m\u001b[0;34m(\u001b[0m\u001b[0mlayers\u001b[0m\u001b[0;34m,\u001b[0m \u001b[0mC\u001b[0m\u001b[0;34m,\u001b[0m \u001b[0mXdev\u001b[0m\u001b[0;34m)\u001b[0m\u001b[0;34m\u001b[0m\u001b[0;34m\u001b[0m\u001b[0m\n\u001b[0m",
      "\u001b[0;32m/var/folders/wh/7kgzwj895cb622q6m52_0v3r0000gn/T/ipykernel_40739/3422092710.py\u001b[0m in \u001b[0;36mvisualize_histograms\u001b[0;34m(layers, C, Xdev)\u001b[0m\n\u001b[1;32m      6\u001b[0m     \u001b[0;32mfor\u001b[0m \u001b[0mi\u001b[0m\u001b[0;34m,\u001b[0m \u001b[0mlayer\u001b[0m \u001b[0;32min\u001b[0m \u001b[0menumerate\u001b[0m\u001b[0;34m(\u001b[0m\u001b[0mlayers\u001b[0m\u001b[0;34m[\u001b[0m\u001b[0;34m:\u001b[0m\u001b[0;34m-\u001b[0m\u001b[0;36m1\u001b[0m\u001b[0;34m]\u001b[0m\u001b[0;34m)\u001b[0m\u001b[0;34m:\u001b[0m\u001b[0;34m\u001b[0m\u001b[0;34m\u001b[0m\u001b[0m\n\u001b[1;32m      7\u001b[0m         \u001b[0;32mif\u001b[0m \u001b[0misinstance\u001b[0m\u001b[0;34m(\u001b[0m\u001b[0mlayer\u001b[0m\u001b[0;34m,\u001b[0m \u001b[0mnn\u001b[0m\u001b[0;34m.\u001b[0m\u001b[0mTanh\u001b[0m\u001b[0;34m)\u001b[0m\u001b[0;34m:\u001b[0m\u001b[0;34m\u001b[0m\u001b[0;34m\u001b[0m\u001b[0m\n\u001b[0;32m----> 8\u001b[0;31m             \u001b[0mt\u001b[0m \u001b[0;34m=\u001b[0m \u001b[0mlayer\u001b[0m\u001b[0;34m.\u001b[0m\u001b[0mgrad\u001b[0m\u001b[0;34m\u001b[0m\u001b[0;34m\u001b[0m\u001b[0m\n\u001b[0m\u001b[1;32m      9\u001b[0m             \u001b[0mprint\u001b[0m\u001b[0;34m(\u001b[0m\u001b[0;34m'layer %d (%10s): mean %+f, std %e'\u001b[0m \u001b[0;34m%\u001b[0m \u001b[0;34m(\u001b[0m\u001b[0mi\u001b[0m\u001b[0;34m,\u001b[0m \u001b[0mlayer\u001b[0m\u001b[0;34m.\u001b[0m\u001b[0m__class__\u001b[0m\u001b[0;34m.\u001b[0m\u001b[0m__name__\u001b[0m\u001b[0;34m,\u001b[0m \u001b[0mt\u001b[0m\u001b[0;34m.\u001b[0m\u001b[0mmean\u001b[0m\u001b[0;34m(\u001b[0m\u001b[0;34m)\u001b[0m\u001b[0;34m,\u001b[0m \u001b[0mt\u001b[0m\u001b[0;34m.\u001b[0m\u001b[0mstd\u001b[0m\u001b[0;34m(\u001b[0m\u001b[0;34m)\u001b[0m\u001b[0;34m)\u001b[0m\u001b[0;34m)\u001b[0m\u001b[0;34m\u001b[0m\u001b[0;34m\u001b[0m\u001b[0m\n\u001b[1;32m     10\u001b[0m             \u001b[0mhy\u001b[0m\u001b[0;34m,\u001b[0m \u001b[0mhx\u001b[0m \u001b[0;34m=\u001b[0m \u001b[0mtorch\u001b[0m\u001b[0;34m.\u001b[0m\u001b[0mhistogram\u001b[0m\u001b[0;34m(\u001b[0m\u001b[0mt\u001b[0m\u001b[0;34m,\u001b[0m \u001b[0mdensity\u001b[0m\u001b[0;34m=\u001b[0m\u001b[0;32mTrue\u001b[0m\u001b[0;34m)\u001b[0m\u001b[0;34m\u001b[0m\u001b[0;34m\u001b[0m\u001b[0m\n",
      "\u001b[0;32m~/micromamba/envs/zhnn/lib/python3.7/site-packages/torch/nn/modules/module.py\u001b[0m in \u001b[0;36m__getattr__\u001b[0;34m(self, name)\u001b[0m\n\u001b[1;32m   1268\u001b[0m                 \u001b[0;32mreturn\u001b[0m \u001b[0mmodules\u001b[0m\u001b[0;34m[\u001b[0m\u001b[0mname\u001b[0m\u001b[0;34m]\u001b[0m\u001b[0;34m\u001b[0m\u001b[0;34m\u001b[0m\u001b[0m\n\u001b[1;32m   1269\u001b[0m         raise AttributeError(\"'{}' object has no attribute '{}'\".format(\n\u001b[0;32m-> 1270\u001b[0;31m             type(self).__name__, name))\n\u001b[0m\u001b[1;32m   1271\u001b[0m \u001b[0;34m\u001b[0m\u001b[0m\n\u001b[1;32m   1272\u001b[0m     \u001b[0;32mdef\u001b[0m \u001b[0m__setattr__\u001b[0m\u001b[0;34m(\u001b[0m\u001b[0mself\u001b[0m\u001b[0;34m,\u001b[0m \u001b[0mname\u001b[0m\u001b[0;34m:\u001b[0m \u001b[0mstr\u001b[0m\u001b[0;34m,\u001b[0m \u001b[0mvalue\u001b[0m\u001b[0;34m:\u001b[0m \u001b[0mUnion\u001b[0m\u001b[0;34m[\u001b[0m\u001b[0mTensor\u001b[0m\u001b[0;34m,\u001b[0m \u001b[0;34m'Module'\u001b[0m\u001b[0;34m]\u001b[0m\u001b[0;34m)\u001b[0m \u001b[0;34m->\u001b[0m \u001b[0;32mNone\u001b[0m\u001b[0;34m:\u001b[0m\u001b[0;34m\u001b[0m\u001b[0;34m\u001b[0m\u001b[0m\n",
      "\u001b[0;31mAttributeError\u001b[0m: 'Tanh' object has no attribute 'grad'"
     ]
    },
    {
     "data": {
      "text/plain": [
       "<Figure size 2000x400 with 0 Axes>"
      ]
     },
     "metadata": {},
     "output_type": "display_data"
    }
   ],
   "source": [
    "visualize_histograms(layers, C, Xdev)"
   ]
  },
  {
   "cell_type": "code",
   "execution_count": null,
   "id": "ededf6ec",
   "metadata": {},
   "outputs": [],
   "source": []
  }
 ],
 "metadata": {
  "kernelspec": {
   "display_name": "zhnn",
   "language": "python",
   "name": "zhnn"
  }
 },
 "nbformat": 4,
 "nbformat_minor": 5
}
