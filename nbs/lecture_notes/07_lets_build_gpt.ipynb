{
 "cells": [
  {
   "cell_type": "markdown",
   "id": "be735037",
   "metadata": {},
   "source": [
    "# GPT (Generative Pretrained Transformer)"
   ]
  },
  {
   "cell_type": "code",
   "execution_count": null,
   "id": "a7f0eb98",
   "metadata": {},
   "outputs": [],
   "source": [
    "#| default_exp bigram "
   ]
  },
  {
   "cell_type": "code",
   "execution_count": null,
   "id": "2b294269",
   "metadata": {},
   "outputs": [
    {
     "data": {
      "text/plain": [
       "<torch._C.Generator>"
      ]
     },
     "execution_count": null,
     "metadata": {},
     "output_type": "execute_result"
    }
   ],
   "source": [
    "#|export\n",
    "import requests\n",
    "from fastcore.all import L, urlsave\n",
    "from rich import print\n",
    "import numpy\n",
    "import torch\n",
    "import torch.nn as nn\n",
    "from torch.nn import functional as F\n",
    "\n",
    "torch.manual_seed(1337)"
   ]
  },
  {
   "cell_type": "code",
   "execution_count": null,
   "id": "0affbe64",
   "metadata": {},
   "outputs": [],
   "source": [
    "#|export\n",
    "device = 'cuda' if torch.cuda.is_available() else 'cpu'"
   ]
  },
  {
   "cell_type": "markdown",
   "id": "20c195c2",
   "metadata": {},
   "source": [
    "## Read & Explore Data"
   ]
  },
  {
   "cell_type": "code",
   "execution_count": null,
   "id": "39633bf4",
   "metadata": {},
   "outputs": [],
   "source": [
    "#|export\n",
    "path = urlsave('https://raw.githubusercontent.com/karpathy/char-rnn/master/data/tinyshakespeare/input.txt', '../data/input.txt')"
   ]
  },
  {
   "cell_type": "code",
   "execution_count": null,
   "id": "5b9771cf",
   "metadata": {},
   "outputs": [],
   "source": [
    "#|export\n",
    "text = path.read_text(encoding='utf-8')"
   ]
  },
  {
   "cell_type": "code",
   "execution_count": null,
   "id": "f710557a",
   "metadata": {},
   "outputs": [
    {
     "data": {
      "text/html": [
       "<pre style=\"white-space:pre;overflow-x:auto;line-height:normal;font-family:Menlo,'DejaVu Sans Mono',consolas,'Courier New',monospace\">Length of the dataset  <span style=\"color: #008080; text-decoration-color: #008080; font-weight: bold\">1115394</span>\n",
       "</pre>\n"
      ],
      "text/plain": [
       "Length of the dataset  \u001b[1;36m1115394\u001b[0m\n"
      ]
     },
     "metadata": {},
     "output_type": "display_data"
    }
   ],
   "source": [
    "print(\"Length of the dataset \", len(text))"
   ]
  },
  {
   "cell_type": "code",
   "execution_count": null,
   "id": "5957c556",
   "metadata": {},
   "outputs": [
    {
     "data": {
      "text/html": [
       "<pre style=\"white-space:pre;overflow-x:auto;line-height:normal;font-family:Menlo,'DejaVu Sans Mono',consolas,'Courier New',monospace\">First Citizen:\n",
       "Before we proceed any further, hear me speak.\n",
       "\n",
       "All:\n",
       "Speak, speak.\n",
       "\n",
       "First Citizen:\n",
       "You are all resolved rather to die than to famish?\n",
       "\n",
       "All:\n",
       "Resolved. resolved.\n",
       "\n",
       "First Citizen:\n",
       "First, you know Caius Marcius is chief enemy to the people.\n",
       "\n",
       "All:\n",
       "We know't, we know't.\n",
       "\n",
       "First Citizen:\n",
       "Let us kill him, and we'll have corn at our own price.\n",
       "Is't a verdict?\n",
       "\n",
       "All:\n",
       "No more talking on't; let it be done: away, away!\n",
       "\n",
       "Second Citizen:\n",
       "One word, good citizens.\n",
       "\n",
       "First Citizen:\n",
       "We are accounted poor citizens, the patricians good.\n",
       "What authority surfeits on would relieve us: if they\n",
       "would yield us but the superfluity, while it were\n",
       "wholesome, we might guess they relieved us humanely;\n",
       "but they think we are too dear: the leanness that\n",
       "afflicts us, the object of our misery, is as an\n",
       "inventory to particularise their abundance; our\n",
       "sufferance is a gain to them Let us revenge this with\n",
       "our pikes, ere we become rakes: for the gods know I\n",
       "speak this in hunger for bread, not in thirst for revenge.\n",
       "\n",
       "\n",
       "</pre>\n"
      ],
      "text/plain": [
       "First Citizen:\n",
       "Before we proceed any further, hear me speak.\n",
       "\n",
       "All:\n",
       "Speak, speak.\n",
       "\n",
       "First Citizen:\n",
       "You are all resolved rather to die than to famish?\n",
       "\n",
       "All:\n",
       "Resolved. resolved.\n",
       "\n",
       "First Citizen:\n",
       "First, you know Caius Marcius is chief enemy to the people.\n",
       "\n",
       "All:\n",
       "We know't, we know't.\n",
       "\n",
       "First Citizen:\n",
       "Let us kill him, and we'll have corn at our own price.\n",
       "Is't a verdict?\n",
       "\n",
       "All:\n",
       "No more talking on't; let it be done: away, away!\n",
       "\n",
       "Second Citizen:\n",
       "One word, good citizens.\n",
       "\n",
       "First Citizen:\n",
       "We are accounted poor citizens, the patricians good.\n",
       "What authority surfeits on would relieve us: if they\n",
       "would yield us but the superfluity, while it were\n",
       "wholesome, we might guess they relieved us humanely;\n",
       "but they think we are too dear: the leanness that\n",
       "afflicts us, the object of our misery, is as an\n",
       "inventory to particularise their abundance; our\n",
       "sufferance is a gain to them Let us revenge this with\n",
       "our pikes, ere we become rakes: for the gods know I\n",
       "speak this in hunger for bread, not in thirst for revenge.\n",
       "\n",
       "\n"
      ]
     },
     "metadata": {},
     "output_type": "display_data"
    }
   ],
   "source": [
    "# lets look at the first 1000 characters \n",
    "print(text[:1000])"
   ]
  },
  {
   "cell_type": "markdown",
   "id": "6fd69787",
   "metadata": {},
   "source": [
    "## Tokenization"
   ]
  },
  {
   "cell_type": "code",
   "execution_count": null,
   "id": "6205b239",
   "metadata": {},
   "outputs": [],
   "source": [
    "#|export\n",
    "chars = L(set(text)).sorted()\n",
    "vocab_size = len(chars)"
   ]
  },
  {
   "cell_type": "code",
   "execution_count": null,
   "id": "41600542",
   "metadata": {},
   "outputs": [
    {
     "data": {
      "text/html": [
       "<pre style=\"white-space:pre;overflow-x:auto;line-height:normal;font-family:Menlo,'DejaVu Sans Mono',consolas,'Courier New',monospace\">\n",
       " !$&amp;',-.<span style=\"color: #008080; text-decoration-color: #008080; font-weight: bold\">3</span>:;?ABCDEFGHIJKLMNOPQRSTUVWXYZabcdefghijklmnopqrstuvwxyz <span style=\"color: #008080; text-decoration-color: #008080; font-weight: bold\">65</span>\n",
       "</pre>\n"
      ],
      "text/plain": [
       "\n",
       " !$&',-.\u001b[1;36m3\u001b[0m:;?ABCDEFGHIJKLMNOPQRSTUVWXYZabcdefghijklmnopqrstuvwxyz \u001b[1;36m65\u001b[0m\n"
      ]
     },
     "metadata": {},
     "output_type": "display_data"
    }
   ],
   "source": [
    "print(''.join(chars), vocab_size)"
   ]
  },
  {
   "cell_type": "code",
   "execution_count": null,
   "id": "aa3aa6e3",
   "metadata": {},
   "outputs": [],
   "source": [
    "#|export\n",
    "stoi = {ch: i for i, ch in enumerate(chars)}\n",
    "itos = dict(map(reversed, stoi.items()))\n",
    "encode = lambda s: [stoi[c] for c in s] # encoder: take a string, output a list of integers\n",
    "decode = lambda l: ''.join([itos[i] for i in l]) # decoder: take a list of integers, output a string"
   ]
  },
  {
   "cell_type": "code",
   "execution_count": null,
   "id": "59a41c82",
   "metadata": {},
   "outputs": [
    {
     "data": {
      "text/html": [
       "<pre style=\"white-space:pre;overflow-x:auto;line-height:normal;font-family:Menlo,'DejaVu Sans Mono',consolas,'Courier New',monospace\"><span style=\"font-weight: bold\">[</span><span style=\"color: #008080; text-decoration-color: #008080; font-weight: bold\">46</span>, <span style=\"color: #008080; text-decoration-color: #008080; font-weight: bold\">47</span>, <span style=\"color: #008080; text-decoration-color: #008080; font-weight: bold\">47</span>, <span style=\"color: #008080; text-decoration-color: #008080; font-weight: bold\">1</span>, <span style=\"color: #008080; text-decoration-color: #008080; font-weight: bold\">58</span>, <span style=\"color: #008080; text-decoration-color: #008080; font-weight: bold\">46</span>, <span style=\"color: #008080; text-decoration-color: #008080; font-weight: bold\">43</span>, <span style=\"color: #008080; text-decoration-color: #008080; font-weight: bold\">56</span>, <span style=\"color: #008080; text-decoration-color: #008080; font-weight: bold\">43</span><span style=\"font-weight: bold\">]</span>\n",
       "</pre>\n"
      ],
      "text/plain": [
       "\u001b[1m[\u001b[0m\u001b[1;36m46\u001b[0m, \u001b[1;36m47\u001b[0m, \u001b[1;36m47\u001b[0m, \u001b[1;36m1\u001b[0m, \u001b[1;36m58\u001b[0m, \u001b[1;36m46\u001b[0m, \u001b[1;36m43\u001b[0m, \u001b[1;36m56\u001b[0m, \u001b[1;36m43\u001b[0m\u001b[1m]\u001b[0m\n"
      ]
     },
     "metadata": {},
     "output_type": "display_data"
    },
    {
     "data": {
      "text/html": [
       "<pre style=\"white-space:pre;overflow-x:auto;line-height:normal;font-family:Menlo,'DejaVu Sans Mono',consolas,'Courier New',monospace\">hii there\n",
       "</pre>\n"
      ],
      "text/plain": [
       "hii there\n"
      ]
     },
     "metadata": {},
     "output_type": "display_data"
    }
   ],
   "source": [
    "print(encode(\"hii there\"))\n",
    "print(decode(encode(\"hii there\")))"
   ]
  },
  {
   "cell_type": "code",
   "execution_count": null,
   "id": "3cfd056d",
   "metadata": {},
   "outputs": [],
   "source": [
    "#|export\n",
    "# lets now encode the entire text dataset and store it into a torch.Tensor\n",
    "data = torch.tensor(encode(text), dtype=torch.long)"
   ]
  },
  {
   "cell_type": "code",
   "execution_count": null,
   "id": "6313c5e6",
   "metadata": {},
   "outputs": [
    {
     "data": {
      "text/html": [
       "<pre style=\"white-space:pre;overflow-x:auto;line-height:normal;font-family:Menlo,'DejaVu Sans Mono',consolas,'Courier New',monospace\"><span style=\"color: #800080; text-decoration-color: #800080; font-weight: bold\">torch.Size</span><span style=\"font-weight: bold\">([</span><span style=\"color: #008080; text-decoration-color: #008080; font-weight: bold\">1115394</span><span style=\"font-weight: bold\">])</span>\n",
       "torch.int64\n",
       "</pre>\n"
      ],
      "text/plain": [
       "\u001b[1;35mtorch.Size\u001b[0m\u001b[1m(\u001b[0m\u001b[1m[\u001b[0m\u001b[1;36m1115394\u001b[0m\u001b[1m]\u001b[0m\u001b[1m)\u001b[0m\n",
       "torch.int64\n"
      ]
     },
     "metadata": {},
     "output_type": "display_data"
    },
    {
     "data": {
      "text/html": [
       "<pre style=\"white-space:pre;overflow-x:auto;line-height:normal;font-family:Menlo,'DejaVu Sans Mono',consolas,'Courier New',monospace\"><span style=\"color: #800080; text-decoration-color: #800080; font-weight: bold\">tensor</span><span style=\"font-weight: bold\">([</span><span style=\"color: #008080; text-decoration-color: #008080; font-weight: bold\">18</span>, <span style=\"color: #008080; text-decoration-color: #008080; font-weight: bold\">47</span>, <span style=\"color: #008080; text-decoration-color: #008080; font-weight: bold\">56</span>, <span style=\"color: #008080; text-decoration-color: #008080; font-weight: bold\">57</span>, <span style=\"color: #008080; text-decoration-color: #008080; font-weight: bold\">58</span>,  <span style=\"color: #008080; text-decoration-color: #008080; font-weight: bold\">1</span>, <span style=\"color: #008080; text-decoration-color: #008080; font-weight: bold\">15</span>, <span style=\"color: #008080; text-decoration-color: #008080; font-weight: bold\">47</span>, <span style=\"color: #008080; text-decoration-color: #008080; font-weight: bold\">58</span>, <span style=\"color: #008080; text-decoration-color: #008080; font-weight: bold\">47</span>, <span style=\"color: #008080; text-decoration-color: #008080; font-weight: bold\">64</span>, <span style=\"color: #008080; text-decoration-color: #008080; font-weight: bold\">43</span>, <span style=\"color: #008080; text-decoration-color: #008080; font-weight: bold\">52</span>, <span style=\"color: #008080; text-decoration-color: #008080; font-weight: bold\">10</span>,  <span style=\"color: #008080; text-decoration-color: #008080; font-weight: bold\">0</span>, <span style=\"color: #008080; text-decoration-color: #008080; font-weight: bold\">14</span>, <span style=\"color: #008080; text-decoration-color: #008080; font-weight: bold\">43</span>, <span style=\"color: #008080; text-decoration-color: #008080; font-weight: bold\">44</span>,\n",
       "        <span style=\"color: #008080; text-decoration-color: #008080; font-weight: bold\">53</span>, <span style=\"color: #008080; text-decoration-color: #008080; font-weight: bold\">56</span>, <span style=\"color: #008080; text-decoration-color: #008080; font-weight: bold\">43</span>,  <span style=\"color: #008080; text-decoration-color: #008080; font-weight: bold\">1</span>, <span style=\"color: #008080; text-decoration-color: #008080; font-weight: bold\">61</span>, <span style=\"color: #008080; text-decoration-color: #008080; font-weight: bold\">43</span>,  <span style=\"color: #008080; text-decoration-color: #008080; font-weight: bold\">1</span>, <span style=\"color: #008080; text-decoration-color: #008080; font-weight: bold\">54</span>, <span style=\"color: #008080; text-decoration-color: #008080; font-weight: bold\">56</span>, <span style=\"color: #008080; text-decoration-color: #008080; font-weight: bold\">53</span>, <span style=\"color: #008080; text-decoration-color: #008080; font-weight: bold\">41</span>, <span style=\"color: #008080; text-decoration-color: #008080; font-weight: bold\">43</span>, <span style=\"color: #008080; text-decoration-color: #008080; font-weight: bold\">43</span>, <span style=\"color: #008080; text-decoration-color: #008080; font-weight: bold\">42</span>,  <span style=\"color: #008080; text-decoration-color: #008080; font-weight: bold\">1</span>, <span style=\"color: #008080; text-decoration-color: #008080; font-weight: bold\">39</span>, <span style=\"color: #008080; text-decoration-color: #008080; font-weight: bold\">52</span>, <span style=\"color: #008080; text-decoration-color: #008080; font-weight: bold\">63</span>,\n",
       "         <span style=\"color: #008080; text-decoration-color: #008080; font-weight: bold\">1</span>, <span style=\"color: #008080; text-decoration-color: #008080; font-weight: bold\">44</span>, <span style=\"color: #008080; text-decoration-color: #008080; font-weight: bold\">59</span>, <span style=\"color: #008080; text-decoration-color: #008080; font-weight: bold\">56</span>, <span style=\"color: #008080; text-decoration-color: #008080; font-weight: bold\">58</span>, <span style=\"color: #008080; text-decoration-color: #008080; font-weight: bold\">46</span>, <span style=\"color: #008080; text-decoration-color: #008080; font-weight: bold\">43</span>, <span style=\"color: #008080; text-decoration-color: #008080; font-weight: bold\">56</span>,  <span style=\"color: #008080; text-decoration-color: #008080; font-weight: bold\">6</span>,  <span style=\"color: #008080; text-decoration-color: #008080; font-weight: bold\">1</span>, <span style=\"color: #008080; text-decoration-color: #008080; font-weight: bold\">46</span>, <span style=\"color: #008080; text-decoration-color: #008080; font-weight: bold\">43</span>, <span style=\"color: #008080; text-decoration-color: #008080; font-weight: bold\">39</span>, <span style=\"color: #008080; text-decoration-color: #008080; font-weight: bold\">56</span>,  <span style=\"color: #008080; text-decoration-color: #008080; font-weight: bold\">1</span>, <span style=\"color: #008080; text-decoration-color: #008080; font-weight: bold\">51</span>, <span style=\"color: #008080; text-decoration-color: #008080; font-weight: bold\">43</span>,  <span style=\"color: #008080; text-decoration-color: #008080; font-weight: bold\">1</span>,\n",
       "        <span style=\"color: #008080; text-decoration-color: #008080; font-weight: bold\">57</span>, <span style=\"color: #008080; text-decoration-color: #008080; font-weight: bold\">54</span>, <span style=\"color: #008080; text-decoration-color: #008080; font-weight: bold\">43</span>, <span style=\"color: #008080; text-decoration-color: #008080; font-weight: bold\">39</span>, <span style=\"color: #008080; text-decoration-color: #008080; font-weight: bold\">49</span>,  <span style=\"color: #008080; text-decoration-color: #008080; font-weight: bold\">8</span>,  <span style=\"color: #008080; text-decoration-color: #008080; font-weight: bold\">0</span>,  <span style=\"color: #008080; text-decoration-color: #008080; font-weight: bold\">0</span>, <span style=\"color: #008080; text-decoration-color: #008080; font-weight: bold\">13</span>, <span style=\"color: #008080; text-decoration-color: #008080; font-weight: bold\">50</span>, <span style=\"color: #008080; text-decoration-color: #008080; font-weight: bold\">50</span>, <span style=\"color: #008080; text-decoration-color: #008080; font-weight: bold\">10</span>,  <span style=\"color: #008080; text-decoration-color: #008080; font-weight: bold\">0</span>, <span style=\"color: #008080; text-decoration-color: #008080; font-weight: bold\">31</span>, <span style=\"color: #008080; text-decoration-color: #008080; font-weight: bold\">54</span>, <span style=\"color: #008080; text-decoration-color: #008080; font-weight: bold\">43</span>, <span style=\"color: #008080; text-decoration-color: #008080; font-weight: bold\">39</span>, <span style=\"color: #008080; text-decoration-color: #008080; font-weight: bold\">49</span>,\n",
       "         <span style=\"color: #008080; text-decoration-color: #008080; font-weight: bold\">6</span>,  <span style=\"color: #008080; text-decoration-color: #008080; font-weight: bold\">1</span>, <span style=\"color: #008080; text-decoration-color: #008080; font-weight: bold\">57</span>, <span style=\"color: #008080; text-decoration-color: #008080; font-weight: bold\">54</span>, <span style=\"color: #008080; text-decoration-color: #008080; font-weight: bold\">43</span>, <span style=\"color: #008080; text-decoration-color: #008080; font-weight: bold\">39</span>, <span style=\"color: #008080; text-decoration-color: #008080; font-weight: bold\">49</span>,  <span style=\"color: #008080; text-decoration-color: #008080; font-weight: bold\">8</span>,  <span style=\"color: #008080; text-decoration-color: #008080; font-weight: bold\">0</span>,  <span style=\"color: #008080; text-decoration-color: #008080; font-weight: bold\">0</span>, <span style=\"color: #008080; text-decoration-color: #008080; font-weight: bold\">18</span>, <span style=\"color: #008080; text-decoration-color: #008080; font-weight: bold\">47</span>, <span style=\"color: #008080; text-decoration-color: #008080; font-weight: bold\">56</span>, <span style=\"color: #008080; text-decoration-color: #008080; font-weight: bold\">57</span>, <span style=\"color: #008080; text-decoration-color: #008080; font-weight: bold\">58</span>,  <span style=\"color: #008080; text-decoration-color: #008080; font-weight: bold\">1</span>, <span style=\"color: #008080; text-decoration-color: #008080; font-weight: bold\">15</span>, <span style=\"color: #008080; text-decoration-color: #008080; font-weight: bold\">47</span>,\n",
       "        <span style=\"color: #008080; text-decoration-color: #008080; font-weight: bold\">58</span>, <span style=\"color: #008080; text-decoration-color: #008080; font-weight: bold\">47</span>, <span style=\"color: #008080; text-decoration-color: #008080; font-weight: bold\">64</span>, <span style=\"color: #008080; text-decoration-color: #008080; font-weight: bold\">43</span>, <span style=\"color: #008080; text-decoration-color: #008080; font-weight: bold\">52</span>, <span style=\"color: #008080; text-decoration-color: #008080; font-weight: bold\">10</span>,  <span style=\"color: #008080; text-decoration-color: #008080; font-weight: bold\">0</span>, <span style=\"color: #008080; text-decoration-color: #008080; font-weight: bold\">37</span>, <span style=\"color: #008080; text-decoration-color: #008080; font-weight: bold\">53</span>, <span style=\"color: #008080; text-decoration-color: #008080; font-weight: bold\">59</span><span style=\"font-weight: bold\">])</span>\n",
       "</pre>\n"
      ],
      "text/plain": [
       "\u001b[1;35mtensor\u001b[0m\u001b[1m(\u001b[0m\u001b[1m[\u001b[0m\u001b[1;36m18\u001b[0m, \u001b[1;36m47\u001b[0m, \u001b[1;36m56\u001b[0m, \u001b[1;36m57\u001b[0m, \u001b[1;36m58\u001b[0m,  \u001b[1;36m1\u001b[0m, \u001b[1;36m15\u001b[0m, \u001b[1;36m47\u001b[0m, \u001b[1;36m58\u001b[0m, \u001b[1;36m47\u001b[0m, \u001b[1;36m64\u001b[0m, \u001b[1;36m43\u001b[0m, \u001b[1;36m52\u001b[0m, \u001b[1;36m10\u001b[0m,  \u001b[1;36m0\u001b[0m, \u001b[1;36m14\u001b[0m, \u001b[1;36m43\u001b[0m, \u001b[1;36m44\u001b[0m,\n",
       "        \u001b[1;36m53\u001b[0m, \u001b[1;36m56\u001b[0m, \u001b[1;36m43\u001b[0m,  \u001b[1;36m1\u001b[0m, \u001b[1;36m61\u001b[0m, \u001b[1;36m43\u001b[0m,  \u001b[1;36m1\u001b[0m, \u001b[1;36m54\u001b[0m, \u001b[1;36m56\u001b[0m, \u001b[1;36m53\u001b[0m, \u001b[1;36m41\u001b[0m, \u001b[1;36m43\u001b[0m, \u001b[1;36m43\u001b[0m, \u001b[1;36m42\u001b[0m,  \u001b[1;36m1\u001b[0m, \u001b[1;36m39\u001b[0m, \u001b[1;36m52\u001b[0m, \u001b[1;36m63\u001b[0m,\n",
       "         \u001b[1;36m1\u001b[0m, \u001b[1;36m44\u001b[0m, \u001b[1;36m59\u001b[0m, \u001b[1;36m56\u001b[0m, \u001b[1;36m58\u001b[0m, \u001b[1;36m46\u001b[0m, \u001b[1;36m43\u001b[0m, \u001b[1;36m56\u001b[0m,  \u001b[1;36m6\u001b[0m,  \u001b[1;36m1\u001b[0m, \u001b[1;36m46\u001b[0m, \u001b[1;36m43\u001b[0m, \u001b[1;36m39\u001b[0m, \u001b[1;36m56\u001b[0m,  \u001b[1;36m1\u001b[0m, \u001b[1;36m51\u001b[0m, \u001b[1;36m43\u001b[0m,  \u001b[1;36m1\u001b[0m,\n",
       "        \u001b[1;36m57\u001b[0m, \u001b[1;36m54\u001b[0m, \u001b[1;36m43\u001b[0m, \u001b[1;36m39\u001b[0m, \u001b[1;36m49\u001b[0m,  \u001b[1;36m8\u001b[0m,  \u001b[1;36m0\u001b[0m,  \u001b[1;36m0\u001b[0m, \u001b[1;36m13\u001b[0m, \u001b[1;36m50\u001b[0m, \u001b[1;36m50\u001b[0m, \u001b[1;36m10\u001b[0m,  \u001b[1;36m0\u001b[0m, \u001b[1;36m31\u001b[0m, \u001b[1;36m54\u001b[0m, \u001b[1;36m43\u001b[0m, \u001b[1;36m39\u001b[0m, \u001b[1;36m49\u001b[0m,\n",
       "         \u001b[1;36m6\u001b[0m,  \u001b[1;36m1\u001b[0m, \u001b[1;36m57\u001b[0m, \u001b[1;36m54\u001b[0m, \u001b[1;36m43\u001b[0m, \u001b[1;36m39\u001b[0m, \u001b[1;36m49\u001b[0m,  \u001b[1;36m8\u001b[0m,  \u001b[1;36m0\u001b[0m,  \u001b[1;36m0\u001b[0m, \u001b[1;36m18\u001b[0m, \u001b[1;36m47\u001b[0m, \u001b[1;36m56\u001b[0m, \u001b[1;36m57\u001b[0m, \u001b[1;36m58\u001b[0m,  \u001b[1;36m1\u001b[0m, \u001b[1;36m15\u001b[0m, \u001b[1;36m47\u001b[0m,\n",
       "        \u001b[1;36m58\u001b[0m, \u001b[1;36m47\u001b[0m, \u001b[1;36m64\u001b[0m, \u001b[1;36m43\u001b[0m, \u001b[1;36m52\u001b[0m, \u001b[1;36m10\u001b[0m,  \u001b[1;36m0\u001b[0m, \u001b[1;36m37\u001b[0m, \u001b[1;36m53\u001b[0m, \u001b[1;36m59\u001b[0m\u001b[1m]\u001b[0m\u001b[1m)\u001b[0m\n"
      ]
     },
     "metadata": {},
     "output_type": "display_data"
    }
   ],
   "source": [
    "print(data.shape, data.dtype)\n",
    "print(data[:100]) # the 100 characters we looked at earlier will look like this to the GPT"
   ]
  },
  {
   "cell_type": "markdown",
   "id": "dfb15054",
   "metadata": {},
   "source": [
    "## Train/Validation Split"
   ]
  },
  {
   "cell_type": "code",
   "execution_count": null,
   "id": "44561c88",
   "metadata": {},
   "outputs": [],
   "source": [
    "#|export\n",
    "# lets now split up the data into train and validation sets\n",
    "n = int(0.9*len(data)) # first 90% will be train, rest will be val\n",
    "train_data = data[:n]\n",
    "val_data = data[n:]"
   ]
  },
  {
   "cell_type": "markdown",
   "id": "60390a4b",
   "metadata": {},
   "source": [
    "## Dataloader: Batches of chunks of data"
   ]
  },
  {
   "cell_type": "code",
   "execution_count": null,
   "id": "6378c0ab",
   "metadata": {},
   "outputs": [
    {
     "data": {
      "text/plain": [
       "tensor([18, 47, 56, 57, 58,  1, 15, 47, 58])"
      ]
     },
     "execution_count": null,
     "metadata": {},
     "output_type": "execute_result"
    }
   ],
   "source": [
    "block_size = 8 # also known as context length\n",
    "train_data[:block_size + 1]"
   ]
  },
  {
   "cell_type": "code",
   "execution_count": null,
   "id": "28c1ee00",
   "metadata": {},
   "outputs": [
    {
     "data": {
      "text/html": [
       "<pre style=\"white-space:pre;overflow-x:auto;line-height:normal;font-family:Menlo,'DejaVu Sans Mono',consolas,'Courier New',monospace\">when input is <span style=\"color: #800080; text-decoration-color: #800080; font-weight: bold\">tensor</span><span style=\"font-weight: bold\">([</span><span style=\"color: #008080; text-decoration-color: #008080; font-weight: bold\">18</span><span style=\"font-weight: bold\">])</span> the target: <span style=\"color: #008080; text-decoration-color: #008080; font-weight: bold\">47</span>\n",
       "</pre>\n"
      ],
      "text/plain": [
       "when input is \u001b[1;35mtensor\u001b[0m\u001b[1m(\u001b[0m\u001b[1m[\u001b[0m\u001b[1;36m18\u001b[0m\u001b[1m]\u001b[0m\u001b[1m)\u001b[0m the target: \u001b[1;36m47\u001b[0m\n"
      ]
     },
     "metadata": {},
     "output_type": "display_data"
    },
    {
     "data": {
      "text/html": [
       "<pre style=\"white-space:pre;overflow-x:auto;line-height:normal;font-family:Menlo,'DejaVu Sans Mono',consolas,'Courier New',monospace\">when input is <span style=\"color: #800080; text-decoration-color: #800080; font-weight: bold\">tensor</span><span style=\"font-weight: bold\">([</span><span style=\"color: #008080; text-decoration-color: #008080; font-weight: bold\">18</span>, <span style=\"color: #008080; text-decoration-color: #008080; font-weight: bold\">47</span><span style=\"font-weight: bold\">])</span> the target: <span style=\"color: #008080; text-decoration-color: #008080; font-weight: bold\">56</span>\n",
       "</pre>\n"
      ],
      "text/plain": [
       "when input is \u001b[1;35mtensor\u001b[0m\u001b[1m(\u001b[0m\u001b[1m[\u001b[0m\u001b[1;36m18\u001b[0m, \u001b[1;36m47\u001b[0m\u001b[1m]\u001b[0m\u001b[1m)\u001b[0m the target: \u001b[1;36m56\u001b[0m\n"
      ]
     },
     "metadata": {},
     "output_type": "display_data"
    },
    {
     "data": {
      "text/html": [
       "<pre style=\"white-space:pre;overflow-x:auto;line-height:normal;font-family:Menlo,'DejaVu Sans Mono',consolas,'Courier New',monospace\">when input is <span style=\"color: #800080; text-decoration-color: #800080; font-weight: bold\">tensor</span><span style=\"font-weight: bold\">([</span><span style=\"color: #008080; text-decoration-color: #008080; font-weight: bold\">18</span>, <span style=\"color: #008080; text-decoration-color: #008080; font-weight: bold\">47</span>, <span style=\"color: #008080; text-decoration-color: #008080; font-weight: bold\">56</span><span style=\"font-weight: bold\">])</span> the target: <span style=\"color: #008080; text-decoration-color: #008080; font-weight: bold\">57</span>\n",
       "</pre>\n"
      ],
      "text/plain": [
       "when input is \u001b[1;35mtensor\u001b[0m\u001b[1m(\u001b[0m\u001b[1m[\u001b[0m\u001b[1;36m18\u001b[0m, \u001b[1;36m47\u001b[0m, \u001b[1;36m56\u001b[0m\u001b[1m]\u001b[0m\u001b[1m)\u001b[0m the target: \u001b[1;36m57\u001b[0m\n"
      ]
     },
     "metadata": {},
     "output_type": "display_data"
    },
    {
     "data": {
      "text/html": [
       "<pre style=\"white-space:pre;overflow-x:auto;line-height:normal;font-family:Menlo,'DejaVu Sans Mono',consolas,'Courier New',monospace\">when input is <span style=\"color: #800080; text-decoration-color: #800080; font-weight: bold\">tensor</span><span style=\"font-weight: bold\">([</span><span style=\"color: #008080; text-decoration-color: #008080; font-weight: bold\">18</span>, <span style=\"color: #008080; text-decoration-color: #008080; font-weight: bold\">47</span>, <span style=\"color: #008080; text-decoration-color: #008080; font-weight: bold\">56</span>, <span style=\"color: #008080; text-decoration-color: #008080; font-weight: bold\">57</span><span style=\"font-weight: bold\">])</span> the target: <span style=\"color: #008080; text-decoration-color: #008080; font-weight: bold\">58</span>\n",
       "</pre>\n"
      ],
      "text/plain": [
       "when input is \u001b[1;35mtensor\u001b[0m\u001b[1m(\u001b[0m\u001b[1m[\u001b[0m\u001b[1;36m18\u001b[0m, \u001b[1;36m47\u001b[0m, \u001b[1;36m56\u001b[0m, \u001b[1;36m57\u001b[0m\u001b[1m]\u001b[0m\u001b[1m)\u001b[0m the target: \u001b[1;36m58\u001b[0m\n"
      ]
     },
     "metadata": {},
     "output_type": "display_data"
    },
    {
     "data": {
      "text/html": [
       "<pre style=\"white-space:pre;overflow-x:auto;line-height:normal;font-family:Menlo,'DejaVu Sans Mono',consolas,'Courier New',monospace\">when input is <span style=\"color: #800080; text-decoration-color: #800080; font-weight: bold\">tensor</span><span style=\"font-weight: bold\">([</span><span style=\"color: #008080; text-decoration-color: #008080; font-weight: bold\">18</span>, <span style=\"color: #008080; text-decoration-color: #008080; font-weight: bold\">47</span>, <span style=\"color: #008080; text-decoration-color: #008080; font-weight: bold\">56</span>, <span style=\"color: #008080; text-decoration-color: #008080; font-weight: bold\">57</span>, <span style=\"color: #008080; text-decoration-color: #008080; font-weight: bold\">58</span><span style=\"font-weight: bold\">])</span> the target: <span style=\"color: #008080; text-decoration-color: #008080; font-weight: bold\">1</span>\n",
       "</pre>\n"
      ],
      "text/plain": [
       "when input is \u001b[1;35mtensor\u001b[0m\u001b[1m(\u001b[0m\u001b[1m[\u001b[0m\u001b[1;36m18\u001b[0m, \u001b[1;36m47\u001b[0m, \u001b[1;36m56\u001b[0m, \u001b[1;36m57\u001b[0m, \u001b[1;36m58\u001b[0m\u001b[1m]\u001b[0m\u001b[1m)\u001b[0m the target: \u001b[1;36m1\u001b[0m\n"
      ]
     },
     "metadata": {},
     "output_type": "display_data"
    },
    {
     "data": {
      "text/html": [
       "<pre style=\"white-space:pre;overflow-x:auto;line-height:normal;font-family:Menlo,'DejaVu Sans Mono',consolas,'Courier New',monospace\">when input is <span style=\"color: #800080; text-decoration-color: #800080; font-weight: bold\">tensor</span><span style=\"font-weight: bold\">([</span><span style=\"color: #008080; text-decoration-color: #008080; font-weight: bold\">18</span>, <span style=\"color: #008080; text-decoration-color: #008080; font-weight: bold\">47</span>, <span style=\"color: #008080; text-decoration-color: #008080; font-weight: bold\">56</span>, <span style=\"color: #008080; text-decoration-color: #008080; font-weight: bold\">57</span>, <span style=\"color: #008080; text-decoration-color: #008080; font-weight: bold\">58</span>,  <span style=\"color: #008080; text-decoration-color: #008080; font-weight: bold\">1</span><span style=\"font-weight: bold\">])</span> the target: <span style=\"color: #008080; text-decoration-color: #008080; font-weight: bold\">15</span>\n",
       "</pre>\n"
      ],
      "text/plain": [
       "when input is \u001b[1;35mtensor\u001b[0m\u001b[1m(\u001b[0m\u001b[1m[\u001b[0m\u001b[1;36m18\u001b[0m, \u001b[1;36m47\u001b[0m, \u001b[1;36m56\u001b[0m, \u001b[1;36m57\u001b[0m, \u001b[1;36m58\u001b[0m,  \u001b[1;36m1\u001b[0m\u001b[1m]\u001b[0m\u001b[1m)\u001b[0m the target: \u001b[1;36m15\u001b[0m\n"
      ]
     },
     "metadata": {},
     "output_type": "display_data"
    },
    {
     "data": {
      "text/html": [
       "<pre style=\"white-space:pre;overflow-x:auto;line-height:normal;font-family:Menlo,'DejaVu Sans Mono',consolas,'Courier New',monospace\">when input is <span style=\"color: #800080; text-decoration-color: #800080; font-weight: bold\">tensor</span><span style=\"font-weight: bold\">([</span><span style=\"color: #008080; text-decoration-color: #008080; font-weight: bold\">18</span>, <span style=\"color: #008080; text-decoration-color: #008080; font-weight: bold\">47</span>, <span style=\"color: #008080; text-decoration-color: #008080; font-weight: bold\">56</span>, <span style=\"color: #008080; text-decoration-color: #008080; font-weight: bold\">57</span>, <span style=\"color: #008080; text-decoration-color: #008080; font-weight: bold\">58</span>,  <span style=\"color: #008080; text-decoration-color: #008080; font-weight: bold\">1</span>, <span style=\"color: #008080; text-decoration-color: #008080; font-weight: bold\">15</span><span style=\"font-weight: bold\">])</span> the target: <span style=\"color: #008080; text-decoration-color: #008080; font-weight: bold\">47</span>\n",
       "</pre>\n"
      ],
      "text/plain": [
       "when input is \u001b[1;35mtensor\u001b[0m\u001b[1m(\u001b[0m\u001b[1m[\u001b[0m\u001b[1;36m18\u001b[0m, \u001b[1;36m47\u001b[0m, \u001b[1;36m56\u001b[0m, \u001b[1;36m57\u001b[0m, \u001b[1;36m58\u001b[0m,  \u001b[1;36m1\u001b[0m, \u001b[1;36m15\u001b[0m\u001b[1m]\u001b[0m\u001b[1m)\u001b[0m the target: \u001b[1;36m47\u001b[0m\n"
      ]
     },
     "metadata": {},
     "output_type": "display_data"
    },
    {
     "data": {
      "text/html": [
       "<pre style=\"white-space:pre;overflow-x:auto;line-height:normal;font-family:Menlo,'DejaVu Sans Mono',consolas,'Courier New',monospace\">when input is <span style=\"color: #800080; text-decoration-color: #800080; font-weight: bold\">tensor</span><span style=\"font-weight: bold\">([</span><span style=\"color: #008080; text-decoration-color: #008080; font-weight: bold\">18</span>, <span style=\"color: #008080; text-decoration-color: #008080; font-weight: bold\">47</span>, <span style=\"color: #008080; text-decoration-color: #008080; font-weight: bold\">56</span>, <span style=\"color: #008080; text-decoration-color: #008080; font-weight: bold\">57</span>, <span style=\"color: #008080; text-decoration-color: #008080; font-weight: bold\">58</span>,  <span style=\"color: #008080; text-decoration-color: #008080; font-weight: bold\">1</span>, <span style=\"color: #008080; text-decoration-color: #008080; font-weight: bold\">15</span>, <span style=\"color: #008080; text-decoration-color: #008080; font-weight: bold\">47</span><span style=\"font-weight: bold\">])</span> the target: <span style=\"color: #008080; text-decoration-color: #008080; font-weight: bold\">58</span>\n",
       "</pre>\n"
      ],
      "text/plain": [
       "when input is \u001b[1;35mtensor\u001b[0m\u001b[1m(\u001b[0m\u001b[1m[\u001b[0m\u001b[1;36m18\u001b[0m, \u001b[1;36m47\u001b[0m, \u001b[1;36m56\u001b[0m, \u001b[1;36m57\u001b[0m, \u001b[1;36m58\u001b[0m,  \u001b[1;36m1\u001b[0m, \u001b[1;36m15\u001b[0m, \u001b[1;36m47\u001b[0m\u001b[1m]\u001b[0m\u001b[1m)\u001b[0m the target: \u001b[1;36m58\u001b[0m\n"
      ]
     },
     "metadata": {},
     "output_type": "display_data"
    }
   ],
   "source": [
    "x = train_data[:block_size]\n",
    "y = train_data[1:block_size+1]\n",
    "for t in range(block_size):\n",
    "    context = x[:t+1]\n",
    "    target = y[t]\n",
    "    print(f'when input is {context} the target: {target}')"
   ]
  },
  {
   "cell_type": "code",
   "execution_count": null,
   "id": "dce8aa68",
   "metadata": {},
   "outputs": [],
   "source": [
    "#|export\n",
    "batch_size = 4 # how many independent sequences will we process in parallel?\n",
    "block_size = 8 # what is the maximum context length for predictions?\n",
    "\n",
    "def get_batch(split, batch_size = batch_size, block_size = block_size):\n",
    "    # generate a small batch of data of inputs x and targets y\n",
    "    data = train_data if split == \"train\" else val_data\n",
    "    ix = torch.randint(len(data) - block_size, (batch_size,))\n",
    "    x = torch.stack([data[i:i+block_size] for i in ix])\n",
    "    y = torch.stack([data[i+1:i+block_size+1] for i in ix])\n",
    "    x, y = x.to(device), y.to(device)\n",
    "    return x, y        "
   ]
  },
  {
   "cell_type": "code",
   "execution_count": null,
   "id": "1290639a",
   "metadata": {},
   "outputs": [
    {
     "data": {
      "text/html": [
       "<pre style=\"white-space:pre;overflow-x:auto;line-height:normal;font-family:Menlo,'DejaVu Sans Mono',consolas,'Courier New',monospace\">inputs\n",
       "</pre>\n"
      ],
      "text/plain": [
       "inputs\n"
      ]
     },
     "metadata": {},
     "output_type": "display_data"
    },
    {
     "data": {
      "text/html": [
       "<pre style=\"white-space:pre;overflow-x:auto;line-height:normal;font-family:Menlo,'DejaVu Sans Mono',consolas,'Courier New',monospace\"><span style=\"color: #800080; text-decoration-color: #800080; font-weight: bold\">torch.Size</span><span style=\"font-weight: bold\">([</span><span style=\"color: #008080; text-decoration-color: #008080; font-weight: bold\">4</span>, <span style=\"color: #008080; text-decoration-color: #008080; font-weight: bold\">8</span><span style=\"font-weight: bold\">])</span>\n",
       "</pre>\n"
      ],
      "text/plain": [
       "\u001b[1;35mtorch.Size\u001b[0m\u001b[1m(\u001b[0m\u001b[1m[\u001b[0m\u001b[1;36m4\u001b[0m, \u001b[1;36m8\u001b[0m\u001b[1m]\u001b[0m\u001b[1m)\u001b[0m\n"
      ]
     },
     "metadata": {},
     "output_type": "display_data"
    },
    {
     "data": {
      "text/html": [
       "<pre style=\"white-space:pre;overflow-x:auto;line-height:normal;font-family:Menlo,'DejaVu Sans Mono',consolas,'Courier New',monospace\"><span style=\"color: #800080; text-decoration-color: #800080; font-weight: bold\">tensor</span><span style=\"font-weight: bold\">([[</span><span style=\"color: #008080; text-decoration-color: #008080; font-weight: bold\">24</span>, <span style=\"color: #008080; text-decoration-color: #008080; font-weight: bold\">43</span>, <span style=\"color: #008080; text-decoration-color: #008080; font-weight: bold\">58</span>,  <span style=\"color: #008080; text-decoration-color: #008080; font-weight: bold\">5</span>, <span style=\"color: #008080; text-decoration-color: #008080; font-weight: bold\">57</span>,  <span style=\"color: #008080; text-decoration-color: #008080; font-weight: bold\">1</span>, <span style=\"color: #008080; text-decoration-color: #008080; font-weight: bold\">46</span>, <span style=\"color: #008080; text-decoration-color: #008080; font-weight: bold\">43</span><span style=\"font-weight: bold\">]</span>,\n",
       "        <span style=\"font-weight: bold\">[</span><span style=\"color: #008080; text-decoration-color: #008080; font-weight: bold\">44</span>, <span style=\"color: #008080; text-decoration-color: #008080; font-weight: bold\">53</span>, <span style=\"color: #008080; text-decoration-color: #008080; font-weight: bold\">56</span>,  <span style=\"color: #008080; text-decoration-color: #008080; font-weight: bold\">1</span>, <span style=\"color: #008080; text-decoration-color: #008080; font-weight: bold\">58</span>, <span style=\"color: #008080; text-decoration-color: #008080; font-weight: bold\">46</span>, <span style=\"color: #008080; text-decoration-color: #008080; font-weight: bold\">39</span>, <span style=\"color: #008080; text-decoration-color: #008080; font-weight: bold\">58</span><span style=\"font-weight: bold\">]</span>,\n",
       "        <span style=\"font-weight: bold\">[</span><span style=\"color: #008080; text-decoration-color: #008080; font-weight: bold\">52</span>, <span style=\"color: #008080; text-decoration-color: #008080; font-weight: bold\">58</span>,  <span style=\"color: #008080; text-decoration-color: #008080; font-weight: bold\">1</span>, <span style=\"color: #008080; text-decoration-color: #008080; font-weight: bold\">58</span>, <span style=\"color: #008080; text-decoration-color: #008080; font-weight: bold\">46</span>, <span style=\"color: #008080; text-decoration-color: #008080; font-weight: bold\">39</span>, <span style=\"color: #008080; text-decoration-color: #008080; font-weight: bold\">58</span>,  <span style=\"color: #008080; text-decoration-color: #008080; font-weight: bold\">1</span><span style=\"font-weight: bold\">]</span>,\n",
       "        <span style=\"font-weight: bold\">[</span><span style=\"color: #008080; text-decoration-color: #008080; font-weight: bold\">25</span>, <span style=\"color: #008080; text-decoration-color: #008080; font-weight: bold\">17</span>, <span style=\"color: #008080; text-decoration-color: #008080; font-weight: bold\">27</span>, <span style=\"color: #008080; text-decoration-color: #008080; font-weight: bold\">10</span>,  <span style=\"color: #008080; text-decoration-color: #008080; font-weight: bold\">0</span>, <span style=\"color: #008080; text-decoration-color: #008080; font-weight: bold\">21</span>,  <span style=\"color: #008080; text-decoration-color: #008080; font-weight: bold\">1</span>, <span style=\"color: #008080; text-decoration-color: #008080; font-weight: bold\">54</span><span style=\"font-weight: bold\">]])</span>\n",
       "</pre>\n"
      ],
      "text/plain": [
       "\u001b[1;35mtensor\u001b[0m\u001b[1m(\u001b[0m\u001b[1m[\u001b[0m\u001b[1m[\u001b[0m\u001b[1;36m24\u001b[0m, \u001b[1;36m43\u001b[0m, \u001b[1;36m58\u001b[0m,  \u001b[1;36m5\u001b[0m, \u001b[1;36m57\u001b[0m,  \u001b[1;36m1\u001b[0m, \u001b[1;36m46\u001b[0m, \u001b[1;36m43\u001b[0m\u001b[1m]\u001b[0m,\n",
       "        \u001b[1m[\u001b[0m\u001b[1;36m44\u001b[0m, \u001b[1;36m53\u001b[0m, \u001b[1;36m56\u001b[0m,  \u001b[1;36m1\u001b[0m, \u001b[1;36m58\u001b[0m, \u001b[1;36m46\u001b[0m, \u001b[1;36m39\u001b[0m, \u001b[1;36m58\u001b[0m\u001b[1m]\u001b[0m,\n",
       "        \u001b[1m[\u001b[0m\u001b[1;36m52\u001b[0m, \u001b[1;36m58\u001b[0m,  \u001b[1;36m1\u001b[0m, \u001b[1;36m58\u001b[0m, \u001b[1;36m46\u001b[0m, \u001b[1;36m39\u001b[0m, \u001b[1;36m58\u001b[0m,  \u001b[1;36m1\u001b[0m\u001b[1m]\u001b[0m,\n",
       "        \u001b[1m[\u001b[0m\u001b[1;36m25\u001b[0m, \u001b[1;36m17\u001b[0m, \u001b[1;36m27\u001b[0m, \u001b[1;36m10\u001b[0m,  \u001b[1;36m0\u001b[0m, \u001b[1;36m21\u001b[0m,  \u001b[1;36m1\u001b[0m, \u001b[1;36m54\u001b[0m\u001b[1m]\u001b[0m\u001b[1m]\u001b[0m\u001b[1m)\u001b[0m\n"
      ]
     },
     "metadata": {},
     "output_type": "display_data"
    },
    {
     "data": {
      "text/html": [
       "<pre style=\"white-space:pre;overflow-x:auto;line-height:normal;font-family:Menlo,'DejaVu Sans Mono',consolas,'Courier New',monospace\">targets\n",
       "</pre>\n"
      ],
      "text/plain": [
       "targets\n"
      ]
     },
     "metadata": {},
     "output_type": "display_data"
    },
    {
     "data": {
      "text/html": [
       "<pre style=\"white-space:pre;overflow-x:auto;line-height:normal;font-family:Menlo,'DejaVu Sans Mono',consolas,'Courier New',monospace\"><span style=\"color: #800080; text-decoration-color: #800080; font-weight: bold\">torch.Size</span><span style=\"font-weight: bold\">([</span><span style=\"color: #008080; text-decoration-color: #008080; font-weight: bold\">4</span>, <span style=\"color: #008080; text-decoration-color: #008080; font-weight: bold\">8</span><span style=\"font-weight: bold\">])</span>\n",
       "</pre>\n"
      ],
      "text/plain": [
       "\u001b[1;35mtorch.Size\u001b[0m\u001b[1m(\u001b[0m\u001b[1m[\u001b[0m\u001b[1;36m4\u001b[0m, \u001b[1;36m8\u001b[0m\u001b[1m]\u001b[0m\u001b[1m)\u001b[0m\n"
      ]
     },
     "metadata": {},
     "output_type": "display_data"
    },
    {
     "data": {
      "text/html": [
       "<pre style=\"white-space:pre;overflow-x:auto;line-height:normal;font-family:Menlo,'DejaVu Sans Mono',consolas,'Courier New',monospace\"><span style=\"color: #800080; text-decoration-color: #800080; font-weight: bold\">tensor</span><span style=\"font-weight: bold\">([[</span><span style=\"color: #008080; text-decoration-color: #008080; font-weight: bold\">43</span>, <span style=\"color: #008080; text-decoration-color: #008080; font-weight: bold\">58</span>,  <span style=\"color: #008080; text-decoration-color: #008080; font-weight: bold\">5</span>, <span style=\"color: #008080; text-decoration-color: #008080; font-weight: bold\">57</span>,  <span style=\"color: #008080; text-decoration-color: #008080; font-weight: bold\">1</span>, <span style=\"color: #008080; text-decoration-color: #008080; font-weight: bold\">46</span>, <span style=\"color: #008080; text-decoration-color: #008080; font-weight: bold\">43</span>, <span style=\"color: #008080; text-decoration-color: #008080; font-weight: bold\">39</span><span style=\"font-weight: bold\">]</span>,\n",
       "        <span style=\"font-weight: bold\">[</span><span style=\"color: #008080; text-decoration-color: #008080; font-weight: bold\">53</span>, <span style=\"color: #008080; text-decoration-color: #008080; font-weight: bold\">56</span>,  <span style=\"color: #008080; text-decoration-color: #008080; font-weight: bold\">1</span>, <span style=\"color: #008080; text-decoration-color: #008080; font-weight: bold\">58</span>, <span style=\"color: #008080; text-decoration-color: #008080; font-weight: bold\">46</span>, <span style=\"color: #008080; text-decoration-color: #008080; font-weight: bold\">39</span>, <span style=\"color: #008080; text-decoration-color: #008080; font-weight: bold\">58</span>,  <span style=\"color: #008080; text-decoration-color: #008080; font-weight: bold\">1</span><span style=\"font-weight: bold\">]</span>,\n",
       "        <span style=\"font-weight: bold\">[</span><span style=\"color: #008080; text-decoration-color: #008080; font-weight: bold\">58</span>,  <span style=\"color: #008080; text-decoration-color: #008080; font-weight: bold\">1</span>, <span style=\"color: #008080; text-decoration-color: #008080; font-weight: bold\">58</span>, <span style=\"color: #008080; text-decoration-color: #008080; font-weight: bold\">46</span>, <span style=\"color: #008080; text-decoration-color: #008080; font-weight: bold\">39</span>, <span style=\"color: #008080; text-decoration-color: #008080; font-weight: bold\">58</span>,  <span style=\"color: #008080; text-decoration-color: #008080; font-weight: bold\">1</span>, <span style=\"color: #008080; text-decoration-color: #008080; font-weight: bold\">46</span><span style=\"font-weight: bold\">]</span>,\n",
       "        <span style=\"font-weight: bold\">[</span><span style=\"color: #008080; text-decoration-color: #008080; font-weight: bold\">17</span>, <span style=\"color: #008080; text-decoration-color: #008080; font-weight: bold\">27</span>, <span style=\"color: #008080; text-decoration-color: #008080; font-weight: bold\">10</span>,  <span style=\"color: #008080; text-decoration-color: #008080; font-weight: bold\">0</span>, <span style=\"color: #008080; text-decoration-color: #008080; font-weight: bold\">21</span>,  <span style=\"color: #008080; text-decoration-color: #008080; font-weight: bold\">1</span>, <span style=\"color: #008080; text-decoration-color: #008080; font-weight: bold\">54</span>, <span style=\"color: #008080; text-decoration-color: #008080; font-weight: bold\">39</span><span style=\"font-weight: bold\">]])</span>\n",
       "</pre>\n"
      ],
      "text/plain": [
       "\u001b[1;35mtensor\u001b[0m\u001b[1m(\u001b[0m\u001b[1m[\u001b[0m\u001b[1m[\u001b[0m\u001b[1;36m43\u001b[0m, \u001b[1;36m58\u001b[0m,  \u001b[1;36m5\u001b[0m, \u001b[1;36m57\u001b[0m,  \u001b[1;36m1\u001b[0m, \u001b[1;36m46\u001b[0m, \u001b[1;36m43\u001b[0m, \u001b[1;36m39\u001b[0m\u001b[1m]\u001b[0m,\n",
       "        \u001b[1m[\u001b[0m\u001b[1;36m53\u001b[0m, \u001b[1;36m56\u001b[0m,  \u001b[1;36m1\u001b[0m, \u001b[1;36m58\u001b[0m, \u001b[1;36m46\u001b[0m, \u001b[1;36m39\u001b[0m, \u001b[1;36m58\u001b[0m,  \u001b[1;36m1\u001b[0m\u001b[1m]\u001b[0m,\n",
       "        \u001b[1m[\u001b[0m\u001b[1;36m58\u001b[0m,  \u001b[1;36m1\u001b[0m, \u001b[1;36m58\u001b[0m, \u001b[1;36m46\u001b[0m, \u001b[1;36m39\u001b[0m, \u001b[1;36m58\u001b[0m,  \u001b[1;36m1\u001b[0m, \u001b[1;36m46\u001b[0m\u001b[1m]\u001b[0m,\n",
       "        \u001b[1m[\u001b[0m\u001b[1;36m17\u001b[0m, \u001b[1;36m27\u001b[0m, \u001b[1;36m10\u001b[0m,  \u001b[1;36m0\u001b[0m, \u001b[1;36m21\u001b[0m,  \u001b[1;36m1\u001b[0m, \u001b[1;36m54\u001b[0m, \u001b[1;36m39\u001b[0m\u001b[1m]\u001b[0m\u001b[1m]\u001b[0m\u001b[1m)\u001b[0m\n"
      ]
     },
     "metadata": {},
     "output_type": "display_data"
    },
    {
     "data": {
      "text/html": [
       "<pre style=\"white-space:pre;overflow-x:auto;line-height:normal;font-family:Menlo,'DejaVu Sans Mono',consolas,'Courier New',monospace\">--------\n",
       "</pre>\n"
      ],
      "text/plain": [
       "--------\n"
      ]
     },
     "metadata": {},
     "output_type": "display_data"
    },
    {
     "data": {
      "text/html": [
       "<pre style=\"white-space:pre;overflow-x:auto;line-height:normal;font-family:Menlo,'DejaVu Sans Mono',consolas,'Courier New',monospace\">when input is <span style=\"font-weight: bold\">[</span><span style=\"color: #008080; text-decoration-color: #008080; font-weight: bold\">24</span><span style=\"font-weight: bold\">]</span> the target: <span style=\"color: #008080; text-decoration-color: #008080; font-weight: bold\">43</span>\n",
       "</pre>\n"
      ],
      "text/plain": [
       "when input is \u001b[1m[\u001b[0m\u001b[1;36m24\u001b[0m\u001b[1m]\u001b[0m the target: \u001b[1;36m43\u001b[0m\n"
      ]
     },
     "metadata": {},
     "output_type": "display_data"
    },
    {
     "data": {
      "text/html": [
       "<pre style=\"white-space:pre;overflow-x:auto;line-height:normal;font-family:Menlo,'DejaVu Sans Mono',consolas,'Courier New',monospace\">when input is <span style=\"font-weight: bold\">[</span><span style=\"color: #008080; text-decoration-color: #008080; font-weight: bold\">24</span>, <span style=\"color: #008080; text-decoration-color: #008080; font-weight: bold\">43</span><span style=\"font-weight: bold\">]</span> the target: <span style=\"color: #008080; text-decoration-color: #008080; font-weight: bold\">58</span>\n",
       "</pre>\n"
      ],
      "text/plain": [
       "when input is \u001b[1m[\u001b[0m\u001b[1;36m24\u001b[0m, \u001b[1;36m43\u001b[0m\u001b[1m]\u001b[0m the target: \u001b[1;36m58\u001b[0m\n"
      ]
     },
     "metadata": {},
     "output_type": "display_data"
    },
    {
     "data": {
      "text/html": [
       "<pre style=\"white-space:pre;overflow-x:auto;line-height:normal;font-family:Menlo,'DejaVu Sans Mono',consolas,'Courier New',monospace\">when input is <span style=\"font-weight: bold\">[</span><span style=\"color: #008080; text-decoration-color: #008080; font-weight: bold\">24</span>, <span style=\"color: #008080; text-decoration-color: #008080; font-weight: bold\">43</span>, <span style=\"color: #008080; text-decoration-color: #008080; font-weight: bold\">58</span><span style=\"font-weight: bold\">]</span> the target: <span style=\"color: #008080; text-decoration-color: #008080; font-weight: bold\">5</span>\n",
       "</pre>\n"
      ],
      "text/plain": [
       "when input is \u001b[1m[\u001b[0m\u001b[1;36m24\u001b[0m, \u001b[1;36m43\u001b[0m, \u001b[1;36m58\u001b[0m\u001b[1m]\u001b[0m the target: \u001b[1;36m5\u001b[0m\n"
      ]
     },
     "metadata": {},
     "output_type": "display_data"
    },
    {
     "data": {
      "text/html": [
       "<pre style=\"white-space:pre;overflow-x:auto;line-height:normal;font-family:Menlo,'DejaVu Sans Mono',consolas,'Courier New',monospace\">when input is <span style=\"font-weight: bold\">[</span><span style=\"color: #008080; text-decoration-color: #008080; font-weight: bold\">24</span>, <span style=\"color: #008080; text-decoration-color: #008080; font-weight: bold\">43</span>, <span style=\"color: #008080; text-decoration-color: #008080; font-weight: bold\">58</span>, <span style=\"color: #008080; text-decoration-color: #008080; font-weight: bold\">5</span><span style=\"font-weight: bold\">]</span> the target: <span style=\"color: #008080; text-decoration-color: #008080; font-weight: bold\">57</span>\n",
       "</pre>\n"
      ],
      "text/plain": [
       "when input is \u001b[1m[\u001b[0m\u001b[1;36m24\u001b[0m, \u001b[1;36m43\u001b[0m, \u001b[1;36m58\u001b[0m, \u001b[1;36m5\u001b[0m\u001b[1m]\u001b[0m the target: \u001b[1;36m57\u001b[0m\n"
      ]
     },
     "metadata": {},
     "output_type": "display_data"
    },
    {
     "data": {
      "text/html": [
       "<pre style=\"white-space:pre;overflow-x:auto;line-height:normal;font-family:Menlo,'DejaVu Sans Mono',consolas,'Courier New',monospace\">when input is <span style=\"font-weight: bold\">[</span><span style=\"color: #008080; text-decoration-color: #008080; font-weight: bold\">24</span>, <span style=\"color: #008080; text-decoration-color: #008080; font-weight: bold\">43</span>, <span style=\"color: #008080; text-decoration-color: #008080; font-weight: bold\">58</span>, <span style=\"color: #008080; text-decoration-color: #008080; font-weight: bold\">5</span>, <span style=\"color: #008080; text-decoration-color: #008080; font-weight: bold\">57</span><span style=\"font-weight: bold\">]</span> the target: <span style=\"color: #008080; text-decoration-color: #008080; font-weight: bold\">1</span>\n",
       "</pre>\n"
      ],
      "text/plain": [
       "when input is \u001b[1m[\u001b[0m\u001b[1;36m24\u001b[0m, \u001b[1;36m43\u001b[0m, \u001b[1;36m58\u001b[0m, \u001b[1;36m5\u001b[0m, \u001b[1;36m57\u001b[0m\u001b[1m]\u001b[0m the target: \u001b[1;36m1\u001b[0m\n"
      ]
     },
     "metadata": {},
     "output_type": "display_data"
    },
    {
     "data": {
      "text/html": [
       "<pre style=\"white-space:pre;overflow-x:auto;line-height:normal;font-family:Menlo,'DejaVu Sans Mono',consolas,'Courier New',monospace\">when input is <span style=\"font-weight: bold\">[</span><span style=\"color: #008080; text-decoration-color: #008080; font-weight: bold\">24</span>, <span style=\"color: #008080; text-decoration-color: #008080; font-weight: bold\">43</span>, <span style=\"color: #008080; text-decoration-color: #008080; font-weight: bold\">58</span>, <span style=\"color: #008080; text-decoration-color: #008080; font-weight: bold\">5</span>, <span style=\"color: #008080; text-decoration-color: #008080; font-weight: bold\">57</span>, <span style=\"color: #008080; text-decoration-color: #008080; font-weight: bold\">1</span><span style=\"font-weight: bold\">]</span> the target: <span style=\"color: #008080; text-decoration-color: #008080; font-weight: bold\">46</span>\n",
       "</pre>\n"
      ],
      "text/plain": [
       "when input is \u001b[1m[\u001b[0m\u001b[1;36m24\u001b[0m, \u001b[1;36m43\u001b[0m, \u001b[1;36m58\u001b[0m, \u001b[1;36m5\u001b[0m, \u001b[1;36m57\u001b[0m, \u001b[1;36m1\u001b[0m\u001b[1m]\u001b[0m the target: \u001b[1;36m46\u001b[0m\n"
      ]
     },
     "metadata": {},
     "output_type": "display_data"
    },
    {
     "data": {
      "text/html": [
       "<pre style=\"white-space:pre;overflow-x:auto;line-height:normal;font-family:Menlo,'DejaVu Sans Mono',consolas,'Courier New',monospace\">when input is <span style=\"font-weight: bold\">[</span><span style=\"color: #008080; text-decoration-color: #008080; font-weight: bold\">24</span>, <span style=\"color: #008080; text-decoration-color: #008080; font-weight: bold\">43</span>, <span style=\"color: #008080; text-decoration-color: #008080; font-weight: bold\">58</span>, <span style=\"color: #008080; text-decoration-color: #008080; font-weight: bold\">5</span>, <span style=\"color: #008080; text-decoration-color: #008080; font-weight: bold\">57</span>, <span style=\"color: #008080; text-decoration-color: #008080; font-weight: bold\">1</span>, <span style=\"color: #008080; text-decoration-color: #008080; font-weight: bold\">46</span><span style=\"font-weight: bold\">]</span> the target: <span style=\"color: #008080; text-decoration-color: #008080; font-weight: bold\">43</span>\n",
       "</pre>\n"
      ],
      "text/plain": [
       "when input is \u001b[1m[\u001b[0m\u001b[1;36m24\u001b[0m, \u001b[1;36m43\u001b[0m, \u001b[1;36m58\u001b[0m, \u001b[1;36m5\u001b[0m, \u001b[1;36m57\u001b[0m, \u001b[1;36m1\u001b[0m, \u001b[1;36m46\u001b[0m\u001b[1m]\u001b[0m the target: \u001b[1;36m43\u001b[0m\n"
      ]
     },
     "metadata": {},
     "output_type": "display_data"
    },
    {
     "data": {
      "text/html": [
       "<pre style=\"white-space:pre;overflow-x:auto;line-height:normal;font-family:Menlo,'DejaVu Sans Mono',consolas,'Courier New',monospace\">when input is <span style=\"font-weight: bold\">[</span><span style=\"color: #008080; text-decoration-color: #008080; font-weight: bold\">24</span>, <span style=\"color: #008080; text-decoration-color: #008080; font-weight: bold\">43</span>, <span style=\"color: #008080; text-decoration-color: #008080; font-weight: bold\">58</span>, <span style=\"color: #008080; text-decoration-color: #008080; font-weight: bold\">5</span>, <span style=\"color: #008080; text-decoration-color: #008080; font-weight: bold\">57</span>, <span style=\"color: #008080; text-decoration-color: #008080; font-weight: bold\">1</span>, <span style=\"color: #008080; text-decoration-color: #008080; font-weight: bold\">46</span>, <span style=\"color: #008080; text-decoration-color: #008080; font-weight: bold\">43</span><span style=\"font-weight: bold\">]</span> the target: <span style=\"color: #008080; text-decoration-color: #008080; font-weight: bold\">39</span>\n",
       "</pre>\n"
      ],
      "text/plain": [
       "when input is \u001b[1m[\u001b[0m\u001b[1;36m24\u001b[0m, \u001b[1;36m43\u001b[0m, \u001b[1;36m58\u001b[0m, \u001b[1;36m5\u001b[0m, \u001b[1;36m57\u001b[0m, \u001b[1;36m1\u001b[0m, \u001b[1;36m46\u001b[0m, \u001b[1;36m43\u001b[0m\u001b[1m]\u001b[0m the target: \u001b[1;36m39\u001b[0m\n"
      ]
     },
     "metadata": {},
     "output_type": "display_data"
    },
    {
     "data": {
      "text/html": [
       "<pre style=\"white-space:pre;overflow-x:auto;line-height:normal;font-family:Menlo,'DejaVu Sans Mono',consolas,'Courier New',monospace\">when input is <span style=\"font-weight: bold\">[</span><span style=\"color: #008080; text-decoration-color: #008080; font-weight: bold\">44</span><span style=\"font-weight: bold\">]</span> the target: <span style=\"color: #008080; text-decoration-color: #008080; font-weight: bold\">53</span>\n",
       "</pre>\n"
      ],
      "text/plain": [
       "when input is \u001b[1m[\u001b[0m\u001b[1;36m44\u001b[0m\u001b[1m]\u001b[0m the target: \u001b[1;36m53\u001b[0m\n"
      ]
     },
     "metadata": {},
     "output_type": "display_data"
    },
    {
     "data": {
      "text/html": [
       "<pre style=\"white-space:pre;overflow-x:auto;line-height:normal;font-family:Menlo,'DejaVu Sans Mono',consolas,'Courier New',monospace\">when input is <span style=\"font-weight: bold\">[</span><span style=\"color: #008080; text-decoration-color: #008080; font-weight: bold\">44</span>, <span style=\"color: #008080; text-decoration-color: #008080; font-weight: bold\">53</span><span style=\"font-weight: bold\">]</span> the target: <span style=\"color: #008080; text-decoration-color: #008080; font-weight: bold\">56</span>\n",
       "</pre>\n"
      ],
      "text/plain": [
       "when input is \u001b[1m[\u001b[0m\u001b[1;36m44\u001b[0m, \u001b[1;36m53\u001b[0m\u001b[1m]\u001b[0m the target: \u001b[1;36m56\u001b[0m\n"
      ]
     },
     "metadata": {},
     "output_type": "display_data"
    },
    {
     "data": {
      "text/html": [
       "<pre style=\"white-space:pre;overflow-x:auto;line-height:normal;font-family:Menlo,'DejaVu Sans Mono',consolas,'Courier New',monospace\">when input is <span style=\"font-weight: bold\">[</span><span style=\"color: #008080; text-decoration-color: #008080; font-weight: bold\">44</span>, <span style=\"color: #008080; text-decoration-color: #008080; font-weight: bold\">53</span>, <span style=\"color: #008080; text-decoration-color: #008080; font-weight: bold\">56</span><span style=\"font-weight: bold\">]</span> the target: <span style=\"color: #008080; text-decoration-color: #008080; font-weight: bold\">1</span>\n",
       "</pre>\n"
      ],
      "text/plain": [
       "when input is \u001b[1m[\u001b[0m\u001b[1;36m44\u001b[0m, \u001b[1;36m53\u001b[0m, \u001b[1;36m56\u001b[0m\u001b[1m]\u001b[0m the target: \u001b[1;36m1\u001b[0m\n"
      ]
     },
     "metadata": {},
     "output_type": "display_data"
    },
    {
     "data": {
      "text/html": [
       "<pre style=\"white-space:pre;overflow-x:auto;line-height:normal;font-family:Menlo,'DejaVu Sans Mono',consolas,'Courier New',monospace\">when input is <span style=\"font-weight: bold\">[</span><span style=\"color: #008080; text-decoration-color: #008080; font-weight: bold\">44</span>, <span style=\"color: #008080; text-decoration-color: #008080; font-weight: bold\">53</span>, <span style=\"color: #008080; text-decoration-color: #008080; font-weight: bold\">56</span>, <span style=\"color: #008080; text-decoration-color: #008080; font-weight: bold\">1</span><span style=\"font-weight: bold\">]</span> the target: <span style=\"color: #008080; text-decoration-color: #008080; font-weight: bold\">58</span>\n",
       "</pre>\n"
      ],
      "text/plain": [
       "when input is \u001b[1m[\u001b[0m\u001b[1;36m44\u001b[0m, \u001b[1;36m53\u001b[0m, \u001b[1;36m56\u001b[0m, \u001b[1;36m1\u001b[0m\u001b[1m]\u001b[0m the target: \u001b[1;36m58\u001b[0m\n"
      ]
     },
     "metadata": {},
     "output_type": "display_data"
    },
    {
     "data": {
      "text/html": [
       "<pre style=\"white-space:pre;overflow-x:auto;line-height:normal;font-family:Menlo,'DejaVu Sans Mono',consolas,'Courier New',monospace\">when input is <span style=\"font-weight: bold\">[</span><span style=\"color: #008080; text-decoration-color: #008080; font-weight: bold\">44</span>, <span style=\"color: #008080; text-decoration-color: #008080; font-weight: bold\">53</span>, <span style=\"color: #008080; text-decoration-color: #008080; font-weight: bold\">56</span>, <span style=\"color: #008080; text-decoration-color: #008080; font-weight: bold\">1</span>, <span style=\"color: #008080; text-decoration-color: #008080; font-weight: bold\">58</span><span style=\"font-weight: bold\">]</span> the target: <span style=\"color: #008080; text-decoration-color: #008080; font-weight: bold\">46</span>\n",
       "</pre>\n"
      ],
      "text/plain": [
       "when input is \u001b[1m[\u001b[0m\u001b[1;36m44\u001b[0m, \u001b[1;36m53\u001b[0m, \u001b[1;36m56\u001b[0m, \u001b[1;36m1\u001b[0m, \u001b[1;36m58\u001b[0m\u001b[1m]\u001b[0m the target: \u001b[1;36m46\u001b[0m\n"
      ]
     },
     "metadata": {},
     "output_type": "display_data"
    },
    {
     "data": {
      "text/html": [
       "<pre style=\"white-space:pre;overflow-x:auto;line-height:normal;font-family:Menlo,'DejaVu Sans Mono',consolas,'Courier New',monospace\">when input is <span style=\"font-weight: bold\">[</span><span style=\"color: #008080; text-decoration-color: #008080; font-weight: bold\">44</span>, <span style=\"color: #008080; text-decoration-color: #008080; font-weight: bold\">53</span>, <span style=\"color: #008080; text-decoration-color: #008080; font-weight: bold\">56</span>, <span style=\"color: #008080; text-decoration-color: #008080; font-weight: bold\">1</span>, <span style=\"color: #008080; text-decoration-color: #008080; font-weight: bold\">58</span>, <span style=\"color: #008080; text-decoration-color: #008080; font-weight: bold\">46</span><span style=\"font-weight: bold\">]</span> the target: <span style=\"color: #008080; text-decoration-color: #008080; font-weight: bold\">39</span>\n",
       "</pre>\n"
      ],
      "text/plain": [
       "when input is \u001b[1m[\u001b[0m\u001b[1;36m44\u001b[0m, \u001b[1;36m53\u001b[0m, \u001b[1;36m56\u001b[0m, \u001b[1;36m1\u001b[0m, \u001b[1;36m58\u001b[0m, \u001b[1;36m46\u001b[0m\u001b[1m]\u001b[0m the target: \u001b[1;36m39\u001b[0m\n"
      ]
     },
     "metadata": {},
     "output_type": "display_data"
    },
    {
     "data": {
      "text/html": [
       "<pre style=\"white-space:pre;overflow-x:auto;line-height:normal;font-family:Menlo,'DejaVu Sans Mono',consolas,'Courier New',monospace\">when input is <span style=\"font-weight: bold\">[</span><span style=\"color: #008080; text-decoration-color: #008080; font-weight: bold\">44</span>, <span style=\"color: #008080; text-decoration-color: #008080; font-weight: bold\">53</span>, <span style=\"color: #008080; text-decoration-color: #008080; font-weight: bold\">56</span>, <span style=\"color: #008080; text-decoration-color: #008080; font-weight: bold\">1</span>, <span style=\"color: #008080; text-decoration-color: #008080; font-weight: bold\">58</span>, <span style=\"color: #008080; text-decoration-color: #008080; font-weight: bold\">46</span>, <span style=\"color: #008080; text-decoration-color: #008080; font-weight: bold\">39</span><span style=\"font-weight: bold\">]</span> the target: <span style=\"color: #008080; text-decoration-color: #008080; font-weight: bold\">58</span>\n",
       "</pre>\n"
      ],
      "text/plain": [
       "when input is \u001b[1m[\u001b[0m\u001b[1;36m44\u001b[0m, \u001b[1;36m53\u001b[0m, \u001b[1;36m56\u001b[0m, \u001b[1;36m1\u001b[0m, \u001b[1;36m58\u001b[0m, \u001b[1;36m46\u001b[0m, \u001b[1;36m39\u001b[0m\u001b[1m]\u001b[0m the target: \u001b[1;36m58\u001b[0m\n"
      ]
     },
     "metadata": {},
     "output_type": "display_data"
    },
    {
     "data": {
      "text/html": [
       "<pre style=\"white-space:pre;overflow-x:auto;line-height:normal;font-family:Menlo,'DejaVu Sans Mono',consolas,'Courier New',monospace\">when input is <span style=\"font-weight: bold\">[</span><span style=\"color: #008080; text-decoration-color: #008080; font-weight: bold\">44</span>, <span style=\"color: #008080; text-decoration-color: #008080; font-weight: bold\">53</span>, <span style=\"color: #008080; text-decoration-color: #008080; font-weight: bold\">56</span>, <span style=\"color: #008080; text-decoration-color: #008080; font-weight: bold\">1</span>, <span style=\"color: #008080; text-decoration-color: #008080; font-weight: bold\">58</span>, <span style=\"color: #008080; text-decoration-color: #008080; font-weight: bold\">46</span>, <span style=\"color: #008080; text-decoration-color: #008080; font-weight: bold\">39</span>, <span style=\"color: #008080; text-decoration-color: #008080; font-weight: bold\">58</span><span style=\"font-weight: bold\">]</span> the target: <span style=\"color: #008080; text-decoration-color: #008080; font-weight: bold\">1</span>\n",
       "</pre>\n"
      ],
      "text/plain": [
       "when input is \u001b[1m[\u001b[0m\u001b[1;36m44\u001b[0m, \u001b[1;36m53\u001b[0m, \u001b[1;36m56\u001b[0m, \u001b[1;36m1\u001b[0m, \u001b[1;36m58\u001b[0m, \u001b[1;36m46\u001b[0m, \u001b[1;36m39\u001b[0m, \u001b[1;36m58\u001b[0m\u001b[1m]\u001b[0m the target: \u001b[1;36m1\u001b[0m\n"
      ]
     },
     "metadata": {},
     "output_type": "display_data"
    },
    {
     "data": {
      "text/html": [
       "<pre style=\"white-space:pre;overflow-x:auto;line-height:normal;font-family:Menlo,'DejaVu Sans Mono',consolas,'Courier New',monospace\">when input is <span style=\"font-weight: bold\">[</span><span style=\"color: #008080; text-decoration-color: #008080; font-weight: bold\">52</span><span style=\"font-weight: bold\">]</span> the target: <span style=\"color: #008080; text-decoration-color: #008080; font-weight: bold\">58</span>\n",
       "</pre>\n"
      ],
      "text/plain": [
       "when input is \u001b[1m[\u001b[0m\u001b[1;36m52\u001b[0m\u001b[1m]\u001b[0m the target: \u001b[1;36m58\u001b[0m\n"
      ]
     },
     "metadata": {},
     "output_type": "display_data"
    },
    {
     "data": {
      "text/html": [
       "<pre style=\"white-space:pre;overflow-x:auto;line-height:normal;font-family:Menlo,'DejaVu Sans Mono',consolas,'Courier New',monospace\">when input is <span style=\"font-weight: bold\">[</span><span style=\"color: #008080; text-decoration-color: #008080; font-weight: bold\">52</span>, <span style=\"color: #008080; text-decoration-color: #008080; font-weight: bold\">58</span><span style=\"font-weight: bold\">]</span> the target: <span style=\"color: #008080; text-decoration-color: #008080; font-weight: bold\">1</span>\n",
       "</pre>\n"
      ],
      "text/plain": [
       "when input is \u001b[1m[\u001b[0m\u001b[1;36m52\u001b[0m, \u001b[1;36m58\u001b[0m\u001b[1m]\u001b[0m the target: \u001b[1;36m1\u001b[0m\n"
      ]
     },
     "metadata": {},
     "output_type": "display_data"
    },
    {
     "data": {
      "text/html": [
       "<pre style=\"white-space:pre;overflow-x:auto;line-height:normal;font-family:Menlo,'DejaVu Sans Mono',consolas,'Courier New',monospace\">when input is <span style=\"font-weight: bold\">[</span><span style=\"color: #008080; text-decoration-color: #008080; font-weight: bold\">52</span>, <span style=\"color: #008080; text-decoration-color: #008080; font-weight: bold\">58</span>, <span style=\"color: #008080; text-decoration-color: #008080; font-weight: bold\">1</span><span style=\"font-weight: bold\">]</span> the target: <span style=\"color: #008080; text-decoration-color: #008080; font-weight: bold\">58</span>\n",
       "</pre>\n"
      ],
      "text/plain": [
       "when input is \u001b[1m[\u001b[0m\u001b[1;36m52\u001b[0m, \u001b[1;36m58\u001b[0m, \u001b[1;36m1\u001b[0m\u001b[1m]\u001b[0m the target: \u001b[1;36m58\u001b[0m\n"
      ]
     },
     "metadata": {},
     "output_type": "display_data"
    },
    {
     "data": {
      "text/html": [
       "<pre style=\"white-space:pre;overflow-x:auto;line-height:normal;font-family:Menlo,'DejaVu Sans Mono',consolas,'Courier New',monospace\">when input is <span style=\"font-weight: bold\">[</span><span style=\"color: #008080; text-decoration-color: #008080; font-weight: bold\">52</span>, <span style=\"color: #008080; text-decoration-color: #008080; font-weight: bold\">58</span>, <span style=\"color: #008080; text-decoration-color: #008080; font-weight: bold\">1</span>, <span style=\"color: #008080; text-decoration-color: #008080; font-weight: bold\">58</span><span style=\"font-weight: bold\">]</span> the target: <span style=\"color: #008080; text-decoration-color: #008080; font-weight: bold\">46</span>\n",
       "</pre>\n"
      ],
      "text/plain": [
       "when input is \u001b[1m[\u001b[0m\u001b[1;36m52\u001b[0m, \u001b[1;36m58\u001b[0m, \u001b[1;36m1\u001b[0m, \u001b[1;36m58\u001b[0m\u001b[1m]\u001b[0m the target: \u001b[1;36m46\u001b[0m\n"
      ]
     },
     "metadata": {},
     "output_type": "display_data"
    },
    {
     "data": {
      "text/html": [
       "<pre style=\"white-space:pre;overflow-x:auto;line-height:normal;font-family:Menlo,'DejaVu Sans Mono',consolas,'Courier New',monospace\">when input is <span style=\"font-weight: bold\">[</span><span style=\"color: #008080; text-decoration-color: #008080; font-weight: bold\">52</span>, <span style=\"color: #008080; text-decoration-color: #008080; font-weight: bold\">58</span>, <span style=\"color: #008080; text-decoration-color: #008080; font-weight: bold\">1</span>, <span style=\"color: #008080; text-decoration-color: #008080; font-weight: bold\">58</span>, <span style=\"color: #008080; text-decoration-color: #008080; font-weight: bold\">46</span><span style=\"font-weight: bold\">]</span> the target: <span style=\"color: #008080; text-decoration-color: #008080; font-weight: bold\">39</span>\n",
       "</pre>\n"
      ],
      "text/plain": [
       "when input is \u001b[1m[\u001b[0m\u001b[1;36m52\u001b[0m, \u001b[1;36m58\u001b[0m, \u001b[1;36m1\u001b[0m, \u001b[1;36m58\u001b[0m, \u001b[1;36m46\u001b[0m\u001b[1m]\u001b[0m the target: \u001b[1;36m39\u001b[0m\n"
      ]
     },
     "metadata": {},
     "output_type": "display_data"
    },
    {
     "data": {
      "text/html": [
       "<pre style=\"white-space:pre;overflow-x:auto;line-height:normal;font-family:Menlo,'DejaVu Sans Mono',consolas,'Courier New',monospace\">when input is <span style=\"font-weight: bold\">[</span><span style=\"color: #008080; text-decoration-color: #008080; font-weight: bold\">52</span>, <span style=\"color: #008080; text-decoration-color: #008080; font-weight: bold\">58</span>, <span style=\"color: #008080; text-decoration-color: #008080; font-weight: bold\">1</span>, <span style=\"color: #008080; text-decoration-color: #008080; font-weight: bold\">58</span>, <span style=\"color: #008080; text-decoration-color: #008080; font-weight: bold\">46</span>, <span style=\"color: #008080; text-decoration-color: #008080; font-weight: bold\">39</span><span style=\"font-weight: bold\">]</span> the target: <span style=\"color: #008080; text-decoration-color: #008080; font-weight: bold\">58</span>\n",
       "</pre>\n"
      ],
      "text/plain": [
       "when input is \u001b[1m[\u001b[0m\u001b[1;36m52\u001b[0m, \u001b[1;36m58\u001b[0m, \u001b[1;36m1\u001b[0m, \u001b[1;36m58\u001b[0m, \u001b[1;36m46\u001b[0m, \u001b[1;36m39\u001b[0m\u001b[1m]\u001b[0m the target: \u001b[1;36m58\u001b[0m\n"
      ]
     },
     "metadata": {},
     "output_type": "display_data"
    },
    {
     "data": {
      "text/html": [
       "<pre style=\"white-space:pre;overflow-x:auto;line-height:normal;font-family:Menlo,'DejaVu Sans Mono',consolas,'Courier New',monospace\">when input is <span style=\"font-weight: bold\">[</span><span style=\"color: #008080; text-decoration-color: #008080; font-weight: bold\">52</span>, <span style=\"color: #008080; text-decoration-color: #008080; font-weight: bold\">58</span>, <span style=\"color: #008080; text-decoration-color: #008080; font-weight: bold\">1</span>, <span style=\"color: #008080; text-decoration-color: #008080; font-weight: bold\">58</span>, <span style=\"color: #008080; text-decoration-color: #008080; font-weight: bold\">46</span>, <span style=\"color: #008080; text-decoration-color: #008080; font-weight: bold\">39</span>, <span style=\"color: #008080; text-decoration-color: #008080; font-weight: bold\">58</span><span style=\"font-weight: bold\">]</span> the target: <span style=\"color: #008080; text-decoration-color: #008080; font-weight: bold\">1</span>\n",
       "</pre>\n"
      ],
      "text/plain": [
       "when input is \u001b[1m[\u001b[0m\u001b[1;36m52\u001b[0m, \u001b[1;36m58\u001b[0m, \u001b[1;36m1\u001b[0m, \u001b[1;36m58\u001b[0m, \u001b[1;36m46\u001b[0m, \u001b[1;36m39\u001b[0m, \u001b[1;36m58\u001b[0m\u001b[1m]\u001b[0m the target: \u001b[1;36m1\u001b[0m\n"
      ]
     },
     "metadata": {},
     "output_type": "display_data"
    },
    {
     "data": {
      "text/html": [
       "<pre style=\"white-space:pre;overflow-x:auto;line-height:normal;font-family:Menlo,'DejaVu Sans Mono',consolas,'Courier New',monospace\">when input is <span style=\"font-weight: bold\">[</span><span style=\"color: #008080; text-decoration-color: #008080; font-weight: bold\">52</span>, <span style=\"color: #008080; text-decoration-color: #008080; font-weight: bold\">58</span>, <span style=\"color: #008080; text-decoration-color: #008080; font-weight: bold\">1</span>, <span style=\"color: #008080; text-decoration-color: #008080; font-weight: bold\">58</span>, <span style=\"color: #008080; text-decoration-color: #008080; font-weight: bold\">46</span>, <span style=\"color: #008080; text-decoration-color: #008080; font-weight: bold\">39</span>, <span style=\"color: #008080; text-decoration-color: #008080; font-weight: bold\">58</span>, <span style=\"color: #008080; text-decoration-color: #008080; font-weight: bold\">1</span><span style=\"font-weight: bold\">]</span> the target: <span style=\"color: #008080; text-decoration-color: #008080; font-weight: bold\">46</span>\n",
       "</pre>\n"
      ],
      "text/plain": [
       "when input is \u001b[1m[\u001b[0m\u001b[1;36m52\u001b[0m, \u001b[1;36m58\u001b[0m, \u001b[1;36m1\u001b[0m, \u001b[1;36m58\u001b[0m, \u001b[1;36m46\u001b[0m, \u001b[1;36m39\u001b[0m, \u001b[1;36m58\u001b[0m, \u001b[1;36m1\u001b[0m\u001b[1m]\u001b[0m the target: \u001b[1;36m46\u001b[0m\n"
      ]
     },
     "metadata": {},
     "output_type": "display_data"
    },
    {
     "data": {
      "text/html": [
       "<pre style=\"white-space:pre;overflow-x:auto;line-height:normal;font-family:Menlo,'DejaVu Sans Mono',consolas,'Courier New',monospace\">when input is <span style=\"font-weight: bold\">[</span><span style=\"color: #008080; text-decoration-color: #008080; font-weight: bold\">25</span><span style=\"font-weight: bold\">]</span> the target: <span style=\"color: #008080; text-decoration-color: #008080; font-weight: bold\">17</span>\n",
       "</pre>\n"
      ],
      "text/plain": [
       "when input is \u001b[1m[\u001b[0m\u001b[1;36m25\u001b[0m\u001b[1m]\u001b[0m the target: \u001b[1;36m17\u001b[0m\n"
      ]
     },
     "metadata": {},
     "output_type": "display_data"
    },
    {
     "data": {
      "text/html": [
       "<pre style=\"white-space:pre;overflow-x:auto;line-height:normal;font-family:Menlo,'DejaVu Sans Mono',consolas,'Courier New',monospace\">when input is <span style=\"font-weight: bold\">[</span><span style=\"color: #008080; text-decoration-color: #008080; font-weight: bold\">25</span>, <span style=\"color: #008080; text-decoration-color: #008080; font-weight: bold\">17</span><span style=\"font-weight: bold\">]</span> the target: <span style=\"color: #008080; text-decoration-color: #008080; font-weight: bold\">27</span>\n",
       "</pre>\n"
      ],
      "text/plain": [
       "when input is \u001b[1m[\u001b[0m\u001b[1;36m25\u001b[0m, \u001b[1;36m17\u001b[0m\u001b[1m]\u001b[0m the target: \u001b[1;36m27\u001b[0m\n"
      ]
     },
     "metadata": {},
     "output_type": "display_data"
    },
    {
     "data": {
      "text/html": [
       "<pre style=\"white-space:pre;overflow-x:auto;line-height:normal;font-family:Menlo,'DejaVu Sans Mono',consolas,'Courier New',monospace\">when input is <span style=\"font-weight: bold\">[</span><span style=\"color: #008080; text-decoration-color: #008080; font-weight: bold\">25</span>, <span style=\"color: #008080; text-decoration-color: #008080; font-weight: bold\">17</span>, <span style=\"color: #008080; text-decoration-color: #008080; font-weight: bold\">27</span><span style=\"font-weight: bold\">]</span> the target: <span style=\"color: #008080; text-decoration-color: #008080; font-weight: bold\">10</span>\n",
       "</pre>\n"
      ],
      "text/plain": [
       "when input is \u001b[1m[\u001b[0m\u001b[1;36m25\u001b[0m, \u001b[1;36m17\u001b[0m, \u001b[1;36m27\u001b[0m\u001b[1m]\u001b[0m the target: \u001b[1;36m10\u001b[0m\n"
      ]
     },
     "metadata": {},
     "output_type": "display_data"
    },
    {
     "data": {
      "text/html": [
       "<pre style=\"white-space:pre;overflow-x:auto;line-height:normal;font-family:Menlo,'DejaVu Sans Mono',consolas,'Courier New',monospace\">when input is <span style=\"font-weight: bold\">[</span><span style=\"color: #008080; text-decoration-color: #008080; font-weight: bold\">25</span>, <span style=\"color: #008080; text-decoration-color: #008080; font-weight: bold\">17</span>, <span style=\"color: #008080; text-decoration-color: #008080; font-weight: bold\">27</span>, <span style=\"color: #008080; text-decoration-color: #008080; font-weight: bold\">10</span><span style=\"font-weight: bold\">]</span> the target: <span style=\"color: #008080; text-decoration-color: #008080; font-weight: bold\">0</span>\n",
       "</pre>\n"
      ],
      "text/plain": [
       "when input is \u001b[1m[\u001b[0m\u001b[1;36m25\u001b[0m, \u001b[1;36m17\u001b[0m, \u001b[1;36m27\u001b[0m, \u001b[1;36m10\u001b[0m\u001b[1m]\u001b[0m the target: \u001b[1;36m0\u001b[0m\n"
      ]
     },
     "metadata": {},
     "output_type": "display_data"
    },
    {
     "data": {
      "text/html": [
       "<pre style=\"white-space:pre;overflow-x:auto;line-height:normal;font-family:Menlo,'DejaVu Sans Mono',consolas,'Courier New',monospace\">when input is <span style=\"font-weight: bold\">[</span><span style=\"color: #008080; text-decoration-color: #008080; font-weight: bold\">25</span>, <span style=\"color: #008080; text-decoration-color: #008080; font-weight: bold\">17</span>, <span style=\"color: #008080; text-decoration-color: #008080; font-weight: bold\">27</span>, <span style=\"color: #008080; text-decoration-color: #008080; font-weight: bold\">10</span>, <span style=\"color: #008080; text-decoration-color: #008080; font-weight: bold\">0</span><span style=\"font-weight: bold\">]</span> the target: <span style=\"color: #008080; text-decoration-color: #008080; font-weight: bold\">21</span>\n",
       "</pre>\n"
      ],
      "text/plain": [
       "when input is \u001b[1m[\u001b[0m\u001b[1;36m25\u001b[0m, \u001b[1;36m17\u001b[0m, \u001b[1;36m27\u001b[0m, \u001b[1;36m10\u001b[0m, \u001b[1;36m0\u001b[0m\u001b[1m]\u001b[0m the target: \u001b[1;36m21\u001b[0m\n"
      ]
     },
     "metadata": {},
     "output_type": "display_data"
    },
    {
     "data": {
      "text/html": [
       "<pre style=\"white-space:pre;overflow-x:auto;line-height:normal;font-family:Menlo,'DejaVu Sans Mono',consolas,'Courier New',monospace\">when input is <span style=\"font-weight: bold\">[</span><span style=\"color: #008080; text-decoration-color: #008080; font-weight: bold\">25</span>, <span style=\"color: #008080; text-decoration-color: #008080; font-weight: bold\">17</span>, <span style=\"color: #008080; text-decoration-color: #008080; font-weight: bold\">27</span>, <span style=\"color: #008080; text-decoration-color: #008080; font-weight: bold\">10</span>, <span style=\"color: #008080; text-decoration-color: #008080; font-weight: bold\">0</span>, <span style=\"color: #008080; text-decoration-color: #008080; font-weight: bold\">21</span><span style=\"font-weight: bold\">]</span> the target: <span style=\"color: #008080; text-decoration-color: #008080; font-weight: bold\">1</span>\n",
       "</pre>\n"
      ],
      "text/plain": [
       "when input is \u001b[1m[\u001b[0m\u001b[1;36m25\u001b[0m, \u001b[1;36m17\u001b[0m, \u001b[1;36m27\u001b[0m, \u001b[1;36m10\u001b[0m, \u001b[1;36m0\u001b[0m, \u001b[1;36m21\u001b[0m\u001b[1m]\u001b[0m the target: \u001b[1;36m1\u001b[0m\n"
      ]
     },
     "metadata": {},
     "output_type": "display_data"
    },
    {
     "data": {
      "text/html": [
       "<pre style=\"white-space:pre;overflow-x:auto;line-height:normal;font-family:Menlo,'DejaVu Sans Mono',consolas,'Courier New',monospace\">when input is <span style=\"font-weight: bold\">[</span><span style=\"color: #008080; text-decoration-color: #008080; font-weight: bold\">25</span>, <span style=\"color: #008080; text-decoration-color: #008080; font-weight: bold\">17</span>, <span style=\"color: #008080; text-decoration-color: #008080; font-weight: bold\">27</span>, <span style=\"color: #008080; text-decoration-color: #008080; font-weight: bold\">10</span>, <span style=\"color: #008080; text-decoration-color: #008080; font-weight: bold\">0</span>, <span style=\"color: #008080; text-decoration-color: #008080; font-weight: bold\">21</span>, <span style=\"color: #008080; text-decoration-color: #008080; font-weight: bold\">1</span><span style=\"font-weight: bold\">]</span> the target: <span style=\"color: #008080; text-decoration-color: #008080; font-weight: bold\">54</span>\n",
       "</pre>\n"
      ],
      "text/plain": [
       "when input is \u001b[1m[\u001b[0m\u001b[1;36m25\u001b[0m, \u001b[1;36m17\u001b[0m, \u001b[1;36m27\u001b[0m, \u001b[1;36m10\u001b[0m, \u001b[1;36m0\u001b[0m, \u001b[1;36m21\u001b[0m, \u001b[1;36m1\u001b[0m\u001b[1m]\u001b[0m the target: \u001b[1;36m54\u001b[0m\n"
      ]
     },
     "metadata": {},
     "output_type": "display_data"
    },
    {
     "data": {
      "text/html": [
       "<pre style=\"white-space:pre;overflow-x:auto;line-height:normal;font-family:Menlo,'DejaVu Sans Mono',consolas,'Courier New',monospace\">when input is <span style=\"font-weight: bold\">[</span><span style=\"color: #008080; text-decoration-color: #008080; font-weight: bold\">25</span>, <span style=\"color: #008080; text-decoration-color: #008080; font-weight: bold\">17</span>, <span style=\"color: #008080; text-decoration-color: #008080; font-weight: bold\">27</span>, <span style=\"color: #008080; text-decoration-color: #008080; font-weight: bold\">10</span>, <span style=\"color: #008080; text-decoration-color: #008080; font-weight: bold\">0</span>, <span style=\"color: #008080; text-decoration-color: #008080; font-weight: bold\">21</span>, <span style=\"color: #008080; text-decoration-color: #008080; font-weight: bold\">1</span>, <span style=\"color: #008080; text-decoration-color: #008080; font-weight: bold\">54</span><span style=\"font-weight: bold\">]</span> the target: <span style=\"color: #008080; text-decoration-color: #008080; font-weight: bold\">39</span>\n",
       "</pre>\n"
      ],
      "text/plain": [
       "when input is \u001b[1m[\u001b[0m\u001b[1;36m25\u001b[0m, \u001b[1;36m17\u001b[0m, \u001b[1;36m27\u001b[0m, \u001b[1;36m10\u001b[0m, \u001b[1;36m0\u001b[0m, \u001b[1;36m21\u001b[0m, \u001b[1;36m1\u001b[0m, \u001b[1;36m54\u001b[0m\u001b[1m]\u001b[0m the target: \u001b[1;36m39\u001b[0m\n"
      ]
     },
     "metadata": {},
     "output_type": "display_data"
    }
   ],
   "source": [
    "xb, yb = get_batch('train')\n",
    "print('inputs')\n",
    "print(xb.shape)\n",
    "print(xb)\n",
    "print('targets')\n",
    "print(yb.shape)\n",
    "print(yb)\n",
    "print('--------')\n",
    "    \n",
    "for b in range(batch_size):\n",
    "    for t in range(block_size):\n",
    "        context = xb[b, :t+1]\n",
    "        target = yb[b, t]\n",
    "        print(f\"when input is {context.tolist()} the target: {target}\")"
   ]
  },
  {
   "cell_type": "code",
   "execution_count": null,
   "id": "e4cce24e",
   "metadata": {},
   "outputs": [
    {
     "data": {
      "text/html": [
       "<pre style=\"white-space:pre;overflow-x:auto;line-height:normal;font-family:Menlo,'DejaVu Sans Mono',consolas,'Courier New',monospace\"><span style=\"color: #800080; text-decoration-color: #800080; font-weight: bold\">tensor</span><span style=\"font-weight: bold\">([[</span><span style=\"color: #008080; text-decoration-color: #008080; font-weight: bold\">24</span>, <span style=\"color: #008080; text-decoration-color: #008080; font-weight: bold\">43</span>, <span style=\"color: #008080; text-decoration-color: #008080; font-weight: bold\">58</span>,  <span style=\"color: #008080; text-decoration-color: #008080; font-weight: bold\">5</span>, <span style=\"color: #008080; text-decoration-color: #008080; font-weight: bold\">57</span>,  <span style=\"color: #008080; text-decoration-color: #008080; font-weight: bold\">1</span>, <span style=\"color: #008080; text-decoration-color: #008080; font-weight: bold\">46</span>, <span style=\"color: #008080; text-decoration-color: #008080; font-weight: bold\">43</span><span style=\"font-weight: bold\">]</span>,\n",
       "        <span style=\"font-weight: bold\">[</span><span style=\"color: #008080; text-decoration-color: #008080; font-weight: bold\">44</span>, <span style=\"color: #008080; text-decoration-color: #008080; font-weight: bold\">53</span>, <span style=\"color: #008080; text-decoration-color: #008080; font-weight: bold\">56</span>,  <span style=\"color: #008080; text-decoration-color: #008080; font-weight: bold\">1</span>, <span style=\"color: #008080; text-decoration-color: #008080; font-weight: bold\">58</span>, <span style=\"color: #008080; text-decoration-color: #008080; font-weight: bold\">46</span>, <span style=\"color: #008080; text-decoration-color: #008080; font-weight: bold\">39</span>, <span style=\"color: #008080; text-decoration-color: #008080; font-weight: bold\">58</span><span style=\"font-weight: bold\">]</span>,\n",
       "        <span style=\"font-weight: bold\">[</span><span style=\"color: #008080; text-decoration-color: #008080; font-weight: bold\">52</span>, <span style=\"color: #008080; text-decoration-color: #008080; font-weight: bold\">58</span>,  <span style=\"color: #008080; text-decoration-color: #008080; font-weight: bold\">1</span>, <span style=\"color: #008080; text-decoration-color: #008080; font-weight: bold\">58</span>, <span style=\"color: #008080; text-decoration-color: #008080; font-weight: bold\">46</span>, <span style=\"color: #008080; text-decoration-color: #008080; font-weight: bold\">39</span>, <span style=\"color: #008080; text-decoration-color: #008080; font-weight: bold\">58</span>,  <span style=\"color: #008080; text-decoration-color: #008080; font-weight: bold\">1</span><span style=\"font-weight: bold\">]</span>,\n",
       "        <span style=\"font-weight: bold\">[</span><span style=\"color: #008080; text-decoration-color: #008080; font-weight: bold\">25</span>, <span style=\"color: #008080; text-decoration-color: #008080; font-weight: bold\">17</span>, <span style=\"color: #008080; text-decoration-color: #008080; font-weight: bold\">27</span>, <span style=\"color: #008080; text-decoration-color: #008080; font-weight: bold\">10</span>,  <span style=\"color: #008080; text-decoration-color: #008080; font-weight: bold\">0</span>, <span style=\"color: #008080; text-decoration-color: #008080; font-weight: bold\">21</span>,  <span style=\"color: #008080; text-decoration-color: #008080; font-weight: bold\">1</span>, <span style=\"color: #008080; text-decoration-color: #008080; font-weight: bold\">54</span><span style=\"font-weight: bold\">]])</span>\n",
       "</pre>\n"
      ],
      "text/plain": [
       "\u001b[1;35mtensor\u001b[0m\u001b[1m(\u001b[0m\u001b[1m[\u001b[0m\u001b[1m[\u001b[0m\u001b[1;36m24\u001b[0m, \u001b[1;36m43\u001b[0m, \u001b[1;36m58\u001b[0m,  \u001b[1;36m5\u001b[0m, \u001b[1;36m57\u001b[0m,  \u001b[1;36m1\u001b[0m, \u001b[1;36m46\u001b[0m, \u001b[1;36m43\u001b[0m\u001b[1m]\u001b[0m,\n",
       "        \u001b[1m[\u001b[0m\u001b[1;36m44\u001b[0m, \u001b[1;36m53\u001b[0m, \u001b[1;36m56\u001b[0m,  \u001b[1;36m1\u001b[0m, \u001b[1;36m58\u001b[0m, \u001b[1;36m46\u001b[0m, \u001b[1;36m39\u001b[0m, \u001b[1;36m58\u001b[0m\u001b[1m]\u001b[0m,\n",
       "        \u001b[1m[\u001b[0m\u001b[1;36m52\u001b[0m, \u001b[1;36m58\u001b[0m,  \u001b[1;36m1\u001b[0m, \u001b[1;36m58\u001b[0m, \u001b[1;36m46\u001b[0m, \u001b[1;36m39\u001b[0m, \u001b[1;36m58\u001b[0m,  \u001b[1;36m1\u001b[0m\u001b[1m]\u001b[0m,\n",
       "        \u001b[1m[\u001b[0m\u001b[1;36m25\u001b[0m, \u001b[1;36m17\u001b[0m, \u001b[1;36m27\u001b[0m, \u001b[1;36m10\u001b[0m,  \u001b[1;36m0\u001b[0m, \u001b[1;36m21\u001b[0m,  \u001b[1;36m1\u001b[0m, \u001b[1;36m54\u001b[0m\u001b[1m]\u001b[0m\u001b[1m]\u001b[0m\u001b[1m)\u001b[0m\n"
      ]
     },
     "metadata": {},
     "output_type": "display_data"
    }
   ],
   "source": [
    "print(xb) # our input to the transformer"
   ]
  },
  {
   "cell_type": "markdown",
   "id": "490cd914",
   "metadata": {},
   "source": [
    "## Simplest Baseline: Bigram Language Model, Loss, Generation"
   ]
  },
  {
   "cell_type": "code",
   "execution_count": null,
   "id": "c721ab23",
   "metadata": {},
   "outputs": [],
   "source": [
    "class BigramLanguageModel(nn.Module):\n",
    "    def __init__(self, vocab_size):\n",
    "        super().__init__()\n",
    "        # each token directly reads of the logits for the next token from a lookup table\n",
    "        self.token_embedding_table = nn.Embedding(vocab_size, vocab_size)\n",
    "    \n",
    "    def forward(self, idx, targets):\n",
    "        \n",
    "        # idx and targets are both (B, T) tensor of integers\n",
    "        logits = self.token_embedding_table(idx) # (B, T, C)\n",
    "        \n",
    "        return logits"
   ]
  },
  {
   "cell_type": "code",
   "execution_count": null,
   "id": "958b381b",
   "metadata": {},
   "outputs": [
    {
     "data": {
      "text/plain": [
       "torch.Size([4, 8, 65])"
      ]
     },
     "execution_count": null,
     "metadata": {},
     "output_type": "execute_result"
    }
   ],
   "source": [
    "m = BigramLanguageModel(vocab_size)\n",
    "out = m(xb, yb)\n",
    "out.shape"
   ]
  },
  {
   "cell_type": "markdown",
   "id": "49c40a1b",
   "metadata": {},
   "source": [
    "#### Introduce cross entropy loss"
   ]
  },
  {
   "cell_type": "code",
   "execution_count": null,
   "id": "209f9e2d",
   "metadata": {},
   "outputs": [],
   "source": [
    "class BigramLanguageModel(nn.Module):\n",
    "    def __init__(self, vocab_size):\n",
    "        super().__init__()\n",
    "        # each token directly reads of the logits for the next token from a lookup table\n",
    "        self.token_embedding_table = nn.Embedding(vocab_size, vocab_size)\n",
    "    \n",
    "    def forward(self, idx, targets):\n",
    "        \n",
    "        # idx and targets are both (B, T) tensor of integers\n",
    "        logits = self.token_embedding_table(idx) # (B, T, C)\n",
    "        \n",
    "        # Cross entropy expects C in second dimension \n",
    "        B, T, C = logits.shape\n",
    "        logits = logits.view(B * T, C)\n",
    "        targets = targets.view(B * T)\n",
    "        loss = F.cross_entropy(logits, targets) \n",
    "        \n",
    "        return logits, loss"
   ]
  },
  {
   "cell_type": "code",
   "execution_count": null,
   "id": "0c67119d",
   "metadata": {},
   "outputs": [
    {
     "data": {
      "text/plain": [
       "(torch.Size([32, 65]), tensor(4.7288, grad_fn=<NllLossBackward0>))"
      ]
     },
     "execution_count": null,
     "metadata": {},
     "output_type": "execute_result"
    }
   ],
   "source": [
    "m = BigramLanguageModel(vocab_size)\n",
    "logits, loss = m(xb, yb)\n",
    "logits.shape, loss"
   ]
  },
  {
   "cell_type": "markdown",
   "id": "20345285",
   "metadata": {},
   "source": [
    "#### Introduce generation function"
   ]
  },
  {
   "cell_type": "code",
   "execution_count": null,
   "id": "af853bab",
   "metadata": {},
   "outputs": [],
   "source": [
    "#|export\n",
    "class BigramLanguageModel(nn.Module):\n",
    "    \n",
    "    def __init__(self, vocab_size):\n",
    "        super().__init__()\n",
    "        # each token directly reads off the logits for the next token from a lookup table\n",
    "        self.token_embedding_table = nn.Embedding(vocab_size, vocab_size)\n",
    "    \n",
    "    def forward(self, idx, targets=None):\n",
    "        # idx and targets are both (B, T) tensor of integers\n",
    "        logits = self.token_embedding_table(idx) # (B, T, C)\n",
    "        \n",
    "        if targets is None:\n",
    "            loss = None\n",
    "        else:\n",
    "            # Cross entropy expects C in second dimension\n",
    "            B, T, C = logits.shape\n",
    "            logits = logits.view(B * T, C)\n",
    "            targets = targets.view(B * T)\n",
    "            loss = F.cross_entropy(logits, targets)\n",
    "        \n",
    "        return logits, loss\n",
    "    \n",
    "    def generate(self, idx, max_new_tokens):\n",
    "        # idx is (B, T) array of indices in the current context\n",
    "        for _ in range(max_new_tokens):\n",
    "            # get the prediction\n",
    "            logits, loss = self(idx)\n",
    "            # focus only on the last time step\n",
    "            logits = logits[:, -1, :] # becomes (B, C)\n",
    "            # apply softmax to get probabilities\n",
    "            probs = F.softmax(logits, dim = -1)\n",
    "            # sample from the distribution\n",
    "            idx_next = torch.multinomial(probs, num_samples=1) # (B, 1)\n",
    "            # append sampled index to the running sequence\n",
    "            idx = torch.cat((idx, idx_next), dim=1) # (B, T + 1)\n",
    "            \n",
    "        return idx"
   ]
  },
  {
   "cell_type": "code",
   "execution_count": null,
   "id": "154f0ade",
   "metadata": {},
   "outputs": [
    {
     "data": {
      "text/plain": [
       "(torch.Size([32, 65]), tensor(4.2793, grad_fn=<NllLossBackward0>))"
      ]
     },
     "execution_count": null,
     "metadata": {},
     "output_type": "execute_result"
    }
   ],
   "source": [
    "m = BigramLanguageModel(vocab_size)\n",
    "logits, loss = m(xb, yb)\n",
    "logits.shape, loss"
   ]
  },
  {
   "cell_type": "code",
   "execution_count": null,
   "id": "30494e5d",
   "metadata": {},
   "outputs": [
    {
     "data": {
      "text/plain": [
       "(torch.Size([1, 101]),\n",
       " tensor([[ 0, 25, 59, 44, 30,  9,  2, 63, 15,  1, 26, 20, 23, 19, 37, 12, 15,  9,\n",
       "          43, 16, 17, 19, 25, 54,  7, 34, 15, 41, 38, 26,  9, 39, 53, 30, 26,  4,\n",
       "          54, 53, 61, 44, 36, 51, 14,  8, 17, 27, 36,  8, 39, 18, 50,  9, 57, 47,\n",
       "          58, 19, 48,  4, 35, 41, 19, 54, 53, 17, 44, 30, 60, 20, 24, 40, 30, 12,\n",
       "           0, 22, 62, 20, 53, 44, 30, 36,  6, 25, 41, 41, 13, 35, 14, 32, 18,  8,\n",
       "          13, 24, 18,  3, 51, 29, 11,  2, 19, 37, 10]]))"
      ]
     },
     "execution_count": null,
     "metadata": {},
     "output_type": "execute_result"
    }
   ],
   "source": [
    "idx = torch.zeros((1, 1), dtype = torch.long)\n",
    "out = m.generate(idx, max_new_tokens=100); \n",
    "out.shape, out"
   ]
  },
  {
   "cell_type": "code",
   "execution_count": null,
   "id": "d0756d90",
   "metadata": {},
   "outputs": [
    {
     "data": {
      "text/plain": [
       "\"\\n\\n$mxmncZSB 'yQOcZqIsKso-y'LhFdr\\nFDMwr,GY!KitFz:lLvdDM?VPNMH&XvU?QAw;!C.F&fR\\n,!YL  LCi;SKVxIpU$ZkI$fV\""
      ]
     },
     "execution_count": null,
     "metadata": {},
     "output_type": "execute_result"
    }
   ],
   "source": [
    "decode(m.generate(torch.zeros((1, 1), dtype=torch.long), max_new_tokens=100)[0].tolist())"
   ]
  },
  {
   "cell_type": "markdown",
   "id": "815fb615",
   "metadata": {},
   "source": [
    "### Train the model"
   ]
  },
  {
   "cell_type": "markdown",
   "id": "62de67cd",
   "metadata": {},
   "source": [
    "#### Create a PyTorch Optimizer"
   ]
  },
  {
   "cell_type": "code",
   "execution_count": null,
   "id": "450750f3",
   "metadata": {},
   "outputs": [],
   "source": [
    "m = BigramLanguageModel(vocab_size)"
   ]
  },
  {
   "cell_type": "code",
   "execution_count": null,
   "id": "9451336c",
   "metadata": {},
   "outputs": [],
   "source": [
    "optimizer = torch.optim.AdamW(m.parameters(), lr=1e-3)"
   ]
  },
  {
   "cell_type": "code",
   "execution_count": null,
   "id": "0288c452",
   "metadata": {},
   "outputs": [
    {
     "data": {
      "text/html": [
       "<pre style=\"white-space:pre;overflow-x:auto;line-height:normal;font-family:Menlo,'DejaVu Sans Mono',consolas,'Courier New',monospace\"><span style=\"color: #008080; text-decoration-color: #008080; font-weight: bold\">2.6547441482543945</span>\n",
       "</pre>\n"
      ],
      "text/plain": [
       "\u001b[1;36m2.6547441482543945\u001b[0m\n"
      ]
     },
     "metadata": {},
     "output_type": "display_data"
    }
   ],
   "source": [
    "bs = 32\n",
    "for steps in range(15_000):\n",
    "    \n",
    "    # sample a batch of data\n",
    "    xb, yb = get_batch('train')\n",
    "    \n",
    "    # evaluate the loss\n",
    "    logits, loss = m(xb, yb)\n",
    "    optimizer.zero_grad(set_to_none=True)\n",
    "    loss.backward()\n",
    "    optimizer.step()\n",
    "    \n",
    "print(loss.item())"
   ]
  },
  {
   "cell_type": "code",
   "execution_count": null,
   "id": "cc072d04",
   "metadata": {},
   "outputs": [
    {
     "data": {
      "text/plain": [
       "'\\n\\n\\nMoutug;\\n\\nYor gre t we IAme s fasonsu totheinoadouthe arpllle ME antt.\\n\\nA:\\nMOforsouthofursse,\\nPeraf. tt tungorecis gengenalasuno led my nstail?\\n\\nLqu,\\nBYONENulinf ste brth tielothomairuthely bbes baty bune wim s itaigge ph thee chado ser: tatldorot d\\n\\nCA:\\nnd ck\\n\\nDurek s,\\n\\nHoff toeenosther; w.\\n\\n\\nT:\\nL'"
      ]
     },
     "execution_count": null,
     "metadata": {},
     "output_type": "execute_result"
    }
   ],
   "source": [
    "decode(m.generate(torch.zeros((1, 1), dtype=torch.long), max_new_tokens=300)[0].tolist())"
   ]
  },
  {
   "cell_type": "markdown",
   "id": "76ec62aa",
   "metadata": {},
   "source": [
    "#### Train the model"
   ]
  },
  {
   "cell_type": "code",
   "execution_count": null,
   "id": "0e4a9201",
   "metadata": {},
   "outputs": [],
   "source": [
    "#|export\n",
    "\n",
    "# hyperparameters\n",
    "max_iters = 3000 \n",
    "eval_interval = 300\n",
    "lr = 1e-2\n",
    "eval_iters = 200"
   ]
  },
  {
   "cell_type": "code",
   "execution_count": null,
   "id": "6ebc4206",
   "metadata": {},
   "outputs": [],
   "source": [
    "#|export \n",
    "\n",
    "@torch.no_grad() # we will not be calling .backward() in this function \n",
    "#so no storage of gradient compuration required\n",
    "def estimate_loss():\n",
    "    out = {}\n",
    "    model.eval() # https://stackoverflow.com/questions/60018578/what-does-model-eval-do-in-pytorch\n",
    "    for split in ['train', 'val']:\n",
    "        losses = torch.zeros(eval_iters)\n",
    "        for k in range(eval_iters):\n",
    "            X, Y = get_batch(split)\n",
    "            logits, loss = model(X, Y)\n",
    "            losses[k] = loss.item()\n",
    "        out[split] = losses.mean()\n",
    "    model.train() # setting back to training phase\n",
    "    return out    "
   ]
  },
  {
   "cell_type": "code",
   "execution_count": null,
   "id": "dca207a6",
   "metadata": {},
   "outputs": [
    {
     "data": {
      "text/html": [
       "<pre style=\"white-space:pre;overflow-x:auto;line-height:normal;font-family:Menlo,'DejaVu Sans Mono',consolas,'Courier New',monospace\">step <span style=\"color: #008080; text-decoration-color: #008080; font-weight: bold\">0</span>: train loss <span style=\"color: #008080; text-decoration-color: #008080; font-weight: bold\">4.7540</span>, val loss <span style=\"color: #008080; text-decoration-color: #008080; font-weight: bold\">4.7581</span>\n",
       "</pre>\n"
      ],
      "text/plain": [
       "step \u001b[1;36m0\u001b[0m: train loss \u001b[1;36m4.7540\u001b[0m, val loss \u001b[1;36m4.7581\u001b[0m\n"
      ]
     },
     "metadata": {},
     "output_type": "display_data"
    },
    {
     "data": {
      "text/html": [
       "<pre style=\"white-space:pre;overflow-x:auto;line-height:normal;font-family:Menlo,'DejaVu Sans Mono',consolas,'Courier New',monospace\">step <span style=\"color: #008080; text-decoration-color: #008080; font-weight: bold\">300</span>: train loss <span style=\"color: #008080; text-decoration-color: #008080; font-weight: bold\">3.2280</span>, val loss <span style=\"color: #008080; text-decoration-color: #008080; font-weight: bold\">3.2440</span>\n",
       "</pre>\n"
      ],
      "text/plain": [
       "step \u001b[1;36m300\u001b[0m: train loss \u001b[1;36m3.2280\u001b[0m, val loss \u001b[1;36m3.2440\u001b[0m\n"
      ]
     },
     "metadata": {},
     "output_type": "display_data"
    },
    {
     "data": {
      "text/html": [
       "<pre style=\"white-space:pre;overflow-x:auto;line-height:normal;font-family:Menlo,'DejaVu Sans Mono',consolas,'Courier New',monospace\">step <span style=\"color: #008080; text-decoration-color: #008080; font-weight: bold\">600</span>: train loss <span style=\"color: #008080; text-decoration-color: #008080; font-weight: bold\">2.7701</span>, val loss <span style=\"color: #008080; text-decoration-color: #008080; font-weight: bold\">2.7757</span>\n",
       "</pre>\n"
      ],
      "text/plain": [
       "step \u001b[1;36m600\u001b[0m: train loss \u001b[1;36m2.7701\u001b[0m, val loss \u001b[1;36m2.7757\u001b[0m\n"
      ]
     },
     "metadata": {},
     "output_type": "display_data"
    },
    {
     "data": {
      "text/html": [
       "<pre style=\"white-space:pre;overflow-x:auto;line-height:normal;font-family:Menlo,'DejaVu Sans Mono',consolas,'Courier New',monospace\">step <span style=\"color: #008080; text-decoration-color: #008080; font-weight: bold\">900</span>: train loss <span style=\"color: #008080; text-decoration-color: #008080; font-weight: bold\">2.6287</span>, val loss <span style=\"color: #008080; text-decoration-color: #008080; font-weight: bold\">2.6373</span>\n",
       "</pre>\n"
      ],
      "text/plain": [
       "step \u001b[1;36m900\u001b[0m: train loss \u001b[1;36m2.6287\u001b[0m, val loss \u001b[1;36m2.6373\u001b[0m\n"
      ]
     },
     "metadata": {},
     "output_type": "display_data"
    },
    {
     "data": {
      "text/html": [
       "<pre style=\"white-space:pre;overflow-x:auto;line-height:normal;font-family:Menlo,'DejaVu Sans Mono',consolas,'Courier New',monospace\">step <span style=\"color: #008080; text-decoration-color: #008080; font-weight: bold\">1200</span>: train loss <span style=\"color: #008080; text-decoration-color: #008080; font-weight: bold\">2.5333</span>, val loss <span style=\"color: #008080; text-decoration-color: #008080; font-weight: bold\">2.5632</span>\n",
       "</pre>\n"
      ],
      "text/plain": [
       "step \u001b[1;36m1200\u001b[0m: train loss \u001b[1;36m2.5333\u001b[0m, val loss \u001b[1;36m2.5632\u001b[0m\n"
      ]
     },
     "metadata": {},
     "output_type": "display_data"
    },
    {
     "data": {
      "text/html": [
       "<pre style=\"white-space:pre;overflow-x:auto;line-height:normal;font-family:Menlo,'DejaVu Sans Mono',consolas,'Courier New',monospace\">step <span style=\"color: #008080; text-decoration-color: #008080; font-weight: bold\">1500</span>: train loss <span style=\"color: #008080; text-decoration-color: #008080; font-weight: bold\">2.5162</span>, val loss <span style=\"color: #008080; text-decoration-color: #008080; font-weight: bold\">2.5909</span>\n",
       "</pre>\n"
      ],
      "text/plain": [
       "step \u001b[1;36m1500\u001b[0m: train loss \u001b[1;36m2.5162\u001b[0m, val loss \u001b[1;36m2.5909\u001b[0m\n"
      ]
     },
     "metadata": {},
     "output_type": "display_data"
    },
    {
     "data": {
      "text/html": [
       "<pre style=\"white-space:pre;overflow-x:auto;line-height:normal;font-family:Menlo,'DejaVu Sans Mono',consolas,'Courier New',monospace\">step <span style=\"color: #008080; text-decoration-color: #008080; font-weight: bold\">1800</span>: train loss <span style=\"color: #008080; text-decoration-color: #008080; font-weight: bold\">2.5410</span>, val loss <span style=\"color: #008080; text-decoration-color: #008080; font-weight: bold\">2.5257</span>\n",
       "</pre>\n"
      ],
      "text/plain": [
       "step \u001b[1;36m1800\u001b[0m: train loss \u001b[1;36m2.5410\u001b[0m, val loss \u001b[1;36m2.5257\u001b[0m\n"
      ]
     },
     "metadata": {},
     "output_type": "display_data"
    },
    {
     "data": {
      "text/html": [
       "<pre style=\"white-space:pre;overflow-x:auto;line-height:normal;font-family:Menlo,'DejaVu Sans Mono',consolas,'Courier New',monospace\">step <span style=\"color: #008080; text-decoration-color: #008080; font-weight: bold\">2100</span>: train loss <span style=\"color: #008080; text-decoration-color: #008080; font-weight: bold\">2.5005</span>, val loss <span style=\"color: #008080; text-decoration-color: #008080; font-weight: bold\">2.5164</span>\n",
       "</pre>\n"
      ],
      "text/plain": [
       "step \u001b[1;36m2100\u001b[0m: train loss \u001b[1;36m2.5005\u001b[0m, val loss \u001b[1;36m2.5164\u001b[0m\n"
      ]
     },
     "metadata": {},
     "output_type": "display_data"
    },
    {
     "data": {
      "text/html": [
       "<pre style=\"white-space:pre;overflow-x:auto;line-height:normal;font-family:Menlo,'DejaVu Sans Mono',consolas,'Courier New',monospace\">step <span style=\"color: #008080; text-decoration-color: #008080; font-weight: bold\">2400</span>: train loss <span style=\"color: #008080; text-decoration-color: #008080; font-weight: bold\">2.4846</span>, val loss <span style=\"color: #008080; text-decoration-color: #008080; font-weight: bold\">2.5060</span>\n",
       "</pre>\n"
      ],
      "text/plain": [
       "step \u001b[1;36m2400\u001b[0m: train loss \u001b[1;36m2.4846\u001b[0m, val loss \u001b[1;36m2.5060\u001b[0m\n"
      ]
     },
     "metadata": {},
     "output_type": "display_data"
    },
    {
     "data": {
      "text/html": [
       "<pre style=\"white-space:pre;overflow-x:auto;line-height:normal;font-family:Menlo,'DejaVu Sans Mono',consolas,'Courier New',monospace\">step <span style=\"color: #008080; text-decoration-color: #008080; font-weight: bold\">2700</span>: train loss <span style=\"color: #008080; text-decoration-color: #008080; font-weight: bold\">2.4913</span>, val loss <span style=\"color: #008080; text-decoration-color: #008080; font-weight: bold\">2.5216</span>\n",
       "</pre>\n"
      ],
      "text/plain": [
       "step \u001b[1;36m2700\u001b[0m: train loss \u001b[1;36m2.4913\u001b[0m, val loss \u001b[1;36m2.5216\u001b[0m\n"
      ]
     },
     "metadata": {},
     "output_type": "display_data"
    }
   ],
   "source": [
    "#|export\n",
    "\n",
    "model = BigramLanguageModel(vocab_size)\n",
    "m = model.to(device)\n",
    "\n",
    "# create a PyTorch optimizer    \n",
    "optimizer = torch.optim.AdamW(model.parameters(), lr=lr)\n",
    "    \n",
    "for step in range(max_iters):\n",
    "\n",
    "    if step % eval_interval == 0:\n",
    "        losses = estimate_loss()\n",
    "        print(f\"step {step}: train loss {losses['train']:.4f}, val loss {losses['val']:.4f}\")\n",
    "\n",
    "    # sample a batch of data\n",
    "    xb, yb = get_batch('train')\n",
    "\n",
    "    # evaluate the loss\n",
    "    logits, loss = model(xb, yb)\n",
    "    optimizer.zero_grad(set_to_none=True)\n",
    "    loss.backward()\n",
    "    optimizer.step()"
   ]
  },
  {
   "cell_type": "code",
   "execution_count": null,
   "id": "53289218",
   "metadata": {},
   "outputs": [
    {
     "data": {
      "text/plain": [
       "\"\\nur I bck YCLe chiatweentoffigardy,\\nItunng, mat by of arsbed te\\nTrer n d ndoug tencoumosofomul acharourieat ooy t the kncer f3BETargqsinginthe, f; m alp,\\nT:\\nBusMerraiks;  nchis lousheer S: ver ar pe I butimagixEN;3EXms n ain peefstheventit, pr; w ue tthantsentowarthat bre intureawit mer:\\nCOOLLUCHeJ;\\n\\n\\n\\n\\nSe.\\nG; ces\\nWhounthtode mikerelt prty le.\\n\\nGBUCE:\\nTh K:\\nA: IUSe lll ls an t it cr t Hod in d.\\n\\nYBUKI:\\nHeaberusinde, t my llfo me boss wss?\\nPAn hois ak-mee uswhe alsousil alpano IOBle't IOLYCI's I w\""
      ]
     },
     "execution_count": null,
     "metadata": {},
     "output_type": "execute_result"
    }
   ],
   "source": [
    "decode(m.generate(torch.zeros((1, 1), dtype=torch.long), max_new_tokens=500)[0].tolist())"
   ]
  },
  {
   "cell_type": "markdown",
   "id": "a58cdf11",
   "metadata": {},
   "source": [
    "## The mathematical trick in self-attention"
   ]
  },
  {
   "cell_type": "markdown",
   "id": "7abc678c",
   "metadata": {},
   "source": [
    "### Version 1\n",
    "> Averaging past context with for loops"
   ]
  },
  {
   "cell_type": "code",
   "execution_count": null,
   "id": "3f0ea5a4",
   "metadata": {},
   "outputs": [
    {
     "data": {
      "text/plain": [
       "torch.Size([4, 8, 2])"
      ]
     },
     "execution_count": null,
     "metadata": {},
     "output_type": "execute_result"
    }
   ],
   "source": [
    "# consider the following toy example:\n",
    "\n",
    "B, T, C = 4, 8, 2 # batch, time, channels\n",
    "x = torch.randn(B, T, C)\n",
    "x.shape"
   ]
  },
  {
   "cell_type": "code",
   "execution_count": null,
   "id": "bb58a8ad",
   "metadata": {},
   "outputs": [],
   "source": [
    "# We want x[b, t] = mean_{i <= t} x[b, i]\n",
    "xbow = torch.zeros((B, T, C))\n",
    "for b in range(B):\n",
    "    for t in range(T):\n",
    "        xprev = x[b, :t+1] # (t, C)\n",
    "        xbow[b, t] = torch.mean(xprev, 0)"
   ]
  },
  {
   "cell_type": "code",
   "execution_count": null,
   "id": "62b8d4fe",
   "metadata": {},
   "outputs": [
    {
     "data": {
      "text/plain": [
       "tensor([[-0.3724, -0.6920],\n",
       "        [ 0.9520,  0.1971],\n",
       "        [-1.3562,  0.0523],\n",
       "        [-0.3947, -0.1389],\n",
       "        [-1.0761, -0.2606],\n",
       "        [ 0.2385, -0.6055],\n",
       "        [-0.4021, -1.3019],\n",
       "        [-0.2927, -0.7348]])"
      ]
     },
     "execution_count": null,
     "metadata": {},
     "output_type": "execute_result"
    }
   ],
   "source": [
    "x[0]"
   ]
  },
  {
   "cell_type": "code",
   "execution_count": null,
   "id": "40189fd0",
   "metadata": {},
   "outputs": [
    {
     "data": {
      "text/plain": [
       "tensor([[-0.3724, -0.6920],\n",
       "        [ 0.2898, -0.2474],\n",
       "        [-0.2589, -0.1475],\n",
       "        [-0.2928, -0.1454],\n",
       "        [-0.4495, -0.1684],\n",
       "        [-0.3348, -0.2413],\n",
       "        [-0.3444, -0.3928],\n",
       "        [-0.3380, -0.4355]])"
      ]
     },
     "execution_count": null,
     "metadata": {},
     "output_type": "execute_result"
    }
   ],
   "source": [
    "xbow[0]"
   ]
  },
  {
   "cell_type": "code",
   "execution_count": null,
   "id": "41ba3647",
   "metadata": {},
   "outputs": [
    {
     "data": {
      "text/html": [
       "<pre style=\"white-space:pre;overflow-x:auto;line-height:normal;font-family:Menlo,'DejaVu Sans Mono',consolas,'Courier New',monospace\"><span style=\"color: #808000; text-decoration-color: #808000\">a</span>=\n",
       "</pre>\n"
      ],
      "text/plain": [
       "\u001b[33ma\u001b[0m=\n"
      ]
     },
     "metadata": {},
     "output_type": "display_data"
    },
    {
     "data": {
      "text/html": [
       "<pre style=\"white-space:pre;overflow-x:auto;line-height:normal;font-family:Menlo,'DejaVu Sans Mono',consolas,'Courier New',monospace\"><span style=\"color: #800080; text-decoration-color: #800080; font-weight: bold\">tensor</span><span style=\"font-weight: bold\">([[</span><span style=\"color: #008080; text-decoration-color: #008080; font-weight: bold\">1</span>., <span style=\"color: #008080; text-decoration-color: #008080; font-weight: bold\">1</span>., <span style=\"color: #008080; text-decoration-color: #008080; font-weight: bold\">1</span>.<span style=\"font-weight: bold\">]</span>,\n",
       "        <span style=\"font-weight: bold\">[</span><span style=\"color: #008080; text-decoration-color: #008080; font-weight: bold\">1</span>., <span style=\"color: #008080; text-decoration-color: #008080; font-weight: bold\">1</span>., <span style=\"color: #008080; text-decoration-color: #008080; font-weight: bold\">1</span>.<span style=\"font-weight: bold\">]</span>,\n",
       "        <span style=\"font-weight: bold\">[</span><span style=\"color: #008080; text-decoration-color: #008080; font-weight: bold\">1</span>., <span style=\"color: #008080; text-decoration-color: #008080; font-weight: bold\">1</span>., <span style=\"color: #008080; text-decoration-color: #008080; font-weight: bold\">1</span>.<span style=\"font-weight: bold\">]])</span>\n",
       "</pre>\n"
      ],
      "text/plain": [
       "\u001b[1;35mtensor\u001b[0m\u001b[1m(\u001b[0m\u001b[1m[\u001b[0m\u001b[1m[\u001b[0m\u001b[1;36m1\u001b[0m., \u001b[1;36m1\u001b[0m., \u001b[1;36m1\u001b[0m.\u001b[1m]\u001b[0m,\n",
       "        \u001b[1m[\u001b[0m\u001b[1;36m1\u001b[0m., \u001b[1;36m1\u001b[0m., \u001b[1;36m1\u001b[0m.\u001b[1m]\u001b[0m,\n",
       "        \u001b[1m[\u001b[0m\u001b[1;36m1\u001b[0m., \u001b[1;36m1\u001b[0m., \u001b[1;36m1\u001b[0m.\u001b[1m]\u001b[0m\u001b[1m]\u001b[0m\u001b[1m)\u001b[0m\n"
      ]
     },
     "metadata": {},
     "output_type": "display_data"
    },
    {
     "data": {
      "text/html": [
       "<pre style=\"white-space:pre;overflow-x:auto;line-height:normal;font-family:Menlo,'DejaVu Sans Mono',consolas,'Courier New',monospace\">--\n",
       "</pre>\n"
      ],
      "text/plain": [
       "--\n"
      ]
     },
     "metadata": {},
     "output_type": "display_data"
    },
    {
     "data": {
      "text/html": [
       "<pre style=\"white-space:pre;overflow-x:auto;line-height:normal;font-family:Menlo,'DejaVu Sans Mono',consolas,'Courier New',monospace\"><span style=\"color: #808000; text-decoration-color: #808000\">b</span>=\n",
       "</pre>\n"
      ],
      "text/plain": [
       "\u001b[33mb\u001b[0m=\n"
      ]
     },
     "metadata": {},
     "output_type": "display_data"
    },
    {
     "data": {
      "text/html": [
       "<pre style=\"white-space:pre;overflow-x:auto;line-height:normal;font-family:Menlo,'DejaVu Sans Mono',consolas,'Courier New',monospace\"><span style=\"color: #800080; text-decoration-color: #800080; font-weight: bold\">tensor</span><span style=\"font-weight: bold\">([[</span><span style=\"color: #008080; text-decoration-color: #008080; font-weight: bold\">2</span>., <span style=\"color: #008080; text-decoration-color: #008080; font-weight: bold\">3</span>.<span style=\"font-weight: bold\">]</span>,\n",
       "        <span style=\"font-weight: bold\">[</span><span style=\"color: #008080; text-decoration-color: #008080; font-weight: bold\">5</span>., <span style=\"color: #008080; text-decoration-color: #008080; font-weight: bold\">1</span>.<span style=\"font-weight: bold\">]</span>,\n",
       "        <span style=\"font-weight: bold\">[</span><span style=\"color: #008080; text-decoration-color: #008080; font-weight: bold\">2</span>., <span style=\"color: #008080; text-decoration-color: #008080; font-weight: bold\">4</span>.<span style=\"font-weight: bold\">]])</span>\n",
       "</pre>\n"
      ],
      "text/plain": [
       "\u001b[1;35mtensor\u001b[0m\u001b[1m(\u001b[0m\u001b[1m[\u001b[0m\u001b[1m[\u001b[0m\u001b[1;36m2\u001b[0m., \u001b[1;36m3\u001b[0m.\u001b[1m]\u001b[0m,\n",
       "        \u001b[1m[\u001b[0m\u001b[1;36m5\u001b[0m., \u001b[1;36m1\u001b[0m.\u001b[1m]\u001b[0m,\n",
       "        \u001b[1m[\u001b[0m\u001b[1;36m2\u001b[0m., \u001b[1;36m4\u001b[0m.\u001b[1m]\u001b[0m\u001b[1m]\u001b[0m\u001b[1m)\u001b[0m\n"
      ]
     },
     "metadata": {},
     "output_type": "display_data"
    },
    {
     "data": {
      "text/html": [
       "<pre style=\"white-space:pre;overflow-x:auto;line-height:normal;font-family:Menlo,'DejaVu Sans Mono',consolas,'Courier New',monospace\">--\n",
       "</pre>\n"
      ],
      "text/plain": [
       "--\n"
      ]
     },
     "metadata": {},
     "output_type": "display_data"
    },
    {
     "data": {
      "text/html": [
       "<pre style=\"white-space:pre;overflow-x:auto;line-height:normal;font-family:Menlo,'DejaVu Sans Mono',consolas,'Courier New',monospace\"><span style=\"color: #808000; text-decoration-color: #808000\">c</span>=\n",
       "</pre>\n"
      ],
      "text/plain": [
       "\u001b[33mc\u001b[0m=\n"
      ]
     },
     "metadata": {},
     "output_type": "display_data"
    },
    {
     "data": {
      "text/html": [
       "<pre style=\"white-space:pre;overflow-x:auto;line-height:normal;font-family:Menlo,'DejaVu Sans Mono',consolas,'Courier New',monospace\"><span style=\"color: #800080; text-decoration-color: #800080; font-weight: bold\">tensor</span><span style=\"font-weight: bold\">([[</span><span style=\"color: #008080; text-decoration-color: #008080; font-weight: bold\">9</span>., <span style=\"color: #008080; text-decoration-color: #008080; font-weight: bold\">8</span>.<span style=\"font-weight: bold\">]</span>,\n",
       "        <span style=\"font-weight: bold\">[</span><span style=\"color: #008080; text-decoration-color: #008080; font-weight: bold\">9</span>., <span style=\"color: #008080; text-decoration-color: #008080; font-weight: bold\">8</span>.<span style=\"font-weight: bold\">]</span>,\n",
       "        <span style=\"font-weight: bold\">[</span><span style=\"color: #008080; text-decoration-color: #008080; font-weight: bold\">9</span>., <span style=\"color: #008080; text-decoration-color: #008080; font-weight: bold\">8</span>.<span style=\"font-weight: bold\">]])</span>\n",
       "</pre>\n"
      ],
      "text/plain": [
       "\u001b[1;35mtensor\u001b[0m\u001b[1m(\u001b[0m\u001b[1m[\u001b[0m\u001b[1m[\u001b[0m\u001b[1;36m9\u001b[0m., \u001b[1;36m8\u001b[0m.\u001b[1m]\u001b[0m,\n",
       "        \u001b[1m[\u001b[0m\u001b[1;36m9\u001b[0m., \u001b[1;36m8\u001b[0m.\u001b[1m]\u001b[0m,\n",
       "        \u001b[1m[\u001b[0m\u001b[1;36m9\u001b[0m., \u001b[1;36m8\u001b[0m.\u001b[1m]\u001b[0m\u001b[1m]\u001b[0m\u001b[1m)\u001b[0m\n"
      ]
     },
     "metadata": {},
     "output_type": "display_data"
    },
    {
     "data": {
      "text/html": [
       "<pre style=\"white-space:pre;overflow-x:auto;line-height:normal;font-family:Menlo,'DejaVu Sans Mono',consolas,'Courier New',monospace\">--\n",
       "</pre>\n"
      ],
      "text/plain": [
       "--\n"
      ]
     },
     "metadata": {},
     "output_type": "display_data"
    }
   ],
   "source": [
    "a = torch.ones(3, 3)\n",
    "b = torch.randint(0, 10, (3, 2)).float()\n",
    "c = a @ b\n",
    "print('a=')\n",
    "print(a)\n",
    "print('--')\n",
    "print('b=')\n",
    "print(b)\n",
    "print('--')\n",
    "print('c=')\n",
    "print(c)\n",
    "print('--')"
   ]
  },
  {
   "cell_type": "code",
   "execution_count": null,
   "id": "b908c2db",
   "metadata": {},
   "outputs": [
    {
     "data": {
      "text/plain": [
       "torch.Size([3, 2])"
      ]
     },
     "execution_count": null,
     "metadata": {},
     "output_type": "execute_result"
    }
   ],
   "source": [
    "c.shape"
   ]
  },
  {
   "cell_type": "markdown",
   "id": "95d7d21d",
   "metadata": {},
   "source": [
    "### Version 2\n",
    "> Using Matrix Multiply"
   ]
  },
  {
   "cell_type": "code",
   "execution_count": null,
   "id": "54c75224",
   "metadata": {},
   "outputs": [
    {
     "data": {
      "text/plain": [
       "tensor([[1., 0., 0.],\n",
       "        [1., 1., 0.],\n",
       "        [1., 1., 1.]])"
      ]
     },
     "execution_count": null,
     "metadata": {},
     "output_type": "execute_result"
    }
   ],
   "source": [
    "torch.tril(torch.ones(3, 3)) # return lower triangular portion of `torch.ones`"
   ]
  },
  {
   "cell_type": "code",
   "execution_count": null,
   "id": "c81e0cde",
   "metadata": {},
   "outputs": [
    {
     "data": {
      "text/html": [
       "<pre style=\"white-space:pre;overflow-x:auto;line-height:normal;font-family:Menlo,'DejaVu Sans Mono',consolas,'Courier New',monospace\"><span style=\"color: #808000; text-decoration-color: #808000\">a</span>=\n",
       "</pre>\n"
      ],
      "text/plain": [
       "\u001b[33ma\u001b[0m=\n"
      ]
     },
     "metadata": {},
     "output_type": "display_data"
    },
    {
     "data": {
      "text/html": [
       "<pre style=\"white-space:pre;overflow-x:auto;line-height:normal;font-family:Menlo,'DejaVu Sans Mono',consolas,'Courier New',monospace\"><span style=\"color: #800080; text-decoration-color: #800080; font-weight: bold\">tensor</span><span style=\"font-weight: bold\">([[</span><span style=\"color: #008080; text-decoration-color: #008080; font-weight: bold\">1</span>., <span style=\"color: #008080; text-decoration-color: #008080; font-weight: bold\">0</span>., <span style=\"color: #008080; text-decoration-color: #008080; font-weight: bold\">0</span>.<span style=\"font-weight: bold\">]</span>,\n",
       "        <span style=\"font-weight: bold\">[</span><span style=\"color: #008080; text-decoration-color: #008080; font-weight: bold\">1</span>., <span style=\"color: #008080; text-decoration-color: #008080; font-weight: bold\">1</span>., <span style=\"color: #008080; text-decoration-color: #008080; font-weight: bold\">0</span>.<span style=\"font-weight: bold\">]</span>,\n",
       "        <span style=\"font-weight: bold\">[</span><span style=\"color: #008080; text-decoration-color: #008080; font-weight: bold\">1</span>., <span style=\"color: #008080; text-decoration-color: #008080; font-weight: bold\">1</span>., <span style=\"color: #008080; text-decoration-color: #008080; font-weight: bold\">1</span>.<span style=\"font-weight: bold\">]])</span>\n",
       "</pre>\n"
      ],
      "text/plain": [
       "\u001b[1;35mtensor\u001b[0m\u001b[1m(\u001b[0m\u001b[1m[\u001b[0m\u001b[1m[\u001b[0m\u001b[1;36m1\u001b[0m., \u001b[1;36m0\u001b[0m., \u001b[1;36m0\u001b[0m.\u001b[1m]\u001b[0m,\n",
       "        \u001b[1m[\u001b[0m\u001b[1;36m1\u001b[0m., \u001b[1;36m1\u001b[0m., \u001b[1;36m0\u001b[0m.\u001b[1m]\u001b[0m,\n",
       "        \u001b[1m[\u001b[0m\u001b[1;36m1\u001b[0m., \u001b[1;36m1\u001b[0m., \u001b[1;36m1\u001b[0m.\u001b[1m]\u001b[0m\u001b[1m]\u001b[0m\u001b[1m)\u001b[0m\n"
      ]
     },
     "metadata": {},
     "output_type": "display_data"
    },
    {
     "data": {
      "text/html": [
       "<pre style=\"white-space:pre;overflow-x:auto;line-height:normal;font-family:Menlo,'DejaVu Sans Mono',consolas,'Courier New',monospace\">--\n",
       "</pre>\n"
      ],
      "text/plain": [
       "--\n"
      ]
     },
     "metadata": {},
     "output_type": "display_data"
    },
    {
     "data": {
      "text/html": [
       "<pre style=\"white-space:pre;overflow-x:auto;line-height:normal;font-family:Menlo,'DejaVu Sans Mono',consolas,'Courier New',monospace\"><span style=\"color: #808000; text-decoration-color: #808000\">b</span>=\n",
       "</pre>\n"
      ],
      "text/plain": [
       "\u001b[33mb\u001b[0m=\n"
      ]
     },
     "metadata": {},
     "output_type": "display_data"
    },
    {
     "data": {
      "text/html": [
       "<pre style=\"white-space:pre;overflow-x:auto;line-height:normal;font-family:Menlo,'DejaVu Sans Mono',consolas,'Courier New',monospace\"><span style=\"color: #800080; text-decoration-color: #800080; font-weight: bold\">tensor</span><span style=\"font-weight: bold\">([[</span><span style=\"color: #008080; text-decoration-color: #008080; font-weight: bold\">9</span>., <span style=\"color: #008080; text-decoration-color: #008080; font-weight: bold\">9</span>.<span style=\"font-weight: bold\">]</span>,\n",
       "        <span style=\"font-weight: bold\">[</span><span style=\"color: #008080; text-decoration-color: #008080; font-weight: bold\">4</span>., <span style=\"color: #008080; text-decoration-color: #008080; font-weight: bold\">8</span>.<span style=\"font-weight: bold\">]</span>,\n",
       "        <span style=\"font-weight: bold\">[</span><span style=\"color: #008080; text-decoration-color: #008080; font-weight: bold\">6</span>., <span style=\"color: #008080; text-decoration-color: #008080; font-weight: bold\">6</span>.<span style=\"font-weight: bold\">]])</span>\n",
       "</pre>\n"
      ],
      "text/plain": [
       "\u001b[1;35mtensor\u001b[0m\u001b[1m(\u001b[0m\u001b[1m[\u001b[0m\u001b[1m[\u001b[0m\u001b[1;36m9\u001b[0m., \u001b[1;36m9\u001b[0m.\u001b[1m]\u001b[0m,\n",
       "        \u001b[1m[\u001b[0m\u001b[1;36m4\u001b[0m., \u001b[1;36m8\u001b[0m.\u001b[1m]\u001b[0m,\n",
       "        \u001b[1m[\u001b[0m\u001b[1;36m6\u001b[0m., \u001b[1;36m6\u001b[0m.\u001b[1m]\u001b[0m\u001b[1m]\u001b[0m\u001b[1m)\u001b[0m\n"
      ]
     },
     "metadata": {},
     "output_type": "display_data"
    },
    {
     "data": {
      "text/html": [
       "<pre style=\"white-space:pre;overflow-x:auto;line-height:normal;font-family:Menlo,'DejaVu Sans Mono',consolas,'Courier New',monospace\">--\n",
       "</pre>\n"
      ],
      "text/plain": [
       "--\n"
      ]
     },
     "metadata": {},
     "output_type": "display_data"
    },
    {
     "data": {
      "text/html": [
       "<pre style=\"white-space:pre;overflow-x:auto;line-height:normal;font-family:Menlo,'DejaVu Sans Mono',consolas,'Courier New',monospace\"><span style=\"color: #808000; text-decoration-color: #808000\">c</span>=\n",
       "</pre>\n"
      ],
      "text/plain": [
       "\u001b[33mc\u001b[0m=\n"
      ]
     },
     "metadata": {},
     "output_type": "display_data"
    },
    {
     "data": {
      "text/html": [
       "<pre style=\"white-space:pre;overflow-x:auto;line-height:normal;font-family:Menlo,'DejaVu Sans Mono',consolas,'Courier New',monospace\"><span style=\"color: #800080; text-decoration-color: #800080; font-weight: bold\">tensor</span><span style=\"font-weight: bold\">([[</span> <span style=\"color: #008080; text-decoration-color: #008080; font-weight: bold\">9</span>.,  <span style=\"color: #008080; text-decoration-color: #008080; font-weight: bold\">9</span>.<span style=\"font-weight: bold\">]</span>,\n",
       "        <span style=\"font-weight: bold\">[</span><span style=\"color: #008080; text-decoration-color: #008080; font-weight: bold\">13</span>., <span style=\"color: #008080; text-decoration-color: #008080; font-weight: bold\">17</span>.<span style=\"font-weight: bold\">]</span>,\n",
       "        <span style=\"font-weight: bold\">[</span><span style=\"color: #008080; text-decoration-color: #008080; font-weight: bold\">19</span>., <span style=\"color: #008080; text-decoration-color: #008080; font-weight: bold\">23</span>.<span style=\"font-weight: bold\">]])</span>\n",
       "</pre>\n"
      ],
      "text/plain": [
       "\u001b[1;35mtensor\u001b[0m\u001b[1m(\u001b[0m\u001b[1m[\u001b[0m\u001b[1m[\u001b[0m \u001b[1;36m9\u001b[0m.,  \u001b[1;36m9\u001b[0m.\u001b[1m]\u001b[0m,\n",
       "        \u001b[1m[\u001b[0m\u001b[1;36m13\u001b[0m., \u001b[1;36m17\u001b[0m.\u001b[1m]\u001b[0m,\n",
       "        \u001b[1m[\u001b[0m\u001b[1;36m19\u001b[0m., \u001b[1;36m23\u001b[0m.\u001b[1m]\u001b[0m\u001b[1m]\u001b[0m\u001b[1m)\u001b[0m\n"
      ]
     },
     "metadata": {},
     "output_type": "display_data"
    },
    {
     "data": {
      "text/html": [
       "<pre style=\"white-space:pre;overflow-x:auto;line-height:normal;font-family:Menlo,'DejaVu Sans Mono',consolas,'Courier New',monospace\">--\n",
       "</pre>\n"
      ],
      "text/plain": [
       "--\n"
      ]
     },
     "metadata": {},
     "output_type": "display_data"
    }
   ],
   "source": [
    "a = torch.tril(torch.ones(3, 3))\n",
    "b = torch.randint(0, 10, (3, 2)).float()\n",
    "c = a @ b \n",
    "print('a=')\n",
    "print(a)\n",
    "print('--')\n",
    "print('b=')\n",
    "print(b)\n",
    "print('--')\n",
    "print('c=')\n",
    "print(c)\n",
    "print('--')"
   ]
  },
  {
   "cell_type": "code",
   "execution_count": null,
   "id": "cc9e9df3",
   "metadata": {},
   "outputs": [
    {
     "data": {
      "text/html": [
       "<pre style=\"white-space:pre;overflow-x:auto;line-height:normal;font-family:Menlo,'DejaVu Sans Mono',consolas,'Courier New',monospace\"><span style=\"color: #808000; text-decoration-color: #808000\">a</span>=\n",
       "</pre>\n"
      ],
      "text/plain": [
       "\u001b[33ma\u001b[0m=\n"
      ]
     },
     "metadata": {},
     "output_type": "display_data"
    },
    {
     "data": {
      "text/html": [
       "<pre style=\"white-space:pre;overflow-x:auto;line-height:normal;font-family:Menlo,'DejaVu Sans Mono',consolas,'Courier New',monospace\"><span style=\"color: #800080; text-decoration-color: #800080; font-weight: bold\">tensor</span><span style=\"font-weight: bold\">([[</span><span style=\"color: #008080; text-decoration-color: #008080; font-weight: bold\">1.0000</span>, <span style=\"color: #008080; text-decoration-color: #008080; font-weight: bold\">0.0000</span>, <span style=\"color: #008080; text-decoration-color: #008080; font-weight: bold\">0.0000</span><span style=\"font-weight: bold\">]</span>,\n",
       "        <span style=\"font-weight: bold\">[</span><span style=\"color: #008080; text-decoration-color: #008080; font-weight: bold\">0.5000</span>, <span style=\"color: #008080; text-decoration-color: #008080; font-weight: bold\">0.5000</span>, <span style=\"color: #008080; text-decoration-color: #008080; font-weight: bold\">0.0000</span><span style=\"font-weight: bold\">]</span>,\n",
       "        <span style=\"font-weight: bold\">[</span><span style=\"color: #008080; text-decoration-color: #008080; font-weight: bold\">0.3333</span>, <span style=\"color: #008080; text-decoration-color: #008080; font-weight: bold\">0.3333</span>, <span style=\"color: #008080; text-decoration-color: #008080; font-weight: bold\">0.3333</span><span style=\"font-weight: bold\">]])</span>\n",
       "</pre>\n"
      ],
      "text/plain": [
       "\u001b[1;35mtensor\u001b[0m\u001b[1m(\u001b[0m\u001b[1m[\u001b[0m\u001b[1m[\u001b[0m\u001b[1;36m1.0000\u001b[0m, \u001b[1;36m0.0000\u001b[0m, \u001b[1;36m0.0000\u001b[0m\u001b[1m]\u001b[0m,\n",
       "        \u001b[1m[\u001b[0m\u001b[1;36m0.5000\u001b[0m, \u001b[1;36m0.5000\u001b[0m, \u001b[1;36m0.0000\u001b[0m\u001b[1m]\u001b[0m,\n",
       "        \u001b[1m[\u001b[0m\u001b[1;36m0.3333\u001b[0m, \u001b[1;36m0.3333\u001b[0m, \u001b[1;36m0.3333\u001b[0m\u001b[1m]\u001b[0m\u001b[1m]\u001b[0m\u001b[1m)\u001b[0m\n"
      ]
     },
     "metadata": {},
     "output_type": "display_data"
    },
    {
     "data": {
      "text/html": [
       "<pre style=\"white-space:pre;overflow-x:auto;line-height:normal;font-family:Menlo,'DejaVu Sans Mono',consolas,'Courier New',monospace\">--\n",
       "</pre>\n"
      ],
      "text/plain": [
       "--\n"
      ]
     },
     "metadata": {},
     "output_type": "display_data"
    },
    {
     "data": {
      "text/html": [
       "<pre style=\"white-space:pre;overflow-x:auto;line-height:normal;font-family:Menlo,'DejaVu Sans Mono',consolas,'Courier New',monospace\"><span style=\"color: #808000; text-decoration-color: #808000\">b</span>=\n",
       "</pre>\n"
      ],
      "text/plain": [
       "\u001b[33mb\u001b[0m=\n"
      ]
     },
     "metadata": {},
     "output_type": "display_data"
    },
    {
     "data": {
      "text/html": [
       "<pre style=\"white-space:pre;overflow-x:auto;line-height:normal;font-family:Menlo,'DejaVu Sans Mono',consolas,'Courier New',monospace\"><span style=\"color: #800080; text-decoration-color: #800080; font-weight: bold\">tensor</span><span style=\"font-weight: bold\">([[</span><span style=\"color: #008080; text-decoration-color: #008080; font-weight: bold\">5</span>., <span style=\"color: #008080; text-decoration-color: #008080; font-weight: bold\">6</span>.<span style=\"font-weight: bold\">]</span>,\n",
       "        <span style=\"font-weight: bold\">[</span><span style=\"color: #008080; text-decoration-color: #008080; font-weight: bold\">9</span>., <span style=\"color: #008080; text-decoration-color: #008080; font-weight: bold\">4</span>.<span style=\"font-weight: bold\">]</span>,\n",
       "        <span style=\"font-weight: bold\">[</span><span style=\"color: #008080; text-decoration-color: #008080; font-weight: bold\">4</span>., <span style=\"color: #008080; text-decoration-color: #008080; font-weight: bold\">8</span>.<span style=\"font-weight: bold\">]])</span>\n",
       "</pre>\n"
      ],
      "text/plain": [
       "\u001b[1;35mtensor\u001b[0m\u001b[1m(\u001b[0m\u001b[1m[\u001b[0m\u001b[1m[\u001b[0m\u001b[1;36m5\u001b[0m., \u001b[1;36m6\u001b[0m.\u001b[1m]\u001b[0m,\n",
       "        \u001b[1m[\u001b[0m\u001b[1;36m9\u001b[0m., \u001b[1;36m4\u001b[0m.\u001b[1m]\u001b[0m,\n",
       "        \u001b[1m[\u001b[0m\u001b[1;36m4\u001b[0m., \u001b[1;36m8\u001b[0m.\u001b[1m]\u001b[0m\u001b[1m]\u001b[0m\u001b[1m)\u001b[0m\n"
      ]
     },
     "metadata": {},
     "output_type": "display_data"
    },
    {
     "data": {
      "text/html": [
       "<pre style=\"white-space:pre;overflow-x:auto;line-height:normal;font-family:Menlo,'DejaVu Sans Mono',consolas,'Courier New',monospace\">--\n",
       "</pre>\n"
      ],
      "text/plain": [
       "--\n"
      ]
     },
     "metadata": {},
     "output_type": "display_data"
    },
    {
     "data": {
      "text/html": [
       "<pre style=\"white-space:pre;overflow-x:auto;line-height:normal;font-family:Menlo,'DejaVu Sans Mono',consolas,'Courier New',monospace\"><span style=\"color: #808000; text-decoration-color: #808000\">c</span>=\n",
       "</pre>\n"
      ],
      "text/plain": [
       "\u001b[33mc\u001b[0m=\n"
      ]
     },
     "metadata": {},
     "output_type": "display_data"
    },
    {
     "data": {
      "text/html": [
       "<pre style=\"white-space:pre;overflow-x:auto;line-height:normal;font-family:Menlo,'DejaVu Sans Mono',consolas,'Courier New',monospace\"><span style=\"color: #800080; text-decoration-color: #800080; font-weight: bold\">tensor</span><span style=\"font-weight: bold\">([[</span><span style=\"color: #008080; text-decoration-color: #008080; font-weight: bold\">5.0000</span>, <span style=\"color: #008080; text-decoration-color: #008080; font-weight: bold\">6.0000</span><span style=\"font-weight: bold\">]</span>,\n",
       "        <span style=\"font-weight: bold\">[</span><span style=\"color: #008080; text-decoration-color: #008080; font-weight: bold\">7.0000</span>, <span style=\"color: #008080; text-decoration-color: #008080; font-weight: bold\">5.0000</span><span style=\"font-weight: bold\">]</span>,\n",
       "        <span style=\"font-weight: bold\">[</span><span style=\"color: #008080; text-decoration-color: #008080; font-weight: bold\">6.0000</span>, <span style=\"color: #008080; text-decoration-color: #008080; font-weight: bold\">6.0000</span><span style=\"font-weight: bold\">]])</span>\n",
       "</pre>\n"
      ],
      "text/plain": [
       "\u001b[1;35mtensor\u001b[0m\u001b[1m(\u001b[0m\u001b[1m[\u001b[0m\u001b[1m[\u001b[0m\u001b[1;36m5.0000\u001b[0m, \u001b[1;36m6.0000\u001b[0m\u001b[1m]\u001b[0m,\n",
       "        \u001b[1m[\u001b[0m\u001b[1;36m7.0000\u001b[0m, \u001b[1;36m5.0000\u001b[0m\u001b[1m]\u001b[0m,\n",
       "        \u001b[1m[\u001b[0m\u001b[1;36m6.0000\u001b[0m, \u001b[1;36m6.0000\u001b[0m\u001b[1m]\u001b[0m\u001b[1m]\u001b[0m\u001b[1m)\u001b[0m\n"
      ]
     },
     "metadata": {},
     "output_type": "display_data"
    },
    {
     "data": {
      "text/html": [
       "<pre style=\"white-space:pre;overflow-x:auto;line-height:normal;font-family:Menlo,'DejaVu Sans Mono',consolas,'Courier New',monospace\">--\n",
       "</pre>\n"
      ],
      "text/plain": [
       "--\n"
      ]
     },
     "metadata": {},
     "output_type": "display_data"
    }
   ],
   "source": [
    "a = torch.tril(torch.ones(3, 3))\n",
    "a = a / torch.sum(a, 1, keepdim=True)\n",
    "b = torch.randint(0, 10, (3, 2)).float()\n",
    "c = a @ b\n",
    "print('a=')\n",
    "print(a)\n",
    "print('--')\n",
    "print('b=')\n",
    "print(b)\n",
    "print('--')\n",
    "print('c=')\n",
    "print(c)\n",
    "print('--')"
   ]
  },
  {
   "cell_type": "code",
   "execution_count": null,
   "id": "9b639046",
   "metadata": {},
   "outputs": [
    {
     "data": {
      "text/plain": [
       "True"
      ]
     },
     "execution_count": null,
     "metadata": {},
     "output_type": "execute_result"
    }
   ],
   "source": [
    "wei = torch.tril(torch.ones(T, T))\n",
    "wei = wei / wei.sum(1, keepdim=True)\n",
    "xbow2 = wei @ x # (B, T, T) @ (B, T, C) ----> (B, T, C)\n",
    "torch.allclose(xbow, xbow2)"
   ]
  },
  {
   "cell_type": "markdown",
   "id": "774dfbe3",
   "metadata": {},
   "source": [
    "### Version 3\n",
    "> Adding softmax"
   ]
  },
  {
   "cell_type": "code",
   "execution_count": null,
   "id": "29262f12",
   "metadata": {},
   "outputs": [],
   "source": [
    "tril = torch.tril(torch.ones(T, T))"
   ]
  },
  {
   "cell_type": "code",
   "execution_count": null,
   "id": "aec87316",
   "metadata": {},
   "outputs": [
    {
     "data": {
      "text/html": [
       "<pre style=\"white-space:pre;overflow-x:auto;line-height:normal;font-family:Menlo,'DejaVu Sans Mono',consolas,'Courier New',monospace\">Before applying softmax\n",
       "</pre>\n"
      ],
      "text/plain": [
       "Before applying softmax\n"
      ]
     },
     "metadata": {},
     "output_type": "display_data"
    },
    {
     "data": {
      "text/html": [
       "<pre style=\"white-space:pre;overflow-x:auto;line-height:normal;font-family:Menlo,'DejaVu Sans Mono',consolas,'Courier New',monospace\"><span style=\"color: #800080; text-decoration-color: #800080; font-weight: bold\">tensor</span><span style=\"font-weight: bold\">([[</span><span style=\"color: #008080; text-decoration-color: #008080; font-weight: bold\">0</span>., -inf, -inf, -inf, -inf, -inf, -inf, -inf<span style=\"font-weight: bold\">]</span>,\n",
       "        <span style=\"font-weight: bold\">[</span><span style=\"color: #008080; text-decoration-color: #008080; font-weight: bold\">0</span>., <span style=\"color: #008080; text-decoration-color: #008080; font-weight: bold\">0</span>., -inf, -inf, -inf, -inf, -inf, -inf<span style=\"font-weight: bold\">]</span>,\n",
       "        <span style=\"font-weight: bold\">[</span><span style=\"color: #008080; text-decoration-color: #008080; font-weight: bold\">0</span>., <span style=\"color: #008080; text-decoration-color: #008080; font-weight: bold\">0</span>., <span style=\"color: #008080; text-decoration-color: #008080; font-weight: bold\">0</span>., -inf, -inf, -inf, -inf, -inf<span style=\"font-weight: bold\">]</span>,\n",
       "        <span style=\"font-weight: bold\">[</span><span style=\"color: #008080; text-decoration-color: #008080; font-weight: bold\">0</span>., <span style=\"color: #008080; text-decoration-color: #008080; font-weight: bold\">0</span>., <span style=\"color: #008080; text-decoration-color: #008080; font-weight: bold\">0</span>., <span style=\"color: #008080; text-decoration-color: #008080; font-weight: bold\">0</span>., -inf, -inf, -inf, -inf<span style=\"font-weight: bold\">]</span>,\n",
       "        <span style=\"font-weight: bold\">[</span><span style=\"color: #008080; text-decoration-color: #008080; font-weight: bold\">0</span>., <span style=\"color: #008080; text-decoration-color: #008080; font-weight: bold\">0</span>., <span style=\"color: #008080; text-decoration-color: #008080; font-weight: bold\">0</span>., <span style=\"color: #008080; text-decoration-color: #008080; font-weight: bold\">0</span>., <span style=\"color: #008080; text-decoration-color: #008080; font-weight: bold\">0</span>., -inf, -inf, -inf<span style=\"font-weight: bold\">]</span>,\n",
       "        <span style=\"font-weight: bold\">[</span><span style=\"color: #008080; text-decoration-color: #008080; font-weight: bold\">0</span>., <span style=\"color: #008080; text-decoration-color: #008080; font-weight: bold\">0</span>., <span style=\"color: #008080; text-decoration-color: #008080; font-weight: bold\">0</span>., <span style=\"color: #008080; text-decoration-color: #008080; font-weight: bold\">0</span>., <span style=\"color: #008080; text-decoration-color: #008080; font-weight: bold\">0</span>., <span style=\"color: #008080; text-decoration-color: #008080; font-weight: bold\">0</span>., -inf, -inf<span style=\"font-weight: bold\">]</span>,\n",
       "        <span style=\"font-weight: bold\">[</span><span style=\"color: #008080; text-decoration-color: #008080; font-weight: bold\">0</span>., <span style=\"color: #008080; text-decoration-color: #008080; font-weight: bold\">0</span>., <span style=\"color: #008080; text-decoration-color: #008080; font-weight: bold\">0</span>., <span style=\"color: #008080; text-decoration-color: #008080; font-weight: bold\">0</span>., <span style=\"color: #008080; text-decoration-color: #008080; font-weight: bold\">0</span>., <span style=\"color: #008080; text-decoration-color: #008080; font-weight: bold\">0</span>., <span style=\"color: #008080; text-decoration-color: #008080; font-weight: bold\">0</span>., -inf<span style=\"font-weight: bold\">]</span>,\n",
       "        <span style=\"font-weight: bold\">[</span><span style=\"color: #008080; text-decoration-color: #008080; font-weight: bold\">0</span>., <span style=\"color: #008080; text-decoration-color: #008080; font-weight: bold\">0</span>., <span style=\"color: #008080; text-decoration-color: #008080; font-weight: bold\">0</span>., <span style=\"color: #008080; text-decoration-color: #008080; font-weight: bold\">0</span>., <span style=\"color: #008080; text-decoration-color: #008080; font-weight: bold\">0</span>., <span style=\"color: #008080; text-decoration-color: #008080; font-weight: bold\">0</span>., <span style=\"color: #008080; text-decoration-color: #008080; font-weight: bold\">0</span>., <span style=\"color: #008080; text-decoration-color: #008080; font-weight: bold\">0</span>.<span style=\"font-weight: bold\">]])</span>\n",
       "</pre>\n"
      ],
      "text/plain": [
       "\u001b[1;35mtensor\u001b[0m\u001b[1m(\u001b[0m\u001b[1m[\u001b[0m\u001b[1m[\u001b[0m\u001b[1;36m0\u001b[0m., -inf, -inf, -inf, -inf, -inf, -inf, -inf\u001b[1m]\u001b[0m,\n",
       "        \u001b[1m[\u001b[0m\u001b[1;36m0\u001b[0m., \u001b[1;36m0\u001b[0m., -inf, -inf, -inf, -inf, -inf, -inf\u001b[1m]\u001b[0m,\n",
       "        \u001b[1m[\u001b[0m\u001b[1;36m0\u001b[0m., \u001b[1;36m0\u001b[0m., \u001b[1;36m0\u001b[0m., -inf, -inf, -inf, -inf, -inf\u001b[1m]\u001b[0m,\n",
       "        \u001b[1m[\u001b[0m\u001b[1;36m0\u001b[0m., \u001b[1;36m0\u001b[0m., \u001b[1;36m0\u001b[0m., \u001b[1;36m0\u001b[0m., -inf, -inf, -inf, -inf\u001b[1m]\u001b[0m,\n",
       "        \u001b[1m[\u001b[0m\u001b[1;36m0\u001b[0m., \u001b[1;36m0\u001b[0m., \u001b[1;36m0\u001b[0m., \u001b[1;36m0\u001b[0m., \u001b[1;36m0\u001b[0m., -inf, -inf, -inf\u001b[1m]\u001b[0m,\n",
       "        \u001b[1m[\u001b[0m\u001b[1;36m0\u001b[0m., \u001b[1;36m0\u001b[0m., \u001b[1;36m0\u001b[0m., \u001b[1;36m0\u001b[0m., \u001b[1;36m0\u001b[0m., \u001b[1;36m0\u001b[0m., -inf, -inf\u001b[1m]\u001b[0m,\n",
       "        \u001b[1m[\u001b[0m\u001b[1;36m0\u001b[0m., \u001b[1;36m0\u001b[0m., \u001b[1;36m0\u001b[0m., \u001b[1;36m0\u001b[0m., \u001b[1;36m0\u001b[0m., \u001b[1;36m0\u001b[0m., \u001b[1;36m0\u001b[0m., -inf\u001b[1m]\u001b[0m,\n",
       "        \u001b[1m[\u001b[0m\u001b[1;36m0\u001b[0m., \u001b[1;36m0\u001b[0m., \u001b[1;36m0\u001b[0m., \u001b[1;36m0\u001b[0m., \u001b[1;36m0\u001b[0m., \u001b[1;36m0\u001b[0m., \u001b[1;36m0\u001b[0m., \u001b[1;36m0\u001b[0m.\u001b[1m]\u001b[0m\u001b[1m]\u001b[0m\u001b[1m)\u001b[0m\n"
      ]
     },
     "metadata": {},
     "output_type": "display_data"
    },
    {
     "data": {
      "text/html": [
       "<pre style=\"white-space:pre;overflow-x:auto;line-height:normal;font-family:Menlo,'DejaVu Sans Mono',consolas,'Courier New',monospace\">After applying softmax\n",
       "</pre>\n"
      ],
      "text/plain": [
       "After applying softmax\n"
      ]
     },
     "metadata": {},
     "output_type": "display_data"
    },
    {
     "data": {
      "text/html": [
       "<pre style=\"white-space:pre;overflow-x:auto;line-height:normal;font-family:Menlo,'DejaVu Sans Mono',consolas,'Courier New',monospace\"><span style=\"color: #800080; text-decoration-color: #800080; font-weight: bold\">tensor</span><span style=\"font-weight: bold\">([[</span><span style=\"color: #008080; text-decoration-color: #008080; font-weight: bold\">1.0000</span>, <span style=\"color: #008080; text-decoration-color: #008080; font-weight: bold\">0.0000</span>, <span style=\"color: #008080; text-decoration-color: #008080; font-weight: bold\">0.0000</span>, <span style=\"color: #008080; text-decoration-color: #008080; font-weight: bold\">0.0000</span>, <span style=\"color: #008080; text-decoration-color: #008080; font-weight: bold\">0.0000</span>, <span style=\"color: #008080; text-decoration-color: #008080; font-weight: bold\">0.0000</span>, <span style=\"color: #008080; text-decoration-color: #008080; font-weight: bold\">0.0000</span>, <span style=\"color: #008080; text-decoration-color: #008080; font-weight: bold\">0.0000</span><span style=\"font-weight: bold\">]</span>,\n",
       "        <span style=\"font-weight: bold\">[</span><span style=\"color: #008080; text-decoration-color: #008080; font-weight: bold\">0.5000</span>, <span style=\"color: #008080; text-decoration-color: #008080; font-weight: bold\">0.5000</span>, <span style=\"color: #008080; text-decoration-color: #008080; font-weight: bold\">0.0000</span>, <span style=\"color: #008080; text-decoration-color: #008080; font-weight: bold\">0.0000</span>, <span style=\"color: #008080; text-decoration-color: #008080; font-weight: bold\">0.0000</span>, <span style=\"color: #008080; text-decoration-color: #008080; font-weight: bold\">0.0000</span>, <span style=\"color: #008080; text-decoration-color: #008080; font-weight: bold\">0.0000</span>, <span style=\"color: #008080; text-decoration-color: #008080; font-weight: bold\">0.0000</span><span style=\"font-weight: bold\">]</span>,\n",
       "        <span style=\"font-weight: bold\">[</span><span style=\"color: #008080; text-decoration-color: #008080; font-weight: bold\">0.3333</span>, <span style=\"color: #008080; text-decoration-color: #008080; font-weight: bold\">0.3333</span>, <span style=\"color: #008080; text-decoration-color: #008080; font-weight: bold\">0.3333</span>, <span style=\"color: #008080; text-decoration-color: #008080; font-weight: bold\">0.0000</span>, <span style=\"color: #008080; text-decoration-color: #008080; font-weight: bold\">0.0000</span>, <span style=\"color: #008080; text-decoration-color: #008080; font-weight: bold\">0.0000</span>, <span style=\"color: #008080; text-decoration-color: #008080; font-weight: bold\">0.0000</span>, <span style=\"color: #008080; text-decoration-color: #008080; font-weight: bold\">0.0000</span><span style=\"font-weight: bold\">]</span>,\n",
       "        <span style=\"font-weight: bold\">[</span><span style=\"color: #008080; text-decoration-color: #008080; font-weight: bold\">0.2500</span>, <span style=\"color: #008080; text-decoration-color: #008080; font-weight: bold\">0.2500</span>, <span style=\"color: #008080; text-decoration-color: #008080; font-weight: bold\">0.2500</span>, <span style=\"color: #008080; text-decoration-color: #008080; font-weight: bold\">0.2500</span>, <span style=\"color: #008080; text-decoration-color: #008080; font-weight: bold\">0.0000</span>, <span style=\"color: #008080; text-decoration-color: #008080; font-weight: bold\">0.0000</span>, <span style=\"color: #008080; text-decoration-color: #008080; font-weight: bold\">0.0000</span>, <span style=\"color: #008080; text-decoration-color: #008080; font-weight: bold\">0.0000</span><span style=\"font-weight: bold\">]</span>,\n",
       "        <span style=\"font-weight: bold\">[</span><span style=\"color: #008080; text-decoration-color: #008080; font-weight: bold\">0.2000</span>, <span style=\"color: #008080; text-decoration-color: #008080; font-weight: bold\">0.2000</span>, <span style=\"color: #008080; text-decoration-color: #008080; font-weight: bold\">0.2000</span>, <span style=\"color: #008080; text-decoration-color: #008080; font-weight: bold\">0.2000</span>, <span style=\"color: #008080; text-decoration-color: #008080; font-weight: bold\">0.2000</span>, <span style=\"color: #008080; text-decoration-color: #008080; font-weight: bold\">0.0000</span>, <span style=\"color: #008080; text-decoration-color: #008080; font-weight: bold\">0.0000</span>, <span style=\"color: #008080; text-decoration-color: #008080; font-weight: bold\">0.0000</span><span style=\"font-weight: bold\">]</span>,\n",
       "        <span style=\"font-weight: bold\">[</span><span style=\"color: #008080; text-decoration-color: #008080; font-weight: bold\">0.1667</span>, <span style=\"color: #008080; text-decoration-color: #008080; font-weight: bold\">0.1667</span>, <span style=\"color: #008080; text-decoration-color: #008080; font-weight: bold\">0.1667</span>, <span style=\"color: #008080; text-decoration-color: #008080; font-weight: bold\">0.1667</span>, <span style=\"color: #008080; text-decoration-color: #008080; font-weight: bold\">0.1667</span>, <span style=\"color: #008080; text-decoration-color: #008080; font-weight: bold\">0.1667</span>, <span style=\"color: #008080; text-decoration-color: #008080; font-weight: bold\">0.0000</span>, <span style=\"color: #008080; text-decoration-color: #008080; font-weight: bold\">0.0000</span><span style=\"font-weight: bold\">]</span>,\n",
       "        <span style=\"font-weight: bold\">[</span><span style=\"color: #008080; text-decoration-color: #008080; font-weight: bold\">0.1429</span>, <span style=\"color: #008080; text-decoration-color: #008080; font-weight: bold\">0.1429</span>, <span style=\"color: #008080; text-decoration-color: #008080; font-weight: bold\">0.1429</span>, <span style=\"color: #008080; text-decoration-color: #008080; font-weight: bold\">0.1429</span>, <span style=\"color: #008080; text-decoration-color: #008080; font-weight: bold\">0.1429</span>, <span style=\"color: #008080; text-decoration-color: #008080; font-weight: bold\">0.1429</span>, <span style=\"color: #008080; text-decoration-color: #008080; font-weight: bold\">0.1429</span>, <span style=\"color: #008080; text-decoration-color: #008080; font-weight: bold\">0.0000</span><span style=\"font-weight: bold\">]</span>,\n",
       "        <span style=\"font-weight: bold\">[</span><span style=\"color: #008080; text-decoration-color: #008080; font-weight: bold\">0.1250</span>, <span style=\"color: #008080; text-decoration-color: #008080; font-weight: bold\">0.1250</span>, <span style=\"color: #008080; text-decoration-color: #008080; font-weight: bold\">0.1250</span>, <span style=\"color: #008080; text-decoration-color: #008080; font-weight: bold\">0.1250</span>, <span style=\"color: #008080; text-decoration-color: #008080; font-weight: bold\">0.1250</span>, <span style=\"color: #008080; text-decoration-color: #008080; font-weight: bold\">0.1250</span>, <span style=\"color: #008080; text-decoration-color: #008080; font-weight: bold\">0.1250</span>, <span style=\"color: #008080; text-decoration-color: #008080; font-weight: bold\">0.1250</span><span style=\"font-weight: bold\">]])</span>\n",
       "</pre>\n"
      ],
      "text/plain": [
       "\u001b[1;35mtensor\u001b[0m\u001b[1m(\u001b[0m\u001b[1m[\u001b[0m\u001b[1m[\u001b[0m\u001b[1;36m1.0000\u001b[0m, \u001b[1;36m0.0000\u001b[0m, \u001b[1;36m0.0000\u001b[0m, \u001b[1;36m0.0000\u001b[0m, \u001b[1;36m0.0000\u001b[0m, \u001b[1;36m0.0000\u001b[0m, \u001b[1;36m0.0000\u001b[0m, \u001b[1;36m0.0000\u001b[0m\u001b[1m]\u001b[0m,\n",
       "        \u001b[1m[\u001b[0m\u001b[1;36m0.5000\u001b[0m, \u001b[1;36m0.5000\u001b[0m, \u001b[1;36m0.0000\u001b[0m, \u001b[1;36m0.0000\u001b[0m, \u001b[1;36m0.0000\u001b[0m, \u001b[1;36m0.0000\u001b[0m, \u001b[1;36m0.0000\u001b[0m, \u001b[1;36m0.0000\u001b[0m\u001b[1m]\u001b[0m,\n",
       "        \u001b[1m[\u001b[0m\u001b[1;36m0.3333\u001b[0m, \u001b[1;36m0.3333\u001b[0m, \u001b[1;36m0.3333\u001b[0m, \u001b[1;36m0.0000\u001b[0m, \u001b[1;36m0.0000\u001b[0m, \u001b[1;36m0.0000\u001b[0m, \u001b[1;36m0.0000\u001b[0m, \u001b[1;36m0.0000\u001b[0m\u001b[1m]\u001b[0m,\n",
       "        \u001b[1m[\u001b[0m\u001b[1;36m0.2500\u001b[0m, \u001b[1;36m0.2500\u001b[0m, \u001b[1;36m0.2500\u001b[0m, \u001b[1;36m0.2500\u001b[0m, \u001b[1;36m0.0000\u001b[0m, \u001b[1;36m0.0000\u001b[0m, \u001b[1;36m0.0000\u001b[0m, \u001b[1;36m0.0000\u001b[0m\u001b[1m]\u001b[0m,\n",
       "        \u001b[1m[\u001b[0m\u001b[1;36m0.2000\u001b[0m, \u001b[1;36m0.2000\u001b[0m, \u001b[1;36m0.2000\u001b[0m, \u001b[1;36m0.2000\u001b[0m, \u001b[1;36m0.2000\u001b[0m, \u001b[1;36m0.0000\u001b[0m, \u001b[1;36m0.0000\u001b[0m, \u001b[1;36m0.0000\u001b[0m\u001b[1m]\u001b[0m,\n",
       "        \u001b[1m[\u001b[0m\u001b[1;36m0.1667\u001b[0m, \u001b[1;36m0.1667\u001b[0m, \u001b[1;36m0.1667\u001b[0m, \u001b[1;36m0.1667\u001b[0m, \u001b[1;36m0.1667\u001b[0m, \u001b[1;36m0.1667\u001b[0m, \u001b[1;36m0.0000\u001b[0m, \u001b[1;36m0.0000\u001b[0m\u001b[1m]\u001b[0m,\n",
       "        \u001b[1m[\u001b[0m\u001b[1;36m0.1429\u001b[0m, \u001b[1;36m0.1429\u001b[0m, \u001b[1;36m0.1429\u001b[0m, \u001b[1;36m0.1429\u001b[0m, \u001b[1;36m0.1429\u001b[0m, \u001b[1;36m0.1429\u001b[0m, \u001b[1;36m0.1429\u001b[0m, \u001b[1;36m0.0000\u001b[0m\u001b[1m]\u001b[0m,\n",
       "        \u001b[1m[\u001b[0m\u001b[1;36m0.1250\u001b[0m, \u001b[1;36m0.1250\u001b[0m, \u001b[1;36m0.1250\u001b[0m, \u001b[1;36m0.1250\u001b[0m, \u001b[1;36m0.1250\u001b[0m, \u001b[1;36m0.1250\u001b[0m, \u001b[1;36m0.1250\u001b[0m, \u001b[1;36m0.1250\u001b[0m\u001b[1m]\u001b[0m\u001b[1m]\u001b[0m\u001b[1m)\u001b[0m\n"
      ]
     },
     "metadata": {},
     "output_type": "display_data"
    },
    {
     "data": {
      "text/plain": [
       "True"
      ]
     },
     "execution_count": null,
     "metadata": {},
     "output_type": "execute_result"
    }
   ],
   "source": [
    "wei = torch.zeros((T, T))\n",
    "wei = wei.masked_fill(tril == 0, float('-inf'))\n",
    "print('Before applying softmax')\n",
    "print(wei)\n",
    "wei = F.softmax(wei, dim=-1)\n",
    "print('After applying softmax')\n",
    "print(wei)\n",
    "xbow3 = wei @ x\n",
    "torch.allclose(xbow, xbow3)"
   ]
  },
  {
   "cell_type": "code",
   "execution_count": null,
   "id": "0d679e10",
   "metadata": {},
   "outputs": [
    {
     "data": {
      "text/plain": [
       "torch.Size([4, 8, 2])"
      ]
     },
     "execution_count": null,
     "metadata": {},
     "output_type": "execute_result"
    }
   ],
   "source": [
    "xbow3.shape"
   ]
  },
  {
   "cell_type": "markdown",
   "id": "09ca7651",
   "metadata": {},
   "source": [
    "### Version 4: Self-attention"
   ]
  },
  {
   "cell_type": "code",
   "execution_count": null,
   "id": "eeb1f956",
   "metadata": {},
   "outputs": [
    {
     "data": {
      "text/plain": [
       "torch.Size([4, 8, 16])"
      ]
     },
     "execution_count": null,
     "metadata": {},
     "output_type": "execute_result"
    }
   ],
   "source": [
    "B, T, C = 4, 8, 32\n",
    "x = torch.randn(B, T, C)\n",
    "\n",
    "# let's see a single Head perform self-attention\n",
    "head_size = 16\n",
    "key = nn.Linear(C, head_size, bias=False)\n",
    "query = nn.Linear(C, head_size, bias=False)\n",
    "value = nn.Linear(C, head_size, bias=False)\n",
    "\n",
    "k = key(x) # (B, T, 16)\n",
    "q = query(x) # (B, T, 16)\n",
    "\n",
    "wei = q @ k.transpose(-2, -1) * head_size ** -0.5 # (B, T, 16) @ (B, 16, T) ----> (B, T, T)\n",
    "\n",
    "\n",
    "tril = torch.tril(torch.ones(T, T))\n",
    "\n",
    "wei = wei.masked_fill(tril == 0, float('-inf'))\n",
    "wei = F.softmax(wei, dim=-1)\n",
    "\n",
    "v= value(x)\n",
    "out = wei @ v \n",
    "\n",
    "out.shape"
   ]
  },
  {
   "cell_type": "code",
   "execution_count": null,
   "id": "8965d965",
   "metadata": {},
   "outputs": [
    {
     "data": {
      "text/plain": [
       "tensor([[[1.0000, 0.0000, 0.0000, 0.0000, 0.0000, 0.0000, 0.0000, 0.0000],\n",
       "         [0.4864, 0.5136, 0.0000, 0.0000, 0.0000, 0.0000, 0.0000, 0.0000],\n",
       "         [0.3831, 0.4545, 0.1624, 0.0000, 0.0000, 0.0000, 0.0000, 0.0000],\n",
       "         [0.2285, 0.2868, 0.2623, 0.2224, 0.0000, 0.0000, 0.0000, 0.0000],\n",
       "         [0.1658, 0.2953, 0.1889, 0.2168, 0.1333, 0.0000, 0.0000, 0.0000],\n",
       "         [0.1888, 0.1896, 0.1532, 0.1688, 0.1315, 0.1681, 0.0000, 0.0000],\n",
       "         [0.1749, 0.1420, 0.1786, 0.1344, 0.1194, 0.1528, 0.0979, 0.0000],\n",
       "         [0.1478, 0.2097, 0.1018, 0.1039, 0.0677, 0.1179, 0.1829, 0.0682]],\n",
       "\n",
       "        [[1.0000, 0.0000, 0.0000, 0.0000, 0.0000, 0.0000, 0.0000, 0.0000],\n",
       "         [0.5270, 0.4730, 0.0000, 0.0000, 0.0000, 0.0000, 0.0000, 0.0000],\n",
       "         [0.3362, 0.3400, 0.3238, 0.0000, 0.0000, 0.0000, 0.0000, 0.0000],\n",
       "         [0.3764, 0.1737, 0.2026, 0.2473, 0.0000, 0.0000, 0.0000, 0.0000],\n",
       "         [0.1912, 0.1518, 0.1428, 0.2452, 0.2691, 0.0000, 0.0000, 0.0000],\n",
       "         [0.1751, 0.1824, 0.1889, 0.1577, 0.1852, 0.1107, 0.0000, 0.0000],\n",
       "         [0.1718, 0.0820, 0.1656, 0.1198, 0.1807, 0.1645, 0.1156, 0.0000],\n",
       "         [0.1254, 0.0944, 0.1444, 0.1012, 0.1088, 0.1560, 0.1608, 0.1091]],\n",
       "\n",
       "        [[1.0000, 0.0000, 0.0000, 0.0000, 0.0000, 0.0000, 0.0000, 0.0000],\n",
       "         [0.4007, 0.5993, 0.0000, 0.0000, 0.0000, 0.0000, 0.0000, 0.0000],\n",
       "         [0.4369, 0.2599, 0.3032, 0.0000, 0.0000, 0.0000, 0.0000, 0.0000],\n",
       "         [0.2695, 0.2793, 0.1849, 0.2663, 0.0000, 0.0000, 0.0000, 0.0000],\n",
       "         [0.0849, 0.2261, 0.3330, 0.2287, 0.1272, 0.0000, 0.0000, 0.0000],\n",
       "         [0.1925, 0.1580, 0.2593, 0.1018, 0.1477, 0.1407, 0.0000, 0.0000],\n",
       "         [0.1553, 0.1473, 0.1071, 0.1840, 0.1567, 0.1366, 0.1129, 0.0000],\n",
       "         [0.0999, 0.0986, 0.2118, 0.0949, 0.1451, 0.1163, 0.1026, 0.1307]],\n",
       "\n",
       "        [[1.0000, 0.0000, 0.0000, 0.0000, 0.0000, 0.0000, 0.0000, 0.0000],\n",
       "         [0.4376, 0.5624, 0.0000, 0.0000, 0.0000, 0.0000, 0.0000, 0.0000],\n",
       "         [0.2806, 0.4199, 0.2995, 0.0000, 0.0000, 0.0000, 0.0000, 0.0000],\n",
       "         [0.4090, 0.2465, 0.1286, 0.2159, 0.0000, 0.0000, 0.0000, 0.0000],\n",
       "         [0.2123, 0.2238, 0.1946, 0.2052, 0.1640, 0.0000, 0.0000, 0.0000],\n",
       "         [0.2623, 0.1685, 0.2327, 0.1043, 0.1260, 0.1061, 0.0000, 0.0000],\n",
       "         [0.2158, 0.1184, 0.1165, 0.0892, 0.0920, 0.2393, 0.1288, 0.0000],\n",
       "         [0.1901, 0.1725, 0.1012, 0.1206, 0.1074, 0.1622, 0.0806, 0.0654]]],\n",
       "       grad_fn=<SoftmaxBackward0>)"
      ]
     },
     "execution_count": null,
     "metadata": {},
     "output_type": "execute_result"
    }
   ],
   "source": [
    "wei"
   ]
  },
  {
   "cell_type": "markdown",
   "id": "0cb69da4",
   "metadata": {},
   "source": [
    "## Code Cleanup"
   ]
  },
  {
   "cell_type": "code",
   "execution_count": null,
   "id": "0380ad37",
   "metadata": {},
   "outputs": [],
   "source": [
    "batch_size = 32\n",
    "n_embd = 32\n",
    "lr = 1e-3\n",
    "max_iters = 5000 "
   ]
  },
  {
   "cell_type": "code",
   "execution_count": null,
   "id": "f5ad1020",
   "metadata": {},
   "outputs": [],
   "source": [
    "class Head(nn.Module):\n",
    "    \"\"\"one head of self-attention\"\"\"\n",
    "    \n",
    "    def __init__(self, head_size):\n",
    "        super().__init__()\n",
    "        self.key = nn.Linear(n_embd, head_size, bias=False)\n",
    "        self.query = nn.Linear(n_embd, head_size, bias=False)\n",
    "        self.value = nn.Linear(n_embd, head_size, bias=False)\n",
    "        self.register_buffer('tril', torch.tril(torch.ones(block_size, block_size)))\n",
    "    \n",
    "    def forward(self, x):\n",
    "        B, T, C = x.shape\n",
    "        k = self.key(x) # (B, T, C)\n",
    "        q = self.query(x) # (B, T, C)\n",
    "        # compute attention scores (\"affinities\")\n",
    "        wei = q @ k.transpose(-2, -1) * C**-0.5 # (B, T, C) @ (B, C, T) --> (B, T, T)\n",
    "        wei = wei.masked_fill(self.tril[:T, :T] == 0, float('-inf'))\n",
    "        wei = F.softmax(wei, dim=-1) # (B, T, T)\n",
    "        # perform the weighted aggregation of the values\n",
    "        v = self.value(x)\n",
    "        out = wei @ v # (B, T, T) @ (B, T, C) -> (B, T, C)\n",
    "        return out\n",
    "        "
   ]
  },
  {
   "cell_type": "code",
   "execution_count": null,
   "id": "2f2fb64e",
   "metadata": {},
   "outputs": [],
   "source": [
    "class BigramLanguageModel(nn.Module):\n",
    "    \n",
    "    def __init__(self):\n",
    "        super().__init__()\n",
    "        # each token directly reads off the logits for the next token from a lookup table\n",
    "        self.token_embedding_table = nn.Embedding(vocab_size, n_embd)\n",
    "        self.position_embedding_table = nn.Embedding(block_size, n_embd)\n",
    "        self.sa_head = Head(n_embd)\n",
    "        self.lm_head = nn.Linear(n_embd, vocab_size)\n",
    "        \n",
    "    \n",
    "    def forward(self, idx, targets=None):\n",
    "        \n",
    "        B, T = idx.shape\n",
    "        # idx and targets are both (B, T) tensor of integers\n",
    "        tok_embd = self.token_embedding_table(idx) # (B, T, C)\n",
    "        pos_embd = self.position_embedding_table(torch.arange(T, device=device)) # (T, C)\n",
    "        x = tok_embd + pos_embd # (B, T, C)\n",
    "        x = self.sa_head(x) # apply one head of self-attention (B, T, C)\n",
    "        logits = self.lm_head(x) # (B, T, vocab_size)\n",
    "        \n",
    "        if targets is None:\n",
    "            loss = None\n",
    "        else:\n",
    "            B, T, C = logits.shape\n",
    "            logits = logits.view(B*T, C)\n",
    "            targets = targets.view(B*T)\n",
    "            loss = F.cross_entropy(logits, targets)\n",
    "        \n",
    "        return logits, loss\n",
    "    \n",
    "    def generate(self, idx, max_new_tokens):\n",
    "        # idx is (B, T) array of indices in the current context\n",
    "        for _ in range(max_new_tokens):\n",
    "            # crop idx to the last block_size tokens\n",
    "            idx_cond = idx[:, -block_size:]\n",
    "            # get the prediction\n",
    "            logits, loss = self(idx_cond)\n",
    "            # focus only on the last time step\n",
    "            logits = logits[:, -1, :] # becomes (B, C)\n",
    "            # apply softmax to get probabilities\n",
    "            probs = F.softmax(logits, dim = -1)\n",
    "            # sample from the distribution\n",
    "            idx_next = torch.multinomial(probs, num_samples=1) # (B, 1)\n",
    "            # append sampled index to the running sequence\n",
    "            idx = torch.cat((idx, idx_next), dim=1) # (B, T + 1)\n",
    "            \n",
    "        return idx"
   ]
  },
  {
   "cell_type": "code",
   "execution_count": null,
   "id": "3f7dd069",
   "metadata": {},
   "outputs": [],
   "source": [
    "model = BigramLanguageModel()"
   ]
  },
  {
   "cell_type": "code",
   "execution_count": null,
   "id": "5cc2e6f3",
   "metadata": {},
   "outputs": [
    {
     "data": {
      "text/plain": [
       "BigramLanguageModel(\n",
       "  (token_embedding_table): Embedding(65, 32)\n",
       "  (position_embedding_table): Embedding(8, 32)\n",
       "  (sa_head): Head(\n",
       "    (key): Linear(in_features=32, out_features=32, bias=False)\n",
       "    (query): Linear(in_features=32, out_features=32, bias=False)\n",
       "    (value): Linear(in_features=32, out_features=32, bias=False)\n",
       "  )\n",
       "  (lm_head): Linear(in_features=32, out_features=65, bias=True)\n",
       ")"
      ]
     },
     "execution_count": null,
     "metadata": {},
     "output_type": "execute_result"
    }
   ],
   "source": [
    "model"
   ]
  },
  {
   "cell_type": "code",
   "execution_count": null,
   "id": "73393ff3",
   "metadata": {},
   "outputs": [
    {
     "data": {
      "text/html": [
       "<pre style=\"white-space:pre;overflow-x:auto;line-height:normal;font-family:Menlo,'DejaVu Sans Mono',consolas,'Courier New',monospace\">step <span style=\"color: #008080; text-decoration-color: #008080; font-weight: bold\">0</span>: train loss <span style=\"color: #008080; text-decoration-color: #008080; font-weight: bold\">4.2372</span>, val loss <span style=\"color: #008080; text-decoration-color: #008080; font-weight: bold\">4.2362</span>\n",
       "</pre>\n"
      ],
      "text/plain": [
       "step \u001b[1;36m0\u001b[0m: train loss \u001b[1;36m4.2372\u001b[0m, val loss \u001b[1;36m4.2362\u001b[0m\n"
      ]
     },
     "metadata": {},
     "output_type": "display_data"
    },
    {
     "data": {
      "text/html": [
       "<pre style=\"white-space:pre;overflow-x:auto;line-height:normal;font-family:Menlo,'DejaVu Sans Mono',consolas,'Courier New',monospace\">step <span style=\"color: #008080; text-decoration-color: #008080; font-weight: bold\">300</span>: train loss <span style=\"color: #008080; text-decoration-color: #008080; font-weight: bold\">3.1707</span>, val loss <span style=\"color: #008080; text-decoration-color: #008080; font-weight: bold\">3.2214</span>\n",
       "</pre>\n"
      ],
      "text/plain": [
       "step \u001b[1;36m300\u001b[0m: train loss \u001b[1;36m3.1707\u001b[0m, val loss \u001b[1;36m3.2214\u001b[0m\n"
      ]
     },
     "metadata": {},
     "output_type": "display_data"
    },
    {
     "data": {
      "text/html": [
       "<pre style=\"white-space:pre;overflow-x:auto;line-height:normal;font-family:Menlo,'DejaVu Sans Mono',consolas,'Courier New',monospace\">step <span style=\"color: #008080; text-decoration-color: #008080; font-weight: bold\">600</span>: train loss <span style=\"color: #008080; text-decoration-color: #008080; font-weight: bold\">2.9718</span>, val loss <span style=\"color: #008080; text-decoration-color: #008080; font-weight: bold\">2.9668</span>\n",
       "</pre>\n"
      ],
      "text/plain": [
       "step \u001b[1;36m600\u001b[0m: train loss \u001b[1;36m2.9718\u001b[0m, val loss \u001b[1;36m2.9668\u001b[0m\n"
      ]
     },
     "metadata": {},
     "output_type": "display_data"
    },
    {
     "data": {
      "text/html": [
       "<pre style=\"white-space:pre;overflow-x:auto;line-height:normal;font-family:Menlo,'DejaVu Sans Mono',consolas,'Courier New',monospace\">step <span style=\"color: #008080; text-decoration-color: #008080; font-weight: bold\">900</span>: train loss <span style=\"color: #008080; text-decoration-color: #008080; font-weight: bold\">2.8036</span>, val loss <span style=\"color: #008080; text-decoration-color: #008080; font-weight: bold\">2.8417</span>\n",
       "</pre>\n"
      ],
      "text/plain": [
       "step \u001b[1;36m900\u001b[0m: train loss \u001b[1;36m2.8036\u001b[0m, val loss \u001b[1;36m2.8417\u001b[0m\n"
      ]
     },
     "metadata": {},
     "output_type": "display_data"
    },
    {
     "data": {
      "text/html": [
       "<pre style=\"white-space:pre;overflow-x:auto;line-height:normal;font-family:Menlo,'DejaVu Sans Mono',consolas,'Courier New',monospace\">step <span style=\"color: #008080; text-decoration-color: #008080; font-weight: bold\">1200</span>: train loss <span style=\"color: #008080; text-decoration-color: #008080; font-weight: bold\">2.7233</span>, val loss <span style=\"color: #008080; text-decoration-color: #008080; font-weight: bold\">2.7152</span>\n",
       "</pre>\n"
      ],
      "text/plain": [
       "step \u001b[1;36m1200\u001b[0m: train loss \u001b[1;36m2.7233\u001b[0m, val loss \u001b[1;36m2.7152\u001b[0m\n"
      ]
     },
     "metadata": {},
     "output_type": "display_data"
    },
    {
     "data": {
      "text/html": [
       "<pre style=\"white-space:pre;overflow-x:auto;line-height:normal;font-family:Menlo,'DejaVu Sans Mono',consolas,'Courier New',monospace\">step <span style=\"color: #008080; text-decoration-color: #008080; font-weight: bold\">1500</span>: train loss <span style=\"color: #008080; text-decoration-color: #008080; font-weight: bold\">2.6638</span>, val loss <span style=\"color: #008080; text-decoration-color: #008080; font-weight: bold\">2.6523</span>\n",
       "</pre>\n"
      ],
      "text/plain": [
       "step \u001b[1;36m1500\u001b[0m: train loss \u001b[1;36m2.6638\u001b[0m, val loss \u001b[1;36m2.6523\u001b[0m\n"
      ]
     },
     "metadata": {},
     "output_type": "display_data"
    },
    {
     "data": {
      "text/html": [
       "<pre style=\"white-space:pre;overflow-x:auto;line-height:normal;font-family:Menlo,'DejaVu Sans Mono',consolas,'Courier New',monospace\">step <span style=\"color: #008080; text-decoration-color: #008080; font-weight: bold\">1800</span>: train loss <span style=\"color: #008080; text-decoration-color: #008080; font-weight: bold\">2.6091</span>, val loss <span style=\"color: #008080; text-decoration-color: #008080; font-weight: bold\">2.6452</span>\n",
       "</pre>\n"
      ],
      "text/plain": [
       "step \u001b[1;36m1800\u001b[0m: train loss \u001b[1;36m2.6091\u001b[0m, val loss \u001b[1;36m2.6452\u001b[0m\n"
      ]
     },
     "metadata": {},
     "output_type": "display_data"
    },
    {
     "data": {
      "text/html": [
       "<pre style=\"white-space:pre;overflow-x:auto;line-height:normal;font-family:Menlo,'DejaVu Sans Mono',consolas,'Courier New',monospace\">step <span style=\"color: #008080; text-decoration-color: #008080; font-weight: bold\">2100</span>: train loss <span style=\"color: #008080; text-decoration-color: #008080; font-weight: bold\">2.6155</span>, val loss <span style=\"color: #008080; text-decoration-color: #008080; font-weight: bold\">2.6185</span>\n",
       "</pre>\n"
      ],
      "text/plain": [
       "step \u001b[1;36m2100\u001b[0m: train loss \u001b[1;36m2.6155\u001b[0m, val loss \u001b[1;36m2.6185\u001b[0m\n"
      ]
     },
     "metadata": {},
     "output_type": "display_data"
    },
    {
     "data": {
      "text/html": [
       "<pre style=\"white-space:pre;overflow-x:auto;line-height:normal;font-family:Menlo,'DejaVu Sans Mono',consolas,'Courier New',monospace\">step <span style=\"color: #008080; text-decoration-color: #008080; font-weight: bold\">2400</span>: train loss <span style=\"color: #008080; text-decoration-color: #008080; font-weight: bold\">2.6013</span>, val loss <span style=\"color: #008080; text-decoration-color: #008080; font-weight: bold\">2.5718</span>\n",
       "</pre>\n"
      ],
      "text/plain": [
       "step \u001b[1;36m2400\u001b[0m: train loss \u001b[1;36m2.6013\u001b[0m, val loss \u001b[1;36m2.5718\u001b[0m\n"
      ]
     },
     "metadata": {},
     "output_type": "display_data"
    },
    {
     "data": {
      "text/html": [
       "<pre style=\"white-space:pre;overflow-x:auto;line-height:normal;font-family:Menlo,'DejaVu Sans Mono',consolas,'Courier New',monospace\">step <span style=\"color: #008080; text-decoration-color: #008080; font-weight: bold\">2700</span>: train loss <span style=\"color: #008080; text-decoration-color: #008080; font-weight: bold\">2.5441</span>, val loss <span style=\"color: #008080; text-decoration-color: #008080; font-weight: bold\">2.5337</span>\n",
       "</pre>\n"
      ],
      "text/plain": [
       "step \u001b[1;36m2700\u001b[0m: train loss \u001b[1;36m2.5441\u001b[0m, val loss \u001b[1;36m2.5337\u001b[0m\n"
      ]
     },
     "metadata": {},
     "output_type": "display_data"
    },
    {
     "data": {
      "text/html": [
       "<pre style=\"white-space:pre;overflow-x:auto;line-height:normal;font-family:Menlo,'DejaVu Sans Mono',consolas,'Courier New',monospace\">step <span style=\"color: #008080; text-decoration-color: #008080; font-weight: bold\">3000</span>: train loss <span style=\"color: #008080; text-decoration-color: #008080; font-weight: bold\">2.5213</span>, val loss <span style=\"color: #008080; text-decoration-color: #008080; font-weight: bold\">2.5182</span>\n",
       "</pre>\n"
      ],
      "text/plain": [
       "step \u001b[1;36m3000\u001b[0m: train loss \u001b[1;36m2.5213\u001b[0m, val loss \u001b[1;36m2.5182\u001b[0m\n"
      ]
     },
     "metadata": {},
     "output_type": "display_data"
    },
    {
     "data": {
      "text/html": [
       "<pre style=\"white-space:pre;overflow-x:auto;line-height:normal;font-family:Menlo,'DejaVu Sans Mono',consolas,'Courier New',monospace\">step <span style=\"color: #008080; text-decoration-color: #008080; font-weight: bold\">3300</span>: train loss <span style=\"color: #008080; text-decoration-color: #008080; font-weight: bold\">2.5233</span>, val loss <span style=\"color: #008080; text-decoration-color: #008080; font-weight: bold\">2.5284</span>\n",
       "</pre>\n"
      ],
      "text/plain": [
       "step \u001b[1;36m3300\u001b[0m: train loss \u001b[1;36m2.5233\u001b[0m, val loss \u001b[1;36m2.5284\u001b[0m\n"
      ]
     },
     "metadata": {},
     "output_type": "display_data"
    },
    {
     "data": {
      "text/html": [
       "<pre style=\"white-space:pre;overflow-x:auto;line-height:normal;font-family:Menlo,'DejaVu Sans Mono',consolas,'Courier New',monospace\">step <span style=\"color: #008080; text-decoration-color: #008080; font-weight: bold\">3600</span>: train loss <span style=\"color: #008080; text-decoration-color: #008080; font-weight: bold\">2.5053</span>, val loss <span style=\"color: #008080; text-decoration-color: #008080; font-weight: bold\">2.5298</span>\n",
       "</pre>\n"
      ],
      "text/plain": [
       "step \u001b[1;36m3600\u001b[0m: train loss \u001b[1;36m2.5053\u001b[0m, val loss \u001b[1;36m2.5298\u001b[0m\n"
      ]
     },
     "metadata": {},
     "output_type": "display_data"
    },
    {
     "data": {
      "text/html": [
       "<pre style=\"white-space:pre;overflow-x:auto;line-height:normal;font-family:Menlo,'DejaVu Sans Mono',consolas,'Courier New',monospace\">step <span style=\"color: #008080; text-decoration-color: #008080; font-weight: bold\">3900</span>: train loss <span style=\"color: #008080; text-decoration-color: #008080; font-weight: bold\">2.4838</span>, val loss <span style=\"color: #008080; text-decoration-color: #008080; font-weight: bold\">2.5162</span>\n",
       "</pre>\n"
      ],
      "text/plain": [
       "step \u001b[1;36m3900\u001b[0m: train loss \u001b[1;36m2.4838\u001b[0m, val loss \u001b[1;36m2.5162\u001b[0m\n"
      ]
     },
     "metadata": {},
     "output_type": "display_data"
    },
    {
     "data": {
      "text/html": [
       "<pre style=\"white-space:pre;overflow-x:auto;line-height:normal;font-family:Menlo,'DejaVu Sans Mono',consolas,'Courier New',monospace\">step <span style=\"color: #008080; text-decoration-color: #008080; font-weight: bold\">4200</span>: train loss <span style=\"color: #008080; text-decoration-color: #008080; font-weight: bold\">2.4904</span>, val loss <span style=\"color: #008080; text-decoration-color: #008080; font-weight: bold\">2.4838</span>\n",
       "</pre>\n"
      ],
      "text/plain": [
       "step \u001b[1;36m4200\u001b[0m: train loss \u001b[1;36m2.4904\u001b[0m, val loss \u001b[1;36m2.4838\u001b[0m\n"
      ]
     },
     "metadata": {},
     "output_type": "display_data"
    },
    {
     "data": {
      "text/html": [
       "<pre style=\"white-space:pre;overflow-x:auto;line-height:normal;font-family:Menlo,'DejaVu Sans Mono',consolas,'Courier New',monospace\">step <span style=\"color: #008080; text-decoration-color: #008080; font-weight: bold\">4500</span>: train loss <span style=\"color: #008080; text-decoration-color: #008080; font-weight: bold\">2.4573</span>, val loss <span style=\"color: #008080; text-decoration-color: #008080; font-weight: bold\">2.4814</span>\n",
       "</pre>\n"
      ],
      "text/plain": [
       "step \u001b[1;36m4500\u001b[0m: train loss \u001b[1;36m2.4573\u001b[0m, val loss \u001b[1;36m2.4814\u001b[0m\n"
      ]
     },
     "metadata": {},
     "output_type": "display_data"
    },
    {
     "data": {
      "text/html": [
       "<pre style=\"white-space:pre;overflow-x:auto;line-height:normal;font-family:Menlo,'DejaVu Sans Mono',consolas,'Courier New',monospace\">step <span style=\"color: #008080; text-decoration-color: #008080; font-weight: bold\">4800</span>: train loss <span style=\"color: #008080; text-decoration-color: #008080; font-weight: bold\">2.4428</span>, val loss <span style=\"color: #008080; text-decoration-color: #008080; font-weight: bold\">2.4762</span>\n",
       "</pre>\n"
      ],
      "text/plain": [
       "step \u001b[1;36m4800\u001b[0m: train loss \u001b[1;36m2.4428\u001b[0m, val loss \u001b[1;36m2.4762\u001b[0m\n"
      ]
     },
     "metadata": {},
     "output_type": "display_data"
    }
   ],
   "source": [
    "optimizer = torch.optim.AdamW(model.parameters(), lr=lr)\n",
    "\n",
    "for step in range(max_iters):\n",
    "\n",
    "    if step % eval_interval == 0:\n",
    "        losses = estimate_loss()\n",
    "        print(f\"step {step}: train loss {losses['train']:.4f}, val loss {losses['val']:.4f}\")\n",
    "\n",
    "    # sample a batch of data\n",
    "    xb, yb = get_batch('train')\n",
    "\n",
    "    # evaluate the loss\n",
    "    logits, loss = model(xb, yb)\n",
    "    optimizer.zero_grad(set_to_none=True)\n",
    "    loss.backward()\n",
    "    optimizer.step()"
   ]
  },
  {
   "cell_type": "markdown",
   "id": "dfb55364",
   "metadata": {},
   "source": [
    "## Multi-Headed Self-Attention"
   ]
  },
  {
   "cell_type": "code",
   "execution_count": null,
   "id": "01c094dc",
   "metadata": {},
   "outputs": [],
   "source": [
    "class MultiHeadAttention(nn.Module):\n",
    "    \"\"\" multiple heads of self-attention in parallel \"\"\"\n",
    "    \n",
    "    def __init__(self, num_heads, head_size):\n",
    "        super().__init__()\n",
    "        self.heads = nn.ModuleList([Head(head_size) for _ in range(num_heads)])\n",
    "    \n",
    "    def forward(self, x):\n",
    "        return torch.cat([h(x) for h in self.heads], dim=-1)"
   ]
  },
  {
   "cell_type": "code",
   "execution_count": null,
   "id": "2cbc8c50",
   "metadata": {},
   "outputs": [],
   "source": [
    "class BigramLanguageModel(nn.Module):\n",
    "    \n",
    "    def __init__(self):\n",
    "        super().__init__()\n",
    "        # each token directly reads off the logits for the next token from a lookup table\n",
    "        self.token_embedding_table = nn.Embedding(vocab_size, n_embd)\n",
    "        self.position_embedding_table = nn.Embedding(block_size, n_embd)\n",
    "        self.sa_head = MultiHeadAttention(4, n_embd//4)\n",
    "        self.lm_head = nn.Linear(n_embd, vocab_size)\n",
    "        \n",
    "    \n",
    "    def forward(self, idx, targets=None):\n",
    "        \n",
    "        B, T = idx.shape\n",
    "        # idx and targets are both (B, T) tensor of integers\n",
    "        tok_embd = self.token_embedding_table(idx) # (B, T, C)\n",
    "        pos_embd = self.position_embedding_table(torch.arange(T, device=device)) # (T, C)\n",
    "        x = tok_embd + pos_embd # (B, T, C)\n",
    "        x = self.sa_head(x) # apply one head of self-attention (B, T, C)\n",
    "        logits = self.lm_head(x) # (B, T, vocab_size)\n",
    "        \n",
    "        if targets is None:\n",
    "            loss = None\n",
    "        else:\n",
    "            B, T, C = logits.shape\n",
    "            logits = logits.view(B*T, C)\n",
    "            targets = targets.view(B*T)\n",
    "            loss = F.cross_entropy(logits, targets)\n",
    "        \n",
    "        return logits, loss\n",
    "    \n",
    "    def generate(self, idx, max_new_tokens):\n",
    "        # idx is (B, T) array of indices in the current context\n",
    "        for _ in range(max_new_tokens):\n",
    "            # crop idx to the last block_size tokens\n",
    "            idx_cond = idx[:, -block_size:]\n",
    "            # get the prediction\n",
    "            logits, loss = self(idx_cond)\n",
    "            # focus only on the last time step\n",
    "            logits = logits[:, -1, :] # becomes (B, C)\n",
    "            # apply softmax to get probabilities\n",
    "            probs = F.softmax(logits, dim = -1)\n",
    "            # sample from the distribution\n",
    "            idx_next = torch.multinomial(probs, num_samples=1) # (B, 1)\n",
    "            # append sampled index to the running sequence\n",
    "            idx = torch.cat((idx, idx_next), dim=1) # (B, T + 1)\n",
    "            \n",
    "        return idx"
   ]
  },
  {
   "cell_type": "code",
   "execution_count": null,
   "id": "85c7677b",
   "metadata": {},
   "outputs": [],
   "source": [
    "model = BigramLanguageModel()"
   ]
  },
  {
   "cell_type": "code",
   "execution_count": null,
   "id": "1d7548e0",
   "metadata": {},
   "outputs": [
    {
     "data": {
      "text/plain": [
       "BigramLanguageModel(\n",
       "  (token_embedding_table): Embedding(65, 32)\n",
       "  (position_embedding_table): Embedding(8, 32)\n",
       "  (sa_head): MultiHeadAttention(\n",
       "    (heads): ModuleList(\n",
       "      (0): Head(\n",
       "        (key): Linear(in_features=32, out_features=8, bias=False)\n",
       "        (query): Linear(in_features=32, out_features=8, bias=False)\n",
       "        (value): Linear(in_features=32, out_features=8, bias=False)\n",
       "      )\n",
       "      (1): Head(\n",
       "        (key): Linear(in_features=32, out_features=8, bias=False)\n",
       "        (query): Linear(in_features=32, out_features=8, bias=False)\n",
       "        (value): Linear(in_features=32, out_features=8, bias=False)\n",
       "      )\n",
       "      (2): Head(\n",
       "        (key): Linear(in_features=32, out_features=8, bias=False)\n",
       "        (query): Linear(in_features=32, out_features=8, bias=False)\n",
       "        (value): Linear(in_features=32, out_features=8, bias=False)\n",
       "      )\n",
       "      (3): Head(\n",
       "        (key): Linear(in_features=32, out_features=8, bias=False)\n",
       "        (query): Linear(in_features=32, out_features=8, bias=False)\n",
       "        (value): Linear(in_features=32, out_features=8, bias=False)\n",
       "      )\n",
       "    )\n",
       "  )\n",
       "  (lm_head): Linear(in_features=32, out_features=65, bias=True)\n",
       ")"
      ]
     },
     "execution_count": null,
     "metadata": {},
     "output_type": "execute_result"
    }
   ],
   "source": [
    "model"
   ]
  },
  {
   "cell_type": "code",
   "execution_count": null,
   "id": "d7ebfded",
   "metadata": {},
   "outputs": [
    {
     "data": {
      "text/html": [
       "<pre style=\"white-space:pre;overflow-x:auto;line-height:normal;font-family:Menlo,'DejaVu Sans Mono',consolas,'Courier New',monospace\">step <span style=\"color: #008080; text-decoration-color: #008080; font-weight: bold\">0</span>: train loss <span style=\"color: #008080; text-decoration-color: #008080; font-weight: bold\">4.2068</span>, val loss <span style=\"color: #008080; text-decoration-color: #008080; font-weight: bold\">4.2074</span>\n",
       "</pre>\n"
      ],
      "text/plain": [
       "step \u001b[1;36m0\u001b[0m: train loss \u001b[1;36m4.2068\u001b[0m, val loss \u001b[1;36m4.2074\u001b[0m\n"
      ]
     },
     "metadata": {},
     "output_type": "display_data"
    },
    {
     "data": {
      "text/html": [
       "<pre style=\"white-space:pre;overflow-x:auto;line-height:normal;font-family:Menlo,'DejaVu Sans Mono',consolas,'Courier New',monospace\">step <span style=\"color: #008080; text-decoration-color: #008080; font-weight: bold\">300</span>: train loss <span style=\"color: #008080; text-decoration-color: #008080; font-weight: bold\">3.1004</span>, val loss <span style=\"color: #008080; text-decoration-color: #008080; font-weight: bold\">3.1549</span>\n",
       "</pre>\n"
      ],
      "text/plain": [
       "step \u001b[1;36m300\u001b[0m: train loss \u001b[1;36m3.1004\u001b[0m, val loss \u001b[1;36m3.1549\u001b[0m\n"
      ]
     },
     "metadata": {},
     "output_type": "display_data"
    },
    {
     "data": {
      "text/html": [
       "<pre style=\"white-space:pre;overflow-x:auto;line-height:normal;font-family:Menlo,'DejaVu Sans Mono',consolas,'Courier New',monospace\">step <span style=\"color: #008080; text-decoration-color: #008080; font-weight: bold\">600</span>: train loss <span style=\"color: #008080; text-decoration-color: #008080; font-weight: bold\">2.8834</span>, val loss <span style=\"color: #008080; text-decoration-color: #008080; font-weight: bold\">2.9003</span>\n",
       "</pre>\n"
      ],
      "text/plain": [
       "step \u001b[1;36m600\u001b[0m: train loss \u001b[1;36m2.8834\u001b[0m, val loss \u001b[1;36m2.9003\u001b[0m\n"
      ]
     },
     "metadata": {},
     "output_type": "display_data"
    },
    {
     "data": {
      "text/html": [
       "<pre style=\"white-space:pre;overflow-x:auto;line-height:normal;font-family:Menlo,'DejaVu Sans Mono',consolas,'Courier New',monospace\">step <span style=\"color: #008080; text-decoration-color: #008080; font-weight: bold\">900</span>: train loss <span style=\"color: #008080; text-decoration-color: #008080; font-weight: bold\">2.7915</span>, val loss <span style=\"color: #008080; text-decoration-color: #008080; font-weight: bold\">2.7893</span>\n",
       "</pre>\n"
      ],
      "text/plain": [
       "step \u001b[1;36m900\u001b[0m: train loss \u001b[1;36m2.7915\u001b[0m, val loss \u001b[1;36m2.7893\u001b[0m\n"
      ]
     },
     "metadata": {},
     "output_type": "display_data"
    },
    {
     "data": {
      "text/html": [
       "<pre style=\"white-space:pre;overflow-x:auto;line-height:normal;font-family:Menlo,'DejaVu Sans Mono',consolas,'Courier New',monospace\">step <span style=\"color: #008080; text-decoration-color: #008080; font-weight: bold\">1200</span>: train loss <span style=\"color: #008080; text-decoration-color: #008080; font-weight: bold\">2.6677</span>, val loss <span style=\"color: #008080; text-decoration-color: #008080; font-weight: bold\">2.6816</span>\n",
       "</pre>\n"
      ],
      "text/plain": [
       "step \u001b[1;36m1200\u001b[0m: train loss \u001b[1;36m2.6677\u001b[0m, val loss \u001b[1;36m2.6816\u001b[0m\n"
      ]
     },
     "metadata": {},
     "output_type": "display_data"
    },
    {
     "data": {
      "text/html": [
       "<pre style=\"white-space:pre;overflow-x:auto;line-height:normal;font-family:Menlo,'DejaVu Sans Mono',consolas,'Courier New',monospace\">step <span style=\"color: #008080; text-decoration-color: #008080; font-weight: bold\">1500</span>: train loss <span style=\"color: #008080; text-decoration-color: #008080; font-weight: bold\">2.6259</span>, val loss <span style=\"color: #008080; text-decoration-color: #008080; font-weight: bold\">2.6232</span>\n",
       "</pre>\n"
      ],
      "text/plain": [
       "step \u001b[1;36m1500\u001b[0m: train loss \u001b[1;36m2.6259\u001b[0m, val loss \u001b[1;36m2.6232\u001b[0m\n"
      ]
     },
     "metadata": {},
     "output_type": "display_data"
    },
    {
     "data": {
      "text/html": [
       "<pre style=\"white-space:pre;overflow-x:auto;line-height:normal;font-family:Menlo,'DejaVu Sans Mono',consolas,'Courier New',monospace\">step <span style=\"color: #008080; text-decoration-color: #008080; font-weight: bold\">1800</span>: train loss <span style=\"color: #008080; text-decoration-color: #008080; font-weight: bold\">2.5694</span>, val loss <span style=\"color: #008080; text-decoration-color: #008080; font-weight: bold\">2.6169</span>\n",
       "</pre>\n"
      ],
      "text/plain": [
       "step \u001b[1;36m1800\u001b[0m: train loss \u001b[1;36m2.5694\u001b[0m, val loss \u001b[1;36m2.6169\u001b[0m\n"
      ]
     },
     "metadata": {},
     "output_type": "display_data"
    },
    {
     "data": {
      "text/html": [
       "<pre style=\"white-space:pre;overflow-x:auto;line-height:normal;font-family:Menlo,'DejaVu Sans Mono',consolas,'Courier New',monospace\">step <span style=\"color: #008080; text-decoration-color: #008080; font-weight: bold\">2100</span>: train loss <span style=\"color: #008080; text-decoration-color: #008080; font-weight: bold\">2.5622</span>, val loss <span style=\"color: #008080; text-decoration-color: #008080; font-weight: bold\">2.5765</span>\n",
       "</pre>\n"
      ],
      "text/plain": [
       "step \u001b[1;36m2100\u001b[0m: train loss \u001b[1;36m2.5622\u001b[0m, val loss \u001b[1;36m2.5765\u001b[0m\n"
      ]
     },
     "metadata": {},
     "output_type": "display_data"
    },
    {
     "data": {
      "text/html": [
       "<pre style=\"white-space:pre;overflow-x:auto;line-height:normal;font-family:Menlo,'DejaVu Sans Mono',consolas,'Courier New',monospace\">step <span style=\"color: #008080; text-decoration-color: #008080; font-weight: bold\">2400</span>: train loss <span style=\"color: #008080; text-decoration-color: #008080; font-weight: bold\">2.5469</span>, val loss <span style=\"color: #008080; text-decoration-color: #008080; font-weight: bold\">2.5350</span>\n",
       "</pre>\n"
      ],
      "text/plain": [
       "step \u001b[1;36m2400\u001b[0m: train loss \u001b[1;36m2.5469\u001b[0m, val loss \u001b[1;36m2.5350\u001b[0m\n"
      ]
     },
     "metadata": {},
     "output_type": "display_data"
    },
    {
     "data": {
      "text/html": [
       "<pre style=\"white-space:pre;overflow-x:auto;line-height:normal;font-family:Menlo,'DejaVu Sans Mono',consolas,'Courier New',monospace\">step <span style=\"color: #008080; text-decoration-color: #008080; font-weight: bold\">2700</span>: train loss <span style=\"color: #008080; text-decoration-color: #008080; font-weight: bold\">2.4908</span>, val loss <span style=\"color: #008080; text-decoration-color: #008080; font-weight: bold\">2.4669</span>\n",
       "</pre>\n"
      ],
      "text/plain": [
       "step \u001b[1;36m2700\u001b[0m: train loss \u001b[1;36m2.4908\u001b[0m, val loss \u001b[1;36m2.4669\u001b[0m\n"
      ]
     },
     "metadata": {},
     "output_type": "display_data"
    },
    {
     "data": {
      "text/html": [
       "<pre style=\"white-space:pre;overflow-x:auto;line-height:normal;font-family:Menlo,'DejaVu Sans Mono',consolas,'Courier New',monospace\">step <span style=\"color: #008080; text-decoration-color: #008080; font-weight: bold\">3000</span>: train loss <span style=\"color: #008080; text-decoration-color: #008080; font-weight: bold\">2.4867</span>, val loss <span style=\"color: #008080; text-decoration-color: #008080; font-weight: bold\">2.5096</span>\n",
       "</pre>\n"
      ],
      "text/plain": [
       "step \u001b[1;36m3000\u001b[0m: train loss \u001b[1;36m2.4867\u001b[0m, val loss \u001b[1;36m2.5096\u001b[0m\n"
      ]
     },
     "metadata": {},
     "output_type": "display_data"
    },
    {
     "data": {
      "text/html": [
       "<pre style=\"white-space:pre;overflow-x:auto;line-height:normal;font-family:Menlo,'DejaVu Sans Mono',consolas,'Courier New',monospace\">step <span style=\"color: #008080; text-decoration-color: #008080; font-weight: bold\">3300</span>: train loss <span style=\"color: #008080; text-decoration-color: #008080; font-weight: bold\">2.4338</span>, val loss <span style=\"color: #008080; text-decoration-color: #008080; font-weight: bold\">2.4434</span>\n",
       "</pre>\n"
      ],
      "text/plain": [
       "step \u001b[1;36m3300\u001b[0m: train loss \u001b[1;36m2.4338\u001b[0m, val loss \u001b[1;36m2.4434\u001b[0m\n"
      ]
     },
     "metadata": {},
     "output_type": "display_data"
    },
    {
     "data": {
      "text/html": [
       "<pre style=\"white-space:pre;overflow-x:auto;line-height:normal;font-family:Menlo,'DejaVu Sans Mono',consolas,'Courier New',monospace\">step <span style=\"color: #008080; text-decoration-color: #008080; font-weight: bold\">3600</span>: train loss <span style=\"color: #008080; text-decoration-color: #008080; font-weight: bold\">2.4768</span>, val loss <span style=\"color: #008080; text-decoration-color: #008080; font-weight: bold\">2.4678</span>\n",
       "</pre>\n"
      ],
      "text/plain": [
       "step \u001b[1;36m3600\u001b[0m: train loss \u001b[1;36m2.4768\u001b[0m, val loss \u001b[1;36m2.4678\u001b[0m\n"
      ]
     },
     "metadata": {},
     "output_type": "display_data"
    },
    {
     "data": {
      "text/html": [
       "<pre style=\"white-space:pre;overflow-x:auto;line-height:normal;font-family:Menlo,'DejaVu Sans Mono',consolas,'Courier New',monospace\">step <span style=\"color: #008080; text-decoration-color: #008080; font-weight: bold\">3900</span>: train loss <span style=\"color: #008080; text-decoration-color: #008080; font-weight: bold\">2.4641</span>, val loss <span style=\"color: #008080; text-decoration-color: #008080; font-weight: bold\">2.4798</span>\n",
       "</pre>\n"
      ],
      "text/plain": [
       "step \u001b[1;36m3900\u001b[0m: train loss \u001b[1;36m2.4641\u001b[0m, val loss \u001b[1;36m2.4798\u001b[0m\n"
      ]
     },
     "metadata": {},
     "output_type": "display_data"
    },
    {
     "data": {
      "text/html": [
       "<pre style=\"white-space:pre;overflow-x:auto;line-height:normal;font-family:Menlo,'DejaVu Sans Mono',consolas,'Courier New',monospace\">step <span style=\"color: #008080; text-decoration-color: #008080; font-weight: bold\">4200</span>: train loss <span style=\"color: #008080; text-decoration-color: #008080; font-weight: bold\">2.4594</span>, val loss <span style=\"color: #008080; text-decoration-color: #008080; font-weight: bold\">2.4723</span>\n",
       "</pre>\n"
      ],
      "text/plain": [
       "step \u001b[1;36m4200\u001b[0m: train loss \u001b[1;36m2.4594\u001b[0m, val loss \u001b[1;36m2.4723\u001b[0m\n"
      ]
     },
     "metadata": {},
     "output_type": "display_data"
    },
    {
     "data": {
      "text/html": [
       "<pre style=\"white-space:pre;overflow-x:auto;line-height:normal;font-family:Menlo,'DejaVu Sans Mono',consolas,'Courier New',monospace\">step <span style=\"color: #008080; text-decoration-color: #008080; font-weight: bold\">4500</span>: train loss <span style=\"color: #008080; text-decoration-color: #008080; font-weight: bold\">2.4383</span>, val loss <span style=\"color: #008080; text-decoration-color: #008080; font-weight: bold\">2.4152</span>\n",
       "</pre>\n"
      ],
      "text/plain": [
       "step \u001b[1;36m4500\u001b[0m: train loss \u001b[1;36m2.4383\u001b[0m, val loss \u001b[1;36m2.4152\u001b[0m\n"
      ]
     },
     "metadata": {},
     "output_type": "display_data"
    },
    {
     "data": {
      "text/html": [
       "<pre style=\"white-space:pre;overflow-x:auto;line-height:normal;font-family:Menlo,'DejaVu Sans Mono',consolas,'Courier New',monospace\">step <span style=\"color: #008080; text-decoration-color: #008080; font-weight: bold\">4800</span>: train loss <span style=\"color: #008080; text-decoration-color: #008080; font-weight: bold\">2.3968</span>, val loss <span style=\"color: #008080; text-decoration-color: #008080; font-weight: bold\">2.4232</span>\n",
       "</pre>\n"
      ],
      "text/plain": [
       "step \u001b[1;36m4800\u001b[0m: train loss \u001b[1;36m2.3968\u001b[0m, val loss \u001b[1;36m2.4232\u001b[0m\n"
      ]
     },
     "metadata": {},
     "output_type": "display_data"
    }
   ],
   "source": [
    "optimizer = torch.optim.AdamW(model.parameters(), lr=lr)\n",
    "\n",
    "for step in range(max_iters):\n",
    "\n",
    "    if step % eval_interval == 0:\n",
    "        losses = estimate_loss()\n",
    "        print(f\"step {step}: train loss {losses['train']:.4f}, val loss {losses['val']:.4f}\")\n",
    "\n",
    "    # sample a batch of data\n",
    "    xb, yb = get_batch('train')\n",
    "\n",
    "    # evaluate the loss\n",
    "    logits, loss = model(xb, yb)\n",
    "    optimizer.zero_grad(set_to_none=True)\n",
    "    loss.backward()\n",
    "    optimizer.step()"
   ]
  },
  {
   "cell_type": "code",
   "execution_count": null,
   "id": "d158cfd1",
   "metadata": {},
   "outputs": [],
   "source": [
    "class FeedForward(nn.Module):\n",
    "    \"\"\" a simple linear layer followed by a non-linearity \"\"\"\n",
    "    def __init__(self, n_embd):\n",
    "        super().__init__()\n",
    "        self.net = nn.Sequential(\n",
    "            nn.Linear(n_embd, n_embd),\n",
    "            nn.ReLU(),\n",
    "        )\n",
    "    \n",
    "    def forward(self, x):\n",
    "        return self.net(x)"
   ]
  },
  {
   "cell_type": "code",
   "execution_count": null,
   "id": "51527774",
   "metadata": {},
   "outputs": [],
   "source": [
    "class BigramLanguageModel(nn.Module):\n",
    "    \n",
    "    def __init__(self):\n",
    "        super().__init__()\n",
    "        # each token directly reads off the logits for the next token from a lookup table\n",
    "        self.token_embedding_table = nn.Embedding(vocab_size, n_embd)\n",
    "        self.position_embedding_table = nn.Embedding(block_size, n_embd)\n",
    "        self.sa_head = MultiHeadAttention(4, n_embd//4) # i.e. 4 heads of 8-dimensional self-attention\n",
    "        self.ffwd = FeedForward(n_embd)\n",
    "        self.lm_head = nn.Linear(n_embd, vocab_size)\n",
    "        \n",
    "    \n",
    "    def forward(self, idx, targets=None):\n",
    "        \n",
    "        B, T = idx.shape\n",
    "        # idx and targets are both (B, T) tensor of integers\n",
    "        tok_embd = self.token_embedding_table(idx) # (B, T, C)\n",
    "        pos_embd = self.position_embedding_table(torch.arange(T, device=device)) # (T, C)\n",
    "        x = tok_embd + pos_embd # (B, T, C)\n",
    "        x = self.sa_head(x) # apply one head of self-attention (B, T, C)\n",
    "        x = self.ffwd(x)\n",
    "        logits = self.lm_head(x) # (B, T, vocab_size)\n",
    "        \n",
    "        if targets is None:\n",
    "            loss = None\n",
    "        else:\n",
    "            B, T, C = logits.shape\n",
    "            logits = logits.view(B*T, C)\n",
    "            targets = targets.view(B*T)\n",
    "            loss = F.cross_entropy(logits, targets)\n",
    "        \n",
    "        return logits, loss\n",
    "    \n",
    "    def generate(self, idx, max_new_tokens):\n",
    "        # idx is (B, T) array of indices in the current context\n",
    "        for _ in range(max_new_tokens):\n",
    "            # crop idx to the last block_size tokens\n",
    "            idx_cond = idx[:, -block_size:]\n",
    "            # get the prediction\n",
    "            logits, loss = self(idx_cond)\n",
    "            # focus only on the last time step\n",
    "            logits = logits[:, -1, :] # becomes (B, C)\n",
    "            # apply softmax to get probabilities\n",
    "            probs = F.softmax(logits, dim = -1)\n",
    "            # sample from the distribution\n",
    "            idx_next = torch.multinomial(probs, num_samples=1) # (B, 1)\n",
    "            # append sampled index to the running sequence\n",
    "            idx = torch.cat((idx, idx_next), dim=1) # (B, T + 1)\n",
    "            \n",
    "        return idx"
   ]
  },
  {
   "cell_type": "code",
   "execution_count": null,
   "id": "aad6f7d1",
   "metadata": {},
   "outputs": [],
   "source": [
    "model = BigramLanguageModel()"
   ]
  },
  {
   "cell_type": "code",
   "execution_count": null,
   "id": "df8fc2fd",
   "metadata": {},
   "outputs": [
    {
     "data": {
      "text/html": [
       "<pre style=\"white-space:pre;overflow-x:auto;line-height:normal;font-family:Menlo,'DejaVu Sans Mono',consolas,'Courier New',monospace\">step <span style=\"color: #008080; text-decoration-color: #008080; font-weight: bold\">0</span>: train loss <span style=\"color: #008080; text-decoration-color: #008080; font-weight: bold\">4.2088</span>, val loss <span style=\"color: #008080; text-decoration-color: #008080; font-weight: bold\">4.2084</span>\n",
       "</pre>\n"
      ],
      "text/plain": [
       "step \u001b[1;36m0\u001b[0m: train loss \u001b[1;36m4.2088\u001b[0m, val loss \u001b[1;36m4.2084\u001b[0m\n"
      ]
     },
     "metadata": {},
     "output_type": "display_data"
    },
    {
     "data": {
      "text/html": [
       "<pre style=\"white-space:pre;overflow-x:auto;line-height:normal;font-family:Menlo,'DejaVu Sans Mono',consolas,'Courier New',monospace\">step <span style=\"color: #008080; text-decoration-color: #008080; font-weight: bold\">300</span>: train loss <span style=\"color: #008080; text-decoration-color: #008080; font-weight: bold\">3.1161</span>, val loss <span style=\"color: #008080; text-decoration-color: #008080; font-weight: bold\">3.0921</span>\n",
       "</pre>\n"
      ],
      "text/plain": [
       "step \u001b[1;36m300\u001b[0m: train loss \u001b[1;36m3.1161\u001b[0m, val loss \u001b[1;36m3.0921\u001b[0m\n"
      ]
     },
     "metadata": {},
     "output_type": "display_data"
    },
    {
     "data": {
      "text/html": [
       "<pre style=\"white-space:pre;overflow-x:auto;line-height:normal;font-family:Menlo,'DejaVu Sans Mono',consolas,'Courier New',monospace\">step <span style=\"color: #008080; text-decoration-color: #008080; font-weight: bold\">600</span>: train loss <span style=\"color: #008080; text-decoration-color: #008080; font-weight: bold\">2.8387</span>, val loss <span style=\"color: #008080; text-decoration-color: #008080; font-weight: bold\">2.8419</span>\n",
       "</pre>\n"
      ],
      "text/plain": [
       "step \u001b[1;36m600\u001b[0m: train loss \u001b[1;36m2.8387\u001b[0m, val loss \u001b[1;36m2.8419\u001b[0m\n"
      ]
     },
     "metadata": {},
     "output_type": "display_data"
    },
    {
     "data": {
      "text/html": [
       "<pre style=\"white-space:pre;overflow-x:auto;line-height:normal;font-family:Menlo,'DejaVu Sans Mono',consolas,'Courier New',monospace\">step <span style=\"color: #008080; text-decoration-color: #008080; font-weight: bold\">900</span>: train loss <span style=\"color: #008080; text-decoration-color: #008080; font-weight: bold\">2.7163</span>, val loss <span style=\"color: #008080; text-decoration-color: #008080; font-weight: bold\">2.7022</span>\n",
       "</pre>\n"
      ],
      "text/plain": [
       "step \u001b[1;36m900\u001b[0m: train loss \u001b[1;36m2.7163\u001b[0m, val loss \u001b[1;36m2.7022\u001b[0m\n"
      ]
     },
     "metadata": {},
     "output_type": "display_data"
    },
    {
     "data": {
      "text/html": [
       "<pre style=\"white-space:pre;overflow-x:auto;line-height:normal;font-family:Menlo,'DejaVu Sans Mono',consolas,'Courier New',monospace\">step <span style=\"color: #008080; text-decoration-color: #008080; font-weight: bold\">1200</span>: train loss <span style=\"color: #008080; text-decoration-color: #008080; font-weight: bold\">2.6280</span>, val loss <span style=\"color: #008080; text-decoration-color: #008080; font-weight: bold\">2.6622</span>\n",
       "</pre>\n"
      ],
      "text/plain": [
       "step \u001b[1;36m1200\u001b[0m: train loss \u001b[1;36m2.6280\u001b[0m, val loss \u001b[1;36m2.6622\u001b[0m\n"
      ]
     },
     "metadata": {},
     "output_type": "display_data"
    },
    {
     "data": {
      "text/html": [
       "<pre style=\"white-space:pre;overflow-x:auto;line-height:normal;font-family:Menlo,'DejaVu Sans Mono',consolas,'Courier New',monospace\">step <span style=\"color: #008080; text-decoration-color: #008080; font-weight: bold\">1500</span>: train loss <span style=\"color: #008080; text-decoration-color: #008080; font-weight: bold\">2.5896</span>, val loss <span style=\"color: #008080; text-decoration-color: #008080; font-weight: bold\">2.6387</span>\n",
       "</pre>\n"
      ],
      "text/plain": [
       "step \u001b[1;36m1500\u001b[0m: train loss \u001b[1;36m2.5896\u001b[0m, val loss \u001b[1;36m2.6387\u001b[0m\n"
      ]
     },
     "metadata": {},
     "output_type": "display_data"
    },
    {
     "data": {
      "text/html": [
       "<pre style=\"white-space:pre;overflow-x:auto;line-height:normal;font-family:Menlo,'DejaVu Sans Mono',consolas,'Courier New',monospace\">step <span style=\"color: #008080; text-decoration-color: #008080; font-weight: bold\">1800</span>: train loss <span style=\"color: #008080; text-decoration-color: #008080; font-weight: bold\">2.5662</span>, val loss <span style=\"color: #008080; text-decoration-color: #008080; font-weight: bold\">2.5481</span>\n",
       "</pre>\n"
      ],
      "text/plain": [
       "step \u001b[1;36m1800\u001b[0m: train loss \u001b[1;36m2.5662\u001b[0m, val loss \u001b[1;36m2.5481\u001b[0m\n"
      ]
     },
     "metadata": {},
     "output_type": "display_data"
    },
    {
     "data": {
      "text/html": [
       "<pre style=\"white-space:pre;overflow-x:auto;line-height:normal;font-family:Menlo,'DejaVu Sans Mono',consolas,'Courier New',monospace\">step <span style=\"color: #008080; text-decoration-color: #008080; font-weight: bold\">2100</span>: train loss <span style=\"color: #008080; text-decoration-color: #008080; font-weight: bold\">2.5010</span>, val loss <span style=\"color: #008080; text-decoration-color: #008080; font-weight: bold\">2.5196</span>\n",
       "</pre>\n"
      ],
      "text/plain": [
       "step \u001b[1;36m2100\u001b[0m: train loss \u001b[1;36m2.5010\u001b[0m, val loss \u001b[1;36m2.5196\u001b[0m\n"
      ]
     },
     "metadata": {},
     "output_type": "display_data"
    },
    {
     "data": {
      "text/html": [
       "<pre style=\"white-space:pre;overflow-x:auto;line-height:normal;font-family:Menlo,'DejaVu Sans Mono',consolas,'Courier New',monospace\">step <span style=\"color: #008080; text-decoration-color: #008080; font-weight: bold\">2400</span>: train loss <span style=\"color: #008080; text-decoration-color: #008080; font-weight: bold\">2.4846</span>, val loss <span style=\"color: #008080; text-decoration-color: #008080; font-weight: bold\">2.5073</span>\n",
       "</pre>\n"
      ],
      "text/plain": [
       "step \u001b[1;36m2400\u001b[0m: train loss \u001b[1;36m2.4846\u001b[0m, val loss \u001b[1;36m2.5073\u001b[0m\n"
      ]
     },
     "metadata": {},
     "output_type": "display_data"
    },
    {
     "data": {
      "text/html": [
       "<pre style=\"white-space:pre;overflow-x:auto;line-height:normal;font-family:Menlo,'DejaVu Sans Mono',consolas,'Courier New',monospace\">step <span style=\"color: #008080; text-decoration-color: #008080; font-weight: bold\">2700</span>: train loss <span style=\"color: #008080; text-decoration-color: #008080; font-weight: bold\">2.4745</span>, val loss <span style=\"color: #008080; text-decoration-color: #008080; font-weight: bold\">2.4501</span>\n",
       "</pre>\n"
      ],
      "text/plain": [
       "step \u001b[1;36m2700\u001b[0m: train loss \u001b[1;36m2.4745\u001b[0m, val loss \u001b[1;36m2.4501\u001b[0m\n"
      ]
     },
     "metadata": {},
     "output_type": "display_data"
    },
    {
     "data": {
      "text/html": [
       "<pre style=\"white-space:pre;overflow-x:auto;line-height:normal;font-family:Menlo,'DejaVu Sans Mono',consolas,'Courier New',monospace\">step <span style=\"color: #008080; text-decoration-color: #008080; font-weight: bold\">3000</span>: train loss <span style=\"color: #008080; text-decoration-color: #008080; font-weight: bold\">2.4844</span>, val loss <span style=\"color: #008080; text-decoration-color: #008080; font-weight: bold\">2.4585</span>\n",
       "</pre>\n"
      ],
      "text/plain": [
       "step \u001b[1;36m3000\u001b[0m: train loss \u001b[1;36m2.4844\u001b[0m, val loss \u001b[1;36m2.4585\u001b[0m\n"
      ]
     },
     "metadata": {},
     "output_type": "display_data"
    },
    {
     "data": {
      "text/html": [
       "<pre style=\"white-space:pre;overflow-x:auto;line-height:normal;font-family:Menlo,'DejaVu Sans Mono',consolas,'Courier New',monospace\">step <span style=\"color: #008080; text-decoration-color: #008080; font-weight: bold\">3300</span>: train loss <span style=\"color: #008080; text-decoration-color: #008080; font-weight: bold\">2.4411</span>, val loss <span style=\"color: #008080; text-decoration-color: #008080; font-weight: bold\">2.4581</span>\n",
       "</pre>\n"
      ],
      "text/plain": [
       "step \u001b[1;36m3300\u001b[0m: train loss \u001b[1;36m2.4411\u001b[0m, val loss \u001b[1;36m2.4581\u001b[0m\n"
      ]
     },
     "metadata": {},
     "output_type": "display_data"
    },
    {
     "data": {
      "text/html": [
       "<pre style=\"white-space:pre;overflow-x:auto;line-height:normal;font-family:Menlo,'DejaVu Sans Mono',consolas,'Courier New',monospace\">step <span style=\"color: #008080; text-decoration-color: #008080; font-weight: bold\">3600</span>: train loss <span style=\"color: #008080; text-decoration-color: #008080; font-weight: bold\">2.4272</span>, val loss <span style=\"color: #008080; text-decoration-color: #008080; font-weight: bold\">2.4579</span>\n",
       "</pre>\n"
      ],
      "text/plain": [
       "step \u001b[1;36m3600\u001b[0m: train loss \u001b[1;36m2.4272\u001b[0m, val loss \u001b[1;36m2.4579\u001b[0m\n"
      ]
     },
     "metadata": {},
     "output_type": "display_data"
    },
    {
     "data": {
      "text/html": [
       "<pre style=\"white-space:pre;overflow-x:auto;line-height:normal;font-family:Menlo,'DejaVu Sans Mono',consolas,'Courier New',monospace\">step <span style=\"color: #008080; text-decoration-color: #008080; font-weight: bold\">3900</span>: train loss <span style=\"color: #008080; text-decoration-color: #008080; font-weight: bold\">2.4080</span>, val loss <span style=\"color: #008080; text-decoration-color: #008080; font-weight: bold\">2.4583</span>\n",
       "</pre>\n"
      ],
      "text/plain": [
       "step \u001b[1;36m3900\u001b[0m: train loss \u001b[1;36m2.4080\u001b[0m, val loss \u001b[1;36m2.4583\u001b[0m\n"
      ]
     },
     "metadata": {},
     "output_type": "display_data"
    },
    {
     "data": {
      "text/html": [
       "<pre style=\"white-space:pre;overflow-x:auto;line-height:normal;font-family:Menlo,'DejaVu Sans Mono',consolas,'Courier New',monospace\">step <span style=\"color: #008080; text-decoration-color: #008080; font-weight: bold\">4200</span>: train loss <span style=\"color: #008080; text-decoration-color: #008080; font-weight: bold\">2.4366</span>, val loss <span style=\"color: #008080; text-decoration-color: #008080; font-weight: bold\">2.4158</span>\n",
       "</pre>\n"
      ],
      "text/plain": [
       "step \u001b[1;36m4200\u001b[0m: train loss \u001b[1;36m2.4366\u001b[0m, val loss \u001b[1;36m2.4158\u001b[0m\n"
      ]
     },
     "metadata": {},
     "output_type": "display_data"
    },
    {
     "data": {
      "text/html": [
       "<pre style=\"white-space:pre;overflow-x:auto;line-height:normal;font-family:Menlo,'DejaVu Sans Mono',consolas,'Courier New',monospace\">step <span style=\"color: #008080; text-decoration-color: #008080; font-weight: bold\">4500</span>: train loss <span style=\"color: #008080; text-decoration-color: #008080; font-weight: bold\">2.3975</span>, val loss <span style=\"color: #008080; text-decoration-color: #008080; font-weight: bold\">2.3997</span>\n",
       "</pre>\n"
      ],
      "text/plain": [
       "step \u001b[1;36m4500\u001b[0m: train loss \u001b[1;36m2.3975\u001b[0m, val loss \u001b[1;36m2.3997\u001b[0m\n"
      ]
     },
     "metadata": {},
     "output_type": "display_data"
    },
    {
     "data": {
      "text/html": [
       "<pre style=\"white-space:pre;overflow-x:auto;line-height:normal;font-family:Menlo,'DejaVu Sans Mono',consolas,'Courier New',monospace\">step <span style=\"color: #008080; text-decoration-color: #008080; font-weight: bold\">4800</span>: train loss <span style=\"color: #008080; text-decoration-color: #008080; font-weight: bold\">2.3576</span>, val loss <span style=\"color: #008080; text-decoration-color: #008080; font-weight: bold\">2.3640</span>\n",
       "</pre>\n"
      ],
      "text/plain": [
       "step \u001b[1;36m4800\u001b[0m: train loss \u001b[1;36m2.3576\u001b[0m, val loss \u001b[1;36m2.3640\u001b[0m\n"
      ]
     },
     "metadata": {},
     "output_type": "display_data"
    }
   ],
   "source": [
    "optimizer = torch.optim.AdamW(model.parameters(), lr=lr)\n",
    "\n",
    "for step in range(max_iters):\n",
    "\n",
    "    if step % eval_interval == 0:\n",
    "        losses = estimate_loss()\n",
    "        print(f\"step {step}: train loss {losses['train']:.4f}, val loss {losses['val']:.4f}\")\n",
    "\n",
    "    # sample a batch of data\n",
    "    xb, yb = get_batch('train')\n",
    "\n",
    "    # evaluate the loss\n",
    "    logits, loss = model(xb, yb)\n",
    "    optimizer.zero_grad(set_to_none=True)\n",
    "    loss.backward()\n",
    "    optimizer.step()"
   ]
  },
  {
   "cell_type": "code",
   "execution_count": null,
   "id": "495f8cb1",
   "metadata": {},
   "outputs": [],
   "source": [
    "class Block(nn.Module):\n",
    "    \"\"\" Transformer block: communication followed by computation \"\"\"\n",
    "    def __init__(self, n_embd, n_head):\n",
    "        # n_embd: embedding dimension, n_head: the number of heads we'd like\n",
    "        super().__init__()\n",
    "        head_size = n_embd // n_head\n",
    "        self.sa = MultiHeadAttention(n_head, head_size)\n",
    "        self.ffwd = FeedForward(n_embd)\n",
    "    \n",
    "    def forward(self, x):\n",
    "        x = x + self.sa(x)\n",
    "        x = x + self.ffwd(x)\n",
    "        return x"
   ]
  },
  {
   "cell_type": "code",
   "execution_count": null,
   "id": "5d0a9f05",
   "metadata": {},
   "outputs": [],
   "source": [
    "class BigramLanguageModel(nn.Module):\n",
    "        \n",
    "        def __init__(self):\n",
    "            super().__init__()\n",
    "            # each token directly reads off the logits for the next token from a lookup table\n",
    "            self.token_embedding_table = nn.Embedding(vocab_size, n_embd)\n",
    "            self.position_embedding_table = nn.Embedding(block_size, n_embd)\n",
    "            self.blocks = nn.Sequential(\n",
    "                Block(n_embd, n_head=4),\n",
    "                Block(n_embd, n_head=4),\n",
    "                Block(n_embd, n_head=4)\n",
    "            )\n",
    "            self.lm_head = nn.Linear(n_embd, vocab_size)\n",
    "            \n",
    "        \n",
    "            \n",
    "        "
   ]
  }
 ],
 "metadata": {
  "kernelspec": {
   "display_name": "zhnn",
   "language": "python",
   "name": "zhnn"
  }
 },
 "nbformat": 4,
 "nbformat_minor": 5
}
