{
 "cells": [
  {
   "cell_type": "markdown",
   "id": "be735037",
   "metadata": {},
   "source": [
    "# Chat GPT"
   ]
  },
  {
   "cell_type": "code",
   "execution_count": null,
   "id": "a7f0eb98",
   "metadata": {},
   "outputs": [],
   "source": [
    "#| default_exp bigram"
   ]
  },
  {
   "cell_type": "code",
   "execution_count": null,
   "id": "2b294269",
   "metadata": {},
   "outputs": [
    {
     "data": {
      "text/plain": [
       "<torch._C.Generator>"
      ]
     },
     "execution_count": null,
     "metadata": {},
     "output_type": "execute_result"
    }
   ],
   "source": [
    "#|export\n",
    "import requests\n",
    "from fastcore.all import *\n",
    "from rich import print\n",
    "import numpy\n",
    "import torch\n",
    "import torch.nn as nn\n",
    "from torch.nn import functional as F\n",
    "\n",
    "torch.manual_seed(1337)"
   ]
  },
  {
   "cell_type": "code",
   "execution_count": null,
   "id": "0affbe64",
   "metadata": {},
   "outputs": [],
   "source": [
    "#|export\n",
    "device = 'cuda' if torch.cuda.is_available() else 'cpu'"
   ]
  },
  {
   "cell_type": "markdown",
   "id": "20c195c2",
   "metadata": {},
   "source": [
    "## Read & Explore Data"
   ]
  },
  {
   "cell_type": "code",
   "execution_count": null,
   "id": "39633bf4",
   "metadata": {},
   "outputs": [],
   "source": [
    "#|export\n",
    "path = urlsave('https://raw.githubusercontent.com/karpathy/char-rnn/master/data/tinyshakespeare/input.txt', '../data/input.txt')"
   ]
  },
  {
   "cell_type": "code",
   "execution_count": null,
   "id": "5b9771cf",
   "metadata": {},
   "outputs": [],
   "source": [
    "#|export\n",
    "text = path.read_text(encoding='utf-8')"
   ]
  },
  {
   "cell_type": "code",
   "execution_count": null,
   "id": "f710557a",
   "metadata": {},
   "outputs": [
    {
     "data": {
      "text/html": [
       "<pre style=\"white-space:pre;overflow-x:auto;line-height:normal;font-family:Menlo,'DejaVu Sans Mono',consolas,'Courier New',monospace\">Length of the dataset  <span style=\"color: #008080; text-decoration-color: #008080; font-weight: bold\">1115394</span>\n",
       "</pre>\n"
      ],
      "text/plain": [
       "Length of the dataset  \u001b[1;36m1115394\u001b[0m\n"
      ]
     },
     "metadata": {},
     "output_type": "display_data"
    }
   ],
   "source": [
    "print(\"Length of the dataset \", len(text))"
   ]
  },
  {
   "cell_type": "code",
   "execution_count": null,
   "id": "5957c556",
   "metadata": {},
   "outputs": [
    {
     "data": {
      "text/html": [
       "<pre style=\"white-space:pre;overflow-x:auto;line-height:normal;font-family:Menlo,'DejaVu Sans Mono',consolas,'Courier New',monospace\">First Citizen:\n",
       "Before we proceed any further, hear me speak.\n",
       "\n",
       "All:\n",
       "Speak, speak.\n",
       "\n",
       "First Citizen:\n",
       "You are all resolved rather to die than to famish?\n",
       "\n",
       "All:\n",
       "Resolved. resolved.\n",
       "\n",
       "First Citizen:\n",
       "First, you know Caius Marcius is chief enemy to the people.\n",
       "\n",
       "All:\n",
       "We know't, we know't.\n",
       "\n",
       "First Citizen:\n",
       "Let us kill him, and we'll have corn at our own price.\n",
       "Is't a verdict?\n",
       "\n",
       "All:\n",
       "No more talking on't; let it be done: away, away!\n",
       "\n",
       "Second Citizen:\n",
       "One word, good citizens.\n",
       "\n",
       "First Citizen:\n",
       "We are accounted poor citizens, the patricians good.\n",
       "What authority surfeits on would relieve us: if they\n",
       "would yield us but the superfluity, while it were\n",
       "wholesome, we might guess they relieved us humanely;\n",
       "but they think we are too dear: the leanness that\n",
       "afflicts us, the object of our misery, is as an\n",
       "inventory to particularise their abundance; our\n",
       "sufferance is a gain to them Let us revenge this with\n",
       "our pikes, ere we become rakes: for the gods know I\n",
       "speak this in hunger for bread, not in thirst for revenge.\n",
       "\n",
       "\n",
       "</pre>\n"
      ],
      "text/plain": [
       "First Citizen:\n",
       "Before we proceed any further, hear me speak.\n",
       "\n",
       "All:\n",
       "Speak, speak.\n",
       "\n",
       "First Citizen:\n",
       "You are all resolved rather to die than to famish?\n",
       "\n",
       "All:\n",
       "Resolved. resolved.\n",
       "\n",
       "First Citizen:\n",
       "First, you know Caius Marcius is chief enemy to the people.\n",
       "\n",
       "All:\n",
       "We know't, we know't.\n",
       "\n",
       "First Citizen:\n",
       "Let us kill him, and we'll have corn at our own price.\n",
       "Is't a verdict?\n",
       "\n",
       "All:\n",
       "No more talking on't; let it be done: away, away!\n",
       "\n",
       "Second Citizen:\n",
       "One word, good citizens.\n",
       "\n",
       "First Citizen:\n",
       "We are accounted poor citizens, the patricians good.\n",
       "What authority surfeits on would relieve us: if they\n",
       "would yield us but the superfluity, while it were\n",
       "wholesome, we might guess they relieved us humanely;\n",
       "but they think we are too dear: the leanness that\n",
       "afflicts us, the object of our misery, is as an\n",
       "inventory to particularise their abundance; our\n",
       "sufferance is a gain to them Let us revenge this with\n",
       "our pikes, ere we become rakes: for the gods know I\n",
       "speak this in hunger for bread, not in thirst for revenge.\n",
       "\n",
       "\n"
      ]
     },
     "metadata": {},
     "output_type": "display_data"
    }
   ],
   "source": [
    "# lets look at the first 1000 characters \n",
    "print(text[:1000])"
   ]
  },
  {
   "cell_type": "markdown",
   "id": "6fd69787",
   "metadata": {},
   "source": [
    "## Tokenization"
   ]
  },
  {
   "cell_type": "code",
   "execution_count": null,
   "id": "6205b239",
   "metadata": {},
   "outputs": [],
   "source": [
    "#|export\n",
    "chars = L(set(text)).sorted()\n",
    "vocab_size = len(chars)"
   ]
  },
  {
   "cell_type": "code",
   "execution_count": null,
   "id": "41600542",
   "metadata": {},
   "outputs": [
    {
     "data": {
      "text/html": [
       "<pre style=\"white-space:pre;overflow-x:auto;line-height:normal;font-family:Menlo,'DejaVu Sans Mono',consolas,'Courier New',monospace\">\n",
       " !$&amp;',-.<span style=\"color: #008080; text-decoration-color: #008080; font-weight: bold\">3</span>:;?ABCDEFGHIJKLMNOPQRSTUVWXYZabcdefghijklmnopqrstuvwxyz <span style=\"color: #008080; text-decoration-color: #008080; font-weight: bold\">65</span>\n",
       "</pre>\n"
      ],
      "text/plain": [
       "\n",
       " !$&',-.\u001b[1;36m3\u001b[0m:;?ABCDEFGHIJKLMNOPQRSTUVWXYZabcdefghijklmnopqrstuvwxyz \u001b[1;36m65\u001b[0m\n"
      ]
     },
     "metadata": {},
     "output_type": "display_data"
    }
   ],
   "source": [
    "print(''.join(chars), vocab_size)"
   ]
  },
  {
   "cell_type": "code",
   "execution_count": null,
   "id": "aa3aa6e3",
   "metadata": {},
   "outputs": [],
   "source": [
    "#|export\n",
    "stoi = {ch: i for i, ch in enumerate(chars)}\n",
    "itos = dict(map(reversed, stoi.items()))\n",
    "encode = lambda s: [stoi[c] for c in s] # encoder: take a string, output a list of integers\n",
    "decode = lambda l: ''.join([itos[i] for i in l]) # decoder: take a list of integers, output a string"
   ]
  },
  {
   "cell_type": "code",
   "execution_count": null,
   "id": "59a41c82",
   "metadata": {},
   "outputs": [
    {
     "data": {
      "text/html": [
       "<pre style=\"white-space:pre;overflow-x:auto;line-height:normal;font-family:Menlo,'DejaVu Sans Mono',consolas,'Courier New',monospace\"><span style=\"font-weight: bold\">[</span><span style=\"color: #008080; text-decoration-color: #008080; font-weight: bold\">46</span>, <span style=\"color: #008080; text-decoration-color: #008080; font-weight: bold\">47</span>, <span style=\"color: #008080; text-decoration-color: #008080; font-weight: bold\">47</span>, <span style=\"color: #008080; text-decoration-color: #008080; font-weight: bold\">1</span>, <span style=\"color: #008080; text-decoration-color: #008080; font-weight: bold\">58</span>, <span style=\"color: #008080; text-decoration-color: #008080; font-weight: bold\">46</span>, <span style=\"color: #008080; text-decoration-color: #008080; font-weight: bold\">43</span>, <span style=\"color: #008080; text-decoration-color: #008080; font-weight: bold\">56</span>, <span style=\"color: #008080; text-decoration-color: #008080; font-weight: bold\">43</span><span style=\"font-weight: bold\">]</span>\n",
       "</pre>\n"
      ],
      "text/plain": [
       "\u001b[1m[\u001b[0m\u001b[1;36m46\u001b[0m, \u001b[1;36m47\u001b[0m, \u001b[1;36m47\u001b[0m, \u001b[1;36m1\u001b[0m, \u001b[1;36m58\u001b[0m, \u001b[1;36m46\u001b[0m, \u001b[1;36m43\u001b[0m, \u001b[1;36m56\u001b[0m, \u001b[1;36m43\u001b[0m\u001b[1m]\u001b[0m\n"
      ]
     },
     "metadata": {},
     "output_type": "display_data"
    },
    {
     "data": {
      "text/html": [
       "<pre style=\"white-space:pre;overflow-x:auto;line-height:normal;font-family:Menlo,'DejaVu Sans Mono',consolas,'Courier New',monospace\">hii there\n",
       "</pre>\n"
      ],
      "text/plain": [
       "hii there\n"
      ]
     },
     "metadata": {},
     "output_type": "display_data"
    }
   ],
   "source": [
    "print(encode(\"hii there\"))\n",
    "print(decode(encode(\"hii there\")))"
   ]
  },
  {
   "cell_type": "code",
   "execution_count": null,
   "id": "3cfd056d",
   "metadata": {},
   "outputs": [],
   "source": [
    "#|export\n",
    "# lets now encode the entire text dataset and store it into a torch.Tensor\n",
    "data = torch.tensor(encode(text), dtype=torch.long)"
   ]
  },
  {
   "cell_type": "code",
   "execution_count": null,
   "id": "6313c5e6",
   "metadata": {},
   "outputs": [
    {
     "data": {
      "text/html": [
       "<pre style=\"white-space:pre;overflow-x:auto;line-height:normal;font-family:Menlo,'DejaVu Sans Mono',consolas,'Courier New',monospace\"><span style=\"color: #800080; text-decoration-color: #800080; font-weight: bold\">torch.Size</span><span style=\"font-weight: bold\">([</span><span style=\"color: #008080; text-decoration-color: #008080; font-weight: bold\">1115394</span><span style=\"font-weight: bold\">])</span>\n",
       "torch.int64\n",
       "</pre>\n"
      ],
      "text/plain": [
       "\u001b[1;35mtorch.Size\u001b[0m\u001b[1m(\u001b[0m\u001b[1m[\u001b[0m\u001b[1;36m1115394\u001b[0m\u001b[1m]\u001b[0m\u001b[1m)\u001b[0m\n",
       "torch.int64\n"
      ]
     },
     "metadata": {},
     "output_type": "display_data"
    },
    {
     "data": {
      "text/html": [
       "<pre style=\"white-space:pre;overflow-x:auto;line-height:normal;font-family:Menlo,'DejaVu Sans Mono',consolas,'Courier New',monospace\"><span style=\"color: #800080; text-decoration-color: #800080; font-weight: bold\">tensor</span><span style=\"font-weight: bold\">([</span><span style=\"color: #008080; text-decoration-color: #008080; font-weight: bold\">18</span>, <span style=\"color: #008080; text-decoration-color: #008080; font-weight: bold\">47</span>, <span style=\"color: #008080; text-decoration-color: #008080; font-weight: bold\">56</span>, <span style=\"color: #008080; text-decoration-color: #008080; font-weight: bold\">57</span>, <span style=\"color: #008080; text-decoration-color: #008080; font-weight: bold\">58</span>,  <span style=\"color: #008080; text-decoration-color: #008080; font-weight: bold\">1</span>, <span style=\"color: #008080; text-decoration-color: #008080; font-weight: bold\">15</span>, <span style=\"color: #008080; text-decoration-color: #008080; font-weight: bold\">47</span>, <span style=\"color: #008080; text-decoration-color: #008080; font-weight: bold\">58</span>, <span style=\"color: #008080; text-decoration-color: #008080; font-weight: bold\">47</span>, <span style=\"color: #008080; text-decoration-color: #008080; font-weight: bold\">64</span>, <span style=\"color: #008080; text-decoration-color: #008080; font-weight: bold\">43</span>, <span style=\"color: #008080; text-decoration-color: #008080; font-weight: bold\">52</span>, <span style=\"color: #008080; text-decoration-color: #008080; font-weight: bold\">10</span>,  <span style=\"color: #008080; text-decoration-color: #008080; font-weight: bold\">0</span>, <span style=\"color: #008080; text-decoration-color: #008080; font-weight: bold\">14</span>, <span style=\"color: #008080; text-decoration-color: #008080; font-weight: bold\">43</span>, <span style=\"color: #008080; text-decoration-color: #008080; font-weight: bold\">44</span>,\n",
       "        <span style=\"color: #008080; text-decoration-color: #008080; font-weight: bold\">53</span>, <span style=\"color: #008080; text-decoration-color: #008080; font-weight: bold\">56</span>, <span style=\"color: #008080; text-decoration-color: #008080; font-weight: bold\">43</span>,  <span style=\"color: #008080; text-decoration-color: #008080; font-weight: bold\">1</span>, <span style=\"color: #008080; text-decoration-color: #008080; font-weight: bold\">61</span>, <span style=\"color: #008080; text-decoration-color: #008080; font-weight: bold\">43</span>,  <span style=\"color: #008080; text-decoration-color: #008080; font-weight: bold\">1</span>, <span style=\"color: #008080; text-decoration-color: #008080; font-weight: bold\">54</span>, <span style=\"color: #008080; text-decoration-color: #008080; font-weight: bold\">56</span>, <span style=\"color: #008080; text-decoration-color: #008080; font-weight: bold\">53</span>, <span style=\"color: #008080; text-decoration-color: #008080; font-weight: bold\">41</span>, <span style=\"color: #008080; text-decoration-color: #008080; font-weight: bold\">43</span>, <span style=\"color: #008080; text-decoration-color: #008080; font-weight: bold\">43</span>, <span style=\"color: #008080; text-decoration-color: #008080; font-weight: bold\">42</span>,  <span style=\"color: #008080; text-decoration-color: #008080; font-weight: bold\">1</span>, <span style=\"color: #008080; text-decoration-color: #008080; font-weight: bold\">39</span>, <span style=\"color: #008080; text-decoration-color: #008080; font-weight: bold\">52</span>, <span style=\"color: #008080; text-decoration-color: #008080; font-weight: bold\">63</span>,\n",
       "         <span style=\"color: #008080; text-decoration-color: #008080; font-weight: bold\">1</span>, <span style=\"color: #008080; text-decoration-color: #008080; font-weight: bold\">44</span>, <span style=\"color: #008080; text-decoration-color: #008080; font-weight: bold\">59</span>, <span style=\"color: #008080; text-decoration-color: #008080; font-weight: bold\">56</span>, <span style=\"color: #008080; text-decoration-color: #008080; font-weight: bold\">58</span>, <span style=\"color: #008080; text-decoration-color: #008080; font-weight: bold\">46</span>, <span style=\"color: #008080; text-decoration-color: #008080; font-weight: bold\">43</span>, <span style=\"color: #008080; text-decoration-color: #008080; font-weight: bold\">56</span>,  <span style=\"color: #008080; text-decoration-color: #008080; font-weight: bold\">6</span>,  <span style=\"color: #008080; text-decoration-color: #008080; font-weight: bold\">1</span>, <span style=\"color: #008080; text-decoration-color: #008080; font-weight: bold\">46</span>, <span style=\"color: #008080; text-decoration-color: #008080; font-weight: bold\">43</span>, <span style=\"color: #008080; text-decoration-color: #008080; font-weight: bold\">39</span>, <span style=\"color: #008080; text-decoration-color: #008080; font-weight: bold\">56</span>,  <span style=\"color: #008080; text-decoration-color: #008080; font-weight: bold\">1</span>, <span style=\"color: #008080; text-decoration-color: #008080; font-weight: bold\">51</span>, <span style=\"color: #008080; text-decoration-color: #008080; font-weight: bold\">43</span>,  <span style=\"color: #008080; text-decoration-color: #008080; font-weight: bold\">1</span>,\n",
       "        <span style=\"color: #008080; text-decoration-color: #008080; font-weight: bold\">57</span>, <span style=\"color: #008080; text-decoration-color: #008080; font-weight: bold\">54</span>, <span style=\"color: #008080; text-decoration-color: #008080; font-weight: bold\">43</span>, <span style=\"color: #008080; text-decoration-color: #008080; font-weight: bold\">39</span>, <span style=\"color: #008080; text-decoration-color: #008080; font-weight: bold\">49</span>,  <span style=\"color: #008080; text-decoration-color: #008080; font-weight: bold\">8</span>,  <span style=\"color: #008080; text-decoration-color: #008080; font-weight: bold\">0</span>,  <span style=\"color: #008080; text-decoration-color: #008080; font-weight: bold\">0</span>, <span style=\"color: #008080; text-decoration-color: #008080; font-weight: bold\">13</span>, <span style=\"color: #008080; text-decoration-color: #008080; font-weight: bold\">50</span>, <span style=\"color: #008080; text-decoration-color: #008080; font-weight: bold\">50</span>, <span style=\"color: #008080; text-decoration-color: #008080; font-weight: bold\">10</span>,  <span style=\"color: #008080; text-decoration-color: #008080; font-weight: bold\">0</span>, <span style=\"color: #008080; text-decoration-color: #008080; font-weight: bold\">31</span>, <span style=\"color: #008080; text-decoration-color: #008080; font-weight: bold\">54</span>, <span style=\"color: #008080; text-decoration-color: #008080; font-weight: bold\">43</span>, <span style=\"color: #008080; text-decoration-color: #008080; font-weight: bold\">39</span>, <span style=\"color: #008080; text-decoration-color: #008080; font-weight: bold\">49</span>,\n",
       "         <span style=\"color: #008080; text-decoration-color: #008080; font-weight: bold\">6</span>,  <span style=\"color: #008080; text-decoration-color: #008080; font-weight: bold\">1</span>, <span style=\"color: #008080; text-decoration-color: #008080; font-weight: bold\">57</span>, <span style=\"color: #008080; text-decoration-color: #008080; font-weight: bold\">54</span>, <span style=\"color: #008080; text-decoration-color: #008080; font-weight: bold\">43</span>, <span style=\"color: #008080; text-decoration-color: #008080; font-weight: bold\">39</span>, <span style=\"color: #008080; text-decoration-color: #008080; font-weight: bold\">49</span>,  <span style=\"color: #008080; text-decoration-color: #008080; font-weight: bold\">8</span>,  <span style=\"color: #008080; text-decoration-color: #008080; font-weight: bold\">0</span>,  <span style=\"color: #008080; text-decoration-color: #008080; font-weight: bold\">0</span>, <span style=\"color: #008080; text-decoration-color: #008080; font-weight: bold\">18</span>, <span style=\"color: #008080; text-decoration-color: #008080; font-weight: bold\">47</span>, <span style=\"color: #008080; text-decoration-color: #008080; font-weight: bold\">56</span>, <span style=\"color: #008080; text-decoration-color: #008080; font-weight: bold\">57</span>, <span style=\"color: #008080; text-decoration-color: #008080; font-weight: bold\">58</span>,  <span style=\"color: #008080; text-decoration-color: #008080; font-weight: bold\">1</span>, <span style=\"color: #008080; text-decoration-color: #008080; font-weight: bold\">15</span>, <span style=\"color: #008080; text-decoration-color: #008080; font-weight: bold\">47</span>,\n",
       "        <span style=\"color: #008080; text-decoration-color: #008080; font-weight: bold\">58</span>, <span style=\"color: #008080; text-decoration-color: #008080; font-weight: bold\">47</span>, <span style=\"color: #008080; text-decoration-color: #008080; font-weight: bold\">64</span>, <span style=\"color: #008080; text-decoration-color: #008080; font-weight: bold\">43</span>, <span style=\"color: #008080; text-decoration-color: #008080; font-weight: bold\">52</span>, <span style=\"color: #008080; text-decoration-color: #008080; font-weight: bold\">10</span>,  <span style=\"color: #008080; text-decoration-color: #008080; font-weight: bold\">0</span>, <span style=\"color: #008080; text-decoration-color: #008080; font-weight: bold\">37</span>, <span style=\"color: #008080; text-decoration-color: #008080; font-weight: bold\">53</span>, <span style=\"color: #008080; text-decoration-color: #008080; font-weight: bold\">59</span>,  <span style=\"color: #008080; text-decoration-color: #008080; font-weight: bold\">1</span>, <span style=\"color: #008080; text-decoration-color: #008080; font-weight: bold\">39</span>, <span style=\"color: #008080; text-decoration-color: #008080; font-weight: bold\">56</span>, <span style=\"color: #008080; text-decoration-color: #008080; font-weight: bold\">43</span>,  <span style=\"color: #008080; text-decoration-color: #008080; font-weight: bold\">1</span>, <span style=\"color: #008080; text-decoration-color: #008080; font-weight: bold\">39</span>, <span style=\"color: #008080; text-decoration-color: #008080; font-weight: bold\">50</span>, <span style=\"color: #008080; text-decoration-color: #008080; font-weight: bold\">50</span>,\n",
       "         <span style=\"color: #008080; text-decoration-color: #008080; font-weight: bold\">1</span>, <span style=\"color: #008080; text-decoration-color: #008080; font-weight: bold\">56</span>, <span style=\"color: #008080; text-decoration-color: #008080; font-weight: bold\">43</span>, <span style=\"color: #008080; text-decoration-color: #008080; font-weight: bold\">57</span>, <span style=\"color: #008080; text-decoration-color: #008080; font-weight: bold\">53</span>, <span style=\"color: #008080; text-decoration-color: #008080; font-weight: bold\">50</span>, <span style=\"color: #008080; text-decoration-color: #008080; font-weight: bold\">60</span>, <span style=\"color: #008080; text-decoration-color: #008080; font-weight: bold\">43</span>, <span style=\"color: #008080; text-decoration-color: #008080; font-weight: bold\">42</span>,  <span style=\"color: #008080; text-decoration-color: #008080; font-weight: bold\">1</span>, <span style=\"color: #008080; text-decoration-color: #008080; font-weight: bold\">56</span>, <span style=\"color: #008080; text-decoration-color: #008080; font-weight: bold\">39</span>, <span style=\"color: #008080; text-decoration-color: #008080; font-weight: bold\">58</span>, <span style=\"color: #008080; text-decoration-color: #008080; font-weight: bold\">46</span>, <span style=\"color: #008080; text-decoration-color: #008080; font-weight: bold\">43</span>, <span style=\"color: #008080; text-decoration-color: #008080; font-weight: bold\">56</span>,  <span style=\"color: #008080; text-decoration-color: #008080; font-weight: bold\">1</span>, <span style=\"color: #008080; text-decoration-color: #008080; font-weight: bold\">58</span>,\n",
       "        <span style=\"color: #008080; text-decoration-color: #008080; font-weight: bold\">53</span>,  <span style=\"color: #008080; text-decoration-color: #008080; font-weight: bold\">1</span>, <span style=\"color: #008080; text-decoration-color: #008080; font-weight: bold\">42</span>, <span style=\"color: #008080; text-decoration-color: #008080; font-weight: bold\">47</span>, <span style=\"color: #008080; text-decoration-color: #008080; font-weight: bold\">43</span>,  <span style=\"color: #008080; text-decoration-color: #008080; font-weight: bold\">1</span>, <span style=\"color: #008080; text-decoration-color: #008080; font-weight: bold\">58</span>, <span style=\"color: #008080; text-decoration-color: #008080; font-weight: bold\">46</span>, <span style=\"color: #008080; text-decoration-color: #008080; font-weight: bold\">39</span>, <span style=\"color: #008080; text-decoration-color: #008080; font-weight: bold\">52</span>,  <span style=\"color: #008080; text-decoration-color: #008080; font-weight: bold\">1</span>, <span style=\"color: #008080; text-decoration-color: #008080; font-weight: bold\">58</span>, <span style=\"color: #008080; text-decoration-color: #008080; font-weight: bold\">53</span>,  <span style=\"color: #008080; text-decoration-color: #008080; font-weight: bold\">1</span>, <span style=\"color: #008080; text-decoration-color: #008080; font-weight: bold\">44</span>, <span style=\"color: #008080; text-decoration-color: #008080; font-weight: bold\">39</span>, <span style=\"color: #008080; text-decoration-color: #008080; font-weight: bold\">51</span>, <span style=\"color: #008080; text-decoration-color: #008080; font-weight: bold\">47</span>,\n",
       "        <span style=\"color: #008080; text-decoration-color: #008080; font-weight: bold\">57</span>, <span style=\"color: #008080; text-decoration-color: #008080; font-weight: bold\">46</span>, <span style=\"color: #008080; text-decoration-color: #008080; font-weight: bold\">12</span>,  <span style=\"color: #008080; text-decoration-color: #008080; font-weight: bold\">0</span>,  <span style=\"color: #008080; text-decoration-color: #008080; font-weight: bold\">0</span>, <span style=\"color: #008080; text-decoration-color: #008080; font-weight: bold\">13</span>, <span style=\"color: #008080; text-decoration-color: #008080; font-weight: bold\">50</span>, <span style=\"color: #008080; text-decoration-color: #008080; font-weight: bold\">50</span>, <span style=\"color: #008080; text-decoration-color: #008080; font-weight: bold\">10</span>,  <span style=\"color: #008080; text-decoration-color: #008080; font-weight: bold\">0</span>, <span style=\"color: #008080; text-decoration-color: #008080; font-weight: bold\">30</span>, <span style=\"color: #008080; text-decoration-color: #008080; font-weight: bold\">43</span>, <span style=\"color: #008080; text-decoration-color: #008080; font-weight: bold\">57</span>, <span style=\"color: #008080; text-decoration-color: #008080; font-weight: bold\">53</span>, <span style=\"color: #008080; text-decoration-color: #008080; font-weight: bold\">50</span>, <span style=\"color: #008080; text-decoration-color: #008080; font-weight: bold\">60</span>, <span style=\"color: #008080; text-decoration-color: #008080; font-weight: bold\">43</span>, <span style=\"color: #008080; text-decoration-color: #008080; font-weight: bold\">42</span>,\n",
       "         <span style=\"color: #008080; text-decoration-color: #008080; font-weight: bold\">8</span>,  <span style=\"color: #008080; text-decoration-color: #008080; font-weight: bold\">1</span>, <span style=\"color: #008080; text-decoration-color: #008080; font-weight: bold\">56</span>, <span style=\"color: #008080; text-decoration-color: #008080; font-weight: bold\">43</span>, <span style=\"color: #008080; text-decoration-color: #008080; font-weight: bold\">57</span>, <span style=\"color: #008080; text-decoration-color: #008080; font-weight: bold\">53</span>, <span style=\"color: #008080; text-decoration-color: #008080; font-weight: bold\">50</span>, <span style=\"color: #008080; text-decoration-color: #008080; font-weight: bold\">60</span>, <span style=\"color: #008080; text-decoration-color: #008080; font-weight: bold\">43</span>, <span style=\"color: #008080; text-decoration-color: #008080; font-weight: bold\">42</span>,  <span style=\"color: #008080; text-decoration-color: #008080; font-weight: bold\">8</span>,  <span style=\"color: #008080; text-decoration-color: #008080; font-weight: bold\">0</span>,  <span style=\"color: #008080; text-decoration-color: #008080; font-weight: bold\">0</span>, <span style=\"color: #008080; text-decoration-color: #008080; font-weight: bold\">18</span>, <span style=\"color: #008080; text-decoration-color: #008080; font-weight: bold\">47</span>, <span style=\"color: #008080; text-decoration-color: #008080; font-weight: bold\">56</span>, <span style=\"color: #008080; text-decoration-color: #008080; font-weight: bold\">57</span>, <span style=\"color: #008080; text-decoration-color: #008080; font-weight: bold\">58</span>,\n",
       "         <span style=\"color: #008080; text-decoration-color: #008080; font-weight: bold\">1</span>, <span style=\"color: #008080; text-decoration-color: #008080; font-weight: bold\">15</span>, <span style=\"color: #008080; text-decoration-color: #008080; font-weight: bold\">47</span>, <span style=\"color: #008080; text-decoration-color: #008080; font-weight: bold\">58</span>, <span style=\"color: #008080; text-decoration-color: #008080; font-weight: bold\">47</span>, <span style=\"color: #008080; text-decoration-color: #008080; font-weight: bold\">64</span>, <span style=\"color: #008080; text-decoration-color: #008080; font-weight: bold\">43</span>, <span style=\"color: #008080; text-decoration-color: #008080; font-weight: bold\">52</span>, <span style=\"color: #008080; text-decoration-color: #008080; font-weight: bold\">10</span>,  <span style=\"color: #008080; text-decoration-color: #008080; font-weight: bold\">0</span>, <span style=\"color: #008080; text-decoration-color: #008080; font-weight: bold\">18</span>, <span style=\"color: #008080; text-decoration-color: #008080; font-weight: bold\">47</span>, <span style=\"color: #008080; text-decoration-color: #008080; font-weight: bold\">56</span>, <span style=\"color: #008080; text-decoration-color: #008080; font-weight: bold\">57</span>, <span style=\"color: #008080; text-decoration-color: #008080; font-weight: bold\">58</span>,  <span style=\"color: #008080; text-decoration-color: #008080; font-weight: bold\">6</span>,  <span style=\"color: #008080; text-decoration-color: #008080; font-weight: bold\">1</span>, <span style=\"color: #008080; text-decoration-color: #008080; font-weight: bold\">63</span>,\n",
       "        <span style=\"color: #008080; text-decoration-color: #008080; font-weight: bold\">53</span>, <span style=\"color: #008080; text-decoration-color: #008080; font-weight: bold\">59</span>,  <span style=\"color: #008080; text-decoration-color: #008080; font-weight: bold\">1</span>, <span style=\"color: #008080; text-decoration-color: #008080; font-weight: bold\">49</span>, <span style=\"color: #008080; text-decoration-color: #008080; font-weight: bold\">52</span>, <span style=\"color: #008080; text-decoration-color: #008080; font-weight: bold\">53</span>, <span style=\"color: #008080; text-decoration-color: #008080; font-weight: bold\">61</span>,  <span style=\"color: #008080; text-decoration-color: #008080; font-weight: bold\">1</span>, <span style=\"color: #008080; text-decoration-color: #008080; font-weight: bold\">15</span>, <span style=\"color: #008080; text-decoration-color: #008080; font-weight: bold\">39</span>, <span style=\"color: #008080; text-decoration-color: #008080; font-weight: bold\">47</span>, <span style=\"color: #008080; text-decoration-color: #008080; font-weight: bold\">59</span>, <span style=\"color: #008080; text-decoration-color: #008080; font-weight: bold\">57</span>,  <span style=\"color: #008080; text-decoration-color: #008080; font-weight: bold\">1</span>, <span style=\"color: #008080; text-decoration-color: #008080; font-weight: bold\">25</span>, <span style=\"color: #008080; text-decoration-color: #008080; font-weight: bold\">39</span>, <span style=\"color: #008080; text-decoration-color: #008080; font-weight: bold\">56</span>, <span style=\"color: #008080; text-decoration-color: #008080; font-weight: bold\">41</span>,\n",
       "        <span style=\"color: #008080; text-decoration-color: #008080; font-weight: bold\">47</span>, <span style=\"color: #008080; text-decoration-color: #008080; font-weight: bold\">59</span>, <span style=\"color: #008080; text-decoration-color: #008080; font-weight: bold\">57</span>,  <span style=\"color: #008080; text-decoration-color: #008080; font-weight: bold\">1</span>, <span style=\"color: #008080; text-decoration-color: #008080; font-weight: bold\">47</span>, <span style=\"color: #008080; text-decoration-color: #008080; font-weight: bold\">57</span>,  <span style=\"color: #008080; text-decoration-color: #008080; font-weight: bold\">1</span>, <span style=\"color: #008080; text-decoration-color: #008080; font-weight: bold\">41</span>, <span style=\"color: #008080; text-decoration-color: #008080; font-weight: bold\">46</span>, <span style=\"color: #008080; text-decoration-color: #008080; font-weight: bold\">47</span>, <span style=\"color: #008080; text-decoration-color: #008080; font-weight: bold\">43</span>, <span style=\"color: #008080; text-decoration-color: #008080; font-weight: bold\">44</span>,  <span style=\"color: #008080; text-decoration-color: #008080; font-weight: bold\">1</span>, <span style=\"color: #008080; text-decoration-color: #008080; font-weight: bold\">43</span>, <span style=\"color: #008080; text-decoration-color: #008080; font-weight: bold\">52</span>, <span style=\"color: #008080; text-decoration-color: #008080; font-weight: bold\">43</span>, <span style=\"color: #008080; text-decoration-color: #008080; font-weight: bold\">51</span>, <span style=\"color: #008080; text-decoration-color: #008080; font-weight: bold\">63</span>,\n",
       "         <span style=\"color: #008080; text-decoration-color: #008080; font-weight: bold\">1</span>, <span style=\"color: #008080; text-decoration-color: #008080; font-weight: bold\">58</span>, <span style=\"color: #008080; text-decoration-color: #008080; font-weight: bold\">53</span>,  <span style=\"color: #008080; text-decoration-color: #008080; font-weight: bold\">1</span>, <span style=\"color: #008080; text-decoration-color: #008080; font-weight: bold\">58</span>, <span style=\"color: #008080; text-decoration-color: #008080; font-weight: bold\">46</span>, <span style=\"color: #008080; text-decoration-color: #008080; font-weight: bold\">43</span>,  <span style=\"color: #008080; text-decoration-color: #008080; font-weight: bold\">1</span>, <span style=\"color: #008080; text-decoration-color: #008080; font-weight: bold\">54</span>, <span style=\"color: #008080; text-decoration-color: #008080; font-weight: bold\">43</span>, <span style=\"color: #008080; text-decoration-color: #008080; font-weight: bold\">53</span>, <span style=\"color: #008080; text-decoration-color: #008080; font-weight: bold\">54</span>, <span style=\"color: #008080; text-decoration-color: #008080; font-weight: bold\">50</span>, <span style=\"color: #008080; text-decoration-color: #008080; font-weight: bold\">43</span>,  <span style=\"color: #008080; text-decoration-color: #008080; font-weight: bold\">8</span>,  <span style=\"color: #008080; text-decoration-color: #008080; font-weight: bold\">0</span>,  <span style=\"color: #008080; text-decoration-color: #008080; font-weight: bold\">0</span>, <span style=\"color: #008080; text-decoration-color: #008080; font-weight: bold\">13</span>,\n",
       "        <span style=\"color: #008080; text-decoration-color: #008080; font-weight: bold\">50</span>, <span style=\"color: #008080; text-decoration-color: #008080; font-weight: bold\">50</span>, <span style=\"color: #008080; text-decoration-color: #008080; font-weight: bold\">10</span>,  <span style=\"color: #008080; text-decoration-color: #008080; font-weight: bold\">0</span>, <span style=\"color: #008080; text-decoration-color: #008080; font-weight: bold\">35</span>, <span style=\"color: #008080; text-decoration-color: #008080; font-weight: bold\">43</span>,  <span style=\"color: #008080; text-decoration-color: #008080; font-weight: bold\">1</span>, <span style=\"color: #008080; text-decoration-color: #008080; font-weight: bold\">49</span>, <span style=\"color: #008080; text-decoration-color: #008080; font-weight: bold\">52</span>, <span style=\"color: #008080; text-decoration-color: #008080; font-weight: bold\">53</span>, <span style=\"color: #008080; text-decoration-color: #008080; font-weight: bold\">61</span>,  <span style=\"color: #008080; text-decoration-color: #008080; font-weight: bold\">5</span>, <span style=\"color: #008080; text-decoration-color: #008080; font-weight: bold\">58</span>,  <span style=\"color: #008080; text-decoration-color: #008080; font-weight: bold\">6</span>,  <span style=\"color: #008080; text-decoration-color: #008080; font-weight: bold\">1</span>, <span style=\"color: #008080; text-decoration-color: #008080; font-weight: bold\">61</span>, <span style=\"color: #008080; text-decoration-color: #008080; font-weight: bold\">43</span>,  <span style=\"color: #008080; text-decoration-color: #008080; font-weight: bold\">1</span>,\n",
       "        <span style=\"color: #008080; text-decoration-color: #008080; font-weight: bold\">49</span>, <span style=\"color: #008080; text-decoration-color: #008080; font-weight: bold\">52</span>, <span style=\"color: #008080; text-decoration-color: #008080; font-weight: bold\">53</span>, <span style=\"color: #008080; text-decoration-color: #008080; font-weight: bold\">61</span>,  <span style=\"color: #008080; text-decoration-color: #008080; font-weight: bold\">5</span>, <span style=\"color: #008080; text-decoration-color: #008080; font-weight: bold\">58</span>,  <span style=\"color: #008080; text-decoration-color: #008080; font-weight: bold\">8</span>,  <span style=\"color: #008080; text-decoration-color: #008080; font-weight: bold\">0</span>,  <span style=\"color: #008080; text-decoration-color: #008080; font-weight: bold\">0</span>, <span style=\"color: #008080; text-decoration-color: #008080; font-weight: bold\">18</span>, <span style=\"color: #008080; text-decoration-color: #008080; font-weight: bold\">47</span>, <span style=\"color: #008080; text-decoration-color: #008080; font-weight: bold\">56</span>, <span style=\"color: #008080; text-decoration-color: #008080; font-weight: bold\">57</span>, <span style=\"color: #008080; text-decoration-color: #008080; font-weight: bold\">58</span>,  <span style=\"color: #008080; text-decoration-color: #008080; font-weight: bold\">1</span>, <span style=\"color: #008080; text-decoration-color: #008080; font-weight: bold\">15</span>, <span style=\"color: #008080; text-decoration-color: #008080; font-weight: bold\">47</span>, <span style=\"color: #008080; text-decoration-color: #008080; font-weight: bold\">58</span>,\n",
       "        <span style=\"color: #008080; text-decoration-color: #008080; font-weight: bold\">47</span>, <span style=\"color: #008080; text-decoration-color: #008080; font-weight: bold\">64</span>, <span style=\"color: #008080; text-decoration-color: #008080; font-weight: bold\">43</span>, <span style=\"color: #008080; text-decoration-color: #008080; font-weight: bold\">52</span>, <span style=\"color: #008080; text-decoration-color: #008080; font-weight: bold\">10</span>,  <span style=\"color: #008080; text-decoration-color: #008080; font-weight: bold\">0</span>, <span style=\"color: #008080; text-decoration-color: #008080; font-weight: bold\">24</span>, <span style=\"color: #008080; text-decoration-color: #008080; font-weight: bold\">43</span>, <span style=\"color: #008080; text-decoration-color: #008080; font-weight: bold\">58</span>,  <span style=\"color: #008080; text-decoration-color: #008080; font-weight: bold\">1</span>, <span style=\"color: #008080; text-decoration-color: #008080; font-weight: bold\">59</span>, <span style=\"color: #008080; text-decoration-color: #008080; font-weight: bold\">57</span>,  <span style=\"color: #008080; text-decoration-color: #008080; font-weight: bold\">1</span>, <span style=\"color: #008080; text-decoration-color: #008080; font-weight: bold\">49</span>, <span style=\"color: #008080; text-decoration-color: #008080; font-weight: bold\">47</span>, <span style=\"color: #008080; text-decoration-color: #008080; font-weight: bold\">50</span>, <span style=\"color: #008080; text-decoration-color: #008080; font-weight: bold\">50</span>,  <span style=\"color: #008080; text-decoration-color: #008080; font-weight: bold\">1</span>,\n",
       "        <span style=\"color: #008080; text-decoration-color: #008080; font-weight: bold\">46</span>, <span style=\"color: #008080; text-decoration-color: #008080; font-weight: bold\">47</span>, <span style=\"color: #008080; text-decoration-color: #008080; font-weight: bold\">51</span>,  <span style=\"color: #008080; text-decoration-color: #008080; font-weight: bold\">6</span>,  <span style=\"color: #008080; text-decoration-color: #008080; font-weight: bold\">1</span>, <span style=\"color: #008080; text-decoration-color: #008080; font-weight: bold\">39</span>, <span style=\"color: #008080; text-decoration-color: #008080; font-weight: bold\">52</span>, <span style=\"color: #008080; text-decoration-color: #008080; font-weight: bold\">42</span>,  <span style=\"color: #008080; text-decoration-color: #008080; font-weight: bold\">1</span>, <span style=\"color: #008080; text-decoration-color: #008080; font-weight: bold\">61</span>, <span style=\"color: #008080; text-decoration-color: #008080; font-weight: bold\">43</span>,  <span style=\"color: #008080; text-decoration-color: #008080; font-weight: bold\">5</span>, <span style=\"color: #008080; text-decoration-color: #008080; font-weight: bold\">50</span>, <span style=\"color: #008080; text-decoration-color: #008080; font-weight: bold\">50</span>,  <span style=\"color: #008080; text-decoration-color: #008080; font-weight: bold\">1</span>, <span style=\"color: #008080; text-decoration-color: #008080; font-weight: bold\">46</span>, <span style=\"color: #008080; text-decoration-color: #008080; font-weight: bold\">39</span>, <span style=\"color: #008080; text-decoration-color: #008080; font-weight: bold\">60</span>,\n",
       "        <span style=\"color: #008080; text-decoration-color: #008080; font-weight: bold\">43</span>,  <span style=\"color: #008080; text-decoration-color: #008080; font-weight: bold\">1</span>, <span style=\"color: #008080; text-decoration-color: #008080; font-weight: bold\">41</span>, <span style=\"color: #008080; text-decoration-color: #008080; font-weight: bold\">53</span>, <span style=\"color: #008080; text-decoration-color: #008080; font-weight: bold\">56</span>, <span style=\"color: #008080; text-decoration-color: #008080; font-weight: bold\">52</span>,  <span style=\"color: #008080; text-decoration-color: #008080; font-weight: bold\">1</span>, <span style=\"color: #008080; text-decoration-color: #008080; font-weight: bold\">39</span>, <span style=\"color: #008080; text-decoration-color: #008080; font-weight: bold\">58</span>,  <span style=\"color: #008080; text-decoration-color: #008080; font-weight: bold\">1</span>, <span style=\"color: #008080; text-decoration-color: #008080; font-weight: bold\">53</span>, <span style=\"color: #008080; text-decoration-color: #008080; font-weight: bold\">59</span>, <span style=\"color: #008080; text-decoration-color: #008080; font-weight: bold\">56</span>,  <span style=\"color: #008080; text-decoration-color: #008080; font-weight: bold\">1</span>, <span style=\"color: #008080; text-decoration-color: #008080; font-weight: bold\">53</span>, <span style=\"color: #008080; text-decoration-color: #008080; font-weight: bold\">61</span>, <span style=\"color: #008080; text-decoration-color: #008080; font-weight: bold\">52</span>,  <span style=\"color: #008080; text-decoration-color: #008080; font-weight: bold\">1</span>,\n",
       "        <span style=\"color: #008080; text-decoration-color: #008080; font-weight: bold\">54</span>, <span style=\"color: #008080; text-decoration-color: #008080; font-weight: bold\">56</span>, <span style=\"color: #008080; text-decoration-color: #008080; font-weight: bold\">47</span>, <span style=\"color: #008080; text-decoration-color: #008080; font-weight: bold\">41</span>, <span style=\"color: #008080; text-decoration-color: #008080; font-weight: bold\">43</span>,  <span style=\"color: #008080; text-decoration-color: #008080; font-weight: bold\">8</span>,  <span style=\"color: #008080; text-decoration-color: #008080; font-weight: bold\">0</span>, <span style=\"color: #008080; text-decoration-color: #008080; font-weight: bold\">21</span>, <span style=\"color: #008080; text-decoration-color: #008080; font-weight: bold\">57</span>,  <span style=\"color: #008080; text-decoration-color: #008080; font-weight: bold\">5</span>, <span style=\"color: #008080; text-decoration-color: #008080; font-weight: bold\">58</span>,  <span style=\"color: #008080; text-decoration-color: #008080; font-weight: bold\">1</span>, <span style=\"color: #008080; text-decoration-color: #008080; font-weight: bold\">39</span>,  <span style=\"color: #008080; text-decoration-color: #008080; font-weight: bold\">1</span>, <span style=\"color: #008080; text-decoration-color: #008080; font-weight: bold\">60</span>, <span style=\"color: #008080; text-decoration-color: #008080; font-weight: bold\">43</span>, <span style=\"color: #008080; text-decoration-color: #008080; font-weight: bold\">56</span>, <span style=\"color: #008080; text-decoration-color: #008080; font-weight: bold\">42</span>,\n",
       "        <span style=\"color: #008080; text-decoration-color: #008080; font-weight: bold\">47</span>, <span style=\"color: #008080; text-decoration-color: #008080; font-weight: bold\">41</span>, <span style=\"color: #008080; text-decoration-color: #008080; font-weight: bold\">58</span>, <span style=\"color: #008080; text-decoration-color: #008080; font-weight: bold\">12</span>,  <span style=\"color: #008080; text-decoration-color: #008080; font-weight: bold\">0</span>,  <span style=\"color: #008080; text-decoration-color: #008080; font-weight: bold\">0</span>, <span style=\"color: #008080; text-decoration-color: #008080; font-weight: bold\">13</span>, <span style=\"color: #008080; text-decoration-color: #008080; font-weight: bold\">50</span>, <span style=\"color: #008080; text-decoration-color: #008080; font-weight: bold\">50</span>, <span style=\"color: #008080; text-decoration-color: #008080; font-weight: bold\">10</span>,  <span style=\"color: #008080; text-decoration-color: #008080; font-weight: bold\">0</span>, <span style=\"color: #008080; text-decoration-color: #008080; font-weight: bold\">26</span>, <span style=\"color: #008080; text-decoration-color: #008080; font-weight: bold\">53</span>,  <span style=\"color: #008080; text-decoration-color: #008080; font-weight: bold\">1</span>, <span style=\"color: #008080; text-decoration-color: #008080; font-weight: bold\">51</span>, <span style=\"color: #008080; text-decoration-color: #008080; font-weight: bold\">53</span>, <span style=\"color: #008080; text-decoration-color: #008080; font-weight: bold\">56</span>, <span style=\"color: #008080; text-decoration-color: #008080; font-weight: bold\">43</span>,\n",
       "         <span style=\"color: #008080; text-decoration-color: #008080; font-weight: bold\">1</span>, <span style=\"color: #008080; text-decoration-color: #008080; font-weight: bold\">58</span>, <span style=\"color: #008080; text-decoration-color: #008080; font-weight: bold\">39</span>, <span style=\"color: #008080; text-decoration-color: #008080; font-weight: bold\">50</span>, <span style=\"color: #008080; text-decoration-color: #008080; font-weight: bold\">49</span>, <span style=\"color: #008080; text-decoration-color: #008080; font-weight: bold\">47</span>, <span style=\"color: #008080; text-decoration-color: #008080; font-weight: bold\">52</span>, <span style=\"color: #008080; text-decoration-color: #008080; font-weight: bold\">45</span>,  <span style=\"color: #008080; text-decoration-color: #008080; font-weight: bold\">1</span>, <span style=\"color: #008080; text-decoration-color: #008080; font-weight: bold\">53</span>, <span style=\"color: #008080; text-decoration-color: #008080; font-weight: bold\">52</span>,  <span style=\"color: #008080; text-decoration-color: #008080; font-weight: bold\">5</span>, <span style=\"color: #008080; text-decoration-color: #008080; font-weight: bold\">58</span>, <span style=\"color: #008080; text-decoration-color: #008080; font-weight: bold\">11</span>,  <span style=\"color: #008080; text-decoration-color: #008080; font-weight: bold\">1</span>, <span style=\"color: #008080; text-decoration-color: #008080; font-weight: bold\">50</span>, <span style=\"color: #008080; text-decoration-color: #008080; font-weight: bold\">43</span>, <span style=\"color: #008080; text-decoration-color: #008080; font-weight: bold\">58</span>,\n",
       "         <span style=\"color: #008080; text-decoration-color: #008080; font-weight: bold\">1</span>, <span style=\"color: #008080; text-decoration-color: #008080; font-weight: bold\">47</span>, <span style=\"color: #008080; text-decoration-color: #008080; font-weight: bold\">58</span>,  <span style=\"color: #008080; text-decoration-color: #008080; font-weight: bold\">1</span>, <span style=\"color: #008080; text-decoration-color: #008080; font-weight: bold\">40</span>, <span style=\"color: #008080; text-decoration-color: #008080; font-weight: bold\">43</span>,  <span style=\"color: #008080; text-decoration-color: #008080; font-weight: bold\">1</span>, <span style=\"color: #008080; text-decoration-color: #008080; font-weight: bold\">42</span>, <span style=\"color: #008080; text-decoration-color: #008080; font-weight: bold\">53</span>, <span style=\"color: #008080; text-decoration-color: #008080; font-weight: bold\">52</span>, <span style=\"color: #008080; text-decoration-color: #008080; font-weight: bold\">43</span>, <span style=\"color: #008080; text-decoration-color: #008080; font-weight: bold\">10</span>,  <span style=\"color: #008080; text-decoration-color: #008080; font-weight: bold\">1</span>, <span style=\"color: #008080; text-decoration-color: #008080; font-weight: bold\">39</span>, <span style=\"color: #008080; text-decoration-color: #008080; font-weight: bold\">61</span>, <span style=\"color: #008080; text-decoration-color: #008080; font-weight: bold\">39</span>, <span style=\"color: #008080; text-decoration-color: #008080; font-weight: bold\">63</span>,  <span style=\"color: #008080; text-decoration-color: #008080; font-weight: bold\">6</span>,\n",
       "         <span style=\"color: #008080; text-decoration-color: #008080; font-weight: bold\">1</span>, <span style=\"color: #008080; text-decoration-color: #008080; font-weight: bold\">39</span>, <span style=\"color: #008080; text-decoration-color: #008080; font-weight: bold\">61</span>, <span style=\"color: #008080; text-decoration-color: #008080; font-weight: bold\">39</span>, <span style=\"color: #008080; text-decoration-color: #008080; font-weight: bold\">63</span>,  <span style=\"color: #008080; text-decoration-color: #008080; font-weight: bold\">2</span>,  <span style=\"color: #008080; text-decoration-color: #008080; font-weight: bold\">0</span>,  <span style=\"color: #008080; text-decoration-color: #008080; font-weight: bold\">0</span>, <span style=\"color: #008080; text-decoration-color: #008080; font-weight: bold\">31</span>, <span style=\"color: #008080; text-decoration-color: #008080; font-weight: bold\">43</span>, <span style=\"color: #008080; text-decoration-color: #008080; font-weight: bold\">41</span>, <span style=\"color: #008080; text-decoration-color: #008080; font-weight: bold\">53</span>, <span style=\"color: #008080; text-decoration-color: #008080; font-weight: bold\">52</span>, <span style=\"color: #008080; text-decoration-color: #008080; font-weight: bold\">42</span>,  <span style=\"color: #008080; text-decoration-color: #008080; font-weight: bold\">1</span>, <span style=\"color: #008080; text-decoration-color: #008080; font-weight: bold\">15</span>, <span style=\"color: #008080; text-decoration-color: #008080; font-weight: bold\">47</span>, <span style=\"color: #008080; text-decoration-color: #008080; font-weight: bold\">58</span>,\n",
       "        <span style=\"color: #008080; text-decoration-color: #008080; font-weight: bold\">47</span>, <span style=\"color: #008080; text-decoration-color: #008080; font-weight: bold\">64</span>, <span style=\"color: #008080; text-decoration-color: #008080; font-weight: bold\">43</span>, <span style=\"color: #008080; text-decoration-color: #008080; font-weight: bold\">52</span>, <span style=\"color: #008080; text-decoration-color: #008080; font-weight: bold\">10</span>,  <span style=\"color: #008080; text-decoration-color: #008080; font-weight: bold\">0</span>, <span style=\"color: #008080; text-decoration-color: #008080; font-weight: bold\">27</span>, <span style=\"color: #008080; text-decoration-color: #008080; font-weight: bold\">52</span>, <span style=\"color: #008080; text-decoration-color: #008080; font-weight: bold\">43</span>,  <span style=\"color: #008080; text-decoration-color: #008080; font-weight: bold\">1</span>, <span style=\"color: #008080; text-decoration-color: #008080; font-weight: bold\">61</span>, <span style=\"color: #008080; text-decoration-color: #008080; font-weight: bold\">53</span>, <span style=\"color: #008080; text-decoration-color: #008080; font-weight: bold\">56</span>, <span style=\"color: #008080; text-decoration-color: #008080; font-weight: bold\">42</span>,  <span style=\"color: #008080; text-decoration-color: #008080; font-weight: bold\">6</span>,  <span style=\"color: #008080; text-decoration-color: #008080; font-weight: bold\">1</span>, <span style=\"color: #008080; text-decoration-color: #008080; font-weight: bold\">45</span>, <span style=\"color: #008080; text-decoration-color: #008080; font-weight: bold\">53</span>,\n",
       "        <span style=\"color: #008080; text-decoration-color: #008080; font-weight: bold\">53</span>, <span style=\"color: #008080; text-decoration-color: #008080; font-weight: bold\">42</span>,  <span style=\"color: #008080; text-decoration-color: #008080; font-weight: bold\">1</span>, <span style=\"color: #008080; text-decoration-color: #008080; font-weight: bold\">41</span>, <span style=\"color: #008080; text-decoration-color: #008080; font-weight: bold\">47</span>, <span style=\"color: #008080; text-decoration-color: #008080; font-weight: bold\">58</span>, <span style=\"color: #008080; text-decoration-color: #008080; font-weight: bold\">47</span>, <span style=\"color: #008080; text-decoration-color: #008080; font-weight: bold\">64</span>, <span style=\"color: #008080; text-decoration-color: #008080; font-weight: bold\">43</span>, <span style=\"color: #008080; text-decoration-color: #008080; font-weight: bold\">52</span>, <span style=\"color: #008080; text-decoration-color: #008080; font-weight: bold\">57</span>,  <span style=\"color: #008080; text-decoration-color: #008080; font-weight: bold\">8</span>,  <span style=\"color: #008080; text-decoration-color: #008080; font-weight: bold\">0</span>,  <span style=\"color: #008080; text-decoration-color: #008080; font-weight: bold\">0</span>, <span style=\"color: #008080; text-decoration-color: #008080; font-weight: bold\">18</span>, <span style=\"color: #008080; text-decoration-color: #008080; font-weight: bold\">47</span>, <span style=\"color: #008080; text-decoration-color: #008080; font-weight: bold\">56</span>, <span style=\"color: #008080; text-decoration-color: #008080; font-weight: bold\">57</span>,\n",
       "        <span style=\"color: #008080; text-decoration-color: #008080; font-weight: bold\">58</span>,  <span style=\"color: #008080; text-decoration-color: #008080; font-weight: bold\">1</span>, <span style=\"color: #008080; text-decoration-color: #008080; font-weight: bold\">15</span>, <span style=\"color: #008080; text-decoration-color: #008080; font-weight: bold\">47</span>, <span style=\"color: #008080; text-decoration-color: #008080; font-weight: bold\">58</span>, <span style=\"color: #008080; text-decoration-color: #008080; font-weight: bold\">47</span>, <span style=\"color: #008080; text-decoration-color: #008080; font-weight: bold\">64</span>, <span style=\"color: #008080; text-decoration-color: #008080; font-weight: bold\">43</span>, <span style=\"color: #008080; text-decoration-color: #008080; font-weight: bold\">52</span>, <span style=\"color: #008080; text-decoration-color: #008080; font-weight: bold\">10</span>,  <span style=\"color: #008080; text-decoration-color: #008080; font-weight: bold\">0</span>, <span style=\"color: #008080; text-decoration-color: #008080; font-weight: bold\">35</span>, <span style=\"color: #008080; text-decoration-color: #008080; font-weight: bold\">43</span>,  <span style=\"color: #008080; text-decoration-color: #008080; font-weight: bold\">1</span>, <span style=\"color: #008080; text-decoration-color: #008080; font-weight: bold\">39</span>, <span style=\"color: #008080; text-decoration-color: #008080; font-weight: bold\">56</span>, <span style=\"color: #008080; text-decoration-color: #008080; font-weight: bold\">43</span>,  <span style=\"color: #008080; text-decoration-color: #008080; font-weight: bold\">1</span>,\n",
       "        <span style=\"color: #008080; text-decoration-color: #008080; font-weight: bold\">39</span>, <span style=\"color: #008080; text-decoration-color: #008080; font-weight: bold\">41</span>, <span style=\"color: #008080; text-decoration-color: #008080; font-weight: bold\">41</span>, <span style=\"color: #008080; text-decoration-color: #008080; font-weight: bold\">53</span>, <span style=\"color: #008080; text-decoration-color: #008080; font-weight: bold\">59</span>, <span style=\"color: #008080; text-decoration-color: #008080; font-weight: bold\">52</span>, <span style=\"color: #008080; text-decoration-color: #008080; font-weight: bold\">58</span>, <span style=\"color: #008080; text-decoration-color: #008080; font-weight: bold\">43</span>, <span style=\"color: #008080; text-decoration-color: #008080; font-weight: bold\">42</span>,  <span style=\"color: #008080; text-decoration-color: #008080; font-weight: bold\">1</span>, <span style=\"color: #008080; text-decoration-color: #008080; font-weight: bold\">54</span>, <span style=\"color: #008080; text-decoration-color: #008080; font-weight: bold\">53</span>, <span style=\"color: #008080; text-decoration-color: #008080; font-weight: bold\">53</span>, <span style=\"color: #008080; text-decoration-color: #008080; font-weight: bold\">56</span>,  <span style=\"color: #008080; text-decoration-color: #008080; font-weight: bold\">1</span>, <span style=\"color: #008080; text-decoration-color: #008080; font-weight: bold\">41</span>, <span style=\"color: #008080; text-decoration-color: #008080; font-weight: bold\">47</span>, <span style=\"color: #008080; text-decoration-color: #008080; font-weight: bold\">58</span>,\n",
       "        <span style=\"color: #008080; text-decoration-color: #008080; font-weight: bold\">47</span>, <span style=\"color: #008080; text-decoration-color: #008080; font-weight: bold\">64</span>, <span style=\"color: #008080; text-decoration-color: #008080; font-weight: bold\">43</span>, <span style=\"color: #008080; text-decoration-color: #008080; font-weight: bold\">52</span>, <span style=\"color: #008080; text-decoration-color: #008080; font-weight: bold\">57</span>,  <span style=\"color: #008080; text-decoration-color: #008080; font-weight: bold\">6</span>,  <span style=\"color: #008080; text-decoration-color: #008080; font-weight: bold\">1</span>, <span style=\"color: #008080; text-decoration-color: #008080; font-weight: bold\">58</span>, <span style=\"color: #008080; text-decoration-color: #008080; font-weight: bold\">46</span>, <span style=\"color: #008080; text-decoration-color: #008080; font-weight: bold\">43</span>,  <span style=\"color: #008080; text-decoration-color: #008080; font-weight: bold\">1</span>, <span style=\"color: #008080; text-decoration-color: #008080; font-weight: bold\">54</span>, <span style=\"color: #008080; text-decoration-color: #008080; font-weight: bold\">39</span>, <span style=\"color: #008080; text-decoration-color: #008080; font-weight: bold\">58</span>, <span style=\"color: #008080; text-decoration-color: #008080; font-weight: bold\">56</span>, <span style=\"color: #008080; text-decoration-color: #008080; font-weight: bold\">47</span>, <span style=\"color: #008080; text-decoration-color: #008080; font-weight: bold\">41</span>, <span style=\"color: #008080; text-decoration-color: #008080; font-weight: bold\">47</span>,\n",
       "        <span style=\"color: #008080; text-decoration-color: #008080; font-weight: bold\">39</span>, <span style=\"color: #008080; text-decoration-color: #008080; font-weight: bold\">52</span>, <span style=\"color: #008080; text-decoration-color: #008080; font-weight: bold\">57</span>,  <span style=\"color: #008080; text-decoration-color: #008080; font-weight: bold\">1</span>, <span style=\"color: #008080; text-decoration-color: #008080; font-weight: bold\">45</span>, <span style=\"color: #008080; text-decoration-color: #008080; font-weight: bold\">53</span>, <span style=\"color: #008080; text-decoration-color: #008080; font-weight: bold\">53</span>, <span style=\"color: #008080; text-decoration-color: #008080; font-weight: bold\">42</span>,  <span style=\"color: #008080; text-decoration-color: #008080; font-weight: bold\">8</span>,  <span style=\"color: #008080; text-decoration-color: #008080; font-weight: bold\">0</span>, <span style=\"color: #008080; text-decoration-color: #008080; font-weight: bold\">35</span>, <span style=\"color: #008080; text-decoration-color: #008080; font-weight: bold\">46</span>, <span style=\"color: #008080; text-decoration-color: #008080; font-weight: bold\">39</span>, <span style=\"color: #008080; text-decoration-color: #008080; font-weight: bold\">58</span>,  <span style=\"color: #008080; text-decoration-color: #008080; font-weight: bold\">1</span>, <span style=\"color: #008080; text-decoration-color: #008080; font-weight: bold\">39</span>, <span style=\"color: #008080; text-decoration-color: #008080; font-weight: bold\">59</span>, <span style=\"color: #008080; text-decoration-color: #008080; font-weight: bold\">58</span>,\n",
       "        <span style=\"color: #008080; text-decoration-color: #008080; font-weight: bold\">46</span>, <span style=\"color: #008080; text-decoration-color: #008080; font-weight: bold\">53</span>, <span style=\"color: #008080; text-decoration-color: #008080; font-weight: bold\">56</span>, <span style=\"color: #008080; text-decoration-color: #008080; font-weight: bold\">47</span>, <span style=\"color: #008080; text-decoration-color: #008080; font-weight: bold\">58</span>, <span style=\"color: #008080; text-decoration-color: #008080; font-weight: bold\">63</span>,  <span style=\"color: #008080; text-decoration-color: #008080; font-weight: bold\">1</span>, <span style=\"color: #008080; text-decoration-color: #008080; font-weight: bold\">57</span>, <span style=\"color: #008080; text-decoration-color: #008080; font-weight: bold\">59</span>, <span style=\"color: #008080; text-decoration-color: #008080; font-weight: bold\">56</span>, <span style=\"color: #008080; text-decoration-color: #008080; font-weight: bold\">44</span>, <span style=\"color: #008080; text-decoration-color: #008080; font-weight: bold\">43</span>, <span style=\"color: #008080; text-decoration-color: #008080; font-weight: bold\">47</span>, <span style=\"color: #008080; text-decoration-color: #008080; font-weight: bold\">58</span>, <span style=\"color: #008080; text-decoration-color: #008080; font-weight: bold\">57</span>,  <span style=\"color: #008080; text-decoration-color: #008080; font-weight: bold\">1</span>, <span style=\"color: #008080; text-decoration-color: #008080; font-weight: bold\">53</span>, <span style=\"color: #008080; text-decoration-color: #008080; font-weight: bold\">52</span>,\n",
       "         <span style=\"color: #008080; text-decoration-color: #008080; font-weight: bold\">1</span>, <span style=\"color: #008080; text-decoration-color: #008080; font-weight: bold\">61</span>, <span style=\"color: #008080; text-decoration-color: #008080; font-weight: bold\">53</span>, <span style=\"color: #008080; text-decoration-color: #008080; font-weight: bold\">59</span>, <span style=\"color: #008080; text-decoration-color: #008080; font-weight: bold\">50</span>, <span style=\"color: #008080; text-decoration-color: #008080; font-weight: bold\">42</span>,  <span style=\"color: #008080; text-decoration-color: #008080; font-weight: bold\">1</span>, <span style=\"color: #008080; text-decoration-color: #008080; font-weight: bold\">56</span>, <span style=\"color: #008080; text-decoration-color: #008080; font-weight: bold\">43</span>, <span style=\"color: #008080; text-decoration-color: #008080; font-weight: bold\">50</span>, <span style=\"color: #008080; text-decoration-color: #008080; font-weight: bold\">47</span>, <span style=\"color: #008080; text-decoration-color: #008080; font-weight: bold\">43</span>, <span style=\"color: #008080; text-decoration-color: #008080; font-weight: bold\">60</span>, <span style=\"color: #008080; text-decoration-color: #008080; font-weight: bold\">43</span>,  <span style=\"color: #008080; text-decoration-color: #008080; font-weight: bold\">1</span>, <span style=\"color: #008080; text-decoration-color: #008080; font-weight: bold\">59</span>, <span style=\"color: #008080; text-decoration-color: #008080; font-weight: bold\">57</span>, <span style=\"color: #008080; text-decoration-color: #008080; font-weight: bold\">10</span>,\n",
       "         <span style=\"color: #008080; text-decoration-color: #008080; font-weight: bold\">1</span>, <span style=\"color: #008080; text-decoration-color: #008080; font-weight: bold\">47</span>, <span style=\"color: #008080; text-decoration-color: #008080; font-weight: bold\">44</span>,  <span style=\"color: #008080; text-decoration-color: #008080; font-weight: bold\">1</span>, <span style=\"color: #008080; text-decoration-color: #008080; font-weight: bold\">58</span>, <span style=\"color: #008080; text-decoration-color: #008080; font-weight: bold\">46</span>, <span style=\"color: #008080; text-decoration-color: #008080; font-weight: bold\">43</span>, <span style=\"color: #008080; text-decoration-color: #008080; font-weight: bold\">63</span>,  <span style=\"color: #008080; text-decoration-color: #008080; font-weight: bold\">0</span>, <span style=\"color: #008080; text-decoration-color: #008080; font-weight: bold\">61</span>, <span style=\"color: #008080; text-decoration-color: #008080; font-weight: bold\">53</span>, <span style=\"color: #008080; text-decoration-color: #008080; font-weight: bold\">59</span>, <span style=\"color: #008080; text-decoration-color: #008080; font-weight: bold\">50</span>, <span style=\"color: #008080; text-decoration-color: #008080; font-weight: bold\">42</span>,  <span style=\"color: #008080; text-decoration-color: #008080; font-weight: bold\">1</span>, <span style=\"color: #008080; text-decoration-color: #008080; font-weight: bold\">63</span>, <span style=\"color: #008080; text-decoration-color: #008080; font-weight: bold\">47</span>, <span style=\"color: #008080; text-decoration-color: #008080; font-weight: bold\">43</span>,\n",
       "        <span style=\"color: #008080; text-decoration-color: #008080; font-weight: bold\">50</span>, <span style=\"color: #008080; text-decoration-color: #008080; font-weight: bold\">42</span>,  <span style=\"color: #008080; text-decoration-color: #008080; font-weight: bold\">1</span>, <span style=\"color: #008080; text-decoration-color: #008080; font-weight: bold\">59</span>, <span style=\"color: #008080; text-decoration-color: #008080; font-weight: bold\">57</span>,  <span style=\"color: #008080; text-decoration-color: #008080; font-weight: bold\">1</span>, <span style=\"color: #008080; text-decoration-color: #008080; font-weight: bold\">40</span>, <span style=\"color: #008080; text-decoration-color: #008080; font-weight: bold\">59</span>, <span style=\"color: #008080; text-decoration-color: #008080; font-weight: bold\">58</span>,  <span style=\"color: #008080; text-decoration-color: #008080; font-weight: bold\">1</span>, <span style=\"color: #008080; text-decoration-color: #008080; font-weight: bold\">58</span>, <span style=\"color: #008080; text-decoration-color: #008080; font-weight: bold\">46</span>, <span style=\"color: #008080; text-decoration-color: #008080; font-weight: bold\">43</span>,  <span style=\"color: #008080; text-decoration-color: #008080; font-weight: bold\">1</span>, <span style=\"color: #008080; text-decoration-color: #008080; font-weight: bold\">57</span>, <span style=\"color: #008080; text-decoration-color: #008080; font-weight: bold\">59</span>, <span style=\"color: #008080; text-decoration-color: #008080; font-weight: bold\">54</span>, <span style=\"color: #008080; text-decoration-color: #008080; font-weight: bold\">43</span>,\n",
       "        <span style=\"color: #008080; text-decoration-color: #008080; font-weight: bold\">56</span>, <span style=\"color: #008080; text-decoration-color: #008080; font-weight: bold\">44</span>, <span style=\"color: #008080; text-decoration-color: #008080; font-weight: bold\">50</span>, <span style=\"color: #008080; text-decoration-color: #008080; font-weight: bold\">59</span>, <span style=\"color: #008080; text-decoration-color: #008080; font-weight: bold\">47</span>, <span style=\"color: #008080; text-decoration-color: #008080; font-weight: bold\">58</span>, <span style=\"color: #008080; text-decoration-color: #008080; font-weight: bold\">63</span>,  <span style=\"color: #008080; text-decoration-color: #008080; font-weight: bold\">6</span>,  <span style=\"color: #008080; text-decoration-color: #008080; font-weight: bold\">1</span>, <span style=\"color: #008080; text-decoration-color: #008080; font-weight: bold\">61</span>, <span style=\"color: #008080; text-decoration-color: #008080; font-weight: bold\">46</span>, <span style=\"color: #008080; text-decoration-color: #008080; font-weight: bold\">47</span>, <span style=\"color: #008080; text-decoration-color: #008080; font-weight: bold\">50</span>, <span style=\"color: #008080; text-decoration-color: #008080; font-weight: bold\">43</span>,  <span style=\"color: #008080; text-decoration-color: #008080; font-weight: bold\">1</span>, <span style=\"color: #008080; text-decoration-color: #008080; font-weight: bold\">47</span>, <span style=\"color: #008080; text-decoration-color: #008080; font-weight: bold\">58</span>,  <span style=\"color: #008080; text-decoration-color: #008080; font-weight: bold\">1</span>,\n",
       "        <span style=\"color: #008080; text-decoration-color: #008080; font-weight: bold\">61</span>, <span style=\"color: #008080; text-decoration-color: #008080; font-weight: bold\">43</span>, <span style=\"color: #008080; text-decoration-color: #008080; font-weight: bold\">56</span>, <span style=\"color: #008080; text-decoration-color: #008080; font-weight: bold\">43</span>,  <span style=\"color: #008080; text-decoration-color: #008080; font-weight: bold\">0</span>, <span style=\"color: #008080; text-decoration-color: #008080; font-weight: bold\">61</span>, <span style=\"color: #008080; text-decoration-color: #008080; font-weight: bold\">46</span>, <span style=\"color: #008080; text-decoration-color: #008080; font-weight: bold\">53</span>, <span style=\"color: #008080; text-decoration-color: #008080; font-weight: bold\">50</span>, <span style=\"color: #008080; text-decoration-color: #008080; font-weight: bold\">43</span>, <span style=\"color: #008080; text-decoration-color: #008080; font-weight: bold\">57</span>, <span style=\"color: #008080; text-decoration-color: #008080; font-weight: bold\">53</span>, <span style=\"color: #008080; text-decoration-color: #008080; font-weight: bold\">51</span>, <span style=\"color: #008080; text-decoration-color: #008080; font-weight: bold\">43</span>,  <span style=\"color: #008080; text-decoration-color: #008080; font-weight: bold\">6</span>,  <span style=\"color: #008080; text-decoration-color: #008080; font-weight: bold\">1</span>, <span style=\"color: #008080; text-decoration-color: #008080; font-weight: bold\">61</span>, <span style=\"color: #008080; text-decoration-color: #008080; font-weight: bold\">43</span>,\n",
       "         <span style=\"color: #008080; text-decoration-color: #008080; font-weight: bold\">1</span>, <span style=\"color: #008080; text-decoration-color: #008080; font-weight: bold\">51</span>, <span style=\"color: #008080; text-decoration-color: #008080; font-weight: bold\">47</span>, <span style=\"color: #008080; text-decoration-color: #008080; font-weight: bold\">45</span>, <span style=\"color: #008080; text-decoration-color: #008080; font-weight: bold\">46</span>, <span style=\"color: #008080; text-decoration-color: #008080; font-weight: bold\">58</span>,  <span style=\"color: #008080; text-decoration-color: #008080; font-weight: bold\">1</span>, <span style=\"color: #008080; text-decoration-color: #008080; font-weight: bold\">45</span>, <span style=\"color: #008080; text-decoration-color: #008080; font-weight: bold\">59</span>, <span style=\"color: #008080; text-decoration-color: #008080; font-weight: bold\">43</span>, <span style=\"color: #008080; text-decoration-color: #008080; font-weight: bold\">57</span>, <span style=\"color: #008080; text-decoration-color: #008080; font-weight: bold\">57</span>,  <span style=\"color: #008080; text-decoration-color: #008080; font-weight: bold\">1</span>, <span style=\"color: #008080; text-decoration-color: #008080; font-weight: bold\">58</span>, <span style=\"color: #008080; text-decoration-color: #008080; font-weight: bold\">46</span>, <span style=\"color: #008080; text-decoration-color: #008080; font-weight: bold\">43</span>, <span style=\"color: #008080; text-decoration-color: #008080; font-weight: bold\">63</span>,  <span style=\"color: #008080; text-decoration-color: #008080; font-weight: bold\">1</span>,\n",
       "        <span style=\"color: #008080; text-decoration-color: #008080; font-weight: bold\">56</span>, <span style=\"color: #008080; text-decoration-color: #008080; font-weight: bold\">43</span>, <span style=\"color: #008080; text-decoration-color: #008080; font-weight: bold\">50</span>, <span style=\"color: #008080; text-decoration-color: #008080; font-weight: bold\">47</span>, <span style=\"color: #008080; text-decoration-color: #008080; font-weight: bold\">43</span>, <span style=\"color: #008080; text-decoration-color: #008080; font-weight: bold\">60</span>, <span style=\"color: #008080; text-decoration-color: #008080; font-weight: bold\">43</span>, <span style=\"color: #008080; text-decoration-color: #008080; font-weight: bold\">42</span>,  <span style=\"color: #008080; text-decoration-color: #008080; font-weight: bold\">1</span>, <span style=\"color: #008080; text-decoration-color: #008080; font-weight: bold\">59</span>, <span style=\"color: #008080; text-decoration-color: #008080; font-weight: bold\">57</span>,  <span style=\"color: #008080; text-decoration-color: #008080; font-weight: bold\">1</span>, <span style=\"color: #008080; text-decoration-color: #008080; font-weight: bold\">46</span>, <span style=\"color: #008080; text-decoration-color: #008080; font-weight: bold\">59</span>, <span style=\"color: #008080; text-decoration-color: #008080; font-weight: bold\">51</span>, <span style=\"color: #008080; text-decoration-color: #008080; font-weight: bold\">39</span>, <span style=\"color: #008080; text-decoration-color: #008080; font-weight: bold\">52</span>, <span style=\"color: #008080; text-decoration-color: #008080; font-weight: bold\">43</span>,\n",
       "        <span style=\"color: #008080; text-decoration-color: #008080; font-weight: bold\">50</span>, <span style=\"color: #008080; text-decoration-color: #008080; font-weight: bold\">63</span>, <span style=\"color: #008080; text-decoration-color: #008080; font-weight: bold\">11</span>,  <span style=\"color: #008080; text-decoration-color: #008080; font-weight: bold\">0</span>, <span style=\"color: #008080; text-decoration-color: #008080; font-weight: bold\">40</span>, <span style=\"color: #008080; text-decoration-color: #008080; font-weight: bold\">59</span>, <span style=\"color: #008080; text-decoration-color: #008080; font-weight: bold\">58</span>,  <span style=\"color: #008080; text-decoration-color: #008080; font-weight: bold\">1</span>, <span style=\"color: #008080; text-decoration-color: #008080; font-weight: bold\">58</span>, <span style=\"color: #008080; text-decoration-color: #008080; font-weight: bold\">46</span>, <span style=\"color: #008080; text-decoration-color: #008080; font-weight: bold\">43</span>, <span style=\"color: #008080; text-decoration-color: #008080; font-weight: bold\">63</span>,  <span style=\"color: #008080; text-decoration-color: #008080; font-weight: bold\">1</span>, <span style=\"color: #008080; text-decoration-color: #008080; font-weight: bold\">58</span>, <span style=\"color: #008080; text-decoration-color: #008080; font-weight: bold\">46</span>, <span style=\"color: #008080; text-decoration-color: #008080; font-weight: bold\">47</span>, <span style=\"color: #008080; text-decoration-color: #008080; font-weight: bold\">52</span>, <span style=\"color: #008080; text-decoration-color: #008080; font-weight: bold\">49</span>,\n",
       "         <span style=\"color: #008080; text-decoration-color: #008080; font-weight: bold\">1</span>, <span style=\"color: #008080; text-decoration-color: #008080; font-weight: bold\">61</span>, <span style=\"color: #008080; text-decoration-color: #008080; font-weight: bold\">43</span>,  <span style=\"color: #008080; text-decoration-color: #008080; font-weight: bold\">1</span>, <span style=\"color: #008080; text-decoration-color: #008080; font-weight: bold\">39</span>, <span style=\"color: #008080; text-decoration-color: #008080; font-weight: bold\">56</span>, <span style=\"color: #008080; text-decoration-color: #008080; font-weight: bold\">43</span>,  <span style=\"color: #008080; text-decoration-color: #008080; font-weight: bold\">1</span>, <span style=\"color: #008080; text-decoration-color: #008080; font-weight: bold\">58</span>, <span style=\"color: #008080; text-decoration-color: #008080; font-weight: bold\">53</span>, <span style=\"color: #008080; text-decoration-color: #008080; font-weight: bold\">53</span>,  <span style=\"color: #008080; text-decoration-color: #008080; font-weight: bold\">1</span>, <span style=\"color: #008080; text-decoration-color: #008080; font-weight: bold\">42</span>, <span style=\"color: #008080; text-decoration-color: #008080; font-weight: bold\">43</span>, <span style=\"color: #008080; text-decoration-color: #008080; font-weight: bold\">39</span>, <span style=\"color: #008080; text-decoration-color: #008080; font-weight: bold\">56</span>, <span style=\"color: #008080; text-decoration-color: #008080; font-weight: bold\">10</span>,  <span style=\"color: #008080; text-decoration-color: #008080; font-weight: bold\">1</span>,\n",
       "        <span style=\"color: #008080; text-decoration-color: #008080; font-weight: bold\">58</span>, <span style=\"color: #008080; text-decoration-color: #008080; font-weight: bold\">46</span>, <span style=\"color: #008080; text-decoration-color: #008080; font-weight: bold\">43</span>,  <span style=\"color: #008080; text-decoration-color: #008080; font-weight: bold\">1</span>, <span style=\"color: #008080; text-decoration-color: #008080; font-weight: bold\">50</span>, <span style=\"color: #008080; text-decoration-color: #008080; font-weight: bold\">43</span>, <span style=\"color: #008080; text-decoration-color: #008080; font-weight: bold\">39</span>, <span style=\"color: #008080; text-decoration-color: #008080; font-weight: bold\">52</span>, <span style=\"color: #008080; text-decoration-color: #008080; font-weight: bold\">52</span>, <span style=\"color: #008080; text-decoration-color: #008080; font-weight: bold\">43</span>, <span style=\"color: #008080; text-decoration-color: #008080; font-weight: bold\">57</span>, <span style=\"color: #008080; text-decoration-color: #008080; font-weight: bold\">57</span>,  <span style=\"color: #008080; text-decoration-color: #008080; font-weight: bold\">1</span>, <span style=\"color: #008080; text-decoration-color: #008080; font-weight: bold\">58</span>, <span style=\"color: #008080; text-decoration-color: #008080; font-weight: bold\">46</span>, <span style=\"color: #008080; text-decoration-color: #008080; font-weight: bold\">39</span>, <span style=\"color: #008080; text-decoration-color: #008080; font-weight: bold\">58</span>,  <span style=\"color: #008080; text-decoration-color: #008080; font-weight: bold\">0</span>,\n",
       "        <span style=\"color: #008080; text-decoration-color: #008080; font-weight: bold\">39</span>, <span style=\"color: #008080; text-decoration-color: #008080; font-weight: bold\">44</span>, <span style=\"color: #008080; text-decoration-color: #008080; font-weight: bold\">44</span>, <span style=\"color: #008080; text-decoration-color: #008080; font-weight: bold\">50</span>, <span style=\"color: #008080; text-decoration-color: #008080; font-weight: bold\">47</span>, <span style=\"color: #008080; text-decoration-color: #008080; font-weight: bold\">41</span>, <span style=\"color: #008080; text-decoration-color: #008080; font-weight: bold\">58</span>, <span style=\"color: #008080; text-decoration-color: #008080; font-weight: bold\">57</span>,  <span style=\"color: #008080; text-decoration-color: #008080; font-weight: bold\">1</span>, <span style=\"color: #008080; text-decoration-color: #008080; font-weight: bold\">59</span>, <span style=\"color: #008080; text-decoration-color: #008080; font-weight: bold\">57</span>,  <span style=\"color: #008080; text-decoration-color: #008080; font-weight: bold\">6</span>,  <span style=\"color: #008080; text-decoration-color: #008080; font-weight: bold\">1</span>, <span style=\"color: #008080; text-decoration-color: #008080; font-weight: bold\">58</span>, <span style=\"color: #008080; text-decoration-color: #008080; font-weight: bold\">46</span>, <span style=\"color: #008080; text-decoration-color: #008080; font-weight: bold\">43</span>,  <span style=\"color: #008080; text-decoration-color: #008080; font-weight: bold\">1</span>, <span style=\"color: #008080; text-decoration-color: #008080; font-weight: bold\">53</span>,\n",
       "        <span style=\"color: #008080; text-decoration-color: #008080; font-weight: bold\">40</span>, <span style=\"color: #008080; text-decoration-color: #008080; font-weight: bold\">48</span>, <span style=\"color: #008080; text-decoration-color: #008080; font-weight: bold\">43</span>, <span style=\"color: #008080; text-decoration-color: #008080; font-weight: bold\">41</span>, <span style=\"color: #008080; text-decoration-color: #008080; font-weight: bold\">58</span>,  <span style=\"color: #008080; text-decoration-color: #008080; font-weight: bold\">1</span>, <span style=\"color: #008080; text-decoration-color: #008080; font-weight: bold\">53</span>, <span style=\"color: #008080; text-decoration-color: #008080; font-weight: bold\">44</span>,  <span style=\"color: #008080; text-decoration-color: #008080; font-weight: bold\">1</span>, <span style=\"color: #008080; text-decoration-color: #008080; font-weight: bold\">53</span>, <span style=\"color: #008080; text-decoration-color: #008080; font-weight: bold\">59</span>, <span style=\"color: #008080; text-decoration-color: #008080; font-weight: bold\">56</span>,  <span style=\"color: #008080; text-decoration-color: #008080; font-weight: bold\">1</span>, <span style=\"color: #008080; text-decoration-color: #008080; font-weight: bold\">51</span>, <span style=\"color: #008080; text-decoration-color: #008080; font-weight: bold\">47</span>, <span style=\"color: #008080; text-decoration-color: #008080; font-weight: bold\">57</span>, <span style=\"color: #008080; text-decoration-color: #008080; font-weight: bold\">43</span>, <span style=\"color: #008080; text-decoration-color: #008080; font-weight: bold\">56</span>,\n",
       "        <span style=\"color: #008080; text-decoration-color: #008080; font-weight: bold\">63</span>,  <span style=\"color: #008080; text-decoration-color: #008080; font-weight: bold\">6</span>,  <span style=\"color: #008080; text-decoration-color: #008080; font-weight: bold\">1</span>, <span style=\"color: #008080; text-decoration-color: #008080; font-weight: bold\">47</span>, <span style=\"color: #008080; text-decoration-color: #008080; font-weight: bold\">57</span>,  <span style=\"color: #008080; text-decoration-color: #008080; font-weight: bold\">1</span>, <span style=\"color: #008080; text-decoration-color: #008080; font-weight: bold\">39</span>, <span style=\"color: #008080; text-decoration-color: #008080; font-weight: bold\">57</span>,  <span style=\"color: #008080; text-decoration-color: #008080; font-weight: bold\">1</span>, <span style=\"color: #008080; text-decoration-color: #008080; font-weight: bold\">39</span>, <span style=\"color: #008080; text-decoration-color: #008080; font-weight: bold\">52</span>,  <span style=\"color: #008080; text-decoration-color: #008080; font-weight: bold\">0</span>, <span style=\"color: #008080; text-decoration-color: #008080; font-weight: bold\">47</span>, <span style=\"color: #008080; text-decoration-color: #008080; font-weight: bold\">52</span>, <span style=\"color: #008080; text-decoration-color: #008080; font-weight: bold\">60</span>, <span style=\"color: #008080; text-decoration-color: #008080; font-weight: bold\">43</span>, <span style=\"color: #008080; text-decoration-color: #008080; font-weight: bold\">52</span>, <span style=\"color: #008080; text-decoration-color: #008080; font-weight: bold\">58</span>,\n",
       "        <span style=\"color: #008080; text-decoration-color: #008080; font-weight: bold\">53</span>, <span style=\"color: #008080; text-decoration-color: #008080; font-weight: bold\">56</span>, <span style=\"color: #008080; text-decoration-color: #008080; font-weight: bold\">63</span>,  <span style=\"color: #008080; text-decoration-color: #008080; font-weight: bold\">1</span>, <span style=\"color: #008080; text-decoration-color: #008080; font-weight: bold\">58</span>, <span style=\"color: #008080; text-decoration-color: #008080; font-weight: bold\">53</span>,  <span style=\"color: #008080; text-decoration-color: #008080; font-weight: bold\">1</span>, <span style=\"color: #008080; text-decoration-color: #008080; font-weight: bold\">54</span>, <span style=\"color: #008080; text-decoration-color: #008080; font-weight: bold\">39</span>, <span style=\"color: #008080; text-decoration-color: #008080; font-weight: bold\">56</span>, <span style=\"color: #008080; text-decoration-color: #008080; font-weight: bold\">58</span>, <span style=\"color: #008080; text-decoration-color: #008080; font-weight: bold\">47</span>, <span style=\"color: #008080; text-decoration-color: #008080; font-weight: bold\">41</span>, <span style=\"color: #008080; text-decoration-color: #008080; font-weight: bold\">59</span>, <span style=\"color: #008080; text-decoration-color: #008080; font-weight: bold\">50</span>, <span style=\"color: #008080; text-decoration-color: #008080; font-weight: bold\">39</span>, <span style=\"color: #008080; text-decoration-color: #008080; font-weight: bold\">56</span>, <span style=\"color: #008080; text-decoration-color: #008080; font-weight: bold\">47</span>,\n",
       "        <span style=\"color: #008080; text-decoration-color: #008080; font-weight: bold\">57</span>, <span style=\"color: #008080; text-decoration-color: #008080; font-weight: bold\">43</span>,  <span style=\"color: #008080; text-decoration-color: #008080; font-weight: bold\">1</span>, <span style=\"color: #008080; text-decoration-color: #008080; font-weight: bold\">58</span>, <span style=\"color: #008080; text-decoration-color: #008080; font-weight: bold\">46</span>, <span style=\"color: #008080; text-decoration-color: #008080; font-weight: bold\">43</span>, <span style=\"color: #008080; text-decoration-color: #008080; font-weight: bold\">47</span>, <span style=\"color: #008080; text-decoration-color: #008080; font-weight: bold\">56</span>,  <span style=\"color: #008080; text-decoration-color: #008080; font-weight: bold\">1</span>, <span style=\"color: #008080; text-decoration-color: #008080; font-weight: bold\">39</span>, <span style=\"color: #008080; text-decoration-color: #008080; font-weight: bold\">40</span>, <span style=\"color: #008080; text-decoration-color: #008080; font-weight: bold\">59</span>, <span style=\"color: #008080; text-decoration-color: #008080; font-weight: bold\">52</span>, <span style=\"color: #008080; text-decoration-color: #008080; font-weight: bold\">42</span>, <span style=\"color: #008080; text-decoration-color: #008080; font-weight: bold\">39</span>, <span style=\"color: #008080; text-decoration-color: #008080; font-weight: bold\">52</span>, <span style=\"color: #008080; text-decoration-color: #008080; font-weight: bold\">41</span>, <span style=\"color: #008080; text-decoration-color: #008080; font-weight: bold\">43</span>,\n",
       "        <span style=\"color: #008080; text-decoration-color: #008080; font-weight: bold\">11</span>,  <span style=\"color: #008080; text-decoration-color: #008080; font-weight: bold\">1</span>, <span style=\"color: #008080; text-decoration-color: #008080; font-weight: bold\">53</span>, <span style=\"color: #008080; text-decoration-color: #008080; font-weight: bold\">59</span>, <span style=\"color: #008080; text-decoration-color: #008080; font-weight: bold\">56</span>,  <span style=\"color: #008080; text-decoration-color: #008080; font-weight: bold\">0</span>, <span style=\"color: #008080; text-decoration-color: #008080; font-weight: bold\">57</span>, <span style=\"color: #008080; text-decoration-color: #008080; font-weight: bold\">59</span>, <span style=\"color: #008080; text-decoration-color: #008080; font-weight: bold\">44</span>, <span style=\"color: #008080; text-decoration-color: #008080; font-weight: bold\">44</span>, <span style=\"color: #008080; text-decoration-color: #008080; font-weight: bold\">43</span>, <span style=\"color: #008080; text-decoration-color: #008080; font-weight: bold\">56</span>, <span style=\"color: #008080; text-decoration-color: #008080; font-weight: bold\">39</span>, <span style=\"color: #008080; text-decoration-color: #008080; font-weight: bold\">52</span>, <span style=\"color: #008080; text-decoration-color: #008080; font-weight: bold\">41</span>, <span style=\"color: #008080; text-decoration-color: #008080; font-weight: bold\">43</span>,  <span style=\"color: #008080; text-decoration-color: #008080; font-weight: bold\">1</span>, <span style=\"color: #008080; text-decoration-color: #008080; font-weight: bold\">47</span>,\n",
       "        <span style=\"color: #008080; text-decoration-color: #008080; font-weight: bold\">57</span>,  <span style=\"color: #008080; text-decoration-color: #008080; font-weight: bold\">1</span>, <span style=\"color: #008080; text-decoration-color: #008080; font-weight: bold\">39</span>,  <span style=\"color: #008080; text-decoration-color: #008080; font-weight: bold\">1</span>, <span style=\"color: #008080; text-decoration-color: #008080; font-weight: bold\">45</span>, <span style=\"color: #008080; text-decoration-color: #008080; font-weight: bold\">39</span>, <span style=\"color: #008080; text-decoration-color: #008080; font-weight: bold\">47</span>, <span style=\"color: #008080; text-decoration-color: #008080; font-weight: bold\">52</span>,  <span style=\"color: #008080; text-decoration-color: #008080; font-weight: bold\">1</span>, <span style=\"color: #008080; text-decoration-color: #008080; font-weight: bold\">58</span>, <span style=\"color: #008080; text-decoration-color: #008080; font-weight: bold\">53</span>,  <span style=\"color: #008080; text-decoration-color: #008080; font-weight: bold\">1</span>, <span style=\"color: #008080; text-decoration-color: #008080; font-weight: bold\">58</span>, <span style=\"color: #008080; text-decoration-color: #008080; font-weight: bold\">46</span>, <span style=\"color: #008080; text-decoration-color: #008080; font-weight: bold\">43</span>, <span style=\"color: #008080; text-decoration-color: #008080; font-weight: bold\">51</span>,  <span style=\"color: #008080; text-decoration-color: #008080; font-weight: bold\">1</span>, <span style=\"color: #008080; text-decoration-color: #008080; font-weight: bold\">24</span>,\n",
       "        <span style=\"color: #008080; text-decoration-color: #008080; font-weight: bold\">43</span>, <span style=\"color: #008080; text-decoration-color: #008080; font-weight: bold\">58</span>,  <span style=\"color: #008080; text-decoration-color: #008080; font-weight: bold\">1</span>, <span style=\"color: #008080; text-decoration-color: #008080; font-weight: bold\">59</span>, <span style=\"color: #008080; text-decoration-color: #008080; font-weight: bold\">57</span>,  <span style=\"color: #008080; text-decoration-color: #008080; font-weight: bold\">1</span>, <span style=\"color: #008080; text-decoration-color: #008080; font-weight: bold\">56</span>, <span style=\"color: #008080; text-decoration-color: #008080; font-weight: bold\">43</span>, <span style=\"color: #008080; text-decoration-color: #008080; font-weight: bold\">60</span>, <span style=\"color: #008080; text-decoration-color: #008080; font-weight: bold\">43</span>, <span style=\"color: #008080; text-decoration-color: #008080; font-weight: bold\">52</span>, <span style=\"color: #008080; text-decoration-color: #008080; font-weight: bold\">45</span>, <span style=\"color: #008080; text-decoration-color: #008080; font-weight: bold\">43</span>,  <span style=\"color: #008080; text-decoration-color: #008080; font-weight: bold\">1</span>, <span style=\"color: #008080; text-decoration-color: #008080; font-weight: bold\">58</span>, <span style=\"color: #008080; text-decoration-color: #008080; font-weight: bold\">46</span>, <span style=\"color: #008080; text-decoration-color: #008080; font-weight: bold\">47</span>, <span style=\"color: #008080; text-decoration-color: #008080; font-weight: bold\">57</span>,\n",
       "         <span style=\"color: #008080; text-decoration-color: #008080; font-weight: bold\">1</span>, <span style=\"color: #008080; text-decoration-color: #008080; font-weight: bold\">61</span>, <span style=\"color: #008080; text-decoration-color: #008080; font-weight: bold\">47</span>, <span style=\"color: #008080; text-decoration-color: #008080; font-weight: bold\">58</span>, <span style=\"color: #008080; text-decoration-color: #008080; font-weight: bold\">46</span>,  <span style=\"color: #008080; text-decoration-color: #008080; font-weight: bold\">0</span>, <span style=\"color: #008080; text-decoration-color: #008080; font-weight: bold\">53</span>, <span style=\"color: #008080; text-decoration-color: #008080; font-weight: bold\">59</span>, <span style=\"color: #008080; text-decoration-color: #008080; font-weight: bold\">56</span>,  <span style=\"color: #008080; text-decoration-color: #008080; font-weight: bold\">1</span>, <span style=\"color: #008080; text-decoration-color: #008080; font-weight: bold\">54</span>, <span style=\"color: #008080; text-decoration-color: #008080; font-weight: bold\">47</span>, <span style=\"color: #008080; text-decoration-color: #008080; font-weight: bold\">49</span>, <span style=\"color: #008080; text-decoration-color: #008080; font-weight: bold\">43</span>, <span style=\"color: #008080; text-decoration-color: #008080; font-weight: bold\">57</span>,  <span style=\"color: #008080; text-decoration-color: #008080; font-weight: bold\">6</span>,  <span style=\"color: #008080; text-decoration-color: #008080; font-weight: bold\">1</span>, <span style=\"color: #008080; text-decoration-color: #008080; font-weight: bold\">43</span>,\n",
       "        <span style=\"color: #008080; text-decoration-color: #008080; font-weight: bold\">56</span>, <span style=\"color: #008080; text-decoration-color: #008080; font-weight: bold\">43</span>,  <span style=\"color: #008080; text-decoration-color: #008080; font-weight: bold\">1</span>, <span style=\"color: #008080; text-decoration-color: #008080; font-weight: bold\">61</span>, <span style=\"color: #008080; text-decoration-color: #008080; font-weight: bold\">43</span>,  <span style=\"color: #008080; text-decoration-color: #008080; font-weight: bold\">1</span>, <span style=\"color: #008080; text-decoration-color: #008080; font-weight: bold\">40</span>, <span style=\"color: #008080; text-decoration-color: #008080; font-weight: bold\">43</span>, <span style=\"color: #008080; text-decoration-color: #008080; font-weight: bold\">41</span>, <span style=\"color: #008080; text-decoration-color: #008080; font-weight: bold\">53</span>, <span style=\"color: #008080; text-decoration-color: #008080; font-weight: bold\">51</span>, <span style=\"color: #008080; text-decoration-color: #008080; font-weight: bold\">43</span>,  <span style=\"color: #008080; text-decoration-color: #008080; font-weight: bold\">1</span>, <span style=\"color: #008080; text-decoration-color: #008080; font-weight: bold\">56</span>, <span style=\"color: #008080; text-decoration-color: #008080; font-weight: bold\">39</span>, <span style=\"color: #008080; text-decoration-color: #008080; font-weight: bold\">49</span>, <span style=\"color: #008080; text-decoration-color: #008080; font-weight: bold\">43</span>, <span style=\"color: #008080; text-decoration-color: #008080; font-weight: bold\">57</span>,\n",
       "        <span style=\"color: #008080; text-decoration-color: #008080; font-weight: bold\">10</span>,  <span style=\"color: #008080; text-decoration-color: #008080; font-weight: bold\">1</span>, <span style=\"color: #008080; text-decoration-color: #008080; font-weight: bold\">44</span>, <span style=\"color: #008080; text-decoration-color: #008080; font-weight: bold\">53</span>, <span style=\"color: #008080; text-decoration-color: #008080; font-weight: bold\">56</span>,  <span style=\"color: #008080; text-decoration-color: #008080; font-weight: bold\">1</span>, <span style=\"color: #008080; text-decoration-color: #008080; font-weight: bold\">58</span>, <span style=\"color: #008080; text-decoration-color: #008080; font-weight: bold\">46</span>, <span style=\"color: #008080; text-decoration-color: #008080; font-weight: bold\">43</span>,  <span style=\"color: #008080; text-decoration-color: #008080; font-weight: bold\">1</span>, <span style=\"color: #008080; text-decoration-color: #008080; font-weight: bold\">45</span>, <span style=\"color: #008080; text-decoration-color: #008080; font-weight: bold\">53</span>, <span style=\"color: #008080; text-decoration-color: #008080; font-weight: bold\">42</span>, <span style=\"color: #008080; text-decoration-color: #008080; font-weight: bold\">57</span>,  <span style=\"color: #008080; text-decoration-color: #008080; font-weight: bold\">1</span>, <span style=\"color: #008080; text-decoration-color: #008080; font-weight: bold\">49</span>, <span style=\"color: #008080; text-decoration-color: #008080; font-weight: bold\">52</span>, <span style=\"color: #008080; text-decoration-color: #008080; font-weight: bold\">53</span>,\n",
       "        <span style=\"color: #008080; text-decoration-color: #008080; font-weight: bold\">61</span>,  <span style=\"color: #008080; text-decoration-color: #008080; font-weight: bold\">1</span>, <span style=\"color: #008080; text-decoration-color: #008080; font-weight: bold\">21</span>,  <span style=\"color: #008080; text-decoration-color: #008080; font-weight: bold\">0</span>, <span style=\"color: #008080; text-decoration-color: #008080; font-weight: bold\">57</span>, <span style=\"color: #008080; text-decoration-color: #008080; font-weight: bold\">54</span>, <span style=\"color: #008080; text-decoration-color: #008080; font-weight: bold\">43</span>, <span style=\"color: #008080; text-decoration-color: #008080; font-weight: bold\">39</span>, <span style=\"color: #008080; text-decoration-color: #008080; font-weight: bold\">49</span>,  <span style=\"color: #008080; text-decoration-color: #008080; font-weight: bold\">1</span>, <span style=\"color: #008080; text-decoration-color: #008080; font-weight: bold\">58</span>, <span style=\"color: #008080; text-decoration-color: #008080; font-weight: bold\">46</span>, <span style=\"color: #008080; text-decoration-color: #008080; font-weight: bold\">47</span>, <span style=\"color: #008080; text-decoration-color: #008080; font-weight: bold\">57</span>,  <span style=\"color: #008080; text-decoration-color: #008080; font-weight: bold\">1</span>, <span style=\"color: #008080; text-decoration-color: #008080; font-weight: bold\">47</span>, <span style=\"color: #008080; text-decoration-color: #008080; font-weight: bold\">52</span>,  <span style=\"color: #008080; text-decoration-color: #008080; font-weight: bold\">1</span>,\n",
       "        <span style=\"color: #008080; text-decoration-color: #008080; font-weight: bold\">46</span>, <span style=\"color: #008080; text-decoration-color: #008080; font-weight: bold\">59</span>, <span style=\"color: #008080; text-decoration-color: #008080; font-weight: bold\">52</span>, <span style=\"color: #008080; text-decoration-color: #008080; font-weight: bold\">45</span>, <span style=\"color: #008080; text-decoration-color: #008080; font-weight: bold\">43</span>, <span style=\"color: #008080; text-decoration-color: #008080; font-weight: bold\">56</span>,  <span style=\"color: #008080; text-decoration-color: #008080; font-weight: bold\">1</span>, <span style=\"color: #008080; text-decoration-color: #008080; font-weight: bold\">44</span>, <span style=\"color: #008080; text-decoration-color: #008080; font-weight: bold\">53</span>, <span style=\"color: #008080; text-decoration-color: #008080; font-weight: bold\">56</span>,  <span style=\"color: #008080; text-decoration-color: #008080; font-weight: bold\">1</span>, <span style=\"color: #008080; text-decoration-color: #008080; font-weight: bold\">40</span>, <span style=\"color: #008080; text-decoration-color: #008080; font-weight: bold\">56</span>, <span style=\"color: #008080; text-decoration-color: #008080; font-weight: bold\">43</span>, <span style=\"color: #008080; text-decoration-color: #008080; font-weight: bold\">39</span>, <span style=\"color: #008080; text-decoration-color: #008080; font-weight: bold\">42</span>,  <span style=\"color: #008080; text-decoration-color: #008080; font-weight: bold\">6</span>,  <span style=\"color: #008080; text-decoration-color: #008080; font-weight: bold\">1</span>,\n",
       "        <span style=\"color: #008080; text-decoration-color: #008080; font-weight: bold\">52</span>, <span style=\"color: #008080; text-decoration-color: #008080; font-weight: bold\">53</span>, <span style=\"color: #008080; text-decoration-color: #008080; font-weight: bold\">58</span>,  <span style=\"color: #008080; text-decoration-color: #008080; font-weight: bold\">1</span>, <span style=\"color: #008080; text-decoration-color: #008080; font-weight: bold\">47</span>, <span style=\"color: #008080; text-decoration-color: #008080; font-weight: bold\">52</span>,  <span style=\"color: #008080; text-decoration-color: #008080; font-weight: bold\">1</span>, <span style=\"color: #008080; text-decoration-color: #008080; font-weight: bold\">58</span>, <span style=\"color: #008080; text-decoration-color: #008080; font-weight: bold\">46</span>, <span style=\"color: #008080; text-decoration-color: #008080; font-weight: bold\">47</span>, <span style=\"color: #008080; text-decoration-color: #008080; font-weight: bold\">56</span>, <span style=\"color: #008080; text-decoration-color: #008080; font-weight: bold\">57</span>, <span style=\"color: #008080; text-decoration-color: #008080; font-weight: bold\">58</span>,  <span style=\"color: #008080; text-decoration-color: #008080; font-weight: bold\">1</span>, <span style=\"color: #008080; text-decoration-color: #008080; font-weight: bold\">44</span>, <span style=\"color: #008080; text-decoration-color: #008080; font-weight: bold\">53</span>, <span style=\"color: #008080; text-decoration-color: #008080; font-weight: bold\">56</span>,  <span style=\"color: #008080; text-decoration-color: #008080; font-weight: bold\">1</span>,\n",
       "        <span style=\"color: #008080; text-decoration-color: #008080; font-weight: bold\">56</span>, <span style=\"color: #008080; text-decoration-color: #008080; font-weight: bold\">43</span>, <span style=\"color: #008080; text-decoration-color: #008080; font-weight: bold\">60</span>, <span style=\"color: #008080; text-decoration-color: #008080; font-weight: bold\">43</span>, <span style=\"color: #008080; text-decoration-color: #008080; font-weight: bold\">52</span>, <span style=\"color: #008080; text-decoration-color: #008080; font-weight: bold\">45</span>, <span style=\"color: #008080; text-decoration-color: #008080; font-weight: bold\">43</span>,  <span style=\"color: #008080; text-decoration-color: #008080; font-weight: bold\">8</span>,  <span style=\"color: #008080; text-decoration-color: #008080; font-weight: bold\">0</span>,  <span style=\"color: #008080; text-decoration-color: #008080; font-weight: bold\">0</span><span style=\"font-weight: bold\">])</span>\n",
       "</pre>\n"
      ],
      "text/plain": [
       "\u001b[1;35mtensor\u001b[0m\u001b[1m(\u001b[0m\u001b[1m[\u001b[0m\u001b[1;36m18\u001b[0m, \u001b[1;36m47\u001b[0m, \u001b[1;36m56\u001b[0m, \u001b[1;36m57\u001b[0m, \u001b[1;36m58\u001b[0m,  \u001b[1;36m1\u001b[0m, \u001b[1;36m15\u001b[0m, \u001b[1;36m47\u001b[0m, \u001b[1;36m58\u001b[0m, \u001b[1;36m47\u001b[0m, \u001b[1;36m64\u001b[0m, \u001b[1;36m43\u001b[0m, \u001b[1;36m52\u001b[0m, \u001b[1;36m10\u001b[0m,  \u001b[1;36m0\u001b[0m, \u001b[1;36m14\u001b[0m, \u001b[1;36m43\u001b[0m, \u001b[1;36m44\u001b[0m,\n",
       "        \u001b[1;36m53\u001b[0m, \u001b[1;36m56\u001b[0m, \u001b[1;36m43\u001b[0m,  \u001b[1;36m1\u001b[0m, \u001b[1;36m61\u001b[0m, \u001b[1;36m43\u001b[0m,  \u001b[1;36m1\u001b[0m, \u001b[1;36m54\u001b[0m, \u001b[1;36m56\u001b[0m, \u001b[1;36m53\u001b[0m, \u001b[1;36m41\u001b[0m, \u001b[1;36m43\u001b[0m, \u001b[1;36m43\u001b[0m, \u001b[1;36m42\u001b[0m,  \u001b[1;36m1\u001b[0m, \u001b[1;36m39\u001b[0m, \u001b[1;36m52\u001b[0m, \u001b[1;36m63\u001b[0m,\n",
       "         \u001b[1;36m1\u001b[0m, \u001b[1;36m44\u001b[0m, \u001b[1;36m59\u001b[0m, \u001b[1;36m56\u001b[0m, \u001b[1;36m58\u001b[0m, \u001b[1;36m46\u001b[0m, \u001b[1;36m43\u001b[0m, \u001b[1;36m56\u001b[0m,  \u001b[1;36m6\u001b[0m,  \u001b[1;36m1\u001b[0m, \u001b[1;36m46\u001b[0m, \u001b[1;36m43\u001b[0m, \u001b[1;36m39\u001b[0m, \u001b[1;36m56\u001b[0m,  \u001b[1;36m1\u001b[0m, \u001b[1;36m51\u001b[0m, \u001b[1;36m43\u001b[0m,  \u001b[1;36m1\u001b[0m,\n",
       "        \u001b[1;36m57\u001b[0m, \u001b[1;36m54\u001b[0m, \u001b[1;36m43\u001b[0m, \u001b[1;36m39\u001b[0m, \u001b[1;36m49\u001b[0m,  \u001b[1;36m8\u001b[0m,  \u001b[1;36m0\u001b[0m,  \u001b[1;36m0\u001b[0m, \u001b[1;36m13\u001b[0m, \u001b[1;36m50\u001b[0m, \u001b[1;36m50\u001b[0m, \u001b[1;36m10\u001b[0m,  \u001b[1;36m0\u001b[0m, \u001b[1;36m31\u001b[0m, \u001b[1;36m54\u001b[0m, \u001b[1;36m43\u001b[0m, \u001b[1;36m39\u001b[0m, \u001b[1;36m49\u001b[0m,\n",
       "         \u001b[1;36m6\u001b[0m,  \u001b[1;36m1\u001b[0m, \u001b[1;36m57\u001b[0m, \u001b[1;36m54\u001b[0m, \u001b[1;36m43\u001b[0m, \u001b[1;36m39\u001b[0m, \u001b[1;36m49\u001b[0m,  \u001b[1;36m8\u001b[0m,  \u001b[1;36m0\u001b[0m,  \u001b[1;36m0\u001b[0m, \u001b[1;36m18\u001b[0m, \u001b[1;36m47\u001b[0m, \u001b[1;36m56\u001b[0m, \u001b[1;36m57\u001b[0m, \u001b[1;36m58\u001b[0m,  \u001b[1;36m1\u001b[0m, \u001b[1;36m15\u001b[0m, \u001b[1;36m47\u001b[0m,\n",
       "        \u001b[1;36m58\u001b[0m, \u001b[1;36m47\u001b[0m, \u001b[1;36m64\u001b[0m, \u001b[1;36m43\u001b[0m, \u001b[1;36m52\u001b[0m, \u001b[1;36m10\u001b[0m,  \u001b[1;36m0\u001b[0m, \u001b[1;36m37\u001b[0m, \u001b[1;36m53\u001b[0m, \u001b[1;36m59\u001b[0m,  \u001b[1;36m1\u001b[0m, \u001b[1;36m39\u001b[0m, \u001b[1;36m56\u001b[0m, \u001b[1;36m43\u001b[0m,  \u001b[1;36m1\u001b[0m, \u001b[1;36m39\u001b[0m, \u001b[1;36m50\u001b[0m, \u001b[1;36m50\u001b[0m,\n",
       "         \u001b[1;36m1\u001b[0m, \u001b[1;36m56\u001b[0m, \u001b[1;36m43\u001b[0m, \u001b[1;36m57\u001b[0m, \u001b[1;36m53\u001b[0m, \u001b[1;36m50\u001b[0m, \u001b[1;36m60\u001b[0m, \u001b[1;36m43\u001b[0m, \u001b[1;36m42\u001b[0m,  \u001b[1;36m1\u001b[0m, \u001b[1;36m56\u001b[0m, \u001b[1;36m39\u001b[0m, \u001b[1;36m58\u001b[0m, \u001b[1;36m46\u001b[0m, \u001b[1;36m43\u001b[0m, \u001b[1;36m56\u001b[0m,  \u001b[1;36m1\u001b[0m, \u001b[1;36m58\u001b[0m,\n",
       "        \u001b[1;36m53\u001b[0m,  \u001b[1;36m1\u001b[0m, \u001b[1;36m42\u001b[0m, \u001b[1;36m47\u001b[0m, \u001b[1;36m43\u001b[0m,  \u001b[1;36m1\u001b[0m, \u001b[1;36m58\u001b[0m, \u001b[1;36m46\u001b[0m, \u001b[1;36m39\u001b[0m, \u001b[1;36m52\u001b[0m,  \u001b[1;36m1\u001b[0m, \u001b[1;36m58\u001b[0m, \u001b[1;36m53\u001b[0m,  \u001b[1;36m1\u001b[0m, \u001b[1;36m44\u001b[0m, \u001b[1;36m39\u001b[0m, \u001b[1;36m51\u001b[0m, \u001b[1;36m47\u001b[0m,\n",
       "        \u001b[1;36m57\u001b[0m, \u001b[1;36m46\u001b[0m, \u001b[1;36m12\u001b[0m,  \u001b[1;36m0\u001b[0m,  \u001b[1;36m0\u001b[0m, \u001b[1;36m13\u001b[0m, \u001b[1;36m50\u001b[0m, \u001b[1;36m50\u001b[0m, \u001b[1;36m10\u001b[0m,  \u001b[1;36m0\u001b[0m, \u001b[1;36m30\u001b[0m, \u001b[1;36m43\u001b[0m, \u001b[1;36m57\u001b[0m, \u001b[1;36m53\u001b[0m, \u001b[1;36m50\u001b[0m, \u001b[1;36m60\u001b[0m, \u001b[1;36m43\u001b[0m, \u001b[1;36m42\u001b[0m,\n",
       "         \u001b[1;36m8\u001b[0m,  \u001b[1;36m1\u001b[0m, \u001b[1;36m56\u001b[0m, \u001b[1;36m43\u001b[0m, \u001b[1;36m57\u001b[0m, \u001b[1;36m53\u001b[0m, \u001b[1;36m50\u001b[0m, \u001b[1;36m60\u001b[0m, \u001b[1;36m43\u001b[0m, \u001b[1;36m42\u001b[0m,  \u001b[1;36m8\u001b[0m,  \u001b[1;36m0\u001b[0m,  \u001b[1;36m0\u001b[0m, \u001b[1;36m18\u001b[0m, \u001b[1;36m47\u001b[0m, \u001b[1;36m56\u001b[0m, \u001b[1;36m57\u001b[0m, \u001b[1;36m58\u001b[0m,\n",
       "         \u001b[1;36m1\u001b[0m, \u001b[1;36m15\u001b[0m, \u001b[1;36m47\u001b[0m, \u001b[1;36m58\u001b[0m, \u001b[1;36m47\u001b[0m, \u001b[1;36m64\u001b[0m, \u001b[1;36m43\u001b[0m, \u001b[1;36m52\u001b[0m, \u001b[1;36m10\u001b[0m,  \u001b[1;36m0\u001b[0m, \u001b[1;36m18\u001b[0m, \u001b[1;36m47\u001b[0m, \u001b[1;36m56\u001b[0m, \u001b[1;36m57\u001b[0m, \u001b[1;36m58\u001b[0m,  \u001b[1;36m6\u001b[0m,  \u001b[1;36m1\u001b[0m, \u001b[1;36m63\u001b[0m,\n",
       "        \u001b[1;36m53\u001b[0m, \u001b[1;36m59\u001b[0m,  \u001b[1;36m1\u001b[0m, \u001b[1;36m49\u001b[0m, \u001b[1;36m52\u001b[0m, \u001b[1;36m53\u001b[0m, \u001b[1;36m61\u001b[0m,  \u001b[1;36m1\u001b[0m, \u001b[1;36m15\u001b[0m, \u001b[1;36m39\u001b[0m, \u001b[1;36m47\u001b[0m, \u001b[1;36m59\u001b[0m, \u001b[1;36m57\u001b[0m,  \u001b[1;36m1\u001b[0m, \u001b[1;36m25\u001b[0m, \u001b[1;36m39\u001b[0m, \u001b[1;36m56\u001b[0m, \u001b[1;36m41\u001b[0m,\n",
       "        \u001b[1;36m47\u001b[0m, \u001b[1;36m59\u001b[0m, \u001b[1;36m57\u001b[0m,  \u001b[1;36m1\u001b[0m, \u001b[1;36m47\u001b[0m, \u001b[1;36m57\u001b[0m,  \u001b[1;36m1\u001b[0m, \u001b[1;36m41\u001b[0m, \u001b[1;36m46\u001b[0m, \u001b[1;36m47\u001b[0m, \u001b[1;36m43\u001b[0m, \u001b[1;36m44\u001b[0m,  \u001b[1;36m1\u001b[0m, \u001b[1;36m43\u001b[0m, \u001b[1;36m52\u001b[0m, \u001b[1;36m43\u001b[0m, \u001b[1;36m51\u001b[0m, \u001b[1;36m63\u001b[0m,\n",
       "         \u001b[1;36m1\u001b[0m, \u001b[1;36m58\u001b[0m, \u001b[1;36m53\u001b[0m,  \u001b[1;36m1\u001b[0m, \u001b[1;36m58\u001b[0m, \u001b[1;36m46\u001b[0m, \u001b[1;36m43\u001b[0m,  \u001b[1;36m1\u001b[0m, \u001b[1;36m54\u001b[0m, \u001b[1;36m43\u001b[0m, \u001b[1;36m53\u001b[0m, \u001b[1;36m54\u001b[0m, \u001b[1;36m50\u001b[0m, \u001b[1;36m43\u001b[0m,  \u001b[1;36m8\u001b[0m,  \u001b[1;36m0\u001b[0m,  \u001b[1;36m0\u001b[0m, \u001b[1;36m13\u001b[0m,\n",
       "        \u001b[1;36m50\u001b[0m, \u001b[1;36m50\u001b[0m, \u001b[1;36m10\u001b[0m,  \u001b[1;36m0\u001b[0m, \u001b[1;36m35\u001b[0m, \u001b[1;36m43\u001b[0m,  \u001b[1;36m1\u001b[0m, \u001b[1;36m49\u001b[0m, \u001b[1;36m52\u001b[0m, \u001b[1;36m53\u001b[0m, \u001b[1;36m61\u001b[0m,  \u001b[1;36m5\u001b[0m, \u001b[1;36m58\u001b[0m,  \u001b[1;36m6\u001b[0m,  \u001b[1;36m1\u001b[0m, \u001b[1;36m61\u001b[0m, \u001b[1;36m43\u001b[0m,  \u001b[1;36m1\u001b[0m,\n",
       "        \u001b[1;36m49\u001b[0m, \u001b[1;36m52\u001b[0m, \u001b[1;36m53\u001b[0m, \u001b[1;36m61\u001b[0m,  \u001b[1;36m5\u001b[0m, \u001b[1;36m58\u001b[0m,  \u001b[1;36m8\u001b[0m,  \u001b[1;36m0\u001b[0m,  \u001b[1;36m0\u001b[0m, \u001b[1;36m18\u001b[0m, \u001b[1;36m47\u001b[0m, \u001b[1;36m56\u001b[0m, \u001b[1;36m57\u001b[0m, \u001b[1;36m58\u001b[0m,  \u001b[1;36m1\u001b[0m, \u001b[1;36m15\u001b[0m, \u001b[1;36m47\u001b[0m, \u001b[1;36m58\u001b[0m,\n",
       "        \u001b[1;36m47\u001b[0m, \u001b[1;36m64\u001b[0m, \u001b[1;36m43\u001b[0m, \u001b[1;36m52\u001b[0m, \u001b[1;36m10\u001b[0m,  \u001b[1;36m0\u001b[0m, \u001b[1;36m24\u001b[0m, \u001b[1;36m43\u001b[0m, \u001b[1;36m58\u001b[0m,  \u001b[1;36m1\u001b[0m, \u001b[1;36m59\u001b[0m, \u001b[1;36m57\u001b[0m,  \u001b[1;36m1\u001b[0m, \u001b[1;36m49\u001b[0m, \u001b[1;36m47\u001b[0m, \u001b[1;36m50\u001b[0m, \u001b[1;36m50\u001b[0m,  \u001b[1;36m1\u001b[0m,\n",
       "        \u001b[1;36m46\u001b[0m, \u001b[1;36m47\u001b[0m, \u001b[1;36m51\u001b[0m,  \u001b[1;36m6\u001b[0m,  \u001b[1;36m1\u001b[0m, \u001b[1;36m39\u001b[0m, \u001b[1;36m52\u001b[0m, \u001b[1;36m42\u001b[0m,  \u001b[1;36m1\u001b[0m, \u001b[1;36m61\u001b[0m, \u001b[1;36m43\u001b[0m,  \u001b[1;36m5\u001b[0m, \u001b[1;36m50\u001b[0m, \u001b[1;36m50\u001b[0m,  \u001b[1;36m1\u001b[0m, \u001b[1;36m46\u001b[0m, \u001b[1;36m39\u001b[0m, \u001b[1;36m60\u001b[0m,\n",
       "        \u001b[1;36m43\u001b[0m,  \u001b[1;36m1\u001b[0m, \u001b[1;36m41\u001b[0m, \u001b[1;36m53\u001b[0m, \u001b[1;36m56\u001b[0m, \u001b[1;36m52\u001b[0m,  \u001b[1;36m1\u001b[0m, \u001b[1;36m39\u001b[0m, \u001b[1;36m58\u001b[0m,  \u001b[1;36m1\u001b[0m, \u001b[1;36m53\u001b[0m, \u001b[1;36m59\u001b[0m, \u001b[1;36m56\u001b[0m,  \u001b[1;36m1\u001b[0m, \u001b[1;36m53\u001b[0m, \u001b[1;36m61\u001b[0m, \u001b[1;36m52\u001b[0m,  \u001b[1;36m1\u001b[0m,\n",
       "        \u001b[1;36m54\u001b[0m, \u001b[1;36m56\u001b[0m, \u001b[1;36m47\u001b[0m, \u001b[1;36m41\u001b[0m, \u001b[1;36m43\u001b[0m,  \u001b[1;36m8\u001b[0m,  \u001b[1;36m0\u001b[0m, \u001b[1;36m21\u001b[0m, \u001b[1;36m57\u001b[0m,  \u001b[1;36m5\u001b[0m, \u001b[1;36m58\u001b[0m,  \u001b[1;36m1\u001b[0m, \u001b[1;36m39\u001b[0m,  \u001b[1;36m1\u001b[0m, \u001b[1;36m60\u001b[0m, \u001b[1;36m43\u001b[0m, \u001b[1;36m56\u001b[0m, \u001b[1;36m42\u001b[0m,\n",
       "        \u001b[1;36m47\u001b[0m, \u001b[1;36m41\u001b[0m, \u001b[1;36m58\u001b[0m, \u001b[1;36m12\u001b[0m,  \u001b[1;36m0\u001b[0m,  \u001b[1;36m0\u001b[0m, \u001b[1;36m13\u001b[0m, \u001b[1;36m50\u001b[0m, \u001b[1;36m50\u001b[0m, \u001b[1;36m10\u001b[0m,  \u001b[1;36m0\u001b[0m, \u001b[1;36m26\u001b[0m, \u001b[1;36m53\u001b[0m,  \u001b[1;36m1\u001b[0m, \u001b[1;36m51\u001b[0m, \u001b[1;36m53\u001b[0m, \u001b[1;36m56\u001b[0m, \u001b[1;36m43\u001b[0m,\n",
       "         \u001b[1;36m1\u001b[0m, \u001b[1;36m58\u001b[0m, \u001b[1;36m39\u001b[0m, \u001b[1;36m50\u001b[0m, \u001b[1;36m49\u001b[0m, \u001b[1;36m47\u001b[0m, \u001b[1;36m52\u001b[0m, \u001b[1;36m45\u001b[0m,  \u001b[1;36m1\u001b[0m, \u001b[1;36m53\u001b[0m, \u001b[1;36m52\u001b[0m,  \u001b[1;36m5\u001b[0m, \u001b[1;36m58\u001b[0m, \u001b[1;36m11\u001b[0m,  \u001b[1;36m1\u001b[0m, \u001b[1;36m50\u001b[0m, \u001b[1;36m43\u001b[0m, \u001b[1;36m58\u001b[0m,\n",
       "         \u001b[1;36m1\u001b[0m, \u001b[1;36m47\u001b[0m, \u001b[1;36m58\u001b[0m,  \u001b[1;36m1\u001b[0m, \u001b[1;36m40\u001b[0m, \u001b[1;36m43\u001b[0m,  \u001b[1;36m1\u001b[0m, \u001b[1;36m42\u001b[0m, \u001b[1;36m53\u001b[0m, \u001b[1;36m52\u001b[0m, \u001b[1;36m43\u001b[0m, \u001b[1;36m10\u001b[0m,  \u001b[1;36m1\u001b[0m, \u001b[1;36m39\u001b[0m, \u001b[1;36m61\u001b[0m, \u001b[1;36m39\u001b[0m, \u001b[1;36m63\u001b[0m,  \u001b[1;36m6\u001b[0m,\n",
       "         \u001b[1;36m1\u001b[0m, \u001b[1;36m39\u001b[0m, \u001b[1;36m61\u001b[0m, \u001b[1;36m39\u001b[0m, \u001b[1;36m63\u001b[0m,  \u001b[1;36m2\u001b[0m,  \u001b[1;36m0\u001b[0m,  \u001b[1;36m0\u001b[0m, \u001b[1;36m31\u001b[0m, \u001b[1;36m43\u001b[0m, \u001b[1;36m41\u001b[0m, \u001b[1;36m53\u001b[0m, \u001b[1;36m52\u001b[0m, \u001b[1;36m42\u001b[0m,  \u001b[1;36m1\u001b[0m, \u001b[1;36m15\u001b[0m, \u001b[1;36m47\u001b[0m, \u001b[1;36m58\u001b[0m,\n",
       "        \u001b[1;36m47\u001b[0m, \u001b[1;36m64\u001b[0m, \u001b[1;36m43\u001b[0m, \u001b[1;36m52\u001b[0m, \u001b[1;36m10\u001b[0m,  \u001b[1;36m0\u001b[0m, \u001b[1;36m27\u001b[0m, \u001b[1;36m52\u001b[0m, \u001b[1;36m43\u001b[0m,  \u001b[1;36m1\u001b[0m, \u001b[1;36m61\u001b[0m, \u001b[1;36m53\u001b[0m, \u001b[1;36m56\u001b[0m, \u001b[1;36m42\u001b[0m,  \u001b[1;36m6\u001b[0m,  \u001b[1;36m1\u001b[0m, \u001b[1;36m45\u001b[0m, \u001b[1;36m53\u001b[0m,\n",
       "        \u001b[1;36m53\u001b[0m, \u001b[1;36m42\u001b[0m,  \u001b[1;36m1\u001b[0m, \u001b[1;36m41\u001b[0m, \u001b[1;36m47\u001b[0m, \u001b[1;36m58\u001b[0m, \u001b[1;36m47\u001b[0m, \u001b[1;36m64\u001b[0m, \u001b[1;36m43\u001b[0m, \u001b[1;36m52\u001b[0m, \u001b[1;36m57\u001b[0m,  \u001b[1;36m8\u001b[0m,  \u001b[1;36m0\u001b[0m,  \u001b[1;36m0\u001b[0m, \u001b[1;36m18\u001b[0m, \u001b[1;36m47\u001b[0m, \u001b[1;36m56\u001b[0m, \u001b[1;36m57\u001b[0m,\n",
       "        \u001b[1;36m58\u001b[0m,  \u001b[1;36m1\u001b[0m, \u001b[1;36m15\u001b[0m, \u001b[1;36m47\u001b[0m, \u001b[1;36m58\u001b[0m, \u001b[1;36m47\u001b[0m, \u001b[1;36m64\u001b[0m, \u001b[1;36m43\u001b[0m, \u001b[1;36m52\u001b[0m, \u001b[1;36m10\u001b[0m,  \u001b[1;36m0\u001b[0m, \u001b[1;36m35\u001b[0m, \u001b[1;36m43\u001b[0m,  \u001b[1;36m1\u001b[0m, \u001b[1;36m39\u001b[0m, \u001b[1;36m56\u001b[0m, \u001b[1;36m43\u001b[0m,  \u001b[1;36m1\u001b[0m,\n",
       "        \u001b[1;36m39\u001b[0m, \u001b[1;36m41\u001b[0m, \u001b[1;36m41\u001b[0m, \u001b[1;36m53\u001b[0m, \u001b[1;36m59\u001b[0m, \u001b[1;36m52\u001b[0m, \u001b[1;36m58\u001b[0m, \u001b[1;36m43\u001b[0m, \u001b[1;36m42\u001b[0m,  \u001b[1;36m1\u001b[0m, \u001b[1;36m54\u001b[0m, \u001b[1;36m53\u001b[0m, \u001b[1;36m53\u001b[0m, \u001b[1;36m56\u001b[0m,  \u001b[1;36m1\u001b[0m, \u001b[1;36m41\u001b[0m, \u001b[1;36m47\u001b[0m, \u001b[1;36m58\u001b[0m,\n",
       "        \u001b[1;36m47\u001b[0m, \u001b[1;36m64\u001b[0m, \u001b[1;36m43\u001b[0m, \u001b[1;36m52\u001b[0m, \u001b[1;36m57\u001b[0m,  \u001b[1;36m6\u001b[0m,  \u001b[1;36m1\u001b[0m, \u001b[1;36m58\u001b[0m, \u001b[1;36m46\u001b[0m, \u001b[1;36m43\u001b[0m,  \u001b[1;36m1\u001b[0m, \u001b[1;36m54\u001b[0m, \u001b[1;36m39\u001b[0m, \u001b[1;36m58\u001b[0m, \u001b[1;36m56\u001b[0m, \u001b[1;36m47\u001b[0m, \u001b[1;36m41\u001b[0m, \u001b[1;36m47\u001b[0m,\n",
       "        \u001b[1;36m39\u001b[0m, \u001b[1;36m52\u001b[0m, \u001b[1;36m57\u001b[0m,  \u001b[1;36m1\u001b[0m, \u001b[1;36m45\u001b[0m, \u001b[1;36m53\u001b[0m, \u001b[1;36m53\u001b[0m, \u001b[1;36m42\u001b[0m,  \u001b[1;36m8\u001b[0m,  \u001b[1;36m0\u001b[0m, \u001b[1;36m35\u001b[0m, \u001b[1;36m46\u001b[0m, \u001b[1;36m39\u001b[0m, \u001b[1;36m58\u001b[0m,  \u001b[1;36m1\u001b[0m, \u001b[1;36m39\u001b[0m, \u001b[1;36m59\u001b[0m, \u001b[1;36m58\u001b[0m,\n",
       "        \u001b[1;36m46\u001b[0m, \u001b[1;36m53\u001b[0m, \u001b[1;36m56\u001b[0m, \u001b[1;36m47\u001b[0m, \u001b[1;36m58\u001b[0m, \u001b[1;36m63\u001b[0m,  \u001b[1;36m1\u001b[0m, \u001b[1;36m57\u001b[0m, \u001b[1;36m59\u001b[0m, \u001b[1;36m56\u001b[0m, \u001b[1;36m44\u001b[0m, \u001b[1;36m43\u001b[0m, \u001b[1;36m47\u001b[0m, \u001b[1;36m58\u001b[0m, \u001b[1;36m57\u001b[0m,  \u001b[1;36m1\u001b[0m, \u001b[1;36m53\u001b[0m, \u001b[1;36m52\u001b[0m,\n",
       "         \u001b[1;36m1\u001b[0m, \u001b[1;36m61\u001b[0m, \u001b[1;36m53\u001b[0m, \u001b[1;36m59\u001b[0m, \u001b[1;36m50\u001b[0m, \u001b[1;36m42\u001b[0m,  \u001b[1;36m1\u001b[0m, \u001b[1;36m56\u001b[0m, \u001b[1;36m43\u001b[0m, \u001b[1;36m50\u001b[0m, \u001b[1;36m47\u001b[0m, \u001b[1;36m43\u001b[0m, \u001b[1;36m60\u001b[0m, \u001b[1;36m43\u001b[0m,  \u001b[1;36m1\u001b[0m, \u001b[1;36m59\u001b[0m, \u001b[1;36m57\u001b[0m, \u001b[1;36m10\u001b[0m,\n",
       "         \u001b[1;36m1\u001b[0m, \u001b[1;36m47\u001b[0m, \u001b[1;36m44\u001b[0m,  \u001b[1;36m1\u001b[0m, \u001b[1;36m58\u001b[0m, \u001b[1;36m46\u001b[0m, \u001b[1;36m43\u001b[0m, \u001b[1;36m63\u001b[0m,  \u001b[1;36m0\u001b[0m, \u001b[1;36m61\u001b[0m, \u001b[1;36m53\u001b[0m, \u001b[1;36m59\u001b[0m, \u001b[1;36m50\u001b[0m, \u001b[1;36m42\u001b[0m,  \u001b[1;36m1\u001b[0m, \u001b[1;36m63\u001b[0m, \u001b[1;36m47\u001b[0m, \u001b[1;36m43\u001b[0m,\n",
       "        \u001b[1;36m50\u001b[0m, \u001b[1;36m42\u001b[0m,  \u001b[1;36m1\u001b[0m, \u001b[1;36m59\u001b[0m, \u001b[1;36m57\u001b[0m,  \u001b[1;36m1\u001b[0m, \u001b[1;36m40\u001b[0m, \u001b[1;36m59\u001b[0m, \u001b[1;36m58\u001b[0m,  \u001b[1;36m1\u001b[0m, \u001b[1;36m58\u001b[0m, \u001b[1;36m46\u001b[0m, \u001b[1;36m43\u001b[0m,  \u001b[1;36m1\u001b[0m, \u001b[1;36m57\u001b[0m, \u001b[1;36m59\u001b[0m, \u001b[1;36m54\u001b[0m, \u001b[1;36m43\u001b[0m,\n",
       "        \u001b[1;36m56\u001b[0m, \u001b[1;36m44\u001b[0m, \u001b[1;36m50\u001b[0m, \u001b[1;36m59\u001b[0m, \u001b[1;36m47\u001b[0m, \u001b[1;36m58\u001b[0m, \u001b[1;36m63\u001b[0m,  \u001b[1;36m6\u001b[0m,  \u001b[1;36m1\u001b[0m, \u001b[1;36m61\u001b[0m, \u001b[1;36m46\u001b[0m, \u001b[1;36m47\u001b[0m, \u001b[1;36m50\u001b[0m, \u001b[1;36m43\u001b[0m,  \u001b[1;36m1\u001b[0m, \u001b[1;36m47\u001b[0m, \u001b[1;36m58\u001b[0m,  \u001b[1;36m1\u001b[0m,\n",
       "        \u001b[1;36m61\u001b[0m, \u001b[1;36m43\u001b[0m, \u001b[1;36m56\u001b[0m, \u001b[1;36m43\u001b[0m,  \u001b[1;36m0\u001b[0m, \u001b[1;36m61\u001b[0m, \u001b[1;36m46\u001b[0m, \u001b[1;36m53\u001b[0m, \u001b[1;36m50\u001b[0m, \u001b[1;36m43\u001b[0m, \u001b[1;36m57\u001b[0m, \u001b[1;36m53\u001b[0m, \u001b[1;36m51\u001b[0m, \u001b[1;36m43\u001b[0m,  \u001b[1;36m6\u001b[0m,  \u001b[1;36m1\u001b[0m, \u001b[1;36m61\u001b[0m, \u001b[1;36m43\u001b[0m,\n",
       "         \u001b[1;36m1\u001b[0m, \u001b[1;36m51\u001b[0m, \u001b[1;36m47\u001b[0m, \u001b[1;36m45\u001b[0m, \u001b[1;36m46\u001b[0m, \u001b[1;36m58\u001b[0m,  \u001b[1;36m1\u001b[0m, \u001b[1;36m45\u001b[0m, \u001b[1;36m59\u001b[0m, \u001b[1;36m43\u001b[0m, \u001b[1;36m57\u001b[0m, \u001b[1;36m57\u001b[0m,  \u001b[1;36m1\u001b[0m, \u001b[1;36m58\u001b[0m, \u001b[1;36m46\u001b[0m, \u001b[1;36m43\u001b[0m, \u001b[1;36m63\u001b[0m,  \u001b[1;36m1\u001b[0m,\n",
       "        \u001b[1;36m56\u001b[0m, \u001b[1;36m43\u001b[0m, \u001b[1;36m50\u001b[0m, \u001b[1;36m47\u001b[0m, \u001b[1;36m43\u001b[0m, \u001b[1;36m60\u001b[0m, \u001b[1;36m43\u001b[0m, \u001b[1;36m42\u001b[0m,  \u001b[1;36m1\u001b[0m, \u001b[1;36m59\u001b[0m, \u001b[1;36m57\u001b[0m,  \u001b[1;36m1\u001b[0m, \u001b[1;36m46\u001b[0m, \u001b[1;36m59\u001b[0m, \u001b[1;36m51\u001b[0m, \u001b[1;36m39\u001b[0m, \u001b[1;36m52\u001b[0m, \u001b[1;36m43\u001b[0m,\n",
       "        \u001b[1;36m50\u001b[0m, \u001b[1;36m63\u001b[0m, \u001b[1;36m11\u001b[0m,  \u001b[1;36m0\u001b[0m, \u001b[1;36m40\u001b[0m, \u001b[1;36m59\u001b[0m, \u001b[1;36m58\u001b[0m,  \u001b[1;36m1\u001b[0m, \u001b[1;36m58\u001b[0m, \u001b[1;36m46\u001b[0m, \u001b[1;36m43\u001b[0m, \u001b[1;36m63\u001b[0m,  \u001b[1;36m1\u001b[0m, \u001b[1;36m58\u001b[0m, \u001b[1;36m46\u001b[0m, \u001b[1;36m47\u001b[0m, \u001b[1;36m52\u001b[0m, \u001b[1;36m49\u001b[0m,\n",
       "         \u001b[1;36m1\u001b[0m, \u001b[1;36m61\u001b[0m, \u001b[1;36m43\u001b[0m,  \u001b[1;36m1\u001b[0m, \u001b[1;36m39\u001b[0m, \u001b[1;36m56\u001b[0m, \u001b[1;36m43\u001b[0m,  \u001b[1;36m1\u001b[0m, \u001b[1;36m58\u001b[0m, \u001b[1;36m53\u001b[0m, \u001b[1;36m53\u001b[0m,  \u001b[1;36m1\u001b[0m, \u001b[1;36m42\u001b[0m, \u001b[1;36m43\u001b[0m, \u001b[1;36m39\u001b[0m, \u001b[1;36m56\u001b[0m, \u001b[1;36m10\u001b[0m,  \u001b[1;36m1\u001b[0m,\n",
       "        \u001b[1;36m58\u001b[0m, \u001b[1;36m46\u001b[0m, \u001b[1;36m43\u001b[0m,  \u001b[1;36m1\u001b[0m, \u001b[1;36m50\u001b[0m, \u001b[1;36m43\u001b[0m, \u001b[1;36m39\u001b[0m, \u001b[1;36m52\u001b[0m, \u001b[1;36m52\u001b[0m, \u001b[1;36m43\u001b[0m, \u001b[1;36m57\u001b[0m, \u001b[1;36m57\u001b[0m,  \u001b[1;36m1\u001b[0m, \u001b[1;36m58\u001b[0m, \u001b[1;36m46\u001b[0m, \u001b[1;36m39\u001b[0m, \u001b[1;36m58\u001b[0m,  \u001b[1;36m0\u001b[0m,\n",
       "        \u001b[1;36m39\u001b[0m, \u001b[1;36m44\u001b[0m, \u001b[1;36m44\u001b[0m, \u001b[1;36m50\u001b[0m, \u001b[1;36m47\u001b[0m, \u001b[1;36m41\u001b[0m, \u001b[1;36m58\u001b[0m, \u001b[1;36m57\u001b[0m,  \u001b[1;36m1\u001b[0m, \u001b[1;36m59\u001b[0m, \u001b[1;36m57\u001b[0m,  \u001b[1;36m6\u001b[0m,  \u001b[1;36m1\u001b[0m, \u001b[1;36m58\u001b[0m, \u001b[1;36m46\u001b[0m, \u001b[1;36m43\u001b[0m,  \u001b[1;36m1\u001b[0m, \u001b[1;36m53\u001b[0m,\n",
       "        \u001b[1;36m40\u001b[0m, \u001b[1;36m48\u001b[0m, \u001b[1;36m43\u001b[0m, \u001b[1;36m41\u001b[0m, \u001b[1;36m58\u001b[0m,  \u001b[1;36m1\u001b[0m, \u001b[1;36m53\u001b[0m, \u001b[1;36m44\u001b[0m,  \u001b[1;36m1\u001b[0m, \u001b[1;36m53\u001b[0m, \u001b[1;36m59\u001b[0m, \u001b[1;36m56\u001b[0m,  \u001b[1;36m1\u001b[0m, \u001b[1;36m51\u001b[0m, \u001b[1;36m47\u001b[0m, \u001b[1;36m57\u001b[0m, \u001b[1;36m43\u001b[0m, \u001b[1;36m56\u001b[0m,\n",
       "        \u001b[1;36m63\u001b[0m,  \u001b[1;36m6\u001b[0m,  \u001b[1;36m1\u001b[0m, \u001b[1;36m47\u001b[0m, \u001b[1;36m57\u001b[0m,  \u001b[1;36m1\u001b[0m, \u001b[1;36m39\u001b[0m, \u001b[1;36m57\u001b[0m,  \u001b[1;36m1\u001b[0m, \u001b[1;36m39\u001b[0m, \u001b[1;36m52\u001b[0m,  \u001b[1;36m0\u001b[0m, \u001b[1;36m47\u001b[0m, \u001b[1;36m52\u001b[0m, \u001b[1;36m60\u001b[0m, \u001b[1;36m43\u001b[0m, \u001b[1;36m52\u001b[0m, \u001b[1;36m58\u001b[0m,\n",
       "        \u001b[1;36m53\u001b[0m, \u001b[1;36m56\u001b[0m, \u001b[1;36m63\u001b[0m,  \u001b[1;36m1\u001b[0m, \u001b[1;36m58\u001b[0m, \u001b[1;36m53\u001b[0m,  \u001b[1;36m1\u001b[0m, \u001b[1;36m54\u001b[0m, \u001b[1;36m39\u001b[0m, \u001b[1;36m56\u001b[0m, \u001b[1;36m58\u001b[0m, \u001b[1;36m47\u001b[0m, \u001b[1;36m41\u001b[0m, \u001b[1;36m59\u001b[0m, \u001b[1;36m50\u001b[0m, \u001b[1;36m39\u001b[0m, \u001b[1;36m56\u001b[0m, \u001b[1;36m47\u001b[0m,\n",
       "        \u001b[1;36m57\u001b[0m, \u001b[1;36m43\u001b[0m,  \u001b[1;36m1\u001b[0m, \u001b[1;36m58\u001b[0m, \u001b[1;36m46\u001b[0m, \u001b[1;36m43\u001b[0m, \u001b[1;36m47\u001b[0m, \u001b[1;36m56\u001b[0m,  \u001b[1;36m1\u001b[0m, \u001b[1;36m39\u001b[0m, \u001b[1;36m40\u001b[0m, \u001b[1;36m59\u001b[0m, \u001b[1;36m52\u001b[0m, \u001b[1;36m42\u001b[0m, \u001b[1;36m39\u001b[0m, \u001b[1;36m52\u001b[0m, \u001b[1;36m41\u001b[0m, \u001b[1;36m43\u001b[0m,\n",
       "        \u001b[1;36m11\u001b[0m,  \u001b[1;36m1\u001b[0m, \u001b[1;36m53\u001b[0m, \u001b[1;36m59\u001b[0m, \u001b[1;36m56\u001b[0m,  \u001b[1;36m0\u001b[0m, \u001b[1;36m57\u001b[0m, \u001b[1;36m59\u001b[0m, \u001b[1;36m44\u001b[0m, \u001b[1;36m44\u001b[0m, \u001b[1;36m43\u001b[0m, \u001b[1;36m56\u001b[0m, \u001b[1;36m39\u001b[0m, \u001b[1;36m52\u001b[0m, \u001b[1;36m41\u001b[0m, \u001b[1;36m43\u001b[0m,  \u001b[1;36m1\u001b[0m, \u001b[1;36m47\u001b[0m,\n",
       "        \u001b[1;36m57\u001b[0m,  \u001b[1;36m1\u001b[0m, \u001b[1;36m39\u001b[0m,  \u001b[1;36m1\u001b[0m, \u001b[1;36m45\u001b[0m, \u001b[1;36m39\u001b[0m, \u001b[1;36m47\u001b[0m, \u001b[1;36m52\u001b[0m,  \u001b[1;36m1\u001b[0m, \u001b[1;36m58\u001b[0m, \u001b[1;36m53\u001b[0m,  \u001b[1;36m1\u001b[0m, \u001b[1;36m58\u001b[0m, \u001b[1;36m46\u001b[0m, \u001b[1;36m43\u001b[0m, \u001b[1;36m51\u001b[0m,  \u001b[1;36m1\u001b[0m, \u001b[1;36m24\u001b[0m,\n",
       "        \u001b[1;36m43\u001b[0m, \u001b[1;36m58\u001b[0m,  \u001b[1;36m1\u001b[0m, \u001b[1;36m59\u001b[0m, \u001b[1;36m57\u001b[0m,  \u001b[1;36m1\u001b[0m, \u001b[1;36m56\u001b[0m, \u001b[1;36m43\u001b[0m, \u001b[1;36m60\u001b[0m, \u001b[1;36m43\u001b[0m, \u001b[1;36m52\u001b[0m, \u001b[1;36m45\u001b[0m, \u001b[1;36m43\u001b[0m,  \u001b[1;36m1\u001b[0m, \u001b[1;36m58\u001b[0m, \u001b[1;36m46\u001b[0m, \u001b[1;36m47\u001b[0m, \u001b[1;36m57\u001b[0m,\n",
       "         \u001b[1;36m1\u001b[0m, \u001b[1;36m61\u001b[0m, \u001b[1;36m47\u001b[0m, \u001b[1;36m58\u001b[0m, \u001b[1;36m46\u001b[0m,  \u001b[1;36m0\u001b[0m, \u001b[1;36m53\u001b[0m, \u001b[1;36m59\u001b[0m, \u001b[1;36m56\u001b[0m,  \u001b[1;36m1\u001b[0m, \u001b[1;36m54\u001b[0m, \u001b[1;36m47\u001b[0m, \u001b[1;36m49\u001b[0m, \u001b[1;36m43\u001b[0m, \u001b[1;36m57\u001b[0m,  \u001b[1;36m6\u001b[0m,  \u001b[1;36m1\u001b[0m, \u001b[1;36m43\u001b[0m,\n",
       "        \u001b[1;36m56\u001b[0m, \u001b[1;36m43\u001b[0m,  \u001b[1;36m1\u001b[0m, \u001b[1;36m61\u001b[0m, \u001b[1;36m43\u001b[0m,  \u001b[1;36m1\u001b[0m, \u001b[1;36m40\u001b[0m, \u001b[1;36m43\u001b[0m, \u001b[1;36m41\u001b[0m, \u001b[1;36m53\u001b[0m, \u001b[1;36m51\u001b[0m, \u001b[1;36m43\u001b[0m,  \u001b[1;36m1\u001b[0m, \u001b[1;36m56\u001b[0m, \u001b[1;36m39\u001b[0m, \u001b[1;36m49\u001b[0m, \u001b[1;36m43\u001b[0m, \u001b[1;36m57\u001b[0m,\n",
       "        \u001b[1;36m10\u001b[0m,  \u001b[1;36m1\u001b[0m, \u001b[1;36m44\u001b[0m, \u001b[1;36m53\u001b[0m, \u001b[1;36m56\u001b[0m,  \u001b[1;36m1\u001b[0m, \u001b[1;36m58\u001b[0m, \u001b[1;36m46\u001b[0m, \u001b[1;36m43\u001b[0m,  \u001b[1;36m1\u001b[0m, \u001b[1;36m45\u001b[0m, \u001b[1;36m53\u001b[0m, \u001b[1;36m42\u001b[0m, \u001b[1;36m57\u001b[0m,  \u001b[1;36m1\u001b[0m, \u001b[1;36m49\u001b[0m, \u001b[1;36m52\u001b[0m, \u001b[1;36m53\u001b[0m,\n",
       "        \u001b[1;36m61\u001b[0m,  \u001b[1;36m1\u001b[0m, \u001b[1;36m21\u001b[0m,  \u001b[1;36m0\u001b[0m, \u001b[1;36m57\u001b[0m, \u001b[1;36m54\u001b[0m, \u001b[1;36m43\u001b[0m, \u001b[1;36m39\u001b[0m, \u001b[1;36m49\u001b[0m,  \u001b[1;36m1\u001b[0m, \u001b[1;36m58\u001b[0m, \u001b[1;36m46\u001b[0m, \u001b[1;36m47\u001b[0m, \u001b[1;36m57\u001b[0m,  \u001b[1;36m1\u001b[0m, \u001b[1;36m47\u001b[0m, \u001b[1;36m52\u001b[0m,  \u001b[1;36m1\u001b[0m,\n",
       "        \u001b[1;36m46\u001b[0m, \u001b[1;36m59\u001b[0m, \u001b[1;36m52\u001b[0m, \u001b[1;36m45\u001b[0m, \u001b[1;36m43\u001b[0m, \u001b[1;36m56\u001b[0m,  \u001b[1;36m1\u001b[0m, \u001b[1;36m44\u001b[0m, \u001b[1;36m53\u001b[0m, \u001b[1;36m56\u001b[0m,  \u001b[1;36m1\u001b[0m, \u001b[1;36m40\u001b[0m, \u001b[1;36m56\u001b[0m, \u001b[1;36m43\u001b[0m, \u001b[1;36m39\u001b[0m, \u001b[1;36m42\u001b[0m,  \u001b[1;36m6\u001b[0m,  \u001b[1;36m1\u001b[0m,\n",
       "        \u001b[1;36m52\u001b[0m, \u001b[1;36m53\u001b[0m, \u001b[1;36m58\u001b[0m,  \u001b[1;36m1\u001b[0m, \u001b[1;36m47\u001b[0m, \u001b[1;36m52\u001b[0m,  \u001b[1;36m1\u001b[0m, \u001b[1;36m58\u001b[0m, \u001b[1;36m46\u001b[0m, \u001b[1;36m47\u001b[0m, \u001b[1;36m56\u001b[0m, \u001b[1;36m57\u001b[0m, \u001b[1;36m58\u001b[0m,  \u001b[1;36m1\u001b[0m, \u001b[1;36m44\u001b[0m, \u001b[1;36m53\u001b[0m, \u001b[1;36m56\u001b[0m,  \u001b[1;36m1\u001b[0m,\n",
       "        \u001b[1;36m56\u001b[0m, \u001b[1;36m43\u001b[0m, \u001b[1;36m60\u001b[0m, \u001b[1;36m43\u001b[0m, \u001b[1;36m52\u001b[0m, \u001b[1;36m45\u001b[0m, \u001b[1;36m43\u001b[0m,  \u001b[1;36m8\u001b[0m,  \u001b[1;36m0\u001b[0m,  \u001b[1;36m0\u001b[0m\u001b[1m]\u001b[0m\u001b[1m)\u001b[0m\n"
      ]
     },
     "metadata": {},
     "output_type": "display_data"
    }
   ],
   "source": [
    "print(data.shape, data.dtype)\n",
    "print(data[:1000]) # the 1000 characters we looked at earlier will look like this to the GPT"
   ]
  },
  {
   "cell_type": "markdown",
   "id": "dfb15054",
   "metadata": {},
   "source": [
    "## Train/Validation Split"
   ]
  },
  {
   "cell_type": "code",
   "execution_count": null,
   "id": "44561c88",
   "metadata": {},
   "outputs": [],
   "source": [
    "#|export\n",
    "# lets now split up the data into train and validation sets\n",
    "n = int(0.9*len(data)) # first 90% will be train, rest will be val\n",
    "train_data = data[:n]\n",
    "val_data = data[n:]"
   ]
  },
  {
   "cell_type": "markdown",
   "id": "60390a4b",
   "metadata": {},
   "source": [
    "## Dataloader: Batches of chunks of data"
   ]
  },
  {
   "cell_type": "code",
   "execution_count": null,
   "id": "6378c0ab",
   "metadata": {},
   "outputs": [
    {
     "data": {
      "text/plain": [
       "tensor([18, 47, 56, 57, 58,  1, 15, 47, 58])"
      ]
     },
     "execution_count": null,
     "metadata": {},
     "output_type": "execute_result"
    }
   ],
   "source": [
    "block_size = 8\n",
    "train_data[:block_size + 1]"
   ]
  },
  {
   "cell_type": "code",
   "execution_count": null,
   "id": "28c1ee00",
   "metadata": {},
   "outputs": [
    {
     "data": {
      "text/html": [
       "<pre style=\"white-space:pre;overflow-x:auto;line-height:normal;font-family:Menlo,'DejaVu Sans Mono',consolas,'Courier New',monospace\">when input is <span style=\"color: #800080; text-decoration-color: #800080; font-weight: bold\">tensor</span><span style=\"font-weight: bold\">([</span><span style=\"color: #008080; text-decoration-color: #008080; font-weight: bold\">18</span><span style=\"font-weight: bold\">])</span> the target: <span style=\"color: #008080; text-decoration-color: #008080; font-weight: bold\">47</span>\n",
       "</pre>\n"
      ],
      "text/plain": [
       "when input is \u001b[1;35mtensor\u001b[0m\u001b[1m(\u001b[0m\u001b[1m[\u001b[0m\u001b[1;36m18\u001b[0m\u001b[1m]\u001b[0m\u001b[1m)\u001b[0m the target: \u001b[1;36m47\u001b[0m\n"
      ]
     },
     "metadata": {},
     "output_type": "display_data"
    },
    {
     "data": {
      "text/html": [
       "<pre style=\"white-space:pre;overflow-x:auto;line-height:normal;font-family:Menlo,'DejaVu Sans Mono',consolas,'Courier New',monospace\">when input is <span style=\"color: #800080; text-decoration-color: #800080; font-weight: bold\">tensor</span><span style=\"font-weight: bold\">([</span><span style=\"color: #008080; text-decoration-color: #008080; font-weight: bold\">18</span>, <span style=\"color: #008080; text-decoration-color: #008080; font-weight: bold\">47</span><span style=\"font-weight: bold\">])</span> the target: <span style=\"color: #008080; text-decoration-color: #008080; font-weight: bold\">56</span>\n",
       "</pre>\n"
      ],
      "text/plain": [
       "when input is \u001b[1;35mtensor\u001b[0m\u001b[1m(\u001b[0m\u001b[1m[\u001b[0m\u001b[1;36m18\u001b[0m, \u001b[1;36m47\u001b[0m\u001b[1m]\u001b[0m\u001b[1m)\u001b[0m the target: \u001b[1;36m56\u001b[0m\n"
      ]
     },
     "metadata": {},
     "output_type": "display_data"
    },
    {
     "data": {
      "text/html": [
       "<pre style=\"white-space:pre;overflow-x:auto;line-height:normal;font-family:Menlo,'DejaVu Sans Mono',consolas,'Courier New',monospace\">when input is <span style=\"color: #800080; text-decoration-color: #800080; font-weight: bold\">tensor</span><span style=\"font-weight: bold\">([</span><span style=\"color: #008080; text-decoration-color: #008080; font-weight: bold\">18</span>, <span style=\"color: #008080; text-decoration-color: #008080; font-weight: bold\">47</span>, <span style=\"color: #008080; text-decoration-color: #008080; font-weight: bold\">56</span><span style=\"font-weight: bold\">])</span> the target: <span style=\"color: #008080; text-decoration-color: #008080; font-weight: bold\">57</span>\n",
       "</pre>\n"
      ],
      "text/plain": [
       "when input is \u001b[1;35mtensor\u001b[0m\u001b[1m(\u001b[0m\u001b[1m[\u001b[0m\u001b[1;36m18\u001b[0m, \u001b[1;36m47\u001b[0m, \u001b[1;36m56\u001b[0m\u001b[1m]\u001b[0m\u001b[1m)\u001b[0m the target: \u001b[1;36m57\u001b[0m\n"
      ]
     },
     "metadata": {},
     "output_type": "display_data"
    },
    {
     "data": {
      "text/html": [
       "<pre style=\"white-space:pre;overflow-x:auto;line-height:normal;font-family:Menlo,'DejaVu Sans Mono',consolas,'Courier New',monospace\">when input is <span style=\"color: #800080; text-decoration-color: #800080; font-weight: bold\">tensor</span><span style=\"font-weight: bold\">([</span><span style=\"color: #008080; text-decoration-color: #008080; font-weight: bold\">18</span>, <span style=\"color: #008080; text-decoration-color: #008080; font-weight: bold\">47</span>, <span style=\"color: #008080; text-decoration-color: #008080; font-weight: bold\">56</span>, <span style=\"color: #008080; text-decoration-color: #008080; font-weight: bold\">57</span><span style=\"font-weight: bold\">])</span> the target: <span style=\"color: #008080; text-decoration-color: #008080; font-weight: bold\">58</span>\n",
       "</pre>\n"
      ],
      "text/plain": [
       "when input is \u001b[1;35mtensor\u001b[0m\u001b[1m(\u001b[0m\u001b[1m[\u001b[0m\u001b[1;36m18\u001b[0m, \u001b[1;36m47\u001b[0m, \u001b[1;36m56\u001b[0m, \u001b[1;36m57\u001b[0m\u001b[1m]\u001b[0m\u001b[1m)\u001b[0m the target: \u001b[1;36m58\u001b[0m\n"
      ]
     },
     "metadata": {},
     "output_type": "display_data"
    },
    {
     "data": {
      "text/html": [
       "<pre style=\"white-space:pre;overflow-x:auto;line-height:normal;font-family:Menlo,'DejaVu Sans Mono',consolas,'Courier New',monospace\">when input is <span style=\"color: #800080; text-decoration-color: #800080; font-weight: bold\">tensor</span><span style=\"font-weight: bold\">([</span><span style=\"color: #008080; text-decoration-color: #008080; font-weight: bold\">18</span>, <span style=\"color: #008080; text-decoration-color: #008080; font-weight: bold\">47</span>, <span style=\"color: #008080; text-decoration-color: #008080; font-weight: bold\">56</span>, <span style=\"color: #008080; text-decoration-color: #008080; font-weight: bold\">57</span>, <span style=\"color: #008080; text-decoration-color: #008080; font-weight: bold\">58</span><span style=\"font-weight: bold\">])</span> the target: <span style=\"color: #008080; text-decoration-color: #008080; font-weight: bold\">1</span>\n",
       "</pre>\n"
      ],
      "text/plain": [
       "when input is \u001b[1;35mtensor\u001b[0m\u001b[1m(\u001b[0m\u001b[1m[\u001b[0m\u001b[1;36m18\u001b[0m, \u001b[1;36m47\u001b[0m, \u001b[1;36m56\u001b[0m, \u001b[1;36m57\u001b[0m, \u001b[1;36m58\u001b[0m\u001b[1m]\u001b[0m\u001b[1m)\u001b[0m the target: \u001b[1;36m1\u001b[0m\n"
      ]
     },
     "metadata": {},
     "output_type": "display_data"
    },
    {
     "data": {
      "text/html": [
       "<pre style=\"white-space:pre;overflow-x:auto;line-height:normal;font-family:Menlo,'DejaVu Sans Mono',consolas,'Courier New',monospace\">when input is <span style=\"color: #800080; text-decoration-color: #800080; font-weight: bold\">tensor</span><span style=\"font-weight: bold\">([</span><span style=\"color: #008080; text-decoration-color: #008080; font-weight: bold\">18</span>, <span style=\"color: #008080; text-decoration-color: #008080; font-weight: bold\">47</span>, <span style=\"color: #008080; text-decoration-color: #008080; font-weight: bold\">56</span>, <span style=\"color: #008080; text-decoration-color: #008080; font-weight: bold\">57</span>, <span style=\"color: #008080; text-decoration-color: #008080; font-weight: bold\">58</span>,  <span style=\"color: #008080; text-decoration-color: #008080; font-weight: bold\">1</span><span style=\"font-weight: bold\">])</span> the target: <span style=\"color: #008080; text-decoration-color: #008080; font-weight: bold\">15</span>\n",
       "</pre>\n"
      ],
      "text/plain": [
       "when input is \u001b[1;35mtensor\u001b[0m\u001b[1m(\u001b[0m\u001b[1m[\u001b[0m\u001b[1;36m18\u001b[0m, \u001b[1;36m47\u001b[0m, \u001b[1;36m56\u001b[0m, \u001b[1;36m57\u001b[0m, \u001b[1;36m58\u001b[0m,  \u001b[1;36m1\u001b[0m\u001b[1m]\u001b[0m\u001b[1m)\u001b[0m the target: \u001b[1;36m15\u001b[0m\n"
      ]
     },
     "metadata": {},
     "output_type": "display_data"
    },
    {
     "data": {
      "text/html": [
       "<pre style=\"white-space:pre;overflow-x:auto;line-height:normal;font-family:Menlo,'DejaVu Sans Mono',consolas,'Courier New',monospace\">when input is <span style=\"color: #800080; text-decoration-color: #800080; font-weight: bold\">tensor</span><span style=\"font-weight: bold\">([</span><span style=\"color: #008080; text-decoration-color: #008080; font-weight: bold\">18</span>, <span style=\"color: #008080; text-decoration-color: #008080; font-weight: bold\">47</span>, <span style=\"color: #008080; text-decoration-color: #008080; font-weight: bold\">56</span>, <span style=\"color: #008080; text-decoration-color: #008080; font-weight: bold\">57</span>, <span style=\"color: #008080; text-decoration-color: #008080; font-weight: bold\">58</span>,  <span style=\"color: #008080; text-decoration-color: #008080; font-weight: bold\">1</span>, <span style=\"color: #008080; text-decoration-color: #008080; font-weight: bold\">15</span><span style=\"font-weight: bold\">])</span> the target: <span style=\"color: #008080; text-decoration-color: #008080; font-weight: bold\">47</span>\n",
       "</pre>\n"
      ],
      "text/plain": [
       "when input is \u001b[1;35mtensor\u001b[0m\u001b[1m(\u001b[0m\u001b[1m[\u001b[0m\u001b[1;36m18\u001b[0m, \u001b[1;36m47\u001b[0m, \u001b[1;36m56\u001b[0m, \u001b[1;36m57\u001b[0m, \u001b[1;36m58\u001b[0m,  \u001b[1;36m1\u001b[0m, \u001b[1;36m15\u001b[0m\u001b[1m]\u001b[0m\u001b[1m)\u001b[0m the target: \u001b[1;36m47\u001b[0m\n"
      ]
     },
     "metadata": {},
     "output_type": "display_data"
    },
    {
     "data": {
      "text/html": [
       "<pre style=\"white-space:pre;overflow-x:auto;line-height:normal;font-family:Menlo,'DejaVu Sans Mono',consolas,'Courier New',monospace\">when input is <span style=\"color: #800080; text-decoration-color: #800080; font-weight: bold\">tensor</span><span style=\"font-weight: bold\">([</span><span style=\"color: #008080; text-decoration-color: #008080; font-weight: bold\">18</span>, <span style=\"color: #008080; text-decoration-color: #008080; font-weight: bold\">47</span>, <span style=\"color: #008080; text-decoration-color: #008080; font-weight: bold\">56</span>, <span style=\"color: #008080; text-decoration-color: #008080; font-weight: bold\">57</span>, <span style=\"color: #008080; text-decoration-color: #008080; font-weight: bold\">58</span>,  <span style=\"color: #008080; text-decoration-color: #008080; font-weight: bold\">1</span>, <span style=\"color: #008080; text-decoration-color: #008080; font-weight: bold\">15</span>, <span style=\"color: #008080; text-decoration-color: #008080; font-weight: bold\">47</span><span style=\"font-weight: bold\">])</span> the target: <span style=\"color: #008080; text-decoration-color: #008080; font-weight: bold\">58</span>\n",
       "</pre>\n"
      ],
      "text/plain": [
       "when input is \u001b[1;35mtensor\u001b[0m\u001b[1m(\u001b[0m\u001b[1m[\u001b[0m\u001b[1;36m18\u001b[0m, \u001b[1;36m47\u001b[0m, \u001b[1;36m56\u001b[0m, \u001b[1;36m57\u001b[0m, \u001b[1;36m58\u001b[0m,  \u001b[1;36m1\u001b[0m, \u001b[1;36m15\u001b[0m, \u001b[1;36m47\u001b[0m\u001b[1m]\u001b[0m\u001b[1m)\u001b[0m the target: \u001b[1;36m58\u001b[0m\n"
      ]
     },
     "metadata": {},
     "output_type": "display_data"
    }
   ],
   "source": [
    "x = train_data[:block_size]\n",
    "y = train_data[1:block_size+1]\n",
    "for t in range(block_size):\n",
    "    context = x[:t+1]\n",
    "    target = y[t]\n",
    "    print(f'when input is {context} the target: {target}')"
   ]
  },
  {
   "cell_type": "code",
   "execution_count": null,
   "id": "dce8aa68",
   "metadata": {},
   "outputs": [],
   "source": [
    "#|export\n",
    "batch_size = 4 # how many independent sequences will we process in parallel?\n",
    "block_size = 8 # what is the maximum context length for predictions?\n",
    "\n",
    "def get_batch(split, batch_size = batch_size, block_size = block_size):\n",
    "    # generate a small batch of data of inputs x and targets y\n",
    "    data = train_data if split == \"train\" else val_data\n",
    "    ix = torch.randint(len(data) - block_size, (batch_size,))\n",
    "    x = torch.stack([data[i:i+block_size] for i in ix])\n",
    "    y = torch.stack([data[i+1:i+block_size+1] for i in ix])\n",
    "    x, y = x.to(device), y.to(device)\n",
    "    return x, y        "
   ]
  },
  {
   "cell_type": "code",
   "execution_count": null,
   "id": "1290639a",
   "metadata": {},
   "outputs": [
    {
     "data": {
      "text/html": [
       "<pre style=\"white-space:pre;overflow-x:auto;line-height:normal;font-family:Menlo,'DejaVu Sans Mono',consolas,'Courier New',monospace\">inputs\n",
       "</pre>\n"
      ],
      "text/plain": [
       "inputs\n"
      ]
     },
     "metadata": {},
     "output_type": "display_data"
    },
    {
     "data": {
      "text/html": [
       "<pre style=\"white-space:pre;overflow-x:auto;line-height:normal;font-family:Menlo,'DejaVu Sans Mono',consolas,'Courier New',monospace\"><span style=\"color: #800080; text-decoration-color: #800080; font-weight: bold\">torch.Size</span><span style=\"font-weight: bold\">([</span><span style=\"color: #008080; text-decoration-color: #008080; font-weight: bold\">4</span>, <span style=\"color: #008080; text-decoration-color: #008080; font-weight: bold\">8</span><span style=\"font-weight: bold\">])</span>\n",
       "</pre>\n"
      ],
      "text/plain": [
       "\u001b[1;35mtorch.Size\u001b[0m\u001b[1m(\u001b[0m\u001b[1m[\u001b[0m\u001b[1;36m4\u001b[0m, \u001b[1;36m8\u001b[0m\u001b[1m]\u001b[0m\u001b[1m)\u001b[0m\n"
      ]
     },
     "metadata": {},
     "output_type": "display_data"
    },
    {
     "data": {
      "text/html": [
       "<pre style=\"white-space:pre;overflow-x:auto;line-height:normal;font-family:Menlo,'DejaVu Sans Mono',consolas,'Courier New',monospace\"><span style=\"color: #800080; text-decoration-color: #800080; font-weight: bold\">tensor</span><span style=\"font-weight: bold\">([[</span><span style=\"color: #008080; text-decoration-color: #008080; font-weight: bold\">24</span>, <span style=\"color: #008080; text-decoration-color: #008080; font-weight: bold\">43</span>, <span style=\"color: #008080; text-decoration-color: #008080; font-weight: bold\">58</span>,  <span style=\"color: #008080; text-decoration-color: #008080; font-weight: bold\">5</span>, <span style=\"color: #008080; text-decoration-color: #008080; font-weight: bold\">57</span>,  <span style=\"color: #008080; text-decoration-color: #008080; font-weight: bold\">1</span>, <span style=\"color: #008080; text-decoration-color: #008080; font-weight: bold\">46</span>, <span style=\"color: #008080; text-decoration-color: #008080; font-weight: bold\">43</span><span style=\"font-weight: bold\">]</span>,\n",
       "        <span style=\"font-weight: bold\">[</span><span style=\"color: #008080; text-decoration-color: #008080; font-weight: bold\">44</span>, <span style=\"color: #008080; text-decoration-color: #008080; font-weight: bold\">53</span>, <span style=\"color: #008080; text-decoration-color: #008080; font-weight: bold\">56</span>,  <span style=\"color: #008080; text-decoration-color: #008080; font-weight: bold\">1</span>, <span style=\"color: #008080; text-decoration-color: #008080; font-weight: bold\">58</span>, <span style=\"color: #008080; text-decoration-color: #008080; font-weight: bold\">46</span>, <span style=\"color: #008080; text-decoration-color: #008080; font-weight: bold\">39</span>, <span style=\"color: #008080; text-decoration-color: #008080; font-weight: bold\">58</span><span style=\"font-weight: bold\">]</span>,\n",
       "        <span style=\"font-weight: bold\">[</span><span style=\"color: #008080; text-decoration-color: #008080; font-weight: bold\">52</span>, <span style=\"color: #008080; text-decoration-color: #008080; font-weight: bold\">58</span>,  <span style=\"color: #008080; text-decoration-color: #008080; font-weight: bold\">1</span>, <span style=\"color: #008080; text-decoration-color: #008080; font-weight: bold\">58</span>, <span style=\"color: #008080; text-decoration-color: #008080; font-weight: bold\">46</span>, <span style=\"color: #008080; text-decoration-color: #008080; font-weight: bold\">39</span>, <span style=\"color: #008080; text-decoration-color: #008080; font-weight: bold\">58</span>,  <span style=\"color: #008080; text-decoration-color: #008080; font-weight: bold\">1</span><span style=\"font-weight: bold\">]</span>,\n",
       "        <span style=\"font-weight: bold\">[</span><span style=\"color: #008080; text-decoration-color: #008080; font-weight: bold\">25</span>, <span style=\"color: #008080; text-decoration-color: #008080; font-weight: bold\">17</span>, <span style=\"color: #008080; text-decoration-color: #008080; font-weight: bold\">27</span>, <span style=\"color: #008080; text-decoration-color: #008080; font-weight: bold\">10</span>,  <span style=\"color: #008080; text-decoration-color: #008080; font-weight: bold\">0</span>, <span style=\"color: #008080; text-decoration-color: #008080; font-weight: bold\">21</span>,  <span style=\"color: #008080; text-decoration-color: #008080; font-weight: bold\">1</span>, <span style=\"color: #008080; text-decoration-color: #008080; font-weight: bold\">54</span><span style=\"font-weight: bold\">]])</span>\n",
       "</pre>\n"
      ],
      "text/plain": [
       "\u001b[1;35mtensor\u001b[0m\u001b[1m(\u001b[0m\u001b[1m[\u001b[0m\u001b[1m[\u001b[0m\u001b[1;36m24\u001b[0m, \u001b[1;36m43\u001b[0m, \u001b[1;36m58\u001b[0m,  \u001b[1;36m5\u001b[0m, \u001b[1;36m57\u001b[0m,  \u001b[1;36m1\u001b[0m, \u001b[1;36m46\u001b[0m, \u001b[1;36m43\u001b[0m\u001b[1m]\u001b[0m,\n",
       "        \u001b[1m[\u001b[0m\u001b[1;36m44\u001b[0m, \u001b[1;36m53\u001b[0m, \u001b[1;36m56\u001b[0m,  \u001b[1;36m1\u001b[0m, \u001b[1;36m58\u001b[0m, \u001b[1;36m46\u001b[0m, \u001b[1;36m39\u001b[0m, \u001b[1;36m58\u001b[0m\u001b[1m]\u001b[0m,\n",
       "        \u001b[1m[\u001b[0m\u001b[1;36m52\u001b[0m, \u001b[1;36m58\u001b[0m,  \u001b[1;36m1\u001b[0m, \u001b[1;36m58\u001b[0m, \u001b[1;36m46\u001b[0m, \u001b[1;36m39\u001b[0m, \u001b[1;36m58\u001b[0m,  \u001b[1;36m1\u001b[0m\u001b[1m]\u001b[0m,\n",
       "        \u001b[1m[\u001b[0m\u001b[1;36m25\u001b[0m, \u001b[1;36m17\u001b[0m, \u001b[1;36m27\u001b[0m, \u001b[1;36m10\u001b[0m,  \u001b[1;36m0\u001b[0m, \u001b[1;36m21\u001b[0m,  \u001b[1;36m1\u001b[0m, \u001b[1;36m54\u001b[0m\u001b[1m]\u001b[0m\u001b[1m]\u001b[0m\u001b[1m)\u001b[0m\n"
      ]
     },
     "metadata": {},
     "output_type": "display_data"
    },
    {
     "data": {
      "text/html": [
       "<pre style=\"white-space:pre;overflow-x:auto;line-height:normal;font-family:Menlo,'DejaVu Sans Mono',consolas,'Courier New',monospace\">targets\n",
       "</pre>\n"
      ],
      "text/plain": [
       "targets\n"
      ]
     },
     "metadata": {},
     "output_type": "display_data"
    },
    {
     "data": {
      "text/html": [
       "<pre style=\"white-space:pre;overflow-x:auto;line-height:normal;font-family:Menlo,'DejaVu Sans Mono',consolas,'Courier New',monospace\"><span style=\"color: #800080; text-decoration-color: #800080; font-weight: bold\">torch.Size</span><span style=\"font-weight: bold\">([</span><span style=\"color: #008080; text-decoration-color: #008080; font-weight: bold\">4</span>, <span style=\"color: #008080; text-decoration-color: #008080; font-weight: bold\">8</span><span style=\"font-weight: bold\">])</span>\n",
       "</pre>\n"
      ],
      "text/plain": [
       "\u001b[1;35mtorch.Size\u001b[0m\u001b[1m(\u001b[0m\u001b[1m[\u001b[0m\u001b[1;36m4\u001b[0m, \u001b[1;36m8\u001b[0m\u001b[1m]\u001b[0m\u001b[1m)\u001b[0m\n"
      ]
     },
     "metadata": {},
     "output_type": "display_data"
    },
    {
     "data": {
      "text/html": [
       "<pre style=\"white-space:pre;overflow-x:auto;line-height:normal;font-family:Menlo,'DejaVu Sans Mono',consolas,'Courier New',monospace\"><span style=\"color: #800080; text-decoration-color: #800080; font-weight: bold\">tensor</span><span style=\"font-weight: bold\">([[</span><span style=\"color: #008080; text-decoration-color: #008080; font-weight: bold\">43</span>, <span style=\"color: #008080; text-decoration-color: #008080; font-weight: bold\">58</span>,  <span style=\"color: #008080; text-decoration-color: #008080; font-weight: bold\">5</span>, <span style=\"color: #008080; text-decoration-color: #008080; font-weight: bold\">57</span>,  <span style=\"color: #008080; text-decoration-color: #008080; font-weight: bold\">1</span>, <span style=\"color: #008080; text-decoration-color: #008080; font-weight: bold\">46</span>, <span style=\"color: #008080; text-decoration-color: #008080; font-weight: bold\">43</span>, <span style=\"color: #008080; text-decoration-color: #008080; font-weight: bold\">39</span><span style=\"font-weight: bold\">]</span>,\n",
       "        <span style=\"font-weight: bold\">[</span><span style=\"color: #008080; text-decoration-color: #008080; font-weight: bold\">53</span>, <span style=\"color: #008080; text-decoration-color: #008080; font-weight: bold\">56</span>,  <span style=\"color: #008080; text-decoration-color: #008080; font-weight: bold\">1</span>, <span style=\"color: #008080; text-decoration-color: #008080; font-weight: bold\">58</span>, <span style=\"color: #008080; text-decoration-color: #008080; font-weight: bold\">46</span>, <span style=\"color: #008080; text-decoration-color: #008080; font-weight: bold\">39</span>, <span style=\"color: #008080; text-decoration-color: #008080; font-weight: bold\">58</span>,  <span style=\"color: #008080; text-decoration-color: #008080; font-weight: bold\">1</span><span style=\"font-weight: bold\">]</span>,\n",
       "        <span style=\"font-weight: bold\">[</span><span style=\"color: #008080; text-decoration-color: #008080; font-weight: bold\">58</span>,  <span style=\"color: #008080; text-decoration-color: #008080; font-weight: bold\">1</span>, <span style=\"color: #008080; text-decoration-color: #008080; font-weight: bold\">58</span>, <span style=\"color: #008080; text-decoration-color: #008080; font-weight: bold\">46</span>, <span style=\"color: #008080; text-decoration-color: #008080; font-weight: bold\">39</span>, <span style=\"color: #008080; text-decoration-color: #008080; font-weight: bold\">58</span>,  <span style=\"color: #008080; text-decoration-color: #008080; font-weight: bold\">1</span>, <span style=\"color: #008080; text-decoration-color: #008080; font-weight: bold\">46</span><span style=\"font-weight: bold\">]</span>,\n",
       "        <span style=\"font-weight: bold\">[</span><span style=\"color: #008080; text-decoration-color: #008080; font-weight: bold\">17</span>, <span style=\"color: #008080; text-decoration-color: #008080; font-weight: bold\">27</span>, <span style=\"color: #008080; text-decoration-color: #008080; font-weight: bold\">10</span>,  <span style=\"color: #008080; text-decoration-color: #008080; font-weight: bold\">0</span>, <span style=\"color: #008080; text-decoration-color: #008080; font-weight: bold\">21</span>,  <span style=\"color: #008080; text-decoration-color: #008080; font-weight: bold\">1</span>, <span style=\"color: #008080; text-decoration-color: #008080; font-weight: bold\">54</span>, <span style=\"color: #008080; text-decoration-color: #008080; font-weight: bold\">39</span><span style=\"font-weight: bold\">]])</span>\n",
       "</pre>\n"
      ],
      "text/plain": [
       "\u001b[1;35mtensor\u001b[0m\u001b[1m(\u001b[0m\u001b[1m[\u001b[0m\u001b[1m[\u001b[0m\u001b[1;36m43\u001b[0m, \u001b[1;36m58\u001b[0m,  \u001b[1;36m5\u001b[0m, \u001b[1;36m57\u001b[0m,  \u001b[1;36m1\u001b[0m, \u001b[1;36m46\u001b[0m, \u001b[1;36m43\u001b[0m, \u001b[1;36m39\u001b[0m\u001b[1m]\u001b[0m,\n",
       "        \u001b[1m[\u001b[0m\u001b[1;36m53\u001b[0m, \u001b[1;36m56\u001b[0m,  \u001b[1;36m1\u001b[0m, \u001b[1;36m58\u001b[0m, \u001b[1;36m46\u001b[0m, \u001b[1;36m39\u001b[0m, \u001b[1;36m58\u001b[0m,  \u001b[1;36m1\u001b[0m\u001b[1m]\u001b[0m,\n",
       "        \u001b[1m[\u001b[0m\u001b[1;36m58\u001b[0m,  \u001b[1;36m1\u001b[0m, \u001b[1;36m58\u001b[0m, \u001b[1;36m46\u001b[0m, \u001b[1;36m39\u001b[0m, \u001b[1;36m58\u001b[0m,  \u001b[1;36m1\u001b[0m, \u001b[1;36m46\u001b[0m\u001b[1m]\u001b[0m,\n",
       "        \u001b[1m[\u001b[0m\u001b[1;36m17\u001b[0m, \u001b[1;36m27\u001b[0m, \u001b[1;36m10\u001b[0m,  \u001b[1;36m0\u001b[0m, \u001b[1;36m21\u001b[0m,  \u001b[1;36m1\u001b[0m, \u001b[1;36m54\u001b[0m, \u001b[1;36m39\u001b[0m\u001b[1m]\u001b[0m\u001b[1m]\u001b[0m\u001b[1m)\u001b[0m\n"
      ]
     },
     "metadata": {},
     "output_type": "display_data"
    },
    {
     "data": {
      "text/html": [
       "<pre style=\"white-space:pre;overflow-x:auto;line-height:normal;font-family:Menlo,'DejaVu Sans Mono',consolas,'Courier New',monospace\">--------\n",
       "</pre>\n"
      ],
      "text/plain": [
       "--------\n"
      ]
     },
     "metadata": {},
     "output_type": "display_data"
    },
    {
     "data": {
      "text/html": [
       "<pre style=\"white-space:pre;overflow-x:auto;line-height:normal;font-family:Menlo,'DejaVu Sans Mono',consolas,'Courier New',monospace\">when input is <span style=\"font-weight: bold\">[</span><span style=\"color: #008080; text-decoration-color: #008080; font-weight: bold\">24</span><span style=\"font-weight: bold\">]</span> the target: <span style=\"color: #008080; text-decoration-color: #008080; font-weight: bold\">43</span>\n",
       "</pre>\n"
      ],
      "text/plain": [
       "when input is \u001b[1m[\u001b[0m\u001b[1;36m24\u001b[0m\u001b[1m]\u001b[0m the target: \u001b[1;36m43\u001b[0m\n"
      ]
     },
     "metadata": {},
     "output_type": "display_data"
    },
    {
     "data": {
      "text/html": [
       "<pre style=\"white-space:pre;overflow-x:auto;line-height:normal;font-family:Menlo,'DejaVu Sans Mono',consolas,'Courier New',monospace\">when input is <span style=\"font-weight: bold\">[</span><span style=\"color: #008080; text-decoration-color: #008080; font-weight: bold\">24</span>, <span style=\"color: #008080; text-decoration-color: #008080; font-weight: bold\">43</span><span style=\"font-weight: bold\">]</span> the target: <span style=\"color: #008080; text-decoration-color: #008080; font-weight: bold\">58</span>\n",
       "</pre>\n"
      ],
      "text/plain": [
       "when input is \u001b[1m[\u001b[0m\u001b[1;36m24\u001b[0m, \u001b[1;36m43\u001b[0m\u001b[1m]\u001b[0m the target: \u001b[1;36m58\u001b[0m\n"
      ]
     },
     "metadata": {},
     "output_type": "display_data"
    },
    {
     "data": {
      "text/html": [
       "<pre style=\"white-space:pre;overflow-x:auto;line-height:normal;font-family:Menlo,'DejaVu Sans Mono',consolas,'Courier New',monospace\">when input is <span style=\"font-weight: bold\">[</span><span style=\"color: #008080; text-decoration-color: #008080; font-weight: bold\">24</span>, <span style=\"color: #008080; text-decoration-color: #008080; font-weight: bold\">43</span>, <span style=\"color: #008080; text-decoration-color: #008080; font-weight: bold\">58</span><span style=\"font-weight: bold\">]</span> the target: <span style=\"color: #008080; text-decoration-color: #008080; font-weight: bold\">5</span>\n",
       "</pre>\n"
      ],
      "text/plain": [
       "when input is \u001b[1m[\u001b[0m\u001b[1;36m24\u001b[0m, \u001b[1;36m43\u001b[0m, \u001b[1;36m58\u001b[0m\u001b[1m]\u001b[0m the target: \u001b[1;36m5\u001b[0m\n"
      ]
     },
     "metadata": {},
     "output_type": "display_data"
    },
    {
     "data": {
      "text/html": [
       "<pre style=\"white-space:pre;overflow-x:auto;line-height:normal;font-family:Menlo,'DejaVu Sans Mono',consolas,'Courier New',monospace\">when input is <span style=\"font-weight: bold\">[</span><span style=\"color: #008080; text-decoration-color: #008080; font-weight: bold\">24</span>, <span style=\"color: #008080; text-decoration-color: #008080; font-weight: bold\">43</span>, <span style=\"color: #008080; text-decoration-color: #008080; font-weight: bold\">58</span>, <span style=\"color: #008080; text-decoration-color: #008080; font-weight: bold\">5</span><span style=\"font-weight: bold\">]</span> the target: <span style=\"color: #008080; text-decoration-color: #008080; font-weight: bold\">57</span>\n",
       "</pre>\n"
      ],
      "text/plain": [
       "when input is \u001b[1m[\u001b[0m\u001b[1;36m24\u001b[0m, \u001b[1;36m43\u001b[0m, \u001b[1;36m58\u001b[0m, \u001b[1;36m5\u001b[0m\u001b[1m]\u001b[0m the target: \u001b[1;36m57\u001b[0m\n"
      ]
     },
     "metadata": {},
     "output_type": "display_data"
    },
    {
     "data": {
      "text/html": [
       "<pre style=\"white-space:pre;overflow-x:auto;line-height:normal;font-family:Menlo,'DejaVu Sans Mono',consolas,'Courier New',monospace\">when input is <span style=\"font-weight: bold\">[</span><span style=\"color: #008080; text-decoration-color: #008080; font-weight: bold\">24</span>, <span style=\"color: #008080; text-decoration-color: #008080; font-weight: bold\">43</span>, <span style=\"color: #008080; text-decoration-color: #008080; font-weight: bold\">58</span>, <span style=\"color: #008080; text-decoration-color: #008080; font-weight: bold\">5</span>, <span style=\"color: #008080; text-decoration-color: #008080; font-weight: bold\">57</span><span style=\"font-weight: bold\">]</span> the target: <span style=\"color: #008080; text-decoration-color: #008080; font-weight: bold\">1</span>\n",
       "</pre>\n"
      ],
      "text/plain": [
       "when input is \u001b[1m[\u001b[0m\u001b[1;36m24\u001b[0m, \u001b[1;36m43\u001b[0m, \u001b[1;36m58\u001b[0m, \u001b[1;36m5\u001b[0m, \u001b[1;36m57\u001b[0m\u001b[1m]\u001b[0m the target: \u001b[1;36m1\u001b[0m\n"
      ]
     },
     "metadata": {},
     "output_type": "display_data"
    },
    {
     "data": {
      "text/html": [
       "<pre style=\"white-space:pre;overflow-x:auto;line-height:normal;font-family:Menlo,'DejaVu Sans Mono',consolas,'Courier New',monospace\">when input is <span style=\"font-weight: bold\">[</span><span style=\"color: #008080; text-decoration-color: #008080; font-weight: bold\">24</span>, <span style=\"color: #008080; text-decoration-color: #008080; font-weight: bold\">43</span>, <span style=\"color: #008080; text-decoration-color: #008080; font-weight: bold\">58</span>, <span style=\"color: #008080; text-decoration-color: #008080; font-weight: bold\">5</span>, <span style=\"color: #008080; text-decoration-color: #008080; font-weight: bold\">57</span>, <span style=\"color: #008080; text-decoration-color: #008080; font-weight: bold\">1</span><span style=\"font-weight: bold\">]</span> the target: <span style=\"color: #008080; text-decoration-color: #008080; font-weight: bold\">46</span>\n",
       "</pre>\n"
      ],
      "text/plain": [
       "when input is \u001b[1m[\u001b[0m\u001b[1;36m24\u001b[0m, \u001b[1;36m43\u001b[0m, \u001b[1;36m58\u001b[0m, \u001b[1;36m5\u001b[0m, \u001b[1;36m57\u001b[0m, \u001b[1;36m1\u001b[0m\u001b[1m]\u001b[0m the target: \u001b[1;36m46\u001b[0m\n"
      ]
     },
     "metadata": {},
     "output_type": "display_data"
    },
    {
     "data": {
      "text/html": [
       "<pre style=\"white-space:pre;overflow-x:auto;line-height:normal;font-family:Menlo,'DejaVu Sans Mono',consolas,'Courier New',monospace\">when input is <span style=\"font-weight: bold\">[</span><span style=\"color: #008080; text-decoration-color: #008080; font-weight: bold\">24</span>, <span style=\"color: #008080; text-decoration-color: #008080; font-weight: bold\">43</span>, <span style=\"color: #008080; text-decoration-color: #008080; font-weight: bold\">58</span>, <span style=\"color: #008080; text-decoration-color: #008080; font-weight: bold\">5</span>, <span style=\"color: #008080; text-decoration-color: #008080; font-weight: bold\">57</span>, <span style=\"color: #008080; text-decoration-color: #008080; font-weight: bold\">1</span>, <span style=\"color: #008080; text-decoration-color: #008080; font-weight: bold\">46</span><span style=\"font-weight: bold\">]</span> the target: <span style=\"color: #008080; text-decoration-color: #008080; font-weight: bold\">43</span>\n",
       "</pre>\n"
      ],
      "text/plain": [
       "when input is \u001b[1m[\u001b[0m\u001b[1;36m24\u001b[0m, \u001b[1;36m43\u001b[0m, \u001b[1;36m58\u001b[0m, \u001b[1;36m5\u001b[0m, \u001b[1;36m57\u001b[0m, \u001b[1;36m1\u001b[0m, \u001b[1;36m46\u001b[0m\u001b[1m]\u001b[0m the target: \u001b[1;36m43\u001b[0m\n"
      ]
     },
     "metadata": {},
     "output_type": "display_data"
    },
    {
     "data": {
      "text/html": [
       "<pre style=\"white-space:pre;overflow-x:auto;line-height:normal;font-family:Menlo,'DejaVu Sans Mono',consolas,'Courier New',monospace\">when input is <span style=\"font-weight: bold\">[</span><span style=\"color: #008080; text-decoration-color: #008080; font-weight: bold\">24</span>, <span style=\"color: #008080; text-decoration-color: #008080; font-weight: bold\">43</span>, <span style=\"color: #008080; text-decoration-color: #008080; font-weight: bold\">58</span>, <span style=\"color: #008080; text-decoration-color: #008080; font-weight: bold\">5</span>, <span style=\"color: #008080; text-decoration-color: #008080; font-weight: bold\">57</span>, <span style=\"color: #008080; text-decoration-color: #008080; font-weight: bold\">1</span>, <span style=\"color: #008080; text-decoration-color: #008080; font-weight: bold\">46</span>, <span style=\"color: #008080; text-decoration-color: #008080; font-weight: bold\">43</span><span style=\"font-weight: bold\">]</span> the target: <span style=\"color: #008080; text-decoration-color: #008080; font-weight: bold\">39</span>\n",
       "</pre>\n"
      ],
      "text/plain": [
       "when input is \u001b[1m[\u001b[0m\u001b[1;36m24\u001b[0m, \u001b[1;36m43\u001b[0m, \u001b[1;36m58\u001b[0m, \u001b[1;36m5\u001b[0m, \u001b[1;36m57\u001b[0m, \u001b[1;36m1\u001b[0m, \u001b[1;36m46\u001b[0m, \u001b[1;36m43\u001b[0m\u001b[1m]\u001b[0m the target: \u001b[1;36m39\u001b[0m\n"
      ]
     },
     "metadata": {},
     "output_type": "display_data"
    },
    {
     "data": {
      "text/html": [
       "<pre style=\"white-space:pre;overflow-x:auto;line-height:normal;font-family:Menlo,'DejaVu Sans Mono',consolas,'Courier New',monospace\">when input is <span style=\"font-weight: bold\">[</span><span style=\"color: #008080; text-decoration-color: #008080; font-weight: bold\">44</span><span style=\"font-weight: bold\">]</span> the target: <span style=\"color: #008080; text-decoration-color: #008080; font-weight: bold\">53</span>\n",
       "</pre>\n"
      ],
      "text/plain": [
       "when input is \u001b[1m[\u001b[0m\u001b[1;36m44\u001b[0m\u001b[1m]\u001b[0m the target: \u001b[1;36m53\u001b[0m\n"
      ]
     },
     "metadata": {},
     "output_type": "display_data"
    },
    {
     "data": {
      "text/html": [
       "<pre style=\"white-space:pre;overflow-x:auto;line-height:normal;font-family:Menlo,'DejaVu Sans Mono',consolas,'Courier New',monospace\">when input is <span style=\"font-weight: bold\">[</span><span style=\"color: #008080; text-decoration-color: #008080; font-weight: bold\">44</span>, <span style=\"color: #008080; text-decoration-color: #008080; font-weight: bold\">53</span><span style=\"font-weight: bold\">]</span> the target: <span style=\"color: #008080; text-decoration-color: #008080; font-weight: bold\">56</span>\n",
       "</pre>\n"
      ],
      "text/plain": [
       "when input is \u001b[1m[\u001b[0m\u001b[1;36m44\u001b[0m, \u001b[1;36m53\u001b[0m\u001b[1m]\u001b[0m the target: \u001b[1;36m56\u001b[0m\n"
      ]
     },
     "metadata": {},
     "output_type": "display_data"
    },
    {
     "data": {
      "text/html": [
       "<pre style=\"white-space:pre;overflow-x:auto;line-height:normal;font-family:Menlo,'DejaVu Sans Mono',consolas,'Courier New',monospace\">when input is <span style=\"font-weight: bold\">[</span><span style=\"color: #008080; text-decoration-color: #008080; font-weight: bold\">44</span>, <span style=\"color: #008080; text-decoration-color: #008080; font-weight: bold\">53</span>, <span style=\"color: #008080; text-decoration-color: #008080; font-weight: bold\">56</span><span style=\"font-weight: bold\">]</span> the target: <span style=\"color: #008080; text-decoration-color: #008080; font-weight: bold\">1</span>\n",
       "</pre>\n"
      ],
      "text/plain": [
       "when input is \u001b[1m[\u001b[0m\u001b[1;36m44\u001b[0m, \u001b[1;36m53\u001b[0m, \u001b[1;36m56\u001b[0m\u001b[1m]\u001b[0m the target: \u001b[1;36m1\u001b[0m\n"
      ]
     },
     "metadata": {},
     "output_type": "display_data"
    },
    {
     "data": {
      "text/html": [
       "<pre style=\"white-space:pre;overflow-x:auto;line-height:normal;font-family:Menlo,'DejaVu Sans Mono',consolas,'Courier New',monospace\">when input is <span style=\"font-weight: bold\">[</span><span style=\"color: #008080; text-decoration-color: #008080; font-weight: bold\">44</span>, <span style=\"color: #008080; text-decoration-color: #008080; font-weight: bold\">53</span>, <span style=\"color: #008080; text-decoration-color: #008080; font-weight: bold\">56</span>, <span style=\"color: #008080; text-decoration-color: #008080; font-weight: bold\">1</span><span style=\"font-weight: bold\">]</span> the target: <span style=\"color: #008080; text-decoration-color: #008080; font-weight: bold\">58</span>\n",
       "</pre>\n"
      ],
      "text/plain": [
       "when input is \u001b[1m[\u001b[0m\u001b[1;36m44\u001b[0m, \u001b[1;36m53\u001b[0m, \u001b[1;36m56\u001b[0m, \u001b[1;36m1\u001b[0m\u001b[1m]\u001b[0m the target: \u001b[1;36m58\u001b[0m\n"
      ]
     },
     "metadata": {},
     "output_type": "display_data"
    },
    {
     "data": {
      "text/html": [
       "<pre style=\"white-space:pre;overflow-x:auto;line-height:normal;font-family:Menlo,'DejaVu Sans Mono',consolas,'Courier New',monospace\">when input is <span style=\"font-weight: bold\">[</span><span style=\"color: #008080; text-decoration-color: #008080; font-weight: bold\">44</span>, <span style=\"color: #008080; text-decoration-color: #008080; font-weight: bold\">53</span>, <span style=\"color: #008080; text-decoration-color: #008080; font-weight: bold\">56</span>, <span style=\"color: #008080; text-decoration-color: #008080; font-weight: bold\">1</span>, <span style=\"color: #008080; text-decoration-color: #008080; font-weight: bold\">58</span><span style=\"font-weight: bold\">]</span> the target: <span style=\"color: #008080; text-decoration-color: #008080; font-weight: bold\">46</span>\n",
       "</pre>\n"
      ],
      "text/plain": [
       "when input is \u001b[1m[\u001b[0m\u001b[1;36m44\u001b[0m, \u001b[1;36m53\u001b[0m, \u001b[1;36m56\u001b[0m, \u001b[1;36m1\u001b[0m, \u001b[1;36m58\u001b[0m\u001b[1m]\u001b[0m the target: \u001b[1;36m46\u001b[0m\n"
      ]
     },
     "metadata": {},
     "output_type": "display_data"
    },
    {
     "data": {
      "text/html": [
       "<pre style=\"white-space:pre;overflow-x:auto;line-height:normal;font-family:Menlo,'DejaVu Sans Mono',consolas,'Courier New',monospace\">when input is <span style=\"font-weight: bold\">[</span><span style=\"color: #008080; text-decoration-color: #008080; font-weight: bold\">44</span>, <span style=\"color: #008080; text-decoration-color: #008080; font-weight: bold\">53</span>, <span style=\"color: #008080; text-decoration-color: #008080; font-weight: bold\">56</span>, <span style=\"color: #008080; text-decoration-color: #008080; font-weight: bold\">1</span>, <span style=\"color: #008080; text-decoration-color: #008080; font-weight: bold\">58</span>, <span style=\"color: #008080; text-decoration-color: #008080; font-weight: bold\">46</span><span style=\"font-weight: bold\">]</span> the target: <span style=\"color: #008080; text-decoration-color: #008080; font-weight: bold\">39</span>\n",
       "</pre>\n"
      ],
      "text/plain": [
       "when input is \u001b[1m[\u001b[0m\u001b[1;36m44\u001b[0m, \u001b[1;36m53\u001b[0m, \u001b[1;36m56\u001b[0m, \u001b[1;36m1\u001b[0m, \u001b[1;36m58\u001b[0m, \u001b[1;36m46\u001b[0m\u001b[1m]\u001b[0m the target: \u001b[1;36m39\u001b[0m\n"
      ]
     },
     "metadata": {},
     "output_type": "display_data"
    },
    {
     "data": {
      "text/html": [
       "<pre style=\"white-space:pre;overflow-x:auto;line-height:normal;font-family:Menlo,'DejaVu Sans Mono',consolas,'Courier New',monospace\">when input is <span style=\"font-weight: bold\">[</span><span style=\"color: #008080; text-decoration-color: #008080; font-weight: bold\">44</span>, <span style=\"color: #008080; text-decoration-color: #008080; font-weight: bold\">53</span>, <span style=\"color: #008080; text-decoration-color: #008080; font-weight: bold\">56</span>, <span style=\"color: #008080; text-decoration-color: #008080; font-weight: bold\">1</span>, <span style=\"color: #008080; text-decoration-color: #008080; font-weight: bold\">58</span>, <span style=\"color: #008080; text-decoration-color: #008080; font-weight: bold\">46</span>, <span style=\"color: #008080; text-decoration-color: #008080; font-weight: bold\">39</span><span style=\"font-weight: bold\">]</span> the target: <span style=\"color: #008080; text-decoration-color: #008080; font-weight: bold\">58</span>\n",
       "</pre>\n"
      ],
      "text/plain": [
       "when input is \u001b[1m[\u001b[0m\u001b[1;36m44\u001b[0m, \u001b[1;36m53\u001b[0m, \u001b[1;36m56\u001b[0m, \u001b[1;36m1\u001b[0m, \u001b[1;36m58\u001b[0m, \u001b[1;36m46\u001b[0m, \u001b[1;36m39\u001b[0m\u001b[1m]\u001b[0m the target: \u001b[1;36m58\u001b[0m\n"
      ]
     },
     "metadata": {},
     "output_type": "display_data"
    },
    {
     "data": {
      "text/html": [
       "<pre style=\"white-space:pre;overflow-x:auto;line-height:normal;font-family:Menlo,'DejaVu Sans Mono',consolas,'Courier New',monospace\">when input is <span style=\"font-weight: bold\">[</span><span style=\"color: #008080; text-decoration-color: #008080; font-weight: bold\">44</span>, <span style=\"color: #008080; text-decoration-color: #008080; font-weight: bold\">53</span>, <span style=\"color: #008080; text-decoration-color: #008080; font-weight: bold\">56</span>, <span style=\"color: #008080; text-decoration-color: #008080; font-weight: bold\">1</span>, <span style=\"color: #008080; text-decoration-color: #008080; font-weight: bold\">58</span>, <span style=\"color: #008080; text-decoration-color: #008080; font-weight: bold\">46</span>, <span style=\"color: #008080; text-decoration-color: #008080; font-weight: bold\">39</span>, <span style=\"color: #008080; text-decoration-color: #008080; font-weight: bold\">58</span><span style=\"font-weight: bold\">]</span> the target: <span style=\"color: #008080; text-decoration-color: #008080; font-weight: bold\">1</span>\n",
       "</pre>\n"
      ],
      "text/plain": [
       "when input is \u001b[1m[\u001b[0m\u001b[1;36m44\u001b[0m, \u001b[1;36m53\u001b[0m, \u001b[1;36m56\u001b[0m, \u001b[1;36m1\u001b[0m, \u001b[1;36m58\u001b[0m, \u001b[1;36m46\u001b[0m, \u001b[1;36m39\u001b[0m, \u001b[1;36m58\u001b[0m\u001b[1m]\u001b[0m the target: \u001b[1;36m1\u001b[0m\n"
      ]
     },
     "metadata": {},
     "output_type": "display_data"
    },
    {
     "data": {
      "text/html": [
       "<pre style=\"white-space:pre;overflow-x:auto;line-height:normal;font-family:Menlo,'DejaVu Sans Mono',consolas,'Courier New',monospace\">when input is <span style=\"font-weight: bold\">[</span><span style=\"color: #008080; text-decoration-color: #008080; font-weight: bold\">52</span><span style=\"font-weight: bold\">]</span> the target: <span style=\"color: #008080; text-decoration-color: #008080; font-weight: bold\">58</span>\n",
       "</pre>\n"
      ],
      "text/plain": [
       "when input is \u001b[1m[\u001b[0m\u001b[1;36m52\u001b[0m\u001b[1m]\u001b[0m the target: \u001b[1;36m58\u001b[0m\n"
      ]
     },
     "metadata": {},
     "output_type": "display_data"
    },
    {
     "data": {
      "text/html": [
       "<pre style=\"white-space:pre;overflow-x:auto;line-height:normal;font-family:Menlo,'DejaVu Sans Mono',consolas,'Courier New',monospace\">when input is <span style=\"font-weight: bold\">[</span><span style=\"color: #008080; text-decoration-color: #008080; font-weight: bold\">52</span>, <span style=\"color: #008080; text-decoration-color: #008080; font-weight: bold\">58</span><span style=\"font-weight: bold\">]</span> the target: <span style=\"color: #008080; text-decoration-color: #008080; font-weight: bold\">1</span>\n",
       "</pre>\n"
      ],
      "text/plain": [
       "when input is \u001b[1m[\u001b[0m\u001b[1;36m52\u001b[0m, \u001b[1;36m58\u001b[0m\u001b[1m]\u001b[0m the target: \u001b[1;36m1\u001b[0m\n"
      ]
     },
     "metadata": {},
     "output_type": "display_data"
    },
    {
     "data": {
      "text/html": [
       "<pre style=\"white-space:pre;overflow-x:auto;line-height:normal;font-family:Menlo,'DejaVu Sans Mono',consolas,'Courier New',monospace\">when input is <span style=\"font-weight: bold\">[</span><span style=\"color: #008080; text-decoration-color: #008080; font-weight: bold\">52</span>, <span style=\"color: #008080; text-decoration-color: #008080; font-weight: bold\">58</span>, <span style=\"color: #008080; text-decoration-color: #008080; font-weight: bold\">1</span><span style=\"font-weight: bold\">]</span> the target: <span style=\"color: #008080; text-decoration-color: #008080; font-weight: bold\">58</span>\n",
       "</pre>\n"
      ],
      "text/plain": [
       "when input is \u001b[1m[\u001b[0m\u001b[1;36m52\u001b[0m, \u001b[1;36m58\u001b[0m, \u001b[1;36m1\u001b[0m\u001b[1m]\u001b[0m the target: \u001b[1;36m58\u001b[0m\n"
      ]
     },
     "metadata": {},
     "output_type": "display_data"
    },
    {
     "data": {
      "text/html": [
       "<pre style=\"white-space:pre;overflow-x:auto;line-height:normal;font-family:Menlo,'DejaVu Sans Mono',consolas,'Courier New',monospace\">when input is <span style=\"font-weight: bold\">[</span><span style=\"color: #008080; text-decoration-color: #008080; font-weight: bold\">52</span>, <span style=\"color: #008080; text-decoration-color: #008080; font-weight: bold\">58</span>, <span style=\"color: #008080; text-decoration-color: #008080; font-weight: bold\">1</span>, <span style=\"color: #008080; text-decoration-color: #008080; font-weight: bold\">58</span><span style=\"font-weight: bold\">]</span> the target: <span style=\"color: #008080; text-decoration-color: #008080; font-weight: bold\">46</span>\n",
       "</pre>\n"
      ],
      "text/plain": [
       "when input is \u001b[1m[\u001b[0m\u001b[1;36m52\u001b[0m, \u001b[1;36m58\u001b[0m, \u001b[1;36m1\u001b[0m, \u001b[1;36m58\u001b[0m\u001b[1m]\u001b[0m the target: \u001b[1;36m46\u001b[0m\n"
      ]
     },
     "metadata": {},
     "output_type": "display_data"
    },
    {
     "data": {
      "text/html": [
       "<pre style=\"white-space:pre;overflow-x:auto;line-height:normal;font-family:Menlo,'DejaVu Sans Mono',consolas,'Courier New',monospace\">when input is <span style=\"font-weight: bold\">[</span><span style=\"color: #008080; text-decoration-color: #008080; font-weight: bold\">52</span>, <span style=\"color: #008080; text-decoration-color: #008080; font-weight: bold\">58</span>, <span style=\"color: #008080; text-decoration-color: #008080; font-weight: bold\">1</span>, <span style=\"color: #008080; text-decoration-color: #008080; font-weight: bold\">58</span>, <span style=\"color: #008080; text-decoration-color: #008080; font-weight: bold\">46</span><span style=\"font-weight: bold\">]</span> the target: <span style=\"color: #008080; text-decoration-color: #008080; font-weight: bold\">39</span>\n",
       "</pre>\n"
      ],
      "text/plain": [
       "when input is \u001b[1m[\u001b[0m\u001b[1;36m52\u001b[0m, \u001b[1;36m58\u001b[0m, \u001b[1;36m1\u001b[0m, \u001b[1;36m58\u001b[0m, \u001b[1;36m46\u001b[0m\u001b[1m]\u001b[0m the target: \u001b[1;36m39\u001b[0m\n"
      ]
     },
     "metadata": {},
     "output_type": "display_data"
    },
    {
     "data": {
      "text/html": [
       "<pre style=\"white-space:pre;overflow-x:auto;line-height:normal;font-family:Menlo,'DejaVu Sans Mono',consolas,'Courier New',monospace\">when input is <span style=\"font-weight: bold\">[</span><span style=\"color: #008080; text-decoration-color: #008080; font-weight: bold\">52</span>, <span style=\"color: #008080; text-decoration-color: #008080; font-weight: bold\">58</span>, <span style=\"color: #008080; text-decoration-color: #008080; font-weight: bold\">1</span>, <span style=\"color: #008080; text-decoration-color: #008080; font-weight: bold\">58</span>, <span style=\"color: #008080; text-decoration-color: #008080; font-weight: bold\">46</span>, <span style=\"color: #008080; text-decoration-color: #008080; font-weight: bold\">39</span><span style=\"font-weight: bold\">]</span> the target: <span style=\"color: #008080; text-decoration-color: #008080; font-weight: bold\">58</span>\n",
       "</pre>\n"
      ],
      "text/plain": [
       "when input is \u001b[1m[\u001b[0m\u001b[1;36m52\u001b[0m, \u001b[1;36m58\u001b[0m, \u001b[1;36m1\u001b[0m, \u001b[1;36m58\u001b[0m, \u001b[1;36m46\u001b[0m, \u001b[1;36m39\u001b[0m\u001b[1m]\u001b[0m the target: \u001b[1;36m58\u001b[0m\n"
      ]
     },
     "metadata": {},
     "output_type": "display_data"
    },
    {
     "data": {
      "text/html": [
       "<pre style=\"white-space:pre;overflow-x:auto;line-height:normal;font-family:Menlo,'DejaVu Sans Mono',consolas,'Courier New',monospace\">when input is <span style=\"font-weight: bold\">[</span><span style=\"color: #008080; text-decoration-color: #008080; font-weight: bold\">52</span>, <span style=\"color: #008080; text-decoration-color: #008080; font-weight: bold\">58</span>, <span style=\"color: #008080; text-decoration-color: #008080; font-weight: bold\">1</span>, <span style=\"color: #008080; text-decoration-color: #008080; font-weight: bold\">58</span>, <span style=\"color: #008080; text-decoration-color: #008080; font-weight: bold\">46</span>, <span style=\"color: #008080; text-decoration-color: #008080; font-weight: bold\">39</span>, <span style=\"color: #008080; text-decoration-color: #008080; font-weight: bold\">58</span><span style=\"font-weight: bold\">]</span> the target: <span style=\"color: #008080; text-decoration-color: #008080; font-weight: bold\">1</span>\n",
       "</pre>\n"
      ],
      "text/plain": [
       "when input is \u001b[1m[\u001b[0m\u001b[1;36m52\u001b[0m, \u001b[1;36m58\u001b[0m, \u001b[1;36m1\u001b[0m, \u001b[1;36m58\u001b[0m, \u001b[1;36m46\u001b[0m, \u001b[1;36m39\u001b[0m, \u001b[1;36m58\u001b[0m\u001b[1m]\u001b[0m the target: \u001b[1;36m1\u001b[0m\n"
      ]
     },
     "metadata": {},
     "output_type": "display_data"
    },
    {
     "data": {
      "text/html": [
       "<pre style=\"white-space:pre;overflow-x:auto;line-height:normal;font-family:Menlo,'DejaVu Sans Mono',consolas,'Courier New',monospace\">when input is <span style=\"font-weight: bold\">[</span><span style=\"color: #008080; text-decoration-color: #008080; font-weight: bold\">52</span>, <span style=\"color: #008080; text-decoration-color: #008080; font-weight: bold\">58</span>, <span style=\"color: #008080; text-decoration-color: #008080; font-weight: bold\">1</span>, <span style=\"color: #008080; text-decoration-color: #008080; font-weight: bold\">58</span>, <span style=\"color: #008080; text-decoration-color: #008080; font-weight: bold\">46</span>, <span style=\"color: #008080; text-decoration-color: #008080; font-weight: bold\">39</span>, <span style=\"color: #008080; text-decoration-color: #008080; font-weight: bold\">58</span>, <span style=\"color: #008080; text-decoration-color: #008080; font-weight: bold\">1</span><span style=\"font-weight: bold\">]</span> the target: <span style=\"color: #008080; text-decoration-color: #008080; font-weight: bold\">46</span>\n",
       "</pre>\n"
      ],
      "text/plain": [
       "when input is \u001b[1m[\u001b[0m\u001b[1;36m52\u001b[0m, \u001b[1;36m58\u001b[0m, \u001b[1;36m1\u001b[0m, \u001b[1;36m58\u001b[0m, \u001b[1;36m46\u001b[0m, \u001b[1;36m39\u001b[0m, \u001b[1;36m58\u001b[0m, \u001b[1;36m1\u001b[0m\u001b[1m]\u001b[0m the target: \u001b[1;36m46\u001b[0m\n"
      ]
     },
     "metadata": {},
     "output_type": "display_data"
    },
    {
     "data": {
      "text/html": [
       "<pre style=\"white-space:pre;overflow-x:auto;line-height:normal;font-family:Menlo,'DejaVu Sans Mono',consolas,'Courier New',monospace\">when input is <span style=\"font-weight: bold\">[</span><span style=\"color: #008080; text-decoration-color: #008080; font-weight: bold\">25</span><span style=\"font-weight: bold\">]</span> the target: <span style=\"color: #008080; text-decoration-color: #008080; font-weight: bold\">17</span>\n",
       "</pre>\n"
      ],
      "text/plain": [
       "when input is \u001b[1m[\u001b[0m\u001b[1;36m25\u001b[0m\u001b[1m]\u001b[0m the target: \u001b[1;36m17\u001b[0m\n"
      ]
     },
     "metadata": {},
     "output_type": "display_data"
    },
    {
     "data": {
      "text/html": [
       "<pre style=\"white-space:pre;overflow-x:auto;line-height:normal;font-family:Menlo,'DejaVu Sans Mono',consolas,'Courier New',monospace\">when input is <span style=\"font-weight: bold\">[</span><span style=\"color: #008080; text-decoration-color: #008080; font-weight: bold\">25</span>, <span style=\"color: #008080; text-decoration-color: #008080; font-weight: bold\">17</span><span style=\"font-weight: bold\">]</span> the target: <span style=\"color: #008080; text-decoration-color: #008080; font-weight: bold\">27</span>\n",
       "</pre>\n"
      ],
      "text/plain": [
       "when input is \u001b[1m[\u001b[0m\u001b[1;36m25\u001b[0m, \u001b[1;36m17\u001b[0m\u001b[1m]\u001b[0m the target: \u001b[1;36m27\u001b[0m\n"
      ]
     },
     "metadata": {},
     "output_type": "display_data"
    },
    {
     "data": {
      "text/html": [
       "<pre style=\"white-space:pre;overflow-x:auto;line-height:normal;font-family:Menlo,'DejaVu Sans Mono',consolas,'Courier New',monospace\">when input is <span style=\"font-weight: bold\">[</span><span style=\"color: #008080; text-decoration-color: #008080; font-weight: bold\">25</span>, <span style=\"color: #008080; text-decoration-color: #008080; font-weight: bold\">17</span>, <span style=\"color: #008080; text-decoration-color: #008080; font-weight: bold\">27</span><span style=\"font-weight: bold\">]</span> the target: <span style=\"color: #008080; text-decoration-color: #008080; font-weight: bold\">10</span>\n",
       "</pre>\n"
      ],
      "text/plain": [
       "when input is \u001b[1m[\u001b[0m\u001b[1;36m25\u001b[0m, \u001b[1;36m17\u001b[0m, \u001b[1;36m27\u001b[0m\u001b[1m]\u001b[0m the target: \u001b[1;36m10\u001b[0m\n"
      ]
     },
     "metadata": {},
     "output_type": "display_data"
    },
    {
     "data": {
      "text/html": [
       "<pre style=\"white-space:pre;overflow-x:auto;line-height:normal;font-family:Menlo,'DejaVu Sans Mono',consolas,'Courier New',monospace\">when input is <span style=\"font-weight: bold\">[</span><span style=\"color: #008080; text-decoration-color: #008080; font-weight: bold\">25</span>, <span style=\"color: #008080; text-decoration-color: #008080; font-weight: bold\">17</span>, <span style=\"color: #008080; text-decoration-color: #008080; font-weight: bold\">27</span>, <span style=\"color: #008080; text-decoration-color: #008080; font-weight: bold\">10</span><span style=\"font-weight: bold\">]</span> the target: <span style=\"color: #008080; text-decoration-color: #008080; font-weight: bold\">0</span>\n",
       "</pre>\n"
      ],
      "text/plain": [
       "when input is \u001b[1m[\u001b[0m\u001b[1;36m25\u001b[0m, \u001b[1;36m17\u001b[0m, \u001b[1;36m27\u001b[0m, \u001b[1;36m10\u001b[0m\u001b[1m]\u001b[0m the target: \u001b[1;36m0\u001b[0m\n"
      ]
     },
     "metadata": {},
     "output_type": "display_data"
    },
    {
     "data": {
      "text/html": [
       "<pre style=\"white-space:pre;overflow-x:auto;line-height:normal;font-family:Menlo,'DejaVu Sans Mono',consolas,'Courier New',monospace\">when input is <span style=\"font-weight: bold\">[</span><span style=\"color: #008080; text-decoration-color: #008080; font-weight: bold\">25</span>, <span style=\"color: #008080; text-decoration-color: #008080; font-weight: bold\">17</span>, <span style=\"color: #008080; text-decoration-color: #008080; font-weight: bold\">27</span>, <span style=\"color: #008080; text-decoration-color: #008080; font-weight: bold\">10</span>, <span style=\"color: #008080; text-decoration-color: #008080; font-weight: bold\">0</span><span style=\"font-weight: bold\">]</span> the target: <span style=\"color: #008080; text-decoration-color: #008080; font-weight: bold\">21</span>\n",
       "</pre>\n"
      ],
      "text/plain": [
       "when input is \u001b[1m[\u001b[0m\u001b[1;36m25\u001b[0m, \u001b[1;36m17\u001b[0m, \u001b[1;36m27\u001b[0m, \u001b[1;36m10\u001b[0m, \u001b[1;36m0\u001b[0m\u001b[1m]\u001b[0m the target: \u001b[1;36m21\u001b[0m\n"
      ]
     },
     "metadata": {},
     "output_type": "display_data"
    },
    {
     "data": {
      "text/html": [
       "<pre style=\"white-space:pre;overflow-x:auto;line-height:normal;font-family:Menlo,'DejaVu Sans Mono',consolas,'Courier New',monospace\">when input is <span style=\"font-weight: bold\">[</span><span style=\"color: #008080; text-decoration-color: #008080; font-weight: bold\">25</span>, <span style=\"color: #008080; text-decoration-color: #008080; font-weight: bold\">17</span>, <span style=\"color: #008080; text-decoration-color: #008080; font-weight: bold\">27</span>, <span style=\"color: #008080; text-decoration-color: #008080; font-weight: bold\">10</span>, <span style=\"color: #008080; text-decoration-color: #008080; font-weight: bold\">0</span>, <span style=\"color: #008080; text-decoration-color: #008080; font-weight: bold\">21</span><span style=\"font-weight: bold\">]</span> the target: <span style=\"color: #008080; text-decoration-color: #008080; font-weight: bold\">1</span>\n",
       "</pre>\n"
      ],
      "text/plain": [
       "when input is \u001b[1m[\u001b[0m\u001b[1;36m25\u001b[0m, \u001b[1;36m17\u001b[0m, \u001b[1;36m27\u001b[0m, \u001b[1;36m10\u001b[0m, \u001b[1;36m0\u001b[0m, \u001b[1;36m21\u001b[0m\u001b[1m]\u001b[0m the target: \u001b[1;36m1\u001b[0m\n"
      ]
     },
     "metadata": {},
     "output_type": "display_data"
    },
    {
     "data": {
      "text/html": [
       "<pre style=\"white-space:pre;overflow-x:auto;line-height:normal;font-family:Menlo,'DejaVu Sans Mono',consolas,'Courier New',monospace\">when input is <span style=\"font-weight: bold\">[</span><span style=\"color: #008080; text-decoration-color: #008080; font-weight: bold\">25</span>, <span style=\"color: #008080; text-decoration-color: #008080; font-weight: bold\">17</span>, <span style=\"color: #008080; text-decoration-color: #008080; font-weight: bold\">27</span>, <span style=\"color: #008080; text-decoration-color: #008080; font-weight: bold\">10</span>, <span style=\"color: #008080; text-decoration-color: #008080; font-weight: bold\">0</span>, <span style=\"color: #008080; text-decoration-color: #008080; font-weight: bold\">21</span>, <span style=\"color: #008080; text-decoration-color: #008080; font-weight: bold\">1</span><span style=\"font-weight: bold\">]</span> the target: <span style=\"color: #008080; text-decoration-color: #008080; font-weight: bold\">54</span>\n",
       "</pre>\n"
      ],
      "text/plain": [
       "when input is \u001b[1m[\u001b[0m\u001b[1;36m25\u001b[0m, \u001b[1;36m17\u001b[0m, \u001b[1;36m27\u001b[0m, \u001b[1;36m10\u001b[0m, \u001b[1;36m0\u001b[0m, \u001b[1;36m21\u001b[0m, \u001b[1;36m1\u001b[0m\u001b[1m]\u001b[0m the target: \u001b[1;36m54\u001b[0m\n"
      ]
     },
     "metadata": {},
     "output_type": "display_data"
    },
    {
     "data": {
      "text/html": [
       "<pre style=\"white-space:pre;overflow-x:auto;line-height:normal;font-family:Menlo,'DejaVu Sans Mono',consolas,'Courier New',monospace\">when input is <span style=\"font-weight: bold\">[</span><span style=\"color: #008080; text-decoration-color: #008080; font-weight: bold\">25</span>, <span style=\"color: #008080; text-decoration-color: #008080; font-weight: bold\">17</span>, <span style=\"color: #008080; text-decoration-color: #008080; font-weight: bold\">27</span>, <span style=\"color: #008080; text-decoration-color: #008080; font-weight: bold\">10</span>, <span style=\"color: #008080; text-decoration-color: #008080; font-weight: bold\">0</span>, <span style=\"color: #008080; text-decoration-color: #008080; font-weight: bold\">21</span>, <span style=\"color: #008080; text-decoration-color: #008080; font-weight: bold\">1</span>, <span style=\"color: #008080; text-decoration-color: #008080; font-weight: bold\">54</span><span style=\"font-weight: bold\">]</span> the target: <span style=\"color: #008080; text-decoration-color: #008080; font-weight: bold\">39</span>\n",
       "</pre>\n"
      ],
      "text/plain": [
       "when input is \u001b[1m[\u001b[0m\u001b[1;36m25\u001b[0m, \u001b[1;36m17\u001b[0m, \u001b[1;36m27\u001b[0m, \u001b[1;36m10\u001b[0m, \u001b[1;36m0\u001b[0m, \u001b[1;36m21\u001b[0m, \u001b[1;36m1\u001b[0m, \u001b[1;36m54\u001b[0m\u001b[1m]\u001b[0m the target: \u001b[1;36m39\u001b[0m\n"
      ]
     },
     "metadata": {},
     "output_type": "display_data"
    }
   ],
   "source": [
    "xb, yb = get_batch('train')\n",
    "print('inputs')\n",
    "print(xb.shape)\n",
    "print(xb)\n",
    "print('targets')\n",
    "print(yb.shape)\n",
    "print(yb)\n",
    "print('--------')\n",
    "    \n",
    "for b in range(batch_size):\n",
    "    for t in range(block_size):\n",
    "        context = xb[b, :t+1]\n",
    "        target = yb[b, t]\n",
    "        print(f\"when input is {context.tolist()} the target: {target}\")"
   ]
  },
  {
   "cell_type": "code",
   "execution_count": null,
   "id": "e4cce24e",
   "metadata": {},
   "outputs": [
    {
     "data": {
      "text/html": [
       "<pre style=\"white-space:pre;overflow-x:auto;line-height:normal;font-family:Menlo,'DejaVu Sans Mono',consolas,'Courier New',monospace\"><span style=\"color: #800080; text-decoration-color: #800080; font-weight: bold\">tensor</span><span style=\"font-weight: bold\">([[</span><span style=\"color: #008080; text-decoration-color: #008080; font-weight: bold\">24</span>, <span style=\"color: #008080; text-decoration-color: #008080; font-weight: bold\">43</span>, <span style=\"color: #008080; text-decoration-color: #008080; font-weight: bold\">58</span>,  <span style=\"color: #008080; text-decoration-color: #008080; font-weight: bold\">5</span>, <span style=\"color: #008080; text-decoration-color: #008080; font-weight: bold\">57</span>,  <span style=\"color: #008080; text-decoration-color: #008080; font-weight: bold\">1</span>, <span style=\"color: #008080; text-decoration-color: #008080; font-weight: bold\">46</span>, <span style=\"color: #008080; text-decoration-color: #008080; font-weight: bold\">43</span><span style=\"font-weight: bold\">]</span>,\n",
       "        <span style=\"font-weight: bold\">[</span><span style=\"color: #008080; text-decoration-color: #008080; font-weight: bold\">44</span>, <span style=\"color: #008080; text-decoration-color: #008080; font-weight: bold\">53</span>, <span style=\"color: #008080; text-decoration-color: #008080; font-weight: bold\">56</span>,  <span style=\"color: #008080; text-decoration-color: #008080; font-weight: bold\">1</span>, <span style=\"color: #008080; text-decoration-color: #008080; font-weight: bold\">58</span>, <span style=\"color: #008080; text-decoration-color: #008080; font-weight: bold\">46</span>, <span style=\"color: #008080; text-decoration-color: #008080; font-weight: bold\">39</span>, <span style=\"color: #008080; text-decoration-color: #008080; font-weight: bold\">58</span><span style=\"font-weight: bold\">]</span>,\n",
       "        <span style=\"font-weight: bold\">[</span><span style=\"color: #008080; text-decoration-color: #008080; font-weight: bold\">52</span>, <span style=\"color: #008080; text-decoration-color: #008080; font-weight: bold\">58</span>,  <span style=\"color: #008080; text-decoration-color: #008080; font-weight: bold\">1</span>, <span style=\"color: #008080; text-decoration-color: #008080; font-weight: bold\">58</span>, <span style=\"color: #008080; text-decoration-color: #008080; font-weight: bold\">46</span>, <span style=\"color: #008080; text-decoration-color: #008080; font-weight: bold\">39</span>, <span style=\"color: #008080; text-decoration-color: #008080; font-weight: bold\">58</span>,  <span style=\"color: #008080; text-decoration-color: #008080; font-weight: bold\">1</span><span style=\"font-weight: bold\">]</span>,\n",
       "        <span style=\"font-weight: bold\">[</span><span style=\"color: #008080; text-decoration-color: #008080; font-weight: bold\">25</span>, <span style=\"color: #008080; text-decoration-color: #008080; font-weight: bold\">17</span>, <span style=\"color: #008080; text-decoration-color: #008080; font-weight: bold\">27</span>, <span style=\"color: #008080; text-decoration-color: #008080; font-weight: bold\">10</span>,  <span style=\"color: #008080; text-decoration-color: #008080; font-weight: bold\">0</span>, <span style=\"color: #008080; text-decoration-color: #008080; font-weight: bold\">21</span>,  <span style=\"color: #008080; text-decoration-color: #008080; font-weight: bold\">1</span>, <span style=\"color: #008080; text-decoration-color: #008080; font-weight: bold\">54</span><span style=\"font-weight: bold\">]])</span>\n",
       "</pre>\n"
      ],
      "text/plain": [
       "\u001b[1;35mtensor\u001b[0m\u001b[1m(\u001b[0m\u001b[1m[\u001b[0m\u001b[1m[\u001b[0m\u001b[1;36m24\u001b[0m, \u001b[1;36m43\u001b[0m, \u001b[1;36m58\u001b[0m,  \u001b[1;36m5\u001b[0m, \u001b[1;36m57\u001b[0m,  \u001b[1;36m1\u001b[0m, \u001b[1;36m46\u001b[0m, \u001b[1;36m43\u001b[0m\u001b[1m]\u001b[0m,\n",
       "        \u001b[1m[\u001b[0m\u001b[1;36m44\u001b[0m, \u001b[1;36m53\u001b[0m, \u001b[1;36m56\u001b[0m,  \u001b[1;36m1\u001b[0m, \u001b[1;36m58\u001b[0m, \u001b[1;36m46\u001b[0m, \u001b[1;36m39\u001b[0m, \u001b[1;36m58\u001b[0m\u001b[1m]\u001b[0m,\n",
       "        \u001b[1m[\u001b[0m\u001b[1;36m52\u001b[0m, \u001b[1;36m58\u001b[0m,  \u001b[1;36m1\u001b[0m, \u001b[1;36m58\u001b[0m, \u001b[1;36m46\u001b[0m, \u001b[1;36m39\u001b[0m, \u001b[1;36m58\u001b[0m,  \u001b[1;36m1\u001b[0m\u001b[1m]\u001b[0m,\n",
       "        \u001b[1m[\u001b[0m\u001b[1;36m25\u001b[0m, \u001b[1;36m17\u001b[0m, \u001b[1;36m27\u001b[0m, \u001b[1;36m10\u001b[0m,  \u001b[1;36m0\u001b[0m, \u001b[1;36m21\u001b[0m,  \u001b[1;36m1\u001b[0m, \u001b[1;36m54\u001b[0m\u001b[1m]\u001b[0m\u001b[1m]\u001b[0m\u001b[1m)\u001b[0m\n"
      ]
     },
     "metadata": {},
     "output_type": "display_data"
    }
   ],
   "source": [
    "print(xb) # our input to the transformer"
   ]
  },
  {
   "cell_type": "markdown",
   "id": "490cd914",
   "metadata": {},
   "source": [
    "## Simplest Baseline: Bigram Language Model, Loss, Generation"
   ]
  },
  {
   "cell_type": "code",
   "execution_count": null,
   "id": "309c8f03",
   "metadata": {},
   "outputs": [],
   "source": [
    "#|export\n",
    "class BigramLanguageModel(nn.Module):\n",
    "\n",
    "    def __init__(self, vocab_size):\n",
    "        super().__init__()\n",
    "        # each token directly reads off the logits for the next token from a lookup table\n",
    "        self.token_embedding_table = nn.Embedding(vocab_size, vocab_size)\n",
    "    \n",
    "    def forward(self, idx, targets=None):\n",
    "        \n",
    "        # idx and targets are both (B, T) of tensor of integers\n",
    "        logits = self.token_embedding_table(idx) # (B, T, C)\n",
    "        \n",
    "        if targets is None:\n",
    "            loss = None\n",
    "        else:\n",
    "            B, T, C = logits.shape\n",
    "            logits = logits.view(B*T, C)\n",
    "            targets = targets.view(B*T)\n",
    "            loss = F.cross_entropy(logits, targets)\n",
    "        return logits, loss\n",
    "    \n",
    "    def generate(self, idx, max_new_tokens):\n",
    "        # idx is (B, T) array of indices in the current context\n",
    "        for _ in range(max_new_tokens):\n",
    "            # get the predictions\n",
    "            logits, loss = self(idx)\n",
    "            # focus only on the last time step\n",
    "            logits = logits[:,  -1, :] # becomes (B, C)\n",
    "            # apply softmax to get probabilities\n",
    "            probs = F.softmax(logits, dim=-1) # (B, C)\n",
    "            # sample from the distribution\n",
    "            idx_next = torch.multinomial(probs, num_samples=1) # (B, 1)\n",
    "            # append sampled index to the running sequence\n",
    "            idx = torch.cat((idx, idx_next), dim=1) # (B, T+1)\n",
    "        return idx"
   ]
  },
  {
   "cell_type": "code",
   "execution_count": null,
   "id": "b006230e",
   "metadata": {},
   "outputs": [
    {
     "data": {
      "text/html": [
       "<pre style=\"white-space:pre;overflow-x:auto;line-height:normal;font-family:Menlo,'DejaVu Sans Mono',consolas,'Courier New',monospace\"><span style=\"color: #800080; text-decoration-color: #800080; font-weight: bold\">torch.Size</span><span style=\"font-weight: bold\">([</span><span style=\"color: #008080; text-decoration-color: #008080; font-weight: bold\">32</span>, <span style=\"color: #008080; text-decoration-color: #008080; font-weight: bold\">65</span><span style=\"font-weight: bold\">])</span>\n",
       "</pre>\n"
      ],
      "text/plain": [
       "\u001b[1;35mtorch.Size\u001b[0m\u001b[1m(\u001b[0m\u001b[1m[\u001b[0m\u001b[1;36m32\u001b[0m, \u001b[1;36m65\u001b[0m\u001b[1m]\u001b[0m\u001b[1m)\u001b[0m\n"
      ]
     },
     "metadata": {},
     "output_type": "display_data"
    },
    {
     "data": {
      "text/html": [
       "<pre style=\"white-space:pre;overflow-x:auto;line-height:normal;font-family:Menlo,'DejaVu Sans Mono',consolas,'Courier New',monospace\"><span style=\"color: #800080; text-decoration-color: #800080; font-weight: bold\">tensor</span><span style=\"font-weight: bold\">(</span><span style=\"color: #008080; text-decoration-color: #008080; font-weight: bold\">5.0364</span>, <span style=\"color: #808000; text-decoration-color: #808000\">grad_fn</span>=<span style=\"font-weight: bold\">&lt;</span><span style=\"color: #ff00ff; text-decoration-color: #ff00ff; font-weight: bold\">NllLossBackward0</span><span style=\"font-weight: bold\">&gt;)</span>\n",
       "</pre>\n"
      ],
      "text/plain": [
       "\u001b[1;35mtensor\u001b[0m\u001b[1m(\u001b[0m\u001b[1;36m5.0364\u001b[0m, \u001b[33mgrad_fn\u001b[0m=\u001b[1m<\u001b[0m\u001b[1;95mNllLossBackward0\u001b[0m\u001b[1m>\u001b[0m\u001b[1m)\u001b[0m\n"
      ]
     },
     "metadata": {},
     "output_type": "display_data"
    }
   ],
   "source": [
    "m = BigramLanguageModel(vocab_size)\n",
    "logits, loss = m(xb, yb)\n",
    "print(logits.shape)\n",
    "print(loss)"
   ]
  },
  {
   "cell_type": "code",
   "execution_count": null,
   "id": "9d4369c7",
   "metadata": {},
   "outputs": [],
   "source": [
    "#|export\n",
    "def generate_from_the_model(m, max_new_tokens=100):\n",
    "    idx = torch.zeros((1, 1), dtype=torch.long)\n",
    "    print(decode(m.generate(idx, max_new_tokens=max_new_tokens)[0].tolist()))"
   ]
  },
  {
   "cell_type": "markdown",
   "id": "abfc43ec",
   "metadata": {},
   "source": [
    "## Training the Bigram Model"
   ]
  },
  {
   "cell_type": "code",
   "execution_count": null,
   "id": "6a7eeefd",
   "metadata": {},
   "outputs": [],
   "source": [
    "@torch.no_grad()\n",
    "def estimate_loss(batch_size=32, eval_iters=200):\n",
    "    out = {}\n",
    "    model.eval() # setting to evaluation phase\n",
    "    for split in ['train', 'val']:\n",
    "        losses = torch.zeros(eval_iters)\n",
    "        for k in range(eval_iters):\n",
    "            X, Y = get_batch(split, batch_size = batch_size)\n",
    "            logits, loss = model(X, Y)\n",
    "            losses[k] = loss.item()\n",
    "        out[split] = losses.mean()\n",
    "    model.train() # setting to training phase\n",
    "    return out"
   ]
  },
  {
   "cell_type": "code",
   "execution_count": null,
   "id": "dca207a6",
   "metadata": {},
   "outputs": [],
   "source": [
    "#|export\n",
    "def train(model, max_iters, batch_size = 32, eval_iters = 200, eval_interval = 200):\n",
    "    \n",
    "    # create a PyTorch optimizer\n",
    "    optimizer = torch.optim.AdamW(model.parameters(), lr=1e-3)\n",
    "    \n",
    "    for step in range(max_iters):\n",
    "\n",
    "        if step % eval_interval == 0:\n",
    "            losses = estimate_loss(batch_size, eval_iters)\n",
    "            print(f\"step {step}: train loss {losses['train']:.4f}, val loss {losses['val']:.4f}\")\n",
    "            \n",
    "        # sample a batch of data\n",
    "        xb, yb = get_batch('train', batch_size=batch_size)\n",
    "\n",
    "        # evaluate the loss\n",
    "        logits, loss = model(xb, yb)\n",
    "        optimizer.zero_grad(set_to_none=True)\n",
    "        loss.backward()\n",
    "        optimizer.step()\n",
    "\n",
    "    print(loss.item())"
   ]
  },
  {
   "cell_type": "code",
   "execution_count": null,
   "id": "5d32f04d",
   "metadata": {},
   "outputs": [
    {
     "data": {
      "text/html": [
       "<pre style=\"white-space:pre;overflow-x:auto;line-height:normal;font-family:Menlo,'DejaVu Sans Mono',consolas,'Courier New',monospace\">step <span style=\"color: #008080; text-decoration-color: #008080; font-weight: bold\">0</span>: train loss <span style=\"color: #008080; text-decoration-color: #008080; font-weight: bold\">4.6317</span>, val loss <span style=\"color: #008080; text-decoration-color: #008080; font-weight: bold\">4.6301</span>\n",
       "</pre>\n"
      ],
      "text/plain": [
       "step \u001b[1;36m0\u001b[0m: train loss \u001b[1;36m4.6317\u001b[0m, val loss \u001b[1;36m4.6301\u001b[0m\n"
      ]
     },
     "metadata": {},
     "output_type": "display_data"
    },
    {
     "data": {
      "text/html": [
       "<pre style=\"white-space:pre;overflow-x:auto;line-height:normal;font-family:Menlo,'DejaVu Sans Mono',consolas,'Courier New',monospace\">step <span style=\"color: #008080; text-decoration-color: #008080; font-weight: bold\">200</span>: train loss <span style=\"color: #008080; text-decoration-color: #008080; font-weight: bold\">4.4054</span>, val loss <span style=\"color: #008080; text-decoration-color: #008080; font-weight: bold\">4.4171</span>\n",
       "</pre>\n"
      ],
      "text/plain": [
       "step \u001b[1;36m200\u001b[0m: train loss \u001b[1;36m4.4054\u001b[0m, val loss \u001b[1;36m4.4171\u001b[0m\n"
      ]
     },
     "metadata": {},
     "output_type": "display_data"
    },
    {
     "data": {
      "text/html": [
       "<pre style=\"white-space:pre;overflow-x:auto;line-height:normal;font-family:Menlo,'DejaVu Sans Mono',consolas,'Courier New',monospace\">step <span style=\"color: #008080; text-decoration-color: #008080; font-weight: bold\">400</span>: train loss <span style=\"color: #008080; text-decoration-color: #008080; font-weight: bold\">4.1955</span>, val loss <span style=\"color: #008080; text-decoration-color: #008080; font-weight: bold\">4.2023</span>\n",
       "</pre>\n"
      ],
      "text/plain": [
       "step \u001b[1;36m400\u001b[0m: train loss \u001b[1;36m4.1955\u001b[0m, val loss \u001b[1;36m4.2023\u001b[0m\n"
      ]
     },
     "metadata": {},
     "output_type": "display_data"
    },
    {
     "data": {
      "text/html": [
       "<pre style=\"white-space:pre;overflow-x:auto;line-height:normal;font-family:Menlo,'DejaVu Sans Mono',consolas,'Courier New',monospace\">step <span style=\"color: #008080; text-decoration-color: #008080; font-weight: bold\">600</span>: train loss <span style=\"color: #008080; text-decoration-color: #008080; font-weight: bold\">4.0181</span>, val loss <span style=\"color: #008080; text-decoration-color: #008080; font-weight: bold\">4.0118</span>\n",
       "</pre>\n"
      ],
      "text/plain": [
       "step \u001b[1;36m600\u001b[0m: train loss \u001b[1;36m4.0181\u001b[0m, val loss \u001b[1;36m4.0118\u001b[0m\n"
      ]
     },
     "metadata": {},
     "output_type": "display_data"
    },
    {
     "data": {
      "text/html": [
       "<pre style=\"white-space:pre;overflow-x:auto;line-height:normal;font-family:Menlo,'DejaVu Sans Mono',consolas,'Courier New',monospace\">step <span style=\"color: #008080; text-decoration-color: #008080; font-weight: bold\">800</span>: train loss <span style=\"color: #008080; text-decoration-color: #008080; font-weight: bold\">3.8346</span>, val loss <span style=\"color: #008080; text-decoration-color: #008080; font-weight: bold\">3.8466</span>\n",
       "</pre>\n"
      ],
      "text/plain": [
       "step \u001b[1;36m800\u001b[0m: train loss \u001b[1;36m3.8346\u001b[0m, val loss \u001b[1;36m3.8466\u001b[0m\n"
      ]
     },
     "metadata": {},
     "output_type": "display_data"
    },
    {
     "data": {
      "text/html": [
       "<pre style=\"white-space:pre;overflow-x:auto;line-height:normal;font-family:Menlo,'DejaVu Sans Mono',consolas,'Courier New',monospace\">step <span style=\"color: #008080; text-decoration-color: #008080; font-weight: bold\">1000</span>: train loss <span style=\"color: #008080; text-decoration-color: #008080; font-weight: bold\">3.6856</span>, val loss <span style=\"color: #008080; text-decoration-color: #008080; font-weight: bold\">3.7041</span>\n",
       "</pre>\n"
      ],
      "text/plain": [
       "step \u001b[1;36m1000\u001b[0m: train loss \u001b[1;36m3.6856\u001b[0m, val loss \u001b[1;36m3.7041\u001b[0m\n"
      ]
     },
     "metadata": {},
     "output_type": "display_data"
    },
    {
     "data": {
      "text/html": [
       "<pre style=\"white-space:pre;overflow-x:auto;line-height:normal;font-family:Menlo,'DejaVu Sans Mono',consolas,'Courier New',monospace\">step <span style=\"color: #008080; text-decoration-color: #008080; font-weight: bold\">1200</span>: train loss <span style=\"color: #008080; text-decoration-color: #008080; font-weight: bold\">3.5331</span>, val loss <span style=\"color: #008080; text-decoration-color: #008080; font-weight: bold\">3.5585</span>\n",
       "</pre>\n"
      ],
      "text/plain": [
       "step \u001b[1;36m1200\u001b[0m: train loss \u001b[1;36m3.5331\u001b[0m, val loss \u001b[1;36m3.5585\u001b[0m\n"
      ]
     },
     "metadata": {},
     "output_type": "display_data"
    },
    {
     "data": {
      "text/html": [
       "<pre style=\"white-space:pre;overflow-x:auto;line-height:normal;font-family:Menlo,'DejaVu Sans Mono',consolas,'Courier New',monospace\">step <span style=\"color: #008080; text-decoration-color: #008080; font-weight: bold\">1400</span>: train loss <span style=\"color: #008080; text-decoration-color: #008080; font-weight: bold\">3.4207</span>, val loss <span style=\"color: #008080; text-decoration-color: #008080; font-weight: bold\">3.4225</span>\n",
       "</pre>\n"
      ],
      "text/plain": [
       "step \u001b[1;36m1400\u001b[0m: train loss \u001b[1;36m3.4207\u001b[0m, val loss \u001b[1;36m3.4225\u001b[0m\n"
      ]
     },
     "metadata": {},
     "output_type": "display_data"
    },
    {
     "data": {
      "text/html": [
       "<pre style=\"white-space:pre;overflow-x:auto;line-height:normal;font-family:Menlo,'DejaVu Sans Mono',consolas,'Courier New',monospace\">step <span style=\"color: #008080; text-decoration-color: #008080; font-weight: bold\">1600</span>: train loss <span style=\"color: #008080; text-decoration-color: #008080; font-weight: bold\">3.3029</span>, val loss <span style=\"color: #008080; text-decoration-color: #008080; font-weight: bold\">3.3093</span>\n",
       "</pre>\n"
      ],
      "text/plain": [
       "step \u001b[1;36m1600\u001b[0m: train loss \u001b[1;36m3.3029\u001b[0m, val loss \u001b[1;36m3.3093\u001b[0m\n"
      ]
     },
     "metadata": {},
     "output_type": "display_data"
    },
    {
     "data": {
      "text/html": [
       "<pre style=\"white-space:pre;overflow-x:auto;line-height:normal;font-family:Menlo,'DejaVu Sans Mono',consolas,'Courier New',monospace\">step <span style=\"color: #008080; text-decoration-color: #008080; font-weight: bold\">1800</span>: train loss <span style=\"color: #008080; text-decoration-color: #008080; font-weight: bold\">3.1945</span>, val loss <span style=\"color: #008080; text-decoration-color: #008080; font-weight: bold\">3.2122</span>\n",
       "</pre>\n"
      ],
      "text/plain": [
       "step \u001b[1;36m1800\u001b[0m: train loss \u001b[1;36m3.1945\u001b[0m, val loss \u001b[1;36m3.2122\u001b[0m\n"
      ]
     },
     "metadata": {},
     "output_type": "display_data"
    },
    {
     "data": {
      "text/html": [
       "<pre style=\"white-space:pre;overflow-x:auto;line-height:normal;font-family:Menlo,'DejaVu Sans Mono',consolas,'Courier New',monospace\">step <span style=\"color: #008080; text-decoration-color: #008080; font-weight: bold\">2000</span>: train loss <span style=\"color: #008080; text-decoration-color: #008080; font-weight: bold\">3.1033</span>, val loss <span style=\"color: #008080; text-decoration-color: #008080; font-weight: bold\">3.1210</span>\n",
       "</pre>\n"
      ],
      "text/plain": [
       "step \u001b[1;36m2000\u001b[0m: train loss \u001b[1;36m3.1033\u001b[0m, val loss \u001b[1;36m3.1210\u001b[0m\n"
      ]
     },
     "metadata": {},
     "output_type": "display_data"
    },
    {
     "data": {
      "text/html": [
       "<pre style=\"white-space:pre;overflow-x:auto;line-height:normal;font-family:Menlo,'DejaVu Sans Mono',consolas,'Courier New',monospace\">step <span style=\"color: #008080; text-decoration-color: #008080; font-weight: bold\">2200</span>: train loss <span style=\"color: #008080; text-decoration-color: #008080; font-weight: bold\">3.0249</span>, val loss <span style=\"color: #008080; text-decoration-color: #008080; font-weight: bold\">3.0398</span>\n",
       "</pre>\n"
      ],
      "text/plain": [
       "step \u001b[1;36m2200\u001b[0m: train loss \u001b[1;36m3.0249\u001b[0m, val loss \u001b[1;36m3.0398\u001b[0m\n"
      ]
     },
     "metadata": {},
     "output_type": "display_data"
    },
    {
     "data": {
      "text/html": [
       "<pre style=\"white-space:pre;overflow-x:auto;line-height:normal;font-family:Menlo,'DejaVu Sans Mono',consolas,'Courier New',monospace\">step <span style=\"color: #008080; text-decoration-color: #008080; font-weight: bold\">2400</span>: train loss <span style=\"color: #008080; text-decoration-color: #008080; font-weight: bold\">2.9513</span>, val loss <span style=\"color: #008080; text-decoration-color: #008080; font-weight: bold\">2.9628</span>\n",
       "</pre>\n"
      ],
      "text/plain": [
       "step \u001b[1;36m2400\u001b[0m: train loss \u001b[1;36m2.9513\u001b[0m, val loss \u001b[1;36m2.9628\u001b[0m\n"
      ]
     },
     "metadata": {},
     "output_type": "display_data"
    },
    {
     "data": {
      "text/html": [
       "<pre style=\"white-space:pre;overflow-x:auto;line-height:normal;font-family:Menlo,'DejaVu Sans Mono',consolas,'Courier New',monospace\">step <span style=\"color: #008080; text-decoration-color: #008080; font-weight: bold\">2600</span>: train loss <span style=\"color: #008080; text-decoration-color: #008080; font-weight: bold\">2.8974</span>, val loss <span style=\"color: #008080; text-decoration-color: #008080; font-weight: bold\">2.9066</span>\n",
       "</pre>\n"
      ],
      "text/plain": [
       "step \u001b[1;36m2600\u001b[0m: train loss \u001b[1;36m2.8974\u001b[0m, val loss \u001b[1;36m2.9066\u001b[0m\n"
      ]
     },
     "metadata": {},
     "output_type": "display_data"
    },
    {
     "data": {
      "text/html": [
       "<pre style=\"white-space:pre;overflow-x:auto;line-height:normal;font-family:Menlo,'DejaVu Sans Mono',consolas,'Courier New',monospace\">step <span style=\"color: #008080; text-decoration-color: #008080; font-weight: bold\">2800</span>: train loss <span style=\"color: #008080; text-decoration-color: #008080; font-weight: bold\">2.8355</span>, val loss <span style=\"color: #008080; text-decoration-color: #008080; font-weight: bold\">2.8552</span>\n",
       "</pre>\n"
      ],
      "text/plain": [
       "step \u001b[1;36m2800\u001b[0m: train loss \u001b[1;36m2.8355\u001b[0m, val loss \u001b[1;36m2.8552\u001b[0m\n"
      ]
     },
     "metadata": {},
     "output_type": "display_data"
    },
    {
     "data": {
      "text/html": [
       "<pre style=\"white-space:pre;overflow-x:auto;line-height:normal;font-family:Menlo,'DejaVu Sans Mono',consolas,'Courier New',monospace\">step <span style=\"color: #008080; text-decoration-color: #008080; font-weight: bold\">3000</span>: train loss <span style=\"color: #008080; text-decoration-color: #008080; font-weight: bold\">2.7927</span>, val loss <span style=\"color: #008080; text-decoration-color: #008080; font-weight: bold\">2.8097</span>\n",
       "</pre>\n"
      ],
      "text/plain": [
       "step \u001b[1;36m3000\u001b[0m: train loss \u001b[1;36m2.7927\u001b[0m, val loss \u001b[1;36m2.8097\u001b[0m\n"
      ]
     },
     "metadata": {},
     "output_type": "display_data"
    },
    {
     "data": {
      "text/html": [
       "<pre style=\"white-space:pre;overflow-x:auto;line-height:normal;font-family:Menlo,'DejaVu Sans Mono',consolas,'Courier New',monospace\">step <span style=\"color: #008080; text-decoration-color: #008080; font-weight: bold\">3200</span>: train loss <span style=\"color: #008080; text-decoration-color: #008080; font-weight: bold\">2.7542</span>, val loss <span style=\"color: #008080; text-decoration-color: #008080; font-weight: bold\">2.7662</span>\n",
       "</pre>\n"
      ],
      "text/plain": [
       "step \u001b[1;36m3200\u001b[0m: train loss \u001b[1;36m2.7542\u001b[0m, val loss \u001b[1;36m2.7662\u001b[0m\n"
      ]
     },
     "metadata": {},
     "output_type": "display_data"
    },
    {
     "data": {
      "text/html": [
       "<pre style=\"white-space:pre;overflow-x:auto;line-height:normal;font-family:Menlo,'DejaVu Sans Mono',consolas,'Courier New',monospace\">step <span style=\"color: #008080; text-decoration-color: #008080; font-weight: bold\">3400</span>: train loss <span style=\"color: #008080; text-decoration-color: #008080; font-weight: bold\">2.7172</span>, val loss <span style=\"color: #008080; text-decoration-color: #008080; font-weight: bold\">2.7193</span>\n",
       "</pre>\n"
      ],
      "text/plain": [
       "step \u001b[1;36m3400\u001b[0m: train loss \u001b[1;36m2.7172\u001b[0m, val loss \u001b[1;36m2.7193\u001b[0m\n"
      ]
     },
     "metadata": {},
     "output_type": "display_data"
    },
    {
     "data": {
      "text/html": [
       "<pre style=\"white-space:pre;overflow-x:auto;line-height:normal;font-family:Menlo,'DejaVu Sans Mono',consolas,'Courier New',monospace\">step <span style=\"color: #008080; text-decoration-color: #008080; font-weight: bold\">3600</span>: train loss <span style=\"color: #008080; text-decoration-color: #008080; font-weight: bold\">2.6971</span>, val loss <span style=\"color: #008080; text-decoration-color: #008080; font-weight: bold\">2.6958</span>\n",
       "</pre>\n"
      ],
      "text/plain": [
       "step \u001b[1;36m3600\u001b[0m: train loss \u001b[1;36m2.6971\u001b[0m, val loss \u001b[1;36m2.6958\u001b[0m\n"
      ]
     },
     "metadata": {},
     "output_type": "display_data"
    },
    {
     "data": {
      "text/html": [
       "<pre style=\"white-space:pre;overflow-x:auto;line-height:normal;font-family:Menlo,'DejaVu Sans Mono',consolas,'Courier New',monospace\">step <span style=\"color: #008080; text-decoration-color: #008080; font-weight: bold\">3800</span>: train loss <span style=\"color: #008080; text-decoration-color: #008080; font-weight: bold\">2.6542</span>, val loss <span style=\"color: #008080; text-decoration-color: #008080; font-weight: bold\">2.6766</span>\n",
       "</pre>\n"
      ],
      "text/plain": [
       "step \u001b[1;36m3800\u001b[0m: train loss \u001b[1;36m2.6542\u001b[0m, val loss \u001b[1;36m2.6766\u001b[0m\n"
      ]
     },
     "metadata": {},
     "output_type": "display_data"
    },
    {
     "data": {
      "text/html": [
       "<pre style=\"white-space:pre;overflow-x:auto;line-height:normal;font-family:Menlo,'DejaVu Sans Mono',consolas,'Courier New',monospace\">step <span style=\"color: #008080; text-decoration-color: #008080; font-weight: bold\">4000</span>: train loss <span style=\"color: #008080; text-decoration-color: #008080; font-weight: bold\">2.6242</span>, val loss <span style=\"color: #008080; text-decoration-color: #008080; font-weight: bold\">2.6414</span>\n",
       "</pre>\n"
      ],
      "text/plain": [
       "step \u001b[1;36m4000\u001b[0m: train loss \u001b[1;36m2.6242\u001b[0m, val loss \u001b[1;36m2.6414\u001b[0m\n"
      ]
     },
     "metadata": {},
     "output_type": "display_data"
    },
    {
     "data": {
      "text/html": [
       "<pre style=\"white-space:pre;overflow-x:auto;line-height:normal;font-family:Menlo,'DejaVu Sans Mono',consolas,'Courier New',monospace\">step <span style=\"color: #008080; text-decoration-color: #008080; font-weight: bold\">4200</span>: train loss <span style=\"color: #008080; text-decoration-color: #008080; font-weight: bold\">2.6181</span>, val loss <span style=\"color: #008080; text-decoration-color: #008080; font-weight: bold\">2.6272</span>\n",
       "</pre>\n"
      ],
      "text/plain": [
       "step \u001b[1;36m4200\u001b[0m: train loss \u001b[1;36m2.6181\u001b[0m, val loss \u001b[1;36m2.6272\u001b[0m\n"
      ]
     },
     "metadata": {},
     "output_type": "display_data"
    },
    {
     "data": {
      "text/html": [
       "<pre style=\"white-space:pre;overflow-x:auto;line-height:normal;font-family:Menlo,'DejaVu Sans Mono',consolas,'Courier New',monospace\">step <span style=\"color: #008080; text-decoration-color: #008080; font-weight: bold\">4400</span>: train loss <span style=\"color: #008080; text-decoration-color: #008080; font-weight: bold\">2.6046</span>, val loss <span style=\"color: #008080; text-decoration-color: #008080; font-weight: bold\">2.6015</span>\n",
       "</pre>\n"
      ],
      "text/plain": [
       "step \u001b[1;36m4400\u001b[0m: train loss \u001b[1;36m2.6046\u001b[0m, val loss \u001b[1;36m2.6015\u001b[0m\n"
      ]
     },
     "metadata": {},
     "output_type": "display_data"
    },
    {
     "data": {
      "text/html": [
       "<pre style=\"white-space:pre;overflow-x:auto;line-height:normal;font-family:Menlo,'DejaVu Sans Mono',consolas,'Courier New',monospace\">step <span style=\"color: #008080; text-decoration-color: #008080; font-weight: bold\">4600</span>: train loss <span style=\"color: #008080; text-decoration-color: #008080; font-weight: bold\">2.5801</span>, val loss <span style=\"color: #008080; text-decoration-color: #008080; font-weight: bold\">2.5919</span>\n",
       "</pre>\n"
      ],
      "text/plain": [
       "step \u001b[1;36m4600\u001b[0m: train loss \u001b[1;36m2.5801\u001b[0m, val loss \u001b[1;36m2.5919\u001b[0m\n"
      ]
     },
     "metadata": {},
     "output_type": "display_data"
    },
    {
     "data": {
      "text/html": [
       "<pre style=\"white-space:pre;overflow-x:auto;line-height:normal;font-family:Menlo,'DejaVu Sans Mono',consolas,'Courier New',monospace\">step <span style=\"color: #008080; text-decoration-color: #008080; font-weight: bold\">4800</span>: train loss <span style=\"color: #008080; text-decoration-color: #008080; font-weight: bold\">2.5677</span>, val loss <span style=\"color: #008080; text-decoration-color: #008080; font-weight: bold\">2.5888</span>\n",
       "</pre>\n"
      ],
      "text/plain": [
       "step \u001b[1;36m4800\u001b[0m: train loss \u001b[1;36m2.5677\u001b[0m, val loss \u001b[1;36m2.5888\u001b[0m\n"
      ]
     },
     "metadata": {},
     "output_type": "display_data"
    },
    {
     "data": {
      "text/html": [
       "<pre style=\"white-space:pre;overflow-x:auto;line-height:normal;font-family:Menlo,'DejaVu Sans Mono',consolas,'Courier New',monospace\">step <span style=\"color: #008080; text-decoration-color: #008080; font-weight: bold\">5000</span>: train loss <span style=\"color: #008080; text-decoration-color: #008080; font-weight: bold\">2.5559</span>, val loss <span style=\"color: #008080; text-decoration-color: #008080; font-weight: bold\">2.5647</span>\n",
       "</pre>\n"
      ],
      "text/plain": [
       "step \u001b[1;36m5000\u001b[0m: train loss \u001b[1;36m2.5559\u001b[0m, val loss \u001b[1;36m2.5647\u001b[0m\n"
      ]
     },
     "metadata": {},
     "output_type": "display_data"
    },
    {
     "data": {
      "text/html": [
       "<pre style=\"white-space:pre;overflow-x:auto;line-height:normal;font-family:Menlo,'DejaVu Sans Mono',consolas,'Courier New',monospace\">step <span style=\"color: #008080; text-decoration-color: #008080; font-weight: bold\">5200</span>: train loss <span style=\"color: #008080; text-decoration-color: #008080; font-weight: bold\">2.5503</span>, val loss <span style=\"color: #008080; text-decoration-color: #008080; font-weight: bold\">2.5602</span>\n",
       "</pre>\n"
      ],
      "text/plain": [
       "step \u001b[1;36m5200\u001b[0m: train loss \u001b[1;36m2.5503\u001b[0m, val loss \u001b[1;36m2.5602\u001b[0m\n"
      ]
     },
     "metadata": {},
     "output_type": "display_data"
    },
    {
     "data": {
      "text/html": [
       "<pre style=\"white-space:pre;overflow-x:auto;line-height:normal;font-family:Menlo,'DejaVu Sans Mono',consolas,'Courier New',monospace\">step <span style=\"color: #008080; text-decoration-color: #008080; font-weight: bold\">5400</span>: train loss <span style=\"color: #008080; text-decoration-color: #008080; font-weight: bold\">2.5426</span>, val loss <span style=\"color: #008080; text-decoration-color: #008080; font-weight: bold\">2.5515</span>\n",
       "</pre>\n"
      ],
      "text/plain": [
       "step \u001b[1;36m5400\u001b[0m: train loss \u001b[1;36m2.5426\u001b[0m, val loss \u001b[1;36m2.5515\u001b[0m\n"
      ]
     },
     "metadata": {},
     "output_type": "display_data"
    },
    {
     "data": {
      "text/html": [
       "<pre style=\"white-space:pre;overflow-x:auto;line-height:normal;font-family:Menlo,'DejaVu Sans Mono',consolas,'Courier New',monospace\">step <span style=\"color: #008080; text-decoration-color: #008080; font-weight: bold\">5600</span>: train loss <span style=\"color: #008080; text-decoration-color: #008080; font-weight: bold\">2.5253</span>, val loss <span style=\"color: #008080; text-decoration-color: #008080; font-weight: bold\">2.5446</span>\n",
       "</pre>\n"
      ],
      "text/plain": [
       "step \u001b[1;36m5600\u001b[0m: train loss \u001b[1;36m2.5253\u001b[0m, val loss \u001b[1;36m2.5446\u001b[0m\n"
      ]
     },
     "metadata": {},
     "output_type": "display_data"
    },
    {
     "data": {
      "text/html": [
       "<pre style=\"white-space:pre;overflow-x:auto;line-height:normal;font-family:Menlo,'DejaVu Sans Mono',consolas,'Courier New',monospace\">step <span style=\"color: #008080; text-decoration-color: #008080; font-weight: bold\">5800</span>: train loss <span style=\"color: #008080; text-decoration-color: #008080; font-weight: bold\">2.5221</span>, val loss <span style=\"color: #008080; text-decoration-color: #008080; font-weight: bold\">2.5474</span>\n",
       "</pre>\n"
      ],
      "text/plain": [
       "step \u001b[1;36m5800\u001b[0m: train loss \u001b[1;36m2.5221\u001b[0m, val loss \u001b[1;36m2.5474\u001b[0m\n"
      ]
     },
     "metadata": {},
     "output_type": "display_data"
    },
    {
     "data": {
      "text/html": [
       "<pre style=\"white-space:pre;overflow-x:auto;line-height:normal;font-family:Menlo,'DejaVu Sans Mono',consolas,'Courier New',monospace\">step <span style=\"color: #008080; text-decoration-color: #008080; font-weight: bold\">6000</span>: train loss <span style=\"color: #008080; text-decoration-color: #008080; font-weight: bold\">2.5135</span>, val loss <span style=\"color: #008080; text-decoration-color: #008080; font-weight: bold\">2.5317</span>\n",
       "</pre>\n"
      ],
      "text/plain": [
       "step \u001b[1;36m6000\u001b[0m: train loss \u001b[1;36m2.5135\u001b[0m, val loss \u001b[1;36m2.5317\u001b[0m\n"
      ]
     },
     "metadata": {},
     "output_type": "display_data"
    },
    {
     "data": {
      "text/html": [
       "<pre style=\"white-space:pre;overflow-x:auto;line-height:normal;font-family:Menlo,'DejaVu Sans Mono',consolas,'Courier New',monospace\">step <span style=\"color: #008080; text-decoration-color: #008080; font-weight: bold\">6200</span>: train loss <span style=\"color: #008080; text-decoration-color: #008080; font-weight: bold\">2.5113</span>, val loss <span style=\"color: #008080; text-decoration-color: #008080; font-weight: bold\">2.5321</span>\n",
       "</pre>\n"
      ],
      "text/plain": [
       "step \u001b[1;36m6200\u001b[0m: train loss \u001b[1;36m2.5113\u001b[0m, val loss \u001b[1;36m2.5321\u001b[0m\n"
      ]
     },
     "metadata": {},
     "output_type": "display_data"
    },
    {
     "data": {
      "text/html": [
       "<pre style=\"white-space:pre;overflow-x:auto;line-height:normal;font-family:Menlo,'DejaVu Sans Mono',consolas,'Courier New',monospace\">step <span style=\"color: #008080; text-decoration-color: #008080; font-weight: bold\">6400</span>: train loss <span style=\"color: #008080; text-decoration-color: #008080; font-weight: bold\">2.4961</span>, val loss <span style=\"color: #008080; text-decoration-color: #008080; font-weight: bold\">2.5255</span>\n",
       "</pre>\n"
      ],
      "text/plain": [
       "step \u001b[1;36m6400\u001b[0m: train loss \u001b[1;36m2.4961\u001b[0m, val loss \u001b[1;36m2.5255\u001b[0m\n"
      ]
     },
     "metadata": {},
     "output_type": "display_data"
    },
    {
     "data": {
      "text/html": [
       "<pre style=\"white-space:pre;overflow-x:auto;line-height:normal;font-family:Menlo,'DejaVu Sans Mono',consolas,'Courier New',monospace\">step <span style=\"color: #008080; text-decoration-color: #008080; font-weight: bold\">6600</span>: train loss <span style=\"color: #008080; text-decoration-color: #008080; font-weight: bold\">2.4978</span>, val loss <span style=\"color: #008080; text-decoration-color: #008080; font-weight: bold\">2.5220</span>\n",
       "</pre>\n"
      ],
      "text/plain": [
       "step \u001b[1;36m6600\u001b[0m: train loss \u001b[1;36m2.4978\u001b[0m, val loss \u001b[1;36m2.5220\u001b[0m\n"
      ]
     },
     "metadata": {},
     "output_type": "display_data"
    },
    {
     "data": {
      "text/html": [
       "<pre style=\"white-space:pre;overflow-x:auto;line-height:normal;font-family:Menlo,'DejaVu Sans Mono',consolas,'Courier New',monospace\">step <span style=\"color: #008080; text-decoration-color: #008080; font-weight: bold\">6800</span>: train loss <span style=\"color: #008080; text-decoration-color: #008080; font-weight: bold\">2.4947</span>, val loss <span style=\"color: #008080; text-decoration-color: #008080; font-weight: bold\">2.5207</span>\n",
       "</pre>\n"
      ],
      "text/plain": [
       "step \u001b[1;36m6800\u001b[0m: train loss \u001b[1;36m2.4947\u001b[0m, val loss \u001b[1;36m2.5207\u001b[0m\n"
      ]
     },
     "metadata": {},
     "output_type": "display_data"
    },
    {
     "data": {
      "text/html": [
       "<pre style=\"white-space:pre;overflow-x:auto;line-height:normal;font-family:Menlo,'DejaVu Sans Mono',consolas,'Courier New',monospace\">step <span style=\"color: #008080; text-decoration-color: #008080; font-weight: bold\">7000</span>: train loss <span style=\"color: #008080; text-decoration-color: #008080; font-weight: bold\">2.4902</span>, val loss <span style=\"color: #008080; text-decoration-color: #008080; font-weight: bold\">2.5162</span>\n",
       "</pre>\n"
      ],
      "text/plain": [
       "step \u001b[1;36m7000\u001b[0m: train loss \u001b[1;36m2.4902\u001b[0m, val loss \u001b[1;36m2.5162\u001b[0m\n"
      ]
     },
     "metadata": {},
     "output_type": "display_data"
    },
    {
     "data": {
      "text/html": [
       "<pre style=\"white-space:pre;overflow-x:auto;line-height:normal;font-family:Menlo,'DejaVu Sans Mono',consolas,'Courier New',monospace\">step <span style=\"color: #008080; text-decoration-color: #008080; font-weight: bold\">7200</span>: train loss <span style=\"color: #008080; text-decoration-color: #008080; font-weight: bold\">2.4912</span>, val loss <span style=\"color: #008080; text-decoration-color: #008080; font-weight: bold\">2.5122</span>\n",
       "</pre>\n"
      ],
      "text/plain": [
       "step \u001b[1;36m7200\u001b[0m: train loss \u001b[1;36m2.4912\u001b[0m, val loss \u001b[1;36m2.5122\u001b[0m\n"
      ]
     },
     "metadata": {},
     "output_type": "display_data"
    },
    {
     "data": {
      "text/html": [
       "<pre style=\"white-space:pre;overflow-x:auto;line-height:normal;font-family:Menlo,'DejaVu Sans Mono',consolas,'Courier New',monospace\">step <span style=\"color: #008080; text-decoration-color: #008080; font-weight: bold\">7400</span>: train loss <span style=\"color: #008080; text-decoration-color: #008080; font-weight: bold\">2.4967</span>, val loss <span style=\"color: #008080; text-decoration-color: #008080; font-weight: bold\">2.5125</span>\n",
       "</pre>\n"
      ],
      "text/plain": [
       "step \u001b[1;36m7400\u001b[0m: train loss \u001b[1;36m2.4967\u001b[0m, val loss \u001b[1;36m2.5125\u001b[0m\n"
      ]
     },
     "metadata": {},
     "output_type": "display_data"
    },
    {
     "data": {
      "text/html": [
       "<pre style=\"white-space:pre;overflow-x:auto;line-height:normal;font-family:Menlo,'DejaVu Sans Mono',consolas,'Courier New',monospace\">step <span style=\"color: #008080; text-decoration-color: #008080; font-weight: bold\">7600</span>: train loss <span style=\"color: #008080; text-decoration-color: #008080; font-weight: bold\">2.4849</span>, val loss <span style=\"color: #008080; text-decoration-color: #008080; font-weight: bold\">2.5058</span>\n",
       "</pre>\n"
      ],
      "text/plain": [
       "step \u001b[1;36m7600\u001b[0m: train loss \u001b[1;36m2.4849\u001b[0m, val loss \u001b[1;36m2.5058\u001b[0m\n"
      ]
     },
     "metadata": {},
     "output_type": "display_data"
    },
    {
     "data": {
      "text/html": [
       "<pre style=\"white-space:pre;overflow-x:auto;line-height:normal;font-family:Menlo,'DejaVu Sans Mono',consolas,'Courier New',monospace\">step <span style=\"color: #008080; text-decoration-color: #008080; font-weight: bold\">7800</span>: train loss <span style=\"color: #008080; text-decoration-color: #008080; font-weight: bold\">2.4906</span>, val loss <span style=\"color: #008080; text-decoration-color: #008080; font-weight: bold\">2.4990</span>\n",
       "</pre>\n"
      ],
      "text/plain": [
       "step \u001b[1;36m7800\u001b[0m: train loss \u001b[1;36m2.4906\u001b[0m, val loss \u001b[1;36m2.4990\u001b[0m\n"
      ]
     },
     "metadata": {},
     "output_type": "display_data"
    },
    {
     "data": {
      "text/html": [
       "<pre style=\"white-space:pre;overflow-x:auto;line-height:normal;font-family:Menlo,'DejaVu Sans Mono',consolas,'Courier New',monospace\">step <span style=\"color: #008080; text-decoration-color: #008080; font-weight: bold\">8000</span>: train loss <span style=\"color: #008080; text-decoration-color: #008080; font-weight: bold\">2.4852</span>, val loss <span style=\"color: #008080; text-decoration-color: #008080; font-weight: bold\">2.5056</span>\n",
       "</pre>\n"
      ],
      "text/plain": [
       "step \u001b[1;36m8000\u001b[0m: train loss \u001b[1;36m2.4852\u001b[0m, val loss \u001b[1;36m2.5056\u001b[0m\n"
      ]
     },
     "metadata": {},
     "output_type": "display_data"
    },
    {
     "data": {
      "text/html": [
       "<pre style=\"white-space:pre;overflow-x:auto;line-height:normal;font-family:Menlo,'DejaVu Sans Mono',consolas,'Courier New',monospace\">step <span style=\"color: #008080; text-decoration-color: #008080; font-weight: bold\">8200</span>: train loss <span style=\"color: #008080; text-decoration-color: #008080; font-weight: bold\">2.4853</span>, val loss <span style=\"color: #008080; text-decoration-color: #008080; font-weight: bold\">2.5056</span>\n",
       "</pre>\n"
      ],
      "text/plain": [
       "step \u001b[1;36m8200\u001b[0m: train loss \u001b[1;36m2.4853\u001b[0m, val loss \u001b[1;36m2.5056\u001b[0m\n"
      ]
     },
     "metadata": {},
     "output_type": "display_data"
    },
    {
     "data": {
      "text/html": [
       "<pre style=\"white-space:pre;overflow-x:auto;line-height:normal;font-family:Menlo,'DejaVu Sans Mono',consolas,'Courier New',monospace\">step <span style=\"color: #008080; text-decoration-color: #008080; font-weight: bold\">8400</span>: train loss <span style=\"color: #008080; text-decoration-color: #008080; font-weight: bold\">2.4744</span>, val loss <span style=\"color: #008080; text-decoration-color: #008080; font-weight: bold\">2.4876</span>\n",
       "</pre>\n"
      ],
      "text/plain": [
       "step \u001b[1;36m8400\u001b[0m: train loss \u001b[1;36m2.4744\u001b[0m, val loss \u001b[1;36m2.4876\u001b[0m\n"
      ]
     },
     "metadata": {},
     "output_type": "display_data"
    },
    {
     "data": {
      "text/html": [
       "<pre style=\"white-space:pre;overflow-x:auto;line-height:normal;font-family:Menlo,'DejaVu Sans Mono',consolas,'Courier New',monospace\">step <span style=\"color: #008080; text-decoration-color: #008080; font-weight: bold\">8600</span>: train loss <span style=\"color: #008080; text-decoration-color: #008080; font-weight: bold\">2.4872</span>, val loss <span style=\"color: #008080; text-decoration-color: #008080; font-weight: bold\">2.4960</span>\n",
       "</pre>\n"
      ],
      "text/plain": [
       "step \u001b[1;36m8600\u001b[0m: train loss \u001b[1;36m2.4872\u001b[0m, val loss \u001b[1;36m2.4960\u001b[0m\n"
      ]
     },
     "metadata": {},
     "output_type": "display_data"
    },
    {
     "data": {
      "text/html": [
       "<pre style=\"white-space:pre;overflow-x:auto;line-height:normal;font-family:Menlo,'DejaVu Sans Mono',consolas,'Courier New',monospace\">step <span style=\"color: #008080; text-decoration-color: #008080; font-weight: bold\">8800</span>: train loss <span style=\"color: #008080; text-decoration-color: #008080; font-weight: bold\">2.4705</span>, val loss <span style=\"color: #008080; text-decoration-color: #008080; font-weight: bold\">2.5031</span>\n",
       "</pre>\n"
      ],
      "text/plain": [
       "step \u001b[1;36m8800\u001b[0m: train loss \u001b[1;36m2.4705\u001b[0m, val loss \u001b[1;36m2.5031\u001b[0m\n"
      ]
     },
     "metadata": {},
     "output_type": "display_data"
    },
    {
     "data": {
      "text/html": [
       "<pre style=\"white-space:pre;overflow-x:auto;line-height:normal;font-family:Menlo,'DejaVu Sans Mono',consolas,'Courier New',monospace\">step <span style=\"color: #008080; text-decoration-color: #008080; font-weight: bold\">9000</span>: train loss <span style=\"color: #008080; text-decoration-color: #008080; font-weight: bold\">2.4783</span>, val loss <span style=\"color: #008080; text-decoration-color: #008080; font-weight: bold\">2.4904</span>\n",
       "</pre>\n"
      ],
      "text/plain": [
       "step \u001b[1;36m9000\u001b[0m: train loss \u001b[1;36m2.4783\u001b[0m, val loss \u001b[1;36m2.4904\u001b[0m\n"
      ]
     },
     "metadata": {},
     "output_type": "display_data"
    },
    {
     "data": {
      "text/html": [
       "<pre style=\"white-space:pre;overflow-x:auto;line-height:normal;font-family:Menlo,'DejaVu Sans Mono',consolas,'Courier New',monospace\">step <span style=\"color: #008080; text-decoration-color: #008080; font-weight: bold\">9200</span>: train loss <span style=\"color: #008080; text-decoration-color: #008080; font-weight: bold\">2.4682</span>, val loss <span style=\"color: #008080; text-decoration-color: #008080; font-weight: bold\">2.4938</span>\n",
       "</pre>\n"
      ],
      "text/plain": [
       "step \u001b[1;36m9200\u001b[0m: train loss \u001b[1;36m2.4682\u001b[0m, val loss \u001b[1;36m2.4938\u001b[0m\n"
      ]
     },
     "metadata": {},
     "output_type": "display_data"
    },
    {
     "data": {
      "text/html": [
       "<pre style=\"white-space:pre;overflow-x:auto;line-height:normal;font-family:Menlo,'DejaVu Sans Mono',consolas,'Courier New',monospace\">step <span style=\"color: #008080; text-decoration-color: #008080; font-weight: bold\">9400</span>: train loss <span style=\"color: #008080; text-decoration-color: #008080; font-weight: bold\">2.4745</span>, val loss <span style=\"color: #008080; text-decoration-color: #008080; font-weight: bold\">2.4901</span>\n",
       "</pre>\n"
      ],
      "text/plain": [
       "step \u001b[1;36m9400\u001b[0m: train loss \u001b[1;36m2.4745\u001b[0m, val loss \u001b[1;36m2.4901\u001b[0m\n"
      ]
     },
     "metadata": {},
     "output_type": "display_data"
    },
    {
     "data": {
      "text/html": [
       "<pre style=\"white-space:pre;overflow-x:auto;line-height:normal;font-family:Menlo,'DejaVu Sans Mono',consolas,'Courier New',monospace\">step <span style=\"color: #008080; text-decoration-color: #008080; font-weight: bold\">9600</span>: train loss <span style=\"color: #008080; text-decoration-color: #008080; font-weight: bold\">2.4703</span>, val loss <span style=\"color: #008080; text-decoration-color: #008080; font-weight: bold\">2.4964</span>\n",
       "</pre>\n"
      ],
      "text/plain": [
       "step \u001b[1;36m9600\u001b[0m: train loss \u001b[1;36m2.4703\u001b[0m, val loss \u001b[1;36m2.4964\u001b[0m\n"
      ]
     },
     "metadata": {},
     "output_type": "display_data"
    },
    {
     "data": {
      "text/html": [
       "<pre style=\"white-space:pre;overflow-x:auto;line-height:normal;font-family:Menlo,'DejaVu Sans Mono',consolas,'Courier New',monospace\">step <span style=\"color: #008080; text-decoration-color: #008080; font-weight: bold\">9800</span>: train loss <span style=\"color: #008080; text-decoration-color: #008080; font-weight: bold\">2.4663</span>, val loss <span style=\"color: #008080; text-decoration-color: #008080; font-weight: bold\">2.4919</span>\n",
       "</pre>\n"
      ],
      "text/plain": [
       "step \u001b[1;36m9800\u001b[0m: train loss \u001b[1;36m2.4663\u001b[0m, val loss \u001b[1;36m2.4919\u001b[0m\n"
      ]
     },
     "metadata": {},
     "output_type": "display_data"
    },
    {
     "data": {
      "text/html": [
       "<pre style=\"white-space:pre;overflow-x:auto;line-height:normal;font-family:Menlo,'DejaVu Sans Mono',consolas,'Courier New',monospace\">step <span style=\"color: #008080; text-decoration-color: #008080; font-weight: bold\">10000</span>: train loss <span style=\"color: #008080; text-decoration-color: #008080; font-weight: bold\">2.4717</span>, val loss <span style=\"color: #008080; text-decoration-color: #008080; font-weight: bold\">2.4893</span>\n",
       "</pre>\n"
      ],
      "text/plain": [
       "step \u001b[1;36m10000\u001b[0m: train loss \u001b[1;36m2.4717\u001b[0m, val loss \u001b[1;36m2.4893\u001b[0m\n"
      ]
     },
     "metadata": {},
     "output_type": "display_data"
    },
    {
     "data": {
      "text/html": [
       "<pre style=\"white-space:pre;overflow-x:auto;line-height:normal;font-family:Menlo,'DejaVu Sans Mono',consolas,'Courier New',monospace\">step <span style=\"color: #008080; text-decoration-color: #008080; font-weight: bold\">10200</span>: train loss <span style=\"color: #008080; text-decoration-color: #008080; font-weight: bold\">2.4660</span>, val loss <span style=\"color: #008080; text-decoration-color: #008080; font-weight: bold\">2.4910</span>\n",
       "</pre>\n"
      ],
      "text/plain": [
       "step \u001b[1;36m10200\u001b[0m: train loss \u001b[1;36m2.4660\u001b[0m, val loss \u001b[1;36m2.4910\u001b[0m\n"
      ]
     },
     "metadata": {},
     "output_type": "display_data"
    },
    {
     "data": {
      "text/html": [
       "<pre style=\"white-space:pre;overflow-x:auto;line-height:normal;font-family:Menlo,'DejaVu Sans Mono',consolas,'Courier New',monospace\">step <span style=\"color: #008080; text-decoration-color: #008080; font-weight: bold\">10400</span>: train loss <span style=\"color: #008080; text-decoration-color: #008080; font-weight: bold\">2.4729</span>, val loss <span style=\"color: #008080; text-decoration-color: #008080; font-weight: bold\">2.4950</span>\n",
       "</pre>\n"
      ],
      "text/plain": [
       "step \u001b[1;36m10400\u001b[0m: train loss \u001b[1;36m2.4729\u001b[0m, val loss \u001b[1;36m2.4950\u001b[0m\n"
      ]
     },
     "metadata": {},
     "output_type": "display_data"
    },
    {
     "data": {
      "text/html": [
       "<pre style=\"white-space:pre;overflow-x:auto;line-height:normal;font-family:Menlo,'DejaVu Sans Mono',consolas,'Courier New',monospace\">step <span style=\"color: #008080; text-decoration-color: #008080; font-weight: bold\">10600</span>: train loss <span style=\"color: #008080; text-decoration-color: #008080; font-weight: bold\">2.4650</span>, val loss <span style=\"color: #008080; text-decoration-color: #008080; font-weight: bold\">2.4818</span>\n",
       "</pre>\n"
      ],
      "text/plain": [
       "step \u001b[1;36m10600\u001b[0m: train loss \u001b[1;36m2.4650\u001b[0m, val loss \u001b[1;36m2.4818\u001b[0m\n"
      ]
     },
     "metadata": {},
     "output_type": "display_data"
    },
    {
     "data": {
      "text/html": [
       "<pre style=\"white-space:pre;overflow-x:auto;line-height:normal;font-family:Menlo,'DejaVu Sans Mono',consolas,'Courier New',monospace\">step <span style=\"color: #008080; text-decoration-color: #008080; font-weight: bold\">10800</span>: train loss <span style=\"color: #008080; text-decoration-color: #008080; font-weight: bold\">2.4534</span>, val loss <span style=\"color: #008080; text-decoration-color: #008080; font-weight: bold\">2.4936</span>\n",
       "</pre>\n"
      ],
      "text/plain": [
       "step \u001b[1;36m10800\u001b[0m: train loss \u001b[1;36m2.4534\u001b[0m, val loss \u001b[1;36m2.4936\u001b[0m\n"
      ]
     },
     "metadata": {},
     "output_type": "display_data"
    },
    {
     "data": {
      "text/html": [
       "<pre style=\"white-space:pre;overflow-x:auto;line-height:normal;font-family:Menlo,'DejaVu Sans Mono',consolas,'Courier New',monospace\">step <span style=\"color: #008080; text-decoration-color: #008080; font-weight: bold\">11000</span>: train loss <span style=\"color: #008080; text-decoration-color: #008080; font-weight: bold\">2.4571</span>, val loss <span style=\"color: #008080; text-decoration-color: #008080; font-weight: bold\">2.4708</span>\n",
       "</pre>\n"
      ],
      "text/plain": [
       "step \u001b[1;36m11000\u001b[0m: train loss \u001b[1;36m2.4571\u001b[0m, val loss \u001b[1;36m2.4708\u001b[0m\n"
      ]
     },
     "metadata": {},
     "output_type": "display_data"
    },
    {
     "data": {
      "text/html": [
       "<pre style=\"white-space:pre;overflow-x:auto;line-height:normal;font-family:Menlo,'DejaVu Sans Mono',consolas,'Courier New',monospace\">step <span style=\"color: #008080; text-decoration-color: #008080; font-weight: bold\">11200</span>: train loss <span style=\"color: #008080; text-decoration-color: #008080; font-weight: bold\">2.4612</span>, val loss <span style=\"color: #008080; text-decoration-color: #008080; font-weight: bold\">2.4752</span>\n",
       "</pre>\n"
      ],
      "text/plain": [
       "step \u001b[1;36m11200\u001b[0m: train loss \u001b[1;36m2.4612\u001b[0m, val loss \u001b[1;36m2.4752\u001b[0m\n"
      ]
     },
     "metadata": {},
     "output_type": "display_data"
    },
    {
     "data": {
      "text/html": [
       "<pre style=\"white-space:pre;overflow-x:auto;line-height:normal;font-family:Menlo,'DejaVu Sans Mono',consolas,'Courier New',monospace\">step <span style=\"color: #008080; text-decoration-color: #008080; font-weight: bold\">11400</span>: train loss <span style=\"color: #008080; text-decoration-color: #008080; font-weight: bold\">2.4634</span>, val loss <span style=\"color: #008080; text-decoration-color: #008080; font-weight: bold\">2.4890</span>\n",
       "</pre>\n"
      ],
      "text/plain": [
       "step \u001b[1;36m11400\u001b[0m: train loss \u001b[1;36m2.4634\u001b[0m, val loss \u001b[1;36m2.4890\u001b[0m\n"
      ]
     },
     "metadata": {},
     "output_type": "display_data"
    },
    {
     "data": {
      "text/html": [
       "<pre style=\"white-space:pre;overflow-x:auto;line-height:normal;font-family:Menlo,'DejaVu Sans Mono',consolas,'Courier New',monospace\">step <span style=\"color: #008080; text-decoration-color: #008080; font-weight: bold\">11600</span>: train loss <span style=\"color: #008080; text-decoration-color: #008080; font-weight: bold\">2.4551</span>, val loss <span style=\"color: #008080; text-decoration-color: #008080; font-weight: bold\">2.4970</span>\n",
       "</pre>\n"
      ],
      "text/plain": [
       "step \u001b[1;36m11600\u001b[0m: train loss \u001b[1;36m2.4551\u001b[0m, val loss \u001b[1;36m2.4970\u001b[0m\n"
      ]
     },
     "metadata": {},
     "output_type": "display_data"
    },
    {
     "data": {
      "text/html": [
       "<pre style=\"white-space:pre;overflow-x:auto;line-height:normal;font-family:Menlo,'DejaVu Sans Mono',consolas,'Courier New',monospace\">step <span style=\"color: #008080; text-decoration-color: #008080; font-weight: bold\">11800</span>: train loss <span style=\"color: #008080; text-decoration-color: #008080; font-weight: bold\">2.4612</span>, val loss <span style=\"color: #008080; text-decoration-color: #008080; font-weight: bold\">2.4821</span>\n",
       "</pre>\n"
      ],
      "text/plain": [
       "step \u001b[1;36m11800\u001b[0m: train loss \u001b[1;36m2.4612\u001b[0m, val loss \u001b[1;36m2.4821\u001b[0m\n"
      ]
     },
     "metadata": {},
     "output_type": "display_data"
    },
    {
     "data": {
      "text/html": [
       "<pre style=\"white-space:pre;overflow-x:auto;line-height:normal;font-family:Menlo,'DejaVu Sans Mono',consolas,'Courier New',monospace\">step <span style=\"color: #008080; text-decoration-color: #008080; font-weight: bold\">12000</span>: train loss <span style=\"color: #008080; text-decoration-color: #008080; font-weight: bold\">2.4593</span>, val loss <span style=\"color: #008080; text-decoration-color: #008080; font-weight: bold\">2.4909</span>\n",
       "</pre>\n"
      ],
      "text/plain": [
       "step \u001b[1;36m12000\u001b[0m: train loss \u001b[1;36m2.4593\u001b[0m, val loss \u001b[1;36m2.4909\u001b[0m\n"
      ]
     },
     "metadata": {},
     "output_type": "display_data"
    },
    {
     "data": {
      "text/html": [
       "<pre style=\"white-space:pre;overflow-x:auto;line-height:normal;font-family:Menlo,'DejaVu Sans Mono',consolas,'Courier New',monospace\">step <span style=\"color: #008080; text-decoration-color: #008080; font-weight: bold\">12200</span>: train loss <span style=\"color: #008080; text-decoration-color: #008080; font-weight: bold\">2.4550</span>, val loss <span style=\"color: #008080; text-decoration-color: #008080; font-weight: bold\">2.4730</span>\n",
       "</pre>\n"
      ],
      "text/plain": [
       "step \u001b[1;36m12200\u001b[0m: train loss \u001b[1;36m2.4550\u001b[0m, val loss \u001b[1;36m2.4730\u001b[0m\n"
      ]
     },
     "metadata": {},
     "output_type": "display_data"
    },
    {
     "data": {
      "text/html": [
       "<pre style=\"white-space:pre;overflow-x:auto;line-height:normal;font-family:Menlo,'DejaVu Sans Mono',consolas,'Courier New',monospace\">step <span style=\"color: #008080; text-decoration-color: #008080; font-weight: bold\">12400</span>: train loss <span style=\"color: #008080; text-decoration-color: #008080; font-weight: bold\">2.4594</span>, val loss <span style=\"color: #008080; text-decoration-color: #008080; font-weight: bold\">2.4815</span>\n",
       "</pre>\n"
      ],
      "text/plain": [
       "step \u001b[1;36m12400\u001b[0m: train loss \u001b[1;36m2.4594\u001b[0m, val loss \u001b[1;36m2.4815\u001b[0m\n"
      ]
     },
     "metadata": {},
     "output_type": "display_data"
    },
    {
     "data": {
      "text/html": [
       "<pre style=\"white-space:pre;overflow-x:auto;line-height:normal;font-family:Menlo,'DejaVu Sans Mono',consolas,'Courier New',monospace\">step <span style=\"color: #008080; text-decoration-color: #008080; font-weight: bold\">12600</span>: train loss <span style=\"color: #008080; text-decoration-color: #008080; font-weight: bold\">2.4628</span>, val loss <span style=\"color: #008080; text-decoration-color: #008080; font-weight: bold\">2.4767</span>\n",
       "</pre>\n"
      ],
      "text/plain": [
       "step \u001b[1;36m12600\u001b[0m: train loss \u001b[1;36m2.4628\u001b[0m, val loss \u001b[1;36m2.4767\u001b[0m\n"
      ]
     },
     "metadata": {},
     "output_type": "display_data"
    },
    {
     "data": {
      "text/html": [
       "<pre style=\"white-space:pre;overflow-x:auto;line-height:normal;font-family:Menlo,'DejaVu Sans Mono',consolas,'Courier New',monospace\">step <span style=\"color: #008080; text-decoration-color: #008080; font-weight: bold\">12800</span>: train loss <span style=\"color: #008080; text-decoration-color: #008080; font-weight: bold\">2.4576</span>, val loss <span style=\"color: #008080; text-decoration-color: #008080; font-weight: bold\">2.4770</span>\n",
       "</pre>\n"
      ],
      "text/plain": [
       "step \u001b[1;36m12800\u001b[0m: train loss \u001b[1;36m2.4576\u001b[0m, val loss \u001b[1;36m2.4770\u001b[0m\n"
      ]
     },
     "metadata": {},
     "output_type": "display_data"
    },
    {
     "data": {
      "text/html": [
       "<pre style=\"white-space:pre;overflow-x:auto;line-height:normal;font-family:Menlo,'DejaVu Sans Mono',consolas,'Courier New',monospace\">step <span style=\"color: #008080; text-decoration-color: #008080; font-weight: bold\">13000</span>: train loss <span style=\"color: #008080; text-decoration-color: #008080; font-weight: bold\">2.4514</span>, val loss <span style=\"color: #008080; text-decoration-color: #008080; font-weight: bold\">2.4812</span>\n",
       "</pre>\n"
      ],
      "text/plain": [
       "step \u001b[1;36m13000\u001b[0m: train loss \u001b[1;36m2.4514\u001b[0m, val loss \u001b[1;36m2.4812\u001b[0m\n"
      ]
     },
     "metadata": {},
     "output_type": "display_data"
    },
    {
     "data": {
      "text/html": [
       "<pre style=\"white-space:pre;overflow-x:auto;line-height:normal;font-family:Menlo,'DejaVu Sans Mono',consolas,'Courier New',monospace\">step <span style=\"color: #008080; text-decoration-color: #008080; font-weight: bold\">13200</span>: train loss <span style=\"color: #008080; text-decoration-color: #008080; font-weight: bold\">2.4653</span>, val loss <span style=\"color: #008080; text-decoration-color: #008080; font-weight: bold\">2.4841</span>\n",
       "</pre>\n"
      ],
      "text/plain": [
       "step \u001b[1;36m13200\u001b[0m: train loss \u001b[1;36m2.4653\u001b[0m, val loss \u001b[1;36m2.4841\u001b[0m\n"
      ]
     },
     "metadata": {},
     "output_type": "display_data"
    },
    {
     "data": {
      "text/html": [
       "<pre style=\"white-space:pre;overflow-x:auto;line-height:normal;font-family:Menlo,'DejaVu Sans Mono',consolas,'Courier New',monospace\">step <span style=\"color: #008080; text-decoration-color: #008080; font-weight: bold\">13400</span>: train loss <span style=\"color: #008080; text-decoration-color: #008080; font-weight: bold\">2.4594</span>, val loss <span style=\"color: #008080; text-decoration-color: #008080; font-weight: bold\">2.4776</span>\n",
       "</pre>\n"
      ],
      "text/plain": [
       "step \u001b[1;36m13400\u001b[0m: train loss \u001b[1;36m2.4594\u001b[0m, val loss \u001b[1;36m2.4776\u001b[0m\n"
      ]
     },
     "metadata": {},
     "output_type": "display_data"
    },
    {
     "data": {
      "text/html": [
       "<pre style=\"white-space:pre;overflow-x:auto;line-height:normal;font-family:Menlo,'DejaVu Sans Mono',consolas,'Courier New',monospace\">step <span style=\"color: #008080; text-decoration-color: #008080; font-weight: bold\">13600</span>: train loss <span style=\"color: #008080; text-decoration-color: #008080; font-weight: bold\">2.4528</span>, val loss <span style=\"color: #008080; text-decoration-color: #008080; font-weight: bold\">2.4791</span>\n",
       "</pre>\n"
      ],
      "text/plain": [
       "step \u001b[1;36m13600\u001b[0m: train loss \u001b[1;36m2.4528\u001b[0m, val loss \u001b[1;36m2.4791\u001b[0m\n"
      ]
     },
     "metadata": {},
     "output_type": "display_data"
    },
    {
     "data": {
      "text/html": [
       "<pre style=\"white-space:pre;overflow-x:auto;line-height:normal;font-family:Menlo,'DejaVu Sans Mono',consolas,'Courier New',monospace\">step <span style=\"color: #008080; text-decoration-color: #008080; font-weight: bold\">13800</span>: train loss <span style=\"color: #008080; text-decoration-color: #008080; font-weight: bold\">2.4535</span>, val loss <span style=\"color: #008080; text-decoration-color: #008080; font-weight: bold\">2.4882</span>\n",
       "</pre>\n"
      ],
      "text/plain": [
       "step \u001b[1;36m13800\u001b[0m: train loss \u001b[1;36m2.4535\u001b[0m, val loss \u001b[1;36m2.4882\u001b[0m\n"
      ]
     },
     "metadata": {},
     "output_type": "display_data"
    },
    {
     "data": {
      "text/html": [
       "<pre style=\"white-space:pre;overflow-x:auto;line-height:normal;font-family:Menlo,'DejaVu Sans Mono',consolas,'Courier New',monospace\">step <span style=\"color: #008080; text-decoration-color: #008080; font-weight: bold\">14000</span>: train loss <span style=\"color: #008080; text-decoration-color: #008080; font-weight: bold\">2.4619</span>, val loss <span style=\"color: #008080; text-decoration-color: #008080; font-weight: bold\">2.4882</span>\n",
       "</pre>\n"
      ],
      "text/plain": [
       "step \u001b[1;36m14000\u001b[0m: train loss \u001b[1;36m2.4619\u001b[0m, val loss \u001b[1;36m2.4882\u001b[0m\n"
      ]
     },
     "metadata": {},
     "output_type": "display_data"
    },
    {
     "data": {
      "text/html": [
       "<pre style=\"white-space:pre;overflow-x:auto;line-height:normal;font-family:Menlo,'DejaVu Sans Mono',consolas,'Courier New',monospace\">step <span style=\"color: #008080; text-decoration-color: #008080; font-weight: bold\">14200</span>: train loss <span style=\"color: #008080; text-decoration-color: #008080; font-weight: bold\">2.4566</span>, val loss <span style=\"color: #008080; text-decoration-color: #008080; font-weight: bold\">2.4839</span>\n",
       "</pre>\n"
      ],
      "text/plain": [
       "step \u001b[1;36m14200\u001b[0m: train loss \u001b[1;36m2.4566\u001b[0m, val loss \u001b[1;36m2.4839\u001b[0m\n"
      ]
     },
     "metadata": {},
     "output_type": "display_data"
    },
    {
     "data": {
      "text/html": [
       "<pre style=\"white-space:pre;overflow-x:auto;line-height:normal;font-family:Menlo,'DejaVu Sans Mono',consolas,'Courier New',monospace\">step <span style=\"color: #008080; text-decoration-color: #008080; font-weight: bold\">14400</span>: train loss <span style=\"color: #008080; text-decoration-color: #008080; font-weight: bold\">2.4573</span>, val loss <span style=\"color: #008080; text-decoration-color: #008080; font-weight: bold\">2.4799</span>\n",
       "</pre>\n"
      ],
      "text/plain": [
       "step \u001b[1;36m14400\u001b[0m: train loss \u001b[1;36m2.4573\u001b[0m, val loss \u001b[1;36m2.4799\u001b[0m\n"
      ]
     },
     "metadata": {},
     "output_type": "display_data"
    },
    {
     "data": {
      "text/html": [
       "<pre style=\"white-space:pre;overflow-x:auto;line-height:normal;font-family:Menlo,'DejaVu Sans Mono',consolas,'Courier New',monospace\">step <span style=\"color: #008080; text-decoration-color: #008080; font-weight: bold\">14600</span>: train loss <span style=\"color: #008080; text-decoration-color: #008080; font-weight: bold\">2.4531</span>, val loss <span style=\"color: #008080; text-decoration-color: #008080; font-weight: bold\">2.4867</span>\n",
       "</pre>\n"
      ],
      "text/plain": [
       "step \u001b[1;36m14600\u001b[0m: train loss \u001b[1;36m2.4531\u001b[0m, val loss \u001b[1;36m2.4867\u001b[0m\n"
      ]
     },
     "metadata": {},
     "output_type": "display_data"
    },
    {
     "data": {
      "text/html": [
       "<pre style=\"white-space:pre;overflow-x:auto;line-height:normal;font-family:Menlo,'DejaVu Sans Mono',consolas,'Courier New',monospace\">step <span style=\"color: #008080; text-decoration-color: #008080; font-weight: bold\">14800</span>: train loss <span style=\"color: #008080; text-decoration-color: #008080; font-weight: bold\">2.4606</span>, val loss <span style=\"color: #008080; text-decoration-color: #008080; font-weight: bold\">2.4748</span>\n",
       "</pre>\n"
      ],
      "text/plain": [
       "step \u001b[1;36m14800\u001b[0m: train loss \u001b[1;36m2.4606\u001b[0m, val loss \u001b[1;36m2.4748\u001b[0m\n"
      ]
     },
     "metadata": {},
     "output_type": "display_data"
    },
    {
     "data": {
      "text/html": [
       "<pre style=\"white-space:pre;overflow-x:auto;line-height:normal;font-family:Menlo,'DejaVu Sans Mono',consolas,'Courier New',monospace\"><span style=\"color: #008080; text-decoration-color: #008080; font-weight: bold\">2.454706907272339</span>\n",
       "</pre>\n"
      ],
      "text/plain": [
       "\u001b[1;36m2.454706907272339\u001b[0m\n"
      ]
     },
     "metadata": {},
     "output_type": "display_data"
    }
   ],
   "source": [
    "#|export\n",
    "model = BigramLanguageModel(vocab_size).to(device)\n",
    "train(model, 15_000)"
   ]
  },
  {
   "cell_type": "code",
   "execution_count": null,
   "id": "5aeb6d65",
   "metadata": {},
   "outputs": [
    {
     "data": {
      "text/html": [
       "<pre style=\"white-space:pre;overflow-x:auto;line-height:normal;font-family:Menlo,'DejaVu Sans Mono',consolas,'Courier New',monospace\">\n",
       "ARealok t ar hyoreaceatads nss w:\n",
       "ESp mofoirtre vithainof owisu canouenk;\n",
       "ARDUNou; l hiluler! GENINC\n",
       "</pre>\n"
      ],
      "text/plain": [
       "\n",
       "ARealok t ar hyoreaceatads nss w:\n",
       "ESp mofoirtre vithainof owisu canouenk;\n",
       "ARDUNou; l hiluler! GENINC\n"
      ]
     },
     "metadata": {},
     "output_type": "display_data"
    }
   ],
   "source": [
    "generate_from_the_model(model)"
   ]
  },
  {
   "cell_type": "code",
   "execution_count": null,
   "id": "a36f2dae",
   "metadata": {},
   "outputs": [
    {
     "data": {
      "text/html": [
       "<pre style=\"white-space:pre;overflow-x:auto;line-height:normal;font-family:Menlo,'DejaVu Sans Mono',consolas,'Courier New',monospace\">\n",
       "ugof qut's, mer'de ven mbee tllathe.\n",
       "Brngaro.\n",
       "Bengg d swoll kive d of beav wisil aberoinor ye d, y neancour hak thithand, y t o ERRIN VOF t n apl notheasthaurrom\n",
       "h, peot\n",
       "ABElathod bu ar br t\n",
       "Y theryessht p, hofou Wer irdouiound.\n",
       "\n",
       "Fomailllar INus busikinthe he, athitloun hok e hamit lyomm.\n",
       "\n",
       "There:\n",
       "TI\n",
       "</pre>\n"
      ],
      "text/plain": [
       "\n",
       "ugof qut's, mer'de ven mbee tllathe.\n",
       "Brngaro.\n",
       "Bengg d swoll kive d of beav wisil aberoinor ye d, y neancour hak thithand, y t o ERRIN VOF t n apl notheasthaurrom\n",
       "h, peot\n",
       "ABElathod bu ar br t\n",
       "Y theryessht p, hofou Wer irdouiound.\n",
       "\n",
       "Fomailllar INus busikinthe he, athitloun hok e hamit lyomm.\n",
       "\n",
       "There:\n",
       "TI\n"
      ]
     },
     "metadata": {},
     "output_type": "display_data"
    }
   ],
   "source": [
    "generate_from_the_model(model, 300)"
   ]
  },
  {
   "cell_type": "code",
   "execution_count": null,
   "id": "59d48cde",
   "metadata": {},
   "outputs": [
    {
     "data": {
      "text/html": [
       "<pre style=\"white-space:pre;overflow-x:auto;line-height:normal;font-family:Menlo,'DejaVu Sans Mono',consolas,'Courier New',monospace\">\n",
       "HExciownthe plilonond y\n",
       "Ma. le fovey dincou pakes ttherth g\n",
       "TET:\n",
       "\n",
       "\n",
       "TI tothed ake the tithenthiffinue t ad Bun Fo-me hifaifll pre hendak.\n",
       "\n",
       "\n",
       "Thor d gaitichelleder e,\n",
       "ELAREOpan INUKncrsen pe wreamo a ar weyourth,\n",
       "QUMeeremy the'd, meled byounngoroll l' upeplke h ne s INRI metin,\n",
       "If ce ar s y IO:\n",
       "Whe hamy tod:\n",
       "PUKityosof wifutha msto ingttha s, hishot yo cughel mat eamave?\n",
       "\n",
       "ENRD:\n",
       "FI be kiedHenf sme wean.\n",
       "I gol, NThtl tres m?\n",
       "\n",
       "my are hertityouor mequ ou le t thitaclliled ul br,\n",
       "adine\n",
       "BRUShe fe ay l; tiorou, t dr, m s mers tind,\n",
       "He Clatou ie toat thy'elle t cher siryoffache y te br he pos we keat foke dy atochtarethet t, is, tthe is \n",
       "spllllirist an il atharerimat t\n",
       "A: bed m mech. HMannondanthen\n",
       "Deat\n",
       "</pre>\n"
      ],
      "text/plain": [
       "\n",
       "HExciownthe plilonond y\n",
       "Ma. le fovey dincou pakes ttherth g\n",
       "TET:\n",
       "\n",
       "\n",
       "TI tothed ake the tithenthiffinue t ad Bun Fo-me hifaifll pre hendak.\n",
       "\n",
       "\n",
       "Thor d gaitichelleder e,\n",
       "ELAREOpan INUKncrsen pe wreamo a ar weyourth,\n",
       "QUMeeremy the'd, meled byounngoroll l' upeplke h ne s INRI metin,\n",
       "If ce ar s y IO:\n",
       "Whe hamy tod:\n",
       "PUKityosof wifutha msto ingttha s, hishot yo cughel mat eamave?\n",
       "\n",
       "ENRD:\n",
       "FI be kiedHenf sme wean.\n",
       "I gol, NThtl tres m?\n",
       "\n",
       "my are hertityouor mequ ou le t thitaclliled ul br,\n",
       "adine\n",
       "BRUShe fe ay l; tiorou, t dr, m s mers tind,\n",
       "He Clatou ie toat thy'elle t cher siryoffache y te br he pos we keat foke dy atochtarethet t, is, tthe is \n",
       "spllllirist an il atharerimat t\n",
       "A: bed m mech. HMannondanthen\n",
       "Deat\n"
      ]
     },
     "metadata": {},
     "output_type": "display_data"
    }
   ],
   "source": [
    "generate_from_the_model(model, 700)"
   ]
  },
  {
   "cell_type": "markdown",
   "id": "e2fa2503",
   "metadata": {},
   "source": [
    "## Version 1\n",
    "> Averaging past context with for loops, the weakest form of aggregation"
   ]
  },
  {
   "cell_type": "markdown",
   "id": "57bac656",
   "metadata": {},
   "source": [
    "### The mathematical trick in self-attention"
   ]
  },
  {
   "cell_type": "code",
   "execution_count": null,
   "id": "aeffeb94",
   "metadata": {},
   "outputs": [
    {
     "data": {
      "text/plain": [
       "torch.Size([4, 8, 2])"
      ]
     },
     "execution_count": null,
     "metadata": {},
     "output_type": "execute_result"
    }
   ],
   "source": [
    "# consider the following toy example:\n",
    "\n",
    "B, T, C = 4, 8, 2\n",
    "x = torch.randn(B, T, C)\n",
    "x.shape"
   ]
  },
  {
   "cell_type": "code",
   "execution_count": null,
   "id": "fbc0eec6",
   "metadata": {},
   "outputs": [],
   "source": [
    "# We want x[b, t] = mean_{i<=t} x[b, i]\n",
    "xbow = torch.zeros((B, T, C))\n",
    "for b in range(B):\n",
    "    for t in range(T):\n",
    "        xprev = x[b, :t+1]\n",
    "        xbow[b, t] = torch.mean(xprev, 0)"
   ]
  },
  {
   "cell_type": "code",
   "execution_count": null,
   "id": "2feeaae0",
   "metadata": {},
   "outputs": [
    {
     "data": {
      "text/plain": [
       "tensor([[-0.6693, -0.8456],\n",
       "        [-0.6534,  0.8349],\n",
       "        [-0.6808,  1.1112],\n",
       "        [ 1.6128, -1.4807],\n",
       "        [-0.5419, -0.4675],\n",
       "        [ 0.1127, -0.1059],\n",
       "        [-0.0641, -1.5335],\n",
       "        [-0.3041,  1.6519]])"
      ]
     },
     "execution_count": null,
     "metadata": {},
     "output_type": "execute_result"
    }
   ],
   "source": [
    "x[0]"
   ]
  },
  {
   "cell_type": "code",
   "execution_count": null,
   "id": "d7854034",
   "metadata": {},
   "outputs": [
    {
     "data": {
      "text/plain": [
       "tensor([[-0.6693, -0.8456],\n",
       "        [-0.6613, -0.0053],\n",
       "        [-0.6678,  0.3669],\n",
       "        [-0.0977, -0.0950],\n",
       "        [-0.1865, -0.1695],\n",
       "        [-0.1366, -0.1589],\n",
       "        [-0.1263, -0.3553],\n",
       "        [-0.1485, -0.1044]])"
      ]
     },
     "execution_count": null,
     "metadata": {},
     "output_type": "execute_result"
    }
   ],
   "source": [
    "xbow[0]"
   ]
  },
  {
   "cell_type": "markdown",
   "id": "6710e48f",
   "metadata": {},
   "source": [
    "## Version 2\n",
    "> Matrix multiply as weighted aggregation"
   ]
  },
  {
   "cell_type": "code",
   "execution_count": null,
   "id": "169dc4e4",
   "metadata": {},
   "outputs": [
    {
     "data": {
      "text/html": [
       "<pre style=\"white-space:pre;overflow-x:auto;line-height:normal;font-family:Menlo,'DejaVu Sans Mono',consolas,'Courier New',monospace\"><span style=\"color: #808000; text-decoration-color: #808000\">a</span>=\n",
       "</pre>\n"
      ],
      "text/plain": [
       "\u001b[33ma\u001b[0m=\n"
      ]
     },
     "metadata": {},
     "output_type": "display_data"
    },
    {
     "data": {
      "text/html": [
       "<pre style=\"white-space:pre;overflow-x:auto;line-height:normal;font-family:Menlo,'DejaVu Sans Mono',consolas,'Courier New',monospace\"><span style=\"color: #800080; text-decoration-color: #800080; font-weight: bold\">tensor</span><span style=\"font-weight: bold\">([[</span><span style=\"color: #008080; text-decoration-color: #008080; font-weight: bold\">1</span>., <span style=\"color: #008080; text-decoration-color: #008080; font-weight: bold\">1</span>., <span style=\"color: #008080; text-decoration-color: #008080; font-weight: bold\">1</span>.<span style=\"font-weight: bold\">]</span>,\n",
       "        <span style=\"font-weight: bold\">[</span><span style=\"color: #008080; text-decoration-color: #008080; font-weight: bold\">1</span>., <span style=\"color: #008080; text-decoration-color: #008080; font-weight: bold\">1</span>., <span style=\"color: #008080; text-decoration-color: #008080; font-weight: bold\">1</span>.<span style=\"font-weight: bold\">]</span>,\n",
       "        <span style=\"font-weight: bold\">[</span><span style=\"color: #008080; text-decoration-color: #008080; font-weight: bold\">1</span>., <span style=\"color: #008080; text-decoration-color: #008080; font-weight: bold\">1</span>., <span style=\"color: #008080; text-decoration-color: #008080; font-weight: bold\">1</span>.<span style=\"font-weight: bold\">]])</span>\n",
       "</pre>\n"
      ],
      "text/plain": [
       "\u001b[1;35mtensor\u001b[0m\u001b[1m(\u001b[0m\u001b[1m[\u001b[0m\u001b[1m[\u001b[0m\u001b[1;36m1\u001b[0m., \u001b[1;36m1\u001b[0m., \u001b[1;36m1\u001b[0m.\u001b[1m]\u001b[0m,\n",
       "        \u001b[1m[\u001b[0m\u001b[1;36m1\u001b[0m., \u001b[1;36m1\u001b[0m., \u001b[1;36m1\u001b[0m.\u001b[1m]\u001b[0m,\n",
       "        \u001b[1m[\u001b[0m\u001b[1;36m1\u001b[0m., \u001b[1;36m1\u001b[0m., \u001b[1;36m1\u001b[0m.\u001b[1m]\u001b[0m\u001b[1m]\u001b[0m\u001b[1m)\u001b[0m\n"
      ]
     },
     "metadata": {},
     "output_type": "display_data"
    },
    {
     "data": {
      "text/html": [
       "<pre style=\"white-space:pre;overflow-x:auto;line-height:normal;font-family:Menlo,'DejaVu Sans Mono',consolas,'Courier New',monospace\">--\n",
       "</pre>\n"
      ],
      "text/plain": [
       "--\n"
      ]
     },
     "metadata": {},
     "output_type": "display_data"
    },
    {
     "data": {
      "text/html": [
       "<pre style=\"white-space:pre;overflow-x:auto;line-height:normal;font-family:Menlo,'DejaVu Sans Mono',consolas,'Courier New',monospace\"><span style=\"color: #808000; text-decoration-color: #808000\">b</span>=\n",
       "</pre>\n"
      ],
      "text/plain": [
       "\u001b[33mb\u001b[0m=\n"
      ]
     },
     "metadata": {},
     "output_type": "display_data"
    },
    {
     "data": {
      "text/html": [
       "<pre style=\"white-space:pre;overflow-x:auto;line-height:normal;font-family:Menlo,'DejaVu Sans Mono',consolas,'Courier New',monospace\"><span style=\"color: #800080; text-decoration-color: #800080; font-weight: bold\">tensor</span><span style=\"font-weight: bold\">([[</span><span style=\"color: #008080; text-decoration-color: #008080; font-weight: bold\">2</span>., <span style=\"color: #008080; text-decoration-color: #008080; font-weight: bold\">7</span>.<span style=\"font-weight: bold\">]</span>,\n",
       "        <span style=\"font-weight: bold\">[</span><span style=\"color: #008080; text-decoration-color: #008080; font-weight: bold\">6</span>., <span style=\"color: #008080; text-decoration-color: #008080; font-weight: bold\">4</span>.<span style=\"font-weight: bold\">]</span>,\n",
       "        <span style=\"font-weight: bold\">[</span><span style=\"color: #008080; text-decoration-color: #008080; font-weight: bold\">6</span>., <span style=\"color: #008080; text-decoration-color: #008080; font-weight: bold\">5</span>.<span style=\"font-weight: bold\">]])</span>\n",
       "</pre>\n"
      ],
      "text/plain": [
       "\u001b[1;35mtensor\u001b[0m\u001b[1m(\u001b[0m\u001b[1m[\u001b[0m\u001b[1m[\u001b[0m\u001b[1;36m2\u001b[0m., \u001b[1;36m7\u001b[0m.\u001b[1m]\u001b[0m,\n",
       "        \u001b[1m[\u001b[0m\u001b[1;36m6\u001b[0m., \u001b[1;36m4\u001b[0m.\u001b[1m]\u001b[0m,\n",
       "        \u001b[1m[\u001b[0m\u001b[1;36m6\u001b[0m., \u001b[1;36m5\u001b[0m.\u001b[1m]\u001b[0m\u001b[1m]\u001b[0m\u001b[1m)\u001b[0m\n"
      ]
     },
     "metadata": {},
     "output_type": "display_data"
    },
    {
     "data": {
      "text/html": [
       "<pre style=\"white-space:pre;overflow-x:auto;line-height:normal;font-family:Menlo,'DejaVu Sans Mono',consolas,'Courier New',monospace\"><span style=\"color: #808000; text-decoration-color: #808000\">c</span>=\n",
       "</pre>\n"
      ],
      "text/plain": [
       "\u001b[33mc\u001b[0m=\n"
      ]
     },
     "metadata": {},
     "output_type": "display_data"
    },
    {
     "data": {
      "text/html": [
       "<pre style=\"white-space:pre;overflow-x:auto;line-height:normal;font-family:Menlo,'DejaVu Sans Mono',consolas,'Courier New',monospace\"><span style=\"color: #800080; text-decoration-color: #800080; font-weight: bold\">tensor</span><span style=\"font-weight: bold\">([[</span><span style=\"color: #008080; text-decoration-color: #008080; font-weight: bold\">14</span>., <span style=\"color: #008080; text-decoration-color: #008080; font-weight: bold\">16</span>.<span style=\"font-weight: bold\">]</span>,\n",
       "        <span style=\"font-weight: bold\">[</span><span style=\"color: #008080; text-decoration-color: #008080; font-weight: bold\">14</span>., <span style=\"color: #008080; text-decoration-color: #008080; font-weight: bold\">16</span>.<span style=\"font-weight: bold\">]</span>,\n",
       "        <span style=\"font-weight: bold\">[</span><span style=\"color: #008080; text-decoration-color: #008080; font-weight: bold\">14</span>., <span style=\"color: #008080; text-decoration-color: #008080; font-weight: bold\">16</span>.<span style=\"font-weight: bold\">]])</span>\n",
       "</pre>\n"
      ],
      "text/plain": [
       "\u001b[1;35mtensor\u001b[0m\u001b[1m(\u001b[0m\u001b[1m[\u001b[0m\u001b[1m[\u001b[0m\u001b[1;36m14\u001b[0m., \u001b[1;36m16\u001b[0m.\u001b[1m]\u001b[0m,\n",
       "        \u001b[1m[\u001b[0m\u001b[1;36m14\u001b[0m., \u001b[1;36m16\u001b[0m.\u001b[1m]\u001b[0m,\n",
       "        \u001b[1m[\u001b[0m\u001b[1;36m14\u001b[0m., \u001b[1;36m16\u001b[0m.\u001b[1m]\u001b[0m\u001b[1m]\u001b[0m\u001b[1m)\u001b[0m\n"
      ]
     },
     "metadata": {},
     "output_type": "display_data"
    }
   ],
   "source": [
    "torch.manual_seed(42)\n",
    "a = torch.ones(3, 3)\n",
    "b = torch.randint(0, 10, (3, 2)).float()\n",
    "c = a @ b\n",
    "print('a=')\n",
    "print(a)\n",
    "print('--')\n",
    "print('b=')\n",
    "print(b)\n",
    "print('c=')\n",
    "print(c)"
   ]
  },
  {
   "cell_type": "code",
   "execution_count": null,
   "id": "c2df8c3c",
   "metadata": {},
   "outputs": [
    {
     "data": {
      "text/plain": [
       "tensor([[1., 0., 0.],\n",
       "        [1., 1., 0.],\n",
       "        [1., 1., 1.]])"
      ]
     },
     "execution_count": null,
     "metadata": {},
     "output_type": "execute_result"
    }
   ],
   "source": [
    "torch.tril(torch.ones(3, 3))"
   ]
  },
  {
   "cell_type": "code",
   "execution_count": null,
   "id": "e8b439f2",
   "metadata": {},
   "outputs": [
    {
     "data": {
      "text/html": [
       "<pre style=\"white-space:pre;overflow-x:auto;line-height:normal;font-family:Menlo,'DejaVu Sans Mono',consolas,'Courier New',monospace\"><span style=\"color: #808000; text-decoration-color: #808000\">a</span>=\n",
       "</pre>\n"
      ],
      "text/plain": [
       "\u001b[33ma\u001b[0m=\n"
      ]
     },
     "metadata": {},
     "output_type": "display_data"
    },
    {
     "data": {
      "text/html": [
       "<pre style=\"white-space:pre;overflow-x:auto;line-height:normal;font-family:Menlo,'DejaVu Sans Mono',consolas,'Courier New',monospace\"><span style=\"color: #800080; text-decoration-color: #800080; font-weight: bold\">tensor</span><span style=\"font-weight: bold\">([[</span><span style=\"color: #008080; text-decoration-color: #008080; font-weight: bold\">1</span>., <span style=\"color: #008080; text-decoration-color: #008080; font-weight: bold\">0</span>., <span style=\"color: #008080; text-decoration-color: #008080; font-weight: bold\">0</span>.<span style=\"font-weight: bold\">]</span>,\n",
       "        <span style=\"font-weight: bold\">[</span><span style=\"color: #008080; text-decoration-color: #008080; font-weight: bold\">1</span>., <span style=\"color: #008080; text-decoration-color: #008080; font-weight: bold\">1</span>., <span style=\"color: #008080; text-decoration-color: #008080; font-weight: bold\">0</span>.<span style=\"font-weight: bold\">]</span>,\n",
       "        <span style=\"font-weight: bold\">[</span><span style=\"color: #008080; text-decoration-color: #008080; font-weight: bold\">1</span>., <span style=\"color: #008080; text-decoration-color: #008080; font-weight: bold\">1</span>., <span style=\"color: #008080; text-decoration-color: #008080; font-weight: bold\">1</span>.<span style=\"font-weight: bold\">]])</span>\n",
       "</pre>\n"
      ],
      "text/plain": [
       "\u001b[1;35mtensor\u001b[0m\u001b[1m(\u001b[0m\u001b[1m[\u001b[0m\u001b[1m[\u001b[0m\u001b[1;36m1\u001b[0m., \u001b[1;36m0\u001b[0m., \u001b[1;36m0\u001b[0m.\u001b[1m]\u001b[0m,\n",
       "        \u001b[1m[\u001b[0m\u001b[1;36m1\u001b[0m., \u001b[1;36m1\u001b[0m., \u001b[1;36m0\u001b[0m.\u001b[1m]\u001b[0m,\n",
       "        \u001b[1m[\u001b[0m\u001b[1;36m1\u001b[0m., \u001b[1;36m1\u001b[0m., \u001b[1;36m1\u001b[0m.\u001b[1m]\u001b[0m\u001b[1m]\u001b[0m\u001b[1m)\u001b[0m\n"
      ]
     },
     "metadata": {},
     "output_type": "display_data"
    },
    {
     "data": {
      "text/html": [
       "<pre style=\"white-space:pre;overflow-x:auto;line-height:normal;font-family:Menlo,'DejaVu Sans Mono',consolas,'Courier New',monospace\">--\n",
       "</pre>\n"
      ],
      "text/plain": [
       "--\n"
      ]
     },
     "metadata": {},
     "output_type": "display_data"
    },
    {
     "data": {
      "text/html": [
       "<pre style=\"white-space:pre;overflow-x:auto;line-height:normal;font-family:Menlo,'DejaVu Sans Mono',consolas,'Courier New',monospace\"><span style=\"color: #808000; text-decoration-color: #808000\">b</span>=\n",
       "</pre>\n"
      ],
      "text/plain": [
       "\u001b[33mb\u001b[0m=\n"
      ]
     },
     "metadata": {},
     "output_type": "display_data"
    },
    {
     "data": {
      "text/html": [
       "<pre style=\"white-space:pre;overflow-x:auto;line-height:normal;font-family:Menlo,'DejaVu Sans Mono',consolas,'Courier New',monospace\"><span style=\"color: #800080; text-decoration-color: #800080; font-weight: bold\">tensor</span><span style=\"font-weight: bold\">([[</span><span style=\"color: #008080; text-decoration-color: #008080; font-weight: bold\">2</span>., <span style=\"color: #008080; text-decoration-color: #008080; font-weight: bold\">7</span>.<span style=\"font-weight: bold\">]</span>,\n",
       "        <span style=\"font-weight: bold\">[</span><span style=\"color: #008080; text-decoration-color: #008080; font-weight: bold\">6</span>., <span style=\"color: #008080; text-decoration-color: #008080; font-weight: bold\">4</span>.<span style=\"font-weight: bold\">]</span>,\n",
       "        <span style=\"font-weight: bold\">[</span><span style=\"color: #008080; text-decoration-color: #008080; font-weight: bold\">6</span>., <span style=\"color: #008080; text-decoration-color: #008080; font-weight: bold\">5</span>.<span style=\"font-weight: bold\">]])</span>\n",
       "</pre>\n"
      ],
      "text/plain": [
       "\u001b[1;35mtensor\u001b[0m\u001b[1m(\u001b[0m\u001b[1m[\u001b[0m\u001b[1m[\u001b[0m\u001b[1;36m2\u001b[0m., \u001b[1;36m7\u001b[0m.\u001b[1m]\u001b[0m,\n",
       "        \u001b[1m[\u001b[0m\u001b[1;36m6\u001b[0m., \u001b[1;36m4\u001b[0m.\u001b[1m]\u001b[0m,\n",
       "        \u001b[1m[\u001b[0m\u001b[1;36m6\u001b[0m., \u001b[1;36m5\u001b[0m.\u001b[1m]\u001b[0m\u001b[1m]\u001b[0m\u001b[1m)\u001b[0m\n"
      ]
     },
     "metadata": {},
     "output_type": "display_data"
    },
    {
     "data": {
      "text/html": [
       "<pre style=\"white-space:pre;overflow-x:auto;line-height:normal;font-family:Menlo,'DejaVu Sans Mono',consolas,'Courier New',monospace\"><span style=\"color: #808000; text-decoration-color: #808000\">c</span>=\n",
       "</pre>\n"
      ],
      "text/plain": [
       "\u001b[33mc\u001b[0m=\n"
      ]
     },
     "metadata": {},
     "output_type": "display_data"
    },
    {
     "data": {
      "text/html": [
       "<pre style=\"white-space:pre;overflow-x:auto;line-height:normal;font-family:Menlo,'DejaVu Sans Mono',consolas,'Courier New',monospace\"><span style=\"color: #800080; text-decoration-color: #800080; font-weight: bold\">tensor</span><span style=\"font-weight: bold\">([[</span> <span style=\"color: #008080; text-decoration-color: #008080; font-weight: bold\">2</span>.,  <span style=\"color: #008080; text-decoration-color: #008080; font-weight: bold\">7</span>.<span style=\"font-weight: bold\">]</span>,\n",
       "        <span style=\"font-weight: bold\">[</span> <span style=\"color: #008080; text-decoration-color: #008080; font-weight: bold\">8</span>., <span style=\"color: #008080; text-decoration-color: #008080; font-weight: bold\">11</span>.<span style=\"font-weight: bold\">]</span>,\n",
       "        <span style=\"font-weight: bold\">[</span><span style=\"color: #008080; text-decoration-color: #008080; font-weight: bold\">14</span>., <span style=\"color: #008080; text-decoration-color: #008080; font-weight: bold\">16</span>.<span style=\"font-weight: bold\">]])</span>\n",
       "</pre>\n"
      ],
      "text/plain": [
       "\u001b[1;35mtensor\u001b[0m\u001b[1m(\u001b[0m\u001b[1m[\u001b[0m\u001b[1m[\u001b[0m \u001b[1;36m2\u001b[0m.,  \u001b[1;36m7\u001b[0m.\u001b[1m]\u001b[0m,\n",
       "        \u001b[1m[\u001b[0m \u001b[1;36m8\u001b[0m., \u001b[1;36m11\u001b[0m.\u001b[1m]\u001b[0m,\n",
       "        \u001b[1m[\u001b[0m\u001b[1;36m14\u001b[0m., \u001b[1;36m16\u001b[0m.\u001b[1m]\u001b[0m\u001b[1m]\u001b[0m\u001b[1m)\u001b[0m\n"
      ]
     },
     "metadata": {},
     "output_type": "display_data"
    }
   ],
   "source": [
    "torch.manual_seed(42)\n",
    "a = torch.tril(torch.ones(3, 3))\n",
    "b = torch.randint(0, 10, (3, 2)).float()\n",
    "c = a @ b\n",
    "print('a=')\n",
    "print(a)\n",
    "print('--')\n",
    "print('b=')\n",
    "print(b)\n",
    "print('c=')\n",
    "print(c)"
   ]
  },
  {
   "cell_type": "code",
   "execution_count": null,
   "id": "4d2236f8",
   "metadata": {},
   "outputs": [
    {
     "data": {
      "text/html": [
       "<pre style=\"white-space:pre;overflow-x:auto;line-height:normal;font-family:Menlo,'DejaVu Sans Mono',consolas,'Courier New',monospace\"><span style=\"color: #808000; text-decoration-color: #808000\">a</span>=\n",
       "</pre>\n"
      ],
      "text/plain": [
       "\u001b[33ma\u001b[0m=\n"
      ]
     },
     "metadata": {},
     "output_type": "display_data"
    },
    {
     "data": {
      "text/html": [
       "<pre style=\"white-space:pre;overflow-x:auto;line-height:normal;font-family:Menlo,'DejaVu Sans Mono',consolas,'Courier New',monospace\"><span style=\"color: #800080; text-decoration-color: #800080; font-weight: bold\">tensor</span><span style=\"font-weight: bold\">([[</span><span style=\"color: #008080; text-decoration-color: #008080; font-weight: bold\">1.0000</span>, <span style=\"color: #008080; text-decoration-color: #008080; font-weight: bold\">0.0000</span>, <span style=\"color: #008080; text-decoration-color: #008080; font-weight: bold\">0.0000</span><span style=\"font-weight: bold\">]</span>,\n",
       "        <span style=\"font-weight: bold\">[</span><span style=\"color: #008080; text-decoration-color: #008080; font-weight: bold\">0.5000</span>, <span style=\"color: #008080; text-decoration-color: #008080; font-weight: bold\">0.5000</span>, <span style=\"color: #008080; text-decoration-color: #008080; font-weight: bold\">0.0000</span><span style=\"font-weight: bold\">]</span>,\n",
       "        <span style=\"font-weight: bold\">[</span><span style=\"color: #008080; text-decoration-color: #008080; font-weight: bold\">0.3333</span>, <span style=\"color: #008080; text-decoration-color: #008080; font-weight: bold\">0.3333</span>, <span style=\"color: #008080; text-decoration-color: #008080; font-weight: bold\">0.3333</span><span style=\"font-weight: bold\">]])</span>\n",
       "</pre>\n"
      ],
      "text/plain": [
       "\u001b[1;35mtensor\u001b[0m\u001b[1m(\u001b[0m\u001b[1m[\u001b[0m\u001b[1m[\u001b[0m\u001b[1;36m1.0000\u001b[0m, \u001b[1;36m0.0000\u001b[0m, \u001b[1;36m0.0000\u001b[0m\u001b[1m]\u001b[0m,\n",
       "        \u001b[1m[\u001b[0m\u001b[1;36m0.5000\u001b[0m, \u001b[1;36m0.5000\u001b[0m, \u001b[1;36m0.0000\u001b[0m\u001b[1m]\u001b[0m,\n",
       "        \u001b[1m[\u001b[0m\u001b[1;36m0.3333\u001b[0m, \u001b[1;36m0.3333\u001b[0m, \u001b[1;36m0.3333\u001b[0m\u001b[1m]\u001b[0m\u001b[1m]\u001b[0m\u001b[1m)\u001b[0m\n"
      ]
     },
     "metadata": {},
     "output_type": "display_data"
    },
    {
     "data": {
      "text/html": [
       "<pre style=\"white-space:pre;overflow-x:auto;line-height:normal;font-family:Menlo,'DejaVu Sans Mono',consolas,'Courier New',monospace\">--\n",
       "</pre>\n"
      ],
      "text/plain": [
       "--\n"
      ]
     },
     "metadata": {},
     "output_type": "display_data"
    },
    {
     "data": {
      "text/html": [
       "<pre style=\"white-space:pre;overflow-x:auto;line-height:normal;font-family:Menlo,'DejaVu Sans Mono',consolas,'Courier New',monospace\"><span style=\"color: #808000; text-decoration-color: #808000\">b</span>=\n",
       "</pre>\n"
      ],
      "text/plain": [
       "\u001b[33mb\u001b[0m=\n"
      ]
     },
     "metadata": {},
     "output_type": "display_data"
    },
    {
     "data": {
      "text/html": [
       "<pre style=\"white-space:pre;overflow-x:auto;line-height:normal;font-family:Menlo,'DejaVu Sans Mono',consolas,'Courier New',monospace\"><span style=\"color: #800080; text-decoration-color: #800080; font-weight: bold\">tensor</span><span style=\"font-weight: bold\">([[</span><span style=\"color: #008080; text-decoration-color: #008080; font-weight: bold\">2</span>., <span style=\"color: #008080; text-decoration-color: #008080; font-weight: bold\">7</span>.<span style=\"font-weight: bold\">]</span>,\n",
       "        <span style=\"font-weight: bold\">[</span><span style=\"color: #008080; text-decoration-color: #008080; font-weight: bold\">6</span>., <span style=\"color: #008080; text-decoration-color: #008080; font-weight: bold\">4</span>.<span style=\"font-weight: bold\">]</span>,\n",
       "        <span style=\"font-weight: bold\">[</span><span style=\"color: #008080; text-decoration-color: #008080; font-weight: bold\">6</span>., <span style=\"color: #008080; text-decoration-color: #008080; font-weight: bold\">5</span>.<span style=\"font-weight: bold\">]])</span>\n",
       "</pre>\n"
      ],
      "text/plain": [
       "\u001b[1;35mtensor\u001b[0m\u001b[1m(\u001b[0m\u001b[1m[\u001b[0m\u001b[1m[\u001b[0m\u001b[1;36m2\u001b[0m., \u001b[1;36m7\u001b[0m.\u001b[1m]\u001b[0m,\n",
       "        \u001b[1m[\u001b[0m\u001b[1;36m6\u001b[0m., \u001b[1;36m4\u001b[0m.\u001b[1m]\u001b[0m,\n",
       "        \u001b[1m[\u001b[0m\u001b[1;36m6\u001b[0m., \u001b[1;36m5\u001b[0m.\u001b[1m]\u001b[0m\u001b[1m]\u001b[0m\u001b[1m)\u001b[0m\n"
      ]
     },
     "metadata": {},
     "output_type": "display_data"
    },
    {
     "data": {
      "text/html": [
       "<pre style=\"white-space:pre;overflow-x:auto;line-height:normal;font-family:Menlo,'DejaVu Sans Mono',consolas,'Courier New',monospace\"><span style=\"color: #808000; text-decoration-color: #808000\">c</span>=\n",
       "</pre>\n"
      ],
      "text/plain": [
       "\u001b[33mc\u001b[0m=\n"
      ]
     },
     "metadata": {},
     "output_type": "display_data"
    },
    {
     "data": {
      "text/html": [
       "<pre style=\"white-space:pre;overflow-x:auto;line-height:normal;font-family:Menlo,'DejaVu Sans Mono',consolas,'Courier New',monospace\"><span style=\"color: #800080; text-decoration-color: #800080; font-weight: bold\">tensor</span><span style=\"font-weight: bold\">([[</span><span style=\"color: #008080; text-decoration-color: #008080; font-weight: bold\">2.0000</span>, <span style=\"color: #008080; text-decoration-color: #008080; font-weight: bold\">7.0000</span><span style=\"font-weight: bold\">]</span>,\n",
       "        <span style=\"font-weight: bold\">[</span><span style=\"color: #008080; text-decoration-color: #008080; font-weight: bold\">4.0000</span>, <span style=\"color: #008080; text-decoration-color: #008080; font-weight: bold\">5.5000</span><span style=\"font-weight: bold\">]</span>,\n",
       "        <span style=\"font-weight: bold\">[</span><span style=\"color: #008080; text-decoration-color: #008080; font-weight: bold\">4.6667</span>, <span style=\"color: #008080; text-decoration-color: #008080; font-weight: bold\">5.3333</span><span style=\"font-weight: bold\">]])</span>\n",
       "</pre>\n"
      ],
      "text/plain": [
       "\u001b[1;35mtensor\u001b[0m\u001b[1m(\u001b[0m\u001b[1m[\u001b[0m\u001b[1m[\u001b[0m\u001b[1;36m2.0000\u001b[0m, \u001b[1;36m7.0000\u001b[0m\u001b[1m]\u001b[0m,\n",
       "        \u001b[1m[\u001b[0m\u001b[1;36m4.0000\u001b[0m, \u001b[1;36m5.5000\u001b[0m\u001b[1m]\u001b[0m,\n",
       "        \u001b[1m[\u001b[0m\u001b[1;36m4.6667\u001b[0m, \u001b[1;36m5.3333\u001b[0m\u001b[1m]\u001b[0m\u001b[1m]\u001b[0m\u001b[1m)\u001b[0m\n"
      ]
     },
     "metadata": {},
     "output_type": "display_data"
    }
   ],
   "source": [
    "torch.manual_seed(42)\n",
    "a = torch.tril(torch.ones(3, 3))\n",
    "a = a / torch.sum(a, 1, keepdim=True)\n",
    "b = torch.randint(0, 10, (3, 2)).float()\n",
    "c = a @ b\n",
    "print('a=')\n",
    "print(a)\n",
    "print('--')\n",
    "print('b=')\n",
    "print(b)\n",
    "print('c=')\n",
    "print(c)"
   ]
  },
  {
   "cell_type": "code",
   "execution_count": null,
   "id": "e63f580d",
   "metadata": {},
   "outputs": [],
   "source": [
    "wei = torch.tril(torch.ones(T, T))\n",
    "wei = wei/wei.sum(1, keepdim=True)\n",
    "xbow2 = wei @ x # (T, T) @ (B, T, C) --> (B, T, T) @ (B, T, C) --> (B, T, C)"
   ]
  },
  {
   "cell_type": "code",
   "execution_count": null,
   "id": "f7528877",
   "metadata": {},
   "outputs": [
    {
     "data": {
      "text/plain": [
       "torch.Size([8, 8])"
      ]
     },
     "execution_count": null,
     "metadata": {},
     "output_type": "execute_result"
    }
   ],
   "source": [
    "wei.shape"
   ]
  },
  {
   "cell_type": "code",
   "execution_count": null,
   "id": "4d0e8ff1",
   "metadata": {},
   "outputs": [
    {
     "data": {
      "text/plain": [
       "torch.Size([4, 8, 2])"
      ]
     },
     "execution_count": null,
     "metadata": {},
     "output_type": "execute_result"
    }
   ],
   "source": [
    "xbow2.shape"
   ]
  },
  {
   "cell_type": "code",
   "execution_count": null,
   "id": "eedc970f",
   "metadata": {},
   "outputs": [
    {
     "data": {
      "text/plain": [
       "True"
      ]
     },
     "execution_count": null,
     "metadata": {},
     "output_type": "execute_result"
    }
   ],
   "source": [
    "torch.allclose(xbow2, xbow)"
   ]
  },
  {
   "cell_type": "code",
   "execution_count": null,
   "id": "bf80644e",
   "metadata": {},
   "outputs": [
    {
     "data": {
      "text/plain": [
       "(tensor([[[-6.6931e-01, -8.4557e-01],\n",
       "          [-6.6134e-01, -5.3177e-03],\n",
       "          [-6.6781e-01,  3.6686e-01],\n",
       "          [-9.7657e-02, -9.5026e-02],\n",
       "          [-1.8651e-01, -1.6953e-01],\n",
       "          [-1.3665e-01, -1.5892e-01],\n",
       "          [-1.2628e-01, -3.5530e-01],\n",
       "          [-1.4851e-01, -1.0440e-01]],\n",
       " \n",
       "         [[ 6.1571e-01,  6.3541e-01],\n",
       "          [-6.0056e-01,  3.3687e-01],\n",
       "          [-3.4395e-01,  4.4428e-01],\n",
       "          [-4.7228e-01,  3.2352e-01],\n",
       "          [-4.1381e-01,  3.5067e-01],\n",
       "          [-2.2773e-01,  1.9506e-01],\n",
       "          [-3.0587e-01,  1.4499e-01],\n",
       "          [ 1.2853e-01,  2.8592e-01]],\n",
       " \n",
       "         [[-2.7886e-04,  4.0268e-01],\n",
       "          [-1.8299e-01,  3.5538e-01],\n",
       "          [-5.2246e-01,  4.5156e-01],\n",
       "          [ 3.1017e-02,  3.2158e-01],\n",
       "          [-1.0164e-01,  3.3109e-01],\n",
       "          [-9.4260e-02,  6.2927e-02],\n",
       "          [ 5.2089e-02, -7.4155e-03],\n",
       "          [ 1.2877e-01, -1.4536e-01]],\n",
       " \n",
       "         [[-7.1193e-01,  4.9925e-01],\n",
       "          [-2.2146e-01,  1.1845e+00],\n",
       "          [-2.1570e-01,  1.0740e+00],\n",
       "          [-8.2745e-02,  1.0708e+00],\n",
       "          [-1.9754e-01,  9.5541e-01],\n",
       "          [-1.0606e-01,  1.0888e+00],\n",
       "          [-3.3635e-02,  9.9390e-01],\n",
       "          [-3.3249e-02,  1.0191e+00]]]),\n",
       " tensor([[[-6.6931e-01, -8.4557e-01],\n",
       "          [-6.6134e-01, -5.3177e-03],\n",
       "          [-6.6781e-01,  3.6686e-01],\n",
       "          [-9.7657e-02, -9.5026e-02],\n",
       "          [-1.8651e-01, -1.6953e-01],\n",
       "          [-1.3665e-01, -1.5892e-01],\n",
       "          [-1.2628e-01, -3.5530e-01],\n",
       "          [-1.4851e-01, -1.0440e-01]],\n",
       " \n",
       "         [[ 6.1571e-01,  6.3541e-01],\n",
       "          [-6.0056e-01,  3.3687e-01],\n",
       "          [-3.4395e-01,  4.4428e-01],\n",
       "          [-4.7228e-01,  3.2352e-01],\n",
       "          [-4.1381e-01,  3.5067e-01],\n",
       "          [-2.2773e-01,  1.9506e-01],\n",
       "          [-3.0587e-01,  1.4499e-01],\n",
       "          [ 1.2853e-01,  2.8592e-01]],\n",
       " \n",
       "         [[-2.7886e-04,  4.0268e-01],\n",
       "          [-1.8299e-01,  3.5538e-01],\n",
       "          [-5.2246e-01,  4.5156e-01],\n",
       "          [ 3.1017e-02,  3.2158e-01],\n",
       "          [-1.0164e-01,  3.3109e-01],\n",
       "          [-9.4260e-02,  6.2927e-02],\n",
       "          [ 5.2089e-02, -7.4155e-03],\n",
       "          [ 1.2877e-01, -1.4536e-01]],\n",
       " \n",
       "         [[-7.1193e-01,  4.9925e-01],\n",
       "          [-2.2146e-01,  1.1845e+00],\n",
       "          [-2.1570e-01,  1.0740e+00],\n",
       "          [-8.2745e-02,  1.0708e+00],\n",
       "          [-1.9754e-01,  9.5541e-01],\n",
       "          [-1.0606e-01,  1.0888e+00],\n",
       "          [-3.3635e-02,  9.9390e-01],\n",
       "          [-3.3249e-02,  1.0191e+00]]]))"
      ]
     },
     "execution_count": null,
     "metadata": {},
     "output_type": "execute_result"
    }
   ],
   "source": [
    "xbow, xbow2"
   ]
  },
  {
   "cell_type": "markdown",
   "id": "fcde0fef",
   "metadata": {},
   "source": [
    "## Version 3:\n",
    "> Adding softmax"
   ]
  },
  {
   "cell_type": "code",
   "execution_count": null,
   "id": "f5836e60",
   "metadata": {},
   "outputs": [
    {
     "data": {
      "text/plain": [
       "tensor([[1., 0., 0., 0., 0., 0., 0., 0.],\n",
       "        [1., 1., 0., 0., 0., 0., 0., 0.],\n",
       "        [1., 1., 1., 0., 0., 0., 0., 0.],\n",
       "        [1., 1., 1., 1., 0., 0., 0., 0.],\n",
       "        [1., 1., 1., 1., 1., 0., 0., 0.],\n",
       "        [1., 1., 1., 1., 1., 1., 0., 0.],\n",
       "        [1., 1., 1., 1., 1., 1., 1., 0.],\n",
       "        [1., 1., 1., 1., 1., 1., 1., 1.]])"
      ]
     },
     "execution_count": null,
     "metadata": {},
     "output_type": "execute_result"
    }
   ],
   "source": [
    "tril = torch.tril(torch.ones(T, T)); tril"
   ]
  },
  {
   "cell_type": "code",
   "execution_count": null,
   "id": "a07b5bc9",
   "metadata": {},
   "outputs": [
    {
     "data": {
      "text/plain": [
       "tensor([[0., 0., 0., 0., 0., 0., 0., 0.],\n",
       "        [0., 0., 0., 0., 0., 0., 0., 0.],\n",
       "        [0., 0., 0., 0., 0., 0., 0., 0.],\n",
       "        [0., 0., 0., 0., 0., 0., 0., 0.],\n",
       "        [0., 0., 0., 0., 0., 0., 0., 0.],\n",
       "        [0., 0., 0., 0., 0., 0., 0., 0.],\n",
       "        [0., 0., 0., 0., 0., 0., 0., 0.],\n",
       "        [0., 0., 0., 0., 0., 0., 0., 0.]])"
      ]
     },
     "execution_count": null,
     "metadata": {},
     "output_type": "execute_result"
    }
   ],
   "source": [
    "wei = torch.zeros((T, T)); wei"
   ]
  },
  {
   "cell_type": "code",
   "execution_count": null,
   "id": "8ba5eed9",
   "metadata": {},
   "outputs": [
    {
     "data": {
      "text/plain": [
       "tensor([[0., -inf, -inf, -inf, -inf, -inf, -inf, -inf],\n",
       "        [0., 0., -inf, -inf, -inf, -inf, -inf, -inf],\n",
       "        [0., 0., 0., -inf, -inf, -inf, -inf, -inf],\n",
       "        [0., 0., 0., 0., -inf, -inf, -inf, -inf],\n",
       "        [0., 0., 0., 0., 0., -inf, -inf, -inf],\n",
       "        [0., 0., 0., 0., 0., 0., -inf, -inf],\n",
       "        [0., 0., 0., 0., 0., 0., 0., -inf],\n",
       "        [0., 0., 0., 0., 0., 0., 0., 0.]])"
      ]
     },
     "execution_count": null,
     "metadata": {},
     "output_type": "execute_result"
    }
   ],
   "source": [
    "wei = wei.masked_fill(tril == 0, float('-inf'))\n",
    "wei"
   ]
  },
  {
   "cell_type": "code",
   "execution_count": null,
   "id": "e1c664f2",
   "metadata": {},
   "outputs": [
    {
     "data": {
      "text/plain": [
       "tensor([[1.0000, 0.0000, 0.0000, 0.0000, 0.0000, 0.0000, 0.0000, 0.0000],\n",
       "        [0.5000, 0.5000, 0.0000, 0.0000, 0.0000, 0.0000, 0.0000, 0.0000],\n",
       "        [0.3333, 0.3333, 0.3333, 0.0000, 0.0000, 0.0000, 0.0000, 0.0000],\n",
       "        [0.2500, 0.2500, 0.2500, 0.2500, 0.0000, 0.0000, 0.0000, 0.0000],\n",
       "        [0.2000, 0.2000, 0.2000, 0.2000, 0.2000, 0.0000, 0.0000, 0.0000],\n",
       "        [0.1667, 0.1667, 0.1667, 0.1667, 0.1667, 0.1667, 0.0000, 0.0000],\n",
       "        [0.1429, 0.1429, 0.1429, 0.1429, 0.1429, 0.1429, 0.1429, 0.0000],\n",
       "        [0.1250, 0.1250, 0.1250, 0.1250, 0.1250, 0.1250, 0.1250, 0.1250]])"
      ]
     },
     "execution_count": null,
     "metadata": {},
     "output_type": "execute_result"
    }
   ],
   "source": [
    "wei = F.softmax(wei, dim=-1); wei"
   ]
  },
  {
   "cell_type": "code",
   "execution_count": null,
   "id": "76a3bc51",
   "metadata": {},
   "outputs": [
    {
     "data": {
      "text/plain": [
       "True"
      ]
     },
     "execution_count": null,
     "metadata": {},
     "output_type": "execute_result"
    }
   ],
   "source": [
    "xbow3 = wei @ x\n",
    "torch.allclose(xbow, xbow3)"
   ]
  },
  {
   "cell_type": "markdown",
   "id": "f5e3fb28",
   "metadata": {},
   "source": [
    "## Clean up the Model Code"
   ]
  },
  {
   "cell_type": "code",
   "execution_count": null,
   "id": "ca8a1aaf",
   "metadata": {},
   "outputs": [],
   "source": [
    "n_embd = 32"
   ]
  },
  {
   "cell_type": "code",
   "execution_count": null,
   "id": "83c820e1",
   "metadata": {},
   "outputs": [],
   "source": [
    "class BigramLanguageModel(nn.Module):\n",
    "    \n",
    "    def __init__(self): # removed vocab_size\n",
    "        super().__init__()\n",
    "        # each token directly reads off the logits for the next token from a lookup table\n",
    "        self.token_embedding_table = nn.Embedding(vocab_size, n_embd)\n",
    "        self.lm_head = nn.Linear(n_embd, vocab_size)\n",
    "    \n",
    "    def forward(self, idx, targets = None):\n",
    "        # idx and targets are both (B, T) tensor of integers\n",
    "        tok_embd  = self.token_embedding_table(idx) # (B, T, C), C--> n_embd\n",
    "        logits = self.lm_head(tok_embd) # (B, T, vocab_size)\n",
    "        \n",
    "        if targets is None:\n",
    "            loss = None\n",
    "        else:\n",
    "            B, T, C = logits.shape\n",
    "            logits = logits.view(B * T, C)\n",
    "            targets = targets.view(B * T)\n",
    "            loss = F.cross_entropy(logits, targets)\n",
    "        \n",
    "        return logits, loss\n",
    "\n",
    "    def generate(self, idx, max_new_tokens):\n",
    "        # idx is (B, T) array of indices in the current context\n",
    "        for _ in range(max_new_tokens):\n",
    "            # get the predictions\n",
    "            logits, loss = self(idx)\n",
    "            # focus only on the last time step\n",
    "            logits = logits[:,  -1, :] # becomes (B, C)\n",
    "            # apply softmax to get probabilities\n",
    "            probs = F.softmax(logits, dim=-1) # (B, C)\n",
    "            # sample from the distribution\n",
    "            idx_next = torch.multinomial(probs, num_samples=1) # (B, 1)\n",
    "            # append sampled index to the running sequence\n",
    "            idx = torch.cat((idx, idx_next), dim=1) # (B, T+1)\n",
    "        return idx\n",
    "        "
   ]
  },
  {
   "cell_type": "code",
   "execution_count": null,
   "id": "d0a62edc",
   "metadata": {},
   "outputs": [],
   "source": [
    "model = BigramLanguageModel()"
   ]
  },
  {
   "cell_type": "code",
   "execution_count": null,
   "id": "0bfd8a6d",
   "metadata": {},
   "outputs": [
    {
     "data": {
      "text/html": [
       "<pre style=\"white-space:pre;overflow-x:auto;line-height:normal;font-family:Menlo,'DejaVu Sans Mono',consolas,'Courier New',monospace\">step <span style=\"color: #008080; text-decoration-color: #008080; font-weight: bold\">0</span>: train loss <span style=\"color: #008080; text-decoration-color: #008080; font-weight: bold\">4.3025</span>, val loss <span style=\"color: #008080; text-decoration-color: #008080; font-weight: bold\">4.3075</span>\n",
       "</pre>\n"
      ],
      "text/plain": [
       "step \u001b[1;36m0\u001b[0m: train loss \u001b[1;36m4.3025\u001b[0m, val loss \u001b[1;36m4.3075\u001b[0m\n"
      ]
     },
     "metadata": {},
     "output_type": "display_data"
    },
    {
     "data": {
      "text/html": [
       "<pre style=\"white-space:pre;overflow-x:auto;line-height:normal;font-family:Menlo,'DejaVu Sans Mono',consolas,'Courier New',monospace\">step <span style=\"color: #008080; text-decoration-color: #008080; font-weight: bold\">200</span>: train loss <span style=\"color: #008080; text-decoration-color: #008080; font-weight: bold\">3.1244</span>, val loss <span style=\"color: #008080; text-decoration-color: #008080; font-weight: bold\">3.1247</span>\n",
       "</pre>\n"
      ],
      "text/plain": [
       "step \u001b[1;36m200\u001b[0m: train loss \u001b[1;36m3.1244\u001b[0m, val loss \u001b[1;36m3.1247\u001b[0m\n"
      ]
     },
     "metadata": {},
     "output_type": "display_data"
    },
    {
     "data": {
      "text/html": [
       "<pre style=\"white-space:pre;overflow-x:auto;line-height:normal;font-family:Menlo,'DejaVu Sans Mono',consolas,'Courier New',monospace\">step <span style=\"color: #008080; text-decoration-color: #008080; font-weight: bold\">400</span>: train loss <span style=\"color: #008080; text-decoration-color: #008080; font-weight: bold\">2.7463</span>, val loss <span style=\"color: #008080; text-decoration-color: #008080; font-weight: bold\">2.7792</span>\n",
       "</pre>\n"
      ],
      "text/plain": [
       "step \u001b[1;36m400\u001b[0m: train loss \u001b[1;36m2.7463\u001b[0m, val loss \u001b[1;36m2.7792\u001b[0m\n"
      ]
     },
     "metadata": {},
     "output_type": "display_data"
    },
    {
     "data": {
      "text/html": [
       "<pre style=\"white-space:pre;overflow-x:auto;line-height:normal;font-family:Menlo,'DejaVu Sans Mono',consolas,'Courier New',monospace\">step <span style=\"color: #008080; text-decoration-color: #008080; font-weight: bold\">600</span>: train loss <span style=\"color: #008080; text-decoration-color: #008080; font-weight: bold\">2.6392</span>, val loss <span style=\"color: #008080; text-decoration-color: #008080; font-weight: bold\">2.6618</span>\n",
       "</pre>\n"
      ],
      "text/plain": [
       "step \u001b[1;36m600\u001b[0m: train loss \u001b[1;36m2.6392\u001b[0m, val loss \u001b[1;36m2.6618\u001b[0m\n"
      ]
     },
     "metadata": {},
     "output_type": "display_data"
    },
    {
     "data": {
      "text/html": [
       "<pre style=\"white-space:pre;overflow-x:auto;line-height:normal;font-family:Menlo,'DejaVu Sans Mono',consolas,'Courier New',monospace\">step <span style=\"color: #008080; text-decoration-color: #008080; font-weight: bold\">800</span>: train loss <span style=\"color: #008080; text-decoration-color: #008080; font-weight: bold\">2.5982</span>, val loss <span style=\"color: #008080; text-decoration-color: #008080; font-weight: bold\">2.6138</span>\n",
       "</pre>\n"
      ],
      "text/plain": [
       "step \u001b[1;36m800\u001b[0m: train loss \u001b[1;36m2.5982\u001b[0m, val loss \u001b[1;36m2.6138\u001b[0m\n"
      ]
     },
     "metadata": {},
     "output_type": "display_data"
    },
    {
     "data": {
      "text/html": [
       "<pre style=\"white-space:pre;overflow-x:auto;line-height:normal;font-family:Menlo,'DejaVu Sans Mono',consolas,'Courier New',monospace\">step <span style=\"color: #008080; text-decoration-color: #008080; font-weight: bold\">1000</span>: train loss <span style=\"color: #008080; text-decoration-color: #008080; font-weight: bold\">2.5655</span>, val loss <span style=\"color: #008080; text-decoration-color: #008080; font-weight: bold\">2.5774</span>\n",
       "</pre>\n"
      ],
      "text/plain": [
       "step \u001b[1;36m1000\u001b[0m: train loss \u001b[1;36m2.5655\u001b[0m, val loss \u001b[1;36m2.5774\u001b[0m\n"
      ]
     },
     "metadata": {},
     "output_type": "display_data"
    },
    {
     "data": {
      "text/html": [
       "<pre style=\"white-space:pre;overflow-x:auto;line-height:normal;font-family:Menlo,'DejaVu Sans Mono',consolas,'Courier New',monospace\">step <span style=\"color: #008080; text-decoration-color: #008080; font-weight: bold\">1200</span>: train loss <span style=\"color: #008080; text-decoration-color: #008080; font-weight: bold\">2.5395</span>, val loss <span style=\"color: #008080; text-decoration-color: #008080; font-weight: bold\">2.5691</span>\n",
       "</pre>\n"
      ],
      "text/plain": [
       "step \u001b[1;36m1200\u001b[0m: train loss \u001b[1;36m2.5395\u001b[0m, val loss \u001b[1;36m2.5691\u001b[0m\n"
      ]
     },
     "metadata": {},
     "output_type": "display_data"
    },
    {
     "data": {
      "text/html": [
       "<pre style=\"white-space:pre;overflow-x:auto;line-height:normal;font-family:Menlo,'DejaVu Sans Mono',consolas,'Courier New',monospace\">step <span style=\"color: #008080; text-decoration-color: #008080; font-weight: bold\">1400</span>: train loss <span style=\"color: #008080; text-decoration-color: #008080; font-weight: bold\">2.5180</span>, val loss <span style=\"color: #008080; text-decoration-color: #008080; font-weight: bold\">2.5458</span>\n",
       "</pre>\n"
      ],
      "text/plain": [
       "step \u001b[1;36m1400\u001b[0m: train loss \u001b[1;36m2.5180\u001b[0m, val loss \u001b[1;36m2.5458\u001b[0m\n"
      ]
     },
     "metadata": {},
     "output_type": "display_data"
    },
    {
     "data": {
      "text/html": [
       "<pre style=\"white-space:pre;overflow-x:auto;line-height:normal;font-family:Menlo,'DejaVu Sans Mono',consolas,'Courier New',monospace\">step <span style=\"color: #008080; text-decoration-color: #008080; font-weight: bold\">1600</span>: train loss <span style=\"color: #008080; text-decoration-color: #008080; font-weight: bold\">2.5276</span>, val loss <span style=\"color: #008080; text-decoration-color: #008080; font-weight: bold\">2.5372</span>\n",
       "</pre>\n"
      ],
      "text/plain": [
       "step \u001b[1;36m1600\u001b[0m: train loss \u001b[1;36m2.5276\u001b[0m, val loss \u001b[1;36m2.5372\u001b[0m\n"
      ]
     },
     "metadata": {},
     "output_type": "display_data"
    },
    {
     "data": {
      "text/html": [
       "<pre style=\"white-space:pre;overflow-x:auto;line-height:normal;font-family:Menlo,'DejaVu Sans Mono',consolas,'Courier New',monospace\">step <span style=\"color: #008080; text-decoration-color: #008080; font-weight: bold\">1800</span>: train loss <span style=\"color: #008080; text-decoration-color: #008080; font-weight: bold\">2.5163</span>, val loss <span style=\"color: #008080; text-decoration-color: #008080; font-weight: bold\">2.5347</span>\n",
       "</pre>\n"
      ],
      "text/plain": [
       "step \u001b[1;36m1800\u001b[0m: train loss \u001b[1;36m2.5163\u001b[0m, val loss \u001b[1;36m2.5347\u001b[0m\n"
      ]
     },
     "metadata": {},
     "output_type": "display_data"
    },
    {
     "data": {
      "text/html": [
       "<pre style=\"white-space:pre;overflow-x:auto;line-height:normal;font-family:Menlo,'DejaVu Sans Mono',consolas,'Courier New',monospace\">step <span style=\"color: #008080; text-decoration-color: #008080; font-weight: bold\">2000</span>: train loss <span style=\"color: #008080; text-decoration-color: #008080; font-weight: bold\">2.5086</span>, val loss <span style=\"color: #008080; text-decoration-color: #008080; font-weight: bold\">2.5323</span>\n",
       "</pre>\n"
      ],
      "text/plain": [
       "step \u001b[1;36m2000\u001b[0m: train loss \u001b[1;36m2.5086\u001b[0m, val loss \u001b[1;36m2.5323\u001b[0m\n"
      ]
     },
     "metadata": {},
     "output_type": "display_data"
    },
    {
     "data": {
      "text/html": [
       "<pre style=\"white-space:pre;overflow-x:auto;line-height:normal;font-family:Menlo,'DejaVu Sans Mono',consolas,'Courier New',monospace\">step <span style=\"color: #008080; text-decoration-color: #008080; font-weight: bold\">2200</span>: train loss <span style=\"color: #008080; text-decoration-color: #008080; font-weight: bold\">2.5000</span>, val loss <span style=\"color: #008080; text-decoration-color: #008080; font-weight: bold\">2.5238</span>\n",
       "</pre>\n"
      ],
      "text/plain": [
       "step \u001b[1;36m2200\u001b[0m: train loss \u001b[1;36m2.5000\u001b[0m, val loss \u001b[1;36m2.5238\u001b[0m\n"
      ]
     },
     "metadata": {},
     "output_type": "display_data"
    },
    {
     "data": {
      "text/html": [
       "<pre style=\"white-space:pre;overflow-x:auto;line-height:normal;font-family:Menlo,'DejaVu Sans Mono',consolas,'Courier New',monospace\">step <span style=\"color: #008080; text-decoration-color: #008080; font-weight: bold\">2400</span>: train loss <span style=\"color: #008080; text-decoration-color: #008080; font-weight: bold\">2.5019</span>, val loss <span style=\"color: #008080; text-decoration-color: #008080; font-weight: bold\">2.5136</span>\n",
       "</pre>\n"
      ],
      "text/plain": [
       "step \u001b[1;36m2400\u001b[0m: train loss \u001b[1;36m2.5019\u001b[0m, val loss \u001b[1;36m2.5136\u001b[0m\n"
      ]
     },
     "metadata": {},
     "output_type": "display_data"
    },
    {
     "data": {
      "text/html": [
       "<pre style=\"white-space:pre;overflow-x:auto;line-height:normal;font-family:Menlo,'DejaVu Sans Mono',consolas,'Courier New',monospace\">step <span style=\"color: #008080; text-decoration-color: #008080; font-weight: bold\">2600</span>: train loss <span style=\"color: #008080; text-decoration-color: #008080; font-weight: bold\">2.4819</span>, val loss <span style=\"color: #008080; text-decoration-color: #008080; font-weight: bold\">2.5199</span>\n",
       "</pre>\n"
      ],
      "text/plain": [
       "step \u001b[1;36m2600\u001b[0m: train loss \u001b[1;36m2.4819\u001b[0m, val loss \u001b[1;36m2.5199\u001b[0m\n"
      ]
     },
     "metadata": {},
     "output_type": "display_data"
    },
    {
     "data": {
      "text/html": [
       "<pre style=\"white-space:pre;overflow-x:auto;line-height:normal;font-family:Menlo,'DejaVu Sans Mono',consolas,'Courier New',monospace\">step <span style=\"color: #008080; text-decoration-color: #008080; font-weight: bold\">2800</span>: train loss <span style=\"color: #008080; text-decoration-color: #008080; font-weight: bold\">2.4815</span>, val loss <span style=\"color: #008080; text-decoration-color: #008080; font-weight: bold\">2.5051</span>\n",
       "</pre>\n"
      ],
      "text/plain": [
       "step \u001b[1;36m2800\u001b[0m: train loss \u001b[1;36m2.4815\u001b[0m, val loss \u001b[1;36m2.5051\u001b[0m\n"
      ]
     },
     "metadata": {},
     "output_type": "display_data"
    },
    {
     "data": {
      "text/html": [
       "<pre style=\"white-space:pre;overflow-x:auto;line-height:normal;font-family:Menlo,'DejaVu Sans Mono',consolas,'Courier New',monospace\">step <span style=\"color: #008080; text-decoration-color: #008080; font-weight: bold\">3000</span>: train loss <span style=\"color: #008080; text-decoration-color: #008080; font-weight: bold\">2.4894</span>, val loss <span style=\"color: #008080; text-decoration-color: #008080; font-weight: bold\">2.5148</span>\n",
       "</pre>\n"
      ],
      "text/plain": [
       "step \u001b[1;36m3000\u001b[0m: train loss \u001b[1;36m2.4894\u001b[0m, val loss \u001b[1;36m2.5148\u001b[0m\n"
      ]
     },
     "metadata": {},
     "output_type": "display_data"
    },
    {
     "data": {
      "text/html": [
       "<pre style=\"white-space:pre;overflow-x:auto;line-height:normal;font-family:Menlo,'DejaVu Sans Mono',consolas,'Courier New',monospace\">step <span style=\"color: #008080; text-decoration-color: #008080; font-weight: bold\">3200</span>: train loss <span style=\"color: #008080; text-decoration-color: #008080; font-weight: bold\">2.4906</span>, val loss <span style=\"color: #008080; text-decoration-color: #008080; font-weight: bold\">2.4983</span>\n",
       "</pre>\n"
      ],
      "text/plain": [
       "step \u001b[1;36m3200\u001b[0m: train loss \u001b[1;36m2.4906\u001b[0m, val loss \u001b[1;36m2.4983\u001b[0m\n"
      ]
     },
     "metadata": {},
     "output_type": "display_data"
    },
    {
     "data": {
      "text/html": [
       "<pre style=\"white-space:pre;overflow-x:auto;line-height:normal;font-family:Menlo,'DejaVu Sans Mono',consolas,'Courier New',monospace\">step <span style=\"color: #008080; text-decoration-color: #008080; font-weight: bold\">3400</span>: train loss <span style=\"color: #008080; text-decoration-color: #008080; font-weight: bold\">2.4818</span>, val loss <span style=\"color: #008080; text-decoration-color: #008080; font-weight: bold\">2.5091</span>\n",
       "</pre>\n"
      ],
      "text/plain": [
       "step \u001b[1;36m3400\u001b[0m: train loss \u001b[1;36m2.4818\u001b[0m, val loss \u001b[1;36m2.5091\u001b[0m\n"
      ]
     },
     "metadata": {},
     "output_type": "display_data"
    },
    {
     "data": {
      "text/html": [
       "<pre style=\"white-space:pre;overflow-x:auto;line-height:normal;font-family:Menlo,'DejaVu Sans Mono',consolas,'Courier New',monospace\">step <span style=\"color: #008080; text-decoration-color: #008080; font-weight: bold\">3600</span>: train loss <span style=\"color: #008080; text-decoration-color: #008080; font-weight: bold\">2.4772</span>, val loss <span style=\"color: #008080; text-decoration-color: #008080; font-weight: bold\">2.4955</span>\n",
       "</pre>\n"
      ],
      "text/plain": [
       "step \u001b[1;36m3600\u001b[0m: train loss \u001b[1;36m2.4772\u001b[0m, val loss \u001b[1;36m2.4955\u001b[0m\n"
      ]
     },
     "metadata": {},
     "output_type": "display_data"
    },
    {
     "data": {
      "text/html": [
       "<pre style=\"white-space:pre;overflow-x:auto;line-height:normal;font-family:Menlo,'DejaVu Sans Mono',consolas,'Courier New',monospace\">step <span style=\"color: #008080; text-decoration-color: #008080; font-weight: bold\">3800</span>: train loss <span style=\"color: #008080; text-decoration-color: #008080; font-weight: bold\">2.4753</span>, val loss <span style=\"color: #008080; text-decoration-color: #008080; font-weight: bold\">2.4957</span>\n",
       "</pre>\n"
      ],
      "text/plain": [
       "step \u001b[1;36m3800\u001b[0m: train loss \u001b[1;36m2.4753\u001b[0m, val loss \u001b[1;36m2.4957\u001b[0m\n"
      ]
     },
     "metadata": {},
     "output_type": "display_data"
    },
    {
     "data": {
      "text/html": [
       "<pre style=\"white-space:pre;overflow-x:auto;line-height:normal;font-family:Menlo,'DejaVu Sans Mono',consolas,'Courier New',monospace\">step <span style=\"color: #008080; text-decoration-color: #008080; font-weight: bold\">4000</span>: train loss <span style=\"color: #008080; text-decoration-color: #008080; font-weight: bold\">2.4819</span>, val loss <span style=\"color: #008080; text-decoration-color: #008080; font-weight: bold\">2.4996</span>\n",
       "</pre>\n"
      ],
      "text/plain": [
       "step \u001b[1;36m4000\u001b[0m: train loss \u001b[1;36m2.4819\u001b[0m, val loss \u001b[1;36m2.4996\u001b[0m\n"
      ]
     },
     "metadata": {},
     "output_type": "display_data"
    },
    {
     "data": {
      "text/html": [
       "<pre style=\"white-space:pre;overflow-x:auto;line-height:normal;font-family:Menlo,'DejaVu Sans Mono',consolas,'Courier New',monospace\">step <span style=\"color: #008080; text-decoration-color: #008080; font-weight: bold\">4200</span>: train loss <span style=\"color: #008080; text-decoration-color: #008080; font-weight: bold\">2.4760</span>, val loss <span style=\"color: #008080; text-decoration-color: #008080; font-weight: bold\">2.5057</span>\n",
       "</pre>\n"
      ],
      "text/plain": [
       "step \u001b[1;36m4200\u001b[0m: train loss \u001b[1;36m2.4760\u001b[0m, val loss \u001b[1;36m2.5057\u001b[0m\n"
      ]
     },
     "metadata": {},
     "output_type": "display_data"
    },
    {
     "data": {
      "text/html": [
       "<pre style=\"white-space:pre;overflow-x:auto;line-height:normal;font-family:Menlo,'DejaVu Sans Mono',consolas,'Courier New',monospace\">step <span style=\"color: #008080; text-decoration-color: #008080; font-weight: bold\">4400</span>: train loss <span style=\"color: #008080; text-decoration-color: #008080; font-weight: bold\">2.4873</span>, val loss <span style=\"color: #008080; text-decoration-color: #008080; font-weight: bold\">2.4993</span>\n",
       "</pre>\n"
      ],
      "text/plain": [
       "step \u001b[1;36m4400\u001b[0m: train loss \u001b[1;36m2.4873\u001b[0m, val loss \u001b[1;36m2.4993\u001b[0m\n"
      ]
     },
     "metadata": {},
     "output_type": "display_data"
    },
    {
     "data": {
      "text/html": [
       "<pre style=\"white-space:pre;overflow-x:auto;line-height:normal;font-family:Menlo,'DejaVu Sans Mono',consolas,'Courier New',monospace\">step <span style=\"color: #008080; text-decoration-color: #008080; font-weight: bold\">4600</span>: train loss <span style=\"color: #008080; text-decoration-color: #008080; font-weight: bold\">2.4721</span>, val loss <span style=\"color: #008080; text-decoration-color: #008080; font-weight: bold\">2.4943</span>\n",
       "</pre>\n"
      ],
      "text/plain": [
       "step \u001b[1;36m4600\u001b[0m: train loss \u001b[1;36m2.4721\u001b[0m, val loss \u001b[1;36m2.4943\u001b[0m\n"
      ]
     },
     "metadata": {},
     "output_type": "display_data"
    },
    {
     "data": {
      "text/html": [
       "<pre style=\"white-space:pre;overflow-x:auto;line-height:normal;font-family:Menlo,'DejaVu Sans Mono',consolas,'Courier New',monospace\">step <span style=\"color: #008080; text-decoration-color: #008080; font-weight: bold\">4800</span>: train loss <span style=\"color: #008080; text-decoration-color: #008080; font-weight: bold\">2.4710</span>, val loss <span style=\"color: #008080; text-decoration-color: #008080; font-weight: bold\">2.4940</span>\n",
       "</pre>\n"
      ],
      "text/plain": [
       "step \u001b[1;36m4800\u001b[0m: train loss \u001b[1;36m2.4710\u001b[0m, val loss \u001b[1;36m2.4940\u001b[0m\n"
      ]
     },
     "metadata": {},
     "output_type": "display_data"
    },
    {
     "data": {
      "text/html": [
       "<pre style=\"white-space:pre;overflow-x:auto;line-height:normal;font-family:Menlo,'DejaVu Sans Mono',consolas,'Courier New',monospace\">step <span style=\"color: #008080; text-decoration-color: #008080; font-weight: bold\">5000</span>: train loss <span style=\"color: #008080; text-decoration-color: #008080; font-weight: bold\">2.4762</span>, val loss <span style=\"color: #008080; text-decoration-color: #008080; font-weight: bold\">2.4994</span>\n",
       "</pre>\n"
      ],
      "text/plain": [
       "step \u001b[1;36m5000\u001b[0m: train loss \u001b[1;36m2.4762\u001b[0m, val loss \u001b[1;36m2.4994\u001b[0m\n"
      ]
     },
     "metadata": {},
     "output_type": "display_data"
    },
    {
     "data": {
      "text/html": [
       "<pre style=\"white-space:pre;overflow-x:auto;line-height:normal;font-family:Menlo,'DejaVu Sans Mono',consolas,'Courier New',monospace\">step <span style=\"color: #008080; text-decoration-color: #008080; font-weight: bold\">5200</span>: train loss <span style=\"color: #008080; text-decoration-color: #008080; font-weight: bold\">2.4655</span>, val loss <span style=\"color: #008080; text-decoration-color: #008080; font-weight: bold\">2.4919</span>\n",
       "</pre>\n"
      ],
      "text/plain": [
       "step \u001b[1;36m5200\u001b[0m: train loss \u001b[1;36m2.4655\u001b[0m, val loss \u001b[1;36m2.4919\u001b[0m\n"
      ]
     },
     "metadata": {},
     "output_type": "display_data"
    },
    {
     "data": {
      "text/html": [
       "<pre style=\"white-space:pre;overflow-x:auto;line-height:normal;font-family:Menlo,'DejaVu Sans Mono',consolas,'Courier New',monospace\">step <span style=\"color: #008080; text-decoration-color: #008080; font-weight: bold\">5400</span>: train loss <span style=\"color: #008080; text-decoration-color: #008080; font-weight: bold\">2.4706</span>, val loss <span style=\"color: #008080; text-decoration-color: #008080; font-weight: bold\">2.5058</span>\n",
       "</pre>\n"
      ],
      "text/plain": [
       "step \u001b[1;36m5400\u001b[0m: train loss \u001b[1;36m2.4706\u001b[0m, val loss \u001b[1;36m2.5058\u001b[0m\n"
      ]
     },
     "metadata": {},
     "output_type": "display_data"
    },
    {
     "data": {
      "text/html": [
       "<pre style=\"white-space:pre;overflow-x:auto;line-height:normal;font-family:Menlo,'DejaVu Sans Mono',consolas,'Courier New',monospace\">step <span style=\"color: #008080; text-decoration-color: #008080; font-weight: bold\">5600</span>: train loss <span style=\"color: #008080; text-decoration-color: #008080; font-weight: bold\">2.4771</span>, val loss <span style=\"color: #008080; text-decoration-color: #008080; font-weight: bold\">2.4954</span>\n",
       "</pre>\n"
      ],
      "text/plain": [
       "step \u001b[1;36m5600\u001b[0m: train loss \u001b[1;36m2.4771\u001b[0m, val loss \u001b[1;36m2.4954\u001b[0m\n"
      ]
     },
     "metadata": {},
     "output_type": "display_data"
    },
    {
     "data": {
      "text/html": [
       "<pre style=\"white-space:pre;overflow-x:auto;line-height:normal;font-family:Menlo,'DejaVu Sans Mono',consolas,'Courier New',monospace\">step <span style=\"color: #008080; text-decoration-color: #008080; font-weight: bold\">5800</span>: train loss <span style=\"color: #008080; text-decoration-color: #008080; font-weight: bold\">2.4743</span>, val loss <span style=\"color: #008080; text-decoration-color: #008080; font-weight: bold\">2.4961</span>\n",
       "</pre>\n"
      ],
      "text/plain": [
       "step \u001b[1;36m5800\u001b[0m: train loss \u001b[1;36m2.4743\u001b[0m, val loss \u001b[1;36m2.4961\u001b[0m\n"
      ]
     },
     "metadata": {},
     "output_type": "display_data"
    },
    {
     "data": {
      "text/html": [
       "<pre style=\"white-space:pre;overflow-x:auto;line-height:normal;font-family:Menlo,'DejaVu Sans Mono',consolas,'Courier New',monospace\">step <span style=\"color: #008080; text-decoration-color: #008080; font-weight: bold\">6000</span>: train loss <span style=\"color: #008080; text-decoration-color: #008080; font-weight: bold\">2.4711</span>, val loss <span style=\"color: #008080; text-decoration-color: #008080; font-weight: bold\">2.4938</span>\n",
       "</pre>\n"
      ],
      "text/plain": [
       "step \u001b[1;36m6000\u001b[0m: train loss \u001b[1;36m2.4711\u001b[0m, val loss \u001b[1;36m2.4938\u001b[0m\n"
      ]
     },
     "metadata": {},
     "output_type": "display_data"
    },
    {
     "data": {
      "text/html": [
       "<pre style=\"white-space:pre;overflow-x:auto;line-height:normal;font-family:Menlo,'DejaVu Sans Mono',consolas,'Courier New',monospace\">step <span style=\"color: #008080; text-decoration-color: #008080; font-weight: bold\">6200</span>: train loss <span style=\"color: #008080; text-decoration-color: #008080; font-weight: bold\">2.4723</span>, val loss <span style=\"color: #008080; text-decoration-color: #008080; font-weight: bold\">2.4957</span>\n",
       "</pre>\n"
      ],
      "text/plain": [
       "step \u001b[1;36m6200\u001b[0m: train loss \u001b[1;36m2.4723\u001b[0m, val loss \u001b[1;36m2.4957\u001b[0m\n"
      ]
     },
     "metadata": {},
     "output_type": "display_data"
    },
    {
     "data": {
      "text/html": [
       "<pre style=\"white-space:pre;overflow-x:auto;line-height:normal;font-family:Menlo,'DejaVu Sans Mono',consolas,'Courier New',monospace\">step <span style=\"color: #008080; text-decoration-color: #008080; font-weight: bold\">6400</span>: train loss <span style=\"color: #008080; text-decoration-color: #008080; font-weight: bold\">2.4725</span>, val loss <span style=\"color: #008080; text-decoration-color: #008080; font-weight: bold\">2.4917</span>\n",
       "</pre>\n"
      ],
      "text/plain": [
       "step \u001b[1;36m6400\u001b[0m: train loss \u001b[1;36m2.4725\u001b[0m, val loss \u001b[1;36m2.4917\u001b[0m\n"
      ]
     },
     "metadata": {},
     "output_type": "display_data"
    },
    {
     "data": {
      "text/html": [
       "<pre style=\"white-space:pre;overflow-x:auto;line-height:normal;font-family:Menlo,'DejaVu Sans Mono',consolas,'Courier New',monospace\">step <span style=\"color: #008080; text-decoration-color: #008080; font-weight: bold\">6600</span>: train loss <span style=\"color: #008080; text-decoration-color: #008080; font-weight: bold\">2.4700</span>, val loss <span style=\"color: #008080; text-decoration-color: #008080; font-weight: bold\">2.4865</span>\n",
       "</pre>\n"
      ],
      "text/plain": [
       "step \u001b[1;36m6600\u001b[0m: train loss \u001b[1;36m2.4700\u001b[0m, val loss \u001b[1;36m2.4865\u001b[0m\n"
      ]
     },
     "metadata": {},
     "output_type": "display_data"
    },
    {
     "data": {
      "text/html": [
       "<pre style=\"white-space:pre;overflow-x:auto;line-height:normal;font-family:Menlo,'DejaVu Sans Mono',consolas,'Courier New',monospace\">step <span style=\"color: #008080; text-decoration-color: #008080; font-weight: bold\">6800</span>: train loss <span style=\"color: #008080; text-decoration-color: #008080; font-weight: bold\">2.4687</span>, val loss <span style=\"color: #008080; text-decoration-color: #008080; font-weight: bold\">2.4938</span>\n",
       "</pre>\n"
      ],
      "text/plain": [
       "step \u001b[1;36m6800\u001b[0m: train loss \u001b[1;36m2.4687\u001b[0m, val loss \u001b[1;36m2.4938\u001b[0m\n"
      ]
     },
     "metadata": {},
     "output_type": "display_data"
    },
    {
     "data": {
      "text/html": [
       "<pre style=\"white-space:pre;overflow-x:auto;line-height:normal;font-family:Menlo,'DejaVu Sans Mono',consolas,'Courier New',monospace\">step <span style=\"color: #008080; text-decoration-color: #008080; font-weight: bold\">7000</span>: train loss <span style=\"color: #008080; text-decoration-color: #008080; font-weight: bold\">2.4657</span>, val loss <span style=\"color: #008080; text-decoration-color: #008080; font-weight: bold\">2.4968</span>\n",
       "</pre>\n"
      ],
      "text/plain": [
       "step \u001b[1;36m7000\u001b[0m: train loss \u001b[1;36m2.4657\u001b[0m, val loss \u001b[1;36m2.4968\u001b[0m\n"
      ]
     },
     "metadata": {},
     "output_type": "display_data"
    },
    {
     "data": {
      "text/html": [
       "<pre style=\"white-space:pre;overflow-x:auto;line-height:normal;font-family:Menlo,'DejaVu Sans Mono',consolas,'Courier New',monospace\">step <span style=\"color: #008080; text-decoration-color: #008080; font-weight: bold\">7200</span>: train loss <span style=\"color: #008080; text-decoration-color: #008080; font-weight: bold\">2.4637</span>, val loss <span style=\"color: #008080; text-decoration-color: #008080; font-weight: bold\">2.4930</span>\n",
       "</pre>\n"
      ],
      "text/plain": [
       "step \u001b[1;36m7200\u001b[0m: train loss \u001b[1;36m2.4637\u001b[0m, val loss \u001b[1;36m2.4930\u001b[0m\n"
      ]
     },
     "metadata": {},
     "output_type": "display_data"
    },
    {
     "data": {
      "text/html": [
       "<pre style=\"white-space:pre;overflow-x:auto;line-height:normal;font-family:Menlo,'DejaVu Sans Mono',consolas,'Courier New',monospace\">step <span style=\"color: #008080; text-decoration-color: #008080; font-weight: bold\">7400</span>: train loss <span style=\"color: #008080; text-decoration-color: #008080; font-weight: bold\">2.4598</span>, val loss <span style=\"color: #008080; text-decoration-color: #008080; font-weight: bold\">2.4839</span>\n",
       "</pre>\n"
      ],
      "text/plain": [
       "step \u001b[1;36m7400\u001b[0m: train loss \u001b[1;36m2.4598\u001b[0m, val loss \u001b[1;36m2.4839\u001b[0m\n"
      ]
     },
     "metadata": {},
     "output_type": "display_data"
    },
    {
     "data": {
      "text/html": [
       "<pre style=\"white-space:pre;overflow-x:auto;line-height:normal;font-family:Menlo,'DejaVu Sans Mono',consolas,'Courier New',monospace\">step <span style=\"color: #008080; text-decoration-color: #008080; font-weight: bold\">7600</span>: train loss <span style=\"color: #008080; text-decoration-color: #008080; font-weight: bold\">2.4602</span>, val loss <span style=\"color: #008080; text-decoration-color: #008080; font-weight: bold\">2.4935</span>\n",
       "</pre>\n"
      ],
      "text/plain": [
       "step \u001b[1;36m7600\u001b[0m: train loss \u001b[1;36m2.4602\u001b[0m, val loss \u001b[1;36m2.4935\u001b[0m\n"
      ]
     },
     "metadata": {},
     "output_type": "display_data"
    },
    {
     "data": {
      "text/html": [
       "<pre style=\"white-space:pre;overflow-x:auto;line-height:normal;font-family:Menlo,'DejaVu Sans Mono',consolas,'Courier New',monospace\">step <span style=\"color: #008080; text-decoration-color: #008080; font-weight: bold\">7800</span>: train loss <span style=\"color: #008080; text-decoration-color: #008080; font-weight: bold\">2.4674</span>, val loss <span style=\"color: #008080; text-decoration-color: #008080; font-weight: bold\">2.4894</span>\n",
       "</pre>\n"
      ],
      "text/plain": [
       "step \u001b[1;36m7800\u001b[0m: train loss \u001b[1;36m2.4674\u001b[0m, val loss \u001b[1;36m2.4894\u001b[0m\n"
      ]
     },
     "metadata": {},
     "output_type": "display_data"
    },
    {
     "data": {
      "text/html": [
       "<pre style=\"white-space:pre;overflow-x:auto;line-height:normal;font-family:Menlo,'DejaVu Sans Mono',consolas,'Courier New',monospace\">step <span style=\"color: #008080; text-decoration-color: #008080; font-weight: bold\">8000</span>: train loss <span style=\"color: #008080; text-decoration-color: #008080; font-weight: bold\">2.4726</span>, val loss <span style=\"color: #008080; text-decoration-color: #008080; font-weight: bold\">2.4955</span>\n",
       "</pre>\n"
      ],
      "text/plain": [
       "step \u001b[1;36m8000\u001b[0m: train loss \u001b[1;36m2.4726\u001b[0m, val loss \u001b[1;36m2.4955\u001b[0m\n"
      ]
     },
     "metadata": {},
     "output_type": "display_data"
    },
    {
     "data": {
      "text/html": [
       "<pre style=\"white-space:pre;overflow-x:auto;line-height:normal;font-family:Menlo,'DejaVu Sans Mono',consolas,'Courier New',monospace\">step <span style=\"color: #008080; text-decoration-color: #008080; font-weight: bold\">8200</span>: train loss <span style=\"color: #008080; text-decoration-color: #008080; font-weight: bold\">2.4660</span>, val loss <span style=\"color: #008080; text-decoration-color: #008080; font-weight: bold\">2.4903</span>\n",
       "</pre>\n"
      ],
      "text/plain": [
       "step \u001b[1;36m8200\u001b[0m: train loss \u001b[1;36m2.4660\u001b[0m, val loss \u001b[1;36m2.4903\u001b[0m\n"
      ]
     },
     "metadata": {},
     "output_type": "display_data"
    },
    {
     "data": {
      "text/html": [
       "<pre style=\"white-space:pre;overflow-x:auto;line-height:normal;font-family:Menlo,'DejaVu Sans Mono',consolas,'Courier New',monospace\">step <span style=\"color: #008080; text-decoration-color: #008080; font-weight: bold\">8400</span>: train loss <span style=\"color: #008080; text-decoration-color: #008080; font-weight: bold\">2.4637</span>, val loss <span style=\"color: #008080; text-decoration-color: #008080; font-weight: bold\">2.4925</span>\n",
       "</pre>\n"
      ],
      "text/plain": [
       "step \u001b[1;36m8400\u001b[0m: train loss \u001b[1;36m2.4637\u001b[0m, val loss \u001b[1;36m2.4925\u001b[0m\n"
      ]
     },
     "metadata": {},
     "output_type": "display_data"
    },
    {
     "data": {
      "text/html": [
       "<pre style=\"white-space:pre;overflow-x:auto;line-height:normal;font-family:Menlo,'DejaVu Sans Mono',consolas,'Courier New',monospace\">step <span style=\"color: #008080; text-decoration-color: #008080; font-weight: bold\">8600</span>: train loss <span style=\"color: #008080; text-decoration-color: #008080; font-weight: bold\">2.4731</span>, val loss <span style=\"color: #008080; text-decoration-color: #008080; font-weight: bold\">2.4964</span>\n",
       "</pre>\n"
      ],
      "text/plain": [
       "step \u001b[1;36m8600\u001b[0m: train loss \u001b[1;36m2.4731\u001b[0m, val loss \u001b[1;36m2.4964\u001b[0m\n"
      ]
     },
     "metadata": {},
     "output_type": "display_data"
    },
    {
     "data": {
      "text/html": [
       "<pre style=\"white-space:pre;overflow-x:auto;line-height:normal;font-family:Menlo,'DejaVu Sans Mono',consolas,'Courier New',monospace\">step <span style=\"color: #008080; text-decoration-color: #008080; font-weight: bold\">8800</span>: train loss <span style=\"color: #008080; text-decoration-color: #008080; font-weight: bold\">2.4683</span>, val loss <span style=\"color: #008080; text-decoration-color: #008080; font-weight: bold\">2.4835</span>\n",
       "</pre>\n"
      ],
      "text/plain": [
       "step \u001b[1;36m8800\u001b[0m: train loss \u001b[1;36m2.4683\u001b[0m, val loss \u001b[1;36m2.4835\u001b[0m\n"
      ]
     },
     "metadata": {},
     "output_type": "display_data"
    },
    {
     "data": {
      "text/html": [
       "<pre style=\"white-space:pre;overflow-x:auto;line-height:normal;font-family:Menlo,'DejaVu Sans Mono',consolas,'Courier New',monospace\">step <span style=\"color: #008080; text-decoration-color: #008080; font-weight: bold\">9000</span>: train loss <span style=\"color: #008080; text-decoration-color: #008080; font-weight: bold\">2.4624</span>, val loss <span style=\"color: #008080; text-decoration-color: #008080; font-weight: bold\">2.4867</span>\n",
       "</pre>\n"
      ],
      "text/plain": [
       "step \u001b[1;36m9000\u001b[0m: train loss \u001b[1;36m2.4624\u001b[0m, val loss \u001b[1;36m2.4867\u001b[0m\n"
      ]
     },
     "metadata": {},
     "output_type": "display_data"
    },
    {
     "data": {
      "text/html": [
       "<pre style=\"white-space:pre;overflow-x:auto;line-height:normal;font-family:Menlo,'DejaVu Sans Mono',consolas,'Courier New',monospace\">step <span style=\"color: #008080; text-decoration-color: #008080; font-weight: bold\">9200</span>: train loss <span style=\"color: #008080; text-decoration-color: #008080; font-weight: bold\">2.4678</span>, val loss <span style=\"color: #008080; text-decoration-color: #008080; font-weight: bold\">2.4906</span>\n",
       "</pre>\n"
      ],
      "text/plain": [
       "step \u001b[1;36m9200\u001b[0m: train loss \u001b[1;36m2.4678\u001b[0m, val loss \u001b[1;36m2.4906\u001b[0m\n"
      ]
     },
     "metadata": {},
     "output_type": "display_data"
    },
    {
     "data": {
      "text/html": [
       "<pre style=\"white-space:pre;overflow-x:auto;line-height:normal;font-family:Menlo,'DejaVu Sans Mono',consolas,'Courier New',monospace\">step <span style=\"color: #008080; text-decoration-color: #008080; font-weight: bold\">9400</span>: train loss <span style=\"color: #008080; text-decoration-color: #008080; font-weight: bold\">2.4682</span>, val loss <span style=\"color: #008080; text-decoration-color: #008080; font-weight: bold\">2.4942</span>\n",
       "</pre>\n"
      ],
      "text/plain": [
       "step \u001b[1;36m9400\u001b[0m: train loss \u001b[1;36m2.4682\u001b[0m, val loss \u001b[1;36m2.4942\u001b[0m\n"
      ]
     },
     "metadata": {},
     "output_type": "display_data"
    },
    {
     "data": {
      "text/html": [
       "<pre style=\"white-space:pre;overflow-x:auto;line-height:normal;font-family:Menlo,'DejaVu Sans Mono',consolas,'Courier New',monospace\">step <span style=\"color: #008080; text-decoration-color: #008080; font-weight: bold\">9600</span>: train loss <span style=\"color: #008080; text-decoration-color: #008080; font-weight: bold\">2.4594</span>, val loss <span style=\"color: #008080; text-decoration-color: #008080; font-weight: bold\">2.4873</span>\n",
       "</pre>\n"
      ],
      "text/plain": [
       "step \u001b[1;36m9600\u001b[0m: train loss \u001b[1;36m2.4594\u001b[0m, val loss \u001b[1;36m2.4873\u001b[0m\n"
      ]
     },
     "metadata": {},
     "output_type": "display_data"
    },
    {
     "data": {
      "text/html": [
       "<pre style=\"white-space:pre;overflow-x:auto;line-height:normal;font-family:Menlo,'DejaVu Sans Mono',consolas,'Courier New',monospace\">step <span style=\"color: #008080; text-decoration-color: #008080; font-weight: bold\">9800</span>: train loss <span style=\"color: #008080; text-decoration-color: #008080; font-weight: bold\">2.4717</span>, val loss <span style=\"color: #008080; text-decoration-color: #008080; font-weight: bold\">2.4908</span>\n",
       "</pre>\n"
      ],
      "text/plain": [
       "step \u001b[1;36m9800\u001b[0m: train loss \u001b[1;36m2.4717\u001b[0m, val loss \u001b[1;36m2.4908\u001b[0m\n"
      ]
     },
     "metadata": {},
     "output_type": "display_data"
    },
    {
     "data": {
      "text/html": [
       "<pre style=\"white-space:pre;overflow-x:auto;line-height:normal;font-family:Menlo,'DejaVu Sans Mono',consolas,'Courier New',monospace\">step <span style=\"color: #008080; text-decoration-color: #008080; font-weight: bold\">10000</span>: train loss <span style=\"color: #008080; text-decoration-color: #008080; font-weight: bold\">2.4653</span>, val loss <span style=\"color: #008080; text-decoration-color: #008080; font-weight: bold\">2.5049</span>\n",
       "</pre>\n"
      ],
      "text/plain": [
       "step \u001b[1;36m10000\u001b[0m: train loss \u001b[1;36m2.4653\u001b[0m, val loss \u001b[1;36m2.5049\u001b[0m\n"
      ]
     },
     "metadata": {},
     "output_type": "display_data"
    },
    {
     "data": {
      "text/html": [
       "<pre style=\"white-space:pre;overflow-x:auto;line-height:normal;font-family:Menlo,'DejaVu Sans Mono',consolas,'Courier New',monospace\">step <span style=\"color: #008080; text-decoration-color: #008080; font-weight: bold\">10200</span>: train loss <span style=\"color: #008080; text-decoration-color: #008080; font-weight: bold\">2.4706</span>, val loss <span style=\"color: #008080; text-decoration-color: #008080; font-weight: bold\">2.4848</span>\n",
       "</pre>\n"
      ],
      "text/plain": [
       "step \u001b[1;36m10200\u001b[0m: train loss \u001b[1;36m2.4706\u001b[0m, val loss \u001b[1;36m2.4848\u001b[0m\n"
      ]
     },
     "metadata": {},
     "output_type": "display_data"
    },
    {
     "data": {
      "text/html": [
       "<pre style=\"white-space:pre;overflow-x:auto;line-height:normal;font-family:Menlo,'DejaVu Sans Mono',consolas,'Courier New',monospace\">step <span style=\"color: #008080; text-decoration-color: #008080; font-weight: bold\">10400</span>: train loss <span style=\"color: #008080; text-decoration-color: #008080; font-weight: bold\">2.4706</span>, val loss <span style=\"color: #008080; text-decoration-color: #008080; font-weight: bold\">2.4947</span>\n",
       "</pre>\n"
      ],
      "text/plain": [
       "step \u001b[1;36m10400\u001b[0m: train loss \u001b[1;36m2.4706\u001b[0m, val loss \u001b[1;36m2.4947\u001b[0m\n"
      ]
     },
     "metadata": {},
     "output_type": "display_data"
    },
    {
     "data": {
      "text/html": [
       "<pre style=\"white-space:pre;overflow-x:auto;line-height:normal;font-family:Menlo,'DejaVu Sans Mono',consolas,'Courier New',monospace\">step <span style=\"color: #008080; text-decoration-color: #008080; font-weight: bold\">10600</span>: train loss <span style=\"color: #008080; text-decoration-color: #008080; font-weight: bold\">2.4631</span>, val loss <span style=\"color: #008080; text-decoration-color: #008080; font-weight: bold\">2.4898</span>\n",
       "</pre>\n"
      ],
      "text/plain": [
       "step \u001b[1;36m10600\u001b[0m: train loss \u001b[1;36m2.4631\u001b[0m, val loss \u001b[1;36m2.4898\u001b[0m\n"
      ]
     },
     "metadata": {},
     "output_type": "display_data"
    },
    {
     "data": {
      "text/html": [
       "<pre style=\"white-space:pre;overflow-x:auto;line-height:normal;font-family:Menlo,'DejaVu Sans Mono',consolas,'Courier New',monospace\">step <span style=\"color: #008080; text-decoration-color: #008080; font-weight: bold\">10800</span>: train loss <span style=\"color: #008080; text-decoration-color: #008080; font-weight: bold\">2.4664</span>, val loss <span style=\"color: #008080; text-decoration-color: #008080; font-weight: bold\">2.4968</span>\n",
       "</pre>\n"
      ],
      "text/plain": [
       "step \u001b[1;36m10800\u001b[0m: train loss \u001b[1;36m2.4664\u001b[0m, val loss \u001b[1;36m2.4968\u001b[0m\n"
      ]
     },
     "metadata": {},
     "output_type": "display_data"
    },
    {
     "data": {
      "text/html": [
       "<pre style=\"white-space:pre;overflow-x:auto;line-height:normal;font-family:Menlo,'DejaVu Sans Mono',consolas,'Courier New',monospace\">step <span style=\"color: #008080; text-decoration-color: #008080; font-weight: bold\">11000</span>: train loss <span style=\"color: #008080; text-decoration-color: #008080; font-weight: bold\">2.4681</span>, val loss <span style=\"color: #008080; text-decoration-color: #008080; font-weight: bold\">2.4820</span>\n",
       "</pre>\n"
      ],
      "text/plain": [
       "step \u001b[1;36m11000\u001b[0m: train loss \u001b[1;36m2.4681\u001b[0m, val loss \u001b[1;36m2.4820\u001b[0m\n"
      ]
     },
     "metadata": {},
     "output_type": "display_data"
    },
    {
     "data": {
      "text/html": [
       "<pre style=\"white-space:pre;overflow-x:auto;line-height:normal;font-family:Menlo,'DejaVu Sans Mono',consolas,'Courier New',monospace\">step <span style=\"color: #008080; text-decoration-color: #008080; font-weight: bold\">11200</span>: train loss <span style=\"color: #008080; text-decoration-color: #008080; font-weight: bold\">2.4754</span>, val loss <span style=\"color: #008080; text-decoration-color: #008080; font-weight: bold\">2.4809</span>\n",
       "</pre>\n"
      ],
      "text/plain": [
       "step \u001b[1;36m11200\u001b[0m: train loss \u001b[1;36m2.4754\u001b[0m, val loss \u001b[1;36m2.4809\u001b[0m\n"
      ]
     },
     "metadata": {},
     "output_type": "display_data"
    },
    {
     "data": {
      "text/html": [
       "<pre style=\"white-space:pre;overflow-x:auto;line-height:normal;font-family:Menlo,'DejaVu Sans Mono',consolas,'Courier New',monospace\">step <span style=\"color: #008080; text-decoration-color: #008080; font-weight: bold\">11400</span>: train loss <span style=\"color: #008080; text-decoration-color: #008080; font-weight: bold\">2.4684</span>, val loss <span style=\"color: #008080; text-decoration-color: #008080; font-weight: bold\">2.4855</span>\n",
       "</pre>\n"
      ],
      "text/plain": [
       "step \u001b[1;36m11400\u001b[0m: train loss \u001b[1;36m2.4684\u001b[0m, val loss \u001b[1;36m2.4855\u001b[0m\n"
      ]
     },
     "metadata": {},
     "output_type": "display_data"
    },
    {
     "data": {
      "text/html": [
       "<pre style=\"white-space:pre;overflow-x:auto;line-height:normal;font-family:Menlo,'DejaVu Sans Mono',consolas,'Courier New',monospace\">step <span style=\"color: #008080; text-decoration-color: #008080; font-weight: bold\">11600</span>: train loss <span style=\"color: #008080; text-decoration-color: #008080; font-weight: bold\">2.4640</span>, val loss <span style=\"color: #008080; text-decoration-color: #008080; font-weight: bold\">2.4909</span>\n",
       "</pre>\n"
      ],
      "text/plain": [
       "step \u001b[1;36m11600\u001b[0m: train loss \u001b[1;36m2.4640\u001b[0m, val loss \u001b[1;36m2.4909\u001b[0m\n"
      ]
     },
     "metadata": {},
     "output_type": "display_data"
    },
    {
     "data": {
      "text/html": [
       "<pre style=\"white-space:pre;overflow-x:auto;line-height:normal;font-family:Menlo,'DejaVu Sans Mono',consolas,'Courier New',monospace\">step <span style=\"color: #008080; text-decoration-color: #008080; font-weight: bold\">11800</span>: train loss <span style=\"color: #008080; text-decoration-color: #008080; font-weight: bold\">2.4655</span>, val loss <span style=\"color: #008080; text-decoration-color: #008080; font-weight: bold\">2.4867</span>\n",
       "</pre>\n"
      ],
      "text/plain": [
       "step \u001b[1;36m11800\u001b[0m: train loss \u001b[1;36m2.4655\u001b[0m, val loss \u001b[1;36m2.4867\u001b[0m\n"
      ]
     },
     "metadata": {},
     "output_type": "display_data"
    },
    {
     "data": {
      "text/html": [
       "<pre style=\"white-space:pre;overflow-x:auto;line-height:normal;font-family:Menlo,'DejaVu Sans Mono',consolas,'Courier New',monospace\">step <span style=\"color: #008080; text-decoration-color: #008080; font-weight: bold\">12000</span>: train loss <span style=\"color: #008080; text-decoration-color: #008080; font-weight: bold\">2.4649</span>, val loss <span style=\"color: #008080; text-decoration-color: #008080; font-weight: bold\">2.4837</span>\n",
       "</pre>\n"
      ],
      "text/plain": [
       "step \u001b[1;36m12000\u001b[0m: train loss \u001b[1;36m2.4649\u001b[0m, val loss \u001b[1;36m2.4837\u001b[0m\n"
      ]
     },
     "metadata": {},
     "output_type": "display_data"
    },
    {
     "data": {
      "text/html": [
       "<pre style=\"white-space:pre;overflow-x:auto;line-height:normal;font-family:Menlo,'DejaVu Sans Mono',consolas,'Courier New',monospace\">step <span style=\"color: #008080; text-decoration-color: #008080; font-weight: bold\">12200</span>: train loss <span style=\"color: #008080; text-decoration-color: #008080; font-weight: bold\">2.4674</span>, val loss <span style=\"color: #008080; text-decoration-color: #008080; font-weight: bold\">2.4936</span>\n",
       "</pre>\n"
      ],
      "text/plain": [
       "step \u001b[1;36m12200\u001b[0m: train loss \u001b[1;36m2.4674\u001b[0m, val loss \u001b[1;36m2.4936\u001b[0m\n"
      ]
     },
     "metadata": {},
     "output_type": "display_data"
    },
    {
     "data": {
      "text/html": [
       "<pre style=\"white-space:pre;overflow-x:auto;line-height:normal;font-family:Menlo,'DejaVu Sans Mono',consolas,'Courier New',monospace\">step <span style=\"color: #008080; text-decoration-color: #008080; font-weight: bold\">12400</span>: train loss <span style=\"color: #008080; text-decoration-color: #008080; font-weight: bold\">2.4700</span>, val loss <span style=\"color: #008080; text-decoration-color: #008080; font-weight: bold\">2.4965</span>\n",
       "</pre>\n"
      ],
      "text/plain": [
       "step \u001b[1;36m12400\u001b[0m: train loss \u001b[1;36m2.4700\u001b[0m, val loss \u001b[1;36m2.4965\u001b[0m\n"
      ]
     },
     "metadata": {},
     "output_type": "display_data"
    },
    {
     "data": {
      "text/html": [
       "<pre style=\"white-space:pre;overflow-x:auto;line-height:normal;font-family:Menlo,'DejaVu Sans Mono',consolas,'Courier New',monospace\">step <span style=\"color: #008080; text-decoration-color: #008080; font-weight: bold\">12600</span>: train loss <span style=\"color: #008080; text-decoration-color: #008080; font-weight: bold\">2.4615</span>, val loss <span style=\"color: #008080; text-decoration-color: #008080; font-weight: bold\">2.4810</span>\n",
       "</pre>\n"
      ],
      "text/plain": [
       "step \u001b[1;36m12600\u001b[0m: train loss \u001b[1;36m2.4615\u001b[0m, val loss \u001b[1;36m2.4810\u001b[0m\n"
      ]
     },
     "metadata": {},
     "output_type": "display_data"
    },
    {
     "data": {
      "text/html": [
       "<pre style=\"white-space:pre;overflow-x:auto;line-height:normal;font-family:Menlo,'DejaVu Sans Mono',consolas,'Courier New',monospace\">step <span style=\"color: #008080; text-decoration-color: #008080; font-weight: bold\">12800</span>: train loss <span style=\"color: #008080; text-decoration-color: #008080; font-weight: bold\">2.4672</span>, val loss <span style=\"color: #008080; text-decoration-color: #008080; font-weight: bold\">2.4865</span>\n",
       "</pre>\n"
      ],
      "text/plain": [
       "step \u001b[1;36m12800\u001b[0m: train loss \u001b[1;36m2.4672\u001b[0m, val loss \u001b[1;36m2.4865\u001b[0m\n"
      ]
     },
     "metadata": {},
     "output_type": "display_data"
    },
    {
     "data": {
      "text/html": [
       "<pre style=\"white-space:pre;overflow-x:auto;line-height:normal;font-family:Menlo,'DejaVu Sans Mono',consolas,'Courier New',monospace\">step <span style=\"color: #008080; text-decoration-color: #008080; font-weight: bold\">13000</span>: train loss <span style=\"color: #008080; text-decoration-color: #008080; font-weight: bold\">2.4693</span>, val loss <span style=\"color: #008080; text-decoration-color: #008080; font-weight: bold\">2.4926</span>\n",
       "</pre>\n"
      ],
      "text/plain": [
       "step \u001b[1;36m13000\u001b[0m: train loss \u001b[1;36m2.4693\u001b[0m, val loss \u001b[1;36m2.4926\u001b[0m\n"
      ]
     },
     "metadata": {},
     "output_type": "display_data"
    },
    {
     "data": {
      "text/html": [
       "<pre style=\"white-space:pre;overflow-x:auto;line-height:normal;font-family:Menlo,'DejaVu Sans Mono',consolas,'Courier New',monospace\">step <span style=\"color: #008080; text-decoration-color: #008080; font-weight: bold\">13200</span>: train loss <span style=\"color: #008080; text-decoration-color: #008080; font-weight: bold\">2.4640</span>, val loss <span style=\"color: #008080; text-decoration-color: #008080; font-weight: bold\">2.4859</span>\n",
       "</pre>\n"
      ],
      "text/plain": [
       "step \u001b[1;36m13200\u001b[0m: train loss \u001b[1;36m2.4640\u001b[0m, val loss \u001b[1;36m2.4859\u001b[0m\n"
      ]
     },
     "metadata": {},
     "output_type": "display_data"
    },
    {
     "data": {
      "text/html": [
       "<pre style=\"white-space:pre;overflow-x:auto;line-height:normal;font-family:Menlo,'DejaVu Sans Mono',consolas,'Courier New',monospace\">step <span style=\"color: #008080; text-decoration-color: #008080; font-weight: bold\">13400</span>: train loss <span style=\"color: #008080; text-decoration-color: #008080; font-weight: bold\">2.4692</span>, val loss <span style=\"color: #008080; text-decoration-color: #008080; font-weight: bold\">2.4818</span>\n",
       "</pre>\n"
      ],
      "text/plain": [
       "step \u001b[1;36m13400\u001b[0m: train loss \u001b[1;36m2.4692\u001b[0m, val loss \u001b[1;36m2.4818\u001b[0m\n"
      ]
     },
     "metadata": {},
     "output_type": "display_data"
    },
    {
     "data": {
      "text/html": [
       "<pre style=\"white-space:pre;overflow-x:auto;line-height:normal;font-family:Menlo,'DejaVu Sans Mono',consolas,'Courier New',monospace\">step <span style=\"color: #008080; text-decoration-color: #008080; font-weight: bold\">13600</span>: train loss <span style=\"color: #008080; text-decoration-color: #008080; font-weight: bold\">2.4644</span>, val loss <span style=\"color: #008080; text-decoration-color: #008080; font-weight: bold\">2.4900</span>\n",
       "</pre>\n"
      ],
      "text/plain": [
       "step \u001b[1;36m13600\u001b[0m: train loss \u001b[1;36m2.4644\u001b[0m, val loss \u001b[1;36m2.4900\u001b[0m\n"
      ]
     },
     "metadata": {},
     "output_type": "display_data"
    },
    {
     "data": {
      "text/html": [
       "<pre style=\"white-space:pre;overflow-x:auto;line-height:normal;font-family:Menlo,'DejaVu Sans Mono',consolas,'Courier New',monospace\">step <span style=\"color: #008080; text-decoration-color: #008080; font-weight: bold\">13800</span>: train loss <span style=\"color: #008080; text-decoration-color: #008080; font-weight: bold\">2.4669</span>, val loss <span style=\"color: #008080; text-decoration-color: #008080; font-weight: bold\">2.4838</span>\n",
       "</pre>\n"
      ],
      "text/plain": [
       "step \u001b[1;36m13800\u001b[0m: train loss \u001b[1;36m2.4669\u001b[0m, val loss \u001b[1;36m2.4838\u001b[0m\n"
      ]
     },
     "metadata": {},
     "output_type": "display_data"
    },
    {
     "data": {
      "text/html": [
       "<pre style=\"white-space:pre;overflow-x:auto;line-height:normal;font-family:Menlo,'DejaVu Sans Mono',consolas,'Courier New',monospace\">step <span style=\"color: #008080; text-decoration-color: #008080; font-weight: bold\">14000</span>: train loss <span style=\"color: #008080; text-decoration-color: #008080; font-weight: bold\">2.4678</span>, val loss <span style=\"color: #008080; text-decoration-color: #008080; font-weight: bold\">2.4784</span>\n",
       "</pre>\n"
      ],
      "text/plain": [
       "step \u001b[1;36m14000\u001b[0m: train loss \u001b[1;36m2.4678\u001b[0m, val loss \u001b[1;36m2.4784\u001b[0m\n"
      ]
     },
     "metadata": {},
     "output_type": "display_data"
    },
    {
     "data": {
      "text/html": [
       "<pre style=\"white-space:pre;overflow-x:auto;line-height:normal;font-family:Menlo,'DejaVu Sans Mono',consolas,'Courier New',monospace\">step <span style=\"color: #008080; text-decoration-color: #008080; font-weight: bold\">14200</span>: train loss <span style=\"color: #008080; text-decoration-color: #008080; font-weight: bold\">2.4632</span>, val loss <span style=\"color: #008080; text-decoration-color: #008080; font-weight: bold\">2.4902</span>\n",
       "</pre>\n"
      ],
      "text/plain": [
       "step \u001b[1;36m14200\u001b[0m: train loss \u001b[1;36m2.4632\u001b[0m, val loss \u001b[1;36m2.4902\u001b[0m\n"
      ]
     },
     "metadata": {},
     "output_type": "display_data"
    },
    {
     "data": {
      "text/html": [
       "<pre style=\"white-space:pre;overflow-x:auto;line-height:normal;font-family:Menlo,'DejaVu Sans Mono',consolas,'Courier New',monospace\">step <span style=\"color: #008080; text-decoration-color: #008080; font-weight: bold\">14400</span>: train loss <span style=\"color: #008080; text-decoration-color: #008080; font-weight: bold\">2.4604</span>, val loss <span style=\"color: #008080; text-decoration-color: #008080; font-weight: bold\">2.4828</span>\n",
       "</pre>\n"
      ],
      "text/plain": [
       "step \u001b[1;36m14400\u001b[0m: train loss \u001b[1;36m2.4604\u001b[0m, val loss \u001b[1;36m2.4828\u001b[0m\n"
      ]
     },
     "metadata": {},
     "output_type": "display_data"
    },
    {
     "data": {
      "text/html": [
       "<pre style=\"white-space:pre;overflow-x:auto;line-height:normal;font-family:Menlo,'DejaVu Sans Mono',consolas,'Courier New',monospace\">step <span style=\"color: #008080; text-decoration-color: #008080; font-weight: bold\">14600</span>: train loss <span style=\"color: #008080; text-decoration-color: #008080; font-weight: bold\">2.4725</span>, val loss <span style=\"color: #008080; text-decoration-color: #008080; font-weight: bold\">2.4929</span>\n",
       "</pre>\n"
      ],
      "text/plain": [
       "step \u001b[1;36m14600\u001b[0m: train loss \u001b[1;36m2.4725\u001b[0m, val loss \u001b[1;36m2.4929\u001b[0m\n"
      ]
     },
     "metadata": {},
     "output_type": "display_data"
    },
    {
     "data": {
      "text/html": [
       "<pre style=\"white-space:pre;overflow-x:auto;line-height:normal;font-family:Menlo,'DejaVu Sans Mono',consolas,'Courier New',monospace\">step <span style=\"color: #008080; text-decoration-color: #008080; font-weight: bold\">14800</span>: train loss <span style=\"color: #008080; text-decoration-color: #008080; font-weight: bold\">2.4653</span>, val loss <span style=\"color: #008080; text-decoration-color: #008080; font-weight: bold\">2.4899</span>\n",
       "</pre>\n"
      ],
      "text/plain": [
       "step \u001b[1;36m14800\u001b[0m: train loss \u001b[1;36m2.4653\u001b[0m, val loss \u001b[1;36m2.4899\u001b[0m\n"
      ]
     },
     "metadata": {},
     "output_type": "display_data"
    },
    {
     "data": {
      "text/html": [
       "<pre style=\"white-space:pre;overflow-x:auto;line-height:normal;font-family:Menlo,'DejaVu Sans Mono',consolas,'Courier New',monospace\"><span style=\"color: #008080; text-decoration-color: #008080; font-weight: bold\">2.4547626972198486</span>\n",
       "</pre>\n"
      ],
      "text/plain": [
       "\u001b[1;36m2.4547626972198486\u001b[0m\n"
      ]
     },
     "metadata": {},
     "output_type": "display_data"
    }
   ],
   "source": [
    "train(model, 15_000)"
   ]
  },
  {
   "cell_type": "markdown",
   "id": "56822599",
   "metadata": {},
   "source": [
    "## Positional Encoding"
   ]
  },
  {
   "cell_type": "code",
   "execution_count": null,
   "id": "3730ed21",
   "metadata": {},
   "outputs": [],
   "source": [
    "class BigramLanguageModel(nn.Module):\n",
    "    \n",
    "    def __init__(self):\n",
    "        super().__init__()\n",
    "        # each token directly reads off the logit for the next token from a lookup table\n",
    "        self.token_embedding_table = nn.Embedding(vocab_size, n_embd)\n",
    "        self.position_embedding_table = nn.Embedding(block_size, n_embd)\n",
    "        self.lm_head = nn.Linear(n_embd, vocab_size)\n",
    "    \n",
    "    def forward(self, idx, target=None):\n",
    "        B, T, C = idx.shape\n",
    "        \n",
    "        # idx and targets are both (B, T) tenspr of integers\n",
    "        tok_emb = self.token_embedding_table(idx) # (B, T, C)\n",
    "        pos_emb = self.position_embedding_table(torch.arange(T, device=device)) # (T, C) <-- Positional Embedding\n",
    "        x = tok_emb + pos_embd # (B, T, C) <--- Adding the Positional Embedding to Token Embedding\n",
    "        logits = self.lm_head(x) # (B, T, vocab_size)\n",
    "        \n",
    "        if targets is None:\n",
    "            loss = None\n",
    "        else:\n",
    "            B, T, C = logits.shape\n",
    "            logits = logits.view(B * T, C)\n",
    "            targets = targets.view(B * T)\n",
    "            loss = F.cross_entropy(logits, targets)\n",
    "        \n",
    "        return logits, loss\n",
    "    \n",
    "    def generate(self, idx, max_new_tokens):\n",
    "        # idx is (B, T) array of indices in current context\n",
    "        for _ in range(max_new_tokens):\n",
    "            # get the predictions\n",
    "            logits, loss = self(idx)\n",
    "            # focus only on the last time step\n",
    "            logits = logits[:,  -1, :] # becomes (B, C)\n",
    "            # apply softmax to get probabilities\n",
    "            probs = F.softmax(logits, dim=-1) # (B, C)\n",
    "            # sample from the distribution\n",
    "            idx_next = torch.multinomial(probs, num_samples=1) # (B, 1)\n",
    "            # append sampled index to the running sequence\n",
    "            idx = torch.cat((idx, idx_next), dim=1) # (B, T+1)\n",
    "        return idx"
   ]
  },
  {
   "cell_type": "markdown",
   "id": "5aad1982",
   "metadata": {},
   "source": [
    "## Version 4\n",
    "> Self Attention"
   ]
  },
  {
   "cell_type": "code",
   "execution_count": null,
   "id": "9eb907c4",
   "metadata": {},
   "outputs": [
    {
     "data": {
      "text/plain": [
       "torch.Size([4, 8, 32])"
      ]
     },
     "execution_count": null,
     "metadata": {},
     "output_type": "execute_result"
    }
   ],
   "source": [
    "B, T, C = 4, 8, 32 # batch, time, channels\n",
    "x = torch.randn(B, T, C)\n",
    "\n",
    "tril = torch.tril(torch.ones(T, T))\n",
    "wei = torch.zeros((T, T))\n",
    "wei = wei.masked_fill(tril == 0, float('-inf'))\n",
    "wei = F.softmax(wei, dim=-1)\n",
    "out = wei @ x\n",
    "\n",
    "out.shape"
   ]
  },
  {
   "cell_type": "code",
   "execution_count": null,
   "id": "ded0b552",
   "metadata": {},
   "outputs": [
    {
     "data": {
      "text/plain": [
       "torch.Size([4, 8, 32])"
      ]
     },
     "execution_count": null,
     "metadata": {},
     "output_type": "execute_result"
    }
   ],
   "source": [
    "B, T, C = 4, 8, 32 # batch, time, channels\n",
    "x = torch.randn(B, T, C)\n",
    "\n",
    "# lets see a single Head perform self attention\n",
    "head_size = 16\n",
    "key = nn.Linear(C, head_size, bias=False)\n",
    "query = nn.Linear(C, head_size, bias=False)\n",
    "\n",
    "k = key(x) # (B, T, 16)\n",
    "q = query(x) # (B, T, 16)\n",
    "wei = q @ k.transpose(-2, -1) # (B, T, 16) @ (B, 16, T) --> (B, T, T)\n",
    "\n",
    "tril = torch.tril((torch.ones(T, T)))\n",
    "# wei = torch.zeros((T, T))\n",
    "wei = wei.masked_fill(tril == 0, float('-inf'))\n",
    "wei = F.softmax(wei, dim=-1)\n",
    "out = wei @ x\n",
    "\n",
    "out.shape"
   ]
  },
  {
   "cell_type": "code",
   "execution_count": null,
   "id": "1847e75c",
   "metadata": {},
   "outputs": [
    {
     "data": {
      "text/plain": [
       "tensor([[1.0000, 0.0000, 0.0000, 0.0000, 0.0000, 0.0000, 0.0000, 0.0000],\n",
       "        [0.5553, 0.4447, 0.0000, 0.0000, 0.0000, 0.0000, 0.0000, 0.0000],\n",
       "        [0.0024, 0.9931, 0.0045, 0.0000, 0.0000, 0.0000, 0.0000, 0.0000],\n",
       "        [0.3056, 0.0135, 0.5681, 0.1128, 0.0000, 0.0000, 0.0000, 0.0000],\n",
       "        [0.1010, 0.6721, 0.0109, 0.0859, 0.1300, 0.0000, 0.0000, 0.0000],\n",
       "        [0.1368, 0.0013, 0.0382, 0.0324, 0.0061, 0.7852, 0.0000, 0.0000],\n",
       "        [0.0440, 0.1134, 0.0289, 0.1427, 0.5070, 0.0722, 0.0917, 0.0000],\n",
       "        [0.0259, 0.4333, 0.0183, 0.2266, 0.0400, 0.1100, 0.1283, 0.0176]],\n",
       "       grad_fn=<SelectBackward0>)"
      ]
     },
     "execution_count": null,
     "metadata": {},
     "output_type": "execute_result"
    }
   ],
   "source": [
    "wei[0]"
   ]
  },
  {
   "cell_type": "code",
   "execution_count": null,
   "id": "796624de",
   "metadata": {},
   "outputs": [
    {
     "data": {
      "text/plain": [
       "torch.Size([4, 8, 32])"
      ]
     },
     "execution_count": null,
     "metadata": {},
     "output_type": "execute_result"
    }
   ],
   "source": [
    "B, T, C = 4, 8, 32 # batch, time, channels\n",
    "x = torch.randn(B, T, C)\n",
    "\n",
    "# lets see a single Head perform self attention\n",
    "head_size = 16\n",
    "key = nn.Linear(C, head_size, bias=False)\n",
    "query = nn.Linear(C, head_size, bias=False)\n",
    "value = nn.Linear(C, head_size, bias=False)\n",
    "\n",
    "k = key(x) # (B, T, 16)\n",
    "q = query(x) # (B, T, 16)\n",
    "wei = q @ k.transpose(-2, -1) # (B, T, 16) @ (B, 16, T) --> (B, T, T)\n",
    "\n",
    "tril = torch.tril((torch.ones(T, T)))\n",
    "# wei = torch.zeros((T, T))\n",
    "wei = wei.masked_fill(tril == 0, float('-inf'))\n",
    "wei = F.softmax(wei, dim=-1)\n",
    "out = wei @ x\n",
    "\n",
    "v = value(x)\n",
    "out = wei @ x\n",
    "\n",
    "out.shape"
   ]
  },
  {
   "cell_type": "markdown",
   "id": "ef29885f",
   "metadata": {},
   "source": [
    "## Scaled Self Attention\n",
    "> Why divide by sqrt(head_size)?"
   ]
  },
  {
   "cell_type": "code",
   "execution_count": null,
   "id": "1c22e0b2",
   "metadata": {},
   "outputs": [],
   "source": [
    "k = torch.randn(B, T, head_size)\n",
    "q = torch.randn(B, T, head_size)\n",
    "wei = q @ k.transpose(-2, -1) * head_size ** -0.5"
   ]
  },
  {
   "cell_type": "code",
   "execution_count": null,
   "id": "91fca726",
   "metadata": {},
   "outputs": [
    {
     "data": {
      "text/plain": [
       "(tensor(1.1065), tensor(1.1194), tensor(1.2355))"
      ]
     },
     "execution_count": null,
     "metadata": {},
     "output_type": "execute_result"
    }
   ],
   "source": [
    "k.var(), q.var(), wei.var()"
   ]
  },
  {
   "cell_type": "code",
   "execution_count": null,
   "id": "b224b258",
   "metadata": {},
   "outputs": [
    {
     "data": {
      "text/plain": [
       "tensor([0.1925, 0.1426, 0.2351, 0.1426, 0.2872])"
      ]
     },
     "execution_count": null,
     "metadata": {},
     "output_type": "execute_result"
    }
   ],
   "source": [
    "torch.softmax(torch.tensor([0.1, -0.2, 0.3, -0.2, 0.5]), dim=-1)"
   ]
  },
  {
   "cell_type": "code",
   "execution_count": null,
   "id": "da80124f",
   "metadata": {},
   "outputs": [
    {
     "data": {
      "text/plain": [
       "tensor([0.0326, 0.0030, 0.1615, 0.0030, 0.8000])"
      ]
     },
     "execution_count": null,
     "metadata": {},
     "output_type": "execute_result"
    }
   ],
   "source": [
    "torch.softmax(torch.tensor([0.1, -0.2, 0.3, -0.2, 0.5]) * 8, dim=-1)"
   ]
  },
  {
   "cell_type": "code",
   "execution_count": null,
   "id": "fa09498e",
   "metadata": {},
   "outputs": [],
   "source": []
  }
 ],
 "metadata": {
  "kernelspec": {
   "display_name": "zhnn",
   "language": "python",
   "name": "zhnn"
  }
 },
 "nbformat": 4,
 "nbformat_minor": 5
}
