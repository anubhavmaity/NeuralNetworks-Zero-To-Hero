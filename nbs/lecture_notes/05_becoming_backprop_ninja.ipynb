{
 "cells": [
  {
   "cell_type": "markdown",
   "id": "dda838cc",
   "metadata": {},
   "source": [
    "# Lesson 5: Becoming a Backprop Ninja"
   ]
  },
  {
   "cell_type": "markdown",
   "id": "b4130fd4",
   "metadata": {},
   "source": [
    "swole doge style"
   ]
  },
  {
   "cell_type": "markdown",
   "id": "e4d0b02f",
   "metadata": {},
   "source": [
    "## Starter code"
   ]
  },
  {
   "cell_type": "markdown",
   "id": "23211e50",
   "metadata": {},
   "source": [
    "### Bolierplate"
   ]
  },
  {
   "cell_type": "markdown",
   "id": "50590912",
   "metadata": {},
   "source": [
    "#### Imports "
   ]
  },
  {
   "cell_type": "code",
   "execution_count": 8,
   "id": "f58e9f8a",
   "metadata": {},
   "outputs": [],
   "source": [
    "import random\n",
    "import numpy\n",
    "import torch\n",
    "import torch.nn.functional as F\n",
    "import matplotlib.pyplot as plt\n",
    "%matplotlib inline"
   ]
  },
  {
   "cell_type": "markdown",
   "id": "de7a896a",
   "metadata": {},
   "source": [
    "#### Read in all the words"
   ]
  },
  {
   "cell_type": "code",
   "execution_count": 5,
   "id": "9203d6d6",
   "metadata": {},
   "outputs": [
    {
     "name": "stdout",
     "output_type": "stream",
     "text": [
      "32033\n",
      "15\n",
      "['emma', 'olivia', 'ava', 'isabella', 'sophia', 'charlotte', 'mia', 'amelia']\n"
     ]
    }
   ],
   "source": [
    "words = open('../data/names.txt', 'r').read().splitlines()\n",
    "print(len(words))\n",
    "print(max(len(w) for w in words))\n",
    "print(words[:8])"
   ]
  },
  {
   "cell_type": "markdown",
   "id": "1f304d09",
   "metadata": {},
   "source": [
    "#### Build the vocabulary of characters and mappings to/from integers"
   ]
  },
  {
   "cell_type": "code",
   "execution_count": 6,
   "id": "5e8e4d9c",
   "metadata": {},
   "outputs": [
    {
     "name": "stdout",
     "output_type": "stream",
     "text": [
      "{1: 'a', 2: 'b', 3: 'c', 4: 'd', 5: 'e', 6: 'f', 7: 'g', 8: 'h', 9: 'i', 10: 'j', 11: 'k', 12: 'l', 13: 'm', 14: 'n', 15: 'o', 16: 'p', 17: 'q', 18: 'r', 19: 's', 20: 't', 21: 'u', 22: 'v', 23: 'w', 24: 'x', 25: 'y', 26: 'z', 0: '.'}\n",
      "27\n"
     ]
    }
   ],
   "source": [
    "chars = sorted(list(set(''.join(words))))\n",
    "stoi = {s: i+1 for i, s in enumerate(chars)}\n",
    "stoi['.'] = 0\n",
    "itos = {i:s for s, i in stoi.items()}\n",
    "vocab_size = len(itos)\n",
    "print(itos)\n",
    "print(vocab_size)"
   ]
  },
  {
   "cell_type": "markdown",
   "id": "e96da4e5",
   "metadata": {},
   "source": [
    "#### Build the dataset"
   ]
  },
  {
   "cell_type": "code",
   "execution_count": 7,
   "id": "5fa67287",
   "metadata": {},
   "outputs": [],
   "source": [
    "block_size = 3 # context length: how many characters do we take to predict the next one?\n",
    "\n",
    "def build_dataset(words):\n",
    "    X, Y = [], []\n",
    "    \n",
    "    for w in words:\n",
    "        context = [0] * block_size\n",
    "        for ch in w + '.':\n",
    "            ix = stoi[ch]\n",
    "            X.append(context)\n",
    "            Y.append(ix)\n",
    "            context = context[1:] + [ix] # crop and append\n",
    "    \n",
    "    X = torch.tensor(X)\n",
    "    Y = torch.tensor(Y)\n",
    "    print(X.shape, Y.shape)\n",
    "    return X, Y"
   ]
  },
  {
   "cell_type": "code",
   "execution_count": 9,
   "id": "65b8bad6",
   "metadata": {},
   "outputs": [
    {
     "name": "stdout",
     "output_type": "stream",
     "text": [
      "torch.Size([182481, 3]) torch.Size([182481])\n",
      "torch.Size([22849, 3]) torch.Size([22849])\n",
      "torch.Size([22816, 3]) torch.Size([22816])\n"
     ]
    }
   ],
   "source": [
    "random.seed(2)\n",
    "random.shuffle(words)\n",
    "n1 = int(0.8 * len(words))\n",
    "n2 = int(0.9 * len(words))\n",
    "\n",
    "Xtr, Ytr = build_dataset(words[:n1]) # 80%\n",
    "Xdev, Ydev = build_dataset(words[n1: n2]) # 10%\n",
    "Xte, Yte = build_dataset(words[n2:]) # 10%"
   ]
  },
  {
   "cell_type": "markdown",
   "id": "ddca1dcf",
   "metadata": {},
   "source": [
    "ok boiler done, now get to the action"
   ]
  },
  {
   "cell_type": "markdown",
   "id": "e4d2c185",
   "metadata": {},
   "source": [
    "### Lets get started"
   ]
  },
  {
   "cell_type": "markdown",
   "id": "2dca935e",
   "metadata": {},
   "source": [
    "#### Utility function \n",
    "> To compare manual gradients to PyTorch gradients"
   ]
  },
  {
   "cell_type": "code",
   "execution_count": 24,
   "id": "9b0e81c0",
   "metadata": {},
   "outputs": [],
   "source": [
    "def cmp(s, dt, t):\n",
    "    ex = torch.all(dt == t.grad).item()\n",
    "    app = torch.allclose(dt, t.grad)\n",
    "    maxdiff = (dt - t.grad).abs().max().item()\n",
    "    print(f'{s:15s} | exact: {str(ex):5s} | approximate: {str(app):5s} | maxdiff: {maxdiff}')"
   ]
  },
  {
   "cell_type": "markdown",
   "id": "fc2f4d39",
   "metadata": {},
   "source": [
    "#### Initialize the layers"
   ]
  },
  {
   "cell_type": "code",
   "execution_count": 12,
   "id": "7b1e2d13",
   "metadata": {},
   "outputs": [
    {
     "name": "stdout",
     "output_type": "stream",
     "text": [
      "4137\n"
     ]
    }
   ],
   "source": [
    "n_embd = 10 # the dimensionality for the character embedding vectors\n",
    "n_hidden = 64 # the number of neurons in the hidden layer of the MLP\n",
    "\n",
    "g = torch.Generator().manual_seed(2147483647)\n",
    "C = torch.randn((vocab_size, n_embd),             generator = g)\n",
    "\n",
    "# Layer 1\n",
    "W1 = torch.randn((n_embd * block_size, n_hidden), generator=g) * (5/3)/((n_embd * block_size) ** 0.5)\n",
    "b1 = torch.randn(n_hidden,                        generator=g) * 0.1 \n",
    "# using b1 just for fun, it's useless because of batchnorm\n",
    "\n",
    "# Layer 2\n",
    "W2 = torch.randn((n_hidden, vocab_size),          generator=g) * 0.1\n",
    "b2 = torch.randn(vocab_size,                      generator=g) * 0.1\n",
    "\n",
    "# BatchNorm parameters\n",
    "bngain = torch.randn((1, n_hidden)) * 0.1 + 1.0\n",
    "bnbias = torch.randn((1, n_hidden)) * 0.1\n",
    "\n",
    "# Note: The parameters here are initialized in non-standard ways\n",
    "# because sometimes initializing with e.g. all zeros could mask an incorrect\n",
    "# implementation of the backward pass\n",
    "\n",
    "parameters = [C, W1, b1, W2, b2, bngain, bnbias]\n",
    "print(sum(p.nelement() for p in parameters))\n",
    "for p in parameters:\n",
    "    p.requires_grad =True"
   ]
  },
  {
   "cell_type": "markdown",
   "id": "17000af0",
   "metadata": {},
   "source": [
    "#### Construct a minibatch"
   ]
  },
  {
   "cell_type": "code",
   "execution_count": 17,
   "id": "5168340c",
   "metadata": {},
   "outputs": [],
   "source": [
    "bs = 32; n = bs\n",
    "# construct a minibatch\n",
    "ix = torch.randint(0, Xtr.shape[0], (bs,) , generator = g)\n",
    "Xb, Yb = Xtr[ix], Ytr[ix] # batch X, Y"
   ]
  },
  {
   "cell_type": "markdown",
   "id": "8e9babe3",
   "metadata": {},
   "source": [
    "#### An Epoch"
   ]
  },
  {
   "cell_type": "markdown",
   "id": "ed9be64b",
   "metadata": {},
   "source": [
    "##### Forward Pass"
   ]
  },
  {
   "cell_type": "code",
   "execution_count": 19,
   "id": "04fdbdca",
   "metadata": {},
   "outputs": [
    {
     "data": {
      "text/plain": [
       "tensor(3.4556, grad_fn=<NegBackward0>)"
      ]
     },
     "execution_count": 19,
     "metadata": {},
     "output_type": "execute_result"
    }
   ],
   "source": [
    "emb = C[Xb] # embed the characters into vectors\n",
    "embcat = emb.view(emb.shape[0], -1) # concatenate the vectors\n",
    "\n",
    "# Linear layer 1\n",
    "hprebn = embcat @ W1 + b1\n",
    "\n",
    "# Batchnorm layer\n",
    "bnmeani = 1/n * hprebn.sum(0, keepdim=True)\n",
    "bndiff = hprebn - bnmeani\n",
    "bndiff2 = bndiff ** 2\n",
    "bnvar = 1/(n - 1) * (bndiff2).sum(0, keepdim=True) # note: bessel's correction (dividing by n - 1, not n)\n",
    "bnvar_inv = (bnvar + 1e-5) ** -0.5\n",
    "bnraw = bndiff * bnvar_inv\n",
    "hpreact = bngain * bnraw + bnbias\n",
    "\n",
    "# Non linearity\n",
    "h = torch.tanh(hpreact)\n",
    "\n",
    "# Linear layer 2\n",
    "logits = h @ W2 + b2 # output layer\n",
    "\n",
    "# cross entropy loss ( same as F.cross_entropy(logits, Yb) )\n",
    "logit_maxes = logits.max(1, keepdim = True).values\n",
    "norm_logits = logits - logit_maxes # subtract max for numerical stability\n",
    "counts = norm_logits.exp()\n",
    "counts_sum = counts.sum(1, keepdims=True)\n",
    "counts_sum_inv = counts_sum ** -1 # if I use (1.0 / counts_sum ) instead then I can't get backprop to be bit exact...\n",
    "probs = counts * counts_sum_inv\n",
    "logprobs = probs.log()\n",
    "loss = -logprobs[range(n), Yb].mean()\n",
    "\n",
    "# PyTorch backward pass\n",
    "for p in parameters: p.grad = None\n",
    "\n",
    "for t in [logprobs, probs, counts, counts_sum, counts_sum_inv, # afaik there is no clear way\n",
    "          norm_logits, logit_maxes, logits, h, hpreact, bnraw,\n",
    "          bnvar_inv, bnvar, bndiff2, bndiff, hprebn, bnmeani,\n",
    "          embcat, emb]:\n",
    "    t.retain_grad()\n",
    "loss.backward()\n",
    "loss"
   ]
  },
  {
   "cell_type": "markdown",
   "id": "e1323278",
   "metadata": {},
   "source": [
    "## Exercise 1: \n",
    "> backprop through the whole thing manually, backpropagating through exactly all of the variables as they are defined in the forward pass above, one by one"
   ]
  },
  {
   "cell_type": "code",
   "execution_count": 29,
   "id": "58ba2264",
   "metadata": {},
   "outputs": [
    {
     "name": "stdout",
     "output_type": "stream",
     "text": [
      "logprobs        | exact: False | approximate: False | maxdiff: 145.5667724609375\n"
     ]
    }
   ],
   "source": [
    "dlogprobs = - (1/probs) \n",
    "\n",
    "\n",
    "\n",
    "cmp('logprobs', dlogprobs, logprobs)\n",
    "# cmp('probs', dprobs, probs)\n",
    "# cmp('counts_sum_inv', dcounts_sum_inv, counts_sum_inv)\n",
    "# cmp('counts_sum', dcounts_sum, counts_sum)\n",
    "# cmp('counts', dcounts, counts)\n",
    "# cmp('norm_logits', dnorm_logits, norm_logits)\n",
    "# cmp('logit_maxes', dlogit_maxes, logit_maxes)\n",
    "# cmp('logits', dlogits, logits)\n",
    "# cmp('h', dh, h)\n",
    "# cmp('W2', dW2, W2)\n",
    "# cmp('b2', db2, b2)\n",
    "# cmp('hpreact', dhpreact, hpreact)\n",
    "# cmp('bngain', dbngain, bngain)\n",
    "# cmp('bnbias', dbnbias, bnbias)\n",
    "# cmp('bnraw', dbnraw, bnraw)\n",
    "# cmp('bnvar_inv', dbnvar_inv, bnvar_inv)\n",
    "# cmp('bnvar', dbnvar, bnvar)\n",
    "# cmp('bndiff2', dbndiff2, bndiff2)\n",
    "# cmp('bndiff', dbndiff, bndiff)\n",
    "# cmp('bnmeani', dbnmeani, bnmeani)\n",
    "# cmp('hprebn', dhprebn, hprebn)\n",
    "# cmp('embcat', dembcat, embcat)\n",
    "# cmp('W1', dW1, W1)\n",
    "# cmp('b1', db1, b1)\n",
    "# cmp('emb', demb, emb)\n",
    "# cmp('C', dC, C)"
   ]
  },
  {
   "cell_type": "code",
   "execution_count": 30,
   "id": "29a9a268",
   "metadata": {},
   "outputs": [
    {
     "data": {
      "text/plain": [
       "tensor([[ -31.1133,  -13.4532,  -47.4160,  -40.7703,  -36.6133,  -27.9179,\n",
       "          -40.0670,  -60.1395,  -23.5788,  -11.3386,  -17.8141,  -39.8392,\n",
       "          -22.5602,  -60.4676,  -16.7087,  -42.7999,  -41.9731,  -33.2303,\n",
       "          -48.3988, -123.8163,  -16.5582,  -45.8121,  -54.0755,  -12.5314,\n",
       "          -24.9960,  -24.4691,  -23.1321],\n",
       "        [ -47.0332,  -73.3595,  -24.8303,  -76.7836,  -20.4389,  -68.3437,\n",
       "          -15.0105,  -23.0161,  -24.8054,  -21.9941,  -51.5137,  -30.1512,\n",
       "          -28.2695,  -29.4785,  -63.2905,  -18.9784,  -13.5302,  -25.8789,\n",
       "          -24.4975,  -39.1573,  -21.6619,  -29.3944,   -8.9419,  -82.3234,\n",
       "          -39.7701,  -41.5000,  -33.6455],\n",
       "        [ -31.5367,  -20.1448,  -69.3267,  -33.2175,  -77.0634,  -13.7382,\n",
       "          -16.0883,  -34.2352,  -20.1742,  -16.5840,  -26.5210,  -47.6544,\n",
       "          -16.3775,  -74.0734,  -37.1402,  -53.7770,  -37.3270,  -29.9910,\n",
       "          -77.5975,  -35.1097,  -34.2554,  -36.7461,  -44.5485,  -11.3120,\n",
       "          -15.4039,  -32.7210,  -22.6692],\n",
       "        [ -25.4714,  -40.1161,  -54.4693,  -37.2146,  -38.9356,  -18.8855,\n",
       "          -13.1352,  -28.6558,  -20.8972,  -25.9154,  -36.7913,  -20.9944,\n",
       "          -16.3743,  -26.6115,  -30.6422,  -54.9747,  -37.0110,  -54.9987,\n",
       "          -24.0174,  -44.5681,  -35.2269,  -34.7007,  -14.6602,  -34.2440,\n",
       "          -22.2252,  -16.8178,  -45.7787],\n",
       "        [ -41.9637, -104.4201,  -35.9019,  -32.3502,  -25.7897,  -13.2884,\n",
       "          -79.4699,  -77.2109,  -17.0853,  -24.1443,  -76.1760,  -92.2910,\n",
       "          -28.1964,  -22.6917,  -11.7691,   -9.7421,  -42.0191,  -24.6269,\n",
       "          -20.2877,  -35.3823,  -14.2950, -145.5668,  -87.3175,  -50.0526,\n",
       "          -34.6369,  -30.1825,  -15.3876],\n",
       "        [ -47.0332,  -73.3595,  -24.8303,  -76.7836,  -20.4389,  -68.3437,\n",
       "          -15.0105,  -23.0161,  -24.8054,  -21.9941,  -51.5137,  -30.1512,\n",
       "          -28.2695,  -29.4785,  -63.2905,  -18.9784,  -13.5302,  -25.8789,\n",
       "          -24.4975,  -39.1573,  -21.6619,  -29.3944,   -8.9419,  -82.3234,\n",
       "          -39.7701,  -41.5000,  -33.6455],\n",
       "        [ -35.2613,  -63.3977,  -27.2653,  -65.2383,  -17.4474,  -73.8807,\n",
       "          -11.8763,  -20.5583,  -21.7880,  -28.7882,  -48.4523,  -20.4676,\n",
       "          -35.6614,  -20.3266,  -57.4255,  -22.0195,  -19.5118,  -37.7468,\n",
       "          -30.2164,  -16.8086,  -25.3611,  -24.1433,  -15.1652,  -72.4400,\n",
       "          -35.0377,  -36.8475,  -42.7981],\n",
       "        [ -64.0153,  -30.8042,  -26.1420,  -13.4642,  -32.6591,  -22.4909,\n",
       "          -34.0697,  -25.4488,  -44.7535,  -63.5963,  -52.4774,  -56.3996,\n",
       "          -33.0389,  -12.9837,  -44.0697,  -25.9125,  -28.7875,  -22.3650,\n",
       "          -20.9626,   -7.7979,  -24.0122,  -83.3914,  -44.2414,  -31.2004,\n",
       "          -22.6151,  -36.5003,  -59.0381],\n",
       "        [ -19.7411,  -25.6147,  -53.4393,  -12.0643,  -71.0106,  -11.5009,\n",
       "          -24.4300,  -26.2057,  -38.6068,  -24.9840,  -37.5153,  -44.3455,\n",
       "          -24.8350,  -71.9723,  -96.1013,  -84.9077,  -28.2941,  -39.8474,\n",
       "          -76.6196,  -18.8714,  -35.6463,  -16.8216,  -45.4060,  -12.7523,\n",
       "          -13.4140,  -38.0257,  -45.8059],\n",
       "        [ -15.8685,  -16.9893,  -46.6318,  -37.3494,  -59.4567,  -25.1181,\n",
       "          -25.6486,  -15.0048,  -29.9579,  -47.4525,  -21.8295,  -37.4716,\n",
       "          -35.8326,  -67.3377,  -48.7621,  -61.5407,  -53.5928,  -28.4425,\n",
       "          -46.5703,  -13.2756,  -30.5295,  -11.5114,  -24.9502,  -20.9445,\n",
       "          -21.5579,  -41.4802,  -30.6642],\n",
       "        [ -23.0625,  -67.7719,  -25.3278,  -29.2919,  -17.6148,  -39.2517,\n",
       "          -64.1011,  -20.2669,  -36.8575,  -50.8911,  -21.5130,  -50.9197,\n",
       "          -18.9749,  -36.0670,  -16.3838,   -9.1368,  -66.7346,  -39.7831,\n",
       "          -62.9470,  -16.0988,  -32.3875,  -29.9011,  -35.4372,  -37.5712,\n",
       "          -50.8278,  -27.6784,  -15.5819],\n",
       "        [ -48.0343,  -78.9006,  -19.4130,  -18.8617,  -16.3322,  -38.2722,\n",
       "          -39.5154,  -43.5405,  -35.4466,  -59.2846,  -48.2072,  -83.4056,\n",
       "          -26.4137,  -12.1783,  -13.7077,  -11.5783,  -48.2799,  -34.3389,\n",
       "          -64.9599,  -10.4115,  -18.1664, -123.7186, -100.8018,  -33.6965,\n",
       "          -58.0791,  -43.0504,  -15.4339],\n",
       "        [ -47.0332,  -73.3595,  -24.8303,  -76.7836,  -20.4389,  -68.3437,\n",
       "          -15.0105,  -23.0161,  -24.8054,  -21.9941,  -51.5137,  -30.1512,\n",
       "          -28.2695,  -29.4785,  -63.2905,  -18.9784,  -13.5302,  -25.8789,\n",
       "          -24.4975,  -39.1573,  -21.6619,  -29.3944,   -8.9419,  -82.3234,\n",
       "          -39.7701,  -41.5000,  -33.6455],\n",
       "        [ -41.3437,  -32.0796,  -26.3702,  -62.0561,  -23.3336,  -30.6879,\n",
       "          -35.8639,  -44.9203,  -31.1758,  -21.5649,  -40.2883,  -36.9289,\n",
       "          -19.4596,  -24.8098,  -16.2847,  -16.3163,  -38.6804,  -27.7936,\n",
       "          -30.2591,  -73.8964,   -8.5404,  -76.7814,  -32.7633,  -33.3697,\n",
       "          -35.9262,  -23.2624,  -19.8262],\n",
       "        [ -28.5479,  -31.0500,  -59.7645,  -44.7854,  -35.2911,  -29.0210,\n",
       "          -14.9475,  -12.7096,  -41.6772,  -40.4340,  -24.6519,  -44.8442,\n",
       "          -33.1256,  -32.0254,  -61.8406,  -45.0811,  -29.9454,  -26.5015,\n",
       "          -27.8199,   -8.1721,  -39.7119,  -18.1943,  -22.7631,  -27.2682,\n",
       "          -21.1644,  -62.7771,  -48.5277],\n",
       "        [ -22.4429,  -19.4714,  -26.9313,  -25.3061,  -18.7784,  -47.4388,\n",
       "          -37.8912,  -26.4008,  -23.8924,  -12.1883,  -21.4734,  -34.0789,\n",
       "          -35.3717,  -43.1136,  -30.2987,  -41.4206,  -33.2559,  -24.7968,\n",
       "          -47.1331,  -34.8857,  -20.9248,  -24.2246,  -35.1696,  -26.6453,\n",
       "          -29.9531,  -23.7068,  -33.8657],\n",
       "        [ -14.0918,  -16.0068,  -69.3961,  -33.8599,  -88.9806,  -10.5237,\n",
       "          -38.6946,  -47.2609,  -20.4168,  -43.3957,  -16.6518,  -28.4729,\n",
       "          -24.1400,  -94.1511,  -28.6740,  -58.0378, -101.2505,  -31.4159,\n",
       "          -33.9213,  -28.2552,  -56.5187,  -25.3209,  -56.0686,  -20.0163,\n",
       "          -11.5001,  -21.5272,  -30.2683],\n",
       "        [ -16.3358,  -26.7245,  -23.9451,  -33.4436,  -14.7385,  -25.3626,\n",
       "          -50.9926,  -29.5642,  -76.7823,  -20.0261,  -22.9156,  -46.4214,\n",
       "          -36.2129,  -24.7003,  -21.1230,  -41.0645,  -20.3219,  -21.3335,\n",
       "          -20.8654,  -83.9806,  -30.0349,  -44.0519,  -12.4887,  -48.9285,\n",
       "          -30.7981,  -28.7427,  -46.7847],\n",
       "        [ -37.8423,  -40.6392,  -22.8325,  -19.6983,  -31.3603,  -30.1654,\n",
       "          -24.2662,  -19.9412,  -43.9711,  -35.6389,  -52.9515,  -35.9975,\n",
       "          -17.4415,  -12.4780,  -60.8314,  -32.7940,  -21.0095,  -39.2502,\n",
       "          -26.0054,   -8.6042,  -23.0380,  -64.3390,  -32.5838,  -28.4369,\n",
       "          -33.2837,  -49.2516,  -75.5800],\n",
       "        [ -47.0332,  -73.3595,  -24.8303,  -76.7836,  -20.4389,  -68.3437,\n",
       "          -15.0105,  -23.0161,  -24.8054,  -21.9941,  -51.5137,  -30.1512,\n",
       "          -28.2695,  -29.4785,  -63.2905,  -18.9784,  -13.5302,  -25.8789,\n",
       "          -24.4975,  -39.1573,  -21.6619,  -29.3944,   -8.9419,  -82.3234,\n",
       "          -39.7701,  -41.5000,  -33.6455],\n",
       "        [ -21.0080,  -71.0533,  -34.2619,  -68.9852,  -22.7051,  -34.5447,\n",
       "          -33.2995,  -30.7622,  -25.6273,  -17.2569,  -61.5157,  -21.2601,\n",
       "          -22.9894,  -13.3973,  -53.4592,  -51.3808,  -18.2204,  -28.2563,\n",
       "          -25.5839,  -51.9766,  -15.5161,  -34.6266,   -7.9388,  -70.1234,\n",
       "          -56.4610,  -33.3394,  -78.8435],\n",
       "        [ -33.0942,  -22.4264,  -44.9574,  -14.5384,  -46.1737,  -21.1329,\n",
       "          -21.6713,  -15.9568,  -41.0735,  -58.2942,  -30.8533,  -49.0243,\n",
       "          -35.3037,  -19.3676,  -43.7847,  -25.3558,  -51.8424,  -25.3829,\n",
       "          -34.5397,   -8.4187,  -21.7667,  -57.8381,  -41.9807,  -30.6139,\n",
       "          -26.7208,  -41.9607,  -30.8299],\n",
       "        [ -15.1286,  -12.3171,  -88.9029,  -36.4177, -108.7266,  -12.6406,\n",
       "          -16.4231,  -24.6051,  -27.1835,  -32.0678,  -27.4242,  -23.2351,\n",
       "          -25.5610,  -82.6296,  -42.4831, -136.3703,  -63.7965,  -45.1072,\n",
       "          -42.4741,  -50.0142,  -61.8078,  -16.7170,  -16.3590,  -38.3648,\n",
       "          -13.4292,  -20.3126,  -37.9858],\n",
       "        [ -21.9446,  -49.9581,  -27.1651,  -21.1343,  -11.5984,  -41.6292,\n",
       "          -23.2081,  -19.3124,  -28.3412,  -61.3047,  -27.2172,  -47.2327,\n",
       "          -32.1590,  -20.3011,  -16.1713,  -18.1094,  -34.5998,  -43.2768,\n",
       "          -61.4923,  -19.7650,  -57.2975,  -39.2658,  -18.7108,  -49.6779,\n",
       "          -41.2184,  -24.1943,  -26.8088],\n",
       "        [  -8.7460,  -28.3891,  -71.2268,  -10.7899,  -98.9048,  -12.3112,\n",
       "          -21.7451,  -18.7780,  -29.7285,  -48.1154,  -22.6005,  -24.1629,\n",
       "          -50.9756,  -51.7842,  -48.4729,  -75.8153,  -45.1610,  -34.5104,\n",
       "          -52.1271,  -37.9673,  -55.6501,  -17.3368,  -34.0747,  -43.1638,\n",
       "          -21.8862,  -20.9347,  -45.3044],\n",
       "        [ -19.1800,  -94.4004,  -66.8299, -103.6490,  -30.2146,  -23.4300,\n",
       "          -32.0442,  -48.1555,  -42.6671,  -20.0933,  -26.3173,  -25.5311,\n",
       "          -17.4793,  -69.4973,  -21.8864,  -13.5569,  -23.9640,  -46.8024,\n",
       "          -19.3017,  -57.7014,  -65.4356,  -20.8827,  -10.5555,  -58.2861,\n",
       "          -12.9620,  -27.5289,  -44.0299],\n",
       "        [ -35.7409,  -45.0500,  -51.6381,  -41.0156,  -47.5903,  -16.1532,\n",
       "          -24.3715,  -21.3508,  -23.2283,  -48.1703,  -22.5421,  -34.1672,\n",
       "          -15.8520,  -31.5702,  -29.1956,  -19.8889,  -67.0915,  -51.6813,\n",
       "          -18.4428,  -12.6939,  -38.1913,  -30.9700,  -37.4283,  -25.4968,\n",
       "          -18.5645,  -25.9885,  -28.9449],\n",
       "        [ -17.1705,  -15.5771,  -15.6031,  -14.6836,  -11.8602,  -33.0060,\n",
       "          -97.3939,  -29.0875,  -67.2551,  -77.9095,  -29.8108,  -48.2546,\n",
       "          -54.0950,  -28.0168,  -31.0406,  -30.5119,  -24.2563,  -49.9447,\n",
       "          -36.8590,  -16.2620,  -44.5381,  -66.8324,  -85.1433,   -9.7784,\n",
       "          -27.2518,  -45.1241,  -40.2981],\n",
       "        [ -18.7710,  -44.0734,  -31.4075,  -13.7556,  -22.1458,  -15.2159,\n",
       "          -48.5117,  -46.7125,  -62.7113,  -40.7784,  -17.9834,  -28.0907,\n",
       "          -19.9838,  -19.8017,  -24.7447,  -32.8572,  -35.8232,  -70.4907,\n",
       "          -27.9595,  -20.6047,  -65.7027,  -54.8228,  -86.9943,  -13.8182,\n",
       "          -19.6456,  -20.0986,  -52.1967],\n",
       "        [ -16.6032,  -10.4836,  -42.7773,  -48.0781,  -85.0819,  -18.2395,\n",
       "          -30.9321,  -24.0694,  -26.8357,  -27.2817,  -33.3907,  -26.6921,\n",
       "          -23.7420,  -79.9301,  -29.0746,  -46.9057,  -61.5537,  -21.3269,\n",
       "          -41.2338,  -35.1484,  -30.8411,  -17.6750,  -19.9135,  -39.6168,\n",
       "          -18.8683,  -33.4700,  -22.2705],\n",
       "        [ -48.3564,  -43.5007,  -23.1553,  -34.5300,  -31.3776,  -44.2379,\n",
       "          -19.2635,  -14.8306,  -25.4079,  -44.6112,  -55.2767,  -34.4509,\n",
       "          -20.2819,  -10.1783,  -46.3482,  -32.3326,  -45.6570,  -46.4422,\n",
       "          -47.0731,   -8.4043,  -13.7389,  -58.7613,  -34.0157,  -27.5591,\n",
       "          -56.4221,  -49.0331,  -41.4045],\n",
       "        [ -11.9314,  -48.0809,  -39.3705,  -32.6229,  -37.5605,   -9.7114,\n",
       "          -57.6686,  -61.6162,  -75.3279,  -30.7911,  -29.6010,  -24.0441,\n",
       "          -13.3162,  -41.8404,  -34.1415,  -76.1640,  -24.7088,  -53.5541,\n",
       "          -13.8777,  -49.0516,  -29.6518,  -40.9477,  -47.6127,  -13.2326,\n",
       "          -14.9191,  -33.3908,  -96.6800]], grad_fn=<NegBackward0>)"
      ]
     },
     "execution_count": 30,
     "metadata": {},
     "output_type": "execute_result"
    }
   ],
   "source": [
    "dlogprobs"
   ]
  },
  {
   "cell_type": "code",
   "execution_count": null,
   "id": "3eb29347",
   "metadata": {},
   "outputs": [],
   "source": []
  }
 ],
 "metadata": {
  "kernelspec": {
   "display_name": "zhnn",
   "language": "python",
   "name": "zhnn"
  },
  "language_info": {
   "codemirror_mode": {
    "name": "ipython",
    "version": 3
   },
   "file_extension": ".py",
   "mimetype": "text/x-python",
   "name": "python",
   "nbconvert_exporter": "python",
   "pygments_lexer": "ipython3",
   "version": "3.7.12"
  }
 },
 "nbformat": 4,
 "nbformat_minor": 5
}
