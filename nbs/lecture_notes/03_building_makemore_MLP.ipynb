{
 "cells": [
  {
   "cell_type": "markdown",
   "id": "d9075552",
   "metadata": {},
   "source": [
    "# Building makemore - MLP"
   ]
  },
  {
   "cell_type": "markdown",
   "id": "f0f19e3f",
   "metadata": {},
   "source": [
    "> This lecture note will mostly be following the https://www.jmlr.org/papers/volume3/bengio03a/bengio03a.pdf paper"
   ]
  },
  {
   "cell_type": "code",
   "execution_count": null,
   "id": "bd00b9bf",
   "metadata": {},
   "outputs": [],
   "source": [
    "import numpy\n",
    "import torch\n",
    "import torch.nn.functional as F\n",
    "from rich import print\n",
    "from rich import pretty\n",
    "import matplotlib.pyplot as plot\n",
    "import random\n",
    "%matplotlib inline"
   ]
  },
  {
   "cell_type": "code",
   "execution_count": null,
   "id": "925ccc0d",
   "metadata": {},
   "outputs": [],
   "source": [
    "pretty.install()"
   ]
  },
  {
   "cell_type": "code",
   "execution_count": null,
   "id": "3a997f5c",
   "metadata": {},
   "outputs": [],
   "source": [
    "g = torch.Generator().manual_seed(42)"
   ]
  },
  {
   "cell_type": "markdown",
   "id": "6c6515a0",
   "metadata": {},
   "source": [
    "## Read in all the words"
   ]
  },
  {
   "cell_type": "code",
   "execution_count": null,
   "id": "7983ae4c",
   "metadata": {},
   "outputs": [
    {
     "data": {
      "text/html": [
       "<pre style=\"white-space:pre;overflow-x:auto;line-height:normal;font-family:Menlo,'DejaVu Sans Mono',consolas,'Courier New',monospace\"><span style=\"font-weight: bold\">[</span><span style=\"color: #008000; text-decoration-color: #008000\">'emma'</span>, <span style=\"color: #008000; text-decoration-color: #008000\">'olivia'</span>, <span style=\"color: #008000; text-decoration-color: #008000\">'ava'</span>, <span style=\"color: #008000; text-decoration-color: #008000\">'isabella'</span>, <span style=\"color: #008000; text-decoration-color: #008000\">'sophia'</span>, <span style=\"color: #008000; text-decoration-color: #008000\">'charlotte'</span>, <span style=\"color: #008000; text-decoration-color: #008000\">'mia'</span>, <span style=\"color: #008000; text-decoration-color: #008000\">'amelia'</span><span style=\"font-weight: bold\">]</span>\n",
       "</pre>\n"
      ],
      "text/plain": [
       "\u001b[1m[\u001b[0m\u001b[32m'emma'\u001b[0m, \u001b[32m'olivia'\u001b[0m, \u001b[32m'ava'\u001b[0m, \u001b[32m'isabella'\u001b[0m, \u001b[32m'sophia'\u001b[0m, \u001b[32m'charlotte'\u001b[0m, \u001b[32m'mia'\u001b[0m, \u001b[32m'amelia'\u001b[0m\u001b[1m]\u001b[0m\n"
      ]
     },
     "metadata": {},
     "output_type": "display_data"
    }
   ],
   "source": [
    "words = open('../data/names.txt', 'r').read().splitlines()\n",
    "words[:8]"
   ]
  },
  {
   "cell_type": "code",
   "execution_count": null,
   "id": "3c7ab202",
   "metadata": {},
   "outputs": [
    {
     "data": {
      "text/html": [
       "<pre style=\"white-space:pre;overflow-x:auto;line-height:normal;font-family:Menlo,'DejaVu Sans Mono',consolas,'Courier New',monospace\"><span style=\"color: #008080; text-decoration-color: #008080; font-weight: bold\">32033</span>\n",
       "</pre>\n"
      ],
      "text/plain": [
       "\u001b[1;36m32033\u001b[0m\n"
      ]
     },
     "metadata": {},
     "output_type": "display_data"
    }
   ],
   "source": [
    "len(words)"
   ]
  },
  {
   "cell_type": "markdown",
   "id": "207048e3",
   "metadata": {},
   "source": [
    "## Build the vocabulary of characters and mapping to/from integers"
   ]
  },
  {
   "cell_type": "code",
   "execution_count": null,
   "id": "2b33d8c5",
   "metadata": {},
   "outputs": [],
   "source": [
    "chars = sorted(list(set(''.join(words))))"
   ]
  },
  {
   "cell_type": "code",
   "execution_count": null,
   "id": "697b200d",
   "metadata": {},
   "outputs": [],
   "source": [
    "stoi = {s: i+1 for i, s in enumerate(chars)}\n",
    "stoi['.'] = 0"
   ]
  },
  {
   "cell_type": "code",
   "execution_count": null,
   "id": "66eef2cb",
   "metadata": {},
   "outputs": [],
   "source": [
    "itos = {i:s for s, i in stoi.items()}"
   ]
  },
  {
   "cell_type": "code",
   "execution_count": null,
   "id": "32a7a08b",
   "metadata": {},
   "outputs": [
    {
     "data": {
      "text/html": [
       "<pre style=\"white-space:pre;overflow-x:auto;line-height:normal;font-family:Menlo,'DejaVu Sans Mono',consolas,'Courier New',monospace\">\n",
       "<span style=\"font-weight: bold\">{</span>\n",
       "    <span style=\"color: #008080; text-decoration-color: #008080; font-weight: bold\">1</span>: <span style=\"color: #008000; text-decoration-color: #008000\">'a'</span>,\n",
       "    <span style=\"color: #008080; text-decoration-color: #008080; font-weight: bold\">2</span>: <span style=\"color: #008000; text-decoration-color: #008000\">'b'</span>,\n",
       "    <span style=\"color: #008080; text-decoration-color: #008080; font-weight: bold\">3</span>: <span style=\"color: #008000; text-decoration-color: #008000\">'c'</span>,\n",
       "    <span style=\"color: #008080; text-decoration-color: #008080; font-weight: bold\">4</span>: <span style=\"color: #008000; text-decoration-color: #008000\">'d'</span>,\n",
       "    <span style=\"color: #008080; text-decoration-color: #008080; font-weight: bold\">5</span>: <span style=\"color: #008000; text-decoration-color: #008000\">'e'</span>,\n",
       "    <span style=\"color: #008080; text-decoration-color: #008080; font-weight: bold\">6</span>: <span style=\"color: #008000; text-decoration-color: #008000\">'f'</span>,\n",
       "    <span style=\"color: #008080; text-decoration-color: #008080; font-weight: bold\">7</span>: <span style=\"color: #008000; text-decoration-color: #008000\">'g'</span>,\n",
       "    <span style=\"color: #008080; text-decoration-color: #008080; font-weight: bold\">8</span>: <span style=\"color: #008000; text-decoration-color: #008000\">'h'</span>,\n",
       "    <span style=\"color: #008080; text-decoration-color: #008080; font-weight: bold\">9</span>: <span style=\"color: #008000; text-decoration-color: #008000\">'i'</span>,\n",
       "    <span style=\"color: #008080; text-decoration-color: #008080; font-weight: bold\">10</span>: <span style=\"color: #008000; text-decoration-color: #008000\">'j'</span>,\n",
       "    <span style=\"color: #008080; text-decoration-color: #008080; font-weight: bold\">11</span>: <span style=\"color: #008000; text-decoration-color: #008000\">'k'</span>,\n",
       "    <span style=\"color: #008080; text-decoration-color: #008080; font-weight: bold\">12</span>: <span style=\"color: #008000; text-decoration-color: #008000\">'l'</span>,\n",
       "    <span style=\"color: #008080; text-decoration-color: #008080; font-weight: bold\">13</span>: <span style=\"color: #008000; text-decoration-color: #008000\">'m'</span>,\n",
       "    <span style=\"color: #008080; text-decoration-color: #008080; font-weight: bold\">14</span>: <span style=\"color: #008000; text-decoration-color: #008000\">'n'</span>,\n",
       "    <span style=\"color: #008080; text-decoration-color: #008080; font-weight: bold\">15</span>: <span style=\"color: #008000; text-decoration-color: #008000\">'o'</span>,\n",
       "    <span style=\"color: #008080; text-decoration-color: #008080; font-weight: bold\">16</span>: <span style=\"color: #008000; text-decoration-color: #008000\">'p'</span>,\n",
       "    <span style=\"color: #008080; text-decoration-color: #008080; font-weight: bold\">17</span>: <span style=\"color: #008000; text-decoration-color: #008000\">'q'</span>,\n",
       "    <span style=\"color: #008080; text-decoration-color: #008080; font-weight: bold\">18</span>: <span style=\"color: #008000; text-decoration-color: #008000\">'r'</span>,\n",
       "    <span style=\"color: #008080; text-decoration-color: #008080; font-weight: bold\">19</span>: <span style=\"color: #008000; text-decoration-color: #008000\">'s'</span>,\n",
       "    <span style=\"color: #008080; text-decoration-color: #008080; font-weight: bold\">20</span>: <span style=\"color: #008000; text-decoration-color: #008000\">'t'</span>,\n",
       "    <span style=\"color: #008080; text-decoration-color: #008080; font-weight: bold\">21</span>: <span style=\"color: #008000; text-decoration-color: #008000\">'u'</span>,\n",
       "    <span style=\"color: #008080; text-decoration-color: #008080; font-weight: bold\">22</span>: <span style=\"color: #008000; text-decoration-color: #008000\">'v'</span>,\n",
       "    <span style=\"color: #008080; text-decoration-color: #008080; font-weight: bold\">23</span>: <span style=\"color: #008000; text-decoration-color: #008000\">'w'</span>,\n",
       "    <span style=\"color: #008080; text-decoration-color: #008080; font-weight: bold\">24</span>: <span style=\"color: #008000; text-decoration-color: #008000\">'x'</span>,\n",
       "    <span style=\"color: #008080; text-decoration-color: #008080; font-weight: bold\">25</span>: <span style=\"color: #008000; text-decoration-color: #008000\">'y'</span>,\n",
       "    <span style=\"color: #008080; text-decoration-color: #008080; font-weight: bold\">26</span>: <span style=\"color: #008000; text-decoration-color: #008000\">'z'</span>,\n",
       "    <span style=\"color: #008080; text-decoration-color: #008080; font-weight: bold\">0</span>: <span style=\"color: #008000; text-decoration-color: #008000\">'.'</span>\n",
       "<span style=\"font-weight: bold\">}</span>\n",
       "</pre>\n"
      ],
      "text/plain": [
       "\n",
       "\u001b[1m{\u001b[0m\n",
       "    \u001b[1;36m1\u001b[0m: \u001b[32m'a'\u001b[0m,\n",
       "    \u001b[1;36m2\u001b[0m: \u001b[32m'b'\u001b[0m,\n",
       "    \u001b[1;36m3\u001b[0m: \u001b[32m'c'\u001b[0m,\n",
       "    \u001b[1;36m4\u001b[0m: \u001b[32m'd'\u001b[0m,\n",
       "    \u001b[1;36m5\u001b[0m: \u001b[32m'e'\u001b[0m,\n",
       "    \u001b[1;36m6\u001b[0m: \u001b[32m'f'\u001b[0m,\n",
       "    \u001b[1;36m7\u001b[0m: \u001b[32m'g'\u001b[0m,\n",
       "    \u001b[1;36m8\u001b[0m: \u001b[32m'h'\u001b[0m,\n",
       "    \u001b[1;36m9\u001b[0m: \u001b[32m'i'\u001b[0m,\n",
       "    \u001b[1;36m10\u001b[0m: \u001b[32m'j'\u001b[0m,\n",
       "    \u001b[1;36m11\u001b[0m: \u001b[32m'k'\u001b[0m,\n",
       "    \u001b[1;36m12\u001b[0m: \u001b[32m'l'\u001b[0m,\n",
       "    \u001b[1;36m13\u001b[0m: \u001b[32m'm'\u001b[0m,\n",
       "    \u001b[1;36m14\u001b[0m: \u001b[32m'n'\u001b[0m,\n",
       "    \u001b[1;36m15\u001b[0m: \u001b[32m'o'\u001b[0m,\n",
       "    \u001b[1;36m16\u001b[0m: \u001b[32m'p'\u001b[0m,\n",
       "    \u001b[1;36m17\u001b[0m: \u001b[32m'q'\u001b[0m,\n",
       "    \u001b[1;36m18\u001b[0m: \u001b[32m'r'\u001b[0m,\n",
       "    \u001b[1;36m19\u001b[0m: \u001b[32m's'\u001b[0m,\n",
       "    \u001b[1;36m20\u001b[0m: \u001b[32m't'\u001b[0m,\n",
       "    \u001b[1;36m21\u001b[0m: \u001b[32m'u'\u001b[0m,\n",
       "    \u001b[1;36m22\u001b[0m: \u001b[32m'v'\u001b[0m,\n",
       "    \u001b[1;36m23\u001b[0m: \u001b[32m'w'\u001b[0m,\n",
       "    \u001b[1;36m24\u001b[0m: \u001b[32m'x'\u001b[0m,\n",
       "    \u001b[1;36m25\u001b[0m: \u001b[32m'y'\u001b[0m,\n",
       "    \u001b[1;36m26\u001b[0m: \u001b[32m'z'\u001b[0m,\n",
       "    \u001b[1;36m0\u001b[0m: \u001b[32m'.'\u001b[0m\n",
       "\u001b[1m}\u001b[0m\n"
      ]
     },
     "metadata": {},
     "output_type": "display_data"
    }
   ],
   "source": [
    "itos"
   ]
  },
  {
   "cell_type": "markdown",
   "id": "74b2adeb",
   "metadata": {},
   "source": [
    "## Build the training dataset"
   ]
  },
  {
   "cell_type": "code",
   "execution_count": null,
   "id": "947a9ddc",
   "metadata": {},
   "outputs": [],
   "source": [
    "block_size = 3"
   ]
  },
  {
   "cell_type": "markdown",
   "id": "c467dd12",
   "metadata": {},
   "source": [
    "What is `block_size`?\n",
    "> context length: how many characters do we take to predict the next one?"
   ]
  },
  {
   "cell_type": "code",
   "execution_count": null,
   "id": "1d6d8665",
   "metadata": {},
   "outputs": [],
   "source": [
    "def generate_training_set(words, block_size, print_disabled=False):\n",
    "    X, Y = [], []\n",
    "    for w in words:\n",
    "        if print_disabled: print(w)\n",
    "        \n",
    "        context = [0] * block_size\n",
    "        for ch in w + '.':\n",
    "            ix = stoi[ch]\n",
    "            X.append(context)\n",
    "            Y.append(ix)\n",
    "            if print_disabled: print(''.join(itos[i] for i in context), '--->', itos[ix])\n",
    "            context = context[1:] + [ix] # crop and append\n",
    "            \n",
    "    X = torch.tensor(X)\n",
    "    Y = torch.tensor(Y)\n",
    "    return X, Y"
   ]
  },
  {
   "cell_type": "markdown",
   "id": "86db9279",
   "metadata": {},
   "source": [
    "### Generating training set for block size of 2"
   ]
  },
  {
   "cell_type": "code",
   "execution_count": null,
   "id": "af91bbb3",
   "metadata": {},
   "outputs": [
    {
     "data": {
      "text/html": [
       "<pre style=\"white-space:pre;overflow-x:auto;line-height:normal;font-family:Menlo,'DejaVu Sans Mono',consolas,'Courier New',monospace\">emma\n",
       "</pre>\n"
      ],
      "text/plain": [
       "emma\n"
      ]
     },
     "metadata": {},
     "output_type": "display_data"
    },
    {
     "data": {
      "text/html": [
       "<pre style=\"white-space:pre;overflow-x:auto;line-height:normal;font-family:Menlo,'DejaVu Sans Mono',consolas,'Courier New',monospace\">.. ---&gt; e\n",
       "</pre>\n"
      ],
      "text/plain": [
       ".. ---> e\n"
      ]
     },
     "metadata": {},
     "output_type": "display_data"
    },
    {
     "data": {
      "text/html": [
       "<pre style=\"white-space:pre;overflow-x:auto;line-height:normal;font-family:Menlo,'DejaVu Sans Mono',consolas,'Courier New',monospace\">.e ---&gt; m\n",
       "</pre>\n"
      ],
      "text/plain": [
       ".e ---> m\n"
      ]
     },
     "metadata": {},
     "output_type": "display_data"
    },
    {
     "data": {
      "text/html": [
       "<pre style=\"white-space:pre;overflow-x:auto;line-height:normal;font-family:Menlo,'DejaVu Sans Mono',consolas,'Courier New',monospace\">em ---&gt; m\n",
       "</pre>\n"
      ],
      "text/plain": [
       "em ---> m\n"
      ]
     },
     "metadata": {},
     "output_type": "display_data"
    },
    {
     "data": {
      "text/html": [
       "<pre style=\"white-space:pre;overflow-x:auto;line-height:normal;font-family:Menlo,'DejaVu Sans Mono',consolas,'Courier New',monospace\">mm ---&gt; a\n",
       "</pre>\n"
      ],
      "text/plain": [
       "mm ---> a\n"
      ]
     },
     "metadata": {},
     "output_type": "display_data"
    },
    {
     "data": {
      "text/html": [
       "<pre style=\"white-space:pre;overflow-x:auto;line-height:normal;font-family:Menlo,'DejaVu Sans Mono',consolas,'Courier New',monospace\">ma ---&gt; .\n",
       "</pre>\n"
      ],
      "text/plain": [
       "ma ---> .\n"
      ]
     },
     "metadata": {},
     "output_type": "display_data"
    },
    {
     "data": {
      "text/html": [
       "<pre style=\"white-space:pre;overflow-x:auto;line-height:normal;font-family:Menlo,'DejaVu Sans Mono',consolas,'Courier New',monospace\">olivia\n",
       "</pre>\n"
      ],
      "text/plain": [
       "olivia\n"
      ]
     },
     "metadata": {},
     "output_type": "display_data"
    },
    {
     "data": {
      "text/html": [
       "<pre style=\"white-space:pre;overflow-x:auto;line-height:normal;font-family:Menlo,'DejaVu Sans Mono',consolas,'Courier New',monospace\">.. ---&gt; o\n",
       "</pre>\n"
      ],
      "text/plain": [
       ".. ---> o\n"
      ]
     },
     "metadata": {},
     "output_type": "display_data"
    },
    {
     "data": {
      "text/html": [
       "<pre style=\"white-space:pre;overflow-x:auto;line-height:normal;font-family:Menlo,'DejaVu Sans Mono',consolas,'Courier New',monospace\">.o ---&gt; l\n",
       "</pre>\n"
      ],
      "text/plain": [
       ".o ---> l\n"
      ]
     },
     "metadata": {},
     "output_type": "display_data"
    },
    {
     "data": {
      "text/html": [
       "<pre style=\"white-space:pre;overflow-x:auto;line-height:normal;font-family:Menlo,'DejaVu Sans Mono',consolas,'Courier New',monospace\">ol ---&gt; i\n",
       "</pre>\n"
      ],
      "text/plain": [
       "ol ---> i\n"
      ]
     },
     "metadata": {},
     "output_type": "display_data"
    },
    {
     "data": {
      "text/html": [
       "<pre style=\"white-space:pre;overflow-x:auto;line-height:normal;font-family:Menlo,'DejaVu Sans Mono',consolas,'Courier New',monospace\">li ---&gt; v\n",
       "</pre>\n"
      ],
      "text/plain": [
       "li ---> v\n"
      ]
     },
     "metadata": {},
     "output_type": "display_data"
    },
    {
     "data": {
      "text/html": [
       "<pre style=\"white-space:pre;overflow-x:auto;line-height:normal;font-family:Menlo,'DejaVu Sans Mono',consolas,'Courier New',monospace\">iv ---&gt; i\n",
       "</pre>\n"
      ],
      "text/plain": [
       "iv ---> i\n"
      ]
     },
     "metadata": {},
     "output_type": "display_data"
    },
    {
     "data": {
      "text/html": [
       "<pre style=\"white-space:pre;overflow-x:auto;line-height:normal;font-family:Menlo,'DejaVu Sans Mono',consolas,'Courier New',monospace\">vi ---&gt; a\n",
       "</pre>\n"
      ],
      "text/plain": [
       "vi ---> a\n"
      ]
     },
     "metadata": {},
     "output_type": "display_data"
    },
    {
     "data": {
      "text/html": [
       "<pre style=\"white-space:pre;overflow-x:auto;line-height:normal;font-family:Menlo,'DejaVu Sans Mono',consolas,'Courier New',monospace\">ia ---&gt; .\n",
       "</pre>\n"
      ],
      "text/plain": [
       "ia ---> .\n"
      ]
     },
     "metadata": {},
     "output_type": "display_data"
    }
   ],
   "source": [
    "X, Y = generate_training_set(words[:2], 2, True)"
   ]
  },
  {
   "cell_type": "markdown",
   "id": "1c5b7055",
   "metadata": {},
   "source": [
    "### Generating training set for block size of 5"
   ]
  },
  {
   "cell_type": "code",
   "execution_count": null,
   "id": "74f238f9",
   "metadata": {},
   "outputs": [
    {
     "data": {
      "text/html": [
       "<pre style=\"white-space:pre;overflow-x:auto;line-height:normal;font-family:Menlo,'DejaVu Sans Mono',consolas,'Courier New',monospace\">emma\n",
       "</pre>\n"
      ],
      "text/plain": [
       "emma\n"
      ]
     },
     "metadata": {},
     "output_type": "display_data"
    },
    {
     "data": {
      "text/html": [
       "<pre style=\"white-space:pre;overflow-x:auto;line-height:normal;font-family:Menlo,'DejaVu Sans Mono',consolas,'Courier New',monospace\"><span style=\"color: #808000; text-decoration-color: #808000\">...</span>.. ---&gt; e\n",
       "</pre>\n"
      ],
      "text/plain": [
       "\u001b[33m...\u001b[0m.. ---> e\n"
      ]
     },
     "metadata": {},
     "output_type": "display_data"
    },
    {
     "data": {
      "text/html": [
       "<pre style=\"white-space:pre;overflow-x:auto;line-height:normal;font-family:Menlo,'DejaVu Sans Mono',consolas,'Courier New',monospace\"><span style=\"color: #808000; text-decoration-color: #808000\">...</span>.e ---&gt; m\n",
       "</pre>\n"
      ],
      "text/plain": [
       "\u001b[33m...\u001b[0m.e ---> m\n"
      ]
     },
     "metadata": {},
     "output_type": "display_data"
    },
    {
     "data": {
      "text/html": [
       "<pre style=\"white-space:pre;overflow-x:auto;line-height:normal;font-family:Menlo,'DejaVu Sans Mono',consolas,'Courier New',monospace\"><span style=\"color: #808000; text-decoration-color: #808000\">...</span>em ---&gt; m\n",
       "</pre>\n"
      ],
      "text/plain": [
       "\u001b[33m...\u001b[0mem ---> m\n"
      ]
     },
     "metadata": {},
     "output_type": "display_data"
    },
    {
     "data": {
      "text/html": [
       "<pre style=\"white-space:pre;overflow-x:auto;line-height:normal;font-family:Menlo,'DejaVu Sans Mono',consolas,'Courier New',monospace\">..emm ---&gt; a\n",
       "</pre>\n"
      ],
      "text/plain": [
       "..emm ---> a\n"
      ]
     },
     "metadata": {},
     "output_type": "display_data"
    },
    {
     "data": {
      "text/html": [
       "<pre style=\"white-space:pre;overflow-x:auto;line-height:normal;font-family:Menlo,'DejaVu Sans Mono',consolas,'Courier New',monospace\">.emma ---&gt; .\n",
       "</pre>\n"
      ],
      "text/plain": [
       ".emma ---> .\n"
      ]
     },
     "metadata": {},
     "output_type": "display_data"
    },
    {
     "data": {
      "text/html": [
       "<pre style=\"white-space:pre;overflow-x:auto;line-height:normal;font-family:Menlo,'DejaVu Sans Mono',consolas,'Courier New',monospace\">olivia\n",
       "</pre>\n"
      ],
      "text/plain": [
       "olivia\n"
      ]
     },
     "metadata": {},
     "output_type": "display_data"
    },
    {
     "data": {
      "text/html": [
       "<pre style=\"white-space:pre;overflow-x:auto;line-height:normal;font-family:Menlo,'DejaVu Sans Mono',consolas,'Courier New',monospace\"><span style=\"color: #808000; text-decoration-color: #808000\">...</span>.. ---&gt; o\n",
       "</pre>\n"
      ],
      "text/plain": [
       "\u001b[33m...\u001b[0m.. ---> o\n"
      ]
     },
     "metadata": {},
     "output_type": "display_data"
    },
    {
     "data": {
      "text/html": [
       "<pre style=\"white-space:pre;overflow-x:auto;line-height:normal;font-family:Menlo,'DejaVu Sans Mono',consolas,'Courier New',monospace\"><span style=\"color: #808000; text-decoration-color: #808000\">...</span>.o ---&gt; l\n",
       "</pre>\n"
      ],
      "text/plain": [
       "\u001b[33m...\u001b[0m.o ---> l\n"
      ]
     },
     "metadata": {},
     "output_type": "display_data"
    },
    {
     "data": {
      "text/html": [
       "<pre style=\"white-space:pre;overflow-x:auto;line-height:normal;font-family:Menlo,'DejaVu Sans Mono',consolas,'Courier New',monospace\"><span style=\"color: #808000; text-decoration-color: #808000\">...</span>ol ---&gt; i\n",
       "</pre>\n"
      ],
      "text/plain": [
       "\u001b[33m...\u001b[0mol ---> i\n"
      ]
     },
     "metadata": {},
     "output_type": "display_data"
    },
    {
     "data": {
      "text/html": [
       "<pre style=\"white-space:pre;overflow-x:auto;line-height:normal;font-family:Menlo,'DejaVu Sans Mono',consolas,'Courier New',monospace\">..oli ---&gt; v\n",
       "</pre>\n"
      ],
      "text/plain": [
       "..oli ---> v\n"
      ]
     },
     "metadata": {},
     "output_type": "display_data"
    },
    {
     "data": {
      "text/html": [
       "<pre style=\"white-space:pre;overflow-x:auto;line-height:normal;font-family:Menlo,'DejaVu Sans Mono',consolas,'Courier New',monospace\">.oliv ---&gt; i\n",
       "</pre>\n"
      ],
      "text/plain": [
       ".oliv ---> i\n"
      ]
     },
     "metadata": {},
     "output_type": "display_data"
    },
    {
     "data": {
      "text/html": [
       "<pre style=\"white-space:pre;overflow-x:auto;line-height:normal;font-family:Menlo,'DejaVu Sans Mono',consolas,'Courier New',monospace\">olivi ---&gt; a\n",
       "</pre>\n"
      ],
      "text/plain": [
       "olivi ---> a\n"
      ]
     },
     "metadata": {},
     "output_type": "display_data"
    },
    {
     "data": {
      "text/html": [
       "<pre style=\"white-space:pre;overflow-x:auto;line-height:normal;font-family:Menlo,'DejaVu Sans Mono',consolas,'Courier New',monospace\">livia ---&gt; .\n",
       "</pre>\n"
      ],
      "text/plain": [
       "livia ---> .\n"
      ]
     },
     "metadata": {},
     "output_type": "display_data"
    }
   ],
   "source": [
    "X, Y = generate_training_set(words[:2], 5, True)"
   ]
  },
  {
   "cell_type": "markdown",
   "id": "57e2ac4c",
   "metadata": {},
   "source": [
    "### Generate training set for block size of 3 \n",
    "> as mentioned in the above paper"
   ]
  },
  {
   "cell_type": "code",
   "execution_count": null,
   "id": "ef2e2da4",
   "metadata": {},
   "outputs": [],
   "source": [
    "X, Y = generate_training_set(words[:2], 3)"
   ]
  },
  {
   "cell_type": "code",
   "execution_count": null,
   "id": "be2c0b44",
   "metadata": {},
   "outputs": [
    {
     "data": {
      "text/html": [
       "<pre style=\"white-space:pre;overflow-x:auto;line-height:normal;font-family:Menlo,'DejaVu Sans Mono',consolas,'Courier New',monospace\"><span style=\"font-weight: bold\">(</span><span style=\"color: #800080; text-decoration-color: #800080; font-weight: bold\">torch.Size</span><span style=\"font-weight: bold\">([</span><span style=\"color: #008080; text-decoration-color: #008080; font-weight: bold\">12</span>, <span style=\"color: #008080; text-decoration-color: #008080; font-weight: bold\">3</span><span style=\"font-weight: bold\">])</span>, torch.int64, <span style=\"color: #800080; text-decoration-color: #800080; font-weight: bold\">torch.Size</span><span style=\"font-weight: bold\">([</span><span style=\"color: #008080; text-decoration-color: #008080; font-weight: bold\">12</span><span style=\"font-weight: bold\">])</span>, torch.int64<span style=\"font-weight: bold\">)</span>\n",
       "</pre>\n"
      ],
      "text/plain": [
       "\u001b[1m(\u001b[0m\u001b[1;35mtorch.Size\u001b[0m\u001b[1m(\u001b[0m\u001b[1m[\u001b[0m\u001b[1;36m12\u001b[0m, \u001b[1;36m3\u001b[0m\u001b[1m]\u001b[0m\u001b[1m)\u001b[0m, torch.int64, \u001b[1;35mtorch.Size\u001b[0m\u001b[1m(\u001b[0m\u001b[1m[\u001b[0m\u001b[1;36m12\u001b[0m\u001b[1m]\u001b[0m\u001b[1m)\u001b[0m, torch.int64\u001b[1m)\u001b[0m\n"
      ]
     },
     "metadata": {},
     "output_type": "display_data"
    }
   ],
   "source": [
    "X.shape, X.dtype, Y.shape, Y.dtype"
   ]
  },
  {
   "cell_type": "markdown",
   "id": "3525d582",
   "metadata": {},
   "source": [
    "## Embedding Lookup Table"
   ]
  },
  {
   "cell_type": "code",
   "execution_count": null,
   "id": "bfd815a3",
   "metadata": {},
   "outputs": [],
   "source": [
    "C = torch.randn((27, 2))"
   ]
  },
  {
   "cell_type": "code",
   "execution_count": null,
   "id": "f2bba1ba",
   "metadata": {},
   "outputs": [
    {
     "data": {
      "text/html": [
       "<pre style=\"white-space:pre;overflow-x:auto;line-height:normal;font-family:Menlo,'DejaVu Sans Mono',consolas,'Courier New',monospace\">torch.float32\n",
       "</pre>\n"
      ],
      "text/plain": [
       "torch.float32\n"
      ]
     },
     "metadata": {},
     "output_type": "display_data"
    }
   ],
   "source": [
    "C.dtype"
   ]
  },
  {
   "cell_type": "code",
   "execution_count": null,
   "id": "1943f67f",
   "metadata": {},
   "outputs": [
    {
     "data": {
      "text/html": [
       "<pre style=\"white-space:pre;overflow-x:auto;line-height:normal;font-family:Menlo,'DejaVu Sans Mono',consolas,'Courier New',monospace\">\n",
       "<span style=\"color: #800080; text-decoration-color: #800080; font-weight: bold\">tensor</span><span style=\"font-weight: bold\">([[</span> <span style=\"color: #008080; text-decoration-color: #008080; font-weight: bold\">0.0494</span>, <span style=\"color: #008080; text-decoration-color: #008080; font-weight: bold\">-0.0211</span><span style=\"font-weight: bold\">]</span>,\n",
       "        <span style=\"font-weight: bold\">[</span> <span style=\"color: #008080; text-decoration-color: #008080; font-weight: bold\">0.6477</span>, <span style=\"color: #008080; text-decoration-color: #008080; font-weight: bold\">-0.5360</span><span style=\"font-weight: bold\">]</span>,\n",
       "        <span style=\"font-weight: bold\">[</span><span style=\"color: #008080; text-decoration-color: #008080; font-weight: bold\">-0.9756</span>, <span style=\"color: #008080; text-decoration-color: #008080; font-weight: bold\">-1.5765</span><span style=\"font-weight: bold\">]</span>,\n",
       "        <span style=\"font-weight: bold\">[</span><span style=\"color: #008080; text-decoration-color: #008080; font-weight: bold\">-0.0935</span>, <span style=\"color: #008080; text-decoration-color: #008080; font-weight: bold\">-0.5134</span><span style=\"font-weight: bold\">]</span>,\n",
       "        <span style=\"font-weight: bold\">[</span><span style=\"color: #008080; text-decoration-color: #008080; font-weight: bold\">-0.3660</span>, <span style=\"color: #008080; text-decoration-color: #008080; font-weight: bold\">-1.1029</span><span style=\"font-weight: bold\">]</span>,\n",
       "        <span style=\"font-weight: bold\">[</span> <span style=\"color: #008080; text-decoration-color: #008080; font-weight: bold\">1.3134</span>, <span style=\"color: #008080; text-decoration-color: #008080; font-weight: bold\">-0.4618</span><span style=\"font-weight: bold\">]</span>,\n",
       "        <span style=\"font-weight: bold\">[</span><span style=\"color: #008080; text-decoration-color: #008080; font-weight: bold\">-0.9528</span>,  <span style=\"color: #008080; text-decoration-color: #008080; font-weight: bold\">0.0358</span><span style=\"font-weight: bold\">]</span>,\n",
       "        <span style=\"font-weight: bold\">[</span> <span style=\"color: #008080; text-decoration-color: #008080; font-weight: bold\">0.5850</span>,  <span style=\"color: #008080; text-decoration-color: #008080; font-weight: bold\">0.0884</span><span style=\"font-weight: bold\">]</span>,\n",
       "        <span style=\"font-weight: bold\">[</span><span style=\"color: #008080; text-decoration-color: #008080; font-weight: bold\">-0.6457</span>,  <span style=\"color: #008080; text-decoration-color: #008080; font-weight: bold\">0.5524</span><span style=\"font-weight: bold\">]</span>,\n",
       "        <span style=\"font-weight: bold\">[</span><span style=\"color: #008080; text-decoration-color: #008080; font-weight: bold\">-0.5182</span>,  <span style=\"color: #008080; text-decoration-color: #008080; font-weight: bold\">0.1713</span><span style=\"font-weight: bold\">]</span>,\n",
       "        <span style=\"font-weight: bold\">[</span><span style=\"color: #008080; text-decoration-color: #008080; font-weight: bold\">-1.1681</span>, <span style=\"color: #008080; text-decoration-color: #008080; font-weight: bold\">-1.2686</span><span style=\"font-weight: bold\">]</span>,\n",
       "        <span style=\"font-weight: bold\">[</span><span style=\"color: #008080; text-decoration-color: #008080; font-weight: bold\">-0.2436</span>, <span style=\"color: #008080; text-decoration-color: #008080; font-weight: bold\">-0.2827</span><span style=\"font-weight: bold\">]</span>,\n",
       "        <span style=\"font-weight: bold\">[</span> <span style=\"color: #008080; text-decoration-color: #008080; font-weight: bold\">1.7086</span>,  <span style=\"color: #008080; text-decoration-color: #008080; font-weight: bold\">0.4918</span><span style=\"font-weight: bold\">]</span>,\n",
       "        <span style=\"font-weight: bold\">[</span><span style=\"color: #008080; text-decoration-color: #008080; font-weight: bold\">-1.1856</span>,  <span style=\"color: #008080; text-decoration-color: #008080; font-weight: bold\">1.1905</span><span style=\"font-weight: bold\">]</span>,\n",
       "        <span style=\"font-weight: bold\">[</span> <span style=\"color: #008080; text-decoration-color: #008080; font-weight: bold\">0.6216</span>, <span style=\"color: #008080; text-decoration-color: #008080; font-weight: bold\">-1.3340</span><span style=\"font-weight: bold\">]</span>,\n",
       "        <span style=\"font-weight: bold\">[</span> <span style=\"color: #008080; text-decoration-color: #008080; font-weight: bold\">0.3233</span>, <span style=\"color: #008080; text-decoration-color: #008080; font-weight: bold\">-0.4307</span><span style=\"font-weight: bold\">]</span>,\n",
       "        <span style=\"font-weight: bold\">[</span> <span style=\"color: #008080; text-decoration-color: #008080; font-weight: bold\">0.0207</span>,  <span style=\"color: #008080; text-decoration-color: #008080; font-weight: bold\">0.2296</span><span style=\"font-weight: bold\">]</span>,\n",
       "        <span style=\"font-weight: bold\">[</span><span style=\"color: #008080; text-decoration-color: #008080; font-weight: bold\">-1.4710</span>,  <span style=\"color: #008080; text-decoration-color: #008080; font-weight: bold\">0.0351</span><span style=\"font-weight: bold\">]</span>,\n",
       "        <span style=\"font-weight: bold\">[</span><span style=\"color: #008080; text-decoration-color: #008080; font-weight: bold\">-0.7824</span>,  <span style=\"color: #008080; text-decoration-color: #008080; font-weight: bold\">1.2608</span><span style=\"font-weight: bold\">]</span>,\n",
       "        <span style=\"font-weight: bold\">[</span><span style=\"color: #008080; text-decoration-color: #008080; font-weight: bold\">-0.6630</span>,  <span style=\"color: #008080; text-decoration-color: #008080; font-weight: bold\">0.0953</span><span style=\"font-weight: bold\">]</span>,\n",
       "        <span style=\"font-weight: bold\">[</span><span style=\"color: #008080; text-decoration-color: #008080; font-weight: bold\">-0.3874</span>, <span style=\"color: #008080; text-decoration-color: #008080; font-weight: bold\">-0.9611</span><span style=\"font-weight: bold\">]</span>,\n",
       "        <span style=\"font-weight: bold\">[</span> <span style=\"color: #008080; text-decoration-color: #008080; font-weight: bold\">0.2068</span>, <span style=\"color: #008080; text-decoration-color: #008080; font-weight: bold\">-0.2570</span><span style=\"font-weight: bold\">]</span>,\n",
       "        <span style=\"font-weight: bold\">[</span><span style=\"color: #008080; text-decoration-color: #008080; font-weight: bold\">-1.0127</span>, <span style=\"color: #008080; text-decoration-color: #008080; font-weight: bold\">-1.0864</span><span style=\"font-weight: bold\">]</span>,\n",
       "        <span style=\"font-weight: bold\">[</span><span style=\"color: #008080; text-decoration-color: #008080; font-weight: bold\">-0.3755</span>, <span style=\"color: #008080; text-decoration-color: #008080; font-weight: bold\">-1.8281</span><span style=\"font-weight: bold\">]</span>,\n",
       "        <span style=\"font-weight: bold\">[</span> <span style=\"color: #008080; text-decoration-color: #008080; font-weight: bold\">0.6910</span>,  <span style=\"color: #008080; text-decoration-color: #008080; font-weight: bold\">0.0300</span><span style=\"font-weight: bold\">]</span>,\n",
       "        <span style=\"font-weight: bold\">[</span><span style=\"color: #008080; text-decoration-color: #008080; font-weight: bold\">-0.2178</span>, <span style=\"color: #008080; text-decoration-color: #008080; font-weight: bold\">-1.1080</span><span style=\"font-weight: bold\">]</span>,\n",
       "        <span style=\"font-weight: bold\">[</span><span style=\"color: #008080; text-decoration-color: #008080; font-weight: bold\">-1.0800</span>, <span style=\"color: #008080; text-decoration-color: #008080; font-weight: bold\">-1.2573</span><span style=\"font-weight: bold\">]])</span>\n",
       "</pre>\n"
      ],
      "text/plain": [
       "\n",
       "\u001b[1;35mtensor\u001b[0m\u001b[1m(\u001b[0m\u001b[1m[\u001b[0m\u001b[1m[\u001b[0m \u001b[1;36m0.0494\u001b[0m, \u001b[1;36m-0.0211\u001b[0m\u001b[1m]\u001b[0m,\n",
       "        \u001b[1m[\u001b[0m \u001b[1;36m0.6477\u001b[0m, \u001b[1;36m-0.5360\u001b[0m\u001b[1m]\u001b[0m,\n",
       "        \u001b[1m[\u001b[0m\u001b[1;36m-0.9756\u001b[0m, \u001b[1;36m-1.5765\u001b[0m\u001b[1m]\u001b[0m,\n",
       "        \u001b[1m[\u001b[0m\u001b[1;36m-0.0935\u001b[0m, \u001b[1;36m-0.5134\u001b[0m\u001b[1m]\u001b[0m,\n",
       "        \u001b[1m[\u001b[0m\u001b[1;36m-0.3660\u001b[0m, \u001b[1;36m-1.1029\u001b[0m\u001b[1m]\u001b[0m,\n",
       "        \u001b[1m[\u001b[0m \u001b[1;36m1.3134\u001b[0m, \u001b[1;36m-0.4618\u001b[0m\u001b[1m]\u001b[0m,\n",
       "        \u001b[1m[\u001b[0m\u001b[1;36m-0.9528\u001b[0m,  \u001b[1;36m0.0358\u001b[0m\u001b[1m]\u001b[0m,\n",
       "        \u001b[1m[\u001b[0m \u001b[1;36m0.5850\u001b[0m,  \u001b[1;36m0.0884\u001b[0m\u001b[1m]\u001b[0m,\n",
       "        \u001b[1m[\u001b[0m\u001b[1;36m-0.6457\u001b[0m,  \u001b[1;36m0.5524\u001b[0m\u001b[1m]\u001b[0m,\n",
       "        \u001b[1m[\u001b[0m\u001b[1;36m-0.5182\u001b[0m,  \u001b[1;36m0.1713\u001b[0m\u001b[1m]\u001b[0m,\n",
       "        \u001b[1m[\u001b[0m\u001b[1;36m-1.1681\u001b[0m, \u001b[1;36m-1.2686\u001b[0m\u001b[1m]\u001b[0m,\n",
       "        \u001b[1m[\u001b[0m\u001b[1;36m-0.2436\u001b[0m, \u001b[1;36m-0.2827\u001b[0m\u001b[1m]\u001b[0m,\n",
       "        \u001b[1m[\u001b[0m \u001b[1;36m1.7086\u001b[0m,  \u001b[1;36m0.4918\u001b[0m\u001b[1m]\u001b[0m,\n",
       "        \u001b[1m[\u001b[0m\u001b[1;36m-1.1856\u001b[0m,  \u001b[1;36m1.1905\u001b[0m\u001b[1m]\u001b[0m,\n",
       "        \u001b[1m[\u001b[0m \u001b[1;36m0.6216\u001b[0m, \u001b[1;36m-1.3340\u001b[0m\u001b[1m]\u001b[0m,\n",
       "        \u001b[1m[\u001b[0m \u001b[1;36m0.3233\u001b[0m, \u001b[1;36m-0.4307\u001b[0m\u001b[1m]\u001b[0m,\n",
       "        \u001b[1m[\u001b[0m \u001b[1;36m0.0207\u001b[0m,  \u001b[1;36m0.2296\u001b[0m\u001b[1m]\u001b[0m,\n",
       "        \u001b[1m[\u001b[0m\u001b[1;36m-1.4710\u001b[0m,  \u001b[1;36m0.0351\u001b[0m\u001b[1m]\u001b[0m,\n",
       "        \u001b[1m[\u001b[0m\u001b[1;36m-0.7824\u001b[0m,  \u001b[1;36m1.2608\u001b[0m\u001b[1m]\u001b[0m,\n",
       "        \u001b[1m[\u001b[0m\u001b[1;36m-0.6630\u001b[0m,  \u001b[1;36m0.0953\u001b[0m\u001b[1m]\u001b[0m,\n",
       "        \u001b[1m[\u001b[0m\u001b[1;36m-0.3874\u001b[0m, \u001b[1;36m-0.9611\u001b[0m\u001b[1m]\u001b[0m,\n",
       "        \u001b[1m[\u001b[0m \u001b[1;36m0.2068\u001b[0m, \u001b[1;36m-0.2570\u001b[0m\u001b[1m]\u001b[0m,\n",
       "        \u001b[1m[\u001b[0m\u001b[1;36m-1.0127\u001b[0m, \u001b[1;36m-1.0864\u001b[0m\u001b[1m]\u001b[0m,\n",
       "        \u001b[1m[\u001b[0m\u001b[1;36m-0.3755\u001b[0m, \u001b[1;36m-1.8281\u001b[0m\u001b[1m]\u001b[0m,\n",
       "        \u001b[1m[\u001b[0m \u001b[1;36m0.6910\u001b[0m,  \u001b[1;36m0.0300\u001b[0m\u001b[1m]\u001b[0m,\n",
       "        \u001b[1m[\u001b[0m\u001b[1;36m-0.2178\u001b[0m, \u001b[1;36m-1.1080\u001b[0m\u001b[1m]\u001b[0m,\n",
       "        \u001b[1m[\u001b[0m\u001b[1;36m-1.0800\u001b[0m, \u001b[1;36m-1.2573\u001b[0m\u001b[1m]\u001b[0m\u001b[1m]\u001b[0m\u001b[1m)\u001b[0m\n"
      ]
     },
     "metadata": {},
     "output_type": "display_data"
    }
   ],
   "source": [
    "C"
   ]
  },
  {
   "cell_type": "markdown",
   "id": "d2f24be5",
   "metadata": {},
   "source": [
    "### Indexing into the embedding"
   ]
  },
  {
   "cell_type": "markdown",
   "id": "f9b7273f",
   "metadata": {},
   "source": [
    "#### 1. Index with a number"
   ]
  },
  {
   "cell_type": "code",
   "execution_count": null,
   "id": "76cede57",
   "metadata": {},
   "outputs": [
    {
     "data": {
      "text/html": [
       "<pre style=\"white-space:pre;overflow-x:auto;line-height:normal;font-family:Menlo,'DejaVu Sans Mono',consolas,'Courier New',monospace\"><span style=\"color: #800080; text-decoration-color: #800080; font-weight: bold\">tensor</span><span style=\"font-weight: bold\">([</span> <span style=\"color: #008080; text-decoration-color: #008080; font-weight: bold\">1.3134</span>, <span style=\"color: #008080; text-decoration-color: #008080; font-weight: bold\">-0.4618</span><span style=\"font-weight: bold\">])</span>\n",
       "</pre>\n"
      ],
      "text/plain": [
       "\u001b[1;35mtensor\u001b[0m\u001b[1m(\u001b[0m\u001b[1m[\u001b[0m \u001b[1;36m1.3134\u001b[0m, \u001b[1;36m-0.4618\u001b[0m\u001b[1m]\u001b[0m\u001b[1m)\u001b[0m\n"
      ]
     },
     "metadata": {},
     "output_type": "display_data"
    }
   ],
   "source": [
    "C[5]"
   ]
  },
  {
   "cell_type": "markdown",
   "id": "d63c51e7",
   "metadata": {},
   "source": [
    "#### 2. Multiplying with one-hot encoding"
   ]
  },
  {
   "cell_type": "code",
   "execution_count": null,
   "id": "ab655d5f",
   "metadata": {},
   "outputs": [],
   "source": [
    "one_hot_vec = F.one_hot(torch.tensor(5), num_classes=27).float()"
   ]
  },
  {
   "cell_type": "markdown",
   "id": "0455ef5f",
   "metadata": {},
   "source": [
    "Converted the above one into float so that it can be multiplied with `C`, which is a float"
   ]
  },
  {
   "cell_type": "code",
   "execution_count": null,
   "id": "9b0cd7cd",
   "metadata": {},
   "outputs": [
    {
     "data": {
      "text/html": [
       "<pre style=\"white-space:pre;overflow-x:auto;line-height:normal;font-family:Menlo,'DejaVu Sans Mono',consolas,'Courier New',monospace\"><span style=\"color: #800080; text-decoration-color: #800080; font-weight: bold\">torch.Size</span><span style=\"font-weight: bold\">([</span><span style=\"color: #008080; text-decoration-color: #008080; font-weight: bold\">27</span><span style=\"font-weight: bold\">])</span>\n",
       "</pre>\n"
      ],
      "text/plain": [
       "\u001b[1;35mtorch.Size\u001b[0m\u001b[1m(\u001b[0m\u001b[1m[\u001b[0m\u001b[1;36m27\u001b[0m\u001b[1m]\u001b[0m\u001b[1m)\u001b[0m\n"
      ]
     },
     "metadata": {},
     "output_type": "display_data"
    }
   ],
   "source": [
    "one_hot_vec.shape"
   ]
  },
  {
   "cell_type": "code",
   "execution_count": null,
   "id": "ccf9529a",
   "metadata": {},
   "outputs": [
    {
     "data": {
      "text/html": [
       "<pre style=\"white-space:pre;overflow-x:auto;line-height:normal;font-family:Menlo,'DejaVu Sans Mono',consolas,'Courier New',monospace\"><span style=\"color: #800080; text-decoration-color: #800080; font-weight: bold\">tensor</span><span style=\"font-weight: bold\">([</span> <span style=\"color: #008080; text-decoration-color: #008080; font-weight: bold\">1.3134</span>, <span style=\"color: #008080; text-decoration-color: #008080; font-weight: bold\">-0.4618</span><span style=\"font-weight: bold\">])</span>\n",
       "</pre>\n"
      ],
      "text/plain": [
       "\u001b[1;35mtensor\u001b[0m\u001b[1m(\u001b[0m\u001b[1m[\u001b[0m \u001b[1;36m1.3134\u001b[0m, \u001b[1;36m-0.4618\u001b[0m\u001b[1m]\u001b[0m\u001b[1m)\u001b[0m\n"
      ]
     },
     "metadata": {},
     "output_type": "display_data"
    }
   ],
   "source": [
    "one_hot_vec @ C"
   ]
  },
  {
   "cell_type": "markdown",
   "id": "e549a0b3",
   "metadata": {},
   "source": [
    "As we can see the result is same as indexing with a number"
   ]
  },
  {
   "cell_type": "code",
   "execution_count": null,
   "id": "0b6ee6b2",
   "metadata": {},
   "outputs": [
    {
     "data": {
      "text/html": [
       "<pre style=\"white-space:pre;overflow-x:auto;line-height:normal;font-family:Menlo,'DejaVu Sans Mono',consolas,'Courier New',monospace\"><span style=\"color: #00ff00; text-decoration-color: #00ff00; font-style: italic\">True</span>\n",
       "</pre>\n"
      ],
      "text/plain": [
       "\u001b[3;92mTrue\u001b[0m\n"
      ]
     },
     "metadata": {},
     "output_type": "display_data"
    }
   ],
   "source": [
    "torch.equal(one_hot_vec @ C, C[5])"
   ]
  },
  {
   "cell_type": "markdown",
   "id": "f5e59aca",
   "metadata": {},
   "source": [
    "##### Lets explore indexing "
   ]
  },
  {
   "cell_type": "code",
   "execution_count": null,
   "id": "0b8ab458",
   "metadata": {},
   "outputs": [
    {
     "data": {
      "text/html": [
       "<pre style=\"white-space:pre;overflow-x:auto;line-height:normal;font-family:Menlo,'DejaVu Sans Mono',consolas,'Courier New',monospace\">\n",
       "<span style=\"color: #800080; text-decoration-color: #800080; font-weight: bold\">tensor</span><span style=\"font-weight: bold\">([[</span> <span style=\"color: #008080; text-decoration-color: #008080; font-weight: bold\">1.3134</span>, <span style=\"color: #008080; text-decoration-color: #008080; font-weight: bold\">-0.4618</span><span style=\"font-weight: bold\">]</span>,\n",
       "        <span style=\"font-weight: bold\">[</span><span style=\"color: #008080; text-decoration-color: #008080; font-weight: bold\">-0.9528</span>,  <span style=\"color: #008080; text-decoration-color: #008080; font-weight: bold\">0.0358</span><span style=\"font-weight: bold\">]</span>,\n",
       "        <span style=\"font-weight: bold\">[</span> <span style=\"color: #008080; text-decoration-color: #008080; font-weight: bold\">0.5850</span>,  <span style=\"color: #008080; text-decoration-color: #008080; font-weight: bold\">0.0884</span><span style=\"font-weight: bold\">]</span>,\n",
       "        <span style=\"font-weight: bold\">[</span> <span style=\"color: #008080; text-decoration-color: #008080; font-weight: bold\">0.5850</span>,  <span style=\"color: #008080; text-decoration-color: #008080; font-weight: bold\">0.0884</span><span style=\"font-weight: bold\">]</span>,\n",
       "        <span style=\"font-weight: bold\">[</span> <span style=\"color: #008080; text-decoration-color: #008080; font-weight: bold\">0.5850</span>,  <span style=\"color: #008080; text-decoration-color: #008080; font-weight: bold\">0.0884</span><span style=\"font-weight: bold\">]</span>,\n",
       "        <span style=\"font-weight: bold\">[</span> <span style=\"color: #008080; text-decoration-color: #008080; font-weight: bold\">0.5850</span>,  <span style=\"color: #008080; text-decoration-color: #008080; font-weight: bold\">0.0884</span><span style=\"font-weight: bold\">]</span>,\n",
       "        <span style=\"font-weight: bold\">[</span> <span style=\"color: #008080; text-decoration-color: #008080; font-weight: bold\">0.5850</span>,  <span style=\"color: #008080; text-decoration-color: #008080; font-weight: bold\">0.0884</span><span style=\"font-weight: bold\">]])</span>\n",
       "</pre>\n"
      ],
      "text/plain": [
       "\n",
       "\u001b[1;35mtensor\u001b[0m\u001b[1m(\u001b[0m\u001b[1m[\u001b[0m\u001b[1m[\u001b[0m \u001b[1;36m1.3134\u001b[0m, \u001b[1;36m-0.4618\u001b[0m\u001b[1m]\u001b[0m,\n",
       "        \u001b[1m[\u001b[0m\u001b[1;36m-0.9528\u001b[0m,  \u001b[1;36m0.0358\u001b[0m\u001b[1m]\u001b[0m,\n",
       "        \u001b[1m[\u001b[0m \u001b[1;36m0.5850\u001b[0m,  \u001b[1;36m0.0884\u001b[0m\u001b[1m]\u001b[0m,\n",
       "        \u001b[1m[\u001b[0m \u001b[1;36m0.5850\u001b[0m,  \u001b[1;36m0.0884\u001b[0m\u001b[1m]\u001b[0m,\n",
       "        \u001b[1m[\u001b[0m \u001b[1;36m0.5850\u001b[0m,  \u001b[1;36m0.0884\u001b[0m\u001b[1m]\u001b[0m,\n",
       "        \u001b[1m[\u001b[0m \u001b[1;36m0.5850\u001b[0m,  \u001b[1;36m0.0884\u001b[0m\u001b[1m]\u001b[0m,\n",
       "        \u001b[1m[\u001b[0m \u001b[1;36m0.5850\u001b[0m,  \u001b[1;36m0.0884\u001b[0m\u001b[1m]\u001b[0m\u001b[1m]\u001b[0m\u001b[1m)\u001b[0m\n"
      ]
     },
     "metadata": {},
     "output_type": "display_data"
    }
   ],
   "source": [
    "C[torch.tensor([5, 6, 7, 7, 7, 7, 7])]"
   ]
  },
  {
   "cell_type": "code",
   "execution_count": null,
   "id": "18ca4c60",
   "metadata": {},
   "outputs": [
    {
     "data": {
      "text/html": [
       "<pre style=\"white-space:pre;overflow-x:auto;line-height:normal;font-family:Menlo,'DejaVu Sans Mono',consolas,'Courier New',monospace\">\n",
       "<span style=\"color: #800080; text-decoration-color: #800080; font-weight: bold\">tensor</span><span style=\"font-weight: bold\">([[[</span> <span style=\"color: #008080; text-decoration-color: #008080; font-weight: bold\">0.0494</span>, <span style=\"color: #008080; text-decoration-color: #008080; font-weight: bold\">-0.0211</span><span style=\"font-weight: bold\">]</span>,\n",
       "         <span style=\"font-weight: bold\">[</span> <span style=\"color: #008080; text-decoration-color: #008080; font-weight: bold\">0.0494</span>, <span style=\"color: #008080; text-decoration-color: #008080; font-weight: bold\">-0.0211</span><span style=\"font-weight: bold\">]</span>,\n",
       "         <span style=\"font-weight: bold\">[</span> <span style=\"color: #008080; text-decoration-color: #008080; font-weight: bold\">0.0494</span>, <span style=\"color: #008080; text-decoration-color: #008080; font-weight: bold\">-0.0211</span><span style=\"font-weight: bold\">]]</span>,\n",
       "\n",
       "        <span style=\"font-weight: bold\">[[</span> <span style=\"color: #008080; text-decoration-color: #008080; font-weight: bold\">0.0494</span>, <span style=\"color: #008080; text-decoration-color: #008080; font-weight: bold\">-0.0211</span><span style=\"font-weight: bold\">]</span>,\n",
       "         <span style=\"font-weight: bold\">[</span> <span style=\"color: #008080; text-decoration-color: #008080; font-weight: bold\">0.0494</span>, <span style=\"color: #008080; text-decoration-color: #008080; font-weight: bold\">-0.0211</span><span style=\"font-weight: bold\">]</span>,\n",
       "         <span style=\"font-weight: bold\">[</span> <span style=\"color: #008080; text-decoration-color: #008080; font-weight: bold\">1.3134</span>, <span style=\"color: #008080; text-decoration-color: #008080; font-weight: bold\">-0.4618</span><span style=\"font-weight: bold\">]]</span>,\n",
       "\n",
       "        <span style=\"font-weight: bold\">[[</span> <span style=\"color: #008080; text-decoration-color: #008080; font-weight: bold\">0.0494</span>, <span style=\"color: #008080; text-decoration-color: #008080; font-weight: bold\">-0.0211</span><span style=\"font-weight: bold\">]</span>,\n",
       "         <span style=\"font-weight: bold\">[</span> <span style=\"color: #008080; text-decoration-color: #008080; font-weight: bold\">1.3134</span>, <span style=\"color: #008080; text-decoration-color: #008080; font-weight: bold\">-0.4618</span><span style=\"font-weight: bold\">]</span>,\n",
       "         <span style=\"font-weight: bold\">[</span><span style=\"color: #008080; text-decoration-color: #008080; font-weight: bold\">-1.1856</span>,  <span style=\"color: #008080; text-decoration-color: #008080; font-weight: bold\">1.1905</span><span style=\"font-weight: bold\">]]</span>,\n",
       "\n",
       "        <span style=\"font-weight: bold\">[[</span> <span style=\"color: #008080; text-decoration-color: #008080; font-weight: bold\">1.3134</span>, <span style=\"color: #008080; text-decoration-color: #008080; font-weight: bold\">-0.4618</span><span style=\"font-weight: bold\">]</span>,\n",
       "         <span style=\"font-weight: bold\">[</span><span style=\"color: #008080; text-decoration-color: #008080; font-weight: bold\">-1.1856</span>,  <span style=\"color: #008080; text-decoration-color: #008080; font-weight: bold\">1.1905</span><span style=\"font-weight: bold\">]</span>,\n",
       "         <span style=\"font-weight: bold\">[</span><span style=\"color: #008080; text-decoration-color: #008080; font-weight: bold\">-1.1856</span>,  <span style=\"color: #008080; text-decoration-color: #008080; font-weight: bold\">1.1905</span><span style=\"font-weight: bold\">]]</span>,\n",
       "\n",
       "        <span style=\"font-weight: bold\">[[</span><span style=\"color: #008080; text-decoration-color: #008080; font-weight: bold\">-1.1856</span>,  <span style=\"color: #008080; text-decoration-color: #008080; font-weight: bold\">1.1905</span><span style=\"font-weight: bold\">]</span>,\n",
       "         <span style=\"font-weight: bold\">[</span><span style=\"color: #008080; text-decoration-color: #008080; font-weight: bold\">-1.1856</span>,  <span style=\"color: #008080; text-decoration-color: #008080; font-weight: bold\">1.1905</span><span style=\"font-weight: bold\">]</span>,\n",
       "         <span style=\"font-weight: bold\">[</span> <span style=\"color: #008080; text-decoration-color: #008080; font-weight: bold\">0.6477</span>, <span style=\"color: #008080; text-decoration-color: #008080; font-weight: bold\">-0.5360</span><span style=\"font-weight: bold\">]]</span>,\n",
       "\n",
       "        <span style=\"font-weight: bold\">[[</span> <span style=\"color: #008080; text-decoration-color: #008080; font-weight: bold\">0.0494</span>, <span style=\"color: #008080; text-decoration-color: #008080; font-weight: bold\">-0.0211</span><span style=\"font-weight: bold\">]</span>,\n",
       "         <span style=\"font-weight: bold\">[</span> <span style=\"color: #008080; text-decoration-color: #008080; font-weight: bold\">0.0494</span>, <span style=\"color: #008080; text-decoration-color: #008080; font-weight: bold\">-0.0211</span><span style=\"font-weight: bold\">]</span>,\n",
       "         <span style=\"font-weight: bold\">[</span> <span style=\"color: #008080; text-decoration-color: #008080; font-weight: bold\">0.0494</span>, <span style=\"color: #008080; text-decoration-color: #008080; font-weight: bold\">-0.0211</span><span style=\"font-weight: bold\">]]</span>,\n",
       "\n",
       "        <span style=\"font-weight: bold\">[[</span> <span style=\"color: #008080; text-decoration-color: #008080; font-weight: bold\">0.0494</span>, <span style=\"color: #008080; text-decoration-color: #008080; font-weight: bold\">-0.0211</span><span style=\"font-weight: bold\">]</span>,\n",
       "         <span style=\"font-weight: bold\">[</span> <span style=\"color: #008080; text-decoration-color: #008080; font-weight: bold\">0.0494</span>, <span style=\"color: #008080; text-decoration-color: #008080; font-weight: bold\">-0.0211</span><span style=\"font-weight: bold\">]</span>,\n",
       "         <span style=\"font-weight: bold\">[</span> <span style=\"color: #008080; text-decoration-color: #008080; font-weight: bold\">0.3233</span>, <span style=\"color: #008080; text-decoration-color: #008080; font-weight: bold\">-0.4307</span><span style=\"font-weight: bold\">]]</span>,\n",
       "\n",
       "        <span style=\"font-weight: bold\">[[</span> <span style=\"color: #008080; text-decoration-color: #008080; font-weight: bold\">0.0494</span>, <span style=\"color: #008080; text-decoration-color: #008080; font-weight: bold\">-0.0211</span><span style=\"font-weight: bold\">]</span>,\n",
       "         <span style=\"font-weight: bold\">[</span> <span style=\"color: #008080; text-decoration-color: #008080; font-weight: bold\">0.3233</span>, <span style=\"color: #008080; text-decoration-color: #008080; font-weight: bold\">-0.4307</span><span style=\"font-weight: bold\">]</span>,\n",
       "         <span style=\"font-weight: bold\">[</span> <span style=\"color: #008080; text-decoration-color: #008080; font-weight: bold\">1.7086</span>,  <span style=\"color: #008080; text-decoration-color: #008080; font-weight: bold\">0.4918</span><span style=\"font-weight: bold\">]]</span>,\n",
       "\n",
       "        <span style=\"font-weight: bold\">[[</span> <span style=\"color: #008080; text-decoration-color: #008080; font-weight: bold\">0.3233</span>, <span style=\"color: #008080; text-decoration-color: #008080; font-weight: bold\">-0.4307</span><span style=\"font-weight: bold\">]</span>,\n",
       "         <span style=\"font-weight: bold\">[</span> <span style=\"color: #008080; text-decoration-color: #008080; font-weight: bold\">1.7086</span>,  <span style=\"color: #008080; text-decoration-color: #008080; font-weight: bold\">0.4918</span><span style=\"font-weight: bold\">]</span>,\n",
       "         <span style=\"font-weight: bold\">[</span><span style=\"color: #008080; text-decoration-color: #008080; font-weight: bold\">-0.5182</span>,  <span style=\"color: #008080; text-decoration-color: #008080; font-weight: bold\">0.1713</span><span style=\"font-weight: bold\">]]</span>,\n",
       "\n",
       "        <span style=\"font-weight: bold\">[[</span> <span style=\"color: #008080; text-decoration-color: #008080; font-weight: bold\">1.7086</span>,  <span style=\"color: #008080; text-decoration-color: #008080; font-weight: bold\">0.4918</span><span style=\"font-weight: bold\">]</span>,\n",
       "         <span style=\"font-weight: bold\">[</span><span style=\"color: #008080; text-decoration-color: #008080; font-weight: bold\">-0.5182</span>,  <span style=\"color: #008080; text-decoration-color: #008080; font-weight: bold\">0.1713</span><span style=\"font-weight: bold\">]</span>,\n",
       "         <span style=\"font-weight: bold\">[</span><span style=\"color: #008080; text-decoration-color: #008080; font-weight: bold\">-1.0127</span>, <span style=\"color: #008080; text-decoration-color: #008080; font-weight: bold\">-1.0864</span><span style=\"font-weight: bold\">]]</span>,\n",
       "\n",
       "        <span style=\"font-weight: bold\">[[</span><span style=\"color: #008080; text-decoration-color: #008080; font-weight: bold\">-0.5182</span>,  <span style=\"color: #008080; text-decoration-color: #008080; font-weight: bold\">0.1713</span><span style=\"font-weight: bold\">]</span>,\n",
       "         <span style=\"font-weight: bold\">[</span><span style=\"color: #008080; text-decoration-color: #008080; font-weight: bold\">-1.0127</span>, <span style=\"color: #008080; text-decoration-color: #008080; font-weight: bold\">-1.0864</span><span style=\"font-weight: bold\">]</span>,\n",
       "         <span style=\"font-weight: bold\">[</span><span style=\"color: #008080; text-decoration-color: #008080; font-weight: bold\">-0.5182</span>,  <span style=\"color: #008080; text-decoration-color: #008080; font-weight: bold\">0.1713</span><span style=\"font-weight: bold\">]]</span>,\n",
       "\n",
       "        <span style=\"font-weight: bold\">[[</span><span style=\"color: #008080; text-decoration-color: #008080; font-weight: bold\">-1.0127</span>, <span style=\"color: #008080; text-decoration-color: #008080; font-weight: bold\">-1.0864</span><span style=\"font-weight: bold\">]</span>,\n",
       "         <span style=\"font-weight: bold\">[</span><span style=\"color: #008080; text-decoration-color: #008080; font-weight: bold\">-0.5182</span>,  <span style=\"color: #008080; text-decoration-color: #008080; font-weight: bold\">0.1713</span><span style=\"font-weight: bold\">]</span>,\n",
       "         <span style=\"font-weight: bold\">[</span> <span style=\"color: #008080; text-decoration-color: #008080; font-weight: bold\">0.6477</span>, <span style=\"color: #008080; text-decoration-color: #008080; font-weight: bold\">-0.5360</span><span style=\"font-weight: bold\">]]])</span>\n",
       "</pre>\n"
      ],
      "text/plain": [
       "\n",
       "\u001b[1;35mtensor\u001b[0m\u001b[1m(\u001b[0m\u001b[1m[\u001b[0m\u001b[1m[\u001b[0m\u001b[1m[\u001b[0m \u001b[1;36m0.0494\u001b[0m, \u001b[1;36m-0.0211\u001b[0m\u001b[1m]\u001b[0m,\n",
       "         \u001b[1m[\u001b[0m \u001b[1;36m0.0494\u001b[0m, \u001b[1;36m-0.0211\u001b[0m\u001b[1m]\u001b[0m,\n",
       "         \u001b[1m[\u001b[0m \u001b[1;36m0.0494\u001b[0m, \u001b[1;36m-0.0211\u001b[0m\u001b[1m]\u001b[0m\u001b[1m]\u001b[0m,\n",
       "\n",
       "        \u001b[1m[\u001b[0m\u001b[1m[\u001b[0m \u001b[1;36m0.0494\u001b[0m, \u001b[1;36m-0.0211\u001b[0m\u001b[1m]\u001b[0m,\n",
       "         \u001b[1m[\u001b[0m \u001b[1;36m0.0494\u001b[0m, \u001b[1;36m-0.0211\u001b[0m\u001b[1m]\u001b[0m,\n",
       "         \u001b[1m[\u001b[0m \u001b[1;36m1.3134\u001b[0m, \u001b[1;36m-0.4618\u001b[0m\u001b[1m]\u001b[0m\u001b[1m]\u001b[0m,\n",
       "\n",
       "        \u001b[1m[\u001b[0m\u001b[1m[\u001b[0m \u001b[1;36m0.0494\u001b[0m, \u001b[1;36m-0.0211\u001b[0m\u001b[1m]\u001b[0m,\n",
       "         \u001b[1m[\u001b[0m \u001b[1;36m1.3134\u001b[0m, \u001b[1;36m-0.4618\u001b[0m\u001b[1m]\u001b[0m,\n",
       "         \u001b[1m[\u001b[0m\u001b[1;36m-1.1856\u001b[0m,  \u001b[1;36m1.1905\u001b[0m\u001b[1m]\u001b[0m\u001b[1m]\u001b[0m,\n",
       "\n",
       "        \u001b[1m[\u001b[0m\u001b[1m[\u001b[0m \u001b[1;36m1.3134\u001b[0m, \u001b[1;36m-0.4618\u001b[0m\u001b[1m]\u001b[0m,\n",
       "         \u001b[1m[\u001b[0m\u001b[1;36m-1.1856\u001b[0m,  \u001b[1;36m1.1905\u001b[0m\u001b[1m]\u001b[0m,\n",
       "         \u001b[1m[\u001b[0m\u001b[1;36m-1.1856\u001b[0m,  \u001b[1;36m1.1905\u001b[0m\u001b[1m]\u001b[0m\u001b[1m]\u001b[0m,\n",
       "\n",
       "        \u001b[1m[\u001b[0m\u001b[1m[\u001b[0m\u001b[1;36m-1.1856\u001b[0m,  \u001b[1;36m1.1905\u001b[0m\u001b[1m]\u001b[0m,\n",
       "         \u001b[1m[\u001b[0m\u001b[1;36m-1.1856\u001b[0m,  \u001b[1;36m1.1905\u001b[0m\u001b[1m]\u001b[0m,\n",
       "         \u001b[1m[\u001b[0m \u001b[1;36m0.6477\u001b[0m, \u001b[1;36m-0.5360\u001b[0m\u001b[1m]\u001b[0m\u001b[1m]\u001b[0m,\n",
       "\n",
       "        \u001b[1m[\u001b[0m\u001b[1m[\u001b[0m \u001b[1;36m0.0494\u001b[0m, \u001b[1;36m-0.0211\u001b[0m\u001b[1m]\u001b[0m,\n",
       "         \u001b[1m[\u001b[0m \u001b[1;36m0.0494\u001b[0m, \u001b[1;36m-0.0211\u001b[0m\u001b[1m]\u001b[0m,\n",
       "         \u001b[1m[\u001b[0m \u001b[1;36m0.0494\u001b[0m, \u001b[1;36m-0.0211\u001b[0m\u001b[1m]\u001b[0m\u001b[1m]\u001b[0m,\n",
       "\n",
       "        \u001b[1m[\u001b[0m\u001b[1m[\u001b[0m \u001b[1;36m0.0494\u001b[0m, \u001b[1;36m-0.0211\u001b[0m\u001b[1m]\u001b[0m,\n",
       "         \u001b[1m[\u001b[0m \u001b[1;36m0.0494\u001b[0m, \u001b[1;36m-0.0211\u001b[0m\u001b[1m]\u001b[0m,\n",
       "         \u001b[1m[\u001b[0m \u001b[1;36m0.3233\u001b[0m, \u001b[1;36m-0.4307\u001b[0m\u001b[1m]\u001b[0m\u001b[1m]\u001b[0m,\n",
       "\n",
       "        \u001b[1m[\u001b[0m\u001b[1m[\u001b[0m \u001b[1;36m0.0494\u001b[0m, \u001b[1;36m-0.0211\u001b[0m\u001b[1m]\u001b[0m,\n",
       "         \u001b[1m[\u001b[0m \u001b[1;36m0.3233\u001b[0m, \u001b[1;36m-0.4307\u001b[0m\u001b[1m]\u001b[0m,\n",
       "         \u001b[1m[\u001b[0m \u001b[1;36m1.7086\u001b[0m,  \u001b[1;36m0.4918\u001b[0m\u001b[1m]\u001b[0m\u001b[1m]\u001b[0m,\n",
       "\n",
       "        \u001b[1m[\u001b[0m\u001b[1m[\u001b[0m \u001b[1;36m0.3233\u001b[0m, \u001b[1;36m-0.4307\u001b[0m\u001b[1m]\u001b[0m,\n",
       "         \u001b[1m[\u001b[0m \u001b[1;36m1.7086\u001b[0m,  \u001b[1;36m0.4918\u001b[0m\u001b[1m]\u001b[0m,\n",
       "         \u001b[1m[\u001b[0m\u001b[1;36m-0.5182\u001b[0m,  \u001b[1;36m0.1713\u001b[0m\u001b[1m]\u001b[0m\u001b[1m]\u001b[0m,\n",
       "\n",
       "        \u001b[1m[\u001b[0m\u001b[1m[\u001b[0m \u001b[1;36m1.7086\u001b[0m,  \u001b[1;36m0.4918\u001b[0m\u001b[1m]\u001b[0m,\n",
       "         \u001b[1m[\u001b[0m\u001b[1;36m-0.5182\u001b[0m,  \u001b[1;36m0.1713\u001b[0m\u001b[1m]\u001b[0m,\n",
       "         \u001b[1m[\u001b[0m\u001b[1;36m-1.0127\u001b[0m, \u001b[1;36m-1.0864\u001b[0m\u001b[1m]\u001b[0m\u001b[1m]\u001b[0m,\n",
       "\n",
       "        \u001b[1m[\u001b[0m\u001b[1m[\u001b[0m\u001b[1;36m-0.5182\u001b[0m,  \u001b[1;36m0.1713\u001b[0m\u001b[1m]\u001b[0m,\n",
       "         \u001b[1m[\u001b[0m\u001b[1;36m-1.0127\u001b[0m, \u001b[1;36m-1.0864\u001b[0m\u001b[1m]\u001b[0m,\n",
       "         \u001b[1m[\u001b[0m\u001b[1;36m-0.5182\u001b[0m,  \u001b[1;36m0.1713\u001b[0m\u001b[1m]\u001b[0m\u001b[1m]\u001b[0m,\n",
       "\n",
       "        \u001b[1m[\u001b[0m\u001b[1m[\u001b[0m\u001b[1;36m-1.0127\u001b[0m, \u001b[1;36m-1.0864\u001b[0m\u001b[1m]\u001b[0m,\n",
       "         \u001b[1m[\u001b[0m\u001b[1;36m-0.5182\u001b[0m,  \u001b[1;36m0.1713\u001b[0m\u001b[1m]\u001b[0m,\n",
       "         \u001b[1m[\u001b[0m \u001b[1;36m0.6477\u001b[0m, \u001b[1;36m-0.5360\u001b[0m\u001b[1m]\u001b[0m\u001b[1m]\u001b[0m\u001b[1m]\u001b[0m\u001b[1m)\u001b[0m\n"
      ]
     },
     "metadata": {},
     "output_type": "display_data"
    }
   ],
   "source": [
    "C[X]"
   ]
  },
  {
   "cell_type": "code",
   "execution_count": null,
   "id": "d4986639",
   "metadata": {},
   "outputs": [
    {
     "data": {
      "text/html": [
       "<pre style=\"white-space:pre;overflow-x:auto;line-height:normal;font-family:Menlo,'DejaVu Sans Mono',consolas,'Courier New',monospace\"><span style=\"color: #800080; text-decoration-color: #800080; font-weight: bold\">torch.Size</span><span style=\"font-weight: bold\">([</span><span style=\"color: #008080; text-decoration-color: #008080; font-weight: bold\">12</span>, <span style=\"color: #008080; text-decoration-color: #008080; font-weight: bold\">3</span>, <span style=\"color: #008080; text-decoration-color: #008080; font-weight: bold\">2</span><span style=\"font-weight: bold\">])</span>\n",
       "</pre>\n"
      ],
      "text/plain": [
       "\u001b[1;35mtorch.Size\u001b[0m\u001b[1m(\u001b[0m\u001b[1m[\u001b[0m\u001b[1;36m12\u001b[0m, \u001b[1;36m3\u001b[0m, \u001b[1;36m2\u001b[0m\u001b[1m]\u001b[0m\u001b[1m)\u001b[0m\n"
      ]
     },
     "metadata": {},
     "output_type": "display_data"
    }
   ],
   "source": [
    "C[X].shape"
   ]
  },
  {
   "cell_type": "code",
   "execution_count": null,
   "id": "eb411f62",
   "metadata": {},
   "outputs": [
    {
     "data": {
      "text/html": [
       "<pre style=\"white-space:pre;overflow-x:auto;line-height:normal;font-family:Menlo,'DejaVu Sans Mono',consolas,'Courier New',monospace\"><span style=\"color: #800080; text-decoration-color: #800080; font-weight: bold\">tensor</span><span style=\"font-weight: bold\">(</span><span style=\"color: #008080; text-decoration-color: #008080; font-weight: bold\">1</span><span style=\"font-weight: bold\">)</span>\n",
       "</pre>\n"
      ],
      "text/plain": [
       "\u001b[1;35mtensor\u001b[0m\u001b[1m(\u001b[0m\u001b[1;36m1\u001b[0m\u001b[1m)\u001b[0m\n"
      ]
     },
     "metadata": {},
     "output_type": "display_data"
    }
   ],
   "source": [
    "X[11, 2]"
   ]
  },
  {
   "cell_type": "code",
   "execution_count": null,
   "id": "43d15c32",
   "metadata": {},
   "outputs": [
    {
     "data": {
      "text/html": [
       "<pre style=\"white-space:pre;overflow-x:auto;line-height:normal;font-family:Menlo,'DejaVu Sans Mono',consolas,'Courier New',monospace\"><span style=\"color: #800080; text-decoration-color: #800080; font-weight: bold\">tensor</span><span style=\"font-weight: bold\">([</span> <span style=\"color: #008080; text-decoration-color: #008080; font-weight: bold\">0.6477</span>, <span style=\"color: #008080; text-decoration-color: #008080; font-weight: bold\">-0.5360</span><span style=\"font-weight: bold\">])</span>\n",
       "</pre>\n"
      ],
      "text/plain": [
       "\u001b[1;35mtensor\u001b[0m\u001b[1m(\u001b[0m\u001b[1m[\u001b[0m \u001b[1;36m0.6477\u001b[0m, \u001b[1;36m-0.5360\u001b[0m\u001b[1m]\u001b[0m\u001b[1m)\u001b[0m\n"
      ]
     },
     "metadata": {},
     "output_type": "display_data"
    }
   ],
   "source": [
    "C[X][11, 2]"
   ]
  },
  {
   "cell_type": "code",
   "execution_count": null,
   "id": "5c4987cb",
   "metadata": {},
   "outputs": [
    {
     "data": {
      "text/html": [
       "<pre style=\"white-space:pre;overflow-x:auto;line-height:normal;font-family:Menlo,'DejaVu Sans Mono',consolas,'Courier New',monospace\"><span style=\"color: #800080; text-decoration-color: #800080; font-weight: bold\">tensor</span><span style=\"font-weight: bold\">([</span> <span style=\"color: #008080; text-decoration-color: #008080; font-weight: bold\">0.6477</span>, <span style=\"color: #008080; text-decoration-color: #008080; font-weight: bold\">-0.5360</span><span style=\"font-weight: bold\">])</span>\n",
       "</pre>\n"
      ],
      "text/plain": [
       "\u001b[1;35mtensor\u001b[0m\u001b[1m(\u001b[0m\u001b[1m[\u001b[0m \u001b[1;36m0.6477\u001b[0m, \u001b[1;36m-0.5360\u001b[0m\u001b[1m]\u001b[0m\u001b[1m)\u001b[0m\n"
      ]
     },
     "metadata": {},
     "output_type": "display_data"
    }
   ],
   "source": [
    "C[1]"
   ]
  },
  {
   "cell_type": "code",
   "execution_count": null,
   "id": "da19eb45",
   "metadata": {},
   "outputs": [
    {
     "data": {
      "text/html": [
       "<pre style=\"white-space:pre;overflow-x:auto;line-height:normal;font-family:Menlo,'DejaVu Sans Mono',consolas,'Courier New',monospace\"><span style=\"color: #00ff00; text-decoration-color: #00ff00; font-style: italic\">True</span>\n",
       "</pre>\n"
      ],
      "text/plain": [
       "\u001b[3;92mTrue\u001b[0m\n"
      ]
     },
     "metadata": {},
     "output_type": "display_data"
    }
   ],
   "source": [
    "torch.equal(C[X][11, 2], C[1])"
   ]
  },
  {
   "cell_type": "markdown",
   "id": "79830db2",
   "metadata": {},
   "source": [
    "## Hidden Layer"
   ]
  },
  {
   "cell_type": "code",
   "execution_count": null,
   "id": "46aeb625",
   "metadata": {},
   "outputs": [
    {
     "data": {
      "text/html": [
       "<pre style=\"white-space:pre;overflow-x:auto;line-height:normal;font-family:Menlo,'DejaVu Sans Mono',consolas,'Courier New',monospace\"><span style=\"color: #800080; text-decoration-color: #800080; font-weight: bold\">torch.Size</span><span style=\"font-weight: bold\">([</span><span style=\"color: #008080; text-decoration-color: #008080; font-weight: bold\">12</span>, <span style=\"color: #008080; text-decoration-color: #008080; font-weight: bold\">3</span>, <span style=\"color: #008080; text-decoration-color: #008080; font-weight: bold\">2</span><span style=\"font-weight: bold\">])</span>\n",
       "</pre>\n"
      ],
      "text/plain": [
       "\u001b[1;35mtorch.Size\u001b[0m\u001b[1m(\u001b[0m\u001b[1m[\u001b[0m\u001b[1;36m12\u001b[0m, \u001b[1;36m3\u001b[0m, \u001b[1;36m2\u001b[0m\u001b[1m]\u001b[0m\u001b[1m)\u001b[0m\n"
      ]
     },
     "metadata": {},
     "output_type": "display_data"
    }
   ],
   "source": [
    "emb = C[X]\n",
    "emb.shape"
   ]
  },
  {
   "cell_type": "code",
   "execution_count": null,
   "id": "d41a154b",
   "metadata": {},
   "outputs": [],
   "source": [
    "W1 = torch.randn((6, 100))\n",
    "b1 = torch.randn(100)"
   ]
  },
  {
   "cell_type": "code",
   "execution_count": null,
   "id": "42c1c899",
   "metadata": {},
   "outputs": [
    {
     "data": {
      "text/html": [
       "<pre style=\"white-space:pre;overflow-x:auto;line-height:normal;font-family:Menlo,'DejaVu Sans Mono',consolas,'Courier New',monospace\"><span style=\"font-weight: bold\">(</span><span style=\"color: #800080; text-decoration-color: #800080; font-weight: bold\">torch.Size</span><span style=\"font-weight: bold\">([</span><span style=\"color: #008080; text-decoration-color: #008080; font-weight: bold\">6</span>, <span style=\"color: #008080; text-decoration-color: #008080; font-weight: bold\">100</span><span style=\"font-weight: bold\">])</span>, <span style=\"color: #800080; text-decoration-color: #800080; font-weight: bold\">torch.Size</span><span style=\"font-weight: bold\">([</span><span style=\"color: #008080; text-decoration-color: #008080; font-weight: bold\">100</span><span style=\"font-weight: bold\">]))</span>\n",
       "</pre>\n"
      ],
      "text/plain": [
       "\u001b[1m(\u001b[0m\u001b[1;35mtorch.Size\u001b[0m\u001b[1m(\u001b[0m\u001b[1m[\u001b[0m\u001b[1;36m6\u001b[0m, \u001b[1;36m100\u001b[0m\u001b[1m]\u001b[0m\u001b[1m)\u001b[0m, \u001b[1;35mtorch.Size\u001b[0m\u001b[1m(\u001b[0m\u001b[1m[\u001b[0m\u001b[1;36m100\u001b[0m\u001b[1m]\u001b[0m\u001b[1m)\u001b[0m\u001b[1m)\u001b[0m\n"
      ]
     },
     "metadata": {},
     "output_type": "display_data"
    }
   ],
   "source": [
    "W1.shape, b1.shape"
   ]
  },
  {
   "cell_type": "markdown",
   "id": "b7d9276f",
   "metadata": {},
   "source": [
    "We have to flatten the last two dimensions of `emb` so that it can be multiplied with `W1`"
   ]
  },
  {
   "cell_type": "code",
   "execution_count": null,
   "id": "8f4c7086",
   "metadata": {},
   "outputs": [
    {
     "data": {
      "text/html": [
       "<pre style=\"white-space:pre;overflow-x:auto;line-height:normal;font-family:Menlo,'DejaVu Sans Mono',consolas,'Courier New',monospace\"><span style=\"color: #800080; text-decoration-color: #800080; font-weight: bold\">torch.Size</span><span style=\"font-weight: bold\">([</span><span style=\"color: #008080; text-decoration-color: #008080; font-weight: bold\">12</span>, <span style=\"color: #008080; text-decoration-color: #008080; font-weight: bold\">2</span><span style=\"font-weight: bold\">])</span>\n",
       "</pre>\n"
      ],
      "text/plain": [
       "\u001b[1;35mtorch.Size\u001b[0m\u001b[1m(\u001b[0m\u001b[1m[\u001b[0m\u001b[1;36m12\u001b[0m, \u001b[1;36m2\u001b[0m\u001b[1m]\u001b[0m\u001b[1m)\u001b[0m\n"
      ]
     },
     "metadata": {},
     "output_type": "display_data"
    }
   ],
   "source": [
    "emb[:, 0, :].shape"
   ]
  },
  {
   "cell_type": "markdown",
   "id": "d0be9378",
   "metadata": {},
   "source": [
    "### `torch.cat` and `torch.bind`"
   ]
  },
  {
   "cell_type": "code",
   "execution_count": null,
   "id": "71c3da5c",
   "metadata": {},
   "outputs": [
    {
     "data": {
      "text/html": [
       "<pre style=\"white-space:pre;overflow-x:auto;line-height:normal;font-family:Menlo,'DejaVu Sans Mono',consolas,'Courier New',monospace\"><span style=\"color: #800080; text-decoration-color: #800080; font-weight: bold\">torch.Size</span><span style=\"font-weight: bold\">([</span><span style=\"color: #008080; text-decoration-color: #008080; font-weight: bold\">12</span>, <span style=\"color: #008080; text-decoration-color: #008080; font-weight: bold\">6</span><span style=\"font-weight: bold\">])</span>\n",
       "</pre>\n"
      ],
      "text/plain": [
       "\u001b[1;35mtorch.Size\u001b[0m\u001b[1m(\u001b[0m\u001b[1m[\u001b[0m\u001b[1;36m12\u001b[0m, \u001b[1;36m6\u001b[0m\u001b[1m]\u001b[0m\u001b[1m)\u001b[0m\n"
      ]
     },
     "metadata": {},
     "output_type": "display_data"
    }
   ],
   "source": [
    "torch.cat([emb[:, 0, :], emb[:, 1, :], emb[:, 2, :]], 1).shape"
   ]
  },
  {
   "cell_type": "code",
   "execution_count": null,
   "id": "cc4a5d22",
   "metadata": {},
   "outputs": [
    {
     "data": {
      "text/html": [
       "<pre style=\"white-space:pre;overflow-x:auto;line-height:normal;font-family:Menlo,'DejaVu Sans Mono',consolas,'Courier New',monospace\"><span style=\"color: #008080; text-decoration-color: #008080; font-weight: bold\">3</span>\n",
       "</pre>\n"
      ],
      "text/plain": [
       "\u001b[1;36m3\u001b[0m\n"
      ]
     },
     "metadata": {},
     "output_type": "display_data"
    }
   ],
   "source": [
    "len(torch.unbind(emb, 1))"
   ]
  },
  {
   "cell_type": "code",
   "execution_count": null,
   "id": "4c7af029",
   "metadata": {},
   "outputs": [
    {
     "data": {
      "text/html": [
       "<pre style=\"white-space:pre;overflow-x:auto;line-height:normal;font-family:Menlo,'DejaVu Sans Mono',consolas,'Courier New',monospace\"><span style=\"color: #800080; text-decoration-color: #800080; font-weight: bold\">torch.Size</span><span style=\"font-weight: bold\">([</span><span style=\"color: #008080; text-decoration-color: #008080; font-weight: bold\">12</span>, <span style=\"color: #008080; text-decoration-color: #008080; font-weight: bold\">6</span><span style=\"font-weight: bold\">])</span>\n",
       "</pre>\n"
      ],
      "text/plain": [
       "\u001b[1;35mtorch.Size\u001b[0m\u001b[1m(\u001b[0m\u001b[1m[\u001b[0m\u001b[1;36m12\u001b[0m, \u001b[1;36m6\u001b[0m\u001b[1m]\u001b[0m\u001b[1m)\u001b[0m\n"
      ]
     },
     "metadata": {},
     "output_type": "display_data"
    }
   ],
   "source": [
    "torch.cat(torch.unbind(emb, 1), 1).shape"
   ]
  },
  {
   "cell_type": "markdown",
   "id": "cb2e46d5",
   "metadata": {},
   "source": [
    "The above one is insufficient and creates memory"
   ]
  },
  {
   "cell_type": "markdown",
   "id": "26c6e24c",
   "metadata": {},
   "source": [
    "### torch internal: storage, views"
   ]
  },
  {
   "cell_type": "code",
   "execution_count": null,
   "id": "2155f90c",
   "metadata": {},
   "outputs": [
    {
     "data": {
      "text/html": [
       "<pre style=\"white-space:pre;overflow-x:auto;line-height:normal;font-family:Menlo,'DejaVu Sans Mono',consolas,'Courier New',monospace\"><span style=\"color: #800080; text-decoration-color: #800080; font-weight: bold\">tensor</span><span style=\"font-weight: bold\">([</span> <span style=\"color: #008080; text-decoration-color: #008080; font-weight: bold\">0</span>,  <span style=\"color: #008080; text-decoration-color: #008080; font-weight: bold\">1</span>,  <span style=\"color: #008080; text-decoration-color: #008080; font-weight: bold\">2</span>,  <span style=\"color: #008080; text-decoration-color: #008080; font-weight: bold\">3</span>,  <span style=\"color: #008080; text-decoration-color: #008080; font-weight: bold\">4</span>,  <span style=\"color: #008080; text-decoration-color: #008080; font-weight: bold\">5</span>,  <span style=\"color: #008080; text-decoration-color: #008080; font-weight: bold\">6</span>,  <span style=\"color: #008080; text-decoration-color: #008080; font-weight: bold\">7</span>,  <span style=\"color: #008080; text-decoration-color: #008080; font-weight: bold\">8</span>,  <span style=\"color: #008080; text-decoration-color: #008080; font-weight: bold\">9</span>, <span style=\"color: #008080; text-decoration-color: #008080; font-weight: bold\">10</span>, <span style=\"color: #008080; text-decoration-color: #008080; font-weight: bold\">11</span>, <span style=\"color: #008080; text-decoration-color: #008080; font-weight: bold\">12</span>, <span style=\"color: #008080; text-decoration-color: #008080; font-weight: bold\">13</span>, <span style=\"color: #008080; text-decoration-color: #008080; font-weight: bold\">14</span>, <span style=\"color: #008080; text-decoration-color: #008080; font-weight: bold\">15</span>, <span style=\"color: #008080; text-decoration-color: #008080; font-weight: bold\">16</span>, <span style=\"color: #008080; text-decoration-color: #008080; font-weight: bold\">17</span><span style=\"font-weight: bold\">])</span>\n",
       "</pre>\n"
      ],
      "text/plain": [
       "\u001b[1;35mtensor\u001b[0m\u001b[1m(\u001b[0m\u001b[1m[\u001b[0m \u001b[1;36m0\u001b[0m,  \u001b[1;36m1\u001b[0m,  \u001b[1;36m2\u001b[0m,  \u001b[1;36m3\u001b[0m,  \u001b[1;36m4\u001b[0m,  \u001b[1;36m5\u001b[0m,  \u001b[1;36m6\u001b[0m,  \u001b[1;36m7\u001b[0m,  \u001b[1;36m8\u001b[0m,  \u001b[1;36m9\u001b[0m, \u001b[1;36m10\u001b[0m, \u001b[1;36m11\u001b[0m, \u001b[1;36m12\u001b[0m, \u001b[1;36m13\u001b[0m, \u001b[1;36m14\u001b[0m, \u001b[1;36m15\u001b[0m, \u001b[1;36m16\u001b[0m, \u001b[1;36m17\u001b[0m\u001b[1m]\u001b[0m\u001b[1m)\u001b[0m\n"
      ]
     },
     "metadata": {},
     "output_type": "display_data"
    }
   ],
   "source": [
    "a = torch.arange(18)\n",
    "a"
   ]
  },
  {
   "cell_type": "code",
   "execution_count": null,
   "id": "c4fb32d8",
   "metadata": {},
   "outputs": [
    {
     "data": {
      "text/html": [
       "<pre style=\"white-space:pre;overflow-x:auto;line-height:normal;font-family:Menlo,'DejaVu Sans Mono',consolas,'Courier New',monospace\"><span style=\"color: #800080; text-decoration-color: #800080; font-weight: bold\">torch.Size</span><span style=\"font-weight: bold\">([</span><span style=\"color: #008080; text-decoration-color: #008080; font-weight: bold\">18</span><span style=\"font-weight: bold\">])</span>\n",
       "</pre>\n"
      ],
      "text/plain": [
       "\u001b[1;35mtorch.Size\u001b[0m\u001b[1m(\u001b[0m\u001b[1m[\u001b[0m\u001b[1;36m18\u001b[0m\u001b[1m]\u001b[0m\u001b[1m)\u001b[0m\n"
      ]
     },
     "metadata": {},
     "output_type": "display_data"
    }
   ],
   "source": [
    "a.shape"
   ]
  },
  {
   "cell_type": "code",
   "execution_count": null,
   "id": "da6317fc",
   "metadata": {},
   "outputs": [
    {
     "data": {
      "text/html": [
       "<pre style=\"white-space:pre;overflow-x:auto;line-height:normal;font-family:Menlo,'DejaVu Sans Mono',consolas,'Courier New',monospace\">\n",
       "<span style=\"color: #800080; text-decoration-color: #800080; font-weight: bold\">tensor</span><span style=\"font-weight: bold\">([[</span> <span style=\"color: #008080; text-decoration-color: #008080; font-weight: bold\">0</span>,  <span style=\"color: #008080; text-decoration-color: #008080; font-weight: bold\">1</span>,  <span style=\"color: #008080; text-decoration-color: #008080; font-weight: bold\">2</span>,  <span style=\"color: #008080; text-decoration-color: #008080; font-weight: bold\">3</span>,  <span style=\"color: #008080; text-decoration-color: #008080; font-weight: bold\">4</span>,  <span style=\"color: #008080; text-decoration-color: #008080; font-weight: bold\">5</span>,  <span style=\"color: #008080; text-decoration-color: #008080; font-weight: bold\">6</span>,  <span style=\"color: #008080; text-decoration-color: #008080; font-weight: bold\">7</span>,  <span style=\"color: #008080; text-decoration-color: #008080; font-weight: bold\">8</span><span style=\"font-weight: bold\">]</span>,\n",
       "        <span style=\"font-weight: bold\">[</span> <span style=\"color: #008080; text-decoration-color: #008080; font-weight: bold\">9</span>, <span style=\"color: #008080; text-decoration-color: #008080; font-weight: bold\">10</span>, <span style=\"color: #008080; text-decoration-color: #008080; font-weight: bold\">11</span>, <span style=\"color: #008080; text-decoration-color: #008080; font-weight: bold\">12</span>, <span style=\"color: #008080; text-decoration-color: #008080; font-weight: bold\">13</span>, <span style=\"color: #008080; text-decoration-color: #008080; font-weight: bold\">14</span>, <span style=\"color: #008080; text-decoration-color: #008080; font-weight: bold\">15</span>, <span style=\"color: #008080; text-decoration-color: #008080; font-weight: bold\">16</span>, <span style=\"color: #008080; text-decoration-color: #008080; font-weight: bold\">17</span><span style=\"font-weight: bold\">]])</span>\n",
       "</pre>\n"
      ],
      "text/plain": [
       "\n",
       "\u001b[1;35mtensor\u001b[0m\u001b[1m(\u001b[0m\u001b[1m[\u001b[0m\u001b[1m[\u001b[0m \u001b[1;36m0\u001b[0m,  \u001b[1;36m1\u001b[0m,  \u001b[1;36m2\u001b[0m,  \u001b[1;36m3\u001b[0m,  \u001b[1;36m4\u001b[0m,  \u001b[1;36m5\u001b[0m,  \u001b[1;36m6\u001b[0m,  \u001b[1;36m7\u001b[0m,  \u001b[1;36m8\u001b[0m\u001b[1m]\u001b[0m,\n",
       "        \u001b[1m[\u001b[0m \u001b[1;36m9\u001b[0m, \u001b[1;36m10\u001b[0m, \u001b[1;36m11\u001b[0m, \u001b[1;36m12\u001b[0m, \u001b[1;36m13\u001b[0m, \u001b[1;36m14\u001b[0m, \u001b[1;36m15\u001b[0m, \u001b[1;36m16\u001b[0m, \u001b[1;36m17\u001b[0m\u001b[1m]\u001b[0m\u001b[1m]\u001b[0m\u001b[1m)\u001b[0m\n"
      ]
     },
     "metadata": {},
     "output_type": "display_data"
    }
   ],
   "source": [
    "a.view(2, 9)"
   ]
  },
  {
   "cell_type": "code",
   "execution_count": null,
   "id": "d7d5b6da",
   "metadata": {},
   "outputs": [
    {
     "data": {
      "text/html": [
       "<pre style=\"white-space:pre;overflow-x:auto;line-height:normal;font-family:Menlo,'DejaVu Sans Mono',consolas,'Courier New',monospace\">\n",
       "<span style=\"color: #800080; text-decoration-color: #800080; font-weight: bold\">tensor</span><span style=\"font-weight: bold\">([[</span> <span style=\"color: #008080; text-decoration-color: #008080; font-weight: bold\">0</span>,  <span style=\"color: #008080; text-decoration-color: #008080; font-weight: bold\">1</span><span style=\"font-weight: bold\">]</span>,\n",
       "        <span style=\"font-weight: bold\">[</span> <span style=\"color: #008080; text-decoration-color: #008080; font-weight: bold\">2</span>,  <span style=\"color: #008080; text-decoration-color: #008080; font-weight: bold\">3</span><span style=\"font-weight: bold\">]</span>,\n",
       "        <span style=\"font-weight: bold\">[</span> <span style=\"color: #008080; text-decoration-color: #008080; font-weight: bold\">4</span>,  <span style=\"color: #008080; text-decoration-color: #008080; font-weight: bold\">5</span><span style=\"font-weight: bold\">]</span>,\n",
       "        <span style=\"font-weight: bold\">[</span> <span style=\"color: #008080; text-decoration-color: #008080; font-weight: bold\">6</span>,  <span style=\"color: #008080; text-decoration-color: #008080; font-weight: bold\">7</span><span style=\"font-weight: bold\">]</span>,\n",
       "        <span style=\"font-weight: bold\">[</span> <span style=\"color: #008080; text-decoration-color: #008080; font-weight: bold\">8</span>,  <span style=\"color: #008080; text-decoration-color: #008080; font-weight: bold\">9</span><span style=\"font-weight: bold\">]</span>,\n",
       "        <span style=\"font-weight: bold\">[</span><span style=\"color: #008080; text-decoration-color: #008080; font-weight: bold\">10</span>, <span style=\"color: #008080; text-decoration-color: #008080; font-weight: bold\">11</span><span style=\"font-weight: bold\">]</span>,\n",
       "        <span style=\"font-weight: bold\">[</span><span style=\"color: #008080; text-decoration-color: #008080; font-weight: bold\">12</span>, <span style=\"color: #008080; text-decoration-color: #008080; font-weight: bold\">13</span><span style=\"font-weight: bold\">]</span>,\n",
       "        <span style=\"font-weight: bold\">[</span><span style=\"color: #008080; text-decoration-color: #008080; font-weight: bold\">14</span>, <span style=\"color: #008080; text-decoration-color: #008080; font-weight: bold\">15</span><span style=\"font-weight: bold\">]</span>,\n",
       "        <span style=\"font-weight: bold\">[</span><span style=\"color: #008080; text-decoration-color: #008080; font-weight: bold\">16</span>, <span style=\"color: #008080; text-decoration-color: #008080; font-weight: bold\">17</span><span style=\"font-weight: bold\">]])</span>\n",
       "</pre>\n"
      ],
      "text/plain": [
       "\n",
       "\u001b[1;35mtensor\u001b[0m\u001b[1m(\u001b[0m\u001b[1m[\u001b[0m\u001b[1m[\u001b[0m \u001b[1;36m0\u001b[0m,  \u001b[1;36m1\u001b[0m\u001b[1m]\u001b[0m,\n",
       "        \u001b[1m[\u001b[0m \u001b[1;36m2\u001b[0m,  \u001b[1;36m3\u001b[0m\u001b[1m]\u001b[0m,\n",
       "        \u001b[1m[\u001b[0m \u001b[1;36m4\u001b[0m,  \u001b[1;36m5\u001b[0m\u001b[1m]\u001b[0m,\n",
       "        \u001b[1m[\u001b[0m \u001b[1;36m6\u001b[0m,  \u001b[1;36m7\u001b[0m\u001b[1m]\u001b[0m,\n",
       "        \u001b[1m[\u001b[0m \u001b[1;36m8\u001b[0m,  \u001b[1;36m9\u001b[0m\u001b[1m]\u001b[0m,\n",
       "        \u001b[1m[\u001b[0m\u001b[1;36m10\u001b[0m, \u001b[1;36m11\u001b[0m\u001b[1m]\u001b[0m,\n",
       "        \u001b[1m[\u001b[0m\u001b[1;36m12\u001b[0m, \u001b[1;36m13\u001b[0m\u001b[1m]\u001b[0m,\n",
       "        \u001b[1m[\u001b[0m\u001b[1;36m14\u001b[0m, \u001b[1;36m15\u001b[0m\u001b[1m]\u001b[0m,\n",
       "        \u001b[1m[\u001b[0m\u001b[1;36m16\u001b[0m, \u001b[1;36m17\u001b[0m\u001b[1m]\u001b[0m\u001b[1m]\u001b[0m\u001b[1m)\u001b[0m\n"
      ]
     },
     "metadata": {},
     "output_type": "display_data"
    }
   ],
   "source": [
    "a.view(9, 2)"
   ]
  },
  {
   "cell_type": "code",
   "execution_count": null,
   "id": "3af1979e",
   "metadata": {},
   "outputs": [
    {
     "data": {
      "text/html": [
       "<pre style=\"white-space:pre;overflow-x:auto;line-height:normal;font-family:Menlo,'DejaVu Sans Mono',consolas,'Courier New',monospace\">\n",
       "<span style=\"color: #800080; text-decoration-color: #800080; font-weight: bold\">tensor</span><span style=\"font-weight: bold\">([[[</span> <span style=\"color: #008080; text-decoration-color: #008080; font-weight: bold\">0</span>,  <span style=\"color: #008080; text-decoration-color: #008080; font-weight: bold\">1</span><span style=\"font-weight: bold\">]</span>,\n",
       "         <span style=\"font-weight: bold\">[</span> <span style=\"color: #008080; text-decoration-color: #008080; font-weight: bold\">2</span>,  <span style=\"color: #008080; text-decoration-color: #008080; font-weight: bold\">3</span><span style=\"font-weight: bold\">]</span>,\n",
       "         <span style=\"font-weight: bold\">[</span> <span style=\"color: #008080; text-decoration-color: #008080; font-weight: bold\">4</span>,  <span style=\"color: #008080; text-decoration-color: #008080; font-weight: bold\">5</span><span style=\"font-weight: bold\">]]</span>,\n",
       "\n",
       "        <span style=\"font-weight: bold\">[[</span> <span style=\"color: #008080; text-decoration-color: #008080; font-weight: bold\">6</span>,  <span style=\"color: #008080; text-decoration-color: #008080; font-weight: bold\">7</span><span style=\"font-weight: bold\">]</span>,\n",
       "         <span style=\"font-weight: bold\">[</span> <span style=\"color: #008080; text-decoration-color: #008080; font-weight: bold\">8</span>,  <span style=\"color: #008080; text-decoration-color: #008080; font-weight: bold\">9</span><span style=\"font-weight: bold\">]</span>,\n",
       "         <span style=\"font-weight: bold\">[</span><span style=\"color: #008080; text-decoration-color: #008080; font-weight: bold\">10</span>, <span style=\"color: #008080; text-decoration-color: #008080; font-weight: bold\">11</span><span style=\"font-weight: bold\">]]</span>,\n",
       "\n",
       "        <span style=\"font-weight: bold\">[[</span><span style=\"color: #008080; text-decoration-color: #008080; font-weight: bold\">12</span>, <span style=\"color: #008080; text-decoration-color: #008080; font-weight: bold\">13</span><span style=\"font-weight: bold\">]</span>,\n",
       "         <span style=\"font-weight: bold\">[</span><span style=\"color: #008080; text-decoration-color: #008080; font-weight: bold\">14</span>, <span style=\"color: #008080; text-decoration-color: #008080; font-weight: bold\">15</span><span style=\"font-weight: bold\">]</span>,\n",
       "         <span style=\"font-weight: bold\">[</span><span style=\"color: #008080; text-decoration-color: #008080; font-weight: bold\">16</span>, <span style=\"color: #008080; text-decoration-color: #008080; font-weight: bold\">17</span><span style=\"font-weight: bold\">]]])</span>\n",
       "</pre>\n"
      ],
      "text/plain": [
       "\n",
       "\u001b[1;35mtensor\u001b[0m\u001b[1m(\u001b[0m\u001b[1m[\u001b[0m\u001b[1m[\u001b[0m\u001b[1m[\u001b[0m \u001b[1;36m0\u001b[0m,  \u001b[1;36m1\u001b[0m\u001b[1m]\u001b[0m,\n",
       "         \u001b[1m[\u001b[0m \u001b[1;36m2\u001b[0m,  \u001b[1;36m3\u001b[0m\u001b[1m]\u001b[0m,\n",
       "         \u001b[1m[\u001b[0m \u001b[1;36m4\u001b[0m,  \u001b[1;36m5\u001b[0m\u001b[1m]\u001b[0m\u001b[1m]\u001b[0m,\n",
       "\n",
       "        \u001b[1m[\u001b[0m\u001b[1m[\u001b[0m \u001b[1;36m6\u001b[0m,  \u001b[1;36m7\u001b[0m\u001b[1m]\u001b[0m,\n",
       "         \u001b[1m[\u001b[0m \u001b[1;36m8\u001b[0m,  \u001b[1;36m9\u001b[0m\u001b[1m]\u001b[0m,\n",
       "         \u001b[1m[\u001b[0m\u001b[1;36m10\u001b[0m, \u001b[1;36m11\u001b[0m\u001b[1m]\u001b[0m\u001b[1m]\u001b[0m,\n",
       "\n",
       "        \u001b[1m[\u001b[0m\u001b[1m[\u001b[0m\u001b[1;36m12\u001b[0m, \u001b[1;36m13\u001b[0m\u001b[1m]\u001b[0m,\n",
       "         \u001b[1m[\u001b[0m\u001b[1;36m14\u001b[0m, \u001b[1;36m15\u001b[0m\u001b[1m]\u001b[0m,\n",
       "         \u001b[1m[\u001b[0m\u001b[1;36m16\u001b[0m, \u001b[1;36m17\u001b[0m\u001b[1m]\u001b[0m\u001b[1m]\u001b[0m\u001b[1m]\u001b[0m\u001b[1m)\u001b[0m\n"
      ]
     },
     "metadata": {},
     "output_type": "display_data"
    }
   ],
   "source": [
    "a.view(3, 3, 2)"
   ]
  },
  {
   "cell_type": "code",
   "execution_count": null,
   "id": "84800bba",
   "metadata": {},
   "outputs": [
    {
     "data": {
      "text/html": [
       "<pre style=\"white-space:pre;overflow-x:auto;line-height:normal;font-family:Menlo,'DejaVu Sans Mono',consolas,'Courier New',monospace\">\n",
       " <span style=\"color: #008080; text-decoration-color: #008080; font-weight: bold\">0</span>\n",
       " <span style=\"color: #008080; text-decoration-color: #008080; font-weight: bold\">1</span>\n",
       " <span style=\"color: #008080; text-decoration-color: #008080; font-weight: bold\">2</span>\n",
       " <span style=\"color: #008080; text-decoration-color: #008080; font-weight: bold\">3</span>\n",
       " <span style=\"color: #008080; text-decoration-color: #008080; font-weight: bold\">4</span>\n",
       " <span style=\"color: #008080; text-decoration-color: #008080; font-weight: bold\">5</span>\n",
       " <span style=\"color: #008080; text-decoration-color: #008080; font-weight: bold\">6</span>\n",
       " <span style=\"color: #008080; text-decoration-color: #008080; font-weight: bold\">7</span>\n",
       " <span style=\"color: #008080; text-decoration-color: #008080; font-weight: bold\">8</span>\n",
       " <span style=\"color: #008080; text-decoration-color: #008080; font-weight: bold\">9</span>\n",
       " <span style=\"color: #008080; text-decoration-color: #008080; font-weight: bold\">10</span>\n",
       " <span style=\"color: #008080; text-decoration-color: #008080; font-weight: bold\">11</span>\n",
       " <span style=\"color: #008080; text-decoration-color: #008080; font-weight: bold\">12</span>\n",
       " <span style=\"color: #008080; text-decoration-color: #008080; font-weight: bold\">13</span>\n",
       " <span style=\"color: #008080; text-decoration-color: #008080; font-weight: bold\">14</span>\n",
       " <span style=\"color: #008080; text-decoration-color: #008080; font-weight: bold\">15</span>\n",
       " <span style=\"color: #008080; text-decoration-color: #008080; font-weight: bold\">16</span>\n",
       " <span style=\"color: #008080; text-decoration-color: #008080; font-weight: bold\">17</span>\n",
       "<span style=\"font-weight: bold\">[</span><span style=\"color: #800080; text-decoration-color: #800080; font-weight: bold\">torch.storage.TypedStorage</span><span style=\"font-weight: bold\">(</span><span style=\"color: #808000; text-decoration-color: #808000\">dtype</span>=<span style=\"color: #800080; text-decoration-color: #800080\">torch</span>.int64, <span style=\"color: #808000; text-decoration-color: #808000\">device</span>=<span style=\"color: #800080; text-decoration-color: #800080\">cpu</span><span style=\"font-weight: bold\">)</span> of size <span style=\"color: #008080; text-decoration-color: #008080; font-weight: bold\">18</span><span style=\"font-weight: bold\">]</span>\n",
       "</pre>\n"
      ],
      "text/plain": [
       "\n",
       " \u001b[1;36m0\u001b[0m\n",
       " \u001b[1;36m1\u001b[0m\n",
       " \u001b[1;36m2\u001b[0m\n",
       " \u001b[1;36m3\u001b[0m\n",
       " \u001b[1;36m4\u001b[0m\n",
       " \u001b[1;36m5\u001b[0m\n",
       " \u001b[1;36m6\u001b[0m\n",
       " \u001b[1;36m7\u001b[0m\n",
       " \u001b[1;36m8\u001b[0m\n",
       " \u001b[1;36m9\u001b[0m\n",
       " \u001b[1;36m10\u001b[0m\n",
       " \u001b[1;36m11\u001b[0m\n",
       " \u001b[1;36m12\u001b[0m\n",
       " \u001b[1;36m13\u001b[0m\n",
       " \u001b[1;36m14\u001b[0m\n",
       " \u001b[1;36m15\u001b[0m\n",
       " \u001b[1;36m16\u001b[0m\n",
       " \u001b[1;36m17\u001b[0m\n",
       "\u001b[1m[\u001b[0m\u001b[1;35mtorch.storage.TypedStorage\u001b[0m\u001b[1m(\u001b[0m\u001b[33mdtype\u001b[0m=\u001b[35mtorch\u001b[0m.int64, \u001b[33mdevice\u001b[0m=\u001b[35mcpu\u001b[0m\u001b[1m)\u001b[0m of size \u001b[1;36m18\u001b[0m\u001b[1m]\u001b[0m\n"
      ]
     },
     "metadata": {},
     "output_type": "display_data"
    }
   ],
   "source": [
    "a.storage()"
   ]
  },
  {
   "cell_type": "code",
   "execution_count": null,
   "id": "0a0cd0f3",
   "metadata": {},
   "outputs": [
    {
     "data": {
      "text/html": [
       "<pre style=\"white-space:pre;overflow-x:auto;line-height:normal;font-family:Menlo,'DejaVu Sans Mono',consolas,'Courier New',monospace\"><span style=\"color: #800080; text-decoration-color: #800080; font-weight: bold\">torch.Size</span><span style=\"font-weight: bold\">([</span><span style=\"color: #008080; text-decoration-color: #008080; font-weight: bold\">12</span>, <span style=\"color: #008080; text-decoration-color: #008080; font-weight: bold\">3</span>, <span style=\"color: #008080; text-decoration-color: #008080; font-weight: bold\">2</span><span style=\"font-weight: bold\">])</span>\n",
       "</pre>\n"
      ],
      "text/plain": [
       "\u001b[1;35mtorch.Size\u001b[0m\u001b[1m(\u001b[0m\u001b[1m[\u001b[0m\u001b[1;36m12\u001b[0m, \u001b[1;36m3\u001b[0m, \u001b[1;36m2\u001b[0m\u001b[1m]\u001b[0m\u001b[1m)\u001b[0m\n"
      ]
     },
     "metadata": {},
     "output_type": "display_data"
    }
   ],
   "source": [
    "emb.shape"
   ]
  },
  {
   "cell_type": "code",
   "execution_count": null,
   "id": "5476dd27",
   "metadata": {},
   "outputs": [
    {
     "data": {
      "text/html": [
       "<pre style=\"white-space:pre;overflow-x:auto;line-height:normal;font-family:Menlo,'DejaVu Sans Mono',consolas,'Courier New',monospace\">\n",
       "<span style=\"color: #800080; text-decoration-color: #800080; font-weight: bold\">tensor</span><span style=\"font-weight: bold\">([[</span> <span style=\"color: #008080; text-decoration-color: #008080; font-weight: bold\">0.0494</span>, <span style=\"color: #008080; text-decoration-color: #008080; font-weight: bold\">-0.0211</span>,  <span style=\"color: #008080; text-decoration-color: #008080; font-weight: bold\">0.0494</span>, <span style=\"color: #008080; text-decoration-color: #008080; font-weight: bold\">-0.0211</span>,  <span style=\"color: #008080; text-decoration-color: #008080; font-weight: bold\">0.0494</span>, <span style=\"color: #008080; text-decoration-color: #008080; font-weight: bold\">-0.0211</span><span style=\"font-weight: bold\">]</span>,\n",
       "        <span style=\"font-weight: bold\">[</span> <span style=\"color: #008080; text-decoration-color: #008080; font-weight: bold\">0.0494</span>, <span style=\"color: #008080; text-decoration-color: #008080; font-weight: bold\">-0.0211</span>,  <span style=\"color: #008080; text-decoration-color: #008080; font-weight: bold\">0.0494</span>, <span style=\"color: #008080; text-decoration-color: #008080; font-weight: bold\">-0.0211</span>,  <span style=\"color: #008080; text-decoration-color: #008080; font-weight: bold\">1.3134</span>, <span style=\"color: #008080; text-decoration-color: #008080; font-weight: bold\">-0.4618</span><span style=\"font-weight: bold\">]</span>,\n",
       "        <span style=\"font-weight: bold\">[</span> <span style=\"color: #008080; text-decoration-color: #008080; font-weight: bold\">0.0494</span>, <span style=\"color: #008080; text-decoration-color: #008080; font-weight: bold\">-0.0211</span>,  <span style=\"color: #008080; text-decoration-color: #008080; font-weight: bold\">1.3134</span>, <span style=\"color: #008080; text-decoration-color: #008080; font-weight: bold\">-0.4618</span>, <span style=\"color: #008080; text-decoration-color: #008080; font-weight: bold\">-1.1856</span>,  <span style=\"color: #008080; text-decoration-color: #008080; font-weight: bold\">1.1905</span><span style=\"font-weight: bold\">]</span>,\n",
       "        <span style=\"font-weight: bold\">[</span> <span style=\"color: #008080; text-decoration-color: #008080; font-weight: bold\">1.3134</span>, <span style=\"color: #008080; text-decoration-color: #008080; font-weight: bold\">-0.4618</span>, <span style=\"color: #008080; text-decoration-color: #008080; font-weight: bold\">-1.1856</span>,  <span style=\"color: #008080; text-decoration-color: #008080; font-weight: bold\">1.1905</span>, <span style=\"color: #008080; text-decoration-color: #008080; font-weight: bold\">-1.1856</span>,  <span style=\"color: #008080; text-decoration-color: #008080; font-weight: bold\">1.1905</span><span style=\"font-weight: bold\">]</span>,\n",
       "        <span style=\"font-weight: bold\">[</span><span style=\"color: #008080; text-decoration-color: #008080; font-weight: bold\">-1.1856</span>,  <span style=\"color: #008080; text-decoration-color: #008080; font-weight: bold\">1.1905</span>, <span style=\"color: #008080; text-decoration-color: #008080; font-weight: bold\">-1.1856</span>,  <span style=\"color: #008080; text-decoration-color: #008080; font-weight: bold\">1.1905</span>,  <span style=\"color: #008080; text-decoration-color: #008080; font-weight: bold\">0.6477</span>, <span style=\"color: #008080; text-decoration-color: #008080; font-weight: bold\">-0.5360</span><span style=\"font-weight: bold\">]</span>,\n",
       "        <span style=\"font-weight: bold\">[</span> <span style=\"color: #008080; text-decoration-color: #008080; font-weight: bold\">0.0494</span>, <span style=\"color: #008080; text-decoration-color: #008080; font-weight: bold\">-0.0211</span>,  <span style=\"color: #008080; text-decoration-color: #008080; font-weight: bold\">0.0494</span>, <span style=\"color: #008080; text-decoration-color: #008080; font-weight: bold\">-0.0211</span>,  <span style=\"color: #008080; text-decoration-color: #008080; font-weight: bold\">0.0494</span>, <span style=\"color: #008080; text-decoration-color: #008080; font-weight: bold\">-0.0211</span><span style=\"font-weight: bold\">]</span>,\n",
       "        <span style=\"font-weight: bold\">[</span> <span style=\"color: #008080; text-decoration-color: #008080; font-weight: bold\">0.0494</span>, <span style=\"color: #008080; text-decoration-color: #008080; font-weight: bold\">-0.0211</span>,  <span style=\"color: #008080; text-decoration-color: #008080; font-weight: bold\">0.0494</span>, <span style=\"color: #008080; text-decoration-color: #008080; font-weight: bold\">-0.0211</span>,  <span style=\"color: #008080; text-decoration-color: #008080; font-weight: bold\">0.3233</span>, <span style=\"color: #008080; text-decoration-color: #008080; font-weight: bold\">-0.4307</span><span style=\"font-weight: bold\">]</span>,\n",
       "        <span style=\"font-weight: bold\">[</span> <span style=\"color: #008080; text-decoration-color: #008080; font-weight: bold\">0.0494</span>, <span style=\"color: #008080; text-decoration-color: #008080; font-weight: bold\">-0.0211</span>,  <span style=\"color: #008080; text-decoration-color: #008080; font-weight: bold\">0.3233</span>, <span style=\"color: #008080; text-decoration-color: #008080; font-weight: bold\">-0.4307</span>,  <span style=\"color: #008080; text-decoration-color: #008080; font-weight: bold\">1.7086</span>,  <span style=\"color: #008080; text-decoration-color: #008080; font-weight: bold\">0.4918</span><span style=\"font-weight: bold\">]</span>,\n",
       "        <span style=\"font-weight: bold\">[</span> <span style=\"color: #008080; text-decoration-color: #008080; font-weight: bold\">0.3233</span>, <span style=\"color: #008080; text-decoration-color: #008080; font-weight: bold\">-0.4307</span>,  <span style=\"color: #008080; text-decoration-color: #008080; font-weight: bold\">1.7086</span>,  <span style=\"color: #008080; text-decoration-color: #008080; font-weight: bold\">0.4918</span>, <span style=\"color: #008080; text-decoration-color: #008080; font-weight: bold\">-0.5182</span>,  <span style=\"color: #008080; text-decoration-color: #008080; font-weight: bold\">0.1713</span><span style=\"font-weight: bold\">]</span>,\n",
       "        <span style=\"font-weight: bold\">[</span> <span style=\"color: #008080; text-decoration-color: #008080; font-weight: bold\">1.7086</span>,  <span style=\"color: #008080; text-decoration-color: #008080; font-weight: bold\">0.4918</span>, <span style=\"color: #008080; text-decoration-color: #008080; font-weight: bold\">-0.5182</span>,  <span style=\"color: #008080; text-decoration-color: #008080; font-weight: bold\">0.1713</span>, <span style=\"color: #008080; text-decoration-color: #008080; font-weight: bold\">-1.0127</span>, <span style=\"color: #008080; text-decoration-color: #008080; font-weight: bold\">-1.0864</span><span style=\"font-weight: bold\">]</span>,\n",
       "        <span style=\"font-weight: bold\">[</span><span style=\"color: #008080; text-decoration-color: #008080; font-weight: bold\">-0.5182</span>,  <span style=\"color: #008080; text-decoration-color: #008080; font-weight: bold\">0.1713</span>, <span style=\"color: #008080; text-decoration-color: #008080; font-weight: bold\">-1.0127</span>, <span style=\"color: #008080; text-decoration-color: #008080; font-weight: bold\">-1.0864</span>, <span style=\"color: #008080; text-decoration-color: #008080; font-weight: bold\">-0.5182</span>,  <span style=\"color: #008080; text-decoration-color: #008080; font-weight: bold\">0.1713</span><span style=\"font-weight: bold\">]</span>,\n",
       "        <span style=\"font-weight: bold\">[</span><span style=\"color: #008080; text-decoration-color: #008080; font-weight: bold\">-1.0127</span>, <span style=\"color: #008080; text-decoration-color: #008080; font-weight: bold\">-1.0864</span>, <span style=\"color: #008080; text-decoration-color: #008080; font-weight: bold\">-0.5182</span>,  <span style=\"color: #008080; text-decoration-color: #008080; font-weight: bold\">0.1713</span>,  <span style=\"color: #008080; text-decoration-color: #008080; font-weight: bold\">0.6477</span>, <span style=\"color: #008080; text-decoration-color: #008080; font-weight: bold\">-0.5360</span><span style=\"font-weight: bold\">]])</span>\n",
       "</pre>\n"
      ],
      "text/plain": [
       "\n",
       "\u001b[1;35mtensor\u001b[0m\u001b[1m(\u001b[0m\u001b[1m[\u001b[0m\u001b[1m[\u001b[0m \u001b[1;36m0.0494\u001b[0m, \u001b[1;36m-0.0211\u001b[0m,  \u001b[1;36m0.0494\u001b[0m, \u001b[1;36m-0.0211\u001b[0m,  \u001b[1;36m0.0494\u001b[0m, \u001b[1;36m-0.0211\u001b[0m\u001b[1m]\u001b[0m,\n",
       "        \u001b[1m[\u001b[0m \u001b[1;36m0.0494\u001b[0m, \u001b[1;36m-0.0211\u001b[0m,  \u001b[1;36m0.0494\u001b[0m, \u001b[1;36m-0.0211\u001b[0m,  \u001b[1;36m1.3134\u001b[0m, \u001b[1;36m-0.4618\u001b[0m\u001b[1m]\u001b[0m,\n",
       "        \u001b[1m[\u001b[0m \u001b[1;36m0.0494\u001b[0m, \u001b[1;36m-0.0211\u001b[0m,  \u001b[1;36m1.3134\u001b[0m, \u001b[1;36m-0.4618\u001b[0m, \u001b[1;36m-1.1856\u001b[0m,  \u001b[1;36m1.1905\u001b[0m\u001b[1m]\u001b[0m,\n",
       "        \u001b[1m[\u001b[0m \u001b[1;36m1.3134\u001b[0m, \u001b[1;36m-0.4618\u001b[0m, \u001b[1;36m-1.1856\u001b[0m,  \u001b[1;36m1.1905\u001b[0m, \u001b[1;36m-1.1856\u001b[0m,  \u001b[1;36m1.1905\u001b[0m\u001b[1m]\u001b[0m,\n",
       "        \u001b[1m[\u001b[0m\u001b[1;36m-1.1856\u001b[0m,  \u001b[1;36m1.1905\u001b[0m, \u001b[1;36m-1.1856\u001b[0m,  \u001b[1;36m1.1905\u001b[0m,  \u001b[1;36m0.6477\u001b[0m, \u001b[1;36m-0.5360\u001b[0m\u001b[1m]\u001b[0m,\n",
       "        \u001b[1m[\u001b[0m \u001b[1;36m0.0494\u001b[0m, \u001b[1;36m-0.0211\u001b[0m,  \u001b[1;36m0.0494\u001b[0m, \u001b[1;36m-0.0211\u001b[0m,  \u001b[1;36m0.0494\u001b[0m, \u001b[1;36m-0.0211\u001b[0m\u001b[1m]\u001b[0m,\n",
       "        \u001b[1m[\u001b[0m \u001b[1;36m0.0494\u001b[0m, \u001b[1;36m-0.0211\u001b[0m,  \u001b[1;36m0.0494\u001b[0m, \u001b[1;36m-0.0211\u001b[0m,  \u001b[1;36m0.3233\u001b[0m, \u001b[1;36m-0.4307\u001b[0m\u001b[1m]\u001b[0m,\n",
       "        \u001b[1m[\u001b[0m \u001b[1;36m0.0494\u001b[0m, \u001b[1;36m-0.0211\u001b[0m,  \u001b[1;36m0.3233\u001b[0m, \u001b[1;36m-0.4307\u001b[0m,  \u001b[1;36m1.7086\u001b[0m,  \u001b[1;36m0.4918\u001b[0m\u001b[1m]\u001b[0m,\n",
       "        \u001b[1m[\u001b[0m \u001b[1;36m0.3233\u001b[0m, \u001b[1;36m-0.4307\u001b[0m,  \u001b[1;36m1.7086\u001b[0m,  \u001b[1;36m0.4918\u001b[0m, \u001b[1;36m-0.5182\u001b[0m,  \u001b[1;36m0.1713\u001b[0m\u001b[1m]\u001b[0m,\n",
       "        \u001b[1m[\u001b[0m \u001b[1;36m1.7086\u001b[0m,  \u001b[1;36m0.4918\u001b[0m, \u001b[1;36m-0.5182\u001b[0m,  \u001b[1;36m0.1713\u001b[0m, \u001b[1;36m-1.0127\u001b[0m, \u001b[1;36m-1.0864\u001b[0m\u001b[1m]\u001b[0m,\n",
       "        \u001b[1m[\u001b[0m\u001b[1;36m-0.5182\u001b[0m,  \u001b[1;36m0.1713\u001b[0m, \u001b[1;36m-1.0127\u001b[0m, \u001b[1;36m-1.0864\u001b[0m, \u001b[1;36m-0.5182\u001b[0m,  \u001b[1;36m0.1713\u001b[0m\u001b[1m]\u001b[0m,\n",
       "        \u001b[1m[\u001b[0m\u001b[1;36m-1.0127\u001b[0m, \u001b[1;36m-1.0864\u001b[0m, \u001b[1;36m-0.5182\u001b[0m,  \u001b[1;36m0.1713\u001b[0m,  \u001b[1;36m0.6477\u001b[0m, \u001b[1;36m-0.5360\u001b[0m\u001b[1m]\u001b[0m\u001b[1m]\u001b[0m\u001b[1m)\u001b[0m\n"
      ]
     },
     "metadata": {},
     "output_type": "display_data"
    }
   ],
   "source": [
    "emb.view(12, 6)"
   ]
  },
  {
   "cell_type": "code",
   "execution_count": null,
   "id": "0d616b1e",
   "metadata": {},
   "outputs": [
    {
     "data": {
      "text/html": [
       "<pre style=\"white-space:pre;overflow-x:auto;line-height:normal;font-family:Menlo,'DejaVu Sans Mono',consolas,'Courier New',monospace\"><span style=\"color: #00ff00; text-decoration-color: #00ff00; font-style: italic\">True</span>\n",
       "</pre>\n"
      ],
      "text/plain": [
       "\u001b[3;92mTrue\u001b[0m\n"
      ]
     },
     "metadata": {},
     "output_type": "display_data"
    }
   ],
   "source": [
    "torch.equal(emb.view(12, 6), torch.cat(torch.unbind(emb, 1), 1))"
   ]
  },
  {
   "cell_type": "markdown",
   "id": "63274eb7",
   "metadata": {},
   "source": [
    "#### Now lets multiply `emb` and `W1`"
   ]
  },
  {
   "cell_type": "code",
   "execution_count": null,
   "id": "092a230c",
   "metadata": {},
   "outputs": [
    {
     "data": {
      "text/html": [
       "<pre style=\"white-space:pre;overflow-x:auto;line-height:normal;font-family:Menlo,'DejaVu Sans Mono',consolas,'Courier New',monospace\"><span style=\"color: #800080; text-decoration-color: #800080; font-weight: bold\">torch.Size</span><span style=\"font-weight: bold\">([</span><span style=\"color: #008080; text-decoration-color: #008080; font-weight: bold\">12</span>, <span style=\"color: #008080; text-decoration-color: #008080; font-weight: bold\">100</span><span style=\"font-weight: bold\">])</span>\n",
       "</pre>\n"
      ],
      "text/plain": [
       "\u001b[1;35mtorch.Size\u001b[0m\u001b[1m(\u001b[0m\u001b[1m[\u001b[0m\u001b[1;36m12\u001b[0m, \u001b[1;36m100\u001b[0m\u001b[1m]\u001b[0m\u001b[1m)\u001b[0m\n"
      ]
     },
     "metadata": {},
     "output_type": "display_data"
    }
   ],
   "source": [
    "h = emb.view(12, 6) @ W1 + b1\n",
    "h.shape"
   ]
  },
  {
   "cell_type": "code",
   "execution_count": null,
   "id": "6127e4da",
   "metadata": {},
   "outputs": [
    {
     "data": {
      "text/html": [
       "<pre style=\"white-space:pre;overflow-x:auto;line-height:normal;font-family:Menlo,'DejaVu Sans Mono',consolas,'Courier New',monospace\"><span style=\"color: #800080; text-decoration-color: #800080; font-weight: bold\">torch.Size</span><span style=\"font-weight: bold\">([</span><span style=\"color: #008080; text-decoration-color: #008080; font-weight: bold\">12</span>, <span style=\"color: #008080; text-decoration-color: #008080; font-weight: bold\">100</span><span style=\"font-weight: bold\">])</span>\n",
       "</pre>\n"
      ],
      "text/plain": [
       "\u001b[1;35mtorch.Size\u001b[0m\u001b[1m(\u001b[0m\u001b[1m[\u001b[0m\u001b[1;36m12\u001b[0m, \u001b[1;36m100\u001b[0m\u001b[1m]\u001b[0m\u001b[1m)\u001b[0m\n"
      ]
     },
     "metadata": {},
     "output_type": "display_data"
    }
   ],
   "source": [
    "h = emb.view(emb.shape[0], 6) @ W1  + b1\n",
    "h.shape"
   ]
  },
  {
   "cell_type": "code",
   "execution_count": null,
   "id": "04933ca7",
   "metadata": {},
   "outputs": [],
   "source": [
    "h = torch.tanh(emb.view(-1, 6) @ W1 + b1)"
   ]
  },
  {
   "cell_type": "code",
   "execution_count": null,
   "id": "d623116b",
   "metadata": {},
   "outputs": [
    {
     "data": {
      "text/html": [
       "<pre style=\"white-space:pre;overflow-x:auto;line-height:normal;font-family:Menlo,'DejaVu Sans Mono',consolas,'Courier New',monospace\">\n",
       "<span style=\"color: #800080; text-decoration-color: #800080; font-weight: bold\">tensor</span><span style=\"font-weight: bold\">([[</span> <span style=\"color: #008080; text-decoration-color: #008080; font-weight: bold\">0.4915</span>,  <span style=\"color: #008080; text-decoration-color: #008080; font-weight: bold\">0.7098</span>, <span style=\"color: #008080; text-decoration-color: #008080; font-weight: bold\">-0.0430</span>,  <span style=\"color: #808000; text-decoration-color: #808000\">...</span>,  <span style=\"color: #008080; text-decoration-color: #008080; font-weight: bold\">0.2994</span>,  <span style=\"color: #008080; text-decoration-color: #008080; font-weight: bold\">0.9402</span>,  <span style=\"color: #008080; text-decoration-color: #008080; font-weight: bold\">0.7398</span><span style=\"font-weight: bold\">]</span>,\n",
       "        <span style=\"font-weight: bold\">[</span><span style=\"color: #008080; text-decoration-color: #008080; font-weight: bold\">-0.6305</span>,  <span style=\"color: #008080; text-decoration-color: #008080; font-weight: bold\">0.6804</span>, <span style=\"color: #008080; text-decoration-color: #008080; font-weight: bold\">-0.4876</span>,  <span style=\"color: #808000; text-decoration-color: #808000\">...</span>,  <span style=\"color: #008080; text-decoration-color: #008080; font-weight: bold\">0.9315</span>,  <span style=\"color: #008080; text-decoration-color: #008080; font-weight: bold\">0.9978</span>,  <span style=\"color: #008080; text-decoration-color: #008080; font-weight: bold\">0.9405</span><span style=\"font-weight: bold\">]</span>,\n",
       "        <span style=\"font-weight: bold\">[</span> <span style=\"color: #008080; text-decoration-color: #008080; font-weight: bold\">1.0000</span>,  <span style=\"color: #008080; text-decoration-color: #008080; font-weight: bold\">0.9850</span>, <span style=\"color: #008080; text-decoration-color: #008080; font-weight: bold\">-0.0248</span>,  <span style=\"color: #808000; text-decoration-color: #808000\">...</span>, <span style=\"color: #008080; text-decoration-color: #008080; font-weight: bold\">-0.6091</span>, <span style=\"color: #008080; text-decoration-color: #008080; font-weight: bold\">-0.5962</span>,  <span style=\"color: #008080; text-decoration-color: #008080; font-weight: bold\">0.8272</span><span style=\"font-weight: bold\">]</span>,\n",
       "        <span style=\"color: #808000; text-decoration-color: #808000\">...</span>,\n",
       "        <span style=\"font-weight: bold\">[</span><span style=\"color: #008080; text-decoration-color: #008080; font-weight: bold\">-0.9984</span>,  <span style=\"color: #008080; text-decoration-color: #008080; font-weight: bold\">0.0219</span>,  <span style=\"color: #008080; text-decoration-color: #008080; font-weight: bold\">0.4668</span>,  <span style=\"color: #808000; text-decoration-color: #808000\">...</span>, <span style=\"color: #008080; text-decoration-color: #008080; font-weight: bold\">-0.9974</span>,  <span style=\"color: #008080; text-decoration-color: #008080; font-weight: bold\">0.9967</span>,  <span style=\"color: #008080; text-decoration-color: #008080; font-weight: bold\">0.8833</span><span style=\"font-weight: bold\">]</span>,\n",
       "        <span style=\"font-weight: bold\">[</span> <span style=\"color: #008080; text-decoration-color: #008080; font-weight: bold\">0.2683</span>, <span style=\"color: #008080; text-decoration-color: #008080; font-weight: bold\">-0.9647</span>, <span style=\"color: #008080; text-decoration-color: #008080; font-weight: bold\">-0.9713</span>,  <span style=\"color: #808000; text-decoration-color: #808000\">...</span>, <span style=\"color: #008080; text-decoration-color: #008080; font-weight: bold\">-0.4932</span>, <span style=\"color: #008080; text-decoration-color: #008080; font-weight: bold\">-0.9902</span>,  <span style=\"color: #008080; text-decoration-color: #008080; font-weight: bold\">0.7563</span><span style=\"font-weight: bold\">]</span>,\n",
       "        <span style=\"font-weight: bold\">[</span><span style=\"color: #008080; text-decoration-color: #008080; font-weight: bold\">-0.0409</span>,  <span style=\"color: #008080; text-decoration-color: #008080; font-weight: bold\">0.5042</span>,  <span style=\"color: #008080; text-decoration-color: #008080; font-weight: bold\">0.7568</span>,  <span style=\"color: #808000; text-decoration-color: #808000\">...</span>,  <span style=\"color: #008080; text-decoration-color: #008080; font-weight: bold\">0.9979</span>,  <span style=\"color: #008080; text-decoration-color: #008080; font-weight: bold\">0.8698</span>,  <span style=\"color: #008080; text-decoration-color: #008080; font-weight: bold\">0.9306</span><span style=\"font-weight: bold\">]])</span>\n",
       "</pre>\n"
      ],
      "text/plain": [
       "\n",
       "\u001b[1;35mtensor\u001b[0m\u001b[1m(\u001b[0m\u001b[1m[\u001b[0m\u001b[1m[\u001b[0m \u001b[1;36m0.4915\u001b[0m,  \u001b[1;36m0.7098\u001b[0m, \u001b[1;36m-0.0430\u001b[0m,  \u001b[33m...\u001b[0m,  \u001b[1;36m0.2994\u001b[0m,  \u001b[1;36m0.9402\u001b[0m,  \u001b[1;36m0.7398\u001b[0m\u001b[1m]\u001b[0m,\n",
       "        \u001b[1m[\u001b[0m\u001b[1;36m-0.6305\u001b[0m,  \u001b[1;36m0.6804\u001b[0m, \u001b[1;36m-0.4876\u001b[0m,  \u001b[33m...\u001b[0m,  \u001b[1;36m0.9315\u001b[0m,  \u001b[1;36m0.9978\u001b[0m,  \u001b[1;36m0.9405\u001b[0m\u001b[1m]\u001b[0m,\n",
       "        \u001b[1m[\u001b[0m \u001b[1;36m1.0000\u001b[0m,  \u001b[1;36m0.9850\u001b[0m, \u001b[1;36m-0.0248\u001b[0m,  \u001b[33m...\u001b[0m, \u001b[1;36m-0.6091\u001b[0m, \u001b[1;36m-0.5962\u001b[0m,  \u001b[1;36m0.8272\u001b[0m\u001b[1m]\u001b[0m,\n",
       "        \u001b[33m...\u001b[0m,\n",
       "        \u001b[1m[\u001b[0m\u001b[1;36m-0.9984\u001b[0m,  \u001b[1;36m0.0219\u001b[0m,  \u001b[1;36m0.4668\u001b[0m,  \u001b[33m...\u001b[0m, \u001b[1;36m-0.9974\u001b[0m,  \u001b[1;36m0.9967\u001b[0m,  \u001b[1;36m0.8833\u001b[0m\u001b[1m]\u001b[0m,\n",
       "        \u001b[1m[\u001b[0m \u001b[1;36m0.2683\u001b[0m, \u001b[1;36m-0.9647\u001b[0m, \u001b[1;36m-0.9713\u001b[0m,  \u001b[33m...\u001b[0m, \u001b[1;36m-0.4932\u001b[0m, \u001b[1;36m-0.9902\u001b[0m,  \u001b[1;36m0.7563\u001b[0m\u001b[1m]\u001b[0m,\n",
       "        \u001b[1m[\u001b[0m\u001b[1;36m-0.0409\u001b[0m,  \u001b[1;36m0.5042\u001b[0m,  \u001b[1;36m0.7568\u001b[0m,  \u001b[33m...\u001b[0m,  \u001b[1;36m0.9979\u001b[0m,  \u001b[1;36m0.8698\u001b[0m,  \u001b[1;36m0.9306\u001b[0m\u001b[1m]\u001b[0m\u001b[1m]\u001b[0m\u001b[1m)\u001b[0m\n"
      ]
     },
     "metadata": {},
     "output_type": "display_data"
    }
   ],
   "source": [
    "h"
   ]
  },
  {
   "cell_type": "code",
   "execution_count": null,
   "id": "93a1f920",
   "metadata": {},
   "outputs": [
    {
     "data": {
      "text/html": [
       "<pre style=\"white-space:pre;overflow-x:auto;line-height:normal;font-family:Menlo,'DejaVu Sans Mono',consolas,'Courier New',monospace\"><span style=\"color: #800080; text-decoration-color: #800080; font-weight: bold\">torch.Size</span><span style=\"font-weight: bold\">([</span><span style=\"color: #008080; text-decoration-color: #008080; font-weight: bold\">12</span>, <span style=\"color: #008080; text-decoration-color: #008080; font-weight: bold\">100</span><span style=\"font-weight: bold\">])</span>\n",
       "</pre>\n"
      ],
      "text/plain": [
       "\u001b[1;35mtorch.Size\u001b[0m\u001b[1m(\u001b[0m\u001b[1m[\u001b[0m\u001b[1;36m12\u001b[0m, \u001b[1;36m100\u001b[0m\u001b[1m]\u001b[0m\u001b[1m)\u001b[0m\n"
      ]
     },
     "metadata": {},
     "output_type": "display_data"
    }
   ],
   "source": [
    "h.shape"
   ]
  },
  {
   "cell_type": "markdown",
   "id": "a2fba313",
   "metadata": {},
   "source": [
    "#### Deconstruct the addition of `emb.view(-1, 6) @ W1` and `b1` : Broadcasting"
   ]
  },
  {
   "cell_type": "code",
   "execution_count": null,
   "id": "37083b11",
   "metadata": {},
   "outputs": [
    {
     "data": {
      "text/html": [
       "<pre style=\"white-space:pre;overflow-x:auto;line-height:normal;font-family:Menlo,'DejaVu Sans Mono',consolas,'Courier New',monospace\"><span style=\"color: #800080; text-decoration-color: #800080; font-weight: bold\">torch.Size</span><span style=\"font-weight: bold\">([</span><span style=\"color: #008080; text-decoration-color: #008080; font-weight: bold\">12</span>, <span style=\"color: #008080; text-decoration-color: #008080; font-weight: bold\">100</span><span style=\"font-weight: bold\">])</span>\n",
       "</pre>\n"
      ],
      "text/plain": [
       "\u001b[1;35mtorch.Size\u001b[0m\u001b[1m(\u001b[0m\u001b[1m[\u001b[0m\u001b[1;36m12\u001b[0m, \u001b[1;36m100\u001b[0m\u001b[1m]\u001b[0m\u001b[1m)\u001b[0m\n"
      ]
     },
     "metadata": {},
     "output_type": "display_data"
    }
   ],
   "source": [
    "(emb.view(-1, 6) @ W1).shape"
   ]
  },
  {
   "cell_type": "code",
   "execution_count": null,
   "id": "9bdbda96",
   "metadata": {},
   "outputs": [
    {
     "data": {
      "text/html": [
       "<pre style=\"white-space:pre;overflow-x:auto;line-height:normal;font-family:Menlo,'DejaVu Sans Mono',consolas,'Courier New',monospace\"><span style=\"color: #800080; text-decoration-color: #800080; font-weight: bold\">torch.Size</span><span style=\"font-weight: bold\">([</span><span style=\"color: #008080; text-decoration-color: #008080; font-weight: bold\">100</span><span style=\"font-weight: bold\">])</span>\n",
       "</pre>\n"
      ],
      "text/plain": [
       "\u001b[1;35mtorch.Size\u001b[0m\u001b[1m(\u001b[0m\u001b[1m[\u001b[0m\u001b[1;36m100\u001b[0m\u001b[1m]\u001b[0m\u001b[1m)\u001b[0m\n"
      ]
     },
     "metadata": {},
     "output_type": "display_data"
    }
   ],
   "source": [
    "b1.shape"
   ]
  },
  {
   "cell_type": "markdown",
   "id": "0e497584",
   "metadata": {},
   "source": [
    "Broadcasting\n",
    "\n",
    "- 12 by 100\n",
    "\n",
    "- 1   by 100\n",
    "\n",
    "Rowwise addition of `b1` to `(emb.view(-1, 6) @ W1)`"
   ]
  },
  {
   "cell_type": "markdown",
   "id": "ec57c3e0",
   "metadata": {},
   "source": [
    "## Output Layer"
   ]
  },
  {
   "cell_type": "code",
   "execution_count": null,
   "id": "d034d496",
   "metadata": {},
   "outputs": [],
   "source": [
    "W2 = torch.randn((100, 27))\n",
    "b2 = torch.randn(27)"
   ]
  },
  {
   "cell_type": "code",
   "execution_count": null,
   "id": "116816e5",
   "metadata": {},
   "outputs": [],
   "source": [
    "logits = h @ W2 + b2"
   ]
  },
  {
   "cell_type": "code",
   "execution_count": null,
   "id": "ff864650",
   "metadata": {},
   "outputs": [
    {
     "data": {
      "text/html": [
       "<pre style=\"white-space:pre;overflow-x:auto;line-height:normal;font-family:Menlo,'DejaVu Sans Mono',consolas,'Courier New',monospace\"><span style=\"color: #800080; text-decoration-color: #800080; font-weight: bold\">torch.Size</span><span style=\"font-weight: bold\">([</span><span style=\"color: #008080; text-decoration-color: #008080; font-weight: bold\">12</span>, <span style=\"color: #008080; text-decoration-color: #008080; font-weight: bold\">27</span><span style=\"font-weight: bold\">])</span>\n",
       "</pre>\n"
      ],
      "text/plain": [
       "\u001b[1;35mtorch.Size\u001b[0m\u001b[1m(\u001b[0m\u001b[1m[\u001b[0m\u001b[1;36m12\u001b[0m, \u001b[1;36m27\u001b[0m\u001b[1m]\u001b[0m\u001b[1m)\u001b[0m\n"
      ]
     },
     "metadata": {},
     "output_type": "display_data"
    }
   ],
   "source": [
    "logits.shape"
   ]
  },
  {
   "cell_type": "code",
   "execution_count": null,
   "id": "4b5812a6",
   "metadata": {},
   "outputs": [],
   "source": [
    "counts = logits.exp()"
   ]
  },
  {
   "cell_type": "code",
   "execution_count": null,
   "id": "fa43ed21",
   "metadata": {},
   "outputs": [],
   "source": [
    "prob = counts/counts.sum(1, keepdims=True)"
   ]
  },
  {
   "cell_type": "code",
   "execution_count": null,
   "id": "3784cd8d",
   "metadata": {},
   "outputs": [
    {
     "data": {
      "text/html": [
       "<pre style=\"white-space:pre;overflow-x:auto;line-height:normal;font-family:Menlo,'DejaVu Sans Mono',consolas,'Courier New',monospace\"><span style=\"color: #800080; text-decoration-color: #800080; font-weight: bold\">torch.Size</span><span style=\"font-weight: bold\">([</span><span style=\"color: #008080; text-decoration-color: #008080; font-weight: bold\">12</span>, <span style=\"color: #008080; text-decoration-color: #008080; font-weight: bold\">27</span><span style=\"font-weight: bold\">])</span>\n",
       "</pre>\n"
      ],
      "text/plain": [
       "\u001b[1;35mtorch.Size\u001b[0m\u001b[1m(\u001b[0m\u001b[1m[\u001b[0m\u001b[1;36m12\u001b[0m, \u001b[1;36m27\u001b[0m\u001b[1m]\u001b[0m\u001b[1m)\u001b[0m\n"
      ]
     },
     "metadata": {},
     "output_type": "display_data"
    }
   ],
   "source": [
    "prob.shape"
   ]
  },
  {
   "cell_type": "code",
   "execution_count": null,
   "id": "12b6f565",
   "metadata": {},
   "outputs": [
    {
     "data": {
      "text/html": [
       "<pre style=\"white-space:pre;overflow-x:auto;line-height:normal;font-family:Menlo,'DejaVu Sans Mono',consolas,'Courier New',monospace\"><span style=\"color: #800080; text-decoration-color: #800080; font-weight: bold\">tensor</span><span style=\"font-weight: bold\">(</span><span style=\"color: #008080; text-decoration-color: #008080; font-weight: bold\">1</span>.<span style=\"font-weight: bold\">)</span>\n",
       "</pre>\n"
      ],
      "text/plain": [
       "\u001b[1;35mtensor\u001b[0m\u001b[1m(\u001b[0m\u001b[1;36m1\u001b[0m.\u001b[1m)\u001b[0m\n"
      ]
     },
     "metadata": {},
     "output_type": "display_data"
    }
   ],
   "source": [
    "prob[0].sum()"
   ]
  },
  {
   "cell_type": "code",
   "execution_count": null,
   "id": "e8757d0a",
   "metadata": {},
   "outputs": [
    {
     "data": {
      "text/html": [
       "<pre style=\"white-space:pre;overflow-x:auto;line-height:normal;font-family:Menlo,'DejaVu Sans Mono',consolas,'Courier New',monospace\"><span style=\"color: #800080; text-decoration-color: #800080; font-weight: bold\">tensor</span><span style=\"font-weight: bold\">([</span> <span style=\"color: #008080; text-decoration-color: #008080; font-weight: bold\">0</span>,  <span style=\"color: #008080; text-decoration-color: #008080; font-weight: bold\">1</span>,  <span style=\"color: #008080; text-decoration-color: #008080; font-weight: bold\">2</span>,  <span style=\"color: #008080; text-decoration-color: #008080; font-weight: bold\">3</span>,  <span style=\"color: #008080; text-decoration-color: #008080; font-weight: bold\">4</span>,  <span style=\"color: #008080; text-decoration-color: #008080; font-weight: bold\">5</span>,  <span style=\"color: #008080; text-decoration-color: #008080; font-weight: bold\">6</span>,  <span style=\"color: #008080; text-decoration-color: #008080; font-weight: bold\">7</span>,  <span style=\"color: #008080; text-decoration-color: #008080; font-weight: bold\">8</span>,  <span style=\"color: #008080; text-decoration-color: #008080; font-weight: bold\">9</span>, <span style=\"color: #008080; text-decoration-color: #008080; font-weight: bold\">10</span>, <span style=\"color: #008080; text-decoration-color: #008080; font-weight: bold\">11</span><span style=\"font-weight: bold\">])</span>\n",
       "</pre>\n"
      ],
      "text/plain": [
       "\u001b[1;35mtensor\u001b[0m\u001b[1m(\u001b[0m\u001b[1m[\u001b[0m \u001b[1;36m0\u001b[0m,  \u001b[1;36m1\u001b[0m,  \u001b[1;36m2\u001b[0m,  \u001b[1;36m3\u001b[0m,  \u001b[1;36m4\u001b[0m,  \u001b[1;36m5\u001b[0m,  \u001b[1;36m6\u001b[0m,  \u001b[1;36m7\u001b[0m,  \u001b[1;36m8\u001b[0m,  \u001b[1;36m9\u001b[0m, \u001b[1;36m10\u001b[0m, \u001b[1;36m11\u001b[0m\u001b[1m]\u001b[0m\u001b[1m)\u001b[0m\n"
      ]
     },
     "metadata": {},
     "output_type": "display_data"
    }
   ],
   "source": [
    "torch.arange(12)"
   ]
  },
  {
   "cell_type": "code",
   "execution_count": null,
   "id": "d2c939ed",
   "metadata": {},
   "outputs": [
    {
     "data": {
      "text/html": [
       "<pre style=\"white-space:pre;overflow-x:auto;line-height:normal;font-family:Menlo,'DejaVu Sans Mono',consolas,'Courier New',monospace\"><span style=\"color: #800080; text-decoration-color: #800080; font-weight: bold\">tensor</span><span style=\"font-weight: bold\">([</span> <span style=\"color: #008080; text-decoration-color: #008080; font-weight: bold\">5</span>, <span style=\"color: #008080; text-decoration-color: #008080; font-weight: bold\">13</span>, <span style=\"color: #008080; text-decoration-color: #008080; font-weight: bold\">13</span>,  <span style=\"color: #008080; text-decoration-color: #008080; font-weight: bold\">1</span>,  <span style=\"color: #008080; text-decoration-color: #008080; font-weight: bold\">0</span>, <span style=\"color: #008080; text-decoration-color: #008080; font-weight: bold\">15</span>, <span style=\"color: #008080; text-decoration-color: #008080; font-weight: bold\">12</span>,  <span style=\"color: #008080; text-decoration-color: #008080; font-weight: bold\">9</span>, <span style=\"color: #008080; text-decoration-color: #008080; font-weight: bold\">22</span>,  <span style=\"color: #008080; text-decoration-color: #008080; font-weight: bold\">9</span>,  <span style=\"color: #008080; text-decoration-color: #008080; font-weight: bold\">1</span>,  <span style=\"color: #008080; text-decoration-color: #008080; font-weight: bold\">0</span><span style=\"font-weight: bold\">])</span>\n",
       "</pre>\n"
      ],
      "text/plain": [
       "\u001b[1;35mtensor\u001b[0m\u001b[1m(\u001b[0m\u001b[1m[\u001b[0m \u001b[1;36m5\u001b[0m, \u001b[1;36m13\u001b[0m, \u001b[1;36m13\u001b[0m,  \u001b[1;36m1\u001b[0m,  \u001b[1;36m0\u001b[0m, \u001b[1;36m15\u001b[0m, \u001b[1;36m12\u001b[0m,  \u001b[1;36m9\u001b[0m, \u001b[1;36m22\u001b[0m,  \u001b[1;36m9\u001b[0m,  \u001b[1;36m1\u001b[0m,  \u001b[1;36m0\u001b[0m\u001b[1m]\u001b[0m\u001b[1m)\u001b[0m\n"
      ]
     },
     "metadata": {},
     "output_type": "display_data"
    }
   ],
   "source": [
    "Y"
   ]
  },
  {
   "cell_type": "code",
   "execution_count": null,
   "id": "3b86ed23",
   "metadata": {},
   "outputs": [
    {
     "data": {
      "text/html": [
       "<pre style=\"white-space:pre;overflow-x:auto;line-height:normal;font-family:Menlo,'DejaVu Sans Mono',consolas,'Courier New',monospace\">\n",
       "<span style=\"color: #800080; text-decoration-color: #800080; font-weight: bold\">tensor</span><span style=\"font-weight: bold\">([</span><span style=\"color: #008080; text-decoration-color: #008080; font-weight: bold\">8.2187e-08</span>, <span style=\"color: #008080; text-decoration-color: #008080; font-weight: bold\">1.1724e-01</span>, <span style=\"color: #008080; text-decoration-color: #008080; font-weight: bold\">1.6640e-18</span>, <span style=\"color: #008080; text-decoration-color: #008080; font-weight: bold\">1.7638e-02</span>, <span style=\"color: #008080; text-decoration-color: #008080; font-weight: bold\">8.5638e-13</span>, <span style=\"color: #008080; text-decoration-color: #008080; font-weight: bold\">3.6065e-03</span>,\n",
       "        <span style=\"color: #008080; text-decoration-color: #008080; font-weight: bold\">1.6173e-08</span>, <span style=\"color: #008080; text-decoration-color: #008080; font-weight: bold\">8.1841e-01</span>, <span style=\"color: #008080; text-decoration-color: #008080; font-weight: bold\">3.2394e-06</span>, <span style=\"color: #008080; text-decoration-color: #008080; font-weight: bold\">6.6904e-06</span>, <span style=\"color: #008080; text-decoration-color: #008080; font-weight: bold\">1.5042e-07</span>, <span style=\"color: #008080; text-decoration-color: #008080; font-weight: bold\">9.6335e-15</span><span style=\"font-weight: bold\">])</span>\n",
       "</pre>\n"
      ],
      "text/plain": [
       "\n",
       "\u001b[1;35mtensor\u001b[0m\u001b[1m(\u001b[0m\u001b[1m[\u001b[0m\u001b[1;36m8.2187e-08\u001b[0m, \u001b[1;36m1.1724e-01\u001b[0m, \u001b[1;36m1.6640e-18\u001b[0m, \u001b[1;36m1.7638e-02\u001b[0m, \u001b[1;36m8.5638e-13\u001b[0m, \u001b[1;36m3.6065e-03\u001b[0m,\n",
       "        \u001b[1;36m1.6173e-08\u001b[0m, \u001b[1;36m8.1841e-01\u001b[0m, \u001b[1;36m3.2394e-06\u001b[0m, \u001b[1;36m6.6904e-06\u001b[0m, \u001b[1;36m1.5042e-07\u001b[0m, \u001b[1;36m9.6335e-15\u001b[0m\u001b[1m]\u001b[0m\u001b[1m)\u001b[0m\n"
      ]
     },
     "metadata": {},
     "output_type": "display_data"
    }
   ],
   "source": [
    "prob[torch.arange(12), Y]"
   ]
  },
  {
   "cell_type": "code",
   "execution_count": null,
   "id": "e9cebb89",
   "metadata": {},
   "outputs": [
    {
     "data": {
      "text/html": [
       "<pre style=\"white-space:pre;overflow-x:auto;line-height:normal;font-family:Menlo,'DejaVu Sans Mono',consolas,'Courier New',monospace\"><span style=\"color: #800080; text-decoration-color: #800080; font-weight: bold\">tensor</span><span style=\"font-weight: bold\">(</span><span style=\"color: #008080; text-decoration-color: #008080; font-weight: bold\">15.6269</span><span style=\"font-weight: bold\">)</span>\n",
       "</pre>\n"
      ],
      "text/plain": [
       "\u001b[1;35mtensor\u001b[0m\u001b[1m(\u001b[0m\u001b[1;36m15.6269\u001b[0m\u001b[1m)\u001b[0m\n"
      ]
     },
     "metadata": {},
     "output_type": "display_data"
    }
   ],
   "source": [
    "loss = -prob[torch.arange(12), Y].log().mean()\n",
    "loss"
   ]
  },
  {
   "cell_type": "markdown",
   "id": "175c643b",
   "metadata": {},
   "source": [
    "## Summary of the Full Network"
   ]
  },
  {
   "cell_type": "code",
   "execution_count": null,
   "id": "8f2d2551",
   "metadata": {},
   "outputs": [
    {
     "data": {
      "text/html": [
       "<pre style=\"white-space:pre;overflow-x:auto;line-height:normal;font-family:Menlo,'DejaVu Sans Mono',consolas,'Courier New',monospace\"><span style=\"font-weight: bold\">(</span><span style=\"color: #800080; text-decoration-color: #800080; font-weight: bold\">torch.Size</span><span style=\"font-weight: bold\">([</span><span style=\"color: #008080; text-decoration-color: #008080; font-weight: bold\">12</span>, <span style=\"color: #008080; text-decoration-color: #008080; font-weight: bold\">3</span><span style=\"font-weight: bold\">])</span>, <span style=\"color: #800080; text-decoration-color: #800080; font-weight: bold\">torch.Size</span><span style=\"font-weight: bold\">([</span><span style=\"color: #008080; text-decoration-color: #008080; font-weight: bold\">12</span><span style=\"font-weight: bold\">]))</span>\n",
       "</pre>\n"
      ],
      "text/plain": [
       "\u001b[1m(\u001b[0m\u001b[1;35mtorch.Size\u001b[0m\u001b[1m(\u001b[0m\u001b[1m[\u001b[0m\u001b[1;36m12\u001b[0m, \u001b[1;36m3\u001b[0m\u001b[1m]\u001b[0m\u001b[1m)\u001b[0m, \u001b[1;35mtorch.Size\u001b[0m\u001b[1m(\u001b[0m\u001b[1m[\u001b[0m\u001b[1;36m12\u001b[0m\u001b[1m]\u001b[0m\u001b[1m)\u001b[0m\u001b[1m)\u001b[0m\n"
      ]
     },
     "metadata": {},
     "output_type": "display_data"
    }
   ],
   "source": [
    "X.shape, Y.shape"
   ]
  },
  {
   "cell_type": "code",
   "execution_count": null,
   "id": "adba88f6",
   "metadata": {},
   "outputs": [],
   "source": [
    "def initialize_params(hc):\n",
    "    C = torch.randn((27, 2), generator=g)\n",
    "    W1 = torch.randn((6, hc), generator=g)\n",
    "    b1 = torch.randn(hc, generator=g)\n",
    "    W2 = torch.randn((hc, 27), generator=g)\n",
    "    b2 = torch.randn(27, generator=g)\n",
    "\n",
    "    return [C, W1, b1, W2, b2]"
   ]
  },
  {
   "cell_type": "code",
   "execution_count": null,
   "id": "30602c7a",
   "metadata": {},
   "outputs": [],
   "source": [
    "parameters = initialize_params(100)"
   ]
  },
  {
   "cell_type": "code",
   "execution_count": null,
   "id": "9a84c46b",
   "metadata": {},
   "outputs": [
    {
     "data": {
      "text/html": [
       "<pre style=\"white-space:pre;overflow-x:auto;line-height:normal;font-family:Menlo,'DejaVu Sans Mono',consolas,'Courier New',monospace\"><span style=\"color: #008080; text-decoration-color: #008080; font-weight: bold\">3481</span>\n",
       "</pre>\n"
      ],
      "text/plain": [
       "\u001b[1;36m3481\u001b[0m\n"
      ]
     },
     "metadata": {},
     "output_type": "display_data"
    }
   ],
   "source": [
    "sum(p.nelement() for p in parameters)"
   ]
  },
  {
   "cell_type": "code",
   "execution_count": null,
   "id": "88672a0a",
   "metadata": {},
   "outputs": [],
   "source": [
    "def forward_pass(params, X):\n",
    "    C, W1, b1, W2, b2 = params\n",
    "    emb = C[X] # (32, 3, 2)\n",
    "    h = torch.tanh(emb.view(-1, 6) @ W1 + b1)\n",
    "    logits = h @ W2 + b2\n",
    "    return logits"
   ]
  },
  {
   "cell_type": "code",
   "execution_count": null,
   "id": "18c5a4ec",
   "metadata": {},
   "outputs": [],
   "source": [
    "def calcualte_loss(logits, Y):\n",
    "    counts = logits.exp()\n",
    "    prob = counts/counts.sum(1, keepdims=True)\n",
    "    return -prob[torch.arange(12), Y].log().mean()"
   ]
  },
  {
   "cell_type": "code",
   "execution_count": null,
   "id": "5d24a18e",
   "metadata": {},
   "outputs": [],
   "source": [
    "logits = forward_pass(parameters, X)"
   ]
  },
  {
   "cell_type": "code",
   "execution_count": null,
   "id": "0754dc69",
   "metadata": {},
   "outputs": [
    {
     "data": {
      "text/html": [
       "<pre style=\"white-space:pre;overflow-x:auto;line-height:normal;font-family:Menlo,'DejaVu Sans Mono',consolas,'Courier New',monospace\"><span style=\"color: #800080; text-decoration-color: #800080; font-weight: bold\">tensor</span><span style=\"font-weight: bold\">(</span><span style=\"color: #008080; text-decoration-color: #008080; font-weight: bold\">19.1366</span><span style=\"font-weight: bold\">)</span>\n",
       "</pre>\n"
      ],
      "text/plain": [
       "\u001b[1;35mtensor\u001b[0m\u001b[1m(\u001b[0m\u001b[1;36m19.1366\u001b[0m\u001b[1m)\u001b[0m\n"
      ]
     },
     "metadata": {},
     "output_type": "display_data"
    }
   ],
   "source": [
    "calcualte_loss(logits, Y)"
   ]
  },
  {
   "cell_type": "markdown",
   "id": "a56e903c",
   "metadata": {},
   "source": [
    "## Introducting F.cross_entropy and why?"
   ]
  },
  {
   "cell_type": "code",
   "execution_count": null,
   "id": "44e2e9c9",
   "metadata": {},
   "outputs": [
    {
     "data": {
      "text/html": [
       "<pre style=\"white-space:pre;overflow-x:auto;line-height:normal;font-family:Menlo,'DejaVu Sans Mono',consolas,'Courier New',monospace\"><span style=\"color: #800080; text-decoration-color: #800080; font-weight: bold\">tensor</span><span style=\"font-weight: bold\">(</span><span style=\"color: #008080; text-decoration-color: #008080; font-weight: bold\">19.1366</span><span style=\"font-weight: bold\">)</span>\n",
       "</pre>\n"
      ],
      "text/plain": [
       "\u001b[1;35mtensor\u001b[0m\u001b[1m(\u001b[0m\u001b[1;36m19.1366\u001b[0m\u001b[1m)\u001b[0m\n"
      ]
     },
     "metadata": {},
     "output_type": "display_data"
    }
   ],
   "source": [
    "F.cross_entropy(logits, Y)"
   ]
  },
  {
   "cell_type": "markdown",
   "id": "f9bccad5",
   "metadata": {},
   "source": [
    "### why?"
   ]
  },
  {
   "cell_type": "markdown",
   "id": "7eea4cc2",
   "metadata": {},
   "source": [
    "1. Pytorch does not create intermediate tensors for the following code\n",
    "<code>\n",
    "counts = logits.exp()\n",
    "prob = counts/counts.sum(1, keepdims=True)\n",
    "loss = -prob[torch.arange(12), Y].log().mean()\n",
    "</code>\n",
    "Instead it clusters up all the above operation and it efficiently computes \n",
    "\n",
    "\n",
    "2. Backward prop is efficient. Simple to implement\n",
    "\n",
    "\n",
    "3. It can numerically well behaved"
   ]
  },
  {
   "cell_type": "code",
   "execution_count": null,
   "id": "90588a08",
   "metadata": {},
   "outputs": [
    {
     "data": {
      "text/html": [
       "<pre style=\"white-space:pre;overflow-x:auto;line-height:normal;font-family:Menlo,'DejaVu Sans Mono',consolas,'Courier New',monospace\"><span style=\"color: #800080; text-decoration-color: #800080; font-weight: bold\">tensor</span><span style=\"font-weight: bold\">([</span><span style=\"color: #008080; text-decoration-color: #008080; font-weight: bold\">9.0466e-04</span>, <span style=\"color: #008080; text-decoration-color: #008080; font-weight: bold\">3.3281e-04</span>, <span style=\"color: #008080; text-decoration-color: #008080; font-weight: bold\">6.6846e-03</span>, <span style=\"color: #008080; text-decoration-color: #008080; font-weight: bold\">9.9208e-01</span><span style=\"font-weight: bold\">])</span>\n",
       "</pre>\n"
      ],
      "text/plain": [
       "\u001b[1;35mtensor\u001b[0m\u001b[1m(\u001b[0m\u001b[1m[\u001b[0m\u001b[1;36m9.0466e-04\u001b[0m, \u001b[1;36m3.3281e-04\u001b[0m, \u001b[1;36m6.6846e-03\u001b[0m, \u001b[1;36m9.9208e-01\u001b[0m\u001b[1m]\u001b[0m\u001b[1m)\u001b[0m\n"
      ]
     },
     "metadata": {},
     "output_type": "display_data"
    }
   ],
   "source": [
    "logits = torch.tensor([-2, -3, 0, 5])\n",
    "counts = logits.exp()\n",
    "probs = counts / counts.sum()\n",
    "probs"
   ]
  },
  {
   "cell_type": "code",
   "execution_count": null,
   "id": "5ef3df17",
   "metadata": {},
   "outputs": [
    {
     "data": {
      "text/html": [
       "<pre style=\"white-space:pre;overflow-x:auto;line-height:normal;font-family:Menlo,'DejaVu Sans Mono',consolas,'Courier New',monospace\"><span style=\"color: #800080; text-decoration-color: #800080; font-weight: bold\">tensor</span><span style=\"font-weight: bold\">([</span><span style=\"color: #008080; text-decoration-color: #008080; font-weight: bold\">0</span>., <span style=\"color: #008080; text-decoration-color: #008080; font-weight: bold\">0</span>., <span style=\"color: #008080; text-decoration-color: #008080; font-weight: bold\">0</span>., nan<span style=\"font-weight: bold\">])</span>\n",
       "</pre>\n"
      ],
      "text/plain": [
       "\u001b[1;35mtensor\u001b[0m\u001b[1m(\u001b[0m\u001b[1m[\u001b[0m\u001b[1;36m0\u001b[0m., \u001b[1;36m0\u001b[0m., \u001b[1;36m0\u001b[0m., nan\u001b[1m]\u001b[0m\u001b[1m)\u001b[0m\n"
      ]
     },
     "metadata": {},
     "output_type": "display_data"
    }
   ],
   "source": [
    "logits = torch.tensor([-100, -3, 0, 100])\n",
    "counts = logits.exp()\n",
    "probs = counts / counts.sum()\n",
    "probs"
   ]
  },
  {
   "cell_type": "code",
   "execution_count": null,
   "id": "91b5666f",
   "metadata": {},
   "outputs": [
    {
     "data": {
      "text/html": [
       "<pre style=\"white-space:pre;overflow-x:auto;line-height:normal;font-family:Menlo,'DejaVu Sans Mono',consolas,'Courier New',monospace\"><span style=\"color: #800080; text-decoration-color: #800080; font-weight: bold\">tensor</span><span style=\"font-weight: bold\">([</span><span style=\"color: #008080; text-decoration-color: #008080; font-weight: bold\">3.7835e-44</span>, <span style=\"color: #008080; text-decoration-color: #008080; font-weight: bold\">4.9787e-02</span>, <span style=\"color: #008080; text-decoration-color: #008080; font-weight: bold\">1.0000e+00</span>,        inf<span style=\"font-weight: bold\">])</span>\n",
       "</pre>\n"
      ],
      "text/plain": [
       "\u001b[1;35mtensor\u001b[0m\u001b[1m(\u001b[0m\u001b[1m[\u001b[0m\u001b[1;36m3.7835e-44\u001b[0m, \u001b[1;36m4.9787e-02\u001b[0m, \u001b[1;36m1.0000e+00\u001b[0m,        inf\u001b[1m]\u001b[0m\u001b[1m)\u001b[0m\n"
      ]
     },
     "metadata": {},
     "output_type": "display_data"
    }
   ],
   "source": [
    "counts"
   ]
  },
  {
   "cell_type": "markdown",
   "id": "1a479068",
   "metadata": {},
   "source": [
    "As we can see the negative numbers are ok, but positive numbers can overflow the exp"
   ]
  },
  {
   "cell_type": "markdown",
   "id": "dbf41061",
   "metadata": {},
   "source": [
    "So pytorch internally offset the logits with maximum number"
   ]
  },
  {
   "cell_type": "code",
   "execution_count": null,
   "id": "43eeb6a3",
   "metadata": {},
   "outputs": [
    {
     "data": {
      "text/html": [
       "<pre style=\"white-space:pre;overflow-x:auto;line-height:normal;font-family:Menlo,'DejaVu Sans Mono',consolas,'Courier New',monospace\"><span style=\"color: #800080; text-decoration-color: #800080; font-weight: bold\">tensor</span><span style=\"font-weight: bold\">([</span><span style=\"color: #008080; text-decoration-color: #008080; font-weight: bold\">0.0000e+00</span>, <span style=\"color: #008080; text-decoration-color: #008080; font-weight: bold\">1.4013e-45</span>, <span style=\"color: #008080; text-decoration-color: #008080; font-weight: bold\">3.7835e-44</span>, <span style=\"color: #008080; text-decoration-color: #008080; font-weight: bold\">1.0000e+00</span><span style=\"font-weight: bold\">])</span>\n",
       "</pre>\n"
      ],
      "text/plain": [
       "\u001b[1;35mtensor\u001b[0m\u001b[1m(\u001b[0m\u001b[1m[\u001b[0m\u001b[1;36m0.0000e+00\u001b[0m, \u001b[1;36m1.4013e-45\u001b[0m, \u001b[1;36m3.7835e-44\u001b[0m, \u001b[1;36m1.0000e+00\u001b[0m\u001b[1m]\u001b[0m\u001b[1m)\u001b[0m\n"
      ]
     },
     "metadata": {},
     "output_type": "display_data"
    }
   ],
   "source": [
    "logits = torch.tensor([-100, -3, 0, 100]) - 100\n",
    "counts = logits.exp()\n",
    "probs = counts / counts.sum()\n",
    "probs"
   ]
  },
  {
   "cell_type": "markdown",
   "id": "3233b9b9",
   "metadata": {},
   "source": [
    "so better to call `F.cross_entropy(logits, Y)`"
   ]
  },
  {
   "cell_type": "markdown",
   "id": "49ee9602",
   "metadata": {},
   "source": [
    "## Implementing the Training Loop, overfitting one batch"
   ]
  },
  {
   "cell_type": "code",
   "execution_count": null,
   "id": "d8d2baf2",
   "metadata": {},
   "outputs": [],
   "source": [
    "for p in parameters: p.requires_grad = True "
   ]
  },
  {
   "cell_type": "code",
   "execution_count": null,
   "id": "e1d36896",
   "metadata": {},
   "outputs": [],
   "source": [
    "def backward_pass(params, loss, lr=0.1):\n",
    "    for p in params:\n",
    "        p.grad= None\n",
    "    loss.backward()\n",
    "    \n",
    "    for p in params:\n",
    "        p.data += - lr * p.grad\n",
    "    return params, loss"
   ]
  },
  {
   "cell_type": "code",
   "execution_count": null,
   "id": "68e17e11",
   "metadata": {},
   "outputs": [],
   "source": [
    "def an_epoch(parameters, X, Y, **args):\n",
    "    logits = forward_pass(parameters, X)\n",
    "    loss = F.cross_entropy(logits, Y)\n",
    "    backward_pass(parameters, loss, **args)\n",
    "    return loss"
   ]
  },
  {
   "cell_type": "code",
   "execution_count": null,
   "id": "aed72b56",
   "metadata": {},
   "outputs": [
    {
     "data": {
      "text/html": [
       "<pre style=\"white-space:pre;overflow-x:auto;line-height:normal;font-family:Menlo,'DejaVu Sans Mono',consolas,'Courier New',monospace\"><span style=\"color: #008080; text-decoration-color: #008080; font-weight: bold\">19.136564254760742</span>\n",
       "</pre>\n"
      ],
      "text/plain": [
       "\u001b[1;36m19.136564254760742\u001b[0m\n"
      ]
     },
     "metadata": {},
     "output_type": "display_data"
    },
    {
     "data": {
      "text/html": [
       "<pre style=\"white-space:pre;overflow-x:auto;line-height:normal;font-family:Menlo,'DejaVu Sans Mono',consolas,'Courier New',monospace\"><span style=\"color: #008080; text-decoration-color: #008080; font-weight: bold\">13.381081581115723</span>\n",
       "</pre>\n"
      ],
      "text/plain": [
       "\u001b[1;36m13.381081581115723\u001b[0m\n"
      ]
     },
     "metadata": {},
     "output_type": "display_data"
    },
    {
     "data": {
      "text/html": [
       "<pre style=\"white-space:pre;overflow-x:auto;line-height:normal;font-family:Menlo,'DejaVu Sans Mono',consolas,'Courier New',monospace\"><span style=\"color: #008080; text-decoration-color: #008080; font-weight: bold\">9.38259220123291</span>\n",
       "</pre>\n"
      ],
      "text/plain": [
       "\u001b[1;36m9.38259220123291\u001b[0m\n"
      ]
     },
     "metadata": {},
     "output_type": "display_data"
    },
    {
     "data": {
      "text/html": [
       "<pre style=\"white-space:pre;overflow-x:auto;line-height:normal;font-family:Menlo,'DejaVu Sans Mono',consolas,'Courier New',monospace\"><span style=\"color: #008080; text-decoration-color: #008080; font-weight: bold\">6.92555570602417</span>\n",
       "</pre>\n"
      ],
      "text/plain": [
       "\u001b[1;36m6.92555570602417\u001b[0m\n"
      ]
     },
     "metadata": {},
     "output_type": "display_data"
    },
    {
     "data": {
      "text/html": [
       "<pre style=\"white-space:pre;overflow-x:auto;line-height:normal;font-family:Menlo,'DejaVu Sans Mono',consolas,'Courier New',monospace\"><span style=\"color: #008080; text-decoration-color: #008080; font-weight: bold\">4.83230447769165</span>\n",
       "</pre>\n"
      ],
      "text/plain": [
       "\u001b[1;36m4.83230447769165\u001b[0m\n"
      ]
     },
     "metadata": {},
     "output_type": "display_data"
    },
    {
     "data": {
      "text/html": [
       "<pre style=\"white-space:pre;overflow-x:auto;line-height:normal;font-family:Menlo,'DejaVu Sans Mono',consolas,'Courier New',monospace\"><span style=\"color: #008080; text-decoration-color: #008080; font-weight: bold\">3.4374144077301025</span>\n",
       "</pre>\n"
      ],
      "text/plain": [
       "\u001b[1;36m3.4374144077301025\u001b[0m\n"
      ]
     },
     "metadata": {},
     "output_type": "display_data"
    },
    {
     "data": {
      "text/html": [
       "<pre style=\"white-space:pre;overflow-x:auto;line-height:normal;font-family:Menlo,'DejaVu Sans Mono',consolas,'Courier New',monospace\"><span style=\"color: #008080; text-decoration-color: #008080; font-weight: bold\">2.392893075942993</span>\n",
       "</pre>\n"
      ],
      "text/plain": [
       "\u001b[1;36m2.392893075942993\u001b[0m\n"
      ]
     },
     "metadata": {},
     "output_type": "display_data"
    },
    {
     "data": {
      "text/html": [
       "<pre style=\"white-space:pre;overflow-x:auto;line-height:normal;font-family:Menlo,'DejaVu Sans Mono',consolas,'Courier New',monospace\"><span style=\"color: #008080; text-decoration-color: #008080; font-weight: bold\">1.488807201385498</span>\n",
       "</pre>\n"
      ],
      "text/plain": [
       "\u001b[1;36m1.488807201385498\u001b[0m\n"
      ]
     },
     "metadata": {},
     "output_type": "display_data"
    },
    {
     "data": {
      "text/html": [
       "<pre style=\"white-space:pre;overflow-x:auto;line-height:normal;font-family:Menlo,'DejaVu Sans Mono',consolas,'Courier New',monospace\"><span style=\"color: #008080; text-decoration-color: #008080; font-weight: bold\">0.9096290469169617</span>\n",
       "</pre>\n"
      ],
      "text/plain": [
       "\u001b[1;36m0.9096290469169617\u001b[0m\n"
      ]
     },
     "metadata": {},
     "output_type": "display_data"
    },
    {
     "data": {
      "text/html": [
       "<pre style=\"white-space:pre;overflow-x:auto;line-height:normal;font-family:Menlo,'DejaVu Sans Mono',consolas,'Courier New',monospace\"><span style=\"color: #008080; text-decoration-color: #008080; font-weight: bold\">0.6129968762397766</span>\n",
       "</pre>\n"
      ],
      "text/plain": [
       "\u001b[1;36m0.6129968762397766\u001b[0m\n"
      ]
     },
     "metadata": {},
     "output_type": "display_data"
    }
   ],
   "source": [
    "for _ in range(10):\n",
    "    loss = an_epoch(parameters, X, Y)\n",
    "    print(loss.item())"
   ]
  },
  {
   "cell_type": "code",
   "execution_count": null,
   "id": "d1b69f07",
   "metadata": {},
   "outputs": [
    {
     "data": {
      "text/html": [
       "<pre style=\"white-space:pre;overflow-x:auto;line-height:normal;font-family:Menlo,'DejaVu Sans Mono',consolas,'Courier New',monospace\">\n",
       "<span style=\"color: #800080; text-decoration-color: #800080; font-weight: bold\">torch.return_types.max</span><span style=\"font-weight: bold\">(</span>\n",
       "<span style=\"color: #808000; text-decoration-color: #808000\">values</span>=<span style=\"color: #800080; text-decoration-color: #800080; font-weight: bold\">tensor</span><span style=\"font-weight: bold\">([</span> <span style=\"color: #008080; text-decoration-color: #008080; font-weight: bold\">9.8012</span>, <span style=\"color: #008080; text-decoration-color: #008080; font-weight: bold\">13.4625</span>, <span style=\"color: #008080; text-decoration-color: #008080; font-weight: bold\">12.6716</span>, <span style=\"color: #008080; text-decoration-color: #008080; font-weight: bold\">12.9291</span>, <span style=\"color: #008080; text-decoration-color: #008080; font-weight: bold\">14.5114</span>,  <span style=\"color: #008080; text-decoration-color: #008080; font-weight: bold\">9.8012</span>, <span style=\"color: #008080; text-decoration-color: #008080; font-weight: bold\">10.4842</span>, <span style=\"color: #008080; text-decoration-color: #008080; font-weight: bold\">14.7211</span>,\n",
       "         <span style=\"color: #008080; text-decoration-color: #008080; font-weight: bold\">5.7120</span>, <span style=\"color: #008080; text-decoration-color: #008080; font-weight: bold\">15.7225</span>,  <span style=\"color: #008080; text-decoration-color: #008080; font-weight: bold\">5.5768</span>, <span style=\"color: #008080; text-decoration-color: #008080; font-weight: bold\">18.3183</span><span style=\"font-weight: bold\">]</span>, <span style=\"color: #808000; text-decoration-color: #808000\">grad_fn</span>=<span style=\"font-weight: bold\">&lt;</span><span style=\"color: #ff00ff; text-decoration-color: #ff00ff; font-weight: bold\">MaxBackward0</span><span style=\"font-weight: bold\">&gt;)</span>,\n",
       "<span style=\"color: #808000; text-decoration-color: #808000\">indices</span>=<span style=\"color: #800080; text-decoration-color: #800080; font-weight: bold\">tensor</span><span style=\"font-weight: bold\">([</span> <span style=\"color: #008080; text-decoration-color: #008080; font-weight: bold\">5</span>, <span style=\"color: #008080; text-decoration-color: #008080; font-weight: bold\">13</span>, <span style=\"color: #008080; text-decoration-color: #008080; font-weight: bold\">13</span>,  <span style=\"color: #008080; text-decoration-color: #008080; font-weight: bold\">1</span>,  <span style=\"color: #008080; text-decoration-color: #008080; font-weight: bold\">0</span>,  <span style=\"color: #008080; text-decoration-color: #008080; font-weight: bold\">5</span>, <span style=\"color: #008080; text-decoration-color: #008080; font-weight: bold\">12</span>,  <span style=\"color: #008080; text-decoration-color: #008080; font-weight: bold\">9</span>, <span style=\"color: #008080; text-decoration-color: #008080; font-weight: bold\">22</span>,  <span style=\"color: #008080; text-decoration-color: #008080; font-weight: bold\">9</span>,  <span style=\"color: #008080; text-decoration-color: #008080; font-weight: bold\">1</span>,  <span style=\"color: #008080; text-decoration-color: #008080; font-weight: bold\">0</span><span style=\"font-weight: bold\">]))</span>\n",
       "</pre>\n"
      ],
      "text/plain": [
       "\n",
       "\u001b[1;35mtorch.return_types.max\u001b[0m\u001b[1m(\u001b[0m\n",
       "\u001b[33mvalues\u001b[0m=\u001b[1;35mtensor\u001b[0m\u001b[1m(\u001b[0m\u001b[1m[\u001b[0m \u001b[1;36m9.8012\u001b[0m, \u001b[1;36m13.4625\u001b[0m, \u001b[1;36m12.6716\u001b[0m, \u001b[1;36m12.9291\u001b[0m, \u001b[1;36m14.5114\u001b[0m,  \u001b[1;36m9.8012\u001b[0m, \u001b[1;36m10.4842\u001b[0m, \u001b[1;36m14.7211\u001b[0m,\n",
       "         \u001b[1;36m5.7120\u001b[0m, \u001b[1;36m15.7225\u001b[0m,  \u001b[1;36m5.5768\u001b[0m, \u001b[1;36m18.3183\u001b[0m\u001b[1m]\u001b[0m, \u001b[33mgrad_fn\u001b[0m=\u001b[1m<\u001b[0m\u001b[1;95mMaxBackward0\u001b[0m\u001b[1m>\u001b[0m\u001b[1m)\u001b[0m,\n",
       "\u001b[33mindices\u001b[0m=\u001b[1;35mtensor\u001b[0m\u001b[1m(\u001b[0m\u001b[1m[\u001b[0m \u001b[1;36m5\u001b[0m, \u001b[1;36m13\u001b[0m, \u001b[1;36m13\u001b[0m,  \u001b[1;36m1\u001b[0m,  \u001b[1;36m0\u001b[0m,  \u001b[1;36m5\u001b[0m, \u001b[1;36m12\u001b[0m,  \u001b[1;36m9\u001b[0m, \u001b[1;36m22\u001b[0m,  \u001b[1;36m9\u001b[0m,  \u001b[1;36m1\u001b[0m,  \u001b[1;36m0\u001b[0m\u001b[1m]\u001b[0m\u001b[1m)\u001b[0m\u001b[1m)\u001b[0m\n"
      ]
     },
     "metadata": {},
     "output_type": "display_data"
    }
   ],
   "source": [
    "logits = forward_pass(parameters, X); logits.max(1)"
   ]
  },
  {
   "cell_type": "code",
   "execution_count": null,
   "id": "a5867fd7",
   "metadata": {},
   "outputs": [
    {
     "data": {
      "text/html": [
       "<pre style=\"white-space:pre;overflow-x:auto;line-height:normal;font-family:Menlo,'DejaVu Sans Mono',consolas,'Courier New',monospace\"><span style=\"color: #800080; text-decoration-color: #800080; font-weight: bold\">tensor</span><span style=\"font-weight: bold\">([</span> <span style=\"color: #008080; text-decoration-color: #008080; font-weight: bold\">5</span>, <span style=\"color: #008080; text-decoration-color: #008080; font-weight: bold\">13</span>, <span style=\"color: #008080; text-decoration-color: #008080; font-weight: bold\">13</span>,  <span style=\"color: #008080; text-decoration-color: #008080; font-weight: bold\">1</span>,  <span style=\"color: #008080; text-decoration-color: #008080; font-weight: bold\">0</span>, <span style=\"color: #008080; text-decoration-color: #008080; font-weight: bold\">15</span>, <span style=\"color: #008080; text-decoration-color: #008080; font-weight: bold\">12</span>,  <span style=\"color: #008080; text-decoration-color: #008080; font-weight: bold\">9</span>, <span style=\"color: #008080; text-decoration-color: #008080; font-weight: bold\">22</span>,  <span style=\"color: #008080; text-decoration-color: #008080; font-weight: bold\">9</span>,  <span style=\"color: #008080; text-decoration-color: #008080; font-weight: bold\">1</span>,  <span style=\"color: #008080; text-decoration-color: #008080; font-weight: bold\">0</span><span style=\"font-weight: bold\">])</span>\n",
       "</pre>\n"
      ],
      "text/plain": [
       "\u001b[1;35mtensor\u001b[0m\u001b[1m(\u001b[0m\u001b[1m[\u001b[0m \u001b[1;36m5\u001b[0m, \u001b[1;36m13\u001b[0m, \u001b[1;36m13\u001b[0m,  \u001b[1;36m1\u001b[0m,  \u001b[1;36m0\u001b[0m, \u001b[1;36m15\u001b[0m, \u001b[1;36m12\u001b[0m,  \u001b[1;36m9\u001b[0m, \u001b[1;36m22\u001b[0m,  \u001b[1;36m9\u001b[0m,  \u001b[1;36m1\u001b[0m,  \u001b[1;36m0\u001b[0m\u001b[1m]\u001b[0m\u001b[1m)\u001b[0m\n"
      ]
     },
     "metadata": {},
     "output_type": "display_data"
    }
   ],
   "source": [
    "Y"
   ]
  },
  {
   "cell_type": "markdown",
   "id": "63ac8084",
   "metadata": {},
   "source": [
    "## Training on a full dataset"
   ]
  },
  {
   "cell_type": "code",
   "execution_count": null,
   "id": "21276be3",
   "metadata": {},
   "outputs": [],
   "source": [
    "X, Y = generate_training_set(words, 3)"
   ]
  },
  {
   "cell_type": "code",
   "execution_count": null,
   "id": "7cac3ba5",
   "metadata": {},
   "outputs": [
    {
     "data": {
      "text/html": [
       "<pre style=\"white-space:pre;overflow-x:auto;line-height:normal;font-family:Menlo,'DejaVu Sans Mono',consolas,'Courier New',monospace\"><span style=\"font-weight: bold\">(</span><span style=\"color: #800080; text-decoration-color: #800080; font-weight: bold\">torch.Size</span><span style=\"font-weight: bold\">([</span><span style=\"color: #008080; text-decoration-color: #008080; font-weight: bold\">228146</span>, <span style=\"color: #008080; text-decoration-color: #008080; font-weight: bold\">3</span><span style=\"font-weight: bold\">])</span>, <span style=\"color: #800080; text-decoration-color: #800080; font-weight: bold\">torch.Size</span><span style=\"font-weight: bold\">([</span><span style=\"color: #008080; text-decoration-color: #008080; font-weight: bold\">228146</span><span style=\"font-weight: bold\">])</span>, torch.int64, torch.int64<span style=\"font-weight: bold\">)</span>\n",
       "</pre>\n"
      ],
      "text/plain": [
       "\u001b[1m(\u001b[0m\u001b[1;35mtorch.Size\u001b[0m\u001b[1m(\u001b[0m\u001b[1m[\u001b[0m\u001b[1;36m228146\u001b[0m, \u001b[1;36m3\u001b[0m\u001b[1m]\u001b[0m\u001b[1m)\u001b[0m, \u001b[1;35mtorch.Size\u001b[0m\u001b[1m(\u001b[0m\u001b[1m[\u001b[0m\u001b[1;36m228146\u001b[0m\u001b[1m]\u001b[0m\u001b[1m)\u001b[0m, torch.int64, torch.int64\u001b[1m)\u001b[0m\n"
      ]
     },
     "metadata": {},
     "output_type": "display_data"
    }
   ],
   "source": [
    "X.shape, Y.shape, X.dtype, Y.dtype"
   ]
  },
  {
   "cell_type": "code",
   "execution_count": null,
   "id": "91b6253d",
   "metadata": {},
   "outputs": [],
   "source": [
    "def train(epochs, X, Y, **args):\n",
    "    parameters = initialize_params(100)\n",
    "    \n",
    "    for p in parameters: p.requires_grad = True \n",
    "        \n",
    "    for _ in range(epochs):\n",
    "        loss = an_epoch(parameters, X, Y, **args)\n",
    "        print(loss.item())\n",
    "    return parameters"
   ]
  },
  {
   "cell_type": "code",
   "execution_count": null,
   "id": "02f86f8b",
   "metadata": {},
   "outputs": [
    {
     "data": {
      "text/html": [
       "<pre style=\"white-space:pre;overflow-x:auto;line-height:normal;font-family:Menlo,'DejaVu Sans Mono',consolas,'Courier New',monospace\"><span style=\"color: #800080; text-decoration-color: #800080; font-weight: bold\">torch.Size</span><span style=\"font-weight: bold\">([</span><span style=\"color: #008080; text-decoration-color: #008080; font-weight: bold\">228146</span>, <span style=\"color: #008080; text-decoration-color: #008080; font-weight: bold\">3</span>, <span style=\"color: #008080; text-decoration-color: #008080; font-weight: bold\">2</span><span style=\"font-weight: bold\">])</span>\n",
       "</pre>\n"
      ],
      "text/plain": [
       "\u001b[1;35mtorch.Size\u001b[0m\u001b[1m(\u001b[0m\u001b[1m[\u001b[0m\u001b[1;36m228146\u001b[0m, \u001b[1;36m3\u001b[0m, \u001b[1;36m2\u001b[0m\u001b[1m]\u001b[0m\u001b[1m)\u001b[0m\n"
      ]
     },
     "metadata": {},
     "output_type": "display_data"
    }
   ],
   "source": [
    "C[X].shape"
   ]
  },
  {
   "cell_type": "code",
   "execution_count": null,
   "id": "184d2861",
   "metadata": {},
   "outputs": [
    {
     "data": {
      "text/html": [
       "<pre style=\"white-space:pre;overflow-x:auto;line-height:normal;font-family:Menlo,'DejaVu Sans Mono',consolas,'Courier New',monospace\"><span style=\"color: #008080; text-decoration-color: #008080; font-weight: bold\">18.036645889282227</span>\n",
       "</pre>\n"
      ],
      "text/plain": [
       "\u001b[1;36m18.036645889282227\u001b[0m\n"
      ]
     },
     "metadata": {},
     "output_type": "display_data"
    },
    {
     "data": {
      "text/html": [
       "<pre style=\"white-space:pre;overflow-x:auto;line-height:normal;font-family:Menlo,'DejaVu Sans Mono',consolas,'Courier New',monospace\"><span style=\"color: #008080; text-decoration-color: #008080; font-weight: bold\">16.586727142333984</span>\n",
       "</pre>\n"
      ],
      "text/plain": [
       "\u001b[1;36m16.586727142333984\u001b[0m\n"
      ]
     },
     "metadata": {},
     "output_type": "display_data"
    },
    {
     "data": {
      "text/html": [
       "<pre style=\"white-space:pre;overflow-x:auto;line-height:normal;font-family:Menlo,'DejaVu Sans Mono',consolas,'Courier New',monospace\"><span style=\"color: #008080; text-decoration-color: #008080; font-weight: bold\">15.626733779907227</span>\n",
       "</pre>\n"
      ],
      "text/plain": [
       "\u001b[1;36m15.626733779907227\u001b[0m\n"
      ]
     },
     "metadata": {},
     "output_type": "display_data"
    },
    {
     "data": {
      "text/html": [
       "<pre style=\"white-space:pre;overflow-x:auto;line-height:normal;font-family:Menlo,'DejaVu Sans Mono',consolas,'Courier New',monospace\"><span style=\"color: #008080; text-decoration-color: #008080; font-weight: bold\">14.729887962341309</span>\n",
       "</pre>\n"
      ],
      "text/plain": [
       "\u001b[1;36m14.729887962341309\u001b[0m\n"
      ]
     },
     "metadata": {},
     "output_type": "display_data"
    },
    {
     "data": {
      "text/html": [
       "<pre style=\"white-space:pre;overflow-x:auto;line-height:normal;font-family:Menlo,'DejaVu Sans Mono',consolas,'Courier New',monospace\"><span style=\"color: #008080; text-decoration-color: #008080; font-weight: bold\">13.938693046569824</span>\n",
       "</pre>\n"
      ],
      "text/plain": [
       "\u001b[1;36m13.938693046569824\u001b[0m\n"
      ]
     },
     "metadata": {},
     "output_type": "display_data"
    },
    {
     "data": {
      "text/html": [
       "<pre style=\"white-space:pre;overflow-x:auto;line-height:normal;font-family:Menlo,'DejaVu Sans Mono',consolas,'Courier New',monospace\"><span style=\"color: #008080; text-decoration-color: #008080; font-weight: bold\">13.19073486328125</span>\n",
       "</pre>\n"
      ],
      "text/plain": [
       "\u001b[1;36m13.19073486328125\u001b[0m\n"
      ]
     },
     "metadata": {},
     "output_type": "display_data"
    },
    {
     "data": {
      "text/html": [
       "<pre style=\"white-space:pre;overflow-x:auto;line-height:normal;font-family:Menlo,'DejaVu Sans Mono',consolas,'Courier New',monospace\"><span style=\"color: #008080; text-decoration-color: #008080; font-weight: bold\">12.597437858581543</span>\n",
       "</pre>\n"
      ],
      "text/plain": [
       "\u001b[1;36m12.597437858581543\u001b[0m\n"
      ]
     },
     "metadata": {},
     "output_type": "display_data"
    },
    {
     "data": {
      "text/html": [
       "<pre style=\"white-space:pre;overflow-x:auto;line-height:normal;font-family:Menlo,'DejaVu Sans Mono',consolas,'Courier New',monospace\"><span style=\"color: #008080; text-decoration-color: #008080; font-weight: bold\">12.086341857910156</span>\n",
       "</pre>\n"
      ],
      "text/plain": [
       "\u001b[1;36m12.086341857910156\u001b[0m\n"
      ]
     },
     "metadata": {},
     "output_type": "display_data"
    },
    {
     "data": {
      "text/html": [
       "<pre style=\"white-space:pre;overflow-x:auto;line-height:normal;font-family:Menlo,'DejaVu Sans Mono',consolas,'Courier New',monospace\"><span style=\"color: #008080; text-decoration-color: #008080; font-weight: bold\">11.660746574401855</span>\n",
       "</pre>\n"
      ],
      "text/plain": [
       "\u001b[1;36m11.660746574401855\u001b[0m\n"
      ]
     },
     "metadata": {},
     "output_type": "display_data"
    },
    {
     "data": {
      "text/html": [
       "<pre style=\"white-space:pre;overflow-x:auto;line-height:normal;font-family:Menlo,'DejaVu Sans Mono',consolas,'Courier New',monospace\"><span style=\"color: #008080; text-decoration-color: #008080; font-weight: bold\">11.272781372070312</span>\n",
       "</pre>\n"
      ],
      "text/plain": [
       "\u001b[1;36m11.272781372070312\u001b[0m\n"
      ]
     },
     "metadata": {},
     "output_type": "display_data"
    }
   ],
   "source": [
    "params = train(10, X, Y)"
   ]
  },
  {
   "cell_type": "markdown",
   "id": "bb8181e8",
   "metadata": {},
   "source": [
    "### Generate minibatches"
   ]
  },
  {
   "cell_type": "code",
   "execution_count": null,
   "id": "1b939a5b",
   "metadata": {},
   "outputs": [
    {
     "data": {
      "text/html": [
       "<pre style=\"white-space:pre;overflow-x:auto;line-height:normal;font-family:Menlo,'DejaVu Sans Mono',consolas,'Courier New',monospace\">\n",
       "<span style=\"color: #800080; text-decoration-color: #800080; font-weight: bold\">tensor</span><span style=\"font-weight: bold\">([</span><span style=\"color: #008080; text-decoration-color: #008080; font-weight: bold\">1</span>, <span style=\"color: #008080; text-decoration-color: #008080; font-weight: bold\">2</span>, <span style=\"color: #008080; text-decoration-color: #008080; font-weight: bold\">2</span>, <span style=\"color: #008080; text-decoration-color: #008080; font-weight: bold\">0</span>, <span style=\"color: #008080; text-decoration-color: #008080; font-weight: bold\">3</span>, <span style=\"color: #008080; text-decoration-color: #008080; font-weight: bold\">2</span>, <span style=\"color: #008080; text-decoration-color: #008080; font-weight: bold\">1</span>, <span style=\"color: #008080; text-decoration-color: #008080; font-weight: bold\">1</span>, <span style=\"color: #008080; text-decoration-color: #008080; font-weight: bold\">3</span>, <span style=\"color: #008080; text-decoration-color: #008080; font-weight: bold\">4</span>, <span style=\"color: #008080; text-decoration-color: #008080; font-weight: bold\">2</span>, <span style=\"color: #008080; text-decoration-color: #008080; font-weight: bold\">3</span>, <span style=\"color: #008080; text-decoration-color: #008080; font-weight: bold\">1</span>, <span style=\"color: #008080; text-decoration-color: #008080; font-weight: bold\">3</span>, <span style=\"color: #008080; text-decoration-color: #008080; font-weight: bold\">1</span>, <span style=\"color: #008080; text-decoration-color: #008080; font-weight: bold\">0</span>, <span style=\"color: #008080; text-decoration-color: #008080; font-weight: bold\">1</span>, <span style=\"color: #008080; text-decoration-color: #008080; font-weight: bold\">2</span>, <span style=\"color: #008080; text-decoration-color: #008080; font-weight: bold\">4</span>, <span style=\"color: #008080; text-decoration-color: #008080; font-weight: bold\">2</span>, <span style=\"color: #008080; text-decoration-color: #008080; font-weight: bold\">3</span>, <span style=\"color: #008080; text-decoration-color: #008080; font-weight: bold\">2</span>, <span style=\"color: #008080; text-decoration-color: #008080; font-weight: bold\">4</span>, <span style=\"color: #008080; text-decoration-color: #008080; font-weight: bold\">3</span>,\n",
       "        <span style=\"color: #008080; text-decoration-color: #008080; font-weight: bold\">2</span>, <span style=\"color: #008080; text-decoration-color: #008080; font-weight: bold\">4</span>, <span style=\"color: #008080; text-decoration-color: #008080; font-weight: bold\">4</span>, <span style=\"color: #008080; text-decoration-color: #008080; font-weight: bold\">0</span>, <span style=\"color: #008080; text-decoration-color: #008080; font-weight: bold\">3</span>, <span style=\"color: #008080; text-decoration-color: #008080; font-weight: bold\">1</span>, <span style=\"color: #008080; text-decoration-color: #008080; font-weight: bold\">1</span>, <span style=\"color: #008080; text-decoration-color: #008080; font-weight: bold\">1</span><span style=\"font-weight: bold\">])</span>\n",
       "</pre>\n"
      ],
      "text/plain": [
       "\n",
       "\u001b[1;35mtensor\u001b[0m\u001b[1m(\u001b[0m\u001b[1m[\u001b[0m\u001b[1;36m1\u001b[0m, \u001b[1;36m2\u001b[0m, \u001b[1;36m2\u001b[0m, \u001b[1;36m0\u001b[0m, \u001b[1;36m3\u001b[0m, \u001b[1;36m2\u001b[0m, \u001b[1;36m1\u001b[0m, \u001b[1;36m1\u001b[0m, \u001b[1;36m3\u001b[0m, \u001b[1;36m4\u001b[0m, \u001b[1;36m2\u001b[0m, \u001b[1;36m3\u001b[0m, \u001b[1;36m1\u001b[0m, \u001b[1;36m3\u001b[0m, \u001b[1;36m1\u001b[0m, \u001b[1;36m0\u001b[0m, \u001b[1;36m1\u001b[0m, \u001b[1;36m2\u001b[0m, \u001b[1;36m4\u001b[0m, \u001b[1;36m2\u001b[0m, \u001b[1;36m3\u001b[0m, \u001b[1;36m2\u001b[0m, \u001b[1;36m4\u001b[0m, \u001b[1;36m3\u001b[0m,\n",
       "        \u001b[1;36m2\u001b[0m, \u001b[1;36m4\u001b[0m, \u001b[1;36m4\u001b[0m, \u001b[1;36m0\u001b[0m, \u001b[1;36m3\u001b[0m, \u001b[1;36m1\u001b[0m, \u001b[1;36m1\u001b[0m, \u001b[1;36m1\u001b[0m\u001b[1m]\u001b[0m\u001b[1m)\u001b[0m\n"
      ]
     },
     "metadata": {},
     "output_type": "display_data"
    }
   ],
   "source": [
    "torch.randint(0, 5, (32, ))"
   ]
  },
  {
   "cell_type": "code",
   "execution_count": null,
   "id": "9c0c4c1d",
   "metadata": {},
   "outputs": [
    {
     "data": {
      "text/html": [
       "<pre style=\"white-space:pre;overflow-x:auto;line-height:normal;font-family:Menlo,'DejaVu Sans Mono',consolas,'Courier New',monospace\">\n",
       "<span style=\"color: #800080; text-decoration-color: #800080; font-weight: bold\">tensor</span><span style=\"font-weight: bold\">([</span><span style=\"color: #008080; text-decoration-color: #008080; font-weight: bold\">228007</span>, <span style=\"color: #008080; text-decoration-color: #008080; font-weight: bold\">156095</span>, <span style=\"color: #008080; text-decoration-color: #008080; font-weight: bold\">153320</span>,  <span style=\"color: #008080; text-decoration-color: #008080; font-weight: bold\">70517</span>,  <span style=\"color: #008080; text-decoration-color: #008080; font-weight: bold\">60450</span>,  <span style=\"color: #008080; text-decoration-color: #008080; font-weight: bold\">38038</span>,  <span style=\"color: #008080; text-decoration-color: #008080; font-weight: bold\">75888</span>,  <span style=\"color: #008080; text-decoration-color: #008080; font-weight: bold\">55665</span>, <span style=\"color: #008080; text-decoration-color: #008080; font-weight: bold\">227431</span>,\n",
       "        <span style=\"color: #008080; text-decoration-color: #008080; font-weight: bold\">154371</span>,  <span style=\"color: #008080; text-decoration-color: #008080; font-weight: bold\">85786</span>,  <span style=\"color: #008080; text-decoration-color: #008080; font-weight: bold\">37967</span>, <span style=\"color: #008080; text-decoration-color: #008080; font-weight: bold\">184558</span>, <span style=\"color: #008080; text-decoration-color: #008080; font-weight: bold\">213374</span>, <span style=\"color: #008080; text-decoration-color: #008080; font-weight: bold\">153605</span>, <span style=\"color: #008080; text-decoration-color: #008080; font-weight: bold\">224477</span>,  <span style=\"color: #008080; text-decoration-color: #008080; font-weight: bold\">51769</span>, <span style=\"color: #008080; text-decoration-color: #008080; font-weight: bold\">208919</span>,\n",
       "        <span style=\"color: #008080; text-decoration-color: #008080; font-weight: bold\">202749</span>, <span style=\"color: #008080; text-decoration-color: #008080; font-weight: bold\">106279</span>, <span style=\"color: #008080; text-decoration-color: #008080; font-weight: bold\">175975</span>, <span style=\"color: #008080; text-decoration-color: #008080; font-weight: bold\">114188</span>, <span style=\"color: #008080; text-decoration-color: #008080; font-weight: bold\">172753</span>,  <span style=\"color: #008080; text-decoration-color: #008080; font-weight: bold\">24093</span>,   <span style=\"color: #008080; text-decoration-color: #008080; font-weight: bold\">3400</span>, <span style=\"color: #008080; text-decoration-color: #008080; font-weight: bold\">121271</span>,  <span style=\"color: #008080; text-decoration-color: #008080; font-weight: bold\">14529</span>,\n",
       "         <span style=\"color: #008080; text-decoration-color: #008080; font-weight: bold\">84926</span>, <span style=\"color: #008080; text-decoration-color: #008080; font-weight: bold\">184325</span>,  <span style=\"color: #008080; text-decoration-color: #008080; font-weight: bold\">45408</span>, <span style=\"color: #008080; text-decoration-color: #008080; font-weight: bold\">126493</span>, <span style=\"color: #008080; text-decoration-color: #008080; font-weight: bold\">159063</span><span style=\"font-weight: bold\">])</span>\n",
       "</pre>\n"
      ],
      "text/plain": [
       "\n",
       "\u001b[1;35mtensor\u001b[0m\u001b[1m(\u001b[0m\u001b[1m[\u001b[0m\u001b[1;36m228007\u001b[0m, \u001b[1;36m156095\u001b[0m, \u001b[1;36m153320\u001b[0m,  \u001b[1;36m70517\u001b[0m,  \u001b[1;36m60450\u001b[0m,  \u001b[1;36m38038\u001b[0m,  \u001b[1;36m75888\u001b[0m,  \u001b[1;36m55665\u001b[0m, \u001b[1;36m227431\u001b[0m,\n",
       "        \u001b[1;36m154371\u001b[0m,  \u001b[1;36m85786\u001b[0m,  \u001b[1;36m37967\u001b[0m, \u001b[1;36m184558\u001b[0m, \u001b[1;36m213374\u001b[0m, \u001b[1;36m153605\u001b[0m, \u001b[1;36m224477\u001b[0m,  \u001b[1;36m51769\u001b[0m, \u001b[1;36m208919\u001b[0m,\n",
       "        \u001b[1;36m202749\u001b[0m, \u001b[1;36m106279\u001b[0m, \u001b[1;36m175975\u001b[0m, \u001b[1;36m114188\u001b[0m, \u001b[1;36m172753\u001b[0m,  \u001b[1;36m24093\u001b[0m,   \u001b[1;36m3400\u001b[0m, \u001b[1;36m121271\u001b[0m,  \u001b[1;36m14529\u001b[0m,\n",
       "         \u001b[1;36m84926\u001b[0m, \u001b[1;36m184325\u001b[0m,  \u001b[1;36m45408\u001b[0m, \u001b[1;36m126493\u001b[0m, \u001b[1;36m159063\u001b[0m\u001b[1m]\u001b[0m\u001b[1m)\u001b[0m\n"
      ]
     },
     "metadata": {},
     "output_type": "display_data"
    }
   ],
   "source": [
    "torch.randint(0, X.shape[0], (32,))"
   ]
  },
  {
   "cell_type": "code",
   "execution_count": null,
   "id": "86e8aa4f",
   "metadata": {},
   "outputs": [],
   "source": [
    "ix = torch.randint(0, X.shape[0], (32,))"
   ]
  },
  {
   "cell_type": "code",
   "execution_count": null,
   "id": "aceb62e7",
   "metadata": {},
   "outputs": [
    {
     "data": {
      "text/html": [
       "<pre style=\"white-space:pre;overflow-x:auto;line-height:normal;font-family:Menlo,'DejaVu Sans Mono',consolas,'Courier New',monospace\">\n",
       "<span style=\"color: #800080; text-decoration-color: #800080; font-weight: bold\">tensor</span><span style=\"font-weight: bold\">([</span> <span style=\"color: #008080; text-decoration-color: #008080; font-weight: bold\">28715</span>, <span style=\"color: #008080; text-decoration-color: #008080; font-weight: bold\">214418</span>,  <span style=\"color: #008080; text-decoration-color: #008080; font-weight: bold\">88178</span>,  <span style=\"color: #008080; text-decoration-color: #008080; font-weight: bold\">86154</span>, <span style=\"color: #008080; text-decoration-color: #008080; font-weight: bold\">101624</span>,  <span style=\"color: #008080; text-decoration-color: #008080; font-weight: bold\">58413</span>, <span style=\"color: #008080; text-decoration-color: #008080; font-weight: bold\">129213</span>,  <span style=\"color: #008080; text-decoration-color: #008080; font-weight: bold\">85203</span>,  <span style=\"color: #008080; text-decoration-color: #008080; font-weight: bold\">32300</span>,\n",
       "         <span style=\"color: #008080; text-decoration-color: #008080; font-weight: bold\">94100</span>,  <span style=\"color: #008080; text-decoration-color: #008080; font-weight: bold\">13057</span>,  <span style=\"color: #008080; text-decoration-color: #008080; font-weight: bold\">94251</span>,  <span style=\"color: #008080; text-decoration-color: #008080; font-weight: bold\">52467</span>, <span style=\"color: #008080; text-decoration-color: #008080; font-weight: bold\">225125</span>,  <span style=\"color: #008080; text-decoration-color: #008080; font-weight: bold\">40821</span>,  <span style=\"color: #008080; text-decoration-color: #008080; font-weight: bold\">52848</span>,  <span style=\"color: #008080; text-decoration-color: #008080; font-weight: bold\">90216</span>, <span style=\"color: #008080; text-decoration-color: #008080; font-weight: bold\">168981</span>,\n",
       "        <span style=\"color: #008080; text-decoration-color: #008080; font-weight: bold\">131762</span>,  <span style=\"color: #008080; text-decoration-color: #008080; font-weight: bold\">69714</span>, <span style=\"color: #008080; text-decoration-color: #008080; font-weight: bold\">210151</span>,  <span style=\"color: #008080; text-decoration-color: #008080; font-weight: bold\">38251</span>,  <span style=\"color: #008080; text-decoration-color: #008080; font-weight: bold\">73070</span>, <span style=\"color: #008080; text-decoration-color: #008080; font-weight: bold\">142627</span>, <span style=\"color: #008080; text-decoration-color: #008080; font-weight: bold\">113949</span>,  <span style=\"color: #008080; text-decoration-color: #008080; font-weight: bold\">84569</span>, <span style=\"color: #008080; text-decoration-color: #008080; font-weight: bold\">106754</span>,\n",
       "        <span style=\"color: #008080; text-decoration-color: #008080; font-weight: bold\">175039</span>, <span style=\"color: #008080; text-decoration-color: #008080; font-weight: bold\">148649</span>,  <span style=\"color: #008080; text-decoration-color: #008080; font-weight: bold\">14182</span>, <span style=\"color: #008080; text-decoration-color: #008080; font-weight: bold\">120906</span>, <span style=\"color: #008080; text-decoration-color: #008080; font-weight: bold\">172509</span><span style=\"font-weight: bold\">])</span>\n",
       "</pre>\n"
      ],
      "text/plain": [
       "\n",
       "\u001b[1;35mtensor\u001b[0m\u001b[1m(\u001b[0m\u001b[1m[\u001b[0m \u001b[1;36m28715\u001b[0m, \u001b[1;36m214418\u001b[0m,  \u001b[1;36m88178\u001b[0m,  \u001b[1;36m86154\u001b[0m, \u001b[1;36m101624\u001b[0m,  \u001b[1;36m58413\u001b[0m, \u001b[1;36m129213\u001b[0m,  \u001b[1;36m85203\u001b[0m,  \u001b[1;36m32300\u001b[0m,\n",
       "         \u001b[1;36m94100\u001b[0m,  \u001b[1;36m13057\u001b[0m,  \u001b[1;36m94251\u001b[0m,  \u001b[1;36m52467\u001b[0m, \u001b[1;36m225125\u001b[0m,  \u001b[1;36m40821\u001b[0m,  \u001b[1;36m52848\u001b[0m,  \u001b[1;36m90216\u001b[0m, \u001b[1;36m168981\u001b[0m,\n",
       "        \u001b[1;36m131762\u001b[0m,  \u001b[1;36m69714\u001b[0m, \u001b[1;36m210151\u001b[0m,  \u001b[1;36m38251\u001b[0m,  \u001b[1;36m73070\u001b[0m, \u001b[1;36m142627\u001b[0m, \u001b[1;36m113949\u001b[0m,  \u001b[1;36m84569\u001b[0m, \u001b[1;36m106754\u001b[0m,\n",
       "        \u001b[1;36m175039\u001b[0m, \u001b[1;36m148649\u001b[0m,  \u001b[1;36m14182\u001b[0m, \u001b[1;36m120906\u001b[0m, \u001b[1;36m172509\u001b[0m\u001b[1m]\u001b[0m\u001b[1m)\u001b[0m\n"
      ]
     },
     "metadata": {},
     "output_type": "display_data"
    }
   ],
   "source": [
    "ix"
   ]
  },
  {
   "cell_type": "markdown",
   "id": "fac5cb51",
   "metadata": {},
   "source": [
    "### Train on minibatches"
   ]
  },
  {
   "cell_type": "code",
   "execution_count": null,
   "id": "ccdb5c61",
   "metadata": {},
   "outputs": [],
   "source": [
    "def an_epoch_minibatch(parameters, X, Y, bs=32, **args):\n",
    "    ix = torch.randint(0, X.shape[0], (bs, )) # taking minibatches of 32 size\n",
    "    loss = an_epoch(parameters, X[ix], Y[ix], **args)\n",
    "    return loss"
   ]
  },
  {
   "cell_type": "code",
   "execution_count": null,
   "id": "87498e78",
   "metadata": {},
   "outputs": [],
   "source": [
    "def train(epochs, X, Y, parameters=[], enable_print=True, **args):\n",
    "    if not parameters: parameters = initialize_params(100)\n",
    "    \n",
    "    for p in parameters: p.requires_grad = True \n",
    "        \n",
    "    for _ in range(epochs):\n",
    "        loss = an_epoch_minibatch(parameters, X, Y, **args)\n",
    "        if enable_print: print(loss.item())\n",
    "        \n",
    "    return parameters, loss.item()"
   ]
  },
  {
   "cell_type": "code",
   "execution_count": null,
   "id": "b94e881f",
   "metadata": {},
   "outputs": [
    {
     "data": {
      "text/html": [
       "<pre style=\"white-space:pre;overflow-x:auto;line-height:normal;font-family:Menlo,'DejaVu Sans Mono',consolas,'Courier New',monospace\"><span style=\"color: #008080; text-decoration-color: #008080; font-weight: bold\">15.801168441772461</span>\n",
       "</pre>\n"
      ],
      "text/plain": [
       "\u001b[1;36m15.801168441772461\u001b[0m\n"
      ]
     },
     "metadata": {},
     "output_type": "display_data"
    },
    {
     "data": {
      "text/html": [
       "<pre style=\"white-space:pre;overflow-x:auto;line-height:normal;font-family:Menlo,'DejaVu Sans Mono',consolas,'Courier New',monospace\"><span style=\"color: #008080; text-decoration-color: #008080; font-weight: bold\">14.867757797241211</span>\n",
       "</pre>\n"
      ],
      "text/plain": [
       "\u001b[1;36m14.867757797241211\u001b[0m\n"
      ]
     },
     "metadata": {},
     "output_type": "display_data"
    },
    {
     "data": {
      "text/html": [
       "<pre style=\"white-space:pre;overflow-x:auto;line-height:normal;font-family:Menlo,'DejaVu Sans Mono',consolas,'Courier New',monospace\"><span style=\"color: #008080; text-decoration-color: #008080; font-weight: bold\">11.627082824707031</span>\n",
       "</pre>\n"
      ],
      "text/plain": [
       "\u001b[1;36m11.627082824707031\u001b[0m\n"
      ]
     },
     "metadata": {},
     "output_type": "display_data"
    },
    {
     "data": {
      "text/html": [
       "<pre style=\"white-space:pre;overflow-x:auto;line-height:normal;font-family:Menlo,'DejaVu Sans Mono',consolas,'Courier New',monospace\"><span style=\"color: #008080; text-decoration-color: #008080; font-weight: bold\">13.213473320007324</span>\n",
       "</pre>\n"
      ],
      "text/plain": [
       "\u001b[1;36m13.213473320007324\u001b[0m\n"
      ]
     },
     "metadata": {},
     "output_type": "display_data"
    },
    {
     "data": {
      "text/html": [
       "<pre style=\"white-space:pre;overflow-x:auto;line-height:normal;font-family:Menlo,'DejaVu Sans Mono',consolas,'Courier New',monospace\"><span style=\"color: #008080; text-decoration-color: #008080; font-weight: bold\">10.204056739807129</span>\n",
       "</pre>\n"
      ],
      "text/plain": [
       "\u001b[1;36m10.204056739807129\u001b[0m\n"
      ]
     },
     "metadata": {},
     "output_type": "display_data"
    },
    {
     "data": {
      "text/html": [
       "<pre style=\"white-space:pre;overflow-x:auto;line-height:normal;font-family:Menlo,'DejaVu Sans Mono',consolas,'Courier New',monospace\"><span style=\"color: #008080; text-decoration-color: #008080; font-weight: bold\">12.32088851928711</span>\n",
       "</pre>\n"
      ],
      "text/plain": [
       "\u001b[1;36m12.32088851928711\u001b[0m\n"
      ]
     },
     "metadata": {},
     "output_type": "display_data"
    },
    {
     "data": {
      "text/html": [
       "<pre style=\"white-space:pre;overflow-x:auto;line-height:normal;font-family:Menlo,'DejaVu Sans Mono',consolas,'Courier New',monospace\"><span style=\"color: #008080; text-decoration-color: #008080; font-weight: bold\">12.276724815368652</span>\n",
       "</pre>\n"
      ],
      "text/plain": [
       "\u001b[1;36m12.276724815368652\u001b[0m\n"
      ]
     },
     "metadata": {},
     "output_type": "display_data"
    },
    {
     "data": {
      "text/html": [
       "<pre style=\"white-space:pre;overflow-x:auto;line-height:normal;font-family:Menlo,'DejaVu Sans Mono',consolas,'Courier New',monospace\"><span style=\"color: #008080; text-decoration-color: #008080; font-weight: bold\">10.75289249420166</span>\n",
       "</pre>\n"
      ],
      "text/plain": [
       "\u001b[1;36m10.75289249420166\u001b[0m\n"
      ]
     },
     "metadata": {},
     "output_type": "display_data"
    },
    {
     "data": {
      "text/html": [
       "<pre style=\"white-space:pre;overflow-x:auto;line-height:normal;font-family:Menlo,'DejaVu Sans Mono',consolas,'Courier New',monospace\"><span style=\"color: #008080; text-decoration-color: #008080; font-weight: bold\">10.235709190368652</span>\n",
       "</pre>\n"
      ],
      "text/plain": [
       "\u001b[1;36m10.235709190368652\u001b[0m\n"
      ]
     },
     "metadata": {},
     "output_type": "display_data"
    },
    {
     "data": {
      "text/html": [
       "<pre style=\"white-space:pre;overflow-x:auto;line-height:normal;font-family:Menlo,'DejaVu Sans Mono',consolas,'Courier New',monospace\"><span style=\"color: #008080; text-decoration-color: #008080; font-weight: bold\">8.84250545501709</span>\n",
       "</pre>\n"
      ],
      "text/plain": [
       "\u001b[1;36m8.84250545501709\u001b[0m\n"
      ]
     },
     "metadata": {},
     "output_type": "display_data"
    }
   ],
   "source": [
    "_, _ = train(10, X, Y)"
   ]
  },
  {
   "cell_type": "code",
   "execution_count": null,
   "id": "f2d89319",
   "metadata": {},
   "outputs": [
    {
     "data": {
      "text/html": [
       "<pre style=\"white-space:pre;overflow-x:auto;line-height:normal;font-family:Menlo,'DejaVu Sans Mono',consolas,'Courier New',monospace\"><span style=\"color: #008080; text-decoration-color: #008080; font-weight: bold\">2.5062108039855957</span>\n",
       "</pre>\n"
      ],
      "text/plain": [
       "\u001b[1;36m2.5062108039855957\u001b[0m\n"
      ]
     },
     "metadata": {},
     "output_type": "display_data"
    }
   ],
   "source": [
    "params, loss = train(1000, X, Y, enable_print=False)\n",
    "loss"
   ]
  },
  {
   "cell_type": "markdown",
   "id": "ade5e789",
   "metadata": {},
   "source": [
    "We have to define a function for evaluating loss on the whole dataset"
   ]
  },
  {
   "cell_type": "code",
   "execution_count": null,
   "id": "ca8e604f",
   "metadata": {},
   "outputs": [],
   "source": [
    "def evaluate_loss(parameters, X, Y):\n",
    "    logits = forward_pass(parameters, X)\n",
    "    loss = F.cross_entropy(logits, Y)\n",
    "    return loss"
   ]
  },
  {
   "cell_type": "code",
   "execution_count": null,
   "id": "6918b486",
   "metadata": {},
   "outputs": [
    {
     "data": {
      "text/html": [
       "<pre style=\"white-space:pre;overflow-x:auto;line-height:normal;font-family:Menlo,'DejaVu Sans Mono',consolas,'Courier New',monospace\"><span style=\"color: #800080; text-decoration-color: #800080; font-weight: bold\">tensor</span><span style=\"font-weight: bold\">(</span><span style=\"color: #008080; text-decoration-color: #008080; font-weight: bold\">2.6242</span>, <span style=\"color: #808000; text-decoration-color: #808000\">grad_fn</span>=<span style=\"font-weight: bold\">&lt;</span><span style=\"color: #ff00ff; text-decoration-color: #ff00ff; font-weight: bold\">NllLossBackward0</span><span style=\"font-weight: bold\">&gt;)</span>\n",
       "</pre>\n"
      ],
      "text/plain": [
       "\u001b[1;35mtensor\u001b[0m\u001b[1m(\u001b[0m\u001b[1;36m2.6242\u001b[0m, \u001b[33mgrad_fn\u001b[0m=\u001b[1m<\u001b[0m\u001b[1;95mNllLossBackward0\u001b[0m\u001b[1m>\u001b[0m\u001b[1m)\u001b[0m\n"
      ]
     },
     "metadata": {},
     "output_type": "display_data"
    }
   ],
   "source": [
    "evaluate_loss(params, X, Y) "
   ]
  },
  {
   "cell_type": "code",
   "execution_count": null,
   "id": "08d64294",
   "metadata": {},
   "outputs": [
    {
     "data": {
      "text/html": [
       "<pre style=\"white-space:pre;overflow-x:auto;line-height:normal;font-family:Menlo,'DejaVu Sans Mono',consolas,'Courier New',monospace\"><span style=\"color: #008080; text-decoration-color: #008080; font-weight: bold\">2.4619643688201904</span>\n",
       "</pre>\n"
      ],
      "text/plain": [
       "\u001b[1;36m2.4619643688201904\u001b[0m\n"
      ]
     },
     "metadata": {},
     "output_type": "display_data"
    }
   ],
   "source": [
    "params, loss = train(2000, X, Y, enable_print=False)\n",
    "loss"
   ]
  },
  {
   "cell_type": "code",
   "execution_count": null,
   "id": "a2f96f72",
   "metadata": {},
   "outputs": [
    {
     "data": {
      "text/html": [
       "<pre style=\"white-space:pre;overflow-x:auto;line-height:normal;font-family:Menlo,'DejaVu Sans Mono',consolas,'Courier New',monospace\"><span style=\"color: #800080; text-decoration-color: #800080; font-weight: bold\">tensor</span><span style=\"font-weight: bold\">(</span><span style=\"color: #008080; text-decoration-color: #008080; font-weight: bold\">2.6243</span>, <span style=\"color: #808000; text-decoration-color: #808000\">grad_fn</span>=<span style=\"font-weight: bold\">&lt;</span><span style=\"color: #ff00ff; text-decoration-color: #ff00ff; font-weight: bold\">NllLossBackward0</span><span style=\"font-weight: bold\">&gt;)</span>\n",
       "</pre>\n"
      ],
      "text/plain": [
       "\u001b[1;35mtensor\u001b[0m\u001b[1m(\u001b[0m\u001b[1;36m2.6243\u001b[0m, \u001b[33mgrad_fn\u001b[0m=\u001b[1m<\u001b[0m\u001b[1;95mNllLossBackward0\u001b[0m\u001b[1m>\u001b[0m\u001b[1m)\u001b[0m\n"
      ]
     },
     "metadata": {},
     "output_type": "display_data"
    }
   ],
   "source": [
    "evaluate_loss(params, X, Y)"
   ]
  },
  {
   "cell_type": "markdown",
   "id": "5c8088bf",
   "metadata": {},
   "source": [
    "## Finding a good learning rate"
   ]
  },
  {
   "cell_type": "code",
   "execution_count": null,
   "id": "5abc09d2",
   "metadata": {},
   "outputs": [
    {
     "data": {
      "text/html": [
       "<pre style=\"white-space:pre;overflow-x:auto;line-height:normal;font-family:Menlo,'DejaVu Sans Mono',consolas,'Courier New',monospace\"><span style=\"color: #008080; text-decoration-color: #008080; font-weight: bold\">16.19735336303711</span>\n",
       "</pre>\n"
      ],
      "text/plain": [
       "\u001b[1;36m16.19735336303711\u001b[0m\n"
      ]
     },
     "metadata": {},
     "output_type": "display_data"
    },
    {
     "data": {
      "text/html": [
       "<pre style=\"white-space:pre;overflow-x:auto;line-height:normal;font-family:Menlo,'DejaVu Sans Mono',consolas,'Courier New',monospace\"><span style=\"color: #008080; text-decoration-color: #008080; font-weight: bold\">17.501420974731445</span>\n",
       "</pre>\n"
      ],
      "text/plain": [
       "\u001b[1;36m17.501420974731445\u001b[0m\n"
      ]
     },
     "metadata": {},
     "output_type": "display_data"
    },
    {
     "data": {
      "text/html": [
       "<pre style=\"white-space:pre;overflow-x:auto;line-height:normal;font-family:Menlo,'DejaVu Sans Mono',consolas,'Courier New',monospace\"><span style=\"color: #008080; text-decoration-color: #008080; font-weight: bold\">15.06136703491211</span>\n",
       "</pre>\n"
      ],
      "text/plain": [
       "\u001b[1;36m15.06136703491211\u001b[0m\n"
      ]
     },
     "metadata": {},
     "output_type": "display_data"
    },
    {
     "data": {
      "text/html": [
       "<pre style=\"white-space:pre;overflow-x:auto;line-height:normal;font-family:Menlo,'DejaVu Sans Mono',consolas,'Courier New',monospace\"><span style=\"color: #008080; text-decoration-color: #008080; font-weight: bold\">14.115403175354004</span>\n",
       "</pre>\n"
      ],
      "text/plain": [
       "\u001b[1;36m14.115403175354004\u001b[0m\n"
      ]
     },
     "metadata": {},
     "output_type": "display_data"
    },
    {
     "data": {
      "text/html": [
       "<pre style=\"white-space:pre;overflow-x:auto;line-height:normal;font-family:Menlo,'DejaVu Sans Mono',consolas,'Courier New',monospace\"><span style=\"color: #008080; text-decoration-color: #008080; font-weight: bold\">12.98757266998291</span>\n",
       "</pre>\n"
      ],
      "text/plain": [
       "\u001b[1;36m12.98757266998291\u001b[0m\n"
      ]
     },
     "metadata": {},
     "output_type": "display_data"
    },
    {
     "data": {
      "text/html": [
       "<pre style=\"white-space:pre;overflow-x:auto;line-height:normal;font-family:Menlo,'DejaVu Sans Mono',consolas,'Courier New',monospace\"><span style=\"color: #008080; text-decoration-color: #008080; font-weight: bold\">12.952009201049805</span>\n",
       "</pre>\n"
      ],
      "text/plain": [
       "\u001b[1;36m12.952009201049805\u001b[0m\n"
      ]
     },
     "metadata": {},
     "output_type": "display_data"
    },
    {
     "data": {
      "text/html": [
       "<pre style=\"white-space:pre;overflow-x:auto;line-height:normal;font-family:Menlo,'DejaVu Sans Mono',consolas,'Courier New',monospace\"><span style=\"color: #008080; text-decoration-color: #008080; font-weight: bold\">13.650276184082031</span>\n",
       "</pre>\n"
      ],
      "text/plain": [
       "\u001b[1;36m13.650276184082031\u001b[0m\n"
      ]
     },
     "metadata": {},
     "output_type": "display_data"
    },
    {
     "data": {
      "text/html": [
       "<pre style=\"white-space:pre;overflow-x:auto;line-height:normal;font-family:Menlo,'DejaVu Sans Mono',consolas,'Courier New',monospace\"><span style=\"color: #008080; text-decoration-color: #008080; font-weight: bold\">11.860039710998535</span>\n",
       "</pre>\n"
      ],
      "text/plain": [
       "\u001b[1;36m11.860039710998535\u001b[0m\n"
      ]
     },
     "metadata": {},
     "output_type": "display_data"
    },
    {
     "data": {
      "text/html": [
       "<pre style=\"white-space:pre;overflow-x:auto;line-height:normal;font-family:Menlo,'DejaVu Sans Mono',consolas,'Courier New',monospace\"><span style=\"color: #008080; text-decoration-color: #008080; font-weight: bold\">12.437535285949707</span>\n",
       "</pre>\n"
      ],
      "text/plain": [
       "\u001b[1;36m12.437535285949707\u001b[0m\n"
      ]
     },
     "metadata": {},
     "output_type": "display_data"
    },
    {
     "data": {
      "text/html": [
       "<pre style=\"white-space:pre;overflow-x:auto;line-height:normal;font-family:Menlo,'DejaVu Sans Mono',consolas,'Courier New',monospace\"><span style=\"color: #008080; text-decoration-color: #008080; font-weight: bold\">11.10865592956543</span>\n",
       "</pre>\n"
      ],
      "text/plain": [
       "\u001b[1;36m11.10865592956543\u001b[0m\n"
      ]
     },
     "metadata": {},
     "output_type": "display_data"
    }
   ],
   "source": [
    "params, loss = train(10, X, Y) # default one is 0.1"
   ]
  },
  {
   "cell_type": "code",
   "execution_count": null,
   "id": "8afb6f17",
   "metadata": {},
   "outputs": [
    {
     "data": {
      "text/html": [
       "<pre style=\"white-space:pre;overflow-x:auto;line-height:normal;font-family:Menlo,'DejaVu Sans Mono',consolas,'Courier New',monospace\"><span style=\"color: #008080; text-decoration-color: #008080; font-weight: bold\">17.875307083129883</span>\n",
       "</pre>\n"
      ],
      "text/plain": [
       "\u001b[1;36m17.875307083129883\u001b[0m\n"
      ]
     },
     "metadata": {},
     "output_type": "display_data"
    },
    {
     "data": {
      "text/html": [
       "<pre style=\"white-space:pre;overflow-x:auto;line-height:normal;font-family:Menlo,'DejaVu Sans Mono',consolas,'Courier New',monospace\"><span style=\"color: #008080; text-decoration-color: #008080; font-weight: bold\">16.96537208557129</span>\n",
       "</pre>\n"
      ],
      "text/plain": [
       "\u001b[1;36m16.96537208557129\u001b[0m\n"
      ]
     },
     "metadata": {},
     "output_type": "display_data"
    },
    {
     "data": {
      "text/html": [
       "<pre style=\"white-space:pre;overflow-x:auto;line-height:normal;font-family:Menlo,'DejaVu Sans Mono',consolas,'Courier New',monospace\"><span style=\"color: #008080; text-decoration-color: #008080; font-weight: bold\">16.46739387512207</span>\n",
       "</pre>\n"
      ],
      "text/plain": [
       "\u001b[1;36m16.46739387512207\u001b[0m\n"
      ]
     },
     "metadata": {},
     "output_type": "display_data"
    },
    {
     "data": {
      "text/html": [
       "<pre style=\"white-space:pre;overflow-x:auto;line-height:normal;font-family:Menlo,'DejaVu Sans Mono',consolas,'Courier New',monospace\"><span style=\"color: #008080; text-decoration-color: #008080; font-weight: bold\">16.826091766357422</span>\n",
       "</pre>\n"
      ],
      "text/plain": [
       "\u001b[1;36m16.826091766357422\u001b[0m\n"
      ]
     },
     "metadata": {},
     "output_type": "display_data"
    },
    {
     "data": {
      "text/html": [
       "<pre style=\"white-space:pre;overflow-x:auto;line-height:normal;font-family:Menlo,'DejaVu Sans Mono',consolas,'Courier New',monospace\"><span style=\"color: #008080; text-decoration-color: #008080; font-weight: bold\">19.715730667114258</span>\n",
       "</pre>\n"
      ],
      "text/plain": [
       "\u001b[1;36m19.715730667114258\u001b[0m\n"
      ]
     },
     "metadata": {},
     "output_type": "display_data"
    },
    {
     "data": {
      "text/html": [
       "<pre style=\"white-space:pre;overflow-x:auto;line-height:normal;font-family:Menlo,'DejaVu Sans Mono',consolas,'Courier New',monospace\"><span style=\"color: #008080; text-decoration-color: #008080; font-weight: bold\">17.28173065185547</span>\n",
       "</pre>\n"
      ],
      "text/plain": [
       "\u001b[1;36m17.28173065185547\u001b[0m\n"
      ]
     },
     "metadata": {},
     "output_type": "display_data"
    },
    {
     "data": {
      "text/html": [
       "<pre style=\"white-space:pre;overflow-x:auto;line-height:normal;font-family:Menlo,'DejaVu Sans Mono',consolas,'Courier New',monospace\"><span style=\"color: #008080; text-decoration-color: #008080; font-weight: bold\">17.353927612304688</span>\n",
       "</pre>\n"
      ],
      "text/plain": [
       "\u001b[1;36m17.353927612304688\u001b[0m\n"
      ]
     },
     "metadata": {},
     "output_type": "display_data"
    },
    {
     "data": {
      "text/html": [
       "<pre style=\"white-space:pre;overflow-x:auto;line-height:normal;font-family:Menlo,'DejaVu Sans Mono',consolas,'Courier New',monospace\"><span style=\"color: #008080; text-decoration-color: #008080; font-weight: bold\">15.2487154006958</span>\n",
       "</pre>\n"
      ],
      "text/plain": [
       "\u001b[1;36m15.2487154006958\u001b[0m\n"
      ]
     },
     "metadata": {},
     "output_type": "display_data"
    },
    {
     "data": {
      "text/html": [
       "<pre style=\"white-space:pre;overflow-x:auto;line-height:normal;font-family:Menlo,'DejaVu Sans Mono',consolas,'Courier New',monospace\"><span style=\"color: #008080; text-decoration-color: #008080; font-weight: bold\">16.242963790893555</span>\n",
       "</pre>\n"
      ],
      "text/plain": [
       "\u001b[1;36m16.242963790893555\u001b[0m\n"
      ]
     },
     "metadata": {},
     "output_type": "display_data"
    },
    {
     "data": {
      "text/html": [
       "<pre style=\"white-space:pre;overflow-x:auto;line-height:normal;font-family:Menlo,'DejaVu Sans Mono',consolas,'Courier New',monospace\"><span style=\"color: #008080; text-decoration-color: #008080; font-weight: bold\">20.624465942382812</span>\n",
       "</pre>\n"
      ],
      "text/plain": [
       "\u001b[1;36m20.624465942382812\u001b[0m\n"
      ]
     },
     "metadata": {},
     "output_type": "display_data"
    },
    {
     "data": {
      "text/html": [
       "<pre style=\"white-space:pre;overflow-x:auto;line-height:normal;font-family:Menlo,'DejaVu Sans Mono',consolas,'Courier New',monospace\"><span style=\"color: #008080; text-decoration-color: #008080; font-weight: bold\">19.717395782470703</span>\n",
       "</pre>\n"
      ],
      "text/plain": [
       "\u001b[1;36m19.717395782470703\u001b[0m\n"
      ]
     },
     "metadata": {},
     "output_type": "display_data"
    },
    {
     "data": {
      "text/html": [
       "<pre style=\"white-space:pre;overflow-x:auto;line-height:normal;font-family:Menlo,'DejaVu Sans Mono',consolas,'Courier New',monospace\"><span style=\"color: #008080; text-decoration-color: #008080; font-weight: bold\">22.210813522338867</span>\n",
       "</pre>\n"
      ],
      "text/plain": [
       "\u001b[1;36m22.210813522338867\u001b[0m\n"
      ]
     },
     "metadata": {},
     "output_type": "display_data"
    },
    {
     "data": {
      "text/html": [
       "<pre style=\"white-space:pre;overflow-x:auto;line-height:normal;font-family:Menlo,'DejaVu Sans Mono',consolas,'Courier New',monospace\"><span style=\"color: #008080; text-decoration-color: #008080; font-weight: bold\">17.298879623413086</span>\n",
       "</pre>\n"
      ],
      "text/plain": [
       "\u001b[1;36m17.298879623413086\u001b[0m\n"
      ]
     },
     "metadata": {},
     "output_type": "display_data"
    },
    {
     "data": {
      "text/html": [
       "<pre style=\"white-space:pre;overflow-x:auto;line-height:normal;font-family:Menlo,'DejaVu Sans Mono',consolas,'Courier New',monospace\"><span style=\"color: #008080; text-decoration-color: #008080; font-weight: bold\">16.800865173339844</span>\n",
       "</pre>\n"
      ],
      "text/plain": [
       "\u001b[1;36m16.800865173339844\u001b[0m\n"
      ]
     },
     "metadata": {},
     "output_type": "display_data"
    },
    {
     "data": {
      "text/html": [
       "<pre style=\"white-space:pre;overflow-x:auto;line-height:normal;font-family:Menlo,'DejaVu Sans Mono',consolas,'Courier New',monospace\"><span style=\"color: #008080; text-decoration-color: #008080; font-weight: bold\">19.643619537353516</span>\n",
       "</pre>\n"
      ],
      "text/plain": [
       "\u001b[1;36m19.643619537353516\u001b[0m\n"
      ]
     },
     "metadata": {},
     "output_type": "display_data"
    },
    {
     "data": {
      "text/html": [
       "<pre style=\"white-space:pre;overflow-x:auto;line-height:normal;font-family:Menlo,'DejaVu Sans Mono',consolas,'Courier New',monospace\"><span style=\"color: #008080; text-decoration-color: #008080; font-weight: bold\">19.11254119873047</span>\n",
       "</pre>\n"
      ],
      "text/plain": [
       "\u001b[1;36m19.11254119873047\u001b[0m\n"
      ]
     },
     "metadata": {},
     "output_type": "display_data"
    },
    {
     "data": {
      "text/html": [
       "<pre style=\"white-space:pre;overflow-x:auto;line-height:normal;font-family:Menlo,'DejaVu Sans Mono',consolas,'Courier New',monospace\"><span style=\"color: #008080; text-decoration-color: #008080; font-weight: bold\">16.98759651184082</span>\n",
       "</pre>\n"
      ],
      "text/plain": [
       "\u001b[1;36m16.98759651184082\u001b[0m\n"
      ]
     },
     "metadata": {},
     "output_type": "display_data"
    },
    {
     "data": {
      "text/html": [
       "<pre style=\"white-space:pre;overflow-x:auto;line-height:normal;font-family:Menlo,'DejaVu Sans Mono',consolas,'Courier New',monospace\"><span style=\"color: #008080; text-decoration-color: #008080; font-weight: bold\">17.522817611694336</span>\n",
       "</pre>\n"
      ],
      "text/plain": [
       "\u001b[1;36m17.522817611694336\u001b[0m\n"
      ]
     },
     "metadata": {},
     "output_type": "display_data"
    },
    {
     "data": {
      "text/html": [
       "<pre style=\"white-space:pre;overflow-x:auto;line-height:normal;font-family:Menlo,'DejaVu Sans Mono',consolas,'Courier New',monospace\"><span style=\"color: #008080; text-decoration-color: #008080; font-weight: bold\">16.67815399169922</span>\n",
       "</pre>\n"
      ],
      "text/plain": [
       "\u001b[1;36m16.67815399169922\u001b[0m\n"
      ]
     },
     "metadata": {},
     "output_type": "display_data"
    },
    {
     "data": {
      "text/html": [
       "<pre style=\"white-space:pre;overflow-x:auto;line-height:normal;font-family:Menlo,'DejaVu Sans Mono',consolas,'Courier New',monospace\"><span style=\"color: #008080; text-decoration-color: #008080; font-weight: bold\">16.857685089111328</span>\n",
       "</pre>\n"
      ],
      "text/plain": [
       "\u001b[1;36m16.857685089111328\u001b[0m\n"
      ]
     },
     "metadata": {},
     "output_type": "display_data"
    },
    {
     "data": {
      "text/html": [
       "<pre style=\"white-space:pre;overflow-x:auto;line-height:normal;font-family:Menlo,'DejaVu Sans Mono',consolas,'Courier New',monospace\"><span style=\"color: #008080; text-decoration-color: #008080; font-weight: bold\">20.040325164794922</span>\n",
       "</pre>\n"
      ],
      "text/plain": [
       "\u001b[1;36m20.040325164794922\u001b[0m\n"
      ]
     },
     "metadata": {},
     "output_type": "display_data"
    },
    {
     "data": {
      "text/html": [
       "<pre style=\"white-space:pre;overflow-x:auto;line-height:normal;font-family:Menlo,'DejaVu Sans Mono',consolas,'Courier New',monospace\"><span style=\"color: #008080; text-decoration-color: #008080; font-weight: bold\">19.82996368408203</span>\n",
       "</pre>\n"
      ],
      "text/plain": [
       "\u001b[1;36m19.82996368408203\u001b[0m\n"
      ]
     },
     "metadata": {},
     "output_type": "display_data"
    },
    {
     "data": {
      "text/html": [
       "<pre style=\"white-space:pre;overflow-x:auto;line-height:normal;font-family:Menlo,'DejaVu Sans Mono',consolas,'Courier New',monospace\"><span style=\"color: #008080; text-decoration-color: #008080; font-weight: bold\">17.39429473876953</span>\n",
       "</pre>\n"
      ],
      "text/plain": [
       "\u001b[1;36m17.39429473876953\u001b[0m\n"
      ]
     },
     "metadata": {},
     "output_type": "display_data"
    },
    {
     "data": {
      "text/html": [
       "<pre style=\"white-space:pre;overflow-x:auto;line-height:normal;font-family:Menlo,'DejaVu Sans Mono',consolas,'Courier New',monospace\"><span style=\"color: #008080; text-decoration-color: #008080; font-weight: bold\">17.95696258544922</span>\n",
       "</pre>\n"
      ],
      "text/plain": [
       "\u001b[1;36m17.95696258544922\u001b[0m\n"
      ]
     },
     "metadata": {},
     "output_type": "display_data"
    },
    {
     "data": {
      "text/html": [
       "<pre style=\"white-space:pre;overflow-x:auto;line-height:normal;font-family:Menlo,'DejaVu Sans Mono',consolas,'Courier New',monospace\"><span style=\"color: #008080; text-decoration-color: #008080; font-weight: bold\">18.889270782470703</span>\n",
       "</pre>\n"
      ],
      "text/plain": [
       "\u001b[1;36m18.889270782470703\u001b[0m\n"
      ]
     },
     "metadata": {},
     "output_type": "display_data"
    },
    {
     "data": {
      "text/html": [
       "<pre style=\"white-space:pre;overflow-x:auto;line-height:normal;font-family:Menlo,'DejaVu Sans Mono',consolas,'Courier New',monospace\"><span style=\"color: #008080; text-decoration-color: #008080; font-weight: bold\">17.577701568603516</span>\n",
       "</pre>\n"
      ],
      "text/plain": [
       "\u001b[1;36m17.577701568603516\u001b[0m\n"
      ]
     },
     "metadata": {},
     "output_type": "display_data"
    },
    {
     "data": {
      "text/html": [
       "<pre style=\"white-space:pre;overflow-x:auto;line-height:normal;font-family:Menlo,'DejaVu Sans Mono',consolas,'Courier New',monospace\"><span style=\"color: #008080; text-decoration-color: #008080; font-weight: bold\">16.490873336791992</span>\n",
       "</pre>\n"
      ],
      "text/plain": [
       "\u001b[1;36m16.490873336791992\u001b[0m\n"
      ]
     },
     "metadata": {},
     "output_type": "display_data"
    },
    {
     "data": {
      "text/html": [
       "<pre style=\"white-space:pre;overflow-x:auto;line-height:normal;font-family:Menlo,'DejaVu Sans Mono',consolas,'Courier New',monospace\"><span style=\"color: #008080; text-decoration-color: #008080; font-weight: bold\">17.70130157470703</span>\n",
       "</pre>\n"
      ],
      "text/plain": [
       "\u001b[1;36m17.70130157470703\u001b[0m\n"
      ]
     },
     "metadata": {},
     "output_type": "display_data"
    },
    {
     "data": {
      "text/html": [
       "<pre style=\"white-space:pre;overflow-x:auto;line-height:normal;font-family:Menlo,'DejaVu Sans Mono',consolas,'Courier New',monospace\"><span style=\"color: #008080; text-decoration-color: #008080; font-weight: bold\">18.09929656982422</span>\n",
       "</pre>\n"
      ],
      "text/plain": [
       "\u001b[1;36m18.09929656982422\u001b[0m\n"
      ]
     },
     "metadata": {},
     "output_type": "display_data"
    },
    {
     "data": {
      "text/html": [
       "<pre style=\"white-space:pre;overflow-x:auto;line-height:normal;font-family:Menlo,'DejaVu Sans Mono',consolas,'Courier New',monospace\"><span style=\"color: #008080; text-decoration-color: #008080; font-weight: bold\">19.035062789916992</span>\n",
       "</pre>\n"
      ],
      "text/plain": [
       "\u001b[1;36m19.035062789916992\u001b[0m\n"
      ]
     },
     "metadata": {},
     "output_type": "display_data"
    },
    {
     "data": {
      "text/html": [
       "<pre style=\"white-space:pre;overflow-x:auto;line-height:normal;font-family:Menlo,'DejaVu Sans Mono',consolas,'Courier New',monospace\"><span style=\"color: #008080; text-decoration-color: #008080; font-weight: bold\">19.805776596069336</span>\n",
       "</pre>\n"
      ],
      "text/plain": [
       "\u001b[1;36m19.805776596069336\u001b[0m\n"
      ]
     },
     "metadata": {},
     "output_type": "display_data"
    },
    {
     "data": {
      "text/html": [
       "<pre style=\"white-space:pre;overflow-x:auto;line-height:normal;font-family:Menlo,'DejaVu Sans Mono',consolas,'Courier New',monospace\"><span style=\"color: #008080; text-decoration-color: #008080; font-weight: bold\">15.114175796508789</span>\n",
       "</pre>\n"
      ],
      "text/plain": [
       "\u001b[1;36m15.114175796508789\u001b[0m\n"
      ]
     },
     "metadata": {},
     "output_type": "display_data"
    },
    {
     "data": {
      "text/html": [
       "<pre style=\"white-space:pre;overflow-x:auto;line-height:normal;font-family:Menlo,'DejaVu Sans Mono',consolas,'Courier New',monospace\"><span style=\"color: #008080; text-decoration-color: #008080; font-weight: bold\">21.028043746948242</span>\n",
       "</pre>\n"
      ],
      "text/plain": [
       "\u001b[1;36m21.028043746948242\u001b[0m\n"
      ]
     },
     "metadata": {},
     "output_type": "display_data"
    },
    {
     "data": {
      "text/html": [
       "<pre style=\"white-space:pre;overflow-x:auto;line-height:normal;font-family:Menlo,'DejaVu Sans Mono',consolas,'Courier New',monospace\"><span style=\"color: #008080; text-decoration-color: #008080; font-weight: bold\">19.15180778503418</span>\n",
       "</pre>\n"
      ],
      "text/plain": [
       "\u001b[1;36m19.15180778503418\u001b[0m\n"
      ]
     },
     "metadata": {},
     "output_type": "display_data"
    },
    {
     "data": {
      "text/html": [
       "<pre style=\"white-space:pre;overflow-x:auto;line-height:normal;font-family:Menlo,'DejaVu Sans Mono',consolas,'Courier New',monospace\"><span style=\"color: #008080; text-decoration-color: #008080; font-weight: bold\">18.2927188873291</span>\n",
       "</pre>\n"
      ],
      "text/plain": [
       "\u001b[1;36m18.2927188873291\u001b[0m\n"
      ]
     },
     "metadata": {},
     "output_type": "display_data"
    },
    {
     "data": {
      "text/html": [
       "<pre style=\"white-space:pre;overflow-x:auto;line-height:normal;font-family:Menlo,'DejaVu Sans Mono',consolas,'Courier New',monospace\"><span style=\"color: #008080; text-decoration-color: #008080; font-weight: bold\">17.4348201751709</span>\n",
       "</pre>\n"
      ],
      "text/plain": [
       "\u001b[1;36m17.4348201751709\u001b[0m\n"
      ]
     },
     "metadata": {},
     "output_type": "display_data"
    },
    {
     "data": {
      "text/html": [
       "<pre style=\"white-space:pre;overflow-x:auto;line-height:normal;font-family:Menlo,'DejaVu Sans Mono',consolas,'Courier New',monospace\"><span style=\"color: #008080; text-decoration-color: #008080; font-weight: bold\">18.359844207763672</span>\n",
       "</pre>\n"
      ],
      "text/plain": [
       "\u001b[1;36m18.359844207763672\u001b[0m\n"
      ]
     },
     "metadata": {},
     "output_type": "display_data"
    },
    {
     "data": {
      "text/html": [
       "<pre style=\"white-space:pre;overflow-x:auto;line-height:normal;font-family:Menlo,'DejaVu Sans Mono',consolas,'Courier New',monospace\"><span style=\"color: #008080; text-decoration-color: #008080; font-weight: bold\">17.481584548950195</span>\n",
       "</pre>\n"
      ],
      "text/plain": [
       "\u001b[1;36m17.481584548950195\u001b[0m\n"
      ]
     },
     "metadata": {},
     "output_type": "display_data"
    },
    {
     "data": {
      "text/html": [
       "<pre style=\"white-space:pre;overflow-x:auto;line-height:normal;font-family:Menlo,'DejaVu Sans Mono',consolas,'Courier New',monospace\"><span style=\"color: #008080; text-decoration-color: #008080; font-weight: bold\">17.3405704498291</span>\n",
       "</pre>\n"
      ],
      "text/plain": [
       "\u001b[1;36m17.3405704498291\u001b[0m\n"
      ]
     },
     "metadata": {},
     "output_type": "display_data"
    },
    {
     "data": {
      "text/html": [
       "<pre style=\"white-space:pre;overflow-x:auto;line-height:normal;font-family:Menlo,'DejaVu Sans Mono',consolas,'Courier New',monospace\"><span style=\"color: #008080; text-decoration-color: #008080; font-weight: bold\">18.606294631958008</span>\n",
       "</pre>\n"
      ],
      "text/plain": [
       "\u001b[1;36m18.606294631958008\u001b[0m\n"
      ]
     },
     "metadata": {},
     "output_type": "display_data"
    },
    {
     "data": {
      "text/html": [
       "<pre style=\"white-space:pre;overflow-x:auto;line-height:normal;font-family:Menlo,'DejaVu Sans Mono',consolas,'Courier New',monospace\"><span style=\"color: #008080; text-decoration-color: #008080; font-weight: bold\">16.104042053222656</span>\n",
       "</pre>\n"
      ],
      "text/plain": [
       "\u001b[1;36m16.104042053222656\u001b[0m\n"
      ]
     },
     "metadata": {},
     "output_type": "display_data"
    },
    {
     "data": {
      "text/html": [
       "<pre style=\"white-space:pre;overflow-x:auto;line-height:normal;font-family:Menlo,'DejaVu Sans Mono',consolas,'Courier New',monospace\"><span style=\"color: #008080; text-decoration-color: #008080; font-weight: bold\">21.377683639526367</span>\n",
       "</pre>\n"
      ],
      "text/plain": [
       "\u001b[1;36m21.377683639526367\u001b[0m\n"
      ]
     },
     "metadata": {},
     "output_type": "display_data"
    },
    {
     "data": {
      "text/html": [
       "<pre style=\"white-space:pre;overflow-x:auto;line-height:normal;font-family:Menlo,'DejaVu Sans Mono',consolas,'Courier New',monospace\"><span style=\"color: #008080; text-decoration-color: #008080; font-weight: bold\">17.499004364013672</span>\n",
       "</pre>\n"
      ],
      "text/plain": [
       "\u001b[1;36m17.499004364013672\u001b[0m\n"
      ]
     },
     "metadata": {},
     "output_type": "display_data"
    },
    {
     "data": {
      "text/html": [
       "<pre style=\"white-space:pre;overflow-x:auto;line-height:normal;font-family:Menlo,'DejaVu Sans Mono',consolas,'Courier New',monospace\"><span style=\"color: #008080; text-decoration-color: #008080; font-weight: bold\">19.097225189208984</span>\n",
       "</pre>\n"
      ],
      "text/plain": [
       "\u001b[1;36m19.097225189208984\u001b[0m\n"
      ]
     },
     "metadata": {},
     "output_type": "display_data"
    },
    {
     "data": {
      "text/html": [
       "<pre style=\"white-space:pre;overflow-x:auto;line-height:normal;font-family:Menlo,'DejaVu Sans Mono',consolas,'Courier New',monospace\"><span style=\"color: #008080; text-decoration-color: #008080; font-weight: bold\">19.2764949798584</span>\n",
       "</pre>\n"
      ],
      "text/plain": [
       "\u001b[1;36m19.2764949798584\u001b[0m\n"
      ]
     },
     "metadata": {},
     "output_type": "display_data"
    },
    {
     "data": {
      "text/html": [
       "<pre style=\"white-space:pre;overflow-x:auto;line-height:normal;font-family:Menlo,'DejaVu Sans Mono',consolas,'Courier New',monospace\"><span style=\"color: #008080; text-decoration-color: #008080; font-weight: bold\">15.840270042419434</span>\n",
       "</pre>\n"
      ],
      "text/plain": [
       "\u001b[1;36m15.840270042419434\u001b[0m\n"
      ]
     },
     "metadata": {},
     "output_type": "display_data"
    },
    {
     "data": {
      "text/html": [
       "<pre style=\"white-space:pre;overflow-x:auto;line-height:normal;font-family:Menlo,'DejaVu Sans Mono',consolas,'Courier New',monospace\"><span style=\"color: #008080; text-decoration-color: #008080; font-weight: bold\">20.504976272583008</span>\n",
       "</pre>\n"
      ],
      "text/plain": [
       "\u001b[1;36m20.504976272583008\u001b[0m\n"
      ]
     },
     "metadata": {},
     "output_type": "display_data"
    },
    {
     "data": {
      "text/html": [
       "<pre style=\"white-space:pre;overflow-x:auto;line-height:normal;font-family:Menlo,'DejaVu Sans Mono',consolas,'Courier New',monospace\"><span style=\"color: #008080; text-decoration-color: #008080; font-weight: bold\">14.716649055480957</span>\n",
       "</pre>\n"
      ],
      "text/plain": [
       "\u001b[1;36m14.716649055480957\u001b[0m\n"
      ]
     },
     "metadata": {},
     "output_type": "display_data"
    },
    {
     "data": {
      "text/html": [
       "<pre style=\"white-space:pre;overflow-x:auto;line-height:normal;font-family:Menlo,'DejaVu Sans Mono',consolas,'Courier New',monospace\"><span style=\"color: #008080; text-decoration-color: #008080; font-weight: bold\">19.399646759033203</span>\n",
       "</pre>\n"
      ],
      "text/plain": [
       "\u001b[1;36m19.399646759033203\u001b[0m\n"
      ]
     },
     "metadata": {},
     "output_type": "display_data"
    },
    {
     "data": {
      "text/html": [
       "<pre style=\"white-space:pre;overflow-x:auto;line-height:normal;font-family:Menlo,'DejaVu Sans Mono',consolas,'Courier New',monospace\"><span style=\"color: #008080; text-decoration-color: #008080; font-weight: bold\">19.350618362426758</span>\n",
       "</pre>\n"
      ],
      "text/plain": [
       "\u001b[1;36m19.350618362426758\u001b[0m\n"
      ]
     },
     "metadata": {},
     "output_type": "display_data"
    },
    {
     "data": {
      "text/html": [
       "<pre style=\"white-space:pre;overflow-x:auto;line-height:normal;font-family:Menlo,'DejaVu Sans Mono',consolas,'Courier New',monospace\"><span style=\"color: #008080; text-decoration-color: #008080; font-weight: bold\">17.978057861328125</span>\n",
       "</pre>\n"
      ],
      "text/plain": [
       "\u001b[1;36m17.978057861328125\u001b[0m\n"
      ]
     },
     "metadata": {},
     "output_type": "display_data"
    },
    {
     "data": {
      "text/html": [
       "<pre style=\"white-space:pre;overflow-x:auto;line-height:normal;font-family:Menlo,'DejaVu Sans Mono',consolas,'Courier New',monospace\"><span style=\"color: #008080; text-decoration-color: #008080; font-weight: bold\">15.874401092529297</span>\n",
       "</pre>\n"
      ],
      "text/plain": [
       "\u001b[1;36m15.874401092529297\u001b[0m\n"
      ]
     },
     "metadata": {},
     "output_type": "display_data"
    },
    {
     "data": {
      "text/html": [
       "<pre style=\"white-space:pre;overflow-x:auto;line-height:normal;font-family:Menlo,'DejaVu Sans Mono',consolas,'Courier New',monospace\"><span style=\"color: #008080; text-decoration-color: #008080; font-weight: bold\">19.028240203857422</span>\n",
       "</pre>\n"
      ],
      "text/plain": [
       "\u001b[1;36m19.028240203857422\u001b[0m\n"
      ]
     },
     "metadata": {},
     "output_type": "display_data"
    },
    {
     "data": {
      "text/html": [
       "<pre style=\"white-space:pre;overflow-x:auto;line-height:normal;font-family:Menlo,'DejaVu Sans Mono',consolas,'Courier New',monospace\"><span style=\"color: #008080; text-decoration-color: #008080; font-weight: bold\">21.055648803710938</span>\n",
       "</pre>\n"
      ],
      "text/plain": [
       "\u001b[1;36m21.055648803710938\u001b[0m\n"
      ]
     },
     "metadata": {},
     "output_type": "display_data"
    },
    {
     "data": {
      "text/html": [
       "<pre style=\"white-space:pre;overflow-x:auto;line-height:normal;font-family:Menlo,'DejaVu Sans Mono',consolas,'Courier New',monospace\"><span style=\"color: #008080; text-decoration-color: #008080; font-weight: bold\">17.59156036376953</span>\n",
       "</pre>\n"
      ],
      "text/plain": [
       "\u001b[1;36m17.59156036376953\u001b[0m\n"
      ]
     },
     "metadata": {},
     "output_type": "display_data"
    },
    {
     "data": {
      "text/html": [
       "<pre style=\"white-space:pre;overflow-x:auto;line-height:normal;font-family:Menlo,'DejaVu Sans Mono',consolas,'Courier New',monospace\"><span style=\"color: #008080; text-decoration-color: #008080; font-weight: bold\">18.06299591064453</span>\n",
       "</pre>\n"
      ],
      "text/plain": [
       "\u001b[1;36m18.06299591064453\u001b[0m\n"
      ]
     },
     "metadata": {},
     "output_type": "display_data"
    },
    {
     "data": {
      "text/html": [
       "<pre style=\"white-space:pre;overflow-x:auto;line-height:normal;font-family:Menlo,'DejaVu Sans Mono',consolas,'Courier New',monospace\"><span style=\"color: #008080; text-decoration-color: #008080; font-weight: bold\">19.219995498657227</span>\n",
       "</pre>\n"
      ],
      "text/plain": [
       "\u001b[1;36m19.219995498657227\u001b[0m\n"
      ]
     },
     "metadata": {},
     "output_type": "display_data"
    },
    {
     "data": {
      "text/html": [
       "<pre style=\"white-space:pre;overflow-x:auto;line-height:normal;font-family:Menlo,'DejaVu Sans Mono',consolas,'Courier New',monospace\"><span style=\"color: #008080; text-decoration-color: #008080; font-weight: bold\">19.179119110107422</span>\n",
       "</pre>\n"
      ],
      "text/plain": [
       "\u001b[1;36m19.179119110107422\u001b[0m\n"
      ]
     },
     "metadata": {},
     "output_type": "display_data"
    },
    {
     "data": {
      "text/html": [
       "<pre style=\"white-space:pre;overflow-x:auto;line-height:normal;font-family:Menlo,'DejaVu Sans Mono',consolas,'Courier New',monospace\"><span style=\"color: #008080; text-decoration-color: #008080; font-weight: bold\">18.878189086914062</span>\n",
       "</pre>\n"
      ],
      "text/plain": [
       "\u001b[1;36m18.878189086914062\u001b[0m\n"
      ]
     },
     "metadata": {},
     "output_type": "display_data"
    },
    {
     "data": {
      "text/html": [
       "<pre style=\"white-space:pre;overflow-x:auto;line-height:normal;font-family:Menlo,'DejaVu Sans Mono',consolas,'Courier New',monospace\"><span style=\"color: #008080; text-decoration-color: #008080; font-weight: bold\">19.174936294555664</span>\n",
       "</pre>\n"
      ],
      "text/plain": [
       "\u001b[1;36m19.174936294555664\u001b[0m\n"
      ]
     },
     "metadata": {},
     "output_type": "display_data"
    },
    {
     "data": {
      "text/html": [
       "<pre style=\"white-space:pre;overflow-x:auto;line-height:normal;font-family:Menlo,'DejaVu Sans Mono',consolas,'Courier New',monospace\"><span style=\"color: #008080; text-decoration-color: #008080; font-weight: bold\">15.592581748962402</span>\n",
       "</pre>\n"
      ],
      "text/plain": [
       "\u001b[1;36m15.592581748962402\u001b[0m\n"
      ]
     },
     "metadata": {},
     "output_type": "display_data"
    },
    {
     "data": {
      "text/html": [
       "<pre style=\"white-space:pre;overflow-x:auto;line-height:normal;font-family:Menlo,'DejaVu Sans Mono',consolas,'Courier New',monospace\"><span style=\"color: #008080; text-decoration-color: #008080; font-weight: bold\">16.595109939575195</span>\n",
       "</pre>\n"
      ],
      "text/plain": [
       "\u001b[1;36m16.595109939575195\u001b[0m\n"
      ]
     },
     "metadata": {},
     "output_type": "display_data"
    },
    {
     "data": {
      "text/html": [
       "<pre style=\"white-space:pre;overflow-x:auto;line-height:normal;font-family:Menlo,'DejaVu Sans Mono',consolas,'Courier New',monospace\"><span style=\"color: #008080; text-decoration-color: #008080; font-weight: bold\">18.39055633544922</span>\n",
       "</pre>\n"
      ],
      "text/plain": [
       "\u001b[1;36m18.39055633544922\u001b[0m\n"
      ]
     },
     "metadata": {},
     "output_type": "display_data"
    },
    {
     "data": {
      "text/html": [
       "<pre style=\"white-space:pre;overflow-x:auto;line-height:normal;font-family:Menlo,'DejaVu Sans Mono',consolas,'Courier New',monospace\"><span style=\"color: #008080; text-decoration-color: #008080; font-weight: bold\">11.832684516906738</span>\n",
       "</pre>\n"
      ],
      "text/plain": [
       "\u001b[1;36m11.832684516906738\u001b[0m\n"
      ]
     },
     "metadata": {},
     "output_type": "display_data"
    },
    {
     "data": {
      "text/html": [
       "<pre style=\"white-space:pre;overflow-x:auto;line-height:normal;font-family:Menlo,'DejaVu Sans Mono',consolas,'Courier New',monospace\"><span style=\"color: #008080; text-decoration-color: #008080; font-weight: bold\">17.001625061035156</span>\n",
       "</pre>\n"
      ],
      "text/plain": [
       "\u001b[1;36m17.001625061035156\u001b[0m\n"
      ]
     },
     "metadata": {},
     "output_type": "display_data"
    },
    {
     "data": {
      "text/html": [
       "<pre style=\"white-space:pre;overflow-x:auto;line-height:normal;font-family:Menlo,'DejaVu Sans Mono',consolas,'Courier New',monospace\"><span style=\"color: #008080; text-decoration-color: #008080; font-weight: bold\">19.766319274902344</span>\n",
       "</pre>\n"
      ],
      "text/plain": [
       "\u001b[1;36m19.766319274902344\u001b[0m\n"
      ]
     },
     "metadata": {},
     "output_type": "display_data"
    },
    {
     "data": {
      "text/html": [
       "<pre style=\"white-space:pre;overflow-x:auto;line-height:normal;font-family:Menlo,'DejaVu Sans Mono',consolas,'Courier New',monospace\"><span style=\"color: #008080; text-decoration-color: #008080; font-weight: bold\">16.30816078186035</span>\n",
       "</pre>\n"
      ],
      "text/plain": [
       "\u001b[1;36m16.30816078186035\u001b[0m\n"
      ]
     },
     "metadata": {},
     "output_type": "display_data"
    },
    {
     "data": {
      "text/html": [
       "<pre style=\"white-space:pre;overflow-x:auto;line-height:normal;font-family:Menlo,'DejaVu Sans Mono',consolas,'Courier New',monospace\"><span style=\"color: #008080; text-decoration-color: #008080; font-weight: bold\">19.118053436279297</span>\n",
       "</pre>\n"
      ],
      "text/plain": [
       "\u001b[1;36m19.118053436279297\u001b[0m\n"
      ]
     },
     "metadata": {},
     "output_type": "display_data"
    },
    {
     "data": {
      "text/html": [
       "<pre style=\"white-space:pre;overflow-x:auto;line-height:normal;font-family:Menlo,'DejaVu Sans Mono',consolas,'Courier New',monospace\"><span style=\"color: #008080; text-decoration-color: #008080; font-weight: bold\">20.007619857788086</span>\n",
       "</pre>\n"
      ],
      "text/plain": [
       "\u001b[1;36m20.007619857788086\u001b[0m\n"
      ]
     },
     "metadata": {},
     "output_type": "display_data"
    },
    {
     "data": {
      "text/html": [
       "<pre style=\"white-space:pre;overflow-x:auto;line-height:normal;font-family:Menlo,'DejaVu Sans Mono',consolas,'Courier New',monospace\"><span style=\"color: #008080; text-decoration-color: #008080; font-weight: bold\">16.1800479888916</span>\n",
       "</pre>\n"
      ],
      "text/plain": [
       "\u001b[1;36m16.1800479888916\u001b[0m\n"
      ]
     },
     "metadata": {},
     "output_type": "display_data"
    },
    {
     "data": {
      "text/html": [
       "<pre style=\"white-space:pre;overflow-x:auto;line-height:normal;font-family:Menlo,'DejaVu Sans Mono',consolas,'Courier New',monospace\"><span style=\"color: #008080; text-decoration-color: #008080; font-weight: bold\">21.173416137695312</span>\n",
       "</pre>\n"
      ],
      "text/plain": [
       "\u001b[1;36m21.173416137695312\u001b[0m\n"
      ]
     },
     "metadata": {},
     "output_type": "display_data"
    },
    {
     "data": {
      "text/html": [
       "<pre style=\"white-space:pre;overflow-x:auto;line-height:normal;font-family:Menlo,'DejaVu Sans Mono',consolas,'Courier New',monospace\"><span style=\"color: #008080; text-decoration-color: #008080; font-weight: bold\">19.897363662719727</span>\n",
       "</pre>\n"
      ],
      "text/plain": [
       "\u001b[1;36m19.897363662719727\u001b[0m\n"
      ]
     },
     "metadata": {},
     "output_type": "display_data"
    },
    {
     "data": {
      "text/html": [
       "<pre style=\"white-space:pre;overflow-x:auto;line-height:normal;font-family:Menlo,'DejaVu Sans Mono',consolas,'Courier New',monospace\"><span style=\"color: #008080; text-decoration-color: #008080; font-weight: bold\">19.161693572998047</span>\n",
       "</pre>\n"
      ],
      "text/plain": [
       "\u001b[1;36m19.161693572998047\u001b[0m\n"
      ]
     },
     "metadata": {},
     "output_type": "display_data"
    },
    {
     "data": {
      "text/html": [
       "<pre style=\"white-space:pre;overflow-x:auto;line-height:normal;font-family:Menlo,'DejaVu Sans Mono',consolas,'Courier New',monospace\"><span style=\"color: #008080; text-decoration-color: #008080; font-weight: bold\">18.2498779296875</span>\n",
       "</pre>\n"
      ],
      "text/plain": [
       "\u001b[1;36m18.2498779296875\u001b[0m\n"
      ]
     },
     "metadata": {},
     "output_type": "display_data"
    },
    {
     "data": {
      "text/html": [
       "<pre style=\"white-space:pre;overflow-x:auto;line-height:normal;font-family:Menlo,'DejaVu Sans Mono',consolas,'Courier New',monospace\"><span style=\"color: #008080; text-decoration-color: #008080; font-weight: bold\">13.18708324432373</span>\n",
       "</pre>\n"
      ],
      "text/plain": [
       "\u001b[1;36m13.18708324432373\u001b[0m\n"
      ]
     },
     "metadata": {},
     "output_type": "display_data"
    },
    {
     "data": {
      "text/html": [
       "<pre style=\"white-space:pre;overflow-x:auto;line-height:normal;font-family:Menlo,'DejaVu Sans Mono',consolas,'Courier New',monospace\"><span style=\"color: #008080; text-decoration-color: #008080; font-weight: bold\">15.345601081848145</span>\n",
       "</pre>\n"
      ],
      "text/plain": [
       "\u001b[1;36m15.345601081848145\u001b[0m\n"
      ]
     },
     "metadata": {},
     "output_type": "display_data"
    },
    {
     "data": {
      "text/html": [
       "<pre style=\"white-space:pre;overflow-x:auto;line-height:normal;font-family:Menlo,'DejaVu Sans Mono',consolas,'Courier New',monospace\"><span style=\"color: #008080; text-decoration-color: #008080; font-weight: bold\">16.639053344726562</span>\n",
       "</pre>\n"
      ],
      "text/plain": [
       "\u001b[1;36m16.639053344726562\u001b[0m\n"
      ]
     },
     "metadata": {},
     "output_type": "display_data"
    },
    {
     "data": {
      "text/html": [
       "<pre style=\"white-space:pre;overflow-x:auto;line-height:normal;font-family:Menlo,'DejaVu Sans Mono',consolas,'Courier New',monospace\"><span style=\"color: #008080; text-decoration-color: #008080; font-weight: bold\">18.496694564819336</span>\n",
       "</pre>\n"
      ],
      "text/plain": [
       "\u001b[1;36m18.496694564819336\u001b[0m\n"
      ]
     },
     "metadata": {},
     "output_type": "display_data"
    },
    {
     "data": {
      "text/html": [
       "<pre style=\"white-space:pre;overflow-x:auto;line-height:normal;font-family:Menlo,'DejaVu Sans Mono',consolas,'Courier New',monospace\"><span style=\"color: #008080; text-decoration-color: #008080; font-weight: bold\">14.642602920532227</span>\n",
       "</pre>\n"
      ],
      "text/plain": [
       "\u001b[1;36m14.642602920532227\u001b[0m\n"
      ]
     },
     "metadata": {},
     "output_type": "display_data"
    },
    {
     "data": {
      "text/html": [
       "<pre style=\"white-space:pre;overflow-x:auto;line-height:normal;font-family:Menlo,'DejaVu Sans Mono',consolas,'Courier New',monospace\"><span style=\"color: #008080; text-decoration-color: #008080; font-weight: bold\">21.97202491760254</span>\n",
       "</pre>\n"
      ],
      "text/plain": [
       "\u001b[1;36m21.97202491760254\u001b[0m\n"
      ]
     },
     "metadata": {},
     "output_type": "display_data"
    },
    {
     "data": {
      "text/html": [
       "<pre style=\"white-space:pre;overflow-x:auto;line-height:normal;font-family:Menlo,'DejaVu Sans Mono',consolas,'Courier New',monospace\"><span style=\"color: #008080; text-decoration-color: #008080; font-weight: bold\">17.084003448486328</span>\n",
       "</pre>\n"
      ],
      "text/plain": [
       "\u001b[1;36m17.084003448486328\u001b[0m\n"
      ]
     },
     "metadata": {},
     "output_type": "display_data"
    },
    {
     "data": {
      "text/html": [
       "<pre style=\"white-space:pre;overflow-x:auto;line-height:normal;font-family:Menlo,'DejaVu Sans Mono',consolas,'Courier New',monospace\"><span style=\"color: #008080; text-decoration-color: #008080; font-weight: bold\">18.820404052734375</span>\n",
       "</pre>\n"
      ],
      "text/plain": [
       "\u001b[1;36m18.820404052734375\u001b[0m\n"
      ]
     },
     "metadata": {},
     "output_type": "display_data"
    },
    {
     "data": {
      "text/html": [
       "<pre style=\"white-space:pre;overflow-x:auto;line-height:normal;font-family:Menlo,'DejaVu Sans Mono',consolas,'Courier New',monospace\"><span style=\"color: #008080; text-decoration-color: #008080; font-weight: bold\">16.859872817993164</span>\n",
       "</pre>\n"
      ],
      "text/plain": [
       "\u001b[1;36m16.859872817993164\u001b[0m\n"
      ]
     },
     "metadata": {},
     "output_type": "display_data"
    },
    {
     "data": {
      "text/html": [
       "<pre style=\"white-space:pre;overflow-x:auto;line-height:normal;font-family:Menlo,'DejaVu Sans Mono',consolas,'Courier New',monospace\"><span style=\"color: #008080; text-decoration-color: #008080; font-weight: bold\">16.28878402709961</span>\n",
       "</pre>\n"
      ],
      "text/plain": [
       "\u001b[1;36m16.28878402709961\u001b[0m\n"
      ]
     },
     "metadata": {},
     "output_type": "display_data"
    },
    {
     "data": {
      "text/html": [
       "<pre style=\"white-space:pre;overflow-x:auto;line-height:normal;font-family:Menlo,'DejaVu Sans Mono',consolas,'Courier New',monospace\"><span style=\"color: #008080; text-decoration-color: #008080; font-weight: bold\">16.989421844482422</span>\n",
       "</pre>\n"
      ],
      "text/plain": [
       "\u001b[1;36m16.989421844482422\u001b[0m\n"
      ]
     },
     "metadata": {},
     "output_type": "display_data"
    },
    {
     "data": {
      "text/html": [
       "<pre style=\"white-space:pre;overflow-x:auto;line-height:normal;font-family:Menlo,'DejaVu Sans Mono',consolas,'Courier New',monospace\"><span style=\"color: #008080; text-decoration-color: #008080; font-weight: bold\">19.51396369934082</span>\n",
       "</pre>\n"
      ],
      "text/plain": [
       "\u001b[1;36m19.51396369934082\u001b[0m\n"
      ]
     },
     "metadata": {},
     "output_type": "display_data"
    },
    {
     "data": {
      "text/html": [
       "<pre style=\"white-space:pre;overflow-x:auto;line-height:normal;font-family:Menlo,'DejaVu Sans Mono',consolas,'Courier New',monospace\"><span style=\"color: #008080; text-decoration-color: #008080; font-weight: bold\">14.59709358215332</span>\n",
       "</pre>\n"
      ],
      "text/plain": [
       "\u001b[1;36m14.59709358215332\u001b[0m\n"
      ]
     },
     "metadata": {},
     "output_type": "display_data"
    },
    {
     "data": {
      "text/html": [
       "<pre style=\"white-space:pre;overflow-x:auto;line-height:normal;font-family:Menlo,'DejaVu Sans Mono',consolas,'Courier New',monospace\"><span style=\"color: #008080; text-decoration-color: #008080; font-weight: bold\">18.681137084960938</span>\n",
       "</pre>\n"
      ],
      "text/plain": [
       "\u001b[1;36m18.681137084960938\u001b[0m\n"
      ]
     },
     "metadata": {},
     "output_type": "display_data"
    },
    {
     "data": {
      "text/html": [
       "<pre style=\"white-space:pre;overflow-x:auto;line-height:normal;font-family:Menlo,'DejaVu Sans Mono',consolas,'Courier New',monospace\"><span style=\"color: #008080; text-decoration-color: #008080; font-weight: bold\">14.994373321533203</span>\n",
       "</pre>\n"
      ],
      "text/plain": [
       "\u001b[1;36m14.994373321533203\u001b[0m\n"
      ]
     },
     "metadata": {},
     "output_type": "display_data"
    },
    {
     "data": {
      "text/html": [
       "<pre style=\"white-space:pre;overflow-x:auto;line-height:normal;font-family:Menlo,'DejaVu Sans Mono',consolas,'Courier New',monospace\"><span style=\"color: #008080; text-decoration-color: #008080; font-weight: bold\">15.734018325805664</span>\n",
       "</pre>\n"
      ],
      "text/plain": [
       "\u001b[1;36m15.734018325805664\u001b[0m\n"
      ]
     },
     "metadata": {},
     "output_type": "display_data"
    },
    {
     "data": {
      "text/html": [
       "<pre style=\"white-space:pre;overflow-x:auto;line-height:normal;font-family:Menlo,'DejaVu Sans Mono',consolas,'Courier New',monospace\"><span style=\"color: #008080; text-decoration-color: #008080; font-weight: bold\">15.58342456817627</span>\n",
       "</pre>\n"
      ],
      "text/plain": [
       "\u001b[1;36m15.58342456817627\u001b[0m\n"
      ]
     },
     "metadata": {},
     "output_type": "display_data"
    },
    {
     "data": {
      "text/html": [
       "<pre style=\"white-space:pre;overflow-x:auto;line-height:normal;font-family:Menlo,'DejaVu Sans Mono',consolas,'Courier New',monospace\"><span style=\"color: #008080; text-decoration-color: #008080; font-weight: bold\">17.513246536254883</span>\n",
       "</pre>\n"
      ],
      "text/plain": [
       "\u001b[1;36m17.513246536254883\u001b[0m\n"
      ]
     },
     "metadata": {},
     "output_type": "display_data"
    },
    {
     "data": {
      "text/html": [
       "<pre style=\"white-space:pre;overflow-x:auto;line-height:normal;font-family:Menlo,'DejaVu Sans Mono',consolas,'Courier New',monospace\"><span style=\"color: #008080; text-decoration-color: #008080; font-weight: bold\">19.031356811523438</span>\n",
       "</pre>\n"
      ],
      "text/plain": [
       "\u001b[1;36m19.031356811523438\u001b[0m\n"
      ]
     },
     "metadata": {},
     "output_type": "display_data"
    },
    {
     "data": {
      "text/html": [
       "<pre style=\"white-space:pre;overflow-x:auto;line-height:normal;font-family:Menlo,'DejaVu Sans Mono',consolas,'Courier New',monospace\"><span style=\"color: #008080; text-decoration-color: #008080; font-weight: bold\">18.412912368774414</span>\n",
       "</pre>\n"
      ],
      "text/plain": [
       "\u001b[1;36m18.412912368774414\u001b[0m\n"
      ]
     },
     "metadata": {},
     "output_type": "display_data"
    },
    {
     "data": {
      "text/html": [
       "<pre style=\"white-space:pre;overflow-x:auto;line-height:normal;font-family:Menlo,'DejaVu Sans Mono',consolas,'Courier New',monospace\"><span style=\"color: #008080; text-decoration-color: #008080; font-weight: bold\">15.050882339477539</span>\n",
       "</pre>\n"
      ],
      "text/plain": [
       "\u001b[1;36m15.050882339477539\u001b[0m\n"
      ]
     },
     "metadata": {},
     "output_type": "display_data"
    },
    {
     "data": {
      "text/html": [
       "<pre style=\"white-space:pre;overflow-x:auto;line-height:normal;font-family:Menlo,'DejaVu Sans Mono',consolas,'Courier New',monospace\"><span style=\"color: #008080; text-decoration-color: #008080; font-weight: bold\">18.225595474243164</span>\n",
       "</pre>\n"
      ],
      "text/plain": [
       "\u001b[1;36m18.225595474243164\u001b[0m\n"
      ]
     },
     "metadata": {},
     "output_type": "display_data"
    },
    {
     "data": {
      "text/html": [
       "<pre style=\"white-space:pre;overflow-x:auto;line-height:normal;font-family:Menlo,'DejaVu Sans Mono',consolas,'Courier New',monospace\"><span style=\"color: #008080; text-decoration-color: #008080; font-weight: bold\">17.290569305419922</span>\n",
       "</pre>\n"
      ],
      "text/plain": [
       "\u001b[1;36m17.290569305419922\u001b[0m\n"
      ]
     },
     "metadata": {},
     "output_type": "display_data"
    },
    {
     "data": {
      "text/html": [
       "<pre style=\"white-space:pre;overflow-x:auto;line-height:normal;font-family:Menlo,'DejaVu Sans Mono',consolas,'Courier New',monospace\"><span style=\"color: #008080; text-decoration-color: #008080; font-weight: bold\">18.107513427734375</span>\n",
       "</pre>\n"
      ],
      "text/plain": [
       "\u001b[1;36m18.107513427734375\u001b[0m\n"
      ]
     },
     "metadata": {},
     "output_type": "display_data"
    },
    {
     "data": {
      "text/html": [
       "<pre style=\"white-space:pre;overflow-x:auto;line-height:normal;font-family:Menlo,'DejaVu Sans Mono',consolas,'Courier New',monospace\"><span style=\"color: #008080; text-decoration-color: #008080; font-weight: bold\">17.607986450195312</span>\n",
       "</pre>\n"
      ],
      "text/plain": [
       "\u001b[1;36m17.607986450195312\u001b[0m\n"
      ]
     },
     "metadata": {},
     "output_type": "display_data"
    },
    {
     "data": {
      "text/html": [
       "<pre style=\"white-space:pre;overflow-x:auto;line-height:normal;font-family:Menlo,'DejaVu Sans Mono',consolas,'Courier New',monospace\"><span style=\"color: #008080; text-decoration-color: #008080; font-weight: bold\">19.539506912231445</span>\n",
       "</pre>\n"
      ],
      "text/plain": [
       "\u001b[1;36m19.539506912231445\u001b[0m\n"
      ]
     },
     "metadata": {},
     "output_type": "display_data"
    }
   ],
   "source": [
    "params, loss = train(100, X, Y, lr=0.001)"
   ]
  },
  {
   "cell_type": "markdown",
   "id": "1dfc99f9",
   "metadata": {},
   "source": [
    "Decreasing quite slow"
   ]
  },
  {
   "cell_type": "code",
   "execution_count": null,
   "id": "286509b9",
   "metadata": {},
   "outputs": [
    {
     "data": {
      "text/html": [
       "<pre style=\"white-space:pre;overflow-x:auto;line-height:normal;font-family:Menlo,'DejaVu Sans Mono',consolas,'Courier New',monospace\"><span style=\"color: #008080; text-decoration-color: #008080; font-weight: bold\">17.217191696166992</span>\n",
       "</pre>\n"
      ],
      "text/plain": [
       "\u001b[1;36m17.217191696166992\u001b[0m\n"
      ]
     },
     "metadata": {},
     "output_type": "display_data"
    },
    {
     "data": {
      "text/html": [
       "<pre style=\"white-space:pre;overflow-x:auto;line-height:normal;font-family:Menlo,'DejaVu Sans Mono',consolas,'Courier New',monospace\"><span style=\"color: #008080; text-decoration-color: #008080; font-weight: bold\">18.98297119140625</span>\n",
       "</pre>\n"
      ],
      "text/plain": [
       "\u001b[1;36m18.98297119140625\u001b[0m\n"
      ]
     },
     "metadata": {},
     "output_type": "display_data"
    },
    {
     "data": {
      "text/html": [
       "<pre style=\"white-space:pre;overflow-x:auto;line-height:normal;font-family:Menlo,'DejaVu Sans Mono',consolas,'Courier New',monospace\"><span style=\"color: #008080; text-decoration-color: #008080; font-weight: bold\">16.730661392211914</span>\n",
       "</pre>\n"
      ],
      "text/plain": [
       "\u001b[1;36m16.730661392211914\u001b[0m\n"
      ]
     },
     "metadata": {},
     "output_type": "display_data"
    },
    {
     "data": {
      "text/html": [
       "<pre style=\"white-space:pre;overflow-x:auto;line-height:normal;font-family:Menlo,'DejaVu Sans Mono',consolas,'Courier New',monospace\"><span style=\"color: #008080; text-decoration-color: #008080; font-weight: bold\">18.72515869140625</span>\n",
       "</pre>\n"
      ],
      "text/plain": [
       "\u001b[1;36m18.72515869140625\u001b[0m\n"
      ]
     },
     "metadata": {},
     "output_type": "display_data"
    },
    {
     "data": {
      "text/html": [
       "<pre style=\"white-space:pre;overflow-x:auto;line-height:normal;font-family:Menlo,'DejaVu Sans Mono',consolas,'Courier New',monospace\"><span style=\"color: #008080; text-decoration-color: #008080; font-weight: bold\">15.642149925231934</span>\n",
       "</pre>\n"
      ],
      "text/plain": [
       "\u001b[1;36m15.642149925231934\u001b[0m\n"
      ]
     },
     "metadata": {},
     "output_type": "display_data"
    },
    {
     "data": {
      "text/html": [
       "<pre style=\"white-space:pre;overflow-x:auto;line-height:normal;font-family:Menlo,'DejaVu Sans Mono',consolas,'Courier New',monospace\"><span style=\"color: #008080; text-decoration-color: #008080; font-weight: bold\">18.69635581970215</span>\n",
       "</pre>\n"
      ],
      "text/plain": [
       "\u001b[1;36m18.69635581970215\u001b[0m\n"
      ]
     },
     "metadata": {},
     "output_type": "display_data"
    },
    {
     "data": {
      "text/html": [
       "<pre style=\"white-space:pre;overflow-x:auto;line-height:normal;font-family:Menlo,'DejaVu Sans Mono',consolas,'Courier New',monospace\"><span style=\"color: #008080; text-decoration-color: #008080; font-weight: bold\">19.240758895874023</span>\n",
       "</pre>\n"
      ],
      "text/plain": [
       "\u001b[1;36m19.240758895874023\u001b[0m\n"
      ]
     },
     "metadata": {},
     "output_type": "display_data"
    },
    {
     "data": {
      "text/html": [
       "<pre style=\"white-space:pre;overflow-x:auto;line-height:normal;font-family:Menlo,'DejaVu Sans Mono',consolas,'Courier New',monospace\"><span style=\"color: #008080; text-decoration-color: #008080; font-weight: bold\">15.680923461914062</span>\n",
       "</pre>\n"
      ],
      "text/plain": [
       "\u001b[1;36m15.680923461914062\u001b[0m\n"
      ]
     },
     "metadata": {},
     "output_type": "display_data"
    },
    {
     "data": {
      "text/html": [
       "<pre style=\"white-space:pre;overflow-x:auto;line-height:normal;font-family:Menlo,'DejaVu Sans Mono',consolas,'Courier New',monospace\"><span style=\"color: #008080; text-decoration-color: #008080; font-weight: bold\">17.75980567932129</span>\n",
       "</pre>\n"
      ],
      "text/plain": [
       "\u001b[1;36m17.75980567932129\u001b[0m\n"
      ]
     },
     "metadata": {},
     "output_type": "display_data"
    },
    {
     "data": {
      "text/html": [
       "<pre style=\"white-space:pre;overflow-x:auto;line-height:normal;font-family:Menlo,'DejaVu Sans Mono',consolas,'Courier New',monospace\"><span style=\"color: #008080; text-decoration-color: #008080; font-weight: bold\">15.805423736572266</span>\n",
       "</pre>\n"
      ],
      "text/plain": [
       "\u001b[1;36m15.805423736572266\u001b[0m\n"
      ]
     },
     "metadata": {},
     "output_type": "display_data"
    },
    {
     "data": {
      "text/html": [
       "<pre style=\"white-space:pre;overflow-x:auto;line-height:normal;font-family:Menlo,'DejaVu Sans Mono',consolas,'Courier New',monospace\"><span style=\"color: #008080; text-decoration-color: #008080; font-weight: bold\">17.46143913269043</span>\n",
       "</pre>\n"
      ],
      "text/plain": [
       "\u001b[1;36m17.46143913269043\u001b[0m\n"
      ]
     },
     "metadata": {},
     "output_type": "display_data"
    },
    {
     "data": {
      "text/html": [
       "<pre style=\"white-space:pre;overflow-x:auto;line-height:normal;font-family:Menlo,'DejaVu Sans Mono',consolas,'Courier New',monospace\"><span style=\"color: #008080; text-decoration-color: #008080; font-weight: bold\">14.92746639251709</span>\n",
       "</pre>\n"
      ],
      "text/plain": [
       "\u001b[1;36m14.92746639251709\u001b[0m\n"
      ]
     },
     "metadata": {},
     "output_type": "display_data"
    },
    {
     "data": {
      "text/html": [
       "<pre style=\"white-space:pre;overflow-x:auto;line-height:normal;font-family:Menlo,'DejaVu Sans Mono',consolas,'Courier New',monospace\"><span style=\"color: #008080; text-decoration-color: #008080; font-weight: bold\">15.784602165222168</span>\n",
       "</pre>\n"
      ],
      "text/plain": [
       "\u001b[1;36m15.784602165222168\u001b[0m\n"
      ]
     },
     "metadata": {},
     "output_type": "display_data"
    },
    {
     "data": {
      "text/html": [
       "<pre style=\"white-space:pre;overflow-x:auto;line-height:normal;font-family:Menlo,'DejaVu Sans Mono',consolas,'Courier New',monospace\"><span style=\"color: #008080; text-decoration-color: #008080; font-weight: bold\">17.56768226623535</span>\n",
       "</pre>\n"
      ],
      "text/plain": [
       "\u001b[1;36m17.56768226623535\u001b[0m\n"
      ]
     },
     "metadata": {},
     "output_type": "display_data"
    },
    {
     "data": {
      "text/html": [
       "<pre style=\"white-space:pre;overflow-x:auto;line-height:normal;font-family:Menlo,'DejaVu Sans Mono',consolas,'Courier New',monospace\"><span style=\"color: #008080; text-decoration-color: #008080; font-weight: bold\">17.278583526611328</span>\n",
       "</pre>\n"
      ],
      "text/plain": [
       "\u001b[1;36m17.278583526611328\u001b[0m\n"
      ]
     },
     "metadata": {},
     "output_type": "display_data"
    },
    {
     "data": {
      "text/html": [
       "<pre style=\"white-space:pre;overflow-x:auto;line-height:normal;font-family:Menlo,'DejaVu Sans Mono',consolas,'Courier New',monospace\"><span style=\"color: #008080; text-decoration-color: #008080; font-weight: bold\">16.729448318481445</span>\n",
       "</pre>\n"
      ],
      "text/plain": [
       "\u001b[1;36m16.729448318481445\u001b[0m\n"
      ]
     },
     "metadata": {},
     "output_type": "display_data"
    },
    {
     "data": {
      "text/html": [
       "<pre style=\"white-space:pre;overflow-x:auto;line-height:normal;font-family:Menlo,'DejaVu Sans Mono',consolas,'Courier New',monospace\"><span style=\"color: #008080; text-decoration-color: #008080; font-weight: bold\">17.613697052001953</span>\n",
       "</pre>\n"
      ],
      "text/plain": [
       "\u001b[1;36m17.613697052001953\u001b[0m\n"
      ]
     },
     "metadata": {},
     "output_type": "display_data"
    },
    {
     "data": {
      "text/html": [
       "<pre style=\"white-space:pre;overflow-x:auto;line-height:normal;font-family:Menlo,'DejaVu Sans Mono',consolas,'Courier New',monospace\"><span style=\"color: #008080; text-decoration-color: #008080; font-weight: bold\">17.079381942749023</span>\n",
       "</pre>\n"
      ],
      "text/plain": [
       "\u001b[1;36m17.079381942749023\u001b[0m\n"
      ]
     },
     "metadata": {},
     "output_type": "display_data"
    },
    {
     "data": {
      "text/html": [
       "<pre style=\"white-space:pre;overflow-x:auto;line-height:normal;font-family:Menlo,'DejaVu Sans Mono',consolas,'Courier New',monospace\"><span style=\"color: #008080; text-decoration-color: #008080; font-weight: bold\">16.603227615356445</span>\n",
       "</pre>\n"
      ],
      "text/plain": [
       "\u001b[1;36m16.603227615356445\u001b[0m\n"
      ]
     },
     "metadata": {},
     "output_type": "display_data"
    },
    {
     "data": {
      "text/html": [
       "<pre style=\"white-space:pre;overflow-x:auto;line-height:normal;font-family:Menlo,'DejaVu Sans Mono',consolas,'Courier New',monospace\"><span style=\"color: #008080; text-decoration-color: #008080; font-weight: bold\">15.034947395324707</span>\n",
       "</pre>\n"
      ],
      "text/plain": [
       "\u001b[1;36m15.034947395324707\u001b[0m\n"
      ]
     },
     "metadata": {},
     "output_type": "display_data"
    },
    {
     "data": {
      "text/html": [
       "<pre style=\"white-space:pre;overflow-x:auto;line-height:normal;font-family:Menlo,'DejaVu Sans Mono',consolas,'Courier New',monospace\"><span style=\"color: #008080; text-decoration-color: #008080; font-weight: bold\">10.689759254455566</span>\n",
       "</pre>\n"
      ],
      "text/plain": [
       "\u001b[1;36m10.689759254455566\u001b[0m\n"
      ]
     },
     "metadata": {},
     "output_type": "display_data"
    },
    {
     "data": {
      "text/html": [
       "<pre style=\"white-space:pre;overflow-x:auto;line-height:normal;font-family:Menlo,'DejaVu Sans Mono',consolas,'Courier New',monospace\"><span style=\"color: #008080; text-decoration-color: #008080; font-weight: bold\">14.267993927001953</span>\n",
       "</pre>\n"
      ],
      "text/plain": [
       "\u001b[1;36m14.267993927001953\u001b[0m\n"
      ]
     },
     "metadata": {},
     "output_type": "display_data"
    },
    {
     "data": {
      "text/html": [
       "<pre style=\"white-space:pre;overflow-x:auto;line-height:normal;font-family:Menlo,'DejaVu Sans Mono',consolas,'Courier New',monospace\"><span style=\"color: #008080; text-decoration-color: #008080; font-weight: bold\">14.27953815460205</span>\n",
       "</pre>\n"
      ],
      "text/plain": [
       "\u001b[1;36m14.27953815460205\u001b[0m\n"
      ]
     },
     "metadata": {},
     "output_type": "display_data"
    },
    {
     "data": {
      "text/html": [
       "<pre style=\"white-space:pre;overflow-x:auto;line-height:normal;font-family:Menlo,'DejaVu Sans Mono',consolas,'Courier New',monospace\"><span style=\"color: #008080; text-decoration-color: #008080; font-weight: bold\">17.156047821044922</span>\n",
       "</pre>\n"
      ],
      "text/plain": [
       "\u001b[1;36m17.156047821044922\u001b[0m\n"
      ]
     },
     "metadata": {},
     "output_type": "display_data"
    },
    {
     "data": {
      "text/html": [
       "<pre style=\"white-space:pre;overflow-x:auto;line-height:normal;font-family:Menlo,'DejaVu Sans Mono',consolas,'Courier New',monospace\"><span style=\"color: #008080; text-decoration-color: #008080; font-weight: bold\">16.04837417602539</span>\n",
       "</pre>\n"
      ],
      "text/plain": [
       "\u001b[1;36m16.04837417602539\u001b[0m\n"
      ]
     },
     "metadata": {},
     "output_type": "display_data"
    },
    {
     "data": {
      "text/html": [
       "<pre style=\"white-space:pre;overflow-x:auto;line-height:normal;font-family:Menlo,'DejaVu Sans Mono',consolas,'Courier New',monospace\"><span style=\"color: #008080; text-decoration-color: #008080; font-weight: bold\">14.437764167785645</span>\n",
       "</pre>\n"
      ],
      "text/plain": [
       "\u001b[1;36m14.437764167785645\u001b[0m\n"
      ]
     },
     "metadata": {},
     "output_type": "display_data"
    },
    {
     "data": {
      "text/html": [
       "<pre style=\"white-space:pre;overflow-x:auto;line-height:normal;font-family:Menlo,'DejaVu Sans Mono',consolas,'Courier New',monospace\"><span style=\"color: #008080; text-decoration-color: #008080; font-weight: bold\">15.547869682312012</span>\n",
       "</pre>\n"
      ],
      "text/plain": [
       "\u001b[1;36m15.547869682312012\u001b[0m\n"
      ]
     },
     "metadata": {},
     "output_type": "display_data"
    },
    {
     "data": {
      "text/html": [
       "<pre style=\"white-space:pre;overflow-x:auto;line-height:normal;font-family:Menlo,'DejaVu Sans Mono',consolas,'Courier New',monospace\"><span style=\"color: #008080; text-decoration-color: #008080; font-weight: bold\">14.045707702636719</span>\n",
       "</pre>\n"
      ],
      "text/plain": [
       "\u001b[1;36m14.045707702636719\u001b[0m\n"
      ]
     },
     "metadata": {},
     "output_type": "display_data"
    },
    {
     "data": {
      "text/html": [
       "<pre style=\"white-space:pre;overflow-x:auto;line-height:normal;font-family:Menlo,'DejaVu Sans Mono',consolas,'Courier New',monospace\"><span style=\"color: #008080; text-decoration-color: #008080; font-weight: bold\">17.114885330200195</span>\n",
       "</pre>\n"
      ],
      "text/plain": [
       "\u001b[1;36m17.114885330200195\u001b[0m\n"
      ]
     },
     "metadata": {},
     "output_type": "display_data"
    },
    {
     "data": {
      "text/html": [
       "<pre style=\"white-space:pre;overflow-x:auto;line-height:normal;font-family:Menlo,'DejaVu Sans Mono',consolas,'Courier New',monospace\"><span style=\"color: #008080; text-decoration-color: #008080; font-weight: bold\">14.959957122802734</span>\n",
       "</pre>\n"
      ],
      "text/plain": [
       "\u001b[1;36m14.959957122802734\u001b[0m\n"
      ]
     },
     "metadata": {},
     "output_type": "display_data"
    },
    {
     "data": {
      "text/html": [
       "<pre style=\"white-space:pre;overflow-x:auto;line-height:normal;font-family:Menlo,'DejaVu Sans Mono',consolas,'Courier New',monospace\"><span style=\"color: #008080; text-decoration-color: #008080; font-weight: bold\">12.732937812805176</span>\n",
       "</pre>\n"
      ],
      "text/plain": [
       "\u001b[1;36m12.732937812805176\u001b[0m\n"
      ]
     },
     "metadata": {},
     "output_type": "display_data"
    },
    {
     "data": {
      "text/html": [
       "<pre style=\"white-space:pre;overflow-x:auto;line-height:normal;font-family:Menlo,'DejaVu Sans Mono',consolas,'Courier New',monospace\"><span style=\"color: #008080; text-decoration-color: #008080; font-weight: bold\">12.506109237670898</span>\n",
       "</pre>\n"
      ],
      "text/plain": [
       "\u001b[1;36m12.506109237670898\u001b[0m\n"
      ]
     },
     "metadata": {},
     "output_type": "display_data"
    },
    {
     "data": {
      "text/html": [
       "<pre style=\"white-space:pre;overflow-x:auto;line-height:normal;font-family:Menlo,'DejaVu Sans Mono',consolas,'Courier New',monospace\"><span style=\"color: #008080; text-decoration-color: #008080; font-weight: bold\">13.542440414428711</span>\n",
       "</pre>\n"
      ],
      "text/plain": [
       "\u001b[1;36m13.542440414428711\u001b[0m\n"
      ]
     },
     "metadata": {},
     "output_type": "display_data"
    },
    {
     "data": {
      "text/html": [
       "<pre style=\"white-space:pre;overflow-x:auto;line-height:normal;font-family:Menlo,'DejaVu Sans Mono',consolas,'Courier New',monospace\"><span style=\"color: #008080; text-decoration-color: #008080; font-weight: bold\">11.618020057678223</span>\n",
       "</pre>\n"
      ],
      "text/plain": [
       "\u001b[1;36m11.618020057678223\u001b[0m\n"
      ]
     },
     "metadata": {},
     "output_type": "display_data"
    },
    {
     "data": {
      "text/html": [
       "<pre style=\"white-space:pre;overflow-x:auto;line-height:normal;font-family:Menlo,'DejaVu Sans Mono',consolas,'Courier New',monospace\"><span style=\"color: #008080; text-decoration-color: #008080; font-weight: bold\">15.980241775512695</span>\n",
       "</pre>\n"
      ],
      "text/plain": [
       "\u001b[1;36m15.980241775512695\u001b[0m\n"
      ]
     },
     "metadata": {},
     "output_type": "display_data"
    },
    {
     "data": {
      "text/html": [
       "<pre style=\"white-space:pre;overflow-x:auto;line-height:normal;font-family:Menlo,'DejaVu Sans Mono',consolas,'Courier New',monospace\"><span style=\"color: #008080; text-decoration-color: #008080; font-weight: bold\">13.710258483886719</span>\n",
       "</pre>\n"
      ],
      "text/plain": [
       "\u001b[1;36m13.710258483886719\u001b[0m\n"
      ]
     },
     "metadata": {},
     "output_type": "display_data"
    },
    {
     "data": {
      "text/html": [
       "<pre style=\"white-space:pre;overflow-x:auto;line-height:normal;font-family:Menlo,'DejaVu Sans Mono',consolas,'Courier New',monospace\"><span style=\"color: #008080; text-decoration-color: #008080; font-weight: bold\">13.079842567443848</span>\n",
       "</pre>\n"
      ],
      "text/plain": [
       "\u001b[1;36m13.079842567443848\u001b[0m\n"
      ]
     },
     "metadata": {},
     "output_type": "display_data"
    },
    {
     "data": {
      "text/html": [
       "<pre style=\"white-space:pre;overflow-x:auto;line-height:normal;font-family:Menlo,'DejaVu Sans Mono',consolas,'Courier New',monospace\"><span style=\"color: #008080; text-decoration-color: #008080; font-weight: bold\">17.457290649414062</span>\n",
       "</pre>\n"
      ],
      "text/plain": [
       "\u001b[1;36m17.457290649414062\u001b[0m\n"
      ]
     },
     "metadata": {},
     "output_type": "display_data"
    },
    {
     "data": {
      "text/html": [
       "<pre style=\"white-space:pre;overflow-x:auto;line-height:normal;font-family:Menlo,'DejaVu Sans Mono',consolas,'Courier New',monospace\"><span style=\"color: #008080; text-decoration-color: #008080; font-weight: bold\">12.832975387573242</span>\n",
       "</pre>\n"
      ],
      "text/plain": [
       "\u001b[1;36m12.832975387573242\u001b[0m\n"
      ]
     },
     "metadata": {},
     "output_type": "display_data"
    },
    {
     "data": {
      "text/html": [
       "<pre style=\"white-space:pre;overflow-x:auto;line-height:normal;font-family:Menlo,'DejaVu Sans Mono',consolas,'Courier New',monospace\"><span style=\"color: #008080; text-decoration-color: #008080; font-weight: bold\">15.989693641662598</span>\n",
       "</pre>\n"
      ],
      "text/plain": [
       "\u001b[1;36m15.989693641662598\u001b[0m\n"
      ]
     },
     "metadata": {},
     "output_type": "display_data"
    },
    {
     "data": {
      "text/html": [
       "<pre style=\"white-space:pre;overflow-x:auto;line-height:normal;font-family:Menlo,'DejaVu Sans Mono',consolas,'Courier New',monospace\"><span style=\"color: #008080; text-decoration-color: #008080; font-weight: bold\">16.086259841918945</span>\n",
       "</pre>\n"
      ],
      "text/plain": [
       "\u001b[1;36m16.086259841918945\u001b[0m\n"
      ]
     },
     "metadata": {},
     "output_type": "display_data"
    },
    {
     "data": {
      "text/html": [
       "<pre style=\"white-space:pre;overflow-x:auto;line-height:normal;font-family:Menlo,'DejaVu Sans Mono',consolas,'Courier New',monospace\"><span style=\"color: #008080; text-decoration-color: #008080; font-weight: bold\">14.375199317932129</span>\n",
       "</pre>\n"
      ],
      "text/plain": [
       "\u001b[1;36m14.375199317932129\u001b[0m\n"
      ]
     },
     "metadata": {},
     "output_type": "display_data"
    },
    {
     "data": {
      "text/html": [
       "<pre style=\"white-space:pre;overflow-x:auto;line-height:normal;font-family:Menlo,'DejaVu Sans Mono',consolas,'Courier New',monospace\"><span style=\"color: #008080; text-decoration-color: #008080; font-weight: bold\">13.443093299865723</span>\n",
       "</pre>\n"
      ],
      "text/plain": [
       "\u001b[1;36m13.443093299865723\u001b[0m\n"
      ]
     },
     "metadata": {},
     "output_type": "display_data"
    },
    {
     "data": {
      "text/html": [
       "<pre style=\"white-space:pre;overflow-x:auto;line-height:normal;font-family:Menlo,'DejaVu Sans Mono',consolas,'Courier New',monospace\"><span style=\"color: #008080; text-decoration-color: #008080; font-weight: bold\">14.050329208374023</span>\n",
       "</pre>\n"
      ],
      "text/plain": [
       "\u001b[1;36m14.050329208374023\u001b[0m\n"
      ]
     },
     "metadata": {},
     "output_type": "display_data"
    },
    {
     "data": {
      "text/html": [
       "<pre style=\"white-space:pre;overflow-x:auto;line-height:normal;font-family:Menlo,'DejaVu Sans Mono',consolas,'Courier New',monospace\"><span style=\"color: #008080; text-decoration-color: #008080; font-weight: bold\">10.909284591674805</span>\n",
       "</pre>\n"
      ],
      "text/plain": [
       "\u001b[1;36m10.909284591674805\u001b[0m\n"
      ]
     },
     "metadata": {},
     "output_type": "display_data"
    },
    {
     "data": {
      "text/html": [
       "<pre style=\"white-space:pre;overflow-x:auto;line-height:normal;font-family:Menlo,'DejaVu Sans Mono',consolas,'Courier New',monospace\"><span style=\"color: #008080; text-decoration-color: #008080; font-weight: bold\">10.330706596374512</span>\n",
       "</pre>\n"
      ],
      "text/plain": [
       "\u001b[1;36m10.330706596374512\u001b[0m\n"
      ]
     },
     "metadata": {},
     "output_type": "display_data"
    },
    {
     "data": {
      "text/html": [
       "<pre style=\"white-space:pre;overflow-x:auto;line-height:normal;font-family:Menlo,'DejaVu Sans Mono',consolas,'Courier New',monospace\"><span style=\"color: #008080; text-decoration-color: #008080; font-weight: bold\">12.20095443725586</span>\n",
       "</pre>\n"
      ],
      "text/plain": [
       "\u001b[1;36m12.20095443725586\u001b[0m\n"
      ]
     },
     "metadata": {},
     "output_type": "display_data"
    },
    {
     "data": {
      "text/html": [
       "<pre style=\"white-space:pre;overflow-x:auto;line-height:normal;font-family:Menlo,'DejaVu Sans Mono',consolas,'Courier New',monospace\"><span style=\"color: #008080; text-decoration-color: #008080; font-weight: bold\">13.081060409545898</span>\n",
       "</pre>\n"
      ],
      "text/plain": [
       "\u001b[1;36m13.081060409545898\u001b[0m\n"
      ]
     },
     "metadata": {},
     "output_type": "display_data"
    },
    {
     "data": {
      "text/html": [
       "<pre style=\"white-space:pre;overflow-x:auto;line-height:normal;font-family:Menlo,'DejaVu Sans Mono',consolas,'Courier New',monospace\"><span style=\"color: #008080; text-decoration-color: #008080; font-weight: bold\">13.757899284362793</span>\n",
       "</pre>\n"
      ],
      "text/plain": [
       "\u001b[1;36m13.757899284362793\u001b[0m\n"
      ]
     },
     "metadata": {},
     "output_type": "display_data"
    },
    {
     "data": {
      "text/html": [
       "<pre style=\"white-space:pre;overflow-x:auto;line-height:normal;font-family:Menlo,'DejaVu Sans Mono',consolas,'Courier New',monospace\"><span style=\"color: #008080; text-decoration-color: #008080; font-weight: bold\">11.393020629882812</span>\n",
       "</pre>\n"
      ],
      "text/plain": [
       "\u001b[1;36m11.393020629882812\u001b[0m\n"
      ]
     },
     "metadata": {},
     "output_type": "display_data"
    },
    {
     "data": {
      "text/html": [
       "<pre style=\"white-space:pre;overflow-x:auto;line-height:normal;font-family:Menlo,'DejaVu Sans Mono',consolas,'Courier New',monospace\"><span style=\"color: #008080; text-decoration-color: #008080; font-weight: bold\">14.146169662475586</span>\n",
       "</pre>\n"
      ],
      "text/plain": [
       "\u001b[1;36m14.146169662475586\u001b[0m\n"
      ]
     },
     "metadata": {},
     "output_type": "display_data"
    },
    {
     "data": {
      "text/html": [
       "<pre style=\"white-space:pre;overflow-x:auto;line-height:normal;font-family:Menlo,'DejaVu Sans Mono',consolas,'Courier New',monospace\"><span style=\"color: #008080; text-decoration-color: #008080; font-weight: bold\">12.656024932861328</span>\n",
       "</pre>\n"
      ],
      "text/plain": [
       "\u001b[1;36m12.656024932861328\u001b[0m\n"
      ]
     },
     "metadata": {},
     "output_type": "display_data"
    },
    {
     "data": {
      "text/html": [
       "<pre style=\"white-space:pre;overflow-x:auto;line-height:normal;font-family:Menlo,'DejaVu Sans Mono',consolas,'Courier New',monospace\"><span style=\"color: #008080; text-decoration-color: #008080; font-weight: bold\">11.959654808044434</span>\n",
       "</pre>\n"
      ],
      "text/plain": [
       "\u001b[1;36m11.959654808044434\u001b[0m\n"
      ]
     },
     "metadata": {},
     "output_type": "display_data"
    },
    {
     "data": {
      "text/html": [
       "<pre style=\"white-space:pre;overflow-x:auto;line-height:normal;font-family:Menlo,'DejaVu Sans Mono',consolas,'Courier New',monospace\"><span style=\"color: #008080; text-decoration-color: #008080; font-weight: bold\">12.629054069519043</span>\n",
       "</pre>\n"
      ],
      "text/plain": [
       "\u001b[1;36m12.629054069519043\u001b[0m\n"
      ]
     },
     "metadata": {},
     "output_type": "display_data"
    },
    {
     "data": {
      "text/html": [
       "<pre style=\"white-space:pre;overflow-x:auto;line-height:normal;font-family:Menlo,'DejaVu Sans Mono',consolas,'Courier New',monospace\"><span style=\"color: #008080; text-decoration-color: #008080; font-weight: bold\">12.20356273651123</span>\n",
       "</pre>\n"
      ],
      "text/plain": [
       "\u001b[1;36m12.20356273651123\u001b[0m\n"
      ]
     },
     "metadata": {},
     "output_type": "display_data"
    },
    {
     "data": {
      "text/html": [
       "<pre style=\"white-space:pre;overflow-x:auto;line-height:normal;font-family:Menlo,'DejaVu Sans Mono',consolas,'Courier New',monospace\"><span style=\"color: #008080; text-decoration-color: #008080; font-weight: bold\">12.901283264160156</span>\n",
       "</pre>\n"
      ],
      "text/plain": [
       "\u001b[1;36m12.901283264160156\u001b[0m\n"
      ]
     },
     "metadata": {},
     "output_type": "display_data"
    },
    {
     "data": {
      "text/html": [
       "<pre style=\"white-space:pre;overflow-x:auto;line-height:normal;font-family:Menlo,'DejaVu Sans Mono',consolas,'Courier New',monospace\"><span style=\"color: #008080; text-decoration-color: #008080; font-weight: bold\">11.310954093933105</span>\n",
       "</pre>\n"
      ],
      "text/plain": [
       "\u001b[1;36m11.310954093933105\u001b[0m\n"
      ]
     },
     "metadata": {},
     "output_type": "display_data"
    },
    {
     "data": {
      "text/html": [
       "<pre style=\"white-space:pre;overflow-x:auto;line-height:normal;font-family:Menlo,'DejaVu Sans Mono',consolas,'Courier New',monospace\"><span style=\"color: #008080; text-decoration-color: #008080; font-weight: bold\">11.71440601348877</span>\n",
       "</pre>\n"
      ],
      "text/plain": [
       "\u001b[1;36m11.71440601348877\u001b[0m\n"
      ]
     },
     "metadata": {},
     "output_type": "display_data"
    },
    {
     "data": {
      "text/html": [
       "<pre style=\"white-space:pre;overflow-x:auto;line-height:normal;font-family:Menlo,'DejaVu Sans Mono',consolas,'Courier New',monospace\"><span style=\"color: #008080; text-decoration-color: #008080; font-weight: bold\">12.643488883972168</span>\n",
       "</pre>\n"
      ],
      "text/plain": [
       "\u001b[1;36m12.643488883972168\u001b[0m\n"
      ]
     },
     "metadata": {},
     "output_type": "display_data"
    },
    {
     "data": {
      "text/html": [
       "<pre style=\"white-space:pre;overflow-x:auto;line-height:normal;font-family:Menlo,'DejaVu Sans Mono',consolas,'Courier New',monospace\"><span style=\"color: #008080; text-decoration-color: #008080; font-weight: bold\">12.945002555847168</span>\n",
       "</pre>\n"
      ],
      "text/plain": [
       "\u001b[1;36m12.945002555847168\u001b[0m\n"
      ]
     },
     "metadata": {},
     "output_type": "display_data"
    },
    {
     "data": {
      "text/html": [
       "<pre style=\"white-space:pre;overflow-x:auto;line-height:normal;font-family:Menlo,'DejaVu Sans Mono',consolas,'Courier New',monospace\"><span style=\"color: #008080; text-decoration-color: #008080; font-weight: bold\">10.115494728088379</span>\n",
       "</pre>\n"
      ],
      "text/plain": [
       "\u001b[1;36m10.115494728088379\u001b[0m\n"
      ]
     },
     "metadata": {},
     "output_type": "display_data"
    },
    {
     "data": {
      "text/html": [
       "<pre style=\"white-space:pre;overflow-x:auto;line-height:normal;font-family:Menlo,'DejaVu Sans Mono',consolas,'Courier New',monospace\"><span style=\"color: #008080; text-decoration-color: #008080; font-weight: bold\">10.972354888916016</span>\n",
       "</pre>\n"
      ],
      "text/plain": [
       "\u001b[1;36m10.972354888916016\u001b[0m\n"
      ]
     },
     "metadata": {},
     "output_type": "display_data"
    },
    {
     "data": {
      "text/html": [
       "<pre style=\"white-space:pre;overflow-x:auto;line-height:normal;font-family:Menlo,'DejaVu Sans Mono',consolas,'Courier New',monospace\"><span style=\"color: #008080; text-decoration-color: #008080; font-weight: bold\">11.523700714111328</span>\n",
       "</pre>\n"
      ],
      "text/plain": [
       "\u001b[1;36m11.523700714111328\u001b[0m\n"
      ]
     },
     "metadata": {},
     "output_type": "display_data"
    },
    {
     "data": {
      "text/html": [
       "<pre style=\"white-space:pre;overflow-x:auto;line-height:normal;font-family:Menlo,'DejaVu Sans Mono',consolas,'Courier New',monospace\"><span style=\"color: #008080; text-decoration-color: #008080; font-weight: bold\">8.636861801147461</span>\n",
       "</pre>\n"
      ],
      "text/plain": [
       "\u001b[1;36m8.636861801147461\u001b[0m\n"
      ]
     },
     "metadata": {},
     "output_type": "display_data"
    },
    {
     "data": {
      "text/html": [
       "<pre style=\"white-space:pre;overflow-x:auto;line-height:normal;font-family:Menlo,'DejaVu Sans Mono',consolas,'Courier New',monospace\"><span style=\"color: #008080; text-decoration-color: #008080; font-weight: bold\">12.185890197753906</span>\n",
       "</pre>\n"
      ],
      "text/plain": [
       "\u001b[1;36m12.185890197753906\u001b[0m\n"
      ]
     },
     "metadata": {},
     "output_type": "display_data"
    },
    {
     "data": {
      "text/html": [
       "<pre style=\"white-space:pre;overflow-x:auto;line-height:normal;font-family:Menlo,'DejaVu Sans Mono',consolas,'Courier New',monospace\"><span style=\"color: #008080; text-decoration-color: #008080; font-weight: bold\">10.055598258972168</span>\n",
       "</pre>\n"
      ],
      "text/plain": [
       "\u001b[1;36m10.055598258972168\u001b[0m\n"
      ]
     },
     "metadata": {},
     "output_type": "display_data"
    },
    {
     "data": {
      "text/html": [
       "<pre style=\"white-space:pre;overflow-x:auto;line-height:normal;font-family:Menlo,'DejaVu Sans Mono',consolas,'Courier New',monospace\"><span style=\"color: #008080; text-decoration-color: #008080; font-weight: bold\">10.197139739990234</span>\n",
       "</pre>\n"
      ],
      "text/plain": [
       "\u001b[1;36m10.197139739990234\u001b[0m\n"
      ]
     },
     "metadata": {},
     "output_type": "display_data"
    },
    {
     "data": {
      "text/html": [
       "<pre style=\"white-space:pre;overflow-x:auto;line-height:normal;font-family:Menlo,'DejaVu Sans Mono',consolas,'Courier New',monospace\"><span style=\"color: #008080; text-decoration-color: #008080; font-weight: bold\">11.891265869140625</span>\n",
       "</pre>\n"
      ],
      "text/plain": [
       "\u001b[1;36m11.891265869140625\u001b[0m\n"
      ]
     },
     "metadata": {},
     "output_type": "display_data"
    },
    {
     "data": {
      "text/html": [
       "<pre style=\"white-space:pre;overflow-x:auto;line-height:normal;font-family:Menlo,'DejaVu Sans Mono',consolas,'Courier New',monospace\"><span style=\"color: #008080; text-decoration-color: #008080; font-weight: bold\">13.066970825195312</span>\n",
       "</pre>\n"
      ],
      "text/plain": [
       "\u001b[1;36m13.066970825195312\u001b[0m\n"
      ]
     },
     "metadata": {},
     "output_type": "display_data"
    },
    {
     "data": {
      "text/html": [
       "<pre style=\"white-space:pre;overflow-x:auto;line-height:normal;font-family:Menlo,'DejaVu Sans Mono',consolas,'Courier New',monospace\"><span style=\"color: #008080; text-decoration-color: #008080; font-weight: bold\">11.821182250976562</span>\n",
       "</pre>\n"
      ],
      "text/plain": [
       "\u001b[1;36m11.821182250976562\u001b[0m\n"
      ]
     },
     "metadata": {},
     "output_type": "display_data"
    },
    {
     "data": {
      "text/html": [
       "<pre style=\"white-space:pre;overflow-x:auto;line-height:normal;font-family:Menlo,'DejaVu Sans Mono',consolas,'Courier New',monospace\"><span style=\"color: #008080; text-decoration-color: #008080; font-weight: bold\">11.078763008117676</span>\n",
       "</pre>\n"
      ],
      "text/plain": [
       "\u001b[1;36m11.078763008117676\u001b[0m\n"
      ]
     },
     "metadata": {},
     "output_type": "display_data"
    },
    {
     "data": {
      "text/html": [
       "<pre style=\"white-space:pre;overflow-x:auto;line-height:normal;font-family:Menlo,'DejaVu Sans Mono',consolas,'Courier New',monospace\"><span style=\"color: #008080; text-decoration-color: #008080; font-weight: bold\">11.997090339660645</span>\n",
       "</pre>\n"
      ],
      "text/plain": [
       "\u001b[1;36m11.997090339660645\u001b[0m\n"
      ]
     },
     "metadata": {},
     "output_type": "display_data"
    },
    {
     "data": {
      "text/html": [
       "<pre style=\"white-space:pre;overflow-x:auto;line-height:normal;font-family:Menlo,'DejaVu Sans Mono',consolas,'Courier New',monospace\"><span style=\"color: #008080; text-decoration-color: #008080; font-weight: bold\">11.150663375854492</span>\n",
       "</pre>\n"
      ],
      "text/plain": [
       "\u001b[1;36m11.150663375854492\u001b[0m\n"
      ]
     },
     "metadata": {},
     "output_type": "display_data"
    },
    {
     "data": {
      "text/html": [
       "<pre style=\"white-space:pre;overflow-x:auto;line-height:normal;font-family:Menlo,'DejaVu Sans Mono',consolas,'Courier New',monospace\"><span style=\"color: #008080; text-decoration-color: #008080; font-weight: bold\">11.122605323791504</span>\n",
       "</pre>\n"
      ],
      "text/plain": [
       "\u001b[1;36m11.122605323791504\u001b[0m\n"
      ]
     },
     "metadata": {},
     "output_type": "display_data"
    },
    {
     "data": {
      "text/html": [
       "<pre style=\"white-space:pre;overflow-x:auto;line-height:normal;font-family:Menlo,'DejaVu Sans Mono',consolas,'Courier New',monospace\"><span style=\"color: #008080; text-decoration-color: #008080; font-weight: bold\">10.081033706665039</span>\n",
       "</pre>\n"
      ],
      "text/plain": [
       "\u001b[1;36m10.081033706665039\u001b[0m\n"
      ]
     },
     "metadata": {},
     "output_type": "display_data"
    },
    {
     "data": {
      "text/html": [
       "<pre style=\"white-space:pre;overflow-x:auto;line-height:normal;font-family:Menlo,'DejaVu Sans Mono',consolas,'Courier New',monospace\"><span style=\"color: #008080; text-decoration-color: #008080; font-weight: bold\">9.641432762145996</span>\n",
       "</pre>\n"
      ],
      "text/plain": [
       "\u001b[1;36m9.641432762145996\u001b[0m\n"
      ]
     },
     "metadata": {},
     "output_type": "display_data"
    },
    {
     "data": {
      "text/html": [
       "<pre style=\"white-space:pre;overflow-x:auto;line-height:normal;font-family:Menlo,'DejaVu Sans Mono',consolas,'Courier New',monospace\"><span style=\"color: #008080; text-decoration-color: #008080; font-weight: bold\">12.542899131774902</span>\n",
       "</pre>\n"
      ],
      "text/plain": [
       "\u001b[1;36m12.542899131774902\u001b[0m\n"
      ]
     },
     "metadata": {},
     "output_type": "display_data"
    },
    {
     "data": {
      "text/html": [
       "<pre style=\"white-space:pre;overflow-x:auto;line-height:normal;font-family:Menlo,'DejaVu Sans Mono',consolas,'Courier New',monospace\"><span style=\"color: #008080; text-decoration-color: #008080; font-weight: bold\">11.15687370300293</span>\n",
       "</pre>\n"
      ],
      "text/plain": [
       "\u001b[1;36m11.15687370300293\u001b[0m\n"
      ]
     },
     "metadata": {},
     "output_type": "display_data"
    },
    {
     "data": {
      "text/html": [
       "<pre style=\"white-space:pre;overflow-x:auto;line-height:normal;font-family:Menlo,'DejaVu Sans Mono',consolas,'Courier New',monospace\"><span style=\"color: #008080; text-decoration-color: #008080; font-weight: bold\">10.160797119140625</span>\n",
       "</pre>\n"
      ],
      "text/plain": [
       "\u001b[1;36m10.160797119140625\u001b[0m\n"
      ]
     },
     "metadata": {},
     "output_type": "display_data"
    },
    {
     "data": {
      "text/html": [
       "<pre style=\"white-space:pre;overflow-x:auto;line-height:normal;font-family:Menlo,'DejaVu Sans Mono',consolas,'Courier New',monospace\"><span style=\"color: #008080; text-decoration-color: #008080; font-weight: bold\">10.767355918884277</span>\n",
       "</pre>\n"
      ],
      "text/plain": [
       "\u001b[1;36m10.767355918884277\u001b[0m\n"
      ]
     },
     "metadata": {},
     "output_type": "display_data"
    },
    {
     "data": {
      "text/html": [
       "<pre style=\"white-space:pre;overflow-x:auto;line-height:normal;font-family:Menlo,'DejaVu Sans Mono',consolas,'Courier New',monospace\"><span style=\"color: #008080; text-decoration-color: #008080; font-weight: bold\">12.057256698608398</span>\n",
       "</pre>\n"
      ],
      "text/plain": [
       "\u001b[1;36m12.057256698608398\u001b[0m\n"
      ]
     },
     "metadata": {},
     "output_type": "display_data"
    },
    {
     "data": {
      "text/html": [
       "<pre style=\"white-space:pre;overflow-x:auto;line-height:normal;font-family:Menlo,'DejaVu Sans Mono',consolas,'Courier New',monospace\"><span style=\"color: #008080; text-decoration-color: #008080; font-weight: bold\">11.341407775878906</span>\n",
       "</pre>\n"
      ],
      "text/plain": [
       "\u001b[1;36m11.341407775878906\u001b[0m\n"
      ]
     },
     "metadata": {},
     "output_type": "display_data"
    },
    {
     "data": {
      "text/html": [
       "<pre style=\"white-space:pre;overflow-x:auto;line-height:normal;font-family:Menlo,'DejaVu Sans Mono',consolas,'Courier New',monospace\"><span style=\"color: #008080; text-decoration-color: #008080; font-weight: bold\">10.812758445739746</span>\n",
       "</pre>\n"
      ],
      "text/plain": [
       "\u001b[1;36m10.812758445739746\u001b[0m\n"
      ]
     },
     "metadata": {},
     "output_type": "display_data"
    },
    {
     "data": {
      "text/html": [
       "<pre style=\"white-space:pre;overflow-x:auto;line-height:normal;font-family:Menlo,'DejaVu Sans Mono',consolas,'Courier New',monospace\"><span style=\"color: #008080; text-decoration-color: #008080; font-weight: bold\">10.457738876342773</span>\n",
       "</pre>\n"
      ],
      "text/plain": [
       "\u001b[1;36m10.457738876342773\u001b[0m\n"
      ]
     },
     "metadata": {},
     "output_type": "display_data"
    },
    {
     "data": {
      "text/html": [
       "<pre style=\"white-space:pre;overflow-x:auto;line-height:normal;font-family:Menlo,'DejaVu Sans Mono',consolas,'Courier New',monospace\"><span style=\"color: #008080; text-decoration-color: #008080; font-weight: bold\">9.38547134399414</span>\n",
       "</pre>\n"
      ],
      "text/plain": [
       "\u001b[1;36m9.38547134399414\u001b[0m\n"
      ]
     },
     "metadata": {},
     "output_type": "display_data"
    },
    {
     "data": {
      "text/html": [
       "<pre style=\"white-space:pre;overflow-x:auto;line-height:normal;font-family:Menlo,'DejaVu Sans Mono',consolas,'Courier New',monospace\"><span style=\"color: #008080; text-decoration-color: #008080; font-weight: bold\">10.351698875427246</span>\n",
       "</pre>\n"
      ],
      "text/plain": [
       "\u001b[1;36m10.351698875427246\u001b[0m\n"
      ]
     },
     "metadata": {},
     "output_type": "display_data"
    },
    {
     "data": {
      "text/html": [
       "<pre style=\"white-space:pre;overflow-x:auto;line-height:normal;font-family:Menlo,'DejaVu Sans Mono',consolas,'Courier New',monospace\"><span style=\"color: #008080; text-decoration-color: #008080; font-weight: bold\">11.28741455078125</span>\n",
       "</pre>\n"
      ],
      "text/plain": [
       "\u001b[1;36m11.28741455078125\u001b[0m\n"
      ]
     },
     "metadata": {},
     "output_type": "display_data"
    },
    {
     "data": {
      "text/html": [
       "<pre style=\"white-space:pre;overflow-x:auto;line-height:normal;font-family:Menlo,'DejaVu Sans Mono',consolas,'Courier New',monospace\"><span style=\"color: #008080; text-decoration-color: #008080; font-weight: bold\">10.267965316772461</span>\n",
       "</pre>\n"
      ],
      "text/plain": [
       "\u001b[1;36m10.267965316772461\u001b[0m\n"
      ]
     },
     "metadata": {},
     "output_type": "display_data"
    },
    {
     "data": {
      "text/html": [
       "<pre style=\"white-space:pre;overflow-x:auto;line-height:normal;font-family:Menlo,'DejaVu Sans Mono',consolas,'Courier New',monospace\"><span style=\"color: #008080; text-decoration-color: #008080; font-weight: bold\">11.363784790039062</span>\n",
       "</pre>\n"
      ],
      "text/plain": [
       "\u001b[1;36m11.363784790039062\u001b[0m\n"
      ]
     },
     "metadata": {},
     "output_type": "display_data"
    },
    {
     "data": {
      "text/html": [
       "<pre style=\"white-space:pre;overflow-x:auto;line-height:normal;font-family:Menlo,'DejaVu Sans Mono',consolas,'Courier New',monospace\"><span style=\"color: #008080; text-decoration-color: #008080; font-weight: bold\">11.739876747131348</span>\n",
       "</pre>\n"
      ],
      "text/plain": [
       "\u001b[1;36m11.739876747131348\u001b[0m\n"
      ]
     },
     "metadata": {},
     "output_type": "display_data"
    },
    {
     "data": {
      "text/html": [
       "<pre style=\"white-space:pre;overflow-x:auto;line-height:normal;font-family:Menlo,'DejaVu Sans Mono',consolas,'Courier New',monospace\"><span style=\"color: #008080; text-decoration-color: #008080; font-weight: bold\">10.682605743408203</span>\n",
       "</pre>\n"
      ],
      "text/plain": [
       "\u001b[1;36m10.682605743408203\u001b[0m\n"
      ]
     },
     "metadata": {},
     "output_type": "display_data"
    },
    {
     "data": {
      "text/html": [
       "<pre style=\"white-space:pre;overflow-x:auto;line-height:normal;font-family:Menlo,'DejaVu Sans Mono',consolas,'Courier New',monospace\"><span style=\"color: #008080; text-decoration-color: #008080; font-weight: bold\">9.142884254455566</span>\n",
       "</pre>\n"
      ],
      "text/plain": [
       "\u001b[1;36m9.142884254455566\u001b[0m\n"
      ]
     },
     "metadata": {},
     "output_type": "display_data"
    },
    {
     "data": {
      "text/html": [
       "<pre style=\"white-space:pre;overflow-x:auto;line-height:normal;font-family:Menlo,'DejaVu Sans Mono',consolas,'Courier New',monospace\"><span style=\"color: #008080; text-decoration-color: #008080; font-weight: bold\">10.5222806930542</span>\n",
       "</pre>\n"
      ],
      "text/plain": [
       "\u001b[1;36m10.5222806930542\u001b[0m\n"
      ]
     },
     "metadata": {},
     "output_type": "display_data"
    },
    {
     "data": {
      "text/html": [
       "<pre style=\"white-space:pre;overflow-x:auto;line-height:normal;font-family:Menlo,'DejaVu Sans Mono',consolas,'Courier New',monospace\"><span style=\"color: #008080; text-decoration-color: #008080; font-weight: bold\">12.483572006225586</span>\n",
       "</pre>\n"
      ],
      "text/plain": [
       "\u001b[1;36m12.483572006225586\u001b[0m\n"
      ]
     },
     "metadata": {},
     "output_type": "display_data"
    },
    {
     "data": {
      "text/html": [
       "<pre style=\"white-space:pre;overflow-x:auto;line-height:normal;font-family:Menlo,'DejaVu Sans Mono',consolas,'Courier New',monospace\"><span style=\"color: #008080; text-decoration-color: #008080; font-weight: bold\">11.053152084350586</span>\n",
       "</pre>\n"
      ],
      "text/plain": [
       "\u001b[1;36m11.053152084350586\u001b[0m\n"
      ]
     },
     "metadata": {},
     "output_type": "display_data"
    },
    {
     "data": {
      "text/html": [
       "<pre style=\"white-space:pre;overflow-x:auto;line-height:normal;font-family:Menlo,'DejaVu Sans Mono',consolas,'Courier New',monospace\"><span style=\"color: #008080; text-decoration-color: #008080; font-weight: bold\">8.63429069519043</span>\n",
       "</pre>\n"
      ],
      "text/plain": [
       "\u001b[1;36m8.63429069519043\u001b[0m\n"
      ]
     },
     "metadata": {},
     "output_type": "display_data"
    },
    {
     "data": {
      "text/html": [
       "<pre style=\"white-space:pre;overflow-x:auto;line-height:normal;font-family:Menlo,'DejaVu Sans Mono',consolas,'Courier New',monospace\"><span style=\"color: #008080; text-decoration-color: #008080; font-weight: bold\">10.406988143920898</span>\n",
       "</pre>\n"
      ],
      "text/plain": [
       "\u001b[1;36m10.406988143920898\u001b[0m\n"
      ]
     },
     "metadata": {},
     "output_type": "display_data"
    },
    {
     "data": {
      "text/html": [
       "<pre style=\"white-space:pre;overflow-x:auto;line-height:normal;font-family:Menlo,'DejaVu Sans Mono',consolas,'Courier New',monospace\"><span style=\"color: #008080; text-decoration-color: #008080; font-weight: bold\">8.784645080566406</span>\n",
       "</pre>\n"
      ],
      "text/plain": [
       "\u001b[1;36m8.784645080566406\u001b[0m\n"
      ]
     },
     "metadata": {},
     "output_type": "display_data"
    },
    {
     "data": {
      "text/html": [
       "<pre style=\"white-space:pre;overflow-x:auto;line-height:normal;font-family:Menlo,'DejaVu Sans Mono',consolas,'Courier New',monospace\"><span style=\"color: #008080; text-decoration-color: #008080; font-weight: bold\">8.676480293273926</span>\n",
       "</pre>\n"
      ],
      "text/plain": [
       "\u001b[1;36m8.676480293273926\u001b[0m\n"
      ]
     },
     "metadata": {},
     "output_type": "display_data"
    },
    {
     "data": {
      "text/html": [
       "<pre style=\"white-space:pre;overflow-x:auto;line-height:normal;font-family:Menlo,'DejaVu Sans Mono',consolas,'Courier New',monospace\"><span style=\"color: #008080; text-decoration-color: #008080; font-weight: bold\">10.117318153381348</span>\n",
       "</pre>\n"
      ],
      "text/plain": [
       "\u001b[1;36m10.117318153381348\u001b[0m\n"
      ]
     },
     "metadata": {},
     "output_type": "display_data"
    }
   ],
   "source": [
    "params, loss = train(100, X, Y, lr=0.01)"
   ]
  },
  {
   "cell_type": "markdown",
   "id": "8102cc90",
   "metadata": {},
   "source": [
    "Lets find a learning rate where the loss explodes"
   ]
  },
  {
   "cell_type": "code",
   "execution_count": null,
   "id": "449cd2ea",
   "metadata": {},
   "outputs": [
    {
     "data": {
      "text/html": [
       "<pre style=\"white-space:pre;overflow-x:auto;line-height:normal;font-family:Menlo,'DejaVu Sans Mono',consolas,'Courier New',monospace\"><span style=\"color: #008080; text-decoration-color: #008080; font-weight: bold\">20.110599517822266</span>\n",
       "</pre>\n"
      ],
      "text/plain": [
       "\u001b[1;36m20.110599517822266\u001b[0m\n"
      ]
     },
     "metadata": {},
     "output_type": "display_data"
    },
    {
     "data": {
      "text/html": [
       "<pre style=\"white-space:pre;overflow-x:auto;line-height:normal;font-family:Menlo,'DejaVu Sans Mono',consolas,'Courier New',monospace\"><span style=\"color: #008080; text-decoration-color: #008080; font-weight: bold\">17.089881896972656</span>\n",
       "</pre>\n"
      ],
      "text/plain": [
       "\u001b[1;36m17.089881896972656\u001b[0m\n"
      ]
     },
     "metadata": {},
     "output_type": "display_data"
    },
    {
     "data": {
      "text/html": [
       "<pre style=\"white-space:pre;overflow-x:auto;line-height:normal;font-family:Menlo,'DejaVu Sans Mono',consolas,'Courier New',monospace\"><span style=\"color: #008080; text-decoration-color: #008080; font-weight: bold\">14.24488353729248</span>\n",
       "</pre>\n"
      ],
      "text/plain": [
       "\u001b[1;36m14.24488353729248\u001b[0m\n"
      ]
     },
     "metadata": {},
     "output_type": "display_data"
    },
    {
     "data": {
      "text/html": [
       "<pre style=\"white-space:pre;overflow-x:auto;line-height:normal;font-family:Menlo,'DejaVu Sans Mono',consolas,'Courier New',monospace\"><span style=\"color: #008080; text-decoration-color: #008080; font-weight: bold\">11.815177917480469</span>\n",
       "</pre>\n"
      ],
      "text/plain": [
       "\u001b[1;36m11.815177917480469\u001b[0m\n"
      ]
     },
     "metadata": {},
     "output_type": "display_data"
    },
    {
     "data": {
      "text/html": [
       "<pre style=\"white-space:pre;overflow-x:auto;line-height:normal;font-family:Menlo,'DejaVu Sans Mono',consolas,'Courier New',monospace\"><span style=\"color: #008080; text-decoration-color: #008080; font-weight: bold\">12.130462646484375</span>\n",
       "</pre>\n"
      ],
      "text/plain": [
       "\u001b[1;36m12.130462646484375\u001b[0m\n"
      ]
     },
     "metadata": {},
     "output_type": "display_data"
    },
    {
     "data": {
      "text/html": [
       "<pre style=\"white-space:pre;overflow-x:auto;line-height:normal;font-family:Menlo,'DejaVu Sans Mono',consolas,'Courier New',monospace\"><span style=\"color: #008080; text-decoration-color: #008080; font-weight: bold\">12.217141151428223</span>\n",
       "</pre>\n"
      ],
      "text/plain": [
       "\u001b[1;36m12.217141151428223\u001b[0m\n"
      ]
     },
     "metadata": {},
     "output_type": "display_data"
    },
    {
     "data": {
      "text/html": [
       "<pre style=\"white-space:pre;overflow-x:auto;line-height:normal;font-family:Menlo,'DejaVu Sans Mono',consolas,'Courier New',monospace\"><span style=\"color: #008080; text-decoration-color: #008080; font-weight: bold\">11.420377731323242</span>\n",
       "</pre>\n"
      ],
      "text/plain": [
       "\u001b[1;36m11.420377731323242\u001b[0m\n"
      ]
     },
     "metadata": {},
     "output_type": "display_data"
    },
    {
     "data": {
      "text/html": [
       "<pre style=\"white-space:pre;overflow-x:auto;line-height:normal;font-family:Menlo,'DejaVu Sans Mono',consolas,'Courier New',monospace\"><span style=\"color: #008080; text-decoration-color: #008080; font-weight: bold\">12.206888198852539</span>\n",
       "</pre>\n"
      ],
      "text/plain": [
       "\u001b[1;36m12.206888198852539\u001b[0m\n"
      ]
     },
     "metadata": {},
     "output_type": "display_data"
    },
    {
     "data": {
      "text/html": [
       "<pre style=\"white-space:pre;overflow-x:auto;line-height:normal;font-family:Menlo,'DejaVu Sans Mono',consolas,'Courier New',monospace\"><span style=\"color: #008080; text-decoration-color: #008080; font-weight: bold\">8.879064559936523</span>\n",
       "</pre>\n"
      ],
      "text/plain": [
       "\u001b[1;36m8.879064559936523\u001b[0m\n"
      ]
     },
     "metadata": {},
     "output_type": "display_data"
    },
    {
     "data": {
      "text/html": [
       "<pre style=\"white-space:pre;overflow-x:auto;line-height:normal;font-family:Menlo,'DejaVu Sans Mono',consolas,'Courier New',monospace\"><span style=\"color: #008080; text-decoration-color: #008080; font-weight: bold\">12.650971412658691</span>\n",
       "</pre>\n"
      ],
      "text/plain": [
       "\u001b[1;36m12.650971412658691\u001b[0m\n"
      ]
     },
     "metadata": {},
     "output_type": "display_data"
    },
    {
     "data": {
      "text/html": [
       "<pre style=\"white-space:pre;overflow-x:auto;line-height:normal;font-family:Menlo,'DejaVu Sans Mono',consolas,'Courier New',monospace\"><span style=\"color: #008080; text-decoration-color: #008080; font-weight: bold\">9.793768882751465</span>\n",
       "</pre>\n"
      ],
      "text/plain": [
       "\u001b[1;36m9.793768882751465\u001b[0m\n"
      ]
     },
     "metadata": {},
     "output_type": "display_data"
    },
    {
     "data": {
      "text/html": [
       "<pre style=\"white-space:pre;overflow-x:auto;line-height:normal;font-family:Menlo,'DejaVu Sans Mono',consolas,'Courier New',monospace\"><span style=\"color: #008080; text-decoration-color: #008080; font-weight: bold\">10.987152099609375</span>\n",
       "</pre>\n"
      ],
      "text/plain": [
       "\u001b[1;36m10.987152099609375\u001b[0m\n"
      ]
     },
     "metadata": {},
     "output_type": "display_data"
    },
    {
     "data": {
      "text/html": [
       "<pre style=\"white-space:pre;overflow-x:auto;line-height:normal;font-family:Menlo,'DejaVu Sans Mono',consolas,'Courier New',monospace\"><span style=\"color: #008080; text-decoration-color: #008080; font-weight: bold\">9.248224258422852</span>\n",
       "</pre>\n"
      ],
      "text/plain": [
       "\u001b[1;36m9.248224258422852\u001b[0m\n"
      ]
     },
     "metadata": {},
     "output_type": "display_data"
    },
    {
     "data": {
      "text/html": [
       "<pre style=\"white-space:pre;overflow-x:auto;line-height:normal;font-family:Menlo,'DejaVu Sans Mono',consolas,'Courier New',monospace\"><span style=\"color: #008080; text-decoration-color: #008080; font-weight: bold\">8.691174507141113</span>\n",
       "</pre>\n"
      ],
      "text/plain": [
       "\u001b[1;36m8.691174507141113\u001b[0m\n"
      ]
     },
     "metadata": {},
     "output_type": "display_data"
    },
    {
     "data": {
      "text/html": [
       "<pre style=\"white-space:pre;overflow-x:auto;line-height:normal;font-family:Menlo,'DejaVu Sans Mono',consolas,'Courier New',monospace\"><span style=\"color: #008080; text-decoration-color: #008080; font-weight: bold\">9.365839958190918</span>\n",
       "</pre>\n"
      ],
      "text/plain": [
       "\u001b[1;36m9.365839958190918\u001b[0m\n"
      ]
     },
     "metadata": {},
     "output_type": "display_data"
    },
    {
     "data": {
      "text/html": [
       "<pre style=\"white-space:pre;overflow-x:auto;line-height:normal;font-family:Menlo,'DejaVu Sans Mono',consolas,'Courier New',monospace\"><span style=\"color: #008080; text-decoration-color: #008080; font-weight: bold\">11.592811584472656</span>\n",
       "</pre>\n"
      ],
      "text/plain": [
       "\u001b[1;36m11.592811584472656\u001b[0m\n"
      ]
     },
     "metadata": {},
     "output_type": "display_data"
    },
    {
     "data": {
      "text/html": [
       "<pre style=\"white-space:pre;overflow-x:auto;line-height:normal;font-family:Menlo,'DejaVu Sans Mono',consolas,'Courier New',monospace\"><span style=\"color: #008080; text-decoration-color: #008080; font-weight: bold\">10.417448043823242</span>\n",
       "</pre>\n"
      ],
      "text/plain": [
       "\u001b[1;36m10.417448043823242\u001b[0m\n"
      ]
     },
     "metadata": {},
     "output_type": "display_data"
    },
    {
     "data": {
      "text/html": [
       "<pre style=\"white-space:pre;overflow-x:auto;line-height:normal;font-family:Menlo,'DejaVu Sans Mono',consolas,'Courier New',monospace\"><span style=\"color: #008080; text-decoration-color: #008080; font-weight: bold\">9.230694770812988</span>\n",
       "</pre>\n"
      ],
      "text/plain": [
       "\u001b[1;36m9.230694770812988\u001b[0m\n"
      ]
     },
     "metadata": {},
     "output_type": "display_data"
    },
    {
     "data": {
      "text/html": [
       "<pre style=\"white-space:pre;overflow-x:auto;line-height:normal;font-family:Menlo,'DejaVu Sans Mono',consolas,'Courier New',monospace\"><span style=\"color: #008080; text-decoration-color: #008080; font-weight: bold\">11.055594444274902</span>\n",
       "</pre>\n"
      ],
      "text/plain": [
       "\u001b[1;36m11.055594444274902\u001b[0m\n"
      ]
     },
     "metadata": {},
     "output_type": "display_data"
    },
    {
     "data": {
      "text/html": [
       "<pre style=\"white-space:pre;overflow-x:auto;line-height:normal;font-family:Menlo,'DejaVu Sans Mono',consolas,'Courier New',monospace\"><span style=\"color: #008080; text-decoration-color: #008080; font-weight: bold\">8.526256561279297</span>\n",
       "</pre>\n"
      ],
      "text/plain": [
       "\u001b[1;36m8.526256561279297\u001b[0m\n"
      ]
     },
     "metadata": {},
     "output_type": "display_data"
    },
    {
     "data": {
      "text/html": [
       "<pre style=\"white-space:pre;overflow-x:auto;line-height:normal;font-family:Menlo,'DejaVu Sans Mono',consolas,'Courier New',monospace\"><span style=\"color: #008080; text-decoration-color: #008080; font-weight: bold\">8.585600852966309</span>\n",
       "</pre>\n"
      ],
      "text/plain": [
       "\u001b[1;36m8.585600852966309\u001b[0m\n"
      ]
     },
     "metadata": {},
     "output_type": "display_data"
    },
    {
     "data": {
      "text/html": [
       "<pre style=\"white-space:pre;overflow-x:auto;line-height:normal;font-family:Menlo,'DejaVu Sans Mono',consolas,'Courier New',monospace\"><span style=\"color: #008080; text-decoration-color: #008080; font-weight: bold\">8.599808692932129</span>\n",
       "</pre>\n"
      ],
      "text/plain": [
       "\u001b[1;36m8.599808692932129\u001b[0m\n"
      ]
     },
     "metadata": {},
     "output_type": "display_data"
    },
    {
     "data": {
      "text/html": [
       "<pre style=\"white-space:pre;overflow-x:auto;line-height:normal;font-family:Menlo,'DejaVu Sans Mono',consolas,'Courier New',monospace\"><span style=\"color: #008080; text-decoration-color: #008080; font-weight: bold\">7.238353252410889</span>\n",
       "</pre>\n"
      ],
      "text/plain": [
       "\u001b[1;36m7.238353252410889\u001b[0m\n"
      ]
     },
     "metadata": {},
     "output_type": "display_data"
    },
    {
     "data": {
      "text/html": [
       "<pre style=\"white-space:pre;overflow-x:auto;line-height:normal;font-family:Menlo,'DejaVu Sans Mono',consolas,'Courier New',monospace\"><span style=\"color: #008080; text-decoration-color: #008080; font-weight: bold\">10.277055740356445</span>\n",
       "</pre>\n"
      ],
      "text/plain": [
       "\u001b[1;36m10.277055740356445\u001b[0m\n"
      ]
     },
     "metadata": {},
     "output_type": "display_data"
    },
    {
     "data": {
      "text/html": [
       "<pre style=\"white-space:pre;overflow-x:auto;line-height:normal;font-family:Menlo,'DejaVu Sans Mono',consolas,'Courier New',monospace\"><span style=\"color: #008080; text-decoration-color: #008080; font-weight: bold\">11.222267150878906</span>\n",
       "</pre>\n"
      ],
      "text/plain": [
       "\u001b[1;36m11.222267150878906\u001b[0m\n"
      ]
     },
     "metadata": {},
     "output_type": "display_data"
    },
    {
     "data": {
      "text/html": [
       "<pre style=\"white-space:pre;overflow-x:auto;line-height:normal;font-family:Menlo,'DejaVu Sans Mono',consolas,'Courier New',monospace\"><span style=\"color: #008080; text-decoration-color: #008080; font-weight: bold\">8.401968002319336</span>\n",
       "</pre>\n"
      ],
      "text/plain": [
       "\u001b[1;36m8.401968002319336\u001b[0m\n"
      ]
     },
     "metadata": {},
     "output_type": "display_data"
    },
    {
     "data": {
      "text/html": [
       "<pre style=\"white-space:pre;overflow-x:auto;line-height:normal;font-family:Menlo,'DejaVu Sans Mono',consolas,'Courier New',monospace\"><span style=\"color: #008080; text-decoration-color: #008080; font-weight: bold\">12.263262748718262</span>\n",
       "</pre>\n"
      ],
      "text/plain": [
       "\u001b[1;36m12.263262748718262\u001b[0m\n"
      ]
     },
     "metadata": {},
     "output_type": "display_data"
    },
    {
     "data": {
      "text/html": [
       "<pre style=\"white-space:pre;overflow-x:auto;line-height:normal;font-family:Menlo,'DejaVu Sans Mono',consolas,'Courier New',monospace\"><span style=\"color: #008080; text-decoration-color: #008080; font-weight: bold\">9.596739768981934</span>\n",
       "</pre>\n"
      ],
      "text/plain": [
       "\u001b[1;36m9.596739768981934\u001b[0m\n"
      ]
     },
     "metadata": {},
     "output_type": "display_data"
    },
    {
     "data": {
      "text/html": [
       "<pre style=\"white-space:pre;overflow-x:auto;line-height:normal;font-family:Menlo,'DejaVu Sans Mono',consolas,'Courier New',monospace\"><span style=\"color: #008080; text-decoration-color: #008080; font-weight: bold\">8.914466857910156</span>\n",
       "</pre>\n"
      ],
      "text/plain": [
       "\u001b[1;36m8.914466857910156\u001b[0m\n"
      ]
     },
     "metadata": {},
     "output_type": "display_data"
    },
    {
     "data": {
      "text/html": [
       "<pre style=\"white-space:pre;overflow-x:auto;line-height:normal;font-family:Menlo,'DejaVu Sans Mono',consolas,'Courier New',monospace\"><span style=\"color: #008080; text-decoration-color: #008080; font-weight: bold\">7.447011947631836</span>\n",
       "</pre>\n"
      ],
      "text/plain": [
       "\u001b[1;36m7.447011947631836\u001b[0m\n"
      ]
     },
     "metadata": {},
     "output_type": "display_data"
    },
    {
     "data": {
      "text/html": [
       "<pre style=\"white-space:pre;overflow-x:auto;line-height:normal;font-family:Menlo,'DejaVu Sans Mono',consolas,'Courier New',monospace\"><span style=\"color: #008080; text-decoration-color: #008080; font-weight: bold\">8.390132904052734</span>\n",
       "</pre>\n"
      ],
      "text/plain": [
       "\u001b[1;36m8.390132904052734\u001b[0m\n"
      ]
     },
     "metadata": {},
     "output_type": "display_data"
    },
    {
     "data": {
      "text/html": [
       "<pre style=\"white-space:pre;overflow-x:auto;line-height:normal;font-family:Menlo,'DejaVu Sans Mono',consolas,'Courier New',monospace\"><span style=\"color: #008080; text-decoration-color: #008080; font-weight: bold\">9.006266593933105</span>\n",
       "</pre>\n"
      ],
      "text/plain": [
       "\u001b[1;36m9.006266593933105\u001b[0m\n"
      ]
     },
     "metadata": {},
     "output_type": "display_data"
    },
    {
     "data": {
      "text/html": [
       "<pre style=\"white-space:pre;overflow-x:auto;line-height:normal;font-family:Menlo,'DejaVu Sans Mono',consolas,'Courier New',monospace\"><span style=\"color: #008080; text-decoration-color: #008080; font-weight: bold\">10.928899765014648</span>\n",
       "</pre>\n"
      ],
      "text/plain": [
       "\u001b[1;36m10.928899765014648\u001b[0m\n"
      ]
     },
     "metadata": {},
     "output_type": "display_data"
    },
    {
     "data": {
      "text/html": [
       "<pre style=\"white-space:pre;overflow-x:auto;line-height:normal;font-family:Menlo,'DejaVu Sans Mono',consolas,'Courier New',monospace\"><span style=\"color: #008080; text-decoration-color: #008080; font-weight: bold\">8.826053619384766</span>\n",
       "</pre>\n"
      ],
      "text/plain": [
       "\u001b[1;36m8.826053619384766\u001b[0m\n"
      ]
     },
     "metadata": {},
     "output_type": "display_data"
    },
    {
     "data": {
      "text/html": [
       "<pre style=\"white-space:pre;overflow-x:auto;line-height:normal;font-family:Menlo,'DejaVu Sans Mono',consolas,'Courier New',monospace\"><span style=\"color: #008080; text-decoration-color: #008080; font-weight: bold\">10.818211555480957</span>\n",
       "</pre>\n"
      ],
      "text/plain": [
       "\u001b[1;36m10.818211555480957\u001b[0m\n"
      ]
     },
     "metadata": {},
     "output_type": "display_data"
    },
    {
     "data": {
      "text/html": [
       "<pre style=\"white-space:pre;overflow-x:auto;line-height:normal;font-family:Menlo,'DejaVu Sans Mono',consolas,'Courier New',monospace\"><span style=\"color: #008080; text-decoration-color: #008080; font-weight: bold\">8.960731506347656</span>\n",
       "</pre>\n"
      ],
      "text/plain": [
       "\u001b[1;36m8.960731506347656\u001b[0m\n"
      ]
     },
     "metadata": {},
     "output_type": "display_data"
    },
    {
     "data": {
      "text/html": [
       "<pre style=\"white-space:pre;overflow-x:auto;line-height:normal;font-family:Menlo,'DejaVu Sans Mono',consolas,'Courier New',monospace\"><span style=\"color: #008080; text-decoration-color: #008080; font-weight: bold\">10.464555740356445</span>\n",
       "</pre>\n"
      ],
      "text/plain": [
       "\u001b[1;36m10.464555740356445\u001b[0m\n"
      ]
     },
     "metadata": {},
     "output_type": "display_data"
    },
    {
     "data": {
      "text/html": [
       "<pre style=\"white-space:pre;overflow-x:auto;line-height:normal;font-family:Menlo,'DejaVu Sans Mono',consolas,'Courier New',monospace\"><span style=\"color: #008080; text-decoration-color: #008080; font-weight: bold\">9.895048141479492</span>\n",
       "</pre>\n"
      ],
      "text/plain": [
       "\u001b[1;36m9.895048141479492\u001b[0m\n"
      ]
     },
     "metadata": {},
     "output_type": "display_data"
    },
    {
     "data": {
      "text/html": [
       "<pre style=\"white-space:pre;overflow-x:auto;line-height:normal;font-family:Menlo,'DejaVu Sans Mono',consolas,'Courier New',monospace\"><span style=\"color: #008080; text-decoration-color: #008080; font-weight: bold\">9.146349906921387</span>\n",
       "</pre>\n"
      ],
      "text/plain": [
       "\u001b[1;36m9.146349906921387\u001b[0m\n"
      ]
     },
     "metadata": {},
     "output_type": "display_data"
    },
    {
     "data": {
      "text/html": [
       "<pre style=\"white-space:pre;overflow-x:auto;line-height:normal;font-family:Menlo,'DejaVu Sans Mono',consolas,'Courier New',monospace\"><span style=\"color: #008080; text-decoration-color: #008080; font-weight: bold\">9.828166007995605</span>\n",
       "</pre>\n"
      ],
      "text/plain": [
       "\u001b[1;36m9.828166007995605\u001b[0m\n"
      ]
     },
     "metadata": {},
     "output_type": "display_data"
    },
    {
     "data": {
      "text/html": [
       "<pre style=\"white-space:pre;overflow-x:auto;line-height:normal;font-family:Menlo,'DejaVu Sans Mono',consolas,'Courier New',monospace\"><span style=\"color: #008080; text-decoration-color: #008080; font-weight: bold\">9.657388687133789</span>\n",
       "</pre>\n"
      ],
      "text/plain": [
       "\u001b[1;36m9.657388687133789\u001b[0m\n"
      ]
     },
     "metadata": {},
     "output_type": "display_data"
    },
    {
     "data": {
      "text/html": [
       "<pre style=\"white-space:pre;overflow-x:auto;line-height:normal;font-family:Menlo,'DejaVu Sans Mono',consolas,'Courier New',monospace\"><span style=\"color: #008080; text-decoration-color: #008080; font-weight: bold\">11.057379722595215</span>\n",
       "</pre>\n"
      ],
      "text/plain": [
       "\u001b[1;36m11.057379722595215\u001b[0m\n"
      ]
     },
     "metadata": {},
     "output_type": "display_data"
    },
    {
     "data": {
      "text/html": [
       "<pre style=\"white-space:pre;overflow-x:auto;line-height:normal;font-family:Menlo,'DejaVu Sans Mono',consolas,'Courier New',monospace\"><span style=\"color: #008080; text-decoration-color: #008080; font-weight: bold\">11.779601097106934</span>\n",
       "</pre>\n"
      ],
      "text/plain": [
       "\u001b[1;36m11.779601097106934\u001b[0m\n"
      ]
     },
     "metadata": {},
     "output_type": "display_data"
    },
    {
     "data": {
      "text/html": [
       "<pre style=\"white-space:pre;overflow-x:auto;line-height:normal;font-family:Menlo,'DejaVu Sans Mono',consolas,'Courier New',monospace\"><span style=\"color: #008080; text-decoration-color: #008080; font-weight: bold\">9.626520156860352</span>\n",
       "</pre>\n"
      ],
      "text/plain": [
       "\u001b[1;36m9.626520156860352\u001b[0m\n"
      ]
     },
     "metadata": {},
     "output_type": "display_data"
    },
    {
     "data": {
      "text/html": [
       "<pre style=\"white-space:pre;overflow-x:auto;line-height:normal;font-family:Menlo,'DejaVu Sans Mono',consolas,'Courier New',monospace\"><span style=\"color: #008080; text-decoration-color: #008080; font-weight: bold\">12.079124450683594</span>\n",
       "</pre>\n"
      ],
      "text/plain": [
       "\u001b[1;36m12.079124450683594\u001b[0m\n"
      ]
     },
     "metadata": {},
     "output_type": "display_data"
    },
    {
     "data": {
      "text/html": [
       "<pre style=\"white-space:pre;overflow-x:auto;line-height:normal;font-family:Menlo,'DejaVu Sans Mono',consolas,'Courier New',monospace\"><span style=\"color: #008080; text-decoration-color: #008080; font-weight: bold\">10.157666206359863</span>\n",
       "</pre>\n"
      ],
      "text/plain": [
       "\u001b[1;36m10.157666206359863\u001b[0m\n"
      ]
     },
     "metadata": {},
     "output_type": "display_data"
    },
    {
     "data": {
      "text/html": [
       "<pre style=\"white-space:pre;overflow-x:auto;line-height:normal;font-family:Menlo,'DejaVu Sans Mono',consolas,'Courier New',monospace\"><span style=\"color: #008080; text-decoration-color: #008080; font-weight: bold\">10.510750770568848</span>\n",
       "</pre>\n"
      ],
      "text/plain": [
       "\u001b[1;36m10.510750770568848\u001b[0m\n"
      ]
     },
     "metadata": {},
     "output_type": "display_data"
    },
    {
     "data": {
      "text/html": [
       "<pre style=\"white-space:pre;overflow-x:auto;line-height:normal;font-family:Menlo,'DejaVu Sans Mono',consolas,'Courier New',monospace\"><span style=\"color: #008080; text-decoration-color: #008080; font-weight: bold\">7.288343906402588</span>\n",
       "</pre>\n"
      ],
      "text/plain": [
       "\u001b[1;36m7.288343906402588\u001b[0m\n"
      ]
     },
     "metadata": {},
     "output_type": "display_data"
    },
    {
     "data": {
      "text/html": [
       "<pre style=\"white-space:pre;overflow-x:auto;line-height:normal;font-family:Menlo,'DejaVu Sans Mono',consolas,'Courier New',monospace\"><span style=\"color: #008080; text-decoration-color: #008080; font-weight: bold\">9.157801628112793</span>\n",
       "</pre>\n"
      ],
      "text/plain": [
       "\u001b[1;36m9.157801628112793\u001b[0m\n"
      ]
     },
     "metadata": {},
     "output_type": "display_data"
    },
    {
     "data": {
      "text/html": [
       "<pre style=\"white-space:pre;overflow-x:auto;line-height:normal;font-family:Menlo,'DejaVu Sans Mono',consolas,'Courier New',monospace\"><span style=\"color: #008080; text-decoration-color: #008080; font-weight: bold\">10.79643440246582</span>\n",
       "</pre>\n"
      ],
      "text/plain": [
       "\u001b[1;36m10.79643440246582\u001b[0m\n"
      ]
     },
     "metadata": {},
     "output_type": "display_data"
    },
    {
     "data": {
      "text/html": [
       "<pre style=\"white-space:pre;overflow-x:auto;line-height:normal;font-family:Menlo,'DejaVu Sans Mono',consolas,'Courier New',monospace\"><span style=\"color: #008080; text-decoration-color: #008080; font-weight: bold\">9.7307767868042</span>\n",
       "</pre>\n"
      ],
      "text/plain": [
       "\u001b[1;36m9.7307767868042\u001b[0m\n"
      ]
     },
     "metadata": {},
     "output_type": "display_data"
    },
    {
     "data": {
      "text/html": [
       "<pre style=\"white-space:pre;overflow-x:auto;line-height:normal;font-family:Menlo,'DejaVu Sans Mono',consolas,'Courier New',monospace\"><span style=\"color: #008080; text-decoration-color: #008080; font-weight: bold\">7.377813339233398</span>\n",
       "</pre>\n"
      ],
      "text/plain": [
       "\u001b[1;36m7.377813339233398\u001b[0m\n"
      ]
     },
     "metadata": {},
     "output_type": "display_data"
    },
    {
     "data": {
      "text/html": [
       "<pre style=\"white-space:pre;overflow-x:auto;line-height:normal;font-family:Menlo,'DejaVu Sans Mono',consolas,'Courier New',monospace\"><span style=\"color: #008080; text-decoration-color: #008080; font-weight: bold\">8.90126895904541</span>\n",
       "</pre>\n"
      ],
      "text/plain": [
       "\u001b[1;36m8.90126895904541\u001b[0m\n"
      ]
     },
     "metadata": {},
     "output_type": "display_data"
    },
    {
     "data": {
      "text/html": [
       "<pre style=\"white-space:pre;overflow-x:auto;line-height:normal;font-family:Menlo,'DejaVu Sans Mono',consolas,'Courier New',monospace\"><span style=\"color: #008080; text-decoration-color: #008080; font-weight: bold\">6.9252166748046875</span>\n",
       "</pre>\n"
      ],
      "text/plain": [
       "\u001b[1;36m6.9252166748046875\u001b[0m\n"
      ]
     },
     "metadata": {},
     "output_type": "display_data"
    },
    {
     "data": {
      "text/html": [
       "<pre style=\"white-space:pre;overflow-x:auto;line-height:normal;font-family:Menlo,'DejaVu Sans Mono',consolas,'Courier New',monospace\"><span style=\"color: #008080; text-decoration-color: #008080; font-weight: bold\">8.585623741149902</span>\n",
       "</pre>\n"
      ],
      "text/plain": [
       "\u001b[1;36m8.585623741149902\u001b[0m\n"
      ]
     },
     "metadata": {},
     "output_type": "display_data"
    },
    {
     "data": {
      "text/html": [
       "<pre style=\"white-space:pre;overflow-x:auto;line-height:normal;font-family:Menlo,'DejaVu Sans Mono',consolas,'Courier New',monospace\"><span style=\"color: #008080; text-decoration-color: #008080; font-weight: bold\">5.940133094787598</span>\n",
       "</pre>\n"
      ],
      "text/plain": [
       "\u001b[1;36m5.940133094787598\u001b[0m\n"
      ]
     },
     "metadata": {},
     "output_type": "display_data"
    },
    {
     "data": {
      "text/html": [
       "<pre style=\"white-space:pre;overflow-x:auto;line-height:normal;font-family:Menlo,'DejaVu Sans Mono',consolas,'Courier New',monospace\"><span style=\"color: #008080; text-decoration-color: #008080; font-weight: bold\">11.175277709960938</span>\n",
       "</pre>\n"
      ],
      "text/plain": [
       "\u001b[1;36m11.175277709960938\u001b[0m\n"
      ]
     },
     "metadata": {},
     "output_type": "display_data"
    },
    {
     "data": {
      "text/html": [
       "<pre style=\"white-space:pre;overflow-x:auto;line-height:normal;font-family:Menlo,'DejaVu Sans Mono',consolas,'Courier New',monospace\"><span style=\"color: #008080; text-decoration-color: #008080; font-weight: bold\">8.790698051452637</span>\n",
       "</pre>\n"
      ],
      "text/plain": [
       "\u001b[1;36m8.790698051452637\u001b[0m\n"
      ]
     },
     "metadata": {},
     "output_type": "display_data"
    },
    {
     "data": {
      "text/html": [
       "<pre style=\"white-space:pre;overflow-x:auto;line-height:normal;font-family:Menlo,'DejaVu Sans Mono',consolas,'Courier New',monospace\"><span style=\"color: #008080; text-decoration-color: #008080; font-weight: bold\">8.79421329498291</span>\n",
       "</pre>\n"
      ],
      "text/plain": [
       "\u001b[1;36m8.79421329498291\u001b[0m\n"
      ]
     },
     "metadata": {},
     "output_type": "display_data"
    },
    {
     "data": {
      "text/html": [
       "<pre style=\"white-space:pre;overflow-x:auto;line-height:normal;font-family:Menlo,'DejaVu Sans Mono',consolas,'Courier New',monospace\"><span style=\"color: #008080; text-decoration-color: #008080; font-weight: bold\">6.400926113128662</span>\n",
       "</pre>\n"
      ],
      "text/plain": [
       "\u001b[1;36m6.400926113128662\u001b[0m\n"
      ]
     },
     "metadata": {},
     "output_type": "display_data"
    },
    {
     "data": {
      "text/html": [
       "<pre style=\"white-space:pre;overflow-x:auto;line-height:normal;font-family:Menlo,'DejaVu Sans Mono',consolas,'Courier New',monospace\"><span style=\"color: #008080; text-decoration-color: #008080; font-weight: bold\">9.390056610107422</span>\n",
       "</pre>\n"
      ],
      "text/plain": [
       "\u001b[1;36m9.390056610107422\u001b[0m\n"
      ]
     },
     "metadata": {},
     "output_type": "display_data"
    },
    {
     "data": {
      "text/html": [
       "<pre style=\"white-space:pre;overflow-x:auto;line-height:normal;font-family:Menlo,'DejaVu Sans Mono',consolas,'Courier New',monospace\"><span style=\"color: #008080; text-decoration-color: #008080; font-weight: bold\">8.232134819030762</span>\n",
       "</pre>\n"
      ],
      "text/plain": [
       "\u001b[1;36m8.232134819030762\u001b[0m\n"
      ]
     },
     "metadata": {},
     "output_type": "display_data"
    },
    {
     "data": {
      "text/html": [
       "<pre style=\"white-space:pre;overflow-x:auto;line-height:normal;font-family:Menlo,'DejaVu Sans Mono',consolas,'Courier New',monospace\"><span style=\"color: #008080; text-decoration-color: #008080; font-weight: bold\">7.604208469390869</span>\n",
       "</pre>\n"
      ],
      "text/plain": [
       "\u001b[1;36m7.604208469390869\u001b[0m\n"
      ]
     },
     "metadata": {},
     "output_type": "display_data"
    },
    {
     "data": {
      "text/html": [
       "<pre style=\"white-space:pre;overflow-x:auto;line-height:normal;font-family:Menlo,'DejaVu Sans Mono',consolas,'Courier New',monospace\"><span style=\"color: #008080; text-decoration-color: #008080; font-weight: bold\">11.635899543762207</span>\n",
       "</pre>\n"
      ],
      "text/plain": [
       "\u001b[1;36m11.635899543762207\u001b[0m\n"
      ]
     },
     "metadata": {},
     "output_type": "display_data"
    },
    {
     "data": {
      "text/html": [
       "<pre style=\"white-space:pre;overflow-x:auto;line-height:normal;font-family:Menlo,'DejaVu Sans Mono',consolas,'Courier New',monospace\"><span style=\"color: #008080; text-decoration-color: #008080; font-weight: bold\">8.385150909423828</span>\n",
       "</pre>\n"
      ],
      "text/plain": [
       "\u001b[1;36m8.385150909423828\u001b[0m\n"
      ]
     },
     "metadata": {},
     "output_type": "display_data"
    },
    {
     "data": {
      "text/html": [
       "<pre style=\"white-space:pre;overflow-x:auto;line-height:normal;font-family:Menlo,'DejaVu Sans Mono',consolas,'Courier New',monospace\"><span style=\"color: #008080; text-decoration-color: #008080; font-weight: bold\">7.61635684967041</span>\n",
       "</pre>\n"
      ],
      "text/plain": [
       "\u001b[1;36m7.61635684967041\u001b[0m\n"
      ]
     },
     "metadata": {},
     "output_type": "display_data"
    },
    {
     "data": {
      "text/html": [
       "<pre style=\"white-space:pre;overflow-x:auto;line-height:normal;font-family:Menlo,'DejaVu Sans Mono',consolas,'Courier New',monospace\"><span style=\"color: #008080; text-decoration-color: #008080; font-weight: bold\">11.110309600830078</span>\n",
       "</pre>\n"
      ],
      "text/plain": [
       "\u001b[1;36m11.110309600830078\u001b[0m\n"
      ]
     },
     "metadata": {},
     "output_type": "display_data"
    },
    {
     "data": {
      "text/html": [
       "<pre style=\"white-space:pre;overflow-x:auto;line-height:normal;font-family:Menlo,'DejaVu Sans Mono',consolas,'Courier New',monospace\"><span style=\"color: #008080; text-decoration-color: #008080; font-weight: bold\">8.195934295654297</span>\n",
       "</pre>\n"
      ],
      "text/plain": [
       "\u001b[1;36m8.195934295654297\u001b[0m\n"
      ]
     },
     "metadata": {},
     "output_type": "display_data"
    },
    {
     "data": {
      "text/html": [
       "<pre style=\"white-space:pre;overflow-x:auto;line-height:normal;font-family:Menlo,'DejaVu Sans Mono',consolas,'Courier New',monospace\"><span style=\"color: #008080; text-decoration-color: #008080; font-weight: bold\">8.883593559265137</span>\n",
       "</pre>\n"
      ],
      "text/plain": [
       "\u001b[1;36m8.883593559265137\u001b[0m\n"
      ]
     },
     "metadata": {},
     "output_type": "display_data"
    },
    {
     "data": {
      "text/html": [
       "<pre style=\"white-space:pre;overflow-x:auto;line-height:normal;font-family:Menlo,'DejaVu Sans Mono',consolas,'Courier New',monospace\"><span style=\"color: #008080; text-decoration-color: #008080; font-weight: bold\">9.026359558105469</span>\n",
       "</pre>\n"
      ],
      "text/plain": [
       "\u001b[1;36m9.026359558105469\u001b[0m\n"
      ]
     },
     "metadata": {},
     "output_type": "display_data"
    },
    {
     "data": {
      "text/html": [
       "<pre style=\"white-space:pre;overflow-x:auto;line-height:normal;font-family:Menlo,'DejaVu Sans Mono',consolas,'Courier New',monospace\"><span style=\"color: #008080; text-decoration-color: #008080; font-weight: bold\">9.291215896606445</span>\n",
       "</pre>\n"
      ],
      "text/plain": [
       "\u001b[1;36m9.291215896606445\u001b[0m\n"
      ]
     },
     "metadata": {},
     "output_type": "display_data"
    },
    {
     "data": {
      "text/html": [
       "<pre style=\"white-space:pre;overflow-x:auto;line-height:normal;font-family:Menlo,'DejaVu Sans Mono',consolas,'Courier New',monospace\"><span style=\"color: #008080; text-decoration-color: #008080; font-weight: bold\">9.069995880126953</span>\n",
       "</pre>\n"
      ],
      "text/plain": [
       "\u001b[1;36m9.069995880126953\u001b[0m\n"
      ]
     },
     "metadata": {},
     "output_type": "display_data"
    },
    {
     "data": {
      "text/html": [
       "<pre style=\"white-space:pre;overflow-x:auto;line-height:normal;font-family:Menlo,'DejaVu Sans Mono',consolas,'Courier New',monospace\"><span style=\"color: #008080; text-decoration-color: #008080; font-weight: bold\">7.059180736541748</span>\n",
       "</pre>\n"
      ],
      "text/plain": [
       "\u001b[1;36m7.059180736541748\u001b[0m\n"
      ]
     },
     "metadata": {},
     "output_type": "display_data"
    },
    {
     "data": {
      "text/html": [
       "<pre style=\"white-space:pre;overflow-x:auto;line-height:normal;font-family:Menlo,'DejaVu Sans Mono',consolas,'Courier New',monospace\"><span style=\"color: #008080; text-decoration-color: #008080; font-weight: bold\">7.9250664710998535</span>\n",
       "</pre>\n"
      ],
      "text/plain": [
       "\u001b[1;36m7.9250664710998535\u001b[0m\n"
      ]
     },
     "metadata": {},
     "output_type": "display_data"
    },
    {
     "data": {
      "text/html": [
       "<pre style=\"white-space:pre;overflow-x:auto;line-height:normal;font-family:Menlo,'DejaVu Sans Mono',consolas,'Courier New',monospace\"><span style=\"color: #008080; text-decoration-color: #008080; font-weight: bold\">7.074198246002197</span>\n",
       "</pre>\n"
      ],
      "text/plain": [
       "\u001b[1;36m7.074198246002197\u001b[0m\n"
      ]
     },
     "metadata": {},
     "output_type": "display_data"
    },
    {
     "data": {
      "text/html": [
       "<pre style=\"white-space:pre;overflow-x:auto;line-height:normal;font-family:Menlo,'DejaVu Sans Mono',consolas,'Courier New',monospace\"><span style=\"color: #008080; text-decoration-color: #008080; font-weight: bold\">5.54173469543457</span>\n",
       "</pre>\n"
      ],
      "text/plain": [
       "\u001b[1;36m5.54173469543457\u001b[0m\n"
      ]
     },
     "metadata": {},
     "output_type": "display_data"
    },
    {
     "data": {
      "text/html": [
       "<pre style=\"white-space:pre;overflow-x:auto;line-height:normal;font-family:Menlo,'DejaVu Sans Mono',consolas,'Courier New',monospace\"><span style=\"color: #008080; text-decoration-color: #008080; font-weight: bold\">8.047550201416016</span>\n",
       "</pre>\n"
      ],
      "text/plain": [
       "\u001b[1;36m8.047550201416016\u001b[0m\n"
      ]
     },
     "metadata": {},
     "output_type": "display_data"
    },
    {
     "data": {
      "text/html": [
       "<pre style=\"white-space:pre;overflow-x:auto;line-height:normal;font-family:Menlo,'DejaVu Sans Mono',consolas,'Courier New',monospace\"><span style=\"color: #008080; text-decoration-color: #008080; font-weight: bold\">9.206929206848145</span>\n",
       "</pre>\n"
      ],
      "text/plain": [
       "\u001b[1;36m9.206929206848145\u001b[0m\n"
      ]
     },
     "metadata": {},
     "output_type": "display_data"
    },
    {
     "data": {
      "text/html": [
       "<pre style=\"white-space:pre;overflow-x:auto;line-height:normal;font-family:Menlo,'DejaVu Sans Mono',consolas,'Courier New',monospace\"><span style=\"color: #008080; text-decoration-color: #008080; font-weight: bold\">5.927646160125732</span>\n",
       "</pre>\n"
      ],
      "text/plain": [
       "\u001b[1;36m5.927646160125732\u001b[0m\n"
      ]
     },
     "metadata": {},
     "output_type": "display_data"
    },
    {
     "data": {
      "text/html": [
       "<pre style=\"white-space:pre;overflow-x:auto;line-height:normal;font-family:Menlo,'DejaVu Sans Mono',consolas,'Courier New',monospace\"><span style=\"color: #008080; text-decoration-color: #008080; font-weight: bold\">8.086305618286133</span>\n",
       "</pre>\n"
      ],
      "text/plain": [
       "\u001b[1;36m8.086305618286133\u001b[0m\n"
      ]
     },
     "metadata": {},
     "output_type": "display_data"
    },
    {
     "data": {
      "text/html": [
       "<pre style=\"white-space:pre;overflow-x:auto;line-height:normal;font-family:Menlo,'DejaVu Sans Mono',consolas,'Courier New',monospace\"><span style=\"color: #008080; text-decoration-color: #008080; font-weight: bold\">10.902512550354004</span>\n",
       "</pre>\n"
      ],
      "text/plain": [
       "\u001b[1;36m10.902512550354004\u001b[0m\n"
      ]
     },
     "metadata": {},
     "output_type": "display_data"
    },
    {
     "data": {
      "text/html": [
       "<pre style=\"white-space:pre;overflow-x:auto;line-height:normal;font-family:Menlo,'DejaVu Sans Mono',consolas,'Courier New',monospace\"><span style=\"color: #008080; text-decoration-color: #008080; font-weight: bold\">8.214250564575195</span>\n",
       "</pre>\n"
      ],
      "text/plain": [
       "\u001b[1;36m8.214250564575195\u001b[0m\n"
      ]
     },
     "metadata": {},
     "output_type": "display_data"
    },
    {
     "data": {
      "text/html": [
       "<pre style=\"white-space:pre;overflow-x:auto;line-height:normal;font-family:Menlo,'DejaVu Sans Mono',consolas,'Courier New',monospace\"><span style=\"color: #008080; text-decoration-color: #008080; font-weight: bold\">5.934093475341797</span>\n",
       "</pre>\n"
      ],
      "text/plain": [
       "\u001b[1;36m5.934093475341797\u001b[0m\n"
      ]
     },
     "metadata": {},
     "output_type": "display_data"
    },
    {
     "data": {
      "text/html": [
       "<pre style=\"white-space:pre;overflow-x:auto;line-height:normal;font-family:Menlo,'DejaVu Sans Mono',consolas,'Courier New',monospace\"><span style=\"color: #008080; text-decoration-color: #008080; font-weight: bold\">7.36422872543335</span>\n",
       "</pre>\n"
      ],
      "text/plain": [
       "\u001b[1;36m7.36422872543335\u001b[0m\n"
      ]
     },
     "metadata": {},
     "output_type": "display_data"
    },
    {
     "data": {
      "text/html": [
       "<pre style=\"white-space:pre;overflow-x:auto;line-height:normal;font-family:Menlo,'DejaVu Sans Mono',consolas,'Courier New',monospace\"><span style=\"color: #008080; text-decoration-color: #008080; font-weight: bold\">7.87753438949585</span>\n",
       "</pre>\n"
      ],
      "text/plain": [
       "\u001b[1;36m7.87753438949585\u001b[0m\n"
      ]
     },
     "metadata": {},
     "output_type": "display_data"
    },
    {
     "data": {
      "text/html": [
       "<pre style=\"white-space:pre;overflow-x:auto;line-height:normal;font-family:Menlo,'DejaVu Sans Mono',consolas,'Courier New',monospace\"><span style=\"color: #008080; text-decoration-color: #008080; font-weight: bold\">9.3895263671875</span>\n",
       "</pre>\n"
      ],
      "text/plain": [
       "\u001b[1;36m9.3895263671875\u001b[0m\n"
      ]
     },
     "metadata": {},
     "output_type": "display_data"
    },
    {
     "data": {
      "text/html": [
       "<pre style=\"white-space:pre;overflow-x:auto;line-height:normal;font-family:Menlo,'DejaVu Sans Mono',consolas,'Courier New',monospace\"><span style=\"color: #008080; text-decoration-color: #008080; font-weight: bold\">7.487529754638672</span>\n",
       "</pre>\n"
      ],
      "text/plain": [
       "\u001b[1;36m7.487529754638672\u001b[0m\n"
      ]
     },
     "metadata": {},
     "output_type": "display_data"
    },
    {
     "data": {
      "text/html": [
       "<pre style=\"white-space:pre;overflow-x:auto;line-height:normal;font-family:Menlo,'DejaVu Sans Mono',consolas,'Courier New',monospace\"><span style=\"color: #008080; text-decoration-color: #008080; font-weight: bold\">7.65749454498291</span>\n",
       "</pre>\n"
      ],
      "text/plain": [
       "\u001b[1;36m7.65749454498291\u001b[0m\n"
      ]
     },
     "metadata": {},
     "output_type": "display_data"
    },
    {
     "data": {
      "text/html": [
       "<pre style=\"white-space:pre;overflow-x:auto;line-height:normal;font-family:Menlo,'DejaVu Sans Mono',consolas,'Courier New',monospace\"><span style=\"color: #008080; text-decoration-color: #008080; font-weight: bold\">7.1809916496276855</span>\n",
       "</pre>\n"
      ],
      "text/plain": [
       "\u001b[1;36m7.1809916496276855\u001b[0m\n"
      ]
     },
     "metadata": {},
     "output_type": "display_data"
    },
    {
     "data": {
      "text/html": [
       "<pre style=\"white-space:pre;overflow-x:auto;line-height:normal;font-family:Menlo,'DejaVu Sans Mono',consolas,'Courier New',monospace\"><span style=\"color: #008080; text-decoration-color: #008080; font-weight: bold\">7.551138877868652</span>\n",
       "</pre>\n"
      ],
      "text/plain": [
       "\u001b[1;36m7.551138877868652\u001b[0m\n"
      ]
     },
     "metadata": {},
     "output_type": "display_data"
    },
    {
     "data": {
      "text/html": [
       "<pre style=\"white-space:pre;overflow-x:auto;line-height:normal;font-family:Menlo,'DejaVu Sans Mono',consolas,'Courier New',monospace\"><span style=\"color: #008080; text-decoration-color: #008080; font-weight: bold\">7.282594203948975</span>\n",
       "</pre>\n"
      ],
      "text/plain": [
       "\u001b[1;36m7.282594203948975\u001b[0m\n"
      ]
     },
     "metadata": {},
     "output_type": "display_data"
    },
    {
     "data": {
      "text/html": [
       "<pre style=\"white-space:pre;overflow-x:auto;line-height:normal;font-family:Menlo,'DejaVu Sans Mono',consolas,'Courier New',monospace\"><span style=\"color: #008080; text-decoration-color: #008080; font-weight: bold\">7.792741298675537</span>\n",
       "</pre>\n"
      ],
      "text/plain": [
       "\u001b[1;36m7.792741298675537\u001b[0m\n"
      ]
     },
     "metadata": {},
     "output_type": "display_data"
    },
    {
     "data": {
      "text/html": [
       "<pre style=\"white-space:pre;overflow-x:auto;line-height:normal;font-family:Menlo,'DejaVu Sans Mono',consolas,'Courier New',monospace\"><span style=\"color: #008080; text-decoration-color: #008080; font-weight: bold\">8.060037612915039</span>\n",
       "</pre>\n"
      ],
      "text/plain": [
       "\u001b[1;36m8.060037612915039\u001b[0m\n"
      ]
     },
     "metadata": {},
     "output_type": "display_data"
    },
    {
     "data": {
      "text/html": [
       "<pre style=\"white-space:pre;overflow-x:auto;line-height:normal;font-family:Menlo,'DejaVu Sans Mono',consolas,'Courier New',monospace\"><span style=\"color: #008080; text-decoration-color: #008080; font-weight: bold\">7.456161975860596</span>\n",
       "</pre>\n"
      ],
      "text/plain": [
       "\u001b[1;36m7.456161975860596\u001b[0m\n"
      ]
     },
     "metadata": {},
     "output_type": "display_data"
    },
    {
     "data": {
      "text/html": [
       "<pre style=\"white-space:pre;overflow-x:auto;line-height:normal;font-family:Menlo,'DejaVu Sans Mono',consolas,'Courier New',monospace\"><span style=\"color: #008080; text-decoration-color: #008080; font-weight: bold\">7.980192184448242</span>\n",
       "</pre>\n"
      ],
      "text/plain": [
       "\u001b[1;36m7.980192184448242\u001b[0m\n"
      ]
     },
     "metadata": {},
     "output_type": "display_data"
    },
    {
     "data": {
      "text/html": [
       "<pre style=\"white-space:pre;overflow-x:auto;line-height:normal;font-family:Menlo,'DejaVu Sans Mono',consolas,'Courier New',monospace\"><span style=\"color: #008080; text-decoration-color: #008080; font-weight: bold\">4.748911380767822</span>\n",
       "</pre>\n"
      ],
      "text/plain": [
       "\u001b[1;36m4.748911380767822\u001b[0m\n"
      ]
     },
     "metadata": {},
     "output_type": "display_data"
    },
    {
     "data": {
      "text/html": [
       "<pre style=\"white-space:pre;overflow-x:auto;line-height:normal;font-family:Menlo,'DejaVu Sans Mono',consolas,'Courier New',monospace\"><span style=\"color: #008080; text-decoration-color: #008080; font-weight: bold\">8.45018196105957</span>\n",
       "</pre>\n"
      ],
      "text/plain": [
       "\u001b[1;36m8.45018196105957\u001b[0m\n"
      ]
     },
     "metadata": {},
     "output_type": "display_data"
    },
    {
     "data": {
      "text/html": [
       "<pre style=\"white-space:pre;overflow-x:auto;line-height:normal;font-family:Menlo,'DejaVu Sans Mono',consolas,'Courier New',monospace\"><span style=\"color: #008080; text-decoration-color: #008080; font-weight: bold\">7.393383026123047</span>\n",
       "</pre>\n"
      ],
      "text/plain": [
       "\u001b[1;36m7.393383026123047\u001b[0m\n"
      ]
     },
     "metadata": {},
     "output_type": "display_data"
    },
    {
     "data": {
      "text/html": [
       "<pre style=\"white-space:pre;overflow-x:auto;line-height:normal;font-family:Menlo,'DejaVu Sans Mono',consolas,'Courier New',monospace\"><span style=\"color: #008080; text-decoration-color: #008080; font-weight: bold\">7.372125625610352</span>\n",
       "</pre>\n"
      ],
      "text/plain": [
       "\u001b[1;36m7.372125625610352\u001b[0m\n"
      ]
     },
     "metadata": {},
     "output_type": "display_data"
    },
    {
     "data": {
      "text/html": [
       "<pre style=\"white-space:pre;overflow-x:auto;line-height:normal;font-family:Menlo,'DejaVu Sans Mono',consolas,'Courier New',monospace\"><span style=\"color: #008080; text-decoration-color: #008080; font-weight: bold\">7.169820785522461</span>\n",
       "</pre>\n"
      ],
      "text/plain": [
       "\u001b[1;36m7.169820785522461\u001b[0m\n"
      ]
     },
     "metadata": {},
     "output_type": "display_data"
    }
   ],
   "source": [
    "params, loss = train(100, X, Y, lr=1)"
   ]
  },
  {
   "cell_type": "code",
   "execution_count": null,
   "id": "40d30ae0",
   "metadata": {},
   "outputs": [
    {
     "data": {
      "text/html": [
       "<pre style=\"white-space:pre;overflow-x:auto;line-height:normal;font-family:Menlo,'DejaVu Sans Mono',consolas,'Courier New',monospace\">\n",
       "<span style=\"color: #800080; text-decoration-color: #800080; font-weight: bold\">tensor</span><span style=\"font-weight: bold\">([</span><span style=\"color: #008080; text-decoration-color: #008080; font-weight: bold\">0.0010</span>, <span style=\"color: #008080; text-decoration-color: #008080; font-weight: bold\">0.0010</span>, <span style=\"color: #008080; text-decoration-color: #008080; font-weight: bold\">0.0010</span>, <span style=\"color: #008080; text-decoration-color: #008080; font-weight: bold\">0.0010</span>, <span style=\"color: #008080; text-decoration-color: #008080; font-weight: bold\">0.0010</span>, <span style=\"color: #008080; text-decoration-color: #008080; font-weight: bold\">0.0010</span>, <span style=\"color: #008080; text-decoration-color: #008080; font-weight: bold\">0.0010</span>, <span style=\"color: #008080; text-decoration-color: #008080; font-weight: bold\">0.0010</span>, <span style=\"color: #008080; text-decoration-color: #008080; font-weight: bold\">0.0011</span>,\n",
       "        <span style=\"color: #008080; text-decoration-color: #008080; font-weight: bold\">0.0011</span>, <span style=\"color: #008080; text-decoration-color: #008080; font-weight: bold\">0.0011</span>, <span style=\"color: #008080; text-decoration-color: #008080; font-weight: bold\">0.0011</span>, <span style=\"color: #008080; text-decoration-color: #008080; font-weight: bold\">0.0011</span>, <span style=\"color: #008080; text-decoration-color: #008080; font-weight: bold\">0.0011</span>, <span style=\"color: #008080; text-decoration-color: #008080; font-weight: bold\">0.0011</span>, <span style=\"color: #008080; text-decoration-color: #008080; font-weight: bold\">0.0011</span>, <span style=\"color: #008080; text-decoration-color: #008080; font-weight: bold\">0.0011</span>, <span style=\"color: #008080; text-decoration-color: #008080; font-weight: bold\">0.0011</span>,\n",
       "        <span style=\"color: #008080; text-decoration-color: #008080; font-weight: bold\">0.0011</span>, <span style=\"color: #008080; text-decoration-color: #008080; font-weight: bold\">0.0011</span>, <span style=\"color: #008080; text-decoration-color: #008080; font-weight: bold\">0.0011</span>, <span style=\"color: #008080; text-decoration-color: #008080; font-weight: bold\">0.0012</span>, <span style=\"color: #008080; text-decoration-color: #008080; font-weight: bold\">0.0012</span>, <span style=\"color: #008080; text-decoration-color: #008080; font-weight: bold\">0.0012</span>, <span style=\"color: #008080; text-decoration-color: #008080; font-weight: bold\">0.0012</span>, <span style=\"color: #008080; text-decoration-color: #008080; font-weight: bold\">0.0012</span>, <span style=\"color: #008080; text-decoration-color: #008080; font-weight: bold\">0.0012</span>,\n",
       "        <span style=\"color: #008080; text-decoration-color: #008080; font-weight: bold\">0.0012</span>, <span style=\"color: #008080; text-decoration-color: #008080; font-weight: bold\">0.0012</span>, <span style=\"color: #008080; text-decoration-color: #008080; font-weight: bold\">0.0012</span>, <span style=\"color: #008080; text-decoration-color: #008080; font-weight: bold\">0.0012</span>, <span style=\"color: #008080; text-decoration-color: #008080; font-weight: bold\">0.0012</span>, <span style=\"color: #008080; text-decoration-color: #008080; font-weight: bold\">0.0012</span>, <span style=\"color: #008080; text-decoration-color: #008080; font-weight: bold\">0.0013</span>, <span style=\"color: #008080; text-decoration-color: #008080; font-weight: bold\">0.0013</span>, <span style=\"color: #008080; text-decoration-color: #008080; font-weight: bold\">0.0013</span>,\n",
       "        <span style=\"color: #008080; text-decoration-color: #008080; font-weight: bold\">0.0013</span>, <span style=\"color: #008080; text-decoration-color: #008080; font-weight: bold\">0.0013</span>, <span style=\"color: #008080; text-decoration-color: #008080; font-weight: bold\">0.0013</span>, <span style=\"color: #008080; text-decoration-color: #008080; font-weight: bold\">0.0013</span>, <span style=\"color: #008080; text-decoration-color: #008080; font-weight: bold\">0.0013</span>, <span style=\"color: #008080; text-decoration-color: #008080; font-weight: bold\">0.0013</span>, <span style=\"color: #008080; text-decoration-color: #008080; font-weight: bold\">0.0013</span>, <span style=\"color: #008080; text-decoration-color: #008080; font-weight: bold\">0.0013</span>, <span style=\"color: #008080; text-decoration-color: #008080; font-weight: bold\">0.0014</span>,\n",
       "        <span style=\"color: #008080; text-decoration-color: #008080; font-weight: bold\">0.0014</span>, <span style=\"color: #008080; text-decoration-color: #008080; font-weight: bold\">0.0014</span>, <span style=\"color: #008080; text-decoration-color: #008080; font-weight: bold\">0.0014</span>, <span style=\"color: #008080; text-decoration-color: #008080; font-weight: bold\">0.0014</span>, <span style=\"color: #008080; text-decoration-color: #008080; font-weight: bold\">0.0014</span>, <span style=\"color: #008080; text-decoration-color: #008080; font-weight: bold\">0.0014</span>, <span style=\"color: #008080; text-decoration-color: #008080; font-weight: bold\">0.0014</span>, <span style=\"color: #008080; text-decoration-color: #008080; font-weight: bold\">0.0014</span>, <span style=\"color: #008080; text-decoration-color: #008080; font-weight: bold\">0.0014</span>,\n",
       "        <span style=\"color: #008080; text-decoration-color: #008080; font-weight: bold\">0.0015</span>, <span style=\"color: #008080; text-decoration-color: #008080; font-weight: bold\">0.0015</span>, <span style=\"color: #008080; text-decoration-color: #008080; font-weight: bold\">0.0015</span>, <span style=\"color: #008080; text-decoration-color: #008080; font-weight: bold\">0.0015</span>, <span style=\"color: #008080; text-decoration-color: #008080; font-weight: bold\">0.0015</span>, <span style=\"color: #008080; text-decoration-color: #008080; font-weight: bold\">0.0015</span>, <span style=\"color: #008080; text-decoration-color: #008080; font-weight: bold\">0.0015</span>, <span style=\"color: #008080; text-decoration-color: #008080; font-weight: bold\">0.0015</span>, <span style=\"color: #008080; text-decoration-color: #008080; font-weight: bold\">0.0015</span>,\n",
       "        <span style=\"color: #008080; text-decoration-color: #008080; font-weight: bold\">0.0015</span>, <span style=\"color: #008080; text-decoration-color: #008080; font-weight: bold\">0.0016</span>, <span style=\"color: #008080; text-decoration-color: #008080; font-weight: bold\">0.0016</span>, <span style=\"color: #008080; text-decoration-color: #008080; font-weight: bold\">0.0016</span>, <span style=\"color: #008080; text-decoration-color: #008080; font-weight: bold\">0.0016</span>, <span style=\"color: #008080; text-decoration-color: #008080; font-weight: bold\">0.0016</span>, <span style=\"color: #008080; text-decoration-color: #008080; font-weight: bold\">0.0016</span>, <span style=\"color: #008080; text-decoration-color: #008080; font-weight: bold\">0.0016</span>, <span style=\"color: #008080; text-decoration-color: #008080; font-weight: bold\">0.0016</span>,\n",
       "        <span style=\"color: #008080; text-decoration-color: #008080; font-weight: bold\">0.0016</span>, <span style=\"color: #008080; text-decoration-color: #008080; font-weight: bold\">0.0017</span>, <span style=\"color: #008080; text-decoration-color: #008080; font-weight: bold\">0.0017</span>, <span style=\"color: #008080; text-decoration-color: #008080; font-weight: bold\">0.0017</span>, <span style=\"color: #008080; text-decoration-color: #008080; font-weight: bold\">0.0017</span>, <span style=\"color: #008080; text-decoration-color: #008080; font-weight: bold\">0.0017</span>, <span style=\"color: #008080; text-decoration-color: #008080; font-weight: bold\">0.0017</span>, <span style=\"color: #008080; text-decoration-color: #008080; font-weight: bold\">0.0017</span>, <span style=\"color: #008080; text-decoration-color: #008080; font-weight: bold\">0.0017</span>,\n",
       "        <span style=\"color: #008080; text-decoration-color: #008080; font-weight: bold\">0.0018</span>, <span style=\"color: #008080; text-decoration-color: #008080; font-weight: bold\">0.0018</span>, <span style=\"color: #008080; text-decoration-color: #008080; font-weight: bold\">0.0018</span>, <span style=\"color: #008080; text-decoration-color: #008080; font-weight: bold\">0.0018</span>, <span style=\"color: #008080; text-decoration-color: #008080; font-weight: bold\">0.0018</span>, <span style=\"color: #008080; text-decoration-color: #008080; font-weight: bold\">0.0018</span>, <span style=\"color: #008080; text-decoration-color: #008080; font-weight: bold\">0.0018</span>, <span style=\"color: #008080; text-decoration-color: #008080; font-weight: bold\">0.0018</span>, <span style=\"color: #008080; text-decoration-color: #008080; font-weight: bold\">0.0019</span>,\n",
       "        <span style=\"color: #008080; text-decoration-color: #008080; font-weight: bold\">0.0019</span>, <span style=\"color: #008080; text-decoration-color: #008080; font-weight: bold\">0.0019</span>, <span style=\"color: #008080; text-decoration-color: #008080; font-weight: bold\">0.0019</span>, <span style=\"color: #008080; text-decoration-color: #008080; font-weight: bold\">0.0019</span>, <span style=\"color: #008080; text-decoration-color: #008080; font-weight: bold\">0.0019</span>, <span style=\"color: #008080; text-decoration-color: #008080; font-weight: bold\">0.0019</span>, <span style=\"color: #008080; text-decoration-color: #008080; font-weight: bold\">0.0019</span>, <span style=\"color: #008080; text-decoration-color: #008080; font-weight: bold\">0.0020</span>, <span style=\"color: #008080; text-decoration-color: #008080; font-weight: bold\">0.0020</span>,\n",
       "        <span style=\"color: #008080; text-decoration-color: #008080; font-weight: bold\">0.0020</span>, <span style=\"color: #008080; text-decoration-color: #008080; font-weight: bold\">0.0020</span>, <span style=\"color: #008080; text-decoration-color: #008080; font-weight: bold\">0.0020</span>, <span style=\"color: #008080; text-decoration-color: #008080; font-weight: bold\">0.0020</span>, <span style=\"color: #008080; text-decoration-color: #008080; font-weight: bold\">0.0020</span>, <span style=\"color: #008080; text-decoration-color: #008080; font-weight: bold\">0.0021</span>, <span style=\"color: #008080; text-decoration-color: #008080; font-weight: bold\">0.0021</span>, <span style=\"color: #008080; text-decoration-color: #008080; font-weight: bold\">0.0021</span>, <span style=\"color: #008080; text-decoration-color: #008080; font-weight: bold\">0.0021</span>,\n",
       "        <span style=\"color: #008080; text-decoration-color: #008080; font-weight: bold\">0.0021</span>, <span style=\"color: #008080; text-decoration-color: #008080; font-weight: bold\">0.0021</span>, <span style=\"color: #008080; text-decoration-color: #008080; font-weight: bold\">0.0021</span>, <span style=\"color: #008080; text-decoration-color: #008080; font-weight: bold\">0.0022</span>, <span style=\"color: #008080; text-decoration-color: #008080; font-weight: bold\">0.0022</span>, <span style=\"color: #008080; text-decoration-color: #008080; font-weight: bold\">0.0022</span>, <span style=\"color: #008080; text-decoration-color: #008080; font-weight: bold\">0.0022</span>, <span style=\"color: #008080; text-decoration-color: #008080; font-weight: bold\">0.0022</span>, <span style=\"color: #008080; text-decoration-color: #008080; font-weight: bold\">0.0022</span>,\n",
       "        <span style=\"color: #008080; text-decoration-color: #008080; font-weight: bold\">0.0022</span>, <span style=\"color: #008080; text-decoration-color: #008080; font-weight: bold\">0.0023</span>, <span style=\"color: #008080; text-decoration-color: #008080; font-weight: bold\">0.0023</span>, <span style=\"color: #008080; text-decoration-color: #008080; font-weight: bold\">0.0023</span>, <span style=\"color: #008080; text-decoration-color: #008080; font-weight: bold\">0.0023</span>, <span style=\"color: #008080; text-decoration-color: #008080; font-weight: bold\">0.0023</span>, <span style=\"color: #008080; text-decoration-color: #008080; font-weight: bold\">0.0023</span>, <span style=\"color: #008080; text-decoration-color: #008080; font-weight: bold\">0.0024</span>, <span style=\"color: #008080; text-decoration-color: #008080; font-weight: bold\">0.0024</span>,\n",
       "        <span style=\"color: #008080; text-decoration-color: #008080; font-weight: bold\">0.0024</span>, <span style=\"color: #008080; text-decoration-color: #008080; font-weight: bold\">0.0024</span>, <span style=\"color: #008080; text-decoration-color: #008080; font-weight: bold\">0.0024</span>, <span style=\"color: #008080; text-decoration-color: #008080; font-weight: bold\">0.0024</span>, <span style=\"color: #008080; text-decoration-color: #008080; font-weight: bold\">0.0025</span>, <span style=\"color: #008080; text-decoration-color: #008080; font-weight: bold\">0.0025</span>, <span style=\"color: #008080; text-decoration-color: #008080; font-weight: bold\">0.0025</span>, <span style=\"color: #008080; text-decoration-color: #008080; font-weight: bold\">0.0025</span>, <span style=\"color: #008080; text-decoration-color: #008080; font-weight: bold\">0.0025</span>,\n",
       "        <span style=\"color: #008080; text-decoration-color: #008080; font-weight: bold\">0.0025</span>, <span style=\"color: #008080; text-decoration-color: #008080; font-weight: bold\">0.0026</span>, <span style=\"color: #008080; text-decoration-color: #008080; font-weight: bold\">0.0026</span>, <span style=\"color: #008080; text-decoration-color: #008080; font-weight: bold\">0.0026</span>, <span style=\"color: #008080; text-decoration-color: #008080; font-weight: bold\">0.0026</span>, <span style=\"color: #008080; text-decoration-color: #008080; font-weight: bold\">0.0026</span>, <span style=\"color: #008080; text-decoration-color: #008080; font-weight: bold\">0.0027</span>, <span style=\"color: #008080; text-decoration-color: #008080; font-weight: bold\">0.0027</span>, <span style=\"color: #008080; text-decoration-color: #008080; font-weight: bold\">0.0027</span>,\n",
       "        <span style=\"color: #008080; text-decoration-color: #008080; font-weight: bold\">0.0027</span>, <span style=\"color: #008080; text-decoration-color: #008080; font-weight: bold\">0.0027</span>, <span style=\"color: #008080; text-decoration-color: #008080; font-weight: bold\">0.0027</span>, <span style=\"color: #008080; text-decoration-color: #008080; font-weight: bold\">0.0028</span>, <span style=\"color: #008080; text-decoration-color: #008080; font-weight: bold\">0.0028</span>, <span style=\"color: #008080; text-decoration-color: #008080; font-weight: bold\">0.0028</span>, <span style=\"color: #008080; text-decoration-color: #008080; font-weight: bold\">0.0028</span>, <span style=\"color: #008080; text-decoration-color: #008080; font-weight: bold\">0.0028</span>, <span style=\"color: #008080; text-decoration-color: #008080; font-weight: bold\">0.0029</span>,\n",
       "        <span style=\"color: #008080; text-decoration-color: #008080; font-weight: bold\">0.0029</span>, <span style=\"color: #008080; text-decoration-color: #008080; font-weight: bold\">0.0029</span>, <span style=\"color: #008080; text-decoration-color: #008080; font-weight: bold\">0.0029</span>, <span style=\"color: #008080; text-decoration-color: #008080; font-weight: bold\">0.0029</span>, <span style=\"color: #008080; text-decoration-color: #008080; font-weight: bold\">0.0030</span>, <span style=\"color: #008080; text-decoration-color: #008080; font-weight: bold\">0.0030</span>, <span style=\"color: #008080; text-decoration-color: #008080; font-weight: bold\">0.0030</span>, <span style=\"color: #008080; text-decoration-color: #008080; font-weight: bold\">0.0030</span>, <span style=\"color: #008080; text-decoration-color: #008080; font-weight: bold\">0.0030</span>,\n",
       "        <span style=\"color: #008080; text-decoration-color: #008080; font-weight: bold\">0.0031</span>, <span style=\"color: #008080; text-decoration-color: #008080; font-weight: bold\">0.0031</span>, <span style=\"color: #008080; text-decoration-color: #008080; font-weight: bold\">0.0031</span>, <span style=\"color: #008080; text-decoration-color: #008080; font-weight: bold\">0.0031</span>, <span style=\"color: #008080; text-decoration-color: #008080; font-weight: bold\">0.0032</span>, <span style=\"color: #008080; text-decoration-color: #008080; font-weight: bold\">0.0032</span>, <span style=\"color: #008080; text-decoration-color: #008080; font-weight: bold\">0.0032</span>, <span style=\"color: #008080; text-decoration-color: #008080; font-weight: bold\">0.0032</span>, <span style=\"color: #008080; text-decoration-color: #008080; font-weight: bold\">0.0032</span>,\n",
       "        <span style=\"color: #008080; text-decoration-color: #008080; font-weight: bold\">0.0033</span>, <span style=\"color: #008080; text-decoration-color: #008080; font-weight: bold\">0.0033</span>, <span style=\"color: #008080; text-decoration-color: #008080; font-weight: bold\">0.0033</span>, <span style=\"color: #008080; text-decoration-color: #008080; font-weight: bold\">0.0033</span>, <span style=\"color: #008080; text-decoration-color: #008080; font-weight: bold\">0.0034</span>, <span style=\"color: #008080; text-decoration-color: #008080; font-weight: bold\">0.0034</span>, <span style=\"color: #008080; text-decoration-color: #008080; font-weight: bold\">0.0034</span>, <span style=\"color: #008080; text-decoration-color: #008080; font-weight: bold\">0.0034</span>, <span style=\"color: #008080; text-decoration-color: #008080; font-weight: bold\">0.0034</span>,\n",
       "        <span style=\"color: #008080; text-decoration-color: #008080; font-weight: bold\">0.0035</span>, <span style=\"color: #008080; text-decoration-color: #008080; font-weight: bold\">0.0035</span>, <span style=\"color: #008080; text-decoration-color: #008080; font-weight: bold\">0.0035</span>, <span style=\"color: #008080; text-decoration-color: #008080; font-weight: bold\">0.0035</span>, <span style=\"color: #008080; text-decoration-color: #008080; font-weight: bold\">0.0036</span>, <span style=\"color: #008080; text-decoration-color: #008080; font-weight: bold\">0.0036</span>, <span style=\"color: #008080; text-decoration-color: #008080; font-weight: bold\">0.0036</span>, <span style=\"color: #008080; text-decoration-color: #008080; font-weight: bold\">0.0036</span>, <span style=\"color: #008080; text-decoration-color: #008080; font-weight: bold\">0.0037</span>,\n",
       "        <span style=\"color: #008080; text-decoration-color: #008080; font-weight: bold\">0.0037</span>, <span style=\"color: #008080; text-decoration-color: #008080; font-weight: bold\">0.0037</span>, <span style=\"color: #008080; text-decoration-color: #008080; font-weight: bold\">0.0037</span>, <span style=\"color: #008080; text-decoration-color: #008080; font-weight: bold\">0.0038</span>, <span style=\"color: #008080; text-decoration-color: #008080; font-weight: bold\">0.0038</span>, <span style=\"color: #008080; text-decoration-color: #008080; font-weight: bold\">0.0038</span>, <span style=\"color: #008080; text-decoration-color: #008080; font-weight: bold\">0.0039</span>, <span style=\"color: #008080; text-decoration-color: #008080; font-weight: bold\">0.0039</span>, <span style=\"color: #008080; text-decoration-color: #008080; font-weight: bold\">0.0039</span>,\n",
       "        <span style=\"color: #008080; text-decoration-color: #008080; font-weight: bold\">0.0039</span>, <span style=\"color: #008080; text-decoration-color: #008080; font-weight: bold\">0.0040</span>, <span style=\"color: #008080; text-decoration-color: #008080; font-weight: bold\">0.0040</span>, <span style=\"color: #008080; text-decoration-color: #008080; font-weight: bold\">0.0040</span>, <span style=\"color: #008080; text-decoration-color: #008080; font-weight: bold\">0.0040</span>, <span style=\"color: #008080; text-decoration-color: #008080; font-weight: bold\">0.0041</span>, <span style=\"color: #008080; text-decoration-color: #008080; font-weight: bold\">0.0041</span>, <span style=\"color: #008080; text-decoration-color: #008080; font-weight: bold\">0.0041</span>, <span style=\"color: #008080; text-decoration-color: #008080; font-weight: bold\">0.0042</span>,\n",
       "        <span style=\"color: #008080; text-decoration-color: #008080; font-weight: bold\">0.0042</span>, <span style=\"color: #008080; text-decoration-color: #008080; font-weight: bold\">0.0042</span>, <span style=\"color: #008080; text-decoration-color: #008080; font-weight: bold\">0.0042</span>, <span style=\"color: #008080; text-decoration-color: #008080; font-weight: bold\">0.0043</span>, <span style=\"color: #008080; text-decoration-color: #008080; font-weight: bold\">0.0043</span>, <span style=\"color: #008080; text-decoration-color: #008080; font-weight: bold\">0.0043</span>, <span style=\"color: #008080; text-decoration-color: #008080; font-weight: bold\">0.0044</span>, <span style=\"color: #008080; text-decoration-color: #008080; font-weight: bold\">0.0044</span>, <span style=\"color: #008080; text-decoration-color: #008080; font-weight: bold\">0.0044</span>,\n",
       "        <span style=\"color: #008080; text-decoration-color: #008080; font-weight: bold\">0.0045</span>, <span style=\"color: #008080; text-decoration-color: #008080; font-weight: bold\">0.0045</span>, <span style=\"color: #008080; text-decoration-color: #008080; font-weight: bold\">0.0045</span>, <span style=\"color: #008080; text-decoration-color: #008080; font-weight: bold\">0.0045</span>, <span style=\"color: #008080; text-decoration-color: #008080; font-weight: bold\">0.0046</span>, <span style=\"color: #008080; text-decoration-color: #008080; font-weight: bold\">0.0046</span>, <span style=\"color: #008080; text-decoration-color: #008080; font-weight: bold\">0.0046</span>, <span style=\"color: #008080; text-decoration-color: #008080; font-weight: bold\">0.0047</span>, <span style=\"color: #008080; text-decoration-color: #008080; font-weight: bold\">0.0047</span>,\n",
       "        <span style=\"color: #008080; text-decoration-color: #008080; font-weight: bold\">0.0047</span>, <span style=\"color: #008080; text-decoration-color: #008080; font-weight: bold\">0.0048</span>, <span style=\"color: #008080; text-decoration-color: #008080; font-weight: bold\">0.0048</span>, <span style=\"color: #008080; text-decoration-color: #008080; font-weight: bold\">0.0048</span>, <span style=\"color: #008080; text-decoration-color: #008080; font-weight: bold\">0.0049</span>, <span style=\"color: #008080; text-decoration-color: #008080; font-weight: bold\">0.0049</span>, <span style=\"color: #008080; text-decoration-color: #008080; font-weight: bold\">0.0049</span>, <span style=\"color: #008080; text-decoration-color: #008080; font-weight: bold\">0.0050</span>, <span style=\"color: #008080; text-decoration-color: #008080; font-weight: bold\">0.0050</span>,\n",
       "        <span style=\"color: #008080; text-decoration-color: #008080; font-weight: bold\">0.0050</span>, <span style=\"color: #008080; text-decoration-color: #008080; font-weight: bold\">0.0051</span>, <span style=\"color: #008080; text-decoration-color: #008080; font-weight: bold\">0.0051</span>, <span style=\"color: #008080; text-decoration-color: #008080; font-weight: bold\">0.0051</span>, <span style=\"color: #008080; text-decoration-color: #008080; font-weight: bold\">0.0052</span>, <span style=\"color: #008080; text-decoration-color: #008080; font-weight: bold\">0.0052</span>, <span style=\"color: #008080; text-decoration-color: #008080; font-weight: bold\">0.0053</span>, <span style=\"color: #008080; text-decoration-color: #008080; font-weight: bold\">0.0053</span>, <span style=\"color: #008080; text-decoration-color: #008080; font-weight: bold\">0.0053</span>,\n",
       "        <span style=\"color: #008080; text-decoration-color: #008080; font-weight: bold\">0.0054</span>, <span style=\"color: #008080; text-decoration-color: #008080; font-weight: bold\">0.0054</span>, <span style=\"color: #008080; text-decoration-color: #008080; font-weight: bold\">0.0054</span>, <span style=\"color: #008080; text-decoration-color: #008080; font-weight: bold\">0.0055</span>, <span style=\"color: #008080; text-decoration-color: #008080; font-weight: bold\">0.0055</span>, <span style=\"color: #008080; text-decoration-color: #008080; font-weight: bold\">0.0056</span>, <span style=\"color: #008080; text-decoration-color: #008080; font-weight: bold\">0.0056</span>, <span style=\"color: #008080; text-decoration-color: #008080; font-weight: bold\">0.0056</span>, <span style=\"color: #008080; text-decoration-color: #008080; font-weight: bold\">0.0057</span>,\n",
       "        <span style=\"color: #008080; text-decoration-color: #008080; font-weight: bold\">0.0057</span>, <span style=\"color: #008080; text-decoration-color: #008080; font-weight: bold\">0.0058</span>, <span style=\"color: #008080; text-decoration-color: #008080; font-weight: bold\">0.0058</span>, <span style=\"color: #008080; text-decoration-color: #008080; font-weight: bold\">0.0058</span>, <span style=\"color: #008080; text-decoration-color: #008080; font-weight: bold\">0.0059</span>, <span style=\"color: #008080; text-decoration-color: #008080; font-weight: bold\">0.0059</span>, <span style=\"color: #008080; text-decoration-color: #008080; font-weight: bold\">0.0060</span>, <span style=\"color: #008080; text-decoration-color: #008080; font-weight: bold\">0.0060</span>, <span style=\"color: #008080; text-decoration-color: #008080; font-weight: bold\">0.0060</span>,\n",
       "        <span style=\"color: #008080; text-decoration-color: #008080; font-weight: bold\">0.0061</span>, <span style=\"color: #008080; text-decoration-color: #008080; font-weight: bold\">0.0061</span>, <span style=\"color: #008080; text-decoration-color: #008080; font-weight: bold\">0.0062</span>, <span style=\"color: #008080; text-decoration-color: #008080; font-weight: bold\">0.0062</span>, <span style=\"color: #008080; text-decoration-color: #008080; font-weight: bold\">0.0062</span>, <span style=\"color: #008080; text-decoration-color: #008080; font-weight: bold\">0.0063</span>, <span style=\"color: #008080; text-decoration-color: #008080; font-weight: bold\">0.0063</span>, <span style=\"color: #008080; text-decoration-color: #008080; font-weight: bold\">0.0064</span>, <span style=\"color: #008080; text-decoration-color: #008080; font-weight: bold\">0.0064</span>,\n",
       "        <span style=\"color: #008080; text-decoration-color: #008080; font-weight: bold\">0.0065</span>, <span style=\"color: #008080; text-decoration-color: #008080; font-weight: bold\">0.0065</span>, <span style=\"color: #008080; text-decoration-color: #008080; font-weight: bold\">0.0066</span>, <span style=\"color: #008080; text-decoration-color: #008080; font-weight: bold\">0.0066</span>, <span style=\"color: #008080; text-decoration-color: #008080; font-weight: bold\">0.0067</span>, <span style=\"color: #008080; text-decoration-color: #008080; font-weight: bold\">0.0067</span>, <span style=\"color: #008080; text-decoration-color: #008080; font-weight: bold\">0.0067</span>, <span style=\"color: #008080; text-decoration-color: #008080; font-weight: bold\">0.0068</span>, <span style=\"color: #008080; text-decoration-color: #008080; font-weight: bold\">0.0068</span>,\n",
       "        <span style=\"color: #008080; text-decoration-color: #008080; font-weight: bold\">0.0069</span>, <span style=\"color: #008080; text-decoration-color: #008080; font-weight: bold\">0.0069</span>, <span style=\"color: #008080; text-decoration-color: #008080; font-weight: bold\">0.0070</span>, <span style=\"color: #008080; text-decoration-color: #008080; font-weight: bold\">0.0070</span>, <span style=\"color: #008080; text-decoration-color: #008080; font-weight: bold\">0.0071</span>, <span style=\"color: #008080; text-decoration-color: #008080; font-weight: bold\">0.0071</span>, <span style=\"color: #008080; text-decoration-color: #008080; font-weight: bold\">0.0072</span>, <span style=\"color: #008080; text-decoration-color: #008080; font-weight: bold\">0.0072</span>, <span style=\"color: #008080; text-decoration-color: #008080; font-weight: bold\">0.0073</span>,\n",
       "        <span style=\"color: #008080; text-decoration-color: #008080; font-weight: bold\">0.0073</span>, <span style=\"color: #008080; text-decoration-color: #008080; font-weight: bold\">0.0074</span>, <span style=\"color: #008080; text-decoration-color: #008080; font-weight: bold\">0.0074</span>, <span style=\"color: #008080; text-decoration-color: #008080; font-weight: bold\">0.0075</span>, <span style=\"color: #008080; text-decoration-color: #008080; font-weight: bold\">0.0075</span>, <span style=\"color: #008080; text-decoration-color: #008080; font-weight: bold\">0.0076</span>, <span style=\"color: #008080; text-decoration-color: #008080; font-weight: bold\">0.0076</span>, <span style=\"color: #008080; text-decoration-color: #008080; font-weight: bold\">0.0077</span>, <span style=\"color: #008080; text-decoration-color: #008080; font-weight: bold\">0.0077</span>,\n",
       "        <span style=\"color: #008080; text-decoration-color: #008080; font-weight: bold\">0.0078</span>, <span style=\"color: #008080; text-decoration-color: #008080; font-weight: bold\">0.0079</span>, <span style=\"color: #008080; text-decoration-color: #008080; font-weight: bold\">0.0079</span>, <span style=\"color: #008080; text-decoration-color: #008080; font-weight: bold\">0.0080</span>, <span style=\"color: #008080; text-decoration-color: #008080; font-weight: bold\">0.0080</span>, <span style=\"color: #008080; text-decoration-color: #008080; font-weight: bold\">0.0081</span>, <span style=\"color: #008080; text-decoration-color: #008080; font-weight: bold\">0.0081</span>, <span style=\"color: #008080; text-decoration-color: #008080; font-weight: bold\">0.0082</span>, <span style=\"color: #008080; text-decoration-color: #008080; font-weight: bold\">0.0082</span>,\n",
       "        <span style=\"color: #008080; text-decoration-color: #008080; font-weight: bold\">0.0083</span>, <span style=\"color: #008080; text-decoration-color: #008080; font-weight: bold\">0.0084</span>, <span style=\"color: #008080; text-decoration-color: #008080; font-weight: bold\">0.0084</span>, <span style=\"color: #008080; text-decoration-color: #008080; font-weight: bold\">0.0085</span>, <span style=\"color: #008080; text-decoration-color: #008080; font-weight: bold\">0.0085</span>, <span style=\"color: #008080; text-decoration-color: #008080; font-weight: bold\">0.0086</span>, <span style=\"color: #008080; text-decoration-color: #008080; font-weight: bold\">0.0086</span>, <span style=\"color: #008080; text-decoration-color: #008080; font-weight: bold\">0.0087</span>, <span style=\"color: #008080; text-decoration-color: #008080; font-weight: bold\">0.0088</span>,\n",
       "        <span style=\"color: #008080; text-decoration-color: #008080; font-weight: bold\">0.0088</span>, <span style=\"color: #008080; text-decoration-color: #008080; font-weight: bold\">0.0089</span>, <span style=\"color: #008080; text-decoration-color: #008080; font-weight: bold\">0.0090</span>, <span style=\"color: #008080; text-decoration-color: #008080; font-weight: bold\">0.0090</span>, <span style=\"color: #008080; text-decoration-color: #008080; font-weight: bold\">0.0091</span>, <span style=\"color: #008080; text-decoration-color: #008080; font-weight: bold\">0.0091</span>, <span style=\"color: #008080; text-decoration-color: #008080; font-weight: bold\">0.0092</span>, <span style=\"color: #008080; text-decoration-color: #008080; font-weight: bold\">0.0093</span>, <span style=\"color: #008080; text-decoration-color: #008080; font-weight: bold\">0.0093</span>,\n",
       "        <span style=\"color: #008080; text-decoration-color: #008080; font-weight: bold\">0.0094</span>, <span style=\"color: #008080; text-decoration-color: #008080; font-weight: bold\">0.0095</span>, <span style=\"color: #008080; text-decoration-color: #008080; font-weight: bold\">0.0095</span>, <span style=\"color: #008080; text-decoration-color: #008080; font-weight: bold\">0.0096</span>, <span style=\"color: #008080; text-decoration-color: #008080; font-weight: bold\">0.0097</span>, <span style=\"color: #008080; text-decoration-color: #008080; font-weight: bold\">0.0097</span>, <span style=\"color: #008080; text-decoration-color: #008080; font-weight: bold\">0.0098</span>, <span style=\"color: #008080; text-decoration-color: #008080; font-weight: bold\">0.0099</span>, <span style=\"color: #008080; text-decoration-color: #008080; font-weight: bold\">0.0099</span>,\n",
       "        <span style=\"color: #008080; text-decoration-color: #008080; font-weight: bold\">0.0100</span>, <span style=\"color: #008080; text-decoration-color: #008080; font-weight: bold\">0.0101</span>, <span style=\"color: #008080; text-decoration-color: #008080; font-weight: bold\">0.0101</span>, <span style=\"color: #008080; text-decoration-color: #008080; font-weight: bold\">0.0102</span>, <span style=\"color: #008080; text-decoration-color: #008080; font-weight: bold\">0.0103</span>, <span style=\"color: #008080; text-decoration-color: #008080; font-weight: bold\">0.0104</span>, <span style=\"color: #008080; text-decoration-color: #008080; font-weight: bold\">0.0104</span>, <span style=\"color: #008080; text-decoration-color: #008080; font-weight: bold\">0.0105</span>, <span style=\"color: #008080; text-decoration-color: #008080; font-weight: bold\">0.0106</span>,\n",
       "        <span style=\"color: #008080; text-decoration-color: #008080; font-weight: bold\">0.0106</span>, <span style=\"color: #008080; text-decoration-color: #008080; font-weight: bold\">0.0107</span>, <span style=\"color: #008080; text-decoration-color: #008080; font-weight: bold\">0.0108</span>, <span style=\"color: #008080; text-decoration-color: #008080; font-weight: bold\">0.0109</span>, <span style=\"color: #008080; text-decoration-color: #008080; font-weight: bold\">0.0109</span>, <span style=\"color: #008080; text-decoration-color: #008080; font-weight: bold\">0.0110</span>, <span style=\"color: #008080; text-decoration-color: #008080; font-weight: bold\">0.0111</span>, <span style=\"color: #008080; text-decoration-color: #008080; font-weight: bold\">0.0112</span>, <span style=\"color: #008080; text-decoration-color: #008080; font-weight: bold\">0.0112</span>,\n",
       "        <span style=\"color: #008080; text-decoration-color: #008080; font-weight: bold\">0.0113</span>, <span style=\"color: #008080; text-decoration-color: #008080; font-weight: bold\">0.0114</span>, <span style=\"color: #008080; text-decoration-color: #008080; font-weight: bold\">0.0115</span>, <span style=\"color: #008080; text-decoration-color: #008080; font-weight: bold\">0.0116</span>, <span style=\"color: #008080; text-decoration-color: #008080; font-weight: bold\">0.0116</span>, <span style=\"color: #008080; text-decoration-color: #008080; font-weight: bold\">0.0117</span>, <span style=\"color: #008080; text-decoration-color: #008080; font-weight: bold\">0.0118</span>, <span style=\"color: #008080; text-decoration-color: #008080; font-weight: bold\">0.0119</span>, <span style=\"color: #008080; text-decoration-color: #008080; font-weight: bold\">0.0120</span>,\n",
       "        <span style=\"color: #008080; text-decoration-color: #008080; font-weight: bold\">0.0121</span>, <span style=\"color: #008080; text-decoration-color: #008080; font-weight: bold\">0.0121</span>, <span style=\"color: #008080; text-decoration-color: #008080; font-weight: bold\">0.0122</span>, <span style=\"color: #008080; text-decoration-color: #008080; font-weight: bold\">0.0123</span>, <span style=\"color: #008080; text-decoration-color: #008080; font-weight: bold\">0.0124</span>, <span style=\"color: #008080; text-decoration-color: #008080; font-weight: bold\">0.0125</span>, <span style=\"color: #008080; text-decoration-color: #008080; font-weight: bold\">0.0126</span>, <span style=\"color: #008080; text-decoration-color: #008080; font-weight: bold\">0.0127</span>, <span style=\"color: #008080; text-decoration-color: #008080; font-weight: bold\">0.0127</span>,\n",
       "        <span style=\"color: #008080; text-decoration-color: #008080; font-weight: bold\">0.0128</span>, <span style=\"color: #008080; text-decoration-color: #008080; font-weight: bold\">0.0129</span>, <span style=\"color: #008080; text-decoration-color: #008080; font-weight: bold\">0.0130</span>, <span style=\"color: #008080; text-decoration-color: #008080; font-weight: bold\">0.0131</span>, <span style=\"color: #008080; text-decoration-color: #008080; font-weight: bold\">0.0132</span>, <span style=\"color: #008080; text-decoration-color: #008080; font-weight: bold\">0.0133</span>, <span style=\"color: #008080; text-decoration-color: #008080; font-weight: bold\">0.0134</span>, <span style=\"color: #008080; text-decoration-color: #008080; font-weight: bold\">0.0135</span>, <span style=\"color: #008080; text-decoration-color: #008080; font-weight: bold\">0.0136</span>,\n",
       "        <span style=\"color: #008080; text-decoration-color: #008080; font-weight: bold\">0.0137</span>, <span style=\"color: #008080; text-decoration-color: #008080; font-weight: bold\">0.0137</span>, <span style=\"color: #008080; text-decoration-color: #008080; font-weight: bold\">0.0138</span>, <span style=\"color: #008080; text-decoration-color: #008080; font-weight: bold\">0.0139</span>, <span style=\"color: #008080; text-decoration-color: #008080; font-weight: bold\">0.0140</span>, <span style=\"color: #008080; text-decoration-color: #008080; font-weight: bold\">0.0141</span>, <span style=\"color: #008080; text-decoration-color: #008080; font-weight: bold\">0.0142</span>, <span style=\"color: #008080; text-decoration-color: #008080; font-weight: bold\">0.0143</span>, <span style=\"color: #008080; text-decoration-color: #008080; font-weight: bold\">0.0144</span>,\n",
       "        <span style=\"color: #008080; text-decoration-color: #008080; font-weight: bold\">0.0145</span>, <span style=\"color: #008080; text-decoration-color: #008080; font-weight: bold\">0.0146</span>, <span style=\"color: #008080; text-decoration-color: #008080; font-weight: bold\">0.0147</span>, <span style=\"color: #008080; text-decoration-color: #008080; font-weight: bold\">0.0148</span>, <span style=\"color: #008080; text-decoration-color: #008080; font-weight: bold\">0.0149</span>, <span style=\"color: #008080; text-decoration-color: #008080; font-weight: bold\">0.0150</span>, <span style=\"color: #008080; text-decoration-color: #008080; font-weight: bold\">0.0151</span>, <span style=\"color: #008080; text-decoration-color: #008080; font-weight: bold\">0.0152</span>, <span style=\"color: #008080; text-decoration-color: #008080; font-weight: bold\">0.0154</span>,\n",
       "        <span style=\"color: #008080; text-decoration-color: #008080; font-weight: bold\">0.0155</span>, <span style=\"color: #008080; text-decoration-color: #008080; font-weight: bold\">0.0156</span>, <span style=\"color: #008080; text-decoration-color: #008080; font-weight: bold\">0.0157</span>, <span style=\"color: #008080; text-decoration-color: #008080; font-weight: bold\">0.0158</span>, <span style=\"color: #008080; text-decoration-color: #008080; font-weight: bold\">0.0159</span>, <span style=\"color: #008080; text-decoration-color: #008080; font-weight: bold\">0.0160</span>, <span style=\"color: #008080; text-decoration-color: #008080; font-weight: bold\">0.0161</span>, <span style=\"color: #008080; text-decoration-color: #008080; font-weight: bold\">0.0162</span>, <span style=\"color: #008080; text-decoration-color: #008080; font-weight: bold\">0.0163</span>,\n",
       "        <span style=\"color: #008080; text-decoration-color: #008080; font-weight: bold\">0.0165</span>, <span style=\"color: #008080; text-decoration-color: #008080; font-weight: bold\">0.0166</span>, <span style=\"color: #008080; text-decoration-color: #008080; font-weight: bold\">0.0167</span>, <span style=\"color: #008080; text-decoration-color: #008080; font-weight: bold\">0.0168</span>, <span style=\"color: #008080; text-decoration-color: #008080; font-weight: bold\">0.0169</span>, <span style=\"color: #008080; text-decoration-color: #008080; font-weight: bold\">0.0170</span>, <span style=\"color: #008080; text-decoration-color: #008080; font-weight: bold\">0.0171</span>, <span style=\"color: #008080; text-decoration-color: #008080; font-weight: bold\">0.0173</span>, <span style=\"color: #008080; text-decoration-color: #008080; font-weight: bold\">0.0174</span>,\n",
       "        <span style=\"color: #008080; text-decoration-color: #008080; font-weight: bold\">0.0175</span>, <span style=\"color: #008080; text-decoration-color: #008080; font-weight: bold\">0.0176</span>, <span style=\"color: #008080; text-decoration-color: #008080; font-weight: bold\">0.0178</span>, <span style=\"color: #008080; text-decoration-color: #008080; font-weight: bold\">0.0179</span>, <span style=\"color: #008080; text-decoration-color: #008080; font-weight: bold\">0.0180</span>, <span style=\"color: #008080; text-decoration-color: #008080; font-weight: bold\">0.0181</span>, <span style=\"color: #008080; text-decoration-color: #008080; font-weight: bold\">0.0182</span>, <span style=\"color: #008080; text-decoration-color: #008080; font-weight: bold\">0.0184</span>, <span style=\"color: #008080; text-decoration-color: #008080; font-weight: bold\">0.0185</span>,\n",
       "        <span style=\"color: #008080; text-decoration-color: #008080; font-weight: bold\">0.0186</span>, <span style=\"color: #008080; text-decoration-color: #008080; font-weight: bold\">0.0188</span>, <span style=\"color: #008080; text-decoration-color: #008080; font-weight: bold\">0.0189</span>, <span style=\"color: #008080; text-decoration-color: #008080; font-weight: bold\">0.0190</span>, <span style=\"color: #008080; text-decoration-color: #008080; font-weight: bold\">0.0192</span>, <span style=\"color: #008080; text-decoration-color: #008080; font-weight: bold\">0.0193</span>, <span style=\"color: #008080; text-decoration-color: #008080; font-weight: bold\">0.0194</span>, <span style=\"color: #008080; text-decoration-color: #008080; font-weight: bold\">0.0196</span>, <span style=\"color: #008080; text-decoration-color: #008080; font-weight: bold\">0.0197</span>,\n",
       "        <span style=\"color: #008080; text-decoration-color: #008080; font-weight: bold\">0.0198</span>, <span style=\"color: #008080; text-decoration-color: #008080; font-weight: bold\">0.0200</span>, <span style=\"color: #008080; text-decoration-color: #008080; font-weight: bold\">0.0201</span>, <span style=\"color: #008080; text-decoration-color: #008080; font-weight: bold\">0.0202</span>, <span style=\"color: #008080; text-decoration-color: #008080; font-weight: bold\">0.0204</span>, <span style=\"color: #008080; text-decoration-color: #008080; font-weight: bold\">0.0205</span>, <span style=\"color: #008080; text-decoration-color: #008080; font-weight: bold\">0.0207</span>, <span style=\"color: #008080; text-decoration-color: #008080; font-weight: bold\">0.0208</span>, <span style=\"color: #008080; text-decoration-color: #008080; font-weight: bold\">0.0210</span>,\n",
       "        <span style=\"color: #008080; text-decoration-color: #008080; font-weight: bold\">0.0211</span>, <span style=\"color: #008080; text-decoration-color: #008080; font-weight: bold\">0.0212</span>, <span style=\"color: #008080; text-decoration-color: #008080; font-weight: bold\">0.0214</span>, <span style=\"color: #008080; text-decoration-color: #008080; font-weight: bold\">0.0215</span>, <span style=\"color: #008080; text-decoration-color: #008080; font-weight: bold\">0.0217</span>, <span style=\"color: #008080; text-decoration-color: #008080; font-weight: bold\">0.0218</span>, <span style=\"color: #008080; text-decoration-color: #008080; font-weight: bold\">0.0220</span>, <span style=\"color: #008080; text-decoration-color: #008080; font-weight: bold\">0.0221</span>, <span style=\"color: #008080; text-decoration-color: #008080; font-weight: bold\">0.0223</span>,\n",
       "        <span style=\"color: #008080; text-decoration-color: #008080; font-weight: bold\">0.0225</span>, <span style=\"color: #008080; text-decoration-color: #008080; font-weight: bold\">0.0226</span>, <span style=\"color: #008080; text-decoration-color: #008080; font-weight: bold\">0.0228</span>, <span style=\"color: #008080; text-decoration-color: #008080; font-weight: bold\">0.0229</span>, <span style=\"color: #008080; text-decoration-color: #008080; font-weight: bold\">0.0231</span>, <span style=\"color: #008080; text-decoration-color: #008080; font-weight: bold\">0.0232</span>, <span style=\"color: #008080; text-decoration-color: #008080; font-weight: bold\">0.0234</span>, <span style=\"color: #008080; text-decoration-color: #008080; font-weight: bold\">0.0236</span>, <span style=\"color: #008080; text-decoration-color: #008080; font-weight: bold\">0.0237</span>,\n",
       "        <span style=\"color: #008080; text-decoration-color: #008080; font-weight: bold\">0.0239</span>, <span style=\"color: #008080; text-decoration-color: #008080; font-weight: bold\">0.0241</span>, <span style=\"color: #008080; text-decoration-color: #008080; font-weight: bold\">0.0242</span>, <span style=\"color: #008080; text-decoration-color: #008080; font-weight: bold\">0.0244</span>, <span style=\"color: #008080; text-decoration-color: #008080; font-weight: bold\">0.0246</span>, <span style=\"color: #008080; text-decoration-color: #008080; font-weight: bold\">0.0247</span>, <span style=\"color: #008080; text-decoration-color: #008080; font-weight: bold\">0.0249</span>, <span style=\"color: #008080; text-decoration-color: #008080; font-weight: bold\">0.0251</span>, <span style=\"color: #008080; text-decoration-color: #008080; font-weight: bold\">0.0253</span>,\n",
       "        <span style=\"color: #008080; text-decoration-color: #008080; font-weight: bold\">0.0254</span>, <span style=\"color: #008080; text-decoration-color: #008080; font-weight: bold\">0.0256</span>, <span style=\"color: #008080; text-decoration-color: #008080; font-weight: bold\">0.0258</span>, <span style=\"color: #008080; text-decoration-color: #008080; font-weight: bold\">0.0260</span>, <span style=\"color: #008080; text-decoration-color: #008080; font-weight: bold\">0.0261</span>, <span style=\"color: #008080; text-decoration-color: #008080; font-weight: bold\">0.0263</span>, <span style=\"color: #008080; text-decoration-color: #008080; font-weight: bold\">0.0265</span>, <span style=\"color: #008080; text-decoration-color: #008080; font-weight: bold\">0.0267</span>, <span style=\"color: #008080; text-decoration-color: #008080; font-weight: bold\">0.0269</span>,\n",
       "        <span style=\"color: #008080; text-decoration-color: #008080; font-weight: bold\">0.0271</span>, <span style=\"color: #008080; text-decoration-color: #008080; font-weight: bold\">0.0273</span>, <span style=\"color: #008080; text-decoration-color: #008080; font-weight: bold\">0.0274</span>, <span style=\"color: #008080; text-decoration-color: #008080; font-weight: bold\">0.0276</span>, <span style=\"color: #008080; text-decoration-color: #008080; font-weight: bold\">0.0278</span>, <span style=\"color: #008080; text-decoration-color: #008080; font-weight: bold\">0.0280</span>, <span style=\"color: #008080; text-decoration-color: #008080; font-weight: bold\">0.0282</span>, <span style=\"color: #008080; text-decoration-color: #008080; font-weight: bold\">0.0284</span>, <span style=\"color: #008080; text-decoration-color: #008080; font-weight: bold\">0.0286</span>,\n",
       "        <span style=\"color: #008080; text-decoration-color: #008080; font-weight: bold\">0.0288</span>, <span style=\"color: #008080; text-decoration-color: #008080; font-weight: bold\">0.0290</span>, <span style=\"color: #008080; text-decoration-color: #008080; font-weight: bold\">0.0292</span>, <span style=\"color: #008080; text-decoration-color: #008080; font-weight: bold\">0.0294</span>, <span style=\"color: #008080; text-decoration-color: #008080; font-weight: bold\">0.0296</span>, <span style=\"color: #008080; text-decoration-color: #008080; font-weight: bold\">0.0298</span>, <span style=\"color: #008080; text-decoration-color: #008080; font-weight: bold\">0.0300</span>, <span style=\"color: #008080; text-decoration-color: #008080; font-weight: bold\">0.0302</span>, <span style=\"color: #008080; text-decoration-color: #008080; font-weight: bold\">0.0304</span>,\n",
       "        <span style=\"color: #008080; text-decoration-color: #008080; font-weight: bold\">0.0307</span>, <span style=\"color: #008080; text-decoration-color: #008080; font-weight: bold\">0.0309</span>, <span style=\"color: #008080; text-decoration-color: #008080; font-weight: bold\">0.0311</span>, <span style=\"color: #008080; text-decoration-color: #008080; font-weight: bold\">0.0313</span>, <span style=\"color: #008080; text-decoration-color: #008080; font-weight: bold\">0.0315</span>, <span style=\"color: #008080; text-decoration-color: #008080; font-weight: bold\">0.0317</span>, <span style=\"color: #008080; text-decoration-color: #008080; font-weight: bold\">0.0320</span>, <span style=\"color: #008080; text-decoration-color: #008080; font-weight: bold\">0.0322</span>, <span style=\"color: #008080; text-decoration-color: #008080; font-weight: bold\">0.0324</span>,\n",
       "        <span style=\"color: #008080; text-decoration-color: #008080; font-weight: bold\">0.0326</span>, <span style=\"color: #008080; text-decoration-color: #008080; font-weight: bold\">0.0328</span>, <span style=\"color: #008080; text-decoration-color: #008080; font-weight: bold\">0.0331</span>, <span style=\"color: #008080; text-decoration-color: #008080; font-weight: bold\">0.0333</span>, <span style=\"color: #008080; text-decoration-color: #008080; font-weight: bold\">0.0335</span>, <span style=\"color: #008080; text-decoration-color: #008080; font-weight: bold\">0.0338</span>, <span style=\"color: #008080; text-decoration-color: #008080; font-weight: bold\">0.0340</span>, <span style=\"color: #008080; text-decoration-color: #008080; font-weight: bold\">0.0342</span>, <span style=\"color: #008080; text-decoration-color: #008080; font-weight: bold\">0.0345</span>,\n",
       "        <span style=\"color: #008080; text-decoration-color: #008080; font-weight: bold\">0.0347</span>, <span style=\"color: #008080; text-decoration-color: #008080; font-weight: bold\">0.0350</span>, <span style=\"color: #008080; text-decoration-color: #008080; font-weight: bold\">0.0352</span>, <span style=\"color: #008080; text-decoration-color: #008080; font-weight: bold\">0.0354</span>, <span style=\"color: #008080; text-decoration-color: #008080; font-weight: bold\">0.0357</span>, <span style=\"color: #008080; text-decoration-color: #008080; font-weight: bold\">0.0359</span>, <span style=\"color: #008080; text-decoration-color: #008080; font-weight: bold\">0.0362</span>, <span style=\"color: #008080; text-decoration-color: #008080; font-weight: bold\">0.0364</span>, <span style=\"color: #008080; text-decoration-color: #008080; font-weight: bold\">0.0367</span>,\n",
       "        <span style=\"color: #008080; text-decoration-color: #008080; font-weight: bold\">0.0369</span>, <span style=\"color: #008080; text-decoration-color: #008080; font-weight: bold\">0.0372</span>, <span style=\"color: #008080; text-decoration-color: #008080; font-weight: bold\">0.0375</span>, <span style=\"color: #008080; text-decoration-color: #008080; font-weight: bold\">0.0377</span>, <span style=\"color: #008080; text-decoration-color: #008080; font-weight: bold\">0.0380</span>, <span style=\"color: #008080; text-decoration-color: #008080; font-weight: bold\">0.0382</span>, <span style=\"color: #008080; text-decoration-color: #008080; font-weight: bold\">0.0385</span>, <span style=\"color: #008080; text-decoration-color: #008080; font-weight: bold\">0.0388</span>, <span style=\"color: #008080; text-decoration-color: #008080; font-weight: bold\">0.0390</span>,\n",
       "        <span style=\"color: #008080; text-decoration-color: #008080; font-weight: bold\">0.0393</span>, <span style=\"color: #008080; text-decoration-color: #008080; font-weight: bold\">0.0396</span>, <span style=\"color: #008080; text-decoration-color: #008080; font-weight: bold\">0.0399</span>, <span style=\"color: #008080; text-decoration-color: #008080; font-weight: bold\">0.0401</span>, <span style=\"color: #008080; text-decoration-color: #008080; font-weight: bold\">0.0404</span>, <span style=\"color: #008080; text-decoration-color: #008080; font-weight: bold\">0.0407</span>, <span style=\"color: #008080; text-decoration-color: #008080; font-weight: bold\">0.0410</span>, <span style=\"color: #008080; text-decoration-color: #008080; font-weight: bold\">0.0413</span>, <span style=\"color: #008080; text-decoration-color: #008080; font-weight: bold\">0.0416</span>,\n",
       "        <span style=\"color: #008080; text-decoration-color: #008080; font-weight: bold\">0.0418</span>, <span style=\"color: #008080; text-decoration-color: #008080; font-weight: bold\">0.0421</span>, <span style=\"color: #008080; text-decoration-color: #008080; font-weight: bold\">0.0424</span>, <span style=\"color: #008080; text-decoration-color: #008080; font-weight: bold\">0.0427</span>, <span style=\"color: #008080; text-decoration-color: #008080; font-weight: bold\">0.0430</span>, <span style=\"color: #008080; text-decoration-color: #008080; font-weight: bold\">0.0433</span>, <span style=\"color: #008080; text-decoration-color: #008080; font-weight: bold\">0.0436</span>, <span style=\"color: #008080; text-decoration-color: #008080; font-weight: bold\">0.0439</span>, <span style=\"color: #008080; text-decoration-color: #008080; font-weight: bold\">0.0442</span>,\n",
       "        <span style=\"color: #008080; text-decoration-color: #008080; font-weight: bold\">0.0445</span>, <span style=\"color: #008080; text-decoration-color: #008080; font-weight: bold\">0.0448</span>, <span style=\"color: #008080; text-decoration-color: #008080; font-weight: bold\">0.0451</span>, <span style=\"color: #008080; text-decoration-color: #008080; font-weight: bold\">0.0455</span>, <span style=\"color: #008080; text-decoration-color: #008080; font-weight: bold\">0.0458</span>, <span style=\"color: #008080; text-decoration-color: #008080; font-weight: bold\">0.0461</span>, <span style=\"color: #008080; text-decoration-color: #008080; font-weight: bold\">0.0464</span>, <span style=\"color: #008080; text-decoration-color: #008080; font-weight: bold\">0.0467</span>, <span style=\"color: #008080; text-decoration-color: #008080; font-weight: bold\">0.0471</span>,\n",
       "        <span style=\"color: #008080; text-decoration-color: #008080; font-weight: bold\">0.0474</span>, <span style=\"color: #008080; text-decoration-color: #008080; font-weight: bold\">0.0477</span>, <span style=\"color: #008080; text-decoration-color: #008080; font-weight: bold\">0.0480</span>, <span style=\"color: #008080; text-decoration-color: #008080; font-weight: bold\">0.0484</span>, <span style=\"color: #008080; text-decoration-color: #008080; font-weight: bold\">0.0487</span>, <span style=\"color: #008080; text-decoration-color: #008080; font-weight: bold\">0.0491</span>, <span style=\"color: #008080; text-decoration-color: #008080; font-weight: bold\">0.0494</span>, <span style=\"color: #008080; text-decoration-color: #008080; font-weight: bold\">0.0497</span>, <span style=\"color: #008080; text-decoration-color: #008080; font-weight: bold\">0.0501</span>,\n",
       "        <span style=\"color: #008080; text-decoration-color: #008080; font-weight: bold\">0.0504</span>, <span style=\"color: #008080; text-decoration-color: #008080; font-weight: bold\">0.0508</span>, <span style=\"color: #008080; text-decoration-color: #008080; font-weight: bold\">0.0511</span>, <span style=\"color: #008080; text-decoration-color: #008080; font-weight: bold\">0.0515</span>, <span style=\"color: #008080; text-decoration-color: #008080; font-weight: bold\">0.0518</span>, <span style=\"color: #008080; text-decoration-color: #008080; font-weight: bold\">0.0522</span>, <span style=\"color: #008080; text-decoration-color: #008080; font-weight: bold\">0.0526</span>, <span style=\"color: #008080; text-decoration-color: #008080; font-weight: bold\">0.0529</span>, <span style=\"color: #008080; text-decoration-color: #008080; font-weight: bold\">0.0533</span>,\n",
       "        <span style=\"color: #008080; text-decoration-color: #008080; font-weight: bold\">0.0537</span>, <span style=\"color: #008080; text-decoration-color: #008080; font-weight: bold\">0.0540</span>, <span style=\"color: #008080; text-decoration-color: #008080; font-weight: bold\">0.0544</span>, <span style=\"color: #008080; text-decoration-color: #008080; font-weight: bold\">0.0548</span>, <span style=\"color: #008080; text-decoration-color: #008080; font-weight: bold\">0.0552</span>, <span style=\"color: #008080; text-decoration-color: #008080; font-weight: bold\">0.0556</span>, <span style=\"color: #008080; text-decoration-color: #008080; font-weight: bold\">0.0559</span>, <span style=\"color: #008080; text-decoration-color: #008080; font-weight: bold\">0.0563</span>, <span style=\"color: #008080; text-decoration-color: #008080; font-weight: bold\">0.0567</span>,\n",
       "        <span style=\"color: #008080; text-decoration-color: #008080; font-weight: bold\">0.0571</span>, <span style=\"color: #008080; text-decoration-color: #008080; font-weight: bold\">0.0575</span>, <span style=\"color: #008080; text-decoration-color: #008080; font-weight: bold\">0.0579</span>, <span style=\"color: #008080; text-decoration-color: #008080; font-weight: bold\">0.0583</span>, <span style=\"color: #008080; text-decoration-color: #008080; font-weight: bold\">0.0587</span>, <span style=\"color: #008080; text-decoration-color: #008080; font-weight: bold\">0.0591</span>, <span style=\"color: #008080; text-decoration-color: #008080; font-weight: bold\">0.0595</span>, <span style=\"color: #008080; text-decoration-color: #008080; font-weight: bold\">0.0599</span>, <span style=\"color: #008080; text-decoration-color: #008080; font-weight: bold\">0.0604</span>,\n",
       "        <span style=\"color: #008080; text-decoration-color: #008080; font-weight: bold\">0.0608</span>, <span style=\"color: #008080; text-decoration-color: #008080; font-weight: bold\">0.0612</span>, <span style=\"color: #008080; text-decoration-color: #008080; font-weight: bold\">0.0616</span>, <span style=\"color: #008080; text-decoration-color: #008080; font-weight: bold\">0.0621</span>, <span style=\"color: #008080; text-decoration-color: #008080; font-weight: bold\">0.0625</span>, <span style=\"color: #008080; text-decoration-color: #008080; font-weight: bold\">0.0629</span>, <span style=\"color: #008080; text-decoration-color: #008080; font-weight: bold\">0.0634</span>, <span style=\"color: #008080; text-decoration-color: #008080; font-weight: bold\">0.0638</span>, <span style=\"color: #008080; text-decoration-color: #008080; font-weight: bold\">0.0642</span>,\n",
       "        <span style=\"color: #008080; text-decoration-color: #008080; font-weight: bold\">0.0647</span>, <span style=\"color: #008080; text-decoration-color: #008080; font-weight: bold\">0.0651</span>, <span style=\"color: #008080; text-decoration-color: #008080; font-weight: bold\">0.0656</span>, <span style=\"color: #008080; text-decoration-color: #008080; font-weight: bold\">0.0660</span>, <span style=\"color: #008080; text-decoration-color: #008080; font-weight: bold\">0.0665</span>, <span style=\"color: #008080; text-decoration-color: #008080; font-weight: bold\">0.0670</span>, <span style=\"color: #008080; text-decoration-color: #008080; font-weight: bold\">0.0674</span>, <span style=\"color: #008080; text-decoration-color: #008080; font-weight: bold\">0.0679</span>, <span style=\"color: #008080; text-decoration-color: #008080; font-weight: bold\">0.0684</span>,\n",
       "        <span style=\"color: #008080; text-decoration-color: #008080; font-weight: bold\">0.0688</span>, <span style=\"color: #008080; text-decoration-color: #008080; font-weight: bold\">0.0693</span>, <span style=\"color: #008080; text-decoration-color: #008080; font-weight: bold\">0.0698</span>, <span style=\"color: #008080; text-decoration-color: #008080; font-weight: bold\">0.0703</span>, <span style=\"color: #008080; text-decoration-color: #008080; font-weight: bold\">0.0708</span>, <span style=\"color: #008080; text-decoration-color: #008080; font-weight: bold\">0.0713</span>, <span style=\"color: #008080; text-decoration-color: #008080; font-weight: bold\">0.0718</span>, <span style=\"color: #008080; text-decoration-color: #008080; font-weight: bold\">0.0723</span>, <span style=\"color: #008080; text-decoration-color: #008080; font-weight: bold\">0.0728</span>,\n",
       "        <span style=\"color: #008080; text-decoration-color: #008080; font-weight: bold\">0.0733</span>, <span style=\"color: #008080; text-decoration-color: #008080; font-weight: bold\">0.0738</span>, <span style=\"color: #008080; text-decoration-color: #008080; font-weight: bold\">0.0743</span>, <span style=\"color: #008080; text-decoration-color: #008080; font-weight: bold\">0.0748</span>, <span style=\"color: #008080; text-decoration-color: #008080; font-weight: bold\">0.0753</span>, <span style=\"color: #008080; text-decoration-color: #008080; font-weight: bold\">0.0758</span>, <span style=\"color: #008080; text-decoration-color: #008080; font-weight: bold\">0.0764</span>, <span style=\"color: #008080; text-decoration-color: #008080; font-weight: bold\">0.0769</span>, <span style=\"color: #008080; text-decoration-color: #008080; font-weight: bold\">0.0774</span>,\n",
       "        <span style=\"color: #008080; text-decoration-color: #008080; font-weight: bold\">0.0780</span>, <span style=\"color: #008080; text-decoration-color: #008080; font-weight: bold\">0.0785</span>, <span style=\"color: #008080; text-decoration-color: #008080; font-weight: bold\">0.0790</span>, <span style=\"color: #008080; text-decoration-color: #008080; font-weight: bold\">0.0796</span>, <span style=\"color: #008080; text-decoration-color: #008080; font-weight: bold\">0.0802</span>, <span style=\"color: #008080; text-decoration-color: #008080; font-weight: bold\">0.0807</span>, <span style=\"color: #008080; text-decoration-color: #008080; font-weight: bold\">0.0813</span>, <span style=\"color: #008080; text-decoration-color: #008080; font-weight: bold\">0.0818</span>, <span style=\"color: #008080; text-decoration-color: #008080; font-weight: bold\">0.0824</span>,\n",
       "        <span style=\"color: #008080; text-decoration-color: #008080; font-weight: bold\">0.0830</span>, <span style=\"color: #008080; text-decoration-color: #008080; font-weight: bold\">0.0835</span>, <span style=\"color: #008080; text-decoration-color: #008080; font-weight: bold\">0.0841</span>, <span style=\"color: #008080; text-decoration-color: #008080; font-weight: bold\">0.0847</span>, <span style=\"color: #008080; text-decoration-color: #008080; font-weight: bold\">0.0853</span>, <span style=\"color: #008080; text-decoration-color: #008080; font-weight: bold\">0.0859</span>, <span style=\"color: #008080; text-decoration-color: #008080; font-weight: bold\">0.0865</span>, <span style=\"color: #008080; text-decoration-color: #008080; font-weight: bold\">0.0871</span>, <span style=\"color: #008080; text-decoration-color: #008080; font-weight: bold\">0.0877</span>,\n",
       "        <span style=\"color: #008080; text-decoration-color: #008080; font-weight: bold\">0.0883</span>, <span style=\"color: #008080; text-decoration-color: #008080; font-weight: bold\">0.0889</span>, <span style=\"color: #008080; text-decoration-color: #008080; font-weight: bold\">0.0895</span>, <span style=\"color: #008080; text-decoration-color: #008080; font-weight: bold\">0.0901</span>, <span style=\"color: #008080; text-decoration-color: #008080; font-weight: bold\">0.0908</span>, <span style=\"color: #008080; text-decoration-color: #008080; font-weight: bold\">0.0914</span>, <span style=\"color: #008080; text-decoration-color: #008080; font-weight: bold\">0.0920</span>, <span style=\"color: #008080; text-decoration-color: #008080; font-weight: bold\">0.0927</span>, <span style=\"color: #008080; text-decoration-color: #008080; font-weight: bold\">0.0933</span>,\n",
       "        <span style=\"color: #008080; text-decoration-color: #008080; font-weight: bold\">0.0940</span>, <span style=\"color: #008080; text-decoration-color: #008080; font-weight: bold\">0.0946</span>, <span style=\"color: #008080; text-decoration-color: #008080; font-weight: bold\">0.0953</span>, <span style=\"color: #008080; text-decoration-color: #008080; font-weight: bold\">0.0959</span>, <span style=\"color: #008080; text-decoration-color: #008080; font-weight: bold\">0.0966</span>, <span style=\"color: #008080; text-decoration-color: #008080; font-weight: bold\">0.0973</span>, <span style=\"color: #008080; text-decoration-color: #008080; font-weight: bold\">0.0979</span>, <span style=\"color: #008080; text-decoration-color: #008080; font-weight: bold\">0.0986</span>, <span style=\"color: #008080; text-decoration-color: #008080; font-weight: bold\">0.0993</span>,\n",
       "        <span style=\"color: #008080; text-decoration-color: #008080; font-weight: bold\">0.1000</span>, <span style=\"color: #008080; text-decoration-color: #008080; font-weight: bold\">0.1007</span>, <span style=\"color: #008080; text-decoration-color: #008080; font-weight: bold\">0.1014</span>, <span style=\"color: #008080; text-decoration-color: #008080; font-weight: bold\">0.1021</span>, <span style=\"color: #008080; text-decoration-color: #008080; font-weight: bold\">0.1028</span>, <span style=\"color: #008080; text-decoration-color: #008080; font-weight: bold\">0.1035</span>, <span style=\"color: #008080; text-decoration-color: #008080; font-weight: bold\">0.1042</span>, <span style=\"color: #008080; text-decoration-color: #008080; font-weight: bold\">0.1050</span>, <span style=\"color: #008080; text-decoration-color: #008080; font-weight: bold\">0.1057</span>,\n",
       "        <span style=\"color: #008080; text-decoration-color: #008080; font-weight: bold\">0.1064</span>, <span style=\"color: #008080; text-decoration-color: #008080; font-weight: bold\">0.1072</span>, <span style=\"color: #008080; text-decoration-color: #008080; font-weight: bold\">0.1079</span>, <span style=\"color: #008080; text-decoration-color: #008080; font-weight: bold\">0.1087</span>, <span style=\"color: #008080; text-decoration-color: #008080; font-weight: bold\">0.1094</span>, <span style=\"color: #008080; text-decoration-color: #008080; font-weight: bold\">0.1102</span>, <span style=\"color: #008080; text-decoration-color: #008080; font-weight: bold\">0.1109</span>, <span style=\"color: #008080; text-decoration-color: #008080; font-weight: bold\">0.1117</span>, <span style=\"color: #008080; text-decoration-color: #008080; font-weight: bold\">0.1125</span>,\n",
       "        <span style=\"color: #008080; text-decoration-color: #008080; font-weight: bold\">0.1133</span>, <span style=\"color: #008080; text-decoration-color: #008080; font-weight: bold\">0.1140</span>, <span style=\"color: #008080; text-decoration-color: #008080; font-weight: bold\">0.1148</span>, <span style=\"color: #008080; text-decoration-color: #008080; font-weight: bold\">0.1156</span>, <span style=\"color: #008080; text-decoration-color: #008080; font-weight: bold\">0.1164</span>, <span style=\"color: #008080; text-decoration-color: #008080; font-weight: bold\">0.1172</span>, <span style=\"color: #008080; text-decoration-color: #008080; font-weight: bold\">0.1181</span>, <span style=\"color: #008080; text-decoration-color: #008080; font-weight: bold\">0.1189</span>, <span style=\"color: #008080; text-decoration-color: #008080; font-weight: bold\">0.1197</span>,\n",
       "        <span style=\"color: #008080; text-decoration-color: #008080; font-weight: bold\">0.1205</span>, <span style=\"color: #008080; text-decoration-color: #008080; font-weight: bold\">0.1214</span>, <span style=\"color: #008080; text-decoration-color: #008080; font-weight: bold\">0.1222</span>, <span style=\"color: #008080; text-decoration-color: #008080; font-weight: bold\">0.1231</span>, <span style=\"color: #008080; text-decoration-color: #008080; font-weight: bold\">0.1239</span>, <span style=\"color: #008080; text-decoration-color: #008080; font-weight: bold\">0.1248</span>, <span style=\"color: #008080; text-decoration-color: #008080; font-weight: bold\">0.1256</span>, <span style=\"color: #008080; text-decoration-color: #008080; font-weight: bold\">0.1265</span>, <span style=\"color: #008080; text-decoration-color: #008080; font-weight: bold\">0.1274</span>,\n",
       "        <span style=\"color: #008080; text-decoration-color: #008080; font-weight: bold\">0.1283</span>, <span style=\"color: #008080; text-decoration-color: #008080; font-weight: bold\">0.1292</span>, <span style=\"color: #008080; text-decoration-color: #008080; font-weight: bold\">0.1301</span>, <span style=\"color: #008080; text-decoration-color: #008080; font-weight: bold\">0.1310</span>, <span style=\"color: #008080; text-decoration-color: #008080; font-weight: bold\">0.1319</span>, <span style=\"color: #008080; text-decoration-color: #008080; font-weight: bold\">0.1328</span>, <span style=\"color: #008080; text-decoration-color: #008080; font-weight: bold\">0.1337</span>, <span style=\"color: #008080; text-decoration-color: #008080; font-weight: bold\">0.1346</span>, <span style=\"color: #008080; text-decoration-color: #008080; font-weight: bold\">0.1356</span>,\n",
       "        <span style=\"color: #008080; text-decoration-color: #008080; font-weight: bold\">0.1365</span>, <span style=\"color: #008080; text-decoration-color: #008080; font-weight: bold\">0.1374</span>, <span style=\"color: #008080; text-decoration-color: #008080; font-weight: bold\">0.1384</span>, <span style=\"color: #008080; text-decoration-color: #008080; font-weight: bold\">0.1394</span>, <span style=\"color: #008080; text-decoration-color: #008080; font-weight: bold\">0.1403</span>, <span style=\"color: #008080; text-decoration-color: #008080; font-weight: bold\">0.1413</span>, <span style=\"color: #008080; text-decoration-color: #008080; font-weight: bold\">0.1423</span>, <span style=\"color: #008080; text-decoration-color: #008080; font-weight: bold\">0.1433</span>, <span style=\"color: #008080; text-decoration-color: #008080; font-weight: bold\">0.1443</span>,\n",
       "        <span style=\"color: #008080; text-decoration-color: #008080; font-weight: bold\">0.1453</span>, <span style=\"color: #008080; text-decoration-color: #008080; font-weight: bold\">0.1463</span>, <span style=\"color: #008080; text-decoration-color: #008080; font-weight: bold\">0.1473</span>, <span style=\"color: #008080; text-decoration-color: #008080; font-weight: bold\">0.1483</span>, <span style=\"color: #008080; text-decoration-color: #008080; font-weight: bold\">0.1493</span>, <span style=\"color: #008080; text-decoration-color: #008080; font-weight: bold\">0.1504</span>, <span style=\"color: #008080; text-decoration-color: #008080; font-weight: bold\">0.1514</span>, <span style=\"color: #008080; text-decoration-color: #008080; font-weight: bold\">0.1525</span>, <span style=\"color: #008080; text-decoration-color: #008080; font-weight: bold\">0.1535</span>,\n",
       "        <span style=\"color: #008080; text-decoration-color: #008080; font-weight: bold\">0.1546</span>, <span style=\"color: #008080; text-decoration-color: #008080; font-weight: bold\">0.1557</span>, <span style=\"color: #008080; text-decoration-color: #008080; font-weight: bold\">0.1567</span>, <span style=\"color: #008080; text-decoration-color: #008080; font-weight: bold\">0.1578</span>, <span style=\"color: #008080; text-decoration-color: #008080; font-weight: bold\">0.1589</span>, <span style=\"color: #008080; text-decoration-color: #008080; font-weight: bold\">0.1600</span>, <span style=\"color: #008080; text-decoration-color: #008080; font-weight: bold\">0.1611</span>, <span style=\"color: #008080; text-decoration-color: #008080; font-weight: bold\">0.1623</span>, <span style=\"color: #008080; text-decoration-color: #008080; font-weight: bold\">0.1634</span>,\n",
       "        <span style=\"color: #008080; text-decoration-color: #008080; font-weight: bold\">0.1645</span>, <span style=\"color: #008080; text-decoration-color: #008080; font-weight: bold\">0.1657</span>, <span style=\"color: #008080; text-decoration-color: #008080; font-weight: bold\">0.1668</span>, <span style=\"color: #008080; text-decoration-color: #008080; font-weight: bold\">0.1680</span>, <span style=\"color: #008080; text-decoration-color: #008080; font-weight: bold\">0.1691</span>, <span style=\"color: #008080; text-decoration-color: #008080; font-weight: bold\">0.1703</span>, <span style=\"color: #008080; text-decoration-color: #008080; font-weight: bold\">0.1715</span>, <span style=\"color: #008080; text-decoration-color: #008080; font-weight: bold\">0.1727</span>, <span style=\"color: #008080; text-decoration-color: #008080; font-weight: bold\">0.1739</span>,\n",
       "        <span style=\"color: #008080; text-decoration-color: #008080; font-weight: bold\">0.1751</span>, <span style=\"color: #008080; text-decoration-color: #008080; font-weight: bold\">0.1763</span>, <span style=\"color: #008080; text-decoration-color: #008080; font-weight: bold\">0.1775</span>, <span style=\"color: #008080; text-decoration-color: #008080; font-weight: bold\">0.1788</span>, <span style=\"color: #008080; text-decoration-color: #008080; font-weight: bold\">0.1800</span>, <span style=\"color: #008080; text-decoration-color: #008080; font-weight: bold\">0.1812</span>, <span style=\"color: #008080; text-decoration-color: #008080; font-weight: bold\">0.1825</span>, <span style=\"color: #008080; text-decoration-color: #008080; font-weight: bold\">0.1838</span>, <span style=\"color: #008080; text-decoration-color: #008080; font-weight: bold\">0.1850</span>,\n",
       "        <span style=\"color: #008080; text-decoration-color: #008080; font-weight: bold\">0.1863</span>, <span style=\"color: #008080; text-decoration-color: #008080; font-weight: bold\">0.1876</span>, <span style=\"color: #008080; text-decoration-color: #008080; font-weight: bold\">0.1889</span>, <span style=\"color: #008080; text-decoration-color: #008080; font-weight: bold\">0.1902</span>, <span style=\"color: #008080; text-decoration-color: #008080; font-weight: bold\">0.1916</span>, <span style=\"color: #008080; text-decoration-color: #008080; font-weight: bold\">0.1929</span>, <span style=\"color: #008080; text-decoration-color: #008080; font-weight: bold\">0.1942</span>, <span style=\"color: #008080; text-decoration-color: #008080; font-weight: bold\">0.1956</span>, <span style=\"color: #008080; text-decoration-color: #008080; font-weight: bold\">0.1969</span>,\n",
       "        <span style=\"color: #008080; text-decoration-color: #008080; font-weight: bold\">0.1983</span>, <span style=\"color: #008080; text-decoration-color: #008080; font-weight: bold\">0.1997</span>, <span style=\"color: #008080; text-decoration-color: #008080; font-weight: bold\">0.2010</span>, <span style=\"color: #008080; text-decoration-color: #008080; font-weight: bold\">0.2024</span>, <span style=\"color: #008080; text-decoration-color: #008080; font-weight: bold\">0.2038</span>, <span style=\"color: #008080; text-decoration-color: #008080; font-weight: bold\">0.2053</span>, <span style=\"color: #008080; text-decoration-color: #008080; font-weight: bold\">0.2067</span>, <span style=\"color: #008080; text-decoration-color: #008080; font-weight: bold\">0.2081</span>, <span style=\"color: #008080; text-decoration-color: #008080; font-weight: bold\">0.2096</span>,\n",
       "        <span style=\"color: #008080; text-decoration-color: #008080; font-weight: bold\">0.2110</span>, <span style=\"color: #008080; text-decoration-color: #008080; font-weight: bold\">0.2125</span>, <span style=\"color: #008080; text-decoration-color: #008080; font-weight: bold\">0.2140</span>, <span style=\"color: #008080; text-decoration-color: #008080; font-weight: bold\">0.2154</span>, <span style=\"color: #008080; text-decoration-color: #008080; font-weight: bold\">0.2169</span>, <span style=\"color: #008080; text-decoration-color: #008080; font-weight: bold\">0.2184</span>, <span style=\"color: #008080; text-decoration-color: #008080; font-weight: bold\">0.2200</span>, <span style=\"color: #008080; text-decoration-color: #008080; font-weight: bold\">0.2215</span>, <span style=\"color: #008080; text-decoration-color: #008080; font-weight: bold\">0.2230</span>,\n",
       "        <span style=\"color: #008080; text-decoration-color: #008080; font-weight: bold\">0.2246</span>, <span style=\"color: #008080; text-decoration-color: #008080; font-weight: bold\">0.2261</span>, <span style=\"color: #008080; text-decoration-color: #008080; font-weight: bold\">0.2277</span>, <span style=\"color: #008080; text-decoration-color: #008080; font-weight: bold\">0.2293</span>, <span style=\"color: #008080; text-decoration-color: #008080; font-weight: bold\">0.2309</span>, <span style=\"color: #008080; text-decoration-color: #008080; font-weight: bold\">0.2325</span>, <span style=\"color: #008080; text-decoration-color: #008080; font-weight: bold\">0.2341</span>, <span style=\"color: #008080; text-decoration-color: #008080; font-weight: bold\">0.2357</span>, <span style=\"color: #008080; text-decoration-color: #008080; font-weight: bold\">0.2373</span>,\n",
       "        <span style=\"color: #008080; text-decoration-color: #008080; font-weight: bold\">0.2390</span>, <span style=\"color: #008080; text-decoration-color: #008080; font-weight: bold\">0.2406</span>, <span style=\"color: #008080; text-decoration-color: #008080; font-weight: bold\">0.2423</span>, <span style=\"color: #008080; text-decoration-color: #008080; font-weight: bold\">0.2440</span>, <span style=\"color: #008080; text-decoration-color: #008080; font-weight: bold\">0.2457</span>, <span style=\"color: #008080; text-decoration-color: #008080; font-weight: bold\">0.2474</span>, <span style=\"color: #008080; text-decoration-color: #008080; font-weight: bold\">0.2491</span>, <span style=\"color: #008080; text-decoration-color: #008080; font-weight: bold\">0.2508</span>, <span style=\"color: #008080; text-decoration-color: #008080; font-weight: bold\">0.2526</span>,\n",
       "        <span style=\"color: #008080; text-decoration-color: #008080; font-weight: bold\">0.2543</span>, <span style=\"color: #008080; text-decoration-color: #008080; font-weight: bold\">0.2561</span>, <span style=\"color: #008080; text-decoration-color: #008080; font-weight: bold\">0.2579</span>, <span style=\"color: #008080; text-decoration-color: #008080; font-weight: bold\">0.2597</span>, <span style=\"color: #008080; text-decoration-color: #008080; font-weight: bold\">0.2615</span>, <span style=\"color: #008080; text-decoration-color: #008080; font-weight: bold\">0.2633</span>, <span style=\"color: #008080; text-decoration-color: #008080; font-weight: bold\">0.2651</span>, <span style=\"color: #008080; text-decoration-color: #008080; font-weight: bold\">0.2669</span>, <span style=\"color: #008080; text-decoration-color: #008080; font-weight: bold\">0.2688</span>,\n",
       "        <span style=\"color: #008080; text-decoration-color: #008080; font-weight: bold\">0.2707</span>, <span style=\"color: #008080; text-decoration-color: #008080; font-weight: bold\">0.2725</span>, <span style=\"color: #008080; text-decoration-color: #008080; font-weight: bold\">0.2744</span>, <span style=\"color: #008080; text-decoration-color: #008080; font-weight: bold\">0.2763</span>, <span style=\"color: #008080; text-decoration-color: #008080; font-weight: bold\">0.2783</span>, <span style=\"color: #008080; text-decoration-color: #008080; font-weight: bold\">0.2802</span>, <span style=\"color: #008080; text-decoration-color: #008080; font-weight: bold\">0.2821</span>, <span style=\"color: #008080; text-decoration-color: #008080; font-weight: bold\">0.2841</span>, <span style=\"color: #008080; text-decoration-color: #008080; font-weight: bold\">0.2861</span>,\n",
       "        <span style=\"color: #008080; text-decoration-color: #008080; font-weight: bold\">0.2880</span>, <span style=\"color: #008080; text-decoration-color: #008080; font-weight: bold\">0.2900</span>, <span style=\"color: #008080; text-decoration-color: #008080; font-weight: bold\">0.2921</span>, <span style=\"color: #008080; text-decoration-color: #008080; font-weight: bold\">0.2941</span>, <span style=\"color: #008080; text-decoration-color: #008080; font-weight: bold\">0.2961</span>, <span style=\"color: #008080; text-decoration-color: #008080; font-weight: bold\">0.2982</span>, <span style=\"color: #008080; text-decoration-color: #008080; font-weight: bold\">0.3002</span>, <span style=\"color: #008080; text-decoration-color: #008080; font-weight: bold\">0.3023</span>, <span style=\"color: #008080; text-decoration-color: #008080; font-weight: bold\">0.3044</span>,\n",
       "        <span style=\"color: #008080; text-decoration-color: #008080; font-weight: bold\">0.3065</span>, <span style=\"color: #008080; text-decoration-color: #008080; font-weight: bold\">0.3087</span>, <span style=\"color: #008080; text-decoration-color: #008080; font-weight: bold\">0.3108</span>, <span style=\"color: #008080; text-decoration-color: #008080; font-weight: bold\">0.3130</span>, <span style=\"color: #008080; text-decoration-color: #008080; font-weight: bold\">0.3151</span>, <span style=\"color: #008080; text-decoration-color: #008080; font-weight: bold\">0.3173</span>, <span style=\"color: #008080; text-decoration-color: #008080; font-weight: bold\">0.3195</span>, <span style=\"color: #008080; text-decoration-color: #008080; font-weight: bold\">0.3217</span>, <span style=\"color: #008080; text-decoration-color: #008080; font-weight: bold\">0.3240</span>,\n",
       "        <span style=\"color: #008080; text-decoration-color: #008080; font-weight: bold\">0.3262</span>, <span style=\"color: #008080; text-decoration-color: #008080; font-weight: bold\">0.3285</span>, <span style=\"color: #008080; text-decoration-color: #008080; font-weight: bold\">0.3308</span>, <span style=\"color: #008080; text-decoration-color: #008080; font-weight: bold\">0.3331</span>, <span style=\"color: #008080; text-decoration-color: #008080; font-weight: bold\">0.3354</span>, <span style=\"color: #008080; text-decoration-color: #008080; font-weight: bold\">0.3377</span>, <span style=\"color: #008080; text-decoration-color: #008080; font-weight: bold\">0.3400</span>, <span style=\"color: #008080; text-decoration-color: #008080; font-weight: bold\">0.3424</span>, <span style=\"color: #008080; text-decoration-color: #008080; font-weight: bold\">0.3448</span>,\n",
       "        <span style=\"color: #008080; text-decoration-color: #008080; font-weight: bold\">0.3472</span>, <span style=\"color: #008080; text-decoration-color: #008080; font-weight: bold\">0.3496</span>, <span style=\"color: #008080; text-decoration-color: #008080; font-weight: bold\">0.3520</span>, <span style=\"color: #008080; text-decoration-color: #008080; font-weight: bold\">0.3544</span>, <span style=\"color: #008080; text-decoration-color: #008080; font-weight: bold\">0.3569</span>, <span style=\"color: #008080; text-decoration-color: #008080; font-weight: bold\">0.3594</span>, <span style=\"color: #008080; text-decoration-color: #008080; font-weight: bold\">0.3619</span>, <span style=\"color: #008080; text-decoration-color: #008080; font-weight: bold\">0.3644</span>, <span style=\"color: #008080; text-decoration-color: #008080; font-weight: bold\">0.3669</span>,\n",
       "        <span style=\"color: #008080; text-decoration-color: #008080; font-weight: bold\">0.3695</span>, <span style=\"color: #008080; text-decoration-color: #008080; font-weight: bold\">0.3720</span>, <span style=\"color: #008080; text-decoration-color: #008080; font-weight: bold\">0.3746</span>, <span style=\"color: #008080; text-decoration-color: #008080; font-weight: bold\">0.3772</span>, <span style=\"color: #008080; text-decoration-color: #008080; font-weight: bold\">0.3798</span>, <span style=\"color: #008080; text-decoration-color: #008080; font-weight: bold\">0.3825</span>, <span style=\"color: #008080; text-decoration-color: #008080; font-weight: bold\">0.3851</span>, <span style=\"color: #008080; text-decoration-color: #008080; font-weight: bold\">0.3878</span>, <span style=\"color: #008080; text-decoration-color: #008080; font-weight: bold\">0.3905</span>,\n",
       "        <span style=\"color: #008080; text-decoration-color: #008080; font-weight: bold\">0.3932</span>, <span style=\"color: #008080; text-decoration-color: #008080; font-weight: bold\">0.3959</span>, <span style=\"color: #008080; text-decoration-color: #008080; font-weight: bold\">0.3987</span>, <span style=\"color: #008080; text-decoration-color: #008080; font-weight: bold\">0.4014</span>, <span style=\"color: #008080; text-decoration-color: #008080; font-weight: bold\">0.4042</span>, <span style=\"color: #008080; text-decoration-color: #008080; font-weight: bold\">0.4070</span>, <span style=\"color: #008080; text-decoration-color: #008080; font-weight: bold\">0.4098</span>, <span style=\"color: #008080; text-decoration-color: #008080; font-weight: bold\">0.4127</span>, <span style=\"color: #008080; text-decoration-color: #008080; font-weight: bold\">0.4155</span>,\n",
       "        <span style=\"color: #008080; text-decoration-color: #008080; font-weight: bold\">0.4184</span>, <span style=\"color: #008080; text-decoration-color: #008080; font-weight: bold\">0.4213</span>, <span style=\"color: #008080; text-decoration-color: #008080; font-weight: bold\">0.4243</span>, <span style=\"color: #008080; text-decoration-color: #008080; font-weight: bold\">0.4272</span>, <span style=\"color: #008080; text-decoration-color: #008080; font-weight: bold\">0.4302</span>, <span style=\"color: #008080; text-decoration-color: #008080; font-weight: bold\">0.4331</span>, <span style=\"color: #008080; text-decoration-color: #008080; font-weight: bold\">0.4362</span>, <span style=\"color: #008080; text-decoration-color: #008080; font-weight: bold\">0.4392</span>, <span style=\"color: #008080; text-decoration-color: #008080; font-weight: bold\">0.4422</span>,\n",
       "        <span style=\"color: #008080; text-decoration-color: #008080; font-weight: bold\">0.4453</span>, <span style=\"color: #008080; text-decoration-color: #008080; font-weight: bold\">0.4484</span>, <span style=\"color: #008080; text-decoration-color: #008080; font-weight: bold\">0.4515</span>, <span style=\"color: #008080; text-decoration-color: #008080; font-weight: bold\">0.4546</span>, <span style=\"color: #008080; text-decoration-color: #008080; font-weight: bold\">0.4578</span>, <span style=\"color: #008080; text-decoration-color: #008080; font-weight: bold\">0.4610</span>, <span style=\"color: #008080; text-decoration-color: #008080; font-weight: bold\">0.4642</span>, <span style=\"color: #008080; text-decoration-color: #008080; font-weight: bold\">0.4674</span>, <span style=\"color: #008080; text-decoration-color: #008080; font-weight: bold\">0.4706</span>,\n",
       "        <span style=\"color: #008080; text-decoration-color: #008080; font-weight: bold\">0.4739</span>, <span style=\"color: #008080; text-decoration-color: #008080; font-weight: bold\">0.4772</span>, <span style=\"color: #008080; text-decoration-color: #008080; font-weight: bold\">0.4805</span>, <span style=\"color: #008080; text-decoration-color: #008080; font-weight: bold\">0.4838</span>, <span style=\"color: #008080; text-decoration-color: #008080; font-weight: bold\">0.4872</span>, <span style=\"color: #008080; text-decoration-color: #008080; font-weight: bold\">0.4906</span>, <span style=\"color: #008080; text-decoration-color: #008080; font-weight: bold\">0.4940</span>, <span style=\"color: #008080; text-decoration-color: #008080; font-weight: bold\">0.4974</span>, <span style=\"color: #008080; text-decoration-color: #008080; font-weight: bold\">0.5008</span>,\n",
       "        <span style=\"color: #008080; text-decoration-color: #008080; font-weight: bold\">0.5043</span>, <span style=\"color: #008080; text-decoration-color: #008080; font-weight: bold\">0.5078</span>, <span style=\"color: #008080; text-decoration-color: #008080; font-weight: bold\">0.5113</span>, <span style=\"color: #008080; text-decoration-color: #008080; font-weight: bold\">0.5149</span>, <span style=\"color: #008080; text-decoration-color: #008080; font-weight: bold\">0.5185</span>, <span style=\"color: #008080; text-decoration-color: #008080; font-weight: bold\">0.5221</span>, <span style=\"color: #008080; text-decoration-color: #008080; font-weight: bold\">0.5257</span>, <span style=\"color: #008080; text-decoration-color: #008080; font-weight: bold\">0.5293</span>, <span style=\"color: #008080; text-decoration-color: #008080; font-weight: bold\">0.5330</span>,\n",
       "        <span style=\"color: #008080; text-decoration-color: #008080; font-weight: bold\">0.5367</span>, <span style=\"color: #008080; text-decoration-color: #008080; font-weight: bold\">0.5404</span>, <span style=\"color: #008080; text-decoration-color: #008080; font-weight: bold\">0.5442</span>, <span style=\"color: #008080; text-decoration-color: #008080; font-weight: bold\">0.5479</span>, <span style=\"color: #008080; text-decoration-color: #008080; font-weight: bold\">0.5517</span>, <span style=\"color: #008080; text-decoration-color: #008080; font-weight: bold\">0.5556</span>, <span style=\"color: #008080; text-decoration-color: #008080; font-weight: bold\">0.5594</span>, <span style=\"color: #008080; text-decoration-color: #008080; font-weight: bold\">0.5633</span>, <span style=\"color: #008080; text-decoration-color: #008080; font-weight: bold\">0.5672</span>,\n",
       "        <span style=\"color: #008080; text-decoration-color: #008080; font-weight: bold\">0.5712</span>, <span style=\"color: #008080; text-decoration-color: #008080; font-weight: bold\">0.5751</span>, <span style=\"color: #008080; text-decoration-color: #008080; font-weight: bold\">0.5791</span>, <span style=\"color: #008080; text-decoration-color: #008080; font-weight: bold\">0.5831</span>, <span style=\"color: #008080; text-decoration-color: #008080; font-weight: bold\">0.5872</span>, <span style=\"color: #008080; text-decoration-color: #008080; font-weight: bold\">0.5913</span>, <span style=\"color: #008080; text-decoration-color: #008080; font-weight: bold\">0.5954</span>, <span style=\"color: #008080; text-decoration-color: #008080; font-weight: bold\">0.5995</span>, <span style=\"color: #008080; text-decoration-color: #008080; font-weight: bold\">0.6036</span>,\n",
       "        <span style=\"color: #008080; text-decoration-color: #008080; font-weight: bold\">0.6078</span>, <span style=\"color: #008080; text-decoration-color: #008080; font-weight: bold\">0.6120</span>, <span style=\"color: #008080; text-decoration-color: #008080; font-weight: bold\">0.6163</span>, <span style=\"color: #008080; text-decoration-color: #008080; font-weight: bold\">0.6206</span>, <span style=\"color: #008080; text-decoration-color: #008080; font-weight: bold\">0.6249</span>, <span style=\"color: #008080; text-decoration-color: #008080; font-weight: bold\">0.6292</span>, <span style=\"color: #008080; text-decoration-color: #008080; font-weight: bold\">0.6336</span>, <span style=\"color: #008080; text-decoration-color: #008080; font-weight: bold\">0.6380</span>, <span style=\"color: #008080; text-decoration-color: #008080; font-weight: bold\">0.6424</span>,\n",
       "        <span style=\"color: #008080; text-decoration-color: #008080; font-weight: bold\">0.6469</span>, <span style=\"color: #008080; text-decoration-color: #008080; font-weight: bold\">0.6513</span>, <span style=\"color: #008080; text-decoration-color: #008080; font-weight: bold\">0.6559</span>, <span style=\"color: #008080; text-decoration-color: #008080; font-weight: bold\">0.6604</span>, <span style=\"color: #008080; text-decoration-color: #008080; font-weight: bold\">0.6650</span>, <span style=\"color: #008080; text-decoration-color: #008080; font-weight: bold\">0.6696</span>, <span style=\"color: #008080; text-decoration-color: #008080; font-weight: bold\">0.6743</span>, <span style=\"color: #008080; text-decoration-color: #008080; font-weight: bold\">0.6789</span>, <span style=\"color: #008080; text-decoration-color: #008080; font-weight: bold\">0.6837</span>,\n",
       "        <span style=\"color: #008080; text-decoration-color: #008080; font-weight: bold\">0.6884</span>, <span style=\"color: #008080; text-decoration-color: #008080; font-weight: bold\">0.6932</span>, <span style=\"color: #008080; text-decoration-color: #008080; font-weight: bold\">0.6980</span>, <span style=\"color: #008080; text-decoration-color: #008080; font-weight: bold\">0.7028</span>, <span style=\"color: #008080; text-decoration-color: #008080; font-weight: bold\">0.7077</span>, <span style=\"color: #008080; text-decoration-color: #008080; font-weight: bold\">0.7126</span>, <span style=\"color: #008080; text-decoration-color: #008080; font-weight: bold\">0.7176</span>, <span style=\"color: #008080; text-decoration-color: #008080; font-weight: bold\">0.7225</span>, <span style=\"color: #008080; text-decoration-color: #008080; font-weight: bold\">0.7275</span>,\n",
       "        <span style=\"color: #008080; text-decoration-color: #008080; font-weight: bold\">0.7326</span>, <span style=\"color: #008080; text-decoration-color: #008080; font-weight: bold\">0.7377</span>, <span style=\"color: #008080; text-decoration-color: #008080; font-weight: bold\">0.7428</span>, <span style=\"color: #008080; text-decoration-color: #008080; font-weight: bold\">0.7480</span>, <span style=\"color: #008080; text-decoration-color: #008080; font-weight: bold\">0.7531</span>, <span style=\"color: #008080; text-decoration-color: #008080; font-weight: bold\">0.7584</span>, <span style=\"color: #008080; text-decoration-color: #008080; font-weight: bold\">0.7636</span>, <span style=\"color: #008080; text-decoration-color: #008080; font-weight: bold\">0.7689</span>, <span style=\"color: #008080; text-decoration-color: #008080; font-weight: bold\">0.7743</span>,\n",
       "        <span style=\"color: #008080; text-decoration-color: #008080; font-weight: bold\">0.7796</span>, <span style=\"color: #008080; text-decoration-color: #008080; font-weight: bold\">0.7850</span>, <span style=\"color: #008080; text-decoration-color: #008080; font-weight: bold\">0.7905</span>, <span style=\"color: #008080; text-decoration-color: #008080; font-weight: bold\">0.7960</span>, <span style=\"color: #008080; text-decoration-color: #008080; font-weight: bold\">0.8015</span>, <span style=\"color: #008080; text-decoration-color: #008080; font-weight: bold\">0.8071</span>, <span style=\"color: #008080; text-decoration-color: #008080; font-weight: bold\">0.8127</span>, <span style=\"color: #008080; text-decoration-color: #008080; font-weight: bold\">0.8183</span>, <span style=\"color: #008080; text-decoration-color: #008080; font-weight: bold\">0.8240</span>,\n",
       "        <span style=\"color: #008080; text-decoration-color: #008080; font-weight: bold\">0.8297</span>, <span style=\"color: #008080; text-decoration-color: #008080; font-weight: bold\">0.8355</span>, <span style=\"color: #008080; text-decoration-color: #008080; font-weight: bold\">0.8412</span>, <span style=\"color: #008080; text-decoration-color: #008080; font-weight: bold\">0.8471</span>, <span style=\"color: #008080; text-decoration-color: #008080; font-weight: bold\">0.8530</span>, <span style=\"color: #008080; text-decoration-color: #008080; font-weight: bold\">0.8589</span>, <span style=\"color: #008080; text-decoration-color: #008080; font-weight: bold\">0.8648</span>, <span style=\"color: #008080; text-decoration-color: #008080; font-weight: bold\">0.8708</span>, <span style=\"color: #008080; text-decoration-color: #008080; font-weight: bold\">0.8769</span>,\n",
       "        <span style=\"color: #008080; text-decoration-color: #008080; font-weight: bold\">0.8830</span>, <span style=\"color: #008080; text-decoration-color: #008080; font-weight: bold\">0.8891</span>, <span style=\"color: #008080; text-decoration-color: #008080; font-weight: bold\">0.8953</span>, <span style=\"color: #008080; text-decoration-color: #008080; font-weight: bold\">0.9015</span>, <span style=\"color: #008080; text-decoration-color: #008080; font-weight: bold\">0.9077</span>, <span style=\"color: #008080; text-decoration-color: #008080; font-weight: bold\">0.9140</span>, <span style=\"color: #008080; text-decoration-color: #008080; font-weight: bold\">0.9204</span>, <span style=\"color: #008080; text-decoration-color: #008080; font-weight: bold\">0.9268</span>, <span style=\"color: #008080; text-decoration-color: #008080; font-weight: bold\">0.9332</span>,\n",
       "        <span style=\"color: #008080; text-decoration-color: #008080; font-weight: bold\">0.9397</span>, <span style=\"color: #008080; text-decoration-color: #008080; font-weight: bold\">0.9462</span>, <span style=\"color: #008080; text-decoration-color: #008080; font-weight: bold\">0.9528</span>, <span style=\"color: #008080; text-decoration-color: #008080; font-weight: bold\">0.9594</span>, <span style=\"color: #008080; text-decoration-color: #008080; font-weight: bold\">0.9660</span>, <span style=\"color: #008080; text-decoration-color: #008080; font-weight: bold\">0.9727</span>, <span style=\"color: #008080; text-decoration-color: #008080; font-weight: bold\">0.9795</span>, <span style=\"color: #008080; text-decoration-color: #008080; font-weight: bold\">0.9863</span>, <span style=\"color: #008080; text-decoration-color: #008080; font-weight: bold\">0.9931</span>,\n",
       "        <span style=\"color: #008080; text-decoration-color: #008080; font-weight: bold\">1.0000</span><span style=\"font-weight: bold\">])</span>\n",
       "</pre>\n"
      ],
      "text/plain": [
       "\n",
       "\u001b[1;35mtensor\u001b[0m\u001b[1m(\u001b[0m\u001b[1m[\u001b[0m\u001b[1;36m0.0010\u001b[0m, \u001b[1;36m0.0010\u001b[0m, \u001b[1;36m0.0010\u001b[0m, \u001b[1;36m0.0010\u001b[0m, \u001b[1;36m0.0010\u001b[0m, \u001b[1;36m0.0010\u001b[0m, \u001b[1;36m0.0010\u001b[0m, \u001b[1;36m0.0010\u001b[0m, \u001b[1;36m0.0011\u001b[0m,\n",
       "        \u001b[1;36m0.0011\u001b[0m, \u001b[1;36m0.0011\u001b[0m, \u001b[1;36m0.0011\u001b[0m, \u001b[1;36m0.0011\u001b[0m, \u001b[1;36m0.0011\u001b[0m, \u001b[1;36m0.0011\u001b[0m, \u001b[1;36m0.0011\u001b[0m, \u001b[1;36m0.0011\u001b[0m, \u001b[1;36m0.0011\u001b[0m,\n",
       "        \u001b[1;36m0.0011\u001b[0m, \u001b[1;36m0.0011\u001b[0m, \u001b[1;36m0.0011\u001b[0m, \u001b[1;36m0.0012\u001b[0m, \u001b[1;36m0.0012\u001b[0m, \u001b[1;36m0.0012\u001b[0m, \u001b[1;36m0.0012\u001b[0m, \u001b[1;36m0.0012\u001b[0m, \u001b[1;36m0.0012\u001b[0m,\n",
       "        \u001b[1;36m0.0012\u001b[0m, \u001b[1;36m0.0012\u001b[0m, \u001b[1;36m0.0012\u001b[0m, \u001b[1;36m0.0012\u001b[0m, \u001b[1;36m0.0012\u001b[0m, \u001b[1;36m0.0012\u001b[0m, \u001b[1;36m0.0013\u001b[0m, \u001b[1;36m0.0013\u001b[0m, \u001b[1;36m0.0013\u001b[0m,\n",
       "        \u001b[1;36m0.0013\u001b[0m, \u001b[1;36m0.0013\u001b[0m, \u001b[1;36m0.0013\u001b[0m, \u001b[1;36m0.0013\u001b[0m, \u001b[1;36m0.0013\u001b[0m, \u001b[1;36m0.0013\u001b[0m, \u001b[1;36m0.0013\u001b[0m, \u001b[1;36m0.0013\u001b[0m, \u001b[1;36m0.0014\u001b[0m,\n",
       "        \u001b[1;36m0.0014\u001b[0m, \u001b[1;36m0.0014\u001b[0m, \u001b[1;36m0.0014\u001b[0m, \u001b[1;36m0.0014\u001b[0m, \u001b[1;36m0.0014\u001b[0m, \u001b[1;36m0.0014\u001b[0m, \u001b[1;36m0.0014\u001b[0m, \u001b[1;36m0.0014\u001b[0m, \u001b[1;36m0.0014\u001b[0m,\n",
       "        \u001b[1;36m0.0015\u001b[0m, \u001b[1;36m0.0015\u001b[0m, \u001b[1;36m0.0015\u001b[0m, \u001b[1;36m0.0015\u001b[0m, \u001b[1;36m0.0015\u001b[0m, \u001b[1;36m0.0015\u001b[0m, \u001b[1;36m0.0015\u001b[0m, \u001b[1;36m0.0015\u001b[0m, \u001b[1;36m0.0015\u001b[0m,\n",
       "        \u001b[1;36m0.0015\u001b[0m, \u001b[1;36m0.0016\u001b[0m, \u001b[1;36m0.0016\u001b[0m, \u001b[1;36m0.0016\u001b[0m, \u001b[1;36m0.0016\u001b[0m, \u001b[1;36m0.0016\u001b[0m, \u001b[1;36m0.0016\u001b[0m, \u001b[1;36m0.0016\u001b[0m, \u001b[1;36m0.0016\u001b[0m,\n",
       "        \u001b[1;36m0.0016\u001b[0m, \u001b[1;36m0.0017\u001b[0m, \u001b[1;36m0.0017\u001b[0m, \u001b[1;36m0.0017\u001b[0m, \u001b[1;36m0.0017\u001b[0m, \u001b[1;36m0.0017\u001b[0m, \u001b[1;36m0.0017\u001b[0m, \u001b[1;36m0.0017\u001b[0m, \u001b[1;36m0.0017\u001b[0m,\n",
       "        \u001b[1;36m0.0018\u001b[0m, \u001b[1;36m0.0018\u001b[0m, \u001b[1;36m0.0018\u001b[0m, \u001b[1;36m0.0018\u001b[0m, \u001b[1;36m0.0018\u001b[0m, \u001b[1;36m0.0018\u001b[0m, \u001b[1;36m0.0018\u001b[0m, \u001b[1;36m0.0018\u001b[0m, \u001b[1;36m0.0019\u001b[0m,\n",
       "        \u001b[1;36m0.0019\u001b[0m, \u001b[1;36m0.0019\u001b[0m, \u001b[1;36m0.0019\u001b[0m, \u001b[1;36m0.0019\u001b[0m, \u001b[1;36m0.0019\u001b[0m, \u001b[1;36m0.0019\u001b[0m, \u001b[1;36m0.0019\u001b[0m, \u001b[1;36m0.0020\u001b[0m, \u001b[1;36m0.0020\u001b[0m,\n",
       "        \u001b[1;36m0.0020\u001b[0m, \u001b[1;36m0.0020\u001b[0m, \u001b[1;36m0.0020\u001b[0m, \u001b[1;36m0.0020\u001b[0m, \u001b[1;36m0.0020\u001b[0m, \u001b[1;36m0.0021\u001b[0m, \u001b[1;36m0.0021\u001b[0m, \u001b[1;36m0.0021\u001b[0m, \u001b[1;36m0.0021\u001b[0m,\n",
       "        \u001b[1;36m0.0021\u001b[0m, \u001b[1;36m0.0021\u001b[0m, \u001b[1;36m0.0021\u001b[0m, \u001b[1;36m0.0022\u001b[0m, \u001b[1;36m0.0022\u001b[0m, \u001b[1;36m0.0022\u001b[0m, \u001b[1;36m0.0022\u001b[0m, \u001b[1;36m0.0022\u001b[0m, \u001b[1;36m0.0022\u001b[0m,\n",
       "        \u001b[1;36m0.0022\u001b[0m, \u001b[1;36m0.0023\u001b[0m, \u001b[1;36m0.0023\u001b[0m, \u001b[1;36m0.0023\u001b[0m, \u001b[1;36m0.0023\u001b[0m, \u001b[1;36m0.0023\u001b[0m, \u001b[1;36m0.0023\u001b[0m, \u001b[1;36m0.0024\u001b[0m, \u001b[1;36m0.0024\u001b[0m,\n",
       "        \u001b[1;36m0.0024\u001b[0m, \u001b[1;36m0.0024\u001b[0m, \u001b[1;36m0.0024\u001b[0m, \u001b[1;36m0.0024\u001b[0m, \u001b[1;36m0.0025\u001b[0m, \u001b[1;36m0.0025\u001b[0m, \u001b[1;36m0.0025\u001b[0m, \u001b[1;36m0.0025\u001b[0m, \u001b[1;36m0.0025\u001b[0m,\n",
       "        \u001b[1;36m0.0025\u001b[0m, \u001b[1;36m0.0026\u001b[0m, \u001b[1;36m0.0026\u001b[0m, \u001b[1;36m0.0026\u001b[0m, \u001b[1;36m0.0026\u001b[0m, \u001b[1;36m0.0026\u001b[0m, \u001b[1;36m0.0027\u001b[0m, \u001b[1;36m0.0027\u001b[0m, \u001b[1;36m0.0027\u001b[0m,\n",
       "        \u001b[1;36m0.0027\u001b[0m, \u001b[1;36m0.0027\u001b[0m, \u001b[1;36m0.0027\u001b[0m, \u001b[1;36m0.0028\u001b[0m, \u001b[1;36m0.0028\u001b[0m, \u001b[1;36m0.0028\u001b[0m, \u001b[1;36m0.0028\u001b[0m, \u001b[1;36m0.0028\u001b[0m, \u001b[1;36m0.0029\u001b[0m,\n",
       "        \u001b[1;36m0.0029\u001b[0m, \u001b[1;36m0.0029\u001b[0m, \u001b[1;36m0.0029\u001b[0m, \u001b[1;36m0.0029\u001b[0m, \u001b[1;36m0.0030\u001b[0m, \u001b[1;36m0.0030\u001b[0m, \u001b[1;36m0.0030\u001b[0m, \u001b[1;36m0.0030\u001b[0m, \u001b[1;36m0.0030\u001b[0m,\n",
       "        \u001b[1;36m0.0031\u001b[0m, \u001b[1;36m0.0031\u001b[0m, \u001b[1;36m0.0031\u001b[0m, \u001b[1;36m0.0031\u001b[0m, \u001b[1;36m0.0032\u001b[0m, \u001b[1;36m0.0032\u001b[0m, \u001b[1;36m0.0032\u001b[0m, \u001b[1;36m0.0032\u001b[0m, \u001b[1;36m0.0032\u001b[0m,\n",
       "        \u001b[1;36m0.0033\u001b[0m, \u001b[1;36m0.0033\u001b[0m, \u001b[1;36m0.0033\u001b[0m, \u001b[1;36m0.0033\u001b[0m, \u001b[1;36m0.0034\u001b[0m, \u001b[1;36m0.0034\u001b[0m, \u001b[1;36m0.0034\u001b[0m, \u001b[1;36m0.0034\u001b[0m, \u001b[1;36m0.0034\u001b[0m,\n",
       "        \u001b[1;36m0.0035\u001b[0m, \u001b[1;36m0.0035\u001b[0m, \u001b[1;36m0.0035\u001b[0m, \u001b[1;36m0.0035\u001b[0m, \u001b[1;36m0.0036\u001b[0m, \u001b[1;36m0.0036\u001b[0m, \u001b[1;36m0.0036\u001b[0m, \u001b[1;36m0.0036\u001b[0m, \u001b[1;36m0.0037\u001b[0m,\n",
       "        \u001b[1;36m0.0037\u001b[0m, \u001b[1;36m0.0037\u001b[0m, \u001b[1;36m0.0037\u001b[0m, \u001b[1;36m0.0038\u001b[0m, \u001b[1;36m0.0038\u001b[0m, \u001b[1;36m0.0038\u001b[0m, \u001b[1;36m0.0039\u001b[0m, \u001b[1;36m0.0039\u001b[0m, \u001b[1;36m0.0039\u001b[0m,\n",
       "        \u001b[1;36m0.0039\u001b[0m, \u001b[1;36m0.0040\u001b[0m, \u001b[1;36m0.0040\u001b[0m, \u001b[1;36m0.0040\u001b[0m, \u001b[1;36m0.0040\u001b[0m, \u001b[1;36m0.0041\u001b[0m, \u001b[1;36m0.0041\u001b[0m, \u001b[1;36m0.0041\u001b[0m, \u001b[1;36m0.0042\u001b[0m,\n",
       "        \u001b[1;36m0.0042\u001b[0m, \u001b[1;36m0.0042\u001b[0m, \u001b[1;36m0.0042\u001b[0m, \u001b[1;36m0.0043\u001b[0m, \u001b[1;36m0.0043\u001b[0m, \u001b[1;36m0.0043\u001b[0m, \u001b[1;36m0.0044\u001b[0m, \u001b[1;36m0.0044\u001b[0m, \u001b[1;36m0.0044\u001b[0m,\n",
       "        \u001b[1;36m0.0045\u001b[0m, \u001b[1;36m0.0045\u001b[0m, \u001b[1;36m0.0045\u001b[0m, \u001b[1;36m0.0045\u001b[0m, \u001b[1;36m0.0046\u001b[0m, \u001b[1;36m0.0046\u001b[0m, \u001b[1;36m0.0046\u001b[0m, \u001b[1;36m0.0047\u001b[0m, \u001b[1;36m0.0047\u001b[0m,\n",
       "        \u001b[1;36m0.0047\u001b[0m, \u001b[1;36m0.0048\u001b[0m, \u001b[1;36m0.0048\u001b[0m, \u001b[1;36m0.0048\u001b[0m, \u001b[1;36m0.0049\u001b[0m, \u001b[1;36m0.0049\u001b[0m, \u001b[1;36m0.0049\u001b[0m, \u001b[1;36m0.0050\u001b[0m, \u001b[1;36m0.0050\u001b[0m,\n",
       "        \u001b[1;36m0.0050\u001b[0m, \u001b[1;36m0.0051\u001b[0m, \u001b[1;36m0.0051\u001b[0m, \u001b[1;36m0.0051\u001b[0m, \u001b[1;36m0.0052\u001b[0m, \u001b[1;36m0.0052\u001b[0m, \u001b[1;36m0.0053\u001b[0m, \u001b[1;36m0.0053\u001b[0m, \u001b[1;36m0.0053\u001b[0m,\n",
       "        \u001b[1;36m0.0054\u001b[0m, \u001b[1;36m0.0054\u001b[0m, \u001b[1;36m0.0054\u001b[0m, \u001b[1;36m0.0055\u001b[0m, \u001b[1;36m0.0055\u001b[0m, \u001b[1;36m0.0056\u001b[0m, \u001b[1;36m0.0056\u001b[0m, \u001b[1;36m0.0056\u001b[0m, \u001b[1;36m0.0057\u001b[0m,\n",
       "        \u001b[1;36m0.0057\u001b[0m, \u001b[1;36m0.0058\u001b[0m, \u001b[1;36m0.0058\u001b[0m, \u001b[1;36m0.0058\u001b[0m, \u001b[1;36m0.0059\u001b[0m, \u001b[1;36m0.0059\u001b[0m, \u001b[1;36m0.0060\u001b[0m, \u001b[1;36m0.0060\u001b[0m, \u001b[1;36m0.0060\u001b[0m,\n",
       "        \u001b[1;36m0.0061\u001b[0m, \u001b[1;36m0.0061\u001b[0m, \u001b[1;36m0.0062\u001b[0m, \u001b[1;36m0.0062\u001b[0m, \u001b[1;36m0.0062\u001b[0m, \u001b[1;36m0.0063\u001b[0m, \u001b[1;36m0.0063\u001b[0m, \u001b[1;36m0.0064\u001b[0m, \u001b[1;36m0.0064\u001b[0m,\n",
       "        \u001b[1;36m0.0065\u001b[0m, \u001b[1;36m0.0065\u001b[0m, \u001b[1;36m0.0066\u001b[0m, \u001b[1;36m0.0066\u001b[0m, \u001b[1;36m0.0067\u001b[0m, \u001b[1;36m0.0067\u001b[0m, \u001b[1;36m0.0067\u001b[0m, \u001b[1;36m0.0068\u001b[0m, \u001b[1;36m0.0068\u001b[0m,\n",
       "        \u001b[1;36m0.0069\u001b[0m, \u001b[1;36m0.0069\u001b[0m, \u001b[1;36m0.0070\u001b[0m, \u001b[1;36m0.0070\u001b[0m, \u001b[1;36m0.0071\u001b[0m, \u001b[1;36m0.0071\u001b[0m, \u001b[1;36m0.0072\u001b[0m, \u001b[1;36m0.0072\u001b[0m, \u001b[1;36m0.0073\u001b[0m,\n",
       "        \u001b[1;36m0.0073\u001b[0m, \u001b[1;36m0.0074\u001b[0m, \u001b[1;36m0.0074\u001b[0m, \u001b[1;36m0.0075\u001b[0m, \u001b[1;36m0.0075\u001b[0m, \u001b[1;36m0.0076\u001b[0m, \u001b[1;36m0.0076\u001b[0m, \u001b[1;36m0.0077\u001b[0m, \u001b[1;36m0.0077\u001b[0m,\n",
       "        \u001b[1;36m0.0078\u001b[0m, \u001b[1;36m0.0079\u001b[0m, \u001b[1;36m0.0079\u001b[0m, \u001b[1;36m0.0080\u001b[0m, \u001b[1;36m0.0080\u001b[0m, \u001b[1;36m0.0081\u001b[0m, \u001b[1;36m0.0081\u001b[0m, \u001b[1;36m0.0082\u001b[0m, \u001b[1;36m0.0082\u001b[0m,\n",
       "        \u001b[1;36m0.0083\u001b[0m, \u001b[1;36m0.0084\u001b[0m, \u001b[1;36m0.0084\u001b[0m, \u001b[1;36m0.0085\u001b[0m, \u001b[1;36m0.0085\u001b[0m, \u001b[1;36m0.0086\u001b[0m, \u001b[1;36m0.0086\u001b[0m, \u001b[1;36m0.0087\u001b[0m, \u001b[1;36m0.0088\u001b[0m,\n",
       "        \u001b[1;36m0.0088\u001b[0m, \u001b[1;36m0.0089\u001b[0m, \u001b[1;36m0.0090\u001b[0m, \u001b[1;36m0.0090\u001b[0m, \u001b[1;36m0.0091\u001b[0m, \u001b[1;36m0.0091\u001b[0m, \u001b[1;36m0.0092\u001b[0m, \u001b[1;36m0.0093\u001b[0m, \u001b[1;36m0.0093\u001b[0m,\n",
       "        \u001b[1;36m0.0094\u001b[0m, \u001b[1;36m0.0095\u001b[0m, \u001b[1;36m0.0095\u001b[0m, \u001b[1;36m0.0096\u001b[0m, \u001b[1;36m0.0097\u001b[0m, \u001b[1;36m0.0097\u001b[0m, \u001b[1;36m0.0098\u001b[0m, \u001b[1;36m0.0099\u001b[0m, \u001b[1;36m0.0099\u001b[0m,\n",
       "        \u001b[1;36m0.0100\u001b[0m, \u001b[1;36m0.0101\u001b[0m, \u001b[1;36m0.0101\u001b[0m, \u001b[1;36m0.0102\u001b[0m, \u001b[1;36m0.0103\u001b[0m, \u001b[1;36m0.0104\u001b[0m, \u001b[1;36m0.0104\u001b[0m, \u001b[1;36m0.0105\u001b[0m, \u001b[1;36m0.0106\u001b[0m,\n",
       "        \u001b[1;36m0.0106\u001b[0m, \u001b[1;36m0.0107\u001b[0m, \u001b[1;36m0.0108\u001b[0m, \u001b[1;36m0.0109\u001b[0m, \u001b[1;36m0.0109\u001b[0m, \u001b[1;36m0.0110\u001b[0m, \u001b[1;36m0.0111\u001b[0m, \u001b[1;36m0.0112\u001b[0m, \u001b[1;36m0.0112\u001b[0m,\n",
       "        \u001b[1;36m0.0113\u001b[0m, \u001b[1;36m0.0114\u001b[0m, \u001b[1;36m0.0115\u001b[0m, \u001b[1;36m0.0116\u001b[0m, \u001b[1;36m0.0116\u001b[0m, \u001b[1;36m0.0117\u001b[0m, \u001b[1;36m0.0118\u001b[0m, \u001b[1;36m0.0119\u001b[0m, \u001b[1;36m0.0120\u001b[0m,\n",
       "        \u001b[1;36m0.0121\u001b[0m, \u001b[1;36m0.0121\u001b[0m, \u001b[1;36m0.0122\u001b[0m, \u001b[1;36m0.0123\u001b[0m, \u001b[1;36m0.0124\u001b[0m, \u001b[1;36m0.0125\u001b[0m, \u001b[1;36m0.0126\u001b[0m, \u001b[1;36m0.0127\u001b[0m, \u001b[1;36m0.0127\u001b[0m,\n",
       "        \u001b[1;36m0.0128\u001b[0m, \u001b[1;36m0.0129\u001b[0m, \u001b[1;36m0.0130\u001b[0m, \u001b[1;36m0.0131\u001b[0m, \u001b[1;36m0.0132\u001b[0m, \u001b[1;36m0.0133\u001b[0m, \u001b[1;36m0.0134\u001b[0m, \u001b[1;36m0.0135\u001b[0m, \u001b[1;36m0.0136\u001b[0m,\n",
       "        \u001b[1;36m0.0137\u001b[0m, \u001b[1;36m0.0137\u001b[0m, \u001b[1;36m0.0138\u001b[0m, \u001b[1;36m0.0139\u001b[0m, \u001b[1;36m0.0140\u001b[0m, \u001b[1;36m0.0141\u001b[0m, \u001b[1;36m0.0142\u001b[0m, \u001b[1;36m0.0143\u001b[0m, \u001b[1;36m0.0144\u001b[0m,\n",
       "        \u001b[1;36m0.0145\u001b[0m, \u001b[1;36m0.0146\u001b[0m, \u001b[1;36m0.0147\u001b[0m, \u001b[1;36m0.0148\u001b[0m, \u001b[1;36m0.0149\u001b[0m, \u001b[1;36m0.0150\u001b[0m, \u001b[1;36m0.0151\u001b[0m, \u001b[1;36m0.0152\u001b[0m, \u001b[1;36m0.0154\u001b[0m,\n",
       "        \u001b[1;36m0.0155\u001b[0m, \u001b[1;36m0.0156\u001b[0m, \u001b[1;36m0.0157\u001b[0m, \u001b[1;36m0.0158\u001b[0m, \u001b[1;36m0.0159\u001b[0m, \u001b[1;36m0.0160\u001b[0m, \u001b[1;36m0.0161\u001b[0m, \u001b[1;36m0.0162\u001b[0m, \u001b[1;36m0.0163\u001b[0m,\n",
       "        \u001b[1;36m0.0165\u001b[0m, \u001b[1;36m0.0166\u001b[0m, \u001b[1;36m0.0167\u001b[0m, \u001b[1;36m0.0168\u001b[0m, \u001b[1;36m0.0169\u001b[0m, \u001b[1;36m0.0170\u001b[0m, \u001b[1;36m0.0171\u001b[0m, \u001b[1;36m0.0173\u001b[0m, \u001b[1;36m0.0174\u001b[0m,\n",
       "        \u001b[1;36m0.0175\u001b[0m, \u001b[1;36m0.0176\u001b[0m, \u001b[1;36m0.0178\u001b[0m, \u001b[1;36m0.0179\u001b[0m, \u001b[1;36m0.0180\u001b[0m, \u001b[1;36m0.0181\u001b[0m, \u001b[1;36m0.0182\u001b[0m, \u001b[1;36m0.0184\u001b[0m, \u001b[1;36m0.0185\u001b[0m,\n",
       "        \u001b[1;36m0.0186\u001b[0m, \u001b[1;36m0.0188\u001b[0m, \u001b[1;36m0.0189\u001b[0m, \u001b[1;36m0.0190\u001b[0m, \u001b[1;36m0.0192\u001b[0m, \u001b[1;36m0.0193\u001b[0m, \u001b[1;36m0.0194\u001b[0m, \u001b[1;36m0.0196\u001b[0m, \u001b[1;36m0.0197\u001b[0m,\n",
       "        \u001b[1;36m0.0198\u001b[0m, \u001b[1;36m0.0200\u001b[0m, \u001b[1;36m0.0201\u001b[0m, \u001b[1;36m0.0202\u001b[0m, \u001b[1;36m0.0204\u001b[0m, \u001b[1;36m0.0205\u001b[0m, \u001b[1;36m0.0207\u001b[0m, \u001b[1;36m0.0208\u001b[0m, \u001b[1;36m0.0210\u001b[0m,\n",
       "        \u001b[1;36m0.0211\u001b[0m, \u001b[1;36m0.0212\u001b[0m, \u001b[1;36m0.0214\u001b[0m, \u001b[1;36m0.0215\u001b[0m, \u001b[1;36m0.0217\u001b[0m, \u001b[1;36m0.0218\u001b[0m, \u001b[1;36m0.0220\u001b[0m, \u001b[1;36m0.0221\u001b[0m, \u001b[1;36m0.0223\u001b[0m,\n",
       "        \u001b[1;36m0.0225\u001b[0m, \u001b[1;36m0.0226\u001b[0m, \u001b[1;36m0.0228\u001b[0m, \u001b[1;36m0.0229\u001b[0m, \u001b[1;36m0.0231\u001b[0m, \u001b[1;36m0.0232\u001b[0m, \u001b[1;36m0.0234\u001b[0m, \u001b[1;36m0.0236\u001b[0m, \u001b[1;36m0.0237\u001b[0m,\n",
       "        \u001b[1;36m0.0239\u001b[0m, \u001b[1;36m0.0241\u001b[0m, \u001b[1;36m0.0242\u001b[0m, \u001b[1;36m0.0244\u001b[0m, \u001b[1;36m0.0246\u001b[0m, \u001b[1;36m0.0247\u001b[0m, \u001b[1;36m0.0249\u001b[0m, \u001b[1;36m0.0251\u001b[0m, \u001b[1;36m0.0253\u001b[0m,\n",
       "        \u001b[1;36m0.0254\u001b[0m, \u001b[1;36m0.0256\u001b[0m, \u001b[1;36m0.0258\u001b[0m, \u001b[1;36m0.0260\u001b[0m, \u001b[1;36m0.0261\u001b[0m, \u001b[1;36m0.0263\u001b[0m, \u001b[1;36m0.0265\u001b[0m, \u001b[1;36m0.0267\u001b[0m, \u001b[1;36m0.0269\u001b[0m,\n",
       "        \u001b[1;36m0.0271\u001b[0m, \u001b[1;36m0.0273\u001b[0m, \u001b[1;36m0.0274\u001b[0m, \u001b[1;36m0.0276\u001b[0m, \u001b[1;36m0.0278\u001b[0m, \u001b[1;36m0.0280\u001b[0m, \u001b[1;36m0.0282\u001b[0m, \u001b[1;36m0.0284\u001b[0m, \u001b[1;36m0.0286\u001b[0m,\n",
       "        \u001b[1;36m0.0288\u001b[0m, \u001b[1;36m0.0290\u001b[0m, \u001b[1;36m0.0292\u001b[0m, \u001b[1;36m0.0294\u001b[0m, \u001b[1;36m0.0296\u001b[0m, \u001b[1;36m0.0298\u001b[0m, \u001b[1;36m0.0300\u001b[0m, \u001b[1;36m0.0302\u001b[0m, \u001b[1;36m0.0304\u001b[0m,\n",
       "        \u001b[1;36m0.0307\u001b[0m, \u001b[1;36m0.0309\u001b[0m, \u001b[1;36m0.0311\u001b[0m, \u001b[1;36m0.0313\u001b[0m, \u001b[1;36m0.0315\u001b[0m, \u001b[1;36m0.0317\u001b[0m, \u001b[1;36m0.0320\u001b[0m, \u001b[1;36m0.0322\u001b[0m, \u001b[1;36m0.0324\u001b[0m,\n",
       "        \u001b[1;36m0.0326\u001b[0m, \u001b[1;36m0.0328\u001b[0m, \u001b[1;36m0.0331\u001b[0m, \u001b[1;36m0.0333\u001b[0m, \u001b[1;36m0.0335\u001b[0m, \u001b[1;36m0.0338\u001b[0m, \u001b[1;36m0.0340\u001b[0m, \u001b[1;36m0.0342\u001b[0m, \u001b[1;36m0.0345\u001b[0m,\n",
       "        \u001b[1;36m0.0347\u001b[0m, \u001b[1;36m0.0350\u001b[0m, \u001b[1;36m0.0352\u001b[0m, \u001b[1;36m0.0354\u001b[0m, \u001b[1;36m0.0357\u001b[0m, \u001b[1;36m0.0359\u001b[0m, \u001b[1;36m0.0362\u001b[0m, \u001b[1;36m0.0364\u001b[0m, \u001b[1;36m0.0367\u001b[0m,\n",
       "        \u001b[1;36m0.0369\u001b[0m, \u001b[1;36m0.0372\u001b[0m, \u001b[1;36m0.0375\u001b[0m, \u001b[1;36m0.0377\u001b[0m, \u001b[1;36m0.0380\u001b[0m, \u001b[1;36m0.0382\u001b[0m, \u001b[1;36m0.0385\u001b[0m, \u001b[1;36m0.0388\u001b[0m, \u001b[1;36m0.0390\u001b[0m,\n",
       "        \u001b[1;36m0.0393\u001b[0m, \u001b[1;36m0.0396\u001b[0m, \u001b[1;36m0.0399\u001b[0m, \u001b[1;36m0.0401\u001b[0m, \u001b[1;36m0.0404\u001b[0m, \u001b[1;36m0.0407\u001b[0m, \u001b[1;36m0.0410\u001b[0m, \u001b[1;36m0.0413\u001b[0m, \u001b[1;36m0.0416\u001b[0m,\n",
       "        \u001b[1;36m0.0418\u001b[0m, \u001b[1;36m0.0421\u001b[0m, \u001b[1;36m0.0424\u001b[0m, \u001b[1;36m0.0427\u001b[0m, \u001b[1;36m0.0430\u001b[0m, \u001b[1;36m0.0433\u001b[0m, \u001b[1;36m0.0436\u001b[0m, \u001b[1;36m0.0439\u001b[0m, \u001b[1;36m0.0442\u001b[0m,\n",
       "        \u001b[1;36m0.0445\u001b[0m, \u001b[1;36m0.0448\u001b[0m, \u001b[1;36m0.0451\u001b[0m, \u001b[1;36m0.0455\u001b[0m, \u001b[1;36m0.0458\u001b[0m, \u001b[1;36m0.0461\u001b[0m, \u001b[1;36m0.0464\u001b[0m, \u001b[1;36m0.0467\u001b[0m, \u001b[1;36m0.0471\u001b[0m,\n",
       "        \u001b[1;36m0.0474\u001b[0m, \u001b[1;36m0.0477\u001b[0m, \u001b[1;36m0.0480\u001b[0m, \u001b[1;36m0.0484\u001b[0m, \u001b[1;36m0.0487\u001b[0m, \u001b[1;36m0.0491\u001b[0m, \u001b[1;36m0.0494\u001b[0m, \u001b[1;36m0.0497\u001b[0m, \u001b[1;36m0.0501\u001b[0m,\n",
       "        \u001b[1;36m0.0504\u001b[0m, \u001b[1;36m0.0508\u001b[0m, \u001b[1;36m0.0511\u001b[0m, \u001b[1;36m0.0515\u001b[0m, \u001b[1;36m0.0518\u001b[0m, \u001b[1;36m0.0522\u001b[0m, \u001b[1;36m0.0526\u001b[0m, \u001b[1;36m0.0529\u001b[0m, \u001b[1;36m0.0533\u001b[0m,\n",
       "        \u001b[1;36m0.0537\u001b[0m, \u001b[1;36m0.0540\u001b[0m, \u001b[1;36m0.0544\u001b[0m, \u001b[1;36m0.0548\u001b[0m, \u001b[1;36m0.0552\u001b[0m, \u001b[1;36m0.0556\u001b[0m, \u001b[1;36m0.0559\u001b[0m, \u001b[1;36m0.0563\u001b[0m, \u001b[1;36m0.0567\u001b[0m,\n",
       "        \u001b[1;36m0.0571\u001b[0m, \u001b[1;36m0.0575\u001b[0m, \u001b[1;36m0.0579\u001b[0m, \u001b[1;36m0.0583\u001b[0m, \u001b[1;36m0.0587\u001b[0m, \u001b[1;36m0.0591\u001b[0m, \u001b[1;36m0.0595\u001b[0m, \u001b[1;36m0.0599\u001b[0m, \u001b[1;36m0.0604\u001b[0m,\n",
       "        \u001b[1;36m0.0608\u001b[0m, \u001b[1;36m0.0612\u001b[0m, \u001b[1;36m0.0616\u001b[0m, \u001b[1;36m0.0621\u001b[0m, \u001b[1;36m0.0625\u001b[0m, \u001b[1;36m0.0629\u001b[0m, \u001b[1;36m0.0634\u001b[0m, \u001b[1;36m0.0638\u001b[0m, \u001b[1;36m0.0642\u001b[0m,\n",
       "        \u001b[1;36m0.0647\u001b[0m, \u001b[1;36m0.0651\u001b[0m, \u001b[1;36m0.0656\u001b[0m, \u001b[1;36m0.0660\u001b[0m, \u001b[1;36m0.0665\u001b[0m, \u001b[1;36m0.0670\u001b[0m, \u001b[1;36m0.0674\u001b[0m, \u001b[1;36m0.0679\u001b[0m, \u001b[1;36m0.0684\u001b[0m,\n",
       "        \u001b[1;36m0.0688\u001b[0m, \u001b[1;36m0.0693\u001b[0m, \u001b[1;36m0.0698\u001b[0m, \u001b[1;36m0.0703\u001b[0m, \u001b[1;36m0.0708\u001b[0m, \u001b[1;36m0.0713\u001b[0m, \u001b[1;36m0.0718\u001b[0m, \u001b[1;36m0.0723\u001b[0m, \u001b[1;36m0.0728\u001b[0m,\n",
       "        \u001b[1;36m0.0733\u001b[0m, \u001b[1;36m0.0738\u001b[0m, \u001b[1;36m0.0743\u001b[0m, \u001b[1;36m0.0748\u001b[0m, \u001b[1;36m0.0753\u001b[0m, \u001b[1;36m0.0758\u001b[0m, \u001b[1;36m0.0764\u001b[0m, \u001b[1;36m0.0769\u001b[0m, \u001b[1;36m0.0774\u001b[0m,\n",
       "        \u001b[1;36m0.0780\u001b[0m, \u001b[1;36m0.0785\u001b[0m, \u001b[1;36m0.0790\u001b[0m, \u001b[1;36m0.0796\u001b[0m, \u001b[1;36m0.0802\u001b[0m, \u001b[1;36m0.0807\u001b[0m, \u001b[1;36m0.0813\u001b[0m, \u001b[1;36m0.0818\u001b[0m, \u001b[1;36m0.0824\u001b[0m,\n",
       "        \u001b[1;36m0.0830\u001b[0m, \u001b[1;36m0.0835\u001b[0m, \u001b[1;36m0.0841\u001b[0m, \u001b[1;36m0.0847\u001b[0m, \u001b[1;36m0.0853\u001b[0m, \u001b[1;36m0.0859\u001b[0m, \u001b[1;36m0.0865\u001b[0m, \u001b[1;36m0.0871\u001b[0m, \u001b[1;36m0.0877\u001b[0m,\n",
       "        \u001b[1;36m0.0883\u001b[0m, \u001b[1;36m0.0889\u001b[0m, \u001b[1;36m0.0895\u001b[0m, \u001b[1;36m0.0901\u001b[0m, \u001b[1;36m0.0908\u001b[0m, \u001b[1;36m0.0914\u001b[0m, \u001b[1;36m0.0920\u001b[0m, \u001b[1;36m0.0927\u001b[0m, \u001b[1;36m0.0933\u001b[0m,\n",
       "        \u001b[1;36m0.0940\u001b[0m, \u001b[1;36m0.0946\u001b[0m, \u001b[1;36m0.0953\u001b[0m, \u001b[1;36m0.0959\u001b[0m, \u001b[1;36m0.0966\u001b[0m, \u001b[1;36m0.0973\u001b[0m, \u001b[1;36m0.0979\u001b[0m, \u001b[1;36m0.0986\u001b[0m, \u001b[1;36m0.0993\u001b[0m,\n",
       "        \u001b[1;36m0.1000\u001b[0m, \u001b[1;36m0.1007\u001b[0m, \u001b[1;36m0.1014\u001b[0m, \u001b[1;36m0.1021\u001b[0m, \u001b[1;36m0.1028\u001b[0m, \u001b[1;36m0.1035\u001b[0m, \u001b[1;36m0.1042\u001b[0m, \u001b[1;36m0.1050\u001b[0m, \u001b[1;36m0.1057\u001b[0m,\n",
       "        \u001b[1;36m0.1064\u001b[0m, \u001b[1;36m0.1072\u001b[0m, \u001b[1;36m0.1079\u001b[0m, \u001b[1;36m0.1087\u001b[0m, \u001b[1;36m0.1094\u001b[0m, \u001b[1;36m0.1102\u001b[0m, \u001b[1;36m0.1109\u001b[0m, \u001b[1;36m0.1117\u001b[0m, \u001b[1;36m0.1125\u001b[0m,\n",
       "        \u001b[1;36m0.1133\u001b[0m, \u001b[1;36m0.1140\u001b[0m, \u001b[1;36m0.1148\u001b[0m, \u001b[1;36m0.1156\u001b[0m, \u001b[1;36m0.1164\u001b[0m, \u001b[1;36m0.1172\u001b[0m, \u001b[1;36m0.1181\u001b[0m, \u001b[1;36m0.1189\u001b[0m, \u001b[1;36m0.1197\u001b[0m,\n",
       "        \u001b[1;36m0.1205\u001b[0m, \u001b[1;36m0.1214\u001b[0m, \u001b[1;36m0.1222\u001b[0m, \u001b[1;36m0.1231\u001b[0m, \u001b[1;36m0.1239\u001b[0m, \u001b[1;36m0.1248\u001b[0m, \u001b[1;36m0.1256\u001b[0m, \u001b[1;36m0.1265\u001b[0m, \u001b[1;36m0.1274\u001b[0m,\n",
       "        \u001b[1;36m0.1283\u001b[0m, \u001b[1;36m0.1292\u001b[0m, \u001b[1;36m0.1301\u001b[0m, \u001b[1;36m0.1310\u001b[0m, \u001b[1;36m0.1319\u001b[0m, \u001b[1;36m0.1328\u001b[0m, \u001b[1;36m0.1337\u001b[0m, \u001b[1;36m0.1346\u001b[0m, \u001b[1;36m0.1356\u001b[0m,\n",
       "        \u001b[1;36m0.1365\u001b[0m, \u001b[1;36m0.1374\u001b[0m, \u001b[1;36m0.1384\u001b[0m, \u001b[1;36m0.1394\u001b[0m, \u001b[1;36m0.1403\u001b[0m, \u001b[1;36m0.1413\u001b[0m, \u001b[1;36m0.1423\u001b[0m, \u001b[1;36m0.1433\u001b[0m, \u001b[1;36m0.1443\u001b[0m,\n",
       "        \u001b[1;36m0.1453\u001b[0m, \u001b[1;36m0.1463\u001b[0m, \u001b[1;36m0.1473\u001b[0m, \u001b[1;36m0.1483\u001b[0m, \u001b[1;36m0.1493\u001b[0m, \u001b[1;36m0.1504\u001b[0m, \u001b[1;36m0.1514\u001b[0m, \u001b[1;36m0.1525\u001b[0m, \u001b[1;36m0.1535\u001b[0m,\n",
       "        \u001b[1;36m0.1546\u001b[0m, \u001b[1;36m0.1557\u001b[0m, \u001b[1;36m0.1567\u001b[0m, \u001b[1;36m0.1578\u001b[0m, \u001b[1;36m0.1589\u001b[0m, \u001b[1;36m0.1600\u001b[0m, \u001b[1;36m0.1611\u001b[0m, \u001b[1;36m0.1623\u001b[0m, \u001b[1;36m0.1634\u001b[0m,\n",
       "        \u001b[1;36m0.1645\u001b[0m, \u001b[1;36m0.1657\u001b[0m, \u001b[1;36m0.1668\u001b[0m, \u001b[1;36m0.1680\u001b[0m, \u001b[1;36m0.1691\u001b[0m, \u001b[1;36m0.1703\u001b[0m, \u001b[1;36m0.1715\u001b[0m, \u001b[1;36m0.1727\u001b[0m, \u001b[1;36m0.1739\u001b[0m,\n",
       "        \u001b[1;36m0.1751\u001b[0m, \u001b[1;36m0.1763\u001b[0m, \u001b[1;36m0.1775\u001b[0m, \u001b[1;36m0.1788\u001b[0m, \u001b[1;36m0.1800\u001b[0m, \u001b[1;36m0.1812\u001b[0m, \u001b[1;36m0.1825\u001b[0m, \u001b[1;36m0.1838\u001b[0m, \u001b[1;36m0.1850\u001b[0m,\n",
       "        \u001b[1;36m0.1863\u001b[0m, \u001b[1;36m0.1876\u001b[0m, \u001b[1;36m0.1889\u001b[0m, \u001b[1;36m0.1902\u001b[0m, \u001b[1;36m0.1916\u001b[0m, \u001b[1;36m0.1929\u001b[0m, \u001b[1;36m0.1942\u001b[0m, \u001b[1;36m0.1956\u001b[0m, \u001b[1;36m0.1969\u001b[0m,\n",
       "        \u001b[1;36m0.1983\u001b[0m, \u001b[1;36m0.1997\u001b[0m, \u001b[1;36m0.2010\u001b[0m, \u001b[1;36m0.2024\u001b[0m, \u001b[1;36m0.2038\u001b[0m, \u001b[1;36m0.2053\u001b[0m, \u001b[1;36m0.2067\u001b[0m, \u001b[1;36m0.2081\u001b[0m, \u001b[1;36m0.2096\u001b[0m,\n",
       "        \u001b[1;36m0.2110\u001b[0m, \u001b[1;36m0.2125\u001b[0m, \u001b[1;36m0.2140\u001b[0m, \u001b[1;36m0.2154\u001b[0m, \u001b[1;36m0.2169\u001b[0m, \u001b[1;36m0.2184\u001b[0m, \u001b[1;36m0.2200\u001b[0m, \u001b[1;36m0.2215\u001b[0m, \u001b[1;36m0.2230\u001b[0m,\n",
       "        \u001b[1;36m0.2246\u001b[0m, \u001b[1;36m0.2261\u001b[0m, \u001b[1;36m0.2277\u001b[0m, \u001b[1;36m0.2293\u001b[0m, \u001b[1;36m0.2309\u001b[0m, \u001b[1;36m0.2325\u001b[0m, \u001b[1;36m0.2341\u001b[0m, \u001b[1;36m0.2357\u001b[0m, \u001b[1;36m0.2373\u001b[0m,\n",
       "        \u001b[1;36m0.2390\u001b[0m, \u001b[1;36m0.2406\u001b[0m, \u001b[1;36m0.2423\u001b[0m, \u001b[1;36m0.2440\u001b[0m, \u001b[1;36m0.2457\u001b[0m, \u001b[1;36m0.2474\u001b[0m, \u001b[1;36m0.2491\u001b[0m, \u001b[1;36m0.2508\u001b[0m, \u001b[1;36m0.2526\u001b[0m,\n",
       "        \u001b[1;36m0.2543\u001b[0m, \u001b[1;36m0.2561\u001b[0m, \u001b[1;36m0.2579\u001b[0m, \u001b[1;36m0.2597\u001b[0m, \u001b[1;36m0.2615\u001b[0m, \u001b[1;36m0.2633\u001b[0m, \u001b[1;36m0.2651\u001b[0m, \u001b[1;36m0.2669\u001b[0m, \u001b[1;36m0.2688\u001b[0m,\n",
       "        \u001b[1;36m0.2707\u001b[0m, \u001b[1;36m0.2725\u001b[0m, \u001b[1;36m0.2744\u001b[0m, \u001b[1;36m0.2763\u001b[0m, \u001b[1;36m0.2783\u001b[0m, \u001b[1;36m0.2802\u001b[0m, \u001b[1;36m0.2821\u001b[0m, \u001b[1;36m0.2841\u001b[0m, \u001b[1;36m0.2861\u001b[0m,\n",
       "        \u001b[1;36m0.2880\u001b[0m, \u001b[1;36m0.2900\u001b[0m, \u001b[1;36m0.2921\u001b[0m, \u001b[1;36m0.2941\u001b[0m, \u001b[1;36m0.2961\u001b[0m, \u001b[1;36m0.2982\u001b[0m, \u001b[1;36m0.3002\u001b[0m, \u001b[1;36m0.3023\u001b[0m, \u001b[1;36m0.3044\u001b[0m,\n",
       "        \u001b[1;36m0.3065\u001b[0m, \u001b[1;36m0.3087\u001b[0m, \u001b[1;36m0.3108\u001b[0m, \u001b[1;36m0.3130\u001b[0m, \u001b[1;36m0.3151\u001b[0m, \u001b[1;36m0.3173\u001b[0m, \u001b[1;36m0.3195\u001b[0m, \u001b[1;36m0.3217\u001b[0m, \u001b[1;36m0.3240\u001b[0m,\n",
       "        \u001b[1;36m0.3262\u001b[0m, \u001b[1;36m0.3285\u001b[0m, \u001b[1;36m0.3308\u001b[0m, \u001b[1;36m0.3331\u001b[0m, \u001b[1;36m0.3354\u001b[0m, \u001b[1;36m0.3377\u001b[0m, \u001b[1;36m0.3400\u001b[0m, \u001b[1;36m0.3424\u001b[0m, \u001b[1;36m0.3448\u001b[0m,\n",
       "        \u001b[1;36m0.3472\u001b[0m, \u001b[1;36m0.3496\u001b[0m, \u001b[1;36m0.3520\u001b[0m, \u001b[1;36m0.3544\u001b[0m, \u001b[1;36m0.3569\u001b[0m, \u001b[1;36m0.3594\u001b[0m, \u001b[1;36m0.3619\u001b[0m, \u001b[1;36m0.3644\u001b[0m, \u001b[1;36m0.3669\u001b[0m,\n",
       "        \u001b[1;36m0.3695\u001b[0m, \u001b[1;36m0.3720\u001b[0m, \u001b[1;36m0.3746\u001b[0m, \u001b[1;36m0.3772\u001b[0m, \u001b[1;36m0.3798\u001b[0m, \u001b[1;36m0.3825\u001b[0m, \u001b[1;36m0.3851\u001b[0m, \u001b[1;36m0.3878\u001b[0m, \u001b[1;36m0.3905\u001b[0m,\n",
       "        \u001b[1;36m0.3932\u001b[0m, \u001b[1;36m0.3959\u001b[0m, \u001b[1;36m0.3987\u001b[0m, \u001b[1;36m0.4014\u001b[0m, \u001b[1;36m0.4042\u001b[0m, \u001b[1;36m0.4070\u001b[0m, \u001b[1;36m0.4098\u001b[0m, \u001b[1;36m0.4127\u001b[0m, \u001b[1;36m0.4155\u001b[0m,\n",
       "        \u001b[1;36m0.4184\u001b[0m, \u001b[1;36m0.4213\u001b[0m, \u001b[1;36m0.4243\u001b[0m, \u001b[1;36m0.4272\u001b[0m, \u001b[1;36m0.4302\u001b[0m, \u001b[1;36m0.4331\u001b[0m, \u001b[1;36m0.4362\u001b[0m, \u001b[1;36m0.4392\u001b[0m, \u001b[1;36m0.4422\u001b[0m,\n",
       "        \u001b[1;36m0.4453\u001b[0m, \u001b[1;36m0.4484\u001b[0m, \u001b[1;36m0.4515\u001b[0m, \u001b[1;36m0.4546\u001b[0m, \u001b[1;36m0.4578\u001b[0m, \u001b[1;36m0.4610\u001b[0m, \u001b[1;36m0.4642\u001b[0m, \u001b[1;36m0.4674\u001b[0m, \u001b[1;36m0.4706\u001b[0m,\n",
       "        \u001b[1;36m0.4739\u001b[0m, \u001b[1;36m0.4772\u001b[0m, \u001b[1;36m0.4805\u001b[0m, \u001b[1;36m0.4838\u001b[0m, \u001b[1;36m0.4872\u001b[0m, \u001b[1;36m0.4906\u001b[0m, \u001b[1;36m0.4940\u001b[0m, \u001b[1;36m0.4974\u001b[0m, \u001b[1;36m0.5008\u001b[0m,\n",
       "        \u001b[1;36m0.5043\u001b[0m, \u001b[1;36m0.5078\u001b[0m, \u001b[1;36m0.5113\u001b[0m, \u001b[1;36m0.5149\u001b[0m, \u001b[1;36m0.5185\u001b[0m, \u001b[1;36m0.5221\u001b[0m, \u001b[1;36m0.5257\u001b[0m, \u001b[1;36m0.5293\u001b[0m, \u001b[1;36m0.5330\u001b[0m,\n",
       "        \u001b[1;36m0.5367\u001b[0m, \u001b[1;36m0.5404\u001b[0m, \u001b[1;36m0.5442\u001b[0m, \u001b[1;36m0.5479\u001b[0m, \u001b[1;36m0.5517\u001b[0m, \u001b[1;36m0.5556\u001b[0m, \u001b[1;36m0.5594\u001b[0m, \u001b[1;36m0.5633\u001b[0m, \u001b[1;36m0.5672\u001b[0m,\n",
       "        \u001b[1;36m0.5712\u001b[0m, \u001b[1;36m0.5751\u001b[0m, \u001b[1;36m0.5791\u001b[0m, \u001b[1;36m0.5831\u001b[0m, \u001b[1;36m0.5872\u001b[0m, \u001b[1;36m0.5913\u001b[0m, \u001b[1;36m0.5954\u001b[0m, \u001b[1;36m0.5995\u001b[0m, \u001b[1;36m0.6036\u001b[0m,\n",
       "        \u001b[1;36m0.6078\u001b[0m, \u001b[1;36m0.6120\u001b[0m, \u001b[1;36m0.6163\u001b[0m, \u001b[1;36m0.6206\u001b[0m, \u001b[1;36m0.6249\u001b[0m, \u001b[1;36m0.6292\u001b[0m, \u001b[1;36m0.6336\u001b[0m, \u001b[1;36m0.6380\u001b[0m, \u001b[1;36m0.6424\u001b[0m,\n",
       "        \u001b[1;36m0.6469\u001b[0m, \u001b[1;36m0.6513\u001b[0m, \u001b[1;36m0.6559\u001b[0m, \u001b[1;36m0.6604\u001b[0m, \u001b[1;36m0.6650\u001b[0m, \u001b[1;36m0.6696\u001b[0m, \u001b[1;36m0.6743\u001b[0m, \u001b[1;36m0.6789\u001b[0m, \u001b[1;36m0.6837\u001b[0m,\n",
       "        \u001b[1;36m0.6884\u001b[0m, \u001b[1;36m0.6932\u001b[0m, \u001b[1;36m0.6980\u001b[0m, \u001b[1;36m0.7028\u001b[0m, \u001b[1;36m0.7077\u001b[0m, \u001b[1;36m0.7126\u001b[0m, \u001b[1;36m0.7176\u001b[0m, \u001b[1;36m0.7225\u001b[0m, \u001b[1;36m0.7275\u001b[0m,\n",
       "        \u001b[1;36m0.7326\u001b[0m, \u001b[1;36m0.7377\u001b[0m, \u001b[1;36m0.7428\u001b[0m, \u001b[1;36m0.7480\u001b[0m, \u001b[1;36m0.7531\u001b[0m, \u001b[1;36m0.7584\u001b[0m, \u001b[1;36m0.7636\u001b[0m, \u001b[1;36m0.7689\u001b[0m, \u001b[1;36m0.7743\u001b[0m,\n",
       "        \u001b[1;36m0.7796\u001b[0m, \u001b[1;36m0.7850\u001b[0m, \u001b[1;36m0.7905\u001b[0m, \u001b[1;36m0.7960\u001b[0m, \u001b[1;36m0.8015\u001b[0m, \u001b[1;36m0.8071\u001b[0m, \u001b[1;36m0.8127\u001b[0m, \u001b[1;36m0.8183\u001b[0m, \u001b[1;36m0.8240\u001b[0m,\n",
       "        \u001b[1;36m0.8297\u001b[0m, \u001b[1;36m0.8355\u001b[0m, \u001b[1;36m0.8412\u001b[0m, \u001b[1;36m0.8471\u001b[0m, \u001b[1;36m0.8530\u001b[0m, \u001b[1;36m0.8589\u001b[0m, \u001b[1;36m0.8648\u001b[0m, \u001b[1;36m0.8708\u001b[0m, \u001b[1;36m0.8769\u001b[0m,\n",
       "        \u001b[1;36m0.8830\u001b[0m, \u001b[1;36m0.8891\u001b[0m, \u001b[1;36m0.8953\u001b[0m, \u001b[1;36m0.9015\u001b[0m, \u001b[1;36m0.9077\u001b[0m, \u001b[1;36m0.9140\u001b[0m, \u001b[1;36m0.9204\u001b[0m, \u001b[1;36m0.9268\u001b[0m, \u001b[1;36m0.9332\u001b[0m,\n",
       "        \u001b[1;36m0.9397\u001b[0m, \u001b[1;36m0.9462\u001b[0m, \u001b[1;36m0.9528\u001b[0m, \u001b[1;36m0.9594\u001b[0m, \u001b[1;36m0.9660\u001b[0m, \u001b[1;36m0.9727\u001b[0m, \u001b[1;36m0.9795\u001b[0m, \u001b[1;36m0.9863\u001b[0m, \u001b[1;36m0.9931\u001b[0m,\n",
       "        \u001b[1;36m1.0000\u001b[0m\u001b[1m]\u001b[0m\u001b[1m)\u001b[0m\n"
      ]
     },
     "metadata": {},
     "output_type": "display_data"
    }
   ],
   "source": [
    "lre = torch.linspace(-3, 0, 1000)\n",
    "lrs = 10**lre\n",
    "lrs"
   ]
  },
  {
   "cell_type": "code",
   "execution_count": null,
   "id": "04e716c1",
   "metadata": {},
   "outputs": [],
   "source": [
    "def track_lr_vs_loss(epochs, X, Y, lre, enable_print=True):\n",
    "    parameters = initialize_params(100)\n",
    "    \n",
    "    lrs = 10**lre\n",
    "    \n",
    "    for p in parameters: p.requires_grad = True \n",
    "\n",
    "    lri = []\n",
    "    lres = []\n",
    "    lossi = []\n",
    "    \n",
    "    for i in range(epochs):\n",
    "        lr = lrs[i]\n",
    "        loss = an_epoch_minibatch(parameters, X, Y, lr=lr)\n",
    "        if enable_print: print(loss.item())\n",
    "        \n",
    "        # track stats\n",
    "        lri.append(lr)\n",
    "        lres.append(lre[i])\n",
    "        lossi.append(loss.item())\n",
    "        \n",
    "    return lri, lres, lossi"
   ]
  },
  {
   "cell_type": "code",
   "execution_count": null,
   "id": "84eb6f2b",
   "metadata": {},
   "outputs": [],
   "source": [
    "lri, lres, lossi = track_lr_vs_loss(1000, X, Y, lre, enable_print=False)"
   ]
  },
  {
   "cell_type": "code",
   "execution_count": null,
   "id": "d4d84b11",
   "metadata": {},
   "outputs": [
    {
     "data": {
      "text/html": [
       "<pre style=\"white-space:pre;overflow-x:auto;line-height:normal;font-family:Menlo,'DejaVu Sans Mono',consolas,'Courier New',monospace\"><span style=\"font-weight: bold\">[&lt;</span><span style=\"color: #ff00ff; text-decoration-color: #ff00ff; font-weight: bold\">matplotlib.lines.Line2D</span><span style=\"color: #000000; text-decoration-color: #000000\"> object at </span><span style=\"color: #008080; text-decoration-color: #008080; font-weight: bold\">0x7f997ed80110</span><span style=\"font-weight: bold\">&gt;]</span>\n",
       "</pre>\n"
      ],
      "text/plain": [
       "\u001b[1m[\u001b[0m\u001b[1m<\u001b[0m\u001b[1;95mmatplotlib.lines.Line2D\u001b[0m\u001b[39m object at \u001b[0m\u001b[1;36m0x7f997ed80110\u001b[0m\u001b[1m>\u001b[0m\u001b[1m]\u001b[0m\n"
      ]
     },
     "metadata": {},
     "output_type": "display_data"
    },
    {
     "data": {
      "image/png": "[encoded data removed]"
     },
     "metadata": {},
     "output_type": "display_data"
    }
   ],
   "source": [
    "plot.plot(lri, lossi)"
   ]
  },
  {
   "cell_type": "markdown",
   "id": "5ec0c803",
   "metadata": {},
   "source": [
    "Lets plot the exponent of the learning rate"
   ]
  },
  {
   "cell_type": "code",
   "execution_count": null,
   "id": "fae43716",
   "metadata": {},
   "outputs": [
    {
     "data": {
      "text/html": [
       "<pre style=\"white-space:pre;overflow-x:auto;line-height:normal;font-family:Menlo,'DejaVu Sans Mono',consolas,'Courier New',monospace\"><span style=\"font-weight: bold\">[&lt;</span><span style=\"color: #ff00ff; text-decoration-color: #ff00ff; font-weight: bold\">matplotlib.lines.Line2D</span><span style=\"color: #000000; text-decoration-color: #000000\"> object at </span><span style=\"color: #008080; text-decoration-color: #008080; font-weight: bold\">0x7f995a478390</span><span style=\"font-weight: bold\">&gt;]</span>\n",
       "</pre>\n"
      ],
      "text/plain": [
       "\u001b[1m[\u001b[0m\u001b[1m<\u001b[0m\u001b[1;95mmatplotlib.lines.Line2D\u001b[0m\u001b[39m object at \u001b[0m\u001b[1;36m0x7f995a478390\u001b[0m\u001b[1m>\u001b[0m\u001b[1m]\u001b[0m\n"
      ]
     },
     "metadata": {},
     "output_type": "display_data"
    },
    {
     "data": {
      "image/png": "[encoded data removed]"
     },
     "metadata": {},
     "output_type": "display_data"
    }
   ],
   "source": [
    "plot.plot(lres, lossi)"
   ]
  },
  {
   "cell_type": "code",
   "execution_count": null,
   "id": "72462dc0",
   "metadata": {},
   "outputs": [],
   "source": [
    "params, loss = train(10_000, X, Y, enable_print=False, lr=0.1)"
   ]
  },
  {
   "cell_type": "code",
   "execution_count": null,
   "id": "7c7e4498",
   "metadata": {},
   "outputs": [
    {
     "data": {
      "text/html": [
       "<pre style=\"white-space:pre;overflow-x:auto;line-height:normal;font-family:Menlo,'DejaVu Sans Mono',consolas,'Courier New',monospace\"><span style=\"color: #008080; text-decoration-color: #008080; font-weight: bold\">2.8730247020721436</span>\n",
       "</pre>\n"
      ],
      "text/plain": [
       "\u001b[1;36m2.8730247020721436\u001b[0m\n"
      ]
     },
     "metadata": {},
     "output_type": "display_data"
    }
   ],
   "source": [
    "loss"
   ]
  },
  {
   "cell_type": "code",
   "execution_count": null,
   "id": "d857ff9d",
   "metadata": {},
   "outputs": [
    {
     "data": {
      "text/html": [
       "<pre style=\"white-space:pre;overflow-x:auto;line-height:normal;font-family:Menlo,'DejaVu Sans Mono',consolas,'Courier New',monospace\"><span style=\"color: #800080; text-decoration-color: #800080; font-weight: bold\">tensor</span><span style=\"font-weight: bold\">(</span><span style=\"color: #008080; text-decoration-color: #008080; font-weight: bold\">2.5346</span>, <span style=\"color: #808000; text-decoration-color: #808000\">grad_fn</span>=<span style=\"font-weight: bold\">&lt;</span><span style=\"color: #ff00ff; text-decoration-color: #ff00ff; font-weight: bold\">NllLossBackward0</span><span style=\"font-weight: bold\">&gt;)</span>\n",
       "</pre>\n"
      ],
      "text/plain": [
       "\u001b[1;35mtensor\u001b[0m\u001b[1m(\u001b[0m\u001b[1;36m2.5346\u001b[0m, \u001b[33mgrad_fn\u001b[0m=\u001b[1m<\u001b[0m\u001b[1;95mNllLossBackward0\u001b[0m\u001b[1m>\u001b[0m\u001b[1m)\u001b[0m\n"
      ]
     },
     "metadata": {},
     "output_type": "display_data"
    }
   ],
   "source": [
    "evaluate_loss(params, X, Y)"
   ]
  },
  {
   "cell_type": "markdown",
   "id": "27e820a0",
   "metadata": {},
   "source": [
    "### Learning rate decay"
   ]
  },
  {
   "cell_type": "code",
   "execution_count": null,
   "id": "62d9bb25",
   "metadata": {},
   "outputs": [],
   "source": [
    "params, loss = train(10_000, X, Y, enable_print=False, lr=0.1)"
   ]
  },
  {
   "cell_type": "code",
   "execution_count": null,
   "id": "aeb0d582",
   "metadata": {},
   "outputs": [
    {
     "data": {
      "text/html": [
       "<pre style=\"white-space:pre;overflow-x:auto;line-height:normal;font-family:Menlo,'DejaVu Sans Mono',consolas,'Courier New',monospace\"><span style=\"color: #800080; text-decoration-color: #800080; font-weight: bold\">tensor</span><span style=\"font-weight: bold\">(</span><span style=\"color: #008080; text-decoration-color: #008080; font-weight: bold\">2.4748</span>, <span style=\"color: #808000; text-decoration-color: #808000\">grad_fn</span>=<span style=\"font-weight: bold\">&lt;</span><span style=\"color: #ff00ff; text-decoration-color: #ff00ff; font-weight: bold\">NllLossBackward0</span><span style=\"font-weight: bold\">&gt;)</span>\n",
       "</pre>\n"
      ],
      "text/plain": [
       "\u001b[1;35mtensor\u001b[0m\u001b[1m(\u001b[0m\u001b[1;36m2.4748\u001b[0m, \u001b[33mgrad_fn\u001b[0m=\u001b[1m<\u001b[0m\u001b[1;95mNllLossBackward0\u001b[0m\u001b[1m>\u001b[0m\u001b[1m)\u001b[0m\n"
      ]
     },
     "metadata": {},
     "output_type": "display_data"
    }
   ],
   "source": [
    "evaluate_loss(params, X, Y)"
   ]
  },
  {
   "cell_type": "code",
   "execution_count": null,
   "id": "8bc4065b",
   "metadata": {},
   "outputs": [],
   "source": [
    "params, loss = train(10_000, X, Y, parameters = params, enable_print=False, lr=0.01)"
   ]
  },
  {
   "cell_type": "code",
   "execution_count": null,
   "id": "4cacc29a",
   "metadata": {},
   "outputs": [
    {
     "data": {
      "text/html": [
       "<pre style=\"white-space:pre;overflow-x:auto;line-height:normal;font-family:Menlo,'DejaVu Sans Mono',consolas,'Courier New',monospace\"><span style=\"color: #800080; text-decoration-color: #800080; font-weight: bold\">tensor</span><span style=\"font-weight: bold\">(</span><span style=\"color: #008080; text-decoration-color: #008080; font-weight: bold\">2.3843</span>, <span style=\"color: #808000; text-decoration-color: #808000\">grad_fn</span>=<span style=\"font-weight: bold\">&lt;</span><span style=\"color: #ff00ff; text-decoration-color: #ff00ff; font-weight: bold\">NllLossBackward0</span><span style=\"font-weight: bold\">&gt;)</span>\n",
       "</pre>\n"
      ],
      "text/plain": [
       "\u001b[1;35mtensor\u001b[0m\u001b[1m(\u001b[0m\u001b[1;36m2.3843\u001b[0m, \u001b[33mgrad_fn\u001b[0m=\u001b[1m<\u001b[0m\u001b[1;95mNllLossBackward0\u001b[0m\u001b[1m>\u001b[0m\u001b[1m)\u001b[0m\n"
      ]
     },
     "metadata": {},
     "output_type": "display_data"
    }
   ],
   "source": [
    "evaluate_loss(params, X, Y)"
   ]
  },
  {
   "cell_type": "code",
   "execution_count": null,
   "id": "40ab5932",
   "metadata": {},
   "outputs": [],
   "source": [
    "params, loss = train(10_000, X, Y, parameters = params, enable_print=False, lr=0.001)"
   ]
  },
  {
   "cell_type": "code",
   "execution_count": null,
   "id": "0247da93",
   "metadata": {},
   "outputs": [
    {
     "data": {
      "text/html": [
       "<pre style=\"white-space:pre;overflow-x:auto;line-height:normal;font-family:Menlo,'DejaVu Sans Mono',consolas,'Courier New',monospace\"><span style=\"color: #800080; text-decoration-color: #800080; font-weight: bold\">tensor</span><span style=\"font-weight: bold\">(</span><span style=\"color: #008080; text-decoration-color: #008080; font-weight: bold\">2.3754</span>, <span style=\"color: #808000; text-decoration-color: #808000\">grad_fn</span>=<span style=\"font-weight: bold\">&lt;</span><span style=\"color: #ff00ff; text-decoration-color: #ff00ff; font-weight: bold\">NllLossBackward0</span><span style=\"font-weight: bold\">&gt;)</span>\n",
       "</pre>\n"
      ],
      "text/plain": [
       "\u001b[1;35mtensor\u001b[0m\u001b[1m(\u001b[0m\u001b[1;36m2.3754\u001b[0m, \u001b[33mgrad_fn\u001b[0m=\u001b[1m<\u001b[0m\u001b[1;95mNllLossBackward0\u001b[0m\u001b[1m>\u001b[0m\u001b[1m)\u001b[0m\n"
      ]
     },
     "metadata": {},
     "output_type": "display_data"
    }
   ],
   "source": [
    "evaluate_loss(params, X, Y)"
   ]
  },
  {
   "cell_type": "markdown",
   "id": "7e60b2e8",
   "metadata": {},
   "source": [
    "## Train, Dev/Valid & Test Set"
   ]
  },
  {
   "cell_type": "markdown",
   "id": "6fc99a2d",
   "metadata": {},
   "source": [
    "Training Split: 80% \n",
    "> Optimize the parameters of the model \n",
    "\n",
    "\n",
    "Validation Split: 10%\n",
    "> Development over the hyperparameters of the model\n",
    "\n",
    "Test Split: 10%\n",
    "> Evaluate the performance of the model at the end"
   ]
  },
  {
   "cell_type": "code",
   "execution_count": null,
   "id": "74ab45c9",
   "metadata": {},
   "outputs": [],
   "source": [
    "def generate_train_valid_test_split(words):\n",
    "    random.seed(42)\n",
    "    random.shuffle(words)\n",
    "    n1 = int(0.8*len(words))\n",
    "    n2 = int(0.9*len(words))\n",
    "\n",
    "    Xtr, Ytr = generate_training_set(words[:n1], 3)\n",
    "    Xdev, Ydev = generate_training_set(words[n1:n2], 3)\n",
    "    Xte, Yte = generate_training_set(words[n2:], 3)\n",
    "    \n",
    "    return Xtr, Ytr, Xdev, Ydev, Xte, Yte"
   ]
  },
  {
   "cell_type": "code",
   "execution_count": null,
   "id": "a7aa5dfb",
   "metadata": {},
   "outputs": [],
   "source": [
    "Xtr, Ytr, Xdev, Ydev, Xte, Yte = generate_train_valid_test_split(words)"
   ]
  },
  {
   "cell_type": "code",
   "execution_count": null,
   "id": "2b066607",
   "metadata": {},
   "outputs": [
    {
     "data": {
      "text/html": [
       "<pre style=\"white-space:pre;overflow-x:auto;line-height:normal;font-family:Menlo,'DejaVu Sans Mono',consolas,'Courier New',monospace\"><span style=\"font-weight: bold\">(</span><span style=\"color: #800080; text-decoration-color: #800080; font-weight: bold\">torch.Size</span><span style=\"font-weight: bold\">([</span><span style=\"color: #008080; text-decoration-color: #008080; font-weight: bold\">182625</span>, <span style=\"color: #008080; text-decoration-color: #008080; font-weight: bold\">3</span><span style=\"font-weight: bold\">])</span>, <span style=\"color: #800080; text-decoration-color: #800080; font-weight: bold\">torch.Size</span><span style=\"font-weight: bold\">([</span><span style=\"color: #008080; text-decoration-color: #008080; font-weight: bold\">182625</span><span style=\"font-weight: bold\">]))</span>\n",
       "</pre>\n"
      ],
      "text/plain": [
       "\u001b[1m(\u001b[0m\u001b[1;35mtorch.Size\u001b[0m\u001b[1m(\u001b[0m\u001b[1m[\u001b[0m\u001b[1;36m182625\u001b[0m, \u001b[1;36m3\u001b[0m\u001b[1m]\u001b[0m\u001b[1m)\u001b[0m, \u001b[1;35mtorch.Size\u001b[0m\u001b[1m(\u001b[0m\u001b[1m[\u001b[0m\u001b[1;36m182625\u001b[0m\u001b[1m]\u001b[0m\u001b[1m)\u001b[0m\u001b[1m)\u001b[0m\n"
      ]
     },
     "metadata": {},
     "output_type": "display_data"
    }
   ],
   "source": [
    "Xtr.shape, Ytr.shape"
   ]
  },
  {
   "cell_type": "code",
   "execution_count": null,
   "id": "a30d0dfc",
   "metadata": {},
   "outputs": [
    {
     "data": {
      "text/html": [
       "<pre style=\"white-space:pre;overflow-x:auto;line-height:normal;font-family:Menlo,'DejaVu Sans Mono',consolas,'Courier New',monospace\"><span style=\"font-weight: bold\">(</span><span style=\"color: #800080; text-decoration-color: #800080; font-weight: bold\">torch.Size</span><span style=\"font-weight: bold\">([</span><span style=\"color: #008080; text-decoration-color: #008080; font-weight: bold\">22655</span>, <span style=\"color: #008080; text-decoration-color: #008080; font-weight: bold\">3</span><span style=\"font-weight: bold\">])</span>, <span style=\"color: #800080; text-decoration-color: #800080; font-weight: bold\">torch.Size</span><span style=\"font-weight: bold\">([</span><span style=\"color: #008080; text-decoration-color: #008080; font-weight: bold\">22655</span><span style=\"font-weight: bold\">]))</span>\n",
       "</pre>\n"
      ],
      "text/plain": [
       "\u001b[1m(\u001b[0m\u001b[1;35mtorch.Size\u001b[0m\u001b[1m(\u001b[0m\u001b[1m[\u001b[0m\u001b[1;36m22655\u001b[0m, \u001b[1;36m3\u001b[0m\u001b[1m]\u001b[0m\u001b[1m)\u001b[0m, \u001b[1;35mtorch.Size\u001b[0m\u001b[1m(\u001b[0m\u001b[1m[\u001b[0m\u001b[1;36m22655\u001b[0m\u001b[1m]\u001b[0m\u001b[1m)\u001b[0m\u001b[1m)\u001b[0m\n"
      ]
     },
     "metadata": {},
     "output_type": "display_data"
    }
   ],
   "source": [
    "Xdev.shape, Ydev.shape"
   ]
  },
  {
   "cell_type": "code",
   "execution_count": null,
   "id": "83d795bf",
   "metadata": {},
   "outputs": [
    {
     "data": {
      "text/html": [
       "<pre style=\"white-space:pre;overflow-x:auto;line-height:normal;font-family:Menlo,'DejaVu Sans Mono',consolas,'Courier New',monospace\"><span style=\"font-weight: bold\">(</span><span style=\"color: #800080; text-decoration-color: #800080; font-weight: bold\">torch.Size</span><span style=\"font-weight: bold\">([</span><span style=\"color: #008080; text-decoration-color: #008080; font-weight: bold\">22866</span>, <span style=\"color: #008080; text-decoration-color: #008080; font-weight: bold\">3</span><span style=\"font-weight: bold\">])</span>, <span style=\"color: #800080; text-decoration-color: #800080; font-weight: bold\">torch.Size</span><span style=\"font-weight: bold\">([</span><span style=\"color: #008080; text-decoration-color: #008080; font-weight: bold\">22866</span><span style=\"font-weight: bold\">]))</span>\n",
       "</pre>\n"
      ],
      "text/plain": [
       "\u001b[1m(\u001b[0m\u001b[1;35mtorch.Size\u001b[0m\u001b[1m(\u001b[0m\u001b[1m[\u001b[0m\u001b[1;36m22866\u001b[0m, \u001b[1;36m3\u001b[0m\u001b[1m]\u001b[0m\u001b[1m)\u001b[0m, \u001b[1;35mtorch.Size\u001b[0m\u001b[1m(\u001b[0m\u001b[1m[\u001b[0m\u001b[1;36m22866\u001b[0m\u001b[1m]\u001b[0m\u001b[1m)\u001b[0m\u001b[1m)\u001b[0m\n"
      ]
     },
     "metadata": {},
     "output_type": "display_data"
    }
   ],
   "source": [
    "Xte.shape, Yte.shape"
   ]
  },
  {
   "cell_type": "code",
   "execution_count": null,
   "id": "7ed07851",
   "metadata": {},
   "outputs": [],
   "source": [
    "params, loss = train(30_000, Xtr, Ytr, enable_print=False)"
   ]
  },
  {
   "cell_type": "code",
   "execution_count": null,
   "id": "7046e2e9",
   "metadata": {},
   "outputs": [
    {
     "data": {
      "text/html": [
       "<pre style=\"white-space:pre;overflow-x:auto;line-height:normal;font-family:Menlo,'DejaVu Sans Mono',consolas,'Courier New',monospace\"><span style=\"color: #008080; text-decoration-color: #008080; font-weight: bold\">2.5267984867095947</span>\n",
       "</pre>\n"
      ],
      "text/plain": [
       "\u001b[1;36m2.5267984867095947\u001b[0m\n"
      ]
     },
     "metadata": {},
     "output_type": "display_data"
    }
   ],
   "source": [
    "loss"
   ]
  },
  {
   "cell_type": "code",
   "execution_count": null,
   "id": "e1f6f220",
   "metadata": {},
   "outputs": [],
   "source": [
    "params, loss = train(10_000, Xtr, Ytr, lr=0.01, parameters=params, enable_print=False)"
   ]
  },
  {
   "cell_type": "code",
   "execution_count": null,
   "id": "b85cf462",
   "metadata": {},
   "outputs": [
    {
     "data": {
      "text/html": [
       "<pre style=\"white-space:pre;overflow-x:auto;line-height:normal;font-family:Menlo,'DejaVu Sans Mono',consolas,'Courier New',monospace\"><span style=\"color: #008080; text-decoration-color: #008080; font-weight: bold\">2.570688247680664</span>\n",
       "</pre>\n"
      ],
      "text/plain": [
       "\u001b[1;36m2.570688247680664\u001b[0m\n"
      ]
     },
     "metadata": {},
     "output_type": "display_data"
    }
   ],
   "source": [
    "loss"
   ]
  },
  {
   "cell_type": "code",
   "execution_count": null,
   "id": "a939645b",
   "metadata": {},
   "outputs": [
    {
     "data": {
      "text/html": [
       "<pre style=\"white-space:pre;overflow-x:auto;line-height:normal;font-family:Menlo,'DejaVu Sans Mono',consolas,'Courier New',monospace\"><span style=\"color: #800080; text-decoration-color: #800080; font-weight: bold\">tensor</span><span style=\"font-weight: bold\">(</span><span style=\"color: #008080; text-decoration-color: #008080; font-weight: bold\">2.3291</span>, <span style=\"color: #808000; text-decoration-color: #808000\">grad_fn</span>=<span style=\"font-weight: bold\">&lt;</span><span style=\"color: #ff00ff; text-decoration-color: #ff00ff; font-weight: bold\">NllLossBackward0</span><span style=\"font-weight: bold\">&gt;)</span>\n",
       "</pre>\n"
      ],
      "text/plain": [
       "\u001b[1;35mtensor\u001b[0m\u001b[1m(\u001b[0m\u001b[1;36m2.3291\u001b[0m, \u001b[33mgrad_fn\u001b[0m=\u001b[1m<\u001b[0m\u001b[1;95mNllLossBackward0\u001b[0m\u001b[1m>\u001b[0m\u001b[1m)\u001b[0m\n"
      ]
     },
     "metadata": {},
     "output_type": "display_data"
    }
   ],
   "source": [
    "evaluate_loss(params, Xtr, Ytr)"
   ]
  },
  {
   "cell_type": "code",
   "execution_count": null,
   "id": "e6d6f7ea",
   "metadata": {},
   "outputs": [
    {
     "data": {
      "text/html": [
       "<pre style=\"white-space:pre;overflow-x:auto;line-height:normal;font-family:Menlo,'DejaVu Sans Mono',consolas,'Courier New',monospace\"><span style=\"color: #800080; text-decoration-color: #800080; font-weight: bold\">tensor</span><span style=\"font-weight: bold\">(</span><span style=\"color: #008080; text-decoration-color: #008080; font-weight: bold\">2.3266</span>, <span style=\"color: #808000; text-decoration-color: #808000\">grad_fn</span>=<span style=\"font-weight: bold\">&lt;</span><span style=\"color: #ff00ff; text-decoration-color: #ff00ff; font-weight: bold\">NllLossBackward0</span><span style=\"font-weight: bold\">&gt;)</span>\n",
       "</pre>\n"
      ],
      "text/plain": [
       "\u001b[1;35mtensor\u001b[0m\u001b[1m(\u001b[0m\u001b[1;36m2.3266\u001b[0m, \u001b[33mgrad_fn\u001b[0m=\u001b[1m<\u001b[0m\u001b[1;95mNllLossBackward0\u001b[0m\u001b[1m>\u001b[0m\u001b[1m)\u001b[0m\n"
      ]
     },
     "metadata": {},
     "output_type": "display_data"
    }
   ],
   "source": [
    "evaluate_loss(params, Xdev, Ydev)"
   ]
  },
  {
   "cell_type": "markdown",
   "id": "353ab33f",
   "metadata": {},
   "source": [
    "## Experiment: Larger Hidden Layer"
   ]
  },
  {
   "cell_type": "code",
   "execution_count": null,
   "id": "d272909b",
   "metadata": {},
   "outputs": [],
   "source": [
    "def track_hidden_layer_vs_loss(epochs, X, Y, parameters = [], lr=0.1, enable_print=True):\n",
    "    if not parameters: parameters = initialize_params(300)\n",
    "    \n",
    "    for p in parameters: p.requires_grad = True \n",
    "    \n",
    "    stepi = []\n",
    "    lossi = []\n",
    "    \n",
    "    for i in range(epochs):\n",
    "        loss = an_epoch_minibatch(parameters, X, Y, lr=lr)\n",
    "        if enable_print: print(loss.item())\n",
    "        \n",
    "        stepi.append(i)\n",
    "        lossi.append(loss.item())\n",
    "        \n",
    "    return parameters, stepi, lossi"
   ]
  },
  {
   "cell_type": "code",
   "execution_count": null,
   "id": "2a5e3046",
   "metadata": {},
   "outputs": [],
   "source": [
    "params, steps, losses = track_hidden_layer_vs_loss(30_000, Xtr, Ytr, lr=0.5, enable_print=False)"
   ]
  },
  {
   "cell_type": "code",
   "execution_count": null,
   "id": "76694d7b",
   "metadata": {},
   "outputs": [
    {
     "data": {
      "text/html": [
       "<pre style=\"white-space:pre;overflow-x:auto;line-height:normal;font-family:Menlo,'DejaVu Sans Mono',consolas,'Courier New',monospace\"><span style=\"font-weight: bold\">[&lt;</span><span style=\"color: #ff00ff; text-decoration-color: #ff00ff; font-weight: bold\">matplotlib.lines.Line2D</span><span style=\"color: #000000; text-decoration-color: #000000\"> object at </span><span style=\"color: #008080; text-decoration-color: #008080; font-weight: bold\">0x7f997f749710</span><span style=\"font-weight: bold\">&gt;]</span>\n",
       "</pre>\n"
      ],
      "text/plain": [
       "\u001b[1m[\u001b[0m\u001b[1m<\u001b[0m\u001b[1;95mmatplotlib.lines.Line2D\u001b[0m\u001b[39m object at \u001b[0m\u001b[1;36m0x7f997f749710\u001b[0m\u001b[1m>\u001b[0m\u001b[1m]\u001b[0m\n"
      ]
     },
     "metadata": {},
     "output_type": "display_data"
    },
    {
     "data": {
      "image/png": "[encoded data removed]"
     },
     "metadata": {},
     "output_type": "display_data"
    }
   ],
   "source": [
    "plot.plot(steps, losses)"
   ]
  },
  {
   "cell_type": "code",
   "execution_count": null,
   "id": "feee3156",
   "metadata": {},
   "outputs": [
    {
     "data": {
      "text/html": [
       "<pre style=\"white-space:pre;overflow-x:auto;line-height:normal;font-family:Menlo,'DejaVu Sans Mono',consolas,'Courier New',monospace\"><span style=\"color: #800080; text-decoration-color: #800080; font-weight: bold\">tensor</span><span style=\"font-weight: bold\">(</span><span style=\"color: #008080; text-decoration-color: #008080; font-weight: bold\">2.4145</span>, <span style=\"color: #808000; text-decoration-color: #808000\">grad_fn</span>=<span style=\"font-weight: bold\">&lt;</span><span style=\"color: #ff00ff; text-decoration-color: #ff00ff; font-weight: bold\">NllLossBackward0</span><span style=\"font-weight: bold\">&gt;)</span>\n",
       "</pre>\n"
      ],
      "text/plain": [
       "\u001b[1;35mtensor\u001b[0m\u001b[1m(\u001b[0m\u001b[1;36m2.4145\u001b[0m, \u001b[33mgrad_fn\u001b[0m=\u001b[1m<\u001b[0m\u001b[1;95mNllLossBackward0\u001b[0m\u001b[1m>\u001b[0m\u001b[1m)\u001b[0m\n"
      ]
     },
     "metadata": {},
     "output_type": "display_data"
    }
   ],
   "source": [
    "evaluate_loss(params, Xtr, Ytr)"
   ]
  },
  {
   "cell_type": "code",
   "execution_count": null,
   "id": "d2ba7fc6",
   "metadata": {},
   "outputs": [
    {
     "data": {
      "text/html": [
       "<pre style=\"white-space:pre;overflow-x:auto;line-height:normal;font-family:Menlo,'DejaVu Sans Mono',consolas,'Courier New',monospace\"><span style=\"color: #800080; text-decoration-color: #800080; font-weight: bold\">tensor</span><span style=\"font-weight: bold\">(</span><span style=\"color: #008080; text-decoration-color: #008080; font-weight: bold\">2.4132</span>, <span style=\"color: #808000; text-decoration-color: #808000\">grad_fn</span>=<span style=\"font-weight: bold\">&lt;</span><span style=\"color: #ff00ff; text-decoration-color: #ff00ff; font-weight: bold\">NllLossBackward0</span><span style=\"font-weight: bold\">&gt;)</span>\n",
       "</pre>\n"
      ],
      "text/plain": [
       "\u001b[1;35mtensor\u001b[0m\u001b[1m(\u001b[0m\u001b[1;36m2.4132\u001b[0m, \u001b[33mgrad_fn\u001b[0m=\u001b[1m<\u001b[0m\u001b[1;95mNllLossBackward0\u001b[0m\u001b[1m>\u001b[0m\u001b[1m)\u001b[0m\n"
      ]
     },
     "metadata": {},
     "output_type": "display_data"
    }
   ],
   "source": [
    "evaluate_loss(params, Xdev, Ydev)"
   ]
  },
  {
   "cell_type": "code",
   "execution_count": null,
   "id": "47bad3bd",
   "metadata": {},
   "outputs": [],
   "source": [
    "params, steps, losses = track_hidden_layer_vs_loss(30_000, X, Y, params, lr=0.1, enable_print=False)"
   ]
  },
  {
   "cell_type": "code",
   "execution_count": null,
   "id": "c1455208",
   "metadata": {},
   "outputs": [
    {
     "data": {
      "text/html": [
       "<pre style=\"white-space:pre;overflow-x:auto;line-height:normal;font-family:Menlo,'DejaVu Sans Mono',consolas,'Courier New',monospace\"><span style=\"color: #800080; text-decoration-color: #800080; font-weight: bold\">tensor</span><span style=\"font-weight: bold\">(</span><span style=\"color: #008080; text-decoration-color: #008080; font-weight: bold\">2.2973</span>, <span style=\"color: #808000; text-decoration-color: #808000\">grad_fn</span>=<span style=\"font-weight: bold\">&lt;</span><span style=\"color: #ff00ff; text-decoration-color: #ff00ff; font-weight: bold\">NllLossBackward0</span><span style=\"font-weight: bold\">&gt;)</span>\n",
       "</pre>\n"
      ],
      "text/plain": [
       "\u001b[1;35mtensor\u001b[0m\u001b[1m(\u001b[0m\u001b[1;36m2.2973\u001b[0m, \u001b[33mgrad_fn\u001b[0m=\u001b[1m<\u001b[0m\u001b[1;95mNllLossBackward0\u001b[0m\u001b[1m>\u001b[0m\u001b[1m)\u001b[0m\n"
      ]
     },
     "metadata": {},
     "output_type": "display_data"
    }
   ],
   "source": [
    "evaluate_loss(params, Xtr, Ytr)"
   ]
  },
  {
   "cell_type": "code",
   "execution_count": null,
   "id": "db877932",
   "metadata": {},
   "outputs": [
    {
     "data": {
      "text/html": [
       "<pre style=\"white-space:pre;overflow-x:auto;line-height:normal;font-family:Menlo,'DejaVu Sans Mono',consolas,'Courier New',monospace\"><span style=\"color: #800080; text-decoration-color: #800080; font-weight: bold\">tensor</span><span style=\"font-weight: bold\">(</span><span style=\"color: #008080; text-decoration-color: #008080; font-weight: bold\">2.2926</span>, <span style=\"color: #808000; text-decoration-color: #808000\">grad_fn</span>=<span style=\"font-weight: bold\">&lt;</span><span style=\"color: #ff00ff; text-decoration-color: #ff00ff; font-weight: bold\">NllLossBackward0</span><span style=\"font-weight: bold\">&gt;)</span>\n",
       "</pre>\n"
      ],
      "text/plain": [
       "\u001b[1;35mtensor\u001b[0m\u001b[1m(\u001b[0m\u001b[1;36m2.2926\u001b[0m, \u001b[33mgrad_fn\u001b[0m=\u001b[1m<\u001b[0m\u001b[1;95mNllLossBackward0\u001b[0m\u001b[1m>\u001b[0m\u001b[1m)\u001b[0m\n"
      ]
     },
     "metadata": {},
     "output_type": "display_data"
    }
   ],
   "source": [
    "evaluate_loss(params, Xdev, Ydev)"
   ]
  },
  {
   "cell_type": "code",
   "execution_count": null,
   "id": "444fa3d4",
   "metadata": {},
   "outputs": [],
   "source": [
    "params, steps, losses = track_hidden_layer_vs_loss(30_000, X, Y, params, lr=0.05, enable_print=False)"
   ]
  },
  {
   "cell_type": "code",
   "execution_count": null,
   "id": "98b2062b",
   "metadata": {},
   "outputs": [
    {
     "data": {
      "text/html": [
       "<pre style=\"white-space:pre;overflow-x:auto;line-height:normal;font-family:Menlo,'DejaVu Sans Mono',consolas,'Courier New',monospace\"><span style=\"color: #800080; text-decoration-color: #800080; font-weight: bold\">tensor</span><span style=\"font-weight: bold\">(</span><span style=\"color: #008080; text-decoration-color: #008080; font-weight: bold\">2.2798</span>, <span style=\"color: #808000; text-decoration-color: #808000\">grad_fn</span>=<span style=\"font-weight: bold\">&lt;</span><span style=\"color: #ff00ff; text-decoration-color: #ff00ff; font-weight: bold\">NllLossBackward0</span><span style=\"font-weight: bold\">&gt;)</span>\n",
       "</pre>\n"
      ],
      "text/plain": [
       "\u001b[1;35mtensor\u001b[0m\u001b[1m(\u001b[0m\u001b[1;36m2.2798\u001b[0m, \u001b[33mgrad_fn\u001b[0m=\u001b[1m<\u001b[0m\u001b[1;95mNllLossBackward0\u001b[0m\u001b[1m>\u001b[0m\u001b[1m)\u001b[0m\n"
      ]
     },
     "metadata": {},
     "output_type": "display_data"
    }
   ],
   "source": [
    "evaluate_loss(params, Xtr, Ytr)"
   ]
  },
  {
   "cell_type": "code",
   "execution_count": null,
   "id": "ca5587d2",
   "metadata": {},
   "outputs": [
    {
     "data": {
      "text/html": [
       "<pre style=\"white-space:pre;overflow-x:auto;line-height:normal;font-family:Menlo,'DejaVu Sans Mono',consolas,'Courier New',monospace\"><span style=\"color: #800080; text-decoration-color: #800080; font-weight: bold\">tensor</span><span style=\"font-weight: bold\">(</span><span style=\"color: #008080; text-decoration-color: #008080; font-weight: bold\">2.2770</span>, <span style=\"color: #808000; text-decoration-color: #808000\">grad_fn</span>=<span style=\"font-weight: bold\">&lt;</span><span style=\"color: #ff00ff; text-decoration-color: #ff00ff; font-weight: bold\">NllLossBackward0</span><span style=\"font-weight: bold\">&gt;)</span>\n",
       "</pre>\n"
      ],
      "text/plain": [
       "\u001b[1;35mtensor\u001b[0m\u001b[1m(\u001b[0m\u001b[1;36m2.2770\u001b[0m, \u001b[33mgrad_fn\u001b[0m=\u001b[1m<\u001b[0m\u001b[1;95mNllLossBackward0\u001b[0m\u001b[1m>\u001b[0m\u001b[1m)\u001b[0m\n"
      ]
     },
     "metadata": {},
     "output_type": "display_data"
    }
   ],
   "source": [
    "evaluate_loss(params, Xdev, Ydev)"
   ]
  },
  {
   "cell_type": "code",
   "execution_count": null,
   "id": "4341d287",
   "metadata": {},
   "outputs": [
    {
     "data": {
      "text/html": [
       "<pre style=\"white-space:pre;overflow-x:auto;line-height:normal;font-family:Menlo,'DejaVu Sans Mono',consolas,'Courier New',monospace\"><span style=\"color: #800080; text-decoration-color: #800080; font-weight: bold\">tensor</span><span style=\"font-weight: bold\">(</span><span style=\"color: #008080; text-decoration-color: #008080; font-weight: bold\">2.2773</span>, <span style=\"color: #808000; text-decoration-color: #808000\">grad_fn</span>=<span style=\"font-weight: bold\">&lt;</span><span style=\"color: #ff00ff; text-decoration-color: #ff00ff; font-weight: bold\">NllLossBackward0</span><span style=\"font-weight: bold\">&gt;)</span>\n",
       "</pre>\n"
      ],
      "text/plain": [
       "\u001b[1;35mtensor\u001b[0m\u001b[1m(\u001b[0m\u001b[1;36m2.2773\u001b[0m, \u001b[33mgrad_fn\u001b[0m=\u001b[1m<\u001b[0m\u001b[1;95mNllLossBackward0\u001b[0m\u001b[1m>\u001b[0m\u001b[1m)\u001b[0m\n"
      ]
     },
     "metadata": {},
     "output_type": "display_data"
    }
   ],
   "source": [
    "evaluate_loss(params, Xte, Yte)"
   ]
  },
  {
   "cell_type": "markdown",
   "id": "df664be7",
   "metadata": {},
   "source": [
    "## Visualize Character Embeddings"
   ]
  },
  {
   "cell_type": "code",
   "execution_count": null,
   "id": "0ccb542f",
   "metadata": {},
   "outputs": [
    {
     "data": {
      "image/png": "[encoded data removed]"
     },
     "metadata": {},
     "output_type": "display_data"
    }
   ],
   "source": [
    "plot.figure(figsize=(8,8))\n",
    "plot.scatter(C[:, 0], C[:, 1].data, s = 200)\n",
    "for i in range(C.shape[0]):\n",
    "    plot.text(C[i, 0].item(), C[i, 1].item(), itos[i], ha=\"center\", va=\"center\", color='white')\n",
    "plot.grid('minor')"
   ]
  },
  {
   "cell_type": "markdown",
   "id": "ddf2bc1d",
   "metadata": {},
   "source": [
    "## Larger Embedding Size"
   ]
  },
  {
   "cell_type": "code",
   "execution_count": null,
   "id": "62b1e5c6",
   "metadata": {},
   "outputs": [],
   "source": [
    "def initialize_params(hc):\n",
    "    C = torch.randn((27, 10), generator=g)\n",
    "    W1 = torch.randn((30, hc), generator=g)\n",
    "    b1 = torch.randn(hc, generator=g)\n",
    "    W2 = torch.randn((hc, 27), generator=g)\n",
    "    b2 = torch.randn(27, generator=g)\n",
    "\n",
    "    return [C, W1, b1, W2, b2]"
   ]
  },
  {
   "cell_type": "code",
   "execution_count": null,
   "id": "2cf100ae",
   "metadata": {},
   "outputs": [],
   "source": [
    "def forward_pass(params, X):\n",
    "    C, W1, b1, W2, b2 = params\n",
    "    emb = C[X] # (32, 3, 2)\n",
    "    h = torch.tanh(emb.view(-1, 30) @ W1 + b1)\n",
    "    logits = h @ W2 + b2\n",
    "    return logits"
   ]
  },
  {
   "cell_type": "code",
   "execution_count": null,
   "id": "57dd973f",
   "metadata": {},
   "outputs": [],
   "source": [
    "def track_hidden_layer_vs_loss(epochs, X, Y, parameters = [], lr=0.1, enable_print=True):\n",
    "    if not parameters: parameters = initialize_params(200)\n",
    "    \n",
    "    for p in parameters: p.requires_grad = True \n",
    "    \n",
    "    stepi = []\n",
    "    lossi = []\n",
    "    \n",
    "    for i in range(epochs):\n",
    "        loss = an_epoch_minibatch(parameters, X, Y, lr=lr)\n",
    "        if enable_print: print(loss.item())\n",
    "        \n",
    "        stepi.append(i)\n",
    "        lossi.append(loss.log10().item())\n",
    "        \n",
    "    return parameters, stepi, lossi"
   ]
  },
  {
   "cell_type": "code",
   "execution_count": null,
   "id": "db667b22",
   "metadata": {},
   "outputs": [],
   "source": [
    "params, steps, losses = track_hidden_layer_vs_loss(50_000, Xtr, Ytr, enable_print=False)"
   ]
  },
  {
   "cell_type": "code",
   "execution_count": null,
   "id": "2cb21243",
   "metadata": {},
   "outputs": [
    {
     "data": {
      "text/html": [
       "<pre style=\"white-space:pre;overflow-x:auto;line-height:normal;font-family:Menlo,'DejaVu Sans Mono',consolas,'Courier New',monospace\"><span style=\"font-weight: bold\">[&lt;</span><span style=\"color: #ff00ff; text-decoration-color: #ff00ff; font-weight: bold\">matplotlib.lines.Line2D</span><span style=\"color: #000000; text-decoration-color: #000000\"> object at </span><span style=\"color: #008080; text-decoration-color: #008080; font-weight: bold\">0x7f993b493cd0</span><span style=\"font-weight: bold\">&gt;]</span>\n",
       "</pre>\n"
      ],
      "text/plain": [
       "\u001b[1m[\u001b[0m\u001b[1m<\u001b[0m\u001b[1;95mmatplotlib.lines.Line2D\u001b[0m\u001b[39m object at \u001b[0m\u001b[1;36m0x7f993b493cd0\u001b[0m\u001b[1m>\u001b[0m\u001b[1m]\u001b[0m\n"
      ]
     },
     "metadata": {},
     "output_type": "display_data"
    },
    {
     "data": {
      "image/png": "[encoded data removed]"
     },
     "metadata": {},
     "output_type": "display_data"
    }
   ],
   "source": [
    "plot.plot(steps, losses)"
   ]
  },
  {
   "cell_type": "code",
   "execution_count": null,
   "id": "3ff486a1",
   "metadata": {},
   "outputs": [
    {
     "data": {
      "text/html": [
       "<pre style=\"white-space:pre;overflow-x:auto;line-height:normal;font-family:Menlo,'DejaVu Sans Mono',consolas,'Courier New',monospace\"><span style=\"color: #800080; text-decoration-color: #800080; font-weight: bold\">tensor</span><span style=\"font-weight: bold\">(</span><span style=\"color: #008080; text-decoration-color: #008080; font-weight: bold\">2.3460</span>, <span style=\"color: #808000; text-decoration-color: #808000\">grad_fn</span>=<span style=\"font-weight: bold\">&lt;</span><span style=\"color: #ff00ff; text-decoration-color: #ff00ff; font-weight: bold\">NllLossBackward0</span><span style=\"font-weight: bold\">&gt;)</span>\n",
       "</pre>\n"
      ],
      "text/plain": [
       "\u001b[1;35mtensor\u001b[0m\u001b[1m(\u001b[0m\u001b[1;36m2.3460\u001b[0m, \u001b[33mgrad_fn\u001b[0m=\u001b[1m<\u001b[0m\u001b[1;95mNllLossBackward0\u001b[0m\u001b[1m>\u001b[0m\u001b[1m)\u001b[0m\n"
      ]
     },
     "metadata": {},
     "output_type": "display_data"
    }
   ],
   "source": [
    "evaluate_loss(params, Xtr, Ytr)"
   ]
  },
  {
   "cell_type": "code",
   "execution_count": null,
   "id": "79ced8c3",
   "metadata": {},
   "outputs": [
    {
     "data": {
      "text/html": [
       "<pre style=\"white-space:pre;overflow-x:auto;line-height:normal;font-family:Menlo,'DejaVu Sans Mono',consolas,'Courier New',monospace\"><span style=\"color: #800080; text-decoration-color: #800080; font-weight: bold\">tensor</span><span style=\"font-weight: bold\">(</span><span style=\"color: #008080; text-decoration-color: #008080; font-weight: bold\">2.3639</span>, <span style=\"color: #808000; text-decoration-color: #808000\">grad_fn</span>=<span style=\"font-weight: bold\">&lt;</span><span style=\"color: #ff00ff; text-decoration-color: #ff00ff; font-weight: bold\">NllLossBackward0</span><span style=\"font-weight: bold\">&gt;)</span>\n",
       "</pre>\n"
      ],
      "text/plain": [
       "\u001b[1;35mtensor\u001b[0m\u001b[1m(\u001b[0m\u001b[1;36m2.3639\u001b[0m, \u001b[33mgrad_fn\u001b[0m=\u001b[1m<\u001b[0m\u001b[1;95mNllLossBackward0\u001b[0m\u001b[1m>\u001b[0m\u001b[1m)\u001b[0m\n"
      ]
     },
     "metadata": {},
     "output_type": "display_data"
    }
   ],
   "source": [
    "evaluate_loss(params, Xdev, Ydev)"
   ]
  },
  {
   "cell_type": "code",
   "execution_count": null,
   "id": "5161a28e",
   "metadata": {},
   "outputs": [
    {
     "data": {
      "text/html": [
       "<pre style=\"white-space:pre;overflow-x:auto;line-height:normal;font-family:Menlo,'DejaVu Sans Mono',consolas,'Courier New',monospace\"><span style=\"color: #800080; text-decoration-color: #800080; font-weight: bold\">tensor</span><span style=\"font-weight: bold\">(</span><span style=\"color: #008080; text-decoration-color: #008080; font-weight: bold\">2.3736</span>, <span style=\"color: #808000; text-decoration-color: #808000\">grad_fn</span>=<span style=\"font-weight: bold\">&lt;</span><span style=\"color: #ff00ff; text-decoration-color: #ff00ff; font-weight: bold\">NllLossBackward0</span><span style=\"font-weight: bold\">&gt;)</span>\n",
       "</pre>\n"
      ],
      "text/plain": [
       "\u001b[1;35mtensor\u001b[0m\u001b[1m(\u001b[0m\u001b[1;36m2.3736\u001b[0m, \u001b[33mgrad_fn\u001b[0m=\u001b[1m<\u001b[0m\u001b[1;95mNllLossBackward0\u001b[0m\u001b[1m>\u001b[0m\u001b[1m)\u001b[0m\n"
      ]
     },
     "metadata": {},
     "output_type": "display_data"
    }
   ],
   "source": [
    "evaluate_loss(params, Xte, Yte)"
   ]
  },
  {
   "cell_type": "code",
   "execution_count": null,
   "id": "75203368",
   "metadata": {},
   "outputs": [],
   "source": [
    "params, steps, losses = track_hidden_layer_vs_loss(50_000, Xtr, Ytr, params, lr=0.001, enable_print=False)"
   ]
  },
  {
   "cell_type": "code",
   "execution_count": null,
   "id": "457e48cc",
   "metadata": {},
   "outputs": [
    {
     "data": {
      "text/html": [
       "<pre style=\"white-space:pre;overflow-x:auto;line-height:normal;font-family:Menlo,'DejaVu Sans Mono',consolas,'Courier New',monospace\"><span style=\"font-weight: bold\">[&lt;</span><span style=\"color: #ff00ff; text-decoration-color: #ff00ff; font-weight: bold\">matplotlib.lines.Line2D</span><span style=\"color: #000000; text-decoration-color: #000000\"> object at </span><span style=\"color: #008080; text-decoration-color: #008080; font-weight: bold\">0x7f984ac705d0</span><span style=\"font-weight: bold\">&gt;]</span>\n",
       "</pre>\n"
      ],
      "text/plain": [
       "\u001b[1m[\u001b[0m\u001b[1m<\u001b[0m\u001b[1;95mmatplotlib.lines.Line2D\u001b[0m\u001b[39m object at \u001b[0m\u001b[1;36m0x7f984ac705d0\u001b[0m\u001b[1m>\u001b[0m\u001b[1m]\u001b[0m\n"
      ]
     },
     "metadata": {},
     "output_type": "display_data"
    },
    {
     "data": {
      "image/png": "[encoded data removed]"
     },
     "metadata": {},
     "output_type": "display_data"
    }
   ],
   "source": [
    "plot.plot(steps, losses)"
   ]
  },
  {
   "cell_type": "code",
   "execution_count": null,
   "id": "802340f8",
   "metadata": {},
   "outputs": [
    {
     "data": {
      "text/html": [
       "<pre style=\"white-space:pre;overflow-x:auto;line-height:normal;font-family:Menlo,'DejaVu Sans Mono',consolas,'Courier New',monospace\"><span style=\"color: #800080; text-decoration-color: #800080; font-weight: bold\">tensor</span><span style=\"font-weight: bold\">(</span><span style=\"color: #008080; text-decoration-color: #008080; font-weight: bold\">2.1660</span>, <span style=\"color: #808000; text-decoration-color: #808000\">grad_fn</span>=<span style=\"font-weight: bold\">&lt;</span><span style=\"color: #ff00ff; text-decoration-color: #ff00ff; font-weight: bold\">NllLossBackward0</span><span style=\"font-weight: bold\">&gt;)</span>\n",
       "</pre>\n"
      ],
      "text/plain": [
       "\u001b[1;35mtensor\u001b[0m\u001b[1m(\u001b[0m\u001b[1;36m2.1660\u001b[0m, \u001b[33mgrad_fn\u001b[0m=\u001b[1m<\u001b[0m\u001b[1;95mNllLossBackward0\u001b[0m\u001b[1m>\u001b[0m\u001b[1m)\u001b[0m\n"
      ]
     },
     "metadata": {},
     "output_type": "display_data"
    }
   ],
   "source": [
    "evaluate_loss(params, Xtr, Ytr)"
   ]
  },
  {
   "cell_type": "code",
   "execution_count": null,
   "id": "040ba8d3",
   "metadata": {},
   "outputs": [
    {
     "data": {
      "text/html": [
       "<pre style=\"white-space:pre;overflow-x:auto;line-height:normal;font-family:Menlo,'DejaVu Sans Mono',consolas,'Courier New',monospace\"><span style=\"color: #800080; text-decoration-color: #800080; font-weight: bold\">tensor</span><span style=\"font-weight: bold\">(</span><span style=\"color: #008080; text-decoration-color: #008080; font-weight: bold\">2.1936</span>, <span style=\"color: #808000; text-decoration-color: #808000\">grad_fn</span>=<span style=\"font-weight: bold\">&lt;</span><span style=\"color: #ff00ff; text-decoration-color: #ff00ff; font-weight: bold\">NllLossBackward0</span><span style=\"font-weight: bold\">&gt;)</span>\n",
       "</pre>\n"
      ],
      "text/plain": [
       "\u001b[1;35mtensor\u001b[0m\u001b[1m(\u001b[0m\u001b[1;36m2.1936\u001b[0m, \u001b[33mgrad_fn\u001b[0m=\u001b[1m<\u001b[0m\u001b[1;95mNllLossBackward0\u001b[0m\u001b[1m>\u001b[0m\u001b[1m)\u001b[0m\n"
      ]
     },
     "metadata": {},
     "output_type": "display_data"
    }
   ],
   "source": [
    "evaluate_loss(params, Xdev, Ydev)"
   ]
  },
  {
   "cell_type": "code",
   "execution_count": null,
   "id": "65afd657",
   "metadata": {},
   "outputs": [
    {
     "data": {
      "text/html": [
       "<pre style=\"white-space:pre;overflow-x:auto;line-height:normal;font-family:Menlo,'DejaVu Sans Mono',consolas,'Courier New',monospace\"><span style=\"color: #800080; text-decoration-color: #800080; font-weight: bold\">tensor</span><span style=\"font-weight: bold\">(</span><span style=\"color: #008080; text-decoration-color: #008080; font-weight: bold\">2.1990</span>, <span style=\"color: #808000; text-decoration-color: #808000\">grad_fn</span>=<span style=\"font-weight: bold\">&lt;</span><span style=\"color: #ff00ff; text-decoration-color: #ff00ff; font-weight: bold\">NllLossBackward0</span><span style=\"font-weight: bold\">&gt;)</span>\n",
       "</pre>\n"
      ],
      "text/plain": [
       "\u001b[1;35mtensor\u001b[0m\u001b[1m(\u001b[0m\u001b[1;36m2.1990\u001b[0m, \u001b[33mgrad_fn\u001b[0m=\u001b[1m<\u001b[0m\u001b[1;95mNllLossBackward0\u001b[0m\u001b[1m>\u001b[0m\u001b[1m)\u001b[0m\n"
      ]
     },
     "metadata": {},
     "output_type": "display_data"
    }
   ],
   "source": [
    "evaluate_loss(params, Xte, Yte)"
   ]
  },
  {
   "cell_type": "markdown",
   "id": "1d69437d",
   "metadata": {},
   "source": [
    "## Sampling from the model"
   ]
  },
  {
   "cell_type": "code",
   "execution_count": null,
   "id": "e77dbdcd",
   "metadata": {},
   "outputs": [],
   "source": [
    "def generate_words(count):\n",
    "    for _ in range(count):\n",
    "        out = []\n",
    "        context = [0] * block_size # initialize with all ...\n",
    "        while True:\n",
    "            logits = forward_pass(params, torch.tensor([context]))\n",
    "            probs = F.softmax(logits, dim=1)\n",
    "            ix = torch.multinomial(probs, num_samples=1, generator=g).item()\n",
    "            context = context[1:] + [ix]\n",
    "            out.append(ix)\n",
    "            if ix == 0: break\n",
    "\n",
    "        print(''.join(itos[i] for i in out))"
   ]
  },
  {
   "cell_type": "code",
   "execution_count": null,
   "id": "747d3823",
   "metadata": {},
   "outputs": [
    {
     "data": {
      "text/html": [
       "<pre style=\"white-space:pre;overflow-x:auto;line-height:normal;font-family:Menlo,'DejaVu Sans Mono',consolas,'Courier New',monospace\">namileina.\n",
       "</pre>\n"
      ],
      "text/plain": [
       "namileina.\n"
      ]
     },
     "metadata": {},
     "output_type": "display_data"
    },
    {
     "data": {
      "text/html": [
       "<pre style=\"white-space:pre;overflow-x:auto;line-height:normal;font-family:Menlo,'DejaVu Sans Mono',consolas,'Courier New',monospace\">brigan.\n",
       "</pre>\n"
      ],
      "text/plain": [
       "brigan.\n"
      ]
     },
     "metadata": {},
     "output_type": "display_data"
    },
    {
     "data": {
      "text/html": [
       "<pre style=\"white-space:pre;overflow-x:auto;line-height:normal;font-family:Menlo,'DejaVu Sans Mono',consolas,'Courier New',monospace\">marxea.\n",
       "</pre>\n"
      ],
      "text/plain": [
       "marxea.\n"
      ]
     },
     "metadata": {},
     "output_type": "display_data"
    },
    {
     "data": {
      "text/html": [
       "<pre style=\"white-space:pre;overflow-x:auto;line-height:normal;font-family:Menlo,'DejaVu Sans Mono',consolas,'Courier New',monospace\">luel.\n",
       "</pre>\n"
      ],
      "text/plain": [
       "luel.\n"
      ]
     },
     "metadata": {},
     "output_type": "display_data"
    },
    {
     "data": {
      "text/html": [
       "<pre style=\"white-space:pre;overflow-x:auto;line-height:normal;font-family:Menlo,'DejaVu Sans Mono',consolas,'Courier New',monospace\">parkonzayah.\n",
       "</pre>\n"
      ],
      "text/plain": [
       "parkonzayah.\n"
      ]
     },
     "metadata": {},
     "output_type": "display_data"
    },
    {
     "data": {
      "text/html": [
       "<pre style=\"white-space:pre;overflow-x:auto;line-height:normal;font-family:Menlo,'DejaVu Sans Mono',consolas,'Courier New',monospace\">nwayleah.\n",
       "</pre>\n"
      ],
      "text/plain": [
       "nwayleah.\n"
      ]
     },
     "metadata": {},
     "output_type": "display_data"
    },
    {
     "data": {
      "text/html": [
       "<pre style=\"white-space:pre;overflow-x:auto;line-height:normal;font-family:Menlo,'DejaVu Sans Mono',consolas,'Courier New',monospace\">jusi.\n",
       "</pre>\n"
      ],
      "text/plain": [
       "jusi.\n"
      ]
     },
     "metadata": {},
     "output_type": "display_data"
    },
    {
     "data": {
      "text/html": [
       "<pre style=\"white-space:pre;overflow-x:auto;line-height:normal;font-family:Menlo,'DejaVu Sans Mono',consolas,'Courier New',monospace\">tyrfen.\n",
       "</pre>\n"
      ],
      "text/plain": [
       "tyrfen.\n"
      ]
     },
     "metadata": {},
     "output_type": "display_data"
    },
    {
     "data": {
      "text/html": [
       "<pre style=\"white-space:pre;overflow-x:auto;line-height:normal;font-family:Menlo,'DejaVu Sans Mono',consolas,'Courier New',monospace\">win.\n",
       "</pre>\n"
      ],
      "text/plain": [
       "win.\n"
      ]
     },
     "metadata": {},
     "output_type": "display_data"
    },
    {
     "data": {
      "text/html": [
       "<pre style=\"white-space:pre;overflow-x:auto;line-height:normal;font-family:Menlo,'DejaVu Sans Mono',consolas,'Courier New',monospace\">dylynn.\n",
       "</pre>\n"
      ],
      "text/plain": [
       "dylynn.\n"
      ]
     },
     "metadata": {},
     "output_type": "display_data"
    },
    {
     "data": {
      "text/html": [
       "<pre style=\"white-space:pre;overflow-x:auto;line-height:normal;font-family:Menlo,'DejaVu Sans Mono',consolas,'Courier New',monospace\">xolle.\n",
       "</pre>\n"
      ],
      "text/plain": [
       "xolle.\n"
      ]
     },
     "metadata": {},
     "output_type": "display_data"
    },
    {
     "data": {
      "text/html": [
       "<pre style=\"white-space:pre;overflow-x:auto;line-height:normal;font-family:Menlo,'DejaVu Sans Mono',consolas,'Courier New',monospace\">dilin.\n",
       "</pre>\n"
      ],
      "text/plain": [
       "dilin.\n"
      ]
     },
     "metadata": {},
     "output_type": "display_data"
    },
    {
     "data": {
      "text/html": [
       "<pre style=\"white-space:pre;overflow-x:auto;line-height:normal;font-family:Menlo,'DejaVu Sans Mono',consolas,'Courier New',monospace\">micheshevpaveett.\n",
       "</pre>\n"
      ],
      "text/plain": [
       "micheshevpaveett.\n"
      ]
     },
     "metadata": {},
     "output_type": "display_data"
    },
    {
     "data": {
      "text/html": [
       "<pre style=\"white-space:pre;overflow-x:auto;line-height:normal;font-family:Menlo,'DejaVu Sans Mono',consolas,'Courier New',monospace\">parandee.\n",
       "</pre>\n"
      ],
      "text/plain": [
       "parandee.\n"
      ]
     },
     "metadata": {},
     "output_type": "display_data"
    },
    {
     "data": {
      "text/html": [
       "<pre style=\"white-space:pre;overflow-x:auto;line-height:normal;font-family:Menlo,'DejaVu Sans Mono',consolas,'Courier New',monospace\">yannie.\n",
       "</pre>\n"
      ],
      "text/plain": [
       "yannie.\n"
      ]
     },
     "metadata": {},
     "output_type": "display_data"
    },
    {
     "data": {
      "text/html": [
       "<pre style=\"white-space:pre;overflow-x:auto;line-height:normal;font-family:Menlo,'DejaVu Sans Mono',consolas,'Courier New',monospace\">addioktes.\n",
       "</pre>\n"
      ],
      "text/plain": [
       "addioktes.\n"
      ]
     },
     "metadata": {},
     "output_type": "display_data"
    },
    {
     "data": {
      "text/html": [
       "<pre style=\"white-space:pre;overflow-x:auto;line-height:normal;font-family:Menlo,'DejaVu Sans Mono',consolas,'Courier New',monospace\">kajaurvne.\n",
       "</pre>\n"
      ],
      "text/plain": [
       "kajaurvne.\n"
      ]
     },
     "metadata": {},
     "output_type": "display_data"
    },
    {
     "data": {
      "text/html": [
       "<pre style=\"white-space:pre;overflow-x:auto;line-height:normal;font-family:Menlo,'DejaVu Sans Mono',consolas,'Courier New',monospace\">kah.\n",
       "</pre>\n"
      ],
      "text/plain": [
       "kah.\n"
      ]
     },
     "metadata": {},
     "output_type": "display_data"
    },
    {
     "data": {
      "text/html": [
       "<pre style=\"white-space:pre;overflow-x:auto;line-height:normal;font-family:Menlo,'DejaVu Sans Mono',consolas,'Courier New',monospace\">hari.\n",
       "</pre>\n"
      ],
      "text/plain": [
       "hari.\n"
      ]
     },
     "metadata": {},
     "output_type": "display_data"
    },
    {
     "data": {
      "text/html": [
       "<pre style=\"white-space:pre;overflow-x:auto;line-height:normal;font-family:Menlo,'DejaVu Sans Mono',consolas,'Courier New',monospace\">tor.\n",
       "</pre>\n"
      ],
      "text/plain": [
       "tor.\n"
      ]
     },
     "metadata": {},
     "output_type": "display_data"
    }
   ],
   "source": [
    "generate_words(20)"
   ]
  },
  {
   "cell_type": "code",
   "execution_count": null,
   "id": "b0a8db52",
   "metadata": {},
   "outputs": [],
   "source": []
  }
 ],
 "metadata": {
  "kernelspec": {
   "display_name": "zhnn",
   "language": "python",
   "name": "zhnn"
  }
 },
 "nbformat": 4,
 "nbformat_minor": 5
}
