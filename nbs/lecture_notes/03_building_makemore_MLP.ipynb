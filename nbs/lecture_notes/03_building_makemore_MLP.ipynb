{
 "cells": [
  {
   "cell_type": "markdown",
   "id": "d9075552",
   "metadata": {},
   "source": [
    "# Building makemore - MLP"
   ]
  },
  {
   "cell_type": "markdown",
   "id": "f0f19e3f",
   "metadata": {},
   "source": [
    "> This lecture note will mostly be following the https://www.jmlr.org/papers/volume3/bengio03a/bengio03a.pdf paper"
   ]
  },
  {
   "cell_type": "code",
   "execution_count": 75,
   "id": "bd00b9bf",
   "metadata": {},
   "outputs": [],
   "source": [
    "import numpy\n",
    "import torch\n",
    "import torch.nn.functional as F\n",
    "from rich import print\n",
    "from rich import pretty\n",
    "import matplotlib.pyplot as plot\n",
    "%matplotlib inline"
   ]
  },
  {
   "cell_type": "code",
   "execution_count": 76,
   "id": "925ccc0d",
   "metadata": {},
   "outputs": [],
   "source": [
    "pretty.install()"
   ]
  },
  {
   "cell_type": "markdown",
   "id": "6c6515a0",
   "metadata": {},
   "source": [
    "## Read in all the words"
   ]
  },
  {
   "cell_type": "code",
   "execution_count": 77,
   "id": "7983ae4c",
   "metadata": {},
   "outputs": [
    {
     "data": {
      "text/html": [
       "<pre style=\"white-space:pre;overflow-x:auto;line-height:normal;font-family:Menlo,'DejaVu Sans Mono',consolas,'Courier New',monospace\"><span style=\"font-weight: bold\">[</span><span style=\"color: #008000; text-decoration-color: #008000\">'emma'</span>, <span style=\"color: #008000; text-decoration-color: #008000\">'olivia'</span>, <span style=\"color: #008000; text-decoration-color: #008000\">'ava'</span>, <span style=\"color: #008000; text-decoration-color: #008000\">'isabella'</span>, <span style=\"color: #008000; text-decoration-color: #008000\">'sophia'</span>, <span style=\"color: #008000; text-decoration-color: #008000\">'charlotte'</span>, <span style=\"color: #008000; text-decoration-color: #008000\">'mia'</span>, <span style=\"color: #008000; text-decoration-color: #008000\">'amelia'</span><span style=\"font-weight: bold\">]</span>\n",
       "</pre>\n"
      ],
      "text/plain": [
       "\u001b[1m[\u001b[0m\u001b[32m'emma'\u001b[0m, \u001b[32m'olivia'\u001b[0m, \u001b[32m'ava'\u001b[0m, \u001b[32m'isabella'\u001b[0m, \u001b[32m'sophia'\u001b[0m, \u001b[32m'charlotte'\u001b[0m, \u001b[32m'mia'\u001b[0m, \u001b[32m'amelia'\u001b[0m\u001b[1m]\u001b[0m\n"
      ]
     },
     "metadata": {},
     "output_type": "display_data"
    }
   ],
   "source": [
    "words = open('../data/names.txt', 'r').read().splitlines()\n",
    "words[:8]"
   ]
  },
  {
   "cell_type": "code",
   "execution_count": 78,
   "id": "3c7ab202",
   "metadata": {},
   "outputs": [
    {
     "data": {
      "text/html": [
       "<pre style=\"white-space:pre;overflow-x:auto;line-height:normal;font-family:Menlo,'DejaVu Sans Mono',consolas,'Courier New',monospace\"><span style=\"color: #008080; text-decoration-color: #008080; font-weight: bold\">32033</span>\n",
       "</pre>\n"
      ],
      "text/plain": [
       "\u001b[1;36m32033\u001b[0m\n"
      ]
     },
     "metadata": {},
     "output_type": "display_data"
    }
   ],
   "source": [
    "len(words)"
   ]
  },
  {
   "cell_type": "markdown",
   "id": "207048e3",
   "metadata": {},
   "source": [
    "## Build the vocabulary of characters and mapping to/from integers"
   ]
  },
  {
   "cell_type": "code",
   "execution_count": 79,
   "id": "2b33d8c5",
   "metadata": {},
   "outputs": [],
   "source": [
    "chars = sorted(list(set(''.join(words))))"
   ]
  },
  {
   "cell_type": "code",
   "execution_count": 80,
   "id": "697b200d",
   "metadata": {},
   "outputs": [],
   "source": [
    "stoi = {s: i+1 for i, s in enumerate(chars)}\n",
    "stoi['.'] = 0"
   ]
  },
  {
   "cell_type": "code",
   "execution_count": 81,
   "id": "66eef2cb",
   "metadata": {},
   "outputs": [],
   "source": [
    "itos = {i:s for s, i in stoi.items()}"
   ]
  },
  {
   "cell_type": "code",
   "execution_count": 82,
   "id": "32a7a08b",
   "metadata": {},
   "outputs": [
    {
     "data": {
      "text/html": [
       "<pre style=\"white-space:pre;overflow-x:auto;line-height:normal;font-family:Menlo,'DejaVu Sans Mono',consolas,'Courier New',monospace\">\n",
       "<span style=\"font-weight: bold\">{</span>\n",
       "    <span style=\"color: #008080; text-decoration-color: #008080; font-weight: bold\">1</span>: <span style=\"color: #008000; text-decoration-color: #008000\">'a'</span>,\n",
       "    <span style=\"color: #008080; text-decoration-color: #008080; font-weight: bold\">2</span>: <span style=\"color: #008000; text-decoration-color: #008000\">'b'</span>,\n",
       "    <span style=\"color: #008080; text-decoration-color: #008080; font-weight: bold\">3</span>: <span style=\"color: #008000; text-decoration-color: #008000\">'c'</span>,\n",
       "    <span style=\"color: #008080; text-decoration-color: #008080; font-weight: bold\">4</span>: <span style=\"color: #008000; text-decoration-color: #008000\">'d'</span>,\n",
       "    <span style=\"color: #008080; text-decoration-color: #008080; font-weight: bold\">5</span>: <span style=\"color: #008000; text-decoration-color: #008000\">'e'</span>,\n",
       "    <span style=\"color: #008080; text-decoration-color: #008080; font-weight: bold\">6</span>: <span style=\"color: #008000; text-decoration-color: #008000\">'f'</span>,\n",
       "    <span style=\"color: #008080; text-decoration-color: #008080; font-weight: bold\">7</span>: <span style=\"color: #008000; text-decoration-color: #008000\">'g'</span>,\n",
       "    <span style=\"color: #008080; text-decoration-color: #008080; font-weight: bold\">8</span>: <span style=\"color: #008000; text-decoration-color: #008000\">'h'</span>,\n",
       "    <span style=\"color: #008080; text-decoration-color: #008080; font-weight: bold\">9</span>: <span style=\"color: #008000; text-decoration-color: #008000\">'i'</span>,\n",
       "    <span style=\"color: #008080; text-decoration-color: #008080; font-weight: bold\">10</span>: <span style=\"color: #008000; text-decoration-color: #008000\">'j'</span>,\n",
       "    <span style=\"color: #008080; text-decoration-color: #008080; font-weight: bold\">11</span>: <span style=\"color: #008000; text-decoration-color: #008000\">'k'</span>,\n",
       "    <span style=\"color: #008080; text-decoration-color: #008080; font-weight: bold\">12</span>: <span style=\"color: #008000; text-decoration-color: #008000\">'l'</span>,\n",
       "    <span style=\"color: #008080; text-decoration-color: #008080; font-weight: bold\">13</span>: <span style=\"color: #008000; text-decoration-color: #008000\">'m'</span>,\n",
       "    <span style=\"color: #008080; text-decoration-color: #008080; font-weight: bold\">14</span>: <span style=\"color: #008000; text-decoration-color: #008000\">'n'</span>,\n",
       "    <span style=\"color: #008080; text-decoration-color: #008080; font-weight: bold\">15</span>: <span style=\"color: #008000; text-decoration-color: #008000\">'o'</span>,\n",
       "    <span style=\"color: #008080; text-decoration-color: #008080; font-weight: bold\">16</span>: <span style=\"color: #008000; text-decoration-color: #008000\">'p'</span>,\n",
       "    <span style=\"color: #008080; text-decoration-color: #008080; font-weight: bold\">17</span>: <span style=\"color: #008000; text-decoration-color: #008000\">'q'</span>,\n",
       "    <span style=\"color: #008080; text-decoration-color: #008080; font-weight: bold\">18</span>: <span style=\"color: #008000; text-decoration-color: #008000\">'r'</span>,\n",
       "    <span style=\"color: #008080; text-decoration-color: #008080; font-weight: bold\">19</span>: <span style=\"color: #008000; text-decoration-color: #008000\">'s'</span>,\n",
       "    <span style=\"color: #008080; text-decoration-color: #008080; font-weight: bold\">20</span>: <span style=\"color: #008000; text-decoration-color: #008000\">'t'</span>,\n",
       "    <span style=\"color: #008080; text-decoration-color: #008080; font-weight: bold\">21</span>: <span style=\"color: #008000; text-decoration-color: #008000\">'u'</span>,\n",
       "    <span style=\"color: #008080; text-decoration-color: #008080; font-weight: bold\">22</span>: <span style=\"color: #008000; text-decoration-color: #008000\">'v'</span>,\n",
       "    <span style=\"color: #008080; text-decoration-color: #008080; font-weight: bold\">23</span>: <span style=\"color: #008000; text-decoration-color: #008000\">'w'</span>,\n",
       "    <span style=\"color: #008080; text-decoration-color: #008080; font-weight: bold\">24</span>: <span style=\"color: #008000; text-decoration-color: #008000\">'x'</span>,\n",
       "    <span style=\"color: #008080; text-decoration-color: #008080; font-weight: bold\">25</span>: <span style=\"color: #008000; text-decoration-color: #008000\">'y'</span>,\n",
       "    <span style=\"color: #008080; text-decoration-color: #008080; font-weight: bold\">26</span>: <span style=\"color: #008000; text-decoration-color: #008000\">'z'</span>,\n",
       "    <span style=\"color: #008080; text-decoration-color: #008080; font-weight: bold\">0</span>: <span style=\"color: #008000; text-decoration-color: #008000\">'.'</span>\n",
       "<span style=\"font-weight: bold\">}</span>\n",
       "</pre>\n"
      ],
      "text/plain": [
       "\n",
       "\u001b[1m{\u001b[0m\n",
       "    \u001b[1;36m1\u001b[0m: \u001b[32m'a'\u001b[0m,\n",
       "    \u001b[1;36m2\u001b[0m: \u001b[32m'b'\u001b[0m,\n",
       "    \u001b[1;36m3\u001b[0m: \u001b[32m'c'\u001b[0m,\n",
       "    \u001b[1;36m4\u001b[0m: \u001b[32m'd'\u001b[0m,\n",
       "    \u001b[1;36m5\u001b[0m: \u001b[32m'e'\u001b[0m,\n",
       "    \u001b[1;36m6\u001b[0m: \u001b[32m'f'\u001b[0m,\n",
       "    \u001b[1;36m7\u001b[0m: \u001b[32m'g'\u001b[0m,\n",
       "    \u001b[1;36m8\u001b[0m: \u001b[32m'h'\u001b[0m,\n",
       "    \u001b[1;36m9\u001b[0m: \u001b[32m'i'\u001b[0m,\n",
       "    \u001b[1;36m10\u001b[0m: \u001b[32m'j'\u001b[0m,\n",
       "    \u001b[1;36m11\u001b[0m: \u001b[32m'k'\u001b[0m,\n",
       "    \u001b[1;36m12\u001b[0m: \u001b[32m'l'\u001b[0m,\n",
       "    \u001b[1;36m13\u001b[0m: \u001b[32m'm'\u001b[0m,\n",
       "    \u001b[1;36m14\u001b[0m: \u001b[32m'n'\u001b[0m,\n",
       "    \u001b[1;36m15\u001b[0m: \u001b[32m'o'\u001b[0m,\n",
       "    \u001b[1;36m16\u001b[0m: \u001b[32m'p'\u001b[0m,\n",
       "    \u001b[1;36m17\u001b[0m: \u001b[32m'q'\u001b[0m,\n",
       "    \u001b[1;36m18\u001b[0m: \u001b[32m'r'\u001b[0m,\n",
       "    \u001b[1;36m19\u001b[0m: \u001b[32m's'\u001b[0m,\n",
       "    \u001b[1;36m20\u001b[0m: \u001b[32m't'\u001b[0m,\n",
       "    \u001b[1;36m21\u001b[0m: \u001b[32m'u'\u001b[0m,\n",
       "    \u001b[1;36m22\u001b[0m: \u001b[32m'v'\u001b[0m,\n",
       "    \u001b[1;36m23\u001b[0m: \u001b[32m'w'\u001b[0m,\n",
       "    \u001b[1;36m24\u001b[0m: \u001b[32m'x'\u001b[0m,\n",
       "    \u001b[1;36m25\u001b[0m: \u001b[32m'y'\u001b[0m,\n",
       "    \u001b[1;36m26\u001b[0m: \u001b[32m'z'\u001b[0m,\n",
       "    \u001b[1;36m0\u001b[0m: \u001b[32m'.'\u001b[0m\n",
       "\u001b[1m}\u001b[0m\n"
      ]
     },
     "metadata": {},
     "output_type": "display_data"
    }
   ],
   "source": [
    "itos"
   ]
  },
  {
   "cell_type": "markdown",
   "id": "74b2adeb",
   "metadata": {},
   "source": [
    "## Build the training dataset"
   ]
  },
  {
   "cell_type": "code",
   "execution_count": 83,
   "id": "947a9ddc",
   "metadata": {},
   "outputs": [],
   "source": [
    "block_size = 3"
   ]
  },
  {
   "cell_type": "markdown",
   "id": "c467dd12",
   "metadata": {},
   "source": [
    "What is `block_size`?\n",
    "> context length: how many characters do we take to predict the next one?"
   ]
  },
  {
   "cell_type": "code",
   "execution_count": 84,
   "id": "1d6d8665",
   "metadata": {},
   "outputs": [],
   "source": [
    "def generate_training_set(words, block_size, print_disabled=False):\n",
    "    X, Y = [], []\n",
    "    for w in words:\n",
    "        if print_disabled: print(w)\n",
    "        \n",
    "        context = [0] * block_size\n",
    "        for ch in w + '.':\n",
    "            ix = stoi[ch]\n",
    "            X.append(context)\n",
    "            Y.append(ix)\n",
    "            if print_disabled: print(''.join(itos[i] for i in context), '--->', itos[ix])\n",
    "            context = context[1:] + [ix] # crop and append\n",
    "            \n",
    "    X = torch.tensor(X)\n",
    "    Y = torch.tensor(Y)\n",
    "    return X, Y"
   ]
  },
  {
   "cell_type": "markdown",
   "id": "86db9279",
   "metadata": {},
   "source": [
    "### Generating training set for block size of 2"
   ]
  },
  {
   "cell_type": "code",
   "execution_count": 85,
   "id": "af91bbb3",
   "metadata": {},
   "outputs": [
    {
     "data": {
      "text/html": [
       "<pre style=\"white-space:pre;overflow-x:auto;line-height:normal;font-family:Menlo,'DejaVu Sans Mono',consolas,'Courier New',monospace\">emma\n",
       "</pre>\n"
      ],
      "text/plain": [
       "emma\n"
      ]
     },
     "metadata": {},
     "output_type": "display_data"
    },
    {
     "data": {
      "text/html": [
       "<pre style=\"white-space:pre;overflow-x:auto;line-height:normal;font-family:Menlo,'DejaVu Sans Mono',consolas,'Courier New',monospace\">.. ---&gt; e\n",
       "</pre>\n"
      ],
      "text/plain": [
       ".. ---> e\n"
      ]
     },
     "metadata": {},
     "output_type": "display_data"
    },
    {
     "data": {
      "text/html": [
       "<pre style=\"white-space:pre;overflow-x:auto;line-height:normal;font-family:Menlo,'DejaVu Sans Mono',consolas,'Courier New',monospace\">.e ---&gt; m\n",
       "</pre>\n"
      ],
      "text/plain": [
       ".e ---> m\n"
      ]
     },
     "metadata": {},
     "output_type": "display_data"
    },
    {
     "data": {
      "text/html": [
       "<pre style=\"white-space:pre;overflow-x:auto;line-height:normal;font-family:Menlo,'DejaVu Sans Mono',consolas,'Courier New',monospace\">em ---&gt; m\n",
       "</pre>\n"
      ],
      "text/plain": [
       "em ---> m\n"
      ]
     },
     "metadata": {},
     "output_type": "display_data"
    },
    {
     "data": {
      "text/html": [
       "<pre style=\"white-space:pre;overflow-x:auto;line-height:normal;font-family:Menlo,'DejaVu Sans Mono',consolas,'Courier New',monospace\">mm ---&gt; a\n",
       "</pre>\n"
      ],
      "text/plain": [
       "mm ---> a\n"
      ]
     },
     "metadata": {},
     "output_type": "display_data"
    },
    {
     "data": {
      "text/html": [
       "<pre style=\"white-space:pre;overflow-x:auto;line-height:normal;font-family:Menlo,'DejaVu Sans Mono',consolas,'Courier New',monospace\">ma ---&gt; .\n",
       "</pre>\n"
      ],
      "text/plain": [
       "ma ---> .\n"
      ]
     },
     "metadata": {},
     "output_type": "display_data"
    },
    {
     "data": {
      "text/html": [
       "<pre style=\"white-space:pre;overflow-x:auto;line-height:normal;font-family:Menlo,'DejaVu Sans Mono',consolas,'Courier New',monospace\">olivia\n",
       "</pre>\n"
      ],
      "text/plain": [
       "olivia\n"
      ]
     },
     "metadata": {},
     "output_type": "display_data"
    },
    {
     "data": {
      "text/html": [
       "<pre style=\"white-space:pre;overflow-x:auto;line-height:normal;font-family:Menlo,'DejaVu Sans Mono',consolas,'Courier New',monospace\">.. ---&gt; o\n",
       "</pre>\n"
      ],
      "text/plain": [
       ".. ---> o\n"
      ]
     },
     "metadata": {},
     "output_type": "display_data"
    },
    {
     "data": {
      "text/html": [
       "<pre style=\"white-space:pre;overflow-x:auto;line-height:normal;font-family:Menlo,'DejaVu Sans Mono',consolas,'Courier New',monospace\">.o ---&gt; l\n",
       "</pre>\n"
      ],
      "text/plain": [
       ".o ---> l\n"
      ]
     },
     "metadata": {},
     "output_type": "display_data"
    },
    {
     "data": {
      "text/html": [
       "<pre style=\"white-space:pre;overflow-x:auto;line-height:normal;font-family:Menlo,'DejaVu Sans Mono',consolas,'Courier New',monospace\">ol ---&gt; i\n",
       "</pre>\n"
      ],
      "text/plain": [
       "ol ---> i\n"
      ]
     },
     "metadata": {},
     "output_type": "display_data"
    },
    {
     "data": {
      "text/html": [
       "<pre style=\"white-space:pre;overflow-x:auto;line-height:normal;font-family:Menlo,'DejaVu Sans Mono',consolas,'Courier New',monospace\">li ---&gt; v\n",
       "</pre>\n"
      ],
      "text/plain": [
       "li ---> v\n"
      ]
     },
     "metadata": {},
     "output_type": "display_data"
    },
    {
     "data": {
      "text/html": [
       "<pre style=\"white-space:pre;overflow-x:auto;line-height:normal;font-family:Menlo,'DejaVu Sans Mono',consolas,'Courier New',monospace\">iv ---&gt; i\n",
       "</pre>\n"
      ],
      "text/plain": [
       "iv ---> i\n"
      ]
     },
     "metadata": {},
     "output_type": "display_data"
    },
    {
     "data": {
      "text/html": [
       "<pre style=\"white-space:pre;overflow-x:auto;line-height:normal;font-family:Menlo,'DejaVu Sans Mono',consolas,'Courier New',monospace\">vi ---&gt; a\n",
       "</pre>\n"
      ],
      "text/plain": [
       "vi ---> a\n"
      ]
     },
     "metadata": {},
     "output_type": "display_data"
    },
    {
     "data": {
      "text/html": [
       "<pre style=\"white-space:pre;overflow-x:auto;line-height:normal;font-family:Menlo,'DejaVu Sans Mono',consolas,'Courier New',monospace\">ia ---&gt; .\n",
       "</pre>\n"
      ],
      "text/plain": [
       "ia ---> .\n"
      ]
     },
     "metadata": {},
     "output_type": "display_data"
    }
   ],
   "source": [
    "X, Y = generate_training_set(words[:2], 2, True)"
   ]
  },
  {
   "cell_type": "markdown",
   "id": "1c5b7055",
   "metadata": {},
   "source": [
    "### Generating training set for block size of 5"
   ]
  },
  {
   "cell_type": "code",
   "execution_count": 86,
   "id": "74f238f9",
   "metadata": {},
   "outputs": [
    {
     "data": {
      "text/html": [
       "<pre style=\"white-space:pre;overflow-x:auto;line-height:normal;font-family:Menlo,'DejaVu Sans Mono',consolas,'Courier New',monospace\">emma\n",
       "</pre>\n"
      ],
      "text/plain": [
       "emma\n"
      ]
     },
     "metadata": {},
     "output_type": "display_data"
    },
    {
     "data": {
      "text/html": [
       "<pre style=\"white-space:pre;overflow-x:auto;line-height:normal;font-family:Menlo,'DejaVu Sans Mono',consolas,'Courier New',monospace\"><span style=\"color: #808000; text-decoration-color: #808000\">...</span>.. ---&gt; e\n",
       "</pre>\n"
      ],
      "text/plain": [
       "\u001b[33m...\u001b[0m.. ---> e\n"
      ]
     },
     "metadata": {},
     "output_type": "display_data"
    },
    {
     "data": {
      "text/html": [
       "<pre style=\"white-space:pre;overflow-x:auto;line-height:normal;font-family:Menlo,'DejaVu Sans Mono',consolas,'Courier New',monospace\"><span style=\"color: #808000; text-decoration-color: #808000\">...</span>.e ---&gt; m\n",
       "</pre>\n"
      ],
      "text/plain": [
       "\u001b[33m...\u001b[0m.e ---> m\n"
      ]
     },
     "metadata": {},
     "output_type": "display_data"
    },
    {
     "data": {
      "text/html": [
       "<pre style=\"white-space:pre;overflow-x:auto;line-height:normal;font-family:Menlo,'DejaVu Sans Mono',consolas,'Courier New',monospace\"><span style=\"color: #808000; text-decoration-color: #808000\">...</span>em ---&gt; m\n",
       "</pre>\n"
      ],
      "text/plain": [
       "\u001b[33m...\u001b[0mem ---> m\n"
      ]
     },
     "metadata": {},
     "output_type": "display_data"
    },
    {
     "data": {
      "text/html": [
       "<pre style=\"white-space:pre;overflow-x:auto;line-height:normal;font-family:Menlo,'DejaVu Sans Mono',consolas,'Courier New',monospace\">..emm ---&gt; a\n",
       "</pre>\n"
      ],
      "text/plain": [
       "..emm ---> a\n"
      ]
     },
     "metadata": {},
     "output_type": "display_data"
    },
    {
     "data": {
      "text/html": [
       "<pre style=\"white-space:pre;overflow-x:auto;line-height:normal;font-family:Menlo,'DejaVu Sans Mono',consolas,'Courier New',monospace\">.emma ---&gt; .\n",
       "</pre>\n"
      ],
      "text/plain": [
       ".emma ---> .\n"
      ]
     },
     "metadata": {},
     "output_type": "display_data"
    },
    {
     "data": {
      "text/html": [
       "<pre style=\"white-space:pre;overflow-x:auto;line-height:normal;font-family:Menlo,'DejaVu Sans Mono',consolas,'Courier New',monospace\">olivia\n",
       "</pre>\n"
      ],
      "text/plain": [
       "olivia\n"
      ]
     },
     "metadata": {},
     "output_type": "display_data"
    },
    {
     "data": {
      "text/html": [
       "<pre style=\"white-space:pre;overflow-x:auto;line-height:normal;font-family:Menlo,'DejaVu Sans Mono',consolas,'Courier New',monospace\"><span style=\"color: #808000; text-decoration-color: #808000\">...</span>.. ---&gt; o\n",
       "</pre>\n"
      ],
      "text/plain": [
       "\u001b[33m...\u001b[0m.. ---> o\n"
      ]
     },
     "metadata": {},
     "output_type": "display_data"
    },
    {
     "data": {
      "text/html": [
       "<pre style=\"white-space:pre;overflow-x:auto;line-height:normal;font-family:Menlo,'DejaVu Sans Mono',consolas,'Courier New',monospace\"><span style=\"color: #808000; text-decoration-color: #808000\">...</span>.o ---&gt; l\n",
       "</pre>\n"
      ],
      "text/plain": [
       "\u001b[33m...\u001b[0m.o ---> l\n"
      ]
     },
     "metadata": {},
     "output_type": "display_data"
    },
    {
     "data": {
      "text/html": [
       "<pre style=\"white-space:pre;overflow-x:auto;line-height:normal;font-family:Menlo,'DejaVu Sans Mono',consolas,'Courier New',monospace\"><span style=\"color: #808000; text-decoration-color: #808000\">...</span>ol ---&gt; i\n",
       "</pre>\n"
      ],
      "text/plain": [
       "\u001b[33m...\u001b[0mol ---> i\n"
      ]
     },
     "metadata": {},
     "output_type": "display_data"
    },
    {
     "data": {
      "text/html": [
       "<pre style=\"white-space:pre;overflow-x:auto;line-height:normal;font-family:Menlo,'DejaVu Sans Mono',consolas,'Courier New',monospace\">..oli ---&gt; v\n",
       "</pre>\n"
      ],
      "text/plain": [
       "..oli ---> v\n"
      ]
     },
     "metadata": {},
     "output_type": "display_data"
    },
    {
     "data": {
      "text/html": [
       "<pre style=\"white-space:pre;overflow-x:auto;line-height:normal;font-family:Menlo,'DejaVu Sans Mono',consolas,'Courier New',monospace\">.oliv ---&gt; i\n",
       "</pre>\n"
      ],
      "text/plain": [
       ".oliv ---> i\n"
      ]
     },
     "metadata": {},
     "output_type": "display_data"
    },
    {
     "data": {
      "text/html": [
       "<pre style=\"white-space:pre;overflow-x:auto;line-height:normal;font-family:Menlo,'DejaVu Sans Mono',consolas,'Courier New',monospace\">olivi ---&gt; a\n",
       "</pre>\n"
      ],
      "text/plain": [
       "olivi ---> a\n"
      ]
     },
     "metadata": {},
     "output_type": "display_data"
    },
    {
     "data": {
      "text/html": [
       "<pre style=\"white-space:pre;overflow-x:auto;line-height:normal;font-family:Menlo,'DejaVu Sans Mono',consolas,'Courier New',monospace\">livia ---&gt; .\n",
       "</pre>\n"
      ],
      "text/plain": [
       "livia ---> .\n"
      ]
     },
     "metadata": {},
     "output_type": "display_data"
    }
   ],
   "source": [
    "X, Y = generate_training_set(words[:2], 5, True)"
   ]
  },
  {
   "cell_type": "markdown",
   "id": "57e2ac4c",
   "metadata": {},
   "source": [
    "### Generate training set for block size of 3 \n",
    "> as mentioned in the above paper"
   ]
  },
  {
   "cell_type": "code",
   "execution_count": 87,
   "id": "ef2e2da4",
   "metadata": {},
   "outputs": [],
   "source": [
    "X, Y = generate_training_set(words[:2], 3)"
   ]
  },
  {
   "cell_type": "code",
   "execution_count": 88,
   "id": "be2c0b44",
   "metadata": {},
   "outputs": [
    {
     "data": {
      "text/html": [
       "<pre style=\"white-space:pre;overflow-x:auto;line-height:normal;font-family:Menlo,'DejaVu Sans Mono',consolas,'Courier New',monospace\"><span style=\"font-weight: bold\">(</span><span style=\"color: #800080; text-decoration-color: #800080; font-weight: bold\">torch.Size</span><span style=\"font-weight: bold\">([</span><span style=\"color: #008080; text-decoration-color: #008080; font-weight: bold\">12</span>, <span style=\"color: #008080; text-decoration-color: #008080; font-weight: bold\">3</span><span style=\"font-weight: bold\">])</span>, torch.int64, <span style=\"color: #800080; text-decoration-color: #800080; font-weight: bold\">torch.Size</span><span style=\"font-weight: bold\">([</span><span style=\"color: #008080; text-decoration-color: #008080; font-weight: bold\">12</span><span style=\"font-weight: bold\">])</span>, torch.int64<span style=\"font-weight: bold\">)</span>\n",
       "</pre>\n"
      ],
      "text/plain": [
       "\u001b[1m(\u001b[0m\u001b[1;35mtorch.Size\u001b[0m\u001b[1m(\u001b[0m\u001b[1m[\u001b[0m\u001b[1;36m12\u001b[0m, \u001b[1;36m3\u001b[0m\u001b[1m]\u001b[0m\u001b[1m)\u001b[0m, torch.int64, \u001b[1;35mtorch.Size\u001b[0m\u001b[1m(\u001b[0m\u001b[1m[\u001b[0m\u001b[1;36m12\u001b[0m\u001b[1m]\u001b[0m\u001b[1m)\u001b[0m, torch.int64\u001b[1m)\u001b[0m\n"
      ]
     },
     "metadata": {},
     "output_type": "display_data"
    }
   ],
   "source": [
    "X.shape, X.dtype, Y.shape, Y.dtype"
   ]
  },
  {
   "cell_type": "markdown",
   "id": "3525d582",
   "metadata": {},
   "source": [
    "## Embedding Lookup Table"
   ]
  },
  {
   "cell_type": "code",
   "execution_count": 89,
   "id": "bfd815a3",
   "metadata": {},
   "outputs": [],
   "source": [
    "C = torch.randn((27, 2))"
   ]
  },
  {
   "cell_type": "code",
   "execution_count": 90,
   "id": "f2bba1ba",
   "metadata": {},
   "outputs": [
    {
     "data": {
      "text/html": [
       "<pre style=\"white-space:pre;overflow-x:auto;line-height:normal;font-family:Menlo,'DejaVu Sans Mono',consolas,'Courier New',monospace\">torch.float32\n",
       "</pre>\n"
      ],
      "text/plain": [
       "torch.float32\n"
      ]
     },
     "metadata": {},
     "output_type": "display_data"
    }
   ],
   "source": [
    "C.dtype"
   ]
  },
  {
   "cell_type": "code",
   "execution_count": 91,
   "id": "1943f67f",
   "metadata": {},
   "outputs": [
    {
     "data": {
      "text/html": [
       "<pre style=\"white-space:pre;overflow-x:auto;line-height:normal;font-family:Menlo,'DejaVu Sans Mono',consolas,'Courier New',monospace\">\n",
       "<span style=\"color: #800080; text-decoration-color: #800080; font-weight: bold\">tensor</span><span style=\"font-weight: bold\">([[</span><span style=\"color: #008080; text-decoration-color: #008080; font-weight: bold\">-1.7749</span>,  <span style=\"color: #008080; text-decoration-color: #008080; font-weight: bold\">0.4311</span><span style=\"font-weight: bold\">]</span>,\n",
       "        <span style=\"font-weight: bold\">[</span> <span style=\"color: #008080; text-decoration-color: #008080; font-weight: bold\">1.0820</span>, <span style=\"color: #008080; text-decoration-color: #008080; font-weight: bold\">-0.9515</span><span style=\"font-weight: bold\">]</span>,\n",
       "        <span style=\"font-weight: bold\">[</span> <span style=\"color: #008080; text-decoration-color: #008080; font-weight: bold\">0.0319</span>,  <span style=\"color: #008080; text-decoration-color: #008080; font-weight: bold\">0.1056</span><span style=\"font-weight: bold\">]</span>,\n",
       "        <span style=\"font-weight: bold\">[</span> <span style=\"color: #008080; text-decoration-color: #008080; font-weight: bold\">0.7130</span>, <span style=\"color: #008080; text-decoration-color: #008080; font-weight: bold\">-0.1777</span><span style=\"font-weight: bold\">]</span>,\n",
       "        <span style=\"font-weight: bold\">[</span><span style=\"color: #008080; text-decoration-color: #008080; font-weight: bold\">-0.9202</span>,  <span style=\"color: #008080; text-decoration-color: #008080; font-weight: bold\">0.8703</span><span style=\"font-weight: bold\">]</span>,\n",
       "        <span style=\"font-weight: bold\">[</span> <span style=\"color: #008080; text-decoration-color: #008080; font-weight: bold\">1.8403</span>, <span style=\"color: #008080; text-decoration-color: #008080; font-weight: bold\">-0.2517</span><span style=\"font-weight: bold\">]</span>,\n",
       "        <span style=\"font-weight: bold\">[</span> <span style=\"color: #008080; text-decoration-color: #008080; font-weight: bold\">1.9564</span>,  <span style=\"color: #008080; text-decoration-color: #008080; font-weight: bold\">0.0913</span><span style=\"font-weight: bold\">]</span>,\n",
       "        <span style=\"font-weight: bold\">[</span><span style=\"color: #008080; text-decoration-color: #008080; font-weight: bold\">-1.5335</span>,  <span style=\"color: #008080; text-decoration-color: #008080; font-weight: bold\">2.2349</span><span style=\"font-weight: bold\">]</span>,\n",
       "        <span style=\"font-weight: bold\">[</span><span style=\"color: #008080; text-decoration-color: #008080; font-weight: bold\">-0.2757</span>, <span style=\"color: #008080; text-decoration-color: #008080; font-weight: bold\">-0.4090</span><span style=\"font-weight: bold\">]</span>,\n",
       "        <span style=\"font-weight: bold\">[</span><span style=\"color: #008080; text-decoration-color: #008080; font-weight: bold\">-0.2682</span>, <span style=\"color: #008080; text-decoration-color: #008080; font-weight: bold\">-0.7152</span><span style=\"font-weight: bold\">]</span>,\n",
       "        <span style=\"font-weight: bold\">[</span><span style=\"color: #008080; text-decoration-color: #008080; font-weight: bold\">-0.6230</span>,  <span style=\"color: #008080; text-decoration-color: #008080; font-weight: bold\">0.1392</span><span style=\"font-weight: bold\">]</span>,\n",
       "        <span style=\"font-weight: bold\">[</span><span style=\"color: #008080; text-decoration-color: #008080; font-weight: bold\">-0.5747</span>, <span style=\"color: #008080; text-decoration-color: #008080; font-weight: bold\">-1.1926</span><span style=\"font-weight: bold\">]</span>,\n",
       "        <span style=\"font-weight: bold\">[</span> <span style=\"color: #008080; text-decoration-color: #008080; font-weight: bold\">1.3426</span>, <span style=\"color: #008080; text-decoration-color: #008080; font-weight: bold\">-0.2226</span><span style=\"font-weight: bold\">]</span>,\n",
       "        <span style=\"font-weight: bold\">[</span><span style=\"color: #008080; text-decoration-color: #008080; font-weight: bold\">-1.0854</span>, <span style=\"color: #008080; text-decoration-color: #008080; font-weight: bold\">-0.0892</span><span style=\"font-weight: bold\">]</span>,\n",
       "        <span style=\"font-weight: bold\">[</span><span style=\"color: #008080; text-decoration-color: #008080; font-weight: bold\">-0.9341</span>, <span style=\"color: #008080; text-decoration-color: #008080; font-weight: bold\">-0.7644</span><span style=\"font-weight: bold\">]</span>,\n",
       "        <span style=\"font-weight: bold\">[</span> <span style=\"color: #008080; text-decoration-color: #008080; font-weight: bold\">2.3032</span>, <span style=\"color: #008080; text-decoration-color: #008080; font-weight: bold\">-0.5847</span><span style=\"font-weight: bold\">]</span>,\n",
       "        <span style=\"font-weight: bold\">[</span><span style=\"color: #008080; text-decoration-color: #008080; font-weight: bold\">-0.8420</span>, <span style=\"color: #008080; text-decoration-color: #008080; font-weight: bold\">-1.0431</span><span style=\"font-weight: bold\">]</span>,\n",
       "        <span style=\"font-weight: bold\">[</span><span style=\"color: #008080; text-decoration-color: #008080; font-weight: bold\">-0.6343</span>, <span style=\"color: #008080; text-decoration-color: #008080; font-weight: bold\">-0.9925</span><span style=\"font-weight: bold\">]</span>,\n",
       "        <span style=\"font-weight: bold\">[</span><span style=\"color: #008080; text-decoration-color: #008080; font-weight: bold\">-0.8765</span>, <span style=\"color: #008080; text-decoration-color: #008080; font-weight: bold\">-0.5907</span><span style=\"font-weight: bold\">]</span>,\n",
       "        <span style=\"font-weight: bold\">[</span> <span style=\"color: #008080; text-decoration-color: #008080; font-weight: bold\">0.4062</span>,  <span style=\"color: #008080; text-decoration-color: #008080; font-weight: bold\">1.9024</span><span style=\"font-weight: bold\">]</span>,\n",
       "        <span style=\"font-weight: bold\">[</span> <span style=\"color: #008080; text-decoration-color: #008080; font-weight: bold\">0.3679</span>,  <span style=\"color: #008080; text-decoration-color: #008080; font-weight: bold\">0.7414</span><span style=\"font-weight: bold\">]</span>,\n",
       "        <span style=\"font-weight: bold\">[</span><span style=\"color: #008080; text-decoration-color: #008080; font-weight: bold\">-0.4929</span>,  <span style=\"color: #008080; text-decoration-color: #008080; font-weight: bold\">1.2513</span><span style=\"font-weight: bold\">]</span>,\n",
       "        <span style=\"font-weight: bold\">[</span> <span style=\"color: #008080; text-decoration-color: #008080; font-weight: bold\">0.8837</span>,  <span style=\"color: #008080; text-decoration-color: #008080; font-weight: bold\">0.7330</span><span style=\"font-weight: bold\">]</span>,\n",
       "        <span style=\"font-weight: bold\">[</span><span style=\"color: #008080; text-decoration-color: #008080; font-weight: bold\">-0.8532</span>,  <span style=\"color: #008080; text-decoration-color: #008080; font-weight: bold\">0.9143</span><span style=\"font-weight: bold\">]</span>,\n",
       "        <span style=\"font-weight: bold\">[</span> <span style=\"color: #008080; text-decoration-color: #008080; font-weight: bold\">0.9330</span>, <span style=\"color: #008080; text-decoration-color: #008080; font-weight: bold\">-2.8293</span><span style=\"font-weight: bold\">]</span>,\n",
       "        <span style=\"font-weight: bold\">[</span><span style=\"color: #008080; text-decoration-color: #008080; font-weight: bold\">-0.6336</span>,  <span style=\"color: #008080; text-decoration-color: #008080; font-weight: bold\">0.0916</span><span style=\"font-weight: bold\">]</span>,\n",
       "        <span style=\"font-weight: bold\">[</span><span style=\"color: #008080; text-decoration-color: #008080; font-weight: bold\">-0.8129</span>,  <span style=\"color: #008080; text-decoration-color: #008080; font-weight: bold\">0.1851</span><span style=\"font-weight: bold\">]])</span>\n",
       "</pre>\n"
      ],
      "text/plain": [
       "\n",
       "\u001b[1;35mtensor\u001b[0m\u001b[1m(\u001b[0m\u001b[1m[\u001b[0m\u001b[1m[\u001b[0m\u001b[1;36m-1.7749\u001b[0m,  \u001b[1;36m0.4311\u001b[0m\u001b[1m]\u001b[0m,\n",
       "        \u001b[1m[\u001b[0m \u001b[1;36m1.0820\u001b[0m, \u001b[1;36m-0.9515\u001b[0m\u001b[1m]\u001b[0m,\n",
       "        \u001b[1m[\u001b[0m \u001b[1;36m0.0319\u001b[0m,  \u001b[1;36m0.1056\u001b[0m\u001b[1m]\u001b[0m,\n",
       "        \u001b[1m[\u001b[0m \u001b[1;36m0.7130\u001b[0m, \u001b[1;36m-0.1777\u001b[0m\u001b[1m]\u001b[0m,\n",
       "        \u001b[1m[\u001b[0m\u001b[1;36m-0.9202\u001b[0m,  \u001b[1;36m0.8703\u001b[0m\u001b[1m]\u001b[0m,\n",
       "        \u001b[1m[\u001b[0m \u001b[1;36m1.8403\u001b[0m, \u001b[1;36m-0.2517\u001b[0m\u001b[1m]\u001b[0m,\n",
       "        \u001b[1m[\u001b[0m \u001b[1;36m1.9564\u001b[0m,  \u001b[1;36m0.0913\u001b[0m\u001b[1m]\u001b[0m,\n",
       "        \u001b[1m[\u001b[0m\u001b[1;36m-1.5335\u001b[0m,  \u001b[1;36m2.2349\u001b[0m\u001b[1m]\u001b[0m,\n",
       "        \u001b[1m[\u001b[0m\u001b[1;36m-0.2757\u001b[0m, \u001b[1;36m-0.4090\u001b[0m\u001b[1m]\u001b[0m,\n",
       "        \u001b[1m[\u001b[0m\u001b[1;36m-0.2682\u001b[0m, \u001b[1;36m-0.7152\u001b[0m\u001b[1m]\u001b[0m,\n",
       "        \u001b[1m[\u001b[0m\u001b[1;36m-0.6230\u001b[0m,  \u001b[1;36m0.1392\u001b[0m\u001b[1m]\u001b[0m,\n",
       "        \u001b[1m[\u001b[0m\u001b[1;36m-0.5747\u001b[0m, \u001b[1;36m-1.1926\u001b[0m\u001b[1m]\u001b[0m,\n",
       "        \u001b[1m[\u001b[0m \u001b[1;36m1.3426\u001b[0m, \u001b[1;36m-0.2226\u001b[0m\u001b[1m]\u001b[0m,\n",
       "        \u001b[1m[\u001b[0m\u001b[1;36m-1.0854\u001b[0m, \u001b[1;36m-0.0892\u001b[0m\u001b[1m]\u001b[0m,\n",
       "        \u001b[1m[\u001b[0m\u001b[1;36m-0.9341\u001b[0m, \u001b[1;36m-0.7644\u001b[0m\u001b[1m]\u001b[0m,\n",
       "        \u001b[1m[\u001b[0m \u001b[1;36m2.3032\u001b[0m, \u001b[1;36m-0.5847\u001b[0m\u001b[1m]\u001b[0m,\n",
       "        \u001b[1m[\u001b[0m\u001b[1;36m-0.8420\u001b[0m, \u001b[1;36m-1.0431\u001b[0m\u001b[1m]\u001b[0m,\n",
       "        \u001b[1m[\u001b[0m\u001b[1;36m-0.6343\u001b[0m, \u001b[1;36m-0.9925\u001b[0m\u001b[1m]\u001b[0m,\n",
       "        \u001b[1m[\u001b[0m\u001b[1;36m-0.8765\u001b[0m, \u001b[1;36m-0.5907\u001b[0m\u001b[1m]\u001b[0m,\n",
       "        \u001b[1m[\u001b[0m \u001b[1;36m0.4062\u001b[0m,  \u001b[1;36m1.9024\u001b[0m\u001b[1m]\u001b[0m,\n",
       "        \u001b[1m[\u001b[0m \u001b[1;36m0.3679\u001b[0m,  \u001b[1;36m0.7414\u001b[0m\u001b[1m]\u001b[0m,\n",
       "        \u001b[1m[\u001b[0m\u001b[1;36m-0.4929\u001b[0m,  \u001b[1;36m1.2513\u001b[0m\u001b[1m]\u001b[0m,\n",
       "        \u001b[1m[\u001b[0m \u001b[1;36m0.8837\u001b[0m,  \u001b[1;36m0.7330\u001b[0m\u001b[1m]\u001b[0m,\n",
       "        \u001b[1m[\u001b[0m\u001b[1;36m-0.8532\u001b[0m,  \u001b[1;36m0.9143\u001b[0m\u001b[1m]\u001b[0m,\n",
       "        \u001b[1m[\u001b[0m \u001b[1;36m0.9330\u001b[0m, \u001b[1;36m-2.8293\u001b[0m\u001b[1m]\u001b[0m,\n",
       "        \u001b[1m[\u001b[0m\u001b[1;36m-0.6336\u001b[0m,  \u001b[1;36m0.0916\u001b[0m\u001b[1m]\u001b[0m,\n",
       "        \u001b[1m[\u001b[0m\u001b[1;36m-0.8129\u001b[0m,  \u001b[1;36m0.1851\u001b[0m\u001b[1m]\u001b[0m\u001b[1m]\u001b[0m\u001b[1m)\u001b[0m\n"
      ]
     },
     "metadata": {},
     "output_type": "display_data"
    }
   ],
   "source": [
    "C"
   ]
  },
  {
   "cell_type": "markdown",
   "id": "d2f24be5",
   "metadata": {},
   "source": [
    "### Indexing into the embedding"
   ]
  },
  {
   "cell_type": "markdown",
   "id": "f9b7273f",
   "metadata": {},
   "source": [
    "#### 1. Index with a number"
   ]
  },
  {
   "cell_type": "code",
   "execution_count": 92,
   "id": "76cede57",
   "metadata": {},
   "outputs": [
    {
     "data": {
      "text/html": [
       "<pre style=\"white-space:pre;overflow-x:auto;line-height:normal;font-family:Menlo,'DejaVu Sans Mono',consolas,'Courier New',monospace\"><span style=\"color: #800080; text-decoration-color: #800080; font-weight: bold\">tensor</span><span style=\"font-weight: bold\">([</span> <span style=\"color: #008080; text-decoration-color: #008080; font-weight: bold\">1.8403</span>, <span style=\"color: #008080; text-decoration-color: #008080; font-weight: bold\">-0.2517</span><span style=\"font-weight: bold\">])</span>\n",
       "</pre>\n"
      ],
      "text/plain": [
       "\u001b[1;35mtensor\u001b[0m\u001b[1m(\u001b[0m\u001b[1m[\u001b[0m \u001b[1;36m1.8403\u001b[0m, \u001b[1;36m-0.2517\u001b[0m\u001b[1m]\u001b[0m\u001b[1m)\u001b[0m\n"
      ]
     },
     "metadata": {},
     "output_type": "display_data"
    }
   ],
   "source": [
    "C[5]"
   ]
  },
  {
   "cell_type": "markdown",
   "id": "d63c51e7",
   "metadata": {},
   "source": [
    "#### 2. Multiplying with one-hot encoding"
   ]
  },
  {
   "cell_type": "code",
   "execution_count": 93,
   "id": "ab655d5f",
   "metadata": {},
   "outputs": [],
   "source": [
    "one_hot_vec = F.one_hot(torch.tensor(5), num_classes=27).float()"
   ]
  },
  {
   "cell_type": "markdown",
   "id": "0455ef5f",
   "metadata": {},
   "source": [
    "Converted the above one into float so that it can be multiplied with `C`, which is a float"
   ]
  },
  {
   "cell_type": "code",
   "execution_count": 94,
   "id": "9b0cd7cd",
   "metadata": {},
   "outputs": [
    {
     "data": {
      "text/html": [
       "<pre style=\"white-space:pre;overflow-x:auto;line-height:normal;font-family:Menlo,'DejaVu Sans Mono',consolas,'Courier New',monospace\"><span style=\"color: #800080; text-decoration-color: #800080; font-weight: bold\">torch.Size</span><span style=\"font-weight: bold\">([</span><span style=\"color: #008080; text-decoration-color: #008080; font-weight: bold\">27</span><span style=\"font-weight: bold\">])</span>\n",
       "</pre>\n"
      ],
      "text/plain": [
       "\u001b[1;35mtorch.Size\u001b[0m\u001b[1m(\u001b[0m\u001b[1m[\u001b[0m\u001b[1;36m27\u001b[0m\u001b[1m]\u001b[0m\u001b[1m)\u001b[0m\n"
      ]
     },
     "metadata": {},
     "output_type": "display_data"
    }
   ],
   "source": [
    "one_hot_vec.shape"
   ]
  },
  {
   "cell_type": "code",
   "execution_count": 95,
   "id": "ccf9529a",
   "metadata": {},
   "outputs": [
    {
     "data": {
      "text/html": [
       "<pre style=\"white-space:pre;overflow-x:auto;line-height:normal;font-family:Menlo,'DejaVu Sans Mono',consolas,'Courier New',monospace\"><span style=\"color: #800080; text-decoration-color: #800080; font-weight: bold\">tensor</span><span style=\"font-weight: bold\">([</span> <span style=\"color: #008080; text-decoration-color: #008080; font-weight: bold\">1.8403</span>, <span style=\"color: #008080; text-decoration-color: #008080; font-weight: bold\">-0.2517</span><span style=\"font-weight: bold\">])</span>\n",
       "</pre>\n"
      ],
      "text/plain": [
       "\u001b[1;35mtensor\u001b[0m\u001b[1m(\u001b[0m\u001b[1m[\u001b[0m \u001b[1;36m1.8403\u001b[0m, \u001b[1;36m-0.2517\u001b[0m\u001b[1m]\u001b[0m\u001b[1m)\u001b[0m\n"
      ]
     },
     "metadata": {},
     "output_type": "display_data"
    }
   ],
   "source": [
    "one_hot_vec @ C"
   ]
  },
  {
   "cell_type": "markdown",
   "id": "e549a0b3",
   "metadata": {},
   "source": [
    "As we can see the result is same as indexing with a number"
   ]
  },
  {
   "cell_type": "code",
   "execution_count": 96,
   "id": "0b6ee6b2",
   "metadata": {},
   "outputs": [
    {
     "data": {
      "text/html": [
       "<pre style=\"white-space:pre;overflow-x:auto;line-height:normal;font-family:Menlo,'DejaVu Sans Mono',consolas,'Courier New',monospace\"><span style=\"color: #00ff00; text-decoration-color: #00ff00; font-style: italic\">True</span>\n",
       "</pre>\n"
      ],
      "text/plain": [
       "\u001b[3;92mTrue\u001b[0m\n"
      ]
     },
     "metadata": {},
     "output_type": "display_data"
    }
   ],
   "source": [
    "torch.equal(one_hot_vec @ C, C[5])"
   ]
  },
  {
   "cell_type": "markdown",
   "id": "f5e59aca",
   "metadata": {},
   "source": [
    "##### Lets explore indexing "
   ]
  },
  {
   "cell_type": "code",
   "execution_count": 97,
   "id": "0b8ab458",
   "metadata": {},
   "outputs": [
    {
     "data": {
      "text/html": [
       "<pre style=\"white-space:pre;overflow-x:auto;line-height:normal;font-family:Menlo,'DejaVu Sans Mono',consolas,'Courier New',monospace\">\n",
       "<span style=\"color: #800080; text-decoration-color: #800080; font-weight: bold\">tensor</span><span style=\"font-weight: bold\">([[</span> <span style=\"color: #008080; text-decoration-color: #008080; font-weight: bold\">1.8403</span>, <span style=\"color: #008080; text-decoration-color: #008080; font-weight: bold\">-0.2517</span><span style=\"font-weight: bold\">]</span>,\n",
       "        <span style=\"font-weight: bold\">[</span> <span style=\"color: #008080; text-decoration-color: #008080; font-weight: bold\">1.9564</span>,  <span style=\"color: #008080; text-decoration-color: #008080; font-weight: bold\">0.0913</span><span style=\"font-weight: bold\">]</span>,\n",
       "        <span style=\"font-weight: bold\">[</span><span style=\"color: #008080; text-decoration-color: #008080; font-weight: bold\">-1.5335</span>,  <span style=\"color: #008080; text-decoration-color: #008080; font-weight: bold\">2.2349</span><span style=\"font-weight: bold\">]</span>,\n",
       "        <span style=\"font-weight: bold\">[</span><span style=\"color: #008080; text-decoration-color: #008080; font-weight: bold\">-1.5335</span>,  <span style=\"color: #008080; text-decoration-color: #008080; font-weight: bold\">2.2349</span><span style=\"font-weight: bold\">]</span>,\n",
       "        <span style=\"font-weight: bold\">[</span><span style=\"color: #008080; text-decoration-color: #008080; font-weight: bold\">-1.5335</span>,  <span style=\"color: #008080; text-decoration-color: #008080; font-weight: bold\">2.2349</span><span style=\"font-weight: bold\">]</span>,\n",
       "        <span style=\"font-weight: bold\">[</span><span style=\"color: #008080; text-decoration-color: #008080; font-weight: bold\">-1.5335</span>,  <span style=\"color: #008080; text-decoration-color: #008080; font-weight: bold\">2.2349</span><span style=\"font-weight: bold\">]</span>,\n",
       "        <span style=\"font-weight: bold\">[</span><span style=\"color: #008080; text-decoration-color: #008080; font-weight: bold\">-1.5335</span>,  <span style=\"color: #008080; text-decoration-color: #008080; font-weight: bold\">2.2349</span><span style=\"font-weight: bold\">]])</span>\n",
       "</pre>\n"
      ],
      "text/plain": [
       "\n",
       "\u001b[1;35mtensor\u001b[0m\u001b[1m(\u001b[0m\u001b[1m[\u001b[0m\u001b[1m[\u001b[0m \u001b[1;36m1.8403\u001b[0m, \u001b[1;36m-0.2517\u001b[0m\u001b[1m]\u001b[0m,\n",
       "        \u001b[1m[\u001b[0m \u001b[1;36m1.9564\u001b[0m,  \u001b[1;36m0.0913\u001b[0m\u001b[1m]\u001b[0m,\n",
       "        \u001b[1m[\u001b[0m\u001b[1;36m-1.5335\u001b[0m,  \u001b[1;36m2.2349\u001b[0m\u001b[1m]\u001b[0m,\n",
       "        \u001b[1m[\u001b[0m\u001b[1;36m-1.5335\u001b[0m,  \u001b[1;36m2.2349\u001b[0m\u001b[1m]\u001b[0m,\n",
       "        \u001b[1m[\u001b[0m\u001b[1;36m-1.5335\u001b[0m,  \u001b[1;36m2.2349\u001b[0m\u001b[1m]\u001b[0m,\n",
       "        \u001b[1m[\u001b[0m\u001b[1;36m-1.5335\u001b[0m,  \u001b[1;36m2.2349\u001b[0m\u001b[1m]\u001b[0m,\n",
       "        \u001b[1m[\u001b[0m\u001b[1;36m-1.5335\u001b[0m,  \u001b[1;36m2.2349\u001b[0m\u001b[1m]\u001b[0m\u001b[1m]\u001b[0m\u001b[1m)\u001b[0m\n"
      ]
     },
     "metadata": {},
     "output_type": "display_data"
    }
   ],
   "source": [
    "C[torch.tensor([5, 6, 7, 7, 7, 7, 7])]"
   ]
  },
  {
   "cell_type": "code",
   "execution_count": 98,
   "id": "18ca4c60",
   "metadata": {},
   "outputs": [
    {
     "data": {
      "text/html": [
       "<pre style=\"white-space:pre;overflow-x:auto;line-height:normal;font-family:Menlo,'DejaVu Sans Mono',consolas,'Courier New',monospace\">\n",
       "<span style=\"color: #800080; text-decoration-color: #800080; font-weight: bold\">tensor</span><span style=\"font-weight: bold\">([[[</span><span style=\"color: #008080; text-decoration-color: #008080; font-weight: bold\">-1.7749</span>,  <span style=\"color: #008080; text-decoration-color: #008080; font-weight: bold\">0.4311</span><span style=\"font-weight: bold\">]</span>,\n",
       "         <span style=\"font-weight: bold\">[</span><span style=\"color: #008080; text-decoration-color: #008080; font-weight: bold\">-1.7749</span>,  <span style=\"color: #008080; text-decoration-color: #008080; font-weight: bold\">0.4311</span><span style=\"font-weight: bold\">]</span>,\n",
       "         <span style=\"font-weight: bold\">[</span><span style=\"color: #008080; text-decoration-color: #008080; font-weight: bold\">-1.7749</span>,  <span style=\"color: #008080; text-decoration-color: #008080; font-weight: bold\">0.4311</span><span style=\"font-weight: bold\">]]</span>,\n",
       "\n",
       "        <span style=\"font-weight: bold\">[[</span><span style=\"color: #008080; text-decoration-color: #008080; font-weight: bold\">-1.7749</span>,  <span style=\"color: #008080; text-decoration-color: #008080; font-weight: bold\">0.4311</span><span style=\"font-weight: bold\">]</span>,\n",
       "         <span style=\"font-weight: bold\">[</span><span style=\"color: #008080; text-decoration-color: #008080; font-weight: bold\">-1.7749</span>,  <span style=\"color: #008080; text-decoration-color: #008080; font-weight: bold\">0.4311</span><span style=\"font-weight: bold\">]</span>,\n",
       "         <span style=\"font-weight: bold\">[</span> <span style=\"color: #008080; text-decoration-color: #008080; font-weight: bold\">1.8403</span>, <span style=\"color: #008080; text-decoration-color: #008080; font-weight: bold\">-0.2517</span><span style=\"font-weight: bold\">]]</span>,\n",
       "\n",
       "        <span style=\"font-weight: bold\">[[</span><span style=\"color: #008080; text-decoration-color: #008080; font-weight: bold\">-1.7749</span>,  <span style=\"color: #008080; text-decoration-color: #008080; font-weight: bold\">0.4311</span><span style=\"font-weight: bold\">]</span>,\n",
       "         <span style=\"font-weight: bold\">[</span> <span style=\"color: #008080; text-decoration-color: #008080; font-weight: bold\">1.8403</span>, <span style=\"color: #008080; text-decoration-color: #008080; font-weight: bold\">-0.2517</span><span style=\"font-weight: bold\">]</span>,\n",
       "         <span style=\"font-weight: bold\">[</span><span style=\"color: #008080; text-decoration-color: #008080; font-weight: bold\">-1.0854</span>, <span style=\"color: #008080; text-decoration-color: #008080; font-weight: bold\">-0.0892</span><span style=\"font-weight: bold\">]]</span>,\n",
       "\n",
       "        <span style=\"font-weight: bold\">[[</span> <span style=\"color: #008080; text-decoration-color: #008080; font-weight: bold\">1.8403</span>, <span style=\"color: #008080; text-decoration-color: #008080; font-weight: bold\">-0.2517</span><span style=\"font-weight: bold\">]</span>,\n",
       "         <span style=\"font-weight: bold\">[</span><span style=\"color: #008080; text-decoration-color: #008080; font-weight: bold\">-1.0854</span>, <span style=\"color: #008080; text-decoration-color: #008080; font-weight: bold\">-0.0892</span><span style=\"font-weight: bold\">]</span>,\n",
       "         <span style=\"font-weight: bold\">[</span><span style=\"color: #008080; text-decoration-color: #008080; font-weight: bold\">-1.0854</span>, <span style=\"color: #008080; text-decoration-color: #008080; font-weight: bold\">-0.0892</span><span style=\"font-weight: bold\">]]</span>,\n",
       "\n",
       "        <span style=\"font-weight: bold\">[[</span><span style=\"color: #008080; text-decoration-color: #008080; font-weight: bold\">-1.0854</span>, <span style=\"color: #008080; text-decoration-color: #008080; font-weight: bold\">-0.0892</span><span style=\"font-weight: bold\">]</span>,\n",
       "         <span style=\"font-weight: bold\">[</span><span style=\"color: #008080; text-decoration-color: #008080; font-weight: bold\">-1.0854</span>, <span style=\"color: #008080; text-decoration-color: #008080; font-weight: bold\">-0.0892</span><span style=\"font-weight: bold\">]</span>,\n",
       "         <span style=\"font-weight: bold\">[</span> <span style=\"color: #008080; text-decoration-color: #008080; font-weight: bold\">1.0820</span>, <span style=\"color: #008080; text-decoration-color: #008080; font-weight: bold\">-0.9515</span><span style=\"font-weight: bold\">]]</span>,\n",
       "\n",
       "        <span style=\"font-weight: bold\">[[</span><span style=\"color: #008080; text-decoration-color: #008080; font-weight: bold\">-1.7749</span>,  <span style=\"color: #008080; text-decoration-color: #008080; font-weight: bold\">0.4311</span><span style=\"font-weight: bold\">]</span>,\n",
       "         <span style=\"font-weight: bold\">[</span><span style=\"color: #008080; text-decoration-color: #008080; font-weight: bold\">-1.7749</span>,  <span style=\"color: #008080; text-decoration-color: #008080; font-weight: bold\">0.4311</span><span style=\"font-weight: bold\">]</span>,\n",
       "         <span style=\"font-weight: bold\">[</span><span style=\"color: #008080; text-decoration-color: #008080; font-weight: bold\">-1.7749</span>,  <span style=\"color: #008080; text-decoration-color: #008080; font-weight: bold\">0.4311</span><span style=\"font-weight: bold\">]]</span>,\n",
       "\n",
       "        <span style=\"font-weight: bold\">[[</span><span style=\"color: #008080; text-decoration-color: #008080; font-weight: bold\">-1.7749</span>,  <span style=\"color: #008080; text-decoration-color: #008080; font-weight: bold\">0.4311</span><span style=\"font-weight: bold\">]</span>,\n",
       "         <span style=\"font-weight: bold\">[</span><span style=\"color: #008080; text-decoration-color: #008080; font-weight: bold\">-1.7749</span>,  <span style=\"color: #008080; text-decoration-color: #008080; font-weight: bold\">0.4311</span><span style=\"font-weight: bold\">]</span>,\n",
       "         <span style=\"font-weight: bold\">[</span> <span style=\"color: #008080; text-decoration-color: #008080; font-weight: bold\">2.3032</span>, <span style=\"color: #008080; text-decoration-color: #008080; font-weight: bold\">-0.5847</span><span style=\"font-weight: bold\">]]</span>,\n",
       "\n",
       "        <span style=\"font-weight: bold\">[[</span><span style=\"color: #008080; text-decoration-color: #008080; font-weight: bold\">-1.7749</span>,  <span style=\"color: #008080; text-decoration-color: #008080; font-weight: bold\">0.4311</span><span style=\"font-weight: bold\">]</span>,\n",
       "         <span style=\"font-weight: bold\">[</span> <span style=\"color: #008080; text-decoration-color: #008080; font-weight: bold\">2.3032</span>, <span style=\"color: #008080; text-decoration-color: #008080; font-weight: bold\">-0.5847</span><span style=\"font-weight: bold\">]</span>,\n",
       "         <span style=\"font-weight: bold\">[</span> <span style=\"color: #008080; text-decoration-color: #008080; font-weight: bold\">1.3426</span>, <span style=\"color: #008080; text-decoration-color: #008080; font-weight: bold\">-0.2226</span><span style=\"font-weight: bold\">]]</span>,\n",
       "\n",
       "        <span style=\"font-weight: bold\">[[</span> <span style=\"color: #008080; text-decoration-color: #008080; font-weight: bold\">2.3032</span>, <span style=\"color: #008080; text-decoration-color: #008080; font-weight: bold\">-0.5847</span><span style=\"font-weight: bold\">]</span>,\n",
       "         <span style=\"font-weight: bold\">[</span> <span style=\"color: #008080; text-decoration-color: #008080; font-weight: bold\">1.3426</span>, <span style=\"color: #008080; text-decoration-color: #008080; font-weight: bold\">-0.2226</span><span style=\"font-weight: bold\">]</span>,\n",
       "         <span style=\"font-weight: bold\">[</span><span style=\"color: #008080; text-decoration-color: #008080; font-weight: bold\">-0.2682</span>, <span style=\"color: #008080; text-decoration-color: #008080; font-weight: bold\">-0.7152</span><span style=\"font-weight: bold\">]]</span>,\n",
       "\n",
       "        <span style=\"font-weight: bold\">[[</span> <span style=\"color: #008080; text-decoration-color: #008080; font-weight: bold\">1.3426</span>, <span style=\"color: #008080; text-decoration-color: #008080; font-weight: bold\">-0.2226</span><span style=\"font-weight: bold\">]</span>,\n",
       "         <span style=\"font-weight: bold\">[</span><span style=\"color: #008080; text-decoration-color: #008080; font-weight: bold\">-0.2682</span>, <span style=\"color: #008080; text-decoration-color: #008080; font-weight: bold\">-0.7152</span><span style=\"font-weight: bold\">]</span>,\n",
       "         <span style=\"font-weight: bold\">[</span> <span style=\"color: #008080; text-decoration-color: #008080; font-weight: bold\">0.8837</span>,  <span style=\"color: #008080; text-decoration-color: #008080; font-weight: bold\">0.7330</span><span style=\"font-weight: bold\">]]</span>,\n",
       "\n",
       "        <span style=\"font-weight: bold\">[[</span><span style=\"color: #008080; text-decoration-color: #008080; font-weight: bold\">-0.2682</span>, <span style=\"color: #008080; text-decoration-color: #008080; font-weight: bold\">-0.7152</span><span style=\"font-weight: bold\">]</span>,\n",
       "         <span style=\"font-weight: bold\">[</span> <span style=\"color: #008080; text-decoration-color: #008080; font-weight: bold\">0.8837</span>,  <span style=\"color: #008080; text-decoration-color: #008080; font-weight: bold\">0.7330</span><span style=\"font-weight: bold\">]</span>,\n",
       "         <span style=\"font-weight: bold\">[</span><span style=\"color: #008080; text-decoration-color: #008080; font-weight: bold\">-0.2682</span>, <span style=\"color: #008080; text-decoration-color: #008080; font-weight: bold\">-0.7152</span><span style=\"font-weight: bold\">]]</span>,\n",
       "\n",
       "        <span style=\"font-weight: bold\">[[</span> <span style=\"color: #008080; text-decoration-color: #008080; font-weight: bold\">0.8837</span>,  <span style=\"color: #008080; text-decoration-color: #008080; font-weight: bold\">0.7330</span><span style=\"font-weight: bold\">]</span>,\n",
       "         <span style=\"font-weight: bold\">[</span><span style=\"color: #008080; text-decoration-color: #008080; font-weight: bold\">-0.2682</span>, <span style=\"color: #008080; text-decoration-color: #008080; font-weight: bold\">-0.7152</span><span style=\"font-weight: bold\">]</span>,\n",
       "         <span style=\"font-weight: bold\">[</span> <span style=\"color: #008080; text-decoration-color: #008080; font-weight: bold\">1.0820</span>, <span style=\"color: #008080; text-decoration-color: #008080; font-weight: bold\">-0.9515</span><span style=\"font-weight: bold\">]]])</span>\n",
       "</pre>\n"
      ],
      "text/plain": [
       "\n",
       "\u001b[1;35mtensor\u001b[0m\u001b[1m(\u001b[0m\u001b[1m[\u001b[0m\u001b[1m[\u001b[0m\u001b[1m[\u001b[0m\u001b[1;36m-1.7749\u001b[0m,  \u001b[1;36m0.4311\u001b[0m\u001b[1m]\u001b[0m,\n",
       "         \u001b[1m[\u001b[0m\u001b[1;36m-1.7749\u001b[0m,  \u001b[1;36m0.4311\u001b[0m\u001b[1m]\u001b[0m,\n",
       "         \u001b[1m[\u001b[0m\u001b[1;36m-1.7749\u001b[0m,  \u001b[1;36m0.4311\u001b[0m\u001b[1m]\u001b[0m\u001b[1m]\u001b[0m,\n",
       "\n",
       "        \u001b[1m[\u001b[0m\u001b[1m[\u001b[0m\u001b[1;36m-1.7749\u001b[0m,  \u001b[1;36m0.4311\u001b[0m\u001b[1m]\u001b[0m,\n",
       "         \u001b[1m[\u001b[0m\u001b[1;36m-1.7749\u001b[0m,  \u001b[1;36m0.4311\u001b[0m\u001b[1m]\u001b[0m,\n",
       "         \u001b[1m[\u001b[0m \u001b[1;36m1.8403\u001b[0m, \u001b[1;36m-0.2517\u001b[0m\u001b[1m]\u001b[0m\u001b[1m]\u001b[0m,\n",
       "\n",
       "        \u001b[1m[\u001b[0m\u001b[1m[\u001b[0m\u001b[1;36m-1.7749\u001b[0m,  \u001b[1;36m0.4311\u001b[0m\u001b[1m]\u001b[0m,\n",
       "         \u001b[1m[\u001b[0m \u001b[1;36m1.8403\u001b[0m, \u001b[1;36m-0.2517\u001b[0m\u001b[1m]\u001b[0m,\n",
       "         \u001b[1m[\u001b[0m\u001b[1;36m-1.0854\u001b[0m, \u001b[1;36m-0.0892\u001b[0m\u001b[1m]\u001b[0m\u001b[1m]\u001b[0m,\n",
       "\n",
       "        \u001b[1m[\u001b[0m\u001b[1m[\u001b[0m \u001b[1;36m1.8403\u001b[0m, \u001b[1;36m-0.2517\u001b[0m\u001b[1m]\u001b[0m,\n",
       "         \u001b[1m[\u001b[0m\u001b[1;36m-1.0854\u001b[0m, \u001b[1;36m-0.0892\u001b[0m\u001b[1m]\u001b[0m,\n",
       "         \u001b[1m[\u001b[0m\u001b[1;36m-1.0854\u001b[0m, \u001b[1;36m-0.0892\u001b[0m\u001b[1m]\u001b[0m\u001b[1m]\u001b[0m,\n",
       "\n",
       "        \u001b[1m[\u001b[0m\u001b[1m[\u001b[0m\u001b[1;36m-1.0854\u001b[0m, \u001b[1;36m-0.0892\u001b[0m\u001b[1m]\u001b[0m,\n",
       "         \u001b[1m[\u001b[0m\u001b[1;36m-1.0854\u001b[0m, \u001b[1;36m-0.0892\u001b[0m\u001b[1m]\u001b[0m,\n",
       "         \u001b[1m[\u001b[0m \u001b[1;36m1.0820\u001b[0m, \u001b[1;36m-0.9515\u001b[0m\u001b[1m]\u001b[0m\u001b[1m]\u001b[0m,\n",
       "\n",
       "        \u001b[1m[\u001b[0m\u001b[1m[\u001b[0m\u001b[1;36m-1.7749\u001b[0m,  \u001b[1;36m0.4311\u001b[0m\u001b[1m]\u001b[0m,\n",
       "         \u001b[1m[\u001b[0m\u001b[1;36m-1.7749\u001b[0m,  \u001b[1;36m0.4311\u001b[0m\u001b[1m]\u001b[0m,\n",
       "         \u001b[1m[\u001b[0m\u001b[1;36m-1.7749\u001b[0m,  \u001b[1;36m0.4311\u001b[0m\u001b[1m]\u001b[0m\u001b[1m]\u001b[0m,\n",
       "\n",
       "        \u001b[1m[\u001b[0m\u001b[1m[\u001b[0m\u001b[1;36m-1.7749\u001b[0m,  \u001b[1;36m0.4311\u001b[0m\u001b[1m]\u001b[0m,\n",
       "         \u001b[1m[\u001b[0m\u001b[1;36m-1.7749\u001b[0m,  \u001b[1;36m0.4311\u001b[0m\u001b[1m]\u001b[0m,\n",
       "         \u001b[1m[\u001b[0m \u001b[1;36m2.3032\u001b[0m, \u001b[1;36m-0.5847\u001b[0m\u001b[1m]\u001b[0m\u001b[1m]\u001b[0m,\n",
       "\n",
       "        \u001b[1m[\u001b[0m\u001b[1m[\u001b[0m\u001b[1;36m-1.7749\u001b[0m,  \u001b[1;36m0.4311\u001b[0m\u001b[1m]\u001b[0m,\n",
       "         \u001b[1m[\u001b[0m \u001b[1;36m2.3032\u001b[0m, \u001b[1;36m-0.5847\u001b[0m\u001b[1m]\u001b[0m,\n",
       "         \u001b[1m[\u001b[0m \u001b[1;36m1.3426\u001b[0m, \u001b[1;36m-0.2226\u001b[0m\u001b[1m]\u001b[0m\u001b[1m]\u001b[0m,\n",
       "\n",
       "        \u001b[1m[\u001b[0m\u001b[1m[\u001b[0m \u001b[1;36m2.3032\u001b[0m, \u001b[1;36m-0.5847\u001b[0m\u001b[1m]\u001b[0m,\n",
       "         \u001b[1m[\u001b[0m \u001b[1;36m1.3426\u001b[0m, \u001b[1;36m-0.2226\u001b[0m\u001b[1m]\u001b[0m,\n",
       "         \u001b[1m[\u001b[0m\u001b[1;36m-0.2682\u001b[0m, \u001b[1;36m-0.7152\u001b[0m\u001b[1m]\u001b[0m\u001b[1m]\u001b[0m,\n",
       "\n",
       "        \u001b[1m[\u001b[0m\u001b[1m[\u001b[0m \u001b[1;36m1.3426\u001b[0m, \u001b[1;36m-0.2226\u001b[0m\u001b[1m]\u001b[0m,\n",
       "         \u001b[1m[\u001b[0m\u001b[1;36m-0.2682\u001b[0m, \u001b[1;36m-0.7152\u001b[0m\u001b[1m]\u001b[0m,\n",
       "         \u001b[1m[\u001b[0m \u001b[1;36m0.8837\u001b[0m,  \u001b[1;36m0.7330\u001b[0m\u001b[1m]\u001b[0m\u001b[1m]\u001b[0m,\n",
       "\n",
       "        \u001b[1m[\u001b[0m\u001b[1m[\u001b[0m\u001b[1;36m-0.2682\u001b[0m, \u001b[1;36m-0.7152\u001b[0m\u001b[1m]\u001b[0m,\n",
       "         \u001b[1m[\u001b[0m \u001b[1;36m0.8837\u001b[0m,  \u001b[1;36m0.7330\u001b[0m\u001b[1m]\u001b[0m,\n",
       "         \u001b[1m[\u001b[0m\u001b[1;36m-0.2682\u001b[0m, \u001b[1;36m-0.7152\u001b[0m\u001b[1m]\u001b[0m\u001b[1m]\u001b[0m,\n",
       "\n",
       "        \u001b[1m[\u001b[0m\u001b[1m[\u001b[0m \u001b[1;36m0.8837\u001b[0m,  \u001b[1;36m0.7330\u001b[0m\u001b[1m]\u001b[0m,\n",
       "         \u001b[1m[\u001b[0m\u001b[1;36m-0.2682\u001b[0m, \u001b[1;36m-0.7152\u001b[0m\u001b[1m]\u001b[0m,\n",
       "         \u001b[1m[\u001b[0m \u001b[1;36m1.0820\u001b[0m, \u001b[1;36m-0.9515\u001b[0m\u001b[1m]\u001b[0m\u001b[1m]\u001b[0m\u001b[1m]\u001b[0m\u001b[1m)\u001b[0m\n"
      ]
     },
     "metadata": {},
     "output_type": "display_data"
    }
   ],
   "source": [
    "C[X]"
   ]
  },
  {
   "cell_type": "code",
   "execution_count": 99,
   "id": "d4986639",
   "metadata": {},
   "outputs": [
    {
     "data": {
      "text/html": [
       "<pre style=\"white-space:pre;overflow-x:auto;line-height:normal;font-family:Menlo,'DejaVu Sans Mono',consolas,'Courier New',monospace\"><span style=\"color: #800080; text-decoration-color: #800080; font-weight: bold\">torch.Size</span><span style=\"font-weight: bold\">([</span><span style=\"color: #008080; text-decoration-color: #008080; font-weight: bold\">12</span>, <span style=\"color: #008080; text-decoration-color: #008080; font-weight: bold\">3</span>, <span style=\"color: #008080; text-decoration-color: #008080; font-weight: bold\">2</span><span style=\"font-weight: bold\">])</span>\n",
       "</pre>\n"
      ],
      "text/plain": [
       "\u001b[1;35mtorch.Size\u001b[0m\u001b[1m(\u001b[0m\u001b[1m[\u001b[0m\u001b[1;36m12\u001b[0m, \u001b[1;36m3\u001b[0m, \u001b[1;36m2\u001b[0m\u001b[1m]\u001b[0m\u001b[1m)\u001b[0m\n"
      ]
     },
     "metadata": {},
     "output_type": "display_data"
    }
   ],
   "source": [
    "C[X].shape"
   ]
  },
  {
   "cell_type": "code",
   "execution_count": 100,
   "id": "eb411f62",
   "metadata": {},
   "outputs": [
    {
     "data": {
      "text/html": [
       "<pre style=\"white-space:pre;overflow-x:auto;line-height:normal;font-family:Menlo,'DejaVu Sans Mono',consolas,'Courier New',monospace\"><span style=\"color: #800080; text-decoration-color: #800080; font-weight: bold\">tensor</span><span style=\"font-weight: bold\">(</span><span style=\"color: #008080; text-decoration-color: #008080; font-weight: bold\">1</span><span style=\"font-weight: bold\">)</span>\n",
       "</pre>\n"
      ],
      "text/plain": [
       "\u001b[1;35mtensor\u001b[0m\u001b[1m(\u001b[0m\u001b[1;36m1\u001b[0m\u001b[1m)\u001b[0m\n"
      ]
     },
     "metadata": {},
     "output_type": "display_data"
    }
   ],
   "source": [
    "X[11, 2]"
   ]
  },
  {
   "cell_type": "code",
   "execution_count": 101,
   "id": "43d15c32",
   "metadata": {},
   "outputs": [
    {
     "data": {
      "text/html": [
       "<pre style=\"white-space:pre;overflow-x:auto;line-height:normal;font-family:Menlo,'DejaVu Sans Mono',consolas,'Courier New',monospace\"><span style=\"color: #800080; text-decoration-color: #800080; font-weight: bold\">tensor</span><span style=\"font-weight: bold\">([</span> <span style=\"color: #008080; text-decoration-color: #008080; font-weight: bold\">1.0820</span>, <span style=\"color: #008080; text-decoration-color: #008080; font-weight: bold\">-0.9515</span><span style=\"font-weight: bold\">])</span>\n",
       "</pre>\n"
      ],
      "text/plain": [
       "\u001b[1;35mtensor\u001b[0m\u001b[1m(\u001b[0m\u001b[1m[\u001b[0m \u001b[1;36m1.0820\u001b[0m, \u001b[1;36m-0.9515\u001b[0m\u001b[1m]\u001b[0m\u001b[1m)\u001b[0m\n"
      ]
     },
     "metadata": {},
     "output_type": "display_data"
    }
   ],
   "source": [
    "C[X][11, 2]"
   ]
  },
  {
   "cell_type": "code",
   "execution_count": 102,
   "id": "5c4987cb",
   "metadata": {},
   "outputs": [
    {
     "data": {
      "text/html": [
       "<pre style=\"white-space:pre;overflow-x:auto;line-height:normal;font-family:Menlo,'DejaVu Sans Mono',consolas,'Courier New',monospace\"><span style=\"color: #800080; text-decoration-color: #800080; font-weight: bold\">tensor</span><span style=\"font-weight: bold\">([</span> <span style=\"color: #008080; text-decoration-color: #008080; font-weight: bold\">1.0820</span>, <span style=\"color: #008080; text-decoration-color: #008080; font-weight: bold\">-0.9515</span><span style=\"font-weight: bold\">])</span>\n",
       "</pre>\n"
      ],
      "text/plain": [
       "\u001b[1;35mtensor\u001b[0m\u001b[1m(\u001b[0m\u001b[1m[\u001b[0m \u001b[1;36m1.0820\u001b[0m, \u001b[1;36m-0.9515\u001b[0m\u001b[1m]\u001b[0m\u001b[1m)\u001b[0m\n"
      ]
     },
     "metadata": {},
     "output_type": "display_data"
    }
   ],
   "source": [
    "C[1]"
   ]
  },
  {
   "cell_type": "code",
   "execution_count": 103,
   "id": "da19eb45",
   "metadata": {},
   "outputs": [
    {
     "data": {
      "text/html": [
       "<pre style=\"white-space:pre;overflow-x:auto;line-height:normal;font-family:Menlo,'DejaVu Sans Mono',consolas,'Courier New',monospace\"><span style=\"color: #00ff00; text-decoration-color: #00ff00; font-style: italic\">True</span>\n",
       "</pre>\n"
      ],
      "text/plain": [
       "\u001b[3;92mTrue\u001b[0m\n"
      ]
     },
     "metadata": {},
     "output_type": "display_data"
    }
   ],
   "source": [
    "torch.equal(C[X][11, 2], C[1])"
   ]
  },
  {
   "cell_type": "markdown",
   "id": "79830db2",
   "metadata": {},
   "source": [
    "## Hidden Layer"
   ]
  },
  {
   "cell_type": "code",
   "execution_count": 104,
   "id": "46aeb625",
   "metadata": {},
   "outputs": [
    {
     "data": {
      "text/html": [
       "<pre style=\"white-space:pre;overflow-x:auto;line-height:normal;font-family:Menlo,'DejaVu Sans Mono',consolas,'Courier New',monospace\"><span style=\"color: #800080; text-decoration-color: #800080; font-weight: bold\">torch.Size</span><span style=\"font-weight: bold\">([</span><span style=\"color: #008080; text-decoration-color: #008080; font-weight: bold\">12</span>, <span style=\"color: #008080; text-decoration-color: #008080; font-weight: bold\">3</span>, <span style=\"color: #008080; text-decoration-color: #008080; font-weight: bold\">2</span><span style=\"font-weight: bold\">])</span>\n",
       "</pre>\n"
      ],
      "text/plain": [
       "\u001b[1;35mtorch.Size\u001b[0m\u001b[1m(\u001b[0m\u001b[1m[\u001b[0m\u001b[1;36m12\u001b[0m, \u001b[1;36m3\u001b[0m, \u001b[1;36m2\u001b[0m\u001b[1m]\u001b[0m\u001b[1m)\u001b[0m\n"
      ]
     },
     "metadata": {},
     "output_type": "display_data"
    }
   ],
   "source": [
    "emb = C[X]\n",
    "emb.shape"
   ]
  },
  {
   "cell_type": "code",
   "execution_count": 105,
   "id": "d41a154b",
   "metadata": {},
   "outputs": [],
   "source": [
    "W1 = torch.randn((6, 100))\n",
    "b1 = torch.randn(100)"
   ]
  },
  {
   "cell_type": "code",
   "execution_count": 106,
   "id": "42c1c899",
   "metadata": {},
   "outputs": [
    {
     "data": {
      "text/html": [
       "<pre style=\"white-space:pre;overflow-x:auto;line-height:normal;font-family:Menlo,'DejaVu Sans Mono',consolas,'Courier New',monospace\"><span style=\"font-weight: bold\">(</span><span style=\"color: #800080; text-decoration-color: #800080; font-weight: bold\">torch.Size</span><span style=\"font-weight: bold\">([</span><span style=\"color: #008080; text-decoration-color: #008080; font-weight: bold\">6</span>, <span style=\"color: #008080; text-decoration-color: #008080; font-weight: bold\">100</span><span style=\"font-weight: bold\">])</span>, <span style=\"color: #800080; text-decoration-color: #800080; font-weight: bold\">torch.Size</span><span style=\"font-weight: bold\">([</span><span style=\"color: #008080; text-decoration-color: #008080; font-weight: bold\">100</span><span style=\"font-weight: bold\">]))</span>\n",
       "</pre>\n"
      ],
      "text/plain": [
       "\u001b[1m(\u001b[0m\u001b[1;35mtorch.Size\u001b[0m\u001b[1m(\u001b[0m\u001b[1m[\u001b[0m\u001b[1;36m6\u001b[0m, \u001b[1;36m100\u001b[0m\u001b[1m]\u001b[0m\u001b[1m)\u001b[0m, \u001b[1;35mtorch.Size\u001b[0m\u001b[1m(\u001b[0m\u001b[1m[\u001b[0m\u001b[1;36m100\u001b[0m\u001b[1m]\u001b[0m\u001b[1m)\u001b[0m\u001b[1m)\u001b[0m\n"
      ]
     },
     "metadata": {},
     "output_type": "display_data"
    }
   ],
   "source": [
    "W1.shape, b1.shape"
   ]
  },
  {
   "cell_type": "markdown",
   "id": "b7d9276f",
   "metadata": {},
   "source": [
    "We have to flatten the last two dimensions of `emb` so that it can be multiplied with `W1`"
   ]
  },
  {
   "cell_type": "code",
   "execution_count": 107,
   "id": "8f4c7086",
   "metadata": {},
   "outputs": [
    {
     "data": {
      "text/html": [
       "<pre style=\"white-space:pre;overflow-x:auto;line-height:normal;font-family:Menlo,'DejaVu Sans Mono',consolas,'Courier New',monospace\"><span style=\"color: #800080; text-decoration-color: #800080; font-weight: bold\">torch.Size</span><span style=\"font-weight: bold\">([</span><span style=\"color: #008080; text-decoration-color: #008080; font-weight: bold\">12</span>, <span style=\"color: #008080; text-decoration-color: #008080; font-weight: bold\">2</span><span style=\"font-weight: bold\">])</span>\n",
       "</pre>\n"
      ],
      "text/plain": [
       "\u001b[1;35mtorch.Size\u001b[0m\u001b[1m(\u001b[0m\u001b[1m[\u001b[0m\u001b[1;36m12\u001b[0m, \u001b[1;36m2\u001b[0m\u001b[1m]\u001b[0m\u001b[1m)\u001b[0m\n"
      ]
     },
     "metadata": {},
     "output_type": "display_data"
    }
   ],
   "source": [
    "emb[:, 0, :].shape"
   ]
  },
  {
   "cell_type": "markdown",
   "id": "d0be9378",
   "metadata": {},
   "source": [
    "### `torch.cat` and `torch.bind`"
   ]
  },
  {
   "cell_type": "code",
   "execution_count": 108,
   "id": "71c3da5c",
   "metadata": {},
   "outputs": [
    {
     "data": {
      "text/html": [
       "<pre style=\"white-space:pre;overflow-x:auto;line-height:normal;font-family:Menlo,'DejaVu Sans Mono',consolas,'Courier New',monospace\"><span style=\"color: #800080; text-decoration-color: #800080; font-weight: bold\">torch.Size</span><span style=\"font-weight: bold\">([</span><span style=\"color: #008080; text-decoration-color: #008080; font-weight: bold\">12</span>, <span style=\"color: #008080; text-decoration-color: #008080; font-weight: bold\">6</span><span style=\"font-weight: bold\">])</span>\n",
       "</pre>\n"
      ],
      "text/plain": [
       "\u001b[1;35mtorch.Size\u001b[0m\u001b[1m(\u001b[0m\u001b[1m[\u001b[0m\u001b[1;36m12\u001b[0m, \u001b[1;36m6\u001b[0m\u001b[1m]\u001b[0m\u001b[1m)\u001b[0m\n"
      ]
     },
     "metadata": {},
     "output_type": "display_data"
    }
   ],
   "source": [
    "torch.cat([emb[:, 0, :], emb[:, 1, :], emb[:, 2, :]], 1).shape"
   ]
  },
  {
   "cell_type": "code",
   "execution_count": 109,
   "id": "cc4a5d22",
   "metadata": {},
   "outputs": [
    {
     "data": {
      "text/html": [
       "<pre style=\"white-space:pre;overflow-x:auto;line-height:normal;font-family:Menlo,'DejaVu Sans Mono',consolas,'Courier New',monospace\"><span style=\"color: #008080; text-decoration-color: #008080; font-weight: bold\">3</span>\n",
       "</pre>\n"
      ],
      "text/plain": [
       "\u001b[1;36m3\u001b[0m\n"
      ]
     },
     "metadata": {},
     "output_type": "display_data"
    }
   ],
   "source": [
    "len(torch.unbind(emb, 1))"
   ]
  },
  {
   "cell_type": "code",
   "execution_count": 110,
   "id": "4c7af029",
   "metadata": {},
   "outputs": [
    {
     "data": {
      "text/html": [
       "<pre style=\"white-space:pre;overflow-x:auto;line-height:normal;font-family:Menlo,'DejaVu Sans Mono',consolas,'Courier New',monospace\"><span style=\"color: #800080; text-decoration-color: #800080; font-weight: bold\">torch.Size</span><span style=\"font-weight: bold\">([</span><span style=\"color: #008080; text-decoration-color: #008080; font-weight: bold\">12</span>, <span style=\"color: #008080; text-decoration-color: #008080; font-weight: bold\">6</span><span style=\"font-weight: bold\">])</span>\n",
       "</pre>\n"
      ],
      "text/plain": [
       "\u001b[1;35mtorch.Size\u001b[0m\u001b[1m(\u001b[0m\u001b[1m[\u001b[0m\u001b[1;36m12\u001b[0m, \u001b[1;36m6\u001b[0m\u001b[1m]\u001b[0m\u001b[1m)\u001b[0m\n"
      ]
     },
     "metadata": {},
     "output_type": "display_data"
    }
   ],
   "source": [
    "torch.cat(torch.unbind(emb, 1), 1).shape"
   ]
  },
  {
   "cell_type": "markdown",
   "id": "cb2e46d5",
   "metadata": {},
   "source": [
    "The above one is insufficient and creates memory"
   ]
  },
  {
   "cell_type": "markdown",
   "id": "26c6e24c",
   "metadata": {},
   "source": [
    "### torch internal: storage, views"
   ]
  },
  {
   "cell_type": "code",
   "execution_count": 111,
   "id": "2155f90c",
   "metadata": {},
   "outputs": [
    {
     "data": {
      "text/html": [
       "<pre style=\"white-space:pre;overflow-x:auto;line-height:normal;font-family:Menlo,'DejaVu Sans Mono',consolas,'Courier New',monospace\"><span style=\"color: #800080; text-decoration-color: #800080; font-weight: bold\">tensor</span><span style=\"font-weight: bold\">([</span> <span style=\"color: #008080; text-decoration-color: #008080; font-weight: bold\">0</span>,  <span style=\"color: #008080; text-decoration-color: #008080; font-weight: bold\">1</span>,  <span style=\"color: #008080; text-decoration-color: #008080; font-weight: bold\">2</span>,  <span style=\"color: #008080; text-decoration-color: #008080; font-weight: bold\">3</span>,  <span style=\"color: #008080; text-decoration-color: #008080; font-weight: bold\">4</span>,  <span style=\"color: #008080; text-decoration-color: #008080; font-weight: bold\">5</span>,  <span style=\"color: #008080; text-decoration-color: #008080; font-weight: bold\">6</span>,  <span style=\"color: #008080; text-decoration-color: #008080; font-weight: bold\">7</span>,  <span style=\"color: #008080; text-decoration-color: #008080; font-weight: bold\">8</span>,  <span style=\"color: #008080; text-decoration-color: #008080; font-weight: bold\">9</span>, <span style=\"color: #008080; text-decoration-color: #008080; font-weight: bold\">10</span>, <span style=\"color: #008080; text-decoration-color: #008080; font-weight: bold\">11</span>, <span style=\"color: #008080; text-decoration-color: #008080; font-weight: bold\">12</span>, <span style=\"color: #008080; text-decoration-color: #008080; font-weight: bold\">13</span>, <span style=\"color: #008080; text-decoration-color: #008080; font-weight: bold\">14</span>, <span style=\"color: #008080; text-decoration-color: #008080; font-weight: bold\">15</span>, <span style=\"color: #008080; text-decoration-color: #008080; font-weight: bold\">16</span>, <span style=\"color: #008080; text-decoration-color: #008080; font-weight: bold\">17</span><span style=\"font-weight: bold\">])</span>\n",
       "</pre>\n"
      ],
      "text/plain": [
       "\u001b[1;35mtensor\u001b[0m\u001b[1m(\u001b[0m\u001b[1m[\u001b[0m \u001b[1;36m0\u001b[0m,  \u001b[1;36m1\u001b[0m,  \u001b[1;36m2\u001b[0m,  \u001b[1;36m3\u001b[0m,  \u001b[1;36m4\u001b[0m,  \u001b[1;36m5\u001b[0m,  \u001b[1;36m6\u001b[0m,  \u001b[1;36m7\u001b[0m,  \u001b[1;36m8\u001b[0m,  \u001b[1;36m9\u001b[0m, \u001b[1;36m10\u001b[0m, \u001b[1;36m11\u001b[0m, \u001b[1;36m12\u001b[0m, \u001b[1;36m13\u001b[0m, \u001b[1;36m14\u001b[0m, \u001b[1;36m15\u001b[0m, \u001b[1;36m16\u001b[0m, \u001b[1;36m17\u001b[0m\u001b[1m]\u001b[0m\u001b[1m)\u001b[0m\n"
      ]
     },
     "metadata": {},
     "output_type": "display_data"
    }
   ],
   "source": [
    "a = torch.arange(18)\n",
    "a"
   ]
  },
  {
   "cell_type": "code",
   "execution_count": 112,
   "id": "c4fb32d8",
   "metadata": {},
   "outputs": [
    {
     "data": {
      "text/html": [
       "<pre style=\"white-space:pre;overflow-x:auto;line-height:normal;font-family:Menlo,'DejaVu Sans Mono',consolas,'Courier New',monospace\"><span style=\"color: #800080; text-decoration-color: #800080; font-weight: bold\">torch.Size</span><span style=\"font-weight: bold\">([</span><span style=\"color: #008080; text-decoration-color: #008080; font-weight: bold\">18</span><span style=\"font-weight: bold\">])</span>\n",
       "</pre>\n"
      ],
      "text/plain": [
       "\u001b[1;35mtorch.Size\u001b[0m\u001b[1m(\u001b[0m\u001b[1m[\u001b[0m\u001b[1;36m18\u001b[0m\u001b[1m]\u001b[0m\u001b[1m)\u001b[0m\n"
      ]
     },
     "metadata": {},
     "output_type": "display_data"
    }
   ],
   "source": [
    "a.shape"
   ]
  },
  {
   "cell_type": "code",
   "execution_count": 113,
   "id": "da6317fc",
   "metadata": {},
   "outputs": [
    {
     "data": {
      "text/html": [
       "<pre style=\"white-space:pre;overflow-x:auto;line-height:normal;font-family:Menlo,'DejaVu Sans Mono',consolas,'Courier New',monospace\">\n",
       "<span style=\"color: #800080; text-decoration-color: #800080; font-weight: bold\">tensor</span><span style=\"font-weight: bold\">([[</span> <span style=\"color: #008080; text-decoration-color: #008080; font-weight: bold\">0</span>,  <span style=\"color: #008080; text-decoration-color: #008080; font-weight: bold\">1</span>,  <span style=\"color: #008080; text-decoration-color: #008080; font-weight: bold\">2</span>,  <span style=\"color: #008080; text-decoration-color: #008080; font-weight: bold\">3</span>,  <span style=\"color: #008080; text-decoration-color: #008080; font-weight: bold\">4</span>,  <span style=\"color: #008080; text-decoration-color: #008080; font-weight: bold\">5</span>,  <span style=\"color: #008080; text-decoration-color: #008080; font-weight: bold\">6</span>,  <span style=\"color: #008080; text-decoration-color: #008080; font-weight: bold\">7</span>,  <span style=\"color: #008080; text-decoration-color: #008080; font-weight: bold\">8</span><span style=\"font-weight: bold\">]</span>,\n",
       "        <span style=\"font-weight: bold\">[</span> <span style=\"color: #008080; text-decoration-color: #008080; font-weight: bold\">9</span>, <span style=\"color: #008080; text-decoration-color: #008080; font-weight: bold\">10</span>, <span style=\"color: #008080; text-decoration-color: #008080; font-weight: bold\">11</span>, <span style=\"color: #008080; text-decoration-color: #008080; font-weight: bold\">12</span>, <span style=\"color: #008080; text-decoration-color: #008080; font-weight: bold\">13</span>, <span style=\"color: #008080; text-decoration-color: #008080; font-weight: bold\">14</span>, <span style=\"color: #008080; text-decoration-color: #008080; font-weight: bold\">15</span>, <span style=\"color: #008080; text-decoration-color: #008080; font-weight: bold\">16</span>, <span style=\"color: #008080; text-decoration-color: #008080; font-weight: bold\">17</span><span style=\"font-weight: bold\">]])</span>\n",
       "</pre>\n"
      ],
      "text/plain": [
       "\n",
       "\u001b[1;35mtensor\u001b[0m\u001b[1m(\u001b[0m\u001b[1m[\u001b[0m\u001b[1m[\u001b[0m \u001b[1;36m0\u001b[0m,  \u001b[1;36m1\u001b[0m,  \u001b[1;36m2\u001b[0m,  \u001b[1;36m3\u001b[0m,  \u001b[1;36m4\u001b[0m,  \u001b[1;36m5\u001b[0m,  \u001b[1;36m6\u001b[0m,  \u001b[1;36m7\u001b[0m,  \u001b[1;36m8\u001b[0m\u001b[1m]\u001b[0m,\n",
       "        \u001b[1m[\u001b[0m \u001b[1;36m9\u001b[0m, \u001b[1;36m10\u001b[0m, \u001b[1;36m11\u001b[0m, \u001b[1;36m12\u001b[0m, \u001b[1;36m13\u001b[0m, \u001b[1;36m14\u001b[0m, \u001b[1;36m15\u001b[0m, \u001b[1;36m16\u001b[0m, \u001b[1;36m17\u001b[0m\u001b[1m]\u001b[0m\u001b[1m]\u001b[0m\u001b[1m)\u001b[0m\n"
      ]
     },
     "metadata": {},
     "output_type": "display_data"
    }
   ],
   "source": [
    "a.view(2, 9)"
   ]
  },
  {
   "cell_type": "code",
   "execution_count": 114,
   "id": "d7d5b6da",
   "metadata": {},
   "outputs": [
    {
     "data": {
      "text/html": [
       "<pre style=\"white-space:pre;overflow-x:auto;line-height:normal;font-family:Menlo,'DejaVu Sans Mono',consolas,'Courier New',monospace\">\n",
       "<span style=\"color: #800080; text-decoration-color: #800080; font-weight: bold\">tensor</span><span style=\"font-weight: bold\">([[</span> <span style=\"color: #008080; text-decoration-color: #008080; font-weight: bold\">0</span>,  <span style=\"color: #008080; text-decoration-color: #008080; font-weight: bold\">1</span><span style=\"font-weight: bold\">]</span>,\n",
       "        <span style=\"font-weight: bold\">[</span> <span style=\"color: #008080; text-decoration-color: #008080; font-weight: bold\">2</span>,  <span style=\"color: #008080; text-decoration-color: #008080; font-weight: bold\">3</span><span style=\"font-weight: bold\">]</span>,\n",
       "        <span style=\"font-weight: bold\">[</span> <span style=\"color: #008080; text-decoration-color: #008080; font-weight: bold\">4</span>,  <span style=\"color: #008080; text-decoration-color: #008080; font-weight: bold\">5</span><span style=\"font-weight: bold\">]</span>,\n",
       "        <span style=\"font-weight: bold\">[</span> <span style=\"color: #008080; text-decoration-color: #008080; font-weight: bold\">6</span>,  <span style=\"color: #008080; text-decoration-color: #008080; font-weight: bold\">7</span><span style=\"font-weight: bold\">]</span>,\n",
       "        <span style=\"font-weight: bold\">[</span> <span style=\"color: #008080; text-decoration-color: #008080; font-weight: bold\">8</span>,  <span style=\"color: #008080; text-decoration-color: #008080; font-weight: bold\">9</span><span style=\"font-weight: bold\">]</span>,\n",
       "        <span style=\"font-weight: bold\">[</span><span style=\"color: #008080; text-decoration-color: #008080; font-weight: bold\">10</span>, <span style=\"color: #008080; text-decoration-color: #008080; font-weight: bold\">11</span><span style=\"font-weight: bold\">]</span>,\n",
       "        <span style=\"font-weight: bold\">[</span><span style=\"color: #008080; text-decoration-color: #008080; font-weight: bold\">12</span>, <span style=\"color: #008080; text-decoration-color: #008080; font-weight: bold\">13</span><span style=\"font-weight: bold\">]</span>,\n",
       "        <span style=\"font-weight: bold\">[</span><span style=\"color: #008080; text-decoration-color: #008080; font-weight: bold\">14</span>, <span style=\"color: #008080; text-decoration-color: #008080; font-weight: bold\">15</span><span style=\"font-weight: bold\">]</span>,\n",
       "        <span style=\"font-weight: bold\">[</span><span style=\"color: #008080; text-decoration-color: #008080; font-weight: bold\">16</span>, <span style=\"color: #008080; text-decoration-color: #008080; font-weight: bold\">17</span><span style=\"font-weight: bold\">]])</span>\n",
       "</pre>\n"
      ],
      "text/plain": [
       "\n",
       "\u001b[1;35mtensor\u001b[0m\u001b[1m(\u001b[0m\u001b[1m[\u001b[0m\u001b[1m[\u001b[0m \u001b[1;36m0\u001b[0m,  \u001b[1;36m1\u001b[0m\u001b[1m]\u001b[0m,\n",
       "        \u001b[1m[\u001b[0m \u001b[1;36m2\u001b[0m,  \u001b[1;36m3\u001b[0m\u001b[1m]\u001b[0m,\n",
       "        \u001b[1m[\u001b[0m \u001b[1;36m4\u001b[0m,  \u001b[1;36m5\u001b[0m\u001b[1m]\u001b[0m,\n",
       "        \u001b[1m[\u001b[0m \u001b[1;36m6\u001b[0m,  \u001b[1;36m7\u001b[0m\u001b[1m]\u001b[0m,\n",
       "        \u001b[1m[\u001b[0m \u001b[1;36m8\u001b[0m,  \u001b[1;36m9\u001b[0m\u001b[1m]\u001b[0m,\n",
       "        \u001b[1m[\u001b[0m\u001b[1;36m10\u001b[0m, \u001b[1;36m11\u001b[0m\u001b[1m]\u001b[0m,\n",
       "        \u001b[1m[\u001b[0m\u001b[1;36m12\u001b[0m, \u001b[1;36m13\u001b[0m\u001b[1m]\u001b[0m,\n",
       "        \u001b[1m[\u001b[0m\u001b[1;36m14\u001b[0m, \u001b[1;36m15\u001b[0m\u001b[1m]\u001b[0m,\n",
       "        \u001b[1m[\u001b[0m\u001b[1;36m16\u001b[0m, \u001b[1;36m17\u001b[0m\u001b[1m]\u001b[0m\u001b[1m]\u001b[0m\u001b[1m)\u001b[0m\n"
      ]
     },
     "metadata": {},
     "output_type": "display_data"
    }
   ],
   "source": [
    "a.view(9, 2)"
   ]
  },
  {
   "cell_type": "code",
   "execution_count": 115,
   "id": "3af1979e",
   "metadata": {},
   "outputs": [
    {
     "data": {
      "text/html": [
       "<pre style=\"white-space:pre;overflow-x:auto;line-height:normal;font-family:Menlo,'DejaVu Sans Mono',consolas,'Courier New',monospace\">\n",
       "<span style=\"color: #800080; text-decoration-color: #800080; font-weight: bold\">tensor</span><span style=\"font-weight: bold\">([[[</span> <span style=\"color: #008080; text-decoration-color: #008080; font-weight: bold\">0</span>,  <span style=\"color: #008080; text-decoration-color: #008080; font-weight: bold\">1</span><span style=\"font-weight: bold\">]</span>,\n",
       "         <span style=\"font-weight: bold\">[</span> <span style=\"color: #008080; text-decoration-color: #008080; font-weight: bold\">2</span>,  <span style=\"color: #008080; text-decoration-color: #008080; font-weight: bold\">3</span><span style=\"font-weight: bold\">]</span>,\n",
       "         <span style=\"font-weight: bold\">[</span> <span style=\"color: #008080; text-decoration-color: #008080; font-weight: bold\">4</span>,  <span style=\"color: #008080; text-decoration-color: #008080; font-weight: bold\">5</span><span style=\"font-weight: bold\">]]</span>,\n",
       "\n",
       "        <span style=\"font-weight: bold\">[[</span> <span style=\"color: #008080; text-decoration-color: #008080; font-weight: bold\">6</span>,  <span style=\"color: #008080; text-decoration-color: #008080; font-weight: bold\">7</span><span style=\"font-weight: bold\">]</span>,\n",
       "         <span style=\"font-weight: bold\">[</span> <span style=\"color: #008080; text-decoration-color: #008080; font-weight: bold\">8</span>,  <span style=\"color: #008080; text-decoration-color: #008080; font-weight: bold\">9</span><span style=\"font-weight: bold\">]</span>,\n",
       "         <span style=\"font-weight: bold\">[</span><span style=\"color: #008080; text-decoration-color: #008080; font-weight: bold\">10</span>, <span style=\"color: #008080; text-decoration-color: #008080; font-weight: bold\">11</span><span style=\"font-weight: bold\">]]</span>,\n",
       "\n",
       "        <span style=\"font-weight: bold\">[[</span><span style=\"color: #008080; text-decoration-color: #008080; font-weight: bold\">12</span>, <span style=\"color: #008080; text-decoration-color: #008080; font-weight: bold\">13</span><span style=\"font-weight: bold\">]</span>,\n",
       "         <span style=\"font-weight: bold\">[</span><span style=\"color: #008080; text-decoration-color: #008080; font-weight: bold\">14</span>, <span style=\"color: #008080; text-decoration-color: #008080; font-weight: bold\">15</span><span style=\"font-weight: bold\">]</span>,\n",
       "         <span style=\"font-weight: bold\">[</span><span style=\"color: #008080; text-decoration-color: #008080; font-weight: bold\">16</span>, <span style=\"color: #008080; text-decoration-color: #008080; font-weight: bold\">17</span><span style=\"font-weight: bold\">]]])</span>\n",
       "</pre>\n"
      ],
      "text/plain": [
       "\n",
       "\u001b[1;35mtensor\u001b[0m\u001b[1m(\u001b[0m\u001b[1m[\u001b[0m\u001b[1m[\u001b[0m\u001b[1m[\u001b[0m \u001b[1;36m0\u001b[0m,  \u001b[1;36m1\u001b[0m\u001b[1m]\u001b[0m,\n",
       "         \u001b[1m[\u001b[0m \u001b[1;36m2\u001b[0m,  \u001b[1;36m3\u001b[0m\u001b[1m]\u001b[0m,\n",
       "         \u001b[1m[\u001b[0m \u001b[1;36m4\u001b[0m,  \u001b[1;36m5\u001b[0m\u001b[1m]\u001b[0m\u001b[1m]\u001b[0m,\n",
       "\n",
       "        \u001b[1m[\u001b[0m\u001b[1m[\u001b[0m \u001b[1;36m6\u001b[0m,  \u001b[1;36m7\u001b[0m\u001b[1m]\u001b[0m,\n",
       "         \u001b[1m[\u001b[0m \u001b[1;36m8\u001b[0m,  \u001b[1;36m9\u001b[0m\u001b[1m]\u001b[0m,\n",
       "         \u001b[1m[\u001b[0m\u001b[1;36m10\u001b[0m, \u001b[1;36m11\u001b[0m\u001b[1m]\u001b[0m\u001b[1m]\u001b[0m,\n",
       "\n",
       "        \u001b[1m[\u001b[0m\u001b[1m[\u001b[0m\u001b[1;36m12\u001b[0m, \u001b[1;36m13\u001b[0m\u001b[1m]\u001b[0m,\n",
       "         \u001b[1m[\u001b[0m\u001b[1;36m14\u001b[0m, \u001b[1;36m15\u001b[0m\u001b[1m]\u001b[0m,\n",
       "         \u001b[1m[\u001b[0m\u001b[1;36m16\u001b[0m, \u001b[1;36m17\u001b[0m\u001b[1m]\u001b[0m\u001b[1m]\u001b[0m\u001b[1m]\u001b[0m\u001b[1m)\u001b[0m\n"
      ]
     },
     "metadata": {},
     "output_type": "display_data"
    }
   ],
   "source": [
    "a.view(3, 3, 2)"
   ]
  },
  {
   "cell_type": "code",
   "execution_count": 116,
   "id": "84800bba",
   "metadata": {},
   "outputs": [
    {
     "data": {
      "text/html": [
       "<pre style=\"white-space:pre;overflow-x:auto;line-height:normal;font-family:Menlo,'DejaVu Sans Mono',consolas,'Courier New',monospace\">\n",
       " <span style=\"color: #008080; text-decoration-color: #008080; font-weight: bold\">0</span>\n",
       " <span style=\"color: #008080; text-decoration-color: #008080; font-weight: bold\">1</span>\n",
       " <span style=\"color: #008080; text-decoration-color: #008080; font-weight: bold\">2</span>\n",
       " <span style=\"color: #008080; text-decoration-color: #008080; font-weight: bold\">3</span>\n",
       " <span style=\"color: #008080; text-decoration-color: #008080; font-weight: bold\">4</span>\n",
       " <span style=\"color: #008080; text-decoration-color: #008080; font-weight: bold\">5</span>\n",
       " <span style=\"color: #008080; text-decoration-color: #008080; font-weight: bold\">6</span>\n",
       " <span style=\"color: #008080; text-decoration-color: #008080; font-weight: bold\">7</span>\n",
       " <span style=\"color: #008080; text-decoration-color: #008080; font-weight: bold\">8</span>\n",
       " <span style=\"color: #008080; text-decoration-color: #008080; font-weight: bold\">9</span>\n",
       " <span style=\"color: #008080; text-decoration-color: #008080; font-weight: bold\">10</span>\n",
       " <span style=\"color: #008080; text-decoration-color: #008080; font-weight: bold\">11</span>\n",
       " <span style=\"color: #008080; text-decoration-color: #008080; font-weight: bold\">12</span>\n",
       " <span style=\"color: #008080; text-decoration-color: #008080; font-weight: bold\">13</span>\n",
       " <span style=\"color: #008080; text-decoration-color: #008080; font-weight: bold\">14</span>\n",
       " <span style=\"color: #008080; text-decoration-color: #008080; font-weight: bold\">15</span>\n",
       " <span style=\"color: #008080; text-decoration-color: #008080; font-weight: bold\">16</span>\n",
       " <span style=\"color: #008080; text-decoration-color: #008080; font-weight: bold\">17</span>\n",
       "<span style=\"font-weight: bold\">[</span><span style=\"color: #800080; text-decoration-color: #800080; font-weight: bold\">torch.storage.TypedStorage</span><span style=\"font-weight: bold\">(</span><span style=\"color: #808000; text-decoration-color: #808000\">dtype</span>=<span style=\"color: #800080; text-decoration-color: #800080\">torch</span>.int64, <span style=\"color: #808000; text-decoration-color: #808000\">device</span>=<span style=\"color: #800080; text-decoration-color: #800080\">cpu</span><span style=\"font-weight: bold\">)</span> of size <span style=\"color: #008080; text-decoration-color: #008080; font-weight: bold\">18</span><span style=\"font-weight: bold\">]</span>\n",
       "</pre>\n"
      ],
      "text/plain": [
       "\n",
       " \u001b[1;36m0\u001b[0m\n",
       " \u001b[1;36m1\u001b[0m\n",
       " \u001b[1;36m2\u001b[0m\n",
       " \u001b[1;36m3\u001b[0m\n",
       " \u001b[1;36m4\u001b[0m\n",
       " \u001b[1;36m5\u001b[0m\n",
       " \u001b[1;36m6\u001b[0m\n",
       " \u001b[1;36m7\u001b[0m\n",
       " \u001b[1;36m8\u001b[0m\n",
       " \u001b[1;36m9\u001b[0m\n",
       " \u001b[1;36m10\u001b[0m\n",
       " \u001b[1;36m11\u001b[0m\n",
       " \u001b[1;36m12\u001b[0m\n",
       " \u001b[1;36m13\u001b[0m\n",
       " \u001b[1;36m14\u001b[0m\n",
       " \u001b[1;36m15\u001b[0m\n",
       " \u001b[1;36m16\u001b[0m\n",
       " \u001b[1;36m17\u001b[0m\n",
       "\u001b[1m[\u001b[0m\u001b[1;35mtorch.storage.TypedStorage\u001b[0m\u001b[1m(\u001b[0m\u001b[33mdtype\u001b[0m=\u001b[35mtorch\u001b[0m.int64, \u001b[33mdevice\u001b[0m=\u001b[35mcpu\u001b[0m\u001b[1m)\u001b[0m of size \u001b[1;36m18\u001b[0m\u001b[1m]\u001b[0m\n"
      ]
     },
     "metadata": {},
     "output_type": "display_data"
    }
   ],
   "source": [
    "a.storage()"
   ]
  },
  {
   "cell_type": "code",
   "execution_count": 117,
   "id": "0a0cd0f3",
   "metadata": {},
   "outputs": [
    {
     "data": {
      "text/html": [
       "<pre style=\"white-space:pre;overflow-x:auto;line-height:normal;font-family:Menlo,'DejaVu Sans Mono',consolas,'Courier New',monospace\"><span style=\"color: #800080; text-decoration-color: #800080; font-weight: bold\">torch.Size</span><span style=\"font-weight: bold\">([</span><span style=\"color: #008080; text-decoration-color: #008080; font-weight: bold\">12</span>, <span style=\"color: #008080; text-decoration-color: #008080; font-weight: bold\">3</span>, <span style=\"color: #008080; text-decoration-color: #008080; font-weight: bold\">2</span><span style=\"font-weight: bold\">])</span>\n",
       "</pre>\n"
      ],
      "text/plain": [
       "\u001b[1;35mtorch.Size\u001b[0m\u001b[1m(\u001b[0m\u001b[1m[\u001b[0m\u001b[1;36m12\u001b[0m, \u001b[1;36m3\u001b[0m, \u001b[1;36m2\u001b[0m\u001b[1m]\u001b[0m\u001b[1m)\u001b[0m\n"
      ]
     },
     "metadata": {},
     "output_type": "display_data"
    }
   ],
   "source": [
    "emb.shape"
   ]
  },
  {
   "cell_type": "code",
   "execution_count": 118,
   "id": "5476dd27",
   "metadata": {},
   "outputs": [
    {
     "data": {
      "text/html": [
       "<pre style=\"white-space:pre;overflow-x:auto;line-height:normal;font-family:Menlo,'DejaVu Sans Mono',consolas,'Courier New',monospace\">\n",
       "<span style=\"color: #800080; text-decoration-color: #800080; font-weight: bold\">tensor</span><span style=\"font-weight: bold\">([[</span><span style=\"color: #008080; text-decoration-color: #008080; font-weight: bold\">-1.7749</span>,  <span style=\"color: #008080; text-decoration-color: #008080; font-weight: bold\">0.4311</span>, <span style=\"color: #008080; text-decoration-color: #008080; font-weight: bold\">-1.7749</span>,  <span style=\"color: #008080; text-decoration-color: #008080; font-weight: bold\">0.4311</span>, <span style=\"color: #008080; text-decoration-color: #008080; font-weight: bold\">-1.7749</span>,  <span style=\"color: #008080; text-decoration-color: #008080; font-weight: bold\">0.4311</span><span style=\"font-weight: bold\">]</span>,\n",
       "        <span style=\"font-weight: bold\">[</span><span style=\"color: #008080; text-decoration-color: #008080; font-weight: bold\">-1.7749</span>,  <span style=\"color: #008080; text-decoration-color: #008080; font-weight: bold\">0.4311</span>, <span style=\"color: #008080; text-decoration-color: #008080; font-weight: bold\">-1.7749</span>,  <span style=\"color: #008080; text-decoration-color: #008080; font-weight: bold\">0.4311</span>,  <span style=\"color: #008080; text-decoration-color: #008080; font-weight: bold\">1.8403</span>, <span style=\"color: #008080; text-decoration-color: #008080; font-weight: bold\">-0.2517</span><span style=\"font-weight: bold\">]</span>,\n",
       "        <span style=\"font-weight: bold\">[</span><span style=\"color: #008080; text-decoration-color: #008080; font-weight: bold\">-1.7749</span>,  <span style=\"color: #008080; text-decoration-color: #008080; font-weight: bold\">0.4311</span>,  <span style=\"color: #008080; text-decoration-color: #008080; font-weight: bold\">1.8403</span>, <span style=\"color: #008080; text-decoration-color: #008080; font-weight: bold\">-0.2517</span>, <span style=\"color: #008080; text-decoration-color: #008080; font-weight: bold\">-1.0854</span>, <span style=\"color: #008080; text-decoration-color: #008080; font-weight: bold\">-0.0892</span><span style=\"font-weight: bold\">]</span>,\n",
       "        <span style=\"font-weight: bold\">[</span> <span style=\"color: #008080; text-decoration-color: #008080; font-weight: bold\">1.8403</span>, <span style=\"color: #008080; text-decoration-color: #008080; font-weight: bold\">-0.2517</span>, <span style=\"color: #008080; text-decoration-color: #008080; font-weight: bold\">-1.0854</span>, <span style=\"color: #008080; text-decoration-color: #008080; font-weight: bold\">-0.0892</span>, <span style=\"color: #008080; text-decoration-color: #008080; font-weight: bold\">-1.0854</span>, <span style=\"color: #008080; text-decoration-color: #008080; font-weight: bold\">-0.0892</span><span style=\"font-weight: bold\">]</span>,\n",
       "        <span style=\"font-weight: bold\">[</span><span style=\"color: #008080; text-decoration-color: #008080; font-weight: bold\">-1.0854</span>, <span style=\"color: #008080; text-decoration-color: #008080; font-weight: bold\">-0.0892</span>, <span style=\"color: #008080; text-decoration-color: #008080; font-weight: bold\">-1.0854</span>, <span style=\"color: #008080; text-decoration-color: #008080; font-weight: bold\">-0.0892</span>,  <span style=\"color: #008080; text-decoration-color: #008080; font-weight: bold\">1.0820</span>, <span style=\"color: #008080; text-decoration-color: #008080; font-weight: bold\">-0.9515</span><span style=\"font-weight: bold\">]</span>,\n",
       "        <span style=\"font-weight: bold\">[</span><span style=\"color: #008080; text-decoration-color: #008080; font-weight: bold\">-1.7749</span>,  <span style=\"color: #008080; text-decoration-color: #008080; font-weight: bold\">0.4311</span>, <span style=\"color: #008080; text-decoration-color: #008080; font-weight: bold\">-1.7749</span>,  <span style=\"color: #008080; text-decoration-color: #008080; font-weight: bold\">0.4311</span>, <span style=\"color: #008080; text-decoration-color: #008080; font-weight: bold\">-1.7749</span>,  <span style=\"color: #008080; text-decoration-color: #008080; font-weight: bold\">0.4311</span><span style=\"font-weight: bold\">]</span>,\n",
       "        <span style=\"font-weight: bold\">[</span><span style=\"color: #008080; text-decoration-color: #008080; font-weight: bold\">-1.7749</span>,  <span style=\"color: #008080; text-decoration-color: #008080; font-weight: bold\">0.4311</span>, <span style=\"color: #008080; text-decoration-color: #008080; font-weight: bold\">-1.7749</span>,  <span style=\"color: #008080; text-decoration-color: #008080; font-weight: bold\">0.4311</span>,  <span style=\"color: #008080; text-decoration-color: #008080; font-weight: bold\">2.3032</span>, <span style=\"color: #008080; text-decoration-color: #008080; font-weight: bold\">-0.5847</span><span style=\"font-weight: bold\">]</span>,\n",
       "        <span style=\"font-weight: bold\">[</span><span style=\"color: #008080; text-decoration-color: #008080; font-weight: bold\">-1.7749</span>,  <span style=\"color: #008080; text-decoration-color: #008080; font-weight: bold\">0.4311</span>,  <span style=\"color: #008080; text-decoration-color: #008080; font-weight: bold\">2.3032</span>, <span style=\"color: #008080; text-decoration-color: #008080; font-weight: bold\">-0.5847</span>,  <span style=\"color: #008080; text-decoration-color: #008080; font-weight: bold\">1.3426</span>, <span style=\"color: #008080; text-decoration-color: #008080; font-weight: bold\">-0.2226</span><span style=\"font-weight: bold\">]</span>,\n",
       "        <span style=\"font-weight: bold\">[</span> <span style=\"color: #008080; text-decoration-color: #008080; font-weight: bold\">2.3032</span>, <span style=\"color: #008080; text-decoration-color: #008080; font-weight: bold\">-0.5847</span>,  <span style=\"color: #008080; text-decoration-color: #008080; font-weight: bold\">1.3426</span>, <span style=\"color: #008080; text-decoration-color: #008080; font-weight: bold\">-0.2226</span>, <span style=\"color: #008080; text-decoration-color: #008080; font-weight: bold\">-0.2682</span>, <span style=\"color: #008080; text-decoration-color: #008080; font-weight: bold\">-0.7152</span><span style=\"font-weight: bold\">]</span>,\n",
       "        <span style=\"font-weight: bold\">[</span> <span style=\"color: #008080; text-decoration-color: #008080; font-weight: bold\">1.3426</span>, <span style=\"color: #008080; text-decoration-color: #008080; font-weight: bold\">-0.2226</span>, <span style=\"color: #008080; text-decoration-color: #008080; font-weight: bold\">-0.2682</span>, <span style=\"color: #008080; text-decoration-color: #008080; font-weight: bold\">-0.7152</span>,  <span style=\"color: #008080; text-decoration-color: #008080; font-weight: bold\">0.8837</span>,  <span style=\"color: #008080; text-decoration-color: #008080; font-weight: bold\">0.7330</span><span style=\"font-weight: bold\">]</span>,\n",
       "        <span style=\"font-weight: bold\">[</span><span style=\"color: #008080; text-decoration-color: #008080; font-weight: bold\">-0.2682</span>, <span style=\"color: #008080; text-decoration-color: #008080; font-weight: bold\">-0.7152</span>,  <span style=\"color: #008080; text-decoration-color: #008080; font-weight: bold\">0.8837</span>,  <span style=\"color: #008080; text-decoration-color: #008080; font-weight: bold\">0.7330</span>, <span style=\"color: #008080; text-decoration-color: #008080; font-weight: bold\">-0.2682</span>, <span style=\"color: #008080; text-decoration-color: #008080; font-weight: bold\">-0.7152</span><span style=\"font-weight: bold\">]</span>,\n",
       "        <span style=\"font-weight: bold\">[</span> <span style=\"color: #008080; text-decoration-color: #008080; font-weight: bold\">0.8837</span>,  <span style=\"color: #008080; text-decoration-color: #008080; font-weight: bold\">0.7330</span>, <span style=\"color: #008080; text-decoration-color: #008080; font-weight: bold\">-0.2682</span>, <span style=\"color: #008080; text-decoration-color: #008080; font-weight: bold\">-0.7152</span>,  <span style=\"color: #008080; text-decoration-color: #008080; font-weight: bold\">1.0820</span>, <span style=\"color: #008080; text-decoration-color: #008080; font-weight: bold\">-0.9515</span><span style=\"font-weight: bold\">]])</span>\n",
       "</pre>\n"
      ],
      "text/plain": [
       "\n",
       "\u001b[1;35mtensor\u001b[0m\u001b[1m(\u001b[0m\u001b[1m[\u001b[0m\u001b[1m[\u001b[0m\u001b[1;36m-1.7749\u001b[0m,  \u001b[1;36m0.4311\u001b[0m, \u001b[1;36m-1.7749\u001b[0m,  \u001b[1;36m0.4311\u001b[0m, \u001b[1;36m-1.7749\u001b[0m,  \u001b[1;36m0.4311\u001b[0m\u001b[1m]\u001b[0m,\n",
       "        \u001b[1m[\u001b[0m\u001b[1;36m-1.7749\u001b[0m,  \u001b[1;36m0.4311\u001b[0m, \u001b[1;36m-1.7749\u001b[0m,  \u001b[1;36m0.4311\u001b[0m,  \u001b[1;36m1.8403\u001b[0m, \u001b[1;36m-0.2517\u001b[0m\u001b[1m]\u001b[0m,\n",
       "        \u001b[1m[\u001b[0m\u001b[1;36m-1.7749\u001b[0m,  \u001b[1;36m0.4311\u001b[0m,  \u001b[1;36m1.8403\u001b[0m, \u001b[1;36m-0.2517\u001b[0m, \u001b[1;36m-1.0854\u001b[0m, \u001b[1;36m-0.0892\u001b[0m\u001b[1m]\u001b[0m,\n",
       "        \u001b[1m[\u001b[0m \u001b[1;36m1.8403\u001b[0m, \u001b[1;36m-0.2517\u001b[0m, \u001b[1;36m-1.0854\u001b[0m, \u001b[1;36m-0.0892\u001b[0m, \u001b[1;36m-1.0854\u001b[0m, \u001b[1;36m-0.0892\u001b[0m\u001b[1m]\u001b[0m,\n",
       "        \u001b[1m[\u001b[0m\u001b[1;36m-1.0854\u001b[0m, \u001b[1;36m-0.0892\u001b[0m, \u001b[1;36m-1.0854\u001b[0m, \u001b[1;36m-0.0892\u001b[0m,  \u001b[1;36m1.0820\u001b[0m, \u001b[1;36m-0.9515\u001b[0m\u001b[1m]\u001b[0m,\n",
       "        \u001b[1m[\u001b[0m\u001b[1;36m-1.7749\u001b[0m,  \u001b[1;36m0.4311\u001b[0m, \u001b[1;36m-1.7749\u001b[0m,  \u001b[1;36m0.4311\u001b[0m, \u001b[1;36m-1.7749\u001b[0m,  \u001b[1;36m0.4311\u001b[0m\u001b[1m]\u001b[0m,\n",
       "        \u001b[1m[\u001b[0m\u001b[1;36m-1.7749\u001b[0m,  \u001b[1;36m0.4311\u001b[0m, \u001b[1;36m-1.7749\u001b[0m,  \u001b[1;36m0.4311\u001b[0m,  \u001b[1;36m2.3032\u001b[0m, \u001b[1;36m-0.5847\u001b[0m\u001b[1m]\u001b[0m,\n",
       "        \u001b[1m[\u001b[0m\u001b[1;36m-1.7749\u001b[0m,  \u001b[1;36m0.4311\u001b[0m,  \u001b[1;36m2.3032\u001b[0m, \u001b[1;36m-0.5847\u001b[0m,  \u001b[1;36m1.3426\u001b[0m, \u001b[1;36m-0.2226\u001b[0m\u001b[1m]\u001b[0m,\n",
       "        \u001b[1m[\u001b[0m \u001b[1;36m2.3032\u001b[0m, \u001b[1;36m-0.5847\u001b[0m,  \u001b[1;36m1.3426\u001b[0m, \u001b[1;36m-0.2226\u001b[0m, \u001b[1;36m-0.2682\u001b[0m, \u001b[1;36m-0.7152\u001b[0m\u001b[1m]\u001b[0m,\n",
       "        \u001b[1m[\u001b[0m \u001b[1;36m1.3426\u001b[0m, \u001b[1;36m-0.2226\u001b[0m, \u001b[1;36m-0.2682\u001b[0m, \u001b[1;36m-0.7152\u001b[0m,  \u001b[1;36m0.8837\u001b[0m,  \u001b[1;36m0.7330\u001b[0m\u001b[1m]\u001b[0m,\n",
       "        \u001b[1m[\u001b[0m\u001b[1;36m-0.2682\u001b[0m, \u001b[1;36m-0.7152\u001b[0m,  \u001b[1;36m0.8837\u001b[0m,  \u001b[1;36m0.7330\u001b[0m, \u001b[1;36m-0.2682\u001b[0m, \u001b[1;36m-0.7152\u001b[0m\u001b[1m]\u001b[0m,\n",
       "        \u001b[1m[\u001b[0m \u001b[1;36m0.8837\u001b[0m,  \u001b[1;36m0.7330\u001b[0m, \u001b[1;36m-0.2682\u001b[0m, \u001b[1;36m-0.7152\u001b[0m,  \u001b[1;36m1.0820\u001b[0m, \u001b[1;36m-0.9515\u001b[0m\u001b[1m]\u001b[0m\u001b[1m]\u001b[0m\u001b[1m)\u001b[0m\n"
      ]
     },
     "metadata": {},
     "output_type": "display_data"
    }
   ],
   "source": [
    "emb.view(12, 6)"
   ]
  },
  {
   "cell_type": "code",
   "execution_count": 119,
   "id": "0d616b1e",
   "metadata": {},
   "outputs": [
    {
     "data": {
      "text/html": [
       "<pre style=\"white-space:pre;overflow-x:auto;line-height:normal;font-family:Menlo,'DejaVu Sans Mono',consolas,'Courier New',monospace\"><span style=\"color: #00ff00; text-decoration-color: #00ff00; font-style: italic\">True</span>\n",
       "</pre>\n"
      ],
      "text/plain": [
       "\u001b[3;92mTrue\u001b[0m\n"
      ]
     },
     "metadata": {},
     "output_type": "display_data"
    }
   ],
   "source": [
    "torch.equal(emb.view(12, 6), torch.cat(torch.unbind(emb, 1), 1))"
   ]
  },
  {
   "cell_type": "markdown",
   "id": "63274eb7",
   "metadata": {},
   "source": [
    "#### Now lets multiply `emb` and `W1`"
   ]
  },
  {
   "cell_type": "code",
   "execution_count": 120,
   "id": "092a230c",
   "metadata": {},
   "outputs": [
    {
     "data": {
      "text/html": [
       "<pre style=\"white-space:pre;overflow-x:auto;line-height:normal;font-family:Menlo,'DejaVu Sans Mono',consolas,'Courier New',monospace\"><span style=\"color: #800080; text-decoration-color: #800080; font-weight: bold\">torch.Size</span><span style=\"font-weight: bold\">([</span><span style=\"color: #008080; text-decoration-color: #008080; font-weight: bold\">12</span>, <span style=\"color: #008080; text-decoration-color: #008080; font-weight: bold\">100</span><span style=\"font-weight: bold\">])</span>\n",
       "</pre>\n"
      ],
      "text/plain": [
       "\u001b[1;35mtorch.Size\u001b[0m\u001b[1m(\u001b[0m\u001b[1m[\u001b[0m\u001b[1;36m12\u001b[0m, \u001b[1;36m100\u001b[0m\u001b[1m]\u001b[0m\u001b[1m)\u001b[0m\n"
      ]
     },
     "metadata": {},
     "output_type": "display_data"
    }
   ],
   "source": [
    "h = emb.view(12, 6) @ W1 + b1\n",
    "h.shape"
   ]
  },
  {
   "cell_type": "code",
   "execution_count": 121,
   "id": "6127e4da",
   "metadata": {},
   "outputs": [
    {
     "data": {
      "text/html": [
       "<pre style=\"white-space:pre;overflow-x:auto;line-height:normal;font-family:Menlo,'DejaVu Sans Mono',consolas,'Courier New',monospace\"><span style=\"color: #800080; text-decoration-color: #800080; font-weight: bold\">torch.Size</span><span style=\"font-weight: bold\">([</span><span style=\"color: #008080; text-decoration-color: #008080; font-weight: bold\">12</span>, <span style=\"color: #008080; text-decoration-color: #008080; font-weight: bold\">100</span><span style=\"font-weight: bold\">])</span>\n",
       "</pre>\n"
      ],
      "text/plain": [
       "\u001b[1;35mtorch.Size\u001b[0m\u001b[1m(\u001b[0m\u001b[1m[\u001b[0m\u001b[1;36m12\u001b[0m, \u001b[1;36m100\u001b[0m\u001b[1m]\u001b[0m\u001b[1m)\u001b[0m\n"
      ]
     },
     "metadata": {},
     "output_type": "display_data"
    }
   ],
   "source": [
    "h = emb.view(emb.shape[0], 6) @ W1  + b1\n",
    "h.shape"
   ]
  },
  {
   "cell_type": "code",
   "execution_count": 122,
   "id": "04933ca7",
   "metadata": {},
   "outputs": [],
   "source": [
    "h = torch.tanh(emb.view(-1, 6) @ W1 + b1)"
   ]
  },
  {
   "cell_type": "code",
   "execution_count": 123,
   "id": "d623116b",
   "metadata": {},
   "outputs": [
    {
     "data": {
      "text/html": [
       "<pre style=\"white-space:pre;overflow-x:auto;line-height:normal;font-family:Menlo,'DejaVu Sans Mono',consolas,'Courier New',monospace\">\n",
       "<span style=\"color: #800080; text-decoration-color: #800080; font-weight: bold\">tensor</span><span style=\"font-weight: bold\">([[</span><span style=\"color: #008080; text-decoration-color: #008080; font-weight: bold\">-0.9971</span>, <span style=\"color: #008080; text-decoration-color: #008080; font-weight: bold\">-0.7555</span>, <span style=\"color: #008080; text-decoration-color: #008080; font-weight: bold\">-0.9956</span>,  <span style=\"color: #808000; text-decoration-color: #808000\">...</span>, <span style=\"color: #008080; text-decoration-color: #008080; font-weight: bold\">-0.9987</span>,  <span style=\"color: #008080; text-decoration-color: #008080; font-weight: bold\">0.9074</span>,  <span style=\"color: #008080; text-decoration-color: #008080; font-weight: bold\">0.9996</span><span style=\"font-weight: bold\">]</span>,\n",
       "        <span style=\"font-weight: bold\">[</span><span style=\"color: #008080; text-decoration-color: #008080; font-weight: bold\">-0.9977</span>, <span style=\"color: #008080; text-decoration-color: #008080; font-weight: bold\">-0.3236</span>, <span style=\"color: #008080; text-decoration-color: #008080; font-weight: bold\">-0.9999</span>,  <span style=\"color: #808000; text-decoration-color: #808000\">...</span>,  <span style=\"color: #008080; text-decoration-color: #008080; font-weight: bold\">0.1293</span>, <span style=\"color: #008080; text-decoration-color: #008080; font-weight: bold\">-0.0343</span>,  <span style=\"color: #008080; text-decoration-color: #008080; font-weight: bold\">0.1881</span><span style=\"font-weight: bold\">]</span>,\n",
       "        <span style=\"font-weight: bold\">[</span><span style=\"color: #008080; text-decoration-color: #008080; font-weight: bold\">-0.7903</span>, <span style=\"color: #008080; text-decoration-color: #008080; font-weight: bold\">-1.0000</span>,  <span style=\"color: #008080; text-decoration-color: #008080; font-weight: bold\">0.9941</span>,  <span style=\"color: #808000; text-decoration-color: #808000\">...</span>, <span style=\"color: #008080; text-decoration-color: #008080; font-weight: bold\">-0.9909</span>,  <span style=\"color: #008080; text-decoration-color: #008080; font-weight: bold\">0.9837</span>, <span style=\"color: #008080; text-decoration-color: #008080; font-weight: bold\">-0.3976</span><span style=\"font-weight: bold\">]</span>,\n",
       "        <span style=\"color: #808000; text-decoration-color: #808000\">...</span>,\n",
       "        <span style=\"font-weight: bold\">[</span> <span style=\"color: #008080; text-decoration-color: #008080; font-weight: bold\">0.7908</span>,  <span style=\"color: #008080; text-decoration-color: #008080; font-weight: bold\">0.9835</span>, <span style=\"color: #008080; text-decoration-color: #008080; font-weight: bold\">-0.0045</span>,  <span style=\"color: #808000; text-decoration-color: #808000\">...</span>,  <span style=\"color: #008080; text-decoration-color: #008080; font-weight: bold\">0.9479</span>,  <span style=\"color: #008080; text-decoration-color: #008080; font-weight: bold\">0.9952</span>, <span style=\"color: #008080; text-decoration-color: #008080; font-weight: bold\">-0.8991</span><span style=\"font-weight: bold\">]</span>,\n",
       "        <span style=\"font-weight: bold\">[</span> <span style=\"color: #008080; text-decoration-color: #008080; font-weight: bold\">0.4927</span>, <span style=\"color: #008080; text-decoration-color: #008080; font-weight: bold\">-0.9203</span>,  <span style=\"color: #008080; text-decoration-color: #008080; font-weight: bold\">0.6918</span>,  <span style=\"color: #808000; text-decoration-color: #808000\">...</span>,  <span style=\"color: #008080; text-decoration-color: #008080; font-weight: bold\">0.9571</span>,  <span style=\"color: #008080; text-decoration-color: #008080; font-weight: bold\">0.5090</span>,  <span style=\"color: #008080; text-decoration-color: #008080; font-weight: bold\">0.9262</span><span style=\"font-weight: bold\">]</span>,\n",
       "        <span style=\"font-weight: bold\">[</span> <span style=\"color: #008080; text-decoration-color: #008080; font-weight: bold\">0.8617</span>,  <span style=\"color: #008080; text-decoration-color: #008080; font-weight: bold\">0.9699</span>, <span style=\"color: #008080; text-decoration-color: #008080; font-weight: bold\">-0.3373</span>,  <span style=\"color: #808000; text-decoration-color: #808000\">...</span>,  <span style=\"color: #008080; text-decoration-color: #008080; font-weight: bold\">0.9915</span>,  <span style=\"color: #008080; text-decoration-color: #008080; font-weight: bold\">0.8434</span>, <span style=\"color: #008080; text-decoration-color: #008080; font-weight: bold\">-0.9987</span><span style=\"font-weight: bold\">]])</span>\n",
       "</pre>\n"
      ],
      "text/plain": [
       "\n",
       "\u001b[1;35mtensor\u001b[0m\u001b[1m(\u001b[0m\u001b[1m[\u001b[0m\u001b[1m[\u001b[0m\u001b[1;36m-0.9971\u001b[0m, \u001b[1;36m-0.7555\u001b[0m, \u001b[1;36m-0.9956\u001b[0m,  \u001b[33m...\u001b[0m, \u001b[1;36m-0.9987\u001b[0m,  \u001b[1;36m0.9074\u001b[0m,  \u001b[1;36m0.9996\u001b[0m\u001b[1m]\u001b[0m,\n",
       "        \u001b[1m[\u001b[0m\u001b[1;36m-0.9977\u001b[0m, \u001b[1;36m-0.3236\u001b[0m, \u001b[1;36m-0.9999\u001b[0m,  \u001b[33m...\u001b[0m,  \u001b[1;36m0.1293\u001b[0m, \u001b[1;36m-0.0343\u001b[0m,  \u001b[1;36m0.1881\u001b[0m\u001b[1m]\u001b[0m,\n",
       "        \u001b[1m[\u001b[0m\u001b[1;36m-0.7903\u001b[0m, \u001b[1;36m-1.0000\u001b[0m,  \u001b[1;36m0.9941\u001b[0m,  \u001b[33m...\u001b[0m, \u001b[1;36m-0.9909\u001b[0m,  \u001b[1;36m0.9837\u001b[0m, \u001b[1;36m-0.3976\u001b[0m\u001b[1m]\u001b[0m,\n",
       "        \u001b[33m...\u001b[0m,\n",
       "        \u001b[1m[\u001b[0m \u001b[1;36m0.7908\u001b[0m,  \u001b[1;36m0.9835\u001b[0m, \u001b[1;36m-0.0045\u001b[0m,  \u001b[33m...\u001b[0m,  \u001b[1;36m0.9479\u001b[0m,  \u001b[1;36m0.9952\u001b[0m, \u001b[1;36m-0.8991\u001b[0m\u001b[1m]\u001b[0m,\n",
       "        \u001b[1m[\u001b[0m \u001b[1;36m0.4927\u001b[0m, \u001b[1;36m-0.9203\u001b[0m,  \u001b[1;36m0.6918\u001b[0m,  \u001b[33m...\u001b[0m,  \u001b[1;36m0.9571\u001b[0m,  \u001b[1;36m0.5090\u001b[0m,  \u001b[1;36m0.9262\u001b[0m\u001b[1m]\u001b[0m,\n",
       "        \u001b[1m[\u001b[0m \u001b[1;36m0.8617\u001b[0m,  \u001b[1;36m0.9699\u001b[0m, \u001b[1;36m-0.3373\u001b[0m,  \u001b[33m...\u001b[0m,  \u001b[1;36m0.9915\u001b[0m,  \u001b[1;36m0.8434\u001b[0m, \u001b[1;36m-0.9987\u001b[0m\u001b[1m]\u001b[0m\u001b[1m]\u001b[0m\u001b[1m)\u001b[0m\n"
      ]
     },
     "metadata": {},
     "output_type": "display_data"
    }
   ],
   "source": [
    "h"
   ]
  },
  {
   "cell_type": "code",
   "execution_count": 124,
   "id": "93a1f920",
   "metadata": {},
   "outputs": [
    {
     "data": {
      "text/html": [
       "<pre style=\"white-space:pre;overflow-x:auto;line-height:normal;font-family:Menlo,'DejaVu Sans Mono',consolas,'Courier New',monospace\"><span style=\"color: #800080; text-decoration-color: #800080; font-weight: bold\">torch.Size</span><span style=\"font-weight: bold\">([</span><span style=\"color: #008080; text-decoration-color: #008080; font-weight: bold\">12</span>, <span style=\"color: #008080; text-decoration-color: #008080; font-weight: bold\">100</span><span style=\"font-weight: bold\">])</span>\n",
       "</pre>\n"
      ],
      "text/plain": [
       "\u001b[1;35mtorch.Size\u001b[0m\u001b[1m(\u001b[0m\u001b[1m[\u001b[0m\u001b[1;36m12\u001b[0m, \u001b[1;36m100\u001b[0m\u001b[1m]\u001b[0m\u001b[1m)\u001b[0m\n"
      ]
     },
     "metadata": {},
     "output_type": "display_data"
    }
   ],
   "source": [
    "h.shape"
   ]
  },
  {
   "cell_type": "markdown",
   "id": "a2fba313",
   "metadata": {},
   "source": [
    "#### Deconstruct the addition of `emb.view(-1, 6) @ W1` and `b1` : Broadcasting"
   ]
  },
  {
   "cell_type": "code",
   "execution_count": 125,
   "id": "37083b11",
   "metadata": {},
   "outputs": [
    {
     "data": {
      "text/html": [
       "<pre style=\"white-space:pre;overflow-x:auto;line-height:normal;font-family:Menlo,'DejaVu Sans Mono',consolas,'Courier New',monospace\"><span style=\"color: #800080; text-decoration-color: #800080; font-weight: bold\">torch.Size</span><span style=\"font-weight: bold\">([</span><span style=\"color: #008080; text-decoration-color: #008080; font-weight: bold\">12</span>, <span style=\"color: #008080; text-decoration-color: #008080; font-weight: bold\">100</span><span style=\"font-weight: bold\">])</span>\n",
       "</pre>\n"
      ],
      "text/plain": [
       "\u001b[1;35mtorch.Size\u001b[0m\u001b[1m(\u001b[0m\u001b[1m[\u001b[0m\u001b[1;36m12\u001b[0m, \u001b[1;36m100\u001b[0m\u001b[1m]\u001b[0m\u001b[1m)\u001b[0m\n"
      ]
     },
     "metadata": {},
     "output_type": "display_data"
    }
   ],
   "source": [
    "(emb.view(-1, 6) @ W1).shape"
   ]
  },
  {
   "cell_type": "code",
   "execution_count": 126,
   "id": "9bdbda96",
   "metadata": {},
   "outputs": [
    {
     "data": {
      "text/html": [
       "<pre style=\"white-space:pre;overflow-x:auto;line-height:normal;font-family:Menlo,'DejaVu Sans Mono',consolas,'Courier New',monospace\"><span style=\"color: #800080; text-decoration-color: #800080; font-weight: bold\">torch.Size</span><span style=\"font-weight: bold\">([</span><span style=\"color: #008080; text-decoration-color: #008080; font-weight: bold\">100</span><span style=\"font-weight: bold\">])</span>\n",
       "</pre>\n"
      ],
      "text/plain": [
       "\u001b[1;35mtorch.Size\u001b[0m\u001b[1m(\u001b[0m\u001b[1m[\u001b[0m\u001b[1;36m100\u001b[0m\u001b[1m]\u001b[0m\u001b[1m)\u001b[0m\n"
      ]
     },
     "metadata": {},
     "output_type": "display_data"
    }
   ],
   "source": [
    "b1.shape"
   ]
  },
  {
   "cell_type": "markdown",
   "id": "0e497584",
   "metadata": {},
   "source": [
    "Broadcasting\n",
    "\n",
    "- 12 by 100\n",
    "\n",
    "- 1   by 100\n",
    "\n",
    "Rowwise addition of `b1` to `(emb.view(-1, 6) @ W1)`"
   ]
  },
  {
   "cell_type": "markdown",
   "id": "ec57c3e0",
   "metadata": {},
   "source": [
    "## Output Layer"
   ]
  },
  {
   "cell_type": "code",
   "execution_count": 127,
   "id": "d034d496",
   "metadata": {},
   "outputs": [],
   "source": [
    "W2 = torch.randn((100, 27))\n",
    "b2 = torch.randn(27)"
   ]
  },
  {
   "cell_type": "code",
   "execution_count": 128,
   "id": "116816e5",
   "metadata": {},
   "outputs": [],
   "source": [
    "logits = h @ W2 + b2"
   ]
  },
  {
   "cell_type": "code",
   "execution_count": 129,
   "id": "ff864650",
   "metadata": {},
   "outputs": [
    {
     "data": {
      "text/html": [
       "<pre style=\"white-space:pre;overflow-x:auto;line-height:normal;font-family:Menlo,'DejaVu Sans Mono',consolas,'Courier New',monospace\"><span style=\"color: #800080; text-decoration-color: #800080; font-weight: bold\">torch.Size</span><span style=\"font-weight: bold\">([</span><span style=\"color: #008080; text-decoration-color: #008080; font-weight: bold\">12</span>, <span style=\"color: #008080; text-decoration-color: #008080; font-weight: bold\">27</span><span style=\"font-weight: bold\">])</span>\n",
       "</pre>\n"
      ],
      "text/plain": [
       "\u001b[1;35mtorch.Size\u001b[0m\u001b[1m(\u001b[0m\u001b[1m[\u001b[0m\u001b[1;36m12\u001b[0m, \u001b[1;36m27\u001b[0m\u001b[1m]\u001b[0m\u001b[1m)\u001b[0m\n"
      ]
     },
     "metadata": {},
     "output_type": "display_data"
    }
   ],
   "source": [
    "logits.shape"
   ]
  },
  {
   "cell_type": "code",
   "execution_count": 130,
   "id": "4b5812a6",
   "metadata": {},
   "outputs": [],
   "source": [
    "counts = logits.exp()"
   ]
  },
  {
   "cell_type": "code",
   "execution_count": 131,
   "id": "fa43ed21",
   "metadata": {},
   "outputs": [],
   "source": [
    "prob = counts/counts.sum(1, keepdims=True)"
   ]
  },
  {
   "cell_type": "code",
   "execution_count": 132,
   "id": "3784cd8d",
   "metadata": {},
   "outputs": [
    {
     "data": {
      "text/html": [
       "<pre style=\"white-space:pre;overflow-x:auto;line-height:normal;font-family:Menlo,'DejaVu Sans Mono',consolas,'Courier New',monospace\"><span style=\"color: #800080; text-decoration-color: #800080; font-weight: bold\">torch.Size</span><span style=\"font-weight: bold\">([</span><span style=\"color: #008080; text-decoration-color: #008080; font-weight: bold\">12</span>, <span style=\"color: #008080; text-decoration-color: #008080; font-weight: bold\">27</span><span style=\"font-weight: bold\">])</span>\n",
       "</pre>\n"
      ],
      "text/plain": [
       "\u001b[1;35mtorch.Size\u001b[0m\u001b[1m(\u001b[0m\u001b[1m[\u001b[0m\u001b[1;36m12\u001b[0m, \u001b[1;36m27\u001b[0m\u001b[1m]\u001b[0m\u001b[1m)\u001b[0m\n"
      ]
     },
     "metadata": {},
     "output_type": "display_data"
    }
   ],
   "source": [
    "prob.shape"
   ]
  },
  {
   "cell_type": "code",
   "execution_count": 133,
   "id": "12b6f565",
   "metadata": {},
   "outputs": [
    {
     "data": {
      "text/html": [
       "<pre style=\"white-space:pre;overflow-x:auto;line-height:normal;font-family:Menlo,'DejaVu Sans Mono',consolas,'Courier New',monospace\"><span style=\"color: #800080; text-decoration-color: #800080; font-weight: bold\">tensor</span><span style=\"font-weight: bold\">(</span><span style=\"color: #008080; text-decoration-color: #008080; font-weight: bold\">1</span>.<span style=\"font-weight: bold\">)</span>\n",
       "</pre>\n"
      ],
      "text/plain": [
       "\u001b[1;35mtensor\u001b[0m\u001b[1m(\u001b[0m\u001b[1;36m1\u001b[0m.\u001b[1m)\u001b[0m\n"
      ]
     },
     "metadata": {},
     "output_type": "display_data"
    }
   ],
   "source": [
    "prob[0].sum()"
   ]
  },
  {
   "cell_type": "code",
   "execution_count": 134,
   "id": "e8757d0a",
   "metadata": {},
   "outputs": [
    {
     "data": {
      "text/html": [
       "<pre style=\"white-space:pre;overflow-x:auto;line-height:normal;font-family:Menlo,'DejaVu Sans Mono',consolas,'Courier New',monospace\"><span style=\"color: #800080; text-decoration-color: #800080; font-weight: bold\">tensor</span><span style=\"font-weight: bold\">([</span> <span style=\"color: #008080; text-decoration-color: #008080; font-weight: bold\">0</span>,  <span style=\"color: #008080; text-decoration-color: #008080; font-weight: bold\">1</span>,  <span style=\"color: #008080; text-decoration-color: #008080; font-weight: bold\">2</span>,  <span style=\"color: #008080; text-decoration-color: #008080; font-weight: bold\">3</span>,  <span style=\"color: #008080; text-decoration-color: #008080; font-weight: bold\">4</span>,  <span style=\"color: #008080; text-decoration-color: #008080; font-weight: bold\">5</span>,  <span style=\"color: #008080; text-decoration-color: #008080; font-weight: bold\">6</span>,  <span style=\"color: #008080; text-decoration-color: #008080; font-weight: bold\">7</span>,  <span style=\"color: #008080; text-decoration-color: #008080; font-weight: bold\">8</span>,  <span style=\"color: #008080; text-decoration-color: #008080; font-weight: bold\">9</span>, <span style=\"color: #008080; text-decoration-color: #008080; font-weight: bold\">10</span>, <span style=\"color: #008080; text-decoration-color: #008080; font-weight: bold\">11</span><span style=\"font-weight: bold\">])</span>\n",
       "</pre>\n"
      ],
      "text/plain": [
       "\u001b[1;35mtensor\u001b[0m\u001b[1m(\u001b[0m\u001b[1m[\u001b[0m \u001b[1;36m0\u001b[0m,  \u001b[1;36m1\u001b[0m,  \u001b[1;36m2\u001b[0m,  \u001b[1;36m3\u001b[0m,  \u001b[1;36m4\u001b[0m,  \u001b[1;36m5\u001b[0m,  \u001b[1;36m6\u001b[0m,  \u001b[1;36m7\u001b[0m,  \u001b[1;36m8\u001b[0m,  \u001b[1;36m9\u001b[0m, \u001b[1;36m10\u001b[0m, \u001b[1;36m11\u001b[0m\u001b[1m]\u001b[0m\u001b[1m)\u001b[0m\n"
      ]
     },
     "metadata": {},
     "output_type": "display_data"
    }
   ],
   "source": [
    "torch.arange(12)"
   ]
  },
  {
   "cell_type": "code",
   "execution_count": 135,
   "id": "d2c939ed",
   "metadata": {},
   "outputs": [
    {
     "data": {
      "text/html": [
       "<pre style=\"white-space:pre;overflow-x:auto;line-height:normal;font-family:Menlo,'DejaVu Sans Mono',consolas,'Courier New',monospace\"><span style=\"color: #800080; text-decoration-color: #800080; font-weight: bold\">tensor</span><span style=\"font-weight: bold\">([</span> <span style=\"color: #008080; text-decoration-color: #008080; font-weight: bold\">5</span>, <span style=\"color: #008080; text-decoration-color: #008080; font-weight: bold\">13</span>, <span style=\"color: #008080; text-decoration-color: #008080; font-weight: bold\">13</span>,  <span style=\"color: #008080; text-decoration-color: #008080; font-weight: bold\">1</span>,  <span style=\"color: #008080; text-decoration-color: #008080; font-weight: bold\">0</span>, <span style=\"color: #008080; text-decoration-color: #008080; font-weight: bold\">15</span>, <span style=\"color: #008080; text-decoration-color: #008080; font-weight: bold\">12</span>,  <span style=\"color: #008080; text-decoration-color: #008080; font-weight: bold\">9</span>, <span style=\"color: #008080; text-decoration-color: #008080; font-weight: bold\">22</span>,  <span style=\"color: #008080; text-decoration-color: #008080; font-weight: bold\">9</span>,  <span style=\"color: #008080; text-decoration-color: #008080; font-weight: bold\">1</span>,  <span style=\"color: #008080; text-decoration-color: #008080; font-weight: bold\">0</span><span style=\"font-weight: bold\">])</span>\n",
       "</pre>\n"
      ],
      "text/plain": [
       "\u001b[1;35mtensor\u001b[0m\u001b[1m(\u001b[0m\u001b[1m[\u001b[0m \u001b[1;36m5\u001b[0m, \u001b[1;36m13\u001b[0m, \u001b[1;36m13\u001b[0m,  \u001b[1;36m1\u001b[0m,  \u001b[1;36m0\u001b[0m, \u001b[1;36m15\u001b[0m, \u001b[1;36m12\u001b[0m,  \u001b[1;36m9\u001b[0m, \u001b[1;36m22\u001b[0m,  \u001b[1;36m9\u001b[0m,  \u001b[1;36m1\u001b[0m,  \u001b[1;36m0\u001b[0m\u001b[1m]\u001b[0m\u001b[1m)\u001b[0m\n"
      ]
     },
     "metadata": {},
     "output_type": "display_data"
    }
   ],
   "source": [
    "Y"
   ]
  },
  {
   "cell_type": "code",
   "execution_count": 136,
   "id": "3b86ed23",
   "metadata": {},
   "outputs": [
    {
     "data": {
      "text/html": [
       "<pre style=\"white-space:pre;overflow-x:auto;line-height:normal;font-family:Menlo,'DejaVu Sans Mono',consolas,'Courier New',monospace\">\n",
       "<span style=\"color: #800080; text-decoration-color: #800080; font-weight: bold\">tensor</span><span style=\"font-weight: bold\">([</span><span style=\"color: #008080; text-decoration-color: #008080; font-weight: bold\">8.0526e-02</span>, <span style=\"color: #008080; text-decoration-color: #008080; font-weight: bold\">3.8984e-03</span>, <span style=\"color: #008080; text-decoration-color: #008080; font-weight: bold\">7.0498e-11</span>, <span style=\"color: #008080; text-decoration-color: #008080; font-weight: bold\">9.7839e-10</span>, <span style=\"color: #008080; text-decoration-color: #008080; font-weight: bold\">1.8278e-09</span>, <span style=\"color: #008080; text-decoration-color: #008080; font-weight: bold\">2.0743e-07</span>,\n",
       "        <span style=\"color: #008080; text-decoration-color: #008080; font-weight: bold\">2.8251e-10</span>, <span style=\"color: #008080; text-decoration-color: #008080; font-weight: bold\">4.8393e-04</span>, <span style=\"color: #008080; text-decoration-color: #008080; font-weight: bold\">4.0496e-07</span>, <span style=\"color: #008080; text-decoration-color: #008080; font-weight: bold\">3.4973e-10</span>, <span style=\"color: #008080; text-decoration-color: #008080; font-weight: bold\">3.5017e-10</span>, <span style=\"color: #008080; text-decoration-color: #008080; font-weight: bold\">1.3807e-01</span><span style=\"font-weight: bold\">])</span>\n",
       "</pre>\n"
      ],
      "text/plain": [
       "\n",
       "\u001b[1;35mtensor\u001b[0m\u001b[1m(\u001b[0m\u001b[1m[\u001b[0m\u001b[1;36m8.0526e-02\u001b[0m, \u001b[1;36m3.8984e-03\u001b[0m, \u001b[1;36m7.0498e-11\u001b[0m, \u001b[1;36m9.7839e-10\u001b[0m, \u001b[1;36m1.8278e-09\u001b[0m, \u001b[1;36m2.0743e-07\u001b[0m,\n",
       "        \u001b[1;36m2.8251e-10\u001b[0m, \u001b[1;36m4.8393e-04\u001b[0m, \u001b[1;36m4.0496e-07\u001b[0m, \u001b[1;36m3.4973e-10\u001b[0m, \u001b[1;36m3.5017e-10\u001b[0m, \u001b[1;36m1.3807e-01\u001b[0m\u001b[1m]\u001b[0m\u001b[1m)\u001b[0m\n"
      ]
     },
     "metadata": {},
     "output_type": "display_data"
    }
   ],
   "source": [
    "prob[torch.arange(12), Y]"
   ]
  },
  {
   "cell_type": "code",
   "execution_count": 137,
   "id": "e9cebb89",
   "metadata": {},
   "outputs": [
    {
     "data": {
      "text/html": [
       "<pre style=\"white-space:pre;overflow-x:auto;line-height:normal;font-family:Menlo,'DejaVu Sans Mono',consolas,'Courier New',monospace\"><span style=\"color: #800080; text-decoration-color: #800080; font-weight: bold\">tensor</span><span style=\"font-weight: bold\">(</span><span style=\"color: #008080; text-decoration-color: #008080; font-weight: bold\">14.7969</span><span style=\"font-weight: bold\">)</span>\n",
       "</pre>\n"
      ],
      "text/plain": [
       "\u001b[1;35mtensor\u001b[0m\u001b[1m(\u001b[0m\u001b[1;36m14.7969\u001b[0m\u001b[1m)\u001b[0m\n"
      ]
     },
     "metadata": {},
     "output_type": "display_data"
    }
   ],
   "source": [
    "loss = -prob[torch.arange(12), Y].log().mean()\n",
    "loss"
   ]
  },
  {
   "cell_type": "markdown",
   "id": "175c643b",
   "metadata": {},
   "source": [
    "## Summary of the Full Network"
   ]
  },
  {
   "cell_type": "code",
   "execution_count": 138,
   "id": "8f2d2551",
   "metadata": {},
   "outputs": [
    {
     "data": {
      "text/html": [
       "<pre style=\"white-space:pre;overflow-x:auto;line-height:normal;font-family:Menlo,'DejaVu Sans Mono',consolas,'Courier New',monospace\"><span style=\"font-weight: bold\">(</span><span style=\"color: #800080; text-decoration-color: #800080; font-weight: bold\">torch.Size</span><span style=\"font-weight: bold\">([</span><span style=\"color: #008080; text-decoration-color: #008080; font-weight: bold\">12</span>, <span style=\"color: #008080; text-decoration-color: #008080; font-weight: bold\">3</span><span style=\"font-weight: bold\">])</span>, <span style=\"color: #800080; text-decoration-color: #800080; font-weight: bold\">torch.Size</span><span style=\"font-weight: bold\">([</span><span style=\"color: #008080; text-decoration-color: #008080; font-weight: bold\">12</span><span style=\"font-weight: bold\">]))</span>\n",
       "</pre>\n"
      ],
      "text/plain": [
       "\u001b[1m(\u001b[0m\u001b[1;35mtorch.Size\u001b[0m\u001b[1m(\u001b[0m\u001b[1m[\u001b[0m\u001b[1;36m12\u001b[0m, \u001b[1;36m3\u001b[0m\u001b[1m]\u001b[0m\u001b[1m)\u001b[0m, \u001b[1;35mtorch.Size\u001b[0m\u001b[1m(\u001b[0m\u001b[1m[\u001b[0m\u001b[1;36m12\u001b[0m\u001b[1m]\u001b[0m\u001b[1m)\u001b[0m\u001b[1m)\u001b[0m\n"
      ]
     },
     "metadata": {},
     "output_type": "display_data"
    }
   ],
   "source": [
    "X.shape, Y.shape"
   ]
  },
  {
   "cell_type": "code",
   "execution_count": 139,
   "id": "30602c7a",
   "metadata": {},
   "outputs": [],
   "source": [
    "g = torch.Generator().manual_seed(42)\n",
    "C = torch.randn((27, 2), generator=g)\n",
    "W1 = torch.randn((6, 100), generator=g)\n",
    "b1 = torch.randn(100, generator=g)\n",
    "W2 = torch.randn((100, 27), generator=g)\n",
    "b2 = torch.randn(27, generator=g)\n",
    "parameters = [C, W1, b1, W2, b2]"
   ]
  },
  {
   "cell_type": "code",
   "execution_count": 140,
   "id": "9a84c46b",
   "metadata": {},
   "outputs": [
    {
     "data": {
      "text/html": [
       "<pre style=\"white-space:pre;overflow-x:auto;line-height:normal;font-family:Menlo,'DejaVu Sans Mono',consolas,'Courier New',monospace\"><span style=\"color: #008080; text-decoration-color: #008080; font-weight: bold\">3481</span>\n",
       "</pre>\n"
      ],
      "text/plain": [
       "\u001b[1;36m3481\u001b[0m\n"
      ]
     },
     "metadata": {},
     "output_type": "display_data"
    }
   ],
   "source": [
    "sum(p.nelement() for p in parameters)"
   ]
  },
  {
   "cell_type": "code",
   "execution_count": 141,
   "id": "88672a0a",
   "metadata": {},
   "outputs": [
    {
     "data": {
      "text/html": [
       "<pre style=\"white-space:pre;overflow-x:auto;line-height:normal;font-family:Menlo,'DejaVu Sans Mono',consolas,'Courier New',monospace\"><span style=\"color: #800080; text-decoration-color: #800080; font-weight: bold\">tensor</span><span style=\"font-weight: bold\">(</span><span style=\"color: #008080; text-decoration-color: #008080; font-weight: bold\">19.1366</span><span style=\"font-weight: bold\">)</span>\n",
       "</pre>\n"
      ],
      "text/plain": [
       "\u001b[1;35mtensor\u001b[0m\u001b[1m(\u001b[0m\u001b[1;36m19.1366\u001b[0m\u001b[1m)\u001b[0m\n"
      ]
     },
     "metadata": {},
     "output_type": "display_data"
    }
   ],
   "source": [
    "emb = C[X] # (32, 3, 2)\n",
    "h = torch.tanh(emb.view(-1, 6) @ W1 + b1)\n",
    "logits = h @ W2 + b2\n",
    "counts = logits.exp()\n",
    "prob = counts/counts.sum(1, keepdims=True)\n",
    "loss = -prob[torch.arange(12), Y].log().mean()\n",
    "loss"
   ]
  },
  {
   "cell_type": "markdown",
   "id": "a56e903c",
   "metadata": {},
   "source": [
    "## Introducting F.cross_entropy and why?"
   ]
  },
  {
   "cell_type": "code",
   "execution_count": 142,
   "id": "44e2e9c9",
   "metadata": {},
   "outputs": [
    {
     "data": {
      "text/html": [
       "<pre style=\"white-space:pre;overflow-x:auto;line-height:normal;font-family:Menlo,'DejaVu Sans Mono',consolas,'Courier New',monospace\"><span style=\"color: #800080; text-decoration-color: #800080; font-weight: bold\">tensor</span><span style=\"font-weight: bold\">(</span><span style=\"color: #008080; text-decoration-color: #008080; font-weight: bold\">19.1366</span><span style=\"font-weight: bold\">)</span>\n",
       "</pre>\n"
      ],
      "text/plain": [
       "\u001b[1;35mtensor\u001b[0m\u001b[1m(\u001b[0m\u001b[1;36m19.1366\u001b[0m\u001b[1m)\u001b[0m\n"
      ]
     },
     "metadata": {},
     "output_type": "display_data"
    }
   ],
   "source": [
    "F.cross_entropy(logits, Y)"
   ]
  },
  {
   "cell_type": "markdown",
   "id": "f9bccad5",
   "metadata": {},
   "source": [
    "### why?"
   ]
  },
  {
   "cell_type": "markdown",
   "id": "7eea4cc2",
   "metadata": {},
   "source": [
    "1. Pytorch does not create intermediate tensors for the following code\n",
    "<code>\n",
    "counts = logits.exp()\n",
    "prob = counts/counts.sum(1, keepdims=True)\n",
    "loss = -prob[torch.arange(12), Y].log().mean()\n",
    "</code>\n",
    "Instead it clusters up all the above operation and it efficiently computes \n",
    "\n",
    "\n",
    "2. Backward prop is efficient. Simple to implement\n",
    "\n",
    "\n",
    "3. It can numerically well behaved"
   ]
  },
  {
   "cell_type": "code",
   "execution_count": 143,
   "id": "90588a08",
   "metadata": {},
   "outputs": [
    {
     "data": {
      "text/html": [
       "<pre style=\"white-space:pre;overflow-x:auto;line-height:normal;font-family:Menlo,'DejaVu Sans Mono',consolas,'Courier New',monospace\"><span style=\"color: #800080; text-decoration-color: #800080; font-weight: bold\">tensor</span><span style=\"font-weight: bold\">([</span><span style=\"color: #008080; text-decoration-color: #008080; font-weight: bold\">9.0466e-04</span>, <span style=\"color: #008080; text-decoration-color: #008080; font-weight: bold\">3.3281e-04</span>, <span style=\"color: #008080; text-decoration-color: #008080; font-weight: bold\">6.6846e-03</span>, <span style=\"color: #008080; text-decoration-color: #008080; font-weight: bold\">9.9208e-01</span><span style=\"font-weight: bold\">])</span>\n",
       "</pre>\n"
      ],
      "text/plain": [
       "\u001b[1;35mtensor\u001b[0m\u001b[1m(\u001b[0m\u001b[1m[\u001b[0m\u001b[1;36m9.0466e-04\u001b[0m, \u001b[1;36m3.3281e-04\u001b[0m, \u001b[1;36m6.6846e-03\u001b[0m, \u001b[1;36m9.9208e-01\u001b[0m\u001b[1m]\u001b[0m\u001b[1m)\u001b[0m\n"
      ]
     },
     "metadata": {},
     "output_type": "display_data"
    }
   ],
   "source": [
    "logits = torch.tensor([-2, -3, 0, 5])\n",
    "counts = logits.exp()\n",
    "probs = counts / counts.sum()\n",
    "probs"
   ]
  },
  {
   "cell_type": "code",
   "execution_count": 144,
   "id": "5ef3df17",
   "metadata": {},
   "outputs": [
    {
     "data": {
      "text/html": [
       "<pre style=\"white-space:pre;overflow-x:auto;line-height:normal;font-family:Menlo,'DejaVu Sans Mono',consolas,'Courier New',monospace\"><span style=\"color: #800080; text-decoration-color: #800080; font-weight: bold\">tensor</span><span style=\"font-weight: bold\">([</span><span style=\"color: #008080; text-decoration-color: #008080; font-weight: bold\">0</span>., <span style=\"color: #008080; text-decoration-color: #008080; font-weight: bold\">0</span>., <span style=\"color: #008080; text-decoration-color: #008080; font-weight: bold\">0</span>., nan<span style=\"font-weight: bold\">])</span>\n",
       "</pre>\n"
      ],
      "text/plain": [
       "\u001b[1;35mtensor\u001b[0m\u001b[1m(\u001b[0m\u001b[1m[\u001b[0m\u001b[1;36m0\u001b[0m., \u001b[1;36m0\u001b[0m., \u001b[1;36m0\u001b[0m., nan\u001b[1m]\u001b[0m\u001b[1m)\u001b[0m\n"
      ]
     },
     "metadata": {},
     "output_type": "display_data"
    }
   ],
   "source": [
    "logits = torch.tensor([-100, -3, 0, 100])\n",
    "counts = logits.exp()\n",
    "probs = counts / counts.sum()\n",
    "probs"
   ]
  },
  {
   "cell_type": "code",
   "execution_count": 145,
   "id": "91b5666f",
   "metadata": {},
   "outputs": [
    {
     "data": {
      "text/html": [
       "<pre style=\"white-space:pre;overflow-x:auto;line-height:normal;font-family:Menlo,'DejaVu Sans Mono',consolas,'Courier New',monospace\"><span style=\"color: #800080; text-decoration-color: #800080; font-weight: bold\">tensor</span><span style=\"font-weight: bold\">([</span><span style=\"color: #008080; text-decoration-color: #008080; font-weight: bold\">3.7835e-44</span>, <span style=\"color: #008080; text-decoration-color: #008080; font-weight: bold\">4.9787e-02</span>, <span style=\"color: #008080; text-decoration-color: #008080; font-weight: bold\">1.0000e+00</span>,        inf<span style=\"font-weight: bold\">])</span>\n",
       "</pre>\n"
      ],
      "text/plain": [
       "\u001b[1;35mtensor\u001b[0m\u001b[1m(\u001b[0m\u001b[1m[\u001b[0m\u001b[1;36m3.7835e-44\u001b[0m, \u001b[1;36m4.9787e-02\u001b[0m, \u001b[1;36m1.0000e+00\u001b[0m,        inf\u001b[1m]\u001b[0m\u001b[1m)\u001b[0m\n"
      ]
     },
     "metadata": {},
     "output_type": "display_data"
    }
   ],
   "source": [
    "counts"
   ]
  },
  {
   "cell_type": "markdown",
   "id": "1a479068",
   "metadata": {},
   "source": [
    "As we can see the negative numbers are ok, but positive numbers can overflow the exp"
   ]
  },
  {
   "cell_type": "markdown",
   "id": "dbf41061",
   "metadata": {},
   "source": [
    "So pytorch internally offset the logits with maximum number"
   ]
  },
  {
   "cell_type": "code",
   "execution_count": 146,
   "id": "43eeb6a3",
   "metadata": {},
   "outputs": [
    {
     "data": {
      "text/html": [
       "<pre style=\"white-space:pre;overflow-x:auto;line-height:normal;font-family:Menlo,'DejaVu Sans Mono',consolas,'Courier New',monospace\"><span style=\"color: #800080; text-decoration-color: #800080; font-weight: bold\">tensor</span><span style=\"font-weight: bold\">([</span><span style=\"color: #008080; text-decoration-color: #008080; font-weight: bold\">0.0000e+00</span>, <span style=\"color: #008080; text-decoration-color: #008080; font-weight: bold\">1.4013e-45</span>, <span style=\"color: #008080; text-decoration-color: #008080; font-weight: bold\">3.7835e-44</span>, <span style=\"color: #008080; text-decoration-color: #008080; font-weight: bold\">1.0000e+00</span><span style=\"font-weight: bold\">])</span>\n",
       "</pre>\n"
      ],
      "text/plain": [
       "\u001b[1;35mtensor\u001b[0m\u001b[1m(\u001b[0m\u001b[1m[\u001b[0m\u001b[1;36m0.0000e+00\u001b[0m, \u001b[1;36m1.4013e-45\u001b[0m, \u001b[1;36m3.7835e-44\u001b[0m, \u001b[1;36m1.0000e+00\u001b[0m\u001b[1m]\u001b[0m\u001b[1m)\u001b[0m\n"
      ]
     },
     "metadata": {},
     "output_type": "display_data"
    }
   ],
   "source": [
    "logits = torch.tensor([-100, -3, 0, 100]) - 100\n",
    "counts = logits.exp()\n",
    "probs = counts / counts.sum()\n",
    "probs"
   ]
  },
  {
   "cell_type": "markdown",
   "id": "3233b9b9",
   "metadata": {},
   "source": [
    "so better to call `F.cross_entropy(logits, Y)`"
   ]
  },
  {
   "cell_type": "markdown",
   "id": "49ee9602",
   "metadata": {},
   "source": [
    "## Implementing the Training Loop, overfitting one batch"
   ]
  },
  {
   "cell_type": "code",
   "execution_count": 150,
   "id": "d8d2baf2",
   "metadata": {},
   "outputs": [],
   "source": [
    "for p in parameters: p.requires_grad = True "
   ]
  },
  {
   "cell_type": "code",
   "execution_count": 151,
   "id": "aed72b56",
   "metadata": {},
   "outputs": [
    {
     "data": {
      "text/html": [
       "<pre style=\"white-space:pre;overflow-x:auto;line-height:normal;font-family:Menlo,'DejaVu Sans Mono',consolas,'Courier New',monospace\"><span style=\"color: #008080; text-decoration-color: #008080; font-weight: bold\">19.136564254760742</span>\n",
       "</pre>\n"
      ],
      "text/plain": [
       "\u001b[1;36m19.136564254760742\u001b[0m\n"
      ]
     },
     "metadata": {},
     "output_type": "display_data"
    },
    {
     "data": {
      "text/html": [
       "<pre style=\"white-space:pre;overflow-x:auto;line-height:normal;font-family:Menlo,'DejaVu Sans Mono',consolas,'Courier New',monospace\"><span style=\"color: #008080; text-decoration-color: #008080; font-weight: bold\">13.381081581115723</span>\n",
       "</pre>\n"
      ],
      "text/plain": [
       "\u001b[1;36m13.381081581115723\u001b[0m\n"
      ]
     },
     "metadata": {},
     "output_type": "display_data"
    },
    {
     "data": {
      "text/html": [
       "<pre style=\"white-space:pre;overflow-x:auto;line-height:normal;font-family:Menlo,'DejaVu Sans Mono',consolas,'Courier New',monospace\"><span style=\"color: #008080; text-decoration-color: #008080; font-weight: bold\">9.38259220123291</span>\n",
       "</pre>\n"
      ],
      "text/plain": [
       "\u001b[1;36m9.38259220123291\u001b[0m\n"
      ]
     },
     "metadata": {},
     "output_type": "display_data"
    },
    {
     "data": {
      "text/html": [
       "<pre style=\"white-space:pre;overflow-x:auto;line-height:normal;font-family:Menlo,'DejaVu Sans Mono',consolas,'Courier New',monospace\"><span style=\"color: #008080; text-decoration-color: #008080; font-weight: bold\">6.92555570602417</span>\n",
       "</pre>\n"
      ],
      "text/plain": [
       "\u001b[1;36m6.92555570602417\u001b[0m\n"
      ]
     },
     "metadata": {},
     "output_type": "display_data"
    },
    {
     "data": {
      "text/html": [
       "<pre style=\"white-space:pre;overflow-x:auto;line-height:normal;font-family:Menlo,'DejaVu Sans Mono',consolas,'Courier New',monospace\"><span style=\"color: #008080; text-decoration-color: #008080; font-weight: bold\">4.83230447769165</span>\n",
       "</pre>\n"
      ],
      "text/plain": [
       "\u001b[1;36m4.83230447769165\u001b[0m\n"
      ]
     },
     "metadata": {},
     "output_type": "display_data"
    },
    {
     "data": {
      "text/html": [
       "<pre style=\"white-space:pre;overflow-x:auto;line-height:normal;font-family:Menlo,'DejaVu Sans Mono',consolas,'Courier New',monospace\"><span style=\"color: #008080; text-decoration-color: #008080; font-weight: bold\">3.4374144077301025</span>\n",
       "</pre>\n"
      ],
      "text/plain": [
       "\u001b[1;36m3.4374144077301025\u001b[0m\n"
      ]
     },
     "metadata": {},
     "output_type": "display_data"
    },
    {
     "data": {
      "text/html": [
       "<pre style=\"white-space:pre;overflow-x:auto;line-height:normal;font-family:Menlo,'DejaVu Sans Mono',consolas,'Courier New',monospace\"><span style=\"color: #008080; text-decoration-color: #008080; font-weight: bold\">2.392893075942993</span>\n",
       "</pre>\n"
      ],
      "text/plain": [
       "\u001b[1;36m2.392893075942993\u001b[0m\n"
      ]
     },
     "metadata": {},
     "output_type": "display_data"
    },
    {
     "data": {
      "text/html": [
       "<pre style=\"white-space:pre;overflow-x:auto;line-height:normal;font-family:Menlo,'DejaVu Sans Mono',consolas,'Courier New',monospace\"><span style=\"color: #008080; text-decoration-color: #008080; font-weight: bold\">1.488807201385498</span>\n",
       "</pre>\n"
      ],
      "text/plain": [
       "\u001b[1;36m1.488807201385498\u001b[0m\n"
      ]
     },
     "metadata": {},
     "output_type": "display_data"
    },
    {
     "data": {
      "text/html": [
       "<pre style=\"white-space:pre;overflow-x:auto;line-height:normal;font-family:Menlo,'DejaVu Sans Mono',consolas,'Courier New',monospace\"><span style=\"color: #008080; text-decoration-color: #008080; font-weight: bold\">0.9096290469169617</span>\n",
       "</pre>\n"
      ],
      "text/plain": [
       "\u001b[1;36m0.9096290469169617\u001b[0m\n"
      ]
     },
     "metadata": {},
     "output_type": "display_data"
    },
    {
     "data": {
      "text/html": [
       "<pre style=\"white-space:pre;overflow-x:auto;line-height:normal;font-family:Menlo,'DejaVu Sans Mono',consolas,'Courier New',monospace\"><span style=\"color: #008080; text-decoration-color: #008080; font-weight: bold\">0.6129968762397766</span>\n",
       "</pre>\n"
      ],
      "text/plain": [
       "\u001b[1;36m0.6129968762397766\u001b[0m\n"
      ]
     },
     "metadata": {},
     "output_type": "display_data"
    }
   ],
   "source": [
    "for _ in range(10):\n",
    "    # forward pass\n",
    "    emb = C[X] # (12, 3, 2)\n",
    "    h = torch.tanh(emb.view(-1, 6) @ W1 + b1)\n",
    "    logits = h @ W2 + b2 # (12, 27)\n",
    "    loss = F.cross_entropy(logits, Y)\n",
    "    print(loss.item())\n",
    "    # backward pass\n",
    "    for p in parameters:\n",
    "        p.grad= None\n",
    "    loss.backward()\n",
    "    \n",
    "    for p in parameters:\n",
    "        p.data += -0.1 * p.grad"
   ]
  },
  {
   "cell_type": "code",
   "execution_count": 152,
   "id": "d1b69f07",
   "metadata": {},
   "outputs": [
    {
     "data": {
      "text/html": [
       "<pre style=\"white-space:pre;overflow-x:auto;line-height:normal;font-family:Menlo,'DejaVu Sans Mono',consolas,'Courier New',monospace\">\n",
       "<span style=\"color: #800080; text-decoration-color: #800080; font-weight: bold\">torch.return_types.max</span><span style=\"font-weight: bold\">(</span>\n",
       "<span style=\"color: #808000; text-decoration-color: #808000\">values</span>=<span style=\"color: #800080; text-decoration-color: #800080; font-weight: bold\">tensor</span><span style=\"font-weight: bold\">([</span> <span style=\"color: #008080; text-decoration-color: #008080; font-weight: bold\">9.7356</span>, <span style=\"color: #008080; text-decoration-color: #008080; font-weight: bold\">13.5384</span>, <span style=\"color: #008080; text-decoration-color: #008080; font-weight: bold\">12.3221</span>, <span style=\"color: #008080; text-decoration-color: #008080; font-weight: bold\">12.4568</span>, <span style=\"color: #008080; text-decoration-color: #008080; font-weight: bold\">14.5028</span>,  <span style=\"color: #008080; text-decoration-color: #008080; font-weight: bold\">9.7356</span>, <span style=\"color: #008080; text-decoration-color: #008080; font-weight: bold\">10.2301</span>, <span style=\"color: #008080; text-decoration-color: #008080; font-weight: bold\">14.6009</span>,\n",
       "         <span style=\"color: #008080; text-decoration-color: #008080; font-weight: bold\">5.6935</span>, <span style=\"color: #008080; text-decoration-color: #008080; font-weight: bold\">15.5763</span>,  <span style=\"color: #008080; text-decoration-color: #008080; font-weight: bold\">5.5577</span>, <span style=\"color: #008080; text-decoration-color: #008080; font-weight: bold\">18.4309</span><span style=\"font-weight: bold\">]</span>, <span style=\"color: #808000; text-decoration-color: #808000\">grad_fn</span>=<span style=\"font-weight: bold\">&lt;</span><span style=\"color: #ff00ff; text-decoration-color: #ff00ff; font-weight: bold\">MaxBackward0</span><span style=\"font-weight: bold\">&gt;)</span>,\n",
       "<span style=\"color: #808000; text-decoration-color: #808000\">indices</span>=<span style=\"color: #800080; text-decoration-color: #800080; font-weight: bold\">tensor</span><span style=\"font-weight: bold\">([</span><span style=\"color: #008080; text-decoration-color: #008080; font-weight: bold\">15</span>, <span style=\"color: #008080; text-decoration-color: #008080; font-weight: bold\">13</span>, <span style=\"color: #008080; text-decoration-color: #008080; font-weight: bold\">13</span>,  <span style=\"color: #008080; text-decoration-color: #008080; font-weight: bold\">1</span>,  <span style=\"color: #008080; text-decoration-color: #008080; font-weight: bold\">0</span>, <span style=\"color: #008080; text-decoration-color: #008080; font-weight: bold\">15</span>, <span style=\"color: #008080; text-decoration-color: #008080; font-weight: bold\">12</span>,  <span style=\"color: #008080; text-decoration-color: #008080; font-weight: bold\">9</span>, <span style=\"color: #008080; text-decoration-color: #008080; font-weight: bold\">12</span>,  <span style=\"color: #008080; text-decoration-color: #008080; font-weight: bold\">9</span>,  <span style=\"color: #008080; text-decoration-color: #008080; font-weight: bold\">7</span>,  <span style=\"color: #008080; text-decoration-color: #008080; font-weight: bold\">0</span><span style=\"font-weight: bold\">]))</span>\n",
       "</pre>\n"
      ],
      "text/plain": [
       "\n",
       "\u001b[1;35mtorch.return_types.max\u001b[0m\u001b[1m(\u001b[0m\n",
       "\u001b[33mvalues\u001b[0m=\u001b[1;35mtensor\u001b[0m\u001b[1m(\u001b[0m\u001b[1m[\u001b[0m \u001b[1;36m9.7356\u001b[0m, \u001b[1;36m13.5384\u001b[0m, \u001b[1;36m12.3221\u001b[0m, \u001b[1;36m12.4568\u001b[0m, \u001b[1;36m14.5028\u001b[0m,  \u001b[1;36m9.7356\u001b[0m, \u001b[1;36m10.2301\u001b[0m, \u001b[1;36m14.6009\u001b[0m,\n",
       "         \u001b[1;36m5.6935\u001b[0m, \u001b[1;36m15.5763\u001b[0m,  \u001b[1;36m5.5577\u001b[0m, \u001b[1;36m18.4309\u001b[0m\u001b[1m]\u001b[0m, \u001b[33mgrad_fn\u001b[0m=\u001b[1m<\u001b[0m\u001b[1;95mMaxBackward0\u001b[0m\u001b[1m>\u001b[0m\u001b[1m)\u001b[0m,\n",
       "\u001b[33mindices\u001b[0m=\u001b[1;35mtensor\u001b[0m\u001b[1m(\u001b[0m\u001b[1m[\u001b[0m\u001b[1;36m15\u001b[0m, \u001b[1;36m13\u001b[0m, \u001b[1;36m13\u001b[0m,  \u001b[1;36m1\u001b[0m,  \u001b[1;36m0\u001b[0m, \u001b[1;36m15\u001b[0m, \u001b[1;36m12\u001b[0m,  \u001b[1;36m9\u001b[0m, \u001b[1;36m12\u001b[0m,  \u001b[1;36m9\u001b[0m,  \u001b[1;36m7\u001b[0m,  \u001b[1;36m0\u001b[0m\u001b[1m]\u001b[0m\u001b[1m)\u001b[0m\u001b[1m)\u001b[0m\n"
      ]
     },
     "metadata": {},
     "output_type": "display_data"
    }
   ],
   "source": [
    "logits.max(1)"
   ]
  },
  {
   "cell_type": "code",
   "execution_count": 153,
   "id": "a5867fd7",
   "metadata": {},
   "outputs": [
    {
     "data": {
      "text/html": [
       "<pre style=\"white-space:pre;overflow-x:auto;line-height:normal;font-family:Menlo,'DejaVu Sans Mono',consolas,'Courier New',monospace\"><span style=\"color: #800080; text-decoration-color: #800080; font-weight: bold\">tensor</span><span style=\"font-weight: bold\">([</span> <span style=\"color: #008080; text-decoration-color: #008080; font-weight: bold\">5</span>, <span style=\"color: #008080; text-decoration-color: #008080; font-weight: bold\">13</span>, <span style=\"color: #008080; text-decoration-color: #008080; font-weight: bold\">13</span>,  <span style=\"color: #008080; text-decoration-color: #008080; font-weight: bold\">1</span>,  <span style=\"color: #008080; text-decoration-color: #008080; font-weight: bold\">0</span>, <span style=\"color: #008080; text-decoration-color: #008080; font-weight: bold\">15</span>, <span style=\"color: #008080; text-decoration-color: #008080; font-weight: bold\">12</span>,  <span style=\"color: #008080; text-decoration-color: #008080; font-weight: bold\">9</span>, <span style=\"color: #008080; text-decoration-color: #008080; font-weight: bold\">22</span>,  <span style=\"color: #008080; text-decoration-color: #008080; font-weight: bold\">9</span>,  <span style=\"color: #008080; text-decoration-color: #008080; font-weight: bold\">1</span>,  <span style=\"color: #008080; text-decoration-color: #008080; font-weight: bold\">0</span><span style=\"font-weight: bold\">])</span>\n",
       "</pre>\n"
      ],
      "text/plain": [
       "\u001b[1;35mtensor\u001b[0m\u001b[1m(\u001b[0m\u001b[1m[\u001b[0m \u001b[1;36m5\u001b[0m, \u001b[1;36m13\u001b[0m, \u001b[1;36m13\u001b[0m,  \u001b[1;36m1\u001b[0m,  \u001b[1;36m0\u001b[0m, \u001b[1;36m15\u001b[0m, \u001b[1;36m12\u001b[0m,  \u001b[1;36m9\u001b[0m, \u001b[1;36m22\u001b[0m,  \u001b[1;36m9\u001b[0m,  \u001b[1;36m1\u001b[0m,  \u001b[1;36m0\u001b[0m\u001b[1m]\u001b[0m\u001b[1m)\u001b[0m\n"
      ]
     },
     "metadata": {},
     "output_type": "display_data"
    }
   ],
   "source": [
    "Y"
   ]
  },
  {
   "cell_type": "markdown",
   "id": "63ac8084",
   "metadata": {},
   "source": [
    "## Training on a full dataset"
   ]
  },
  {
   "cell_type": "code",
   "execution_count": 217,
   "id": "21276be3",
   "metadata": {},
   "outputs": [],
   "source": [
    "X, Y = generate_training_set(words, 3)"
   ]
  },
  {
   "cell_type": "code",
   "execution_count": 218,
   "id": "7cac3ba5",
   "metadata": {},
   "outputs": [
    {
     "data": {
      "text/html": [
       "<pre style=\"white-space:pre;overflow-x:auto;line-height:normal;font-family:Menlo,'DejaVu Sans Mono',consolas,'Courier New',monospace\"><span style=\"font-weight: bold\">(</span><span style=\"color: #800080; text-decoration-color: #800080; font-weight: bold\">torch.Size</span><span style=\"font-weight: bold\">([</span><span style=\"color: #008080; text-decoration-color: #008080; font-weight: bold\">228146</span>, <span style=\"color: #008080; text-decoration-color: #008080; font-weight: bold\">3</span><span style=\"font-weight: bold\">])</span>, <span style=\"color: #800080; text-decoration-color: #800080; font-weight: bold\">torch.Size</span><span style=\"font-weight: bold\">([</span><span style=\"color: #008080; text-decoration-color: #008080; font-weight: bold\">228146</span><span style=\"font-weight: bold\">])</span>, torch.int64, torch.int64<span style=\"font-weight: bold\">)</span>\n",
       "</pre>\n"
      ],
      "text/plain": [
       "\u001b[1m(\u001b[0m\u001b[1;35mtorch.Size\u001b[0m\u001b[1m(\u001b[0m\u001b[1m[\u001b[0m\u001b[1;36m228146\u001b[0m, \u001b[1;36m3\u001b[0m\u001b[1m]\u001b[0m\u001b[1m)\u001b[0m, \u001b[1;35mtorch.Size\u001b[0m\u001b[1m(\u001b[0m\u001b[1m[\u001b[0m\u001b[1;36m228146\u001b[0m\u001b[1m]\u001b[0m\u001b[1m)\u001b[0m, torch.int64, torch.int64\u001b[1m)\u001b[0m\n"
      ]
     },
     "metadata": {},
     "output_type": "display_data"
    }
   ],
   "source": [
    "X.shape, Y.shape, X.dtype, Y.dtype"
   ]
  },
  {
   "cell_type": "code",
   "execution_count": 221,
   "id": "91b6253d",
   "metadata": {},
   "outputs": [],
   "source": [
    "def train(epochs, X, Y):\n",
    "    g = torch.Generator().manual_seed(42)\n",
    "    C = torch.randn((27, 2), generator=g)\n",
    "    W1 = torch.randn((6, 100), generator=g)\n",
    "    b1 = torch.randn(100, generator=g)\n",
    "    W2 = torch.randn((100, 27), generator=g)\n",
    "    b2 = torch.randn(27, generator=g)\n",
    "    parameters = [C, W1, b1, W2, b2]\n",
    "    \n",
    "    for p in parameters: p.requires_grad = True \n",
    "        \n",
    "    for _ in range(epochs):\n",
    "        # forward pass\n",
    "        emb = C[X] # (12, 3, 2)\n",
    "        h = torch.tanh(emb.view(-1, 6) @ W1 + b1) # (-1, 100)\n",
    "        logits = h @ W2 + b2 # (-1, 27)\n",
    "        loss = F.cross_entropy(logits, Y)\n",
    "        print(loss.item())\n",
    "        # backward pass\n",
    "        for p in parameters:\n",
    "            p.grad= None\n",
    "        loss.backward()\n",
    "\n",
    "        for p in parameters:\n",
    "            p.data += -0.1 * p.grad  \n",
    "    return parameters"
   ]
  },
  {
   "cell_type": "code",
   "execution_count": 222,
   "id": "02f86f8b",
   "metadata": {},
   "outputs": [
    {
     "data": {
      "text/html": [
       "<pre style=\"white-space:pre;overflow-x:auto;line-height:normal;font-family:Menlo,'DejaVu Sans Mono',consolas,'Courier New',monospace\"><span style=\"color: #800080; text-decoration-color: #800080; font-weight: bold\">torch.Size</span><span style=\"font-weight: bold\">([</span><span style=\"color: #008080; text-decoration-color: #008080; font-weight: bold\">228146</span>, <span style=\"color: #008080; text-decoration-color: #008080; font-weight: bold\">3</span>, <span style=\"color: #008080; text-decoration-color: #008080; font-weight: bold\">2</span><span style=\"font-weight: bold\">])</span>\n",
       "</pre>\n"
      ],
      "text/plain": [
       "\u001b[1;35mtorch.Size\u001b[0m\u001b[1m(\u001b[0m\u001b[1m[\u001b[0m\u001b[1;36m228146\u001b[0m, \u001b[1;36m3\u001b[0m, \u001b[1;36m2\u001b[0m\u001b[1m]\u001b[0m\u001b[1m)\u001b[0m\n"
      ]
     },
     "metadata": {},
     "output_type": "display_data"
    }
   ],
   "source": [
    "C[X].shape"
   ]
  },
  {
   "cell_type": "code",
   "execution_count": 223,
   "id": "184d2861",
   "metadata": {},
   "outputs": [
    {
     "data": {
      "text/html": [
       "<pre style=\"white-space:pre;overflow-x:auto;line-height:normal;font-family:Menlo,'DejaVu Sans Mono',consolas,'Courier New',monospace\"><span style=\"color: #008080; text-decoration-color: #008080; font-weight: bold\">16.72646713256836</span>\n",
       "</pre>\n"
      ],
      "text/plain": [
       "\u001b[1;36m16.72646713256836\u001b[0m\n"
      ]
     },
     "metadata": {},
     "output_type": "display_data"
    },
    {
     "data": {
      "text/html": [
       "<pre style=\"white-space:pre;overflow-x:auto;line-height:normal;font-family:Menlo,'DejaVu Sans Mono',consolas,'Courier New',monospace\"><span style=\"color: #008080; text-decoration-color: #008080; font-weight: bold\">14.942935943603516</span>\n",
       "</pre>\n"
      ],
      "text/plain": [
       "\u001b[1;36m14.942935943603516\u001b[0m\n"
      ]
     },
     "metadata": {},
     "output_type": "display_data"
    },
    {
     "data": {
      "text/html": [
       "<pre style=\"white-space:pre;overflow-x:auto;line-height:normal;font-family:Menlo,'DejaVu Sans Mono',consolas,'Courier New',monospace\"><span style=\"color: #008080; text-decoration-color: #008080; font-weight: bold\">13.863016128540039</span>\n",
       "</pre>\n"
      ],
      "text/plain": [
       "\u001b[1;36m13.863016128540039\u001b[0m\n"
      ]
     },
     "metadata": {},
     "output_type": "display_data"
    },
    {
     "data": {
      "text/html": [
       "<pre style=\"white-space:pre;overflow-x:auto;line-height:normal;font-family:Menlo,'DejaVu Sans Mono',consolas,'Courier New',monospace\"><span style=\"color: #008080; text-decoration-color: #008080; font-weight: bold\">13.003832817077637</span>\n",
       "</pre>\n"
      ],
      "text/plain": [
       "\u001b[1;36m13.003832817077637\u001b[0m\n"
      ]
     },
     "metadata": {},
     "output_type": "display_data"
    },
    {
     "data": {
      "text/html": [
       "<pre style=\"white-space:pre;overflow-x:auto;line-height:normal;font-family:Menlo,'DejaVu Sans Mono',consolas,'Courier New',monospace\"><span style=\"color: #008080; text-decoration-color: #008080; font-weight: bold\">12.292207717895508</span>\n",
       "</pre>\n"
      ],
      "text/plain": [
       "\u001b[1;36m12.292207717895508\u001b[0m\n"
      ]
     },
     "metadata": {},
     "output_type": "display_data"
    },
    {
     "data": {
      "text/html": [
       "<pre style=\"white-space:pre;overflow-x:auto;line-height:normal;font-family:Menlo,'DejaVu Sans Mono',consolas,'Courier New',monospace\"><span style=\"color: #008080; text-decoration-color: #008080; font-weight: bold\">11.732644081115723</span>\n",
       "</pre>\n"
      ],
      "text/plain": [
       "\u001b[1;36m11.732644081115723\u001b[0m\n"
      ]
     },
     "metadata": {},
     "output_type": "display_data"
    },
    {
     "data": {
      "text/html": [
       "<pre style=\"white-space:pre;overflow-x:auto;line-height:normal;font-family:Menlo,'DejaVu Sans Mono',consolas,'Courier New',monospace\"><span style=\"color: #008080; text-decoration-color: #008080; font-weight: bold\">11.270576477050781</span>\n",
       "</pre>\n"
      ],
      "text/plain": [
       "\u001b[1;36m11.270576477050781\u001b[0m\n"
      ]
     },
     "metadata": {},
     "output_type": "display_data"
    },
    {
     "data": {
      "text/html": [
       "<pre style=\"white-space:pre;overflow-x:auto;line-height:normal;font-family:Menlo,'DejaVu Sans Mono',consolas,'Courier New',monospace\"><span style=\"color: #008080; text-decoration-color: #008080; font-weight: bold\">10.859724044799805</span>\n",
       "</pre>\n"
      ],
      "text/plain": [
       "\u001b[1;36m10.859724044799805\u001b[0m\n"
      ]
     },
     "metadata": {},
     "output_type": "display_data"
    },
    {
     "data": {
      "text/html": [
       "<pre style=\"white-space:pre;overflow-x:auto;line-height:normal;font-family:Menlo,'DejaVu Sans Mono',consolas,'Courier New',monospace\"><span style=\"color: #008080; text-decoration-color: #008080; font-weight: bold\">10.47972583770752</span>\n",
       "</pre>\n"
      ],
      "text/plain": [
       "\u001b[1;36m10.47972583770752\u001b[0m\n"
      ]
     },
     "metadata": {},
     "output_type": "display_data"
    },
    {
     "data": {
      "text/html": [
       "<pre style=\"white-space:pre;overflow-x:auto;line-height:normal;font-family:Menlo,'DejaVu Sans Mono',consolas,'Courier New',monospace\"><span style=\"color: #008080; text-decoration-color: #008080; font-weight: bold\">10.136446952819824</span>\n",
       "</pre>\n"
      ],
      "text/plain": [
       "\u001b[1;36m10.136446952819824\u001b[0m\n"
      ]
     },
     "metadata": {},
     "output_type": "display_data"
    }
   ],
   "source": [
    "params = train(10, X, Y)"
   ]
  },
  {
   "cell_type": "markdown",
   "id": "bb8181e8",
   "metadata": {},
   "source": [
    "### Generate minibatches"
   ]
  },
  {
   "cell_type": "code",
   "execution_count": 225,
   "id": "1b939a5b",
   "metadata": {},
   "outputs": [
    {
     "data": {
      "text/html": [
       "<pre style=\"white-space:pre;overflow-x:auto;line-height:normal;font-family:Menlo,'DejaVu Sans Mono',consolas,'Courier New',monospace\">\n",
       "<span style=\"color: #800080; text-decoration-color: #800080; font-weight: bold\">tensor</span><span style=\"font-weight: bold\">([</span><span style=\"color: #008080; text-decoration-color: #008080; font-weight: bold\">3</span>, <span style=\"color: #008080; text-decoration-color: #008080; font-weight: bold\">3</span>, <span style=\"color: #008080; text-decoration-color: #008080; font-weight: bold\">1</span>, <span style=\"color: #008080; text-decoration-color: #008080; font-weight: bold\">3</span>, <span style=\"color: #008080; text-decoration-color: #008080; font-weight: bold\">4</span>, <span style=\"color: #008080; text-decoration-color: #008080; font-weight: bold\">2</span>, <span style=\"color: #008080; text-decoration-color: #008080; font-weight: bold\">3</span>, <span style=\"color: #008080; text-decoration-color: #008080; font-weight: bold\">4</span>, <span style=\"color: #008080; text-decoration-color: #008080; font-weight: bold\">3</span>, <span style=\"color: #008080; text-decoration-color: #008080; font-weight: bold\">0</span>, <span style=\"color: #008080; text-decoration-color: #008080; font-weight: bold\">1</span>, <span style=\"color: #008080; text-decoration-color: #008080; font-weight: bold\">4</span>, <span style=\"color: #008080; text-decoration-color: #008080; font-weight: bold\">0</span>, <span style=\"color: #008080; text-decoration-color: #008080; font-weight: bold\">1</span>, <span style=\"color: #008080; text-decoration-color: #008080; font-weight: bold\">2</span>, <span style=\"color: #008080; text-decoration-color: #008080; font-weight: bold\">4</span>, <span style=\"color: #008080; text-decoration-color: #008080; font-weight: bold\">2</span>, <span style=\"color: #008080; text-decoration-color: #008080; font-weight: bold\">2</span>, <span style=\"color: #008080; text-decoration-color: #008080; font-weight: bold\">1</span>, <span style=\"color: #008080; text-decoration-color: #008080; font-weight: bold\">3</span>, <span style=\"color: #008080; text-decoration-color: #008080; font-weight: bold\">2</span>, <span style=\"color: #008080; text-decoration-color: #008080; font-weight: bold\">4</span>, <span style=\"color: #008080; text-decoration-color: #008080; font-weight: bold\">3</span>, <span style=\"color: #008080; text-decoration-color: #008080; font-weight: bold\">1</span>,\n",
       "        <span style=\"color: #008080; text-decoration-color: #008080; font-weight: bold\">0</span>, <span style=\"color: #008080; text-decoration-color: #008080; font-weight: bold\">1</span>, <span style=\"color: #008080; text-decoration-color: #008080; font-weight: bold\">0</span>, <span style=\"color: #008080; text-decoration-color: #008080; font-weight: bold\">4</span>, <span style=\"color: #008080; text-decoration-color: #008080; font-weight: bold\">0</span>, <span style=\"color: #008080; text-decoration-color: #008080; font-weight: bold\">1</span>, <span style=\"color: #008080; text-decoration-color: #008080; font-weight: bold\">3</span>, <span style=\"color: #008080; text-decoration-color: #008080; font-weight: bold\">2</span><span style=\"font-weight: bold\">])</span>\n",
       "</pre>\n"
      ],
      "text/plain": [
       "\n",
       "\u001b[1;35mtensor\u001b[0m\u001b[1m(\u001b[0m\u001b[1m[\u001b[0m\u001b[1;36m3\u001b[0m, \u001b[1;36m3\u001b[0m, \u001b[1;36m1\u001b[0m, \u001b[1;36m3\u001b[0m, \u001b[1;36m4\u001b[0m, \u001b[1;36m2\u001b[0m, \u001b[1;36m3\u001b[0m, \u001b[1;36m4\u001b[0m, \u001b[1;36m3\u001b[0m, \u001b[1;36m0\u001b[0m, \u001b[1;36m1\u001b[0m, \u001b[1;36m4\u001b[0m, \u001b[1;36m0\u001b[0m, \u001b[1;36m1\u001b[0m, \u001b[1;36m2\u001b[0m, \u001b[1;36m4\u001b[0m, \u001b[1;36m2\u001b[0m, \u001b[1;36m2\u001b[0m, \u001b[1;36m1\u001b[0m, \u001b[1;36m3\u001b[0m, \u001b[1;36m2\u001b[0m, \u001b[1;36m4\u001b[0m, \u001b[1;36m3\u001b[0m, \u001b[1;36m1\u001b[0m,\n",
       "        \u001b[1;36m0\u001b[0m, \u001b[1;36m1\u001b[0m, \u001b[1;36m0\u001b[0m, \u001b[1;36m4\u001b[0m, \u001b[1;36m0\u001b[0m, \u001b[1;36m1\u001b[0m, \u001b[1;36m3\u001b[0m, \u001b[1;36m2\u001b[0m\u001b[1m]\u001b[0m\u001b[1m)\u001b[0m\n"
      ]
     },
     "metadata": {},
     "output_type": "display_data"
    }
   ],
   "source": [
    "torch.randint(0, 5, (32, ))"
   ]
  },
  {
   "cell_type": "code",
   "execution_count": 226,
   "id": "9c0c4c1d",
   "metadata": {},
   "outputs": [
    {
     "data": {
      "text/html": [
       "<pre style=\"white-space:pre;overflow-x:auto;line-height:normal;font-family:Menlo,'DejaVu Sans Mono',consolas,'Courier New',monospace\">\n",
       "<span style=\"color: #800080; text-decoration-color: #800080; font-weight: bold\">tensor</span><span style=\"font-weight: bold\">([</span><span style=\"color: #008080; text-decoration-color: #008080; font-weight: bold\">156825</span>, <span style=\"color: #008080; text-decoration-color: #008080; font-weight: bold\">142682</span>,    <span style=\"color: #008080; text-decoration-color: #008080; font-weight: bold\">580</span>,  <span style=\"color: #008080; text-decoration-color: #008080; font-weight: bold\">31795</span>, <span style=\"color: #008080; text-decoration-color: #008080; font-weight: bold\">130508</span>,  <span style=\"color: #008080; text-decoration-color: #008080; font-weight: bold\">72844</span>, <span style=\"color: #008080; text-decoration-color: #008080; font-weight: bold\">102731</span>,  <span style=\"color: #008080; text-decoration-color: #008080; font-weight: bold\">12378</span>,  <span style=\"color: #008080; text-decoration-color: #008080; font-weight: bold\">81761</span>,\n",
       "         <span style=\"color: #008080; text-decoration-color: #008080; font-weight: bold\">96245</span>, <span style=\"color: #008080; text-decoration-color: #008080; font-weight: bold\">213884</span>,  <span style=\"color: #008080; text-decoration-color: #008080; font-weight: bold\">13716</span>,  <span style=\"color: #008080; text-decoration-color: #008080; font-weight: bold\">17611</span>,  <span style=\"color: #008080; text-decoration-color: #008080; font-weight: bold\">76130</span>,  <span style=\"color: #008080; text-decoration-color: #008080; font-weight: bold\">99948</span>, <span style=\"color: #008080; text-decoration-color: #008080; font-weight: bold\">218690</span>, <span style=\"color: #008080; text-decoration-color: #008080; font-weight: bold\">220172</span>,  <span style=\"color: #008080; text-decoration-color: #008080; font-weight: bold\">98212</span>,\n",
       "        <span style=\"color: #008080; text-decoration-color: #008080; font-weight: bold\">160162</span>,  <span style=\"color: #008080; text-decoration-color: #008080; font-weight: bold\">87804</span>, <span style=\"color: #008080; text-decoration-color: #008080; font-weight: bold\">193862</span>,  <span style=\"color: #008080; text-decoration-color: #008080; font-weight: bold\">87769</span>, <span style=\"color: #008080; text-decoration-color: #008080; font-weight: bold\">111105</span>, <span style=\"color: #008080; text-decoration-color: #008080; font-weight: bold\">150944</span>, <span style=\"color: #008080; text-decoration-color: #008080; font-weight: bold\">208641</span>, <span style=\"color: #008080; text-decoration-color: #008080; font-weight: bold\">192086</span>, <span style=\"color: #008080; text-decoration-color: #008080; font-weight: bold\">220956</span>,\n",
       "        <span style=\"color: #008080; text-decoration-color: #008080; font-weight: bold\">160695</span>,  <span style=\"color: #008080; text-decoration-color: #008080; font-weight: bold\">96617</span>,  <span style=\"color: #008080; text-decoration-color: #008080; font-weight: bold\">30760</span>, <span style=\"color: #008080; text-decoration-color: #008080; font-weight: bold\">164713</span>,  <span style=\"color: #008080; text-decoration-color: #008080; font-weight: bold\">43596</span><span style=\"font-weight: bold\">])</span>\n",
       "</pre>\n"
      ],
      "text/plain": [
       "\n",
       "\u001b[1;35mtensor\u001b[0m\u001b[1m(\u001b[0m\u001b[1m[\u001b[0m\u001b[1;36m156825\u001b[0m, \u001b[1;36m142682\u001b[0m,    \u001b[1;36m580\u001b[0m,  \u001b[1;36m31795\u001b[0m, \u001b[1;36m130508\u001b[0m,  \u001b[1;36m72844\u001b[0m, \u001b[1;36m102731\u001b[0m,  \u001b[1;36m12378\u001b[0m,  \u001b[1;36m81761\u001b[0m,\n",
       "         \u001b[1;36m96245\u001b[0m, \u001b[1;36m213884\u001b[0m,  \u001b[1;36m13716\u001b[0m,  \u001b[1;36m17611\u001b[0m,  \u001b[1;36m76130\u001b[0m,  \u001b[1;36m99948\u001b[0m, \u001b[1;36m218690\u001b[0m, \u001b[1;36m220172\u001b[0m,  \u001b[1;36m98212\u001b[0m,\n",
       "        \u001b[1;36m160162\u001b[0m,  \u001b[1;36m87804\u001b[0m, \u001b[1;36m193862\u001b[0m,  \u001b[1;36m87769\u001b[0m, \u001b[1;36m111105\u001b[0m, \u001b[1;36m150944\u001b[0m, \u001b[1;36m208641\u001b[0m, \u001b[1;36m192086\u001b[0m, \u001b[1;36m220956\u001b[0m,\n",
       "        \u001b[1;36m160695\u001b[0m,  \u001b[1;36m96617\u001b[0m,  \u001b[1;36m30760\u001b[0m, \u001b[1;36m164713\u001b[0m,  \u001b[1;36m43596\u001b[0m\u001b[1m]\u001b[0m\u001b[1m)\u001b[0m\n"
      ]
     },
     "metadata": {},
     "output_type": "display_data"
    }
   ],
   "source": [
    "torch.randint(0, X.shape[0], (32,))"
   ]
  },
  {
   "cell_type": "code",
   "execution_count": 227,
   "id": "86e8aa4f",
   "metadata": {},
   "outputs": [],
   "source": [
    "ix = torch.randint(0, X.shape[0], (32,))"
   ]
  },
  {
   "cell_type": "code",
   "execution_count": 228,
   "id": "aceb62e7",
   "metadata": {},
   "outputs": [
    {
     "data": {
      "text/html": [
       "<pre style=\"white-space:pre;overflow-x:auto;line-height:normal;font-family:Menlo,'DejaVu Sans Mono',consolas,'Courier New',monospace\">\n",
       "<span style=\"color: #800080; text-decoration-color: #800080; font-weight: bold\">tensor</span><span style=\"font-weight: bold\">([</span> <span style=\"color: #008080; text-decoration-color: #008080; font-weight: bold\">59816</span>,  <span style=\"color: #008080; text-decoration-color: #008080; font-weight: bold\">56947</span>, <span style=\"color: #008080; text-decoration-color: #008080; font-weight: bold\">213921</span>, <span style=\"color: #008080; text-decoration-color: #008080; font-weight: bold\">214083</span>, <span style=\"color: #008080; text-decoration-color: #008080; font-weight: bold\">204098</span>,  <span style=\"color: #008080; text-decoration-color: #008080; font-weight: bold\">63636</span>,  <span style=\"color: #008080; text-decoration-color: #008080; font-weight: bold\">26114</span>, <span style=\"color: #008080; text-decoration-color: #008080; font-weight: bold\">158714</span>,  <span style=\"color: #008080; text-decoration-color: #008080; font-weight: bold\">42227</span>,\n",
       "        <span style=\"color: #008080; text-decoration-color: #008080; font-weight: bold\">205965</span>, <span style=\"color: #008080; text-decoration-color: #008080; font-weight: bold\">173581</span>,  <span style=\"color: #008080; text-decoration-color: #008080; font-weight: bold\">33894</span>,  <span style=\"color: #008080; text-decoration-color: #008080; font-weight: bold\">39252</span>,  <span style=\"color: #008080; text-decoration-color: #008080; font-weight: bold\">25401</span>, <span style=\"color: #008080; text-decoration-color: #008080; font-weight: bold\">169901</span>,  <span style=\"color: #008080; text-decoration-color: #008080; font-weight: bold\">63827</span>,  <span style=\"color: #008080; text-decoration-color: #008080; font-weight: bold\">51776</span>, <span style=\"color: #008080; text-decoration-color: #008080; font-weight: bold\">163530</span>,\n",
       "        <span style=\"color: #008080; text-decoration-color: #008080; font-weight: bold\">183663</span>, <span style=\"color: #008080; text-decoration-color: #008080; font-weight: bold\">203664</span>,   <span style=\"color: #008080; text-decoration-color: #008080; font-weight: bold\">6202</span>,  <span style=\"color: #008080; text-decoration-color: #008080; font-weight: bold\">82817</span>,  <span style=\"color: #008080; text-decoration-color: #008080; font-weight: bold\">86832</span>, <span style=\"color: #008080; text-decoration-color: #008080; font-weight: bold\">143352</span>,  <span style=\"color: #008080; text-decoration-color: #008080; font-weight: bold\">70925</span>, <span style=\"color: #008080; text-decoration-color: #008080; font-weight: bold\">197083</span>, <span style=\"color: #008080; text-decoration-color: #008080; font-weight: bold\">119422</span>,\n",
       "         <span style=\"color: #008080; text-decoration-color: #008080; font-weight: bold\">16485</span>,  <span style=\"color: #008080; text-decoration-color: #008080; font-weight: bold\">95859</span>,  <span style=\"color: #008080; text-decoration-color: #008080; font-weight: bold\">71663</span>, <span style=\"color: #008080; text-decoration-color: #008080; font-weight: bold\">220297</span>, <span style=\"color: #008080; text-decoration-color: #008080; font-weight: bold\">171481</span><span style=\"font-weight: bold\">])</span>\n",
       "</pre>\n"
      ],
      "text/plain": [
       "\n",
       "\u001b[1;35mtensor\u001b[0m\u001b[1m(\u001b[0m\u001b[1m[\u001b[0m \u001b[1;36m59816\u001b[0m,  \u001b[1;36m56947\u001b[0m, \u001b[1;36m213921\u001b[0m, \u001b[1;36m214083\u001b[0m, \u001b[1;36m204098\u001b[0m,  \u001b[1;36m63636\u001b[0m,  \u001b[1;36m26114\u001b[0m, \u001b[1;36m158714\u001b[0m,  \u001b[1;36m42227\u001b[0m,\n",
       "        \u001b[1;36m205965\u001b[0m, \u001b[1;36m173581\u001b[0m,  \u001b[1;36m33894\u001b[0m,  \u001b[1;36m39252\u001b[0m,  \u001b[1;36m25401\u001b[0m, \u001b[1;36m169901\u001b[0m,  \u001b[1;36m63827\u001b[0m,  \u001b[1;36m51776\u001b[0m, \u001b[1;36m163530\u001b[0m,\n",
       "        \u001b[1;36m183663\u001b[0m, \u001b[1;36m203664\u001b[0m,   \u001b[1;36m6202\u001b[0m,  \u001b[1;36m82817\u001b[0m,  \u001b[1;36m86832\u001b[0m, \u001b[1;36m143352\u001b[0m,  \u001b[1;36m70925\u001b[0m, \u001b[1;36m197083\u001b[0m, \u001b[1;36m119422\u001b[0m,\n",
       "         \u001b[1;36m16485\u001b[0m,  \u001b[1;36m95859\u001b[0m,  \u001b[1;36m71663\u001b[0m, \u001b[1;36m220297\u001b[0m, \u001b[1;36m171481\u001b[0m\u001b[1m]\u001b[0m\u001b[1m)\u001b[0m\n"
      ]
     },
     "metadata": {},
     "output_type": "display_data"
    }
   ],
   "source": [
    "ix"
   ]
  },
  {
   "cell_type": "markdown",
   "id": "fac5cb51",
   "metadata": {},
   "source": [
    "### Train on minibatches"
   ]
  },
  {
   "cell_type": "code",
   "execution_count": 390,
   "id": "87498e78",
   "metadata": {},
   "outputs": [],
   "source": [
    "def train(epochs, X, Y, lr=0.1, parameters=[], enable_print=True):\n",
    "    if not parameters:\n",
    "        g = torch.Generator().manual_seed(42)\n",
    "        C = torch.randn((27, 2), generator=g)\n",
    "        W1 = torch.randn((6, 100), generator=g)\n",
    "        b1 = torch.randn(100, generator=g)\n",
    "        W2 = torch.randn((100, 27), generator=g)\n",
    "        b2 = torch.randn(27, generator=g)\n",
    "        parameters = [C, W1, b1, W2, b2]\n",
    "    else:\n",
    "        C, W1, b1, W2, b2 = parameters\n",
    "    \n",
    "    for p in parameters: p.requires_grad = True \n",
    "        \n",
    "    for _ in range(epochs):\n",
    "        # forward pass\n",
    "        ix = torch.randint(0, X.shape[0], (32, )) # taking minibatches of 32 size\n",
    "        \n",
    "        emb = C[X[ix]] # (12, 3, 2)\n",
    "        h = torch.tanh(emb.view(-1, 6) @ W1 + b1) # (-1, 100)\n",
    "        logits = h @ W2 + b2 # (-1, 27)\n",
    "        loss = F.cross_entropy(logits, Y[ix])\n",
    "        if enable_print: print(loss.item())\n",
    "        # backward pass\n",
    "        for p in parameters:\n",
    "            p.grad= None\n",
    "        loss.backward()\n",
    "\n",
    "        for p in parameters:\n",
    "            p.data += -lr * p.grad  \n",
    "    return parameters, loss.item()"
   ]
  },
  {
   "cell_type": "code",
   "execution_count": 391,
   "id": "b94e881f",
   "metadata": {},
   "outputs": [
    {
     "data": {
      "text/html": [
       "<pre style=\"white-space:pre;overflow-x:auto;line-height:normal;font-family:Menlo,'DejaVu Sans Mono',consolas,'Courier New',monospace\"><span style=\"color: #008080; text-decoration-color: #008080; font-weight: bold\">13.637133598327637</span>\n",
       "</pre>\n"
      ],
      "text/plain": [
       "\u001b[1;36m13.637133598327637\u001b[0m\n"
      ]
     },
     "metadata": {},
     "output_type": "display_data"
    },
    {
     "data": {
      "text/html": [
       "<pre style=\"white-space:pre;overflow-x:auto;line-height:normal;font-family:Menlo,'DejaVu Sans Mono',consolas,'Courier New',monospace\"><span style=\"color: #008080; text-decoration-color: #008080; font-weight: bold\">16.32086944580078</span>\n",
       "</pre>\n"
      ],
      "text/plain": [
       "\u001b[1;36m16.32086944580078\u001b[0m\n"
      ]
     },
     "metadata": {},
     "output_type": "display_data"
    },
    {
     "data": {
      "text/html": [
       "<pre style=\"white-space:pre;overflow-x:auto;line-height:normal;font-family:Menlo,'DejaVu Sans Mono',consolas,'Courier New',monospace\"><span style=\"color: #008080; text-decoration-color: #008080; font-weight: bold\">12.640043258666992</span>\n",
       "</pre>\n"
      ],
      "text/plain": [
       "\u001b[1;36m12.640043258666992\u001b[0m\n"
      ]
     },
     "metadata": {},
     "output_type": "display_data"
    },
    {
     "data": {
      "text/html": [
       "<pre style=\"white-space:pre;overflow-x:auto;line-height:normal;font-family:Menlo,'DejaVu Sans Mono',consolas,'Courier New',monospace\"><span style=\"color: #008080; text-decoration-color: #008080; font-weight: bold\">12.875073432922363</span>\n",
       "</pre>\n"
      ],
      "text/plain": [
       "\u001b[1;36m12.875073432922363\u001b[0m\n"
      ]
     },
     "metadata": {},
     "output_type": "display_data"
    },
    {
     "data": {
      "text/html": [
       "<pre style=\"white-space:pre;overflow-x:auto;line-height:normal;font-family:Menlo,'DejaVu Sans Mono',consolas,'Courier New',monospace\"><span style=\"color: #008080; text-decoration-color: #008080; font-weight: bold\">10.907100677490234</span>\n",
       "</pre>\n"
      ],
      "text/plain": [
       "\u001b[1;36m10.907100677490234\u001b[0m\n"
      ]
     },
     "metadata": {},
     "output_type": "display_data"
    },
    {
     "data": {
      "text/html": [
       "<pre style=\"white-space:pre;overflow-x:auto;line-height:normal;font-family:Menlo,'DejaVu Sans Mono',consolas,'Courier New',monospace\"><span style=\"color: #008080; text-decoration-color: #008080; font-weight: bold\">9.58460807800293</span>\n",
       "</pre>\n"
      ],
      "text/plain": [
       "\u001b[1;36m9.58460807800293\u001b[0m\n"
      ]
     },
     "metadata": {},
     "output_type": "display_data"
    },
    {
     "data": {
      "text/html": [
       "<pre style=\"white-space:pre;overflow-x:auto;line-height:normal;font-family:Menlo,'DejaVu Sans Mono',consolas,'Courier New',monospace\"><span style=\"color: #008080; text-decoration-color: #008080; font-weight: bold\">14.135109901428223</span>\n",
       "</pre>\n"
      ],
      "text/plain": [
       "\u001b[1;36m14.135109901428223\u001b[0m\n"
      ]
     },
     "metadata": {},
     "output_type": "display_data"
    },
    {
     "data": {
      "text/html": [
       "<pre style=\"white-space:pre;overflow-x:auto;line-height:normal;font-family:Menlo,'DejaVu Sans Mono',consolas,'Courier New',monospace\"><span style=\"color: #008080; text-decoration-color: #008080; font-weight: bold\">11.69826602935791</span>\n",
       "</pre>\n"
      ],
      "text/plain": [
       "\u001b[1;36m11.69826602935791\u001b[0m\n"
      ]
     },
     "metadata": {},
     "output_type": "display_data"
    },
    {
     "data": {
      "text/html": [
       "<pre style=\"white-space:pre;overflow-x:auto;line-height:normal;font-family:Menlo,'DejaVu Sans Mono',consolas,'Courier New',monospace\"><span style=\"color: #008080; text-decoration-color: #008080; font-weight: bold\">11.369922637939453</span>\n",
       "</pre>\n"
      ],
      "text/plain": [
       "\u001b[1;36m11.369922637939453\u001b[0m\n"
      ]
     },
     "metadata": {},
     "output_type": "display_data"
    },
    {
     "data": {
      "text/html": [
       "<pre style=\"white-space:pre;overflow-x:auto;line-height:normal;font-family:Menlo,'DejaVu Sans Mono',consolas,'Courier New',monospace\"><span style=\"color: #008080; text-decoration-color: #008080; font-weight: bold\">8.687410354614258</span>\n",
       "</pre>\n"
      ],
      "text/plain": [
       "\u001b[1;36m8.687410354614258\u001b[0m\n"
      ]
     },
     "metadata": {},
     "output_type": "display_data"
    }
   ],
   "source": [
    "_, _ = train(10, X, Y)"
   ]
  },
  {
   "cell_type": "code",
   "execution_count": 362,
   "id": "f2d89319",
   "metadata": {},
   "outputs": [
    {
     "data": {
      "text/html": [
       "<pre style=\"white-space:pre;overflow-x:auto;line-height:normal;font-family:Menlo,'DejaVu Sans Mono',consolas,'Courier New',monospace\"><span style=\"color: #008080; text-decoration-color: #008080; font-weight: bold\">3.1308131217956543</span>\n",
       "</pre>\n"
      ],
      "text/plain": [
       "\u001b[1;36m3.1308131217956543\u001b[0m\n"
      ]
     },
     "metadata": {},
     "output_type": "display_data"
    }
   ],
   "source": [
    "params, loss = train(1000, X, Y, enable_print=False)\n",
    "loss"
   ]
  },
  {
   "cell_type": "markdown",
   "id": "ade5e789",
   "metadata": {},
   "source": [
    "We have to define a function for evaluating loss on the whole dataset"
   ]
  },
  {
   "cell_type": "code",
   "execution_count": 363,
   "id": "ca8e604f",
   "metadata": {},
   "outputs": [],
   "source": [
    "def evaluate_loss(params, X, Y):\n",
    "    C = params[0]\n",
    "    W1 = params[1]\n",
    "    b1 = params[2]\n",
    "    W2 = params[3]\n",
    "    b2 = params[4]\n",
    "    \n",
    "    emb = C[X]\n",
    "    h = torch.tanh(emb.view(-1, 6) @ W1 + b1)\n",
    "    logits = h @ W2 + b2\n",
    "    loss = F.cross_entropy(logits, Y)\n",
    "    return loss"
   ]
  },
  {
   "cell_type": "code",
   "execution_count": 364,
   "id": "6918b486",
   "metadata": {},
   "outputs": [
    {
     "data": {
      "text/html": [
       "<pre style=\"white-space:pre;overflow-x:auto;line-height:normal;font-family:Menlo,'DejaVu Sans Mono',consolas,'Courier New',monospace\"><span style=\"color: #800080; text-decoration-color: #800080; font-weight: bold\">tensor</span><span style=\"font-weight: bold\">(</span><span style=\"color: #008080; text-decoration-color: #008080; font-weight: bold\">2.6600</span>, <span style=\"color: #808000; text-decoration-color: #808000\">grad_fn</span>=<span style=\"font-weight: bold\">&lt;</span><span style=\"color: #ff00ff; text-decoration-color: #ff00ff; font-weight: bold\">NllLossBackward0</span><span style=\"font-weight: bold\">&gt;)</span>\n",
       "</pre>\n"
      ],
      "text/plain": [
       "\u001b[1;35mtensor\u001b[0m\u001b[1m(\u001b[0m\u001b[1;36m2.6600\u001b[0m, \u001b[33mgrad_fn\u001b[0m=\u001b[1m<\u001b[0m\u001b[1;95mNllLossBackward0\u001b[0m\u001b[1m>\u001b[0m\u001b[1m)\u001b[0m\n"
      ]
     },
     "metadata": {},
     "output_type": "display_data"
    }
   ],
   "source": [
    "evaluate_loss(params, X, Y) "
   ]
  },
  {
   "cell_type": "code",
   "execution_count": 365,
   "id": "08d64294",
   "metadata": {},
   "outputs": [
    {
     "data": {
      "text/html": [
       "<pre style=\"white-space:pre;overflow-x:auto;line-height:normal;font-family:Menlo,'DejaVu Sans Mono',consolas,'Courier New',monospace\"><span style=\"color: #008080; text-decoration-color: #008080; font-weight: bold\">2.2790145874023438</span>\n",
       "</pre>\n"
      ],
      "text/plain": [
       "\u001b[1;36m2.2790145874023438\u001b[0m\n"
      ]
     },
     "metadata": {},
     "output_type": "display_data"
    }
   ],
   "source": [
    "params, loss = train(2000, X, Y, enable_print=False)\n",
    "loss"
   ]
  },
  {
   "cell_type": "code",
   "execution_count": 366,
   "id": "a2f96f72",
   "metadata": {},
   "outputs": [
    {
     "data": {
      "text/html": [
       "<pre style=\"white-space:pre;overflow-x:auto;line-height:normal;font-family:Menlo,'DejaVu Sans Mono',consolas,'Courier New',monospace\"><span style=\"color: #800080; text-decoration-color: #800080; font-weight: bold\">tensor</span><span style=\"font-weight: bold\">(</span><span style=\"color: #008080; text-decoration-color: #008080; font-weight: bold\">2.5719</span>, <span style=\"color: #808000; text-decoration-color: #808000\">grad_fn</span>=<span style=\"font-weight: bold\">&lt;</span><span style=\"color: #ff00ff; text-decoration-color: #ff00ff; font-weight: bold\">NllLossBackward0</span><span style=\"font-weight: bold\">&gt;)</span>\n",
       "</pre>\n"
      ],
      "text/plain": [
       "\u001b[1;35mtensor\u001b[0m\u001b[1m(\u001b[0m\u001b[1;36m2.5719\u001b[0m, \u001b[33mgrad_fn\u001b[0m=\u001b[1m<\u001b[0m\u001b[1;95mNllLossBackward0\u001b[0m\u001b[1m>\u001b[0m\u001b[1m)\u001b[0m\n"
      ]
     },
     "metadata": {},
     "output_type": "display_data"
    }
   ],
   "source": [
    "evaluate_loss(params, X, Y)"
   ]
  },
  {
   "cell_type": "markdown",
   "id": "5c8088bf",
   "metadata": {},
   "source": [
    "## Finding a good learning rate"
   ]
  },
  {
   "cell_type": "code",
   "execution_count": 367,
   "id": "5abc09d2",
   "metadata": {},
   "outputs": [
    {
     "data": {
      "text/html": [
       "<pre style=\"white-space:pre;overflow-x:auto;line-height:normal;font-family:Menlo,'DejaVu Sans Mono',consolas,'Courier New',monospace\"><span style=\"color: #008080; text-decoration-color: #008080; font-weight: bold\">15.001378059387207</span>\n",
       "</pre>\n"
      ],
      "text/plain": [
       "\u001b[1;36m15.001378059387207\u001b[0m\n"
      ]
     },
     "metadata": {},
     "output_type": "display_data"
    },
    {
     "data": {
      "text/html": [
       "<pre style=\"white-space:pre;overflow-x:auto;line-height:normal;font-family:Menlo,'DejaVu Sans Mono',consolas,'Courier New',monospace\"><span style=\"color: #008080; text-decoration-color: #008080; font-weight: bold\">15.839015007019043</span>\n",
       "</pre>\n"
      ],
      "text/plain": [
       "\u001b[1;36m15.839015007019043\u001b[0m\n"
      ]
     },
     "metadata": {},
     "output_type": "display_data"
    },
    {
     "data": {
      "text/html": [
       "<pre style=\"white-space:pre;overflow-x:auto;line-height:normal;font-family:Menlo,'DejaVu Sans Mono',consolas,'Courier New',monospace\"><span style=\"color: #008080; text-decoration-color: #008080; font-weight: bold\">12.870087623596191</span>\n",
       "</pre>\n"
      ],
      "text/plain": [
       "\u001b[1;36m12.870087623596191\u001b[0m\n"
      ]
     },
     "metadata": {},
     "output_type": "display_data"
    },
    {
     "data": {
      "text/html": [
       "<pre style=\"white-space:pre;overflow-x:auto;line-height:normal;font-family:Menlo,'DejaVu Sans Mono',consolas,'Courier New',monospace\"><span style=\"color: #008080; text-decoration-color: #008080; font-weight: bold\">13.336407661437988</span>\n",
       "</pre>\n"
      ],
      "text/plain": [
       "\u001b[1;36m13.336407661437988\u001b[0m\n"
      ]
     },
     "metadata": {},
     "output_type": "display_data"
    },
    {
     "data": {
      "text/html": [
       "<pre style=\"white-space:pre;overflow-x:auto;line-height:normal;font-family:Menlo,'DejaVu Sans Mono',consolas,'Courier New',monospace\"><span style=\"color: #008080; text-decoration-color: #008080; font-weight: bold\">13.130197525024414</span>\n",
       "</pre>\n"
      ],
      "text/plain": [
       "\u001b[1;36m13.130197525024414\u001b[0m\n"
      ]
     },
     "metadata": {},
     "output_type": "display_data"
    },
    {
     "data": {
      "text/html": [
       "<pre style=\"white-space:pre;overflow-x:auto;line-height:normal;font-family:Menlo,'DejaVu Sans Mono',consolas,'Courier New',monospace\"><span style=\"color: #008080; text-decoration-color: #008080; font-weight: bold\">9.89980697631836</span>\n",
       "</pre>\n"
      ],
      "text/plain": [
       "\u001b[1;36m9.89980697631836\u001b[0m\n"
      ]
     },
     "metadata": {},
     "output_type": "display_data"
    },
    {
     "data": {
      "text/html": [
       "<pre style=\"white-space:pre;overflow-x:auto;line-height:normal;font-family:Menlo,'DejaVu Sans Mono',consolas,'Courier New',monospace\"><span style=\"color: #008080; text-decoration-color: #008080; font-weight: bold\">10.323299407958984</span>\n",
       "</pre>\n"
      ],
      "text/plain": [
       "\u001b[1;36m10.323299407958984\u001b[0m\n"
      ]
     },
     "metadata": {},
     "output_type": "display_data"
    },
    {
     "data": {
      "text/html": [
       "<pre style=\"white-space:pre;overflow-x:auto;line-height:normal;font-family:Menlo,'DejaVu Sans Mono',consolas,'Courier New',monospace\"><span style=\"color: #008080; text-decoration-color: #008080; font-weight: bold\">10.67185115814209</span>\n",
       "</pre>\n"
      ],
      "text/plain": [
       "\u001b[1;36m10.67185115814209\u001b[0m\n"
      ]
     },
     "metadata": {},
     "output_type": "display_data"
    },
    {
     "data": {
      "text/html": [
       "<pre style=\"white-space:pre;overflow-x:auto;line-height:normal;font-family:Menlo,'DejaVu Sans Mono',consolas,'Courier New',monospace\"><span style=\"color: #008080; text-decoration-color: #008080; font-weight: bold\">12.875905990600586</span>\n",
       "</pre>\n"
      ],
      "text/plain": [
       "\u001b[1;36m12.875905990600586\u001b[0m\n"
      ]
     },
     "metadata": {},
     "output_type": "display_data"
    },
    {
     "data": {
      "text/html": [
       "<pre style=\"white-space:pre;overflow-x:auto;line-height:normal;font-family:Menlo,'DejaVu Sans Mono',consolas,'Courier New',monospace\"><span style=\"color: #008080; text-decoration-color: #008080; font-weight: bold\">10.47635269165039</span>\n",
       "</pre>\n"
      ],
      "text/plain": [
       "\u001b[1;36m10.47635269165039\u001b[0m\n"
      ]
     },
     "metadata": {},
     "output_type": "display_data"
    }
   ],
   "source": [
    "params, loss = train(10, X, Y) # default one is 0.1"
   ]
  },
  {
   "cell_type": "code",
   "execution_count": 368,
   "id": "8afb6f17",
   "metadata": {},
   "outputs": [
    {
     "data": {
      "text/html": [
       "<pre style=\"white-space:pre;overflow-x:auto;line-height:normal;font-family:Menlo,'DejaVu Sans Mono',consolas,'Courier New',monospace\"><span style=\"color: #008080; text-decoration-color: #008080; font-weight: bold\">13.871994018554688</span>\n",
       "</pre>\n"
      ],
      "text/plain": [
       "\u001b[1;36m13.871994018554688\u001b[0m\n"
      ]
     },
     "metadata": {},
     "output_type": "display_data"
    },
    {
     "data": {
      "text/html": [
       "<pre style=\"white-space:pre;overflow-x:auto;line-height:normal;font-family:Menlo,'DejaVu Sans Mono',consolas,'Courier New',monospace\"><span style=\"color: #008080; text-decoration-color: #008080; font-weight: bold\">17.3082275390625</span>\n",
       "</pre>\n"
      ],
      "text/plain": [
       "\u001b[1;36m17.3082275390625\u001b[0m\n"
      ]
     },
     "metadata": {},
     "output_type": "display_data"
    },
    {
     "data": {
      "text/html": [
       "<pre style=\"white-space:pre;overflow-x:auto;line-height:normal;font-family:Menlo,'DejaVu Sans Mono',consolas,'Courier New',monospace\"><span style=\"color: #008080; text-decoration-color: #008080; font-weight: bold\">16.276138305664062</span>\n",
       "</pre>\n"
      ],
      "text/plain": [
       "\u001b[1;36m16.276138305664062\u001b[0m\n"
      ]
     },
     "metadata": {},
     "output_type": "display_data"
    },
    {
     "data": {
      "text/html": [
       "<pre style=\"white-space:pre;overflow-x:auto;line-height:normal;font-family:Menlo,'DejaVu Sans Mono',consolas,'Courier New',monospace\"><span style=\"color: #008080; text-decoration-color: #008080; font-weight: bold\">16.752342224121094</span>\n",
       "</pre>\n"
      ],
      "text/plain": [
       "\u001b[1;36m16.752342224121094\u001b[0m\n"
      ]
     },
     "metadata": {},
     "output_type": "display_data"
    },
    {
     "data": {
      "text/html": [
       "<pre style=\"white-space:pre;overflow-x:auto;line-height:normal;font-family:Menlo,'DejaVu Sans Mono',consolas,'Courier New',monospace\"><span style=\"color: #008080; text-decoration-color: #008080; font-weight: bold\">15.046689987182617</span>\n",
       "</pre>\n"
      ],
      "text/plain": [
       "\u001b[1;36m15.046689987182617\u001b[0m\n"
      ]
     },
     "metadata": {},
     "output_type": "display_data"
    },
    {
     "data": {
      "text/html": [
       "<pre style=\"white-space:pre;overflow-x:auto;line-height:normal;font-family:Menlo,'DejaVu Sans Mono',consolas,'Courier New',monospace\"><span style=\"color: #008080; text-decoration-color: #008080; font-weight: bold\">17.830995559692383</span>\n",
       "</pre>\n"
      ],
      "text/plain": [
       "\u001b[1;36m17.830995559692383\u001b[0m\n"
      ]
     },
     "metadata": {},
     "output_type": "display_data"
    },
    {
     "data": {
      "text/html": [
       "<pre style=\"white-space:pre;overflow-x:auto;line-height:normal;font-family:Menlo,'DejaVu Sans Mono',consolas,'Courier New',monospace\"><span style=\"color: #008080; text-decoration-color: #008080; font-weight: bold\">13.933544158935547</span>\n",
       "</pre>\n"
      ],
      "text/plain": [
       "\u001b[1;36m13.933544158935547\u001b[0m\n"
      ]
     },
     "metadata": {},
     "output_type": "display_data"
    },
    {
     "data": {
      "text/html": [
       "<pre style=\"white-space:pre;overflow-x:auto;line-height:normal;font-family:Menlo,'DejaVu Sans Mono',consolas,'Courier New',monospace\"><span style=\"color: #008080; text-decoration-color: #008080; font-weight: bold\">15.390519142150879</span>\n",
       "</pre>\n"
      ],
      "text/plain": [
       "\u001b[1;36m15.390519142150879\u001b[0m\n"
      ]
     },
     "metadata": {},
     "output_type": "display_data"
    },
    {
     "data": {
      "text/html": [
       "<pre style=\"white-space:pre;overflow-x:auto;line-height:normal;font-family:Menlo,'DejaVu Sans Mono',consolas,'Courier New',monospace\"><span style=\"color: #008080; text-decoration-color: #008080; font-weight: bold\">20.355342864990234</span>\n",
       "</pre>\n"
      ],
      "text/plain": [
       "\u001b[1;36m20.355342864990234\u001b[0m\n"
      ]
     },
     "metadata": {},
     "output_type": "display_data"
    },
    {
     "data": {
      "text/html": [
       "<pre style=\"white-space:pre;overflow-x:auto;line-height:normal;font-family:Menlo,'DejaVu Sans Mono',consolas,'Courier New',monospace\"><span style=\"color: #008080; text-decoration-color: #008080; font-weight: bold\">18.667400360107422</span>\n",
       "</pre>\n"
      ],
      "text/plain": [
       "\u001b[1;36m18.667400360107422\u001b[0m\n"
      ]
     },
     "metadata": {},
     "output_type": "display_data"
    },
    {
     "data": {
      "text/html": [
       "<pre style=\"white-space:pre;overflow-x:auto;line-height:normal;font-family:Menlo,'DejaVu Sans Mono',consolas,'Courier New',monospace\"><span style=\"color: #008080; text-decoration-color: #008080; font-weight: bold\">19.183155059814453</span>\n",
       "</pre>\n"
      ],
      "text/plain": [
       "\u001b[1;36m19.183155059814453\u001b[0m\n"
      ]
     },
     "metadata": {},
     "output_type": "display_data"
    },
    {
     "data": {
      "text/html": [
       "<pre style=\"white-space:pre;overflow-x:auto;line-height:normal;font-family:Menlo,'DejaVu Sans Mono',consolas,'Courier New',monospace\"><span style=\"color: #008080; text-decoration-color: #008080; font-weight: bold\">15.295604705810547</span>\n",
       "</pre>\n"
      ],
      "text/plain": [
       "\u001b[1;36m15.295604705810547\u001b[0m\n"
      ]
     },
     "metadata": {},
     "output_type": "display_data"
    },
    {
     "data": {
      "text/html": [
       "<pre style=\"white-space:pre;overflow-x:auto;line-height:normal;font-family:Menlo,'DejaVu Sans Mono',consolas,'Courier New',monospace\"><span style=\"color: #008080; text-decoration-color: #008080; font-weight: bold\">18.599441528320312</span>\n",
       "</pre>\n"
      ],
      "text/plain": [
       "\u001b[1;36m18.599441528320312\u001b[0m\n"
      ]
     },
     "metadata": {},
     "output_type": "display_data"
    },
    {
     "data": {
      "text/html": [
       "<pre style=\"white-space:pre;overflow-x:auto;line-height:normal;font-family:Menlo,'DejaVu Sans Mono',consolas,'Courier New',monospace\"><span style=\"color: #008080; text-decoration-color: #008080; font-weight: bold\">14.340692520141602</span>\n",
       "</pre>\n"
      ],
      "text/plain": [
       "\u001b[1;36m14.340692520141602\u001b[0m\n"
      ]
     },
     "metadata": {},
     "output_type": "display_data"
    },
    {
     "data": {
      "text/html": [
       "<pre style=\"white-space:pre;overflow-x:auto;line-height:normal;font-family:Menlo,'DejaVu Sans Mono',consolas,'Courier New',monospace\"><span style=\"color: #008080; text-decoration-color: #008080; font-weight: bold\">16.938528060913086</span>\n",
       "</pre>\n"
      ],
      "text/plain": [
       "\u001b[1;36m16.938528060913086\u001b[0m\n"
      ]
     },
     "metadata": {},
     "output_type": "display_data"
    },
    {
     "data": {
      "text/html": [
       "<pre style=\"white-space:pre;overflow-x:auto;line-height:normal;font-family:Menlo,'DejaVu Sans Mono',consolas,'Courier New',monospace\"><span style=\"color: #008080; text-decoration-color: #008080; font-weight: bold\">15.195046424865723</span>\n",
       "</pre>\n"
      ],
      "text/plain": [
       "\u001b[1;36m15.195046424865723\u001b[0m\n"
      ]
     },
     "metadata": {},
     "output_type": "display_data"
    },
    {
     "data": {
      "text/html": [
       "<pre style=\"white-space:pre;overflow-x:auto;line-height:normal;font-family:Menlo,'DejaVu Sans Mono',consolas,'Courier New',monospace\"><span style=\"color: #008080; text-decoration-color: #008080; font-weight: bold\">15.59225845336914</span>\n",
       "</pre>\n"
      ],
      "text/plain": [
       "\u001b[1;36m15.59225845336914\u001b[0m\n"
      ]
     },
     "metadata": {},
     "output_type": "display_data"
    },
    {
     "data": {
      "text/html": [
       "<pre style=\"white-space:pre;overflow-x:auto;line-height:normal;font-family:Menlo,'DejaVu Sans Mono',consolas,'Courier New',monospace\"><span style=\"color: #008080; text-decoration-color: #008080; font-weight: bold\">16.465070724487305</span>\n",
       "</pre>\n"
      ],
      "text/plain": [
       "\u001b[1;36m16.465070724487305\u001b[0m\n"
      ]
     },
     "metadata": {},
     "output_type": "display_data"
    },
    {
     "data": {
      "text/html": [
       "<pre style=\"white-space:pre;overflow-x:auto;line-height:normal;font-family:Menlo,'DejaVu Sans Mono',consolas,'Courier New',monospace\"><span style=\"color: #008080; text-decoration-color: #008080; font-weight: bold\">13.818251609802246</span>\n",
       "</pre>\n"
      ],
      "text/plain": [
       "\u001b[1;36m13.818251609802246\u001b[0m\n"
      ]
     },
     "metadata": {},
     "output_type": "display_data"
    },
    {
     "data": {
      "text/html": [
       "<pre style=\"white-space:pre;overflow-x:auto;line-height:normal;font-family:Menlo,'DejaVu Sans Mono',consolas,'Courier New',monospace\"><span style=\"color: #008080; text-decoration-color: #008080; font-weight: bold\">17.285816192626953</span>\n",
       "</pre>\n"
      ],
      "text/plain": [
       "\u001b[1;36m17.285816192626953\u001b[0m\n"
      ]
     },
     "metadata": {},
     "output_type": "display_data"
    },
    {
     "data": {
      "text/html": [
       "<pre style=\"white-space:pre;overflow-x:auto;line-height:normal;font-family:Menlo,'DejaVu Sans Mono',consolas,'Courier New',monospace\"><span style=\"color: #008080; text-decoration-color: #008080; font-weight: bold\">14.382073402404785</span>\n",
       "</pre>\n"
      ],
      "text/plain": [
       "\u001b[1;36m14.382073402404785\u001b[0m\n"
      ]
     },
     "metadata": {},
     "output_type": "display_data"
    },
    {
     "data": {
      "text/html": [
       "<pre style=\"white-space:pre;overflow-x:auto;line-height:normal;font-family:Menlo,'DejaVu Sans Mono',consolas,'Courier New',monospace\"><span style=\"color: #008080; text-decoration-color: #008080; font-weight: bold\">17.707130432128906</span>\n",
       "</pre>\n"
      ],
      "text/plain": [
       "\u001b[1;36m17.707130432128906\u001b[0m\n"
      ]
     },
     "metadata": {},
     "output_type": "display_data"
    },
    {
     "data": {
      "text/html": [
       "<pre style=\"white-space:pre;overflow-x:auto;line-height:normal;font-family:Menlo,'DejaVu Sans Mono',consolas,'Courier New',monospace\"><span style=\"color: #008080; text-decoration-color: #008080; font-weight: bold\">16.847166061401367</span>\n",
       "</pre>\n"
      ],
      "text/plain": [
       "\u001b[1;36m16.847166061401367\u001b[0m\n"
      ]
     },
     "metadata": {},
     "output_type": "display_data"
    },
    {
     "data": {
      "text/html": [
       "<pre style=\"white-space:pre;overflow-x:auto;line-height:normal;font-family:Menlo,'DejaVu Sans Mono',consolas,'Courier New',monospace\"><span style=\"color: #008080; text-decoration-color: #008080; font-weight: bold\">17.062536239624023</span>\n",
       "</pre>\n"
      ],
      "text/plain": [
       "\u001b[1;36m17.062536239624023\u001b[0m\n"
      ]
     },
     "metadata": {},
     "output_type": "display_data"
    },
    {
     "data": {
      "text/html": [
       "<pre style=\"white-space:pre;overflow-x:auto;line-height:normal;font-family:Menlo,'DejaVu Sans Mono',consolas,'Courier New',monospace\"><span style=\"color: #008080; text-decoration-color: #008080; font-weight: bold\">16.929607391357422</span>\n",
       "</pre>\n"
      ],
      "text/plain": [
       "\u001b[1;36m16.929607391357422\u001b[0m\n"
      ]
     },
     "metadata": {},
     "output_type": "display_data"
    },
    {
     "data": {
      "text/html": [
       "<pre style=\"white-space:pre;overflow-x:auto;line-height:normal;font-family:Menlo,'DejaVu Sans Mono',consolas,'Courier New',monospace\"><span style=\"color: #008080; text-decoration-color: #008080; font-weight: bold\">17.248180389404297</span>\n",
       "</pre>\n"
      ],
      "text/plain": [
       "\u001b[1;36m17.248180389404297\u001b[0m\n"
      ]
     },
     "metadata": {},
     "output_type": "display_data"
    },
    {
     "data": {
      "text/html": [
       "<pre style=\"white-space:pre;overflow-x:auto;line-height:normal;font-family:Menlo,'DejaVu Sans Mono',consolas,'Courier New',monospace\"><span style=\"color: #008080; text-decoration-color: #008080; font-weight: bold\">18.132713317871094</span>\n",
       "</pre>\n"
      ],
      "text/plain": [
       "\u001b[1;36m18.132713317871094\u001b[0m\n"
      ]
     },
     "metadata": {},
     "output_type": "display_data"
    },
    {
     "data": {
      "text/html": [
       "<pre style=\"white-space:pre;overflow-x:auto;line-height:normal;font-family:Menlo,'DejaVu Sans Mono',consolas,'Courier New',monospace\"><span style=\"color: #008080; text-decoration-color: #008080; font-weight: bold\">17.176586151123047</span>\n",
       "</pre>\n"
      ],
      "text/plain": [
       "\u001b[1;36m17.176586151123047\u001b[0m\n"
      ]
     },
     "metadata": {},
     "output_type": "display_data"
    },
    {
     "data": {
      "text/html": [
       "<pre style=\"white-space:pre;overflow-x:auto;line-height:normal;font-family:Menlo,'DejaVu Sans Mono',consolas,'Courier New',monospace\"><span style=\"color: #008080; text-decoration-color: #008080; font-weight: bold\">15.870104789733887</span>\n",
       "</pre>\n"
      ],
      "text/plain": [
       "\u001b[1;36m15.870104789733887\u001b[0m\n"
      ]
     },
     "metadata": {},
     "output_type": "display_data"
    },
    {
     "data": {
      "text/html": [
       "<pre style=\"white-space:pre;overflow-x:auto;line-height:normal;font-family:Menlo,'DejaVu Sans Mono',consolas,'Courier New',monospace\"><span style=\"color: #008080; text-decoration-color: #008080; font-weight: bold\">16.834692001342773</span>\n",
       "</pre>\n"
      ],
      "text/plain": [
       "\u001b[1;36m16.834692001342773\u001b[0m\n"
      ]
     },
     "metadata": {},
     "output_type": "display_data"
    },
    {
     "data": {
      "text/html": [
       "<pre style=\"white-space:pre;overflow-x:auto;line-height:normal;font-family:Menlo,'DejaVu Sans Mono',consolas,'Courier New',monospace\"><span style=\"color: #008080; text-decoration-color: #008080; font-weight: bold\">17.156105041503906</span>\n",
       "</pre>\n"
      ],
      "text/plain": [
       "\u001b[1;36m17.156105041503906\u001b[0m\n"
      ]
     },
     "metadata": {},
     "output_type": "display_data"
    },
    {
     "data": {
      "text/html": [
       "<pre style=\"white-space:pre;overflow-x:auto;line-height:normal;font-family:Menlo,'DejaVu Sans Mono',consolas,'Courier New',monospace\"><span style=\"color: #008080; text-decoration-color: #008080; font-weight: bold\">18.285049438476562</span>\n",
       "</pre>\n"
      ],
      "text/plain": [
       "\u001b[1;36m18.285049438476562\u001b[0m\n"
      ]
     },
     "metadata": {},
     "output_type": "display_data"
    },
    {
     "data": {
      "text/html": [
       "<pre style=\"white-space:pre;overflow-x:auto;line-height:normal;font-family:Menlo,'DejaVu Sans Mono',consolas,'Courier New',monospace\"><span style=\"color: #008080; text-decoration-color: #008080; font-weight: bold\">16.918445587158203</span>\n",
       "</pre>\n"
      ],
      "text/plain": [
       "\u001b[1;36m16.918445587158203\u001b[0m\n"
      ]
     },
     "metadata": {},
     "output_type": "display_data"
    },
    {
     "data": {
      "text/html": [
       "<pre style=\"white-space:pre;overflow-x:auto;line-height:normal;font-family:Menlo,'DejaVu Sans Mono',consolas,'Courier New',monospace\"><span style=\"color: #008080; text-decoration-color: #008080; font-weight: bold\">15.860414505004883</span>\n",
       "</pre>\n"
      ],
      "text/plain": [
       "\u001b[1;36m15.860414505004883\u001b[0m\n"
      ]
     },
     "metadata": {},
     "output_type": "display_data"
    },
    {
     "data": {
      "text/html": [
       "<pre style=\"white-space:pre;overflow-x:auto;line-height:normal;font-family:Menlo,'DejaVu Sans Mono',consolas,'Courier New',monospace\"><span style=\"color: #008080; text-decoration-color: #008080; font-weight: bold\">16.43604850769043</span>\n",
       "</pre>\n"
      ],
      "text/plain": [
       "\u001b[1;36m16.43604850769043\u001b[0m\n"
      ]
     },
     "metadata": {},
     "output_type": "display_data"
    },
    {
     "data": {
      "text/html": [
       "<pre style=\"white-space:pre;overflow-x:auto;line-height:normal;font-family:Menlo,'DejaVu Sans Mono',consolas,'Courier New',monospace\"><span style=\"color: #008080; text-decoration-color: #008080; font-weight: bold\">14.84459114074707</span>\n",
       "</pre>\n"
      ],
      "text/plain": [
       "\u001b[1;36m14.84459114074707\u001b[0m\n"
      ]
     },
     "metadata": {},
     "output_type": "display_data"
    },
    {
     "data": {
      "text/html": [
       "<pre style=\"white-space:pre;overflow-x:auto;line-height:normal;font-family:Menlo,'DejaVu Sans Mono',consolas,'Courier New',monospace\"><span style=\"color: #008080; text-decoration-color: #008080; font-weight: bold\">15.504717826843262</span>\n",
       "</pre>\n"
      ],
      "text/plain": [
       "\u001b[1;36m15.504717826843262\u001b[0m\n"
      ]
     },
     "metadata": {},
     "output_type": "display_data"
    },
    {
     "data": {
      "text/html": [
       "<pre style=\"white-space:pre;overflow-x:auto;line-height:normal;font-family:Menlo,'DejaVu Sans Mono',consolas,'Courier New',monospace\"><span style=\"color: #008080; text-decoration-color: #008080; font-weight: bold\">12.409363746643066</span>\n",
       "</pre>\n"
      ],
      "text/plain": [
       "\u001b[1;36m12.409363746643066\u001b[0m\n"
      ]
     },
     "metadata": {},
     "output_type": "display_data"
    },
    {
     "data": {
      "text/html": [
       "<pre style=\"white-space:pre;overflow-x:auto;line-height:normal;font-family:Menlo,'DejaVu Sans Mono',consolas,'Courier New',monospace\"><span style=\"color: #008080; text-decoration-color: #008080; font-weight: bold\">15.460453987121582</span>\n",
       "</pre>\n"
      ],
      "text/plain": [
       "\u001b[1;36m15.460453987121582\u001b[0m\n"
      ]
     },
     "metadata": {},
     "output_type": "display_data"
    },
    {
     "data": {
      "text/html": [
       "<pre style=\"white-space:pre;overflow-x:auto;line-height:normal;font-family:Menlo,'DejaVu Sans Mono',consolas,'Courier New',monospace\"><span style=\"color: #008080; text-decoration-color: #008080; font-weight: bold\">10.637042999267578</span>\n",
       "</pre>\n"
      ],
      "text/plain": [
       "\u001b[1;36m10.637042999267578\u001b[0m\n"
      ]
     },
     "metadata": {},
     "output_type": "display_data"
    },
    {
     "data": {
      "text/html": [
       "<pre style=\"white-space:pre;overflow-x:auto;line-height:normal;font-family:Menlo,'DejaVu Sans Mono',consolas,'Courier New',monospace\"><span style=\"color: #008080; text-decoration-color: #008080; font-weight: bold\">11.94433307647705</span>\n",
       "</pre>\n"
      ],
      "text/plain": [
       "\u001b[1;36m11.94433307647705\u001b[0m\n"
      ]
     },
     "metadata": {},
     "output_type": "display_data"
    },
    {
     "data": {
      "text/html": [
       "<pre style=\"white-space:pre;overflow-x:auto;line-height:normal;font-family:Menlo,'DejaVu Sans Mono',consolas,'Courier New',monospace\"><span style=\"color: #008080; text-decoration-color: #008080; font-weight: bold\">16.0494441986084</span>\n",
       "</pre>\n"
      ],
      "text/plain": [
       "\u001b[1;36m16.0494441986084\u001b[0m\n"
      ]
     },
     "metadata": {},
     "output_type": "display_data"
    },
    {
     "data": {
      "text/html": [
       "<pre style=\"white-space:pre;overflow-x:auto;line-height:normal;font-family:Menlo,'DejaVu Sans Mono',consolas,'Courier New',monospace\"><span style=\"color: #008080; text-decoration-color: #008080; font-weight: bold\">16.84019660949707</span>\n",
       "</pre>\n"
      ],
      "text/plain": [
       "\u001b[1;36m16.84019660949707\u001b[0m\n"
      ]
     },
     "metadata": {},
     "output_type": "display_data"
    },
    {
     "data": {
      "text/html": [
       "<pre style=\"white-space:pre;overflow-x:auto;line-height:normal;font-family:Menlo,'DejaVu Sans Mono',consolas,'Courier New',monospace\"><span style=\"color: #008080; text-decoration-color: #008080; font-weight: bold\">15.815882682800293</span>\n",
       "</pre>\n"
      ],
      "text/plain": [
       "\u001b[1;36m15.815882682800293\u001b[0m\n"
      ]
     },
     "metadata": {},
     "output_type": "display_data"
    },
    {
     "data": {
      "text/html": [
       "<pre style=\"white-space:pre;overflow-x:auto;line-height:normal;font-family:Menlo,'DejaVu Sans Mono',consolas,'Courier New',monospace\"><span style=\"color: #008080; text-decoration-color: #008080; font-weight: bold\">17.930086135864258</span>\n",
       "</pre>\n"
      ],
      "text/plain": [
       "\u001b[1;36m17.930086135864258\u001b[0m\n"
      ]
     },
     "metadata": {},
     "output_type": "display_data"
    },
    {
     "data": {
      "text/html": [
       "<pre style=\"white-space:pre;overflow-x:auto;line-height:normal;font-family:Menlo,'DejaVu Sans Mono',consolas,'Courier New',monospace\"><span style=\"color: #008080; text-decoration-color: #008080; font-weight: bold\">16.299571990966797</span>\n",
       "</pre>\n"
      ],
      "text/plain": [
       "\u001b[1;36m16.299571990966797\u001b[0m\n"
      ]
     },
     "metadata": {},
     "output_type": "display_data"
    },
    {
     "data": {
      "text/html": [
       "<pre style=\"white-space:pre;overflow-x:auto;line-height:normal;font-family:Menlo,'DejaVu Sans Mono',consolas,'Courier New',monospace\"><span style=\"color: #008080; text-decoration-color: #008080; font-weight: bold\">17.572729110717773</span>\n",
       "</pre>\n"
      ],
      "text/plain": [
       "\u001b[1;36m17.572729110717773\u001b[0m\n"
      ]
     },
     "metadata": {},
     "output_type": "display_data"
    },
    {
     "data": {
      "text/html": [
       "<pre style=\"white-space:pre;overflow-x:auto;line-height:normal;font-family:Menlo,'DejaVu Sans Mono',consolas,'Courier New',monospace\"><span style=\"color: #008080; text-decoration-color: #008080; font-weight: bold\">16.61911392211914</span>\n",
       "</pre>\n"
      ],
      "text/plain": [
       "\u001b[1;36m16.61911392211914\u001b[0m\n"
      ]
     },
     "metadata": {},
     "output_type": "display_data"
    },
    {
     "data": {
      "text/html": [
       "<pre style=\"white-space:pre;overflow-x:auto;line-height:normal;font-family:Menlo,'DejaVu Sans Mono',consolas,'Courier New',monospace\"><span style=\"color: #008080; text-decoration-color: #008080; font-weight: bold\">19.638303756713867</span>\n",
       "</pre>\n"
      ],
      "text/plain": [
       "\u001b[1;36m19.638303756713867\u001b[0m\n"
      ]
     },
     "metadata": {},
     "output_type": "display_data"
    },
    {
     "data": {
      "text/html": [
       "<pre style=\"white-space:pre;overflow-x:auto;line-height:normal;font-family:Menlo,'DejaVu Sans Mono',consolas,'Courier New',monospace\"><span style=\"color: #008080; text-decoration-color: #008080; font-weight: bold\">16.694002151489258</span>\n",
       "</pre>\n"
      ],
      "text/plain": [
       "\u001b[1;36m16.694002151489258\u001b[0m\n"
      ]
     },
     "metadata": {},
     "output_type": "display_data"
    },
    {
     "data": {
      "text/html": [
       "<pre style=\"white-space:pre;overflow-x:auto;line-height:normal;font-family:Menlo,'DejaVu Sans Mono',consolas,'Courier New',monospace\"><span style=\"color: #008080; text-decoration-color: #008080; font-weight: bold\">18.708654403686523</span>\n",
       "</pre>\n"
      ],
      "text/plain": [
       "\u001b[1;36m18.708654403686523\u001b[0m\n"
      ]
     },
     "metadata": {},
     "output_type": "display_data"
    },
    {
     "data": {
      "text/html": [
       "<pre style=\"white-space:pre;overflow-x:auto;line-height:normal;font-family:Menlo,'DejaVu Sans Mono',consolas,'Courier New',monospace\"><span style=\"color: #008080; text-decoration-color: #008080; font-weight: bold\">15.46377944946289</span>\n",
       "</pre>\n"
      ],
      "text/plain": [
       "\u001b[1;36m15.46377944946289\u001b[0m\n"
      ]
     },
     "metadata": {},
     "output_type": "display_data"
    },
    {
     "data": {
      "text/html": [
       "<pre style=\"white-space:pre;overflow-x:auto;line-height:normal;font-family:Menlo,'DejaVu Sans Mono',consolas,'Courier New',monospace\"><span style=\"color: #008080; text-decoration-color: #008080; font-weight: bold\">17.627099990844727</span>\n",
       "</pre>\n"
      ],
      "text/plain": [
       "\u001b[1;36m17.627099990844727\u001b[0m\n"
      ]
     },
     "metadata": {},
     "output_type": "display_data"
    },
    {
     "data": {
      "text/html": [
       "<pre style=\"white-space:pre;overflow-x:auto;line-height:normal;font-family:Menlo,'DejaVu Sans Mono',consolas,'Courier New',monospace\"><span style=\"color: #008080; text-decoration-color: #008080; font-weight: bold\">14.878548622131348</span>\n",
       "</pre>\n"
      ],
      "text/plain": [
       "\u001b[1;36m14.878548622131348\u001b[0m\n"
      ]
     },
     "metadata": {},
     "output_type": "display_data"
    },
    {
     "data": {
      "text/html": [
       "<pre style=\"white-space:pre;overflow-x:auto;line-height:normal;font-family:Menlo,'DejaVu Sans Mono',consolas,'Courier New',monospace\"><span style=\"color: #008080; text-decoration-color: #008080; font-weight: bold\">12.6272554397583</span>\n",
       "</pre>\n"
      ],
      "text/plain": [
       "\u001b[1;36m12.6272554397583\u001b[0m\n"
      ]
     },
     "metadata": {},
     "output_type": "display_data"
    },
    {
     "data": {
      "text/html": [
       "<pre style=\"white-space:pre;overflow-x:auto;line-height:normal;font-family:Menlo,'DejaVu Sans Mono',consolas,'Courier New',monospace\"><span style=\"color: #008080; text-decoration-color: #008080; font-weight: bold\">16.838193893432617</span>\n",
       "</pre>\n"
      ],
      "text/plain": [
       "\u001b[1;36m16.838193893432617\u001b[0m\n"
      ]
     },
     "metadata": {},
     "output_type": "display_data"
    },
    {
     "data": {
      "text/html": [
       "<pre style=\"white-space:pre;overflow-x:auto;line-height:normal;font-family:Menlo,'DejaVu Sans Mono',consolas,'Courier New',monospace\"><span style=\"color: #008080; text-decoration-color: #008080; font-weight: bold\">15.51134204864502</span>\n",
       "</pre>\n"
      ],
      "text/plain": [
       "\u001b[1;36m15.51134204864502\u001b[0m\n"
      ]
     },
     "metadata": {},
     "output_type": "display_data"
    },
    {
     "data": {
      "text/html": [
       "<pre style=\"white-space:pre;overflow-x:auto;line-height:normal;font-family:Menlo,'DejaVu Sans Mono',consolas,'Courier New',monospace\"><span style=\"color: #008080; text-decoration-color: #008080; font-weight: bold\">17.023344039916992</span>\n",
       "</pre>\n"
      ],
      "text/plain": [
       "\u001b[1;36m17.023344039916992\u001b[0m\n"
      ]
     },
     "metadata": {},
     "output_type": "display_data"
    },
    {
     "data": {
      "text/html": [
       "<pre style=\"white-space:pre;overflow-x:auto;line-height:normal;font-family:Menlo,'DejaVu Sans Mono',consolas,'Courier New',monospace\"><span style=\"color: #008080; text-decoration-color: #008080; font-weight: bold\">14.554750442504883</span>\n",
       "</pre>\n"
      ],
      "text/plain": [
       "\u001b[1;36m14.554750442504883\u001b[0m\n"
      ]
     },
     "metadata": {},
     "output_type": "display_data"
    },
    {
     "data": {
      "text/html": [
       "<pre style=\"white-space:pre;overflow-x:auto;line-height:normal;font-family:Menlo,'DejaVu Sans Mono',consolas,'Courier New',monospace\"><span style=\"color: #008080; text-decoration-color: #008080; font-weight: bold\">14.09605884552002</span>\n",
       "</pre>\n"
      ],
      "text/plain": [
       "\u001b[1;36m14.09605884552002\u001b[0m\n"
      ]
     },
     "metadata": {},
     "output_type": "display_data"
    },
    {
     "data": {
      "text/html": [
       "<pre style=\"white-space:pre;overflow-x:auto;line-height:normal;font-family:Menlo,'DejaVu Sans Mono',consolas,'Courier New',monospace\"><span style=\"color: #008080; text-decoration-color: #008080; font-weight: bold\">17.330459594726562</span>\n",
       "</pre>\n"
      ],
      "text/plain": [
       "\u001b[1;36m17.330459594726562\u001b[0m\n"
      ]
     },
     "metadata": {},
     "output_type": "display_data"
    },
    {
     "data": {
      "text/html": [
       "<pre style=\"white-space:pre;overflow-x:auto;line-height:normal;font-family:Menlo,'DejaVu Sans Mono',consolas,'Courier New',monospace\"><span style=\"color: #008080; text-decoration-color: #008080; font-weight: bold\">15.526243209838867</span>\n",
       "</pre>\n"
      ],
      "text/plain": [
       "\u001b[1;36m15.526243209838867\u001b[0m\n"
      ]
     },
     "metadata": {},
     "output_type": "display_data"
    },
    {
     "data": {
      "text/html": [
       "<pre style=\"white-space:pre;overflow-x:auto;line-height:normal;font-family:Menlo,'DejaVu Sans Mono',consolas,'Courier New',monospace\"><span style=\"color: #008080; text-decoration-color: #008080; font-weight: bold\">12.732669830322266</span>\n",
       "</pre>\n"
      ],
      "text/plain": [
       "\u001b[1;36m12.732669830322266\u001b[0m\n"
      ]
     },
     "metadata": {},
     "output_type": "display_data"
    },
    {
     "data": {
      "text/html": [
       "<pre style=\"white-space:pre;overflow-x:auto;line-height:normal;font-family:Menlo,'DejaVu Sans Mono',consolas,'Courier New',monospace\"><span style=\"color: #008080; text-decoration-color: #008080; font-weight: bold\">15.036983489990234</span>\n",
       "</pre>\n"
      ],
      "text/plain": [
       "\u001b[1;36m15.036983489990234\u001b[0m\n"
      ]
     },
     "metadata": {},
     "output_type": "display_data"
    },
    {
     "data": {
      "text/html": [
       "<pre style=\"white-space:pre;overflow-x:auto;line-height:normal;font-family:Menlo,'DejaVu Sans Mono',consolas,'Courier New',monospace\"><span style=\"color: #008080; text-decoration-color: #008080; font-weight: bold\">14.55704116821289</span>\n",
       "</pre>\n"
      ],
      "text/plain": [
       "\u001b[1;36m14.55704116821289\u001b[0m\n"
      ]
     },
     "metadata": {},
     "output_type": "display_data"
    },
    {
     "data": {
      "text/html": [
       "<pre style=\"white-space:pre;overflow-x:auto;line-height:normal;font-family:Menlo,'DejaVu Sans Mono',consolas,'Courier New',monospace\"><span style=\"color: #008080; text-decoration-color: #008080; font-weight: bold\">15.84503173828125</span>\n",
       "</pre>\n"
      ],
      "text/plain": [
       "\u001b[1;36m15.84503173828125\u001b[0m\n"
      ]
     },
     "metadata": {},
     "output_type": "display_data"
    },
    {
     "data": {
      "text/html": [
       "<pre style=\"white-space:pre;overflow-x:auto;line-height:normal;font-family:Menlo,'DejaVu Sans Mono',consolas,'Courier New',monospace\"><span style=\"color: #008080; text-decoration-color: #008080; font-weight: bold\">13.896175384521484</span>\n",
       "</pre>\n"
      ],
      "text/plain": [
       "\u001b[1;36m13.896175384521484\u001b[0m\n"
      ]
     },
     "metadata": {},
     "output_type": "display_data"
    },
    {
     "data": {
      "text/html": [
       "<pre style=\"white-space:pre;overflow-x:auto;line-height:normal;font-family:Menlo,'DejaVu Sans Mono',consolas,'Courier New',monospace\"><span style=\"color: #008080; text-decoration-color: #008080; font-weight: bold\">16.515533447265625</span>\n",
       "</pre>\n"
      ],
      "text/plain": [
       "\u001b[1;36m16.515533447265625\u001b[0m\n"
      ]
     },
     "metadata": {},
     "output_type": "display_data"
    },
    {
     "data": {
      "text/html": [
       "<pre style=\"white-space:pre;overflow-x:auto;line-height:normal;font-family:Menlo,'DejaVu Sans Mono',consolas,'Courier New',monospace\"><span style=\"color: #008080; text-decoration-color: #008080; font-weight: bold\">15.440160751342773</span>\n",
       "</pre>\n"
      ],
      "text/plain": [
       "\u001b[1;36m15.440160751342773\u001b[0m\n"
      ]
     },
     "metadata": {},
     "output_type": "display_data"
    },
    {
     "data": {
      "text/html": [
       "<pre style=\"white-space:pre;overflow-x:auto;line-height:normal;font-family:Menlo,'DejaVu Sans Mono',consolas,'Courier New',monospace\"><span style=\"color: #008080; text-decoration-color: #008080; font-weight: bold\">15.4408597946167</span>\n",
       "</pre>\n"
      ],
      "text/plain": [
       "\u001b[1;36m15.4408597946167\u001b[0m\n"
      ]
     },
     "metadata": {},
     "output_type": "display_data"
    },
    {
     "data": {
      "text/html": [
       "<pre style=\"white-space:pre;overflow-x:auto;line-height:normal;font-family:Menlo,'DejaVu Sans Mono',consolas,'Courier New',monospace\"><span style=\"color: #008080; text-decoration-color: #008080; font-weight: bold\">16.77860450744629</span>\n",
       "</pre>\n"
      ],
      "text/plain": [
       "\u001b[1;36m16.77860450744629\u001b[0m\n"
      ]
     },
     "metadata": {},
     "output_type": "display_data"
    },
    {
     "data": {
      "text/html": [
       "<pre style=\"white-space:pre;overflow-x:auto;line-height:normal;font-family:Menlo,'DejaVu Sans Mono',consolas,'Courier New',monospace\"><span style=\"color: #008080; text-decoration-color: #008080; font-weight: bold\">15.04053020477295</span>\n",
       "</pre>\n"
      ],
      "text/plain": [
       "\u001b[1;36m15.04053020477295\u001b[0m\n"
      ]
     },
     "metadata": {},
     "output_type": "display_data"
    },
    {
     "data": {
      "text/html": [
       "<pre style=\"white-space:pre;overflow-x:auto;line-height:normal;font-family:Menlo,'DejaVu Sans Mono',consolas,'Courier New',monospace\"><span style=\"color: #008080; text-decoration-color: #008080; font-weight: bold\">15.74921989440918</span>\n",
       "</pre>\n"
      ],
      "text/plain": [
       "\u001b[1;36m15.74921989440918\u001b[0m\n"
      ]
     },
     "metadata": {},
     "output_type": "display_data"
    },
    {
     "data": {
      "text/html": [
       "<pre style=\"white-space:pre;overflow-x:auto;line-height:normal;font-family:Menlo,'DejaVu Sans Mono',consolas,'Courier New',monospace\"><span style=\"color: #008080; text-decoration-color: #008080; font-weight: bold\">17.144479751586914</span>\n",
       "</pre>\n"
      ],
      "text/plain": [
       "\u001b[1;36m17.144479751586914\u001b[0m\n"
      ]
     },
     "metadata": {},
     "output_type": "display_data"
    },
    {
     "data": {
      "text/html": [
       "<pre style=\"white-space:pre;overflow-x:auto;line-height:normal;font-family:Menlo,'DejaVu Sans Mono',consolas,'Courier New',monospace\"><span style=\"color: #008080; text-decoration-color: #008080; font-weight: bold\">13.957348823547363</span>\n",
       "</pre>\n"
      ],
      "text/plain": [
       "\u001b[1;36m13.957348823547363\u001b[0m\n"
      ]
     },
     "metadata": {},
     "output_type": "display_data"
    },
    {
     "data": {
      "text/html": [
       "<pre style=\"white-space:pre;overflow-x:auto;line-height:normal;font-family:Menlo,'DejaVu Sans Mono',consolas,'Courier New',monospace\"><span style=\"color: #008080; text-decoration-color: #008080; font-weight: bold\">13.837481498718262</span>\n",
       "</pre>\n"
      ],
      "text/plain": [
       "\u001b[1;36m13.837481498718262\u001b[0m\n"
      ]
     },
     "metadata": {},
     "output_type": "display_data"
    },
    {
     "data": {
      "text/html": [
       "<pre style=\"white-space:pre;overflow-x:auto;line-height:normal;font-family:Menlo,'DejaVu Sans Mono',consolas,'Courier New',monospace\"><span style=\"color: #008080; text-decoration-color: #008080; font-weight: bold\">14.554952621459961</span>\n",
       "</pre>\n"
      ],
      "text/plain": [
       "\u001b[1;36m14.554952621459961\u001b[0m\n"
      ]
     },
     "metadata": {},
     "output_type": "display_data"
    },
    {
     "data": {
      "text/html": [
       "<pre style=\"white-space:pre;overflow-x:auto;line-height:normal;font-family:Menlo,'DejaVu Sans Mono',consolas,'Courier New',monospace\"><span style=\"color: #008080; text-decoration-color: #008080; font-weight: bold\">13.742769241333008</span>\n",
       "</pre>\n"
      ],
      "text/plain": [
       "\u001b[1;36m13.742769241333008\u001b[0m\n"
      ]
     },
     "metadata": {},
     "output_type": "display_data"
    },
    {
     "data": {
      "text/html": [
       "<pre style=\"white-space:pre;overflow-x:auto;line-height:normal;font-family:Menlo,'DejaVu Sans Mono',consolas,'Courier New',monospace\"><span style=\"color: #008080; text-decoration-color: #008080; font-weight: bold\">14.834546089172363</span>\n",
       "</pre>\n"
      ],
      "text/plain": [
       "\u001b[1;36m14.834546089172363\u001b[0m\n"
      ]
     },
     "metadata": {},
     "output_type": "display_data"
    },
    {
     "data": {
      "text/html": [
       "<pre style=\"white-space:pre;overflow-x:auto;line-height:normal;font-family:Menlo,'DejaVu Sans Mono',consolas,'Courier New',monospace\"><span style=\"color: #008080; text-decoration-color: #008080; font-weight: bold\">15.320348739624023</span>\n",
       "</pre>\n"
      ],
      "text/plain": [
       "\u001b[1;36m15.320348739624023\u001b[0m\n"
      ]
     },
     "metadata": {},
     "output_type": "display_data"
    },
    {
     "data": {
      "text/html": [
       "<pre style=\"white-space:pre;overflow-x:auto;line-height:normal;font-family:Menlo,'DejaVu Sans Mono',consolas,'Courier New',monospace\"><span style=\"color: #008080; text-decoration-color: #008080; font-weight: bold\">16.178157806396484</span>\n",
       "</pre>\n"
      ],
      "text/plain": [
       "\u001b[1;36m16.178157806396484\u001b[0m\n"
      ]
     },
     "metadata": {},
     "output_type": "display_data"
    },
    {
     "data": {
      "text/html": [
       "<pre style=\"white-space:pre;overflow-x:auto;line-height:normal;font-family:Menlo,'DejaVu Sans Mono',consolas,'Courier New',monospace\"><span style=\"color: #008080; text-decoration-color: #008080; font-weight: bold\">14.162126541137695</span>\n",
       "</pre>\n"
      ],
      "text/plain": [
       "\u001b[1;36m14.162126541137695\u001b[0m\n"
      ]
     },
     "metadata": {},
     "output_type": "display_data"
    },
    {
     "data": {
      "text/html": [
       "<pre style=\"white-space:pre;overflow-x:auto;line-height:normal;font-family:Menlo,'DejaVu Sans Mono',consolas,'Courier New',monospace\"><span style=\"color: #008080; text-decoration-color: #008080; font-weight: bold\">14.475885391235352</span>\n",
       "</pre>\n"
      ],
      "text/plain": [
       "\u001b[1;36m14.475885391235352\u001b[0m\n"
      ]
     },
     "metadata": {},
     "output_type": "display_data"
    },
    {
     "data": {
      "text/html": [
       "<pre style=\"white-space:pre;overflow-x:auto;line-height:normal;font-family:Menlo,'DejaVu Sans Mono',consolas,'Courier New',monospace\"><span style=\"color: #008080; text-decoration-color: #008080; font-weight: bold\">13.318647384643555</span>\n",
       "</pre>\n"
      ],
      "text/plain": [
       "\u001b[1;36m13.318647384643555\u001b[0m\n"
      ]
     },
     "metadata": {},
     "output_type": "display_data"
    },
    {
     "data": {
      "text/html": [
       "<pre style=\"white-space:pre;overflow-x:auto;line-height:normal;font-family:Menlo,'DejaVu Sans Mono',consolas,'Courier New',monospace\"><span style=\"color: #008080; text-decoration-color: #008080; font-weight: bold\">13.024133682250977</span>\n",
       "</pre>\n"
      ],
      "text/plain": [
       "\u001b[1;36m13.024133682250977\u001b[0m\n"
      ]
     },
     "metadata": {},
     "output_type": "display_data"
    },
    {
     "data": {
      "text/html": [
       "<pre style=\"white-space:pre;overflow-x:auto;line-height:normal;font-family:Menlo,'DejaVu Sans Mono',consolas,'Courier New',monospace\"><span style=\"color: #008080; text-decoration-color: #008080; font-weight: bold\">15.554403305053711</span>\n",
       "</pre>\n"
      ],
      "text/plain": [
       "\u001b[1;36m15.554403305053711\u001b[0m\n"
      ]
     },
     "metadata": {},
     "output_type": "display_data"
    },
    {
     "data": {
      "text/html": [
       "<pre style=\"white-space:pre;overflow-x:auto;line-height:normal;font-family:Menlo,'DejaVu Sans Mono',consolas,'Courier New',monospace\"><span style=\"color: #008080; text-decoration-color: #008080; font-weight: bold\">13.040825843811035</span>\n",
       "</pre>\n"
      ],
      "text/plain": [
       "\u001b[1;36m13.040825843811035\u001b[0m\n"
      ]
     },
     "metadata": {},
     "output_type": "display_data"
    },
    {
     "data": {
      "text/html": [
       "<pre style=\"white-space:pre;overflow-x:auto;line-height:normal;font-family:Menlo,'DejaVu Sans Mono',consolas,'Courier New',monospace\"><span style=\"color: #008080; text-decoration-color: #008080; font-weight: bold\">13.139906883239746</span>\n",
       "</pre>\n"
      ],
      "text/plain": [
       "\u001b[1;36m13.139906883239746\u001b[0m\n"
      ]
     },
     "metadata": {},
     "output_type": "display_data"
    },
    {
     "data": {
      "text/html": [
       "<pre style=\"white-space:pre;overflow-x:auto;line-height:normal;font-family:Menlo,'DejaVu Sans Mono',consolas,'Courier New',monospace\"><span style=\"color: #008080; text-decoration-color: #008080; font-weight: bold\">13.412982940673828</span>\n",
       "</pre>\n"
      ],
      "text/plain": [
       "\u001b[1;36m13.412982940673828\u001b[0m\n"
      ]
     },
     "metadata": {},
     "output_type": "display_data"
    },
    {
     "data": {
      "text/html": [
       "<pre style=\"white-space:pre;overflow-x:auto;line-height:normal;font-family:Menlo,'DejaVu Sans Mono',consolas,'Courier New',monospace\"><span style=\"color: #008080; text-decoration-color: #008080; font-weight: bold\">14.798907279968262</span>\n",
       "</pre>\n"
      ],
      "text/plain": [
       "\u001b[1;36m14.798907279968262\u001b[0m\n"
      ]
     },
     "metadata": {},
     "output_type": "display_data"
    },
    {
     "data": {
      "text/html": [
       "<pre style=\"white-space:pre;overflow-x:auto;line-height:normal;font-family:Menlo,'DejaVu Sans Mono',consolas,'Courier New',monospace\"><span style=\"color: #008080; text-decoration-color: #008080; font-weight: bold\">15.035326957702637</span>\n",
       "</pre>\n"
      ],
      "text/plain": [
       "\u001b[1;36m15.035326957702637\u001b[0m\n"
      ]
     },
     "metadata": {},
     "output_type": "display_data"
    },
    {
     "data": {
      "text/html": [
       "<pre style=\"white-space:pre;overflow-x:auto;line-height:normal;font-family:Menlo,'DejaVu Sans Mono',consolas,'Courier New',monospace\"><span style=\"color: #008080; text-decoration-color: #008080; font-weight: bold\">15.793319702148438</span>\n",
       "</pre>\n"
      ],
      "text/plain": [
       "\u001b[1;36m15.793319702148438\u001b[0m\n"
      ]
     },
     "metadata": {},
     "output_type": "display_data"
    },
    {
     "data": {
      "text/html": [
       "<pre style=\"white-space:pre;overflow-x:auto;line-height:normal;font-family:Menlo,'DejaVu Sans Mono',consolas,'Courier New',monospace\"><span style=\"color: #008080; text-decoration-color: #008080; font-weight: bold\">17.829914093017578</span>\n",
       "</pre>\n"
      ],
      "text/plain": [
       "\u001b[1;36m17.829914093017578\u001b[0m\n"
      ]
     },
     "metadata": {},
     "output_type": "display_data"
    },
    {
     "data": {
      "text/html": [
       "<pre style=\"white-space:pre;overflow-x:auto;line-height:normal;font-family:Menlo,'DejaVu Sans Mono',consolas,'Courier New',monospace\"><span style=\"color: #008080; text-decoration-color: #008080; font-weight: bold\">15.960289001464844</span>\n",
       "</pre>\n"
      ],
      "text/plain": [
       "\u001b[1;36m15.960289001464844\u001b[0m\n"
      ]
     },
     "metadata": {},
     "output_type": "display_data"
    },
    {
     "data": {
      "text/html": [
       "<pre style=\"white-space:pre;overflow-x:auto;line-height:normal;font-family:Menlo,'DejaVu Sans Mono',consolas,'Courier New',monospace\"><span style=\"color: #008080; text-decoration-color: #008080; font-weight: bold\">13.849530220031738</span>\n",
       "</pre>\n"
      ],
      "text/plain": [
       "\u001b[1;36m13.849530220031738\u001b[0m\n"
      ]
     },
     "metadata": {},
     "output_type": "display_data"
    },
    {
     "data": {
      "text/html": [
       "<pre style=\"white-space:pre;overflow-x:auto;line-height:normal;font-family:Menlo,'DejaVu Sans Mono',consolas,'Courier New',monospace\"><span style=\"color: #008080; text-decoration-color: #008080; font-weight: bold\">17.776826858520508</span>\n",
       "</pre>\n"
      ],
      "text/plain": [
       "\u001b[1;36m17.776826858520508\u001b[0m\n"
      ]
     },
     "metadata": {},
     "output_type": "display_data"
    },
    {
     "data": {
      "text/html": [
       "<pre style=\"white-space:pre;overflow-x:auto;line-height:normal;font-family:Menlo,'DejaVu Sans Mono',consolas,'Courier New',monospace\"><span style=\"color: #008080; text-decoration-color: #008080; font-weight: bold\">13.689745903015137</span>\n",
       "</pre>\n"
      ],
      "text/plain": [
       "\u001b[1;36m13.689745903015137\u001b[0m\n"
      ]
     },
     "metadata": {},
     "output_type": "display_data"
    },
    {
     "data": {
      "text/html": [
       "<pre style=\"white-space:pre;overflow-x:auto;line-height:normal;font-family:Menlo,'DejaVu Sans Mono',consolas,'Courier New',monospace\"><span style=\"color: #008080; text-decoration-color: #008080; font-weight: bold\">15.337897300720215</span>\n",
       "</pre>\n"
      ],
      "text/plain": [
       "\u001b[1;36m15.337897300720215\u001b[0m\n"
      ]
     },
     "metadata": {},
     "output_type": "display_data"
    },
    {
     "data": {
      "text/html": [
       "<pre style=\"white-space:pre;overflow-x:auto;line-height:normal;font-family:Menlo,'DejaVu Sans Mono',consolas,'Courier New',monospace\"><span style=\"color: #008080; text-decoration-color: #008080; font-weight: bold\">16.165637969970703</span>\n",
       "</pre>\n"
      ],
      "text/plain": [
       "\u001b[1;36m16.165637969970703\u001b[0m\n"
      ]
     },
     "metadata": {},
     "output_type": "display_data"
    },
    {
     "data": {
      "text/html": [
       "<pre style=\"white-space:pre;overflow-x:auto;line-height:normal;font-family:Menlo,'DejaVu Sans Mono',consolas,'Courier New',monospace\"><span style=\"color: #008080; text-decoration-color: #008080; font-weight: bold\">14.501823425292969</span>\n",
       "</pre>\n"
      ],
      "text/plain": [
       "\u001b[1;36m14.501823425292969\u001b[0m\n"
      ]
     },
     "metadata": {},
     "output_type": "display_data"
    }
   ],
   "source": [
    "params, loss = train(100, X, Y, 0.001)"
   ]
  },
  {
   "cell_type": "markdown",
   "id": "1dfc99f9",
   "metadata": {},
   "source": [
    "Decreasing quite slow"
   ]
  },
  {
   "cell_type": "code",
   "execution_count": 369,
   "id": "286509b9",
   "metadata": {},
   "outputs": [
    {
     "data": {
      "text/html": [
       "<pre style=\"white-space:pre;overflow-x:auto;line-height:normal;font-family:Menlo,'DejaVu Sans Mono',consolas,'Courier New',monospace\"><span style=\"color: #008080; text-decoration-color: #008080; font-weight: bold\">17.388996124267578</span>\n",
       "</pre>\n"
      ],
      "text/plain": [
       "\u001b[1;36m17.388996124267578\u001b[0m\n"
      ]
     },
     "metadata": {},
     "output_type": "display_data"
    },
    {
     "data": {
      "text/html": [
       "<pre style=\"white-space:pre;overflow-x:auto;line-height:normal;font-family:Menlo,'DejaVu Sans Mono',consolas,'Courier New',monospace\"><span style=\"color: #008080; text-decoration-color: #008080; font-weight: bold\">16.101173400878906</span>\n",
       "</pre>\n"
      ],
      "text/plain": [
       "\u001b[1;36m16.101173400878906\u001b[0m\n"
      ]
     },
     "metadata": {},
     "output_type": "display_data"
    },
    {
     "data": {
      "text/html": [
       "<pre style=\"white-space:pre;overflow-x:auto;line-height:normal;font-family:Menlo,'DejaVu Sans Mono',consolas,'Courier New',monospace\"><span style=\"color: #008080; text-decoration-color: #008080; font-weight: bold\">16.666446685791016</span>\n",
       "</pre>\n"
      ],
      "text/plain": [
       "\u001b[1;36m16.666446685791016\u001b[0m\n"
      ]
     },
     "metadata": {},
     "output_type": "display_data"
    },
    {
     "data": {
      "text/html": [
       "<pre style=\"white-space:pre;overflow-x:auto;line-height:normal;font-family:Menlo,'DejaVu Sans Mono',consolas,'Courier New',monospace\"><span style=\"color: #008080; text-decoration-color: #008080; font-weight: bold\">15.492295265197754</span>\n",
       "</pre>\n"
      ],
      "text/plain": [
       "\u001b[1;36m15.492295265197754\u001b[0m\n"
      ]
     },
     "metadata": {},
     "output_type": "display_data"
    },
    {
     "data": {
      "text/html": [
       "<pre style=\"white-space:pre;overflow-x:auto;line-height:normal;font-family:Menlo,'DejaVu Sans Mono',consolas,'Courier New',monospace\"><span style=\"color: #008080; text-decoration-color: #008080; font-weight: bold\">16.715621948242188</span>\n",
       "</pre>\n"
      ],
      "text/plain": [
       "\u001b[1;36m16.715621948242188\u001b[0m\n"
      ]
     },
     "metadata": {},
     "output_type": "display_data"
    },
    {
     "data": {
      "text/html": [
       "<pre style=\"white-space:pre;overflow-x:auto;line-height:normal;font-family:Menlo,'DejaVu Sans Mono',consolas,'Courier New',monospace\"><span style=\"color: #008080; text-decoration-color: #008080; font-weight: bold\">15.353219985961914</span>\n",
       "</pre>\n"
      ],
      "text/plain": [
       "\u001b[1;36m15.353219985961914\u001b[0m\n"
      ]
     },
     "metadata": {},
     "output_type": "display_data"
    },
    {
     "data": {
      "text/html": [
       "<pre style=\"white-space:pre;overflow-x:auto;line-height:normal;font-family:Menlo,'DejaVu Sans Mono',consolas,'Courier New',monospace\"><span style=\"color: #008080; text-decoration-color: #008080; font-weight: bold\">15.858105659484863</span>\n",
       "</pre>\n"
      ],
      "text/plain": [
       "\u001b[1;36m15.858105659484863\u001b[0m\n"
      ]
     },
     "metadata": {},
     "output_type": "display_data"
    },
    {
     "data": {
      "text/html": [
       "<pre style=\"white-space:pre;overflow-x:auto;line-height:normal;font-family:Menlo,'DejaVu Sans Mono',consolas,'Courier New',monospace\"><span style=\"color: #008080; text-decoration-color: #008080; font-weight: bold\">16.197956085205078</span>\n",
       "</pre>\n"
      ],
      "text/plain": [
       "\u001b[1;36m16.197956085205078\u001b[0m\n"
      ]
     },
     "metadata": {},
     "output_type": "display_data"
    },
    {
     "data": {
      "text/html": [
       "<pre style=\"white-space:pre;overflow-x:auto;line-height:normal;font-family:Menlo,'DejaVu Sans Mono',consolas,'Courier New',monospace\"><span style=\"color: #008080; text-decoration-color: #008080; font-weight: bold\">15.303179740905762</span>\n",
       "</pre>\n"
      ],
      "text/plain": [
       "\u001b[1;36m15.303179740905762\u001b[0m\n"
      ]
     },
     "metadata": {},
     "output_type": "display_data"
    },
    {
     "data": {
      "text/html": [
       "<pre style=\"white-space:pre;overflow-x:auto;line-height:normal;font-family:Menlo,'DejaVu Sans Mono',consolas,'Courier New',monospace\"><span style=\"color: #008080; text-decoration-color: #008080; font-weight: bold\">14.744205474853516</span>\n",
       "</pre>\n"
      ],
      "text/plain": [
       "\u001b[1;36m14.744205474853516\u001b[0m\n"
      ]
     },
     "metadata": {},
     "output_type": "display_data"
    },
    {
     "data": {
      "text/html": [
       "<pre style=\"white-space:pre;overflow-x:auto;line-height:normal;font-family:Menlo,'DejaVu Sans Mono',consolas,'Courier New',monospace\"><span style=\"color: #008080; text-decoration-color: #008080; font-weight: bold\">11.5447359085083</span>\n",
       "</pre>\n"
      ],
      "text/plain": [
       "\u001b[1;36m11.5447359085083\u001b[0m\n"
      ]
     },
     "metadata": {},
     "output_type": "display_data"
    },
    {
     "data": {
      "text/html": [
       "<pre style=\"white-space:pre;overflow-x:auto;line-height:normal;font-family:Menlo,'DejaVu Sans Mono',consolas,'Courier New',monospace\"><span style=\"color: #008080; text-decoration-color: #008080; font-weight: bold\">15.99161148071289</span>\n",
       "</pre>\n"
      ],
      "text/plain": [
       "\u001b[1;36m15.99161148071289\u001b[0m\n"
      ]
     },
     "metadata": {},
     "output_type": "display_data"
    },
    {
     "data": {
      "text/html": [
       "<pre style=\"white-space:pre;overflow-x:auto;line-height:normal;font-family:Menlo,'DejaVu Sans Mono',consolas,'Courier New',monospace\"><span style=\"color: #008080; text-decoration-color: #008080; font-weight: bold\">14.986102104187012</span>\n",
       "</pre>\n"
      ],
      "text/plain": [
       "\u001b[1;36m14.986102104187012\u001b[0m\n"
      ]
     },
     "metadata": {},
     "output_type": "display_data"
    },
    {
     "data": {
      "text/html": [
       "<pre style=\"white-space:pre;overflow-x:auto;line-height:normal;font-family:Menlo,'DejaVu Sans Mono',consolas,'Courier New',monospace\"><span style=\"color: #008080; text-decoration-color: #008080; font-weight: bold\">12.7628812789917</span>\n",
       "</pre>\n"
      ],
      "text/plain": [
       "\u001b[1;36m12.7628812789917\u001b[0m\n"
      ]
     },
     "metadata": {},
     "output_type": "display_data"
    },
    {
     "data": {
      "text/html": [
       "<pre style=\"white-space:pre;overflow-x:auto;line-height:normal;font-family:Menlo,'DejaVu Sans Mono',consolas,'Courier New',monospace\"><span style=\"color: #008080; text-decoration-color: #008080; font-weight: bold\">13.546692848205566</span>\n",
       "</pre>\n"
      ],
      "text/plain": [
       "\u001b[1;36m13.546692848205566\u001b[0m\n"
      ]
     },
     "metadata": {},
     "output_type": "display_data"
    },
    {
     "data": {
      "text/html": [
       "<pre style=\"white-space:pre;overflow-x:auto;line-height:normal;font-family:Menlo,'DejaVu Sans Mono',consolas,'Courier New',monospace\"><span style=\"color: #008080; text-decoration-color: #008080; font-weight: bold\">12.42037582397461</span>\n",
       "</pre>\n"
      ],
      "text/plain": [
       "\u001b[1;36m12.42037582397461\u001b[0m\n"
      ]
     },
     "metadata": {},
     "output_type": "display_data"
    },
    {
     "data": {
      "text/html": [
       "<pre style=\"white-space:pre;overflow-x:auto;line-height:normal;font-family:Menlo,'DejaVu Sans Mono',consolas,'Courier New',monospace\"><span style=\"color: #008080; text-decoration-color: #008080; font-weight: bold\">13.75033187866211</span>\n",
       "</pre>\n"
      ],
      "text/plain": [
       "\u001b[1;36m13.75033187866211\u001b[0m\n"
      ]
     },
     "metadata": {},
     "output_type": "display_data"
    },
    {
     "data": {
      "text/html": [
       "<pre style=\"white-space:pre;overflow-x:auto;line-height:normal;font-family:Menlo,'DejaVu Sans Mono',consolas,'Courier New',monospace\"><span style=\"color: #008080; text-decoration-color: #008080; font-weight: bold\">13.79194164276123</span>\n",
       "</pre>\n"
      ],
      "text/plain": [
       "\u001b[1;36m13.79194164276123\u001b[0m\n"
      ]
     },
     "metadata": {},
     "output_type": "display_data"
    },
    {
     "data": {
      "text/html": [
       "<pre style=\"white-space:pre;overflow-x:auto;line-height:normal;font-family:Menlo,'DejaVu Sans Mono',consolas,'Courier New',monospace\"><span style=\"color: #008080; text-decoration-color: #008080; font-weight: bold\">14.285455703735352</span>\n",
       "</pre>\n"
      ],
      "text/plain": [
       "\u001b[1;36m14.285455703735352\u001b[0m\n"
      ]
     },
     "metadata": {},
     "output_type": "display_data"
    },
    {
     "data": {
      "text/html": [
       "<pre style=\"white-space:pre;overflow-x:auto;line-height:normal;font-family:Menlo,'DejaVu Sans Mono',consolas,'Courier New',monospace\"><span style=\"color: #008080; text-decoration-color: #008080; font-weight: bold\">16.599069595336914</span>\n",
       "</pre>\n"
      ],
      "text/plain": [
       "\u001b[1;36m16.599069595336914\u001b[0m\n"
      ]
     },
     "metadata": {},
     "output_type": "display_data"
    },
    {
     "data": {
      "text/html": [
       "<pre style=\"white-space:pre;overflow-x:auto;line-height:normal;font-family:Menlo,'DejaVu Sans Mono',consolas,'Courier New',monospace\"><span style=\"color: #008080; text-decoration-color: #008080; font-weight: bold\">15.258740425109863</span>\n",
       "</pre>\n"
      ],
      "text/plain": [
       "\u001b[1;36m15.258740425109863\u001b[0m\n"
      ]
     },
     "metadata": {},
     "output_type": "display_data"
    },
    {
     "data": {
      "text/html": [
       "<pre style=\"white-space:pre;overflow-x:auto;line-height:normal;font-family:Menlo,'DejaVu Sans Mono',consolas,'Courier New',monospace\"><span style=\"color: #008080; text-decoration-color: #008080; font-weight: bold\">13.229242324829102</span>\n",
       "</pre>\n"
      ],
      "text/plain": [
       "\u001b[1;36m13.229242324829102\u001b[0m\n"
      ]
     },
     "metadata": {},
     "output_type": "display_data"
    },
    {
     "data": {
      "text/html": [
       "<pre style=\"white-space:pre;overflow-x:auto;line-height:normal;font-family:Menlo,'DejaVu Sans Mono',consolas,'Courier New',monospace\"><span style=\"color: #008080; text-decoration-color: #008080; font-weight: bold\">12.756084442138672</span>\n",
       "</pre>\n"
      ],
      "text/plain": [
       "\u001b[1;36m12.756084442138672\u001b[0m\n"
      ]
     },
     "metadata": {},
     "output_type": "display_data"
    },
    {
     "data": {
      "text/html": [
       "<pre style=\"white-space:pre;overflow-x:auto;line-height:normal;font-family:Menlo,'DejaVu Sans Mono',consolas,'Courier New',monospace\"><span style=\"color: #008080; text-decoration-color: #008080; font-weight: bold\">13.26573657989502</span>\n",
       "</pre>\n"
      ],
      "text/plain": [
       "\u001b[1;36m13.26573657989502\u001b[0m\n"
      ]
     },
     "metadata": {},
     "output_type": "display_data"
    },
    {
     "data": {
      "text/html": [
       "<pre style=\"white-space:pre;overflow-x:auto;line-height:normal;font-family:Menlo,'DejaVu Sans Mono',consolas,'Courier New',monospace\"><span style=\"color: #008080; text-decoration-color: #008080; font-weight: bold\">13.684460639953613</span>\n",
       "</pre>\n"
      ],
      "text/plain": [
       "\u001b[1;36m13.684460639953613\u001b[0m\n"
      ]
     },
     "metadata": {},
     "output_type": "display_data"
    },
    {
     "data": {
      "text/html": [
       "<pre style=\"white-space:pre;overflow-x:auto;line-height:normal;font-family:Menlo,'DejaVu Sans Mono',consolas,'Courier New',monospace\"><span style=\"color: #008080; text-decoration-color: #008080; font-weight: bold\">14.660768508911133</span>\n",
       "</pre>\n"
      ],
      "text/plain": [
       "\u001b[1;36m14.660768508911133\u001b[0m\n"
      ]
     },
     "metadata": {},
     "output_type": "display_data"
    },
    {
     "data": {
      "text/html": [
       "<pre style=\"white-space:pre;overflow-x:auto;line-height:normal;font-family:Menlo,'DejaVu Sans Mono',consolas,'Courier New',monospace\"><span style=\"color: #008080; text-decoration-color: #008080; font-weight: bold\">12.862054824829102</span>\n",
       "</pre>\n"
      ],
      "text/plain": [
       "\u001b[1;36m12.862054824829102\u001b[0m\n"
      ]
     },
     "metadata": {},
     "output_type": "display_data"
    },
    {
     "data": {
      "text/html": [
       "<pre style=\"white-space:pre;overflow-x:auto;line-height:normal;font-family:Menlo,'DejaVu Sans Mono',consolas,'Courier New',monospace\"><span style=\"color: #008080; text-decoration-color: #008080; font-weight: bold\">14.245278358459473</span>\n",
       "</pre>\n"
      ],
      "text/plain": [
       "\u001b[1;36m14.245278358459473\u001b[0m\n"
      ]
     },
     "metadata": {},
     "output_type": "display_data"
    },
    {
     "data": {
      "text/html": [
       "<pre style=\"white-space:pre;overflow-x:auto;line-height:normal;font-family:Menlo,'DejaVu Sans Mono',consolas,'Courier New',monospace\"><span style=\"color: #008080; text-decoration-color: #008080; font-weight: bold\">14.357146263122559</span>\n",
       "</pre>\n"
      ],
      "text/plain": [
       "\u001b[1;36m14.357146263122559\u001b[0m\n"
      ]
     },
     "metadata": {},
     "output_type": "display_data"
    },
    {
     "data": {
      "text/html": [
       "<pre style=\"white-space:pre;overflow-x:auto;line-height:normal;font-family:Menlo,'DejaVu Sans Mono',consolas,'Courier New',monospace\"><span style=\"color: #008080; text-decoration-color: #008080; font-weight: bold\">11.458410263061523</span>\n",
       "</pre>\n"
      ],
      "text/plain": [
       "\u001b[1;36m11.458410263061523\u001b[0m\n"
      ]
     },
     "metadata": {},
     "output_type": "display_data"
    },
    {
     "data": {
      "text/html": [
       "<pre style=\"white-space:pre;overflow-x:auto;line-height:normal;font-family:Menlo,'DejaVu Sans Mono',consolas,'Courier New',monospace\"><span style=\"color: #008080; text-decoration-color: #008080; font-weight: bold\">11.821966171264648</span>\n",
       "</pre>\n"
      ],
      "text/plain": [
       "\u001b[1;36m11.821966171264648\u001b[0m\n"
      ]
     },
     "metadata": {},
     "output_type": "display_data"
    },
    {
     "data": {
      "text/html": [
       "<pre style=\"white-space:pre;overflow-x:auto;line-height:normal;font-family:Menlo,'DejaVu Sans Mono',consolas,'Courier New',monospace\"><span style=\"color: #008080; text-decoration-color: #008080; font-weight: bold\">12.716381072998047</span>\n",
       "</pre>\n"
      ],
      "text/plain": [
       "\u001b[1;36m12.716381072998047\u001b[0m\n"
      ]
     },
     "metadata": {},
     "output_type": "display_data"
    },
    {
     "data": {
      "text/html": [
       "<pre style=\"white-space:pre;overflow-x:auto;line-height:normal;font-family:Menlo,'DejaVu Sans Mono',consolas,'Courier New',monospace\"><span style=\"color: #008080; text-decoration-color: #008080; font-weight: bold\">13.883289337158203</span>\n",
       "</pre>\n"
      ],
      "text/plain": [
       "\u001b[1;36m13.883289337158203\u001b[0m\n"
      ]
     },
     "metadata": {},
     "output_type": "display_data"
    },
    {
     "data": {
      "text/html": [
       "<pre style=\"white-space:pre;overflow-x:auto;line-height:normal;font-family:Menlo,'DejaVu Sans Mono',consolas,'Courier New',monospace\"><span style=\"color: #008080; text-decoration-color: #008080; font-weight: bold\">11.598077774047852</span>\n",
       "</pre>\n"
      ],
      "text/plain": [
       "\u001b[1;36m11.598077774047852\u001b[0m\n"
      ]
     },
     "metadata": {},
     "output_type": "display_data"
    },
    {
     "data": {
      "text/html": [
       "<pre style=\"white-space:pre;overflow-x:auto;line-height:normal;font-family:Menlo,'DejaVu Sans Mono',consolas,'Courier New',monospace\"><span style=\"color: #008080; text-decoration-color: #008080; font-weight: bold\">12.858833312988281</span>\n",
       "</pre>\n"
      ],
      "text/plain": [
       "\u001b[1;36m12.858833312988281\u001b[0m\n"
      ]
     },
     "metadata": {},
     "output_type": "display_data"
    },
    {
     "data": {
      "text/html": [
       "<pre style=\"white-space:pre;overflow-x:auto;line-height:normal;font-family:Menlo,'DejaVu Sans Mono',consolas,'Courier New',monospace\"><span style=\"color: #008080; text-decoration-color: #008080; font-weight: bold\">16.61380386352539</span>\n",
       "</pre>\n"
      ],
      "text/plain": [
       "\u001b[1;36m16.61380386352539\u001b[0m\n"
      ]
     },
     "metadata": {},
     "output_type": "display_data"
    },
    {
     "data": {
      "text/html": [
       "<pre style=\"white-space:pre;overflow-x:auto;line-height:normal;font-family:Menlo,'DejaVu Sans Mono',consolas,'Courier New',monospace\"><span style=\"color: #008080; text-decoration-color: #008080; font-weight: bold\">12.148862838745117</span>\n",
       "</pre>\n"
      ],
      "text/plain": [
       "\u001b[1;36m12.148862838745117\u001b[0m\n"
      ]
     },
     "metadata": {},
     "output_type": "display_data"
    },
    {
     "data": {
      "text/html": [
       "<pre style=\"white-space:pre;overflow-x:auto;line-height:normal;font-family:Menlo,'DejaVu Sans Mono',consolas,'Courier New',monospace\"><span style=\"color: #008080; text-decoration-color: #008080; font-weight: bold\">13.49193000793457</span>\n",
       "</pre>\n"
      ],
      "text/plain": [
       "\u001b[1;36m13.49193000793457\u001b[0m\n"
      ]
     },
     "metadata": {},
     "output_type": "display_data"
    },
    {
     "data": {
      "text/html": [
       "<pre style=\"white-space:pre;overflow-x:auto;line-height:normal;font-family:Menlo,'DejaVu Sans Mono',consolas,'Courier New',monospace\"><span style=\"color: #008080; text-decoration-color: #008080; font-weight: bold\">10.177278518676758</span>\n",
       "</pre>\n"
      ],
      "text/plain": [
       "\u001b[1;36m10.177278518676758\u001b[0m\n"
      ]
     },
     "metadata": {},
     "output_type": "display_data"
    },
    {
     "data": {
      "text/html": [
       "<pre style=\"white-space:pre;overflow-x:auto;line-height:normal;font-family:Menlo,'DejaVu Sans Mono',consolas,'Courier New',monospace\"><span style=\"color: #008080; text-decoration-color: #008080; font-weight: bold\">11.080439567565918</span>\n",
       "</pre>\n"
      ],
      "text/plain": [
       "\u001b[1;36m11.080439567565918\u001b[0m\n"
      ]
     },
     "metadata": {},
     "output_type": "display_data"
    },
    {
     "data": {
      "text/html": [
       "<pre style=\"white-space:pre;overflow-x:auto;line-height:normal;font-family:Menlo,'DejaVu Sans Mono',consolas,'Courier New',monospace\"><span style=\"color: #008080; text-decoration-color: #008080; font-weight: bold\">12.726655960083008</span>\n",
       "</pre>\n"
      ],
      "text/plain": [
       "\u001b[1;36m12.726655960083008\u001b[0m\n"
      ]
     },
     "metadata": {},
     "output_type": "display_data"
    },
    {
     "data": {
      "text/html": [
       "<pre style=\"white-space:pre;overflow-x:auto;line-height:normal;font-family:Menlo,'DejaVu Sans Mono',consolas,'Courier New',monospace\"><span style=\"color: #008080; text-decoration-color: #008080; font-weight: bold\">9.768646240234375</span>\n",
       "</pre>\n"
      ],
      "text/plain": [
       "\u001b[1;36m9.768646240234375\u001b[0m\n"
      ]
     },
     "metadata": {},
     "output_type": "display_data"
    },
    {
     "data": {
      "text/html": [
       "<pre style=\"white-space:pre;overflow-x:auto;line-height:normal;font-family:Menlo,'DejaVu Sans Mono',consolas,'Courier New',monospace\"><span style=\"color: #008080; text-decoration-color: #008080; font-weight: bold\">11.888307571411133</span>\n",
       "</pre>\n"
      ],
      "text/plain": [
       "\u001b[1;36m11.888307571411133\u001b[0m\n"
      ]
     },
     "metadata": {},
     "output_type": "display_data"
    },
    {
     "data": {
      "text/html": [
       "<pre style=\"white-space:pre;overflow-x:auto;line-height:normal;font-family:Menlo,'DejaVu Sans Mono',consolas,'Courier New',monospace\"><span style=\"color: #008080; text-decoration-color: #008080; font-weight: bold\">11.018081665039062</span>\n",
       "</pre>\n"
      ],
      "text/plain": [
       "\u001b[1;36m11.018081665039062\u001b[0m\n"
      ]
     },
     "metadata": {},
     "output_type": "display_data"
    },
    {
     "data": {
      "text/html": [
       "<pre style=\"white-space:pre;overflow-x:auto;line-height:normal;font-family:Menlo,'DejaVu Sans Mono',consolas,'Courier New',monospace\"><span style=\"color: #008080; text-decoration-color: #008080; font-weight: bold\">13.185544967651367</span>\n",
       "</pre>\n"
      ],
      "text/plain": [
       "\u001b[1;36m13.185544967651367\u001b[0m\n"
      ]
     },
     "metadata": {},
     "output_type": "display_data"
    },
    {
     "data": {
      "text/html": [
       "<pre style=\"white-space:pre;overflow-x:auto;line-height:normal;font-family:Menlo,'DejaVu Sans Mono',consolas,'Courier New',monospace\"><span style=\"color: #008080; text-decoration-color: #008080; font-weight: bold\">14.140128135681152</span>\n",
       "</pre>\n"
      ],
      "text/plain": [
       "\u001b[1;36m14.140128135681152\u001b[0m\n"
      ]
     },
     "metadata": {},
     "output_type": "display_data"
    },
    {
     "data": {
      "text/html": [
       "<pre style=\"white-space:pre;overflow-x:auto;line-height:normal;font-family:Menlo,'DejaVu Sans Mono',consolas,'Courier New',monospace\"><span style=\"color: #008080; text-decoration-color: #008080; font-weight: bold\">11.767255783081055</span>\n",
       "</pre>\n"
      ],
      "text/plain": [
       "\u001b[1;36m11.767255783081055\u001b[0m\n"
      ]
     },
     "metadata": {},
     "output_type": "display_data"
    },
    {
     "data": {
      "text/html": [
       "<pre style=\"white-space:pre;overflow-x:auto;line-height:normal;font-family:Menlo,'DejaVu Sans Mono',consolas,'Courier New',monospace\"><span style=\"color: #008080; text-decoration-color: #008080; font-weight: bold\">12.747078895568848</span>\n",
       "</pre>\n"
      ],
      "text/plain": [
       "\u001b[1;36m12.747078895568848\u001b[0m\n"
      ]
     },
     "metadata": {},
     "output_type": "display_data"
    },
    {
     "data": {
      "text/html": [
       "<pre style=\"white-space:pre;overflow-x:auto;line-height:normal;font-family:Menlo,'DejaVu Sans Mono',consolas,'Courier New',monospace\"><span style=\"color: #008080; text-decoration-color: #008080; font-weight: bold\">12.592257499694824</span>\n",
       "</pre>\n"
      ],
      "text/plain": [
       "\u001b[1;36m12.592257499694824\u001b[0m\n"
      ]
     },
     "metadata": {},
     "output_type": "display_data"
    },
    {
     "data": {
      "text/html": [
       "<pre style=\"white-space:pre;overflow-x:auto;line-height:normal;font-family:Menlo,'DejaVu Sans Mono',consolas,'Courier New',monospace\"><span style=\"color: #008080; text-decoration-color: #008080; font-weight: bold\">9.93731689453125</span>\n",
       "</pre>\n"
      ],
      "text/plain": [
       "\u001b[1;36m9.93731689453125\u001b[0m\n"
      ]
     },
     "metadata": {},
     "output_type": "display_data"
    },
    {
     "data": {
      "text/html": [
       "<pre style=\"white-space:pre;overflow-x:auto;line-height:normal;font-family:Menlo,'DejaVu Sans Mono',consolas,'Courier New',monospace\"><span style=\"color: #008080; text-decoration-color: #008080; font-weight: bold\">10.026472091674805</span>\n",
       "</pre>\n"
      ],
      "text/plain": [
       "\u001b[1;36m10.026472091674805\u001b[0m\n"
      ]
     },
     "metadata": {},
     "output_type": "display_data"
    },
    {
     "data": {
      "text/html": [
       "<pre style=\"white-space:pre;overflow-x:auto;line-height:normal;font-family:Menlo,'DejaVu Sans Mono',consolas,'Courier New',monospace\"><span style=\"color: #008080; text-decoration-color: #008080; font-weight: bold\">13.056517601013184</span>\n",
       "</pre>\n"
      ],
      "text/plain": [
       "\u001b[1;36m13.056517601013184\u001b[0m\n"
      ]
     },
     "metadata": {},
     "output_type": "display_data"
    },
    {
     "data": {
      "text/html": [
       "<pre style=\"white-space:pre;overflow-x:auto;line-height:normal;font-family:Menlo,'DejaVu Sans Mono',consolas,'Courier New',monospace\"><span style=\"color: #008080; text-decoration-color: #008080; font-weight: bold\">9.692485809326172</span>\n",
       "</pre>\n"
      ],
      "text/plain": [
       "\u001b[1;36m9.692485809326172\u001b[0m\n"
      ]
     },
     "metadata": {},
     "output_type": "display_data"
    },
    {
     "data": {
      "text/html": [
       "<pre style=\"white-space:pre;overflow-x:auto;line-height:normal;font-family:Menlo,'DejaVu Sans Mono',consolas,'Courier New',monospace\"><span style=\"color: #008080; text-decoration-color: #008080; font-weight: bold\">9.362987518310547</span>\n",
       "</pre>\n"
      ],
      "text/plain": [
       "\u001b[1;36m9.362987518310547\u001b[0m\n"
      ]
     },
     "metadata": {},
     "output_type": "display_data"
    },
    {
     "data": {
      "text/html": [
       "<pre style=\"white-space:pre;overflow-x:auto;line-height:normal;font-family:Menlo,'DejaVu Sans Mono',consolas,'Courier New',monospace\"><span style=\"color: #008080; text-decoration-color: #008080; font-weight: bold\">11.76485538482666</span>\n",
       "</pre>\n"
      ],
      "text/plain": [
       "\u001b[1;36m11.76485538482666\u001b[0m\n"
      ]
     },
     "metadata": {},
     "output_type": "display_data"
    },
    {
     "data": {
      "text/html": [
       "<pre style=\"white-space:pre;overflow-x:auto;line-height:normal;font-family:Menlo,'DejaVu Sans Mono',consolas,'Courier New',monospace\"><span style=\"color: #008080; text-decoration-color: #008080; font-weight: bold\">11.758992195129395</span>\n",
       "</pre>\n"
      ],
      "text/plain": [
       "\u001b[1;36m11.758992195129395\u001b[0m\n"
      ]
     },
     "metadata": {},
     "output_type": "display_data"
    },
    {
     "data": {
      "text/html": [
       "<pre style=\"white-space:pre;overflow-x:auto;line-height:normal;font-family:Menlo,'DejaVu Sans Mono',consolas,'Courier New',monospace\"><span style=\"color: #008080; text-decoration-color: #008080; font-weight: bold\">12.660326957702637</span>\n",
       "</pre>\n"
      ],
      "text/plain": [
       "\u001b[1;36m12.660326957702637\u001b[0m\n"
      ]
     },
     "metadata": {},
     "output_type": "display_data"
    },
    {
     "data": {
      "text/html": [
       "<pre style=\"white-space:pre;overflow-x:auto;line-height:normal;font-family:Menlo,'DejaVu Sans Mono',consolas,'Courier New',monospace\"><span style=\"color: #008080; text-decoration-color: #008080; font-weight: bold\">13.334312438964844</span>\n",
       "</pre>\n"
      ],
      "text/plain": [
       "\u001b[1;36m13.334312438964844\u001b[0m\n"
      ]
     },
     "metadata": {},
     "output_type": "display_data"
    },
    {
     "data": {
      "text/html": [
       "<pre style=\"white-space:pre;overflow-x:auto;line-height:normal;font-family:Menlo,'DejaVu Sans Mono',consolas,'Courier New',monospace\"><span style=\"color: #008080; text-decoration-color: #008080; font-weight: bold\">11.502509117126465</span>\n",
       "</pre>\n"
      ],
      "text/plain": [
       "\u001b[1;36m11.502509117126465\u001b[0m\n"
      ]
     },
     "metadata": {},
     "output_type": "display_data"
    },
    {
     "data": {
      "text/html": [
       "<pre style=\"white-space:pre;overflow-x:auto;line-height:normal;font-family:Menlo,'DejaVu Sans Mono',consolas,'Courier New',monospace\"><span style=\"color: #008080; text-decoration-color: #008080; font-weight: bold\">11.664857864379883</span>\n",
       "</pre>\n"
      ],
      "text/plain": [
       "\u001b[1;36m11.664857864379883\u001b[0m\n"
      ]
     },
     "metadata": {},
     "output_type": "display_data"
    },
    {
     "data": {
      "text/html": [
       "<pre style=\"white-space:pre;overflow-x:auto;line-height:normal;font-family:Menlo,'DejaVu Sans Mono',consolas,'Courier New',monospace\"><span style=\"color: #008080; text-decoration-color: #008080; font-weight: bold\">10.495447158813477</span>\n",
       "</pre>\n"
      ],
      "text/plain": [
       "\u001b[1;36m10.495447158813477\u001b[0m\n"
      ]
     },
     "metadata": {},
     "output_type": "display_data"
    },
    {
     "data": {
      "text/html": [
       "<pre style=\"white-space:pre;overflow-x:auto;line-height:normal;font-family:Menlo,'DejaVu Sans Mono',consolas,'Courier New',monospace\"><span style=\"color: #008080; text-decoration-color: #008080; font-weight: bold\">11.49854850769043</span>\n",
       "</pre>\n"
      ],
      "text/plain": [
       "\u001b[1;36m11.49854850769043\u001b[0m\n"
      ]
     },
     "metadata": {},
     "output_type": "display_data"
    },
    {
     "data": {
      "text/html": [
       "<pre style=\"white-space:pre;overflow-x:auto;line-height:normal;font-family:Menlo,'DejaVu Sans Mono',consolas,'Courier New',monospace\"><span style=\"color: #008080; text-decoration-color: #008080; font-weight: bold\">10.558960914611816</span>\n",
       "</pre>\n"
      ],
      "text/plain": [
       "\u001b[1;36m10.558960914611816\u001b[0m\n"
      ]
     },
     "metadata": {},
     "output_type": "display_data"
    },
    {
     "data": {
      "text/html": [
       "<pre style=\"white-space:pre;overflow-x:auto;line-height:normal;font-family:Menlo,'DejaVu Sans Mono',consolas,'Courier New',monospace\"><span style=\"color: #008080; text-decoration-color: #008080; font-weight: bold\">11.877485275268555</span>\n",
       "</pre>\n"
      ],
      "text/plain": [
       "\u001b[1;36m11.877485275268555\u001b[0m\n"
      ]
     },
     "metadata": {},
     "output_type": "display_data"
    },
    {
     "data": {
      "text/html": [
       "<pre style=\"white-space:pre;overflow-x:auto;line-height:normal;font-family:Menlo,'DejaVu Sans Mono',consolas,'Courier New',monospace\"><span style=\"color: #008080; text-decoration-color: #008080; font-weight: bold\">10.34423828125</span>\n",
       "</pre>\n"
      ],
      "text/plain": [
       "\u001b[1;36m10.34423828125\u001b[0m\n"
      ]
     },
     "metadata": {},
     "output_type": "display_data"
    },
    {
     "data": {
      "text/html": [
       "<pre style=\"white-space:pre;overflow-x:auto;line-height:normal;font-family:Menlo,'DejaVu Sans Mono',consolas,'Courier New',monospace\"><span style=\"color: #008080; text-decoration-color: #008080; font-weight: bold\">10.363540649414062</span>\n",
       "</pre>\n"
      ],
      "text/plain": [
       "\u001b[1;36m10.363540649414062\u001b[0m\n"
      ]
     },
     "metadata": {},
     "output_type": "display_data"
    },
    {
     "data": {
      "text/html": [
       "<pre style=\"white-space:pre;overflow-x:auto;line-height:normal;font-family:Menlo,'DejaVu Sans Mono',consolas,'Courier New',monospace\"><span style=\"color: #008080; text-decoration-color: #008080; font-weight: bold\">13.834330558776855</span>\n",
       "</pre>\n"
      ],
      "text/plain": [
       "\u001b[1;36m13.834330558776855\u001b[0m\n"
      ]
     },
     "metadata": {},
     "output_type": "display_data"
    },
    {
     "data": {
      "text/html": [
       "<pre style=\"white-space:pre;overflow-x:auto;line-height:normal;font-family:Menlo,'DejaVu Sans Mono',consolas,'Courier New',monospace\"><span style=\"color: #008080; text-decoration-color: #008080; font-weight: bold\">10.269207000732422</span>\n",
       "</pre>\n"
      ],
      "text/plain": [
       "\u001b[1;36m10.269207000732422\u001b[0m\n"
      ]
     },
     "metadata": {},
     "output_type": "display_data"
    },
    {
     "data": {
      "text/html": [
       "<pre style=\"white-space:pre;overflow-x:auto;line-height:normal;font-family:Menlo,'DejaVu Sans Mono',consolas,'Courier New',monospace\"><span style=\"color: #008080; text-decoration-color: #008080; font-weight: bold\">13.019203186035156</span>\n",
       "</pre>\n"
      ],
      "text/plain": [
       "\u001b[1;36m13.019203186035156\u001b[0m\n"
      ]
     },
     "metadata": {},
     "output_type": "display_data"
    },
    {
     "data": {
      "text/html": [
       "<pre style=\"white-space:pre;overflow-x:auto;line-height:normal;font-family:Menlo,'DejaVu Sans Mono',consolas,'Courier New',monospace\"><span style=\"color: #008080; text-decoration-color: #008080; font-weight: bold\">14.055901527404785</span>\n",
       "</pre>\n"
      ],
      "text/plain": [
       "\u001b[1;36m14.055901527404785\u001b[0m\n"
      ]
     },
     "metadata": {},
     "output_type": "display_data"
    },
    {
     "data": {
      "text/html": [
       "<pre style=\"white-space:pre;overflow-x:auto;line-height:normal;font-family:Menlo,'DejaVu Sans Mono',consolas,'Courier New',monospace\"><span style=\"color: #008080; text-decoration-color: #008080; font-weight: bold\">9.997955322265625</span>\n",
       "</pre>\n"
      ],
      "text/plain": [
       "\u001b[1;36m9.997955322265625\u001b[0m\n"
      ]
     },
     "metadata": {},
     "output_type": "display_data"
    },
    {
     "data": {
      "text/html": [
       "<pre style=\"white-space:pre;overflow-x:auto;line-height:normal;font-family:Menlo,'DejaVu Sans Mono',consolas,'Courier New',monospace\"><span style=\"color: #008080; text-decoration-color: #008080; font-weight: bold\">9.853982925415039</span>\n",
       "</pre>\n"
      ],
      "text/plain": [
       "\u001b[1;36m9.853982925415039\u001b[0m\n"
      ]
     },
     "metadata": {},
     "output_type": "display_data"
    },
    {
     "data": {
      "text/html": [
       "<pre style=\"white-space:pre;overflow-x:auto;line-height:normal;font-family:Menlo,'DejaVu Sans Mono',consolas,'Courier New',monospace\"><span style=\"color: #008080; text-decoration-color: #008080; font-weight: bold\">11.03466510772705</span>\n",
       "</pre>\n"
      ],
      "text/plain": [
       "\u001b[1;36m11.03466510772705\u001b[0m\n"
      ]
     },
     "metadata": {},
     "output_type": "display_data"
    },
    {
     "data": {
      "text/html": [
       "<pre style=\"white-space:pre;overflow-x:auto;line-height:normal;font-family:Menlo,'DejaVu Sans Mono',consolas,'Courier New',monospace\"><span style=\"color: #008080; text-decoration-color: #008080; font-weight: bold\">11.878741264343262</span>\n",
       "</pre>\n"
      ],
      "text/plain": [
       "\u001b[1;36m11.878741264343262\u001b[0m\n"
      ]
     },
     "metadata": {},
     "output_type": "display_data"
    },
    {
     "data": {
      "text/html": [
       "<pre style=\"white-space:pre;overflow-x:auto;line-height:normal;font-family:Menlo,'DejaVu Sans Mono',consolas,'Courier New',monospace\"><span style=\"color: #008080; text-decoration-color: #008080; font-weight: bold\">8.89499568939209</span>\n",
       "</pre>\n"
      ],
      "text/plain": [
       "\u001b[1;36m8.89499568939209\u001b[0m\n"
      ]
     },
     "metadata": {},
     "output_type": "display_data"
    },
    {
     "data": {
      "text/html": [
       "<pre style=\"white-space:pre;overflow-x:auto;line-height:normal;font-family:Menlo,'DejaVu Sans Mono',consolas,'Courier New',monospace\"><span style=\"color: #008080; text-decoration-color: #008080; font-weight: bold\">11.89167594909668</span>\n",
       "</pre>\n"
      ],
      "text/plain": [
       "\u001b[1;36m11.89167594909668\u001b[0m\n"
      ]
     },
     "metadata": {},
     "output_type": "display_data"
    },
    {
     "data": {
      "text/html": [
       "<pre style=\"white-space:pre;overflow-x:auto;line-height:normal;font-family:Menlo,'DejaVu Sans Mono',consolas,'Courier New',monospace\"><span style=\"color: #008080; text-decoration-color: #008080; font-weight: bold\">10.343008041381836</span>\n",
       "</pre>\n"
      ],
      "text/plain": [
       "\u001b[1;36m10.343008041381836\u001b[0m\n"
      ]
     },
     "metadata": {},
     "output_type": "display_data"
    },
    {
     "data": {
      "text/html": [
       "<pre style=\"white-space:pre;overflow-x:auto;line-height:normal;font-family:Menlo,'DejaVu Sans Mono',consolas,'Courier New',monospace\"><span style=\"color: #008080; text-decoration-color: #008080; font-weight: bold\">9.399772644042969</span>\n",
       "</pre>\n"
      ],
      "text/plain": [
       "\u001b[1;36m9.399772644042969\u001b[0m\n"
      ]
     },
     "metadata": {},
     "output_type": "display_data"
    },
    {
     "data": {
      "text/html": [
       "<pre style=\"white-space:pre;overflow-x:auto;line-height:normal;font-family:Menlo,'DejaVu Sans Mono',consolas,'Courier New',monospace\"><span style=\"color: #008080; text-decoration-color: #008080; font-weight: bold\">11.056382179260254</span>\n",
       "</pre>\n"
      ],
      "text/plain": [
       "\u001b[1;36m11.056382179260254\u001b[0m\n"
      ]
     },
     "metadata": {},
     "output_type": "display_data"
    },
    {
     "data": {
      "text/html": [
       "<pre style=\"white-space:pre;overflow-x:auto;line-height:normal;font-family:Menlo,'DejaVu Sans Mono',consolas,'Courier New',monospace\"><span style=\"color: #008080; text-decoration-color: #008080; font-weight: bold\">11.517064094543457</span>\n",
       "</pre>\n"
      ],
      "text/plain": [
       "\u001b[1;36m11.517064094543457\u001b[0m\n"
      ]
     },
     "metadata": {},
     "output_type": "display_data"
    },
    {
     "data": {
      "text/html": [
       "<pre style=\"white-space:pre;overflow-x:auto;line-height:normal;font-family:Menlo,'DejaVu Sans Mono',consolas,'Courier New',monospace\"><span style=\"color: #008080; text-decoration-color: #008080; font-weight: bold\">11.327260971069336</span>\n",
       "</pre>\n"
      ],
      "text/plain": [
       "\u001b[1;36m11.327260971069336\u001b[0m\n"
      ]
     },
     "metadata": {},
     "output_type": "display_data"
    },
    {
     "data": {
      "text/html": [
       "<pre style=\"white-space:pre;overflow-x:auto;line-height:normal;font-family:Menlo,'DejaVu Sans Mono',consolas,'Courier New',monospace\"><span style=\"color: #008080; text-decoration-color: #008080; font-weight: bold\">10.147430419921875</span>\n",
       "</pre>\n"
      ],
      "text/plain": [
       "\u001b[1;36m10.147430419921875\u001b[0m\n"
      ]
     },
     "metadata": {},
     "output_type": "display_data"
    },
    {
     "data": {
      "text/html": [
       "<pre style=\"white-space:pre;overflow-x:auto;line-height:normal;font-family:Menlo,'DejaVu Sans Mono',consolas,'Courier New',monospace\"><span style=\"color: #008080; text-decoration-color: #008080; font-weight: bold\">9.157273292541504</span>\n",
       "</pre>\n"
      ],
      "text/plain": [
       "\u001b[1;36m9.157273292541504\u001b[0m\n"
      ]
     },
     "metadata": {},
     "output_type": "display_data"
    },
    {
     "data": {
      "text/html": [
       "<pre style=\"white-space:pre;overflow-x:auto;line-height:normal;font-family:Menlo,'DejaVu Sans Mono',consolas,'Courier New',monospace\"><span style=\"color: #008080; text-decoration-color: #008080; font-weight: bold\">9.812376976013184</span>\n",
       "</pre>\n"
      ],
      "text/plain": [
       "\u001b[1;36m9.812376976013184\u001b[0m\n"
      ]
     },
     "metadata": {},
     "output_type": "display_data"
    },
    {
     "data": {
      "text/html": [
       "<pre style=\"white-space:pre;overflow-x:auto;line-height:normal;font-family:Menlo,'DejaVu Sans Mono',consolas,'Courier New',monospace\"><span style=\"color: #008080; text-decoration-color: #008080; font-weight: bold\">12.261354446411133</span>\n",
       "</pre>\n"
      ],
      "text/plain": [
       "\u001b[1;36m12.261354446411133\u001b[0m\n"
      ]
     },
     "metadata": {},
     "output_type": "display_data"
    },
    {
     "data": {
      "text/html": [
       "<pre style=\"white-space:pre;overflow-x:auto;line-height:normal;font-family:Menlo,'DejaVu Sans Mono',consolas,'Courier New',monospace\"><span style=\"color: #008080; text-decoration-color: #008080; font-weight: bold\">8.727984428405762</span>\n",
       "</pre>\n"
      ],
      "text/plain": [
       "\u001b[1;36m8.727984428405762\u001b[0m\n"
      ]
     },
     "metadata": {},
     "output_type": "display_data"
    },
    {
     "data": {
      "text/html": [
       "<pre style=\"white-space:pre;overflow-x:auto;line-height:normal;font-family:Menlo,'DejaVu Sans Mono',consolas,'Courier New',monospace\"><span style=\"color: #008080; text-decoration-color: #008080; font-weight: bold\">10.006928443908691</span>\n",
       "</pre>\n"
      ],
      "text/plain": [
       "\u001b[1;36m10.006928443908691\u001b[0m\n"
      ]
     },
     "metadata": {},
     "output_type": "display_data"
    },
    {
     "data": {
      "text/html": [
       "<pre style=\"white-space:pre;overflow-x:auto;line-height:normal;font-family:Menlo,'DejaVu Sans Mono',consolas,'Courier New',monospace\"><span style=\"color: #008080; text-decoration-color: #008080; font-weight: bold\">10.772300720214844</span>\n",
       "</pre>\n"
      ],
      "text/plain": [
       "\u001b[1;36m10.772300720214844\u001b[0m\n"
      ]
     },
     "metadata": {},
     "output_type": "display_data"
    },
    {
     "data": {
      "text/html": [
       "<pre style=\"white-space:pre;overflow-x:auto;line-height:normal;font-family:Menlo,'DejaVu Sans Mono',consolas,'Courier New',monospace\"><span style=\"color: #008080; text-decoration-color: #008080; font-weight: bold\">7.499904632568359</span>\n",
       "</pre>\n"
      ],
      "text/plain": [
       "\u001b[1;36m7.499904632568359\u001b[0m\n"
      ]
     },
     "metadata": {},
     "output_type": "display_data"
    },
    {
     "data": {
      "text/html": [
       "<pre style=\"white-space:pre;overflow-x:auto;line-height:normal;font-family:Menlo,'DejaVu Sans Mono',consolas,'Courier New',monospace\"><span style=\"color: #008080; text-decoration-color: #008080; font-weight: bold\">11.808846473693848</span>\n",
       "</pre>\n"
      ],
      "text/plain": [
       "\u001b[1;36m11.808846473693848\u001b[0m\n"
      ]
     },
     "metadata": {},
     "output_type": "display_data"
    },
    {
     "data": {
      "text/html": [
       "<pre style=\"white-space:pre;overflow-x:auto;line-height:normal;font-family:Menlo,'DejaVu Sans Mono',consolas,'Courier New',monospace\"><span style=\"color: #008080; text-decoration-color: #008080; font-weight: bold\">7.942626953125</span>\n",
       "</pre>\n"
      ],
      "text/plain": [
       "\u001b[1;36m7.942626953125\u001b[0m\n"
      ]
     },
     "metadata": {},
     "output_type": "display_data"
    },
    {
     "data": {
      "text/html": [
       "<pre style=\"white-space:pre;overflow-x:auto;line-height:normal;font-family:Menlo,'DejaVu Sans Mono',consolas,'Courier New',monospace\"><span style=\"color: #008080; text-decoration-color: #008080; font-weight: bold\">8.363311767578125</span>\n",
       "</pre>\n"
      ],
      "text/plain": [
       "\u001b[1;36m8.363311767578125\u001b[0m\n"
      ]
     },
     "metadata": {},
     "output_type": "display_data"
    },
    {
     "data": {
      "text/html": [
       "<pre style=\"white-space:pre;overflow-x:auto;line-height:normal;font-family:Menlo,'DejaVu Sans Mono',consolas,'Courier New',monospace\"><span style=\"color: #008080; text-decoration-color: #008080; font-weight: bold\">10.620269775390625</span>\n",
       "</pre>\n"
      ],
      "text/plain": [
       "\u001b[1;36m10.620269775390625\u001b[0m\n"
      ]
     },
     "metadata": {},
     "output_type": "display_data"
    },
    {
     "data": {
      "text/html": [
       "<pre style=\"white-space:pre;overflow-x:auto;line-height:normal;font-family:Menlo,'DejaVu Sans Mono',consolas,'Courier New',monospace\"><span style=\"color: #008080; text-decoration-color: #008080; font-weight: bold\">10.263338088989258</span>\n",
       "</pre>\n"
      ],
      "text/plain": [
       "\u001b[1;36m10.263338088989258\u001b[0m\n"
      ]
     },
     "metadata": {},
     "output_type": "display_data"
    },
    {
     "data": {
      "text/html": [
       "<pre style=\"white-space:pre;overflow-x:auto;line-height:normal;font-family:Menlo,'DejaVu Sans Mono',consolas,'Courier New',monospace\"><span style=\"color: #008080; text-decoration-color: #008080; font-weight: bold\">7.396081924438477</span>\n",
       "</pre>\n"
      ],
      "text/plain": [
       "\u001b[1;36m7.396081924438477\u001b[0m\n"
      ]
     },
     "metadata": {},
     "output_type": "display_data"
    },
    {
     "data": {
      "text/html": [
       "<pre style=\"white-space:pre;overflow-x:auto;line-height:normal;font-family:Menlo,'DejaVu Sans Mono',consolas,'Courier New',monospace\"><span style=\"color: #008080; text-decoration-color: #008080; font-weight: bold\">9.791055679321289</span>\n",
       "</pre>\n"
      ],
      "text/plain": [
       "\u001b[1;36m9.791055679321289\u001b[0m\n"
      ]
     },
     "metadata": {},
     "output_type": "display_data"
    },
    {
     "data": {
      "text/html": [
       "<pre style=\"white-space:pre;overflow-x:auto;line-height:normal;font-family:Menlo,'DejaVu Sans Mono',consolas,'Courier New',monospace\"><span style=\"color: #008080; text-decoration-color: #008080; font-weight: bold\">8.91272258758545</span>\n",
       "</pre>\n"
      ],
      "text/plain": [
       "\u001b[1;36m8.91272258758545\u001b[0m\n"
      ]
     },
     "metadata": {},
     "output_type": "display_data"
    },
    {
     "data": {
      "text/html": [
       "<pre style=\"white-space:pre;overflow-x:auto;line-height:normal;font-family:Menlo,'DejaVu Sans Mono',consolas,'Courier New',monospace\"><span style=\"color: #008080; text-decoration-color: #008080; font-weight: bold\">10.139595985412598</span>\n",
       "</pre>\n"
      ],
      "text/plain": [
       "\u001b[1;36m10.139595985412598\u001b[0m\n"
      ]
     },
     "metadata": {},
     "output_type": "display_data"
    },
    {
     "data": {
      "text/html": [
       "<pre style=\"white-space:pre;overflow-x:auto;line-height:normal;font-family:Menlo,'DejaVu Sans Mono',consolas,'Courier New',monospace\"><span style=\"color: #008080; text-decoration-color: #008080; font-weight: bold\">10.85566234588623</span>\n",
       "</pre>\n"
      ],
      "text/plain": [
       "\u001b[1;36m10.85566234588623\u001b[0m\n"
      ]
     },
     "metadata": {},
     "output_type": "display_data"
    },
    {
     "data": {
      "text/html": [
       "<pre style=\"white-space:pre;overflow-x:auto;line-height:normal;font-family:Menlo,'DejaVu Sans Mono',consolas,'Courier New',monospace\"><span style=\"color: #008080; text-decoration-color: #008080; font-weight: bold\">9.947019577026367</span>\n",
       "</pre>\n"
      ],
      "text/plain": [
       "\u001b[1;36m9.947019577026367\u001b[0m\n"
      ]
     },
     "metadata": {},
     "output_type": "display_data"
    }
   ],
   "source": [
    "params, loss = train(100, X, Y, 0.01)"
   ]
  },
  {
   "cell_type": "markdown",
   "id": "8102cc90",
   "metadata": {},
   "source": [
    "Lets find a learning rate where the loss explodes"
   ]
  },
  {
   "cell_type": "code",
   "execution_count": 370,
   "id": "449cd2ea",
   "metadata": {},
   "outputs": [
    {
     "data": {
      "text/html": [
       "<pre style=\"white-space:pre;overflow-x:auto;line-height:normal;font-family:Menlo,'DejaVu Sans Mono',consolas,'Courier New',monospace\"><span style=\"color: #008080; text-decoration-color: #008080; font-weight: bold\">14.720062255859375</span>\n",
       "</pre>\n"
      ],
      "text/plain": [
       "\u001b[1;36m14.720062255859375\u001b[0m\n"
      ]
     },
     "metadata": {},
     "output_type": "display_data"
    },
    {
     "data": {
      "text/html": [
       "<pre style=\"white-space:pre;overflow-x:auto;line-height:normal;font-family:Menlo,'DejaVu Sans Mono',consolas,'Courier New',monospace\"><span style=\"color: #008080; text-decoration-color: #008080; font-weight: bold\">14.016024589538574</span>\n",
       "</pre>\n"
      ],
      "text/plain": [
       "\u001b[1;36m14.016024589538574\u001b[0m\n"
      ]
     },
     "metadata": {},
     "output_type": "display_data"
    },
    {
     "data": {
      "text/html": [
       "<pre style=\"white-space:pre;overflow-x:auto;line-height:normal;font-family:Menlo,'DejaVu Sans Mono',consolas,'Courier New',monospace\"><span style=\"color: #008080; text-decoration-color: #008080; font-weight: bold\">11.949493408203125</span>\n",
       "</pre>\n"
      ],
      "text/plain": [
       "\u001b[1;36m11.949493408203125\u001b[0m\n"
      ]
     },
     "metadata": {},
     "output_type": "display_data"
    },
    {
     "data": {
      "text/html": [
       "<pre style=\"white-space:pre;overflow-x:auto;line-height:normal;font-family:Menlo,'DejaVu Sans Mono',consolas,'Courier New',monospace\"><span style=\"color: #008080; text-decoration-color: #008080; font-weight: bold\">11.672293663024902</span>\n",
       "</pre>\n"
      ],
      "text/plain": [
       "\u001b[1;36m11.672293663024902\u001b[0m\n"
      ]
     },
     "metadata": {},
     "output_type": "display_data"
    },
    {
     "data": {
      "text/html": [
       "<pre style=\"white-space:pre;overflow-x:auto;line-height:normal;font-family:Menlo,'DejaVu Sans Mono',consolas,'Courier New',monospace\"><span style=\"color: #008080; text-decoration-color: #008080; font-weight: bold\">11.131048202514648</span>\n",
       "</pre>\n"
      ],
      "text/plain": [
       "\u001b[1;36m11.131048202514648\u001b[0m\n"
      ]
     },
     "metadata": {},
     "output_type": "display_data"
    },
    {
     "data": {
      "text/html": [
       "<pre style=\"white-space:pre;overflow-x:auto;line-height:normal;font-family:Menlo,'DejaVu Sans Mono',consolas,'Courier New',monospace\"><span style=\"color: #008080; text-decoration-color: #008080; font-weight: bold\">10.565898895263672</span>\n",
       "</pre>\n"
      ],
      "text/plain": [
       "\u001b[1;36m10.565898895263672\u001b[0m\n"
      ]
     },
     "metadata": {},
     "output_type": "display_data"
    },
    {
     "data": {
      "text/html": [
       "<pre style=\"white-space:pre;overflow-x:auto;line-height:normal;font-family:Menlo,'DejaVu Sans Mono',consolas,'Courier New',monospace\"><span style=\"color: #008080; text-decoration-color: #008080; font-weight: bold\">10.519474983215332</span>\n",
       "</pre>\n"
      ],
      "text/plain": [
       "\u001b[1;36m10.519474983215332\u001b[0m\n"
      ]
     },
     "metadata": {},
     "output_type": "display_data"
    },
    {
     "data": {
      "text/html": [
       "<pre style=\"white-space:pre;overflow-x:auto;line-height:normal;font-family:Menlo,'DejaVu Sans Mono',consolas,'Courier New',monospace\"><span style=\"color: #008080; text-decoration-color: #008080; font-weight: bold\">8.213149070739746</span>\n",
       "</pre>\n"
      ],
      "text/plain": [
       "\u001b[1;36m8.213149070739746\u001b[0m\n"
      ]
     },
     "metadata": {},
     "output_type": "display_data"
    },
    {
     "data": {
      "text/html": [
       "<pre style=\"white-space:pre;overflow-x:auto;line-height:normal;font-family:Menlo,'DejaVu Sans Mono',consolas,'Courier New',monospace\"><span style=\"color: #008080; text-decoration-color: #008080; font-weight: bold\">14.262014389038086</span>\n",
       "</pre>\n"
      ],
      "text/plain": [
       "\u001b[1;36m14.262014389038086\u001b[0m\n"
      ]
     },
     "metadata": {},
     "output_type": "display_data"
    },
    {
     "data": {
      "text/html": [
       "<pre style=\"white-space:pre;overflow-x:auto;line-height:normal;font-family:Menlo,'DejaVu Sans Mono',consolas,'Courier New',monospace\"><span style=\"color: #008080; text-decoration-color: #008080; font-weight: bold\">13.070488929748535</span>\n",
       "</pre>\n"
      ],
      "text/plain": [
       "\u001b[1;36m13.070488929748535\u001b[0m\n"
      ]
     },
     "metadata": {},
     "output_type": "display_data"
    },
    {
     "data": {
      "text/html": [
       "<pre style=\"white-space:pre;overflow-x:auto;line-height:normal;font-family:Menlo,'DejaVu Sans Mono',consolas,'Courier New',monospace\"><span style=\"color: #008080; text-decoration-color: #008080; font-weight: bold\">11.08617115020752</span>\n",
       "</pre>\n"
      ],
      "text/plain": [
       "\u001b[1;36m11.08617115020752\u001b[0m\n"
      ]
     },
     "metadata": {},
     "output_type": "display_data"
    },
    {
     "data": {
      "text/html": [
       "<pre style=\"white-space:pre;overflow-x:auto;line-height:normal;font-family:Menlo,'DejaVu Sans Mono',consolas,'Courier New',monospace\"><span style=\"color: #008080; text-decoration-color: #008080; font-weight: bold\">7.237859725952148</span>\n",
       "</pre>\n"
      ],
      "text/plain": [
       "\u001b[1;36m7.237859725952148\u001b[0m\n"
      ]
     },
     "metadata": {},
     "output_type": "display_data"
    },
    {
     "data": {
      "text/html": [
       "<pre style=\"white-space:pre;overflow-x:auto;line-height:normal;font-family:Menlo,'DejaVu Sans Mono',consolas,'Courier New',monospace\"><span style=\"color: #008080; text-decoration-color: #008080; font-weight: bold\">12.290790557861328</span>\n",
       "</pre>\n"
      ],
      "text/plain": [
       "\u001b[1;36m12.290790557861328\u001b[0m\n"
      ]
     },
     "metadata": {},
     "output_type": "display_data"
    },
    {
     "data": {
      "text/html": [
       "<pre style=\"white-space:pre;overflow-x:auto;line-height:normal;font-family:Menlo,'DejaVu Sans Mono',consolas,'Courier New',monospace\"><span style=\"color: #008080; text-decoration-color: #008080; font-weight: bold\">10.112265586853027</span>\n",
       "</pre>\n"
      ],
      "text/plain": [
       "\u001b[1;36m10.112265586853027\u001b[0m\n"
      ]
     },
     "metadata": {},
     "output_type": "display_data"
    },
    {
     "data": {
      "text/html": [
       "<pre style=\"white-space:pre;overflow-x:auto;line-height:normal;font-family:Menlo,'DejaVu Sans Mono',consolas,'Courier New',monospace\"><span style=\"color: #008080; text-decoration-color: #008080; font-weight: bold\">10.839119911193848</span>\n",
       "</pre>\n"
      ],
      "text/plain": [
       "\u001b[1;36m10.839119911193848\u001b[0m\n"
      ]
     },
     "metadata": {},
     "output_type": "display_data"
    },
    {
     "data": {
      "text/html": [
       "<pre style=\"white-space:pre;overflow-x:auto;line-height:normal;font-family:Menlo,'DejaVu Sans Mono',consolas,'Courier New',monospace\"><span style=\"color: #008080; text-decoration-color: #008080; font-weight: bold\">11.57097053527832</span>\n",
       "</pre>\n"
      ],
      "text/plain": [
       "\u001b[1;36m11.57097053527832\u001b[0m\n"
      ]
     },
     "metadata": {},
     "output_type": "display_data"
    },
    {
     "data": {
      "text/html": [
       "<pre style=\"white-space:pre;overflow-x:auto;line-height:normal;font-family:Menlo,'DejaVu Sans Mono',consolas,'Courier New',monospace\"><span style=\"color: #008080; text-decoration-color: #008080; font-weight: bold\">10.31793212890625</span>\n",
       "</pre>\n"
      ],
      "text/plain": [
       "\u001b[1;36m10.31793212890625\u001b[0m\n"
      ]
     },
     "metadata": {},
     "output_type": "display_data"
    },
    {
     "data": {
      "text/html": [
       "<pre style=\"white-space:pre;overflow-x:auto;line-height:normal;font-family:Menlo,'DejaVu Sans Mono',consolas,'Courier New',monospace\"><span style=\"color: #008080; text-decoration-color: #008080; font-weight: bold\">14.791447639465332</span>\n",
       "</pre>\n"
      ],
      "text/plain": [
       "\u001b[1;36m14.791447639465332\u001b[0m\n"
      ]
     },
     "metadata": {},
     "output_type": "display_data"
    },
    {
     "data": {
      "text/html": [
       "<pre style=\"white-space:pre;overflow-x:auto;line-height:normal;font-family:Menlo,'DejaVu Sans Mono',consolas,'Courier New',monospace\"><span style=\"color: #008080; text-decoration-color: #008080; font-weight: bold\">11.841386795043945</span>\n",
       "</pre>\n"
      ],
      "text/plain": [
       "\u001b[1;36m11.841386795043945\u001b[0m\n"
      ]
     },
     "metadata": {},
     "output_type": "display_data"
    },
    {
     "data": {
      "text/html": [
       "<pre style=\"white-space:pre;overflow-x:auto;line-height:normal;font-family:Menlo,'DejaVu Sans Mono',consolas,'Courier New',monospace\"><span style=\"color: #008080; text-decoration-color: #008080; font-weight: bold\">9.125185012817383</span>\n",
       "</pre>\n"
      ],
      "text/plain": [
       "\u001b[1;36m9.125185012817383\u001b[0m\n"
      ]
     },
     "metadata": {},
     "output_type": "display_data"
    },
    {
     "data": {
      "text/html": [
       "<pre style=\"white-space:pre;overflow-x:auto;line-height:normal;font-family:Menlo,'DejaVu Sans Mono',consolas,'Courier New',monospace\"><span style=\"color: #008080; text-decoration-color: #008080; font-weight: bold\">7.992520809173584</span>\n",
       "</pre>\n"
      ],
      "text/plain": [
       "\u001b[1;36m7.992520809173584\u001b[0m\n"
      ]
     },
     "metadata": {},
     "output_type": "display_data"
    },
    {
     "data": {
      "text/html": [
       "<pre style=\"white-space:pre;overflow-x:auto;line-height:normal;font-family:Menlo,'DejaVu Sans Mono',consolas,'Courier New',monospace\"><span style=\"color: #008080; text-decoration-color: #008080; font-weight: bold\">9.219705581665039</span>\n",
       "</pre>\n"
      ],
      "text/plain": [
       "\u001b[1;36m9.219705581665039\u001b[0m\n"
      ]
     },
     "metadata": {},
     "output_type": "display_data"
    },
    {
     "data": {
      "text/html": [
       "<pre style=\"white-space:pre;overflow-x:auto;line-height:normal;font-family:Menlo,'DejaVu Sans Mono',consolas,'Courier New',monospace\"><span style=\"color: #008080; text-decoration-color: #008080; font-weight: bold\">9.96473217010498</span>\n",
       "</pre>\n"
      ],
      "text/plain": [
       "\u001b[1;36m9.96473217010498\u001b[0m\n"
      ]
     },
     "metadata": {},
     "output_type": "display_data"
    },
    {
     "data": {
      "text/html": [
       "<pre style=\"white-space:pre;overflow-x:auto;line-height:normal;font-family:Menlo,'DejaVu Sans Mono',consolas,'Courier New',monospace\"><span style=\"color: #008080; text-decoration-color: #008080; font-weight: bold\">7.7848920822143555</span>\n",
       "</pre>\n"
      ],
      "text/plain": [
       "\u001b[1;36m7.7848920822143555\u001b[0m\n"
      ]
     },
     "metadata": {},
     "output_type": "display_data"
    },
    {
     "data": {
      "text/html": [
       "<pre style=\"white-space:pre;overflow-x:auto;line-height:normal;font-family:Menlo,'DejaVu Sans Mono',consolas,'Courier New',monospace\"><span style=\"color: #008080; text-decoration-color: #008080; font-weight: bold\">9.177976608276367</span>\n",
       "</pre>\n"
      ],
      "text/plain": [
       "\u001b[1;36m9.177976608276367\u001b[0m\n"
      ]
     },
     "metadata": {},
     "output_type": "display_data"
    },
    {
     "data": {
      "text/html": [
       "<pre style=\"white-space:pre;overflow-x:auto;line-height:normal;font-family:Menlo,'DejaVu Sans Mono',consolas,'Courier New',monospace\"><span style=\"color: #008080; text-decoration-color: #008080; font-weight: bold\">10.050331115722656</span>\n",
       "</pre>\n"
      ],
      "text/plain": [
       "\u001b[1;36m10.050331115722656\u001b[0m\n"
      ]
     },
     "metadata": {},
     "output_type": "display_data"
    },
    {
     "data": {
      "text/html": [
       "<pre style=\"white-space:pre;overflow-x:auto;line-height:normal;font-family:Menlo,'DejaVu Sans Mono',consolas,'Courier New',monospace\"><span style=\"color: #008080; text-decoration-color: #008080; font-weight: bold\">12.011404991149902</span>\n",
       "</pre>\n"
      ],
      "text/plain": [
       "\u001b[1;36m12.011404991149902\u001b[0m\n"
      ]
     },
     "metadata": {},
     "output_type": "display_data"
    },
    {
     "data": {
      "text/html": [
       "<pre style=\"white-space:pre;overflow-x:auto;line-height:normal;font-family:Menlo,'DejaVu Sans Mono',consolas,'Courier New',monospace\"><span style=\"color: #008080; text-decoration-color: #008080; font-weight: bold\">9.284531593322754</span>\n",
       "</pre>\n"
      ],
      "text/plain": [
       "\u001b[1;36m9.284531593322754\u001b[0m\n"
      ]
     },
     "metadata": {},
     "output_type": "display_data"
    },
    {
     "data": {
      "text/html": [
       "<pre style=\"white-space:pre;overflow-x:auto;line-height:normal;font-family:Menlo,'DejaVu Sans Mono',consolas,'Courier New',monospace\"><span style=\"color: #008080; text-decoration-color: #008080; font-weight: bold\">7.542640686035156</span>\n",
       "</pre>\n"
      ],
      "text/plain": [
       "\u001b[1;36m7.542640686035156\u001b[0m\n"
      ]
     },
     "metadata": {},
     "output_type": "display_data"
    },
    {
     "data": {
      "text/html": [
       "<pre style=\"white-space:pre;overflow-x:auto;line-height:normal;font-family:Menlo,'DejaVu Sans Mono',consolas,'Courier New',monospace\"><span style=\"color: #008080; text-decoration-color: #008080; font-weight: bold\">7.947935581207275</span>\n",
       "</pre>\n"
      ],
      "text/plain": [
       "\u001b[1;36m7.947935581207275\u001b[0m\n"
      ]
     },
     "metadata": {},
     "output_type": "display_data"
    },
    {
     "data": {
      "text/html": [
       "<pre style=\"white-space:pre;overflow-x:auto;line-height:normal;font-family:Menlo,'DejaVu Sans Mono',consolas,'Courier New',monospace\"><span style=\"color: #008080; text-decoration-color: #008080; font-weight: bold\">7.953253746032715</span>\n",
       "</pre>\n"
      ],
      "text/plain": [
       "\u001b[1;36m7.953253746032715\u001b[0m\n"
      ]
     },
     "metadata": {},
     "output_type": "display_data"
    },
    {
     "data": {
      "text/html": [
       "<pre style=\"white-space:pre;overflow-x:auto;line-height:normal;font-family:Menlo,'DejaVu Sans Mono',consolas,'Courier New',monospace\"><span style=\"color: #008080; text-decoration-color: #008080; font-weight: bold\">8.60932445526123</span>\n",
       "</pre>\n"
      ],
      "text/plain": [
       "\u001b[1;36m8.60932445526123\u001b[0m\n"
      ]
     },
     "metadata": {},
     "output_type": "display_data"
    },
    {
     "data": {
      "text/html": [
       "<pre style=\"white-space:pre;overflow-x:auto;line-height:normal;font-family:Menlo,'DejaVu Sans Mono',consolas,'Courier New',monospace\"><span style=\"color: #008080; text-decoration-color: #008080; font-weight: bold\">7.737423419952393</span>\n",
       "</pre>\n"
      ],
      "text/plain": [
       "\u001b[1;36m7.737423419952393\u001b[0m\n"
      ]
     },
     "metadata": {},
     "output_type": "display_data"
    },
    {
     "data": {
      "text/html": [
       "<pre style=\"white-space:pre;overflow-x:auto;line-height:normal;font-family:Menlo,'DejaVu Sans Mono',consolas,'Courier New',monospace\"><span style=\"color: #008080; text-decoration-color: #008080; font-weight: bold\">9.348020553588867</span>\n",
       "</pre>\n"
      ],
      "text/plain": [
       "\u001b[1;36m9.348020553588867\u001b[0m\n"
      ]
     },
     "metadata": {},
     "output_type": "display_data"
    },
    {
     "data": {
      "text/html": [
       "<pre style=\"white-space:pre;overflow-x:auto;line-height:normal;font-family:Menlo,'DejaVu Sans Mono',consolas,'Courier New',monospace\"><span style=\"color: #008080; text-decoration-color: #008080; font-weight: bold\">7.323532581329346</span>\n",
       "</pre>\n"
      ],
      "text/plain": [
       "\u001b[1;36m7.323532581329346\u001b[0m\n"
      ]
     },
     "metadata": {},
     "output_type": "display_data"
    },
    {
     "data": {
      "text/html": [
       "<pre style=\"white-space:pre;overflow-x:auto;line-height:normal;font-family:Menlo,'DejaVu Sans Mono',consolas,'Courier New',monospace\"><span style=\"color: #008080; text-decoration-color: #008080; font-weight: bold\">7.8619561195373535</span>\n",
       "</pre>\n"
      ],
      "text/plain": [
       "\u001b[1;36m7.8619561195373535\u001b[0m\n"
      ]
     },
     "metadata": {},
     "output_type": "display_data"
    },
    {
     "data": {
      "text/html": [
       "<pre style=\"white-space:pre;overflow-x:auto;line-height:normal;font-family:Menlo,'DejaVu Sans Mono',consolas,'Courier New',monospace\"><span style=\"color: #008080; text-decoration-color: #008080; font-weight: bold\">6.691267013549805</span>\n",
       "</pre>\n"
      ],
      "text/plain": [
       "\u001b[1;36m6.691267013549805\u001b[0m\n"
      ]
     },
     "metadata": {},
     "output_type": "display_data"
    },
    {
     "data": {
      "text/html": [
       "<pre style=\"white-space:pre;overflow-x:auto;line-height:normal;font-family:Menlo,'DejaVu Sans Mono',consolas,'Courier New',monospace\"><span style=\"color: #008080; text-decoration-color: #008080; font-weight: bold\">7.467713832855225</span>\n",
       "</pre>\n"
      ],
      "text/plain": [
       "\u001b[1;36m7.467713832855225\u001b[0m\n"
      ]
     },
     "metadata": {},
     "output_type": "display_data"
    },
    {
     "data": {
      "text/html": [
       "<pre style=\"white-space:pre;overflow-x:auto;line-height:normal;font-family:Menlo,'DejaVu Sans Mono',consolas,'Courier New',monospace\"><span style=\"color: #008080; text-decoration-color: #008080; font-weight: bold\">6.9790825843811035</span>\n",
       "</pre>\n"
      ],
      "text/plain": [
       "\u001b[1;36m6.9790825843811035\u001b[0m\n"
      ]
     },
     "metadata": {},
     "output_type": "display_data"
    },
    {
     "data": {
      "text/html": [
       "<pre style=\"white-space:pre;overflow-x:auto;line-height:normal;font-family:Menlo,'DejaVu Sans Mono',consolas,'Courier New',monospace\"><span style=\"color: #008080; text-decoration-color: #008080; font-weight: bold\">7.042400360107422</span>\n",
       "</pre>\n"
      ],
      "text/plain": [
       "\u001b[1;36m7.042400360107422\u001b[0m\n"
      ]
     },
     "metadata": {},
     "output_type": "display_data"
    },
    {
     "data": {
      "text/html": [
       "<pre style=\"white-space:pre;overflow-x:auto;line-height:normal;font-family:Menlo,'DejaVu Sans Mono',consolas,'Courier New',monospace\"><span style=\"color: #008080; text-decoration-color: #008080; font-weight: bold\">9.186759948730469</span>\n",
       "</pre>\n"
      ],
      "text/plain": [
       "\u001b[1;36m9.186759948730469\u001b[0m\n"
      ]
     },
     "metadata": {},
     "output_type": "display_data"
    },
    {
     "data": {
      "text/html": [
       "<pre style=\"white-space:pre;overflow-x:auto;line-height:normal;font-family:Menlo,'DejaVu Sans Mono',consolas,'Courier New',monospace\"><span style=\"color: #008080; text-decoration-color: #008080; font-weight: bold\">7.447154521942139</span>\n",
       "</pre>\n"
      ],
      "text/plain": [
       "\u001b[1;36m7.447154521942139\u001b[0m\n"
      ]
     },
     "metadata": {},
     "output_type": "display_data"
    },
    {
     "data": {
      "text/html": [
       "<pre style=\"white-space:pre;overflow-x:auto;line-height:normal;font-family:Menlo,'DejaVu Sans Mono',consolas,'Courier New',monospace\"><span style=\"color: #008080; text-decoration-color: #008080; font-weight: bold\">5.56380033493042</span>\n",
       "</pre>\n"
      ],
      "text/plain": [
       "\u001b[1;36m5.56380033493042\u001b[0m\n"
      ]
     },
     "metadata": {},
     "output_type": "display_data"
    },
    {
     "data": {
      "text/html": [
       "<pre style=\"white-space:pre;overflow-x:auto;line-height:normal;font-family:Menlo,'DejaVu Sans Mono',consolas,'Courier New',monospace\"><span style=\"color: #008080; text-decoration-color: #008080; font-weight: bold\">6.638556003570557</span>\n",
       "</pre>\n"
      ],
      "text/plain": [
       "\u001b[1;36m6.638556003570557\u001b[0m\n"
      ]
     },
     "metadata": {},
     "output_type": "display_data"
    },
    {
     "data": {
      "text/html": [
       "<pre style=\"white-space:pre;overflow-x:auto;line-height:normal;font-family:Menlo,'DejaVu Sans Mono',consolas,'Courier New',monospace\"><span style=\"color: #008080; text-decoration-color: #008080; font-weight: bold\">8.602607727050781</span>\n",
       "</pre>\n"
      ],
      "text/plain": [
       "\u001b[1;36m8.602607727050781\u001b[0m\n"
      ]
     },
     "metadata": {},
     "output_type": "display_data"
    },
    {
     "data": {
      "text/html": [
       "<pre style=\"white-space:pre;overflow-x:auto;line-height:normal;font-family:Menlo,'DejaVu Sans Mono',consolas,'Courier New',monospace\"><span style=\"color: #008080; text-decoration-color: #008080; font-weight: bold\">6.6956467628479</span>\n",
       "</pre>\n"
      ],
      "text/plain": [
       "\u001b[1;36m6.6956467628479\u001b[0m\n"
      ]
     },
     "metadata": {},
     "output_type": "display_data"
    },
    {
     "data": {
      "text/html": [
       "<pre style=\"white-space:pre;overflow-x:auto;line-height:normal;font-family:Menlo,'DejaVu Sans Mono',consolas,'Courier New',monospace\"><span style=\"color: #008080; text-decoration-color: #008080; font-weight: bold\">7.388535976409912</span>\n",
       "</pre>\n"
      ],
      "text/plain": [
       "\u001b[1;36m7.388535976409912\u001b[0m\n"
      ]
     },
     "metadata": {},
     "output_type": "display_data"
    },
    {
     "data": {
      "text/html": [
       "<pre style=\"white-space:pre;overflow-x:auto;line-height:normal;font-family:Menlo,'DejaVu Sans Mono',consolas,'Courier New',monospace\"><span style=\"color: #008080; text-decoration-color: #008080; font-weight: bold\">6.729799270629883</span>\n",
       "</pre>\n"
      ],
      "text/plain": [
       "\u001b[1;36m6.729799270629883\u001b[0m\n"
      ]
     },
     "metadata": {},
     "output_type": "display_data"
    },
    {
     "data": {
      "text/html": [
       "<pre style=\"white-space:pre;overflow-x:auto;line-height:normal;font-family:Menlo,'DejaVu Sans Mono',consolas,'Courier New',monospace\"><span style=\"color: #008080; text-decoration-color: #008080; font-weight: bold\">5.445770263671875</span>\n",
       "</pre>\n"
      ],
      "text/plain": [
       "\u001b[1;36m5.445770263671875\u001b[0m\n"
      ]
     },
     "metadata": {},
     "output_type": "display_data"
    },
    {
     "data": {
      "text/html": [
       "<pre style=\"white-space:pre;overflow-x:auto;line-height:normal;font-family:Menlo,'DejaVu Sans Mono',consolas,'Courier New',monospace\"><span style=\"color: #008080; text-decoration-color: #008080; font-weight: bold\">6.913175582885742</span>\n",
       "</pre>\n"
      ],
      "text/plain": [
       "\u001b[1;36m6.913175582885742\u001b[0m\n"
      ]
     },
     "metadata": {},
     "output_type": "display_data"
    },
    {
     "data": {
      "text/html": [
       "<pre style=\"white-space:pre;overflow-x:auto;line-height:normal;font-family:Menlo,'DejaVu Sans Mono',consolas,'Courier New',monospace\"><span style=\"color: #008080; text-decoration-color: #008080; font-weight: bold\">7.2759108543396</span>\n",
       "</pre>\n"
      ],
      "text/plain": [
       "\u001b[1;36m7.2759108543396\u001b[0m\n"
      ]
     },
     "metadata": {},
     "output_type": "display_data"
    },
    {
     "data": {
      "text/html": [
       "<pre style=\"white-space:pre;overflow-x:auto;line-height:normal;font-family:Menlo,'DejaVu Sans Mono',consolas,'Courier New',monospace\"><span style=\"color: #008080; text-decoration-color: #008080; font-weight: bold\">6.625068187713623</span>\n",
       "</pre>\n"
      ],
      "text/plain": [
       "\u001b[1;36m6.625068187713623\u001b[0m\n"
      ]
     },
     "metadata": {},
     "output_type": "display_data"
    },
    {
     "data": {
      "text/html": [
       "<pre style=\"white-space:pre;overflow-x:auto;line-height:normal;font-family:Menlo,'DejaVu Sans Mono',consolas,'Courier New',monospace\"><span style=\"color: #008080; text-decoration-color: #008080; font-weight: bold\">6.28564977645874</span>\n",
       "</pre>\n"
      ],
      "text/plain": [
       "\u001b[1;36m6.28564977645874\u001b[0m\n"
      ]
     },
     "metadata": {},
     "output_type": "display_data"
    },
    {
     "data": {
      "text/html": [
       "<pre style=\"white-space:pre;overflow-x:auto;line-height:normal;font-family:Menlo,'DejaVu Sans Mono',consolas,'Courier New',monospace\"><span style=\"color: #008080; text-decoration-color: #008080; font-weight: bold\">7.375860691070557</span>\n",
       "</pre>\n"
      ],
      "text/plain": [
       "\u001b[1;36m7.375860691070557\u001b[0m\n"
      ]
     },
     "metadata": {},
     "output_type": "display_data"
    },
    {
     "data": {
      "text/html": [
       "<pre style=\"white-space:pre;overflow-x:auto;line-height:normal;font-family:Menlo,'DejaVu Sans Mono',consolas,'Courier New',monospace\"><span style=\"color: #008080; text-decoration-color: #008080; font-weight: bold\">9.400803565979004</span>\n",
       "</pre>\n"
      ],
      "text/plain": [
       "\u001b[1;36m9.400803565979004\u001b[0m\n"
      ]
     },
     "metadata": {},
     "output_type": "display_data"
    },
    {
     "data": {
      "text/html": [
       "<pre style=\"white-space:pre;overflow-x:auto;line-height:normal;font-family:Menlo,'DejaVu Sans Mono',consolas,'Courier New',monospace\"><span style=\"color: #008080; text-decoration-color: #008080; font-weight: bold\">6.610013008117676</span>\n",
       "</pre>\n"
      ],
      "text/plain": [
       "\u001b[1;36m6.610013008117676\u001b[0m\n"
      ]
     },
     "metadata": {},
     "output_type": "display_data"
    },
    {
     "data": {
      "text/html": [
       "<pre style=\"white-space:pre;overflow-x:auto;line-height:normal;font-family:Menlo,'DejaVu Sans Mono',consolas,'Courier New',monospace\"><span style=\"color: #008080; text-decoration-color: #008080; font-weight: bold\">7.786231517791748</span>\n",
       "</pre>\n"
      ],
      "text/plain": [
       "\u001b[1;36m7.786231517791748\u001b[0m\n"
      ]
     },
     "metadata": {},
     "output_type": "display_data"
    },
    {
     "data": {
      "text/html": [
       "<pre style=\"white-space:pre;overflow-x:auto;line-height:normal;font-family:Menlo,'DejaVu Sans Mono',consolas,'Courier New',monospace\"><span style=\"color: #008080; text-decoration-color: #008080; font-weight: bold\">7.244671821594238</span>\n",
       "</pre>\n"
      ],
      "text/plain": [
       "\u001b[1;36m7.244671821594238\u001b[0m\n"
      ]
     },
     "metadata": {},
     "output_type": "display_data"
    },
    {
     "data": {
      "text/html": [
       "<pre style=\"white-space:pre;overflow-x:auto;line-height:normal;font-family:Menlo,'DejaVu Sans Mono',consolas,'Courier New',monospace\"><span style=\"color: #008080; text-decoration-color: #008080; font-weight: bold\">7.294036388397217</span>\n",
       "</pre>\n"
      ],
      "text/plain": [
       "\u001b[1;36m7.294036388397217\u001b[0m\n"
      ]
     },
     "metadata": {},
     "output_type": "display_data"
    },
    {
     "data": {
      "text/html": [
       "<pre style=\"white-space:pre;overflow-x:auto;line-height:normal;font-family:Menlo,'DejaVu Sans Mono',consolas,'Courier New',monospace\"><span style=\"color: #008080; text-decoration-color: #008080; font-weight: bold\">5.410831928253174</span>\n",
       "</pre>\n"
      ],
      "text/plain": [
       "\u001b[1;36m5.410831928253174\u001b[0m\n"
      ]
     },
     "metadata": {},
     "output_type": "display_data"
    },
    {
     "data": {
      "text/html": [
       "<pre style=\"white-space:pre;overflow-x:auto;line-height:normal;font-family:Menlo,'DejaVu Sans Mono',consolas,'Courier New',monospace\"><span style=\"color: #008080; text-decoration-color: #008080; font-weight: bold\">10.112194061279297</span>\n",
       "</pre>\n"
      ],
      "text/plain": [
       "\u001b[1;36m10.112194061279297\u001b[0m\n"
      ]
     },
     "metadata": {},
     "output_type": "display_data"
    },
    {
     "data": {
      "text/html": [
       "<pre style=\"white-space:pre;overflow-x:auto;line-height:normal;font-family:Menlo,'DejaVu Sans Mono',consolas,'Courier New',monospace\"><span style=\"color: #008080; text-decoration-color: #008080; font-weight: bold\">5.862048149108887</span>\n",
       "</pre>\n"
      ],
      "text/plain": [
       "\u001b[1;36m5.862048149108887\u001b[0m\n"
      ]
     },
     "metadata": {},
     "output_type": "display_data"
    },
    {
     "data": {
      "text/html": [
       "<pre style=\"white-space:pre;overflow-x:auto;line-height:normal;font-family:Menlo,'DejaVu Sans Mono',consolas,'Courier New',monospace\"><span style=\"color: #008080; text-decoration-color: #008080; font-weight: bold\">7.325849533081055</span>\n",
       "</pre>\n"
      ],
      "text/plain": [
       "\u001b[1;36m7.325849533081055\u001b[0m\n"
      ]
     },
     "metadata": {},
     "output_type": "display_data"
    },
    {
     "data": {
      "text/html": [
       "<pre style=\"white-space:pre;overflow-x:auto;line-height:normal;font-family:Menlo,'DejaVu Sans Mono',consolas,'Courier New',monospace\"><span style=\"color: #008080; text-decoration-color: #008080; font-weight: bold\">6.161684513092041</span>\n",
       "</pre>\n"
      ],
      "text/plain": [
       "\u001b[1;36m6.161684513092041\u001b[0m\n"
      ]
     },
     "metadata": {},
     "output_type": "display_data"
    },
    {
     "data": {
      "text/html": [
       "<pre style=\"white-space:pre;overflow-x:auto;line-height:normal;font-family:Menlo,'DejaVu Sans Mono',consolas,'Courier New',monospace\"><span style=\"color: #008080; text-decoration-color: #008080; font-weight: bold\">7.260412693023682</span>\n",
       "</pre>\n"
      ],
      "text/plain": [
       "\u001b[1;36m7.260412693023682\u001b[0m\n"
      ]
     },
     "metadata": {},
     "output_type": "display_data"
    },
    {
     "data": {
      "text/html": [
       "<pre style=\"white-space:pre;overflow-x:auto;line-height:normal;font-family:Menlo,'DejaVu Sans Mono',consolas,'Courier New',monospace\"><span style=\"color: #008080; text-decoration-color: #008080; font-weight: bold\">7.868552207946777</span>\n",
       "</pre>\n"
      ],
      "text/plain": [
       "\u001b[1;36m7.868552207946777\u001b[0m\n"
      ]
     },
     "metadata": {},
     "output_type": "display_data"
    },
    {
     "data": {
      "text/html": [
       "<pre style=\"white-space:pre;overflow-x:auto;line-height:normal;font-family:Menlo,'DejaVu Sans Mono',consolas,'Courier New',monospace\"><span style=\"color: #008080; text-decoration-color: #008080; font-weight: bold\">6.074491024017334</span>\n",
       "</pre>\n"
      ],
      "text/plain": [
       "\u001b[1;36m6.074491024017334\u001b[0m\n"
      ]
     },
     "metadata": {},
     "output_type": "display_data"
    },
    {
     "data": {
      "text/html": [
       "<pre style=\"white-space:pre;overflow-x:auto;line-height:normal;font-family:Menlo,'DejaVu Sans Mono',consolas,'Courier New',monospace\"><span style=\"color: #008080; text-decoration-color: #008080; font-weight: bold\">6.905088901519775</span>\n",
       "</pre>\n"
      ],
      "text/plain": [
       "\u001b[1;36m6.905088901519775\u001b[0m\n"
      ]
     },
     "metadata": {},
     "output_type": "display_data"
    },
    {
     "data": {
      "text/html": [
       "<pre style=\"white-space:pre;overflow-x:auto;line-height:normal;font-family:Menlo,'DejaVu Sans Mono',consolas,'Courier New',monospace\"><span style=\"color: #008080; text-decoration-color: #008080; font-weight: bold\">9.65137767791748</span>\n",
       "</pre>\n"
      ],
      "text/plain": [
       "\u001b[1;36m9.65137767791748\u001b[0m\n"
      ]
     },
     "metadata": {},
     "output_type": "display_data"
    },
    {
     "data": {
      "text/html": [
       "<pre style=\"white-space:pre;overflow-x:auto;line-height:normal;font-family:Menlo,'DejaVu Sans Mono',consolas,'Courier New',monospace\"><span style=\"color: #008080; text-decoration-color: #008080; font-weight: bold\">6.253317356109619</span>\n",
       "</pre>\n"
      ],
      "text/plain": [
       "\u001b[1;36m6.253317356109619\u001b[0m\n"
      ]
     },
     "metadata": {},
     "output_type": "display_data"
    },
    {
     "data": {
      "text/html": [
       "<pre style=\"white-space:pre;overflow-x:auto;line-height:normal;font-family:Menlo,'DejaVu Sans Mono',consolas,'Courier New',monospace\"><span style=\"color: #008080; text-decoration-color: #008080; font-weight: bold\">7.082781791687012</span>\n",
       "</pre>\n"
      ],
      "text/plain": [
       "\u001b[1;36m7.082781791687012\u001b[0m\n"
      ]
     },
     "metadata": {},
     "output_type": "display_data"
    },
    {
     "data": {
      "text/html": [
       "<pre style=\"white-space:pre;overflow-x:auto;line-height:normal;font-family:Menlo,'DejaVu Sans Mono',consolas,'Courier New',monospace\"><span style=\"color: #008080; text-decoration-color: #008080; font-weight: bold\">9.664789199829102</span>\n",
       "</pre>\n"
      ],
      "text/plain": [
       "\u001b[1;36m9.664789199829102\u001b[0m\n"
      ]
     },
     "metadata": {},
     "output_type": "display_data"
    },
    {
     "data": {
      "text/html": [
       "<pre style=\"white-space:pre;overflow-x:auto;line-height:normal;font-family:Menlo,'DejaVu Sans Mono',consolas,'Courier New',monospace\"><span style=\"color: #008080; text-decoration-color: #008080; font-weight: bold\">9.606345176696777</span>\n",
       "</pre>\n"
      ],
      "text/plain": [
       "\u001b[1;36m9.606345176696777\u001b[0m\n"
      ]
     },
     "metadata": {},
     "output_type": "display_data"
    },
    {
     "data": {
      "text/html": [
       "<pre style=\"white-space:pre;overflow-x:auto;line-height:normal;font-family:Menlo,'DejaVu Sans Mono',consolas,'Courier New',monospace\"><span style=\"color: #008080; text-decoration-color: #008080; font-weight: bold\">10.358965873718262</span>\n",
       "</pre>\n"
      ],
      "text/plain": [
       "\u001b[1;36m10.358965873718262\u001b[0m\n"
      ]
     },
     "metadata": {},
     "output_type": "display_data"
    },
    {
     "data": {
      "text/html": [
       "<pre style=\"white-space:pre;overflow-x:auto;line-height:normal;font-family:Menlo,'DejaVu Sans Mono',consolas,'Courier New',monospace\"><span style=\"color: #008080; text-decoration-color: #008080; font-weight: bold\">6.918944358825684</span>\n",
       "</pre>\n"
      ],
      "text/plain": [
       "\u001b[1;36m6.918944358825684\u001b[0m\n"
      ]
     },
     "metadata": {},
     "output_type": "display_data"
    },
    {
     "data": {
      "text/html": [
       "<pre style=\"white-space:pre;overflow-x:auto;line-height:normal;font-family:Menlo,'DejaVu Sans Mono',consolas,'Courier New',monospace\"><span style=\"color: #008080; text-decoration-color: #008080; font-weight: bold\">8.293649673461914</span>\n",
       "</pre>\n"
      ],
      "text/plain": [
       "\u001b[1;36m8.293649673461914\u001b[0m\n"
      ]
     },
     "metadata": {},
     "output_type": "display_data"
    },
    {
     "data": {
      "text/html": [
       "<pre style=\"white-space:pre;overflow-x:auto;line-height:normal;font-family:Menlo,'DejaVu Sans Mono',consolas,'Courier New',monospace\"><span style=\"color: #008080; text-decoration-color: #008080; font-weight: bold\">8.623725891113281</span>\n",
       "</pre>\n"
      ],
      "text/plain": [
       "\u001b[1;36m8.623725891113281\u001b[0m\n"
      ]
     },
     "metadata": {},
     "output_type": "display_data"
    },
    {
     "data": {
      "text/html": [
       "<pre style=\"white-space:pre;overflow-x:auto;line-height:normal;font-family:Menlo,'DejaVu Sans Mono',consolas,'Courier New',monospace\"><span style=\"color: #008080; text-decoration-color: #008080; font-weight: bold\">7.092445373535156</span>\n",
       "</pre>\n"
      ],
      "text/plain": [
       "\u001b[1;36m7.092445373535156\u001b[0m\n"
      ]
     },
     "metadata": {},
     "output_type": "display_data"
    },
    {
     "data": {
      "text/html": [
       "<pre style=\"white-space:pre;overflow-x:auto;line-height:normal;font-family:Menlo,'DejaVu Sans Mono',consolas,'Courier New',monospace\"><span style=\"color: #008080; text-decoration-color: #008080; font-weight: bold\">8.128931999206543</span>\n",
       "</pre>\n"
      ],
      "text/plain": [
       "\u001b[1;36m8.128931999206543\u001b[0m\n"
      ]
     },
     "metadata": {},
     "output_type": "display_data"
    },
    {
     "data": {
      "text/html": [
       "<pre style=\"white-space:pre;overflow-x:auto;line-height:normal;font-family:Menlo,'DejaVu Sans Mono',consolas,'Courier New',monospace\"><span style=\"color: #008080; text-decoration-color: #008080; font-weight: bold\">9.234175682067871</span>\n",
       "</pre>\n"
      ],
      "text/plain": [
       "\u001b[1;36m9.234175682067871\u001b[0m\n"
      ]
     },
     "metadata": {},
     "output_type": "display_data"
    },
    {
     "data": {
      "text/html": [
       "<pre style=\"white-space:pre;overflow-x:auto;line-height:normal;font-family:Menlo,'DejaVu Sans Mono',consolas,'Courier New',monospace\"><span style=\"color: #008080; text-decoration-color: #008080; font-weight: bold\">8.036138534545898</span>\n",
       "</pre>\n"
      ],
      "text/plain": [
       "\u001b[1;36m8.036138534545898\u001b[0m\n"
      ]
     },
     "metadata": {},
     "output_type": "display_data"
    },
    {
     "data": {
      "text/html": [
       "<pre style=\"white-space:pre;overflow-x:auto;line-height:normal;font-family:Menlo,'DejaVu Sans Mono',consolas,'Courier New',monospace\"><span style=\"color: #008080; text-decoration-color: #008080; font-weight: bold\">8.628165245056152</span>\n",
       "</pre>\n"
      ],
      "text/plain": [
       "\u001b[1;36m8.628165245056152\u001b[0m\n"
      ]
     },
     "metadata": {},
     "output_type": "display_data"
    },
    {
     "data": {
      "text/html": [
       "<pre style=\"white-space:pre;overflow-x:auto;line-height:normal;font-family:Menlo,'DejaVu Sans Mono',consolas,'Courier New',monospace\"><span style=\"color: #008080; text-decoration-color: #008080; font-weight: bold\">8.532071113586426</span>\n",
       "</pre>\n"
      ],
      "text/plain": [
       "\u001b[1;36m8.532071113586426\u001b[0m\n"
      ]
     },
     "metadata": {},
     "output_type": "display_data"
    },
    {
     "data": {
      "text/html": [
       "<pre style=\"white-space:pre;overflow-x:auto;line-height:normal;font-family:Menlo,'DejaVu Sans Mono',consolas,'Courier New',monospace\"><span style=\"color: #008080; text-decoration-color: #008080; font-weight: bold\">9.168761253356934</span>\n",
       "</pre>\n"
      ],
      "text/plain": [
       "\u001b[1;36m9.168761253356934\u001b[0m\n"
      ]
     },
     "metadata": {},
     "output_type": "display_data"
    },
    {
     "data": {
      "text/html": [
       "<pre style=\"white-space:pre;overflow-x:auto;line-height:normal;font-family:Menlo,'DejaVu Sans Mono',consolas,'Courier New',monospace\"><span style=\"color: #008080; text-decoration-color: #008080; font-weight: bold\">8.102287292480469</span>\n",
       "</pre>\n"
      ],
      "text/plain": [
       "\u001b[1;36m8.102287292480469\u001b[0m\n"
      ]
     },
     "metadata": {},
     "output_type": "display_data"
    },
    {
     "data": {
      "text/html": [
       "<pre style=\"white-space:pre;overflow-x:auto;line-height:normal;font-family:Menlo,'DejaVu Sans Mono',consolas,'Courier New',monospace\"><span style=\"color: #008080; text-decoration-color: #008080; font-weight: bold\">9.711007118225098</span>\n",
       "</pre>\n"
      ],
      "text/plain": [
       "\u001b[1;36m9.711007118225098\u001b[0m\n"
      ]
     },
     "metadata": {},
     "output_type": "display_data"
    },
    {
     "data": {
      "text/html": [
       "<pre style=\"white-space:pre;overflow-x:auto;line-height:normal;font-family:Menlo,'DejaVu Sans Mono',consolas,'Courier New',monospace\"><span style=\"color: #008080; text-decoration-color: #008080; font-weight: bold\">8.563117980957031</span>\n",
       "</pre>\n"
      ],
      "text/plain": [
       "\u001b[1;36m8.563117980957031\u001b[0m\n"
      ]
     },
     "metadata": {},
     "output_type": "display_data"
    },
    {
     "data": {
      "text/html": [
       "<pre style=\"white-space:pre;overflow-x:auto;line-height:normal;font-family:Menlo,'DejaVu Sans Mono',consolas,'Courier New',monospace\"><span style=\"color: #008080; text-decoration-color: #008080; font-weight: bold\">6.842767238616943</span>\n",
       "</pre>\n"
      ],
      "text/plain": [
       "\u001b[1;36m6.842767238616943\u001b[0m\n"
      ]
     },
     "metadata": {},
     "output_type": "display_data"
    },
    {
     "data": {
      "text/html": [
       "<pre style=\"white-space:pre;overflow-x:auto;line-height:normal;font-family:Menlo,'DejaVu Sans Mono',consolas,'Courier New',monospace\"><span style=\"color: #008080; text-decoration-color: #008080; font-weight: bold\">7.290187358856201</span>\n",
       "</pre>\n"
      ],
      "text/plain": [
       "\u001b[1;36m7.290187358856201\u001b[0m\n"
      ]
     },
     "metadata": {},
     "output_type": "display_data"
    },
    {
     "data": {
      "text/html": [
       "<pre style=\"white-space:pre;overflow-x:auto;line-height:normal;font-family:Menlo,'DejaVu Sans Mono',consolas,'Courier New',monospace\"><span style=\"color: #008080; text-decoration-color: #008080; font-weight: bold\">5.701862812042236</span>\n",
       "</pre>\n"
      ],
      "text/plain": [
       "\u001b[1;36m5.701862812042236\u001b[0m\n"
      ]
     },
     "metadata": {},
     "output_type": "display_data"
    },
    {
     "data": {
      "text/html": [
       "<pre style=\"white-space:pre;overflow-x:auto;line-height:normal;font-family:Menlo,'DejaVu Sans Mono',consolas,'Courier New',monospace\"><span style=\"color: #008080; text-decoration-color: #008080; font-weight: bold\">7.058323383331299</span>\n",
       "</pre>\n"
      ],
      "text/plain": [
       "\u001b[1;36m7.058323383331299\u001b[0m\n"
      ]
     },
     "metadata": {},
     "output_type": "display_data"
    },
    {
     "data": {
      "text/html": [
       "<pre style=\"white-space:pre;overflow-x:auto;line-height:normal;font-family:Menlo,'DejaVu Sans Mono',consolas,'Courier New',monospace\"><span style=\"color: #008080; text-decoration-color: #008080; font-weight: bold\">9.545360565185547</span>\n",
       "</pre>\n"
      ],
      "text/plain": [
       "\u001b[1;36m9.545360565185547\u001b[0m\n"
      ]
     },
     "metadata": {},
     "output_type": "display_data"
    },
    {
     "data": {
      "text/html": [
       "<pre style=\"white-space:pre;overflow-x:auto;line-height:normal;font-family:Menlo,'DejaVu Sans Mono',consolas,'Courier New',monospace\"><span style=\"color: #008080; text-decoration-color: #008080; font-weight: bold\">7.501101493835449</span>\n",
       "</pre>\n"
      ],
      "text/plain": [
       "\u001b[1;36m7.501101493835449\u001b[0m\n"
      ]
     },
     "metadata": {},
     "output_type": "display_data"
    },
    {
     "data": {
      "text/html": [
       "<pre style=\"white-space:pre;overflow-x:auto;line-height:normal;font-family:Menlo,'DejaVu Sans Mono',consolas,'Courier New',monospace\"><span style=\"color: #008080; text-decoration-color: #008080; font-weight: bold\">6.698598384857178</span>\n",
       "</pre>\n"
      ],
      "text/plain": [
       "\u001b[1;36m6.698598384857178\u001b[0m\n"
      ]
     },
     "metadata": {},
     "output_type": "display_data"
    },
    {
     "data": {
      "text/html": [
       "<pre style=\"white-space:pre;overflow-x:auto;line-height:normal;font-family:Menlo,'DejaVu Sans Mono',consolas,'Courier New',monospace\"><span style=\"color: #008080; text-decoration-color: #008080; font-weight: bold\">9.503926277160645</span>\n",
       "</pre>\n"
      ],
      "text/plain": [
       "\u001b[1;36m9.503926277160645\u001b[0m\n"
      ]
     },
     "metadata": {},
     "output_type": "display_data"
    },
    {
     "data": {
      "text/html": [
       "<pre style=\"white-space:pre;overflow-x:auto;line-height:normal;font-family:Menlo,'DejaVu Sans Mono',consolas,'Courier New',monospace\"><span style=\"color: #008080; text-decoration-color: #008080; font-weight: bold\">7.051410675048828</span>\n",
       "</pre>\n"
      ],
      "text/plain": [
       "\u001b[1;36m7.051410675048828\u001b[0m\n"
      ]
     },
     "metadata": {},
     "output_type": "display_data"
    },
    {
     "data": {
      "text/html": [
       "<pre style=\"white-space:pre;overflow-x:auto;line-height:normal;font-family:Menlo,'DejaVu Sans Mono',consolas,'Courier New',monospace\"><span style=\"color: #008080; text-decoration-color: #008080; font-weight: bold\">8.124223709106445</span>\n",
       "</pre>\n"
      ],
      "text/plain": [
       "\u001b[1;36m8.124223709106445\u001b[0m\n"
      ]
     },
     "metadata": {},
     "output_type": "display_data"
    },
    {
     "data": {
      "text/html": [
       "<pre style=\"white-space:pre;overflow-x:auto;line-height:normal;font-family:Menlo,'DejaVu Sans Mono',consolas,'Courier New',monospace\"><span style=\"color: #008080; text-decoration-color: #008080; font-weight: bold\">11.410436630249023</span>\n",
       "</pre>\n"
      ],
      "text/plain": [
       "\u001b[1;36m11.410436630249023\u001b[0m\n"
      ]
     },
     "metadata": {},
     "output_type": "display_data"
    },
    {
     "data": {
      "text/html": [
       "<pre style=\"white-space:pre;overflow-x:auto;line-height:normal;font-family:Menlo,'DejaVu Sans Mono',consolas,'Courier New',monospace\"><span style=\"color: #008080; text-decoration-color: #008080; font-weight: bold\">9.738862037658691</span>\n",
       "</pre>\n"
      ],
      "text/plain": [
       "\u001b[1;36m9.738862037658691\u001b[0m\n"
      ]
     },
     "metadata": {},
     "output_type": "display_data"
    },
    {
     "data": {
      "text/html": [
       "<pre style=\"white-space:pre;overflow-x:auto;line-height:normal;font-family:Menlo,'DejaVu Sans Mono',consolas,'Courier New',monospace\"><span style=\"color: #008080; text-decoration-color: #008080; font-weight: bold\">6.985301494598389</span>\n",
       "</pre>\n"
      ],
      "text/plain": [
       "\u001b[1;36m6.985301494598389\u001b[0m\n"
      ]
     },
     "metadata": {},
     "output_type": "display_data"
    }
   ],
   "source": [
    "params, loss = train(100, X, Y, 1)"
   ]
  },
  {
   "cell_type": "code",
   "execution_count": 371,
   "id": "40d30ae0",
   "metadata": {},
   "outputs": [
    {
     "data": {
      "text/html": [
       "<pre style=\"white-space:pre;overflow-x:auto;line-height:normal;font-family:Menlo,'DejaVu Sans Mono',consolas,'Courier New',monospace\">\n",
       "<span style=\"color: #800080; text-decoration-color: #800080; font-weight: bold\">tensor</span><span style=\"font-weight: bold\">([</span><span style=\"color: #008080; text-decoration-color: #008080; font-weight: bold\">0.0010</span>, <span style=\"color: #008080; text-decoration-color: #008080; font-weight: bold\">0.0010</span>, <span style=\"color: #008080; text-decoration-color: #008080; font-weight: bold\">0.0010</span>, <span style=\"color: #008080; text-decoration-color: #008080; font-weight: bold\">0.0010</span>, <span style=\"color: #008080; text-decoration-color: #008080; font-weight: bold\">0.0010</span>, <span style=\"color: #008080; text-decoration-color: #008080; font-weight: bold\">0.0010</span>, <span style=\"color: #008080; text-decoration-color: #008080; font-weight: bold\">0.0010</span>, <span style=\"color: #008080; text-decoration-color: #008080; font-weight: bold\">0.0010</span>, <span style=\"color: #008080; text-decoration-color: #008080; font-weight: bold\">0.0011</span>,\n",
       "        <span style=\"color: #008080; text-decoration-color: #008080; font-weight: bold\">0.0011</span>, <span style=\"color: #008080; text-decoration-color: #008080; font-weight: bold\">0.0011</span>, <span style=\"color: #008080; text-decoration-color: #008080; font-weight: bold\">0.0011</span>, <span style=\"color: #008080; text-decoration-color: #008080; font-weight: bold\">0.0011</span>, <span style=\"color: #008080; text-decoration-color: #008080; font-weight: bold\">0.0011</span>, <span style=\"color: #008080; text-decoration-color: #008080; font-weight: bold\">0.0011</span>, <span style=\"color: #008080; text-decoration-color: #008080; font-weight: bold\">0.0011</span>, <span style=\"color: #008080; text-decoration-color: #008080; font-weight: bold\">0.0011</span>, <span style=\"color: #008080; text-decoration-color: #008080; font-weight: bold\">0.0011</span>,\n",
       "        <span style=\"color: #008080; text-decoration-color: #008080; font-weight: bold\">0.0011</span>, <span style=\"color: #008080; text-decoration-color: #008080; font-weight: bold\">0.0011</span>, <span style=\"color: #008080; text-decoration-color: #008080; font-weight: bold\">0.0011</span>, <span style=\"color: #008080; text-decoration-color: #008080; font-weight: bold\">0.0012</span>, <span style=\"color: #008080; text-decoration-color: #008080; font-weight: bold\">0.0012</span>, <span style=\"color: #008080; text-decoration-color: #008080; font-weight: bold\">0.0012</span>, <span style=\"color: #008080; text-decoration-color: #008080; font-weight: bold\">0.0012</span>, <span style=\"color: #008080; text-decoration-color: #008080; font-weight: bold\">0.0012</span>, <span style=\"color: #008080; text-decoration-color: #008080; font-weight: bold\">0.0012</span>,\n",
       "        <span style=\"color: #008080; text-decoration-color: #008080; font-weight: bold\">0.0012</span>, <span style=\"color: #008080; text-decoration-color: #008080; font-weight: bold\">0.0012</span>, <span style=\"color: #008080; text-decoration-color: #008080; font-weight: bold\">0.0012</span>, <span style=\"color: #008080; text-decoration-color: #008080; font-weight: bold\">0.0012</span>, <span style=\"color: #008080; text-decoration-color: #008080; font-weight: bold\">0.0012</span>, <span style=\"color: #008080; text-decoration-color: #008080; font-weight: bold\">0.0012</span>, <span style=\"color: #008080; text-decoration-color: #008080; font-weight: bold\">0.0013</span>, <span style=\"color: #008080; text-decoration-color: #008080; font-weight: bold\">0.0013</span>, <span style=\"color: #008080; text-decoration-color: #008080; font-weight: bold\">0.0013</span>,\n",
       "        <span style=\"color: #008080; text-decoration-color: #008080; font-weight: bold\">0.0013</span>, <span style=\"color: #008080; text-decoration-color: #008080; font-weight: bold\">0.0013</span>, <span style=\"color: #008080; text-decoration-color: #008080; font-weight: bold\">0.0013</span>, <span style=\"color: #008080; text-decoration-color: #008080; font-weight: bold\">0.0013</span>, <span style=\"color: #008080; text-decoration-color: #008080; font-weight: bold\">0.0013</span>, <span style=\"color: #008080; text-decoration-color: #008080; font-weight: bold\">0.0013</span>, <span style=\"color: #008080; text-decoration-color: #008080; font-weight: bold\">0.0013</span>, <span style=\"color: #008080; text-decoration-color: #008080; font-weight: bold\">0.0013</span>, <span style=\"color: #008080; text-decoration-color: #008080; font-weight: bold\">0.0014</span>,\n",
       "        <span style=\"color: #008080; text-decoration-color: #008080; font-weight: bold\">0.0014</span>, <span style=\"color: #008080; text-decoration-color: #008080; font-weight: bold\">0.0014</span>, <span style=\"color: #008080; text-decoration-color: #008080; font-weight: bold\">0.0014</span>, <span style=\"color: #008080; text-decoration-color: #008080; font-weight: bold\">0.0014</span>, <span style=\"color: #008080; text-decoration-color: #008080; font-weight: bold\">0.0014</span>, <span style=\"color: #008080; text-decoration-color: #008080; font-weight: bold\">0.0014</span>, <span style=\"color: #008080; text-decoration-color: #008080; font-weight: bold\">0.0014</span>, <span style=\"color: #008080; text-decoration-color: #008080; font-weight: bold\">0.0014</span>, <span style=\"color: #008080; text-decoration-color: #008080; font-weight: bold\">0.0014</span>,\n",
       "        <span style=\"color: #008080; text-decoration-color: #008080; font-weight: bold\">0.0015</span>, <span style=\"color: #008080; text-decoration-color: #008080; font-weight: bold\">0.0015</span>, <span style=\"color: #008080; text-decoration-color: #008080; font-weight: bold\">0.0015</span>, <span style=\"color: #008080; text-decoration-color: #008080; font-weight: bold\">0.0015</span>, <span style=\"color: #008080; text-decoration-color: #008080; font-weight: bold\">0.0015</span>, <span style=\"color: #008080; text-decoration-color: #008080; font-weight: bold\">0.0015</span>, <span style=\"color: #008080; text-decoration-color: #008080; font-weight: bold\">0.0015</span>, <span style=\"color: #008080; text-decoration-color: #008080; font-weight: bold\">0.0015</span>, <span style=\"color: #008080; text-decoration-color: #008080; font-weight: bold\">0.0015</span>,\n",
       "        <span style=\"color: #008080; text-decoration-color: #008080; font-weight: bold\">0.0015</span>, <span style=\"color: #008080; text-decoration-color: #008080; font-weight: bold\">0.0016</span>, <span style=\"color: #008080; text-decoration-color: #008080; font-weight: bold\">0.0016</span>, <span style=\"color: #008080; text-decoration-color: #008080; font-weight: bold\">0.0016</span>, <span style=\"color: #008080; text-decoration-color: #008080; font-weight: bold\">0.0016</span>, <span style=\"color: #008080; text-decoration-color: #008080; font-weight: bold\">0.0016</span>, <span style=\"color: #008080; text-decoration-color: #008080; font-weight: bold\">0.0016</span>, <span style=\"color: #008080; text-decoration-color: #008080; font-weight: bold\">0.0016</span>, <span style=\"color: #008080; text-decoration-color: #008080; font-weight: bold\">0.0016</span>,\n",
       "        <span style=\"color: #008080; text-decoration-color: #008080; font-weight: bold\">0.0016</span>, <span style=\"color: #008080; text-decoration-color: #008080; font-weight: bold\">0.0017</span>, <span style=\"color: #008080; text-decoration-color: #008080; font-weight: bold\">0.0017</span>, <span style=\"color: #008080; text-decoration-color: #008080; font-weight: bold\">0.0017</span>, <span style=\"color: #008080; text-decoration-color: #008080; font-weight: bold\">0.0017</span>, <span style=\"color: #008080; text-decoration-color: #008080; font-weight: bold\">0.0017</span>, <span style=\"color: #008080; text-decoration-color: #008080; font-weight: bold\">0.0017</span>, <span style=\"color: #008080; text-decoration-color: #008080; font-weight: bold\">0.0017</span>, <span style=\"color: #008080; text-decoration-color: #008080; font-weight: bold\">0.0017</span>,\n",
       "        <span style=\"color: #008080; text-decoration-color: #008080; font-weight: bold\">0.0018</span>, <span style=\"color: #008080; text-decoration-color: #008080; font-weight: bold\">0.0018</span>, <span style=\"color: #008080; text-decoration-color: #008080; font-weight: bold\">0.0018</span>, <span style=\"color: #008080; text-decoration-color: #008080; font-weight: bold\">0.0018</span>, <span style=\"color: #008080; text-decoration-color: #008080; font-weight: bold\">0.0018</span>, <span style=\"color: #008080; text-decoration-color: #008080; font-weight: bold\">0.0018</span>, <span style=\"color: #008080; text-decoration-color: #008080; font-weight: bold\">0.0018</span>, <span style=\"color: #008080; text-decoration-color: #008080; font-weight: bold\">0.0018</span>, <span style=\"color: #008080; text-decoration-color: #008080; font-weight: bold\">0.0019</span>,\n",
       "        <span style=\"color: #008080; text-decoration-color: #008080; font-weight: bold\">0.0019</span>, <span style=\"color: #008080; text-decoration-color: #008080; font-weight: bold\">0.0019</span>, <span style=\"color: #008080; text-decoration-color: #008080; font-weight: bold\">0.0019</span>, <span style=\"color: #008080; text-decoration-color: #008080; font-weight: bold\">0.0019</span>, <span style=\"color: #008080; text-decoration-color: #008080; font-weight: bold\">0.0019</span>, <span style=\"color: #008080; text-decoration-color: #008080; font-weight: bold\">0.0019</span>, <span style=\"color: #008080; text-decoration-color: #008080; font-weight: bold\">0.0019</span>, <span style=\"color: #008080; text-decoration-color: #008080; font-weight: bold\">0.0020</span>, <span style=\"color: #008080; text-decoration-color: #008080; font-weight: bold\">0.0020</span>,\n",
       "        <span style=\"color: #008080; text-decoration-color: #008080; font-weight: bold\">0.0020</span>, <span style=\"color: #008080; text-decoration-color: #008080; font-weight: bold\">0.0020</span>, <span style=\"color: #008080; text-decoration-color: #008080; font-weight: bold\">0.0020</span>, <span style=\"color: #008080; text-decoration-color: #008080; font-weight: bold\">0.0020</span>, <span style=\"color: #008080; text-decoration-color: #008080; font-weight: bold\">0.0020</span>, <span style=\"color: #008080; text-decoration-color: #008080; font-weight: bold\">0.0021</span>, <span style=\"color: #008080; text-decoration-color: #008080; font-weight: bold\">0.0021</span>, <span style=\"color: #008080; text-decoration-color: #008080; font-weight: bold\">0.0021</span>, <span style=\"color: #008080; text-decoration-color: #008080; font-weight: bold\">0.0021</span>,\n",
       "        <span style=\"color: #008080; text-decoration-color: #008080; font-weight: bold\">0.0021</span>, <span style=\"color: #008080; text-decoration-color: #008080; font-weight: bold\">0.0021</span>, <span style=\"color: #008080; text-decoration-color: #008080; font-weight: bold\">0.0021</span>, <span style=\"color: #008080; text-decoration-color: #008080; font-weight: bold\">0.0022</span>, <span style=\"color: #008080; text-decoration-color: #008080; font-weight: bold\">0.0022</span>, <span style=\"color: #008080; text-decoration-color: #008080; font-weight: bold\">0.0022</span>, <span style=\"color: #008080; text-decoration-color: #008080; font-weight: bold\">0.0022</span>, <span style=\"color: #008080; text-decoration-color: #008080; font-weight: bold\">0.0022</span>, <span style=\"color: #008080; text-decoration-color: #008080; font-weight: bold\">0.0022</span>,\n",
       "        <span style=\"color: #008080; text-decoration-color: #008080; font-weight: bold\">0.0022</span>, <span style=\"color: #008080; text-decoration-color: #008080; font-weight: bold\">0.0023</span>, <span style=\"color: #008080; text-decoration-color: #008080; font-weight: bold\">0.0023</span>, <span style=\"color: #008080; text-decoration-color: #008080; font-weight: bold\">0.0023</span>, <span style=\"color: #008080; text-decoration-color: #008080; font-weight: bold\">0.0023</span>, <span style=\"color: #008080; text-decoration-color: #008080; font-weight: bold\">0.0023</span>, <span style=\"color: #008080; text-decoration-color: #008080; font-weight: bold\">0.0023</span>, <span style=\"color: #008080; text-decoration-color: #008080; font-weight: bold\">0.0024</span>, <span style=\"color: #008080; text-decoration-color: #008080; font-weight: bold\">0.0024</span>,\n",
       "        <span style=\"color: #008080; text-decoration-color: #008080; font-weight: bold\">0.0024</span>, <span style=\"color: #008080; text-decoration-color: #008080; font-weight: bold\">0.0024</span>, <span style=\"color: #008080; text-decoration-color: #008080; font-weight: bold\">0.0024</span>, <span style=\"color: #008080; text-decoration-color: #008080; font-weight: bold\">0.0024</span>, <span style=\"color: #008080; text-decoration-color: #008080; font-weight: bold\">0.0025</span>, <span style=\"color: #008080; text-decoration-color: #008080; font-weight: bold\">0.0025</span>, <span style=\"color: #008080; text-decoration-color: #008080; font-weight: bold\">0.0025</span>, <span style=\"color: #008080; text-decoration-color: #008080; font-weight: bold\">0.0025</span>, <span style=\"color: #008080; text-decoration-color: #008080; font-weight: bold\">0.0025</span>,\n",
       "        <span style=\"color: #008080; text-decoration-color: #008080; font-weight: bold\">0.0025</span>, <span style=\"color: #008080; text-decoration-color: #008080; font-weight: bold\">0.0026</span>, <span style=\"color: #008080; text-decoration-color: #008080; font-weight: bold\">0.0026</span>, <span style=\"color: #008080; text-decoration-color: #008080; font-weight: bold\">0.0026</span>, <span style=\"color: #008080; text-decoration-color: #008080; font-weight: bold\">0.0026</span>, <span style=\"color: #008080; text-decoration-color: #008080; font-weight: bold\">0.0026</span>, <span style=\"color: #008080; text-decoration-color: #008080; font-weight: bold\">0.0027</span>, <span style=\"color: #008080; text-decoration-color: #008080; font-weight: bold\">0.0027</span>, <span style=\"color: #008080; text-decoration-color: #008080; font-weight: bold\">0.0027</span>,\n",
       "        <span style=\"color: #008080; text-decoration-color: #008080; font-weight: bold\">0.0027</span>, <span style=\"color: #008080; text-decoration-color: #008080; font-weight: bold\">0.0027</span>, <span style=\"color: #008080; text-decoration-color: #008080; font-weight: bold\">0.0027</span>, <span style=\"color: #008080; text-decoration-color: #008080; font-weight: bold\">0.0028</span>, <span style=\"color: #008080; text-decoration-color: #008080; font-weight: bold\">0.0028</span>, <span style=\"color: #008080; text-decoration-color: #008080; font-weight: bold\">0.0028</span>, <span style=\"color: #008080; text-decoration-color: #008080; font-weight: bold\">0.0028</span>, <span style=\"color: #008080; text-decoration-color: #008080; font-weight: bold\">0.0028</span>, <span style=\"color: #008080; text-decoration-color: #008080; font-weight: bold\">0.0029</span>,\n",
       "        <span style=\"color: #008080; text-decoration-color: #008080; font-weight: bold\">0.0029</span>, <span style=\"color: #008080; text-decoration-color: #008080; font-weight: bold\">0.0029</span>, <span style=\"color: #008080; text-decoration-color: #008080; font-weight: bold\">0.0029</span>, <span style=\"color: #008080; text-decoration-color: #008080; font-weight: bold\">0.0029</span>, <span style=\"color: #008080; text-decoration-color: #008080; font-weight: bold\">0.0030</span>, <span style=\"color: #008080; text-decoration-color: #008080; font-weight: bold\">0.0030</span>, <span style=\"color: #008080; text-decoration-color: #008080; font-weight: bold\">0.0030</span>, <span style=\"color: #008080; text-decoration-color: #008080; font-weight: bold\">0.0030</span>, <span style=\"color: #008080; text-decoration-color: #008080; font-weight: bold\">0.0030</span>,\n",
       "        <span style=\"color: #008080; text-decoration-color: #008080; font-weight: bold\">0.0031</span>, <span style=\"color: #008080; text-decoration-color: #008080; font-weight: bold\">0.0031</span>, <span style=\"color: #008080; text-decoration-color: #008080; font-weight: bold\">0.0031</span>, <span style=\"color: #008080; text-decoration-color: #008080; font-weight: bold\">0.0031</span>, <span style=\"color: #008080; text-decoration-color: #008080; font-weight: bold\">0.0032</span>, <span style=\"color: #008080; text-decoration-color: #008080; font-weight: bold\">0.0032</span>, <span style=\"color: #008080; text-decoration-color: #008080; font-weight: bold\">0.0032</span>, <span style=\"color: #008080; text-decoration-color: #008080; font-weight: bold\">0.0032</span>, <span style=\"color: #008080; text-decoration-color: #008080; font-weight: bold\">0.0032</span>,\n",
       "        <span style=\"color: #008080; text-decoration-color: #008080; font-weight: bold\">0.0033</span>, <span style=\"color: #008080; text-decoration-color: #008080; font-weight: bold\">0.0033</span>, <span style=\"color: #008080; text-decoration-color: #008080; font-weight: bold\">0.0033</span>, <span style=\"color: #008080; text-decoration-color: #008080; font-weight: bold\">0.0033</span>, <span style=\"color: #008080; text-decoration-color: #008080; font-weight: bold\">0.0034</span>, <span style=\"color: #008080; text-decoration-color: #008080; font-weight: bold\">0.0034</span>, <span style=\"color: #008080; text-decoration-color: #008080; font-weight: bold\">0.0034</span>, <span style=\"color: #008080; text-decoration-color: #008080; font-weight: bold\">0.0034</span>, <span style=\"color: #008080; text-decoration-color: #008080; font-weight: bold\">0.0034</span>,\n",
       "        <span style=\"color: #008080; text-decoration-color: #008080; font-weight: bold\">0.0035</span>, <span style=\"color: #008080; text-decoration-color: #008080; font-weight: bold\">0.0035</span>, <span style=\"color: #008080; text-decoration-color: #008080; font-weight: bold\">0.0035</span>, <span style=\"color: #008080; text-decoration-color: #008080; font-weight: bold\">0.0035</span>, <span style=\"color: #008080; text-decoration-color: #008080; font-weight: bold\">0.0036</span>, <span style=\"color: #008080; text-decoration-color: #008080; font-weight: bold\">0.0036</span>, <span style=\"color: #008080; text-decoration-color: #008080; font-weight: bold\">0.0036</span>, <span style=\"color: #008080; text-decoration-color: #008080; font-weight: bold\">0.0036</span>, <span style=\"color: #008080; text-decoration-color: #008080; font-weight: bold\">0.0037</span>,\n",
       "        <span style=\"color: #008080; text-decoration-color: #008080; font-weight: bold\">0.0037</span>, <span style=\"color: #008080; text-decoration-color: #008080; font-weight: bold\">0.0037</span>, <span style=\"color: #008080; text-decoration-color: #008080; font-weight: bold\">0.0037</span>, <span style=\"color: #008080; text-decoration-color: #008080; font-weight: bold\">0.0038</span>, <span style=\"color: #008080; text-decoration-color: #008080; font-weight: bold\">0.0038</span>, <span style=\"color: #008080; text-decoration-color: #008080; font-weight: bold\">0.0038</span>, <span style=\"color: #008080; text-decoration-color: #008080; font-weight: bold\">0.0039</span>, <span style=\"color: #008080; text-decoration-color: #008080; font-weight: bold\">0.0039</span>, <span style=\"color: #008080; text-decoration-color: #008080; font-weight: bold\">0.0039</span>,\n",
       "        <span style=\"color: #008080; text-decoration-color: #008080; font-weight: bold\">0.0039</span>, <span style=\"color: #008080; text-decoration-color: #008080; font-weight: bold\">0.0040</span>, <span style=\"color: #008080; text-decoration-color: #008080; font-weight: bold\">0.0040</span>, <span style=\"color: #008080; text-decoration-color: #008080; font-weight: bold\">0.0040</span>, <span style=\"color: #008080; text-decoration-color: #008080; font-weight: bold\">0.0040</span>, <span style=\"color: #008080; text-decoration-color: #008080; font-weight: bold\">0.0041</span>, <span style=\"color: #008080; text-decoration-color: #008080; font-weight: bold\">0.0041</span>, <span style=\"color: #008080; text-decoration-color: #008080; font-weight: bold\">0.0041</span>, <span style=\"color: #008080; text-decoration-color: #008080; font-weight: bold\">0.0042</span>,\n",
       "        <span style=\"color: #008080; text-decoration-color: #008080; font-weight: bold\">0.0042</span>, <span style=\"color: #008080; text-decoration-color: #008080; font-weight: bold\">0.0042</span>, <span style=\"color: #008080; text-decoration-color: #008080; font-weight: bold\">0.0042</span>, <span style=\"color: #008080; text-decoration-color: #008080; font-weight: bold\">0.0043</span>, <span style=\"color: #008080; text-decoration-color: #008080; font-weight: bold\">0.0043</span>, <span style=\"color: #008080; text-decoration-color: #008080; font-weight: bold\">0.0043</span>, <span style=\"color: #008080; text-decoration-color: #008080; font-weight: bold\">0.0044</span>, <span style=\"color: #008080; text-decoration-color: #008080; font-weight: bold\">0.0044</span>, <span style=\"color: #008080; text-decoration-color: #008080; font-weight: bold\">0.0044</span>,\n",
       "        <span style=\"color: #008080; text-decoration-color: #008080; font-weight: bold\">0.0045</span>, <span style=\"color: #008080; text-decoration-color: #008080; font-weight: bold\">0.0045</span>, <span style=\"color: #008080; text-decoration-color: #008080; font-weight: bold\">0.0045</span>, <span style=\"color: #008080; text-decoration-color: #008080; font-weight: bold\">0.0045</span>, <span style=\"color: #008080; text-decoration-color: #008080; font-weight: bold\">0.0046</span>, <span style=\"color: #008080; text-decoration-color: #008080; font-weight: bold\">0.0046</span>, <span style=\"color: #008080; text-decoration-color: #008080; font-weight: bold\">0.0046</span>, <span style=\"color: #008080; text-decoration-color: #008080; font-weight: bold\">0.0047</span>, <span style=\"color: #008080; text-decoration-color: #008080; font-weight: bold\">0.0047</span>,\n",
       "        <span style=\"color: #008080; text-decoration-color: #008080; font-weight: bold\">0.0047</span>, <span style=\"color: #008080; text-decoration-color: #008080; font-weight: bold\">0.0048</span>, <span style=\"color: #008080; text-decoration-color: #008080; font-weight: bold\">0.0048</span>, <span style=\"color: #008080; text-decoration-color: #008080; font-weight: bold\">0.0048</span>, <span style=\"color: #008080; text-decoration-color: #008080; font-weight: bold\">0.0049</span>, <span style=\"color: #008080; text-decoration-color: #008080; font-weight: bold\">0.0049</span>, <span style=\"color: #008080; text-decoration-color: #008080; font-weight: bold\">0.0049</span>, <span style=\"color: #008080; text-decoration-color: #008080; font-weight: bold\">0.0050</span>, <span style=\"color: #008080; text-decoration-color: #008080; font-weight: bold\">0.0050</span>,\n",
       "        <span style=\"color: #008080; text-decoration-color: #008080; font-weight: bold\">0.0050</span>, <span style=\"color: #008080; text-decoration-color: #008080; font-weight: bold\">0.0051</span>, <span style=\"color: #008080; text-decoration-color: #008080; font-weight: bold\">0.0051</span>, <span style=\"color: #008080; text-decoration-color: #008080; font-weight: bold\">0.0051</span>, <span style=\"color: #008080; text-decoration-color: #008080; font-weight: bold\">0.0052</span>, <span style=\"color: #008080; text-decoration-color: #008080; font-weight: bold\">0.0052</span>, <span style=\"color: #008080; text-decoration-color: #008080; font-weight: bold\">0.0053</span>, <span style=\"color: #008080; text-decoration-color: #008080; font-weight: bold\">0.0053</span>, <span style=\"color: #008080; text-decoration-color: #008080; font-weight: bold\">0.0053</span>,\n",
       "        <span style=\"color: #008080; text-decoration-color: #008080; font-weight: bold\">0.0054</span>, <span style=\"color: #008080; text-decoration-color: #008080; font-weight: bold\">0.0054</span>, <span style=\"color: #008080; text-decoration-color: #008080; font-weight: bold\">0.0054</span>, <span style=\"color: #008080; text-decoration-color: #008080; font-weight: bold\">0.0055</span>, <span style=\"color: #008080; text-decoration-color: #008080; font-weight: bold\">0.0055</span>, <span style=\"color: #008080; text-decoration-color: #008080; font-weight: bold\">0.0056</span>, <span style=\"color: #008080; text-decoration-color: #008080; font-weight: bold\">0.0056</span>, <span style=\"color: #008080; text-decoration-color: #008080; font-weight: bold\">0.0056</span>, <span style=\"color: #008080; text-decoration-color: #008080; font-weight: bold\">0.0057</span>,\n",
       "        <span style=\"color: #008080; text-decoration-color: #008080; font-weight: bold\">0.0057</span>, <span style=\"color: #008080; text-decoration-color: #008080; font-weight: bold\">0.0058</span>, <span style=\"color: #008080; text-decoration-color: #008080; font-weight: bold\">0.0058</span>, <span style=\"color: #008080; text-decoration-color: #008080; font-weight: bold\">0.0058</span>, <span style=\"color: #008080; text-decoration-color: #008080; font-weight: bold\">0.0059</span>, <span style=\"color: #008080; text-decoration-color: #008080; font-weight: bold\">0.0059</span>, <span style=\"color: #008080; text-decoration-color: #008080; font-weight: bold\">0.0060</span>, <span style=\"color: #008080; text-decoration-color: #008080; font-weight: bold\">0.0060</span>, <span style=\"color: #008080; text-decoration-color: #008080; font-weight: bold\">0.0060</span>,\n",
       "        <span style=\"color: #008080; text-decoration-color: #008080; font-weight: bold\">0.0061</span>, <span style=\"color: #008080; text-decoration-color: #008080; font-weight: bold\">0.0061</span>, <span style=\"color: #008080; text-decoration-color: #008080; font-weight: bold\">0.0062</span>, <span style=\"color: #008080; text-decoration-color: #008080; font-weight: bold\">0.0062</span>, <span style=\"color: #008080; text-decoration-color: #008080; font-weight: bold\">0.0062</span>, <span style=\"color: #008080; text-decoration-color: #008080; font-weight: bold\">0.0063</span>, <span style=\"color: #008080; text-decoration-color: #008080; font-weight: bold\">0.0063</span>, <span style=\"color: #008080; text-decoration-color: #008080; font-weight: bold\">0.0064</span>, <span style=\"color: #008080; text-decoration-color: #008080; font-weight: bold\">0.0064</span>,\n",
       "        <span style=\"color: #008080; text-decoration-color: #008080; font-weight: bold\">0.0065</span>, <span style=\"color: #008080; text-decoration-color: #008080; font-weight: bold\">0.0065</span>, <span style=\"color: #008080; text-decoration-color: #008080; font-weight: bold\">0.0066</span>, <span style=\"color: #008080; text-decoration-color: #008080; font-weight: bold\">0.0066</span>, <span style=\"color: #008080; text-decoration-color: #008080; font-weight: bold\">0.0067</span>, <span style=\"color: #008080; text-decoration-color: #008080; font-weight: bold\">0.0067</span>, <span style=\"color: #008080; text-decoration-color: #008080; font-weight: bold\">0.0067</span>, <span style=\"color: #008080; text-decoration-color: #008080; font-weight: bold\">0.0068</span>, <span style=\"color: #008080; text-decoration-color: #008080; font-weight: bold\">0.0068</span>,\n",
       "        <span style=\"color: #008080; text-decoration-color: #008080; font-weight: bold\">0.0069</span>, <span style=\"color: #008080; text-decoration-color: #008080; font-weight: bold\">0.0069</span>, <span style=\"color: #008080; text-decoration-color: #008080; font-weight: bold\">0.0070</span>, <span style=\"color: #008080; text-decoration-color: #008080; font-weight: bold\">0.0070</span>, <span style=\"color: #008080; text-decoration-color: #008080; font-weight: bold\">0.0071</span>, <span style=\"color: #008080; text-decoration-color: #008080; font-weight: bold\">0.0071</span>, <span style=\"color: #008080; text-decoration-color: #008080; font-weight: bold\">0.0072</span>, <span style=\"color: #008080; text-decoration-color: #008080; font-weight: bold\">0.0072</span>, <span style=\"color: #008080; text-decoration-color: #008080; font-weight: bold\">0.0073</span>,\n",
       "        <span style=\"color: #008080; text-decoration-color: #008080; font-weight: bold\">0.0073</span>, <span style=\"color: #008080; text-decoration-color: #008080; font-weight: bold\">0.0074</span>, <span style=\"color: #008080; text-decoration-color: #008080; font-weight: bold\">0.0074</span>, <span style=\"color: #008080; text-decoration-color: #008080; font-weight: bold\">0.0075</span>, <span style=\"color: #008080; text-decoration-color: #008080; font-weight: bold\">0.0075</span>, <span style=\"color: #008080; text-decoration-color: #008080; font-weight: bold\">0.0076</span>, <span style=\"color: #008080; text-decoration-color: #008080; font-weight: bold\">0.0076</span>, <span style=\"color: #008080; text-decoration-color: #008080; font-weight: bold\">0.0077</span>, <span style=\"color: #008080; text-decoration-color: #008080; font-weight: bold\">0.0077</span>,\n",
       "        <span style=\"color: #008080; text-decoration-color: #008080; font-weight: bold\">0.0078</span>, <span style=\"color: #008080; text-decoration-color: #008080; font-weight: bold\">0.0079</span>, <span style=\"color: #008080; text-decoration-color: #008080; font-weight: bold\">0.0079</span>, <span style=\"color: #008080; text-decoration-color: #008080; font-weight: bold\">0.0080</span>, <span style=\"color: #008080; text-decoration-color: #008080; font-weight: bold\">0.0080</span>, <span style=\"color: #008080; text-decoration-color: #008080; font-weight: bold\">0.0081</span>, <span style=\"color: #008080; text-decoration-color: #008080; font-weight: bold\">0.0081</span>, <span style=\"color: #008080; text-decoration-color: #008080; font-weight: bold\">0.0082</span>, <span style=\"color: #008080; text-decoration-color: #008080; font-weight: bold\">0.0082</span>,\n",
       "        <span style=\"color: #008080; text-decoration-color: #008080; font-weight: bold\">0.0083</span>, <span style=\"color: #008080; text-decoration-color: #008080; font-weight: bold\">0.0084</span>, <span style=\"color: #008080; text-decoration-color: #008080; font-weight: bold\">0.0084</span>, <span style=\"color: #008080; text-decoration-color: #008080; font-weight: bold\">0.0085</span>, <span style=\"color: #008080; text-decoration-color: #008080; font-weight: bold\">0.0085</span>, <span style=\"color: #008080; text-decoration-color: #008080; font-weight: bold\">0.0086</span>, <span style=\"color: #008080; text-decoration-color: #008080; font-weight: bold\">0.0086</span>, <span style=\"color: #008080; text-decoration-color: #008080; font-weight: bold\">0.0087</span>, <span style=\"color: #008080; text-decoration-color: #008080; font-weight: bold\">0.0088</span>,\n",
       "        <span style=\"color: #008080; text-decoration-color: #008080; font-weight: bold\">0.0088</span>, <span style=\"color: #008080; text-decoration-color: #008080; font-weight: bold\">0.0089</span>, <span style=\"color: #008080; text-decoration-color: #008080; font-weight: bold\">0.0090</span>, <span style=\"color: #008080; text-decoration-color: #008080; font-weight: bold\">0.0090</span>, <span style=\"color: #008080; text-decoration-color: #008080; font-weight: bold\">0.0091</span>, <span style=\"color: #008080; text-decoration-color: #008080; font-weight: bold\">0.0091</span>, <span style=\"color: #008080; text-decoration-color: #008080; font-weight: bold\">0.0092</span>, <span style=\"color: #008080; text-decoration-color: #008080; font-weight: bold\">0.0093</span>, <span style=\"color: #008080; text-decoration-color: #008080; font-weight: bold\">0.0093</span>,\n",
       "        <span style=\"color: #008080; text-decoration-color: #008080; font-weight: bold\">0.0094</span>, <span style=\"color: #008080; text-decoration-color: #008080; font-weight: bold\">0.0095</span>, <span style=\"color: #008080; text-decoration-color: #008080; font-weight: bold\">0.0095</span>, <span style=\"color: #008080; text-decoration-color: #008080; font-weight: bold\">0.0096</span>, <span style=\"color: #008080; text-decoration-color: #008080; font-weight: bold\">0.0097</span>, <span style=\"color: #008080; text-decoration-color: #008080; font-weight: bold\">0.0097</span>, <span style=\"color: #008080; text-decoration-color: #008080; font-weight: bold\">0.0098</span>, <span style=\"color: #008080; text-decoration-color: #008080; font-weight: bold\">0.0099</span>, <span style=\"color: #008080; text-decoration-color: #008080; font-weight: bold\">0.0099</span>,\n",
       "        <span style=\"color: #008080; text-decoration-color: #008080; font-weight: bold\">0.0100</span>, <span style=\"color: #008080; text-decoration-color: #008080; font-weight: bold\">0.0101</span>, <span style=\"color: #008080; text-decoration-color: #008080; font-weight: bold\">0.0101</span>, <span style=\"color: #008080; text-decoration-color: #008080; font-weight: bold\">0.0102</span>, <span style=\"color: #008080; text-decoration-color: #008080; font-weight: bold\">0.0103</span>, <span style=\"color: #008080; text-decoration-color: #008080; font-weight: bold\">0.0104</span>, <span style=\"color: #008080; text-decoration-color: #008080; font-weight: bold\">0.0104</span>, <span style=\"color: #008080; text-decoration-color: #008080; font-weight: bold\">0.0105</span>, <span style=\"color: #008080; text-decoration-color: #008080; font-weight: bold\">0.0106</span>,\n",
       "        <span style=\"color: #008080; text-decoration-color: #008080; font-weight: bold\">0.0106</span>, <span style=\"color: #008080; text-decoration-color: #008080; font-weight: bold\">0.0107</span>, <span style=\"color: #008080; text-decoration-color: #008080; font-weight: bold\">0.0108</span>, <span style=\"color: #008080; text-decoration-color: #008080; font-weight: bold\">0.0109</span>, <span style=\"color: #008080; text-decoration-color: #008080; font-weight: bold\">0.0109</span>, <span style=\"color: #008080; text-decoration-color: #008080; font-weight: bold\">0.0110</span>, <span style=\"color: #008080; text-decoration-color: #008080; font-weight: bold\">0.0111</span>, <span style=\"color: #008080; text-decoration-color: #008080; font-weight: bold\">0.0112</span>, <span style=\"color: #008080; text-decoration-color: #008080; font-weight: bold\">0.0112</span>,\n",
       "        <span style=\"color: #008080; text-decoration-color: #008080; font-weight: bold\">0.0113</span>, <span style=\"color: #008080; text-decoration-color: #008080; font-weight: bold\">0.0114</span>, <span style=\"color: #008080; text-decoration-color: #008080; font-weight: bold\">0.0115</span>, <span style=\"color: #008080; text-decoration-color: #008080; font-weight: bold\">0.0116</span>, <span style=\"color: #008080; text-decoration-color: #008080; font-weight: bold\">0.0116</span>, <span style=\"color: #008080; text-decoration-color: #008080; font-weight: bold\">0.0117</span>, <span style=\"color: #008080; text-decoration-color: #008080; font-weight: bold\">0.0118</span>, <span style=\"color: #008080; text-decoration-color: #008080; font-weight: bold\">0.0119</span>, <span style=\"color: #008080; text-decoration-color: #008080; font-weight: bold\">0.0120</span>,\n",
       "        <span style=\"color: #008080; text-decoration-color: #008080; font-weight: bold\">0.0121</span>, <span style=\"color: #008080; text-decoration-color: #008080; font-weight: bold\">0.0121</span>, <span style=\"color: #008080; text-decoration-color: #008080; font-weight: bold\">0.0122</span>, <span style=\"color: #008080; text-decoration-color: #008080; font-weight: bold\">0.0123</span>, <span style=\"color: #008080; text-decoration-color: #008080; font-weight: bold\">0.0124</span>, <span style=\"color: #008080; text-decoration-color: #008080; font-weight: bold\">0.0125</span>, <span style=\"color: #008080; text-decoration-color: #008080; font-weight: bold\">0.0126</span>, <span style=\"color: #008080; text-decoration-color: #008080; font-weight: bold\">0.0127</span>, <span style=\"color: #008080; text-decoration-color: #008080; font-weight: bold\">0.0127</span>,\n",
       "        <span style=\"color: #008080; text-decoration-color: #008080; font-weight: bold\">0.0128</span>, <span style=\"color: #008080; text-decoration-color: #008080; font-weight: bold\">0.0129</span>, <span style=\"color: #008080; text-decoration-color: #008080; font-weight: bold\">0.0130</span>, <span style=\"color: #008080; text-decoration-color: #008080; font-weight: bold\">0.0131</span>, <span style=\"color: #008080; text-decoration-color: #008080; font-weight: bold\">0.0132</span>, <span style=\"color: #008080; text-decoration-color: #008080; font-weight: bold\">0.0133</span>, <span style=\"color: #008080; text-decoration-color: #008080; font-weight: bold\">0.0134</span>, <span style=\"color: #008080; text-decoration-color: #008080; font-weight: bold\">0.0135</span>, <span style=\"color: #008080; text-decoration-color: #008080; font-weight: bold\">0.0136</span>,\n",
       "        <span style=\"color: #008080; text-decoration-color: #008080; font-weight: bold\">0.0137</span>, <span style=\"color: #008080; text-decoration-color: #008080; font-weight: bold\">0.0137</span>, <span style=\"color: #008080; text-decoration-color: #008080; font-weight: bold\">0.0138</span>, <span style=\"color: #008080; text-decoration-color: #008080; font-weight: bold\">0.0139</span>, <span style=\"color: #008080; text-decoration-color: #008080; font-weight: bold\">0.0140</span>, <span style=\"color: #008080; text-decoration-color: #008080; font-weight: bold\">0.0141</span>, <span style=\"color: #008080; text-decoration-color: #008080; font-weight: bold\">0.0142</span>, <span style=\"color: #008080; text-decoration-color: #008080; font-weight: bold\">0.0143</span>, <span style=\"color: #008080; text-decoration-color: #008080; font-weight: bold\">0.0144</span>,\n",
       "        <span style=\"color: #008080; text-decoration-color: #008080; font-weight: bold\">0.0145</span>, <span style=\"color: #008080; text-decoration-color: #008080; font-weight: bold\">0.0146</span>, <span style=\"color: #008080; text-decoration-color: #008080; font-weight: bold\">0.0147</span>, <span style=\"color: #008080; text-decoration-color: #008080; font-weight: bold\">0.0148</span>, <span style=\"color: #008080; text-decoration-color: #008080; font-weight: bold\">0.0149</span>, <span style=\"color: #008080; text-decoration-color: #008080; font-weight: bold\">0.0150</span>, <span style=\"color: #008080; text-decoration-color: #008080; font-weight: bold\">0.0151</span>, <span style=\"color: #008080; text-decoration-color: #008080; font-weight: bold\">0.0152</span>, <span style=\"color: #008080; text-decoration-color: #008080; font-weight: bold\">0.0154</span>,\n",
       "        <span style=\"color: #008080; text-decoration-color: #008080; font-weight: bold\">0.0155</span>, <span style=\"color: #008080; text-decoration-color: #008080; font-weight: bold\">0.0156</span>, <span style=\"color: #008080; text-decoration-color: #008080; font-weight: bold\">0.0157</span>, <span style=\"color: #008080; text-decoration-color: #008080; font-weight: bold\">0.0158</span>, <span style=\"color: #008080; text-decoration-color: #008080; font-weight: bold\">0.0159</span>, <span style=\"color: #008080; text-decoration-color: #008080; font-weight: bold\">0.0160</span>, <span style=\"color: #008080; text-decoration-color: #008080; font-weight: bold\">0.0161</span>, <span style=\"color: #008080; text-decoration-color: #008080; font-weight: bold\">0.0162</span>, <span style=\"color: #008080; text-decoration-color: #008080; font-weight: bold\">0.0163</span>,\n",
       "        <span style=\"color: #008080; text-decoration-color: #008080; font-weight: bold\">0.0165</span>, <span style=\"color: #008080; text-decoration-color: #008080; font-weight: bold\">0.0166</span>, <span style=\"color: #008080; text-decoration-color: #008080; font-weight: bold\">0.0167</span>, <span style=\"color: #008080; text-decoration-color: #008080; font-weight: bold\">0.0168</span>, <span style=\"color: #008080; text-decoration-color: #008080; font-weight: bold\">0.0169</span>, <span style=\"color: #008080; text-decoration-color: #008080; font-weight: bold\">0.0170</span>, <span style=\"color: #008080; text-decoration-color: #008080; font-weight: bold\">0.0171</span>, <span style=\"color: #008080; text-decoration-color: #008080; font-weight: bold\">0.0173</span>, <span style=\"color: #008080; text-decoration-color: #008080; font-weight: bold\">0.0174</span>,\n",
       "        <span style=\"color: #008080; text-decoration-color: #008080; font-weight: bold\">0.0175</span>, <span style=\"color: #008080; text-decoration-color: #008080; font-weight: bold\">0.0176</span>, <span style=\"color: #008080; text-decoration-color: #008080; font-weight: bold\">0.0178</span>, <span style=\"color: #008080; text-decoration-color: #008080; font-weight: bold\">0.0179</span>, <span style=\"color: #008080; text-decoration-color: #008080; font-weight: bold\">0.0180</span>, <span style=\"color: #008080; text-decoration-color: #008080; font-weight: bold\">0.0181</span>, <span style=\"color: #008080; text-decoration-color: #008080; font-weight: bold\">0.0182</span>, <span style=\"color: #008080; text-decoration-color: #008080; font-weight: bold\">0.0184</span>, <span style=\"color: #008080; text-decoration-color: #008080; font-weight: bold\">0.0185</span>,\n",
       "        <span style=\"color: #008080; text-decoration-color: #008080; font-weight: bold\">0.0186</span>, <span style=\"color: #008080; text-decoration-color: #008080; font-weight: bold\">0.0188</span>, <span style=\"color: #008080; text-decoration-color: #008080; font-weight: bold\">0.0189</span>, <span style=\"color: #008080; text-decoration-color: #008080; font-weight: bold\">0.0190</span>, <span style=\"color: #008080; text-decoration-color: #008080; font-weight: bold\">0.0192</span>, <span style=\"color: #008080; text-decoration-color: #008080; font-weight: bold\">0.0193</span>, <span style=\"color: #008080; text-decoration-color: #008080; font-weight: bold\">0.0194</span>, <span style=\"color: #008080; text-decoration-color: #008080; font-weight: bold\">0.0196</span>, <span style=\"color: #008080; text-decoration-color: #008080; font-weight: bold\">0.0197</span>,\n",
       "        <span style=\"color: #008080; text-decoration-color: #008080; font-weight: bold\">0.0198</span>, <span style=\"color: #008080; text-decoration-color: #008080; font-weight: bold\">0.0200</span>, <span style=\"color: #008080; text-decoration-color: #008080; font-weight: bold\">0.0201</span>, <span style=\"color: #008080; text-decoration-color: #008080; font-weight: bold\">0.0202</span>, <span style=\"color: #008080; text-decoration-color: #008080; font-weight: bold\">0.0204</span>, <span style=\"color: #008080; text-decoration-color: #008080; font-weight: bold\">0.0205</span>, <span style=\"color: #008080; text-decoration-color: #008080; font-weight: bold\">0.0207</span>, <span style=\"color: #008080; text-decoration-color: #008080; font-weight: bold\">0.0208</span>, <span style=\"color: #008080; text-decoration-color: #008080; font-weight: bold\">0.0210</span>,\n",
       "        <span style=\"color: #008080; text-decoration-color: #008080; font-weight: bold\">0.0211</span>, <span style=\"color: #008080; text-decoration-color: #008080; font-weight: bold\">0.0212</span>, <span style=\"color: #008080; text-decoration-color: #008080; font-weight: bold\">0.0214</span>, <span style=\"color: #008080; text-decoration-color: #008080; font-weight: bold\">0.0215</span>, <span style=\"color: #008080; text-decoration-color: #008080; font-weight: bold\">0.0217</span>, <span style=\"color: #008080; text-decoration-color: #008080; font-weight: bold\">0.0218</span>, <span style=\"color: #008080; text-decoration-color: #008080; font-weight: bold\">0.0220</span>, <span style=\"color: #008080; text-decoration-color: #008080; font-weight: bold\">0.0221</span>, <span style=\"color: #008080; text-decoration-color: #008080; font-weight: bold\">0.0223</span>,\n",
       "        <span style=\"color: #008080; text-decoration-color: #008080; font-weight: bold\">0.0225</span>, <span style=\"color: #008080; text-decoration-color: #008080; font-weight: bold\">0.0226</span>, <span style=\"color: #008080; text-decoration-color: #008080; font-weight: bold\">0.0228</span>, <span style=\"color: #008080; text-decoration-color: #008080; font-weight: bold\">0.0229</span>, <span style=\"color: #008080; text-decoration-color: #008080; font-weight: bold\">0.0231</span>, <span style=\"color: #008080; text-decoration-color: #008080; font-weight: bold\">0.0232</span>, <span style=\"color: #008080; text-decoration-color: #008080; font-weight: bold\">0.0234</span>, <span style=\"color: #008080; text-decoration-color: #008080; font-weight: bold\">0.0236</span>, <span style=\"color: #008080; text-decoration-color: #008080; font-weight: bold\">0.0237</span>,\n",
       "        <span style=\"color: #008080; text-decoration-color: #008080; font-weight: bold\">0.0239</span>, <span style=\"color: #008080; text-decoration-color: #008080; font-weight: bold\">0.0241</span>, <span style=\"color: #008080; text-decoration-color: #008080; font-weight: bold\">0.0242</span>, <span style=\"color: #008080; text-decoration-color: #008080; font-weight: bold\">0.0244</span>, <span style=\"color: #008080; text-decoration-color: #008080; font-weight: bold\">0.0246</span>, <span style=\"color: #008080; text-decoration-color: #008080; font-weight: bold\">0.0247</span>, <span style=\"color: #008080; text-decoration-color: #008080; font-weight: bold\">0.0249</span>, <span style=\"color: #008080; text-decoration-color: #008080; font-weight: bold\">0.0251</span>, <span style=\"color: #008080; text-decoration-color: #008080; font-weight: bold\">0.0253</span>,\n",
       "        <span style=\"color: #008080; text-decoration-color: #008080; font-weight: bold\">0.0254</span>, <span style=\"color: #008080; text-decoration-color: #008080; font-weight: bold\">0.0256</span>, <span style=\"color: #008080; text-decoration-color: #008080; font-weight: bold\">0.0258</span>, <span style=\"color: #008080; text-decoration-color: #008080; font-weight: bold\">0.0260</span>, <span style=\"color: #008080; text-decoration-color: #008080; font-weight: bold\">0.0261</span>, <span style=\"color: #008080; text-decoration-color: #008080; font-weight: bold\">0.0263</span>, <span style=\"color: #008080; text-decoration-color: #008080; font-weight: bold\">0.0265</span>, <span style=\"color: #008080; text-decoration-color: #008080; font-weight: bold\">0.0267</span>, <span style=\"color: #008080; text-decoration-color: #008080; font-weight: bold\">0.0269</span>,\n",
       "        <span style=\"color: #008080; text-decoration-color: #008080; font-weight: bold\">0.0271</span>, <span style=\"color: #008080; text-decoration-color: #008080; font-weight: bold\">0.0273</span>, <span style=\"color: #008080; text-decoration-color: #008080; font-weight: bold\">0.0274</span>, <span style=\"color: #008080; text-decoration-color: #008080; font-weight: bold\">0.0276</span>, <span style=\"color: #008080; text-decoration-color: #008080; font-weight: bold\">0.0278</span>, <span style=\"color: #008080; text-decoration-color: #008080; font-weight: bold\">0.0280</span>, <span style=\"color: #008080; text-decoration-color: #008080; font-weight: bold\">0.0282</span>, <span style=\"color: #008080; text-decoration-color: #008080; font-weight: bold\">0.0284</span>, <span style=\"color: #008080; text-decoration-color: #008080; font-weight: bold\">0.0286</span>,\n",
       "        <span style=\"color: #008080; text-decoration-color: #008080; font-weight: bold\">0.0288</span>, <span style=\"color: #008080; text-decoration-color: #008080; font-weight: bold\">0.0290</span>, <span style=\"color: #008080; text-decoration-color: #008080; font-weight: bold\">0.0292</span>, <span style=\"color: #008080; text-decoration-color: #008080; font-weight: bold\">0.0294</span>, <span style=\"color: #008080; text-decoration-color: #008080; font-weight: bold\">0.0296</span>, <span style=\"color: #008080; text-decoration-color: #008080; font-weight: bold\">0.0298</span>, <span style=\"color: #008080; text-decoration-color: #008080; font-weight: bold\">0.0300</span>, <span style=\"color: #008080; text-decoration-color: #008080; font-weight: bold\">0.0302</span>, <span style=\"color: #008080; text-decoration-color: #008080; font-weight: bold\">0.0304</span>,\n",
       "        <span style=\"color: #008080; text-decoration-color: #008080; font-weight: bold\">0.0307</span>, <span style=\"color: #008080; text-decoration-color: #008080; font-weight: bold\">0.0309</span>, <span style=\"color: #008080; text-decoration-color: #008080; font-weight: bold\">0.0311</span>, <span style=\"color: #008080; text-decoration-color: #008080; font-weight: bold\">0.0313</span>, <span style=\"color: #008080; text-decoration-color: #008080; font-weight: bold\">0.0315</span>, <span style=\"color: #008080; text-decoration-color: #008080; font-weight: bold\">0.0317</span>, <span style=\"color: #008080; text-decoration-color: #008080; font-weight: bold\">0.0320</span>, <span style=\"color: #008080; text-decoration-color: #008080; font-weight: bold\">0.0322</span>, <span style=\"color: #008080; text-decoration-color: #008080; font-weight: bold\">0.0324</span>,\n",
       "        <span style=\"color: #008080; text-decoration-color: #008080; font-weight: bold\">0.0326</span>, <span style=\"color: #008080; text-decoration-color: #008080; font-weight: bold\">0.0328</span>, <span style=\"color: #008080; text-decoration-color: #008080; font-weight: bold\">0.0331</span>, <span style=\"color: #008080; text-decoration-color: #008080; font-weight: bold\">0.0333</span>, <span style=\"color: #008080; text-decoration-color: #008080; font-weight: bold\">0.0335</span>, <span style=\"color: #008080; text-decoration-color: #008080; font-weight: bold\">0.0338</span>, <span style=\"color: #008080; text-decoration-color: #008080; font-weight: bold\">0.0340</span>, <span style=\"color: #008080; text-decoration-color: #008080; font-weight: bold\">0.0342</span>, <span style=\"color: #008080; text-decoration-color: #008080; font-weight: bold\">0.0345</span>,\n",
       "        <span style=\"color: #008080; text-decoration-color: #008080; font-weight: bold\">0.0347</span>, <span style=\"color: #008080; text-decoration-color: #008080; font-weight: bold\">0.0350</span>, <span style=\"color: #008080; text-decoration-color: #008080; font-weight: bold\">0.0352</span>, <span style=\"color: #008080; text-decoration-color: #008080; font-weight: bold\">0.0354</span>, <span style=\"color: #008080; text-decoration-color: #008080; font-weight: bold\">0.0357</span>, <span style=\"color: #008080; text-decoration-color: #008080; font-weight: bold\">0.0359</span>, <span style=\"color: #008080; text-decoration-color: #008080; font-weight: bold\">0.0362</span>, <span style=\"color: #008080; text-decoration-color: #008080; font-weight: bold\">0.0364</span>, <span style=\"color: #008080; text-decoration-color: #008080; font-weight: bold\">0.0367</span>,\n",
       "        <span style=\"color: #008080; text-decoration-color: #008080; font-weight: bold\">0.0369</span>, <span style=\"color: #008080; text-decoration-color: #008080; font-weight: bold\">0.0372</span>, <span style=\"color: #008080; text-decoration-color: #008080; font-weight: bold\">0.0375</span>, <span style=\"color: #008080; text-decoration-color: #008080; font-weight: bold\">0.0377</span>, <span style=\"color: #008080; text-decoration-color: #008080; font-weight: bold\">0.0380</span>, <span style=\"color: #008080; text-decoration-color: #008080; font-weight: bold\">0.0382</span>, <span style=\"color: #008080; text-decoration-color: #008080; font-weight: bold\">0.0385</span>, <span style=\"color: #008080; text-decoration-color: #008080; font-weight: bold\">0.0388</span>, <span style=\"color: #008080; text-decoration-color: #008080; font-weight: bold\">0.0390</span>,\n",
       "        <span style=\"color: #008080; text-decoration-color: #008080; font-weight: bold\">0.0393</span>, <span style=\"color: #008080; text-decoration-color: #008080; font-weight: bold\">0.0396</span>, <span style=\"color: #008080; text-decoration-color: #008080; font-weight: bold\">0.0399</span>, <span style=\"color: #008080; text-decoration-color: #008080; font-weight: bold\">0.0401</span>, <span style=\"color: #008080; text-decoration-color: #008080; font-weight: bold\">0.0404</span>, <span style=\"color: #008080; text-decoration-color: #008080; font-weight: bold\">0.0407</span>, <span style=\"color: #008080; text-decoration-color: #008080; font-weight: bold\">0.0410</span>, <span style=\"color: #008080; text-decoration-color: #008080; font-weight: bold\">0.0413</span>, <span style=\"color: #008080; text-decoration-color: #008080; font-weight: bold\">0.0416</span>,\n",
       "        <span style=\"color: #008080; text-decoration-color: #008080; font-weight: bold\">0.0418</span>, <span style=\"color: #008080; text-decoration-color: #008080; font-weight: bold\">0.0421</span>, <span style=\"color: #008080; text-decoration-color: #008080; font-weight: bold\">0.0424</span>, <span style=\"color: #008080; text-decoration-color: #008080; font-weight: bold\">0.0427</span>, <span style=\"color: #008080; text-decoration-color: #008080; font-weight: bold\">0.0430</span>, <span style=\"color: #008080; text-decoration-color: #008080; font-weight: bold\">0.0433</span>, <span style=\"color: #008080; text-decoration-color: #008080; font-weight: bold\">0.0436</span>, <span style=\"color: #008080; text-decoration-color: #008080; font-weight: bold\">0.0439</span>, <span style=\"color: #008080; text-decoration-color: #008080; font-weight: bold\">0.0442</span>,\n",
       "        <span style=\"color: #008080; text-decoration-color: #008080; font-weight: bold\">0.0445</span>, <span style=\"color: #008080; text-decoration-color: #008080; font-weight: bold\">0.0448</span>, <span style=\"color: #008080; text-decoration-color: #008080; font-weight: bold\">0.0451</span>, <span style=\"color: #008080; text-decoration-color: #008080; font-weight: bold\">0.0455</span>, <span style=\"color: #008080; text-decoration-color: #008080; font-weight: bold\">0.0458</span>, <span style=\"color: #008080; text-decoration-color: #008080; font-weight: bold\">0.0461</span>, <span style=\"color: #008080; text-decoration-color: #008080; font-weight: bold\">0.0464</span>, <span style=\"color: #008080; text-decoration-color: #008080; font-weight: bold\">0.0467</span>, <span style=\"color: #008080; text-decoration-color: #008080; font-weight: bold\">0.0471</span>,\n",
       "        <span style=\"color: #008080; text-decoration-color: #008080; font-weight: bold\">0.0474</span>, <span style=\"color: #008080; text-decoration-color: #008080; font-weight: bold\">0.0477</span>, <span style=\"color: #008080; text-decoration-color: #008080; font-weight: bold\">0.0480</span>, <span style=\"color: #008080; text-decoration-color: #008080; font-weight: bold\">0.0484</span>, <span style=\"color: #008080; text-decoration-color: #008080; font-weight: bold\">0.0487</span>, <span style=\"color: #008080; text-decoration-color: #008080; font-weight: bold\">0.0491</span>, <span style=\"color: #008080; text-decoration-color: #008080; font-weight: bold\">0.0494</span>, <span style=\"color: #008080; text-decoration-color: #008080; font-weight: bold\">0.0497</span>, <span style=\"color: #008080; text-decoration-color: #008080; font-weight: bold\">0.0501</span>,\n",
       "        <span style=\"color: #008080; text-decoration-color: #008080; font-weight: bold\">0.0504</span>, <span style=\"color: #008080; text-decoration-color: #008080; font-weight: bold\">0.0508</span>, <span style=\"color: #008080; text-decoration-color: #008080; font-weight: bold\">0.0511</span>, <span style=\"color: #008080; text-decoration-color: #008080; font-weight: bold\">0.0515</span>, <span style=\"color: #008080; text-decoration-color: #008080; font-weight: bold\">0.0518</span>, <span style=\"color: #008080; text-decoration-color: #008080; font-weight: bold\">0.0522</span>, <span style=\"color: #008080; text-decoration-color: #008080; font-weight: bold\">0.0526</span>, <span style=\"color: #008080; text-decoration-color: #008080; font-weight: bold\">0.0529</span>, <span style=\"color: #008080; text-decoration-color: #008080; font-weight: bold\">0.0533</span>,\n",
       "        <span style=\"color: #008080; text-decoration-color: #008080; font-weight: bold\">0.0537</span>, <span style=\"color: #008080; text-decoration-color: #008080; font-weight: bold\">0.0540</span>, <span style=\"color: #008080; text-decoration-color: #008080; font-weight: bold\">0.0544</span>, <span style=\"color: #008080; text-decoration-color: #008080; font-weight: bold\">0.0548</span>, <span style=\"color: #008080; text-decoration-color: #008080; font-weight: bold\">0.0552</span>, <span style=\"color: #008080; text-decoration-color: #008080; font-weight: bold\">0.0556</span>, <span style=\"color: #008080; text-decoration-color: #008080; font-weight: bold\">0.0559</span>, <span style=\"color: #008080; text-decoration-color: #008080; font-weight: bold\">0.0563</span>, <span style=\"color: #008080; text-decoration-color: #008080; font-weight: bold\">0.0567</span>,\n",
       "        <span style=\"color: #008080; text-decoration-color: #008080; font-weight: bold\">0.0571</span>, <span style=\"color: #008080; text-decoration-color: #008080; font-weight: bold\">0.0575</span>, <span style=\"color: #008080; text-decoration-color: #008080; font-weight: bold\">0.0579</span>, <span style=\"color: #008080; text-decoration-color: #008080; font-weight: bold\">0.0583</span>, <span style=\"color: #008080; text-decoration-color: #008080; font-weight: bold\">0.0587</span>, <span style=\"color: #008080; text-decoration-color: #008080; font-weight: bold\">0.0591</span>, <span style=\"color: #008080; text-decoration-color: #008080; font-weight: bold\">0.0595</span>, <span style=\"color: #008080; text-decoration-color: #008080; font-weight: bold\">0.0599</span>, <span style=\"color: #008080; text-decoration-color: #008080; font-weight: bold\">0.0604</span>,\n",
       "        <span style=\"color: #008080; text-decoration-color: #008080; font-weight: bold\">0.0608</span>, <span style=\"color: #008080; text-decoration-color: #008080; font-weight: bold\">0.0612</span>, <span style=\"color: #008080; text-decoration-color: #008080; font-weight: bold\">0.0616</span>, <span style=\"color: #008080; text-decoration-color: #008080; font-weight: bold\">0.0621</span>, <span style=\"color: #008080; text-decoration-color: #008080; font-weight: bold\">0.0625</span>, <span style=\"color: #008080; text-decoration-color: #008080; font-weight: bold\">0.0629</span>, <span style=\"color: #008080; text-decoration-color: #008080; font-weight: bold\">0.0634</span>, <span style=\"color: #008080; text-decoration-color: #008080; font-weight: bold\">0.0638</span>, <span style=\"color: #008080; text-decoration-color: #008080; font-weight: bold\">0.0642</span>,\n",
       "        <span style=\"color: #008080; text-decoration-color: #008080; font-weight: bold\">0.0647</span>, <span style=\"color: #008080; text-decoration-color: #008080; font-weight: bold\">0.0651</span>, <span style=\"color: #008080; text-decoration-color: #008080; font-weight: bold\">0.0656</span>, <span style=\"color: #008080; text-decoration-color: #008080; font-weight: bold\">0.0660</span>, <span style=\"color: #008080; text-decoration-color: #008080; font-weight: bold\">0.0665</span>, <span style=\"color: #008080; text-decoration-color: #008080; font-weight: bold\">0.0670</span>, <span style=\"color: #008080; text-decoration-color: #008080; font-weight: bold\">0.0674</span>, <span style=\"color: #008080; text-decoration-color: #008080; font-weight: bold\">0.0679</span>, <span style=\"color: #008080; text-decoration-color: #008080; font-weight: bold\">0.0684</span>,\n",
       "        <span style=\"color: #008080; text-decoration-color: #008080; font-weight: bold\">0.0688</span>, <span style=\"color: #008080; text-decoration-color: #008080; font-weight: bold\">0.0693</span>, <span style=\"color: #008080; text-decoration-color: #008080; font-weight: bold\">0.0698</span>, <span style=\"color: #008080; text-decoration-color: #008080; font-weight: bold\">0.0703</span>, <span style=\"color: #008080; text-decoration-color: #008080; font-weight: bold\">0.0708</span>, <span style=\"color: #008080; text-decoration-color: #008080; font-weight: bold\">0.0713</span>, <span style=\"color: #008080; text-decoration-color: #008080; font-weight: bold\">0.0718</span>, <span style=\"color: #008080; text-decoration-color: #008080; font-weight: bold\">0.0723</span>, <span style=\"color: #008080; text-decoration-color: #008080; font-weight: bold\">0.0728</span>,\n",
       "        <span style=\"color: #008080; text-decoration-color: #008080; font-weight: bold\">0.0733</span>, <span style=\"color: #008080; text-decoration-color: #008080; font-weight: bold\">0.0738</span>, <span style=\"color: #008080; text-decoration-color: #008080; font-weight: bold\">0.0743</span>, <span style=\"color: #008080; text-decoration-color: #008080; font-weight: bold\">0.0748</span>, <span style=\"color: #008080; text-decoration-color: #008080; font-weight: bold\">0.0753</span>, <span style=\"color: #008080; text-decoration-color: #008080; font-weight: bold\">0.0758</span>, <span style=\"color: #008080; text-decoration-color: #008080; font-weight: bold\">0.0764</span>, <span style=\"color: #008080; text-decoration-color: #008080; font-weight: bold\">0.0769</span>, <span style=\"color: #008080; text-decoration-color: #008080; font-weight: bold\">0.0774</span>,\n",
       "        <span style=\"color: #008080; text-decoration-color: #008080; font-weight: bold\">0.0780</span>, <span style=\"color: #008080; text-decoration-color: #008080; font-weight: bold\">0.0785</span>, <span style=\"color: #008080; text-decoration-color: #008080; font-weight: bold\">0.0790</span>, <span style=\"color: #008080; text-decoration-color: #008080; font-weight: bold\">0.0796</span>, <span style=\"color: #008080; text-decoration-color: #008080; font-weight: bold\">0.0802</span>, <span style=\"color: #008080; text-decoration-color: #008080; font-weight: bold\">0.0807</span>, <span style=\"color: #008080; text-decoration-color: #008080; font-weight: bold\">0.0813</span>, <span style=\"color: #008080; text-decoration-color: #008080; font-weight: bold\">0.0818</span>, <span style=\"color: #008080; text-decoration-color: #008080; font-weight: bold\">0.0824</span>,\n",
       "        <span style=\"color: #008080; text-decoration-color: #008080; font-weight: bold\">0.0830</span>, <span style=\"color: #008080; text-decoration-color: #008080; font-weight: bold\">0.0835</span>, <span style=\"color: #008080; text-decoration-color: #008080; font-weight: bold\">0.0841</span>, <span style=\"color: #008080; text-decoration-color: #008080; font-weight: bold\">0.0847</span>, <span style=\"color: #008080; text-decoration-color: #008080; font-weight: bold\">0.0853</span>, <span style=\"color: #008080; text-decoration-color: #008080; font-weight: bold\">0.0859</span>, <span style=\"color: #008080; text-decoration-color: #008080; font-weight: bold\">0.0865</span>, <span style=\"color: #008080; text-decoration-color: #008080; font-weight: bold\">0.0871</span>, <span style=\"color: #008080; text-decoration-color: #008080; font-weight: bold\">0.0877</span>,\n",
       "        <span style=\"color: #008080; text-decoration-color: #008080; font-weight: bold\">0.0883</span>, <span style=\"color: #008080; text-decoration-color: #008080; font-weight: bold\">0.0889</span>, <span style=\"color: #008080; text-decoration-color: #008080; font-weight: bold\">0.0895</span>, <span style=\"color: #008080; text-decoration-color: #008080; font-weight: bold\">0.0901</span>, <span style=\"color: #008080; text-decoration-color: #008080; font-weight: bold\">0.0908</span>, <span style=\"color: #008080; text-decoration-color: #008080; font-weight: bold\">0.0914</span>, <span style=\"color: #008080; text-decoration-color: #008080; font-weight: bold\">0.0920</span>, <span style=\"color: #008080; text-decoration-color: #008080; font-weight: bold\">0.0927</span>, <span style=\"color: #008080; text-decoration-color: #008080; font-weight: bold\">0.0933</span>,\n",
       "        <span style=\"color: #008080; text-decoration-color: #008080; font-weight: bold\">0.0940</span>, <span style=\"color: #008080; text-decoration-color: #008080; font-weight: bold\">0.0946</span>, <span style=\"color: #008080; text-decoration-color: #008080; font-weight: bold\">0.0953</span>, <span style=\"color: #008080; text-decoration-color: #008080; font-weight: bold\">0.0959</span>, <span style=\"color: #008080; text-decoration-color: #008080; font-weight: bold\">0.0966</span>, <span style=\"color: #008080; text-decoration-color: #008080; font-weight: bold\">0.0973</span>, <span style=\"color: #008080; text-decoration-color: #008080; font-weight: bold\">0.0979</span>, <span style=\"color: #008080; text-decoration-color: #008080; font-weight: bold\">0.0986</span>, <span style=\"color: #008080; text-decoration-color: #008080; font-weight: bold\">0.0993</span>,\n",
       "        <span style=\"color: #008080; text-decoration-color: #008080; font-weight: bold\">0.1000</span>, <span style=\"color: #008080; text-decoration-color: #008080; font-weight: bold\">0.1007</span>, <span style=\"color: #008080; text-decoration-color: #008080; font-weight: bold\">0.1014</span>, <span style=\"color: #008080; text-decoration-color: #008080; font-weight: bold\">0.1021</span>, <span style=\"color: #008080; text-decoration-color: #008080; font-weight: bold\">0.1028</span>, <span style=\"color: #008080; text-decoration-color: #008080; font-weight: bold\">0.1035</span>, <span style=\"color: #008080; text-decoration-color: #008080; font-weight: bold\">0.1042</span>, <span style=\"color: #008080; text-decoration-color: #008080; font-weight: bold\">0.1050</span>, <span style=\"color: #008080; text-decoration-color: #008080; font-weight: bold\">0.1057</span>,\n",
       "        <span style=\"color: #008080; text-decoration-color: #008080; font-weight: bold\">0.1064</span>, <span style=\"color: #008080; text-decoration-color: #008080; font-weight: bold\">0.1072</span>, <span style=\"color: #008080; text-decoration-color: #008080; font-weight: bold\">0.1079</span>, <span style=\"color: #008080; text-decoration-color: #008080; font-weight: bold\">0.1087</span>, <span style=\"color: #008080; text-decoration-color: #008080; font-weight: bold\">0.1094</span>, <span style=\"color: #008080; text-decoration-color: #008080; font-weight: bold\">0.1102</span>, <span style=\"color: #008080; text-decoration-color: #008080; font-weight: bold\">0.1109</span>, <span style=\"color: #008080; text-decoration-color: #008080; font-weight: bold\">0.1117</span>, <span style=\"color: #008080; text-decoration-color: #008080; font-weight: bold\">0.1125</span>,\n",
       "        <span style=\"color: #008080; text-decoration-color: #008080; font-weight: bold\">0.1133</span>, <span style=\"color: #008080; text-decoration-color: #008080; font-weight: bold\">0.1140</span>, <span style=\"color: #008080; text-decoration-color: #008080; font-weight: bold\">0.1148</span>, <span style=\"color: #008080; text-decoration-color: #008080; font-weight: bold\">0.1156</span>, <span style=\"color: #008080; text-decoration-color: #008080; font-weight: bold\">0.1164</span>, <span style=\"color: #008080; text-decoration-color: #008080; font-weight: bold\">0.1172</span>, <span style=\"color: #008080; text-decoration-color: #008080; font-weight: bold\">0.1181</span>, <span style=\"color: #008080; text-decoration-color: #008080; font-weight: bold\">0.1189</span>, <span style=\"color: #008080; text-decoration-color: #008080; font-weight: bold\">0.1197</span>,\n",
       "        <span style=\"color: #008080; text-decoration-color: #008080; font-weight: bold\">0.1205</span>, <span style=\"color: #008080; text-decoration-color: #008080; font-weight: bold\">0.1214</span>, <span style=\"color: #008080; text-decoration-color: #008080; font-weight: bold\">0.1222</span>, <span style=\"color: #008080; text-decoration-color: #008080; font-weight: bold\">0.1231</span>, <span style=\"color: #008080; text-decoration-color: #008080; font-weight: bold\">0.1239</span>, <span style=\"color: #008080; text-decoration-color: #008080; font-weight: bold\">0.1248</span>, <span style=\"color: #008080; text-decoration-color: #008080; font-weight: bold\">0.1256</span>, <span style=\"color: #008080; text-decoration-color: #008080; font-weight: bold\">0.1265</span>, <span style=\"color: #008080; text-decoration-color: #008080; font-weight: bold\">0.1274</span>,\n",
       "        <span style=\"color: #008080; text-decoration-color: #008080; font-weight: bold\">0.1283</span>, <span style=\"color: #008080; text-decoration-color: #008080; font-weight: bold\">0.1292</span>, <span style=\"color: #008080; text-decoration-color: #008080; font-weight: bold\">0.1301</span>, <span style=\"color: #008080; text-decoration-color: #008080; font-weight: bold\">0.1310</span>, <span style=\"color: #008080; text-decoration-color: #008080; font-weight: bold\">0.1319</span>, <span style=\"color: #008080; text-decoration-color: #008080; font-weight: bold\">0.1328</span>, <span style=\"color: #008080; text-decoration-color: #008080; font-weight: bold\">0.1337</span>, <span style=\"color: #008080; text-decoration-color: #008080; font-weight: bold\">0.1346</span>, <span style=\"color: #008080; text-decoration-color: #008080; font-weight: bold\">0.1356</span>,\n",
       "        <span style=\"color: #008080; text-decoration-color: #008080; font-weight: bold\">0.1365</span>, <span style=\"color: #008080; text-decoration-color: #008080; font-weight: bold\">0.1374</span>, <span style=\"color: #008080; text-decoration-color: #008080; font-weight: bold\">0.1384</span>, <span style=\"color: #008080; text-decoration-color: #008080; font-weight: bold\">0.1394</span>, <span style=\"color: #008080; text-decoration-color: #008080; font-weight: bold\">0.1403</span>, <span style=\"color: #008080; text-decoration-color: #008080; font-weight: bold\">0.1413</span>, <span style=\"color: #008080; text-decoration-color: #008080; font-weight: bold\">0.1423</span>, <span style=\"color: #008080; text-decoration-color: #008080; font-weight: bold\">0.1433</span>, <span style=\"color: #008080; text-decoration-color: #008080; font-weight: bold\">0.1443</span>,\n",
       "        <span style=\"color: #008080; text-decoration-color: #008080; font-weight: bold\">0.1453</span>, <span style=\"color: #008080; text-decoration-color: #008080; font-weight: bold\">0.1463</span>, <span style=\"color: #008080; text-decoration-color: #008080; font-weight: bold\">0.1473</span>, <span style=\"color: #008080; text-decoration-color: #008080; font-weight: bold\">0.1483</span>, <span style=\"color: #008080; text-decoration-color: #008080; font-weight: bold\">0.1493</span>, <span style=\"color: #008080; text-decoration-color: #008080; font-weight: bold\">0.1504</span>, <span style=\"color: #008080; text-decoration-color: #008080; font-weight: bold\">0.1514</span>, <span style=\"color: #008080; text-decoration-color: #008080; font-weight: bold\">0.1525</span>, <span style=\"color: #008080; text-decoration-color: #008080; font-weight: bold\">0.1535</span>,\n",
       "        <span style=\"color: #008080; text-decoration-color: #008080; font-weight: bold\">0.1546</span>, <span style=\"color: #008080; text-decoration-color: #008080; font-weight: bold\">0.1557</span>, <span style=\"color: #008080; text-decoration-color: #008080; font-weight: bold\">0.1567</span>, <span style=\"color: #008080; text-decoration-color: #008080; font-weight: bold\">0.1578</span>, <span style=\"color: #008080; text-decoration-color: #008080; font-weight: bold\">0.1589</span>, <span style=\"color: #008080; text-decoration-color: #008080; font-weight: bold\">0.1600</span>, <span style=\"color: #008080; text-decoration-color: #008080; font-weight: bold\">0.1611</span>, <span style=\"color: #008080; text-decoration-color: #008080; font-weight: bold\">0.1623</span>, <span style=\"color: #008080; text-decoration-color: #008080; font-weight: bold\">0.1634</span>,\n",
       "        <span style=\"color: #008080; text-decoration-color: #008080; font-weight: bold\">0.1645</span>, <span style=\"color: #008080; text-decoration-color: #008080; font-weight: bold\">0.1657</span>, <span style=\"color: #008080; text-decoration-color: #008080; font-weight: bold\">0.1668</span>, <span style=\"color: #008080; text-decoration-color: #008080; font-weight: bold\">0.1680</span>, <span style=\"color: #008080; text-decoration-color: #008080; font-weight: bold\">0.1691</span>, <span style=\"color: #008080; text-decoration-color: #008080; font-weight: bold\">0.1703</span>, <span style=\"color: #008080; text-decoration-color: #008080; font-weight: bold\">0.1715</span>, <span style=\"color: #008080; text-decoration-color: #008080; font-weight: bold\">0.1727</span>, <span style=\"color: #008080; text-decoration-color: #008080; font-weight: bold\">0.1739</span>,\n",
       "        <span style=\"color: #008080; text-decoration-color: #008080; font-weight: bold\">0.1751</span>, <span style=\"color: #008080; text-decoration-color: #008080; font-weight: bold\">0.1763</span>, <span style=\"color: #008080; text-decoration-color: #008080; font-weight: bold\">0.1775</span>, <span style=\"color: #008080; text-decoration-color: #008080; font-weight: bold\">0.1788</span>, <span style=\"color: #008080; text-decoration-color: #008080; font-weight: bold\">0.1800</span>, <span style=\"color: #008080; text-decoration-color: #008080; font-weight: bold\">0.1812</span>, <span style=\"color: #008080; text-decoration-color: #008080; font-weight: bold\">0.1825</span>, <span style=\"color: #008080; text-decoration-color: #008080; font-weight: bold\">0.1838</span>, <span style=\"color: #008080; text-decoration-color: #008080; font-weight: bold\">0.1850</span>,\n",
       "        <span style=\"color: #008080; text-decoration-color: #008080; font-weight: bold\">0.1863</span>, <span style=\"color: #008080; text-decoration-color: #008080; font-weight: bold\">0.1876</span>, <span style=\"color: #008080; text-decoration-color: #008080; font-weight: bold\">0.1889</span>, <span style=\"color: #008080; text-decoration-color: #008080; font-weight: bold\">0.1902</span>, <span style=\"color: #008080; text-decoration-color: #008080; font-weight: bold\">0.1916</span>, <span style=\"color: #008080; text-decoration-color: #008080; font-weight: bold\">0.1929</span>, <span style=\"color: #008080; text-decoration-color: #008080; font-weight: bold\">0.1942</span>, <span style=\"color: #008080; text-decoration-color: #008080; font-weight: bold\">0.1956</span>, <span style=\"color: #008080; text-decoration-color: #008080; font-weight: bold\">0.1969</span>,\n",
       "        <span style=\"color: #008080; text-decoration-color: #008080; font-weight: bold\">0.1983</span>, <span style=\"color: #008080; text-decoration-color: #008080; font-weight: bold\">0.1997</span>, <span style=\"color: #008080; text-decoration-color: #008080; font-weight: bold\">0.2010</span>, <span style=\"color: #008080; text-decoration-color: #008080; font-weight: bold\">0.2024</span>, <span style=\"color: #008080; text-decoration-color: #008080; font-weight: bold\">0.2038</span>, <span style=\"color: #008080; text-decoration-color: #008080; font-weight: bold\">0.2053</span>, <span style=\"color: #008080; text-decoration-color: #008080; font-weight: bold\">0.2067</span>, <span style=\"color: #008080; text-decoration-color: #008080; font-weight: bold\">0.2081</span>, <span style=\"color: #008080; text-decoration-color: #008080; font-weight: bold\">0.2096</span>,\n",
       "        <span style=\"color: #008080; text-decoration-color: #008080; font-weight: bold\">0.2110</span>, <span style=\"color: #008080; text-decoration-color: #008080; font-weight: bold\">0.2125</span>, <span style=\"color: #008080; text-decoration-color: #008080; font-weight: bold\">0.2140</span>, <span style=\"color: #008080; text-decoration-color: #008080; font-weight: bold\">0.2154</span>, <span style=\"color: #008080; text-decoration-color: #008080; font-weight: bold\">0.2169</span>, <span style=\"color: #008080; text-decoration-color: #008080; font-weight: bold\">0.2184</span>, <span style=\"color: #008080; text-decoration-color: #008080; font-weight: bold\">0.2200</span>, <span style=\"color: #008080; text-decoration-color: #008080; font-weight: bold\">0.2215</span>, <span style=\"color: #008080; text-decoration-color: #008080; font-weight: bold\">0.2230</span>,\n",
       "        <span style=\"color: #008080; text-decoration-color: #008080; font-weight: bold\">0.2246</span>, <span style=\"color: #008080; text-decoration-color: #008080; font-weight: bold\">0.2261</span>, <span style=\"color: #008080; text-decoration-color: #008080; font-weight: bold\">0.2277</span>, <span style=\"color: #008080; text-decoration-color: #008080; font-weight: bold\">0.2293</span>, <span style=\"color: #008080; text-decoration-color: #008080; font-weight: bold\">0.2309</span>, <span style=\"color: #008080; text-decoration-color: #008080; font-weight: bold\">0.2325</span>, <span style=\"color: #008080; text-decoration-color: #008080; font-weight: bold\">0.2341</span>, <span style=\"color: #008080; text-decoration-color: #008080; font-weight: bold\">0.2357</span>, <span style=\"color: #008080; text-decoration-color: #008080; font-weight: bold\">0.2373</span>,\n",
       "        <span style=\"color: #008080; text-decoration-color: #008080; font-weight: bold\">0.2390</span>, <span style=\"color: #008080; text-decoration-color: #008080; font-weight: bold\">0.2406</span>, <span style=\"color: #008080; text-decoration-color: #008080; font-weight: bold\">0.2423</span>, <span style=\"color: #008080; text-decoration-color: #008080; font-weight: bold\">0.2440</span>, <span style=\"color: #008080; text-decoration-color: #008080; font-weight: bold\">0.2457</span>, <span style=\"color: #008080; text-decoration-color: #008080; font-weight: bold\">0.2474</span>, <span style=\"color: #008080; text-decoration-color: #008080; font-weight: bold\">0.2491</span>, <span style=\"color: #008080; text-decoration-color: #008080; font-weight: bold\">0.2508</span>, <span style=\"color: #008080; text-decoration-color: #008080; font-weight: bold\">0.2526</span>,\n",
       "        <span style=\"color: #008080; text-decoration-color: #008080; font-weight: bold\">0.2543</span>, <span style=\"color: #008080; text-decoration-color: #008080; font-weight: bold\">0.2561</span>, <span style=\"color: #008080; text-decoration-color: #008080; font-weight: bold\">0.2579</span>, <span style=\"color: #008080; text-decoration-color: #008080; font-weight: bold\">0.2597</span>, <span style=\"color: #008080; text-decoration-color: #008080; font-weight: bold\">0.2615</span>, <span style=\"color: #008080; text-decoration-color: #008080; font-weight: bold\">0.2633</span>, <span style=\"color: #008080; text-decoration-color: #008080; font-weight: bold\">0.2651</span>, <span style=\"color: #008080; text-decoration-color: #008080; font-weight: bold\">0.2669</span>, <span style=\"color: #008080; text-decoration-color: #008080; font-weight: bold\">0.2688</span>,\n",
       "        <span style=\"color: #008080; text-decoration-color: #008080; font-weight: bold\">0.2707</span>, <span style=\"color: #008080; text-decoration-color: #008080; font-weight: bold\">0.2725</span>, <span style=\"color: #008080; text-decoration-color: #008080; font-weight: bold\">0.2744</span>, <span style=\"color: #008080; text-decoration-color: #008080; font-weight: bold\">0.2763</span>, <span style=\"color: #008080; text-decoration-color: #008080; font-weight: bold\">0.2783</span>, <span style=\"color: #008080; text-decoration-color: #008080; font-weight: bold\">0.2802</span>, <span style=\"color: #008080; text-decoration-color: #008080; font-weight: bold\">0.2821</span>, <span style=\"color: #008080; text-decoration-color: #008080; font-weight: bold\">0.2841</span>, <span style=\"color: #008080; text-decoration-color: #008080; font-weight: bold\">0.2861</span>,\n",
       "        <span style=\"color: #008080; text-decoration-color: #008080; font-weight: bold\">0.2880</span>, <span style=\"color: #008080; text-decoration-color: #008080; font-weight: bold\">0.2900</span>, <span style=\"color: #008080; text-decoration-color: #008080; font-weight: bold\">0.2921</span>, <span style=\"color: #008080; text-decoration-color: #008080; font-weight: bold\">0.2941</span>, <span style=\"color: #008080; text-decoration-color: #008080; font-weight: bold\">0.2961</span>, <span style=\"color: #008080; text-decoration-color: #008080; font-weight: bold\">0.2982</span>, <span style=\"color: #008080; text-decoration-color: #008080; font-weight: bold\">0.3002</span>, <span style=\"color: #008080; text-decoration-color: #008080; font-weight: bold\">0.3023</span>, <span style=\"color: #008080; text-decoration-color: #008080; font-weight: bold\">0.3044</span>,\n",
       "        <span style=\"color: #008080; text-decoration-color: #008080; font-weight: bold\">0.3065</span>, <span style=\"color: #008080; text-decoration-color: #008080; font-weight: bold\">0.3087</span>, <span style=\"color: #008080; text-decoration-color: #008080; font-weight: bold\">0.3108</span>, <span style=\"color: #008080; text-decoration-color: #008080; font-weight: bold\">0.3130</span>, <span style=\"color: #008080; text-decoration-color: #008080; font-weight: bold\">0.3151</span>, <span style=\"color: #008080; text-decoration-color: #008080; font-weight: bold\">0.3173</span>, <span style=\"color: #008080; text-decoration-color: #008080; font-weight: bold\">0.3195</span>, <span style=\"color: #008080; text-decoration-color: #008080; font-weight: bold\">0.3217</span>, <span style=\"color: #008080; text-decoration-color: #008080; font-weight: bold\">0.3240</span>,\n",
       "        <span style=\"color: #008080; text-decoration-color: #008080; font-weight: bold\">0.3262</span>, <span style=\"color: #008080; text-decoration-color: #008080; font-weight: bold\">0.3285</span>, <span style=\"color: #008080; text-decoration-color: #008080; font-weight: bold\">0.3308</span>, <span style=\"color: #008080; text-decoration-color: #008080; font-weight: bold\">0.3331</span>, <span style=\"color: #008080; text-decoration-color: #008080; font-weight: bold\">0.3354</span>, <span style=\"color: #008080; text-decoration-color: #008080; font-weight: bold\">0.3377</span>, <span style=\"color: #008080; text-decoration-color: #008080; font-weight: bold\">0.3400</span>, <span style=\"color: #008080; text-decoration-color: #008080; font-weight: bold\">0.3424</span>, <span style=\"color: #008080; text-decoration-color: #008080; font-weight: bold\">0.3448</span>,\n",
       "        <span style=\"color: #008080; text-decoration-color: #008080; font-weight: bold\">0.3472</span>, <span style=\"color: #008080; text-decoration-color: #008080; font-weight: bold\">0.3496</span>, <span style=\"color: #008080; text-decoration-color: #008080; font-weight: bold\">0.3520</span>, <span style=\"color: #008080; text-decoration-color: #008080; font-weight: bold\">0.3544</span>, <span style=\"color: #008080; text-decoration-color: #008080; font-weight: bold\">0.3569</span>, <span style=\"color: #008080; text-decoration-color: #008080; font-weight: bold\">0.3594</span>, <span style=\"color: #008080; text-decoration-color: #008080; font-weight: bold\">0.3619</span>, <span style=\"color: #008080; text-decoration-color: #008080; font-weight: bold\">0.3644</span>, <span style=\"color: #008080; text-decoration-color: #008080; font-weight: bold\">0.3669</span>,\n",
       "        <span style=\"color: #008080; text-decoration-color: #008080; font-weight: bold\">0.3695</span>, <span style=\"color: #008080; text-decoration-color: #008080; font-weight: bold\">0.3720</span>, <span style=\"color: #008080; text-decoration-color: #008080; font-weight: bold\">0.3746</span>, <span style=\"color: #008080; text-decoration-color: #008080; font-weight: bold\">0.3772</span>, <span style=\"color: #008080; text-decoration-color: #008080; font-weight: bold\">0.3798</span>, <span style=\"color: #008080; text-decoration-color: #008080; font-weight: bold\">0.3825</span>, <span style=\"color: #008080; text-decoration-color: #008080; font-weight: bold\">0.3851</span>, <span style=\"color: #008080; text-decoration-color: #008080; font-weight: bold\">0.3878</span>, <span style=\"color: #008080; text-decoration-color: #008080; font-weight: bold\">0.3905</span>,\n",
       "        <span style=\"color: #008080; text-decoration-color: #008080; font-weight: bold\">0.3932</span>, <span style=\"color: #008080; text-decoration-color: #008080; font-weight: bold\">0.3959</span>, <span style=\"color: #008080; text-decoration-color: #008080; font-weight: bold\">0.3987</span>, <span style=\"color: #008080; text-decoration-color: #008080; font-weight: bold\">0.4014</span>, <span style=\"color: #008080; text-decoration-color: #008080; font-weight: bold\">0.4042</span>, <span style=\"color: #008080; text-decoration-color: #008080; font-weight: bold\">0.4070</span>, <span style=\"color: #008080; text-decoration-color: #008080; font-weight: bold\">0.4098</span>, <span style=\"color: #008080; text-decoration-color: #008080; font-weight: bold\">0.4127</span>, <span style=\"color: #008080; text-decoration-color: #008080; font-weight: bold\">0.4155</span>,\n",
       "        <span style=\"color: #008080; text-decoration-color: #008080; font-weight: bold\">0.4184</span>, <span style=\"color: #008080; text-decoration-color: #008080; font-weight: bold\">0.4213</span>, <span style=\"color: #008080; text-decoration-color: #008080; font-weight: bold\">0.4243</span>, <span style=\"color: #008080; text-decoration-color: #008080; font-weight: bold\">0.4272</span>, <span style=\"color: #008080; text-decoration-color: #008080; font-weight: bold\">0.4302</span>, <span style=\"color: #008080; text-decoration-color: #008080; font-weight: bold\">0.4331</span>, <span style=\"color: #008080; text-decoration-color: #008080; font-weight: bold\">0.4362</span>, <span style=\"color: #008080; text-decoration-color: #008080; font-weight: bold\">0.4392</span>, <span style=\"color: #008080; text-decoration-color: #008080; font-weight: bold\">0.4422</span>,\n",
       "        <span style=\"color: #008080; text-decoration-color: #008080; font-weight: bold\">0.4453</span>, <span style=\"color: #008080; text-decoration-color: #008080; font-weight: bold\">0.4484</span>, <span style=\"color: #008080; text-decoration-color: #008080; font-weight: bold\">0.4515</span>, <span style=\"color: #008080; text-decoration-color: #008080; font-weight: bold\">0.4546</span>, <span style=\"color: #008080; text-decoration-color: #008080; font-weight: bold\">0.4578</span>, <span style=\"color: #008080; text-decoration-color: #008080; font-weight: bold\">0.4610</span>, <span style=\"color: #008080; text-decoration-color: #008080; font-weight: bold\">0.4642</span>, <span style=\"color: #008080; text-decoration-color: #008080; font-weight: bold\">0.4674</span>, <span style=\"color: #008080; text-decoration-color: #008080; font-weight: bold\">0.4706</span>,\n",
       "        <span style=\"color: #008080; text-decoration-color: #008080; font-weight: bold\">0.4739</span>, <span style=\"color: #008080; text-decoration-color: #008080; font-weight: bold\">0.4772</span>, <span style=\"color: #008080; text-decoration-color: #008080; font-weight: bold\">0.4805</span>, <span style=\"color: #008080; text-decoration-color: #008080; font-weight: bold\">0.4838</span>, <span style=\"color: #008080; text-decoration-color: #008080; font-weight: bold\">0.4872</span>, <span style=\"color: #008080; text-decoration-color: #008080; font-weight: bold\">0.4906</span>, <span style=\"color: #008080; text-decoration-color: #008080; font-weight: bold\">0.4940</span>, <span style=\"color: #008080; text-decoration-color: #008080; font-weight: bold\">0.4974</span>, <span style=\"color: #008080; text-decoration-color: #008080; font-weight: bold\">0.5008</span>,\n",
       "        <span style=\"color: #008080; text-decoration-color: #008080; font-weight: bold\">0.5043</span>, <span style=\"color: #008080; text-decoration-color: #008080; font-weight: bold\">0.5078</span>, <span style=\"color: #008080; text-decoration-color: #008080; font-weight: bold\">0.5113</span>, <span style=\"color: #008080; text-decoration-color: #008080; font-weight: bold\">0.5149</span>, <span style=\"color: #008080; text-decoration-color: #008080; font-weight: bold\">0.5185</span>, <span style=\"color: #008080; text-decoration-color: #008080; font-weight: bold\">0.5221</span>, <span style=\"color: #008080; text-decoration-color: #008080; font-weight: bold\">0.5257</span>, <span style=\"color: #008080; text-decoration-color: #008080; font-weight: bold\">0.5293</span>, <span style=\"color: #008080; text-decoration-color: #008080; font-weight: bold\">0.5330</span>,\n",
       "        <span style=\"color: #008080; text-decoration-color: #008080; font-weight: bold\">0.5367</span>, <span style=\"color: #008080; text-decoration-color: #008080; font-weight: bold\">0.5404</span>, <span style=\"color: #008080; text-decoration-color: #008080; font-weight: bold\">0.5442</span>, <span style=\"color: #008080; text-decoration-color: #008080; font-weight: bold\">0.5479</span>, <span style=\"color: #008080; text-decoration-color: #008080; font-weight: bold\">0.5517</span>, <span style=\"color: #008080; text-decoration-color: #008080; font-weight: bold\">0.5556</span>, <span style=\"color: #008080; text-decoration-color: #008080; font-weight: bold\">0.5594</span>, <span style=\"color: #008080; text-decoration-color: #008080; font-weight: bold\">0.5633</span>, <span style=\"color: #008080; text-decoration-color: #008080; font-weight: bold\">0.5672</span>,\n",
       "        <span style=\"color: #008080; text-decoration-color: #008080; font-weight: bold\">0.5712</span>, <span style=\"color: #008080; text-decoration-color: #008080; font-weight: bold\">0.5751</span>, <span style=\"color: #008080; text-decoration-color: #008080; font-weight: bold\">0.5791</span>, <span style=\"color: #008080; text-decoration-color: #008080; font-weight: bold\">0.5831</span>, <span style=\"color: #008080; text-decoration-color: #008080; font-weight: bold\">0.5872</span>, <span style=\"color: #008080; text-decoration-color: #008080; font-weight: bold\">0.5913</span>, <span style=\"color: #008080; text-decoration-color: #008080; font-weight: bold\">0.5954</span>, <span style=\"color: #008080; text-decoration-color: #008080; font-weight: bold\">0.5995</span>, <span style=\"color: #008080; text-decoration-color: #008080; font-weight: bold\">0.6036</span>,\n",
       "        <span style=\"color: #008080; text-decoration-color: #008080; font-weight: bold\">0.6078</span>, <span style=\"color: #008080; text-decoration-color: #008080; font-weight: bold\">0.6120</span>, <span style=\"color: #008080; text-decoration-color: #008080; font-weight: bold\">0.6163</span>, <span style=\"color: #008080; text-decoration-color: #008080; font-weight: bold\">0.6206</span>, <span style=\"color: #008080; text-decoration-color: #008080; font-weight: bold\">0.6249</span>, <span style=\"color: #008080; text-decoration-color: #008080; font-weight: bold\">0.6292</span>, <span style=\"color: #008080; text-decoration-color: #008080; font-weight: bold\">0.6336</span>, <span style=\"color: #008080; text-decoration-color: #008080; font-weight: bold\">0.6380</span>, <span style=\"color: #008080; text-decoration-color: #008080; font-weight: bold\">0.6424</span>,\n",
       "        <span style=\"color: #008080; text-decoration-color: #008080; font-weight: bold\">0.6469</span>, <span style=\"color: #008080; text-decoration-color: #008080; font-weight: bold\">0.6513</span>, <span style=\"color: #008080; text-decoration-color: #008080; font-weight: bold\">0.6559</span>, <span style=\"color: #008080; text-decoration-color: #008080; font-weight: bold\">0.6604</span>, <span style=\"color: #008080; text-decoration-color: #008080; font-weight: bold\">0.6650</span>, <span style=\"color: #008080; text-decoration-color: #008080; font-weight: bold\">0.6696</span>, <span style=\"color: #008080; text-decoration-color: #008080; font-weight: bold\">0.6743</span>, <span style=\"color: #008080; text-decoration-color: #008080; font-weight: bold\">0.6789</span>, <span style=\"color: #008080; text-decoration-color: #008080; font-weight: bold\">0.6837</span>,\n",
       "        <span style=\"color: #008080; text-decoration-color: #008080; font-weight: bold\">0.6884</span>, <span style=\"color: #008080; text-decoration-color: #008080; font-weight: bold\">0.6932</span>, <span style=\"color: #008080; text-decoration-color: #008080; font-weight: bold\">0.6980</span>, <span style=\"color: #008080; text-decoration-color: #008080; font-weight: bold\">0.7028</span>, <span style=\"color: #008080; text-decoration-color: #008080; font-weight: bold\">0.7077</span>, <span style=\"color: #008080; text-decoration-color: #008080; font-weight: bold\">0.7126</span>, <span style=\"color: #008080; text-decoration-color: #008080; font-weight: bold\">0.7176</span>, <span style=\"color: #008080; text-decoration-color: #008080; font-weight: bold\">0.7225</span>, <span style=\"color: #008080; text-decoration-color: #008080; font-weight: bold\">0.7275</span>,\n",
       "        <span style=\"color: #008080; text-decoration-color: #008080; font-weight: bold\">0.7326</span>, <span style=\"color: #008080; text-decoration-color: #008080; font-weight: bold\">0.7377</span>, <span style=\"color: #008080; text-decoration-color: #008080; font-weight: bold\">0.7428</span>, <span style=\"color: #008080; text-decoration-color: #008080; font-weight: bold\">0.7480</span>, <span style=\"color: #008080; text-decoration-color: #008080; font-weight: bold\">0.7531</span>, <span style=\"color: #008080; text-decoration-color: #008080; font-weight: bold\">0.7584</span>, <span style=\"color: #008080; text-decoration-color: #008080; font-weight: bold\">0.7636</span>, <span style=\"color: #008080; text-decoration-color: #008080; font-weight: bold\">0.7689</span>, <span style=\"color: #008080; text-decoration-color: #008080; font-weight: bold\">0.7743</span>,\n",
       "        <span style=\"color: #008080; text-decoration-color: #008080; font-weight: bold\">0.7796</span>, <span style=\"color: #008080; text-decoration-color: #008080; font-weight: bold\">0.7850</span>, <span style=\"color: #008080; text-decoration-color: #008080; font-weight: bold\">0.7905</span>, <span style=\"color: #008080; text-decoration-color: #008080; font-weight: bold\">0.7960</span>, <span style=\"color: #008080; text-decoration-color: #008080; font-weight: bold\">0.8015</span>, <span style=\"color: #008080; text-decoration-color: #008080; font-weight: bold\">0.8071</span>, <span style=\"color: #008080; text-decoration-color: #008080; font-weight: bold\">0.8127</span>, <span style=\"color: #008080; text-decoration-color: #008080; font-weight: bold\">0.8183</span>, <span style=\"color: #008080; text-decoration-color: #008080; font-weight: bold\">0.8240</span>,\n",
       "        <span style=\"color: #008080; text-decoration-color: #008080; font-weight: bold\">0.8297</span>, <span style=\"color: #008080; text-decoration-color: #008080; font-weight: bold\">0.8355</span>, <span style=\"color: #008080; text-decoration-color: #008080; font-weight: bold\">0.8412</span>, <span style=\"color: #008080; text-decoration-color: #008080; font-weight: bold\">0.8471</span>, <span style=\"color: #008080; text-decoration-color: #008080; font-weight: bold\">0.8530</span>, <span style=\"color: #008080; text-decoration-color: #008080; font-weight: bold\">0.8589</span>, <span style=\"color: #008080; text-decoration-color: #008080; font-weight: bold\">0.8648</span>, <span style=\"color: #008080; text-decoration-color: #008080; font-weight: bold\">0.8708</span>, <span style=\"color: #008080; text-decoration-color: #008080; font-weight: bold\">0.8769</span>,\n",
       "        <span style=\"color: #008080; text-decoration-color: #008080; font-weight: bold\">0.8830</span>, <span style=\"color: #008080; text-decoration-color: #008080; font-weight: bold\">0.8891</span>, <span style=\"color: #008080; text-decoration-color: #008080; font-weight: bold\">0.8953</span>, <span style=\"color: #008080; text-decoration-color: #008080; font-weight: bold\">0.9015</span>, <span style=\"color: #008080; text-decoration-color: #008080; font-weight: bold\">0.9077</span>, <span style=\"color: #008080; text-decoration-color: #008080; font-weight: bold\">0.9140</span>, <span style=\"color: #008080; text-decoration-color: #008080; font-weight: bold\">0.9204</span>, <span style=\"color: #008080; text-decoration-color: #008080; font-weight: bold\">0.9268</span>, <span style=\"color: #008080; text-decoration-color: #008080; font-weight: bold\">0.9332</span>,\n",
       "        <span style=\"color: #008080; text-decoration-color: #008080; font-weight: bold\">0.9397</span>, <span style=\"color: #008080; text-decoration-color: #008080; font-weight: bold\">0.9462</span>, <span style=\"color: #008080; text-decoration-color: #008080; font-weight: bold\">0.9528</span>, <span style=\"color: #008080; text-decoration-color: #008080; font-weight: bold\">0.9594</span>, <span style=\"color: #008080; text-decoration-color: #008080; font-weight: bold\">0.9660</span>, <span style=\"color: #008080; text-decoration-color: #008080; font-weight: bold\">0.9727</span>, <span style=\"color: #008080; text-decoration-color: #008080; font-weight: bold\">0.9795</span>, <span style=\"color: #008080; text-decoration-color: #008080; font-weight: bold\">0.9863</span>, <span style=\"color: #008080; text-decoration-color: #008080; font-weight: bold\">0.9931</span>,\n",
       "        <span style=\"color: #008080; text-decoration-color: #008080; font-weight: bold\">1.0000</span><span style=\"font-weight: bold\">])</span>\n",
       "</pre>\n"
      ],
      "text/plain": [
       "\n",
       "\u001b[1;35mtensor\u001b[0m\u001b[1m(\u001b[0m\u001b[1m[\u001b[0m\u001b[1;36m0.0010\u001b[0m, \u001b[1;36m0.0010\u001b[0m, \u001b[1;36m0.0010\u001b[0m, \u001b[1;36m0.0010\u001b[0m, \u001b[1;36m0.0010\u001b[0m, \u001b[1;36m0.0010\u001b[0m, \u001b[1;36m0.0010\u001b[0m, \u001b[1;36m0.0010\u001b[0m, \u001b[1;36m0.0011\u001b[0m,\n",
       "        \u001b[1;36m0.0011\u001b[0m, \u001b[1;36m0.0011\u001b[0m, \u001b[1;36m0.0011\u001b[0m, \u001b[1;36m0.0011\u001b[0m, \u001b[1;36m0.0011\u001b[0m, \u001b[1;36m0.0011\u001b[0m, \u001b[1;36m0.0011\u001b[0m, \u001b[1;36m0.0011\u001b[0m, \u001b[1;36m0.0011\u001b[0m,\n",
       "        \u001b[1;36m0.0011\u001b[0m, \u001b[1;36m0.0011\u001b[0m, \u001b[1;36m0.0011\u001b[0m, \u001b[1;36m0.0012\u001b[0m, \u001b[1;36m0.0012\u001b[0m, \u001b[1;36m0.0012\u001b[0m, \u001b[1;36m0.0012\u001b[0m, \u001b[1;36m0.0012\u001b[0m, \u001b[1;36m0.0012\u001b[0m,\n",
       "        \u001b[1;36m0.0012\u001b[0m, \u001b[1;36m0.0012\u001b[0m, \u001b[1;36m0.0012\u001b[0m, \u001b[1;36m0.0012\u001b[0m, \u001b[1;36m0.0012\u001b[0m, \u001b[1;36m0.0012\u001b[0m, \u001b[1;36m0.0013\u001b[0m, \u001b[1;36m0.0013\u001b[0m, \u001b[1;36m0.0013\u001b[0m,\n",
       "        \u001b[1;36m0.0013\u001b[0m, \u001b[1;36m0.0013\u001b[0m, \u001b[1;36m0.0013\u001b[0m, \u001b[1;36m0.0013\u001b[0m, \u001b[1;36m0.0013\u001b[0m, \u001b[1;36m0.0013\u001b[0m, \u001b[1;36m0.0013\u001b[0m, \u001b[1;36m0.0013\u001b[0m, \u001b[1;36m0.0014\u001b[0m,\n",
       "        \u001b[1;36m0.0014\u001b[0m, \u001b[1;36m0.0014\u001b[0m, \u001b[1;36m0.0014\u001b[0m, \u001b[1;36m0.0014\u001b[0m, \u001b[1;36m0.0014\u001b[0m, \u001b[1;36m0.0014\u001b[0m, \u001b[1;36m0.0014\u001b[0m, \u001b[1;36m0.0014\u001b[0m, \u001b[1;36m0.0014\u001b[0m,\n",
       "        \u001b[1;36m0.0015\u001b[0m, \u001b[1;36m0.0015\u001b[0m, \u001b[1;36m0.0015\u001b[0m, \u001b[1;36m0.0015\u001b[0m, \u001b[1;36m0.0015\u001b[0m, \u001b[1;36m0.0015\u001b[0m, \u001b[1;36m0.0015\u001b[0m, \u001b[1;36m0.0015\u001b[0m, \u001b[1;36m0.0015\u001b[0m,\n",
       "        \u001b[1;36m0.0015\u001b[0m, \u001b[1;36m0.0016\u001b[0m, \u001b[1;36m0.0016\u001b[0m, \u001b[1;36m0.0016\u001b[0m, \u001b[1;36m0.0016\u001b[0m, \u001b[1;36m0.0016\u001b[0m, \u001b[1;36m0.0016\u001b[0m, \u001b[1;36m0.0016\u001b[0m, \u001b[1;36m0.0016\u001b[0m,\n",
       "        \u001b[1;36m0.0016\u001b[0m, \u001b[1;36m0.0017\u001b[0m, \u001b[1;36m0.0017\u001b[0m, \u001b[1;36m0.0017\u001b[0m, \u001b[1;36m0.0017\u001b[0m, \u001b[1;36m0.0017\u001b[0m, \u001b[1;36m0.0017\u001b[0m, \u001b[1;36m0.0017\u001b[0m, \u001b[1;36m0.0017\u001b[0m,\n",
       "        \u001b[1;36m0.0018\u001b[0m, \u001b[1;36m0.0018\u001b[0m, \u001b[1;36m0.0018\u001b[0m, \u001b[1;36m0.0018\u001b[0m, \u001b[1;36m0.0018\u001b[0m, \u001b[1;36m0.0018\u001b[0m, \u001b[1;36m0.0018\u001b[0m, \u001b[1;36m0.0018\u001b[0m, \u001b[1;36m0.0019\u001b[0m,\n",
       "        \u001b[1;36m0.0019\u001b[0m, \u001b[1;36m0.0019\u001b[0m, \u001b[1;36m0.0019\u001b[0m, \u001b[1;36m0.0019\u001b[0m, \u001b[1;36m0.0019\u001b[0m, \u001b[1;36m0.0019\u001b[0m, \u001b[1;36m0.0019\u001b[0m, \u001b[1;36m0.0020\u001b[0m, \u001b[1;36m0.0020\u001b[0m,\n",
       "        \u001b[1;36m0.0020\u001b[0m, \u001b[1;36m0.0020\u001b[0m, \u001b[1;36m0.0020\u001b[0m, \u001b[1;36m0.0020\u001b[0m, \u001b[1;36m0.0020\u001b[0m, \u001b[1;36m0.0021\u001b[0m, \u001b[1;36m0.0021\u001b[0m, \u001b[1;36m0.0021\u001b[0m, \u001b[1;36m0.0021\u001b[0m,\n",
       "        \u001b[1;36m0.0021\u001b[0m, \u001b[1;36m0.0021\u001b[0m, \u001b[1;36m0.0021\u001b[0m, \u001b[1;36m0.0022\u001b[0m, \u001b[1;36m0.0022\u001b[0m, \u001b[1;36m0.0022\u001b[0m, \u001b[1;36m0.0022\u001b[0m, \u001b[1;36m0.0022\u001b[0m, \u001b[1;36m0.0022\u001b[0m,\n",
       "        \u001b[1;36m0.0022\u001b[0m, \u001b[1;36m0.0023\u001b[0m, \u001b[1;36m0.0023\u001b[0m, \u001b[1;36m0.0023\u001b[0m, \u001b[1;36m0.0023\u001b[0m, \u001b[1;36m0.0023\u001b[0m, \u001b[1;36m0.0023\u001b[0m, \u001b[1;36m0.0024\u001b[0m, \u001b[1;36m0.0024\u001b[0m,\n",
       "        \u001b[1;36m0.0024\u001b[0m, \u001b[1;36m0.0024\u001b[0m, \u001b[1;36m0.0024\u001b[0m, \u001b[1;36m0.0024\u001b[0m, \u001b[1;36m0.0025\u001b[0m, \u001b[1;36m0.0025\u001b[0m, \u001b[1;36m0.0025\u001b[0m, \u001b[1;36m0.0025\u001b[0m, \u001b[1;36m0.0025\u001b[0m,\n",
       "        \u001b[1;36m0.0025\u001b[0m, \u001b[1;36m0.0026\u001b[0m, \u001b[1;36m0.0026\u001b[0m, \u001b[1;36m0.0026\u001b[0m, \u001b[1;36m0.0026\u001b[0m, \u001b[1;36m0.0026\u001b[0m, \u001b[1;36m0.0027\u001b[0m, \u001b[1;36m0.0027\u001b[0m, \u001b[1;36m0.0027\u001b[0m,\n",
       "        \u001b[1;36m0.0027\u001b[0m, \u001b[1;36m0.0027\u001b[0m, \u001b[1;36m0.0027\u001b[0m, \u001b[1;36m0.0028\u001b[0m, \u001b[1;36m0.0028\u001b[0m, \u001b[1;36m0.0028\u001b[0m, \u001b[1;36m0.0028\u001b[0m, \u001b[1;36m0.0028\u001b[0m, \u001b[1;36m0.0029\u001b[0m,\n",
       "        \u001b[1;36m0.0029\u001b[0m, \u001b[1;36m0.0029\u001b[0m, \u001b[1;36m0.0029\u001b[0m, \u001b[1;36m0.0029\u001b[0m, \u001b[1;36m0.0030\u001b[0m, \u001b[1;36m0.0030\u001b[0m, \u001b[1;36m0.0030\u001b[0m, \u001b[1;36m0.0030\u001b[0m, \u001b[1;36m0.0030\u001b[0m,\n",
       "        \u001b[1;36m0.0031\u001b[0m, \u001b[1;36m0.0031\u001b[0m, \u001b[1;36m0.0031\u001b[0m, \u001b[1;36m0.0031\u001b[0m, \u001b[1;36m0.0032\u001b[0m, \u001b[1;36m0.0032\u001b[0m, \u001b[1;36m0.0032\u001b[0m, \u001b[1;36m0.0032\u001b[0m, \u001b[1;36m0.0032\u001b[0m,\n",
       "        \u001b[1;36m0.0033\u001b[0m, \u001b[1;36m0.0033\u001b[0m, \u001b[1;36m0.0033\u001b[0m, \u001b[1;36m0.0033\u001b[0m, \u001b[1;36m0.0034\u001b[0m, \u001b[1;36m0.0034\u001b[0m, \u001b[1;36m0.0034\u001b[0m, \u001b[1;36m0.0034\u001b[0m, \u001b[1;36m0.0034\u001b[0m,\n",
       "        \u001b[1;36m0.0035\u001b[0m, \u001b[1;36m0.0035\u001b[0m, \u001b[1;36m0.0035\u001b[0m, \u001b[1;36m0.0035\u001b[0m, \u001b[1;36m0.0036\u001b[0m, \u001b[1;36m0.0036\u001b[0m, \u001b[1;36m0.0036\u001b[0m, \u001b[1;36m0.0036\u001b[0m, \u001b[1;36m0.0037\u001b[0m,\n",
       "        \u001b[1;36m0.0037\u001b[0m, \u001b[1;36m0.0037\u001b[0m, \u001b[1;36m0.0037\u001b[0m, \u001b[1;36m0.0038\u001b[0m, \u001b[1;36m0.0038\u001b[0m, \u001b[1;36m0.0038\u001b[0m, \u001b[1;36m0.0039\u001b[0m, \u001b[1;36m0.0039\u001b[0m, \u001b[1;36m0.0039\u001b[0m,\n",
       "        \u001b[1;36m0.0039\u001b[0m, \u001b[1;36m0.0040\u001b[0m, \u001b[1;36m0.0040\u001b[0m, \u001b[1;36m0.0040\u001b[0m, \u001b[1;36m0.0040\u001b[0m, \u001b[1;36m0.0041\u001b[0m, \u001b[1;36m0.0041\u001b[0m, \u001b[1;36m0.0041\u001b[0m, \u001b[1;36m0.0042\u001b[0m,\n",
       "        \u001b[1;36m0.0042\u001b[0m, \u001b[1;36m0.0042\u001b[0m, \u001b[1;36m0.0042\u001b[0m, \u001b[1;36m0.0043\u001b[0m, \u001b[1;36m0.0043\u001b[0m, \u001b[1;36m0.0043\u001b[0m, \u001b[1;36m0.0044\u001b[0m, \u001b[1;36m0.0044\u001b[0m, \u001b[1;36m0.0044\u001b[0m,\n",
       "        \u001b[1;36m0.0045\u001b[0m, \u001b[1;36m0.0045\u001b[0m, \u001b[1;36m0.0045\u001b[0m, \u001b[1;36m0.0045\u001b[0m, \u001b[1;36m0.0046\u001b[0m, \u001b[1;36m0.0046\u001b[0m, \u001b[1;36m0.0046\u001b[0m, \u001b[1;36m0.0047\u001b[0m, \u001b[1;36m0.0047\u001b[0m,\n",
       "        \u001b[1;36m0.0047\u001b[0m, \u001b[1;36m0.0048\u001b[0m, \u001b[1;36m0.0048\u001b[0m, \u001b[1;36m0.0048\u001b[0m, \u001b[1;36m0.0049\u001b[0m, \u001b[1;36m0.0049\u001b[0m, \u001b[1;36m0.0049\u001b[0m, \u001b[1;36m0.0050\u001b[0m, \u001b[1;36m0.0050\u001b[0m,\n",
       "        \u001b[1;36m0.0050\u001b[0m, \u001b[1;36m0.0051\u001b[0m, \u001b[1;36m0.0051\u001b[0m, \u001b[1;36m0.0051\u001b[0m, \u001b[1;36m0.0052\u001b[0m, \u001b[1;36m0.0052\u001b[0m, \u001b[1;36m0.0053\u001b[0m, \u001b[1;36m0.0053\u001b[0m, \u001b[1;36m0.0053\u001b[0m,\n",
       "        \u001b[1;36m0.0054\u001b[0m, \u001b[1;36m0.0054\u001b[0m, \u001b[1;36m0.0054\u001b[0m, \u001b[1;36m0.0055\u001b[0m, \u001b[1;36m0.0055\u001b[0m, \u001b[1;36m0.0056\u001b[0m, \u001b[1;36m0.0056\u001b[0m, \u001b[1;36m0.0056\u001b[0m, \u001b[1;36m0.0057\u001b[0m,\n",
       "        \u001b[1;36m0.0057\u001b[0m, \u001b[1;36m0.0058\u001b[0m, \u001b[1;36m0.0058\u001b[0m, \u001b[1;36m0.0058\u001b[0m, \u001b[1;36m0.0059\u001b[0m, \u001b[1;36m0.0059\u001b[0m, \u001b[1;36m0.0060\u001b[0m, \u001b[1;36m0.0060\u001b[0m, \u001b[1;36m0.0060\u001b[0m,\n",
       "        \u001b[1;36m0.0061\u001b[0m, \u001b[1;36m0.0061\u001b[0m, \u001b[1;36m0.0062\u001b[0m, \u001b[1;36m0.0062\u001b[0m, \u001b[1;36m0.0062\u001b[0m, \u001b[1;36m0.0063\u001b[0m, \u001b[1;36m0.0063\u001b[0m, \u001b[1;36m0.0064\u001b[0m, \u001b[1;36m0.0064\u001b[0m,\n",
       "        \u001b[1;36m0.0065\u001b[0m, \u001b[1;36m0.0065\u001b[0m, \u001b[1;36m0.0066\u001b[0m, \u001b[1;36m0.0066\u001b[0m, \u001b[1;36m0.0067\u001b[0m, \u001b[1;36m0.0067\u001b[0m, \u001b[1;36m0.0067\u001b[0m, \u001b[1;36m0.0068\u001b[0m, \u001b[1;36m0.0068\u001b[0m,\n",
       "        \u001b[1;36m0.0069\u001b[0m, \u001b[1;36m0.0069\u001b[0m, \u001b[1;36m0.0070\u001b[0m, \u001b[1;36m0.0070\u001b[0m, \u001b[1;36m0.0071\u001b[0m, \u001b[1;36m0.0071\u001b[0m, \u001b[1;36m0.0072\u001b[0m, \u001b[1;36m0.0072\u001b[0m, \u001b[1;36m0.0073\u001b[0m,\n",
       "        \u001b[1;36m0.0073\u001b[0m, \u001b[1;36m0.0074\u001b[0m, \u001b[1;36m0.0074\u001b[0m, \u001b[1;36m0.0075\u001b[0m, \u001b[1;36m0.0075\u001b[0m, \u001b[1;36m0.0076\u001b[0m, \u001b[1;36m0.0076\u001b[0m, \u001b[1;36m0.0077\u001b[0m, \u001b[1;36m0.0077\u001b[0m,\n",
       "        \u001b[1;36m0.0078\u001b[0m, \u001b[1;36m0.0079\u001b[0m, \u001b[1;36m0.0079\u001b[0m, \u001b[1;36m0.0080\u001b[0m, \u001b[1;36m0.0080\u001b[0m, \u001b[1;36m0.0081\u001b[0m, \u001b[1;36m0.0081\u001b[0m, \u001b[1;36m0.0082\u001b[0m, \u001b[1;36m0.0082\u001b[0m,\n",
       "        \u001b[1;36m0.0083\u001b[0m, \u001b[1;36m0.0084\u001b[0m, \u001b[1;36m0.0084\u001b[0m, \u001b[1;36m0.0085\u001b[0m, \u001b[1;36m0.0085\u001b[0m, \u001b[1;36m0.0086\u001b[0m, \u001b[1;36m0.0086\u001b[0m, \u001b[1;36m0.0087\u001b[0m, \u001b[1;36m0.0088\u001b[0m,\n",
       "        \u001b[1;36m0.0088\u001b[0m, \u001b[1;36m0.0089\u001b[0m, \u001b[1;36m0.0090\u001b[0m, \u001b[1;36m0.0090\u001b[0m, \u001b[1;36m0.0091\u001b[0m, \u001b[1;36m0.0091\u001b[0m, \u001b[1;36m0.0092\u001b[0m, \u001b[1;36m0.0093\u001b[0m, \u001b[1;36m0.0093\u001b[0m,\n",
       "        \u001b[1;36m0.0094\u001b[0m, \u001b[1;36m0.0095\u001b[0m, \u001b[1;36m0.0095\u001b[0m, \u001b[1;36m0.0096\u001b[0m, \u001b[1;36m0.0097\u001b[0m, \u001b[1;36m0.0097\u001b[0m, \u001b[1;36m0.0098\u001b[0m, \u001b[1;36m0.0099\u001b[0m, \u001b[1;36m0.0099\u001b[0m,\n",
       "        \u001b[1;36m0.0100\u001b[0m, \u001b[1;36m0.0101\u001b[0m, \u001b[1;36m0.0101\u001b[0m, \u001b[1;36m0.0102\u001b[0m, \u001b[1;36m0.0103\u001b[0m, \u001b[1;36m0.0104\u001b[0m, \u001b[1;36m0.0104\u001b[0m, \u001b[1;36m0.0105\u001b[0m, \u001b[1;36m0.0106\u001b[0m,\n",
       "        \u001b[1;36m0.0106\u001b[0m, \u001b[1;36m0.0107\u001b[0m, \u001b[1;36m0.0108\u001b[0m, \u001b[1;36m0.0109\u001b[0m, \u001b[1;36m0.0109\u001b[0m, \u001b[1;36m0.0110\u001b[0m, \u001b[1;36m0.0111\u001b[0m, \u001b[1;36m0.0112\u001b[0m, \u001b[1;36m0.0112\u001b[0m,\n",
       "        \u001b[1;36m0.0113\u001b[0m, \u001b[1;36m0.0114\u001b[0m, \u001b[1;36m0.0115\u001b[0m, \u001b[1;36m0.0116\u001b[0m, \u001b[1;36m0.0116\u001b[0m, \u001b[1;36m0.0117\u001b[0m, \u001b[1;36m0.0118\u001b[0m, \u001b[1;36m0.0119\u001b[0m, \u001b[1;36m0.0120\u001b[0m,\n",
       "        \u001b[1;36m0.0121\u001b[0m, \u001b[1;36m0.0121\u001b[0m, \u001b[1;36m0.0122\u001b[0m, \u001b[1;36m0.0123\u001b[0m, \u001b[1;36m0.0124\u001b[0m, \u001b[1;36m0.0125\u001b[0m, \u001b[1;36m0.0126\u001b[0m, \u001b[1;36m0.0127\u001b[0m, \u001b[1;36m0.0127\u001b[0m,\n",
       "        \u001b[1;36m0.0128\u001b[0m, \u001b[1;36m0.0129\u001b[0m, \u001b[1;36m0.0130\u001b[0m, \u001b[1;36m0.0131\u001b[0m, \u001b[1;36m0.0132\u001b[0m, \u001b[1;36m0.0133\u001b[0m, \u001b[1;36m0.0134\u001b[0m, \u001b[1;36m0.0135\u001b[0m, \u001b[1;36m0.0136\u001b[0m,\n",
       "        \u001b[1;36m0.0137\u001b[0m, \u001b[1;36m0.0137\u001b[0m, \u001b[1;36m0.0138\u001b[0m, \u001b[1;36m0.0139\u001b[0m, \u001b[1;36m0.0140\u001b[0m, \u001b[1;36m0.0141\u001b[0m, \u001b[1;36m0.0142\u001b[0m, \u001b[1;36m0.0143\u001b[0m, \u001b[1;36m0.0144\u001b[0m,\n",
       "        \u001b[1;36m0.0145\u001b[0m, \u001b[1;36m0.0146\u001b[0m, \u001b[1;36m0.0147\u001b[0m, \u001b[1;36m0.0148\u001b[0m, \u001b[1;36m0.0149\u001b[0m, \u001b[1;36m0.0150\u001b[0m, \u001b[1;36m0.0151\u001b[0m, \u001b[1;36m0.0152\u001b[0m, \u001b[1;36m0.0154\u001b[0m,\n",
       "        \u001b[1;36m0.0155\u001b[0m, \u001b[1;36m0.0156\u001b[0m, \u001b[1;36m0.0157\u001b[0m, \u001b[1;36m0.0158\u001b[0m, \u001b[1;36m0.0159\u001b[0m, \u001b[1;36m0.0160\u001b[0m, \u001b[1;36m0.0161\u001b[0m, \u001b[1;36m0.0162\u001b[0m, \u001b[1;36m0.0163\u001b[0m,\n",
       "        \u001b[1;36m0.0165\u001b[0m, \u001b[1;36m0.0166\u001b[0m, \u001b[1;36m0.0167\u001b[0m, \u001b[1;36m0.0168\u001b[0m, \u001b[1;36m0.0169\u001b[0m, \u001b[1;36m0.0170\u001b[0m, \u001b[1;36m0.0171\u001b[0m, \u001b[1;36m0.0173\u001b[0m, \u001b[1;36m0.0174\u001b[0m,\n",
       "        \u001b[1;36m0.0175\u001b[0m, \u001b[1;36m0.0176\u001b[0m, \u001b[1;36m0.0178\u001b[0m, \u001b[1;36m0.0179\u001b[0m, \u001b[1;36m0.0180\u001b[0m, \u001b[1;36m0.0181\u001b[0m, \u001b[1;36m0.0182\u001b[0m, \u001b[1;36m0.0184\u001b[0m, \u001b[1;36m0.0185\u001b[0m,\n",
       "        \u001b[1;36m0.0186\u001b[0m, \u001b[1;36m0.0188\u001b[0m, \u001b[1;36m0.0189\u001b[0m, \u001b[1;36m0.0190\u001b[0m, \u001b[1;36m0.0192\u001b[0m, \u001b[1;36m0.0193\u001b[0m, \u001b[1;36m0.0194\u001b[0m, \u001b[1;36m0.0196\u001b[0m, \u001b[1;36m0.0197\u001b[0m,\n",
       "        \u001b[1;36m0.0198\u001b[0m, \u001b[1;36m0.0200\u001b[0m, \u001b[1;36m0.0201\u001b[0m, \u001b[1;36m0.0202\u001b[0m, \u001b[1;36m0.0204\u001b[0m, \u001b[1;36m0.0205\u001b[0m, \u001b[1;36m0.0207\u001b[0m, \u001b[1;36m0.0208\u001b[0m, \u001b[1;36m0.0210\u001b[0m,\n",
       "        \u001b[1;36m0.0211\u001b[0m, \u001b[1;36m0.0212\u001b[0m, \u001b[1;36m0.0214\u001b[0m, \u001b[1;36m0.0215\u001b[0m, \u001b[1;36m0.0217\u001b[0m, \u001b[1;36m0.0218\u001b[0m, \u001b[1;36m0.0220\u001b[0m, \u001b[1;36m0.0221\u001b[0m, \u001b[1;36m0.0223\u001b[0m,\n",
       "        \u001b[1;36m0.0225\u001b[0m, \u001b[1;36m0.0226\u001b[0m, \u001b[1;36m0.0228\u001b[0m, \u001b[1;36m0.0229\u001b[0m, \u001b[1;36m0.0231\u001b[0m, \u001b[1;36m0.0232\u001b[0m, \u001b[1;36m0.0234\u001b[0m, \u001b[1;36m0.0236\u001b[0m, \u001b[1;36m0.0237\u001b[0m,\n",
       "        \u001b[1;36m0.0239\u001b[0m, \u001b[1;36m0.0241\u001b[0m, \u001b[1;36m0.0242\u001b[0m, \u001b[1;36m0.0244\u001b[0m, \u001b[1;36m0.0246\u001b[0m, \u001b[1;36m0.0247\u001b[0m, \u001b[1;36m0.0249\u001b[0m, \u001b[1;36m0.0251\u001b[0m, \u001b[1;36m0.0253\u001b[0m,\n",
       "        \u001b[1;36m0.0254\u001b[0m, \u001b[1;36m0.0256\u001b[0m, \u001b[1;36m0.0258\u001b[0m, \u001b[1;36m0.0260\u001b[0m, \u001b[1;36m0.0261\u001b[0m, \u001b[1;36m0.0263\u001b[0m, \u001b[1;36m0.0265\u001b[0m, \u001b[1;36m0.0267\u001b[0m, \u001b[1;36m0.0269\u001b[0m,\n",
       "        \u001b[1;36m0.0271\u001b[0m, \u001b[1;36m0.0273\u001b[0m, \u001b[1;36m0.0274\u001b[0m, \u001b[1;36m0.0276\u001b[0m, \u001b[1;36m0.0278\u001b[0m, \u001b[1;36m0.0280\u001b[0m, \u001b[1;36m0.0282\u001b[0m, \u001b[1;36m0.0284\u001b[0m, \u001b[1;36m0.0286\u001b[0m,\n",
       "        \u001b[1;36m0.0288\u001b[0m, \u001b[1;36m0.0290\u001b[0m, \u001b[1;36m0.0292\u001b[0m, \u001b[1;36m0.0294\u001b[0m, \u001b[1;36m0.0296\u001b[0m, \u001b[1;36m0.0298\u001b[0m, \u001b[1;36m0.0300\u001b[0m, \u001b[1;36m0.0302\u001b[0m, \u001b[1;36m0.0304\u001b[0m,\n",
       "        \u001b[1;36m0.0307\u001b[0m, \u001b[1;36m0.0309\u001b[0m, \u001b[1;36m0.0311\u001b[0m, \u001b[1;36m0.0313\u001b[0m, \u001b[1;36m0.0315\u001b[0m, \u001b[1;36m0.0317\u001b[0m, \u001b[1;36m0.0320\u001b[0m, \u001b[1;36m0.0322\u001b[0m, \u001b[1;36m0.0324\u001b[0m,\n",
       "        \u001b[1;36m0.0326\u001b[0m, \u001b[1;36m0.0328\u001b[0m, \u001b[1;36m0.0331\u001b[0m, \u001b[1;36m0.0333\u001b[0m, \u001b[1;36m0.0335\u001b[0m, \u001b[1;36m0.0338\u001b[0m, \u001b[1;36m0.0340\u001b[0m, \u001b[1;36m0.0342\u001b[0m, \u001b[1;36m0.0345\u001b[0m,\n",
       "        \u001b[1;36m0.0347\u001b[0m, \u001b[1;36m0.0350\u001b[0m, \u001b[1;36m0.0352\u001b[0m, \u001b[1;36m0.0354\u001b[0m, \u001b[1;36m0.0357\u001b[0m, \u001b[1;36m0.0359\u001b[0m, \u001b[1;36m0.0362\u001b[0m, \u001b[1;36m0.0364\u001b[0m, \u001b[1;36m0.0367\u001b[0m,\n",
       "        \u001b[1;36m0.0369\u001b[0m, \u001b[1;36m0.0372\u001b[0m, \u001b[1;36m0.0375\u001b[0m, \u001b[1;36m0.0377\u001b[0m, \u001b[1;36m0.0380\u001b[0m, \u001b[1;36m0.0382\u001b[0m, \u001b[1;36m0.0385\u001b[0m, \u001b[1;36m0.0388\u001b[0m, \u001b[1;36m0.0390\u001b[0m,\n",
       "        \u001b[1;36m0.0393\u001b[0m, \u001b[1;36m0.0396\u001b[0m, \u001b[1;36m0.0399\u001b[0m, \u001b[1;36m0.0401\u001b[0m, \u001b[1;36m0.0404\u001b[0m, \u001b[1;36m0.0407\u001b[0m, \u001b[1;36m0.0410\u001b[0m, \u001b[1;36m0.0413\u001b[0m, \u001b[1;36m0.0416\u001b[0m,\n",
       "        \u001b[1;36m0.0418\u001b[0m, \u001b[1;36m0.0421\u001b[0m, \u001b[1;36m0.0424\u001b[0m, \u001b[1;36m0.0427\u001b[0m, \u001b[1;36m0.0430\u001b[0m, \u001b[1;36m0.0433\u001b[0m, \u001b[1;36m0.0436\u001b[0m, \u001b[1;36m0.0439\u001b[0m, \u001b[1;36m0.0442\u001b[0m,\n",
       "        \u001b[1;36m0.0445\u001b[0m, \u001b[1;36m0.0448\u001b[0m, \u001b[1;36m0.0451\u001b[0m, \u001b[1;36m0.0455\u001b[0m, \u001b[1;36m0.0458\u001b[0m, \u001b[1;36m0.0461\u001b[0m, \u001b[1;36m0.0464\u001b[0m, \u001b[1;36m0.0467\u001b[0m, \u001b[1;36m0.0471\u001b[0m,\n",
       "        \u001b[1;36m0.0474\u001b[0m, \u001b[1;36m0.0477\u001b[0m, \u001b[1;36m0.0480\u001b[0m, \u001b[1;36m0.0484\u001b[0m, \u001b[1;36m0.0487\u001b[0m, \u001b[1;36m0.0491\u001b[0m, \u001b[1;36m0.0494\u001b[0m, \u001b[1;36m0.0497\u001b[0m, \u001b[1;36m0.0501\u001b[0m,\n",
       "        \u001b[1;36m0.0504\u001b[0m, \u001b[1;36m0.0508\u001b[0m, \u001b[1;36m0.0511\u001b[0m, \u001b[1;36m0.0515\u001b[0m, \u001b[1;36m0.0518\u001b[0m, \u001b[1;36m0.0522\u001b[0m, \u001b[1;36m0.0526\u001b[0m, \u001b[1;36m0.0529\u001b[0m, \u001b[1;36m0.0533\u001b[0m,\n",
       "        \u001b[1;36m0.0537\u001b[0m, \u001b[1;36m0.0540\u001b[0m, \u001b[1;36m0.0544\u001b[0m, \u001b[1;36m0.0548\u001b[0m, \u001b[1;36m0.0552\u001b[0m, \u001b[1;36m0.0556\u001b[0m, \u001b[1;36m0.0559\u001b[0m, \u001b[1;36m0.0563\u001b[0m, \u001b[1;36m0.0567\u001b[0m,\n",
       "        \u001b[1;36m0.0571\u001b[0m, \u001b[1;36m0.0575\u001b[0m, \u001b[1;36m0.0579\u001b[0m, \u001b[1;36m0.0583\u001b[0m, \u001b[1;36m0.0587\u001b[0m, \u001b[1;36m0.0591\u001b[0m, \u001b[1;36m0.0595\u001b[0m, \u001b[1;36m0.0599\u001b[0m, \u001b[1;36m0.0604\u001b[0m,\n",
       "        \u001b[1;36m0.0608\u001b[0m, \u001b[1;36m0.0612\u001b[0m, \u001b[1;36m0.0616\u001b[0m, \u001b[1;36m0.0621\u001b[0m, \u001b[1;36m0.0625\u001b[0m, \u001b[1;36m0.0629\u001b[0m, \u001b[1;36m0.0634\u001b[0m, \u001b[1;36m0.0638\u001b[0m, \u001b[1;36m0.0642\u001b[0m,\n",
       "        \u001b[1;36m0.0647\u001b[0m, \u001b[1;36m0.0651\u001b[0m, \u001b[1;36m0.0656\u001b[0m, \u001b[1;36m0.0660\u001b[0m, \u001b[1;36m0.0665\u001b[0m, \u001b[1;36m0.0670\u001b[0m, \u001b[1;36m0.0674\u001b[0m, \u001b[1;36m0.0679\u001b[0m, \u001b[1;36m0.0684\u001b[0m,\n",
       "        \u001b[1;36m0.0688\u001b[0m, \u001b[1;36m0.0693\u001b[0m, \u001b[1;36m0.0698\u001b[0m, \u001b[1;36m0.0703\u001b[0m, \u001b[1;36m0.0708\u001b[0m, \u001b[1;36m0.0713\u001b[0m, \u001b[1;36m0.0718\u001b[0m, \u001b[1;36m0.0723\u001b[0m, \u001b[1;36m0.0728\u001b[0m,\n",
       "        \u001b[1;36m0.0733\u001b[0m, \u001b[1;36m0.0738\u001b[0m, \u001b[1;36m0.0743\u001b[0m, \u001b[1;36m0.0748\u001b[0m, \u001b[1;36m0.0753\u001b[0m, \u001b[1;36m0.0758\u001b[0m, \u001b[1;36m0.0764\u001b[0m, \u001b[1;36m0.0769\u001b[0m, \u001b[1;36m0.0774\u001b[0m,\n",
       "        \u001b[1;36m0.0780\u001b[0m, \u001b[1;36m0.0785\u001b[0m, \u001b[1;36m0.0790\u001b[0m, \u001b[1;36m0.0796\u001b[0m, \u001b[1;36m0.0802\u001b[0m, \u001b[1;36m0.0807\u001b[0m, \u001b[1;36m0.0813\u001b[0m, \u001b[1;36m0.0818\u001b[0m, \u001b[1;36m0.0824\u001b[0m,\n",
       "        \u001b[1;36m0.0830\u001b[0m, \u001b[1;36m0.0835\u001b[0m, \u001b[1;36m0.0841\u001b[0m, \u001b[1;36m0.0847\u001b[0m, \u001b[1;36m0.0853\u001b[0m, \u001b[1;36m0.0859\u001b[0m, \u001b[1;36m0.0865\u001b[0m, \u001b[1;36m0.0871\u001b[0m, \u001b[1;36m0.0877\u001b[0m,\n",
       "        \u001b[1;36m0.0883\u001b[0m, \u001b[1;36m0.0889\u001b[0m, \u001b[1;36m0.0895\u001b[0m, \u001b[1;36m0.0901\u001b[0m, \u001b[1;36m0.0908\u001b[0m, \u001b[1;36m0.0914\u001b[0m, \u001b[1;36m0.0920\u001b[0m, \u001b[1;36m0.0927\u001b[0m, \u001b[1;36m0.0933\u001b[0m,\n",
       "        \u001b[1;36m0.0940\u001b[0m, \u001b[1;36m0.0946\u001b[0m, \u001b[1;36m0.0953\u001b[0m, \u001b[1;36m0.0959\u001b[0m, \u001b[1;36m0.0966\u001b[0m, \u001b[1;36m0.0973\u001b[0m, \u001b[1;36m0.0979\u001b[0m, \u001b[1;36m0.0986\u001b[0m, \u001b[1;36m0.0993\u001b[0m,\n",
       "        \u001b[1;36m0.1000\u001b[0m, \u001b[1;36m0.1007\u001b[0m, \u001b[1;36m0.1014\u001b[0m, \u001b[1;36m0.1021\u001b[0m, \u001b[1;36m0.1028\u001b[0m, \u001b[1;36m0.1035\u001b[0m, \u001b[1;36m0.1042\u001b[0m, \u001b[1;36m0.1050\u001b[0m, \u001b[1;36m0.1057\u001b[0m,\n",
       "        \u001b[1;36m0.1064\u001b[0m, \u001b[1;36m0.1072\u001b[0m, \u001b[1;36m0.1079\u001b[0m, \u001b[1;36m0.1087\u001b[0m, \u001b[1;36m0.1094\u001b[0m, \u001b[1;36m0.1102\u001b[0m, \u001b[1;36m0.1109\u001b[0m, \u001b[1;36m0.1117\u001b[0m, \u001b[1;36m0.1125\u001b[0m,\n",
       "        \u001b[1;36m0.1133\u001b[0m, \u001b[1;36m0.1140\u001b[0m, \u001b[1;36m0.1148\u001b[0m, \u001b[1;36m0.1156\u001b[0m, \u001b[1;36m0.1164\u001b[0m, \u001b[1;36m0.1172\u001b[0m, \u001b[1;36m0.1181\u001b[0m, \u001b[1;36m0.1189\u001b[0m, \u001b[1;36m0.1197\u001b[0m,\n",
       "        \u001b[1;36m0.1205\u001b[0m, \u001b[1;36m0.1214\u001b[0m, \u001b[1;36m0.1222\u001b[0m, \u001b[1;36m0.1231\u001b[0m, \u001b[1;36m0.1239\u001b[0m, \u001b[1;36m0.1248\u001b[0m, \u001b[1;36m0.1256\u001b[0m, \u001b[1;36m0.1265\u001b[0m, \u001b[1;36m0.1274\u001b[0m,\n",
       "        \u001b[1;36m0.1283\u001b[0m, \u001b[1;36m0.1292\u001b[0m, \u001b[1;36m0.1301\u001b[0m, \u001b[1;36m0.1310\u001b[0m, \u001b[1;36m0.1319\u001b[0m, \u001b[1;36m0.1328\u001b[0m, \u001b[1;36m0.1337\u001b[0m, \u001b[1;36m0.1346\u001b[0m, \u001b[1;36m0.1356\u001b[0m,\n",
       "        \u001b[1;36m0.1365\u001b[0m, \u001b[1;36m0.1374\u001b[0m, \u001b[1;36m0.1384\u001b[0m, \u001b[1;36m0.1394\u001b[0m, \u001b[1;36m0.1403\u001b[0m, \u001b[1;36m0.1413\u001b[0m, \u001b[1;36m0.1423\u001b[0m, \u001b[1;36m0.1433\u001b[0m, \u001b[1;36m0.1443\u001b[0m,\n",
       "        \u001b[1;36m0.1453\u001b[0m, \u001b[1;36m0.1463\u001b[0m, \u001b[1;36m0.1473\u001b[0m, \u001b[1;36m0.1483\u001b[0m, \u001b[1;36m0.1493\u001b[0m, \u001b[1;36m0.1504\u001b[0m, \u001b[1;36m0.1514\u001b[0m, \u001b[1;36m0.1525\u001b[0m, \u001b[1;36m0.1535\u001b[0m,\n",
       "        \u001b[1;36m0.1546\u001b[0m, \u001b[1;36m0.1557\u001b[0m, \u001b[1;36m0.1567\u001b[0m, \u001b[1;36m0.1578\u001b[0m, \u001b[1;36m0.1589\u001b[0m, \u001b[1;36m0.1600\u001b[0m, \u001b[1;36m0.1611\u001b[0m, \u001b[1;36m0.1623\u001b[0m, \u001b[1;36m0.1634\u001b[0m,\n",
       "        \u001b[1;36m0.1645\u001b[0m, \u001b[1;36m0.1657\u001b[0m, \u001b[1;36m0.1668\u001b[0m, \u001b[1;36m0.1680\u001b[0m, \u001b[1;36m0.1691\u001b[0m, \u001b[1;36m0.1703\u001b[0m, \u001b[1;36m0.1715\u001b[0m, \u001b[1;36m0.1727\u001b[0m, \u001b[1;36m0.1739\u001b[0m,\n",
       "        \u001b[1;36m0.1751\u001b[0m, \u001b[1;36m0.1763\u001b[0m, \u001b[1;36m0.1775\u001b[0m, \u001b[1;36m0.1788\u001b[0m, \u001b[1;36m0.1800\u001b[0m, \u001b[1;36m0.1812\u001b[0m, \u001b[1;36m0.1825\u001b[0m, \u001b[1;36m0.1838\u001b[0m, \u001b[1;36m0.1850\u001b[0m,\n",
       "        \u001b[1;36m0.1863\u001b[0m, \u001b[1;36m0.1876\u001b[0m, \u001b[1;36m0.1889\u001b[0m, \u001b[1;36m0.1902\u001b[0m, \u001b[1;36m0.1916\u001b[0m, \u001b[1;36m0.1929\u001b[0m, \u001b[1;36m0.1942\u001b[0m, \u001b[1;36m0.1956\u001b[0m, \u001b[1;36m0.1969\u001b[0m,\n",
       "        \u001b[1;36m0.1983\u001b[0m, \u001b[1;36m0.1997\u001b[0m, \u001b[1;36m0.2010\u001b[0m, \u001b[1;36m0.2024\u001b[0m, \u001b[1;36m0.2038\u001b[0m, \u001b[1;36m0.2053\u001b[0m, \u001b[1;36m0.2067\u001b[0m, \u001b[1;36m0.2081\u001b[0m, \u001b[1;36m0.2096\u001b[0m,\n",
       "        \u001b[1;36m0.2110\u001b[0m, \u001b[1;36m0.2125\u001b[0m, \u001b[1;36m0.2140\u001b[0m, \u001b[1;36m0.2154\u001b[0m, \u001b[1;36m0.2169\u001b[0m, \u001b[1;36m0.2184\u001b[0m, \u001b[1;36m0.2200\u001b[0m, \u001b[1;36m0.2215\u001b[0m, \u001b[1;36m0.2230\u001b[0m,\n",
       "        \u001b[1;36m0.2246\u001b[0m, \u001b[1;36m0.2261\u001b[0m, \u001b[1;36m0.2277\u001b[0m, \u001b[1;36m0.2293\u001b[0m, \u001b[1;36m0.2309\u001b[0m, \u001b[1;36m0.2325\u001b[0m, \u001b[1;36m0.2341\u001b[0m, \u001b[1;36m0.2357\u001b[0m, \u001b[1;36m0.2373\u001b[0m,\n",
       "        \u001b[1;36m0.2390\u001b[0m, \u001b[1;36m0.2406\u001b[0m, \u001b[1;36m0.2423\u001b[0m, \u001b[1;36m0.2440\u001b[0m, \u001b[1;36m0.2457\u001b[0m, \u001b[1;36m0.2474\u001b[0m, \u001b[1;36m0.2491\u001b[0m, \u001b[1;36m0.2508\u001b[0m, \u001b[1;36m0.2526\u001b[0m,\n",
       "        \u001b[1;36m0.2543\u001b[0m, \u001b[1;36m0.2561\u001b[0m, \u001b[1;36m0.2579\u001b[0m, \u001b[1;36m0.2597\u001b[0m, \u001b[1;36m0.2615\u001b[0m, \u001b[1;36m0.2633\u001b[0m, \u001b[1;36m0.2651\u001b[0m, \u001b[1;36m0.2669\u001b[0m, \u001b[1;36m0.2688\u001b[0m,\n",
       "        \u001b[1;36m0.2707\u001b[0m, \u001b[1;36m0.2725\u001b[0m, \u001b[1;36m0.2744\u001b[0m, \u001b[1;36m0.2763\u001b[0m, \u001b[1;36m0.2783\u001b[0m, \u001b[1;36m0.2802\u001b[0m, \u001b[1;36m0.2821\u001b[0m, \u001b[1;36m0.2841\u001b[0m, \u001b[1;36m0.2861\u001b[0m,\n",
       "        \u001b[1;36m0.2880\u001b[0m, \u001b[1;36m0.2900\u001b[0m, \u001b[1;36m0.2921\u001b[0m, \u001b[1;36m0.2941\u001b[0m, \u001b[1;36m0.2961\u001b[0m, \u001b[1;36m0.2982\u001b[0m, \u001b[1;36m0.3002\u001b[0m, \u001b[1;36m0.3023\u001b[0m, \u001b[1;36m0.3044\u001b[0m,\n",
       "        \u001b[1;36m0.3065\u001b[0m, \u001b[1;36m0.3087\u001b[0m, \u001b[1;36m0.3108\u001b[0m, \u001b[1;36m0.3130\u001b[0m, \u001b[1;36m0.3151\u001b[0m, \u001b[1;36m0.3173\u001b[0m, \u001b[1;36m0.3195\u001b[0m, \u001b[1;36m0.3217\u001b[0m, \u001b[1;36m0.3240\u001b[0m,\n",
       "        \u001b[1;36m0.3262\u001b[0m, \u001b[1;36m0.3285\u001b[0m, \u001b[1;36m0.3308\u001b[0m, \u001b[1;36m0.3331\u001b[0m, \u001b[1;36m0.3354\u001b[0m, \u001b[1;36m0.3377\u001b[0m, \u001b[1;36m0.3400\u001b[0m, \u001b[1;36m0.3424\u001b[0m, \u001b[1;36m0.3448\u001b[0m,\n",
       "        \u001b[1;36m0.3472\u001b[0m, \u001b[1;36m0.3496\u001b[0m, \u001b[1;36m0.3520\u001b[0m, \u001b[1;36m0.3544\u001b[0m, \u001b[1;36m0.3569\u001b[0m, \u001b[1;36m0.3594\u001b[0m, \u001b[1;36m0.3619\u001b[0m, \u001b[1;36m0.3644\u001b[0m, \u001b[1;36m0.3669\u001b[0m,\n",
       "        \u001b[1;36m0.3695\u001b[0m, \u001b[1;36m0.3720\u001b[0m, \u001b[1;36m0.3746\u001b[0m, \u001b[1;36m0.3772\u001b[0m, \u001b[1;36m0.3798\u001b[0m, \u001b[1;36m0.3825\u001b[0m, \u001b[1;36m0.3851\u001b[0m, \u001b[1;36m0.3878\u001b[0m, \u001b[1;36m0.3905\u001b[0m,\n",
       "        \u001b[1;36m0.3932\u001b[0m, \u001b[1;36m0.3959\u001b[0m, \u001b[1;36m0.3987\u001b[0m, \u001b[1;36m0.4014\u001b[0m, \u001b[1;36m0.4042\u001b[0m, \u001b[1;36m0.4070\u001b[0m, \u001b[1;36m0.4098\u001b[0m, \u001b[1;36m0.4127\u001b[0m, \u001b[1;36m0.4155\u001b[0m,\n",
       "        \u001b[1;36m0.4184\u001b[0m, \u001b[1;36m0.4213\u001b[0m, \u001b[1;36m0.4243\u001b[0m, \u001b[1;36m0.4272\u001b[0m, \u001b[1;36m0.4302\u001b[0m, \u001b[1;36m0.4331\u001b[0m, \u001b[1;36m0.4362\u001b[0m, \u001b[1;36m0.4392\u001b[0m, \u001b[1;36m0.4422\u001b[0m,\n",
       "        \u001b[1;36m0.4453\u001b[0m, \u001b[1;36m0.4484\u001b[0m, \u001b[1;36m0.4515\u001b[0m, \u001b[1;36m0.4546\u001b[0m, \u001b[1;36m0.4578\u001b[0m, \u001b[1;36m0.4610\u001b[0m, \u001b[1;36m0.4642\u001b[0m, \u001b[1;36m0.4674\u001b[0m, \u001b[1;36m0.4706\u001b[0m,\n",
       "        \u001b[1;36m0.4739\u001b[0m, \u001b[1;36m0.4772\u001b[0m, \u001b[1;36m0.4805\u001b[0m, \u001b[1;36m0.4838\u001b[0m, \u001b[1;36m0.4872\u001b[0m, \u001b[1;36m0.4906\u001b[0m, \u001b[1;36m0.4940\u001b[0m, \u001b[1;36m0.4974\u001b[0m, \u001b[1;36m0.5008\u001b[0m,\n",
       "        \u001b[1;36m0.5043\u001b[0m, \u001b[1;36m0.5078\u001b[0m, \u001b[1;36m0.5113\u001b[0m, \u001b[1;36m0.5149\u001b[0m, \u001b[1;36m0.5185\u001b[0m, \u001b[1;36m0.5221\u001b[0m, \u001b[1;36m0.5257\u001b[0m, \u001b[1;36m0.5293\u001b[0m, \u001b[1;36m0.5330\u001b[0m,\n",
       "        \u001b[1;36m0.5367\u001b[0m, \u001b[1;36m0.5404\u001b[0m, \u001b[1;36m0.5442\u001b[0m, \u001b[1;36m0.5479\u001b[0m, \u001b[1;36m0.5517\u001b[0m, \u001b[1;36m0.5556\u001b[0m, \u001b[1;36m0.5594\u001b[0m, \u001b[1;36m0.5633\u001b[0m, \u001b[1;36m0.5672\u001b[0m,\n",
       "        \u001b[1;36m0.5712\u001b[0m, \u001b[1;36m0.5751\u001b[0m, \u001b[1;36m0.5791\u001b[0m, \u001b[1;36m0.5831\u001b[0m, \u001b[1;36m0.5872\u001b[0m, \u001b[1;36m0.5913\u001b[0m, \u001b[1;36m0.5954\u001b[0m, \u001b[1;36m0.5995\u001b[0m, \u001b[1;36m0.6036\u001b[0m,\n",
       "        \u001b[1;36m0.6078\u001b[0m, \u001b[1;36m0.6120\u001b[0m, \u001b[1;36m0.6163\u001b[0m, \u001b[1;36m0.6206\u001b[0m, \u001b[1;36m0.6249\u001b[0m, \u001b[1;36m0.6292\u001b[0m, \u001b[1;36m0.6336\u001b[0m, \u001b[1;36m0.6380\u001b[0m, \u001b[1;36m0.6424\u001b[0m,\n",
       "        \u001b[1;36m0.6469\u001b[0m, \u001b[1;36m0.6513\u001b[0m, \u001b[1;36m0.6559\u001b[0m, \u001b[1;36m0.6604\u001b[0m, \u001b[1;36m0.6650\u001b[0m, \u001b[1;36m0.6696\u001b[0m, \u001b[1;36m0.6743\u001b[0m, \u001b[1;36m0.6789\u001b[0m, \u001b[1;36m0.6837\u001b[0m,\n",
       "        \u001b[1;36m0.6884\u001b[0m, \u001b[1;36m0.6932\u001b[0m, \u001b[1;36m0.6980\u001b[0m, \u001b[1;36m0.7028\u001b[0m, \u001b[1;36m0.7077\u001b[0m, \u001b[1;36m0.7126\u001b[0m, \u001b[1;36m0.7176\u001b[0m, \u001b[1;36m0.7225\u001b[0m, \u001b[1;36m0.7275\u001b[0m,\n",
       "        \u001b[1;36m0.7326\u001b[0m, \u001b[1;36m0.7377\u001b[0m, \u001b[1;36m0.7428\u001b[0m, \u001b[1;36m0.7480\u001b[0m, \u001b[1;36m0.7531\u001b[0m, \u001b[1;36m0.7584\u001b[0m, \u001b[1;36m0.7636\u001b[0m, \u001b[1;36m0.7689\u001b[0m, \u001b[1;36m0.7743\u001b[0m,\n",
       "        \u001b[1;36m0.7796\u001b[0m, \u001b[1;36m0.7850\u001b[0m, \u001b[1;36m0.7905\u001b[0m, \u001b[1;36m0.7960\u001b[0m, \u001b[1;36m0.8015\u001b[0m, \u001b[1;36m0.8071\u001b[0m, \u001b[1;36m0.8127\u001b[0m, \u001b[1;36m0.8183\u001b[0m, \u001b[1;36m0.8240\u001b[0m,\n",
       "        \u001b[1;36m0.8297\u001b[0m, \u001b[1;36m0.8355\u001b[0m, \u001b[1;36m0.8412\u001b[0m, \u001b[1;36m0.8471\u001b[0m, \u001b[1;36m0.8530\u001b[0m, \u001b[1;36m0.8589\u001b[0m, \u001b[1;36m0.8648\u001b[0m, \u001b[1;36m0.8708\u001b[0m, \u001b[1;36m0.8769\u001b[0m,\n",
       "        \u001b[1;36m0.8830\u001b[0m, \u001b[1;36m0.8891\u001b[0m, \u001b[1;36m0.8953\u001b[0m, \u001b[1;36m0.9015\u001b[0m, \u001b[1;36m0.9077\u001b[0m, \u001b[1;36m0.9140\u001b[0m, \u001b[1;36m0.9204\u001b[0m, \u001b[1;36m0.9268\u001b[0m, \u001b[1;36m0.9332\u001b[0m,\n",
       "        \u001b[1;36m0.9397\u001b[0m, \u001b[1;36m0.9462\u001b[0m, \u001b[1;36m0.9528\u001b[0m, \u001b[1;36m0.9594\u001b[0m, \u001b[1;36m0.9660\u001b[0m, \u001b[1;36m0.9727\u001b[0m, \u001b[1;36m0.9795\u001b[0m, \u001b[1;36m0.9863\u001b[0m, \u001b[1;36m0.9931\u001b[0m,\n",
       "        \u001b[1;36m1.0000\u001b[0m\u001b[1m]\u001b[0m\u001b[1m)\u001b[0m\n"
      ]
     },
     "metadata": {},
     "output_type": "display_data"
    }
   ],
   "source": [
    "lre = torch.linspace(-3, 0, 1000)\n",
    "lrs = 10**lre\n",
    "lrs"
   ]
  },
  {
   "cell_type": "code",
   "execution_count": 372,
   "id": "04e716c1",
   "metadata": {},
   "outputs": [],
   "source": [
    "def track_lr(epochs, X, Y, lre, enable_print=True):\n",
    "    g = torch.Generator().manual_seed(42)\n",
    "    C = torch.randn((27, 2), generator=g)\n",
    "    W1 = torch.randn((6, 100), generator=g)\n",
    "    b1 = torch.randn(100, generator=g)\n",
    "    W2 = torch.randn((100, 27), generator=g)\n",
    "    b2 = torch.randn(27, generator=g)\n",
    "    parameters = [C, W1, b1, W2, b2]\n",
    "    \n",
    "    lrs = 10**lre\n",
    "    \n",
    "    for p in parameters: p.requires_grad = True \n",
    "\n",
    "    lri = []\n",
    "    lres = []\n",
    "    lossi = []\n",
    "    \n",
    "    for i in range(epochs):\n",
    "        # forward pass\n",
    "        ix = torch.randint(0, X.shape[0], (32, )) # taking minibatches of 32 size\n",
    "        \n",
    "        emb = C[X[ix]] # (32, 3, 2)\n",
    "        h = torch.tanh(emb.view(-1, 6) @ W1 + b1) # (32, 100)\n",
    "        logits = h @ W2 + b2 # (32, 27)\n",
    "        loss = F.cross_entropy(logits, Y[ix])\n",
    "        if enable_print: print(loss.item())\n",
    "        \n",
    "        # backward pass\n",
    "        for p in parameters:\n",
    "            p.grad= None\n",
    "        loss.backward()\n",
    "\n",
    "        lr = lrs[i]\n",
    "        \n",
    "        for p in parameters:\n",
    "            p.data += -lr * p.grad  \n",
    "        \n",
    "        # track stats\n",
    "        lri.append(lr)\n",
    "        lres.append(lre[i])\n",
    "        lossi.append(loss.item())\n",
    "        \n",
    "    return lri, lres, lossi"
   ]
  },
  {
   "cell_type": "code",
   "execution_count": 373,
   "id": "84eb6f2b",
   "metadata": {},
   "outputs": [],
   "source": [
    "lri, lres, lossi = track_lr(1000, X, Y, lre, enable_print=False)"
   ]
  },
  {
   "cell_type": "code",
   "execution_count": 374,
   "id": "d4d84b11",
   "metadata": {},
   "outputs": [
    {
     "data": {
      "text/html": [
       "<pre style=\"white-space:pre;overflow-x:auto;line-height:normal;font-family:Menlo,'DejaVu Sans Mono',consolas,'Courier New',monospace\"><span style=\"font-weight: bold\">[&lt;</span><span style=\"color: #ff00ff; text-decoration-color: #ff00ff; font-weight: bold\">matplotlib.lines.Line2D</span><span style=\"color: #000000; text-decoration-color: #000000\"> object at </span><span style=\"color: #008080; text-decoration-color: #008080; font-weight: bold\">0x7fc32a272e90</span><span style=\"font-weight: bold\">&gt;]</span>\n",
       "</pre>\n"
      ],
      "text/plain": [
       "\u001b[1m[\u001b[0m\u001b[1m<\u001b[0m\u001b[1;95mmatplotlib.lines.Line2D\u001b[0m\u001b[39m object at \u001b[0m\u001b[1;36m0x7fc32a272e90\u001b[0m\u001b[1m>\u001b[0m\u001b[1m]\u001b[0m\n"
      ]
     },
     "metadata": {},
     "output_type": "display_data"
    },
    {
     "data": {
      "image/png": "[encoded data removed]"
     },
     "metadata": {},
     "output_type": "display_data"
    }
   ],
   "source": [
    "plot.plot(lri, lossi)"
   ]
  },
  {
   "cell_type": "markdown",
   "id": "5ec0c803",
   "metadata": {},
   "source": [
    "Lets plot the exponent of the learning rate"
   ]
  },
  {
   "cell_type": "code",
   "execution_count": 375,
   "id": "fae43716",
   "metadata": {},
   "outputs": [
    {
     "data": {
      "text/html": [
       "<pre style=\"white-space:pre;overflow-x:auto;line-height:normal;font-family:Menlo,'DejaVu Sans Mono',consolas,'Courier New',monospace\"><span style=\"font-weight: bold\">[&lt;</span><span style=\"color: #ff00ff; text-decoration-color: #ff00ff; font-weight: bold\">matplotlib.lines.Line2D</span><span style=\"color: #000000; text-decoration-color: #000000\"> object at </span><span style=\"color: #008080; text-decoration-color: #008080; font-weight: bold\">0x7fc2d86564d0</span><span style=\"font-weight: bold\">&gt;]</span>\n",
       "</pre>\n"
      ],
      "text/plain": [
       "\u001b[1m[\u001b[0m\u001b[1m<\u001b[0m\u001b[1;95mmatplotlib.lines.Line2D\u001b[0m\u001b[39m object at \u001b[0m\u001b[1;36m0x7fc2d86564d0\u001b[0m\u001b[1m>\u001b[0m\u001b[1m]\u001b[0m\n"
      ]
     },
     "metadata": {},
     "output_type": "display_data"
    },
    {
     "data": {
      "image/png": "[encoded data removed]"
     },
     "metadata": {},
     "output_type": "display_data"
    }
   ],
   "source": [
    "plot.plot(lres, lossi)"
   ]
  },
  {
   "cell_type": "code",
   "execution_count": 376,
   "id": "72462dc0",
   "metadata": {},
   "outputs": [],
   "source": [
    "params, loss = train(10_000, X, Y, 0.1, enable_print=False)"
   ]
  },
  {
   "cell_type": "code",
   "execution_count": 377,
   "id": "7c7e4498",
   "metadata": {},
   "outputs": [
    {
     "data": {
      "text/html": [
       "<pre style=\"white-space:pre;overflow-x:auto;line-height:normal;font-family:Menlo,'DejaVu Sans Mono',consolas,'Courier New',monospace\"><span style=\"color: #008080; text-decoration-color: #008080; font-weight: bold\">2.605109453201294</span>\n",
       "</pre>\n"
      ],
      "text/plain": [
       "\u001b[1;36m2.605109453201294\u001b[0m\n"
      ]
     },
     "metadata": {},
     "output_type": "display_data"
    }
   ],
   "source": [
    "loss"
   ]
  },
  {
   "cell_type": "code",
   "execution_count": 378,
   "id": "d857ff9d",
   "metadata": {},
   "outputs": [
    {
     "data": {
      "text/html": [
       "<pre style=\"white-space:pre;overflow-x:auto;line-height:normal;font-family:Menlo,'DejaVu Sans Mono',consolas,'Courier New',monospace\"><span style=\"color: #800080; text-decoration-color: #800080; font-weight: bold\">tensor</span><span style=\"font-weight: bold\">(</span><span style=\"color: #008080; text-decoration-color: #008080; font-weight: bold\">2.4452</span>, <span style=\"color: #808000; text-decoration-color: #808000\">grad_fn</span>=<span style=\"font-weight: bold\">&lt;</span><span style=\"color: #ff00ff; text-decoration-color: #ff00ff; font-weight: bold\">NllLossBackward0</span><span style=\"font-weight: bold\">&gt;)</span>\n",
       "</pre>\n"
      ],
      "text/plain": [
       "\u001b[1;35mtensor\u001b[0m\u001b[1m(\u001b[0m\u001b[1;36m2.4452\u001b[0m, \u001b[33mgrad_fn\u001b[0m=\u001b[1m<\u001b[0m\u001b[1;95mNllLossBackward0\u001b[0m\u001b[1m>\u001b[0m\u001b[1m)\u001b[0m\n"
      ]
     },
     "metadata": {},
     "output_type": "display_data"
    }
   ],
   "source": [
    "evaluate_loss(params, X, Y)"
   ]
  },
  {
   "cell_type": "markdown",
   "id": "27e820a0",
   "metadata": {},
   "source": [
    "### Learning rate decay"
   ]
  },
  {
   "cell_type": "code",
   "execution_count": 392,
   "id": "62d9bb25",
   "metadata": {},
   "outputs": [],
   "source": [
    "params, loss = train(10_000, X, Y, 0.1, enable_print=False)"
   ]
  },
  {
   "cell_type": "code",
   "execution_count": 393,
   "id": "aeb0d582",
   "metadata": {},
   "outputs": [
    {
     "data": {
      "text/html": [
       "<pre style=\"white-space:pre;overflow-x:auto;line-height:normal;font-family:Menlo,'DejaVu Sans Mono',consolas,'Courier New',monospace\"><span style=\"color: #800080; text-decoration-color: #800080; font-weight: bold\">tensor</span><span style=\"font-weight: bold\">(</span><span style=\"color: #008080; text-decoration-color: #008080; font-weight: bold\">2.4515</span>, <span style=\"color: #808000; text-decoration-color: #808000\">grad_fn</span>=<span style=\"font-weight: bold\">&lt;</span><span style=\"color: #ff00ff; text-decoration-color: #ff00ff; font-weight: bold\">NllLossBackward0</span><span style=\"font-weight: bold\">&gt;)</span>\n",
       "</pre>\n"
      ],
      "text/plain": [
       "\u001b[1;35mtensor\u001b[0m\u001b[1m(\u001b[0m\u001b[1;36m2.4515\u001b[0m, \u001b[33mgrad_fn\u001b[0m=\u001b[1m<\u001b[0m\u001b[1;95mNllLossBackward0\u001b[0m\u001b[1m>\u001b[0m\u001b[1m)\u001b[0m\n"
      ]
     },
     "metadata": {},
     "output_type": "display_data"
    }
   ],
   "source": [
    "evaluate_loss(params, X, Y)"
   ]
  },
  {
   "cell_type": "code",
   "execution_count": 394,
   "id": "8bc4065b",
   "metadata": {},
   "outputs": [],
   "source": [
    "params, loss = train(10_000, X, Y, 0.01, params, enable_print=False)"
   ]
  },
  {
   "cell_type": "code",
   "execution_count": 395,
   "id": "4cacc29a",
   "metadata": {},
   "outputs": [
    {
     "data": {
      "text/html": [
       "<pre style=\"white-space:pre;overflow-x:auto;line-height:normal;font-family:Menlo,'DejaVu Sans Mono',consolas,'Courier New',monospace\"><span style=\"color: #800080; text-decoration-color: #800080; font-weight: bold\">tensor</span><span style=\"font-weight: bold\">(</span><span style=\"color: #008080; text-decoration-color: #008080; font-weight: bold\">2.3732</span>, <span style=\"color: #808000; text-decoration-color: #808000\">grad_fn</span>=<span style=\"font-weight: bold\">&lt;</span><span style=\"color: #ff00ff; text-decoration-color: #ff00ff; font-weight: bold\">NllLossBackward0</span><span style=\"font-weight: bold\">&gt;)</span>\n",
       "</pre>\n"
      ],
      "text/plain": [
       "\u001b[1;35mtensor\u001b[0m\u001b[1m(\u001b[0m\u001b[1;36m2.3732\u001b[0m, \u001b[33mgrad_fn\u001b[0m=\u001b[1m<\u001b[0m\u001b[1;95mNllLossBackward0\u001b[0m\u001b[1m>\u001b[0m\u001b[1m)\u001b[0m\n"
      ]
     },
     "metadata": {},
     "output_type": "display_data"
    }
   ],
   "source": [
    "evaluate_loss(params, X, Y)"
   ]
  },
  {
   "cell_type": "code",
   "execution_count": 396,
   "id": "40ab5932",
   "metadata": {},
   "outputs": [],
   "source": [
    "params, loss = train(10_000, X, Y, 0.001, params, enable_print=False)"
   ]
  },
  {
   "cell_type": "code",
   "execution_count": 397,
   "id": "0247da93",
   "metadata": {},
   "outputs": [
    {
     "data": {
      "text/html": [
       "<pre style=\"white-space:pre;overflow-x:auto;line-height:normal;font-family:Menlo,'DejaVu Sans Mono',consolas,'Courier New',monospace\"><span style=\"color: #800080; text-decoration-color: #800080; font-weight: bold\">tensor</span><span style=\"font-weight: bold\">(</span><span style=\"color: #008080; text-decoration-color: #008080; font-weight: bold\">2.3662</span>, <span style=\"color: #808000; text-decoration-color: #808000\">grad_fn</span>=<span style=\"font-weight: bold\">&lt;</span><span style=\"color: #ff00ff; text-decoration-color: #ff00ff; font-weight: bold\">NllLossBackward0</span><span style=\"font-weight: bold\">&gt;)</span>\n",
       "</pre>\n"
      ],
      "text/plain": [
       "\u001b[1;35mtensor\u001b[0m\u001b[1m(\u001b[0m\u001b[1;36m2.3662\u001b[0m, \u001b[33mgrad_fn\u001b[0m=\u001b[1m<\u001b[0m\u001b[1;95mNllLossBackward0\u001b[0m\u001b[1m>\u001b[0m\u001b[1m)\u001b[0m\n"
      ]
     },
     "metadata": {},
     "output_type": "display_data"
    }
   ],
   "source": [
    "evaluate_loss(params, X, Y)"
   ]
  },
  {
   "cell_type": "code",
   "execution_count": null,
   "id": "6c74988e",
   "metadata": {},
   "outputs": [],
   "source": []
  }
 ],
 "metadata": {
  "kernelspec": {
   "display_name": "Python (zhnn)",
   "language": "python",
   "name": "zhnn"
  },
  "language_info": {
   "codemirror_mode": {
    "name": "ipython",
    "version": 3
   },
   "file_extension": ".py",
   "mimetype": "text/x-python",
   "name": "python",
   "nbconvert_exporter": "python",
   "pygments_lexer": "ipython3",
   "version": "3.7.12"
  }
 },
 "nbformat": 4,
 "nbformat_minor": 5
}
