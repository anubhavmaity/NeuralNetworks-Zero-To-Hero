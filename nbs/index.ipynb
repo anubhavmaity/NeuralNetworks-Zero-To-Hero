{
 "cells": [
  {
   "cell_type": "markdown",
   "metadata": {},
   "source": [
    "# NeuralNetworks-Zero-To-Hero"
   ]
  },
  {
   "cell_type": "markdown",
   "metadata": {},
   "source": [
    "Neural Networks: Zero to Hero is a course on deep learning fundamentals by the renowned AI researcher and educator Andrej Karpathy. This repository contains my personal lecture notes and exercise solutions for the course, which covers a wide range of topics such as neural networks, backpropagation, wavenet, GPT & more.\n",
    "\n",
    "You can find the lecture notes and exercise here: https://anubhavmaity.github.io/NeuralNetworks-Zero-To-Hero/\n",
    "\n",
    "If you want to play with lecture notes and exercise in Google Colab then head over to the [Contents Section](#Contents).\n",
    "\n",
    "The youtube lectures of the course can be found here: https://karpathy.ai/zero-to-hero.html"
   ]
  },
  {
   "cell_type": "markdown",
   "metadata": {},
   "source": [
    "Table of Contents\n",
    "\n",
    " - [Course Overview](#Course-Overview)\n",
    " - [Contents](#Contents)\n",
    " - [Prerequisites](#Prerequisites)\n",
    " - [Usage](#Usage)\n",
    " - [Contributing](#Contributing)\n",
    " - [License](#License)"
   ]
  },
  {
   "cell_type": "markdown",
   "metadata": {},
   "source": [
    "## Course Overview"
   ]
  },
  {
   "cell_type": "markdown",
   "metadata": {},
   "source": [
    "The \"Neural Networks: Zero to Hero\" course covers a range of deep learning topics, including:\n",
    "\n",
    "    - Neural Networks and Backward propogation\n",
    "    - Language Modeling\n",
    "    - MultiLayer Perceptron\n",
    "    - Activations & Gradients\n",
    "    - Batch normalizations\n",
    "    - Wavenet\n",
    "    - GPT\n",
    "    - And more!"
   ]
  },
  {
   "cell_type": "markdown",
   "metadata": {},
   "source": [
    "## Contents"
   ]
  },
  {
   "cell_type": "markdown",
   "metadata": {},
   "source": [
    "This repository contains my personal notes and exercise solutions for each lecture in the course. The lecture notes provide a detailed summary of each lecture, including key concepts, equations, diagrams, and examples. The exercise solutions include code and written explanations, helping you to deepen your understanding of the material and apply it in practice."
   ]
  },
  {
   "cell_type": "markdown",
   "metadata": {},
   "source": [
    "### Lecture 1: The spelled-out intro to neural networks and backpropagation: building micrograd"
   ]
  },
  {
   "cell_type": "markdown",
   "metadata": {},
   "source": [
    "| Style | Colab | Github |\n",
    "|----------|----------|----------|\n",
    "| [Lecture Note](https://anubhavmaity.github.io/NeuralNetworks-Zero-To-Hero/lecture_notes/building_micrograd.html) | [![Open In Colab](https://img.shields.io/badge/Open%20in%20Colab-blue?logo=google-colab&style=flat-square)](https://colab.research.google.com/github/anubhavmaity/NeuralNetworks-Zero-To-Hero/blob/main/nbs/lecture_notes/01_building_micrograd.ipynb) | [![Open In GitHub](https://img.shields.io/badge/Open%20in%20GitHub-gray?logo=github&style=flat-square)](https://github.com/anubhavmaity/NeuralNetworks-Zero-To-Hero/blob/main/nbs/lecture_notes/01_building_micrograd.ipynb)\n",
    " |\n",
    "| [Exercise](https://anubhavmaity.github.io/NeuralNetworks-Zero-To-Hero/exercises/micrograd_from_scratch_exercise.html) | [![Open In Colab](https://img.shields.io/badge/Open%20in%20Colab-blue?logo=google-colab&style=flat-square)](https://colab.research.google.com/github/anubhavmaity/NeuralNetworks-Zero-To-Hero/blob/main/nbs/exercises/01_micrograd_from_scratch_exercise.ipynb) | [![Open In GitHub](https://img.shields.io/badge/Open%20in%20GitHub-gray?logo=github&style=flat-square)](https://github.com/anubhavmaity/NeuralNetworks-Zero-To-Hero/blob/main/nbs/exercises/01_micrograd_from_scratch_exercise.ipynb) |"
   ]
  },
  {
   "cell_type": "markdown",
   "metadata": {},
   "source": [
    "### Lecture 2: The spelled-out intro to language modeling: building makemore"
   ]
  },
  {
   "cell_type": "markdown",
   "metadata": {},
   "source": [
    "| Style | Colab | Github |\n",
    "|----------|----------|----------|\n",
    "| [Lecture Note](https://anubhavmaity.github.io/NeuralNetworks-Zero-To-Hero/lecture_notes/building_makemore.html) | [![Open In Colab](https://img.shields.io/badge/Open%20in%20Colab-blue?logo=google-colab&style=flat-square)](https://colab.research.google.com/github/anubhavmaity/NeuralNetworks-Zero-To-Hero/blob/main/nbs/lecture_notes/02_building_makemore.ipynb) | [![Open In GitHub](https://img.shields.io/badge/Open%20in%20GitHub-gray?logo=github&style=flat-square)](https://github.com/anubhavmaity/NeuralNetworks-Zero-To-Hero/blob/main/nbs/lecture_notes/02_building_makemore.ipynb)\n",
    " |\n",
    "| [Exercise](https://anubhavmaity.github.io/NeuralNetworks-Zero-To-Hero/exercises/building_makemore_execise.html) | [![Open In Colab](https://img.shields.io/badge/Open%20in%20Colab-blue?logo=google-colab&style=flat-square)](https://colab.research.google.com/github/anubhavmaity/NeuralNetworks-Zero-To-Hero/blob/main/nbs/lecture_notes/02_building_makemore.ipynb) | [![Open In GitHub](https://img.shields.io/badge/Open%20in%20GitHub-gray?logo=github&style=flat-square)](https://github.com/anubhavmaity/NeuralNetworks-Zero-To-Hero/blob/main/nbs/exercises/02_building_makemore_execise.ipynb) |"
   ]
  },
  {
   "cell_type": "markdown",
   "metadata": {},
   "source": [
    "### Lecture 3: Building makemore Part 2: MLP"
   ]
  },
  {
   "cell_type": "markdown",
   "metadata": {},
   "source": [
    "| Style | Colab | Github |\n",
    "|----------|----------|----------|\n",
    "| [Lecture Note](https://anubhavmaity.github.io/NeuralNetworks-Zero-To-Hero/lecture_notes/building_makemore_mlp.html) | [![Open In Colab](https://img.shields.io/badge/Open%20in%20Colab-blue?logo=google-colab&style=flat-square)](https://colab.research.google.com/github/anubhavmaity/NeuralNetworks-Zero-To-Hero/blob/main/nbs/lecture_notes/03_building_makemore_MLP.ipynb) | [![Open In GitHub](https://img.shields.io/badge/Open%20in%20GitHub-gray?logo=github&style=flat-square)](https://github.com/anubhavmaity/NeuralNetworks-Zero-To-Hero/blob/main/nbs/lecture_notes/03_building_makemore_MLP.ipynb)\n",
    " |\n",
    "| [Exercise](https://anubhavmaity.github.io/NeuralNetworks-Zero-To-Hero/exercises/building_makemore_mlp_exercise.html) | [![Open In Colab](https://img.shields.io/badge/Open%20in%20Colab-blue?logo=google-colab&style=flat-square)](https://colab.research.google.com/github/anubhavmaity/NeuralNetworks-Zero-To-Hero/blob/main/nbs/exercises/03_building_makemore_mlp_exercise.ipynb) | [![Open In GitHub](https://img.shields.io/badge/Open%20in%20GitHub-gray?logo=github&style=flat-square)](https://github.com/anubhavmaity/NeuralNetworks-Zero-To-Hero/blob/main/nbs/exercises/03_building_makemore_mlp_exercise.ipynb) |"
   ]
  },
  {
   "cell_type": "markdown",
   "metadata": {},
   "source": [
    "### Lecture 4: Building makemore Part 3: Activations & Gradients, BatchNorm"
   ]
  },
  {
   "cell_type": "markdown",
   "metadata": {},
   "source": [
    "| Style | Colab | Github |\n",
    "|----------|----------|----------|\n",
    "| [Lecture Note](https://anubhavmaity.github.io/NeuralNetworks-Zero-To-Hero/lecture_notes/building_makemore_mlp2.html) | [![Open In Colab](https://img.shields.io/badge/Open%20in%20Colab-blue?logo=google-colab&style=flat-square)](https://colab.research.google.com/github/anubhavmaity/NeuralNetworks-Zero-To-Hero/blob/main/nbs/lecture_notes/04_building_makemore_mlp2.ipynb) | [![Open In GitHub](https://img.shields.io/badge/Open%20in%20GitHub-gray?logo=github&style=flat-square)](https://github.com/anubhavmaity/NeuralNetworks-Zero-To-Hero/blob/main/nbs/lecture_notes/04_building_makemore_mlp2.ipynb)\n",
    " |\n",
    "| [Exercise](https://anubhavmaity.github.io/NeuralNetworks-Zero-To-Hero/exercises/building_makemore_mlp2.html) | [![Open In Colab](https://img.shields.io/badge/Open%20in%20Colab-blue?logo=google-colab&style=flat-square)](https://colab.research.google.com/github/anubhavmaity/NeuralNetworks-Zero-To-Hero/blob/main/nbs/exercises/04_building_makemore_mlp2.ipynb) | [![Open In GitHub](https://img.shields.io/badge/Open%20in%20GitHub-gray?logo=github&style=flat-square)](https://github.com/anubhavmaity/NeuralNetworks-Zero-To-Hero/blob/main/nbs/exercises/04_building_makemore_mlp2.ipynb) |"
   ]
  },
  {
   "cell_type": "markdown",
   "metadata": {},
   "source": [
    "### Lecture 5: Building makemore Part 4: Becoming a Backprop Ninja"
   ]
  },
  {
   "cell_type": "markdown",
   "metadata": {},
   "source": [
    "| Style | Colab | Github |\n",
    "|----------|----------|----------|\n",
    "| [Lecture Note & Exercise](https://anubhavmaity.github.io/NeuralNetworks-Zero-To-Hero/lecture_notes/becoming_backprop_ninja.html) | [![Open In Colab](https://img.shields.io/badge/Open%20in%20Colab-blue?logo=google-colab&style=flat-square)](https://colab.research.google.com/github/anubhavmaity/NeuralNetworks-Zero-To-Hero/blob/main/nbs/lecture_notes/05_becoming_backprop_ninja.ipynb) | [![Open In GitHub](https://img.shields.io/badge/Open%20in%20GitHub-gray?logo=github&style=flat-square)](https://github.com/anubhavmaity/NeuralNetworks-Zero-To-Hero/blob/main/nbs/lecture_notes/05_becoming_backprop_ninja.ipynb)\n",
    " |"
   ]
  },
  {
   "cell_type": "markdown",
   "metadata": {},
   "source": [
    "### Lecture 6: Building makemore Part 5: Building a WaveNet"
   ]
  },
  {
   "cell_type": "markdown",
   "metadata": {},
   "source": [
    "| Style | Colab | Github |\n",
    "|----------|----------|----------|\n",
    "| [Lecture Note](https://anubhavmaity.github.io/NeuralNetworks-Zero-To-Hero/lecture_notes/building_a_wavenet.html) | [![Open In Colab](https://img.shields.io/badge/Open%20in%20Colab-blue?logo=google-colab&style=flat-square)](https://colab.research.google.com/github/anubhavmaity/NeuralNetworks-Zero-To-Hero/blob/main/nbs/lecture_notes/06_building_a_wavenet.ipynb) | [![Open In GitHub](https://img.shields.io/badge/Open%20in%20GitHub-gray?logo=github&style=flat-square)](https://github.com/anubhavmaity/NeuralNetworks-Zero-To-Hero/blob/main/nbs/lecture_notes/06_building_a_wavenet.ipynb)\n",
    " |\n",
    "| [Exercise](https://anubhavmaity.github.io/NeuralNetworks-Zero-To-Hero/exercises/wavenet_exercise.html) | [![Open In Colab](https://img.shields.io/badge/Open%20in%20Colab-blue?logo=google-colab&style=flat-square)](https://colab.research.google.com/github/anubhavmaity/NeuralNetworks-Zero-To-Hero/blob/main/nbs/exercises/05_wavenet_exercise.ipynb) | [![Open In GitHub](https://img.shields.io/badge/Open%20in%20GitHub-gray?logo=github&style=flat-square)](https://github.com/anubhavmaity/NeuralNetworks-Zero-To-Hero/blob/main/nbs/exercises/05_wavenet_exercise.ipynb) |"
   ]
  },
  {
   "cell_type": "markdown",
   "metadata": {},
   "source": [
    "## Usage\n",
    "\n",
    "You can use this repository to review and reference the lecture notes, as well as to deepen your understanding of the concepts through the exercise solutions. You can also modify and build upon the code to suit your own needs. \n",
    "\n",
    "If you use this repository in your project, please attribute it to me (Anubhav Maity) and include a link to the original repository:\n",
    "\n",
    "- Repository: https://github.com/anubhavmaity/NeuralNetworks-Zero-To-Hero/\n",
    "- Author: Anubhav Maity"
   ]
  },
  {
   "cell_type": "markdown",
   "metadata": {},
   "source": [
    "## Contributing\n",
    "\n",
    "Contributions to this repository are welcome! If you notice any errors or have suggestions for improving the content, feel free to submit a pull request or open an issue.\n",
    "\n",
    "The docs are generated from Jupyter Notebooks using [nbdev](https://nbdev.fast.ai/). To make any changes in the doc, you can make the changes in the Jupyter Notebook and the Github Action will generate the docs from the notebook for you. "
   ]
  },
  {
   "cell_type": "markdown",
   "metadata": {},
   "source": [
    "## LICENSE\n",
    "\n",
    "This repository is licensed under the Apache License 2.0. See the LICENSE file in the repo for details."
   ]
  },
  {
   "cell_type": "code",
   "execution_count": null,
   "metadata": {},
   "outputs": [],
   "source": []
  }
 ],
 "metadata": {
  "kernelspec": {
   "display_name": "zhnn",
   "language": "python",
   "name": "zhnn"
  }
 },
 "nbformat": 4,
 "nbformat_minor": 4
}
